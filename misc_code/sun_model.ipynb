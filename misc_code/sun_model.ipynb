{
 "cells": [
  {
   "cell_type": "code",
   "execution_count": 1,
   "metadata": {},
   "outputs": [
    {
     "name": "stderr",
     "output_type": "stream",
     "text": [
      "C:\\MasterSoftware\\anaconda\\envs\\tensorflow\\lib\\site-packages\\h5py\\__init__.py:36: FutureWarning: Conversion of the second argument of issubdtype from `float` to `np.floating` is deprecated. In future, it will be treated as `np.float64 == np.dtype(float).type`.\n",
      "  from ._conv import register_converters as _register_converters\n",
      "Using TensorFlow backend.\n"
     ]
    }
   ],
   "source": [
    "import tensorflow as tf\n",
    "import numpy as np\n",
    "import matplotlib.pyplot as plt\n",
    "import tensorflow as tf\n",
    "\n",
    "plt.rcParams['figure.figsize'] = (7,7) # Make the figures a bit bigger\n",
    "\n",
    "from keras.datasets import mnist\n",
    "from keras.models import Sequential,load_model\n",
    "\n",
    "from keras.layers.core import Dense, Dropout, Activation,Lambda,Flatten\n",
    "from keras.layers import Conv2D,MaxPooling2D\n",
    "from keras import backend as K\n",
    "from keras.callbacks import TensorBoard\n",
    "\n",
    "from keras.utils import np_utils\n"
   ]
  },
  {
   "cell_type": "code",
   "execution_count": 8,
   "metadata": {},
   "outputs": [
    {
     "name": "stdout",
     "output_type": "stream",
     "text": [
      "X_train original shape (60000, 28, 28)\n",
      "y_train original shape (60000,)\n",
      "X_test original shape (10000, 28, 28)\n",
      "y_test original shape (10000,)\n",
      "Training matrix shape (60000, 28, 28, 1)\n",
      "Testing matrix shape (10000, 28, 28, 1)\n",
      "<class 'numpy.ndarray'>\n"
     ]
    }
   ],
   "source": [
    "nb_classes = 10\n",
    "# the data, shuffled and split between tran and test sets\n",
    "(X_train, y_train), (X_test, y_test) = mnist.load_data()\n",
    "\n",
    "print(\"X_train original shape\", X_train.shape)\n",
    "print(\"y_train original shape\", y_train.shape)\n",
    "print(\"X_test original shape\", X_test.shape)\n",
    "print(\"y_test original shape\", y_test.shape)\n",
    "\n",
    "np.save('C:/Master/Thesis/code/testdata',X_test,y_test)\n",
    "\n",
    "X_train = X_train.reshape(X_train.shape[0], 28, 28,1)  \n",
    "X_test = X_test.reshape(X_test.shape[0],28, 28,1)  \n",
    "\n",
    "X_train = X_train.astype('float32')\n",
    "X_test = X_test.astype('float32')\n",
    "\n",
    "\n",
    "X_train /= 255\n",
    "X_test /= 255    # why do I need this two line, when i delete it, accuracy becomes 0.29\n",
    "\n",
    "print(\"Training matrix shape\", X_train.shape)\n",
    "print(\"Testing matrix shape\", X_test.shape)\n",
    "print(type(X_test))\n",
    "\n",
    "\n",
    "Y_train = np_utils.to_categorical(y_train, nb_classes) # convert a class vector y_train to a binary matrix with size nb_class\n",
    "Y_test = np_utils.to_categorical(y_test, nb_classes) #e.g. convert y=3 to [0,0,1,0,0,0...]\n"
   ]
  },
  {
   "cell_type": "code",
   "execution_count": 2,
   "metadata": {},
   "outputs": [],
   "source": [
    "sess = tf.InteractiveSession()\n"
   ]
  },
  {
   "cell_type": "code",
   "execution_count": 13,
   "metadata": {
    "scrolled": true
   },
   "outputs": [],
   "source": [
    "\n",
    "#sess = tf.InteractiveSession()\n",
    "#pdb.set_trace()\n",
    "x=tf.placeholder(tf.float32, (1,1,1,32))\n",
    "x_2dim =K.reshape(x,[-1,K.shape(x)[3]])\n",
    "k =3\n",
    "values, indices = tf.nn.top_k(x_2dim, k, sorted=False)\n",
    "my_range = K.expand_dims(K.arange(0, K.shape(x_2dim)[0]), 1)  # will be [[0], [1]],,indices.get_shape()[0]\n",
    "my_range_repeated = K.tile(my_range, [1, k])  # will be [[0, 0], [1, 1]]\n",
    "a1 = K.expand_dims(my_range_repeated, 2)\n",
    "a2 = K.expand_dims(indices, 2)\n",
    "full_indices = tf.concat(axis=2, values=[a1, a2])\n",
    "full_indices2 = K.reshape(full_indices, [-1, 2])#-1 means I don't know the value here, the program calculate it\n",
    "c = K.cast(K.shape(x_2dim),dtype = 'int32')\n",
    "z = K.reshape(c,[-1])\n",
    "pp= tf.reshape(values, [-1])\n",
    "\n",
    "output = tf.scatter_nd(full_indices2, pp, z)\n",
    "#output = tf.sparse_to_dense(full_indices2, z, pp , default_value=0, validate_indices = False)\n",
    "# sparse_tensor = tf.SparseTensor(full_indices2, pp, z)\n",
    "# output = tf.sparse_add(tf.zeros(z), sparse_tensor)\n",
    "final_0 = K.expand_dims(output,1)\n",
    "final_1 = K.expand_dims(final_0,1)\n",
    "final = K.cast(final_1,dtype = 'float32')    \n"
   ]
  },
  {
   "cell_type": "code",
   "execution_count": 15,
   "metadata": {},
   "outputs": [
    {
     "name": "stdout",
     "output_type": "stream",
     "text": [
      "[[[[ 0.19524364  1.06517884 -0.29040163  0.66727467  0.3545482\n",
      "     0.56784926  2.32782646 -0.27062221  1.09262009  0.63597782\n",
      "    10.          0.72470761  0.37102081  1.10599569  0.45035431\n",
      "    -0.85874841  0.36217118 -0.90888626 -0.96927774  0.92603825\n",
      "     0.20556381  0.67898866  1.77274911  0.18761335 -0.44831088\n",
      "     0.78853091  0.58251262 -0.30420721  0.40493667  0.66810422\n",
      "     0.38778011 -1.08062276]]]]\n",
      "[[ 0.         0.         0.         0.         0.         0.\n",
      "   2.3278265  0.         0.         0.        10.         0.\n",
      "   0.         0.         0.         0.         0.         0.\n",
      "   0.         0.         0.         0.         1.7727491  0.\n",
      "   0.         0.         0.         0.         0.         0.\n",
      "   0.         0.       ]]\n",
      "[[[[0. 0. 0. 0. 0. 0. 1. 0. 0. 0. 1. 0. 0. 0. 0. 0. 0. 0. 0. 0. 0. 0.\n",
      "    1. 0. 0. 0. 0. 0. 0. 0. 0. 0.]]]]\n"
     ]
    }
   ],
   "source": [
    "i=np.random.randn(1,1,1,32)\n",
    "#i=np.zeros((1,1,1,32))\n",
    "i[0,0,0,10]=10\n",
    "print(i)\n",
    "print(output.eval({x:i}))\n",
    "if tf.gradients(output,x)[0] is None:\n",
    "    print(\"is None\")\n",
    "\n",
    "print(tf.gradients(output,x)[0].eval({x:i}))\n",
    "\n",
    "# print(sess.eval([x_2dim],feed_dict={x:i}))"
   ]
  },
  {
   "cell_type": "code",
   "execution_count": 13,
   "metadata": {},
   "outputs": [
    {
     "name": "stdout",
     "output_type": "stream",
     "text": [
      "after fit\n"
     ]
    }
   ],
   "source": [
    "print('after fit')\n",
    "model.save('C:/Master/Thesis/code/my_model.h5')\n",
    "output = model.predict(X_test[0].reshape(1,28,28,1), batch_size=1, verbose=0)"
   ]
  },
  {
   "cell_type": "code",
   "execution_count": null,
   "metadata": {},
   "outputs": [],
   "source": []
  }
 ],
 "metadata": {
  "anaconda-cloud": {},
  "kernelspec": {
   "display_name": "Python [TF_gpu]",
   "language": "python",
   "name": "Python [TF_gpu]"
  },
  "language_info": {
   "codemirror_mode": {
    "name": "ipython",
    "version": 3
   },
   "file_extension": ".py",
   "mimetype": "text/x-python",
   "name": "python",
   "nbconvert_exporter": "python",
   "pygments_lexer": "ipython3",
   "version": "3.5.4"
  }
 },
 "nbformat": 4,
 "nbformat_minor": 2
}
