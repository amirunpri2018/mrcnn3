{
 "cells": [
  {
   "cell_type": "markdown",
   "metadata": {
    "hideCode": false,
    "hidePrompt": false
   },
   "source": [
    "###  Simulate `build_prediction` function - Version 2\n",
    "\n",
    "Here we mimic the process used in the Inference Detection Layer:\n",
    "- pick the class with highest probability from mrcnn_class, and it's corresponding bounding box delta\n",
    "- apply the deltas to the rpn_roi (output_roi)\n",
    "- convert to image pixel coordinates\n",
    "-?? Should we apply intra-class NMS??"
   ]
  },
  {
   "cell_type": "code",
   "execution_count": null,
   "metadata": {
    "ExecuteTime": {
     "end_time": "2018-06-20T15:53:24.404366Z",
     "start_time": "2018-06-20T15:53:09.432420Z"
    },
    "hideCode": false,
    "hidePrompt": false,
    "scrolled": false
   },
   "outputs": [],
   "source": [
    "from IPython.core.display import display, HTML\n",
    "display(HTML(\"<style>.container { width:95% !important; }</style>\"))\n",
    "%matplotlib inline\n",
    "%load_ext autoreload\n",
    "%autoreload 2\n",
    "import sys\n",
    "sys.path.append('../')\n",
    "import tensorflow as tf\n",
    "import keras.backend as KB\n",
    "import numpy as np\n",
    "from mrcnn.datagen     import data_generator, load_image_gt\n",
    "from mrcnn.callbacks   import get_layer_output_1,get_layer_output_2\n",
    "from mrcnn.utils       import mask_string\n",
    "import mrcnn.visualize as visualize\n",
    "from mrcnn.prep_notebook import prep_newshapes_test\n",
    "import matplotlib.pyplot as plt\n",
    "# model_file  = 'E:\\\\Models\\\\mrcnn_logs\\\\shapes20180509T1928\\\\mask_rcnn_shapes_2192.h5'\n",
    "# model_file  = 'E:\\\\Models\\\\mrcnn_logs\\\\TESTshapes20180511T1742\\mask_rcnn_shapes_0023.h5'\n",
    "# model_file  = 'E:\\\\Models\\\\mrcnn_development_logs\\\\shapes20180513T1946\\\\mask_rcnn_shapes_4044.h5'\n",
    "# model_file  = 'E:\\\\Models\\\\mrcnn_oldshape_test_logs\\\\mask_rcnn_shapes_3877.h5'\n",
    "\n",
    "\n",
    "import pprint\n",
    "pp = pprint.PrettyPrinter(indent=2, width=100)\n",
    "\n",
    "# model_file  = 'E:\\\\Models\\\\newshape_fcn\\\\mask_rcnn_shapes_0991.h5'\n",
    "model_file  = 'E:\\\\Models\\\\newshape_fcn\\\\\\mask_rcnn_shapes_0589.h5'\n",
    "folder_name = 'newshape_fcn'\n",
    "model, dataset_test, test_generator, inference_config = prep_newshapes_test(init_with = model_file, FCN_layers = True, batch_sz = 1, folder_name = folder_name)\n",
    " "
   ]
  },
  {
   "cell_type": "code",
   "execution_count": null,
   "metadata": {
    "ExecuteTime": {
     "end_time": "2018-06-20T15:53:28.925347Z",
     "start_time": "2018-06-20T15:53:28.684931Z"
    },
    "hideCode": false,
    "hidePrompt": false
   },
   "outputs": [],
   "source": [
    "test_batch_x, test_batch_y = next(test_generator)"
   ]
  },
  {
   "cell_type": "code",
   "execution_count": null,
   "metadata": {
    "ExecuteTime": {
     "end_time": "2018-06-20T15:53:31.217165Z",
     "start_time": "2018-06-20T15:53:30.700514Z"
    },
    "hideCode": false,
    "hidePrompt": false
   },
   "outputs": [],
   "source": [
    "# test_batch_x, test_batch_y = next(test_generator)\n",
    "imgmeta_idx = model.keras_model.input_names.index('input_image_meta')\n",
    "img_meta    = test_batch_x[imgmeta_idx]\n",
    "\n",
    "for img_idx in range(inference_config.BATCH_SIZE):\n",
    "    image_id = img_meta[img_idx,0]\n",
    "    print('Image id: ',image_id)\n",
    "    print('Image meta', img_meta[img_idx])\n",
    "\n",
    "\n",
    "    image = dataset_test.load_image(image_id)\n",
    "    mask, class_ids = dataset_test.load_mask(image_id)\n",
    "    print('Classes (1: circle, 2: square, 3: triangle ): ',class_ids)\n",
    "    visualize.display_top_masks(image, mask, class_ids, dataset_test.class_names)"
   ]
  },
  {
   "cell_type": "code",
   "execution_count": null,
   "metadata": {
    "ExecuteTime": {
     "end_time": "2018-06-20T15:11:17.484528Z",
     "start_time": "2018-06-20T15:11:17.250157Z"
    },
    "hideCode": false,
    "hideOutput": true,
    "hidePrompt": false
   },
   "outputs": [],
   "source": [
    "model.layer_info()\n",
    "# model.keras_model.outputs[0].name"
   ]
  },
  {
   "cell_type": "code",
   "execution_count": null,
   "metadata": {
    "ExecuteTime": {
     "end_time": "2018-06-20T15:50:33.233373Z",
     "start_time": "2018-06-20T15:50:30.670389Z"
    },
    "hideCode": false,
    "hidePrompt": false,
    "scrolled": false
   },
   "outputs": [],
   "source": [
    "\n",
    "# model_output = get_layer_output_2(model.keras_model, train_batch_x, 1)\n",
    "model_output = get_layer_output_1(model.keras_model, test_batch_x, [0,1,2,3,4,5,6,7,8,9], 1)\n"
   ]
  },
  {
   "cell_type": "markdown",
   "metadata": {},
   "source": [
    "#### Load input and output tensors"
   ]
  },
  {
   "cell_type": "code",
   "execution_count": null,
   "metadata": {
    "ExecuteTime": {
     "end_time": "2018-06-20T15:50:44.366608Z",
     "start_time": "2018-06-20T15:50:44.111273Z"
    },
    "hideCode": false,
    "hideOutput": true,
    "hidePrompt": false,
    "scrolled": true
   },
   "outputs": [],
   "source": [
    "input_image      =  test_batch_x[0]\n",
    "input_image_meta =  test_batch_x[1]\n",
    "\n",
    "print(' Input image shape is :', input_image.shape)\n",
    "h, w = input_image.shape[1], input_image.shape[2]      #  tf.shape(input_image)[1], tf.shape(input_image)[2]\n",
    "\n",
    "# gt_masks   =  test_batch_x[6]\n",
    "print(input_image_meta)\n",
    "\n",
    "print(len(model_output))\n",
    "\n",
    "detections                = model_output[0]          # layer:  0   shape: (1, 100, 6)\n",
    "rpn_roi_proposals         = model_output[1]          # layer:  1   shape: (1, 1000, 4)\n",
    "rpn_class                 = model_output[2]          # layer:  2   shape: (1, 4092, 2)\n",
    "rpn_bbox                  = model_output[3]          # layer:  3   shape: (1, 4092, 4)\n",
    "mrcnn_class               = model_output[4]          # layer:  4   shape: (1, 1000, 7)\n",
    "mrcnn_bbox                = model_output[5]          # layer:  5   shape: (1, 1000, 7, 4)\n",
    "pred_heatmap_norm         = model_output[6]          # layer:  6   shape: (1, 128, 128, 7)\n",
    "pred_heatmap_scores       = model_output[7]          # layer:  7   shape: (1, 7, 100, 11)\n",
    "pred_tensor               = model_output[8]          # layer:  8   shape: (1, 7, 100, 6)\n",
    "pred_heatmap              = model_output[9]          # layer:  9   shape: (1, 128, 128, 7)\n",
    "# print(type(model_output[4]))\n",
    "# print(type(output_rois))\n",
    "for i in model_output:\n",
    "    print( i.shape)\n",
    "  "
   ]
  },
  {
   "cell_type": "markdown",
   "metadata": {},
   "source": [
    "####  display Pred_Tensor, Pred_heatmap, mrcnn_class"
   ]
  },
  {
   "cell_type": "code",
   "execution_count": null,
   "metadata": {
    "ExecuteTime": {
     "end_time": "2018-06-20T15:50:49.723252Z",
     "start_time": "2018-06-20T15:50:49.455972Z"
    },
    "hideCode": false,
    "hideOutput": true,
    "scrolled": true
   },
   "outputs": [],
   "source": [
    "np.set_printoptions(precision=4, threshold=None, linewidth=210, suppress=True)\n",
    "img = 0\n",
    " \n",
    "print(' detections  :', detections.shape)   # 1, 100, 6\n",
    "print(detections[:,:15])    # output_rois * [128, 128,128,128])\n",
    "print(' pred_tensor  :', pred_tensor.shape)   # 1, 100, 6\n",
    "print(pred_tensor[:,:,:5])    # output_rois * [128, 128,128,128])\n",
    "print(' pred_heatmap_scores  :', pred_heatmap_scores.shape)   # 1, 100, 6\n",
    "print(pred_heatmap_scores[:,:,:5])    # output_rois * [128, 128,128,128])\n",
    "\n",
    "# print(' mrcnn_class :',mrcnn_class.shape)   # 1,1000,7\n",
    "# print( mrcnn_class)\n",
    "# print(' mrcnn_bbox  :', mrcnn_bbox.shape)   # 1,1000,7,4\n",
    "# print( mrcnn_bbox)\n",
    "\n",
    "# print(' rpn_roi_proposals : ', rpn_roi_proposals.shape)  # 1,1000,4\n",
    "# print(' rpn_roi_proposals[:15]:', rpn_roi_proposals[:15])       #' gt_boxes[img,:15] * [128, 128,128,128])\n",
    "# print(' rpn_class  : ', rpn_class.shape)                # 1,4092, 2\n",
    "# print(' rpn_bbox   : ', rpn_bbox.shape)                 # 1,4092, 4 \n"
   ]
  },
  {
   "cell_type": "code",
   "execution_count": null,
   "metadata": {
    "ExecuteTime": {
     "end_time": "2018-06-20T14:28:31.613958Z",
     "start_time": "2018-06-20T14:28:30.538183Z"
    },
    "scrolled": false
   },
   "outputs": [],
   "source": [
    "import random\n",
    "# image_id2 = random.choice(dataset_test.image_ids)\n",
    "image_id2 = 28\n",
    "image2, image_meta2, gt_class_id2, gt_bbox2, gt_mask2 =\\\n",
    "    load_image_gt(dataset_test, inference_config, image_id2, use_mini_mask=False)\n",
    "print(image_meta2)\n",
    "print(len(image2))\n",
    "\n",
    "# image_id = img_meta[img_idx,0]\n",
    "# image = dataset_test.load_image(image_id)\n",
    "mask2, class_ids2 = dataset_test.load_mask(image_id2)\n",
    "print('Image id: ',image_id2)\n",
    "print('Image meta', image_meta2)\n",
    "print('Classes (1: circle, 2: square, 3: triangle ): ',class_ids)\n",
    "visualize.display_top_masks(image2, mask2, class_ids2, dataset_test.class_names)\n",
    "\n",
    "results = model.detect([image2], verbose=1)\n",
    "print(type(results))\n",
    "pp.pprint(results)\n",
    "\n",
    "print(' detections  :', detections.shape)   # 1, 100, 6\n",
    "print(detections[:,:15])  "
   ]
  },
  {
   "cell_type": "markdown",
   "metadata": {
    "hideCode": false,
    "hidePrompt": true
   },
   "source": [
    "### Prepare values to pass to build_heatmap"
   ]
  },
  {
   "cell_type": "markdown",
   "metadata": {
    "hideCode": false,
    "hidePrompt": false
   },
   "source": [
    "\n",
    "####  Display `output_rois` for visual check - passed on to  `build_pred_tensor()`"
   ]
  },
  {
   "cell_type": "code",
   "execution_count": null,
   "metadata": {
    "ExecuteTime": {
     "end_time": "2018-06-20T14:29:53.560695Z",
     "start_time": "2018-06-20T14:29:53.314339Z"
    },
    "hideCode": true,
    "hideOutput": true,
    "hidePrompt": false,
    "scrolled": false
   },
   "outputs": [],
   "source": [
    "np.set_printoptions(linewidth=150, precision=6)\n",
    "# print('scatter shape is ', pred_scatt.get_shape())\n",
    "print('detection shape is ', detections.shape)\n",
    "img = 0\n",
    "for img in range(1):\n",
    "    print('Image ', img , ' ------------')\n",
    "    print(detections[img,:15] )"
   ]
  },
  {
   "cell_type": "markdown",
   "metadata": {
    "hideCode": false,
    "hidePrompt": true
   },
   "source": [
    "\n",
    "####  Display for visual check - `pred_tensor` is the final result which is passed on to  `build_gaussian_tf()`"
   ]
  },
  {
   "cell_type": "code",
   "execution_count": null,
   "metadata": {
    "ExecuteTime": {
     "end_time": "2018-05-21T20:43:24.316248Z",
     "start_time": "2018-05-21T20:43:24.075138Z"
    },
    "hideCode": true,
    "hideOutput": false,
    "hidePrompt": false,
    "scrolled": false
   },
   "outputs": [],
   "source": [
    "# with sess.as_default():\n",
    "np.set_printoptions(linewidth=150, precision=6)\n",
    "# print('scatter shape is ', pred_scatt.get_shape())\n",
    "temp = pred_tensor0\n",
    "print('pred_tensor shape is ', temp.shape)\n",
    "img = 0\n",
    "for k in range(4):\n",
    "    print('Image ', img , '/ Class ',k,' ------------')\n",
    "    print(temp[img,k])"
   ]
  },
  {
   "cell_type": "markdown",
   "metadata": {
    "hideCode": true,
    "hidePrompt": false
   },
   "source": [
    "\n",
    "####  Display for visual check - `gt_tensor` is the final result which is passed on to  `build_gaussian_tf()`"
   ]
  },
  {
   "cell_type": "code",
   "execution_count": null,
   "metadata": {
    "ExecuteTime": {
     "end_time": "2018-05-17T20:31:43.625908Z",
     "start_time": "2018-05-17T20:31:43.364212Z"
    },
    "hideCode": true,
    "hideOutput": false,
    "hidePrompt": false,
    "scrolled": false
   },
   "outputs": [],
   "source": [
    "np.set_printoptions(linewidth=150, precision=6)\n",
    "print('gt_tensor shape is ', gt_tensor.shape)\n",
    "img = 1\n",
    "for k in range(4):\n",
    "    print('Image ', img , '/ Class ',k,' ------------')\n",
    "    print(gt_tensor[img,k])"
   ]
  },
  {
   "cell_type": "markdown",
   "metadata": {
    "hideCode": true,
    "hidePrompt": true
   },
   "source": [
    "\n",
    "####  Display for visual check - `pred_heatmap_scores` is the final result which is passed from  `build_gaussian_tf()`"
   ]
  },
  {
   "cell_type": "code",
   "execution_count": null,
   "metadata": {
    "ExecuteTime": {
     "end_time": "2018-05-21T18:56:20.286127Z",
     "start_time": "2018-05-21T18:56:19.956192Z"
    },
    "hideCode": true,
    "hideOutput": true,
    "hidePrompt": false,
    "scrolled": false
   },
   "outputs": [],
   "source": [
    "# with sess.as_default():\n",
    "np.set_printoptions(linewidth=150, precision=6, suppress=True)\n",
    "# print('scatter shape is ', pred_scatt.get_shape())\n",
    "print('pred_heatmap_scores shape is ', pred_heatmap_scores.shape)\n",
    "for img in [0,1,2]:\n",
    "    for k in range(4):\n",
    "        print('Image ', img , '/ Class ',k,' ------------')\n",
    "        print(np.min(pred_heatmap_scores[img,k,:,8]))\n",
    "        print(pred_heatmap_scores[img,k])"
   ]
  },
  {
   "cell_type": "markdown",
   "metadata": {
    "hideCode": true,
    "hidePrompt": false
   },
   "source": [
    "####  Display for visual check - `GT_HEATMAP_SCORES` is the final result which is passed on to  `build_gaussian_tf()`"
   ]
  },
  {
   "cell_type": "code",
   "execution_count": null,
   "metadata": {
    "ExecuteTime": {
     "end_time": "2018-05-20T17:25:18.661505Z",
     "start_time": "2018-05-20T17:25:18.406810Z"
    },
    "hideCode": true,
    "hideOutput": true,
    "hidePrompt": false,
    "scrolled": false
   },
   "outputs": [],
   "source": [
    "np.set_printoptions(linewidth=150, precision=6)\n",
    "print('gt_heatmap_scores shape is ', gt_heatmap_scores.shape)\n",
    "img = 1\n",
    "for k in range(4):\n",
    "    print('Image ', img , '/ Class ',k,' ------------')\n",
    "    print(gt_heatmap_scores[img,k])"
   ]
  },
  {
   "cell_type": "markdown",
   "metadata": {
    "hideCode": true,
    "hidePrompt": false
   },
   "source": [
    "####  Display for visual check - `FCN_HEATMAP_SCORES` is the final result which is passed on to  `build_gaussian_tf()`"
   ]
  },
  {
   "cell_type": "code",
   "execution_count": null,
   "metadata": {
    "ExecuteTime": {
     "end_time": "2018-05-21T20:43:59.781641Z",
     "start_time": "2018-05-21T20:43:59.535990Z"
    },
    "hideCode": true,
    "hideOutput": true,
    "hidePrompt": false
   },
   "outputs": [],
   "source": [
    "np.set_printoptions(linewidth=150, threshold=10000, precision=2)\n",
    "temp = fcn_heatmap_scores\n",
    "print('fcn_heatmap_scores shape is ', temp.shape)\n",
    "# img = 1\n",
    "for img in [1,2,3]:\n",
    "    for k in range(4):\n",
    "        print('Image ', img , '/ Class ',k,' ------------')\n",
    "        print(temp[img,k])\n",
    "    "
   ]
  },
  {
   "cell_type": "markdown",
   "metadata": {
    "hideCode": false,
    "hidePrompt": false
   },
   "source": [
    "####  Display for visual check - `pred_heatmap_norm` is the final result from  `build_gaussian_tf()`"
   ]
  },
  {
   "cell_type": "code",
   "execution_count": null,
   "metadata": {
    "ExecuteTime": {
     "end_time": "2018-05-21T17:29:35.708474Z",
     "start_time": "2018-05-21T17:29:35.418691Z"
    },
    "hideCode": true,
    "hideOutput": true
   },
   "outputs": [],
   "source": [
    "print(pred_heatmap_norm.shape)\n",
    "temp = pred_heatmap_norm\n",
    "np.set_printoptions(linewidth=150, threshold=10000, suppress=False)\n",
    "print('  Temp shape :',  temp.shape)\n",
    "temp_sum = np.sum(temp,axis=(1,2))\n",
    "print('temp_sum is ', temp_sum.shape)\n",
    "for i in range(5):\n",
    "    for j in range(4):\n",
    "        print('img ',i,' class ', j, ' sum:',temp_sum[i,j],  ' max: ',np.max(temp[i,:,:,j]),' mean: ', np.mean(temp[i,:,:,j]),' min: ', np.min(temp[i,:,:,j]))    "
   ]
  },
  {
   "cell_type": "markdown",
   "metadata": {
    "hideCode": true,
    "hidePrompt": false
   },
   "source": [
    "\n",
    "####  Display for visual check - `fcn_heatmap_norm` is the final result from  `FCN`"
   ]
  },
  {
   "cell_type": "code",
   "execution_count": null,
   "metadata": {
    "ExecuteTime": {
     "end_time": "2018-05-21T17:24:23.156739Z",
     "start_time": "2018-05-21T17:24:22.852337Z"
    },
    "hideCode": true,
    "hideOutput": true,
    "hidePrompt": false,
    "scrolled": false
   },
   "outputs": [],
   "source": [
    "temp = fcn_heatmap\n",
    "print('  Temp shape :',  temp.shape)\n",
    "temp_sum = np.sum(temp,axis=(1,2))\n",
    "print('temp_sum is ', temp_sum.shape)\n",
    "for i in range(5):\n",
    "    for j in range(4):\n",
    "        print('img / cls ',i,'/', j, ' sum:',temp_sum[i,j])\n",
    "        print('sum: ', np.sum(temp[i,:,:,j] ),' max: ',np.max(temp[i,:,:,j]),' mean: ', np.mean(temp[i,:,:,j]),' min: ', np.min(temp[i,:,:,j]))    "
   ]
  },
  {
   "cell_type": "code",
   "execution_count": null,
   "metadata": {
    "ExecuteTime": {
     "end_time": "2018-05-21T17:12:28.879203Z",
     "start_time": "2018-05-21T17:12:28.616104Z"
    },
    "hideCode": true,
    "hideOutput": true
   },
   "outputs": [],
   "source": [
    "sess = KB.get_session()\n",
    "with sess.as_default():\n",
    "    temp = fcn_heatmap\n",
    "    np.set_printoptions(linewidth=150, threshold=10000)\n",
    "    print('  output shapes :',  temp.get_shape())\n",
    "    temp_sum = tf.reduce_sum(temp, [2,3])\n",
    "    temp_min = tf.reduce_min(temp, [2,3])\n",
    "    temp_max = tf.reduce_max(temp, [2,3])\n",
    "    temp_avg = tf.reduce_mean(temp, [2,3])\n",
    "    print('temp_sum is ', temp_sum.shape)\n",
    "    for i in range(5):\n",
    "        for j in range(4):\n",
    "                print('img/cls ',i,'/', j,'  sum:',temp_sum[i,j], 'min',temp_min[i,j] ,'max',temp_max[i,j] ,'avg',temp_avg[i,j])"
   ]
  },
  {
   "cell_type": "markdown",
   "metadata": {
    "hideCode": false,
    "hidePrompt": true
   },
   "source": [
    "\n",
    "####  Display for visual check - `gt_heatmap_scores`  and `fcn_heatmap_scores` "
   ]
  },
  {
   "cell_type": "code",
   "execution_count": null,
   "metadata": {
    "ExecuteTime": {
     "end_time": "2018-05-20T20:01:28.251086Z",
     "start_time": "2018-05-20T20:01:27.923729Z"
    },
    "hideCode": true,
    "hideOutput": true,
    "hidePrompt": false,
    "scrolled": false
   },
   "outputs": [],
   "source": [
    "# with sess.as_default():\n",
    "np.set_printoptions(linewidth=150, precision=6)\n",
    "# print('scatter shape is ', pred_scatt.get_shape())\n",
    "\n",
    "img = 0\n",
    "for i in [1,2,3]:\n",
    "    for j in range(32):\n",
    "        print('Image ', img , '/ Class ',i,' ------------')\n",
    "\n",
    "        print(gt_heatmap_scores[img,i,j])\n",
    "        print(pred_heatmap_scores[img,i,j])\n",
    "        print(fcn_heatmap_scores[img,i,j,[0,1,2,3,4,5,11,12,13,14,15]])"
   ]
  },
  {
   "cell_type": "markdown",
   "metadata": {},
   "source": [
    "###  Display `gauss_heatmap` 3D heatmap (not normalized, normlized, L2 normalized)"
   ]
  },
  {
   "cell_type": "code",
   "execution_count": null,
   "metadata": {
    "ExecuteTime": {
     "end_time": "2018-06-20T15:41:25.403882Z",
     "start_time": "2018-06-20T15:41:18.340784Z"
    },
    "hideCode": false,
    "hideOutput": false,
    "scrolled": false
   },
   "outputs": [],
   "source": [
    "from mrcnn.visualize import plot_3d_heatmap, plot_2d_heatmap\n",
    "%matplotlib inline\n",
    "print('Image id: ',image_id , '    Classes (1: circle, 2: square, 3: triangle ): ')\n",
    "img = 0\n",
    "cls = 0\n",
    "# for cls in range(7):\n",
    "#     print(pred_heatmap_scores[img,cls,:10])\n",
    "\n",
    "ttl = 'Non-normalized - image: {}'.format(img)\n",
    "plot_3d_heatmap(pred_heatmap[img], title = ttl, width = 20)\n",
    "ttl = 'Normalized - image: {}'.format(img)\n",
    "plot_3d_heatmap(pred_heatmap_norm[img], title = ttl, width = 20)\n",
    "\n",
    "# ttl = 'Non-normalized - image: {}'.format(img)\n",
    "# plot_3d_heatmap(fcn_heatmap[img], title = ttl, width = 20)\n",
    "# ttl = 'Normalized - image: {}'.format(img)\n",
    "# plot_3d_heatmap(fcn_heatmap_norm[img], title = ttl, width = 20)\n",
    "\n",
    "# ttl = 'Ground Truth Non-normalized - image: {}'.format(img)\n",
    "# plot_3d_heatmap(gt_heatmap[img], title = ttl, width = 20)\n",
    "# ttl = 'Ground Truth Normalized - image: {}'.format(img)\n",
    "# plot_3d_heatmap(gt_heatmap_norm[img], title = ttl, width = 20)\n",
    "\n",
    "\n",
    "# ttl = 'Non-normalized - image: {}'.format(img)\n",
    "# plot_2d_heatmap(pred_heatmap[img], pred_heatmap_scores[img], width=15, title=ttl)\n",
    "# ttl = 'Normalized - image: {}'.format(img)\n",
    "# plot_2d_heatmap(pred_heatmap_norm[img], pred_heatmap_scores[img], width=15, title=ttl)\n"
   ]
  },
  {
   "cell_type": "markdown",
   "metadata": {
    "hideCode": false,
    "hidePrompt": false
   },
   "source": [
    "##  `build_predictions tensor for inferecne mode ()` \n",
    "\n",
    "###  Build Pred_Tensor\n",
    "\n",
    "`detections:`\n",
    "\n",
    "`[ 43.        63.        80.        92.         4.         0.999993]\n",
    " [ 64.         7.        78.        42.         2.         0.99999 ]\n",
    " [ 18.        38.        41.       105.         6.         0.999986]\n",
    " [ 57.        90.        70.       121.         2.         0.999873]\n",
    " [ 20.         0.        29.        40.         6.         0.999865]\n",
    " [ 44.        92.        63.       102.         5.         0.999643]\n",
    " [  0.         0.         0.         0.         0.         0.      ]`"
   ]
  },
  {
   "cell_type": "markdown",
   "metadata": {},
   "source": [
    "###  Setup tensors to be passed to `build_pred_tf ()`    "
   ]
  },
  {
   "cell_type": "code",
   "execution_count": null,
   "metadata": {
    "ExecuteTime": {
     "end_time": "2018-06-20T14:33:33.889183Z",
     "start_time": "2018-06-20T14:33:32.863374Z"
    },
    "scrolled": true
   },
   "outputs": [],
   "source": [
    "np.set_printoptions(linewidth=150, precision=6, threshold = 10000)\n",
    "# mrcnn_bbox  = tf.identity(mrcnn_bbox)\n",
    "# mrcnn_class = tf.identity(mrcnn_class)\n",
    "detected_rois = tf.identity(detections)\n",
    "sess = KB.get_session()\n",
    "print(' New session obtained from Kras', sess)\n",
    "import mrcnn.utils as utils\n",
    "config = inference_config\n",
    "with sess.as_default():\n",
    "# def build_predictions(detection_rois, mrcnn_class, mrcnn_bbox, config):  \n",
    "    batch_size      = config.BATCH_SIZE\n",
    "    num_classes     = config.NUM_CLASSES\n",
    "    h, w            = config.IMAGE_SHAPE[:2]\n",
    "    print(' config image shape: ', config.IMAGE_SHAPE, 'h:',h,'w:',w)\n",
    "    num_rois        = config.DETECTION_MAX_INSTANCES \n",
    "    num_cols        = 6\n",
    " \n",
    "    print()\n",
    "    print('  > build_predictions()')\n",
    "    print('    num_rois          : ', num_rois )\n",
    "    print('    input_rois.shape : ', KB.shape(detected_rois), KB.int_shape(detected_rois))\n",
    "#     print(detected_rois.eval())\n",
    "    #---------------------------------------------------------------------------\n",
    "    # Build a meshgrid for image id and bbox to use in gathering of bbox delta information \n",
    "    #---------------------------------------------------------------------------\n",
    "    batch_grid, bbox_grid = tf.meshgrid( tf.range(batch_size, dtype=tf.int32),\n",
    "                                         tf.range(num_rois, dtype=tf.int32), indexing = 'ij' )\n",
    "\n",
    "    #---------------------------------------------------------------------------\n",
    "    # column -2 contains the prediceted class \n",
    "    #  (NOT USED)   pred_classes_exp = tf.to_float(tf.expand_dims(pred_classes ,axis=-1))    \n",
    "    #---------------------------------------------------------------------------\n",
    "    pred_classes = tf.to_int32(detected_rois[...,-2])\n",
    "    \n",
    "    gather_ind   = tf.stack([batch_grid , bbox_grid],axis = -1)\n",
    "#     print(pred_classes.eval())\n",
    "    \n",
    "    scatter_ind = tf.stack([batch_grid , pred_classes, bbox_grid],axis = -1)\n",
    "    pred_scatt  = tf.scatter_nd(scatter_ind, detected_rois, [batch_size, num_classes, num_rois, detected_rois.shape[-1]])\n",
    "    print('    pred_scatter shape is ', pred_scatt.get_shape())\n",
    "    \n",
    "#     print(gather_ind.eval())\n",
    "#     print(pred_scores.eval())\n",
    "#     pred_array = input_rois\n",
    "#     print('    pred_array       ', pred_array.shape)  \n",
    "#     print('scatter_ind', type(scatter_ind), 'shape',tf.shape(scatter_ind).eval())\n",
    "#     print(pred_scatt.eval())\n",
    "\n",
    "    #------------------------------------------------------------------------------------\n",
    "    ## sort pred_scatter in each class dimension based on sequence number (last column)\n",
    "    #------------------------------------------------------------------------------------\n",
    "    _, sort_inds = tf.nn.top_k(pred_scatt[...,-1], k=pred_scatt.shape[2])\n",
    "    \n",
    "    # build indexes to gather rows from pred_scatter based on sort order    \n",
    "    class_grid, batch_grid, roi_grid = tf.meshgrid(tf.range(num_classes),tf.range(batch_size), tf.range(num_rois))\n",
    "    \n",
    "    roi_grid_exp = tf.to_float(tf.expand_dims(roi_grid, axis = -1))\n",
    "    gather_inds  = tf.stack([batch_grid , class_grid, sort_inds],axis = -1)\n",
    "    pred_tensor  = tf.gather_nd(pred_scatt, gather_inds, name = 'pred_tensor')    \n",
    "    print(pred_tensor.eval())\n",
    "#     return  pred_tensor    "
   ]
  },
  {
   "cell_type": "code",
   "execution_count": null,
   "metadata": {
    "ExecuteTime": {
     "end_time": "2018-06-20T14:30:57.143768Z",
     "start_time": "2018-06-20T14:30:56.887425Z"
    }
   },
   "outputs": [],
   "source": [
    "np.set_printoptions(linewidth=150, precision=6)\n",
    "# print('scatter shape is ', pred_scatt.get_shape())\n",
    "print('detection shape is ', detections.shape)\n",
    "img = 0\n",
    "for img in range(1):\n",
    "    print('Image ', img , ' ------------')\n",
    "    print(detections[img,:15] )"
   ]
  },
  {
   "cell_type": "code",
   "execution_count": null,
   "metadata": {
    "ExecuteTime": {
     "end_time": "2018-05-21T20:42:14.061419Z",
     "start_time": "2018-05-21T20:42:13.774656Z"
    }
   },
   "outputs": [],
   "source": [
    "np.set_printoptions(linewidth=150, threshold=10000, precision=4)\n",
    "print(tst0.shape, tst1.shape, tst2.shape)\n",
    "for i in [0]:\n",
    "    print('---- Img/Class : ',i,'------------------')\n",
    "    for j in range(32):\n",
    "        for k in range(32):\n",
    "            print(' output_roi: ', pred_tensor0[i,j,k])\n",
    "            print('        tst: ', tst1[i,j,k])\n",
    "#         print('       tst2: ', tst2[i,j])\n",
    "            print()"
   ]
  },
  {
   "cell_type": "markdown",
   "metadata": {},
   "source": [
    "### Print out values of `pred_tensor` , `pred_array`, .."
   ]
  },
  {
   "cell_type": "code",
   "execution_count": null,
   "metadata": {
    "ExecuteTime": {
     "end_time": "2018-05-18T15:53:29.469521Z",
     "start_time": "2018-05-18T15:53:28.906352Z"
    },
    "hideOutput": true,
    "scrolled": true
   },
   "outputs": [],
   "source": [
    "with sess.as_default():\n",
    "    scatt = pred_scatt.eval()\n",
    "    test = pred_tensor.eval()"
   ]
  },
  {
   "cell_type": "markdown",
   "metadata": {},
   "source": [
    "####  Test that refined_rois is correctly working in `clip_to_window_tf` "
   ]
  },
  {
   "cell_type": "code",
   "execution_count": null,
   "metadata": {
    "ExecuteTime": {
     "end_time": "2018-05-18T13:42:38.351532Z",
     "start_time": "2018-05-18T13:42:37.820120Z"
    },
    "hideCode": false,
    "hideOutput": true,
    "scrolled": false
   },
   "outputs": [],
   "source": [
    "with sess.as_default():\n",
    "    test_np = refined_rois.eval()\n",
    "    test_tf = refined_rois_clipped.eval()\n",
    "    window_np = np.array([0,0,128,128])\n",
    " \n",
    "    print(window_np.shape)\n",
    "    for i in range(5):\n",
    "#         print('Before', i)\n",
    "#         print(test_np[i])\n",
    "        test_np[i] = clip_to_window(window_np, test_np[i])\n",
    "#         print('After', i)\n",
    "#         print(test_np[i])\n",
    "#         print('   tensor flow')\n",
    "#         print(test_tf[i])\n",
    "        \n",
    "    for i in range(5):\n",
    "      all_equal = np.all(test_np == refined_rois_clipped.eval())\n",
    "      print('i: ', i, '--- EQUAL : ', all_equal)\n"
   ]
  },
  {
   "cell_type": "markdown",
   "metadata": {},
   "source": [
    "####  Test that pred_classes and pred_deltas have been properly selected when using tf.gather_nd ()"
   ]
  },
  {
   "cell_type": "code",
   "execution_count": null,
   "metadata": {
    "ExecuteTime": {
     "end_time": "2018-05-18T13:32:01.297444Z",
     "start_time": "2018-05-18T13:32:00.765661Z"
    },
    "hideCode": false,
    "hideOutput": true,
    "scrolled": false
   },
   "outputs": [],
   "source": [
    "with sess.as_default():\n",
    "    tmp0 = pred_classes.eval()\n",
    "    tmp1 = mrcnn_bbox.eval()\n",
    "    tmp2 = pred_deltas.eval()\n",
    "    tmp4 = mrcnn_class.eval()\n",
    "    tmp3 = pred_scores2.eval()\n",
    "    tmp5 = pred_scores.eval()\n",
    "    \n",
    "\n",
    "for i in range(5):\n",
    "    for j in range(32):\n",
    "        print('i: ', i, ' j :', j,'--- class: ',tmp0[i,j],'---------------')\n",
    "    #     print(tmp0[i,j])\n",
    "        print(tmp1[i,j])\n",
    "        print(' ===> ', tmp2[i,j])\n",
    "        print(' mrcnn_score: ', tmp4[i,j,tmp0[i,j]], ' pred_score:', tmp5[i,j,0], 'pred_score2: ', tmp3[i,j])\n"
   ]
  },
  {
   "cell_type": "markdown",
   "metadata": {
    "hideCode": false
   },
   "source": [
    "####  Verify refined_rois generated by TF and NP are equal when using `apply_box_deltas_tf( )`"
   ]
  },
  {
   "cell_type": "code",
   "execution_count": null,
   "metadata": {
    "ExecuteTime": {
     "end_time": "2018-05-18T10:48:35.696940Z",
     "start_time": "2018-05-18T10:48:34.824880Z"
    },
    "hideCode": true,
    "hideOutput": true,
    "scrolled": false
   },
   "outputs": [],
   "source": [
    "from mrcnn.utils import apply_box_deltas, apply_box_deltas_tf\n",
    "with sess.as_default():\n",
    "    refined_rois_tf = apply_box_deltas_3d(output_rois, pred_deltas).eval()\n",
    "    print(' refined rois_tf: ', refined_rois_tf.shape, refined_rois_tf.dtype)\n",
    "    tmp = []\n",
    "    bxs = output_rois.eval()\n",
    "    dlt = pred_deltas.eval()\n",
    "    for i in range(5):\n",
    "        tmp.append(apply_box_deltas(bxs[i], dlt[i]))\n",
    "    refined_rois_np = np.asarray(tmp)\n",
    "    print(' refined rois_np: ', refined_rois_np.shape,refined_rois_np.dtype)\n",
    "    print(' refined rois_np == refined rois_tf ?? :', np.all(refined_rois_tf[0,1] == refined_rois_np[0,1]))\n",
    "\n",
    "#     for i in range(5):\n",
    "#         for j in range(32):\n",
    "#             all_eq = np.all(refined_rois_tf[0,1] == refined_rois_np[0,1])\n",
    "#             if ~all_eq:\n",
    "#                 print(' Not equal : ',i,'/',j)\n",
    "#                 print(refined_rois_tf[i,j])\n",
    "#                 print(refined_rois_np[i,j])\n",
    "#             else:\n",
    "#                 print(' equal : ',i,'/',j)\n",
    "print(refined_rois_tf[0])\n",
    "print(refined_rois_np[0])\n"
   ]
  },
  {
   "cell_type": "markdown",
   "metadata": {},
   "source": [
    "#### Window manipulation "
   ]
  },
  {
   "cell_type": "code",
   "execution_count": null,
   "metadata": {
    "ExecuteTime": {
     "end_time": "2018-05-18T12:39:29.435494Z",
     "start_time": "2018-05-18T12:39:29.167279Z"
    },
    "hideCode": true,
    "hideOutput": true
   },
   "outputs": [],
   "source": [
    "with sess.as_default():    \n",
    "    X = tf.range(18, dtype=tf.int32)\n",
    "    Y = tf.range(18, dtype=tf.int32)\n",
    "    X, Y = tf.meshgrid(X, Y)\n",
    "\n",
    "    # duplicate (repeat) X and Y into a  batch_size x rois_per_image tensor\n",
    "    print('    X/Y shapes :',  X.get_shape(), Y.get_shape())\n",
    "    ones = tf.ones([34 , 1, 1], dtype = tf.int32)\n",
    "    rep_X = ones * X\n",
    "    rep_Y = ones * Y \n",
    "    print('    Ones:    ', ones.shape)                \n",
    "    print('    ones_exp * X', ones.shape, '*', X.shape, '= ',rep_X.shape)\n",
    "    print('    ones_exp * Y', ones.shape, '*', Y.shape, '= ',rep_Y.shape)\n"
   ]
  },
  {
   "cell_type": "code",
   "execution_count": null,
   "metadata": {
    "ExecuteTime": {
     "end_time": "2018-05-18T13:12:19.695833Z",
     "start_time": "2018-05-18T13:12:16.951338Z"
    },
    "hideCode": true,
    "hideOutput": true,
    "scrolled": false
   },
   "outputs": [],
   "source": [
    "with sess.as_default():\n",
    "    \n",
    "    window          = tf.constant([[0,1,2,3]], dtype =tf.float32)   \n",
    "    print(window.shape)\n",
    "#     high_vals = tf.stack([window[:,2],window[:,3], window[:,2], window[:,3]], axis = -1)\n",
    "#     print(' hv: ', high_vals.shape)\n",
    "#     print(high_vals.eval())\n",
    "    high_vals = tf.expand_dims(high_vals, axis = 1)\n",
    "#     print(' hv: ', high_vals.shape)\n",
    "    high_vals = tf.tile(high_vals,[1,32,1])    \n",
    "#     print(high_vals.shape)\n",
    "#     print(high_vals[0].eval())\n",
    "#     print(high_vals[1].eval())\n",
    "#     print(high_vals[2].eval())\n",
    "\n",
    "    \n",
    "    \n",
    "    low_vals  = tf.stack([window[:,0],window[:,1], window[:,0], window[:,1]], axis = -1)\n",
    "    print(' lv: ', low_vals.shape)\n",
    "    print(low_vals.eval())\n",
    "    low_vals = tf.expand_dims(low_vals, axis = 1)\n",
    "    print(' lv: ', low_vals.shape)\n",
    "    low_vals = tf.tile(low_vals,[5, 32,1])    \n",
    "    print(' lv: ', low_vals.shape)\n",
    "    print(low_vals[0].eval())\n",
    "    print(low_vals[1].eval())\n",
    "    print(low_vals[2].eval())     \n",
    "    print(low_vals[3].eval())         \n",
    "    print(low_vals[4].eval())     "
   ]
  },
  {
   "cell_type": "markdown",
   "metadata": {
    "hideCode": false,
    "hidePrompt": false
   },
   "source": [
    "\n",
    "###  Display for visual check - `pred_tensor` is the final result which is passed on to  `build_gaussian_tf()`"
   ]
  },
  {
   "cell_type": "code",
   "execution_count": null,
   "metadata": {
    "ExecuteTime": {
     "end_time": "2018-05-13T08:57:52.773471Z",
     "start_time": "2018-05-13T08:57:51.641962Z"
    },
    "hideCode": true,
    "hidePrompt": false,
    "scrolled": false
   },
   "outputs": [],
   "source": [
    "np.set_printoptions(linewidth=150, precision=6)\n",
    "# print('scatter shape is ', pred_scatt.get_shape())\n",
    "print('pred_tensor shape is ', pred_tensor.get_shape() )\n",
    "img = 0\n",
    "print('Image ', img , '/ Class 0 ------------')\n",
    "print(pred_tensor[img,0].eval(session=sess))\n",
    "print('Image ', img , '/ Class 1 ------------')\n",
    "print(pred_tensor[img,1].eval(session=sess))\n",
    "print('Image ', img , '/ Class 2 ------------')\n",
    "print(pred_tensor[img,2].eval(session=sess))\n",
    "print('Image ', img , '/ Class 3 ------------')\n",
    "print(pred_tensor[img,3].eval(session=sess))\n"
   ]
  },
  {
   "cell_type": "code",
   "execution_count": null,
   "metadata": {
    "ExecuteTime": {
     "end_time": "2018-05-13T09:37:55.920827Z",
     "start_time": "2018-05-13T09:37:55.615982Z"
    },
    "hideCode": false,
    "hideOutput": true,
    "hidePrompt": false,
    "scrolled": true
   },
   "outputs": [],
   "source": [
    " pred_tensor1  = build_predictions_tf(mrcnn_class, mrcnn_bbox, output_rois, model.config)"
   ]
  },
  {
   "cell_type": "code",
   "execution_count": null,
   "metadata": {
    "ExecuteTime": {
     "end_time": "2018-05-13T09:38:24.489697Z",
     "start_time": "2018-05-13T09:38:23.584328Z"
    }
   },
   "outputs": [],
   "source": [
    "img = 2\n",
    "print(pred_tensor1[img,0].eval(session=sess))\n",
    "print(pred_tensor1[img,1].eval(session=sess))\n",
    "print(pred_tensor1[img,2].eval(session=sess))\n",
    "print(pred_tensor1[img,3].eval(session=sess))"
   ]
  },
  {
   "cell_type": "markdown",
   "metadata": {
    "hideCode": false,
    "hidePrompt": false
   },
   "source": [
    "###  Test `means`, `covar`, `gauss_grid`, and `gauss_sum ` between development version and final version"
   ]
  },
  {
   "cell_type": "code",
   "execution_count": null,
   "metadata": {
    "ExecuteTime": {
     "end_time": "2018-05-04T16:29:49.313931Z",
     "start_time": "2018-05-04T16:29:48.092590Z"
    },
    "hideCode": false,
    "hidePrompt": false
   },
   "outputs": [],
   "source": [
    "print(pred_tensor.get_shape(), pred_tensor2.get_shape())\n",
    "print(np.all(pred_tensor.eval() == pred_tensor2.eval()))\n",
    "# tst1 = means.eval()\n",
    "# tst2 = means2.eval()\n",
    "# print(tst1.shape, tst2.shape)\n",
    "\n",
    "# print(tst1[0,:10])\n",
    "# print()\n",
    "# print(tst2[0,:10])\n",
    "# print(np.all(tst1 == tst2))\n",
    "# print()\n",
    "# del tst1, tst2"
   ]
  },
  {
   "cell_type": "code",
   "execution_count": null,
   "metadata": {
    "ExecuteTime": {
     "end_time": "2018-05-04T16:46:19.731291Z",
     "start_time": "2018-05-04T16:46:19.281096Z"
    }
   },
   "outputs": [],
   "source": [
    "print(output_rois.eval())"
   ]
  },
  {
   "cell_type": "code",
   "execution_count": null,
   "metadata": {},
   "outputs": [],
   "source": []
  },
  {
   "cell_type": "code",
   "execution_count": null,
   "metadata": {},
   "outputs": [],
   "source": []
  },
  {
   "cell_type": "code",
   "execution_count": null,
   "metadata": {
    "hideCode": false,
    "hidePrompt": false
   },
   "outputs": [],
   "source": []
  },
  {
   "cell_type": "code",
   "execution_count": null,
   "metadata": {
    "hideCode": false,
    "hidePrompt": false
   },
   "outputs": [],
   "source": []
  },
  {
   "cell_type": "markdown",
   "metadata": {},
   "source": [
    "## Proposal Layer"
   ]
  },
  {
   "cell_type": "code",
   "execution_count": null,
   "metadata": {
    "ExecuteTime": {
     "end_time": "2018-05-16T14:16:18.148825Z",
     "start_time": "2018-05-16T14:16:17.917166Z"
    },
    "hideCode": true
   },
   "outputs": [],
   "source": [
    "import mrcnn.utils as utils\n",
    "sess = KB.get_session()\n"
   ]
  },
  {
   "cell_type": "code",
   "execution_count": null,
   "metadata": {
    "ExecuteTime": {
     "end_time": "2018-05-16T13:52:43.494511Z",
     "start_time": "2018-05-16T13:52:43.056219Z"
    },
    "hideCode": true
   },
   "outputs": [],
   "source": [
    "def apply_box_deltas_graph(boxes, deltas):\n",
    "    \"\"\"\n",
    "    Applies the given deltas to the given boxes.\n",
    "\n",
    "    x,y,w,h : Bounding Box coordinates, width, and height\n",
    "\n",
    "    Boxes:  is the (y1, x1, y2, x2) of the anchor boxes\n",
    "    deltas: [dy, dx, log(dh), log(dw)] \n",
    "            is the predicted bounding box returned from the RPN layer (in test phase)\n",
    "            These are considered the targets or ground truth \n",
    "    Refer to Bounding Box Regression - R-CNN paper \n",
    "    Regression targets are calculated as follows:   \n",
    "      tx = (GTx - PRx)/PRw       ty = (Gy - Py)/Ph\n",
    "      th = log(Gw/Pw)         tw = log(Gh/Ph)\n",
    "    ---------------------------------------------------------------------------------            \n",
    "    \n",
    "    boxes:  [N, 4] where each row is [y1, x1, y2, x2]\n",
    "    deltas: [N, 4] where each row is [dy, dx, log(dh), log(dw)]\n",
    "    \"\"\"\n",
    "    # Convert to y, x, h, w\n",
    "    height   = boxes[:, 2] - boxes[:, 0]\n",
    "    width    = boxes[:, 3] - boxes[:, 1]\n",
    "    center_y = boxes[:, 0] + 0.5 * height\n",
    "    center_x = boxes[:, 1] + 0.5 * width\n",
    "    \n",
    "    # Apply deltas\n",
    "    center_y += deltas[:, 0] * height\n",
    "    center_x += deltas[:, 1] * width\n",
    "    height   *= tf.exp(deltas[:, 2])\n",
    "    width    *= tf.exp(deltas[:, 3])\n",
    "    \n",
    "    # Convert back to y1, x1, y2, x2\n",
    "    y1 = center_y - 0.5 * height\n",
    "    x1 = center_x - 0.5 * width\n",
    "    y2 = y1 + height\n",
    "    x2 = x1 + width\n",
    "    result = tf.stack([y1, x1, y2, x2], axis=1, name=\"apply_box_deltas_out\")\n",
    "    return result\n",
    "\n",
    "\n",
    "def clip_boxes_graph(boxes, window):\n",
    "    \"\"\"\n",
    "    clip refined anchor boxes such that they remain within the dimensions of the image \n",
    "    boxes:  [N, 4] each row is y1, x1, y2, x2\n",
    "    window: [4] in the form y1, x1, y2, x2 \n",
    "    \"\"\"\n",
    "    # Split corners\n",
    "    wy1, wx1, wy2, wx2 = tf.split(window, 4)   #  0, 0 , 128,128\n",
    "    y1 , x1 , y2 , x2  = tf.split(boxes, 4, axis=1)\n",
    "    \n",
    "    # Clip\n",
    "    y1 = tf.maximum(tf.minimum(y1, wy2), wy1)   # ensure  wy1 <= y1 <= wy2\n",
    "    x1 = tf.maximum(tf.minimum(x1, wx2), wx1)\n",
    "    y2 = tf.maximum(tf.minimum(y2, wy2), wy1)\n",
    "    x2 = tf.maximum(tf.minimum(x2, wx2), wx1)\n",
    "    clipped = tf.concat([y1, x1, y2, x2], axis=1, name=\"clipped_boxes\")\n",
    "    return clipped\n",
    "\n",
    "def suppress_small_boxes_graph(boxes, scores, area_threshold ):\n",
    "    \"\"\"\n",
    "    supress boxes with area less than area_threshold\n",
    "    boxes:  [N, 4] each row is y1, x1, y2, x2\n",
    "    \n",
    "    \"\"\"\n",
    "    bx_area = (boxes[...,2]-boxes[...,0])*(boxes[...,3]-boxes[...,1])\n",
    "    selected_idxs   = tf.where(tf.greater_equal(bx_area, area_threshold))\n",
    "    selected_boxes  = tf.gather_nd(boxes, selected_idxs)\n",
    "    selected_scores = tf.gather_nd(scores, selected_idxs)\n",
    "    padding   = tf.maximum(tf.shape(boxes)[0] - tf.shape(selected_boxes)[0], 0)\n",
    "\n",
    "#     print(' box area       : ', bx_area.shape)    \n",
    "#     print(' selected_idxs  : ', tf.shape(selected_idxs).eval())\n",
    "#     print(' selected scores: ', tf.shape(selected_scores).eval())\n",
    "#     print(' Req padding    : ', padding.eval())\n",
    "    \n",
    "    selected_boxes  = tf.pad(selected_boxes, [(0, padding), (0, 0)])    \n",
    "    selected_scores = tf.pad(selected_scores, [(0, padding)])    \n",
    "    return selected_boxes, selected_scores\n",
    "\n",
    "def nms(normalized_boxes, scores):\n",
    "    proposal_count = model.config.POST_NMS_ROIS_TRAINING\n",
    "    rms_threshold  = model.config.RPN_NMS_THRESHOLD\n",
    "    indices = tf.image.non_max_suppression(normalized_boxes, \n",
    "                                           scores, \n",
    "                                           proposal_count,\n",
    "                                           nms_threshold, \n",
    "                                           name=\"rpn_non_max_suppression\")\n",
    "\n",
    "    proposals = tf.gather(normalized_boxes, indices)\n",
    "    # Pad if needed\n",
    "    padding   = tf.maximum(proposal_count - tf.shape(proposals)[0], 0)\n",
    "    proposals = tf.pad(proposals, [(0, padding), (0, 0)])\n",
    "    return proposals"
   ]
  },
  {
   "cell_type": "code",
   "execution_count": null,
   "metadata": {
    "ExecuteTime": {
     "end_time": "2018-05-16T13:52:51.950082Z",
     "start_time": "2018-05-16T13:52:47.181975Z"
    },
    "hideCode": true,
    "scrolled": true
   },
   "outputs": [],
   "source": [
    "with sess.as_default():\n",
    "    scores = rpn_class[:, :, 1]\n",
    "    print(scores.shape)\n",
    "    deltas = rpn_bbox\n",
    "    print('deltas shape', deltas.shape)\n",
    "    deltas = deltas * np.reshape(model.config.RPN_BBOX_STD_DEV, [1, 1, 4])\n",
    "    print('deltas shape', deltas.shape)\n",
    "    anchors = model.anchors\n",
    "    print('model.anchors.shape', model.anchors.shape)\n",
    "    pre_nms_limit = min(6000, model.anchors.shape[0])\n",
    "    print('pre nms limit', pre_nms_limit)\n",
    "\n",
    "    ix = tf.nn.top_k(scores, pre_nms_limit, sorted=True,name=\"top_anchors\").indices\n",
    "\n",
    "    ## gather top scores (pre_nms_limit = min(6000, # anchors) number of scores from scores)        \n",
    "    scores  = utils.batch_slice([scores, ix], lambda x, y: tf.gather(x, y), model.config.IMAGES_PER_GPU) \n",
    "    print(' selected scores: ',scores.shape)\n",
    "\n",
    "    ## get corrsponding deltas generated by RPN\n",
    "    deltas  = utils.batch_slice([deltas, ix], lambda x, y: tf.gather(x, y), model.config.IMAGES_PER_GPU)\n",
    "    print(' selected deltas: ',deltas.shape)\n",
    "    anchors = utils.batch_slice(         ix , lambda x   : tf.gather(anchors, x), model.config.IMAGES_PER_GPU, names=[\"pre_nms_anchors\"])\n",
    "    print(' selected anchors: ',anchors.shape)\n",
    "    boxes = utils.batch_slice([anchors, deltas],\n",
    "                              lambda x, y: apply_box_deltas_graph(x, y),model.config.IMAGES_PER_GPU,\n",
    "                              names=[\"refined_anchors\"])\n",
    "    print(' delta applied boxes :', boxes.shape)\n",
    "\n",
    "    # Clip to image boundaries. [batch, N, (y1, x1, y2, x2)]\n",
    "    height, width = model.config.IMAGE_SHAPE[:2]\n",
    "    window = np.array([0, 0, height, width]).astype(np.float64)\n",
    "    print(' window is ', window)\n",
    "    clipped_boxes  = utils.batch_slice(boxes, \n",
    "                                   lambda x: clip_boxes_graph(x, window), model.config.IMAGES_PER_GPU,\n",
    "                                   names=[\"refined_anchors_clipped\"])\n",
    "\n",
    "    print(' clipped boxes :', clipped_boxes.shape)\n",
    "    \n",
    "    ## Suppress proposal boxes (and  corresponding score) if the area is less than ROI_AREA_THRESHOLD\n",
    "    roi_area_threshold = 2\n",
    "    mod_boxes, mod_scores = utils.batch_slice([clipped_boxes,scores], \n",
    "                            lambda x, y: suppress_small_boxes_graph(x, y, roi_area_threshold), model.config.IMAGES_PER_GPU,\n",
    "                            names=[\"mod_boxes\", \"mod_scores\"])  \n",
    "    print(' mod boxes :', tf.shape(mod_boxes).eval())\n",
    "    print(' mod_scores:', tf.shape(mod_scores).eval())   \n",
    "    \n",
    "    normalized_boxes = tf.cast(mod_boxes / np.array([[height, width, height, width]]), tf.float32)\n",
    "    print(' normalized boxes:', normalized_boxes.shape)\n",
    "\n",
    "    proposals = utils.batch_slice([normalized_boxes, mod_scores], nms, model.config.IMAGES_PER_GPU)\n",
    "    print('     Output: Prposals shape : ', proposals.shape, tf.shape(proposals).eval())\n",
    "    "
   ]
  },
  {
   "cell_type": "markdown",
   "metadata": {
    "hideCode": true
   },
   "source": [
    "####  Analyze proposals results "
   ]
  },
  {
   "cell_type": "code",
   "execution_count": null,
   "metadata": {
    "ExecuteTime": {
     "end_time": "2018-05-16T14:16:27.148573Z",
     "start_time": "2018-05-16T14:16:25.527179Z"
    },
    "hideCode": true,
    "scrolled": true
   },
   "outputs": [],
   "source": [
    "sess = KB.get_session()\n",
    "with sess.as_default():\n",
    "    proposals = tf.identity(rpn_proposal_rois)  # <--- this uses the results from the model \n",
    "\n",
    "    bx_area = (proposals[...,2]-proposals[...,0])*(proposals[...,3]-proposals[...,1])\n",
    "    print(' proposals :', tf.shape(proposals).eval())\n",
    "    print(' box area : ', tf.shape(bx_area).eval())\n",
    "    \n",
    "    selected_idxs = tf.where(tf.less_equal(bx_area, (2/(128*128))) )\n",
    "    print('selected bx:', tf.shape(selected_idxs).eval())\n",
    "    \n",
    "    print(selected_idxs.eval())\n",
    "    selected_area      = tf.gather_nd(bx_area  , selected_idxs)\n",
    "    selected_proposals = tf.gather_nd(proposals, selected_idxs)\n",
    "    print('selected proposals shape', tf.shape(selected_proposals).eval())\n",
    "    print(selected_proposals[0:30].eval())\n",
    "    print('selected area shape', tf.shape(selected_area).eval())\n",
    "    print(selected_area[0:30].eval())\n",
    "    "
   ]
  },
  {
   "cell_type": "markdown",
   "metadata": {},
   "source": [
    "####  Analyze bounding box areas "
   ]
  },
  {
   "cell_type": "code",
   "execution_count": null,
   "metadata": {
    "ExecuteTime": {
     "end_time": "2018-05-16T10:44:24.008139Z",
     "start_time": "2018-05-16T10:44:09.624904Z"
    },
    "hideCode": true
   },
   "outputs": [],
   "source": [
    "with sess.as_default():\n",
    "    print(' boxes :', boxes.shape)\n",
    "    for i in [0,10,17,25,26,34,39]:\n",
    "        print(i, ' non-clipped ', boxes[0, i].eval())\n",
    "    bx_area = (boxes[...,2]-boxes[...,0])*(boxes[...,3]-boxes[...,1])\n",
    "    print(' box area : ', bx_area.shape)\n",
    "    np.set_printoptions(linewidth=130,precision=4,threshold=4096)\n",
    "    print(bx_area[:, :20].eval(session=sess))\n",
    "    small_idxs = tf.where(bx_area < 1)\n",
    "    print('small bx:', tf.shape(small_idxs).eval())\n",
    "    print(small_idxs[0:10].eval())\n",
    "    small_area  = tf.gather_nd(bx_area, small_idxs)\n",
    "    small_boxes = tf.gather_nd(boxes, small_idxs)\n",
    "    print('small boxes shape', tf.shape(small_boxes).eval())\n",
    "    print(small_boxes[0:30].eval())\n",
    "    print('small area shape', tf.shape(small_area).eval())\n",
    "    print(small_area[0:30].eval())\n",
    "    "
   ]
  },
  {
   "cell_type": "markdown",
   "metadata": {
    "hideCode": false
   },
   "source": [
    "## Detection Layer"
   ]
  },
  {
   "cell_type": "markdown",
   "metadata": {
    "hideCode": true
   },
   "source": [
    "####  Setup tensors to be passed to `detections_target_graph()`    - Detection Target Layer"
   ]
  },
  {
   "cell_type": "code",
   "execution_count": null,
   "metadata": {
    "ExecuteTime": {
     "end_time": "2018-05-16T21:12:07.570951Z",
     "start_time": "2018-05-16T21:12:03.473575Z"
    },
    "hideCode": true,
    "hideOutput": true,
    "scrolled": false
   },
   "outputs": [],
   "source": [
    "import mrcnn.utils  as utils\n",
    "from mrcnn.detect_tgt_layer import overlaps_graph\n",
    "# sess = KB.get_session()\n",
    "# with  sess.as_default():\n",
    "try:\n",
    "    sess.close()\n",
    "    print('session was deleted ')\n",
    "except:\n",
    "    print('Session was not defined ')\n",
    "    pass\n",
    "sess = tf.InteractiveSession()\n",
    "\n",
    "image_id = 1\n",
    "\n",
    "proposals    = KB.identity(rpn_proposal_rois)[image_id]\n",
    "gt_class_ids = KB.identity(input_gt_class_ids)[image_id]\n",
    "gt_boxes     = KB.cast(KB.identity(input_gt_bboxes_norm), dtype='float32')[image_id]\n",
    "# gt_masks     = KB.identity(input_gt_masks)\n",
    "print('rpn_roi_proposals')\n",
    "print(proposals.dtype, gt_class_ids.dtype, gt_boxes.dtype)\n",
    "print(proposals.shape)\n",
    "print(proposals.eval())\n",
    "print('gt_class_ids')\n",
    "print(gt_class_ids.shape)\n",
    "print(gt_class_ids.eval())\n",
    "print('gt_boxes')\n",
    "print(gt_boxes.shape)\n",
    "print(gt_boxes.eval())\n",
    "# proposals    = rpn_proposal_rois[1]\n",
    "# gt_class_ids = input_gt_class_ids[1]\n",
    "# gt_boxes     = input_normlzd_gt_boxes[1]\n",
    "# gt_masks     = input_gt_masks[1]\n",
    "# config       = model.config"
   ]
  },
  {
   "cell_type": "markdown",
   "metadata": {
    "hideCode": true
   },
   "source": [
    "### def `dev_detection_targets_graph`"
   ]
  },
  {
   "cell_type": "code",
   "execution_count": null,
   "metadata": {
    "ExecuteTime": {
     "end_time": "2018-05-16T20:13:21.213932Z",
     "start_time": "2018-05-16T20:13:19.686871Z"
    },
    "hideCode": true
   },
   "outputs": [],
   "source": [
    "# def dev_detection_targets_graph(proposals, gt_class_ids, gt_boxes, gt_masks, config):\n",
    " \n",
    "'''\n",
    "as of 16-0-2018\n",
    "Generates detection targets for one image. Subsamples proposals and\n",
    "generates target class IDs, bounding box deltas, and masks for each.\n",
    "\n",
    "Inputs:\n",
    "-------\n",
    "proposals:          [N, 2000, (y1, x1, y2, x2)] in normalized coordinates. \n",
    "                         Might be zero padded if there are not enough proposals.\n",
    "gt_class_ids:       [MAX_GT_INSTANCES] int class IDsMx2)] in normalized coordinates.\n",
    "gt_masks:           [height, width, MAX_GT_INSTANCES] of boolean type.\n",
    "\n",
    "Returns:            Target ROIs and corresponding class IDs, bounding box shifts, and masks.\n",
    "--------\n",
    "rois:               [TRAIN_ROIS_PER_IMAGE, (y1, x1, y2, x2)] in normalized coordinates\n",
    "class_ids:          [TRAIN_ROIS_PER_IMAGE]. Integer class IDs. Zero padded.\n",
    "deltas:             [TRAIN_ROIS_PER_IMAGE, NUM_CLASSES, (dy, dx, log(dh), log(dw))]\n",
    "                    Class-specific bbox refinments.\n",
    "masks:              [TRAIN_ROIS_PER_IMAGE, height, width). Masks cropped to bbox\n",
    "                    boundaries and resized to neural network output size.\n",
    "\n",
    "Note: Returned arrays might be zero padded if not enough target ROIs.\n",
    "\n",
    "''' \n",
    "# Assertions\n",
    "asserts = [\n",
    "    tf.Assert(tf.greater(tf.shape(proposals)[0], 0), [proposals], name=\"roi_assertion\"),\n",
    "]\n",
    "\n",
    "with tf.control_dependencies(asserts):\n",
    "    proposals = tf.identity(proposals)\n",
    "# print('>>> detection_targets_graph ')\n",
    "# print('     propsals.shape        :',  proposals.shape, proposals.get_shape(), KB.int_shape(proposals) )\n",
    "# print('     gt_boxes.shape        :',  gt_boxes.shape ,    KB.int_shape(gt_boxes)   )\n",
    "# print('     gt_class_ids.shape    :',  gt_class_ids.shape, KB.int_shape(gt_class_ids))\n",
    "# print('     gt_masks.shape        :',  gt_masks.shape ,    KB.int_shape(gt_masks)   )\n",
    "\n",
    "# Remove zero padding   \n",
    "# non_zeros returns indicies to valid bboxes, which we use to index gt_class_ids, and gt_masks\n",
    "proposals, non_zeros1= utils.trim_zeros_graph(proposals, name=\"trim_proposals\")\n",
    "gt_boxes, non_zeros = utils.trim_zeros_graph(gt_boxes , name=\"trim_gt_boxes\")\n",
    "gt_class_ids        = tf.boolean_mask(gt_class_ids, non_zeros, name=\"trim_gt_class_ids\")\n",
    "# gt_masks            = tf.gather(gt_masks, tf.where(non_zeros)[:, 0], axis=2,name=\"trim_gt_masks\")\n",
    "\n",
    "print(tf.reduce_all(non_zeros1).eval())\n",
    "print(tf.shape(proposals).eval())\n",
    "print(non_zeros.eval())\n",
    "print(tf.shape(gt_boxes).eval())\n",
    "print(gt_boxes.eval())\n",
    "\n",
    "#------------------------------------------------------------------------------------------\n",
    "# Handle COCO crowds\n",
    "# A crowd box in COCO is a bounding box around several instances. Exclude\n",
    "# them from training. A crowd box is given a negative class ID.\n",
    "#------------------------------------------------------------------------------------------\n",
    "# tf.where : returns the coordinates of true elements of  the specified conditon.\n",
    "#            The coordinates are returned in a 2-D tensor where the first dimension (rows) \n",
    "#            represents the number of true elements, and the second dimension (columns) \n",
    "#            represents the coordinates of the true elements. \n",
    "#            Keep in mind, the shape of the output tensor can vary depending on how many \n",
    "#            true values there are in input. Indices are output in row-major order.\n",
    "#\n",
    "# tf.gather: Gather slices from params axis (default = 0) according to indices.\n",
    "#            indices must be an integer tensor of any dimension (usually 0-D or 1-D). \n",
    "#            Produces an output tensor with shape:\n",
    "#                   params.shape[:axis] + indices.shape + params.shape[axis + 1:] \n",
    "#\n",
    "# tf.squeeze: Removes dimensions of size 1 from the shape of a tensor.\n",
    "#            Given a tensor input, this operation returns a tensor of the same type with \n",
    "#            all dimensions of size 1 removed. If you don't want to remove all size 1 \n",
    "#            dimensions, you can remove specific size 1 dimensions by specifying axis.\n",
    "#------------------------------------------------------------------------------------------\n",
    "\n",
    "crowd_ix        = tf.where(gt_class_ids < 0)[:, 0]\n",
    "non_crowd_ix    = tf.where(gt_class_ids > 0)[:, 0]\n",
    "crowd_boxes     = tf.gather(gt_boxes, crowd_ix)\n",
    "# crowd_masks     = tf.gather(gt_masks, crowd_ix, axis=2)\n",
    "gt_class_ids    = tf.gather(gt_class_ids, non_crowd_ix)\n",
    "gt_boxes        = tf.gather(gt_boxes, non_crowd_ix)\n",
    "# gt_masks        = tf.gather(gt_masks, non_crowd_ix, axis=2)\n",
    "print(non_crowd_ix.eval())\n",
    "print(gt_boxes.eval())\n",
    "\n",
    "# Compute overlaps with crowd boxes [anchors, crowds]\n",
    "crowd_overlaps  = overlaps_graph(proposals, crowd_boxes)\n",
    "crowd_iou_max   = tf.reduce_max(crowd_overlaps, axis=1)\n",
    "no_crowd_bool   = (crowd_iou_max < 0.001)\n",
    "\n",
    "# Compute overlaps matrix [proposals, gt_boxes] - The IoU between \n",
    "# proposals and gt_boxes (non-crowd gt boxes, designated by classId < 0 in Coco)\n",
    "# overlaps is \n",
    "# compute max of elements across axis 1 of overlaps tensor. "
   ]
  },
  {
   "cell_type": "code",
   "execution_count": null,
   "metadata": {
    "ExecuteTime": {
     "end_time": "2018-05-16T20:15:50.226820Z",
     "start_time": "2018-05-16T20:15:49.341966Z"
    },
    "hideCode": true
   },
   "outputs": [],
   "source": [
    "np.set_printoptions(linewidth=150, precision=6, suppress = True)\n",
    "overlaps        = overlaps_graph(proposals, gt_boxes)\n",
    "print(tf.shape(overlaps).eval())\n",
    "print(overlaps[0:500].eval())"
   ]
  },
  {
   "cell_type": "code",
   "execution_count": null,
   "metadata": {
    "ExecuteTime": {
     "end_time": "2018-05-16T20:10:55.340816Z",
     "start_time": "2018-05-16T20:10:52.190165Z"
    },
    "hideCode": true
   },
   "outputs": [],
   "source": [
    "roi_iou_max     = tf.reduce_max(overlaps, axis=1)\n",
    "print('     overlaps.shape        :',  tf.shape(overlaps).eval())\n",
    "print(overlaps.eval())\n",
    "zero_idxs = tf.where(tf.greater_equal(overlaps,0.5))\n",
    "print(tf.shape(zero_idxs).eval())\n",
    "\n",
    "## 1. Determine indices of postive ROI propsal boxes\n",
    "#    Identify ROI proposal boxes that have an IoU >= 05 overlap with some gt_box, and store \n",
    "#    indices into positive_indices\n",
    "positive_roi_bool     = (roi_iou_max >= 0.5)\n",
    "positive_indices      = tf.where(positive_roi_bool)[:,0]\n",
    "print(tf.shape(positive_roi_bool).eval())\n",
    "print(tf.shape(positive_indices).eval())\n",
    "print(positive_indices.eval())\n",
    "\n",
    "\n",
    "\n",
    "## 2. Determine indices of negative ROI proposal boxes\n",
    "#    those with < 0.5 with every GT box and are not crowds bboxes \n",
    "# the where creates a array with shape [# of answers, 1] so we use [:, 0] after\n",
    "## current method\n",
    "negative_indices      = tf.where(tf.logical_and(roi_iou_max < 0.5, no_crowd_bool))[:, 0]\n",
    "\n",
    "## new method\n",
    "# this modification will determine negative ROI proposal boxes but in addition, \n",
    "# will suppress the zero RoIs from the indicies \n",
    "# note that   ( negative_bool         = ~positive_roi_bool)\n",
    "# negative_nonzero_bool = tf.logical_and(~positive_roi_bool, (roi_iou_max > 0))\n",
    "# negative_nonzero_bool = tf.logical_and(negative_nonzero_bool, no_crowd_bool)\n",
    "# negative_indices2     = tf.where(negative_nonzero_bool) [:, 0]\n",
    "\n",
    "## 3. Subsample positive ROIs based on ROI_POSITIVE_RATIO\n",
    "#    Aim for 33% positive (config.ROI_POSITIVE_RATIO = 0.33)\n",
    "#    Positive ROIs   33% of config.TRAIN_ROIS_PER_IMAGE ~  11\n",
    "positive_count        = int(config.TRAIN_ROIS_PER_IMAGE * config.ROI_POSITIVE_RATIO)\n",
    "positive_indices      = tf.random_shuffle(positive_indices)[:positive_count]\n",
    "positive_count        = tf.shape(positive_indices)[0]\n",
    "\n",
    "print(positive_indices.eval())\n",
    "print(positive_count.eval())\n",
    "\n",
    "## 4. Add Negative ROIs. Add enough to maintain positive:negative ratio\n",
    "#     negative_count = int((positive_count / config.ROI_POSITIVE_RATIO) - positive_count)\n",
    "r = 1.0 / config.ROI_POSITIVE_RATIO\n",
    "negative_count        = tf.cast(r * tf.cast(positive_count, tf.float32), tf.int32) - positive_count\n",
    "negative_indices      = tf.random_shuffle(negative_indices)[:negative_count]\n",
    "\n",
    "## 5.   Gather selected positive and negative ROIs\n",
    "positive_rois         = tf.gather(proposals, positive_indices)\n",
    "negative_rois         = tf.gather(proposals, negative_indices)\n",
    "print(positive_rois.eval())\n",
    "\n",
    "## 6.   Assign positive ROIs to GT boxes.\n",
    "#      roi_gt_box_assignment shows for each positive overlap, which class has the maximum overlap\n",
    "positive_overlaps     = tf.gather(overlaps, positive_indices)\n",
    "roi_gt_box_assignment = tf.argmax(positive_overlaps, axis=1)\n",
    "roi_gt_boxes          = tf.gather(gt_boxes    , roi_gt_box_assignment)\n",
    "roi_gt_class_ids      = tf.gather(gt_class_ids, roi_gt_box_assignment)\n",
    "\n",
    "print('     shape of positive overlaps is :', positive_overlaps.get_shape())\n",
    "print(roi_gt_box_assignment.eval())\n",
    "print(positive_overlaps.eval())\n",
    "\n",
    "## 7.   Compute bbox delta \n",
    "# calculate refinement (difference b/w positive rois and gt_boxes) for positive ROIs\n",
    "roi_gt_deltas  = utils.box_refinement_graph(positive_rois, roi_gt_boxes)\n",
    "roi_gt_deltas /= config.BBOX_STD_DEV\n",
    "\n",
    "## 8.  prepare gt_masks \n",
    "#      transpose gt_masks from [h, w, N] to [N, height, width] and add 4th dim at end [N, height, width, 1]\n",
    "#      Pick the right mask for each ROI\n",
    "# transposed_masks = tf.expand_dims(tf.transpose(gt_masks, [2, 0, 1]), -1)\n",
    "# roi_masks = tf.gather(transposed_masks, roi_gt_box_assignment)\n",
    "\n",
    "# Compute mask targets\n",
    "# boxes = positive_rois\n",
    "\n",
    "# if config.USE_MINI_MASK:\n",
    "    # Transform ROI corrdinates from normalized image space\n",
    "    # to normalized mini-mask space.\n",
    "    # y1, x1, y2, x2 = tf.split(positive_rois, 4, axis=1)\n",
    "    # gt_y1, gt_x1, gt_y2, gt_x2 = tf.split(roi_gt_boxes, 4, axis=1)\n",
    "    # gt_h = gt_y2 - gt_y1\n",
    "    # gt_w = gt_x2 - gt_x1\n",
    "    # y1 = (y1 - gt_y1) / gt_h\n",
    "    # x1 = (x1 - gt_x1) / gt_w\n",
    "    # y2 = (y2 - gt_y1) / gt_h\n",
    "    # x2 = (x2 - gt_x1) / gt_w\n",
    "    # boxes = tf.concat([y1, x1, y2, x2], 1)\n",
    "\n",
    "# box_ids = tf.range(0, tf.shape(roi_masks)[0])\n",
    "# masks   = tf.image.crop_and_resize(tf.cast(roi_masks, tf.float32), \n",
    "                                   # boxes,\n",
    "                                   # box_ids,\n",
    "                                   # config.MASK_SHAPE)\n",
    "\n",
    "# Remove the extra dimension from masks.\n",
    "# masks = tf.squeeze(masks, axis=3)\n",
    "\n",
    "# Threshold mask pixels at 0.5 to have GT masks be 0 or 1 to use with\n",
    "# binary cross entropy loss.\n",
    "# masks = tf.round(masks)\n",
    "\n",
    "# Append negative ROIs and pad bbox roi_gt_deltas and masks that\n",
    "# are not used for negative ROIs with zeros.\n",
    "rois             = tf.concat([positive_rois, negative_rois], axis=0)\n",
    "N                = tf.shape(negative_rois)[0]\n",
    "P                = tf.maximum(config.TRAIN_ROIS_PER_IMAGE - tf.shape(rois)[0], 0)\n",
    "rois             = tf.pad(rois            , [(0, P ), (0, 0)])\n",
    "\n",
    "roi_gt_boxes     = tf.pad(roi_gt_boxes    , [(0, N + P), (0, 0)])\n",
    "roi_gt_class_ids = tf.pad(roi_gt_class_ids, [(0, N + P)])\n",
    "roi_gt_deltas    = tf.pad(roi_gt_deltas   , [(0, N + P), (0, 0)])\n",
    "# masks            = tf.pad(masks           , [[0, N + P], (0, 0), (0, 0)])\n",
    "\n",
    "# print(' roi_gt_boxes :  ' , tf.shape(roi_gt_boxes) )\n",
    "# print(' P:  ' , P,  ' N :    ', N)   \n",
    "# print('     roi.shape             :',  rois.shape            , tf.shape(rois))\n",
    "# print('     roi_gt_class_ids.shape:',  roi_gt_class_ids.shape, tf.shape(roi_gt_class_ids))\n",
    "# print('     roi_gt_deltas.shape   :',  roi_gt_deltas.shape   , tf.shape(roi_gt_deltas))\n",
    "# print('     masks.shape           :',  masks.shape           , tf.shape(masks))\n",
    "# print('     roi_gt_boxes.shape    :',  roi_gt_boxes.shape    , tf.shape(roi_gt_boxes))\n",
    "\n",
    "#     return rois, roi_gt_class_ids,  roi_gt_deltas, roi_gt_boxes\n",
    "#     return positive_ind_shuffled, positive_indices, positive_overlaps, roi_gt_box_assignment, roi_gt_boxes, roi_gt_class_ids"
   ]
  },
  {
   "cell_type": "code",
   "execution_count": null,
   "metadata": {
    "ExecuteTime": {
     "end_time": "2018-05-16T20:11:00.750967Z",
     "start_time": "2018-05-16T20:11:00.015541Z"
    },
    "hideCode": true
   },
   "outputs": [],
   "source": [
    "print(tf.shape(rois).eval())\n",
    "print(rois.eval())\n",
    "print(roi_gt_class_ids.eval())\n",
    "print(gt_class_ids.eval())\n",
    "print(gt_boxes.eval())"
   ]
  },
  {
   "cell_type": "code",
   "execution_count": null,
   "metadata": {
    "ExecuteTime": {
     "end_time": "2018-05-13T08:56:24.034780Z",
     "start_time": "2018-05-13T08:56:23.208821Z"
    },
    "hideCode": true,
    "hidePrompt": false
   },
   "outputs": [],
   "source": [
    "# sess = tf.InteractiveSession()\n",
    "sess = KB.get_session()\n",
    "# print(input_gt_boxes[0].eval())\n",
    "# print(input_normlzd_gt_boxes[0].eval())\n",
    "# print(norm_output_rois[0].eval(session=sess))\n"
   ]
  }
 ],
 "metadata": {
  "anaconda-cloud": {},
  "celltoolbar": "Hide code",
  "hide_code_all_hidden": false,
  "kernelspec": {
   "display_name": "Python 3",
   "language": "python",
   "name": "python3"
  },
  "language_info": {
   "codemirror_mode": {
    "name": "ipython",
    "version": 3
   },
   "file_extension": ".py",
   "mimetype": "text/x-python",
   "name": "python",
   "nbconvert_exporter": "python",
   "pygments_lexer": "ipython3",
   "version": "3.5.4"
  }
 },
 "nbformat": 4,
 "nbformat_minor": 2
}
