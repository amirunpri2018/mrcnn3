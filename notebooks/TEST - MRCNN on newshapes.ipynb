{
 "cells": [
  {
   "cell_type": "markdown",
   "metadata": {},
   "source": [
    "# Mask R-CNN - Test on NewShapes Dataset \n",
    "### With placing objects in unexpected locations \n",
    "\n",
    "Run the Mask R-CNN net in inference mode, with the additional PCILayer that generates the context-based tensor "
   ]
  },
  {
   "cell_type": "code",
   "execution_count": 1,
   "metadata": {
    "ExecuteTime": {
     "end_time": "2018-06-22T11:24:37.896772Z",
     "start_time": "2018-06-22T11:24:17.111364Z"
    },
    "hideCode": false,
    "hidePrompt": false,
    "scrolled": true
   },
   "outputs": [
    {
     "data": {
      "text/html": [
       "<style>.container { width:95% !important; }</style>"
      ],
      "text/plain": [
       "<IPython.core.display.HTML object>"
      ]
     },
     "metadata": {},
     "output_type": "display_data"
    },
    {
     "name": "stderr",
     "output_type": "stream",
     "text": [
      "D:\\Program Files\\Anaconda3\\envs\\TF_gpu\\lib\\site-packages\\h5py\\__init__.py:36: FutureWarning: Conversion of the second argument of issubdtype from `float` to `np.floating` is deprecated. In future, it will be treated as `np.float64 == np.dtype(float).type`.\n",
      "  from ._conv import register_converters as _register_converters\n",
      "Using TensorFlow backend.\n"
     ]
    },
    {
     "name": "stdout",
     "output_type": "stream",
     "text": [
      " windows  Windows\n",
      "Tensorflow Version: 1.6.0   Keras Version : 2.1.4 \n",
      " Initialize config object - super\n",
      "(56, 56)\n",
      " Min Shapes Per Image:  1\n",
      " Max Shapes Per Image:  15\n",
      ">>> Initialize model WITHOUT MASKING LAYERS!!!!\n",
      "    set_log_dir: Checkpoint path set to : E:\\models\\newshape_fcn\\shapes20180622T1324\\mask_rcnn_shapes_{epoch:04d}.h5\n",
      "    set_log_dir: self.epoch set to 0 \n",
      "\n",
      ">>> Resnet Graph \n",
      "     Input_image shape : (?, 128, 128, 3)\n",
      "     After ZeroPadding2D  : (?, 134, 134, 3) (?, 134, 134, 3)\n",
      "     After Conv2D padding : (?, 64, 64, 64) (?, 64, 64, 64)\n",
      "     After BatchNorm      : (?, 64, 64, 64) (?, 64, 64, 64)\n",
      "     C1 Shape: (?, 32, 32, 64) (?, 32, 32, 64)\n",
      "     C2 Shape:  (?, 32, 32, 256) (?, 32, 32, 256)\n",
      "     C3 Shape:  (?, 16, 16, 512) (?, 16, 16, 512)\n",
      "     C4 Shape:  (?, 8, 8, 1024) (?, 8, 8, 1024)\n",
      "     C5 Shape:  (?, 4, 4, 2048) (?, 4, 4, 2048)\n",
      "\n",
      ">>> Feature Pyramid Network (FPN) Graph \n",
      "     FPN P2 shape : (None, 32, 32, 256)\n",
      "     FPN P3 shape : (None, 16, 16, 256)\n",
      "     FPN P4 shape : (None, 8, 8, 256)\n",
      "     FPN P5 shape : (None, 4, 4, 256)\n",
      "     FPN P6 shape : (None, 2, 2, 256)\n",
      "\n",
      ">>> RPN Layer \n",
      "     Input_feature_map shape : (?, ?, ?, 256)\n",
      "     anchors_per_location    : 3\n",
      "     depth                   : 256\n",
      "     Input_feature_map shape : (?, ?, ?, 256)\n",
      "     anchors_per_location    : 3\n",
      "     anchor_stride           : 1\n",
      "\n",
      ">>> RPN Outputs  <class 'list'>\n",
      "      rpn_class_logits/rpn_class_logits:0\n",
      "      rpn_class/rpn_class:0\n",
      "      rpn_bbox/rpn_bbox:0\n",
      "\n",
      ">>> Proposal Layer - generate  1000  proposals\n",
      "    Init complete. Size of anchors:  (4092, 4)\n",
      "     Scores :  (1, 4092)\n",
      "     Deltas :  (1, 4092, 4)\n",
      "     Anchors:  (1, 4092, 4)\n",
      "     Boxes shape / type after processing: \n",
      "     Output: Prposals shape :  (1, ?, ?) (1, None, None)\n",
      "\n",
      ">>> FPN Classifier Graph \n",
      "     rois shape          : (1, ?, ?)\n",
      "     No of feature_maps  : 4\n",
      "        feature_maps shape  : (?, 32, 32, 256)\n",
      "        feature_maps shape  : (?, 16, 16, 256)\n",
      "        feature_maps shape  : (?, 8, 8, 256)\n",
      "        feature_maps shape  : (?, 4, 4, 256)\n",
      "     input_shape         : [128 128   3]\n",
      "     pool_size           : 7\n",
      "   > PyramidRoI Alignment Layer Call()  5\n",
      "     boxes.shape    : (None, 1000, 4)\n",
      "     roi_align_classifier output shape is :  (1, ?, 7, 7, 256) (1, ?, 7, 7, 256)\n",
      "     mrcnn_class_conv1    output shape is :  (?, 1000, 1, 1, 1024)\n",
      "     mrcnn_class_bn1      output shape is :  (?, 1000, 1, 1, 1024)\n",
      "     mrcnn_class_relu1    output shape is :  (?, 1000, 1, 1, 1024)\n",
      "     mrcnn_class_conv2 output shape is :  (?, 1000, 1, 1, 1024)\n",
      "     mrcnn_class_bn2      output shape is :  (?, 1000, 1, 1, 1024)\n",
      "     mrcnn_class_relu2    output shape is :  (?, 1000, 1, 1, 1024)\n",
      "     pool_squeeze(Shared) output shape is :  (?, 1000, 1024)\n",
      "     mrcnn_class_logits   output shape is :  (?, 1000, 7)\n",
      "     mrcnn_class_probs    output shape is :  (?, 1000, 7)\n",
      "   mrcnn_bbox_fc        output shape is :  (?, 1000, 28)\n",
      "   mrcnn_bbox           output shape is :  (?, 1000, 7, 4)\n",
      "\n",
      ">>> Detection Layer (Inference Mode)\n",
      "    Detection Layer : call()  <class 'list'> 4\n",
      "     rpn_proposals_roi  : (1, ?, ?) (1, ?, ?) (None, 1000, 4)\n",
      "     mrcnn_class.shape  : (?, 1000, 7) (?, 1000, 7) (None, 1000, 7)\n",
      "     mrcnn_bboxes.shape : (?, 1000, 7, 4) (?, 1000, 7, 4) (None, 1000, 7, 4)\n",
      "     input_image_meta   : (?, ?) (?, ?) (None, None)\n",
      "<<<  shape of DETECTIONS :  (None, 100, 6)  Keras tensor  True\n",
      "<<<  shape of DETECTION_BOXES :  (None, 100, 4)  Keras tensor  True\n",
      "\n",
      ">>> CHM Inference  \n",
      "   > CHM Inference Layer: call  <class 'list'> 1\n",
      "     detections.shape     : (None, 100, 6)\n",
      "\n",
      "  > build_predictions Inference mode ()\n",
      "    config image shape:  [128 128   3] h: 128 w: 128\n",
      "    num_rois          :  100\n",
      "    num_cols          :  6\n",
      "    detected_rois.shape :  Tensor(\"cntxt_layer/Shape:0\", shape=(?,), dtype=int32) (None, 100, 6)\n",
      "\n",
      " \n",
      "  > NEW build_heatmap() for  ['pred_heatmap']\n",
      "    orignal in_tensor shape :  (1, 7, 100, 6)\n",
      "    num of bboxes per class is :  100\n",
      "    pt2_sum shape  (1, 7, 100)\n",
      "    dense shape  (?, 6)\n",
      "    X/Y shapes : (128, 128) (128, 128)\n",
      "    Ones:     (?, 1, 1)\n",
      "    ones_exp * X (?, 1, 1) * (128, 128) =  (?, 128, 128)\n",
      "    ones_exp * Y (?, 1, 1) * (128, 128) =  (?, 128, 128)\n",
      "    before transpse  (?, 128, 128, 2)\n",
      "    after transpose  (128, 128, ?, 2)\n",
      "     Prob_grid shape before tanspose:  (128, 128, ?)\n",
      "     Prob_grid shape after tanspose:  (?, 128, 128)\n",
      "    >> input to MVN.PROB: pos_grid (meshgrid) shape:  (128, 128, ?, 2)\n",
      "    << output probabilities shape: (?, 128, 128)\n",
      "\n",
      "    Scatter out the probability distributions based on class --------------\n",
      "    pt2_ind shape   :  (?, 3)\n",
      "    prob_grid shape :  (?, 128, 128)\n",
      "    gauss_scatt     :  (1, 7, 100, 128, 128)\n",
      "\n",
      "    Reduce sum based on class ---------------------------------------------\n",
      "    gaussian_sum shape     :  (1, 7, 128, 128) Keras tensor  False\n",
      "WARNING:tensorflow:From D:\\Program Files\\Anaconda3\\envs\\TF_gpu\\lib\\site-packages\\keras\\backend\\tensorflow_backend.py:3157: calling l2_normalize (from tensorflow.python.ops.nn_impl) with dim is deprecated and will be removed in a future version.\n",
      "Instructions for updating:\n",
      "dim is deprecated, use axis instead\n",
      "    gauss L2 norm   :  (1, 7, 128, 128)  Keras tensor  False\n",
      "\n",
      "    normalization ------------------------------------------------------\n",
      "    gauss norm   :  (1, 7, 128, 128)  Keras tensor  False\n",
      "    in_tensor                (1, 7, 100, 6)\n",
      "    in_tensorr_flattened is  (?, ?)\n",
      "    boxes shape              (?, ?)\n",
      "    Rois per image        :  100\n",
      "    heatmap original shape  :  (1, 7, 128, 128)\n",
      "    heatmap replicated      :  (1, 7, 100, 128, 128)\n",
      "    heatmap flattened       :  (700, 128, 128)\n",
      "    in_tensor_flattened     :  (?, ?)\n",
      "    Scores shape            :  (700, 3)\n",
      "    boxes_scores (rehspaed) :  (?, ?, ?, ?)\n",
      "    gauss_heatmap final shape :  (1, 128, 128, 7)  Keras tensor  False\n",
      "    gauss_scores  final shape :  (?, ?, ?, ?)  Keras tensor  False\n",
      "    complete\n",
      "\n",
      "    Output build_heatmap \n",
      "     pred_cls_cnt shape :  (1, 7) Keras tensor  True\n",
      "     pred_heatmap_norm  :  (1, 128, 128, 7) Keras tensor  False\n",
      "     pred_heatmap_scores:  (?, ?, ?, ?) Keras tensor  False\n",
      "     complete\n",
      "<<<  shape of pred_tensor   :  (1, 7, 100, 6)  Keras tensor  True\n",
      "---------------------------------------------------\n",
      "    Adding  FCN layers\n",
      "---------------------------------------------------\n",
      "\n",
      ">>> FCN Layer \n",
      "     feature map shape is  (1, 128, 128, 7)\n",
      "     height : 128 width : 128 classes : 7\n",
      "     image_data_format:  channels_last\n",
      "     rois_per_class   :  channels_last\n",
      "   FCN Block 11 shape is :  (1, 128, 128, 64)\n",
      "   FCN Block 12 shape is :  (1, 128, 128, 64)\n",
      "   FCN Block 13 shape is :  (1, 64, 64, 64)\n",
      "   FCN Block 21 shape is :  (1, 64, 64, 128)\n",
      "   FCN Block 22 shape is :  (1, 64, 64, 128)\n",
      "   FCN Block 23 (Max pooling) shape is :  (1, 32, 32, 128)\n",
      "   FCN Block 31 shape is :  (1, 32, 32, 256)\n",
      "   FCN Block 32 shape is :  (1, 32, 32, 256)\n",
      "   FCN Block 33 shape is :  (1, 32, 32, 256)\n",
      "   FCN Block 34 (Max pooling) shape is :  (1, 16, 16, 256)\n",
      "   FCN fully connected 1 (fcn_fc1) shape is :  (1, 16, 16, 1024)\n",
      "   FCN fully connected 2 (fcn_fc2) shape is :  (1, 16, 16, 1024)\n",
      "   FCN final conv2d (fcn_classify) shape is :  (1, 16, 16, 7)  keras_tensor  True\n",
      "   h_factor :  8.0 w_factor :  8.0\n",
      "\n",
      ">>> BilinearUpSampling2D layer\n",
      "     data_format :  channels_last\n",
      "     size        :  (8.0, 8.0)\n",
      "     target_size :  None\n",
      "     input_spec  :  [InputSpec(ndim=4)]\n",
      "     call resize_images_bilinear with size:  (8.0, 8.0)\n",
      "     CHANNELS LAST: X:  (1, 16, 16, 7)  KB.int_shape() :  (None, 16, 16, 7)\n",
      "     target_height   :  None  target_width  :  None\n",
      "     new_shape (2):  (2,) (2,)\n",
      "     new_shape (3):  (2,) (2,)\n",
      "     X after image.resize_bilinear:  (1, ?, ?, 7)\n",
      "     Dimensions of X after set_shape() :  (1, 128, 128, 7)\n",
      "     BilinearUpSampling2D. compute_output_shape()\n",
      "     Bilinear output shape is: None , 128 , 128 , 7\n",
      "   FCN Bilinear upsmapling layer  shape is :  (1, 128, 128, 7)  Keras tensor  True\n",
      "\n",
      "\n",
      "    L2 normalization ------------------------------------------------------\n",
      "\n",
      "    normalization ------------------------------------------------------\n",
      "     size of reduce max is  (1, 1, 1, 7)\n",
      "     size of y is :  (1, 128, 128, 7)\n",
      "     size of reduce max is  (?, 1, 1, 7)\n",
      "     size of y is :  (?, 128, 128, 7)\n",
      "    fcn_heatmap       :  (1, 128, 128, 7)  Keras tensor  True\n",
      "    fcn_heatmap_norm  :  (1, 128, 128, 7)  Keras tensor  True\n",
      "    fcn_heatmap_L2norm:  (1, 128, 128, 7)  Keras tensor  True\n",
      "   fcn_heatmap      :  (None, 128, 128, 7)  Keras tensor  True\n",
      "   fcn_heatmap_norm :  (None, 128, 128, 7)  Keras tensor  True\n",
      "\n",
      ">>> FCN Scoring Layer \n",
      "   > FCNScoreLayer Call()  2\n",
      "     fcn_heatmap.shape    : (1, 128, 128, 7) (None, 128, 128, 7)\n",
      "      chm_scores.shape    : (?, ?, ?, ?) (None, 7, 100, 11)\n",
      "\n",
      " \n",
      "  > NEW build_heatmap() for  <mrcnn.new_shapes.NewShapesConfig object at 0x000001FD65B340B8>\n",
      "    orignal in_heatmap shape :  (1, 128, 128, 7)\n",
      "    num of bboxes per class is :  100\n",
      "    Rois per image  :  100\n",
      "    heatmap original shape   :  (1, 128, 128, 7)\n",
      "    heatmap transposed shape : (1, 7, 128, 128)\n",
      "    heatmap tiled            :  (1, 7, 100, 128, 128)\n"
     ]
    },
    {
     "name": "stdout",
     "output_type": "stream",
     "text": [
      "    fcn_scores  final shape :  (?, ?, ?, ?)  Keras tensor  False\n",
      "    complete\n",
      "\n",
      "    Output build_fcn_score \n",
      "     pred_heatmap_norm  :  (?, ?, ?, ?) Keras tensor  False\n",
      "     complete\n",
      " ================================================================\n",
      " self.keras_model.losses :  0\n",
      "[]\n",
      " ================================================================\n",
      "\n",
      ">>> MODIFIED MaskRCNN build complete -- WITHOUT MASKING LAYERS!!!!\n",
      ">>> MODIFIED MaskRCNN initialization complete -- WITHOUT MASKING LAYERS!!!!\n",
      " COCO Model Path       :  E:\\models\\mask_rcnn_coco.h5\n",
      " Checkpoint folder Path:  E:\\models\\newshape_fcn\n",
      " Model Parent Path     :  E:\\models\n",
      " Resent Model Path     :  E:\\models\\resnet50_weights_tf_dim_ordering_tf_kernels_notop.h5\n",
      "-----------------------------------------------\n",
      " Load model with init parm:  E:\\Models\\newshape_fcn\\\\mask_rcnn_shapes_0351.h5\n",
      " Eclude layers: \n",
      "None\n",
      "-----------------------------------------------\n",
      "Loading weights from  E:\\Models\\newshape_fcn\\\\mask_rcnn_shapes_0351.h5\n",
      ">>> load_weights()\n",
      "    load_weights: Loading weights from: E:\\Models\\newshape_fcn\\\\mask_rcnn_shapes_0351.h5\n",
      "\n",
      "\n",
      "\n",
      "--------------------\n",
      " List of all Layers  \n",
      "--------------------\n",
      "\n",
      "\n",
      "\n",
      ">layer 0 : name : input_image                               type: <keras.engine.topology.InputLayer object at 0x000001FD6F86B278>\n",
      ">layer 1 : name : zero_padding2d_1                          type: <keras.layers.convolutional.ZeroPadding2D object at 0x000001FD73B8A6A0>\n",
      ">layer 2 : name : conv1                                     type: <keras.layers.convolutional.Conv2D object at 0x000001FD73B8AF98>\n",
      ">layer 3 : name : bn_conv1                                  type: <mrcnn.batchnorm_layer.BatchNorm object at 0x000001FD73B8A860>\n",
      ">layer 4 : name : activation_1                              type: <keras.layers.core.Activation object at 0x000001FD740C9D30>\n",
      ">layer 5 : name : max_pooling2d_1                           type: <keras.layers.pooling.MaxPooling2D object at 0x000001FD740D6E80>\n",
      ">layer 6 : name : res2a_branch2a                            type: <keras.layers.convolutional.Conv2D object at 0x000001FD740F1B00>\n",
      ">layer 7 : name : bn2a_branch2a                             type: <mrcnn.batchnorm_layer.BatchNorm object at 0x000001FD740B6978>\n",
      ">layer 8 : name : activation_2                              type: <keras.layers.core.Activation object at 0x000001FD74114C50>\n",
      ">layer 9 : name : res2a_branch2b                            type: <keras.layers.convolutional.Conv2D object at 0x000001FD7416EB70>\n",
      ">layer 10 : name : bn2a_branch2b                             type: <mrcnn.batchnorm_layer.BatchNorm object at 0x000001FD7413FEB8>\n",
      ">layer 11 : name : activation_3                              type: <keras.layers.core.Activation object at 0x000001FD74157198>\n",
      ">layer 12 : name : res2a_branch2c                            type: <keras.layers.convolutional.Conv2D object at 0x000001FD7419B0F0>\n",
      ">layer 13 : name : res2a_branch1                             type: <keras.layers.convolutional.Conv2D object at 0x000001FD741D8D30>\n",
      ">layer 14 : name : bn2a_branch2c                             type: <mrcnn.batchnorm_layer.BatchNorm object at 0x000001FD7417DEB8>\n",
      ">layer 15 : name : bn2a_branch1                              type: <mrcnn.batchnorm_layer.BatchNorm object at 0x000001FD74201E80>\n",
      ">layer 16 : name : add_1                                     type: <keras.layers.merge.Add object at 0x000001FD7421BE80>\n",
      ">layer 17 : name : res2a_out                                 type: <keras.layers.core.Activation object at 0x000001FD74233320>\n",
      ">layer 18 : name : res2b_branch2a                            type: <keras.layers.convolutional.Conv2D object at 0x000001FD74233C18>\n",
      ">layer 19 : name : bn2b_branch2a                             type: <mrcnn.batchnorm_layer.BatchNorm object at 0x000001FD7428BC18>\n",
      ">layer 20 : name : activation_4                              type: <keras.layers.core.Activation object at 0x000001FD74275550>\n",
      ">layer 21 : name : res2b_branch2b                            type: <keras.layers.convolutional.Conv2D object at 0x000001FD742C2748>\n",
      ">layer 22 : name : bn2b_branch2b                             type: <mrcnn.batchnorm_layer.BatchNorm object at 0x000001FD742ADD68>\n",
      ">layer 23 : name : activation_5                              type: <keras.layers.core.Activation object at 0x000001FD742F6F98>\n",
      ">layer 24 : name : res2b_branch2c                            type: <keras.layers.convolutional.Conv2D object at 0x000001FD74312978>\n",
      ">layer 25 : name : bn2b_branch2c                             type: <mrcnn.batchnorm_layer.BatchNorm object at 0x000001FD74320D68>\n",
      ">layer 26 : name : add_2                                     type: <keras.layers.merge.Add object at 0x000001FD74337FD0>\n",
      ">layer 27 : name : res2b_out                                 type: <keras.layers.core.Activation object at 0x000001FD74370CC0>\n",
      ">layer 28 : name : res2c_branch2a                            type: <keras.layers.convolutional.Conv2D object at 0x000001FD743706A0>\n",
      ">layer 29 : name : bn2c_branch2a                             type: <mrcnn.batchnorm_layer.BatchNorm object at 0x000001FD74360EF0>\n",
      ">layer 30 : name : activation_6                              type: <keras.layers.core.Activation object at 0x000001FD7439F588>\n",
      ">layer 31 : name : res2c_branch2b                            type: <keras.layers.convolutional.Conv2D object at 0x000001FD743EE9E8>\n",
      ">layer 32 : name : bn2c_branch2b                             type: <mrcnn.batchnorm_layer.BatchNorm object at 0x000001FD743E2EB8>\n",
      ">layer 33 : name : activation_7                              type: <keras.layers.core.Activation object at 0x000001FD74416E10>\n",
      ">layer 34 : name : res2c_branch2c                            type: <keras.layers.convolutional.Conv2D object at 0x000001FD74433DA0>\n",
      ">layer 35 : name : bn2c_branch2c                             type: <mrcnn.batchnorm_layer.BatchNorm object at 0x000001FD74433FD0>\n",
      ">layer 36 : name : add_3                                     type: <keras.layers.merge.Add object at 0x000001FD7447D9B0>\n",
      ">layer 37 : name : res2c_out                                 type: <keras.layers.core.Activation object at 0x000001FD744A69B0>\n",
      ">layer 38 : name : res3a_branch2a                            type: <keras.layers.convolutional.Conv2D object at 0x000001FD744A6B38>\n",
      ">layer 39 : name : bn3a_branch2a                             type: <mrcnn.batchnorm_layer.BatchNorm object at 0x000001FD744B6D30>\n",
      ">layer 40 : name : activation_8                              type: <keras.layers.core.Activation object at 0x000001FD744BFBE0>\n",
      ">layer 41 : name : res3a_branch2b                            type: <keras.layers.convolutional.Conv2D object at 0x000001FD744F7F98>\n",
      ">layer 42 : name : bn3a_branch2b                             type: <mrcnn.batchnorm_layer.BatchNorm object at 0x000001FD74507BA8>\n",
      ">layer 43 : name : activation_9                              type: <keras.layers.core.Activation object at 0x000001FD7451C4A8>\n",
      ">layer 44 : name : res3a_branch2c                            type: <keras.layers.convolutional.Conv2D object at 0x000001FD74541B38>\n",
      ">layer 45 : name : res3a_branch1                             type: <keras.layers.convolutional.Conv2D object at 0x000001FD7459FE10>\n",
      ">layer 46 : name : bn3a_branch2c                             type: <mrcnn.batchnorm_layer.BatchNorm object at 0x000001FD7456A3C8>\n",
      ">layer 47 : name : bn3a_branch1                              type: <mrcnn.batchnorm_layer.BatchNorm object at 0x000001FD745C9F60>\n",
      ">layer 48 : name : add_4                                     type: <keras.layers.merge.Add object at 0x000001FD745E1F98>\n",
      ">layer 49 : name : res3a_out                                 type: <keras.layers.core.Activation object at 0x000001FD745EDB70>\n",
      ">layer 50 : name : res3b_branch2a                            type: <keras.layers.convolutional.Conv2D object at 0x000001FD746264A8>\n",
      ">layer 51 : name : bn3b_branch2a                             type: <mrcnn.batchnorm_layer.BatchNorm object at 0x000001FD74626C88>\n",
      ">layer 52 : name : activation_10                             type: <keras.layers.core.Activation object at 0x000001FD74664E10>\n",
      ">layer 53 : name : res3b_branch2b                            type: <keras.layers.convolutional.Conv2D object at 0x000001FD7468B6A0>\n",
      ">layer 54 : name : bn3b_branch2b                             type: <mrcnn.batchnorm_layer.BatchNorm object at 0x000001FD74681320>\n",
      ">layer 55 : name : activation_11                             type: <keras.layers.core.Activation object at 0x000001FD746A4CF8>\n",
      ">layer 56 : name : res3b_branch2c                            type: <keras.layers.convolutional.Conv2D object at 0x000001FD746EBD68>\n",
      ">layer 57 : name : bn3b_branch2c                             type: <mrcnn.batchnorm_layer.BatchNorm object at 0x000001FD746EBDA0>\n",
      ">layer 58 : name : add_5                                     type: <keras.layers.merge.Add object at 0x000001FD74701E48>\n",
      ">layer 59 : name : res3b_out                                 type: <keras.layers.core.Activation object at 0x000001FD74747C88>\n",
      ">layer 60 : name : res3c_branch2a                            type: <keras.layers.convolutional.Conv2D object at 0x000001FD74747518>\n",
      ">layer 61 : name : bn3c_branch2a                             type: <mrcnn.batchnorm_layer.BatchNorm object at 0x000001FD747522B0>\n",
      ">layer 62 : name : activation_12                             type: <keras.layers.core.Activation object at 0x000001FD747694E0>\n",
      ">layer 63 : name : res3c_branch2b                            type: <keras.layers.convolutional.Conv2D object at 0x000001FD747A0780>\n",
      ">layer 64 : name : bn3c_branch2b                             type: <mrcnn.batchnorm_layer.BatchNorm object at 0x000001FD747ADC50>\n",
      ">layer 65 : name : activation_13                             type: <keras.layers.core.Activation object at 0x000001FD747C4F98>\n",
      ">layer 66 : name : res3c_branch2c                            type: <keras.layers.convolutional.Conv2D object at 0x000001FD7480B358>\n",
      ">layer 67 : name : bn3c_branch2c                             type: <mrcnn.batchnorm_layer.BatchNorm object at 0x000001FD747FCCC0>\n",
      ">layer 68 : name : add_6                                     type: <keras.layers.merge.Add object at 0x000001FD74846B00>\n",
      ">layer 69 : name : res3c_out                                 type: <keras.layers.core.Activation object at 0x000001FD7486FB00>\n",
      ">layer 70 : name : res3d_branch2a                            type: <keras.layers.convolutional.Conv2D object at 0x000001FD7486FE48>\n",
      ">layer 71 : name : bn3d_branch2a                             type: <mrcnn.batchnorm_layer.BatchNorm object at 0x000001FD7487CE48>\n",
      ">layer 72 : name : activation_14                             type: <keras.layers.core.Activation object at 0x000001FD74888CF8>\n",
      ">layer 73 : name : res3d_branch2b                            type: <keras.layers.convolutional.Conv2D object at 0x000001FD748CD780>\n",
      ">layer 74 : name : bn3d_branch2b                             type: <mrcnn.batchnorm_layer.BatchNorm object at 0x000001FD748BFFD0>\n",
      ">layer 75 : name : activation_15                             type: <keras.layers.core.Activation object at 0x000001FD748F0AC8>\n",
      ">layer 76 : name : res3d_branch2c                            type: <keras.layers.convolutional.Conv2D object at 0x000001FD7490BC50>\n",
      ">layer 77 : name : bn3d_branch2c                             type: <mrcnn.batchnorm_layer.BatchNorm object at 0x000001FD7491E978>\n",
      ">layer 78 : name : add_7                                     type: <keras.layers.merge.Add object at 0x000001FD74966F28>\n",
      ">layer 79 : name : res3d_out                                 type: <keras.layers.core.Activation object at 0x000001FD74991FD0>\n",
      ">layer 80 : name : res4a_branch2a                            type: <keras.layers.convolutional.Conv2D object at 0x000001FD749839E8>\n",
      ">layer 81 : name : bn4a_branch2a                             type: <mrcnn.batchnorm_layer.BatchNorm object at 0x000001FD74991C50>\n",
      ">layer 82 : name : activation_16                             type: <keras.layers.core.Activation object at 0x000001FD749A8F28>\n",
      ">layer 83 : name : res4a_branch2b                            type: <keras.layers.convolutional.Conv2D object at 0x000001FD749D2C88>\n",
      ">layer 84 : name : bn4a_branch2b                             type: <mrcnn.batchnorm_layer.BatchNorm object at 0x000001FD749F7860>\n",
      ">layer 85 : name : activation_17                             type: <keras.layers.core.Activation object at 0x000001FD74A2BDD8>\n",
      ">layer 86 : name : res4a_branch2c                            type: <keras.layers.convolutional.Conv2D object at 0x000001FD74A49748>\n",
      ">layer 87 : name : res4a_branch1                             type: <keras.layers.convolutional.Conv2D object at 0x000001FD74A87F28>\n",
      ">layer 88 : name : bn4a_branch2c                             type: <mrcnn.batchnorm_layer.BatchNorm object at 0x000001FD74A55F28>\n",
      ">layer 89 : name : bn4a_branch1                              type: <mrcnn.batchnorm_layer.BatchNorm object at 0x000001FD74AB2518>\n",
      ">layer 90 : name : add_8                                     type: <keras.layers.merge.Add object at 0x000001FD74A99BE0>\n",
      ">layer 91 : name : res4a_out                                 type: <keras.layers.core.Activation object at 0x000001FD74B176A0>\n",
      ">layer 92 : name : res4b_branch2a                            type: <keras.layers.convolutional.Conv2D object at 0x000001FD74AD6FD0>\n",
      ">layer 93 : name : bn4b_branch2a                             type: <mrcnn.batchnorm_layer.BatchNorm object at 0x000001FD74B26AC8>\n",
      ">layer 94 : name : activation_18                             type: <keras.layers.core.Activation object at 0x000001FD74B30908>\n",
      ">layer 95 : name : res4b_branch2b                            type: <keras.layers.convolutional.Conv2D object at 0x000001FD74B80908>\n",
      ">layer 96 : name : bn4b_branch2b                             type: <mrcnn.batchnorm_layer.BatchNorm object at 0x000001FD74B74CC0>\n",
      ">layer 97 : name : activation_19                             type: <keras.layers.core.Activation object at 0x000001FD74B8C470>\n",
      ">layer 98 : name : res4b_branch2c                            type: <keras.layers.convolutional.Conv2D object at 0x000001FD74BDBC18>\n",
      ">layer 99 : name : bn4b_branch2c                             type: <mrcnn.batchnorm_layer.BatchNorm object at 0x000001FD74BAF5C0>\n",
      ">layer 100 : name : add_9                                     type: <keras.layers.merge.Add object at 0x000001FD74C0EBE0>\n",
      ">layer 101 : name : res4b_out                                 type: <keras.layers.core.Activation object at 0x000001FD74C38BE0>\n",
      ">layer 102 : name : res4c_branch2a                            type: <keras.layers.convolutional.Conv2D object at 0x000001FD74C38D68>\n",
      ">layer 103 : name : bn4c_branch2a                             type: <mrcnn.batchnorm_layer.BatchNorm object at 0x000001FD74C46B70>\n",
      ">layer 104 : name : activation_20                             type: <keras.layers.core.Activation object at 0x000001FD74C51D68>\n",
      ">layer 105 : name : res4c_branch2b                            type: <keras.layers.convolutional.Conv2D object at 0x000001FD74C88B38>\n",
      ">layer 106 : name : bn4c_branch2b                             type: <mrcnn.batchnorm_layer.BatchNorm object at 0x000001FD74C97278>\n",
      ">layer 107 : name : activation_21                             type: <keras.layers.core.Activation object at 0x000001FD74CD2AC8>\n",
      ">layer 108 : name : res4c_branch2c                            type: <keras.layers.convolutional.Conv2D object at 0x000001FD74CFC6A0>\n",
      ">layer 109 : name : bn4c_branch2c                             type: <mrcnn.batchnorm_layer.BatchNorm object at 0x000001FD74CF0320>\n",
      ">layer 110 : name : add_10                                    type: <keras.layers.merge.Add object at 0x000001FD74D2FDA0>\n",
      ">layer 111 : name : res4c_out                                 type: <keras.layers.core.Activation object at 0x000001FD74D5ACC0>\n",
      ">layer 112 : name : res4d_branch2a                            type: <keras.layers.convolutional.Conv2D object at 0x000001FD74D5AEB8>\n",
      ">layer 113 : name : bn4d_branch2a                             type: <mrcnn.batchnorm_layer.BatchNorm object at 0x000001FD74D8AA58>\n",
      ">layer 114 : name : activation_22                             type: <keras.layers.core.Activation object at 0x000001FD74D71470>\n",
      ">layer 115 : name : res4d_branch2b                            type: <keras.layers.convolutional.Conv2D object at 0x000001FD74D98DA0>\n",
      ">layer 116 : name : bn4d_branch2b                             type: <mrcnn.batchnorm_layer.BatchNorm object at 0x000001FD74DAB940>\n",
      ">layer 117 : name : activation_23                             type: <keras.layers.core.Activation object at 0x000001FD74DF3F28>\n",
      ">layer 118 : name : res4d_branch2c                            type: <keras.layers.convolutional.Conv2D object at 0x000001FD74E11E10>\n",
      ">layer 119 : name : bn4d_branch2c                             type: <mrcnn.batchnorm_layer.BatchNorm object at 0x000001FD74E1DC50>\n",
      ">layer 120 : name : add_11                                    type: <keras.layers.merge.Add object at 0x000001FD74E37EF0>\n",
      ">layer 121 : name : res4d_out                                 type: <keras.layers.core.Activation object at 0x000001FD74E6EC50>\n",
      ">layer 122 : name : res4e_branch2a                            type: <keras.layers.convolutional.Conv2D object at 0x000001FD74E6E4E0>\n",
      ">layer 123 : name : bn4e_branch2a                             type: <mrcnn.batchnorm_layer.BatchNorm object at 0x000001FD74E62B38>\n",
      ">layer 124 : name : activation_24                             type: <keras.layers.core.Activation object at 0x000001FD74EA04E0>\n",
      ">layer 125 : name : res4e_branch2b                            type: <keras.layers.convolutional.Conv2D object at 0x000001FD74EEF9B0>\n",
      ">layer 126 : name : bn4e_branch2b                             type: <mrcnn.batchnorm_layer.BatchNorm object at 0x000001FD74EE3E48>\n",
      ">layer 127 : name : activation_25                             type: <keras.layers.core.Activation object at 0x000001FD74F15F28>\n",
      ">layer 128 : name : res4e_branch2c                            type: <keras.layers.convolutional.Conv2D object at 0x000001FD74F32F98>\n",
      ">layer 129 : name : bn4e_branch2c                             type: <mrcnn.batchnorm_layer.BatchNorm object at 0x000001FD74F32F60>\n",
      ">layer 130 : name : add_12                                    type: <keras.layers.merge.Add object at 0x000001FD74F64860>\n",
      ">layer 131 : name : res4e_out                                 type: <keras.layers.core.Activation object at 0x000001FD74F9CC18>\n",
      ">layer 132 : name : res4f_branch2a                            type: <keras.layers.convolutional.Conv2D object at 0x000001FD74F7EFD0>\n",
      ">layer 133 : name : bn4f_branch2a                             type: <mrcnn.batchnorm_layer.BatchNorm object at 0x000001FD74FB5CF8>\n",
      ">layer 134 : name : activation_26                             type: <keras.layers.core.Activation object at 0x000001FD74FC0BE0>\n",
      ">layer 135 : name : res4f_branch2b                            type: <keras.layers.convolutional.Conv2D object at 0x000001FD74FF7B70>\n",
      ">layer 136 : name : bn4f_branch2b                             type: <mrcnn.batchnorm_layer.BatchNorm object at 0x000001FD75006FD0>\n",
      ">layer 137 : name : activation_27                             type: <keras.layers.core.Activation object at 0x000001FD7501B198>\n",
      ">layer 138 : name : res4f_branch2c                            type: <keras.layers.convolutional.Conv2D object at 0x000001FD7506B630>\n",
      ">layer 139 : name : bn4f_branch2c                             type: <mrcnn.batchnorm_layer.BatchNorm object at 0x000001FD75062898>\n",
      ">layer 140 : name : add_13                                    type: <keras.layers.merge.Add object at 0x000001FD750A0DA0>\n",
      ">layer 141 : name : res4f_out                                 type: <keras.layers.core.Activation object at 0x000001FD750C8E48>\n",
      ">layer 142 : name : res5a_branch2a                            type: <keras.layers.convolutional.Conv2D object at 0x000001FD750BC860>\n",
      ">layer 143 : name : bn5a_branch2a                             type: <mrcnn.batchnorm_layer.BatchNorm object at 0x000001FD750C8EF0>\n",
      ">layer 144 : name : activation_28                             type: <keras.layers.core.Activation object at 0x000001FD750E2F28>\n",
      ">layer 145 : name : res5a_branch2b                            type: <keras.layers.convolutional.Conv2D object at 0x000001FD7510BF28>\n",
      ">layer 146 : name : bn5a_branch2b                             type: <mrcnn.batchnorm_layer.BatchNorm object at 0x000001FD751263C8>\n",
      ">layer 147 : name : activation_29                             type: <keras.layers.core.Activation object at 0x000001FD75162C88>\n",
      ">layer 148 : name : res5a_branch2c                            type: <keras.layers.convolutional.Conv2D object at 0x000001FD75198CC0>\n",
      ">layer 149 : name : res5a_branch1                             type: <keras.layers.convolutional.Conv2D object at 0x000001FD751C06D8>\n",
      ">layer 150 : name : bn5a_branch2c                             type: <mrcnn.batchnorm_layer.BatchNorm object at 0x000001FD7518AF98>\n",
      ">layer 151 : name : bn5a_branch1                              type: <mrcnn.batchnorm_layer.BatchNorm object at 0x000001FD751DDE10>\n",
      ">layer 152 : name : add_14                                    type: <keras.layers.merge.Add object at 0x000001FD75202160>\n",
      ">layer 153 : name : res5a_out                                 type: <keras.layers.core.Activation object at 0x000001FD7520FFD0>\n",
      ">layer 154 : name : res5b_branch2a                            type: <keras.layers.convolutional.Conv2D object at 0x000001FD7520FEB8>\n",
      ">layer 155 : name : bn5b_branch2a                             type: <mrcnn.batchnorm_layer.BatchNorm object at 0x000001FD75276E48>\n",
      ">layer 156 : name : activation_30                             type: <keras.layers.core.Activation object at 0x000001FD75268630>\n",
      ">layer 157 : name : res5b_branch2b                            type: <keras.layers.convolutional.Conv2D object at 0x000001FD752B6A90>\n",
      ">layer 158 : name : bn5b_branch2b                             type: <mrcnn.batchnorm_layer.BatchNorm object at 0x000001FD752ADF98>\n",
      ">layer 159 : name : activation_31                             type: <keras.layers.core.Activation object at 0x000001FD752C4E10>\n",
      ">layer 160 : name : res5b_branch2c                            type: <keras.layers.convolutional.Conv2D object at 0x000001FD7530AAC8>\n",
      ">layer 161 : name : bn5b_branch2c                             type: <mrcnn.batchnorm_layer.BatchNorm object at 0x000001FD752FC4A8>\n",
      ">layer 162 : name : add_15                                    type: <keras.layers.merge.Add object at 0x000001FD75346A58>\n",
      ">layer 163 : name : res5b_out                                 type: <keras.layers.core.Activation object at 0x000001FD7536FA58>\n",
      ">layer 164 : name : res5c_branch2a                            type: <keras.layers.convolutional.Conv2D object at 0x000001FD7536F2E8>\n",
      ">layer 165 : name : bn5c_branch2a                             type: <mrcnn.batchnorm_layer.BatchNorm object at 0x000001FD7537EDD8>\n",
      ">layer 166 : name : activation_32                             type: <keras.layers.core.Activation object at 0x000001FD75389C88>\n",
      ">layer 167 : name : res5c_branch2b                            type: <keras.layers.convolutional.Conv2D object at 0x000001FD753CDD30>\n",
      ">layer 168 : name : bn5c_branch2b                             type: <mrcnn.batchnorm_layer.BatchNorm object at 0x000001FD753CD978>\n",
      ">layer 169 : name : activation_33                             type: <keras.layers.core.Activation object at 0x000001FD753F2A20>\n",
      ">layer 170 : name : res5c_branch2c                            type: <keras.layers.convolutional.Conv2D object at 0x000001FD7540C048>\n",
      ">layer 171 : name : bn5c_branch2c                             type: <mrcnn.batchnorm_layer.BatchNorm object at 0x000001FD75434898>\n",
      ">layer 172 : name : add_16                                    type: <keras.layers.merge.Add object at 0x000001FD75468EB8>\n",
      ">layer 173 : name : res5c_out                                 type: <keras.layers.core.Activation object at 0x000001FD75491F60>\n",
      ">layer 174 : name : fpn_c5p5                                  type: <keras.layers.convolutional.Conv2D object at 0x000001FD75483978>\n",
      ">layer 175 : name : fpn_p5upsampled                           type: <keras.layers.convolutional.UpSampling2D object at 0x000001FD754AAA58>\n",
      ">layer 176 : name : fpn_c4p4                                  type: <keras.layers.convolutional.Conv2D object at 0x000001FD754AAF98>\n",
      ">layer 177 : name : fpn_p4add                                 type: <keras.layers.merge.Add object at 0x000001FD75491CC0>\n",
      ">layer 178 : name : fpn_p4upsampled                           type: <keras.layers.convolutional.UpSampling2D object at 0x000001FD754F7F98>\n",
      ">layer 179 : name : fpn_c3p3                                  type: <keras.layers.convolutional.Conv2D object at 0x000001FD754F74A8>\n",
      ">layer 180 : name : fpn_p3add                                 type: <keras.layers.merge.Add object at 0x000001FD754D2DA0>\n",
      ">layer 181 : name : fpn_p3upsampled                           type: <keras.layers.convolutional.UpSampling2D object at 0x000001FD76514748>\n",
      ">layer 182 : name : fpn_c2p2                                  type: <keras.layers.convolutional.Conv2D object at 0x000001FD76514F60>\n",
      ">layer 183 : name : fpn_p2add                                 type: <keras.layers.merge.Add object at 0x000001FD7552DD30>\n",
      ">layer 184 : name : fpn_p5                                    type: <keras.layers.convolutional.Conv2D object at 0x000001FD76590908>\n",
      ">layer 185 : name : fpn_p2                                    type: <keras.layers.convolutional.Conv2D object at 0x000001FD76539DD8>\n",
      ">layer 186 : name : fpn_p3                                    type: <keras.layers.convolutional.Conv2D object at 0x000001FD76521748>\n",
      ">layer 187 : name : fpn_p4                                    type: <keras.layers.convolutional.Conv2D object at 0x000001FD7656D4E0>\n",
      ">layer 188 : name : fpn_p6                                    type: <keras.layers.pooling.MaxPooling2D object at 0x000001FD765B3860>\n",
      ">layer 189 : name : rpn_model                                 type: <keras.engine.training.Model object at 0x000001FD76661F60>\n",
      ">layer 190 : name : rpn_class                                 type: <keras.layers.core.Lambda object at 0x000001FD767BEDD8>\n",
      ">layer 191 : name : rpn_bbox                                  type: <keras.layers.core.Lambda object at 0x000001FD76969A58>\n",
      ">layer 192 : name : rpn_proposal_rois                         type: <mrcnn.proposal_layer.ProposalLayer object at 0x000001FD766E6D68>\n",
      ">layer 193 : name : roi_align_classifier                      type: <mrcnn.roialign_layer.PyramidROIAlign object at 0x000001FD76AE2B70>\n",
      ">layer 194 : name : mrcnn_class_conv1                         type: <keras.layers.wrappers.TimeDistributed object at 0x000001FD76C8A940>\n",
      ">layer 195 : name : mrcnn_class_bn1                           type: <keras.layers.wrappers.TimeDistributed object at 0x000001FD76C6E2E8>\n",
      ">layer 196 : name : activation_34                             type: <keras.layers.core.Activation object at 0x000001FD76CDB630>\n",
      ">layer 197 : name : mrcnn_class_conv2                         type: <keras.layers.wrappers.TimeDistributed object at 0x000001FD76CCDF28>\n",
      ">layer 198 : name : mrcnn_class_bn2                           type: <keras.layers.wrappers.TimeDistributed object at 0x000001FD76D3FD68>\n",
      ">layer 199 : name : activation_35                             type: <keras.layers.core.Activation object at 0x000001FD76D7CF98>\n",
      ">layer 200 : name : pool_squeeze                              type: <keras.layers.core.Lambda object at 0x000001FD76D363C8>\n",
      ">layer 201 : name : time_distributed_1                        type: <keras.layers.wrappers.TimeDistributed object at 0x000001FD76D88320>\n",
      ">layer 202 : name : mrcnn_class_logits                        type: <keras.layers.core.Lambda object at 0x000001FD76D88588>\n",
      ">layer 203 : name : mrcnn_bbox_fc                             type: <keras.layers.wrappers.TimeDistributed object at 0x000001FD76DEB828>\n",
      ">layer 204 : name : time_distributed_2                        type: <keras.layers.wrappers.TimeDistributed object at 0x000001FD76D66E48>\n",
      ">layer 205 : name : reshape_1                                 type: <keras.layers.core.Reshape object at 0x000001FD76DEB128>\n",
      ">layer 206 : name : mrcnn_class                               type: <keras.layers.core.Lambda object at 0x000001FD76D66EF0>\n",
      ">layer 207 : name : mrcnn_bbox_regression                     type: <keras.layers.core.Lambda object at 0x000001FD76DA84E0>\n",
      ">layer 208 : name : input_image_meta                          type: <keras.engine.topology.InputLayer object at 0x000001FD73B8A4E0>\n",
      ">layer 209 : name : mrcnn_detection                           type: <mrcnn.detect_layer.DetectionLayer object at 0x000001FD76DEB438>\n",
      ">layer 210 : name : cntxt_layer                               type: <mrcnn.chm_inf_layer.CHMLayerInference object at 0x000001FD76E00908>\n",
      ">layer 211 : name : fcn_block1_conv1                          type: <keras.layers.convolutional.Conv2D object at 0x000001FD76E55EF0>\n",
      ">layer 212 : name : fcn_block1_conv2                          type: <keras.layers.convolutional.Conv2D object at 0x000001FD77521C18>\n",
      ">layer 213 : name : fcn_block1_pool                           type: <keras.layers.pooling.MaxPooling2D object at 0x000001FD7755FAC8>\n",
      ">layer 214 : name : fcn_block2_conv1                          type: <keras.layers.convolutional.Conv2D object at 0x000001FD7754B208>\n",
      ">layer 215 : name : fcn_block2_conv2                          type: <keras.layers.convolutional.Conv2D object at 0x000001FD77587E48>\n",
      ">layer 216 : name : fcn_block2_pool                           type: <keras.layers.pooling.MaxPooling2D object at 0x000001FD775B87B8>\n",
      ">layer 217 : name : fcn_block3_conv1                          type: <keras.layers.convolutional.Conv2D object at 0x000001FD77593D30>\n",
      ">layer 218 : name : fcn_block3_conv2                          type: <keras.layers.convolutional.Conv2D object at 0x000001FD775DE588>\n",
      ">layer 219 : name : fcn_block3_conv3                          type: <keras.layers.convolutional.Conv2D object at 0x000001FD7760CCF8>\n",
      ">layer 220 : name : fcn_block3_pool                           type: <keras.layers.pooling.MaxPooling2D object at 0x000001FD77635DA0>\n",
      ">layer 221 : name : fcn_fc1                                   type: <keras.layers.convolutional.Conv2D object at 0x000001FD7764C2B0>\n",
      ">layer 222 : name : dropout_1                                 type: <keras.layers.core.Dropout object at 0x000001FD77665860>\n",
      ">layer 223 : name : fcn_fc2                                   type: <keras.layers.convolutional.Conv2D object at 0x000001FD776651D0>\n",
      ">layer 224 : name : dropout_2                                 type: <keras.layers.core.Dropout object at 0x000001FD77697D68>\n",
      ">layer 225 : name : fcn_classify                              type: <keras.layers.convolutional.Conv2D object at 0x000001FD7767FE48>\n",
      ">layer 226 : name : fcn_bilinear                              type: <mrcnn.BilinearUpSampling.BilinearUpSampling2D object at 0x000001FD776E7CF8>\n",
      ">layer 227 : name : fcn_heatmap_norm                          type: <keras.layers.core.Lambda object at 0x000001FD77742A58>\n",
      ">layer 228 : name : fcn_scoring                               type: <mrcnn.fcn_scoring_layer.FCNScoringLayer object at 0x000001FD7768CB70>\n",
      ">layer 229 : name : fcn_heatmap                               type: <keras.layers.core.Lambda object at 0x000001FD776FD668>\n",
      "----------------\n",
      " layers to load \n",
      "----------------\n",
      ">layer 0 : name : input_image                               type: <keras.engine.topology.InputLayer object at 0x000001FD6F86B278>\n",
      ">layer 1 : name : zero_padding2d_1                          type: <keras.layers.convolutional.ZeroPadding2D object at 0x000001FD73B8A6A0>\n",
      ">layer 2 : name : conv1                                     type: <keras.layers.convolutional.Conv2D object at 0x000001FD73B8AF98>\n",
      ">layer 3 : name : bn_conv1                                  type: <mrcnn.batchnorm_layer.BatchNorm object at 0x000001FD73B8A860>\n",
      ">layer 4 : name : activation_1                              type: <keras.layers.core.Activation object at 0x000001FD740C9D30>\n",
      ">layer 5 : name : max_pooling2d_1                           type: <keras.layers.pooling.MaxPooling2D object at 0x000001FD740D6E80>\n",
      ">layer 6 : name : res2a_branch2a                            type: <keras.layers.convolutional.Conv2D object at 0x000001FD740F1B00>\n",
      ">layer 7 : name : bn2a_branch2a                             type: <mrcnn.batchnorm_layer.BatchNorm object at 0x000001FD740B6978>\n",
      ">layer 8 : name : activation_2                              type: <keras.layers.core.Activation object at 0x000001FD74114C50>\n",
      ">layer 9 : name : res2a_branch2b                            type: <keras.layers.convolutional.Conv2D object at 0x000001FD7416EB70>\n",
      ">layer 10 : name : bn2a_branch2b                             type: <mrcnn.batchnorm_layer.BatchNorm object at 0x000001FD7413FEB8>\n",
      ">layer 11 : name : activation_3                              type: <keras.layers.core.Activation object at 0x000001FD74157198>\n",
      ">layer 12 : name : res2a_branch2c                            type: <keras.layers.convolutional.Conv2D object at 0x000001FD7419B0F0>\n",
      ">layer 13 : name : res2a_branch1                             type: <keras.layers.convolutional.Conv2D object at 0x000001FD741D8D30>\n",
      ">layer 14 : name : bn2a_branch2c                             type: <mrcnn.batchnorm_layer.BatchNorm object at 0x000001FD7417DEB8>\n",
      ">layer 15 : name : bn2a_branch1                              type: <mrcnn.batchnorm_layer.BatchNorm object at 0x000001FD74201E80>\n",
      ">layer 16 : name : add_1                                     type: <keras.layers.merge.Add object at 0x000001FD7421BE80>\n",
      ">layer 17 : name : res2a_out                                 type: <keras.layers.core.Activation object at 0x000001FD74233320>\n",
      ">layer 18 : name : res2b_branch2a                            type: <keras.layers.convolutional.Conv2D object at 0x000001FD74233C18>\n",
      ">layer 19 : name : bn2b_branch2a                             type: <mrcnn.batchnorm_layer.BatchNorm object at 0x000001FD7428BC18>\n",
      ">layer 20 : name : activation_4                              type: <keras.layers.core.Activation object at 0x000001FD74275550>\n",
      ">layer 21 : name : res2b_branch2b                            type: <keras.layers.convolutional.Conv2D object at 0x000001FD742C2748>\n",
      ">layer 22 : name : bn2b_branch2b                             type: <mrcnn.batchnorm_layer.BatchNorm object at 0x000001FD742ADD68>\n",
      ">layer 23 : name : activation_5                              type: <keras.layers.core.Activation object at 0x000001FD742F6F98>\n",
      ">layer 24 : name : res2b_branch2c                            type: <keras.layers.convolutional.Conv2D object at 0x000001FD74312978>\n",
      ">layer 25 : name : bn2b_branch2c                             type: <mrcnn.batchnorm_layer.BatchNorm object at 0x000001FD74320D68>\n",
      ">layer 26 : name : add_2                                     type: <keras.layers.merge.Add object at 0x000001FD74337FD0>\n",
      ">layer 27 : name : res2b_out                                 type: <keras.layers.core.Activation object at 0x000001FD74370CC0>\n",
      ">layer 28 : name : res2c_branch2a                            type: <keras.layers.convolutional.Conv2D object at 0x000001FD743706A0>\n",
      ">layer 29 : name : bn2c_branch2a                             type: <mrcnn.batchnorm_layer.BatchNorm object at 0x000001FD74360EF0>\n",
      ">layer 30 : name : activation_6                              type: <keras.layers.core.Activation object at 0x000001FD7439F588>\n",
      ">layer 31 : name : res2c_branch2b                            type: <keras.layers.convolutional.Conv2D object at 0x000001FD743EE9E8>\n",
      ">layer 32 : name : bn2c_branch2b                             type: <mrcnn.batchnorm_layer.BatchNorm object at 0x000001FD743E2EB8>\n",
      ">layer 33 : name : activation_7                              type: <keras.layers.core.Activation object at 0x000001FD74416E10>\n",
      ">layer 34 : name : res2c_branch2c                            type: <keras.layers.convolutional.Conv2D object at 0x000001FD74433DA0>\n",
      ">layer 35 : name : bn2c_branch2c                             type: <mrcnn.batchnorm_layer.BatchNorm object at 0x000001FD74433FD0>\n",
      ">layer 36 : name : add_3                                     type: <keras.layers.merge.Add object at 0x000001FD7447D9B0>\n",
      ">layer 37 : name : res2c_out                                 type: <keras.layers.core.Activation object at 0x000001FD744A69B0>\n",
      ">layer 38 : name : res3a_branch2a                            type: <keras.layers.convolutional.Conv2D object at 0x000001FD744A6B38>\n",
      ">layer 39 : name : bn3a_branch2a                             type: <mrcnn.batchnorm_layer.BatchNorm object at 0x000001FD744B6D30>\n",
      ">layer 40 : name : activation_8                              type: <keras.layers.core.Activation object at 0x000001FD744BFBE0>\n",
      ">layer 41 : name : res3a_branch2b                            type: <keras.layers.convolutional.Conv2D object at 0x000001FD744F7F98>\n",
      ">layer 42 : name : bn3a_branch2b                             type: <mrcnn.batchnorm_layer.BatchNorm object at 0x000001FD74507BA8>\n",
      ">layer 43 : name : activation_9                              type: <keras.layers.core.Activation object at 0x000001FD7451C4A8>\n",
      ">layer 44 : name : res3a_branch2c                            type: <keras.layers.convolutional.Conv2D object at 0x000001FD74541B38>\n",
      ">layer 45 : name : res3a_branch1                             type: <keras.layers.convolutional.Conv2D object at 0x000001FD7459FE10>\n",
      ">layer 46 : name : bn3a_branch2c                             type: <mrcnn.batchnorm_layer.BatchNorm object at 0x000001FD7456A3C8>\n",
      ">layer 47 : name : bn3a_branch1                              type: <mrcnn.batchnorm_layer.BatchNorm object at 0x000001FD745C9F60>\n",
      ">layer 48 : name : add_4                                     type: <keras.layers.merge.Add object at 0x000001FD745E1F98>\n",
      ">layer 49 : name : res3a_out                                 type: <keras.layers.core.Activation object at 0x000001FD745EDB70>\n",
      ">layer 50 : name : res3b_branch2a                            type: <keras.layers.convolutional.Conv2D object at 0x000001FD746264A8>\n",
      ">layer 51 : name : bn3b_branch2a                             type: <mrcnn.batchnorm_layer.BatchNorm object at 0x000001FD74626C88>\n",
      ">layer 52 : name : activation_10                             type: <keras.layers.core.Activation object at 0x000001FD74664E10>\n",
      ">layer 53 : name : res3b_branch2b                            type: <keras.layers.convolutional.Conv2D object at 0x000001FD7468B6A0>\n",
      ">layer 54 : name : bn3b_branch2b                             type: <mrcnn.batchnorm_layer.BatchNorm object at 0x000001FD74681320>\n",
      ">layer 55 : name : activation_11                             type: <keras.layers.core.Activation object at 0x000001FD746A4CF8>\n",
      ">layer 56 : name : res3b_branch2c                            type: <keras.layers.convolutional.Conv2D object at 0x000001FD746EBD68>\n",
      ">layer 57 : name : bn3b_branch2c                             type: <mrcnn.batchnorm_layer.BatchNorm object at 0x000001FD746EBDA0>\n",
      ">layer 58 : name : add_5                                     type: <keras.layers.merge.Add object at 0x000001FD74701E48>\n",
      ">layer 59 : name : res3b_out                                 type: <keras.layers.core.Activation object at 0x000001FD74747C88>\n",
      ">layer 60 : name : res3c_branch2a                            type: <keras.layers.convolutional.Conv2D object at 0x000001FD74747518>\n",
      ">layer 61 : name : bn3c_branch2a                             type: <mrcnn.batchnorm_layer.BatchNorm object at 0x000001FD747522B0>\n",
      ">layer 62 : name : activation_12                             type: <keras.layers.core.Activation object at 0x000001FD747694E0>\n",
      ">layer 63 : name : res3c_branch2b                            type: <keras.layers.convolutional.Conv2D object at 0x000001FD747A0780>\n",
      ">layer 64 : name : bn3c_branch2b                             type: <mrcnn.batchnorm_layer.BatchNorm object at 0x000001FD747ADC50>\n",
      ">layer 65 : name : activation_13                             type: <keras.layers.core.Activation object at 0x000001FD747C4F98>\n",
      ">layer 66 : name : res3c_branch2c                            type: <keras.layers.convolutional.Conv2D object at 0x000001FD7480B358>\n",
      ">layer 67 : name : bn3c_branch2c                             type: <mrcnn.batchnorm_layer.BatchNorm object at 0x000001FD747FCCC0>\n",
      ">layer 68 : name : add_6                                     type: <keras.layers.merge.Add object at 0x000001FD74846B00>\n",
      ">layer 69 : name : res3c_out                                 type: <keras.layers.core.Activation object at 0x000001FD7486FB00>\n",
      ">layer 70 : name : res3d_branch2a                            type: <keras.layers.convolutional.Conv2D object at 0x000001FD7486FE48>\n",
      ">layer 71 : name : bn3d_branch2a                             type: <mrcnn.batchnorm_layer.BatchNorm object at 0x000001FD7487CE48>\n",
      ">layer 72 : name : activation_14                             type: <keras.layers.core.Activation object at 0x000001FD74888CF8>\n",
      ">layer 73 : name : res3d_branch2b                            type: <keras.layers.convolutional.Conv2D object at 0x000001FD748CD780>\n",
      ">layer 74 : name : bn3d_branch2b                             type: <mrcnn.batchnorm_layer.BatchNorm object at 0x000001FD748BFFD0>\n",
      ">layer 75 : name : activation_15                             type: <keras.layers.core.Activation object at 0x000001FD748F0AC8>\n",
      ">layer 76 : name : res3d_branch2c                            type: <keras.layers.convolutional.Conv2D object at 0x000001FD7490BC50>\n",
      ">layer 77 : name : bn3d_branch2c                             type: <mrcnn.batchnorm_layer.BatchNorm object at 0x000001FD7491E978>\n",
      ">layer 78 : name : add_7                                     type: <keras.layers.merge.Add object at 0x000001FD74966F28>\n",
      ">layer 79 : name : res3d_out                                 type: <keras.layers.core.Activation object at 0x000001FD74991FD0>\n",
      ">layer 80 : name : res4a_branch2a                            type: <keras.layers.convolutional.Conv2D object at 0x000001FD749839E8>\n",
      ">layer 81 : name : bn4a_branch2a                             type: <mrcnn.batchnorm_layer.BatchNorm object at 0x000001FD74991C50>\n",
      ">layer 82 : name : activation_16                             type: <keras.layers.core.Activation object at 0x000001FD749A8F28>\n",
      ">layer 83 : name : res4a_branch2b                            type: <keras.layers.convolutional.Conv2D object at 0x000001FD749D2C88>\n",
      ">layer 84 : name : bn4a_branch2b                             type: <mrcnn.batchnorm_layer.BatchNorm object at 0x000001FD749F7860>\n",
      ">layer 85 : name : activation_17                             type: <keras.layers.core.Activation object at 0x000001FD74A2BDD8>\n",
      ">layer 86 : name : res4a_branch2c                            type: <keras.layers.convolutional.Conv2D object at 0x000001FD74A49748>\n",
      ">layer 87 : name : res4a_branch1                             type: <keras.layers.convolutional.Conv2D object at 0x000001FD74A87F28>\n",
      ">layer 88 : name : bn4a_branch2c                             type: <mrcnn.batchnorm_layer.BatchNorm object at 0x000001FD74A55F28>\n",
      ">layer 89 : name : bn4a_branch1                              type: <mrcnn.batchnorm_layer.BatchNorm object at 0x000001FD74AB2518>\n",
      ">layer 90 : name : add_8                                     type: <keras.layers.merge.Add object at 0x000001FD74A99BE0>\n",
      ">layer 91 : name : res4a_out                                 type: <keras.layers.core.Activation object at 0x000001FD74B176A0>\n",
      ">layer 92 : name : res4b_branch2a                            type: <keras.layers.convolutional.Conv2D object at 0x000001FD74AD6FD0>\n",
      ">layer 93 : name : bn4b_branch2a                             type: <mrcnn.batchnorm_layer.BatchNorm object at 0x000001FD74B26AC8>\n",
      ">layer 94 : name : activation_18                             type: <keras.layers.core.Activation object at 0x000001FD74B30908>\n",
      ">layer 95 : name : res4b_branch2b                            type: <keras.layers.convolutional.Conv2D object at 0x000001FD74B80908>\n",
      ">layer 96 : name : bn4b_branch2b                             type: <mrcnn.batchnorm_layer.BatchNorm object at 0x000001FD74B74CC0>\n",
      ">layer 97 : name : activation_19                             type: <keras.layers.core.Activation object at 0x000001FD74B8C470>\n",
      ">layer 98 : name : res4b_branch2c                            type: <keras.layers.convolutional.Conv2D object at 0x000001FD74BDBC18>\n",
      ">layer 99 : name : bn4b_branch2c                             type: <mrcnn.batchnorm_layer.BatchNorm object at 0x000001FD74BAF5C0>\n",
      ">layer 100 : name : add_9                                     type: <keras.layers.merge.Add object at 0x000001FD74C0EBE0>\n",
      ">layer 101 : name : res4b_out                                 type: <keras.layers.core.Activation object at 0x000001FD74C38BE0>\n",
      ">layer 102 : name : res4c_branch2a                            type: <keras.layers.convolutional.Conv2D object at 0x000001FD74C38D68>\n",
      ">layer 103 : name : bn4c_branch2a                             type: <mrcnn.batchnorm_layer.BatchNorm object at 0x000001FD74C46B70>\n",
      ">layer 104 : name : activation_20                             type: <keras.layers.core.Activation object at 0x000001FD74C51D68>\n",
      ">layer 105 : name : res4c_branch2b                            type: <keras.layers.convolutional.Conv2D object at 0x000001FD74C88B38>\n",
      ">layer 106 : name : bn4c_branch2b                             type: <mrcnn.batchnorm_layer.BatchNorm object at 0x000001FD74C97278>\n",
      ">layer 107 : name : activation_21                             type: <keras.layers.core.Activation object at 0x000001FD74CD2AC8>\n",
      ">layer 108 : name : res4c_branch2c                            type: <keras.layers.convolutional.Conv2D object at 0x000001FD74CFC6A0>\n",
      ">layer 109 : name : bn4c_branch2c                             type: <mrcnn.batchnorm_layer.BatchNorm object at 0x000001FD74CF0320>\n",
      ">layer 110 : name : add_10                                    type: <keras.layers.merge.Add object at 0x000001FD74D2FDA0>\n",
      ">layer 111 : name : res4c_out                                 type: <keras.layers.core.Activation object at 0x000001FD74D5ACC0>\n",
      ">layer 112 : name : res4d_branch2a                            type: <keras.layers.convolutional.Conv2D object at 0x000001FD74D5AEB8>\n",
      ">layer 113 : name : bn4d_branch2a                             type: <mrcnn.batchnorm_layer.BatchNorm object at 0x000001FD74D8AA58>\n",
      ">layer 114 : name : activation_22                             type: <keras.layers.core.Activation object at 0x000001FD74D71470>\n",
      ">layer 115 : name : res4d_branch2b                            type: <keras.layers.convolutional.Conv2D object at 0x000001FD74D98DA0>\n",
      ">layer 116 : name : bn4d_branch2b                             type: <mrcnn.batchnorm_layer.BatchNorm object at 0x000001FD74DAB940>\n",
      ">layer 117 : name : activation_23                             type: <keras.layers.core.Activation object at 0x000001FD74DF3F28>\n",
      ">layer 118 : name : res4d_branch2c                            type: <keras.layers.convolutional.Conv2D object at 0x000001FD74E11E10>\n",
      ">layer 119 : name : bn4d_branch2c                             type: <mrcnn.batchnorm_layer.BatchNorm object at 0x000001FD74E1DC50>\n",
      ">layer 120 : name : add_11                                    type: <keras.layers.merge.Add object at 0x000001FD74E37EF0>\n",
      ">layer 121 : name : res4d_out                                 type: <keras.layers.core.Activation object at 0x000001FD74E6EC50>\n",
      ">layer 122 : name : res4e_branch2a                            type: <keras.layers.convolutional.Conv2D object at 0x000001FD74E6E4E0>\n",
      ">layer 123 : name : bn4e_branch2a                             type: <mrcnn.batchnorm_layer.BatchNorm object at 0x000001FD74E62B38>\n",
      ">layer 124 : name : activation_24                             type: <keras.layers.core.Activation object at 0x000001FD74EA04E0>\n",
      ">layer 125 : name : res4e_branch2b                            type: <keras.layers.convolutional.Conv2D object at 0x000001FD74EEF9B0>\n",
      ">layer 126 : name : bn4e_branch2b                             type: <mrcnn.batchnorm_layer.BatchNorm object at 0x000001FD74EE3E48>\n",
      ">layer 127 : name : activation_25                             type: <keras.layers.core.Activation object at 0x000001FD74F15F28>\n",
      ">layer 128 : name : res4e_branch2c                            type: <keras.layers.convolutional.Conv2D object at 0x000001FD74F32F98>\n",
      ">layer 129 : name : bn4e_branch2c                             type: <mrcnn.batchnorm_layer.BatchNorm object at 0x000001FD74F32F60>\n",
      ">layer 130 : name : add_12                                    type: <keras.layers.merge.Add object at 0x000001FD74F64860>\n",
      ">layer 131 : name : res4e_out                                 type: <keras.layers.core.Activation object at 0x000001FD74F9CC18>\n",
      ">layer 132 : name : res4f_branch2a                            type: <keras.layers.convolutional.Conv2D object at 0x000001FD74F7EFD0>\n",
      ">layer 133 : name : bn4f_branch2a                             type: <mrcnn.batchnorm_layer.BatchNorm object at 0x000001FD74FB5CF8>\n",
      ">layer 134 : name : activation_26                             type: <keras.layers.core.Activation object at 0x000001FD74FC0BE0>\n",
      ">layer 135 : name : res4f_branch2b                            type: <keras.layers.convolutional.Conv2D object at 0x000001FD74FF7B70>\n",
      ">layer 136 : name : bn4f_branch2b                             type: <mrcnn.batchnorm_layer.BatchNorm object at 0x000001FD75006FD0>\n",
      ">layer 137 : name : activation_27                             type: <keras.layers.core.Activation object at 0x000001FD7501B198>\n",
      ">layer 138 : name : res4f_branch2c                            type: <keras.layers.convolutional.Conv2D object at 0x000001FD7506B630>\n",
      ">layer 139 : name : bn4f_branch2c                             type: <mrcnn.batchnorm_layer.BatchNorm object at 0x000001FD75062898>\n",
      ">layer 140 : name : add_13                                    type: <keras.layers.merge.Add object at 0x000001FD750A0DA0>\n",
      ">layer 141 : name : res4f_out                                 type: <keras.layers.core.Activation object at 0x000001FD750C8E48>\n",
      ">layer 142 : name : res5a_branch2a                            type: <keras.layers.convolutional.Conv2D object at 0x000001FD750BC860>\n",
      ">layer 143 : name : bn5a_branch2a                             type: <mrcnn.batchnorm_layer.BatchNorm object at 0x000001FD750C8EF0>\n",
      ">layer 144 : name : activation_28                             type: <keras.layers.core.Activation object at 0x000001FD750E2F28>\n",
      ">layer 145 : name : res5a_branch2b                            type: <keras.layers.convolutional.Conv2D object at 0x000001FD7510BF28>\n",
      ">layer 146 : name : bn5a_branch2b                             type: <mrcnn.batchnorm_layer.BatchNorm object at 0x000001FD751263C8>\n",
      ">layer 147 : name : activation_29                             type: <keras.layers.core.Activation object at 0x000001FD75162C88>\n",
      ">layer 148 : name : res5a_branch2c                            type: <keras.layers.convolutional.Conv2D object at 0x000001FD75198CC0>\n",
      ">layer 149 : name : res5a_branch1                             type: <keras.layers.convolutional.Conv2D object at 0x000001FD751C06D8>\n",
      ">layer 150 : name : bn5a_branch2c                             type: <mrcnn.batchnorm_layer.BatchNorm object at 0x000001FD7518AF98>\n",
      ">layer 151 : name : bn5a_branch1                              type: <mrcnn.batchnorm_layer.BatchNorm object at 0x000001FD751DDE10>\n",
      ">layer 152 : name : add_14                                    type: <keras.layers.merge.Add object at 0x000001FD75202160>\n",
      ">layer 153 : name : res5a_out                                 type: <keras.layers.core.Activation object at 0x000001FD7520FFD0>\n",
      ">layer 154 : name : res5b_branch2a                            type: <keras.layers.convolutional.Conv2D object at 0x000001FD7520FEB8>\n",
      ">layer 155 : name : bn5b_branch2a                             type: <mrcnn.batchnorm_layer.BatchNorm object at 0x000001FD75276E48>\n",
      ">layer 156 : name : activation_30                             type: <keras.layers.core.Activation object at 0x000001FD75268630>\n",
      ">layer 157 : name : res5b_branch2b                            type: <keras.layers.convolutional.Conv2D object at 0x000001FD752B6A90>\n",
      ">layer 158 : name : bn5b_branch2b                             type: <mrcnn.batchnorm_layer.BatchNorm object at 0x000001FD752ADF98>\n",
      ">layer 159 : name : activation_31                             type: <keras.layers.core.Activation object at 0x000001FD752C4E10>\n",
      ">layer 160 : name : res5b_branch2c                            type: <keras.layers.convolutional.Conv2D object at 0x000001FD7530AAC8>\n",
      ">layer 161 : name : bn5b_branch2c                             type: <mrcnn.batchnorm_layer.BatchNorm object at 0x000001FD752FC4A8>\n",
      ">layer 162 : name : add_15                                    type: <keras.layers.merge.Add object at 0x000001FD75346A58>\n",
      ">layer 163 : name : res5b_out                                 type: <keras.layers.core.Activation object at 0x000001FD7536FA58>\n",
      ">layer 164 : name : res5c_branch2a                            type: <keras.layers.convolutional.Conv2D object at 0x000001FD7536F2E8>\n",
      ">layer 165 : name : bn5c_branch2a                             type: <mrcnn.batchnorm_layer.BatchNorm object at 0x000001FD7537EDD8>\n",
      ">layer 166 : name : activation_32                             type: <keras.layers.core.Activation object at 0x000001FD75389C88>\n",
      ">layer 167 : name : res5c_branch2b                            type: <keras.layers.convolutional.Conv2D object at 0x000001FD753CDD30>\n",
      ">layer 168 : name : bn5c_branch2b                             type: <mrcnn.batchnorm_layer.BatchNorm object at 0x000001FD753CD978>\n",
      ">layer 169 : name : activation_33                             type: <keras.layers.core.Activation object at 0x000001FD753F2A20>\n",
      ">layer 170 : name : res5c_branch2c                            type: <keras.layers.convolutional.Conv2D object at 0x000001FD7540C048>\n",
      ">layer 171 : name : bn5c_branch2c                             type: <mrcnn.batchnorm_layer.BatchNorm object at 0x000001FD75434898>\n",
      ">layer 172 : name : add_16                                    type: <keras.layers.merge.Add object at 0x000001FD75468EB8>\n",
      ">layer 173 : name : res5c_out                                 type: <keras.layers.core.Activation object at 0x000001FD75491F60>\n",
      ">layer 174 : name : fpn_c5p5                                  type: <keras.layers.convolutional.Conv2D object at 0x000001FD75483978>\n",
      ">layer 175 : name : fpn_p5upsampled                           type: <keras.layers.convolutional.UpSampling2D object at 0x000001FD754AAA58>\n",
      ">layer 176 : name : fpn_c4p4                                  type: <keras.layers.convolutional.Conv2D object at 0x000001FD754AAF98>\n",
      ">layer 177 : name : fpn_p4add                                 type: <keras.layers.merge.Add object at 0x000001FD75491CC0>\n",
      ">layer 178 : name : fpn_p4upsampled                           type: <keras.layers.convolutional.UpSampling2D object at 0x000001FD754F7F98>\n",
      ">layer 179 : name : fpn_c3p3                                  type: <keras.layers.convolutional.Conv2D object at 0x000001FD754F74A8>\n",
      ">layer 180 : name : fpn_p3add                                 type: <keras.layers.merge.Add object at 0x000001FD754D2DA0>\n",
      ">layer 181 : name : fpn_p3upsampled                           type: <keras.layers.convolutional.UpSampling2D object at 0x000001FD76514748>\n",
      ">layer 182 : name : fpn_c2p2                                  type: <keras.layers.convolutional.Conv2D object at 0x000001FD76514F60>\n",
      ">layer 183 : name : fpn_p2add                                 type: <keras.layers.merge.Add object at 0x000001FD7552DD30>\n",
      ">layer 184 : name : fpn_p5                                    type: <keras.layers.convolutional.Conv2D object at 0x000001FD76590908>\n",
      ">layer 185 : name : fpn_p2                                    type: <keras.layers.convolutional.Conv2D object at 0x000001FD76539DD8>\n",
      ">layer 186 : name : fpn_p3                                    type: <keras.layers.convolutional.Conv2D object at 0x000001FD76521748>\n",
      ">layer 187 : name : fpn_p4                                    type: <keras.layers.convolutional.Conv2D object at 0x000001FD7656D4E0>\n",
      ">layer 188 : name : fpn_p6                                    type: <keras.layers.pooling.MaxPooling2D object at 0x000001FD765B3860>\n",
      ">layer 189 : name : rpn_model                                 type: <keras.engine.training.Model object at 0x000001FD76661F60>\n",
      ">layer 190 : name : rpn_class                                 type: <keras.layers.core.Lambda object at 0x000001FD767BEDD8>\n",
      ">layer 191 : name : rpn_bbox                                  type: <keras.layers.core.Lambda object at 0x000001FD76969A58>\n",
      ">layer 192 : name : rpn_proposal_rois                         type: <mrcnn.proposal_layer.ProposalLayer object at 0x000001FD766E6D68>\n",
      ">layer 193 : name : roi_align_classifier                      type: <mrcnn.roialign_layer.PyramidROIAlign object at 0x000001FD76AE2B70>\n",
      ">layer 194 : name : mrcnn_class_conv1                         type: <keras.layers.wrappers.TimeDistributed object at 0x000001FD76C8A940>\n",
      ">layer 195 : name : mrcnn_class_bn1                           type: <keras.layers.wrappers.TimeDistributed object at 0x000001FD76C6E2E8>\n",
      ">layer 196 : name : activation_34                             type: <keras.layers.core.Activation object at 0x000001FD76CDB630>\n",
      ">layer 197 : name : mrcnn_class_conv2                         type: <keras.layers.wrappers.TimeDistributed object at 0x000001FD76CCDF28>\n",
      ">layer 198 : name : mrcnn_class_bn2                           type: <keras.layers.wrappers.TimeDistributed object at 0x000001FD76D3FD68>\n",
      ">layer 199 : name : activation_35                             type: <keras.layers.core.Activation object at 0x000001FD76D7CF98>\n",
      ">layer 200 : name : pool_squeeze                              type: <keras.layers.core.Lambda object at 0x000001FD76D363C8>\n",
      ">layer 201 : name : time_distributed_1                        type: <keras.layers.wrappers.TimeDistributed object at 0x000001FD76D88320>\n",
      ">layer 202 : name : mrcnn_class_logits                        type: <keras.layers.core.Lambda object at 0x000001FD76D88588>\n",
      ">layer 203 : name : mrcnn_bbox_fc                             type: <keras.layers.wrappers.TimeDistributed object at 0x000001FD76DEB828>\n",
      ">layer 204 : name : time_distributed_2                        type: <keras.layers.wrappers.TimeDistributed object at 0x000001FD76D66E48>\n",
      ">layer 205 : name : reshape_1                                 type: <keras.layers.core.Reshape object at 0x000001FD76DEB128>\n",
      ">layer 206 : name : mrcnn_class                               type: <keras.layers.core.Lambda object at 0x000001FD76D66EF0>\n",
      ">layer 207 : name : mrcnn_bbox_regression                     type: <keras.layers.core.Lambda object at 0x000001FD76DA84E0>\n",
      ">layer 208 : name : input_image_meta                          type: <keras.engine.topology.InputLayer object at 0x000001FD73B8A4E0>\n",
      ">layer 209 : name : mrcnn_detection                           type: <mrcnn.detect_layer.DetectionLayer object at 0x000001FD76DEB438>\n",
      ">layer 210 : name : cntxt_layer                               type: <mrcnn.chm_inf_layer.CHMLayerInference object at 0x000001FD76E00908>\n",
      ">layer 211 : name : fcn_block1_conv1                          type: <keras.layers.convolutional.Conv2D object at 0x000001FD76E55EF0>\n",
      ">layer 212 : name : fcn_block1_conv2                          type: <keras.layers.convolutional.Conv2D object at 0x000001FD77521C18>\n",
      ">layer 213 : name : fcn_block1_pool                           type: <keras.layers.pooling.MaxPooling2D object at 0x000001FD7755FAC8>\n",
      ">layer 214 : name : fcn_block2_conv1                          type: <keras.layers.convolutional.Conv2D object at 0x000001FD7754B208>\n",
      ">layer 215 : name : fcn_block2_conv2                          type: <keras.layers.convolutional.Conv2D object at 0x000001FD77587E48>\n",
      ">layer 216 : name : fcn_block2_pool                           type: <keras.layers.pooling.MaxPooling2D object at 0x000001FD775B87B8>\n",
      ">layer 217 : name : fcn_block3_conv1                          type: <keras.layers.convolutional.Conv2D object at 0x000001FD77593D30>\n",
      ">layer 218 : name : fcn_block3_conv2                          type: <keras.layers.convolutional.Conv2D object at 0x000001FD775DE588>\n",
      ">layer 219 : name : fcn_block3_conv3                          type: <keras.layers.convolutional.Conv2D object at 0x000001FD7760CCF8>\n",
      ">layer 220 : name : fcn_block3_pool                           type: <keras.layers.pooling.MaxPooling2D object at 0x000001FD77635DA0>\n",
      ">layer 221 : name : fcn_fc1                                   type: <keras.layers.convolutional.Conv2D object at 0x000001FD7764C2B0>\n",
      ">layer 222 : name : dropout_1                                 type: <keras.layers.core.Dropout object at 0x000001FD77665860>\n",
      ">layer 223 : name : fcn_fc2                                   type: <keras.layers.convolutional.Conv2D object at 0x000001FD776651D0>\n",
      ">layer 224 : name : dropout_2                                 type: <keras.layers.core.Dropout object at 0x000001FD77697D68>\n",
      ">layer 225 : name : fcn_classify                              type: <keras.layers.convolutional.Conv2D object at 0x000001FD7767FE48>\n",
      ">layer 226 : name : fcn_bilinear                              type: <mrcnn.BilinearUpSampling.BilinearUpSampling2D object at 0x000001FD776E7CF8>\n",
      ">layer 227 : name : fcn_heatmap_norm                          type: <keras.layers.core.Lambda object at 0x000001FD77742A58>\n",
      ">layer 228 : name : fcn_scoring                               type: <mrcnn.fcn_scoring_layer.FCNScoringLayer object at 0x000001FD7768CB70>\n",
      ">layer 229 : name : fcn_heatmap                               type: <keras.layers.core.Lambda object at 0x000001FD776FD668>\n"
     ]
    },
    {
     "name": "stdout",
     "output_type": "stream",
     "text": [
      "    load_weights: Log directory set to : E:\\Models\\newshape_fcn\\\\mask_rcnn_shapes_0351.h5\n",
      "    set_log_dir: Checkpoint path set to : E:\\models\\newshape_fcn\\shapes20180622T1324\\mask_rcnn_shapes_{epoch:04d}.h5\n",
      "    set_log_dir: self.epoch set to 0 \n",
      "    Load weights complete :  E:\\Models\\newshape_fcn\\\\mask_rcnn_shapes_0351.h5\n",
      "Load weights complete E:\\Models\\newshape_fcn\\\\mask_rcnn_shapes_0351.h5\n",
      "\n",
      "Configuration Parameters:\n",
      "-------------------------\n",
      "BACKBONE_SHAPES                [[32 32]\n",
      " [16 16]\n",
      " [ 8  8]\n",
      " [ 4  4]\n",
      " [ 2  2]]\n",
      "BACKBONE_STRIDES               [4, 8, 16, 32, 64]\n",
      "BATCH_SIZE                     1\n",
      "BBOX_STD_DEV                   [0.1 0.1 0.2 0.2]\n",
      "DETECTION_MAX_INSTANCES        100\n",
      "DETECTION_MIN_CONFIDENCE       0.1\n",
      "DETECTION_NMS_THRESHOLD        0.3\n",
      "EPOCHS_TO_RUN                  0\n",
      "FCN_INPUT_SHAPE                [128 128]\n",
      "GPU_COUNT                      1\n",
      "IMAGES_PER_GPU                 1\n",
      "IMAGE_BUFFER                   20\n",
      "IMAGE_MAX_DIM                  128\n",
      "IMAGE_MIN_DIM                  128\n",
      "IMAGE_PADDING                  True\n",
      "IMAGE_SHAPE                    [128 128   3]\n",
      "LAST_EPOCH_RAN                 0\n",
      "LEARNING_MOMENTUM              0.9\n",
      "LEARNING_RATE                  0.001\n",
      "MASK_POOL_SIZE                 14\n",
      "MASK_SHAPE                     [28, 28]\n",
      "MAX_GT_INSTANCES               100\n",
      "MAX_SHAPES_PER_IMAGE           15\n",
      "MEAN_PIXEL                     [123.7 116.8 103.9]\n",
      "MINI_MASK_SHAPE                (56, 56)\n",
      "MIN_SHAPES_PER_IMAGE           1\n",
      "NAME                           shapes\n",
      "NUM_CLASSES                    7\n",
      "POOL_SIZE                      7\n",
      "POST_NMS_ROIS_INFERENCE        1000\n",
      "POST_NMS_ROIS_TRAINING         2000\n",
      "ROI_POSITIVE_RATIO             0.33\n",
      "ROI_PROPOSAL_AREA_THRESHOLD    0\n",
      "RPN_ANCHOR_RATIOS              [0.5, 1, 2]\n",
      "RPN_ANCHOR_SCALES              (8, 16, 32, 64, 128)\n",
      "RPN_ANCHOR_STRIDE              1\n",
      "RPN_BBOX_STD_DEV               [0.1 0.1 0.2 0.2]\n",
      "RPN_NMS_THRESHOLD              0.7\n",
      "RPN_TRAIN_ANCHORS_PER_IMAGE    256\n",
      "STEPS_PER_EPOCH                4\n",
      "TRAIN_ROIS_PER_IMAGE           32\n",
      "USE_MINI_MASK                  True\n",
      "USE_RPN_ROIS                   True\n",
      "VALIDATION_STEPS               5\n",
      "WEIGHT_DECAY                   0.0001\n",
      "\n",
      "\n"
     ]
    }
   ],
   "source": [
    "from IPython.core.display import display, HTML\n",
    "display(HTML(\"<style>.container { width:95% !important; }</style>\"))\n",
    "%matplotlib inline\n",
    "%load_ext autoreload\n",
    "%autoreload 2\n",
    "import sys\n",
    "sys.path.append('../')\n",
    "import tensorflow as tf\n",
    "import keras.backend as KB\n",
    "import numpy as np\n",
    "from mrcnn.datagen     import data_generator, load_image_gt\n",
    "from mrcnn.callbacks   import get_layer_output_1,get_layer_output_2\n",
    "from mrcnn.utils       import mask_string\n",
    "import mrcnn.visualize as visualize\n",
    "import random\n",
    "from mrcnn.utils import log\n",
    "from mrcnn.prep_notebook import prep_newshapes_test\n",
    "import pprint\n",
    "pp = pprint.PrettyPrinter(indent=2, width=100)\n",
    "\n",
    "\n",
    "model_file  = 'E:\\\\Models\\\\newshape_fcn\\\\\\mask_rcnn_shapes_0351.h5'\n",
    "folder_name = 'newshape_fcn'\n",
    "model, dataset_test, test_generator, inference_config = prep_newshapes_test(init_with = model_file, FCN_layers = True, batch_sz = 1, folder_name = folder_name)"
   ]
  },
  {
   "cell_type": "code",
   "execution_count": 2,
   "metadata": {
    "ExecuteTime": {
     "end_time": "2018-06-22T11:25:23.367075Z",
     "start_time": "2018-06-22T11:25:23.091815Z"
    }
   },
   "outputs": [],
   "source": [
    "from matplotlib import pyplot as plt\n",
    "def get_ax(rows=1, cols=1, size=8):\n",
    "    \"\"\"Return a Matplotlib Axes array to be used in\n",
    "    all visualizations in the notebook. Provide a\n",
    "    central point to control graph sizes.\n",
    "    \n",
    "    Change the default size attribute to control the size\n",
    "    of rendered images\n",
    "    \"\"\"\n",
    "    _, ax = plt.subplots(rows, cols, figsize=(size*cols, size*rows))\n",
    "    return ax"
   ]
  },
  {
   "cell_type": "markdown",
   "metadata": {},
   "source": [
    "## Detection"
   ]
  },
  {
   "cell_type": "markdown",
   "metadata": {},
   "source": [
    "### Test on a random image"
   ]
  },
  {
   "cell_type": "code",
   "execution_count": 128,
   "metadata": {
    "ExecuteTime": {
     "end_time": "2018-06-22T14:11:05.320033Z",
     "start_time": "2018-06-22T14:11:05.082663Z"
    }
   },
   "outputs": [],
   "source": [
    "image_id = random.choice(dataset_test.image_ids)"
   ]
  },
  {
   "cell_type": "markdown",
   "metadata": {},
   "source": [
    "### 1- Display Original Image"
   ]
  },
  {
   "cell_type": "code",
   "execution_count": 156,
   "metadata": {
    "ExecuteTime": {
     "end_time": "2018-06-22T14:58:54.465885Z",
     "start_time": "2018-06-22T14:58:54.039029Z"
    }
   },
   "outputs": [
    {
     "name": "stdout",
     "output_type": "stream",
     "text": [
      "Image Id : 1585\n",
      "{ 'bg_color': array([126, 253, 245]),\n",
      "  'height': 128,\n",
      "  'id': 1585,\n",
      "  'path': None,\n",
      "  'shapes': [ ('sun', (32, 81, 240), (72, 19, 8, 8)),\n",
      "              ('cloud', (74, 212, 252), (74, 20, 15, 3)),\n",
      "              ('cloud', (78, 234, 58), (100, 23, 21, 4)),\n",
      "              ('cloud', (64, 67, 30), (25, 24, 23, 4)),\n",
      "              ('cloud', (115, 153, 148), (57, 29, 33, 6)),\n",
      "              ('tree', (41, 131, 93), (45, 49, 9, 9)),\n",
      "              ('building', (215, 186, 206), (75, 53, 12, 15)),\n",
      "              ('tree', (56, 8, 171), (91, 54, 10, 10)),\n",
      "              ('person', (75, 162, 223), (84, 66, 2, 10)),\n",
      "              ('building', (98, 189, 59), (21, 73, 17, 24)),\n",
      "              ('tree', (213, 92, 222), (32, 101, 22, 22)),\n",
      "              ('person', (102, 134, 57), (30, 101, 3, 18)),\n",
      "              ('sun', (228, 236, 53), (100, 120, 12, 12))],\n",
      "  'source': 'shapes',\n",
      "  'width': 128}\n",
      "\n",
      " shape list --------------------------\n",
      " 1: person   2: car  3: sun  4: building  5: tree  6: cloud \n"
     ]
    },
    {
     "data": {
      "image/png": "[encoded data removed]",
      "text/plain": [
       "<matplotlib.figure.Figure at 0x1fdd69ad8d0>"
      ]
     },
     "metadata": {},
     "output_type": "display_data"
    }
   ],
   "source": [
    "# image_id = 2405\n",
    "image_id = 1585\n",
    "#image_id = 1071\n",
    "original_image, image_meta, gt_class_id, gt_bbox, gt_mask =\\\n",
    "    load_image_gt(dataset_test, inference_config, image_id, use_mini_mask=False)\n",
    "    \n",
    "\n",
    "print('Image Id :', image_id)    \n",
    "pp.pprint(dataset_test.image_info[image_id])\n",
    "\n",
    "shape_list = dataset_test.image_info[image_id]['shapes']\n",
    "print('\\n shape list --------------------------')\n",
    "# pp.pprint(shape_list)\n",
    "# log(\"original_image\", original_image)\n",
    "# log(\"image_meta\", image_meta)\n",
    "# log(\"gt_class_id\", gt_bbox)\n",
    "# log(\"gt_bbox\", gt_bbox)\n",
    "# log(\"gt_mask\", gt_mask)\n",
    "# print(gt_bbox.shape, gt_class_id.shape)\n",
    "print(\" 1: person   2: car  3: sun  4: building  5: tree  6: cloud \")\n",
    "visualize.display_instances(original_image, gt_bbox,   gt_class_id, \n",
    "                            dataset_test.class_names, figsize=(8, 8))"
   ]
  },
  {
   "cell_type": "markdown",
   "metadata": {
    "hideCode": true
   },
   "source": [
    "###  2-  Predict and Visualize model prediction"
   ]
  },
  {
   "cell_type": "code",
   "execution_count": 158,
   "metadata": {
    "ExecuteTime": {
     "end_time": "2018-06-22T15:02:11.535339Z",
     "start_time": "2018-06-22T15:02:10.306082Z"
    },
    "scrolled": true
   },
   "outputs": [
    {
     "name": "stdout",
     "output_type": "stream",
     "text": [
      "Processing 1 images\n",
      "image                    shape: (128, 128, 3)         min:    8.00000  max:  253.00000\n",
      "molded_images            shape: (1, 128, 128, 3)      min: -108.80000  max:  148.10000\n",
      "image_metas              shape: (1, 15)               min:    0.00000  max:  128.00000\n",
      "    Wrapper for Detection Layer : call()  <class 'list'> 4\n",
      "     rpn_proposals_roi  : (1, ?, ?) (1, 1000, 4) <class 'numpy.ndarray'>\n",
      "     mrcnn_class.shape  : (?, 1000, 7) (1, 1000, 7) <class 'numpy.ndarray'>\n",
      "     mrcnn_bboxes.shape : (?, 1000, 7, 4) (1, 1000, 7, 4) <class 'numpy.ndarray'>\n",
      "     image_meta         : (?, ?) (1, 15) <class 'numpy.ndarray'>\n",
      "    return from  predict()\n",
      "    Length of detections :  1\n",
      "\n",
      "  class ids  :  [5 4 5 4 5 6 6 6 3 1 1 5] <class 'numpy.ndarray'>\n",
      "  class names:  ['BG', 'person', 'car', 'sun', 'building', 'tree', 'cloud']\n",
      "  scores     :  [1.     1.     1.     0.9999 0.9999 0.9999 0.9997 0.9995 0.9976 0.997  0.9719 0.9443] <class 'numpy.ndarray'>\n",
      "------------------------------------------------------------------------------------\n",
      "                           mrcnn   pre_scr   fcn_scr    % score   fcn_scr   fcn_scr\n",
      "cls_id    class name       score                         incrs     norm     L2 norm\n",
      "------------------------------------------------------------------------------------\n",
      "    5      tree           1.0000   0.2183    0.3201     0.4662    0.4554    0.2937   [43 39 59 52]\n",
      "    4      building       1.0000   0.0523    0.4706     7.9934    1.0000    0.7716   [49  4 98 39]\n",
      "    5      tree           1.0000   0.0377    0.6271    15.6326    0.8921    0.5754   [ 89  15 124  50]\n",
      "    4      building       0.9999   0.1121    0.3880     2.4605    0.8245    0.6361   [38 63 70 88]\n",
      "    5      tree           0.9999   0.1811    0.4447     1.4551    0.6326    0.4080   [ 47  86  65 100]\n",
      "    6      cloud          0.9999   0.1477    0.5307     2.5940    0.7806    0.5733   [20  2 29 47]\n",
      "    6      cloud          0.9997   0.1022    0.3363     2.2889    0.4946    0.3633   [22 23 36 92]\n",
      "    6      cloud          0.9995   0.1639    0.6798     3.1476    1.0000    0.7344   [ 19  82  28 122]\n",
      "    3      sun            0.9976   0.2578    0.4866     0.8871    1.0000    1.0000   [12 64 21 80]\n",
      "    1      person         0.9970   0.1248    0.4606     2.6918    0.7535    0.6018   [ 79  26 122  34]\n",
      "    1      person         0.9719   0.2228    0.6113     1.7432    1.0000    0.7986   [52 81 79 88]\n",
      "    5      tree           0.9443   0.0933    0.7029     6.5375    1.0000    0.6450   [109  87 128 113]\n"
     ]
    },
    {
     "data": {
      "image/png": "[encoded data removed]",
      "text/plain": [
       "<matplotlib.figure.Figure at 0x1fdcb59f278>"
      ]
     },
     "metadata": {},
     "output_type": "display_data"
    }
   ],
   "source": [
    "results = model.detect([original_image], verbose=1)\n",
    "\n",
    "np.set_printoptions(precision=4, threshold=10000, linewidth=250, suppress=True)\n",
    "# print(results[0].keys())\n",
    "# print(results[0]['rois'])\n",
    "# print(results[0]['scores'])\n",
    "# print(results[0]['fcn_scores'][:,0])\n",
    "# print(results[0]['pre_scores'][:,0])\n",
    "r = results[0]\n",
    "\n",
    "print('  class ids  : ', r['class_ids'], type(r['class_ids']))\n",
    "print('  class names: ', dataset_test.class_names)\n",
    "print('  scores     : ', r['scores'], type(r['scores']))\n",
    "\n",
    "\n",
    "print('------------------------------------------------------------------------------------')\n",
    "print('                           mrcnn   pre_scr   fcn_scr    % score   fcn_scr   fcn_scr')\n",
    "print('cls_id    class name       score                         incrs     norm     L2 norm')\n",
    "print('------------------------------------------------------------------------------------')\n",
    "\n",
    "for c,s,fcn,pre, roi in zip(r['class_ids'], r['scores'],r['fcn_scores'],r['pre_scores'],r['rois']):\n",
    "    print(' {:4d}      {:12s}   {:.4f}   {:.4f}    {:.4f}    {:7.4f}    {:.4f}    {:.4f}   {}'.\n",
    "          format(c,cls_nms[c],s,pre[0],fcn[0],(fcn[0]-pre[0])/pre[0],fcn[1],fcn[2],roi))\n",
    "\n",
    "    \n",
    "visualize.display_instances(original_image, r['rois'], r['class_ids'], \n",
    "                            dataset_test.class_names, r['scores'], ax=get_ax())"
   ]
  },
  {
   "cell_type": "markdown",
   "metadata": {},
   "source": [
    "### 3.a - Remove last shape in image"
   ]
  },
  {
   "cell_type": "code",
   "execution_count": 134,
   "metadata": {
    "ExecuteTime": {
     "end_time": "2018-06-22T14:14:29.087251Z",
     "start_time": "2018-06-22T14:14:28.819975Z"
    },
    "scrolled": false
   },
   "outputs": [
    {
     "name": "stdout",
     "output_type": "stream",
     "text": [
      "{ 'bg_color': array([111,  81,  30]),\n",
      "  'height': 128,\n",
      "  'id': 1071,\n",
      "  'path': None,\n",
      "  'shapes': [ ('sun', (89, 30, 56), (69, 22, 9, 9)),\n",
      "              ('cloud', (57, 173, 133), (28, 27, 29, 7)),\n",
      "              ('building', (74, 75, 116), (91, 50, 11, 13)),\n",
      "              ('car', (112, 37, 203), (65, 84, 21, 10)),\n",
      "              ('person', (129, 113, 121), (85, 86, 3, 15))],\n",
      "  'source': 'shapes',\n",
      "  'width': 128}\n"
     ]
    }
   ],
   "source": [
    "dataset_test.image_info[image_id]['shapes'].pop()\n",
    "pp.pprint(dataset_test.image_info[image_id])"
   ]
  },
  {
   "cell_type": "markdown",
   "metadata": {},
   "source": [
    "###  3.b - Manpulate Image"
   ]
  },
  {
   "cell_type": "code",
   "execution_count": 135,
   "metadata": {
    "ExecuteTime": {
     "end_time": "2018-06-22T14:14:49.036900Z",
     "start_time": "2018-06-22T14:14:48.797512Z"
    },
    "hideCode": false,
    "hideOutput": true,
    "scrolled": true
   },
   "outputs": [],
   "source": [
    "color = tuple([random.randint(0, 255) for _ in range(3)])\n",
    "# dims  = (10,110,20,8)\n",
    "# -- add sun in bottom right \n",
    "# obj = ('sun', (228, 236, 53), (100, 120, 12, 12))\n",
    "\n",
    "# sun_obj = ('sun', (228, 236, 53), (100, 115, 12, 12))\n",
    "# -- add car to top area\n",
    "# obj = ('car', (64, 67, 30), (25,5,15,10))\n",
    "\n",
    "# add car to bottom right area\n",
    "# obj = ('car',   , (103,120,15,10))\n",
    "# shape = \"car\"\n",
    "\n",
    "# color, dims =dataset_test.random_shape(\"sun\", 128,128)\n",
    " \n",
    "# dims= (25,110,10,15)\n",
    "# shape = \"building\"\n",
    "\n",
    "# dataset_test.image_info[image_id]['shapes'].append((shape, color, dims))\n",
    "dataset_test.image_info[image_id]['shapes'].append(obj)"
   ]
  },
  {
   "cell_type": "markdown",
   "metadata": {},
   "source": [
    "###  3.c Display Maniplulated Image"
   ]
  },
  {
   "cell_type": "code",
   "execution_count": 136,
   "metadata": {
    "ExecuteTime": {
     "end_time": "2018-06-22T14:14:52.003936Z",
     "start_time": "2018-06-22T14:14:51.624947Z"
    },
    "scrolled": false
   },
   "outputs": [
    {
     "name": "stdout",
     "output_type": "stream",
     "text": [
      "Image Id : 1071\n",
      "{ 'bg_color': array([111,  81,  30]),\n",
      "  'height': 128,\n",
      "  'id': 1071,\n",
      "  'path': None,\n",
      "  'shapes': [ ('sun', (89, 30, 56), (69, 22, 9, 9)),\n",
      "              ('cloud', (57, 173, 133), (28, 27, 29, 7)),\n",
      "              ('building', (74, 75, 116), (91, 50, 11, 13)),\n",
      "              ('car', (112, 37, 203), (65, 84, 21, 10)),\n",
      "              ('person', (129, 113, 121), (85, 86, 3, 15)),\n",
      "              ('car', (64, 67, 30), (25, 5, 15, 10))],\n",
      "  'source': 'shapes',\n",
      "  'width': 128}\n",
      "[3 6 4 2 1 2]\n",
      "[[ 13  60  32  79]\n",
      " [ 20   0  35  58]\n",
      " [ 37  80  64 103]\n",
      " [ 74  44  92  82]\n",
      " [ 68  82  99  89]\n",
      " [  0  10  12  41]]\n",
      "\n",
      " shape list --------------------------\n",
      " 1: person   2: car  3: sun  4: building  5: tree  6: cloud \n"
     ]
    },
    {
     "data": {
      "image/png": "[encoded data removed]",
      "text/plain": [
       "<matplotlib.figure.Figure at 0x1fd7ffaf8d0>"
      ]
     },
     "metadata": {},
     "output_type": "display_data"
    }
   ],
   "source": [
    "# image_id = random.choice(dataset_test.image_ids)\n",
    "# image_id = 1585\n",
    "original_image, image_meta, gt_class_id, gt_bbox, gt_mask =\\\n",
    "    load_image_gt(dataset_test, inference_config, image_id, use_mini_mask=False)\n",
    "print('Image Id :', image_id)    \n",
    "pp.pprint(dataset_test.image_info[image_id])\n",
    "\n",
    "shape_list = dataset_test.image_info[image_id]['shapes']\n",
    "print(gt_class_id)\n",
    "print(gt_bbox)\n",
    "print('\\n shape list --------------------------')\n",
    "print(\" 1: person   2: car  3: sun  4: building  5: tree  6: cloud \")\n",
    "\n",
    "visualize.display_instances(original_image, gt_bbox,   gt_class_id, \n",
    "                            dataset_test.class_names, figsize=(8, 8))"
   ]
  },
  {
   "cell_type": "markdown",
   "metadata": {
    "hideCode": true
   },
   "source": [
    "### 4 -  Re-predict and Visualize model prediction"
   ]
  },
  {
   "cell_type": "code",
   "execution_count": 139,
   "metadata": {
    "ExecuteTime": {
     "end_time": "2018-06-22T14:16:48.237659Z",
     "start_time": "2018-06-22T14:16:47.509651Z"
    },
    "scrolled": false
   },
   "outputs": [
    {
     "name": "stdout",
     "output_type": "stream",
     "text": [
      "  class ids  :  [6 2 4 3 1 6 6] <class 'numpy.ndarray'>\n",
      "  class names:  ['BG', 'person', 'car', 'sun', 'building', 'tree', 'cloud']\n",
      "  scores     :  [1.     1.     0.9999 0.9999 0.9998 0.9172 0.7029] <class 'numpy.ndarray'>\n",
      "------------------------------------------------------------------------------------\n",
      "                           mrcnn   pre_scr   fcn_scr    % score   fcn_scr   fcn_scr\n",
      "cls_id    class name       score                         incrs     norm     L2 norm\n",
      "------------------------------------------------------------------------------------\n",
      "    6      cloud          1.0000   0.0641    0.3775     4.8927    0.6998    0.4854   [20  0 35 57]\n",
      "    2      car            1.0000   0.1167    0.6169     4.2850    1.0000    1.0000   [74 44 92 84]\n",
      "    4      building       0.9999   0.1285    0.6111     3.7555    1.0000    1.0000   [ 37  80  64 103]\n",
      "    3      sun            0.9999   0.1712    0.6467     2.7764    1.0000    1.0000   [13 60 32 78]\n",
      "    1      person         0.9998   0.1968    0.4121     1.0941    1.0000    1.0000   [ 67  82 101  89]\n",
      "    6      cloud          0.9172   0.1966    0.5394     1.7436    1.0000    0.6936   [ 1 11 10 39]\n",
      "    6      cloud          0.7029   0.1218    0.4139     2.3977    0.7674    0.5323   [10  9 22 45]\n"
     ]
    },
    {
     "data": {
      "image/png": "[encoded data removed]",
      "text/plain": [
       "<matplotlib.figure.Figure at 0x1fdc9514f60>"
      ]
     },
     "metadata": {},
     "output_type": "display_data"
    },
    {
     "data": {
      "image/png": "[encoded data removed]",
      "text/plain": [
       "<matplotlib.figure.Figure at 0x1fdc9514208>"
      ]
     },
     "metadata": {},
     "output_type": "display_data"
    },
    {
     "data": {
      "image/png": "[encoded data removed]",
      "text/plain": [
       "<matplotlib.figure.Figure at 0x1fdc96c0550>"
      ]
     },
     "metadata": {},
     "output_type": "display_data"
    }
   ],
   "source": [
    "results = model.detect([original_image], verbose=1)\n",
    "r = results[0]\n",
    "cls_nms = dataset_test.class_names\n",
    "print('  class ids  : ', r['class_ids'], type(r['class_ids']))\n",
    "print('  class names: ', dataset_test.class_names)\n",
    "print('  scores     : ', r['scores'], type(r['scores']))\n",
    "\n",
    "print('------------------------------------------------------------------------------------')\n",
    "print('                           mrcnn   pre_scr   fcn_scr    % score   fcn_scr   fcn_scr')\n",
    "print('cls_id    class name       score                         incrs     norm     L2 norm')\n",
    "print('------------------------------------------------------------------------------------')\n",
    "\n",
    "for c,s,fcn,pre, roi in zip(r['class_ids'], r['scores'],r['fcn_scores'],r['pre_scores'],r['rois']):\n",
    "    print(' {:4d}      {:12s}   {:.4f}   {:.4f}    {:.4f}    {:7.4f}    {:.4f}    {:.4f}   {}'.\n",
    "          format(c,cls_nms[c],s,pre[0],fcn[0],(fcn[0]-pre[0])/pre[0],fcn[1],fcn[2],roi))\n",
    "\n",
    "visualize.display_instances(original_image, r['rois'], r['class_ids'], \n",
    "                            dataset_test.class_names, r['scores'], ax=get_ax())\n",
    "visualize.display_instances(original_image, r['rois'], r['class_ids'], \n",
    "                            dataset_test.class_names, r['fcn_scores'][:,1], ax=get_ax())\n",
    "visualize.display_instances(original_image, r['rois'], r['class_ids'], \n",
    "                            dataset_test.class_names, r['fcn_scores'][:,2], ax=get_ax())"
   ]
  },
  {
   "cell_type": "markdown",
   "metadata": {},
   "source": [
    "### 5.a - Remove last shape in image"
   ]
  },
  {
   "cell_type": "code",
   "execution_count": 140,
   "metadata": {
    "ExecuteTime": {
     "end_time": "2018-06-22T14:18:13.495528Z",
     "start_time": "2018-06-22T14:18:13.240245Z"
    },
    "scrolled": false
   },
   "outputs": [
    {
     "name": "stdout",
     "output_type": "stream",
     "text": [
      "{ 'bg_color': array([111,  81,  30]),\n",
      "  'height': 128,\n",
      "  'id': 1071,\n",
      "  'path': None,\n",
      "  'shapes': [ ('sun', (89, 30, 56), (69, 22, 9, 9)),\n",
      "              ('cloud', (57, 173, 133), (28, 27, 29, 7)),\n",
      "              ('building', (74, 75, 116), (91, 50, 11, 13)),\n",
      "              ('car', (112, 37, 203), (65, 84, 21, 10)),\n",
      "              ('person', (129, 113, 121), (85, 86, 3, 15))],\n",
      "  'source': 'shapes',\n",
      "  'width': 128}\n"
     ]
    }
   ],
   "source": [
    "dataset_test.image_info[image_id]['shapes'].pop()\n",
    "pp.pprint(dataset_test.image_info[image_id])"
   ]
  },
  {
   "cell_type": "markdown",
   "metadata": {},
   "source": [
    "### 5.b - Add new shape in image"
   ]
  },
  {
   "cell_type": "code",
   "execution_count": 141,
   "metadata": {
    "ExecuteTime": {
     "end_time": "2018-06-22T14:20:57.315209Z",
     "start_time": "2018-06-22T14:20:57.034935Z"
    }
   },
   "outputs": [],
   "source": [
    "color = tuple([random.randint(0, 255) for _ in range(3)])\n",
    "# dims  = (10,110,20,8)\n",
    "# sun bottom right \n",
    "# obj = ('sun', color, (100,115,12,12))\n",
    " \n",
    "#--- move car lower    \n",
    "obj = ('car', (64, 67, 30), (25,10,15,10))\n",
    "# add car to bottom right area\n",
    "# obj = ('car',(64, 67, 30), (103,120,15,10))\n",
    "# color, dims =dataset_test.random_shape(\"sun\", 128,128)\n",
    " \n",
    "# obj = (\"building\",   ,(25,110,10,15))\n",
    "\n",
    "# dataset_test.image_info[image_id]['shapes'].append((shape, color, dims))\n",
    "dataset_test.image_info[image_id]['shapes'].append(obj)"
   ]
  },
  {
   "cell_type": "markdown",
   "metadata": {},
   "source": [
    "###  5.c Display Maniplulated Image"
   ]
  },
  {
   "cell_type": "code",
   "execution_count": 142,
   "metadata": {
    "ExecuteTime": {
     "end_time": "2018-06-22T14:21:08.586454Z",
     "start_time": "2018-06-22T14:21:08.191483Z"
    },
    "scrolled": false
   },
   "outputs": [
    {
     "name": "stdout",
     "output_type": "stream",
     "text": [
      "Image Id : 1071\n",
      "\n",
      " shape list --------------------------\n",
      "[ ('sun', (89, 30, 56), (69, 22, 9, 9)),\n",
      "  ('cloud', (57, 173, 133), (28, 27, 29, 7)),\n",
      "  ('building', (74, 75, 116), (91, 50, 11, 13)),\n",
      "  ('car', (112, 37, 203), (65, 84, 21, 10)),\n",
      "  ('person', (129, 113, 121), (85, 86, 3, 15)),\n",
      "  ('car', (64, 67, 30), (25, 10, 15, 10))]\n",
      "[[ 13  60  32  79]\n",
      " [ 20   0  35  58]\n",
      " [ 37  80  64 103]\n",
      " [ 74  44  92  82]\n",
      " [ 68  82  99  89]\n",
      " [  0  10  17  41]]\n",
      " 1: person   2: car  3: sun  4: building  5: tree  6: cloud \n"
     ]
    },
    {
     "data": {
      "image/png": "[encoded data removed]",
      "text/plain": [
       "<matplotlib.figure.Figure at 0x1fdcba12128>"
      ]
     },
     "metadata": {},
     "output_type": "display_data"
    }
   ],
   "source": [
    "original_image, image_meta, gt_class_id, gt_bbox, gt_mask =\\\n",
    "    load_image_gt(dataset_test, inference_config, image_id, use_mini_mask=False)\n",
    "    \n",
    "\n",
    "print('Image Id :', image_id)    \n",
    "# pp.pprint(dataset_test.image_info[image_id])\n",
    "\n",
    "shape_list = dataset_test.image_info[image_id]['shapes']\n",
    "print('\\n shape list --------------------------')\n",
    "pp.pprint(shape_list)\n",
    "print(gt_bbox)\n",
    "\n",
    "print(\" 1: person   2: car  3: sun  4: building  5: tree  6: cloud \")\n",
    "visualize.display_instances(original_image, gt_bbox,   gt_class_id, \n",
    "                            dataset_test.class_names, figsize=(8, 8))"
   ]
  },
  {
   "cell_type": "markdown",
   "metadata": {
    "hideCode": true
   },
   "source": [
    "###  6 - Re-predict and Visualize model prediction"
   ]
  },
  {
   "cell_type": "code",
   "execution_count": 145,
   "metadata": {
    "ExecuteTime": {
     "end_time": "2018-06-22T14:22:03.237783Z",
     "start_time": "2018-06-22T14:22:02.501753Z"
    },
    "scrolled": false
   },
   "outputs": [
    {
     "name": "stdout",
     "output_type": "stream",
     "text": [
      "------------------------------------------------------------------------------------\n",
      "                           mrcnn   pre_scr   fcn_scr    % score   fcn_scr   fcn_scr\n",
      "cls_id    class name       score                         incrs     norm     L2 norm\n",
      "------------------------------------------------------------------------------------\n",
      "    6      cloud          1.0000   0.0667    0.3643     4.4653    0.8493    0.6473   [20  0 35 58]\n",
      "    2      car            1.0000   0.0830    0.5837     6.0321    0.9188    0.6766   [74 44 92 84]\n",
      "    4      building       1.0000   0.1297    0.5723     3.4115    1.0000    1.0000   [ 37  80  63 103]\n",
      "    3      sun            0.9999   0.1712    0.5745     2.3553    1.0000    1.0000   [13 60 32 78]\n",
      "    1      person         0.9998   0.2013    0.4013     0.9939    1.0000    1.0000   [ 67  82 100  89]\n",
      "    2      car            0.7189   0.1631    0.6352     2.8937    1.0000    0.7364   [ 1 13 15 39]\n",
      "    5      tree           0.6281   0.1807    0.2871     0.5890    1.0000    1.0000   [ 0 15 15 36]\n",
      "    6      cloud          0.5785   0.1732    0.4290     1.4765    1.0000    0.7622   [ 5  9 16 39]\n"
     ]
    },
    {
     "data": {
      "image/png": "[encoded data removed]",
      "text/plain": [
       "<matplotlib.figure.Figure at 0x1fd7f431358>"
      ]
     },
     "metadata": {},
     "output_type": "display_data"
    },
    {
     "data": {
      "image/png": "[encoded data removed]",
      "text/plain": [
       "<matplotlib.figure.Figure at 0x1fd7f431c18>"
      ]
     },
     "metadata": {},
     "output_type": "display_data"
    },
    {
     "data": {
      "image/png": "[encoded data removed]",
      "text/plain": [
       "<matplotlib.figure.Figure at 0x1fdca340ef0>"
      ]
     },
     "metadata": {},
     "output_type": "display_data"
    }
   ],
   "source": [
    "\n",
    "results = model.detect([original_image], verbose=1)\n",
    "r = results[0]\n",
    "cls_nms = dataset_test.class_names\n",
    "# print('  class ids  : ', r['class_ids'], type(r['class_ids']))\n",
    "# print('  class names: ', dataset_test.class_names)\n",
    "# print('  scores     : ', r['scores'], type(r['scores']))\n",
    "\n",
    "print('------------------------------------------------------------------------------------')\n",
    "print('                           mrcnn   pre_scr   fcn_scr    % score   fcn_scr   fcn_scr')\n",
    "print('cls_id    class name       score                         incrs     norm     L2 norm')\n",
    "print('------------------------------------------------------------------------------------')\n",
    "\n",
    "\n",
    "for c,s,fcn,pre, roi in zip(r['class_ids'], r['scores'],r['fcn_scores'],r['pre_scores'],r['rois']):\n",
    "    print(' {:4d}      {:12s}   {:.4f}   {:.4f}    {:.4f}    {:7.4f}    {:.4f}    {:.4f}   {}'.\n",
    "          format(c,cls_nms[c],s,pre[0],fcn[0],(fcn[0]-pre[0])/pre[0],fcn[1],fcn[2],roi))\n",
    "\n",
    "\n",
    "visualize.display_instances(original_image, r['rois'], r['class_ids'], \n",
    "                            dataset_test.class_names, r['scores'], ax=get_ax())\n",
    "visualize.display_instances(original_image, r['rois'], r['class_ids'], \n",
    "                            dataset_test.class_names, r['fcn_scores'][:,1], ax=get_ax())\n",
    "visualize.display_instances(original_image, r['rois'], r['class_ids'], \n",
    "                            dataset_test.class_names, r['fcn_scores'][:,2], ax=get_ax())"
   ]
  },
  {
   "cell_type": "markdown",
   "metadata": {},
   "source": [
    "###  Remove object - add in new postiion - repredict"
   ]
  },
  {
   "cell_type": "code",
   "execution_count": 148,
   "metadata": {
    "ExecuteTime": {
     "end_time": "2018-06-22T14:28:42.274720Z",
     "start_time": "2018-06-22T14:28:41.878779Z"
    },
    "scrolled": true
   },
   "outputs": [
    {
     "name": "stdout",
     "output_type": "stream",
     "text": [
      "{ 'bg_color': array([111,  81,  30]),\n",
      "  'height': 128,\n",
      "  'id': 1071,\n",
      "  'path': None,\n",
      "  'shapes': [ ('sun', (89, 30, 56), (69, 22, 9, 9)),\n",
      "              ('cloud', (57, 173, 133), (28, 27, 29, 7)),\n",
      "              ('building', (74, 75, 116), (91, 50, 11, 13)),\n",
      "              ('car', (112, 37, 203), (65, 84, 21, 10)),\n",
      "              ('person', (129, 113, 121), (85, 86, 3, 15))],\n",
      "  'source': 'shapes',\n",
      "  'width': 128}\n",
      "Image Id : 1071\n",
      "{ 'bg_color': array([111,  81,  30]),\n",
      "  'height': 128,\n",
      "  'id': 1071,\n",
      "  'path': None,\n",
      "  'shapes': [ ('sun', (89, 30, 56), (69, 22, 9, 9)),\n",
      "              ('cloud', (57, 173, 133), (28, 27, 29, 7)),\n",
      "              ('building', (74, 75, 116), (91, 50, 11, 13)),\n",
      "              ('car', (112, 37, 203), (65, 84, 21, 10)),\n",
      "              ('person', (129, 113, 121), (85, 86, 3, 15)),\n",
      "              ('car', (64, 67, 30), (25, 40, 15, 10))],\n",
      "  'source': 'shapes',\n",
      "  'width': 128}\n",
      "[3 6 4 2 1 2]\n",
      "[[ 13  60  32  79]\n",
      " [ 20   0  35  58]\n",
      " [ 37  80  64 103]\n",
      " [ 74  44  92  82]\n",
      " [ 68  82  99  89]\n",
      " [ 30  10  47  41]]\n",
      "\n",
      " shape list --------------------------\n",
      " 1: person   2: car  3: sun  4: building  5: tree  6: cloud \n"
     ]
    },
    {
     "data": {
      "image/png": "[encoded data removed]",
      "text/plain": [
       "<matplotlib.figure.Figure at 0x1fd79cbf748>"
      ]
     },
     "metadata": {},
     "output_type": "display_data"
    }
   ],
   "source": [
    "dataset_test.image_info[image_id]['shapes'].pop()\n",
    "pp.pprint(dataset_test.image_info[image_id])\n",
    "#--- move car lower    \n",
    "obj = ('car', (64, 67, 30), (25,40,15,10))\n",
    "# add car to bottom right area\n",
    "# obj = ('car',(64, 67, 30), (103,120,15,10))\n",
    "# color, dims =dataset_test.random_shape(\"sun\", 128,128)\n",
    " \n",
    "# obj = (\"building\",   ,(25,110,10,15))\n",
    "\n",
    "# dataset_test.image_info[image_id]['shapes'].append((shape, color, dims))\n",
    "dataset_test.image_info[image_id]['shapes'].append(obj)\n",
    "\n",
    "original_image, image_meta, gt_class_id, gt_bbox, gt_mask =\\\n",
    "    load_image_gt(dataset_test, inference_config, image_id, use_mini_mask=False)\n",
    "print('Image Id :', image_id)    \n",
    "pp.pprint(dataset_test.image_info[image_id])\n",
    "shape_list = dataset_test.image_info[image_id]['shapes']\n",
    "print(gt_class_id)\n",
    "print(gt_bbox)\n",
    "print('\\n shape list --------------------------')\n",
    "print(\" 1: person   2: car  3: sun  4: building  5: tree  6: cloud \")\n",
    "\n",
    "visualize.display_instances(original_image, gt_bbox,   gt_class_id, \n",
    "                            dataset_test.class_names, figsize=(8, 8))"
   ]
  },
  {
   "cell_type": "markdown",
   "metadata": {
    "hideCode": true
   },
   "source": [
    "###  Repredict and Visualize model prediction"
   ]
  },
  {
   "cell_type": "code",
   "execution_count": 149,
   "metadata": {
    "ExecuteTime": {
     "end_time": "2018-06-22T14:29:01.025680Z",
     "start_time": "2018-06-22T14:28:59.502624Z"
    },
    "scrolled": false
   },
   "outputs": [
    {
     "name": "stdout",
     "output_type": "stream",
     "text": [
      "Processing 1 images\n",
      "image                    shape: (128, 128, 3)         min:   30.00000  max:  203.00000\n",
      "molded_images            shape: (1, 128, 128, 3)      min:  -86.80000  max:   99.10000\n",
      "image_metas              shape: (1, 15)               min:    0.00000  max:  128.00000\n",
      "    Wrapper for Detection Layer : call()  <class 'list'> 4\n",
      "     rpn_proposals_roi  : (1, ?, ?) (1, 1000, 4) <class 'numpy.ndarray'>\n",
      "     mrcnn_class.shape  : (?, 1000, 7) (1, 1000, 7) <class 'numpy.ndarray'>\n",
      "     mrcnn_bboxes.shape : (?, 1000, 7, 4) (1, 1000, 7, 4) <class 'numpy.ndarray'>\n",
      "     image_meta         : (?, ?) (1, 15) <class 'numpy.ndarray'>\n",
      "    return from  predict()\n",
      "    Length of detections :  1\n",
      "\n",
      "------------------------------------------------------------------------------------\n",
      "                           mrcnn   pre_scr   fcn_scr    % score   fcn_scr   fcn_scr\n",
      "cls_id    class name       score                         incrs     norm     L2 norm\n",
      "------------------------------------------------------------------------------------\n",
      "    4      building       1.0000   0.1297    0.5010     2.8620    1.0000    1.0000   [ 37  80  63 103]\n",
      "    2      car            0.9999   0.0938    0.5625     4.9941    0.9579    0.6917   [74 44 92 84]\n",
      "    3      sun            0.9999   0.1690    0.5925     2.5057    1.0000    1.0000   [13 60 32 79]\n",
      "    1      person         0.9999   0.1968    0.4496     1.2845    1.0000    1.0000   [ 67  82 101  89]\n",
      "    6      cloud          0.9997   0.1063    0.3341     2.1416    1.0000    1.0000   [20  2 36 56]\n",
      "    2      car            0.9199   0.1496    0.5872     2.9265    1.0000    0.7222   [30 11 45 41]\n",
      "    5      tree           0.5598   0.1345    0.4038     2.0014    1.0000    1.0000   [25 11 46 38]\n"
     ]
    },
    {
     "data": {
      "image/png": "[encoded data removed]",
      "text/plain": [
       "<matplotlib.figure.Figure at 0x1fd79fbd9b0>"
      ]
     },
     "metadata": {},
     "output_type": "display_data"
    },
    {
     "data": {
      "image/png": "[encoded data removed]",
      "text/plain": [
       "<matplotlib.figure.Figure at 0x1fd79fbd8d0>"
      ]
     },
     "metadata": {},
     "output_type": "display_data"
    },
    {
     "data": {
      "image/png": "[encoded data removed]",
      "text/plain": [
       "<matplotlib.figure.Figure at 0x1fd7f3e04e0>"
      ]
     },
     "metadata": {},
     "output_type": "display_data"
    }
   ],
   "source": [
    "results = model.detect([original_image], verbose=1)\n",
    "r = results[0]\n",
    "cls_nms = dataset_test.class_names\n",
    "# print('  class ids  : ', r['class_ids'], type(r['class_ids']))\n",
    "# print('  class names: ', dataset_test.class_names)\n",
    "# print('  scores     : ', r['scores'], type(r['scores']))\n",
    "\n",
    "print('------------------------------------------------------------------------------------')\n",
    "print('                           mrcnn   pre_scr   fcn_scr    % score   fcn_scr   fcn_scr')\n",
    "print('cls_id    class name       score                         incrs     norm     L2 norm')\n",
    "print('------------------------------------------------------------------------------------')\n",
    "\n",
    "\n",
    "for c,s,fcn,pre, roi in zip(r['class_ids'], r['scores'],r['fcn_scores'],r['pre_scores'],r['rois']):\n",
    "    print(' {:4d}      {:12s}   {:.4f}   {:.4f}    {:.4f}    {:7.4f}    {:.4f}    {:.4f}   {}'.\n",
    "          format(c,cls_nms[c],s,pre[0],fcn[0],(fcn[0]-pre[0])/pre[0],fcn[1],fcn[2],roi))\n",
    "\n",
    "\n",
    "visualize.display_instances(original_image, r['rois'], r['class_ids'], \n",
    "                            dataset_test.class_names, r['scores'], ax=get_ax())\n",
    "visualize.display_instances(original_image, r['rois'], r['class_ids'], \n",
    "                            dataset_test.class_names, r['fcn_scores'][:,1], ax=get_ax())\n",
    "visualize.display_instances(original_image, r['rois'], r['class_ids'], \n",
    "                            dataset_test.class_names, r['fcn_scores'][:,2], ax=get_ax())"
   ]
  },
  {
   "cell_type": "code",
   "execution_count": null,
   "metadata": {},
   "outputs": [],
   "source": []
  },
  {
   "cell_type": "markdown",
   "metadata": {},
   "source": [
    "###  Remove object - add in new postiion - repredict (3)"
   ]
  },
  {
   "cell_type": "code",
   "execution_count": 154,
   "metadata": {
    "ExecuteTime": {
     "end_time": "2018-06-22T14:31:21.475989Z",
     "start_time": "2018-06-22T14:31:21.094994Z"
    },
    "scrolled": true
   },
   "outputs": [
    {
     "name": "stdout",
     "output_type": "stream",
     "text": [
      "{ 'bg_color': array([111,  81,  30]),\n",
      "  'height': 128,\n",
      "  'id': 1071,\n",
      "  'path': None,\n",
      "  'shapes': [ ('sun', (89, 30, 56), (69, 22, 9, 9)),\n",
      "              ('cloud', (57, 173, 133), (28, 27, 29, 7)),\n",
      "              ('building', (74, 75, 116), (91, 50, 11, 13)),\n",
      "              ('car', (112, 37, 203), (65, 84, 21, 10)),\n",
      "              ('person', (129, 113, 121), (85, 86, 3, 15))],\n",
      "  'source': 'shapes',\n",
      "  'width': 128}\n",
      "Image Id : 1071\n",
      "{ 'bg_color': array([111,  81,  30]),\n",
      "  'height': 128,\n",
      "  'id': 1071,\n",
      "  'path': None,\n",
      "  'shapes': [ ('sun', (89, 30, 56), (69, 22, 9, 9)),\n",
      "              ('cloud', (57, 173, 133), (28, 27, 29, 7)),\n",
      "              ('building', (74, 75, 116), (91, 50, 11, 13)),\n",
      "              ('car', (112, 37, 203), (65, 84, 21, 10)),\n",
      "              ('person', (129, 113, 121), (85, 86, 3, 15)),\n",
      "              ('car', (64, 67, 30), (25, 50, 15, 10))],\n",
      "  'source': 'shapes',\n",
      "  'width': 128}\n",
      "[3 6 4 2 1 2]\n",
      "[[ 13  60  32  79]\n",
      " [ 20   0  35  58]\n",
      " [ 37  80  64 103]\n",
      " [ 74  44  92  82]\n",
      " [ 68  82  99  89]\n",
      " [ 40  10  57  41]]\n",
      "\n",
      " shape list --------------------------\n",
      " 1: person   2: car  3: sun  4: building  5: tree  6: cloud \n"
     ]
    },
    {
     "data": {
      "image/png": "[encoded data removed]",
      "text/plain": [
       "<matplotlib.figure.Figure at 0x1fdd3b8b940>"
      ]
     },
     "metadata": {},
     "output_type": "display_data"
    }
   ],
   "source": [
    "dataset_test.image_info[image_id]['shapes'].pop()\n",
    "pp.pprint(dataset_test.image_info[image_id])\n",
    "#--- move car lower    \n",
    "obj = ('car', (64, 67, 30), (25,50,15,10))\n",
    "# add car to bottom right area\n",
    "# obj = ('car',(64, 67, 30), (103,120,15,10))\n",
    "# color, dims =dataset_test.random_shape(\"sun\", 128,128)\n",
    " \n",
    "# obj = (\"building\",   ,(25,110,10,15))\n",
    "\n",
    "# dataset_test.image_info[image_id]['shapes'].append((shape, color, dims))\n",
    "dataset_test.image_info[image_id]['shapes'].append(obj)\n",
    "\n",
    "original_image, image_meta, gt_class_id, gt_bbox, gt_mask =\\\n",
    "    load_image_gt(dataset_test, inference_config, image_id, use_mini_mask=False)\n",
    "print('Image Id :', image_id)    \n",
    "pp.pprint(dataset_test.image_info[image_id])\n",
    "shape_list = dataset_test.image_info[image_id]['shapes']\n",
    "print(gt_class_id)\n",
    "print(gt_bbox)\n",
    "print('\\n shape list --------------------------')\n",
    "print(\" 1: person   2: car  3: sun  4: building  5: tree  6: cloud \")\n",
    "\n",
    "visualize.display_instances(original_image, gt_bbox,   gt_class_id, \n",
    "                            dataset_test.class_names, figsize=(8, 8))"
   ]
  },
  {
   "cell_type": "markdown",
   "metadata": {
    "hideCode": true
   },
   "source": [
    "###  Repredict and Visualize model prediction"
   ]
  },
  {
   "cell_type": "code",
   "execution_count": 155,
   "metadata": {
    "ExecuteTime": {
     "end_time": "2018-06-22T14:31:29.325532Z",
     "start_time": "2018-06-22T14:31:27.780140Z"
    },
    "scrolled": false
   },
   "outputs": [
    {
     "name": "stdout",
     "output_type": "stream",
     "text": [
      "Processing 1 images\n",
      "image                    shape: (128, 128, 3)         min:   30.00000  max:  203.00000\n",
      "molded_images            shape: (1, 128, 128, 3)      min:  -86.80000  max:   99.10000\n",
      "image_metas              shape: (1, 15)               min:    0.00000  max:  128.00000\n",
      "    Wrapper for Detection Layer : call()  <class 'list'> 4\n",
      "     rpn_proposals_roi  : (1, ?, ?) (1, 1000, 4) <class 'numpy.ndarray'>\n",
      "     mrcnn_class.shape  : (?, 1000, 7) (1, 1000, 7) <class 'numpy.ndarray'>\n",
      "     mrcnn_bboxes.shape : (?, 1000, 7, 4) (1, 1000, 7, 4) <class 'numpy.ndarray'>\n",
      "     image_meta         : (?, ?) (1, 15) <class 'numpy.ndarray'>\n",
      "    return from  predict()\n",
      "    Length of detections :  1\n",
      "\n",
      "------------------------------------------------------------------------------------\n",
      "                           mrcnn   pre_scr   fcn_scr    % score   fcn_scr   fcn_scr\n",
      "cls_id    class name       score                         incrs     norm     L2 norm\n",
      "------------------------------------------------------------------------------------\n",
      "    6      cloud          1.0000   0.1090    0.4171     2.8270    1.0000    1.0000   [20  0 35 57]\n",
      "    4      building       1.0000   0.1297    0.4147     2.1968    1.0000    1.0000   [ 37  80  63 103]\n",
      "    2      car            1.0000   0.0962    0.5824     5.0569    0.8912    0.6653   [74 44 92 84]\n",
      "    3      sun            0.9999   0.1690    0.6481     2.8349    1.0000    1.0000   [13 60 32 79]\n",
      "    1      person         0.9999   0.1968    0.4605     1.3399    1.0000    1.0000   [ 67  82 101  89]\n",
      "    2      car            0.9886   0.1483    0.6536     3.4065    1.0000    0.7466   [41 10 56 41]\n",
      "    5      tree           0.5170   0.1416    0.3204     1.2627    1.0000    1.0000   [37 15 57 40]\n"
     ]
    },
    {
     "data": {
      "image/png": "[encoded data removed]",
      "text/plain": [
       "<matplotlib.figure.Figure at 0x1fdcb595da0>"
      ]
     },
     "metadata": {},
     "output_type": "display_data"
    },
    {
     "data": {
      "image/png": "[encoded data removed]",
      "text/plain": [
       "<matplotlib.figure.Figure at 0x1fdcb595cc0>"
      ]
     },
     "metadata": {},
     "output_type": "display_data"
    },
    {
     "data": {
      "image/png": "[encoded data removed]",
      "text/plain": [
       "<matplotlib.figure.Figure at 0x1fdd69bc8d0>"
      ]
     },
     "metadata": {},
     "output_type": "display_data"
    }
   ],
   "source": [
    "results = model.detect([original_image], verbose=1)\n",
    "r = results[0]\n",
    "cls_nms = dataset_test.class_names\n",
    "# print('  class ids  : ', r['class_ids'], type(r['class_ids']))\n",
    "# print('  class names: ', dataset_test.class_names)\n",
    "# print('  scores     : ', r['scores'], type(r['scores']))\n",
    "\n",
    "print('------------------------------------------------------------------------------------')\n",
    "print('                           mrcnn   pre_scr   fcn_scr    % score   fcn_scr   fcn_scr')\n",
    "print('cls_id    class name       score                         incrs     norm     L2 norm')\n",
    "print('------------------------------------------------------------------------------------')\n",
    "\n",
    "\n",
    "for c,s,fcn,pre, roi in zip(r['class_ids'], r['scores'],r['fcn_scores'],r['pre_scores'],r['rois']):\n",
    "    print(' {:4d}      {:12s}   {:.4f}   {:.4f}    {:.4f}    {:7.4f}    {:.4f}    {:.4f}   {}'.\n",
    "          format(c,cls_nms[c],s,pre[0],fcn[0],(fcn[0]-pre[0])/pre[0],fcn[1],fcn[2],roi))\n",
    "\n",
    "\n",
    "visualize.display_instances(original_image, r['rois'], r['class_ids'], \n",
    "                            dataset_test.class_names, r['scores'], ax=get_ax())\n",
    "visualize.display_instances(original_image, r['rois'], r['class_ids'], \n",
    "                            dataset_test.class_names, r['fcn_scores'][:,1], ax=get_ax())\n",
    "visualize.display_instances(original_image, r['rois'], r['class_ids'], \n",
    "                            dataset_test.class_names, r['fcn_scores'][:,2], ax=get_ax())"
   ]
  },
  {
   "cell_type": "code",
   "execution_count": null,
   "metadata": {},
   "outputs": [],
   "source": []
  },
  {
   "cell_type": "code",
   "execution_count": null,
   "metadata": {
    "ExecuteTime": {
     "end_time": "2018-06-20T19:08:30.641013Z",
     "start_time": "2018-06-20T19:08:30.378723Z"
    }
   },
   "outputs": [],
   "source": [
    "np.set_printoptions(precision=4, threshold=10000, linewidth=250, suppress=True)\n",
    "# fcn_scrs = results[0]['fcn_scores']\n",
    "# print(fcn_scrs[:,:,:10])\n",
    "# mrcnn_scrs = results[0]['mrcnn_scores']\n",
    "# print(mrcnn_scrs[:,:,:10])"
   ]
  },
  {
   "cell_type": "code",
   "execution_count": null,
   "metadata": {
    "ExecuteTime": {
     "end_time": "2018-06-20T19:10:21.845453Z",
     "start_time": "2018-06-20T19:10:21.571224Z"
    },
    "scrolled": true
   },
   "outputs": [],
   "source": [
    "  'shapes': [ ('sun', (32, 81, 240), (72, 19, 8, 8)),\n",
    "              ('cloud', (74, 212, 252), (74, 20, 15, 3)),\n",
    "              ('cloud', (78, 234, 58), (100, 23, 21, 4)),\n",
    "              ('cloud', (64, 67, 30), (25, 24, 23, 4)),\n",
    "              ('cloud', (115, 153, 148), (57, 29, 33, 6)),\n",
    "              ('tree', (41, 131, 93), (45, 49, 9, 9)),\n",
    "              ('building', (215, 186, 206), (75, 53, 12, 15)),\n",
    "              ('tree', (56, 8, 171), (91, 54, 10, 10)),\n",
    "              ('person', (75, 162, 223), (84, 66, 2, 10)),\n",
    "              ('building', (98, 189, 59), (21, 73, 17, 24)),\n",
    "              ('tree', (213, 92, 222), (32, 101, 22, 22)),\n",
    "              ('person', (102, 134, 57), (30, 101, 3, 18)),\n",
    "              ('car', (89, 238, 118), (25, 10, 15, 10))],"
   ]
  },
  {
   "cell_type": "code",
   "execution_count": null,
   "metadata": {
    "ExecuteTime": {
     "end_time": "2018-06-22T10:29:52.942857Z",
     "start_time": "2018-06-22T10:29:52.232735Z"
    },
    "scrolled": false
   },
   "outputs": [],
   "source": [
    "r = results[0]\n",
    "\n",
    "print('  class ids  : ', r['class_ids'], type(r['class_ids']))\n",
    "print('  class names: ', dataset_test.class_names)\n",
    "print('  scores     : ', r['scores'], type(r['scores']))\n",
    "visualize.display_instances(original_image, r['rois'], r['class_ids'], \n",
    "                            dataset_test.class_names, r['scores'], ax=get_ax())\n",
    "\n",
    "visualize.display_instances(original_image, r['rois'], r['class_ids'], \n",
    "                            dataset_test.class_names, r['fcn_scores'][:,1], ax=get_ax())\n",
    "visualize.display_instances(original_image, r['rois'], r['class_ids'], \n",
    "                            dataset_test.class_names, r['fcn_scores'][:,2], ax=get_ax())"
   ]
  },
  {
   "cell_type": "code",
   "execution_count": null,
   "metadata": {},
   "outputs": [],
   "source": []
  },
  {
   "cell_type": "markdown",
   "metadata": {},
   "source": [
    "###  Display `gauss_heatmap` 3D heatmap (not normalized, normlized, L2 normalized)"
   ]
  },
  {
   "cell_type": "code",
   "execution_count": null,
   "metadata": {
    "ExecuteTime": {
     "end_time": "2018-06-21T18:46:08.176578Z",
     "start_time": "2018-06-21T18:46:01.072562Z"
    },
    "hideCode": false,
    "hideOutput": false,
    "scrolled": false
   },
   "outputs": [],
   "source": [
    "from mrcnn.visualize import plot_3d_heatmap, plot_2d_heatmap\n",
    "%matplotlib inline\n",
    "print('Image id: ',image_id , '    Classes (1: circle, 2: square, 3: triangle ): ')\n",
    "\n",
    "fcn_heatmap_norm = []\n",
    "pred_heatmap_norm = []\n",
    "img = 0\n",
    "cls = 0\n",
    "# print(pred_heatmap_scores[img,cls,:10])\n",
    "fcn_heatmap_norm.append(results[0]['fcn_hm_norm'][0])\n",
    "pred_heatmap_norm.append(results[0]['pr_hm_norm'][0])\n",
    "print(pred_heatmap_norm[0].shape)\n",
    "# ttl = 'Non-normalized - image: {}'.format(img)\n",
    "# plot_3d_heatmap(pred_heatmap[img], title = ttl, width = 20)\n",
    "ttl = 'Pre FCN - Normalized'.format(img)\n",
    "plot_3d_heatmap(pred_heatmap_norm[img], title = ttl, width = 20,class_names = dataset_test.class_names)\n",
    "\n",
    "# ttl = 'Non-normalized - image: {}'.format(img)\n",
    "# plot_3d_heatmap(fcn_heatmap[img], title = ttl, width = 20)\n",
    "ttl = 'Post FCN - Normalized'.format(img)\n",
    "plot_3d_heatmap(fcn_heatmap_norm[img], title = ttl, width = 20,class_names = dataset_test.class_names)\n",
    "\n",
    "# ttl = 'Ground Truth Non-normalized - image: {}'.format(img)\n",
    "# plot_3d_heatmap(gt_heatmap[img], title = ttl, width = 20)\n",
    "# ttl = 'Ground Truth Normalized - image: {}'.format(img)\n",
    "# plot_3d_heatmap(gt_heatmap_norm[img], title = ttl, width = 20)\n",
    "\n",
    "\n",
    "# ttl = 'Non-normalized - image: {}'.format(img)\n",
    "# plot_2d_heatmap(pred_heatmap[img], pred_heatmap_scores[img], width=15, title=ttl)\n",
    "# ttl = 'Normalized - image: {}'.format(img)\n",
    "# plot_2d_heatmap(pred_heatmap_norm[img], pred_heatmap_scores[img], width=15, title=ttl)\n"
   ]
  },
  {
   "cell_type": "markdown",
   "metadata": {},
   "source": [
    "####  Display `pred_heatmap` / `fcn_heatmap` (not normalized, normlized)"
   ]
  },
  {
   "cell_type": "code",
   "execution_count": null,
   "metadata": {
    "ExecuteTime": {
     "end_time": "2018-06-21T18:42:36.954729Z",
     "start_time": "2018-06-21T18:42:34.950105Z"
    },
    "hideCode": false,
    "hideOutput": false
   },
   "outputs": [],
   "source": [
    "from mrcnn.visualize import plot_2d_heatmap\n",
    "%matplotlib inline\n",
    "# print('Image id: ',image_id , '    Classes (1: circle, 2: square, 3: triangle ): ')\n",
    "img = 0\n",
    "fcn_heatmap_scores = []\n",
    "pred_heatmap_scores = []\n",
    "img = 0\n",
    "cls = 0\n",
    "# print(pred_heatmap_scores[img,cls,:10])\n",
    "fcn_heatmap_scores.append(results[0]['fcn_scores'][0])\n",
    "pred_heatmap_scores.append(results[0]['pr_scores'][0])\n",
    "# print(pred_heatmap_scores[img,0,0])\n",
    "plot_2d_heatmap(pred_heatmap_norm[img], pred_heatmap_scores[img], width=19, num_bboxes = 10, title='Pre FCN-normalized',class_names = dataset_test.class_names)\n",
    "# plot_2d_heatmap(pred_heatmap_norm[img], pred_heatmap_scores[img], width=19, num_bboxes = 10, title='normalized')\n",
    "plot_2d_heatmap(fcn_heatmap_norm[img], fcn_heatmap_scores[img], width=19, num_bboxes = 10,  title='FCN-normalized',class_names = dataset_test.class_names)\n",
    "# plot_heatmaps(pred_heatmap, pred_heatmap_scores, width = 15, num_bboxes=12)"
   ]
  },
  {
   "cell_type": "code",
   "execution_count": null,
   "metadata": {
    "ExecuteTime": {
     "end_time": "2018-06-21T18:36:28.291191Z",
     "start_time": "2018-06-21T18:36:28.064825Z"
    }
   },
   "outputs": [],
   "source": [
    "dataset_test.class_names"
   ]
  },
  {
   "cell_type": "code",
   "execution_count": null,
   "metadata": {
    "ExecuteTime": {
     "end_time": "2018-06-21T19:48:10.533624Z",
     "start_time": "2018-06-21T19:48:10.279308Z"
    }
   },
   "outputs": [],
   "source": [
    "p1 = results[0]['pr_scores'][0]\n",
    "p2 = results[0]['fcn_scores'][0]\n",
    "rois = results[0]['rois']\n",
    "print(p1.shape, p2.shape)\n",
    "# p2_shape = p2.shape\n",
    "p3 = np.reshape(p2, (-1,p2.shape[-1]))\n",
    "print(p3.shape)\n",
    "# print(p3[301:600])\n",
    "zero_ix = np.where(p3[:, 4] != 0)[0]"
   ]
  },
  {
   "cell_type": "code",
   "execution_count": null,
   "metadata": {
    "ExecuteTime": {
     "end_time": "2018-06-21T19:56:19.151341Z",
     "start_time": "2018-06-21T19:56:18.913977Z"
    }
   },
   "outputs": [],
   "source": [
    "np.set_printoptions(precision=4, threshold=10000, linewidth=250, suppress=True)\n",
    "print(type(zero_ix), len(zero_ix), zero_ix.shape)\n",
    "print(p3[zero_ix,:])\n",
    "print(rois)\n",
    "print(results[0]['class_ids'])\n",
    "p4 = p3[p3[:,5].argsort()[::-1]]\n",
    "print(p4[:20])"
   ]
  },
  {
   "cell_type": "markdown",
   "metadata": {},
   "source": [
    "## Evaluation"
   ]
  },
  {
   "cell_type": "code",
   "execution_count": null,
   "metadata": {
    "ExecuteTime": {
     "end_time": "2018-05-10T11:57:47.846606Z",
     "start_time": "2018-05-10T11:57:22.672337Z"
    },
    "scrolled": true
   },
   "outputs": [],
   "source": [
    "# Compute VOC-Style mAP @ IoU=0.5\n",
    "# Running on 10 images. Increase for better accuracy.\n",
    "from mrcnn.datagen     import data_generator, load_image_gt\n",
    "import  mrcnn.utils as utils \n",
    "\n",
    "image_ids = np.random.choice(dataset_test.image_ids, 100)\n",
    "APs = []\n",
    "for image_id in image_ids:\n",
    "    # Load image and ground truth data\n",
    "    image, image_meta, gt_class_id, gt_bbox, gt_mask =\\\n",
    "        load_image_gt(dataset_test, inference_config,\n",
    "                               image_id, use_mini_mask=False)\n",
    "    molded_images = np.expand_dims(utils.mold_image(image, inference_config), 0)\n",
    "    # Run object detection\n",
    "    results = model.detect([image], verbose=0)\n",
    "    r = results[0]\n",
    "    # Compute AP\n",
    "    AP, precisions, recalls, overlaps =\\\n",
    "        utils.compute_ap(gt_bbox, gt_class_id,\n",
    "                         r[\"rois\"], r[\"class_ids\"], r[\"scores\"])\n",
    "    APs.append(AP)\n",
    "    \n",
    "print(\"mAP: \", np.mean(APs))"
   ]
  },
  {
   "cell_type": "markdown",
   "metadata": {},
   "source": [
    "### Get next shapes from generator and display loaded shapes"
   ]
  },
  {
   "cell_type": "markdown",
   "metadata": {},
   "source": [
    "## Save "
   ]
  },
  {
   "cell_type": "code",
   "execution_count": null,
   "metadata": {},
   "outputs": [],
   "source": [
    "# Save weights\n",
    "# Typically not needed because callbacks save after every epoch\n",
    "# Uncomment to save manually\n",
    "model_path = os.path.join(MODEL_DIR, \"mask_rcnn_shapes.h5\")\n",
    "model.keras_model.save_weights(model_path)"
   ]
  },
  {
   "cell_type": "markdown",
   "metadata": {},
   "source": [
    "## Notebook Preferences"
   ]
  },
  {
   "cell_type": "code",
   "execution_count": null,
   "metadata": {},
   "outputs": [],
   "source": [
    "def get_ax(rows=1, cols=1, size=8):\n",
    "    \"\"\"Return a Matplotlib Axes array to be used in\n",
    "    all visualizations in the notebook. Provide a\n",
    "    central point to control graph sizes.\n",
    "    \n",
    "    Change the default size attribute to control the size\n",
    "    of rendered images\n",
    "    \"\"\"\n",
    "    _, ax = plt.subplots(rows, cols, figsize=(size*cols, size*rows))\n",
    "    return ax"
   ]
  },
  {
   "cell_type": "markdown",
   "metadata": {},
   "source": [
    "## Configurations"
   ]
  },
  {
   "cell_type": "code",
   "execution_count": null,
   "metadata": {},
   "outputs": [],
   "source": [
    "# from keras import backend as KB\n",
    "# if 'tensorflow' == KB.backend():\n",
    "#     import tensorflow as tf\n",
    "#     from keras.backend.tensorflow_backend import set_session\n",
    "#     # tfconfig = tf.ConfigProto(\n",
    "#         # gpu_options = tf.GPUOptions(per_process_gpu_memory_fraction=0.5),\n",
    "#         # device_count = {'GPU': 1}\n",
    "#     # )    \n",
    "#     tfconfig = tf.ConfigProto()\n",
    "#     tfconfig.gpu_options.allow_growth=True\n",
    "#     tfconfig.gpu_options.visible_device_list = \"0\"\n",
    "#     tfconfig.gpu_options.per_process_gpu_memory_fraction=0.5\n",
    "#     tf_sess = tf.Session(config=tfconfig)\n",
    "#     set_session(tf_sess)"
   ]
  },
  {
   "cell_type": "markdown",
   "metadata": {},
   "source": [
    "###  Simulation of `detect()` routine"
   ]
  },
  {
   "cell_type": "code",
   "execution_count": null,
   "metadata": {
    "ExecuteTime": {
     "end_time": "2018-05-09T21:08:38.958455Z",
     "start_time": "2018-05-09T21:08:38.670424Z"
    }
   },
   "outputs": [],
   "source": [
    "# print('>>> model detect()')\n",
    "verbose = 1\n",
    "images  = [original_image]\n",
    "assert model.mode   == \"inference\", \"Create model in inference mode.\"\n",
    "assert len(images) == model.config.BATCH_SIZE, \"len(images) must be equal to BATCH_SIZE\"\n",
    "\n",
    "if verbose:\n",
    "    log(\"Processing {} images\".format(len(images)))\n",
    "    for image in images:\n",
    "        log(\"image\", image)\n",
    "\n",
    "# Mold inputs to format expected by the neural network\n",
    "molded_images, image_metas, windows = model.mold_inputs(images)\n",
    "if verbose:\n",
    "    log(\"molded_images\", molded_images)\n",
    "    log(\"image_metas\"  , image_metas)\n",
    "\n",
    "## Run object detection pipeline\n",
    "# print('    call predict()')\n",
    "detections, rpn_rois, rpn_class, rpn_bbox,\\\n",
    "            mrcnn_class, mrcnn_bbox, mrcnn_mask \\\n",
    "                      =  model.keras_model.predict([molded_images, image_metas], verbose=0)\n",
    "\n",
    "print('    return from  predict()')\n",
    "print('    Length of detections : ', len(detections))\n",
    "print('    Length of rpn_rois   : ', len(rpn_rois   ))\n",
    "print('    Length of rpn_class  : ', len(rpn_class  ))\n",
    "print('    Length of rpn_bbox   : ', len(rpn_bbox   ))\n",
    "print('    Length of mrcnn_class: ', len(mrcnn_class))\n",
    "print('    Length of mrcnn_bbox : ', len(mrcnn_bbox ))\n",
    "print('    Length of mrcnn_mask : ', len(mrcnn_mask ))\n",
    "\n",
    "####  detection array layout is `[ y1, x1, y2, x2, class, score]`\n",
    "\n",
    "detections[0].shape\n",
    "print(detections[0])\n",
    "\n",
    "## Process detections\n",
    "results = []\n",
    "for i, image in enumerate(images):\n",
    "    final_rois, final_class_ids, final_scores, final_masks =\\\n",
    "        model.unmold_detections(detections[i], \n",
    "                               mrcnn_mask[i],\n",
    "                               image.shape  ,\n",
    "                               windows[i])\n",
    "    results.append({\n",
    "        \"rois\"     : final_rois,\n",
    "        \"class_ids\": final_class_ids,\n",
    "        \"scores\"   : final_scores,\n",
    "        \"masks\"    : final_masks,\n",
    "    })"
   ]
  }
 ],
 "metadata": {
  "anaconda-cloud": {},
  "kernelspec": {
   "display_name": "Python [conda env:TFG]",
   "language": "python",
   "name": "conda-env-TFG-py"
  },
  "language_info": {
   "codemirror_mode": {
    "name": "ipython",
    "version": 3
   },
   "file_extension": ".py",
   "mimetype": "text/x-python",
   "name": "python",
   "nbconvert_exporter": "python",
   "pygments_lexer": "ipython3",
   "version": "3.5.4"
  },
  "toc": {
   "base_numbering": 1,
   "nav_menu": {},
   "number_sections": true,
   "sideBar": true,
   "skip_h1_title": false,
   "title_cell": "Table of Contents",
   "title_sidebar": "Contents",
   "toc_cell": false,
   "toc_position": {},
   "toc_section_display": true,
   "toc_window_display": false
  }
 },
 "nbformat": 4,
 "nbformat_minor": 2
}
