{
 "cells": [
  {
   "cell_type": "markdown",
   "metadata": {
    "hideCode": false,
    "hidePrompt": false
   },
   "source": [
    "## Development notebook for `build_predictions()` and `build_heatmap()`\n"
   ]
  },
  {
   "cell_type": "code",
   "execution_count": 1,
   "metadata": {
    "ExecuteTime": {
     "end_time": "2018-12-22T18:12:12.294203Z",
     "start_time": "2018-12-22T18:11:57.330845Z"
    },
    "hideCode": false,
    "hideOutput": true,
    "hidePrompt": false,
    "scrolled": true
   },
   "outputs": [
    {
     "data": {
      "text/html": [
       "<style>.container { width:95% !important; }</style>"
      ],
      "text/plain": [
       "<IPython.core.display.HTML object>"
      ]
     },
     "metadata": {},
     "output_type": "display_data"
    },
    {
     "name": "stderr",
     "output_type": "stream",
     "text": [
      "Using TensorFlow backend.\n"
     ]
    }
   ],
   "source": [
    "from IPython.core.display import display, HTML\n",
    "display(HTML(\"<style>.container { width:95% !important; }</style>\"))\n",
    "%matplotlib inline\n",
    "%load_ext autoreload\n",
    "%autoreload 2\n",
    "import os, sys, math, io, time, gc, argparse, platform, pprint\n",
    "import numpy as np\n",
    "import tensorflow as tf\n",
    "import keras\n",
    "import keras.backend as KB\n",
    "sys.path.append('../')\n",
    "import mrcnn.visualize    as visualize\n",
    "import mrcnn.utils        as utils\n",
    "\n",
    "from datetime            import datetime   \n",
    "from mrcnn.utils         import command_line_parser, Paths\n",
    "from mrcnn.config        import Config\n",
    "from mrcnn.dataset       import Dataset \n",
    "from mrcnn.prep_notebook import mrcnn_newshape_train, build_fcn_training_pipeline_newshapes\n",
    "from mrcnn.newshapes     import prep_newshape_dataset\n",
    "from mrcnn.datagen       import data_gen_simulate\n",
    "\n",
    "pp = pprint.PrettyPrinter(indent=2, width=100)\n",
    "np.set_printoptions(linewidth=100,precision=4,threshold=1000, suppress = True)\n",
    "##------------------------------------------------------------------------------------\n",
    "## Parse command line arguments\n",
    "##------------------------------------------------------------------------------------\n",
    "parser = command_line_parser()\n",
    "input_parms = \" --epochs          2 \"\n",
    "input_parms +=\" --steps_in_epoch 10 \" \n",
    "input_parms +=\" --val_steps       2 \" \n",
    "input_parms +=\" --last_epoch      0 \"\n",
    "input_parms +=\" --batch_size      1 \"\n",
    "input_parms +=\" --lr        0.0000001 \"\n",
    "input_parms +=\" --mrcnn_logs_dir train_mrcnn_newshapes \"\n",
    "input_parms +=\" --fcn_logs_dir   train_fcn32_newshapes \"\n",
    "# input_parms +=\"--fcn_logs_dir   train_fcn8_newshapes \"\n",
    "input_parms +=\" --scale_factor     1 \" \n",
    "input_parms +=\" --mrcnn_model    last \"\n",
    "input_parms +=\" --fcn_model      init \"\n",
    "input_parms +=\" --opt            SGD \"\n",
    "input_parms +=\" --fcn_arch       fcn8 \" \n",
    "input_parms +=\" --fcn_layers     all \" \n",
    "input_parms +=\" --sysout        screen \"\n",
    "input_parms +=\" --new_log_folder   \"        \n",
    "\n",
    "parser = utils.command_line_parser()\n",
    "args = parser.parse_args(input_parms.split())\n",
    "# utils.display_input_parms(args)"
   ]
  },
  {
   "cell_type": "markdown",
   "metadata": {},
   "source": [
    "#### Build Mrcnn model"
   ]
  },
  {
   "cell_type": "code",
   "execution_count": 8,
   "metadata": {
    "ExecuteTime": {
     "end_time": "2018-12-22T18:19:33.567016Z",
     "start_time": "2018-12-22T18:19:20.898115Z"
    }
   },
   "outputs": [
    {
     "name": "stdout",
     "output_type": "stream",
     "text": [
      "\n",
      "   Arguments passed :\n",
      "   --------------------\n",
      "   batch_size                     1\n",
      "   coco_classes                   None\n",
      "   epochs                         2\n",
      "   fcn_arch                       FCN8\n",
      "   fcn_layers                     ['all']\n",
      "   fcn_logs_dir                   train_fcn32_newshapes\n",
      "   fcn_losses                     fcn_BCE_loss\n",
      "   fcn_model                      init\n",
      "   last_epoch                     0\n",
      "   lr                             0.0000001\n",
      "   mrcnn_exclude_layers           None\n",
      "   mrcnn_layers                   mrcnn fpn rpn \n",
      "   mrcnn_logs_dir                 train_mrcnn_newshapes\n",
      "   mrcnn_model                    last\n",
      "   new_log_folder                 True\n",
      "   opt                            SGD\n",
      "   scale_factor                   1\n",
      "   steps_in_epoch                 10\n",
      "   sysout                         SCREEN\n",
      "   val_steps                      2\n",
      "\n",
      "\n",
      ">>> Initialize Paths\n",
      " windows  Windows\n",
      "\n",
      "   Paths:\n",
      "   -------------------------\n",
      "COCO_DATASET_PATH              F:\\MLDatasets\\coco2014\n",
      "COCO_HEATMAP_PATH              F:\\MLDatasets\\coco2014_heatmaps\n",
      "COCO_MODEL_PATH                F:\\PretrainedModels\\mask_rcnn_coco.h5\n",
      "DIR_DATASET                    F:\\MLDatasets\n",
      "DIR_PRETRAINED                 F:\\PretrainedModels\n",
      "DIR_ROOT                       F:\\\n",
      "DIR_TRAINING                   F:\\models\n",
      "FCN_TRAINING_PATH              F:\\models\\train_fcn_coco\n",
      "FCN_VGG16_MODEL_PATH           F:\\PretrainedModels\\fcn_vgg16_weights_tf_dim_ordering_tf_kernels.h5\n",
      "MRCNN_TRAINING_PATH            F:\\models\\train_mrcnn_newshapes\n",
      "PRED_CLASS_INFO_PATH           F:\\PretrainedModels\\predicted_classes_info.pkl\n",
      "RESNET_MODEL_PATH              F:\\PretrainedModels\\resnet50_weights_tf_dim_ordering_tf_kernels_notop.h5\n",
      "SHAPES_MODEL_PATH              F:\\PretrainedModels\\mask_rcnn_shapes.h5\n",
      "VGG16_MODEL_PATH               F:\\PretrainedModels\\vgg16_weights_tf_dim_ordering_tf_kernels_notop.h5\n",
      "\n",
      ">>> Initialize ModelBase model \n",
      "   Mode      :  training\n",
      "   Model dir :  F:\\models\\train_mrcnn_newshapes\n",
      ">>> set_log_dir(): model_path:  None\n",
      "    set_log_dir(): model_path has NOT been provided : None \n",
      "                   NewFolder: False  config.NEW_LOG_FOLDER: True \n",
      "    set_log_dir(): weight file template (self.checkpoint_path): F:\\models\\train_mrcnn_newshapes\\mrcnn20181222T1919\\mrcnn_{epoch:04d}.h5 \n",
      "    set_log_dir(): weight file dir      (self.log_dir)        : F:\\models\\train_mrcnn_newshapes\\mrcnn20181222T1919 \n",
      "    set_log_dir(): Last completed epoch (self.epoch)          : 0 \n",
      ">>> ModelBase initialiation complete\n",
      ">>> ---Initialize MRCNN model, mode:  training\n",
      "\n",
      "----------------------------\n",
      ">>> Resnet Graph \n",
      "----------------------------\n",
      "     Input_image shape : (?, 128, 128, 3)\n",
      "    After ZeroPadding2D            :  shape: (?, 134, 134, 3)      KB.shape:(None, 134, 134, 3)   Keras Tensor: True\n",
      "    After Conv2D padding :         :  shape: (?, 64, 64, 64)       KB.shape:(None, 64, 64, 64)    Keras Tensor: True\n",
      "    After BatchNorm                :  shape: (?, 64, 64, 64)       KB.shape:(None, 64, 64, 64)    Keras Tensor: True\n",
      "    C1                             :  shape: (?, 32, 32, 64)       KB.shape:(None, 32, 32, 64)    Keras Tensor: True\n",
      "    C2                             :  shape: (?, 32, 32, 256)      KB.shape:(None, 32, 32, 256)   Keras Tensor: True\n",
      "    C3                             :  shape: (?, 16, 16, 512)      KB.shape:(None, 16, 16, 512)   Keras Tensor: True\n",
      "    C4                             :  shape: (?, 8, 8, 1024)       KB.shape:(None, 8, 8, 1024)    Keras Tensor: True\n",
      "    C5                             :  shape: (?, 4, 4, 2048)       KB.shape:(None, 4, 4, 2048)    Keras Tensor: True\n",
      "\n",
      ">>> Feature Pyramid Network (FPN) Graph \n",
      "    FPN P5                         :  shape: (?, 4, 4, 256)        KB.shape:(None, 4, 4, 256)     Keras Tensor: True\n",
      "    FPN P4                         :  shape: (?, 8, 8, 256)        KB.shape:(None, 8, 8, 256)     Keras Tensor: True\n",
      "    FPN P3                         :  shape: (?, 16, 16, 256)      KB.shape:(None, 16, 16, 256)   Keras Tensor: True\n",
      "    FPN P2                         :  shape: (?, 32, 32, 256)      KB.shape:(None, 32, 32, 256)   Keras Tensor: True\n",
      "    FPN P2 shape :                 :  shape: (?, 32, 32, 256)      KB.shape:(None, 32, 32, 256)   Keras Tensor: True\n",
      "    FPN P3 shape :                 :  shape: (?, 16, 16, 256)      KB.shape:(None, 16, 16, 256)   Keras Tensor: True\n",
      "    FPN P4 shape :                 :  shape: (?, 8, 8, 256)        KB.shape:(None, 8, 8, 256)     Keras Tensor: True\n",
      "    FPN P5 shape :                 :  shape: (?, 4, 4, 256)        KB.shape:(None, 4, 4, 256)     Keras Tensor: True\n",
      "    FPN P6 shape :                 :  shape: (?, 2, 2, 256)        KB.shape:(None, 2, 2, 256)     Keras Tensor: True\n",
      "\n",
      ">>> RPN Layer \n",
      "     append Tensor(\"fpn_p2/BiasAdd:0\", shape=(?, 32, 32, 256), dtype=float32) to layer_outputs \n",
      "     append Tensor(\"fpn_p3/BiasAdd:0\", shape=(?, 16, 16, 256), dtype=float32) to layer_outputs \n",
      "     append Tensor(\"fpn_p4/BiasAdd:0\", shape=(?, 8, 8, 256), dtype=float32) to layer_outputs \n",
      "     append Tensor(\"fpn_p5/BiasAdd:0\", shape=(?, 4, 4, 256), dtype=float32) to layer_outputs \n",
      "     append Tensor(\"fpn_p6/MaxPool:0\", shape=(?, 2, 2, 256), dtype=float32) to layer_outputs \n",
      "\n",
      ">>> RPN Outputs  <class 'list'>\n",
      "      rpn_class_logits/rpn_class_logits:0\n",
      "      rpn_class/rpn_class:0\n",
      "      rpn_bbox/rpn_bbox:0\n",
      "\n",
      ">>> Proposal Layer - generate  2000  proposals\n",
      "    Init complete. Size of anchors:  (4092, 4)\n",
      "     Scores :  (1, 4092)\n",
      "     Deltas :  (1, 4092, 4)\n",
      "     Anchors:  (1, 4092, 4)\n",
      "     Boxes shape / type after processing: \n",
      "     Output: Proposals shape :  (1, ?, ?) (1, None, None)\n",
      "\n",
      ">>> Detection Target Layer (Training Mode)\n",
      "    Detection Target Layer : call()  <class 'list'> 3\n",
      "     proposals.shape    : (1, ?, ?) (1, ?, ?) (None, 2000, 4)\n",
      "     gt_class_ids.shape : (?, ?) (?, ?) (None, None)\n",
      "     gt_bboxes.shape    : (?, ?, 4) (?, ?, 4) (None, None, 4)\n",
      "\n",
      "    Detection Target Layer : return  <class 'list'> 4\n",
      "     output 0  shape (1, ?, ?)  type <class 'tensorflow.python.framework.ops.Tensor'> \n",
      "     output 1  shape (1, ?)  type <class 'tensorflow.python.framework.ops.Tensor'> \n",
      "     output 2  shape (1, ?, ?)  type <class 'tensorflow.python.framework.ops.Tensor'> \n",
      "     output 3  shape (1, ?, ?)  type <class 'tensorflow.python.framework.ops.Tensor'> \n",
      "\n",
      ">>> FPN Classifier Graph \n",
      "    INPUT: rois shape          : (1, ?, ?)\n",
      "    INPUT: No of feature_maps  : 4\n",
      "        feature_maps shape  : (?, 32, 32, 256)\n",
      "        feature_maps shape  : (?, 16, 16, 256)\n",
      "        feature_maps shape  : (?, 8, 8, 256)\n",
      "        feature_maps shape  : (?, 4, 4, 256)\n",
      "    INPUT: image_shape         : [128 128   3]\n",
      "    INPUT: pool_size           : 7\n",
      "    INPUT: num_classes         : 7\n",
      "    roi_align_classifier           :  shape: (1, ?, 7, 7, 256)     KB.shape:(None, 32, 7, 7, 256)  Keras Tensor: True\n",
      "    mrcnn_class_conv1              :  shape: (?, 32, 1, 1, 1024)   KB.shape:(None, 32, 1, 1, 1024)  Keras Tensor: True\n",
      "    mrcnn_class_bn1                :  shape: (?, 32, 1, 1, 1024)   KB.shape:(None, 32, 1, 1, 1024)  Keras Tensor: True\n",
      "    mrcnn_class_relu1              :  shape: (?, 32, 1, 1, 1024)   KB.shape:(None, 32, 1, 1, 1024)  Keras Tensor: True\n",
      "    mrcnn_class_conv2              :  shape: (?, 32, 1, 1, 1024)   KB.shape:(None, 32, 1, 1, 1024)  Keras Tensor: True\n",
      "    mrcnn_class_bn2                :  shape: (?, 32, 1, 1, 1024)   KB.shape:(None, 32, 1, 1, 1024)  Keras Tensor: True\n",
      "    mrcnn_class_relu2              :  shape: (?, 32, 1, 1, 1024)   KB.shape:(None, 32, 1, 1, 1024)  Keras Tensor: True\n",
      "    pool_squeeze(Shared)           :  shape: (?, 32, 1024)         KB.shape:(None, 32, 1024)      Keras Tensor: True\n",
      "    mrcnn_class_logits             :  shape: (?, 32, 7)            KB.shape:(None, 32, 7)         Keras Tensor: True\n",
      "    mrcnn_class_logits (final)     :  shape: (?, 32, 7)            KB.shape:(None, 32, 7)         Keras Tensor: True\n",
      "    mrcnn_probs                    :  shape: (?, 32, 7)            KB.shape:(None, 32, 7)         Keras Tensor: True\n",
      "    mrcnn_probs (final)            :  shape: (?, 32, 7)            KB.shape:(None, 32, 7)         Keras Tensor: True\n",
      "    mrcnn_bbox_fc                  :  shape: (?, 32, 28)           KB.shape:(None, 32, 28)        Keras Tensor: True\n",
      "    mrcnn_bbox_fc reshaped output  :  shape: (?, 32, 7, 4)         KB.shape:(None, 32, 7, 4)      Keras Tensor: True\n",
      "    mrcnn_bbox (final)             :  shape: (?, 32, 7, 4)         KB.shape:(None, 32, 7, 4)      Keras Tensor: True\n",
      "--------------------------------\n",
      ">>>  CHM Layer  \n",
      "--------------------------------\n",
      "    > CHMLayer Call()              :  list length: 3\n",
      "    mrcnn_class                    :  shape: (?, 32, 7)            KB.shape:(None, 32, 7)         Keras Tensor: True\n",
      "    mrcnn_bbox                     :  shape: (?, 32, 7, 4)         KB.shape:(None, 32, 7, 4)      Keras Tensor: True\n",
      "    output_rois                    :  shape: (1, ?, ?)             KB.shape:(None, 32, 4)         Keras Tensor: True\n",
      "\n",
      "  > build_pr_tensor()\n",
      "    num_rois               :  32\n",
      "    norm_input_rois.shape  :  <class 'tensorflow.python.framework.ops.Tensor'> (None, 32, 4)\n",
      "    scale.shape            :  <class 'tensorflow.python.framework.ops.Tensor'> (4,) (4,)\n",
      "    dup_scale.shape        :  <class 'tensorflow.python.framework.ops.Tensor'> (1, 32, 4) (1, 32, 4)\n",
      "\n",
      "    mrcnn_class shape      :  (None, 32, 7)\n",
      "    mrcnn_bbox.shape       :  (None, 32, 7, 4) (?, 32, 7, 4)\n",
      "    config image shape     :  [128 128   3] h: 128 w: 128\n",
      "    refined rois                   :  shape: (1, 32, 4)            KB.shape:(1, 32, 4)            Keras Tensor: False\n",
      "    input_rois                     :  shape: (1, 32, 4)            KB.shape:(1, 32, 4)            Keras Tensor: False\n",
      "    refined_rois                   :  shape: (1, 32, 4)            KB.shape:(1, 32, 4)            Keras Tensor: False\n",
      "    sequence                       :  shape: (?, 32, 1)            KB.shape:(None, 32, 1)         Keras Tensor: False\n",
      "    pred_array                     :  shape: (1, 32, 7)            KB.shape:(1, 32, 7)            Keras Tensor: False\n",
      "    scatter_ind                    :  shape: (1, 32, 3)            KB.shape:(1, 32, 3)            Keras Tensor: False\n",
      "    pred_scatter                   :  shape: (1, 7, 32, 7)         KB.shape:(1, 7, 32, 7)         Keras Tensor: False\n"
     ]
    },
    {
     "name": "stdout",
     "output_type": "stream",
     "text": [
      "    - Add normalized score --      \n",
      "    normalizer                     :  shape: (1, 7, 1)             KB.shape:(1, 7, 1)             Keras Tensor: False\n",
      "    norm_score                     :  shape: (1, 7, 32, 1)         KB.shape:(1, 7, 32, 1)         Keras Tensor: False\n",
      "    pred_scatter                   :  shape: (1, 7, 32, 8)         KB.shape:(1, 7, 32, 8)         Keras Tensor: False\n",
      "    sort_inds                      :  shape: (1, 7, 32)            KB.shape:(1, 7, 32)            Keras Tensor: False\n",
      "    class_grid                     :  shape: (1, 7, 32)            KB.shape:(1, 7, 32)            Keras Tensor: False\n",
      "    batch_grid                     :  shape: (1, 7, 32)            KB.shape:(1, 7, 32)            Keras Tensor: False\n",
      "    roi_grid shape                 :  shape: (1, 7, 32)            KB.shape:(1, 7, 32)            Keras Tensor: False\n",
      "    gather_inds                    :  shape: (1, 7, 32, 3)         KB.shape:(1, 7, 32, 3)         Keras Tensor: False\n",
      "    pred_tensor                    :  shape: (1, 7, 32, 8)         KB.shape:(1, 7, 32, 8)         Keras Tensor: False\n",
      "\n",
      " \n",
      "  > build_pr_heatmap() for :  ['pred_heatmap']\n",
      "    in_tensor shape        :  (1, 7, 32, 8)\n",
      "    num bboxes per class   :  32\n",
      "    heatmap scale          :  1 Dimensions:  w: 128  h: 128\n",
      "    pt2_sum                        :  shape: (1, 7, 32)            KB.shape:(1, 7, 32)            Keras Tensor: False\n",
      "    pt2_ind                        :  shape: (?, 3)                KB.shape:(None, 3)             Keras Tensor: False\n",
      "    pt2_dense                      :  shape: (?, 8)                KB.shape:(None, 8)             Keras Tensor: False\n",
      "    X/Y shapes : (128, 128) (128, 128)\n",
      "    Ones:     (?, 1, 1)\n",
      "    ones_exp * X (?, 1, 1) * (128, 128) =  (?, 128, 128)\n",
      "    ones_exp * Y (?, 1, 1) * (128, 128) =  (?, 128, 128)\n",
      "    pos_grid before transpse       :  shape: (?, 128, 128, 2)      KB.shape:(None, 128, 128, 2)   Keras Tensor: False\n",
      "    pos_grid after transpose       :  shape: (128, 128, ?, 2)      KB.shape:(128, 128, None, 2)   Keras Tensor: False\n",
      "    Input to MVN.PROB: pos_grid (meshgrid):  shape: (128, 128, ?, 2)      KB.shape:(128, 128, None, 2)   Keras Tensor: False\n",
      "    Prob_grid shape from mvn.probe :  shape: (128, 128, ?)         KB.shape:(128, 128, None)      Keras Tensor: False\n",
      "    Prob_grid shape after tanspose :  shape: (?, 128, 128)         KB.shape:(None, 128, 128)      Keras Tensor: False\n",
      "    Output probabilities shape     :  shape: (?, 128, 128)         KB.shape:(None, 128, 128)      Keras Tensor: False\n",
      "    old_style_scores        :      :  shape: (1, 7, 32, 3)         KB.shape:(1, 7, 32, 3)         Keras Tensor: False\n",
      "    prob_grid_clipped :            :  shape: (?, 128, 128)         KB.shape:(None, 128, 128)      Keras Tensor: False\n",
      "    normalization ------------------------------------------------------\n",
      "    normalizer     :               :  shape: (?, 1, 1)             KB.shape:(None, 1, 1)          Keras Tensor: False\n",
      "    prob_grid_cns: clipped/normed/scaled ::  shape: (?, 128, 128)         KB.shape:(None, 128, 128)      Keras Tensor: False\n",
      "    alt_scores_1                   :  shape: (?, 3)                KB.shape:(None, 3)             Keras Tensor: False\n",
      "    alt_scores_1(by class)         :  shape: (1, 7, 32, 3)         KB.shape:(1, 7, 32, 3)         Keras Tensor: False\n",
      "    alt_scores_1_norm(by_class)    :  shape: (1, 7, 32, 3)         KB.shape:(1, 7, 32, 3)         Keras Tensor: False\n",
      "    Scatter out the probability distributions based on class --------------\n",
      "    pt2_ind shape                  :  shape: (?, 3)                KB.shape:(None, 3)             Keras Tensor: False\n",
      "    prob_grid_clippped             :  shape: (?, 128, 128)         KB.shape:(None, 128, 128)      Keras Tensor: False\n",
      "    gauss_heatmap                  :  shape: (1, 7, 32, 128, 128)  KB.shape:(1, 7, 32, 128, 128)  Keras Tensor: False\n",
      "    Reduce SUM based on class and normalize within each class -----------------------\n",
      "    gaussian_heatmap_sum           :  shape: (1, 7, 128, 128)      KB.shape:(1, 7, 128, 128)      Keras Tensor: False\n",
      "    normalizer shape   :           :  shape: (1, 7, 1, 1)          KB.shape:(1, 7, 1, 1)          Keras Tensor: False\n",
      "    normalized heatmap :           :  shape: (1, 7, 128, 128)      KB.shape:(1, 7, 128, 128)      Keras Tensor: False\n",
      "    hm_indices                     :  shape: (?, 2)                KB.shape:(None, 2)             Keras Tensor: False\n",
      "    pt2_heatmaps                   :  shape: (?, 128, 128)         KB.shape:(None, 128, 128)      Keras Tensor: False\n",
      "    alt_scores_2    :              :  shape: (?, 3)                KB.shape:(None, 3)             Keras Tensor: False\n",
      "    alt_scores_2(scattered)        :  shape: (1, 7, 32, 3)         KB.shape:(1, 7, 32, 3)         Keras Tensor: False\n",
      "    alt_scores_2_norm(by_class)    :  shape: (1, 7, 32, 3)         KB.shape:(1, 7, 32, 3)         Keras Tensor: False\n",
      "    reshaped heatmap               :  shape: (1, 128, 128, 7)      KB.shape:(1, 128, 128, 7)      Keras Tensor: False\n",
      "    gauss_scores    :              :  shape: (1, 7, 32, 23)        KB.shape:(1, 7, 32, 23)        Keras Tensor: False\n",
      "    complete                       \n",
      "                                   \n",
      "    pred_refined_heatmap           :  shape: (1, 128, 128, 7)      KB.shape:(1, 128, 128, 7)      Keras Tensor: False\n",
      "    pred_refnined_heatmap_scores   :  shape: (1, 7, 32, 23)        KB.shape:(1, 7, 32, 23)        Keras Tensor: False\n",
      "    complete                       \n",
      "--------------------------------\n",
      ">>>  CHM Layer COMPUTE OUTPUT SHAPE \n",
      "--------------------------------\n",
      "<class 'list'> 3\n",
      "\n",
      "-----------------------------------------\n",
      ">>>  CHM Layer (Ground Truth Generation) \n",
      "-----------------------------------------\n",
      "    > CHMLayerTgt Call()   :       :  list length: 2\n",
      "    tgt_class_ids.shape  :         :  shape: (1, ?)                KB.shape:(None, 32)            Keras Tensor: True\n",
      "    tgt_bboxes.shape     :         :  shape: (1, ?, ?)             KB.shape:(None, 32, 4)         Keras Tensor: True\n",
      "\n",
      "\n",
      "  > BUILD_GROUND TRUTH_TF()\n",
      "    num_bboxes             :  32 (building  gt_tensor )\n",
      "    gt_class_ids shape     :  (1, ?)    (None, 32)\n",
      "    norm_gt_bboxes.shape   :  (1, ?, ?)    (None, 32, 4)\n",
      "    gt_bboxes.shape        :  (1, 32, 4)    (1, 32, 4)\n",
      "    gt_classes_exp                 :  shape: (1, ?, 1)             KB.shape:(1, None, 1)          Keras Tensor: False\n",
      "    gt_scores_exp                  :  shape: (1, ?, 1)             KB.shape:(1, None, 1)          Keras Tensor: False\n",
      "    gt_array                       :  shape: (1, 32, 8)            KB.shape:(1, 32, 8)            Keras Tensor: False\n",
      "    scatter_ind                    :  shape: (1, 32, 3)            KB.shape:(1, 32, 3)            Keras Tensor: False\n",
      "    gt_array                       :  shape: (1, 32, 8)            KB.shape:(1, 32, 8)            Keras Tensor: False\n",
      "    gt_scatter                     :  shape: (1, 7, 32, 8)         KB.shape:(1, 7, 32, 8)         Keras Tensor: False\n",
      "    sort_inds                      :  shape: (1, 7, 32)            KB.shape:(1, 7, 32)            Keras Tensor: False\n",
      "    class_grid                     :  shape: (1, 7, 32)            KB.shape:(1, 7, 32)            Keras Tensor: False\n",
      "    batch_grid                     :  shape: (1, 7, 32)            KB.shape:(1, 7, 32)            Keras Tensor: False\n",
      "    gather_inds                    :  shape: (1, 7, 32, 3)         KB.shape:(1, 7, 32, 3)         Keras Tensor: False\n",
      "    gt_tensor                      :  shape: (1, 7, 32, 8)         KB.shape:(1, 7, 32, 8)         Keras Tensor: False\n",
      "\n",
      " \n",
      "  > build_heatmap() for  ['gt_heatmap']\n",
      "    in_tensor shape        :  (1, 7, 32, 8)\n",
      "    num bboxes per class   :  32\n",
      "    heatmap scale        :  1 Dimensions:  w: 128  h: 128\n",
      "    pt2_sum                        :  shape: (1, 7, 32)            KB.shape:(1, 7, 32)            Keras Tensor: False\n",
      "    pt2_ind                        :  shape: (?, 3)                KB.shape:(None, 3)             Keras Tensor: False\n",
      "    pt2_dense                      :  shape: (?, 8)                KB.shape:(None, 8)             Keras Tensor: False\n",
      "    Prob_grid                      :  shape: (?, 128, 128)         KB.shape:(None, 128, 128)      Keras Tensor: False\n",
      "    prob_grid_clipped              :  shape: (?, 128, 128)         KB.shape:(None, 128, 128)      Keras Tensor: False\n"
     ]
    },
    {
     "name": "stdout",
     "output_type": "stream",
     "text": [
      "    old_style_scores               :  shape: (1, 7, 32, 3)         KB.shape:(1, 7, 32, 3)         Keras Tensor: False\n",
      "    alt_scores_1                   :  shape: (?, 3)                KB.shape:(None, 3)             Keras Tensor: False\n",
      "    alt_scores_1(by class)         :  shape: (1, 7, 32, 3)         KB.shape:(1, 7, 32, 3)         Keras Tensor: False\n",
      "    alt_scores_1_norm(by_class)    :  shape: (1, 7, 32, 3)         KB.shape:(1, 7, 32, 3)         Keras Tensor: False\n",
      "    Scatter out the probability distributions based on class --------------\n",
      "    pt2_ind                        :  shape: (?, 3)                KB.shape:(None, 3)             Keras Tensor: False\n",
      "    prob_grid                      :  shape: (?, 128, 128)         KB.shape:(None, 128, 128)      Keras Tensor: False\n",
      "    gauss_heatmap                  :  shape: (1, 7, 32, 128, 128)  KB.shape:(1, 7, 32, 128, 128)  Keras Tensor: False\n",
      "    Reduce MAX based on class -------------------------------------\n",
      "    gaussian_heatmap :             :  shape: (1, 7, 128, 128)      KB.shape:(1, 7, 128, 128)      Keras Tensor: False\n",
      "    hm_indices                     :  shape: (?, 2)                KB.shape:(None, 2)             Keras Tensor: False\n",
      "    pt2_heatmaps                   :  shape: (?, 128, 128)         KB.shape:(None, 128, 128)      Keras Tensor: False\n",
      "    alt_scores_2                   :  shape: (?, 3)                KB.shape:(None, 3)             Keras Tensor: False\n",
      "    alt_scores_2(by class)       : :  shape: (1, 7, 32, 3)         KB.shape:(1, 7, 32, 3)         Keras Tensor: False\n",
      "    alt_scores_2_norm(by_class)  : :  shape: (1, 7, 32, 3)         KB.shape:(1, 7, 32, 3)         Keras Tensor: False\n",
      "    gauss_heatmap                  :  shape: (1, 128, 128, 7)      KB.shape:(1, 128, 128, 7)      Keras Tensor: False\n",
      "    gauss_scores                   :  shape: (1, 7, 32, 23)        KB.shape:(1, 7, 32, 23)        Keras Tensor: False\n",
      "    complete                       \n",
      "                                   \n",
      "    gt_heatmap                     :  shape: (1, 128, 128, 7)      KB.shape:(1, 128, 128, 7)      Keras Tensor: False\n",
      "    gt_heatmap_scores              :  shape: (1, 7, 32, 23)        KB.shape:(1, 7, 32, 23)        Keras Tensor: False\n",
      "    complete                       \n",
      "    pr_hm                          :  shape: (1, 128, 128, 7)      KB.shape:(None, 128, 128, 7)   Keras Tensor: True\n",
      "    gt_hm                          :  shape: (1, 128, 128, 7)      KB.shape:(None, 128, 128, 7)   Keras Tensor: True\n",
      "\n",
      "\n",
      "---------------------------------------------------\n",
      "    building Loss Functions \n",
      "---------------------------------------------------\n",
      "\n",
      ">>> rpn_class_loss_graph\n",
      "    rpn_match size : (?, ?, 1)\n",
      "    tf default session:  None\n",
      "    loss      : (?,) Tensor(\"rpn_class_loss/Shape:0\", shape=(1,), dtype=int32) KerasTensor:  False\n",
      "    mean loss : () Tensor(\"rpn_class_loss/Shape_1:0\", shape=(0,), dtype=int32) KerasTensor:  False\n",
      "    reshaped mean loss : (1, 1) Tensor(\"rpn_class_loss/Shape_2:0\", shape=(2,), dtype=int32) KerasTensor:  False\n",
      "\n",
      ">>> rpn_class_loss_graph\n",
      "    rpn_match size : (?, ?, 1)\n",
      "    tf default session:  None\n",
      "    loss      : (?,) Tensor(\"rpn_class_loss/Shape_3:0\", shape=(1,), dtype=int32) KerasTensor:  False\n",
      "    mean loss : () Tensor(\"rpn_class_loss/Shape_4:0\", shape=(0,), dtype=int32) KerasTensor:  False\n",
      "    reshaped mean loss : (1, 1) Tensor(\"rpn_class_loss/Shape_5:0\", shape=(2,), dtype=int32) KerasTensor:  False\n",
      "\n",
      ">>> rpn_bbox_loss_graph\n",
      "    rpn_match size : (?, ?)\n",
      "    rpn_bbox  size : (?, ?, 4)\n",
      "    loss      : <unknown> Tensor(\"rpn_bbox_loss/Shape:0\", shape=(?,), dtype=int32) KerasTensor:  False\n",
      "    mean loss : () Tensor(\"rpn_bbox_loss/Shape_1:0\", shape=(0,), dtype=int32) KerasTensor:  False\n",
      "    reshaped mean loss : (1, 1) Tensor(\"rpn_bbox_loss/Shape_2:0\", shape=(2,), dtype=int32) KerasTensor:  False\n",
      "\n",
      ">>> rpn_bbox_loss_graph\n",
      "    rpn_match size : (?, ?)\n",
      "    rpn_bbox  size : (?, ?, 4)\n",
      "    loss      : <unknown> Tensor(\"rpn_bbox_loss/Shape_3:0\", shape=(?,), dtype=int32) KerasTensor:  False\n",
      "    mean loss : () Tensor(\"rpn_bbox_loss/Shape_4:0\", shape=(0,), dtype=int32) KerasTensor:  False\n",
      "    reshaped mean loss : (1, 1) Tensor(\"rpn_bbox_loss/Shape_5:0\", shape=(2,), dtype=int32) KerasTensor:  False\n",
      "\n",
      ">>> mrcnn_class_loss_graph \n",
      "    target_class_ids  size : (1, ?)\n",
      "    pred_class_logits size : (?, 32, 7)\n",
      "    active_class_ids  size : (?, ?)\n",
      "    loss      : (?, 32) Tensor(\"mrcnn_class_loss/Shape:0\", shape=(2,), dtype=int32) KerasTensor:  False\n",
      "    mean loss : () Tensor(\"mrcnn_class_loss/Shape_1:0\", shape=(0,), dtype=int32) KerasTensor:  False\n",
      "    reshaped mean loss : (1, 1) Tensor(\"mrcnn_class_loss/Shape_2:0\", shape=(2,), dtype=int32) KerasTensor:  False\n",
      "\n",
      ">>> mrcnn_class_loss_graph \n",
      "    target_class_ids  size : (?, 32)\n",
      "    pred_class_logits size : (?, 32, 7)\n",
      "    active_class_ids  size : (?, ?)\n",
      "    loss      : (?, 32) Tensor(\"mrcnn_class_loss/Shape_3:0\", shape=(2,), dtype=int32) KerasTensor:  False\n",
      "    mean loss : () Tensor(\"mrcnn_class_loss/Shape_4:0\", shape=(0,), dtype=int32) KerasTensor:  False\n",
      "    reshaped mean loss : (1, 1) Tensor(\"mrcnn_class_loss/Shape_5:0\", shape=(2,), dtype=int32) KerasTensor:  False\n",
      "\n",
      ">>> mrcnn_bbox_loss_graph \n",
      "    target_class_ids  size : (1, ?)\n",
      "    pred_bbox size         : (?, 32, 7, 4)\n",
      "    target_bbox size       : (1, ?, ?)\n",
      "    reshpaed pred_bbox size         : (?, 7, 4)\n",
      "    reshaped target_bbox size       : (?, 4)\n",
      "    pred_bbox size         : (?, 4)\n",
      "    target_bbox size       : (?, 4)\n",
      "    loss      : <unknown> Tensor(\"mrcnn_bbox_loss/Shape:0\", shape=(?,), dtype=int32) KerasTensor:  False\n",
      "    mean loss : () Tensor(\"mrcnn_bbox_loss/Shape_1:0\", shape=(0,), dtype=int32) KerasTensor:  False\n",
      "    reshaped mean loss : (1, 1) Tensor(\"mrcnn_bbox_loss/Shape_2:0\", shape=(2,), dtype=int32) KerasTensor:  False\n",
      "\n",
      ">>> mrcnn_bbox_loss_graph \n",
      "    target_class_ids  size : (?, 32)\n",
      "    pred_bbox size         : (?, 32, 7, 4)\n",
      "    target_bbox size       : (?, 32, 4)\n",
      "    reshpaed pred_bbox size         : (?, 7, 4)\n",
      "    reshaped target_bbox size       : (?, 4)\n",
      "    pred_bbox size         : (?, 4)\n",
      "    target_bbox size       : (?, 4)\n",
      "    loss      : <unknown> Tensor(\"mrcnn_bbox_loss/Shape_3:0\", shape=(?,), dtype=int32) KerasTensor:  False\n",
      "    mean loss : () Tensor(\"mrcnn_bbox_loss/Shape_4:0\", shape=(0,), dtype=int32) KerasTensor:  False\n",
      "    reshaped mean loss : (1, 1) Tensor(\"mrcnn_bbox_loss/Shape_5:0\", shape=(2,), dtype=int32) KerasTensor:  False\n",
      " ================================================================\n",
      " self.keras_model.losses :  0\n",
      "[]\n",
      " ================================================================\n",
      "\n",
      ">>> Build MaskRCNN build complete. mode:  training\n",
      ">>> MaskRCNN initialiation complete. Mode:  training\n",
      "\n",
      "Configuration Parameters:\n",
      "-------------------------\n",
      "BACKBONE_SHAPES                [[32 32]\n",
      " [16 16]\n",
      " [ 8  8]\n",
      " [ 4  4]\n",
      " [ 2  2]]\n",
      "BACKBONE_STRIDES               [4, 8, 16, 32, 64]\n",
      "BATCH_SIZE                     1\n",
      "BBOX_STD_DEV                   [0.1 0.1 0.2 0.2]\n",
      "COCO_CLASSES                   None\n",
      "COCO_DATASET_PATH              F:\\MLDatasets\\coco2014\n",
      "COCO_MODEL_PATH                F:\\PretrainedModels\\mask_rcnn_coco.h5\n",
      "DETECTION_MAX_INSTANCES        100\n",
      "DETECTION_MIN_CONFIDENCE       0.7\n",
      "DETECTION_NMS_THRESHOLD        0.3\n",
      "DETECTION_PER_CLASS            200\n",
      "EARLY_STOP_MIN_DELTA           0.0001\n",
      "EARLY_STOP_PATIENCE            80\n",
      "EPOCHS_TO_RUN                  2\n",
      "FCN_INPUT_SHAPE                [128 128]\n",
      "GPU_COUNT                      1\n",
      "HEATMAP_SCALE_FACTOR           1\n",
      "IMAGES_PER_GPU                 1\n",
      "IMAGE_BUFFER                   20\n",
      "IMAGE_MAX_DIM                  128\n",
      "IMAGE_MIN_DIM                  128\n",
      "IMAGE_PADDING                  True\n",
      "IMAGE_SHAPE                    [128 128   3]\n",
      "LAST_EPOCH_RAN                 0\n",
      "LEARNING_MOMENTUM              0.9\n",
      "LEARNING_RATE                  1e-07\n",
      "MASK_POOL_SIZE                 14\n",
      "MASK_SHAPE                     [28, 28]\n",
      "MAX_GT_INSTANCES               100\n",
      "MAX_SHAPES_PER_IMAGE           15\n",
      "MEAN_PIXEL                     [123.7 116.8 103.9]\n",
      "MINI_MASK_SHAPE                (56, 56)\n",
      "MIN_LR                         1e-10\n",
      "MIN_SHAPES_PER_IMAGE           1\n",
      "NAME                           mrcnn\n",
      "NEW_LOG_FOLDER                 True\n",
      "NUM_CLASSES                    7\n",
      "OPTIMIZER                      SGD\n",
      "POOL_SIZE                      7\n",
      "POST_NMS_ROIS_INFERENCE        1000\n",
      "POST_NMS_ROIS_TRAINING         2000\n",
      "REDUCE_LR_COOLDOWN             30\n",
      "REDUCE_LR_FACTOR               0.5\n",
      "REDUCE_LR_PATIENCE             40\n",
      "RESNET_MODEL_PATH              F:\\PretrainedModels\\resnet50_weights_tf_dim_ordering_tf_kernels_notop.h5\n",
      "ROI_GT_IOU_THRESHOLD           0.2\n",
      "ROI_POSITIVE_RATIO             0.33\n",
      "ROI_PROPOSAL_AREA_THRESHOLD    0\n",
      "RPN_ANCHOR_RATIOS              [0.5, 1, 2]\n",
      "RPN_ANCHOR_SCALES              (8, 16, 32, 64, 128)\n",
      "RPN_ANCHOR_STRIDE              1\n",
      "RPN_BBOX_STD_DEV               [0.1 0.1 0.2 0.2]\n",
      "RPN_NMS_THRESHOLD              0.7\n",
      "RPN_TRAIN_ANCHORS_PER_IMAGE    256\n",
      "SHAPES_MODEL_PATH              F:\\PretrainedModels\\mask_rcnn_shapes.h5\n",
      "STEPS_PER_EPOCH                10\n",
      "SYSOUT                         SCREEN\n",
      "TRAINING_PATH                  F:\\models\\train_mrcnn_newshapes\n",
      "TRAIN_ROIS_PER_IMAGE           32\n",
      "USE_MINI_MASK                  True\n",
      "USE_RPN_ROIS                   True\n",
      "VALIDATION_STEPS               2\n",
      "VERBOSE                        1\n",
      "VGG16_MODEL_PATH               F:\\PretrainedModels\\vgg16_weights_tf_dim_ordering_tf_kernels_notop.h5\n",
      "WEIGHT_DECAY                   0.0002\n",
      "\n",
      "\n",
      " Inputs:\n",
      " -------\n",
      " index:  0    input name : input_image:0                              Type: float32           Shape: (?, 128, 128, 3)\n",
      " index:  1    input name : input_image_meta:0                         Type: float32           Shape: (?, ?)\n",
      " index:  2    input name : input_rpn_match:0                          Type: int32             Shape: (?, ?, 1)\n",
      " index:  3    input name : input_rpn_bbox:0                           Type: float32           Shape: (?, ?, 4)\n",
      " index:  4    input name : input_gt_class_ids:0                       Type: int32             Shape: (?, ?)\n",
      " index:  5    input name : input_gt_boxes:0                           Type: float32           Shape: (?, ?, 4)\n",
      " Outputs:\n",
      " --------\n",
      " layer:  0    output name: cntxt_layer/pred_heatmap:0                 Type: float32           Shape: (1, 128, 128, 7)\n",
      " layer:  1    output name: cntxt_layer/pred_heatmap_scores:0          Type: float32           Shape: (1, 7, 32, 23)\n",
      " layer:  2    output name: cntxt_layer_gt/gt_heatmap:0                Type: float32           Shape: (1, 128, 128, 7)\n",
      " layer:  3    output name: cntxt_layer_gt/gt_heatmap_scores:0         Type: float32           Shape: (1, 7, 32, 23)\n",
      " layer:  4    output name: mrcnn_class_lambda/mrcnn_class:0           Type: float32           Shape: (?, 32, 7)\n",
      " layer:  5    output name: mrcnn_bbox_lambda/mrcnn_bbox:0             Type: float32           Shape: (?, 32, 7, 4)\n",
      " layer:  6    output name: proposal_targets/output_rois:0             Type: float32           Shape: (1, ?, ?)\n",
      " layer:  7    output name: proposal_targets/target_class_ids:0        Type: int32             Shape: (1, ?)\n",
      " layer:  8    output name: proposal_targets/roi_gt_boxes:0            Type: float32           Shape: (1, ?, ?)\n",
      " layer:  9    output name: mrcnn_logits_lambda/mrcnn_class_logits:0   Type: float32           Shape: (?, 32, 7)\n",
      " layer: 10    output name: active_class_ids/strided_slice_3:0         Type: float32           Shape: (?, ?)\n",
      " layer: 11    output name: ROI/rpn_roi_proposals:0                    Type: float32           Shape: (1, ?, ?)\n",
      " layer: 12    output name: rpn_class_loss/rpn_class_loss:0            Type: float32           Shape: (1, 1)\n",
      " layer: 13    output name: rpn_bbox_loss/rpn_bbox_loss:0              Type: float32           Shape: (1, 1)\n",
      " layer: 14    output name: mrcnn_class_loss/mrcnn_class_loss:0        Type: float32           Shape: (1, 1)\n",
      " layer: 15    output name: mrcnn_bbox_loss/mrcnn_bbox_loss:0          Type: float32           Shape: (1, 1)\n",
      "-----------------------------------------------\n",
      " Load Model with init parm: [ last ]\n",
      " Exclude layers: \n",
      "-----------------------------------------------\n",
      " ---> last\n",
      ">>> load_weights() from : F:\\models\\train_mrcnn_newshapes\\mrcnn20181216T0000\\mrcnn_0247.h5\n",
      "    Weights file loaded: F:\\models\\train_mrcnn_newshapes\\mrcnn20181216T0000\\mrcnn_0247.h5 \n",
      "==========================================\n",
      "MRCNN  MODEL Load weight file COMPLETE \n",
      "==========================================\n"
     ]
    }
   ],
   "source": [
    "from mrcnn.prep_notebook import build_mrcnn_training_pipeline_newshapes\n",
    "mrcnn_model = build_mrcnn_training_pipeline_newshapes(args, verbose = 1)"
   ]
  },
  {
   "cell_type": "code",
   "execution_count": 3,
   "metadata": {
    "ExecuteTime": {
     "end_time": "2018-12-21T14:57:33.337032Z",
     "start_time": "2018-12-21T14:57:33.019812Z"
    },
    "scrolled": true
   },
   "outputs": [],
   "source": [
    "# exclude=[\"mrcnn_class_logits\"] # ,\"mrcnn_bbox_fc\"]   #, \"mrcnn_bbox\", \"mrcnn_mask\"])\n",
    "# mrcnn_model.load_model_weights(init_with = 'last', exclude = None)  "
   ]
  },
  {
   "cell_type": "markdown",
   "metadata": {},
   "source": [
    "###  Load dataset"
   ]
  },
  {
   "cell_type": "code",
   "execution_count": 10,
   "metadata": {
    "ExecuteTime": {
     "end_time": "2018-12-22T18:20:09.301003Z",
     "start_time": "2018-12-22T18:20:06.994725Z"
    },
    "hideCode": false,
    "hideOutput": true,
    "hidePrompt": false,
    "scrolled": true
   },
   "outputs": [
    {
     "name": "stdout",
     "output_type": "stream",
     "text": [
      "Prepares complete\n",
      "Prepares complete\n",
      "1000 250\n"
     ]
    }
   ],
   "source": [
    "##------------------------------------------------------------------------------------\n",
    "## Build & Load Training and Validation datasets\n",
    "##------------------------------------------------------------------------------------\n",
    "dataset_train, train_generator = prep_newshape_dataset( mrcnn_model.config, 1000, generator=True)\n",
    "dataset_val  , val_generator   = prep_newshape_dataset( mrcnn_model.config,  250, generator=True)\n",
    "class_names = dataset_train.class_names\n",
    "print(len(dataset_train.image_ids), len(dataset_val.image_ids))"
   ]
  },
  {
   "cell_type": "code",
   "execution_count": 5,
   "metadata": {
    "ExecuteTime": {
     "end_time": "2018-12-21T14:58:09.042441Z",
     "start_time": "2018-12-21T14:58:08.692665Z"
    }
   },
   "outputs": [
    {
     "name": "stdout",
     "output_type": "stream",
     "text": [
      "57457\n"
     ]
    },
    {
     "data": {
      "text/plain": [
       "4598"
      ]
     },
     "execution_count": 5,
     "metadata": {},
     "output_type": "execute_result"
    }
   ],
   "source": [
    "# dataset_train.display_active_classes()\n",
    "# dataset_val.display_active_classes()\n",
    "len(dataset_train.image_ids)\n",
    "# len(dataset_val.image_ids)\n",
    "ext_ids = [img_inf['id'] for img_inf in dataset_train.image_info]\n",
    "print(len(ext_ids))\n",
    "ext_ids.index(275557)"
   ]
  },
  {
   "cell_type": "code",
   "execution_count": 8,
   "metadata": {
    "ExecuteTime": {
     "end_time": "2018-12-21T14:05:16.371568Z",
     "start_time": "2018-12-21T14:05:15.999323Z"
    }
   },
   "outputs": [
    {
     "name": "stdout",
     "output_type": "stream",
     "text": [
      "[10, 11, 12, 13, 14, 30, 31, 32, 33, 34, 35, 36, 37, 38, 39, 40, 41, 42, 43, 44, 45, 46, 69, 70, 71, 72, 73]\n",
      "\n",
      "{ 'accessory': [27, 28, 31, 32, 33],\n",
      "  'animal': [16, 17, 18, 19, 20, 21, 22, 23, 24, 25],\n",
      "  'appliance': [78, 79, 80, 81, 82],\n",
      "  'background': [0],\n",
      "  'electronic': [72, 73, 74, 75, 76, 77],\n",
      "  'food': [52, 53, 54, 55, 56, 57, 58, 59, 60, 61],\n",
      "  'furniture': [62, 63, 64, 65, 67, 70],\n",
      "  'indoor': [84, 85, 86, 87, 88, 89, 90],\n",
      "  'kitchen': [44, 46, 47, 48, 49, 50, 51],\n",
      "  'outdoor': [10, 11, 13, 14, 15],\n",
      "  'person': [1],\n",
      "  'sports': [34, 35, 36, 37, 38, 39, 40, 41, 42, 43],\n",
      "  'vehicle': [2, 3, 4, 5, 6, 7, 8, 9]}\n",
      " dataset_train.source_objs:    {}\n",
      " len of dataset_train.image_info:  57457\n",
      "dict_keys(['source', 'width', 'path', 'annotations', 'id', 'height'])\n",
      "0 275557 coco F:\\MLDatasets\\coco2014\\train2014\\COCO_train2014_000000275557.jpg\n",
      "1 275557 coco F:\\MLDatasets\\coco2014\\train2014\\COCO_train2014_000000275557.jpg\n",
      "2 275557 coco F:\\MLDatasets\\coco2014\\train2014\\COCO_train2014_000000275557.jpg\n",
      "3 275557 coco F:\\MLDatasets\\coco2014\\train2014\\COCO_train2014_000000275557.jpg\n",
      "4 275557 coco F:\\MLDatasets\\coco2014\\train2014\\COCO_train2014_000000275557.jpg\n",
      "5 275557 coco F:\\MLDatasets\\coco2014\\train2014\\COCO_train2014_000000275557.jpg\n",
      "6 275557 coco F:\\MLDatasets\\coco2014\\train2014\\COCO_train2014_000000275557.jpg\n",
      "7 275557 coco F:\\MLDatasets\\coco2014\\train2014\\COCO_train2014_000000275557.jpg\n",
      "8 275557 coco F:\\MLDatasets\\coco2014\\train2014\\COCO_train2014_000000275557.jpg\n",
      "9 275557 coco F:\\MLDatasets\\coco2014\\train2014\\COCO_train2014_000000275557.jpg\n"
     ]
    }
   ],
   "source": [
    "print(dataset_train.active_class_ids)\n",
    "# pp.pprint(dataset_train.category_to_class_map)\n",
    "print()\n",
    "pp.pprint(dataset_train.category_to_external_class_map)\n",
    "print(' dataset_train.source_objs:   ',dataset_train.source_objs)\n",
    "print(' len of dataset_train.image_info: ', len(dataset_train.image_info))\n",
    "print(dataset_train.image_info[0].keys())\n",
    "for i in range(10):\n",
    "    p = dataset_train.image_info[4598]\n",
    "    print(i,p['id'], p['source'], p['path'])"
   ]
  },
  {
   "cell_type": "markdown",
   "metadata": {
    "heading_collapsed": true
   },
   "source": [
    "#### List trainable layers using `get_trainable_layers()` "
   ]
  },
  {
   "cell_type": "code",
   "execution_count": null,
   "metadata": {
    "ExecuteTime": {
     "end_time": "2018-11-27T17:09:20.773634Z",
     "start_time": "2018-11-27T17:09:08.110668Z"
    },
    "hidden": true,
    "scrolled": true
   },
   "outputs": [],
   "source": [
    "for i in  mrcnn_model.get_trainable_layers():\n",
    "    print(' Layer:', i.name)    "
   ]
  },
  {
   "cell_type": "markdown",
   "metadata": {},
   "source": [
    "## Display Images"
   ]
  },
  {
   "cell_type": "markdown",
   "metadata": {},
   "source": [
    "###  Display image with Ground Truth bounding boxes and masks"
   ]
  },
  {
   "cell_type": "code",
   "execution_count": 14,
   "metadata": {
    "ExecuteTime": {
     "end_time": "2018-12-22T18:21:27.362644Z",
     "start_time": "2018-12-22T18:21:26.614855Z"
    },
    "hideCode": false,
    "hidePrompt": false,
    "scrolled": false
   },
   "outputs": [
    {
     "name": "stdout",
     "output_type": "stream",
     "text": [
      "image id :  646\n",
      " Image_id    :  646  Reference:  [('sun', (246, 33, 224), (43, 18, 7, 7)), ('cloud', (187, 77, 223), (102, 28, 31, 10)), ('building', (80, 245, 154), (68, 54, 12, 15)), ('building', (48, 178, 158), (29, 61, 14, 18)), ('building', (100, 48, 138), (107, 62, 14, 19)), ('building', (90, 200, 158), (46, 63, 14, 19)), ('car', (145, 117, 30), (59, 80, 20, 10)), ('person', (153, 206, 132), (52, 92, 3, 16)), ('car', (6, 196, 210), (44, 105, 29, 14)), ('person', (195, 102, 115), (80, 106, 3, 19)), ('tree', (32, 140, 172), (82, 106, 23, 23))] Coco Id: 646\n",
      " Image meta  :  [646 128 128   3   0   0 128 128]\n",
      " Class ids   :  (11,)    [3 6 4 4 4 4 2 1 2 1 5]\n",
      " Class Names :  ['sun', 'cloud', 'building', 'building', 'building', 'building', 'car', 'person', 'car', 'person', 'tree']\n"
     ]
    },
    {
     "data": {
      "image/png": "[encoded data removed]",
      "text/plain": [
       "<Figure size 1152x1152 with 1 Axes>"
      ]
     },
     "metadata": {},
     "output_type": "display_data"
    }
   ],
   "source": [
    "# from mrcnn.prep_notebook import display_training_batch\n",
    "train_batch_x, _ =  data_gen_simulate(dataset_train, mrcnn_model.config, [646])\n",
    "# train_batch_x, train_batch_y = next(train_generator)\n",
    "visualize.display_training_batch(dataset_train, train_batch_x)\n",
    "\n",
    "# IMAGE_LIST = train_batch_x[1][:,0]\n",
    "# print('IMAGE_LIST : ', IMAGE_LIST)\n",
    "# for image_id in IMAGE_LIST:\n",
    "#     print()\n",
    "#     print('IMAGE_ID : ', image_id)#### Load a specific image using image_id\n",
    "#     annotations = dataset_train.image_info[image_id][\"annotations\"]\n",
    "# #     print(annotations)\n",
    "#     for annotation in annotations:\n",
    "#         class_id = dataset_train.map_source_class_id( \"coco.{}\".format(annotation['category_id']))\n",
    "#         print(\"coco.id: {} --> class_id : {}  - {} \".format(annotation['category_id'],class_id, dataset_train.class_names[class_id]))"
   ]
  },
  {
   "cell_type": "markdown",
   "metadata": {
    "heading_collapsed": true
   },
   "source": [
    "### other image displays"
   ]
  },
  {
   "cell_type": "markdown",
   "metadata": {
    "heading_collapsed": true,
    "hidden": true
   },
   "source": [
    "####  Display Training / Validation Training set information"
   ]
  },
  {
   "cell_type": "code",
   "execution_count": null,
   "metadata": {
    "ExecuteTime": {
     "end_time": "2018-09-20T13:41:58.073076Z",
     "start_time": "2018-09-20T13:41:58.017365Z"
    },
    "hidden": true
   },
   "outputs": [],
   "source": [
    "print(\"Train Dataset Image Count: {}\".format(len(dataset_train.image_ids)))\n",
    "print(\"Training Dataset Class Count: {}\".format(dataset_train.num_classes))\n",
    "for i, info in enumerate(dataset_train.class_info):\n",
    "    print(\"{:3}. {:50}\".format(i, info['name']))\n",
    "    \n",
    "    \n",
    "print(\"Validation Dataset Image Count: {}\".format(len(dataset_val.image_ids)))\n",
    "print(\"Validation Dataset Class Count: {}\".format(dataset_val.num_classes))\n",
    "for i, info in enumerate(dataset_val.class_info):\n",
    "    print(\"{:3}. {:50}\".format(i, info['name']))    "
   ]
  },
  {
   "cell_type": "markdown",
   "metadata": {
    "hidden": true
   },
   "source": [
    "#### Display top masks for a random group of images"
   ]
  },
  {
   "cell_type": "code",
   "execution_count": null,
   "metadata": {
    "ExecuteTime": {
     "end_time": "2018-09-20T13:42:01.523874Z",
     "start_time": "2018-09-20T13:41:58.075930Z"
    },
    "hidden": true
   },
   "outputs": [],
   "source": [
    "# Load and display random samples\n",
    "image_ids = np.random.choice(dataset_train.image_ids, 7)\n",
    "for image_id in image_ids:\n",
    "    image = dataset_train.load_image(image_id)\n",
    "    mask, class_ids = dataset_train.load_mask(image_id)\n",
    "    visualize.display_top_masks(image, mask, class_ids, dataset_train.class_names)"
   ]
  },
  {
   "cell_type": "markdown",
   "metadata": {
    "hidden": true
   },
   "source": [
    "#### Display a random image with instances and mask"
   ]
  },
  {
   "cell_type": "code",
   "execution_count": null,
   "metadata": {
    "ExecuteTime": {
     "end_time": "2018-09-20T13:42:02.368569Z",
     "start_time": "2018-09-20T13:42:01.527170Z"
    },
    "hidden": true
   },
   "outputs": [],
   "source": [
    "# Load random image and mask.\n",
    "# image_id = np.random.choice(dataset_train.image_ids)\n",
    "\n",
    "\n",
    "image    = dataset_train.load_image(image_id)\n",
    "mask, class_ids = dataset_train.load_mask(image_id)\n",
    "# Compute Bounding box\n",
    "bbox = utils.extract_bboxes(mask)\n",
    "\n",
    "# Display image and additional stats\n",
    "print(\"image_id \", image_id, dataset_train.image_reference(image_id))\n",
    "log(\"image\", image)\n",
    "log(\"mask\", mask)\n",
    "log(\"class_ids\", class_ids)\n",
    "log(\"bbox\", bbox)\n",
    "print(class_ids.shape[0], bbox.shape[0])\n",
    "# Display image and instances\n",
    "visualize.display_instances_with_mask(image, bbox, mask, class_ids, dataset_train.class_names)"
   ]
  },
  {
   "cell_type": "markdown",
   "metadata": {},
   "source": [
    "## Run data through model"
   ]
  },
  {
   "cell_type": "markdown",
   "metadata": {},
   "source": [
    "####  `run_mrcnn_training_pipeline()`"
   ]
  },
  {
   "cell_type": "code",
   "execution_count": 15,
   "metadata": {
    "ExecuteTime": {
     "end_time": "2018-12-22T18:22:05.674981Z",
     "start_time": "2018-12-22T18:22:02.996346Z"
    }
   },
   "outputs": [
    {
     "name": "stdout",
     "output_type": "stream",
     "text": [
      "/* Inputs */\n",
      "Input  0:  (input_image:0                           ) \t  Input shape: (1, 128, 128, 3)\n",
      "Input  1:  (input_image_meta:0                      ) \t  Input shape: (1, 15)\n",
      "Input  2:  (input_rpn_match:0                       ) \t  Input shape: (1, 4092, 1)\n",
      "Input  3:  (input_rpn_bbox:0                        ) \t  Input shape: (1, 256, 4)\n",
      "Input  4:  (input_gt_class_ids:0                    ) \t  Input shape: (1, 100)\n",
      "Input  5:  (input_gt_boxes:0                        ) \t  Input shape: (1, 100, 4)\n",
      "\n",
      "Requested layers:\n",
      "-----------------\n",
      "Layer   4:  (mrcnn_class_lambda/mrcnn_class:0        ) \t  Output shape: (?, 32, 7)\n",
      "Layer   5:  (mrcnn_bbox_lambda/mrcnn_bbox:0          ) \t  Output shape: (?, 32, 7, 4)\n",
      "Layer   6:  (proposal_targets/output_rois:0          ) \t  Output shape: (1, ?, ?)\n",
      "Layer   7:  (proposal_targets/target_class_ids:0     ) \t  Output shape: (1, ?)\n",
      "Layer   8:  (proposal_targets/roi_gt_boxes:0         ) \t  Output shape: (1, ?, ?)\n",
      "Layer   9:  (mrcnn_logits_lambda/mrcnn_class_logits:0) \t  Output shape: (?, 32, 7)\n",
      "\n",
      "/* Outputs */\n",
      "Output idx:  0    Layer:  4: (mrcnn_class_lambda/mrcnn_class:0        ) \t  Output shape: (1, 32, 7)\n",
      "Output idx:  1    Layer:  5: (mrcnn_bbox_lambda/mrcnn_bbox:0          ) \t  Output shape: (1, 32, 7, 4)\n",
      "Output idx:  2    Layer:  6: (proposal_targets/output_rois:0          ) \t  Output shape: (1, 32, 4)\n",
      "Output idx:  3    Layer:  7: (proposal_targets/target_class_ids:0     ) \t  Output shape: (1, 32)\n",
      "Output idx:  4    Layer:  8: (proposal_targets/roi_gt_boxes:0         ) \t  Output shape: (1, 32, 4)\n",
      "Output idx:  5    Layer:  9: (mrcnn_logits_lambda/mrcnn_class_logits:0) \t  Output shape: (1, 32, 7)\n",
      "\n",
      "Number of layers generated:  6 \n",
      "\n",
      "mrcnn_class               = model_output[0]          # layer:  4   shape: (1, 32, 7)\n",
      "mrcnn_bbox                = model_output[1]          # layer:  5   shape: (1, 32, 7, 4)\n",
      "output_rois               = model_output[2]          # layer:  6   shape: (1, 32, 4)\n",
      "target_class_ids          = model_output[3]          # layer:  7   shape: (1, 32)\n",
      "roi_gt_boxes              = model_output[4]          # layer:  8   shape: (1, 32, 4)\n",
      "mrcnn_class_logits        = model_output[5]          # layer:  9   shape: (1, 32, 7)\n"
     ]
    }
   ],
   "source": [
    "# outputs = run_mrcnn_training_pipeline(mrcnn_model, dataset_train, train_batch_x, verbose= 1)\n",
    "outputs = mrcnn_model.get_layer_outputs(train_batch_x, [4,5,6,7,8,9], verbose = 1)"
   ]
  },
  {
   "cell_type": "markdown",
   "metadata": {},
   "source": [
    "#### Load output data"
   ]
  },
  {
   "cell_type": "code",
   "execution_count": 16,
   "metadata": {
    "ExecuteTime": {
     "end_time": "2018-12-22T18:22:16.783469Z",
     "start_time": "2018-12-22T18:22:16.436225Z"
    },
    "hideCode": false,
    "hideOutput": true,
    "hidePrompt": false,
    "scrolled": true
   },
   "outputs": [],
   "source": [
    "# print(len(outputs), outputs.keys())\n",
    "# model_pr_heatmap                = outputs['mrcnn_output'][0]          # layer:  0   shape: (1, 256, 256, 81)\n",
    "# model_pr_heatmap_scores         = outputs['mrcnn_output'][1]          # layer:  1   shape: (1, 81, 200, 11)\n",
    "# model_gt_heatmap                = outputs['mrcnn_output'][2]          # layer:  2   shape: (1, 256, 256, 81)\n",
    "# model_gt_heatmap_scores         = outputs['mrcnn_output'][3]          # layer:  3   shape: (1, 81, 200, 11)\n",
    "# model_mrcnn_class               = outputs['mrcnn_output'][4]\n",
    "# model_mrcnn_bbox                = outputs['mrcnn_output'][5]\n",
    "# model_output_rois               = outputs['mrcnn_output'][6]\n",
    "# model_target_class_ids          = outputs['mrcnn_output'][7]\n",
    "# model_roi_gt_boxes              = outputs['mrcnn_output'][8]\n",
    "# model_mrcnn_class_logits        = outputs['mrcnn_output'][9]\n",
    "# model_active_class_ids          = outputs['mrcnn_output'][10]          # layer:  6   shape: (1, 81)\n",
    "model_mrcnn_class               = outputs[0]\n",
    "model_mrcnn_bbox                = outputs[1]\n",
    "model_output_rois               = outputs[2]\n",
    "model_target_class_ids          = outputs[3]\n",
    "model_roi_gt_boxes              = outputs[4]\n",
    "model_mrcnn_class_logits        = outputs[5]\n"
   ]
  },
  {
   "cell_type": "markdown",
   "metadata": {
    "heading_collapsed": true
   },
   "source": [
    "#### Display output shapes"
   ]
  },
  {
   "cell_type": "code",
   "execution_count": 29,
   "metadata": {
    "ExecuteTime": {
     "end_time": "2018-12-22T18:28:33.598464Z",
     "start_time": "2018-12-22T18:28:33.227201Z"
    },
    "hidden": true
   },
   "outputs": [
    {
     "name": "stdout",
     "output_type": "stream",
     "text": [
      "Group: (1, 32, 7) False\n",
      "Group: (1, 32, 7, 4) False\n",
      "Group: (1, 32, 4) False\n",
      "Group: (1, 32) False\n",
      "Group: (1, 32, 4) False\n",
      "Group: (1, 32, 7) False\n"
     ]
    }
   ],
   "source": [
    "# print(outputs['image_batch'].shape)\n",
    "for i in outputs:\n",
    "    print('Group:', i.shape, np.any(np.isnan(i)))\n",
    "#     for item in outputs[i]:\n",
    "#         print(' Type ', type(item), item.shape)"
   ]
  },
  {
   "cell_type": "markdown",
   "metadata": {},
   "source": [
    "#### Load input data"
   ]
  },
  {
   "cell_type": "code",
   "execution_count": 112,
   "metadata": {
    "ExecuteTime": {
     "end_time": "2018-12-22T19:45:57.155668Z",
     "start_time": "2018-12-22T19:45:56.795413Z"
    },
    "hideCode": false,
    "hideOutput": true,
    "hidePrompt": false,
    "scrolled": true
   },
   "outputs": [
    {
     "name": "stdout",
     "output_type": "stream",
     "text": [
      " Input image shape is    : (1, 128, 128, 3)\n",
      " Input image_meta        : <class 'numpy.ndarray'> (1, 15)\n",
      " input_image_meta        : [646 128 128   3   0   0 128 128   1   1]\n",
      " input_gt_class_ids      : (1, 100)\n",
      " input_gt_bboxes         : (1, 100, 4)\n",
      "h/w: 128 128\n"
     ]
    }
   ],
   "source": [
    "input_image          =  train_batch_x[0]\n",
    "input_image_meta     =  train_batch_x[1]\n",
    "input_gt_class_ids   =  train_batch_x[4]\n",
    "input_gt_bboxes      =  train_batch_x[5]\n",
    "print(' Input image shape is    :', input_image.shape)\n",
    "print(' Input image_meta        :', type(input_image_meta), input_image_meta.shape)\n",
    "print(' input_image_meta        :', input_image_meta[0,:10])\n",
    "print(' input_gt_class_ids      :', input_gt_class_ids.shape)\n",
    "print(' input_gt_bboxes         :', input_gt_bboxes.shape)\n",
    "h, w = input_image.shape[1], input_image.shape[2]      #  tf.shape(input_image)[1], tf.shape(input_image)[2]\n",
    "print('h/w:', h,w)\n",
    "# input_gt_bboxes_norm = tf.identity(input_gt_bboxes / [h,w,h,w])\n",
    "# print(' input_gt_bboxes_norm    :', input_gt_bboxes_norm.shape)"
   ]
  },
  {
   "cell_type": "markdown",
   "metadata": {},
   "source": [
    "## Display output from model"
   ]
  },
  {
   "cell_type": "markdown",
   "metadata": {
    "heading_collapsed": true
   },
   "source": [
    "####  `input_gt_class_ids`, `input_gt_bboxes`"
   ]
  },
  {
   "cell_type": "code",
   "execution_count": null,
   "metadata": {
    "ExecuteTime": {
     "end_time": "2018-10-31T17:15:53.277758Z",
     "start_time": "2018-10-31T17:15:53.230990Z"
    },
    "hidden": true,
    "hideOutput": false,
    "scrolled": true
   },
   "outputs": [],
   "source": [
    "# print(roi_gt_boxes[0,:50] * [1024,1024,1024,1024])\n",
    "print(input_gt_class_ids[0])\n",
    "print(input_gt_bboxes[0,:10])\n",
    "# for i in range(input_gt_class_ids.shape[1]):\n",
    "#     if input_gt_class_ids[0,i] == 1:\n",
    "#         print(input_gt_class_ids[0,i], '   ', input_gt_bboxes[0,i])"
   ]
  },
  {
   "cell_type": "markdown",
   "metadata": {},
   "source": [
    "####  Display `output_rois`"
   ]
  },
  {
   "cell_type": "code",
   "execution_count": 113,
   "metadata": {
    "ExecuteTime": {
     "end_time": "2018-12-22T19:46:16.733304Z",
     "start_time": "2018-12-22T19:46:16.381053Z"
    },
    "hideCode": false,
    "hideOutput": true,
    "scrolled": true
   },
   "outputs": [
    {
     "name": "stdout",
     "output_type": "stream",
     "text": [
      " output_rois\n",
      "(1, 32, 4)\n",
      "[[ 89.9938  21.9684 121.9342  68.7210]\n",
      " [ 75.7614  49.1207  98.4784  56.5368]\n",
      " [ 57.0651  36.2667  92.7808 102.5193]\n",
      " [ 81.5417  85.9090 117.0494  97.9731]\n",
      " [ 15.5543   7.2343  52.3054 128.0000]\n",
      " [  2.2087  29.8782  34.6166 125.8703]\n",
      " [ 42.4998  42.2055  71.4631  65.7581]\n",
      " [ 87.7792  74.3610 128.0000 116.4796]\n",
      " [ 49.2096  65.5472  72.7331  77.7238]\n",
      " [ 88.6070  41.6229 128.0000 111.6528]\n",
      " [ 98.9483 110.6092 128.0000 128.0000]\n",
      " [ 26.0002   0.0000  52.0311  29.1273]\n",
      " [ 60.4509  72.9878  86.0904  84.0997]\n",
      " [ 78.7533  68.5019 103.8177  79.2092]\n",
      " [  8.0695   5.9834  39.9838  70.0515]\n",
      " [ 50.7995  83.6820  75.5738  90.9453]\n",
      " [ 20.5376  39.8277  50.8195  91.2951]\n",
      " [  0.0000  48.1537  17.9272  79.9518]\n",
      " [ 56.7791  79.6121  86.2734  93.5079]\n",
      " [  5.7137  61.7155  20.4161  81.4220]\n",
      " [ 31.5693  75.6970  68.6318 104.9050]\n",
      " [  1.8475 100.9479  19.9995 123.5426]\n",
      " [ 21.5437  23.0777  41.0755  77.1641]\n",
      " [ 52.3703  70.1227  94.5024  99.2906]\n",
      " [ 52.9026  55.8731  66.0696  65.2820]\n",
      " [  4.8896  82.5755  21.8514 119.5708]\n",
      " [114.6945  92.6865 128.0000 103.8807]\n",
      " [ 68.1099  76.2085  88.3615  96.7962]\n",
      " [  0.0000   4.1421   6.1497  28.8762]\n",
      " [ 55.4889 120.6128  68.8861 126.1982]\n",
      " [  0.0000   0.0000   0.0000   0.0000]\n",
      " [  0.0000   0.0000   0.0000   0.0000]]\n"
     ]
    }
   ],
   "source": [
    "np.set_printoptions(precision=4, threshold=4000, linewidth=210, suppress=True)\n",
    "img = 0\n",
    "print(' output_rois')\n",
    "print(model_output_rois.shape)\n",
    "# print(output_rois[0,:40,:])\n",
    "print(model_output_rois [0,:,:]* [h, w, h, w])"
   ]
  },
  {
   "cell_type": "markdown",
   "metadata": {},
   "source": [
    "####  `max_mrcnn_class` , `argmax_mrcnn_class`"
   ]
  },
  {
   "cell_type": "code",
   "execution_count": 47,
   "metadata": {
    "ExecuteTime": {
     "end_time": "2018-12-21T15:44:46.361636Z",
     "start_time": "2018-12-21T15:44:46.000623Z"
    },
    "scrolled": true
   },
   "outputs": [
    {
     "name": "stdout",
     "output_type": "stream",
     "text": [
      " mrcnn_class (1, 200, 81)\n",
      "[[1.0000 0.0000 0.0000 0.0000 0.0000 0.0000 0.0000 0.0000 0.0000 0.0000 0.0000 0.0000 0.0000 0.0000 0.0000 0.0000 0.0000 0.0000 0.0000 0.0000]\n",
      " [1.0000 0.0000 0.0000 0.0000 0.0000 0.0000 0.0000 0.0000 0.0000 0.0000 0.0000 0.0000 0.0000 0.0000 0.0000 0.0000 0.0000 0.0000 0.0000 0.0000]\n",
      " [1.0000 0.0000 0.0000 0.0000 0.0000 0.0000 0.0000 0.0000 0.0000 0.0000 0.0000 0.0000 0.0000 0.0000 0.0000 0.0000 0.0000 0.0000 0.0000 0.0000]\n",
      " [1.0000 0.0000 0.0000 0.0000 0.0000 0.0000 0.0000 0.0000 0.0000 0.0000 0.0000 0.0000 0.0000 0.0000 0.0000 0.0000 0.0000 0.0000 0.0000 0.0000]\n",
      " [1.0000 0.0000 0.0000 0.0000 0.0000 0.0000 0.0000 0.0000 0.0000 0.0000 0.0000 0.0000 0.0000 0.0000 0.0000 0.0000 0.0000 0.0000 0.0000 0.0000]\n",
      " [1.0000 0.0000 0.0000 0.0000 0.0000 0.0000 0.0000 0.0000 0.0000 0.0000 0.0000 0.0000 0.0000 0.0000 0.0000 0.0000 0.0000 0.0000 0.0000 0.0000]\n",
      " [1.0000 0.0000 0.0000 0.0000 0.0000 0.0000 0.0000 0.0000 0.0000 0.0000 0.0000 0.0000 0.0000 0.0000 0.0000 0.0000 0.0000 0.0000 0.0000 0.0000]\n",
      " [1.0000 0.0000 0.0000 0.0000 0.0000 0.0000 0.0000 0.0000 0.0000 0.0000 0.0000 0.0000 0.0000 0.0000 0.0000 0.0000 0.0000 0.0000 0.0000 0.0000]\n",
      " [1.0000 0.0000 0.0000 0.0000 0.0000 0.0000 0.0000 0.0000 0.0000 0.0000 0.0000 0.0000 0.0000 0.0000 0.0000 0.0000 0.0000 0.0000 0.0000 0.0000]\n",
      " [1.0000 0.0000 0.0000 0.0000 0.0000 0.0000 0.0000 0.0000 0.0000 0.0000 0.0000 0.0000 0.0000 0.0000 0.0000 0.0000 0.0000 0.0000 0.0000 0.0000]]\n",
      "\n",
      " mrcnn_class Max Values   :  (200,)\n",
      "[1.0000 1.0000 1.0000 1.0000 1.0000 1.0000 1.0000 1.0000 1.0000 1.0000 1.0000 1.0000 1.0000 1.0000 1.0000 1.0000 1.0000 1.0000 1.0000 1.0000 1.0000 1.0000 1.0000 1.0000 1.0000 1.0000 1.0000 1.0000 1.0000\n",
      " 1.0000 1.0000 1.0000 1.0000 1.0000 1.0000 1.0000 1.0000 1.0000 1.0000 1.0000 1.0000 1.0000 1.0000 1.0000 1.0000 1.0000 1.0000 1.0000 1.0000 1.0000 1.0000 1.0000 1.0000 1.0000 1.0000 1.0000 1.0000 1.0000\n",
      " 1.0000 1.0000 1.0000 1.0000 1.0000 1.0000 1.0000 1.0000 1.0000 1.0000 1.0000 1.0000 1.0000 1.0000 1.0000 1.0000 1.0000 1.0000 1.0000 1.0000 1.0000 1.0000 1.0000 1.0000 1.0000 1.0000 1.0000 1.0000 1.0000\n",
      " 1.0000 1.0000 1.0000 1.0000 1.0000 1.0000 1.0000 1.0000 1.0000 1.0000 1.0000 1.0000 1.0000 1.0000 1.0000 1.0000 1.0000 1.0000 1.0000 1.0000 1.0000 1.0000 1.0000 1.0000 1.0000 1.0000 1.0000 1.0000 1.0000\n",
      " 1.0000 1.0000 1.0000 1.0000 1.0000 1.0000 1.0000 1.0000 1.0000 1.0000 1.0000 1.0000 1.0000 1.0000 1.0000 1.0000 1.0000 1.0000 1.0000 1.0000 1.0000 1.0000 1.0000 1.0000 1.0000 1.0000 1.0000 1.0000 1.0000\n",
      " 1.0000 1.0000 1.0000 1.0000 1.0000 1.0000 1.0000 1.0000 1.0000 1.0000 1.0000 1.0000 1.0000 1.0000 1.0000 1.0000 1.0000 1.0000 1.0000 1.0000 1.0000 1.0000 1.0000 1.0000 1.0000 1.0000 1.0000 1.0000 1.0000\n",
      " 1.0000 1.0000 1.0000 1.0000 1.0000 1.0000 1.0000 1.0000 1.0000 1.0000 1.0000 1.0000 1.0000 1.0000 1.0000 1.0000 1.0000 1.0000 1.0000 1.0000 1.0000 1.0000 1.0000 1.0000 1.0000 1.0000]\n",
      " mrcnn_class Argmax Values:  (1, 200)\n",
      "[0 0 0 0 0 0 0 0 0 0 0 0 0 0 0 0 0 0 0 0 0 0 0 0 0 0 0 0 0 0 0 0 0 0 0 0 0 0 0 0 0 0 0 0 0 0 0 0 0 0 0 0 0 0 0 0 0 0 0 0 0 0 0 0 0 0 0 0 0 0 0 0 0 0 0 0 0 0 0 0 0 0 0 0 0 0 0 0 0 0 0 0 0 0 0 0 0 0 0 0 0 0 0 0\n",
      " 0 0 0 0 0 0 0 0 0 0 0 0 0 0 0 0 0 0 0 0 0 0 0 0 0 0 0 0 0 0 0 0 0 0 0 0 0 0 0 0 0 0 0 0 0 0 0 0 0 0 0 0 0 0 0 0 0 0 0 0 0 0 0 0 0 0 0 0 0 0 0 0 0 0 0 0 0 0 0 0 0 0 0 0 0 0 0 0 0 0 0 0 0 0 0 0]\n",
      " target_class_ds    Values:  (1, 200)\n",
      "[0 0 0 0 0 0 0 0 0 0 0 0 0 0 0 0 0 0 0 0 0 0 0 0 0 0 0 0 0 0 0 0 0 0 0 0 0 0 0 0 0 0 0 0 0 0 0 0 0 0 0 0 0 0 0 0 0 0 0 0 0 0 0 0 0 0 0 0 0 0 0 0 0 0 0 0 0 0 0 0 0 0 0 0 0 0 0 0 0 0 0 0 0 0 0 0 0 0 0 0 0 0 0 0\n",
      " 0 0 0 0 0 0 0 0 0 0 0 0 0 0 0 0 0 0 0 0 0 0 0 0 0 0 0 0 0 0 0 0 0 0 0 0 0 0 0 0 0 0 0 0 0 0 0 0 0 0 0 0 0 0 0 0 0 0 0 0 0 0 0 0 0 0 0 0 0 0 0 0 0 0 0 0 0 0 0 0 0 0 0 0 0 0 0 0 0 0 0 0 0 0 0 0]\n"
     ]
    }
   ],
   "source": [
    "np.set_printoptions(precision=4, threshold=4000, linewidth=210, suppress=True)\n",
    "print(' mrcnn_class', model_mrcnn_class.shape)\n",
    "print( model_mrcnn_class[0,:10,:20])\n",
    "# \n",
    "max_mrcnn_class    = np.max(model_mrcnn_class, axis = (0,2))\n",
    "argmax_mrcnn_class = np.argmax(model_mrcnn_class, axis = 2)\n",
    "\n",
    "# print()\n",
    "print('\\n mrcnn_class Max Values   : ', max_mrcnn_class.shape)\n",
    "print(max_mrcnn_class)\n",
    "\n",
    "# print()\n",
    "print(' mrcnn_class Argmax Values: ', argmax_mrcnn_class.shape)\n",
    "print(argmax_mrcnn_class[0])\n",
    "\n",
    "print(' target_class_ds    Values: ', model_target_class_ids.shape)\n",
    "print(model_target_class_ids[0])\n",
    "\n",
    "# for i in range(100):\n",
    "#     print('Predicted: ', argmax_mrcnn_class[0,i],  '  Actual ', target_class_ids[0,i])\n",
    " "
   ]
  },
  {
   "cell_type": "code",
   "execution_count": 80,
   "metadata": {
    "ExecuteTime": {
     "end_time": "2018-12-22T19:22:10.075958Z",
     "start_time": "2018-12-22T19:22:09.730713Z"
    }
   },
   "outputs": [
    {
     "name": "stdout",
     "output_type": "stream",
     "text": [
      " mrcnn_bbox\n",
      "(1, 32, 7, 4)\n",
      "[[   -1.2262    -1.0788    -0.6813     0.8439]\n",
      " [    0.3769    -0.5076     0.6922    -2.7245]\n",
      " [    0.1140    -1.8495    -0.9589     1.1142]\n",
      " [    1.9968     0.0897    -0.3448    -1.3240]\n",
      " [    0.4668    -1.8105     0.5134     0.6218]\n",
      " [    1.0295    -1.1248    -0.5838     0.6746]\n",
      " [   -1.3606    -1.6919     0.4289     1.7320]]\n"
     ]
    }
   ],
   "source": [
    "print(' mrcnn_bbox')\n",
    "print(model_mrcnn_bbox.shape)\n",
    "print(model_mrcnn_bbox[0,6,:70])"
   ]
  },
  {
   "cell_type": "markdown",
   "metadata": {},
   "source": [
    "#### Display  `target_class_ids()`, `target_bbox_deltas`, `roi_gt_boxes`"
   ]
  },
  {
   "cell_type": "code",
   "execution_count": 114,
   "metadata": {
    "ExecuteTime": {
     "end_time": "2018-12-22T19:46:39.434740Z",
     "start_time": "2018-12-22T19:46:39.077487Z"
    },
    "hideCode": false,
    "hideOutput": true
   },
   "outputs": [
    {
     "name": "stdout",
     "output_type": "stream",
     "text": [
      " target_class_ids\n",
      "(1, 32)\n",
      "[2 1 2 5 6 6 4 5 4 5 0 0 0 0 0 0 0 0 0 0 0 0 0 0 0 0 0 0 0 0 0 0]\n",
      "(1, 32, 4)\n",
      "[[0.7109 0.1172 0.8984 0.5781]\n",
      " [0.5703 0.3828 0.7344 0.4375]\n",
      " [0.5469 0.3047 0.6875 0.6250]\n",
      " [0.7031 0.4922 1.0000 0.7891]\n",
      " [0.1406 0.5547 0.3047 1.0000]\n",
      " [0.1406 0.5547 0.3047 1.0000]\n",
      " [0.3438 0.2500 0.6484 0.4766]\n",
      " [0.7031 0.4922 1.0000 0.7891]\n",
      " [0.3047 0.4375 0.5469 0.6328]\n",
      " [0.7031 0.4922 1.0000 0.7891]\n",
      " [0.0000 0.0000 0.0000 0.0000]\n",
      " [0.0000 0.0000 0.0000 0.0000]\n",
      " [0.0000 0.0000 0.0000 0.0000]\n",
      " [0.0000 0.0000 0.0000 0.0000]\n",
      " [0.0000 0.0000 0.0000 0.0000]\n",
      " [0.0000 0.0000 0.0000 0.0000]\n",
      " [0.0000 0.0000 0.0000 0.0000]\n",
      " [0.0000 0.0000 0.0000 0.0000]\n",
      " [0.0000 0.0000 0.0000 0.0000]\n",
      " [0.0000 0.0000 0.0000 0.0000]\n",
      " [0.0000 0.0000 0.0000 0.0000]\n",
      " [0.0000 0.0000 0.0000 0.0000]\n",
      " [0.0000 0.0000 0.0000 0.0000]\n",
      " [0.0000 0.0000 0.0000 0.0000]\n",
      " [0.0000 0.0000 0.0000 0.0000]\n",
      " [0.0000 0.0000 0.0000 0.0000]\n",
      " [0.0000 0.0000 0.0000 0.0000]\n",
      " [0.0000 0.0000 0.0000 0.0000]\n",
      " [0.0000 0.0000 0.0000 0.0000]\n",
      " [0.0000 0.0000 0.0000 0.0000]\n",
      " [0.0000 0.0000 0.0000 0.0000]\n",
      " [0.0000 0.0000 0.0000 0.0000]]\n"
     ]
    }
   ],
   "source": [
    "print(' target_class_ids')\n",
    "print(model_target_class_ids.shape)\n",
    "print(model_target_class_ids[0])\n",
    "# print(model_target_bbox_deltas.shape)\n",
    "# print(model_target_bbox_deltas[0])\n",
    "print(model_roi_gt_boxes.shape)\n",
    "print(model_roi_gt_boxes[0])"
   ]
  },
  {
   "cell_type": "markdown",
   "metadata": {},
   "source": [
    "####  apply `deltas` from predicted delta `mrcnn_bbox`  to  `output_rois` to obtain refined rois "
   ]
  },
  {
   "cell_type": "code",
   "execution_count": 115,
   "metadata": {
    "ExecuteTime": {
     "end_time": "2018-12-22T19:47:14.539975Z",
     "start_time": "2018-12-22T19:47:14.131686Z"
    },
    "scrolled": true
   },
   "outputs": [
    {
     "name": "stdout",
     "output_type": "stream",
     "text": [
      "mrcnn_class shape: (1, 32, 7)\n",
      "mrcnn_bbox shape : (1, 32, 7, 4)\n",
      "predicted_classes: (1, 32)\n",
      "mrcnn_class shape: (1, 32, 7)\n",
      "mrcnn_bbox shape : (1, 32, 7, 4)\n",
      "predicted_classes: (1, 32)\n",
      "predicted_deltas : (1, 32, 4)\n",
      "output_rois (1, 32, 4) deltas  (1, 32, 4)\n",
      "\n"
     ]
    }
   ],
   "source": [
    "np.set_printoptions(precision=4, threshold=4000, linewidth=210, suppress=True)\n",
    "img_idx = 0 \n",
    "classes, deltas = utils.get_predicted_mrcnn_deltas(model_mrcnn_class, model_mrcnn_bbox, verbose=True)\n",
    "print('output_rois',model_output_rois.shape, 'deltas ', deltas.shape)\n",
    "cls = 48\n",
    "\n",
    "for i in range(input_gt_class_ids.shape[1]):\n",
    "    if input_gt_class_ids[0,i] == cls:\n",
    "        print(input_gt_class_ids[0,i], '   ', input_gt_bboxes[0,i])\n",
    "\n",
    "        \n",
    "print()        \n",
    "for i in range(model_output_rois.shape[1]):\n",
    "    if classes[0,i] ==cls:\n",
    "        print(' i ', i, 'class: ',classes[0,i])\n",
    "#         print('   orig           : ', output_rois[0,i])\n",
    "        d1 = deltas[0,i] * mrcnn_config.BBOX_STD_DEV\n",
    "#         print('   delta          : ', deltas[0,i],'   delta * std dev: ', d1)\n",
    "        d2 = utils.apply_box_delta(model_output_rois[0,i],d1)\n",
    "#         print('   refined        : ', d2)\n",
    "#         print()\n",
    "        print('   orig           : ', model_output_rois[0,i] * [h,w,h,w])\n",
    "        print('   refined        : ', d2 * [1024,1024,1024,1024]) \n",
    "        print('   roi_gt_bboxes  : ', model_roi_gt_boxes[0,i]* [h,w,h,w]) \n",
    "        print()\n",
    "        print('   pred delta     : ', deltas[0,i] )\n",
    "        print('   tgt delta      : ', model_target_bbox_deltas[0,i] )\n",
    "        \n",
    "        print()\n"
   ]
  },
  {
   "cell_type": "markdown",
   "metadata": {},
   "source": [
    "####  Display roi_gt_boxes along with corresponding refined/clipped output_rois"
   ]
  },
  {
   "cell_type": "code",
   "execution_count": 132,
   "metadata": {
    "ExecuteTime": {
     "end_time": "2018-12-22T19:58:20.893351Z",
     "start_time": "2018-12-22T19:58:20.370238Z"
    },
    "scrolled": false
   },
   "outputs": [
    {
     "name": "stdout",
     "output_type": "stream",
     "text": [
      "(32, 4) (32,) (32, 1)\n",
      "(1, 32, 7) (1, 32, 7, 4)\n",
      "[[2 1 0 0 0 0 0 5 0 5 0 0 0 0 0 0 0 0 0 0 0 0 0 0 0 0 0 0 0 0 0 0]]\n",
      "mrcnn_class shape: (1, 32, 7)\n",
      "mrcnn_bbox shape : (1, 32, 7, 4)\n",
      "predicted_classes: (1, 32)\n",
      "mrcnn_class shape: (1, 32, 7)\n",
      "mrcnn_bbox shape : (1, 32, 7, 4)\n",
      "predicted_classes: (1, 32)\n",
      "predicted_deltas : (1, 32, 4)\n",
      "classes.shape:  (1, 32)  deltas.shape:  (1, 32, 4)\n",
      "ref_out_roi\n",
      "(32, 4)\n",
      "[[ 0.7135  0.1203  0.9072  0.5663]\n",
      " [ 0.5643  0.3891  0.7621  0.4351]\n",
      " [ 0.4142  0.1561  0.7440  0.6413]\n",
      " [ 0.6771  0.6741  0.8675  0.7618]\n",
      " [ 0.1168 -0.1349  0.4360  0.8012]\n",
      " [ 0.1146  0.2022  0.2610  0.8876]\n",
      " [ 0.3187  0.2930  0.5161  0.5108]\n",
      " [ 0.6983  0.5068  1.0096  0.7931]\n",
      " [ 0.3459  0.4949  0.5034  0.6124]\n",
      " [ 0.6938  0.4368  1.0093  0.8037]\n",
      " [ 0.7966  0.8751  0.9265  0.9770]\n",
      " [ 0.3026 -0.0851  0.4344 -0.0349]\n",
      " [ 0.4631  0.5528  0.6439  0.6545]\n",
      " [ 0.5924  0.5293  0.7944  0.6129]\n",
      " [ 0.1367  0.0531  0.3123  0.4520]\n",
      " [ 0.3363  0.6467  0.5402  0.7118]\n",
      " [ 0.2617  0.2239  0.3865  0.6551]\n",
      " [ 0.0621  0.4249  0.1199  0.6425]\n",
      " [ 0.3612  0.6115  0.6181  0.7176]\n",
      " [ 0.0943  0.4995  0.1350  0.6362]\n",
      " [ 0.2663  0.6039  0.5465  0.7118]\n",
      " [ 0.0694  0.7840  0.1129  1.0074]\n",
      " [ 0.1914  0.1925  0.3015  0.5568]\n",
      " [ 0.3681  0.5128  0.7318  0.7320]\n",
      " [ 0.4063  0.4395  0.5187  0.4836]\n",
      " [ 0.1102  0.6371  0.1496  0.9916]\n",
      " [ 0.9111  0.7313  1.0180  0.7590]\n",
      " [ 0.4947  0.5779  0.6685  0.7351]\n",
      " [-0.0240  0.0009  0.0465  0.0605]\n",
      " [ 0.4176  0.9432  0.5302  0.9797]\n",
      " [ 0.0000  0.0000  0.0000  0.0000]\n",
      " [ 0.0000  0.0000  0.0000  0.0000]]\n",
      "[  0.0000   0.0000 128.0000 128.0000]\n",
      "id:  200  GT :  2  - [ 91.0000  15.0000 115.0000  74.0000] \n",
      "\t\t\t    Raw Roi (Norm):  [0.7031 0.1716 0.9526 0.5369] \n",
      "\t\t\t             Delta:  [-0.0702 -0.0299 -0.2532  0.1997] \n",
      "\t\t\t    Raw Roi  (Img):  [ 89.9938  21.9684 121.9342  68.7210] \n",
      "   PR Cls:  2 \t         Roi w/Delta Apply:  [ 91.3236  15.4016 116.1190  72.4899] \n",
      "\t\t\t      Clipped Rois:  [ 91.3236  15.4016 116.1190  72.4899]\n",
      "id:  199  GT :  1  - [73.0000 49.0000 94.0000 56.0000] \n",
      "\t\t\t    Raw Roi (Norm):  [0.5919 0.3838 0.7694 0.4417] \n",
      "\t\t\t             Delta:  [-0.0983 -0.0111  0.1083 -0.2318] \n",
      "\t\t\t    Raw Roi  (Img):  [75.7614 49.1207 98.4784 56.5368] \n",
      "   PR Cls:  1 \t         Roi w/Delta Apply:  [72.2302 49.8056 97.5455 55.6874] \n",
      "\t\t\t      Clipped Rois:  [72.2302 49.8056 97.5455 55.6874]\n",
      "id:  198  GT :  2  - [70.0000 39.0000 88.0000 80.0000] \n",
      "\t\t\t    Raw Roi (Norm):  [0.4458 0.2833 0.7248 0.8009] \n",
      "\t\t\t             Delta:  [-0.0222 -0.2771  0.1671 -0.0647] \n",
      "\t\t\t    Raw Roi  (Img):  [ 57.0651  36.2667  92.7808 102.5193] \n",
      "   PR Cls:  0 \t         Roi w/Delta Apply:  [53.0235 19.9824 95.2360 82.0816] \n",
      "\t\t\t      Clipped Rois:  [53.0235 19.9824 95.2360 82.0816]\n",
      "id:  197  GT :  5  - [ 90.0000  63.0000 128.0000 101.0000] \n",
      "\t\t\t    Raw Roi (Norm):  [0.6370 0.6712 0.9144 0.7654] \n",
      "\t\t\t             Delta:  [-0.0124 -0.0035 -0.3767 -0.0730] \n",
      "\t\t\t    Raw Roi  (Img):  [ 81.5417  85.9090 117.0494  97.9731] \n",
      "   PR Cls:  0 \t         Roi w/Delta Apply:  [ 86.6734  86.2908 111.0361  97.5058] \n",
      "\t\t\t      Clipped Rois:  [ 86.6734  86.2908 111.0361  97.5058]\n",
      "id:  196  GT :  6  - [ 18.0000  71.0000  39.0000 128.0000] \n",
      "\t\t\t    Raw Roi (Norm):  [0.1215 0.0565 0.4086 1.0000] \n",
      "\t\t\t             Delta:  [ 0.0394 -0.2068  0.1060 -0.0078] \n",
      "\t\t\t    Raw Roi  (Img):  [ 15.5543   7.2343  52.3054 128.0000] \n",
      "   PR Cls:  0 \t         Roi w/Delta Apply:  [ 14.9455 -17.2631  55.8076 102.5598] \n",
      "\t\t\t      Clipped Rois:  [ 14.9455   0.0000  55.8076 102.5598]\n",
      "id:  195  GT :  6  - [ 18.0000  71.0000  39.0000 128.0000] \n",
      "\t\t\t    Raw Roi (Norm):  [0.0173 0.2334 0.2704 0.9834] \n",
      "\t\t\t             Delta:  [ 0.1735 -0.0846 -0.5473 -0.0900] \n",
      "\t\t\t    Raw Roi  (Img):  [  2.2087  29.8782  34.6166 125.8703] \n",
      "   PR Cls:  0 \t         Roi w/Delta Apply:  [ 14.6624  25.8837  33.4111 113.6182] \n",
      "\t\t\t      Clipped Rois:  [ 14.6624  25.8837  33.4111 113.6182]\n",
      "id:  194  GT :  4  - [44.0000 32.0000 83.0000 61.0000] \n",
      "\t\t\t    Raw Roi (Norm):  [0.3320 0.3297 0.5583 0.5137] \n",
      "\t\t\t             Delta:  [-0.1226 -0.1079 -0.1363  0.1688] \n",
      "\t\t\t    Raw Roi  (Img):  [42.4998 42.2055 71.4631 65.7581] \n",
      "   PR Cls:  0 \t         Roi w/Delta Apply:  [40.7928 37.4997 66.0669 65.3824] \n",
      "\t\t\t      Clipped Rois:  [40.7928 37.4997 66.0669 65.3824]\n",
      "id:  193  GT :  5  - [ 90.0000  63.0000 128.0000 101.0000] \n",
      "\t\t\t    Raw Roi (Norm):  [0.6858 0.5809 1.0000 0.9100] \n",
      "\t\t\t             Delta:  [ 0.0351 -0.2903 -0.0093 -0.1393] \n",
      "\t\t\t    Raw Roi  (Img):  [ 87.7792  74.3610 128.0000 116.4796] \n",
      "   PR Cls:  5 \t         Roi w/Delta Apply:  [ 89.3761  64.8715 129.2226 101.5119] \n",
      "\t\t\t      Clipped Rois:  [ 89.3761  64.8715 128.0000 101.5119]\n",
      "id:  192  GT :  4  - [39.0000 56.0000 70.0000 81.0000] \n",
      "\t\t\t    Raw Roi (Norm):  [0.3844 0.5121 0.5682 0.6072] \n",
      "\t\t\t             Delta:  [-0.2813 -0.0629 -0.1542  0.2112] \n",
      "\t\t\t    Raw Roi  (Img):  [49.2096 65.5472 72.7331 77.7238] \n",
      "   PR Cls:  0 \t         Roi w/Delta Apply:  [44.2736 63.3493 64.4356 78.3896] \n",
      "\t\t\t      Clipped Rois:  [44.2736 63.3493 64.4356 78.3896]\n",
      "id:  191  GT :  5  - [ 90.0000  63.0000 128.0000 101.0000] \n",
      "\t\t\t    Raw Roi (Norm):  [0.6922 0.3252 1.0000 0.8723] \n",
      "\t\t\t             Delta:  [ 0.0177  0.0393  0.0248 -0.3998] \n",
      "\t\t\t    Raw Roi  (Img):  [ 88.6070  41.6229 128.0000 111.6528] \n",
      "   PR Cls:  5 \t         Roi w/Delta Apply:  [ 88.8102  55.9146 129.1918 102.8674] \n",
      "\t\t\t      Clipped Rois:  [ 88.8102  55.9146 128.0000 102.8674]\n",
      "id:  190  GT :  0  - [0.0000 0.0000 0.0000 0.0000] \n",
      "\t\t\t    Raw Roi (Norm):  [0.7730 0.8641 1.0000 1.0000] \n",
      "\t\t\t             Delta:  [-0.1100 -0.0442 -0.5584 -0.2880] \n",
      "\t\t\t    Raw Roi  (Img):  [ 98.9483 110.6092 128.0000 128.0000] \n",
      "   PR Cls:  0 \t         Roi w/Delta Apply:  [101.9695 112.0163 118.5898 125.0559] \n",
      "\t\t\t      Clipped Rois:  [101.9695 112.0163 118.5898 125.0559]\n",
      "id:  189  GT :  0  - [0.0000 0.0000 0.0000 0.0000] \n",
      "\t\t\t    Raw Roi (Norm):  [0.2031 0.0000 0.4065 0.2276] \n",
      "\t\t\t             Delta:  [ 0.3130 -0.7638 -0.4339 -1.5117] \n",
      "\t\t\t    Raw Roi  (Img):  [26.0002  0.0000 52.0311 29.1273] \n",
      "   PR Cls:  0 \t         Roi w/Delta Apply:  [ 38.7291 -10.8953  55.5968  -4.4720] \n",
      "\t\t\t      Clipped Rois:  [38.7291  0.0000 55.5968  0.0000]\n",
      "id:  188  GT :  0  - [0.0000 0.0000 0.0000 0.0000] \n",
      "\t\t\t    Raw Roi (Norm):  [0.4723 0.5702 0.6726 0.6570] \n",
      "\t\t\t             Delta:  [-0.0943 -0.1145 -0.1024  0.1582] \n",
      "\t\t\t    Raw Roi  (Img):  [60.4509 72.9878 86.0904 84.0997] \n",
      "   PR Cls:  0 \t         Roi w/Delta Apply:  [59.2791 70.7634 82.4240 83.7793] \n",
      "\t\t\t      Clipped Rois:  [59.2791 70.7634 82.4240 83.7793]\n",
      "id:  187  GT :  0  - [0.0000 0.0000 0.0000 0.0000] \n",
      "\t\t\t    Raw Roi (Norm):  [0.6153 0.5352 0.8111 0.6188] \n",
      "\t\t\t             Delta:  [-0.1010 -0.0709  0.0312 -0.0005] \n",
      "\t\t\t    Raw Roi  (Img):  [ 78.7533  68.5019 103.8177  79.2092] \n",
      "   PR Cls:  0 \t         Roi w/Delta Apply:  [ 75.8250  67.7453 101.6825  78.4470] \n",
      "\t\t\t      Clipped Rois:  [ 75.8250  67.7453 101.6825  78.4470]\n",
      "id:  186  GT :  0  - [0.0000 0.0000 0.0000 0.0000] \n",
      "\t\t\t    Raw Roi (Norm):  [0.0630 0.0467 0.3124 0.5473] \n",
      "\t\t\t             Delta:  [ 0.1476 -0.0888 -0.3503 -0.2271] \n",
      "\t\t\t    Raw Roi  (Img):  [ 8.0695  5.9834 39.9838 70.0515] \n",
      "   PR Cls:  0 \t         Roi w/Delta Apply:  [17.4968  6.8019 39.9803 57.8538] \n",
      "\t\t\t      Clipped Rois:  [17.4968  6.8019 39.9803 57.8538]\n",
      "id:  185  GT :  0  - [0.0000 0.0000 0.0000 0.0000] \n",
      "\t\t\t    Raw Roi (Norm):  [0.3969 0.6538 0.5904 0.7105] \n",
      "\t\t\t             Delta:  [-0.2863 -0.0512  0.0518  0.1378] \n",
      "\t\t\t    Raw Roi  (Img):  [50.7995 83.6820 75.5738 90.9453] \n",
      "   PR Cls:  0 \t         Roi w/Delta Apply:  [43.0479 82.7737 69.1404 91.1104] \n",
      "\t\t\t      Clipped Rois:  [43.0479 82.7737 69.1404 91.1104]\n",
      "id:  184  GT :  0  - [0.0000 0.0000 0.0000 0.0000] \n",
      "\t\t\t    Raw Roi (Norm):  [0.1604 0.3112 0.3970 0.7132] \n",
      "\t\t\t             Delta:  [ 0.1916 -0.1808 -0.6400  0.0701] \n",
      "\t\t\t    Raw Roi  (Img):  [20.5376 39.8277 50.8195 91.2951] \n",
      "   PR Cls:  0 \t         Roi w/Delta Apply:  [33.4979 28.6543 49.4658 83.8588] \n",
      "\t\t\t      Clipped Rois:  [33.4979 28.6543 49.4658 83.8588]\n",
      "id:  183  GT :  0  - [0.0000 0.0000 0.0000 0.0000] \n",
      "\t\t\t    Raw Roi (Norm):  [0.0000 0.3762 0.1401 0.6246] \n",
      "\t\t\t             Delta:  [ 0.1498  0.1340 -0.8862 -0.1328] \n",
      "\t\t\t    Raw Roi  (Img):  [ 0.0000 48.1537 17.9272 79.9518] \n",
      "   PR Cls:  0 \t         Roi w/Delta Apply:  [ 7.9541 54.3916 15.3438 82.2345] \n",
      "\t\t\t      Clipped Rois:  [ 7.9541 54.3916 15.3438 82.2345]\n",
      "id:  182  GT :  0  - [0.0000 0.0000 0.0000 0.0000] \n",
      "\t\t\t    Raw Roi (Norm):  [0.4436 0.6220 0.6740 0.7305] \n",
      "\t\t\t             Delta:  [-0.2999 -0.1078  0.1087 -0.0238] \n",
      "\t\t\t    Raw Roi  (Img):  [56.7791 79.6121 86.2734 93.5079] \n",
      "   PR Cls:  0 \t         Roi w/Delta Apply:  [46.2388 78.2781 79.1214 91.8470] \n",
      "\t\t\t      Clipped Rois:  [46.2388 78.2781 79.1214 91.8470]\n",
      "id:  181  GT :  0  - [0.0000 0.0000 0.0000 0.0000] \n",
      "\t\t\t    Raw Roi (Norm):  [0.0446 0.4822 0.1595 0.6361] \n",
      "\t\t\t             Delta:  [ 0.1092  0.0567 -1.0371 -0.1189] \n",
      "\t\t\t    Raw Roi  (Img):  [ 5.7137 61.7155 20.4161 81.4220] \n",
      "   PR Cls:  0 \t         Roi w/Delta Apply:  [12.0644 63.9374 17.2763 81.4343] \n",
      "\t\t\t      Clipped Rois:  [12.0644 63.9374 17.2763 81.4343]\n",
      "id:  180  GT :  0  - [0.0000 0.0000 0.0000 0.0000] \n",
      "\t\t\t    Raw Roi (Norm):  [0.2466 0.5914 0.5362 0.8196] \n",
      "\t\t\t             Delta:  [ 0.0517 -0.2087 -0.0330 -0.7487] \n",
      "\t\t\t    Raw Roi  (Img):  [ 31.5693  75.6970  68.6318 104.9050] \n",
      "   PR Cls:  0 \t         Roi w/Delta Apply:  [34.0872 77.2983 69.9459 91.1128] \n",
      "\t\t\t      Clipped Rois:  [34.0872 77.2983 69.9459 91.1128]\n",
      "id:  179  GT :  0  - [0.0000 0.0000 0.0000 0.0000] \n",
      "\t\t\t    Raw Roi (Norm):  [0.0144 0.7887 0.1562 0.9652] \n",
      "\t\t\t             Delta:  [ 0.0410  0.1066 -1.1829  0.2355] \n",
      "\t\t\t    Raw Roi  (Img):  [  1.8475 100.9479  19.9995 123.5426] \n",
      "   PR Cls:  0 \t         Roi w/Delta Apply:  [  8.8874 100.3572  14.4491 128.9514] \n",
      "\t\t\t      Clipped Rois:  [  8.8874 100.3572  14.4491 128.0000]\n",
      "id:  178  GT :  0  - [0.0000 0.0000 0.0000 0.0000] \n",
      "\t\t\t    Raw Roi (Norm):  [0.1683 0.1803 0.3209 0.6028] \n",
      "\t\t\t             Delta:  [ 0.0124 -0.0400 -0.3264 -0.1483] \n",
      "\t\t\t    Raw Roi  (Img):  [21.5437 23.0777 41.0755 77.1641] \n",
      "   PR Cls:  0 \t         Roi w/Delta Apply:  [24.5047 24.6397 38.5974 71.2705] \n",
      "\t\t\t      Clipped Rois:  [24.5047 24.6397 38.5974 71.2705]\n",
      "id:  177  GT :  0  - [0.0000 0.0000 0.0000 0.0000] \n",
      "\t\t\t    Raw Roi (Norm):  [0.4091 0.5478 0.7383 0.7757] \n",
      "\t\t\t             Delta:  [-0.0722 -0.1727  0.0997 -0.0386] \n",
      "\t\t\t    Raw Roi  (Img):  [52.3703 70.1227 94.5024 99.2906] \n",
      "   PR Cls:  0 \t         Roi w/Delta Apply:  [47.1173 65.6379 93.6681 93.7012] \n",
      "\t\t\t      Clipped Rois:  [47.1173 65.6379 93.6681 93.7012]\n",
      "id:  176  GT :  0  - [0.0000 0.0000 0.0000 0.0000] \n",
      "\t\t\t    Raw Roi (Norm):  [0.4133 0.4365 0.5162 0.5100] \n",
      "\t\t\t             Delta:  [-0.0217 -0.1596  0.0886 -0.5122] \n",
      "\t\t\t    Raw Roi  (Img):  [52.9026 55.8731 66.0696 65.2820] \n",
      "   PR Cls:  0 \t         Roi w/Delta Apply:  [52.0072 56.2573 66.3936 61.8947] \n",
      "\t\t\t      Clipped Rois:  [52.0072 56.2573 66.3936 61.8947]\n",
      "id:  175  GT :  0  - [0.0000 0.0000 0.0000 0.0000] \n",
      "\t\t\t    Raw Roi (Norm):  [0.0382 0.6451 0.1707 0.9341] \n",
      "\t\t\t             Delta:  [ 0.1920  0.0856 -1.2125  0.2043] \n",
      "\t\t\t    Raw Roi  (Img):  [  4.8896  82.5755  21.8514 119.5708] \n",
      "   PR Cls:  0 \t         Roi w/Delta Apply:  [ 14.1036  81.5509  19.1490 126.9299] \n",
      "\t\t\t      Clipped Rois:  [ 14.1036  81.5509  19.1490 126.9299]\n",
      "id:  174  GT :  0  - [0.0000 0.0000 0.0000 0.0000] \n",
      "\t\t\t    Raw Roi (Norm):  [0.8961 0.7241 1.0000 0.8116] \n",
      "\t\t\t             Delta:  [ 0.1589 -0.2594  0.0282 -1.1512] \n",
      "\t\t\t    Raw Roi  (Img):  [114.6945  92.6865 128.0000 103.8807] \n",
      "   PR Cls:  0 \t         Roi w/Delta Apply:  [116.6177  93.6098 130.3041  97.1501] \n",
      "\t\t\t      Clipped Rois:  [116.6177  93.6098 128.0000  97.1501]\n",
      "id:  173  GT :  0  - [0.0000 0.0000 0.0000 0.0000] \n",
      "\t\t\t    Raw Roi (Norm):  [0.5321 0.5954 0.6903 0.7562] \n",
      "\t\t\t             Delta:  [-0.1870 -0.1200  0.0940 -0.0224] \n",
      "\t\t\t    Raw Roi  (Img):  [68.1099 76.2085 88.3615 96.7962] \n",
      "   PR Cls:  0 \t         Roi w/Delta Apply:  [63.3246 73.9648 85.5720 94.0975] \n",
      "\t\t\t      Clipped Rois:  [63.3246 73.9648 85.5720 94.0975]\n",
      "id:  172  GT :  0  - [0.0000 0.0000 0.0000 0.0000] \n",
      "\t\t\t    Raw Roi (Norm):  [0.0000 0.0324 0.0480 0.2256] \n",
      "\t\t\t             Delta:  [-0.2659 -0.5088  0.3826 -1.1764] \n",
      "\t\t\t    Raw Roi  (Img):  [ 0.0000  4.1421  6.1497 28.8762] \n",
      "   PR Cls:  0 \t         Roi w/Delta Apply:  [-3.0682  0.1102  5.9473  7.7377] \n",
      "\t\t\t      Clipped Rois:  [0.0000 0.1102 5.9473 7.7377]\n",
      "id:  171  GT :  0  - [0.0000 0.0000 0.0000 0.0000] \n",
      "\t\t\t    Raw Roi (Norm):  [0.4335 0.9423 0.5382 0.9859] \n",
      "\t\t\t             Delta:  [-0.1137 -0.0607  0.0732 -0.1775] \n",
      "\t\t\t    Raw Roi  (Img):  [ 55.4889 120.6128  68.8861 126.1982] \n",
      "   PR Cls:  0 \t         Roi w/Delta Apply:  [ 53.4572 120.7281  67.8714 125.4050] \n",
      "\t\t\t      Clipped Rois:  [ 53.4572 120.7281  67.8714 125.4050]\n",
      "id:  170  GT :  0  - [0.0000 0.0000 0.0000 0.0000] \n",
      "\t\t\t    Raw Roi (Norm):  [0.0000 0.0000 0.0000 0.0000] \n",
      "\t\t\t             Delta:  [-2.9080 -1.8290  4.6130 -6.1439] \n",
      "\t\t\t    Raw Roi  (Img):  [0.0000 0.0000 0.0000 0.0000] \n",
      "   PR Cls:  0 \t         Roi w/Delta Apply:  [0.0000 0.0000 0.0000 0.0000] \n",
      "\t\t\t      Clipped Rois:  [0.0000 0.0000 0.0000 0.0000]\n",
      "id:  169  GT :  0  - [0.0000 0.0000 0.0000 0.0000] \n",
      "\t\t\t    Raw Roi (Norm):  [0.0000 0.0000 0.0000 0.0000] \n",
      "\t\t\t             Delta:  [-2.9080 -1.8290  4.6130 -6.1439] \n",
      "\t\t\t    Raw Roi  (Img):  [0.0000 0.0000 0.0000 0.0000] \n",
      "   PR Cls:  0 \t         Roi w/Delta Apply:  [0.0000 0.0000 0.0000 0.0000] \n",
      "\t\t\t      Clipped Rois:  [0.0000 0.0000 0.0000 0.0000]\n"
     ]
    }
   ],
   "source": [
    "img_id = 0\n",
    "print(model_roi_gt_boxes[0].shape, model_target_class_ids[0].shape , np.expand_dims(model_target_class_ids[0],axis=-1).shape)\n",
    "print(model_mrcnn_class.shape, model_mrcnn_bbox.shape)\n",
    " \n",
    "print(np.argmax(model_mrcnn_class, axis = -1))\n",
    "classes, deltas = utils.get_predicted_mrcnn_deltas(model_mrcnn_class, model_mrcnn_bbox, verbose=True)\n",
    "deltas *= mrcnn_model.config.BBOX_STD_DEV\n",
    "print('classes.shape: ',classes.shape, ' deltas.shape: ',deltas.shape)\n",
    "\n",
    "ref_out_roi = utils.apply_box_deltas_np(model_output_rois[img_id],deltas[img_id])\n",
    "#     ##   Clip boxes to image window    \n",
    "print('ref_out_roi')\n",
    "print(ref_out_roi.shape)\n",
    "print(ref_out_roi)\n",
    "window = np.array([0,0,h,w], dtype =float)\n",
    "print(window)\n",
    "clipped_out_roi  = utils.clip_to_window_np( window, ref_out_roi*[ h, w, h, w])\n",
    "\n",
    "for i in range(32):\n",
    "#     ref_out_roi = utils.apply_box_delta_np(output_rois[0],d1[0])\n",
    "#     if classes[img_id,i] == 1 or target_class_ids[img_id,i] == 1 :\n",
    "\n",
    "    print('id: ',200-i,\n",
    "               ' GT : ', model_target_class_ids[img_id,i]  , \n",
    "               ' -', model_roi_gt_boxes[img_id,i]*[ h, w, h, w], \n",
    "               '\\n\\t\\t\\t    Raw Roi (Norm): ', model_output_rois[img_id,i],\n",
    "               '\\n\\t\\t\\t             Delta: ', deltas[img_id,i],\n",
    "               '\\n\\t\\t\\t    Raw Roi  (Img): ', model_output_rois[img_id,i]*[ h, w, h, w],\n",
    "               '\\n   PR Cls: ', classes[img_id,i],'\\t',\n",
    "               '        Roi w/Delta Apply: ', ref_out_roi[i]*[ h, w, h, w] ,\n",
    "               '\\n\\t\\t\\t      Clipped Rois: ', clipped_out_roi[i]   ) #) *[1024,1024,1024,1024]"
   ]
  },
  {
   "cell_type": "markdown",
   "metadata": {},
   "source": [
    "####  Display roi_gt_boxes , and class_ids vs. output_bbox and prediceted class_ids"
   ]
  },
  {
   "cell_type": "code",
   "execution_count": 83,
   "metadata": {
    "ExecuteTime": {
     "end_time": "2018-12-22T19:22:43.631966Z",
     "start_time": "2018-12-22T19:22:43.275715Z"
    }
   },
   "outputs": [
    {
     "ename": "NameError",
     "evalue": "name 'ref_out_roi' is not defined",
     "output_type": "error",
     "traceback": [
      "\u001b[1;31m---------------------------------------------------------------------------\u001b[0m",
      "\u001b[1;31mNameError\u001b[0m                                 Traceback (most recent call last)",
      "\u001b[1;32m<ipython-input-83-ea37e146a3d3>\u001b[0m in \u001b[0;36m<module>\u001b[1;34m()\u001b[0m\n\u001b[1;32m----> 1\u001b[1;33m \u001b[0mprint\u001b[0m\u001b[1;33m(\u001b[0m\u001b[0mref_out_roi\u001b[0m\u001b[1;33m)\u001b[0m\u001b[1;33m\u001b[0m\u001b[0m\n\u001b[0m",
      "\u001b[1;31mNameError\u001b[0m: name 'ref_out_roi' is not defined"
     ]
    }
   ],
   "source": [
    "print(ref_out_roi)"
   ]
  },
  {
   "cell_type": "code",
   "execution_count": null,
   "metadata": {
    "ExecuteTime": {
     "end_time": "2018-09-22T16:35:45.777944Z",
     "start_time": "2018-09-22T16:35:45.598528Z"
    }
   },
   "outputs": [],
   "source": [
    "ref_out_roi1 = ref_out_roi * [1024,1024,1024,1024]\n",
    "print(ref_out_roi1)\n",
    "window = np.array([0,0,1024,1024], dtype =float)\n",
    "print(window.shape)\n",
    "ref_out_roi2  = utils.clip_to_window_np( window, ref_out_roi1)\n",
    "print(ref_out_roi2.shape)\n",
    "for i in range(200):\n",
    "    print(ref_out_roi1[i],' --- ', ref_out_roi2[i])"
   ]
  },
  {
   "cell_type": "markdown",
   "metadata": {},
   "source": [
    "#### Display pred_refined_tensor and gt_tensor"
   ]
  },
  {
   "cell_type": "code",
   "execution_count": null,
   "metadata": {
    "ExecuteTime": {
     "end_time": "2018-10-15T17:36:09.035876Z",
     "start_time": "2018-10-15T17:36:07.892418Z"
    }
   },
   "outputs": [],
   "source": [
    "for cls in [1]:\n",
    "    for box in range(20):\n",
    "        print(pred_tensor[0,cls,box])\n",
    "        print(gt_tensor[0,cls,box])\n",
    "        print()"
   ]
  },
  {
   "cell_type": "markdown",
   "metadata": {},
   "source": [
    "#### display gt_heatmap_scores and pred_heatmap_scores outputs"
   ]
  },
  {
   "cell_type": "code",
   "execution_count": null,
   "metadata": {
    "ExecuteTime": {
     "end_time": "2018-11-09T17:52:35.542561Z",
     "start_time": "2018-11-09T17:52:34.836324Z"
    },
    "scrolled": false
   },
   "outputs": [],
   "source": [
    "np.set_printoptions(precision=4, threshold=None, linewidth=200, suppress=True)\n",
    "# print(' gt_tensor')\n",
    "# print(gt_tensor.shape)\n",
    "# print(gt_tensor[img,:,:10])\n",
    "img_id = 1\n",
    "print(' GT Heatmap Scores')\n",
    "\n",
    "print('gt_heatmap_scores  : ', model_gt_heatmap_scores.dtype  ,  model_gt_heatmap_scores.shape)\n",
    "print('pred_heatmap_scores: ', model_pred_heatmap_scores.dtype,  model_pred_heatmap_scores.shape)\n",
    "\n",
    "# print(gt_heatmap_scores[img,1])\n",
    "# for img_id in range(mrcnn_config.BATCH_SIZE):\n",
    "\n",
    "for img_id in [0]:    # print(pred_refined_heatmap_scores[img_id,:4])\n",
    "    pr_class_ids = np.unique(model_pred_heatmap_scores[img_id,:,:,4]).astype(int).tolist()\n",
    "    gt_class_ids = np.unique(model_gt_heatmap_scores[img_id,:,:,4]).astype(int).tolist() \n",
    "    union_class_ids = np.union1d(pr_class_ids, gt_class_ids)\n",
    "    print('-'*56)\n",
    "    print('Image : {}  GT ClassIds: {}   PR ClassIds: {} '.format(img_id, gt_class_ids, pr_class_ids))\n",
    "    print('Image : {}  Union ClassIds: {}'.format(img_id, union_class_ids))\n",
    "    print('-'*56)\n",
    "    for cls in union_class_ids:  \n",
    "        print()\n",
    "        for i in range(25):\n",
    "#             print(' GT: img_id:',img_id, ' cls: ',cls, ' -',gt_tensor[img_id, cls,i]) #, gt_heatmap_scores[img_id, cls,i,7] )\n",
    "#             print(' PR: img_id:',img_id, ' cls: ',cls, ' -',pred_tensor[img_id,cls,i]) #,pred_refined_heatmap_scores[img_id,cls,i,7])\n",
    "\n",
    "            print(' GT: img_id:',img_id, ' cls: ',cls, ' -',model_gt_heatmap_scores[img_id, cls,i]) #, gt_heatmap_scores[img_id, cls,i,7] )\n",
    "            print(' PR: img_id:',img_id, ' cls: ',cls, ' -',model_pred_heatmap_scores[img_id,cls,i]) #,pred_refined_heatmap_scores[img_id,cls,i,7])\n",
    "            print()"
   ]
  },
  {
   "cell_type": "markdown",
   "metadata": {
    "heading_collapsed": true
   },
   "source": [
    "####  Display `Pred_Tensor`, `Pred_heatmap`, `mrcnn_class`"
   ]
  },
  {
   "cell_type": "code",
   "execution_count": 126,
   "metadata": {
    "ExecuteTime": {
     "end_time": "2018-12-22T19:54:26.963568Z",
     "start_time": "2018-12-22T19:54:26.518252Z"
    },
    "hidden": true,
    "hideCode": false,
    "hideOutput": true,
    "scrolled": false
   },
   "outputs": [
    {
     "name": "stdout",
     "output_type": "stream",
     "text": [
      "input_gt_class_ids\n",
      "[3 6 4 4 4 4 2 1 2 1 5 0 0 0 0 0 0 0 0 0 0 0 0 0 0 0 0 0 0 0 0 0 0 0 0 0 0 0 0 0 0 0 0 0 0 0 0 0 0 0 0 0 0 0 0 0 0 0 0 0 0 0 0 0 0 0 0 0 0 0 0 0 0 0 0 0 0 0 0 0 0 0 0 0 0 0 0 0 0 0 0 0 0 0 0 0 0 0 0 0]\n",
      " output_rois\n",
      "(1, 32, 4)\n",
      "[[ 89.9938  21.9684 121.9342  68.7210]\n",
      " [ 75.7614  49.1207  98.4784  56.5368]\n",
      " [ 57.0651  36.2667  92.7808 102.5193]\n",
      " [ 81.5417  85.9090 117.0494  97.9731]\n",
      " [ 15.5543   7.2343  52.3054 128.0000]\n",
      " [  2.2087  29.8782  34.6166 125.8703]\n",
      " [ 42.4998  42.2055  71.4631  65.7581]\n",
      " [ 87.7792  74.3610 128.0000 116.4796]\n",
      " [ 49.2096  65.5472  72.7331  77.7238]\n",
      " [ 88.6070  41.6229 128.0000 111.6528]\n",
      " [ 98.9483 110.6092 128.0000 128.0000]\n",
      " [ 26.0002   0.0000  52.0311  29.1273]\n",
      " [ 60.4509  72.9878  86.0904  84.0997]\n",
      " [ 78.7533  68.5019 103.8177  79.2092]\n",
      " [  8.0695   5.9834  39.9838  70.0515]\n",
      " [ 50.7995  83.6820  75.5738  90.9453]\n",
      " [ 20.5376  39.8277  50.8195  91.2951]\n",
      " [  0.0000  48.1537  17.9272  79.9518]\n",
      " [ 56.7791  79.6121  86.2734  93.5079]\n",
      " [  5.7137  61.7155  20.4161  81.4220]\n",
      " [ 31.5693  75.6970  68.6318 104.9050]\n",
      " [  1.8475 100.9479  19.9995 123.5426]\n",
      " [ 21.5437  23.0777  41.0755  77.1641]\n",
      " [ 52.3703  70.1227  94.5024  99.2906]\n",
      " [ 52.9026  55.8731  66.0696  65.2820]\n",
      " [  4.8896  82.5755  21.8514 119.5708]\n",
      " [114.6945  92.6865 128.0000 103.8807]\n",
      " [ 68.1099  76.2085  88.3615  96.7962]\n",
      " [  0.0000   4.1421   6.1497  28.8762]\n",
      " [ 55.4889 120.6128  68.8861 126.1982]\n",
      " [  0.0000   0.0000   0.0000   0.0000]\n",
      " [  0.0000   0.0000   0.0000   0.0000]]\n",
      " target_class_ids\n",
      "(1, 32)\n",
      "[2 1 2 5 6 6 4 5 4 5 0 0 0 0 0 0 0 0 0 0 0 0 0 0 0 0 0 0 0 0 0 0]\n"
     ]
    }
   ],
   "source": [
    "# np.set_printoptions(precision=4, threshold=None, linewidth=150, suppress=True)\n",
    "np.set_printoptions(precision=4, threshold=4000, linewidth=210, suppress=True)\n",
    "img = 0\n",
    "\n",
    "# max_score = np.max(mrcnn_class, axis = -1)\n",
    "# max_class = np.argmax(mrcnn_class, axis = -1)\n",
    "# # print(' output_rois[',img,'] \\n', output_rois[1]*[128,128,128,128])\n",
    "# print('max class shape:',max_class.shape, 'max score shape: ',max_score.shape)\n",
    "# print('max class[',img,']\\n',max_class[img])\n",
    "# print('max score[',img,']\\n',max_score[img])\n",
    "# print('mrcnn class.shape ',mrcnn_class.shape)\n",
    "# print('mrcnn_class[',img,',:]\\n',mrcnn_class[img,:])\n",
    "# print(output_rois[1])\n",
    "\n",
    "print('input_gt_class_ids')\n",
    "print(input_gt_class_ids[0])\n",
    "\n",
    "# print(' rpn_bbox')\n",
    "# print(rpn_bbox.shape)\n",
    "# print(rpn_bbox[0,:100,:])\n",
    "\n",
    "# print(' rpn_roi_proposals')\n",
    "# print(rpn_roi_proposals.shape)\n",
    "# print(rpn_roi_proposals[0,:100,:])\n",
    "\n",
    "print(' output_rois')\n",
    "print(model_output_rois.shape)\n",
    "# print(output_rois[0,:40,:])\n",
    "print(model_output_rois [0,:330,:]* [h, w, h, w])\n",
    "\n",
    "print(' target_class_ids')\n",
    "print(model_target_class_ids.shape)\n",
    "print(model_target_class_ids[0,:40])\n",
    "# print(output_rois [0,:40,:]* [1024, 1024, 1024, 1024])\n",
    "\n",
    "# print(' Pred_tensor')\n",
    "# print(pred_tensor.shape)\n",
    "# print(pred_tensor[img,:,:10])\n",
    "\n",
    "# print(' gt_tensor')\n",
    "# print(gt_tensor.shape)\n",
    "# print(gt_tensor[img,:,:10])\n",
    "\n",
    "# print(' mrcnn_class')\n",
    "# print( mrcnn_class.shape)\n",
    "# print( mrcnn_class[0,:,:])\n",
    "\n",
    "# print(' mrcnn_bbox')\n",
    "# print( mrcnn_bbox.shape)\n",
    "# print( mrcnn_bbox)\n",
    "\n",
    "# print(' roi_gt_boxes')\n",
    "# print(roi_gt_boxes.shape)\n",
    "# print(roi_gt_boxes[img,:,:])\n",
    "\n",
    "# print(' Pred Heatmap Scores')\n",
    "# print(pred_heatmap_scores.dtype, pred_heatmap_scores.shape)\n",
    "# print(pred_heatmap_scores[img,1])\n",
    "\n",
    "# print(' FCN Scores')\n",
    "# print(fcn_scores.dtype)\n",
    "# for cls in range(4):\n",
    "#     print(pred_heatmap_scores[img,cls,:10])\n",
    "#     print(fcn_scores[img,cls,:10,2:])\n",
    "\n",
    "  "
   ]
  },
  {
   "cell_type": "markdown",
   "metadata": {
    "heading_collapsed": true,
    "hideCode": false,
    "hidePrompt": true
   },
   "source": [
    "####  Display `output_rois` for visual check - passed on to  `build_pred_tensor()`"
   ]
  },
  {
   "cell_type": "code",
   "execution_count": null,
   "metadata": {
    "ExecuteTime": {
     "end_time": "2018-10-08T13:48:00.011050Z",
     "start_time": "2018-10-08T13:47:59.957418Z"
    },
    "hidden": true,
    "hideCode": false,
    "hideOutput": true,
    "hidePrompt": false
   },
   "outputs": [],
   "source": [
    "np.set_printoptions(linewidth=150, precision=6)\n",
    "# print('scatter shape is ', pred_scatt.get_shape())\n",
    "print('output_rois shape is ', model_output_rois.shape)\n",
    "img = 0\n",
    "for img in [0]:\n",
    "    print('Image ', img , ' ------------')\n",
    "    print(output_rois[img])"
   ]
  },
  {
   "cell_type": "markdown",
   "metadata": {
    "heading_collapsed": true,
    "hideCode": false,
    "hidePrompt": false
   },
   "source": [
    "####  Display  - `pred_refined_tensor` which is passed on to  `build_heatmap()`"
   ]
  },
  {
   "cell_type": "code",
   "execution_count": null,
   "metadata": {
    "ExecuteTime": {
     "end_time": "2018-10-08T15:34:53.538773Z",
     "start_time": "2018-10-08T15:34:53.480026Z"
    },
    "hidden": true,
    "hideCode": false,
    "hideOutput": false,
    "hidePrompt": false,
    "scrolled": false
   },
   "outputs": [],
   "source": [
    "np.set_printoptions(linewidth=150, precision=6)\n",
    "img_id = 0\n",
    "# print('scatter shape is ', pred_scatt.get_shape())\n",
    "print('model_pred_tensor shape is ', model_pred_tensor.shape)\n",
    "print(input_image_meta[0,:10])\n",
    "pr_class_ids = np.unique(model_pred_heatmap_scores[img_id,:,:,4]).astype(int).tolist()\n",
    "print('Image : {}  PR ClassIds: {} '.format(img_id, pr_class_ids))\n",
    "for k in pr_class_ids:\n",
    "    print('Image ', img , '/ Class ',k,' ------------')\n",
    "    print(model_pred_tensor[img,k,:30])\n",
    "    "
   ]
  },
  {
   "cell_type": "markdown",
   "metadata": {
    "heading_collapsed": true
   },
   "source": [
    "####  Compare  `pred_heatmap_scores` vs. `pred_refined_heatmap_scores`"
   ]
  },
  {
   "cell_type": "code",
   "execution_count": null,
   "metadata": {
    "ExecuteTime": {
     "end_time": "2018-09-21T12:52:40.296416Z",
     "start_time": "2018-09-21T12:52:40.217876Z"
    },
    "hidden": true
   },
   "outputs": [],
   "source": [
    "np.set_printoptions(precision=4, threshold=4000, linewidth=210, suppress=True)\n",
    "print('pred_refined_heatmap_scores',pred_refined_heatmap_scores.shape)\n",
    "cls = 1\n",
    "for i in range(input_gt_class_ids.shape[1]):\n",
    "    if input_gt_class_ids[0,i] == cls:\n",
    "        print(input_gt_class_ids[0,i], '   ', input_gt_bboxes[0,i])\n",
    "print()        \n",
    "for i in range(pred_heatmap_scores.shape[2]):\n",
    "#     print(' ref_ten   : ', pred_refined_tensor[0,1,i])\n",
    "    print(' hm_scr    : ', pred_heatmap_scores[0,1,i])\n",
    "    print(' ref_hm_scr: ', pred_refined_heatmap_scores[0,1,i])\n",
    "    print()    "
   ]
  },
  {
   "cell_type": "markdown",
   "metadata": {
    "hideCode": false,
    "hidePrompt": false
   },
   "source": [
    "##  `build_pr_tensor()` , `build_gt_tensor()`"
   ]
  },
  {
   "cell_type": "markdown",
   "metadata": {
    "hideCode": false,
    "hidePrompt": false
   },
   "source": [
    "- pick the class with highest probability from mrcnn_class, and it's corresponding bounding box delta\n",
    "- apply the deltas to the output_rois (output_roi)\n",
    "- build tensor separating bounding boxes by class_id\n",
    "- normalize scores per class\n",
    "- sort based on sequence number \n",
    " "
   ]
  },
  {
   "cell_type": "markdown",
   "metadata": {},
   "source": [
    "### `build_pr_tensor()`"
   ]
  },
  {
   "cell_type": "code",
   "execution_count": null,
   "metadata": {},
   "outputs": [],
   "source": [
    "# def build_pr_tensor(norm_input_rois, mrcnn_class, mrcnn_bbox, config):\n",
    "'''\n",
    "Split output_rois by class id, and add class_id and class_score \n",
    "\n",
    "input\n",
    "------\n",
    "input_rois          Normalized Proposed ROIs   [Batch Size, NumRois, 4]\n",
    "mrcnn_class\n",
    "mrcnn_bbox \n",
    "\n",
    "\n",
    "output:\n",
    "-------\n",
    "pred_tensor:        [ Bsz, Num_Classes, Num_Rois, 8: \n",
    "                        {y1, x1, y2, x2, class_id, score, sequence_id, score normalized per class}]\n",
    "\n",
    "                    y1,x1, y2,x2 are in image dimension format\n",
    "'''\n",
    "verbose         = config.VERBOSE\n",
    "batch_size      = config.BATCH_SIZE\n",
    "num_classes     = config.NUM_CLASSES\n",
    "h, w            = config.IMAGE_SHAPE[:2]\n",
    "# num_rois        = config.TRAIN_ROIS_PER_IMAGE\n",
    "num_rois        = KB.int_shape(norm_input_rois)[1]\n",
    "scale           = tf.constant([h,w,h,w], dtype = tf.float32)\n",
    "# dup_scale       = tf.reshape(tf.tile(scale, [num_rois]),[num_rois,-1])\n",
    "dup_scale       = scale * tf.ones([batch_size, num_rois, 1], dtype = 'float32')\n",
    "det_per_class   = config.TRAIN_ROIS_PER_IMAGE\n",
    "\n",
    "if verbose:\n",
    "    print()\n",
    "    print('  > build_pr_tensor()')\n",
    "    print('    num_rois               : ', num_rois )\n",
    "    print('    norm_input_rois.shape  : ', type(norm_input_rois), KB.int_shape(norm_input_rois))\n",
    "    print('    scale.shape            : ', type(scale), KB.int_shape(scale), scale.get_shape())\n",
    "    print('    dup_scale.shape        : ', type(dup_scale), KB.int_shape(dup_scale), dup_scale.get_shape())\n",
    "    print()\n",
    "    print('    mrcnn_class shape      : ', KB.int_shape(mrcnn_class))\n",
    "    print('    mrcnn_bbox.shape       : ', KB.int_shape(mrcnn_bbox), mrcnn_bbox.shape )\n",
    "    print('    config image shape     : ', config.IMAGE_SHAPE, 'h:',h,'w:',w)\n",
    "\n",
    "#---------------------------------------------------------------------------\n",
    "# Build a meshgrid for image id and bbox to use in gathering of bbox delta information \n",
    "#---------------------------------------------------------------------------\n",
    "batch_grid, bbox_grid = tf.meshgrid( tf.range(batch_size, dtype=tf.int32),\n",
    "                                     tf.range(num_rois, dtype=tf.int32), indexing = 'ij' )\n",
    "\n",
    "#------------------------------------------------------------------------------------\n",
    "# use the argmaxof each row to determine the dominating (predicted) class\n",
    "#------------------------------------------------------------------------------------\n",
    "pred_classes     = tf.argmax( mrcnn_class,axis=-1,output_type = tf.int32)\n",
    "pred_classes_exp = tf.to_float(tf.expand_dims(pred_classes ,axis=-1))    \n",
    "#     print('    pred_classes : ', pred_classes.shape)\n",
    "#     print(pred_classes.eval())\n",
    "#     print('    pred_scores  : ', pred_scores.shape ,'\\n', pred_scores.eval())\n",
    "#     print('    pred_classes_exp : ', pred_classes_exp.shape)\n",
    "\n",
    "gather_ind   = tf.stack([batch_grid , bbox_grid, pred_classes],axis = -1)\n",
    "pred_scores  = tf.gather_nd(mrcnn_class, gather_ind)\n",
    "pred_deltas  = tf.gather_nd(mrcnn_bbox , gather_ind)\n",
    "\n",
    "##------------------------------------------------------------------------------------\n",
    "## apply delta refinements to the rois,  based on deltas provided by the mrcnn head \n",
    "##------------------------------------------------------------------------------------\n",
    "pred_deltas  = tf.multiply(pred_deltas, config.BBOX_STD_DEV, name = 'pred_deltas')\n",
    "input_rois   = tf.multiply(norm_input_rois , dup_scale )\n",
    "\n",
    "## compute \"refined rois\"  utils.apply_box_deltas_tf(input_rois, pred_deltas)\n",
    "refined_rois   = utils.apply_box_deltas_tf(input_rois, pred_deltas)\n",
    "\n",
    "##   Clip boxes to image window    \n",
    "window = tf.constant([[0,0,h,w]], dtype = tf.float32)\n",
    "refined_rois  = utils.clip_to_window_tf( window, refined_rois)\n",
    "\n",
    "logt('refined rois ', refined_rois, verbose = verbose)\n",
    "logt('input_rois   ', input_rois  , verbose = verbose)\n",
    "logt('refined_rois ', refined_rois, verbose = verbose)\n",
    "\n",
    "\n",
    "##------------------------------------------------------------------------------------\n",
    "##  Build Pred_Scatter: tensor of bounding boxes by Image / Class\n",
    "##------------------------------------------------------------------------------------\n",
    "## sequence id is used to preserve the order of rois as passed to this routine\n",
    "##  This may be important in the post matching process but for now it's not being used.\n",
    "## 22-09-18 : We need to use this sequence as the sort process based on score will cause\n",
    "##            mismatch between the bboxes from output_rois and roi_gt_bboxes\n",
    "##------------------------------------------------------------------------------------\n",
    "sequence = tf.ones_like(pred_classes, dtype = tf.int32) * (bbox_grid[...,::-1] + 1) \n",
    "sequence = tf.to_float(tf.expand_dims(sequence, axis = -1))   \n",
    "logt('sequence ', sequence, verbose = verbose)\n",
    "\n",
    "\n",
    "##--------------------------------------------------------------------------------------------------\n",
    "##  Build array of bbox coordinates, pred_classes, scores, and sequence ids\n",
    "##  Scatter by class_id to create pred_scatter (Batch_Sz, Num_classes, Num_detections, num_columns)\n",
    "##--------------------------------------------------------------------------------------------------\n",
    "pred_array  = tf.concat([ refined_rois, pred_classes_exp , tf.expand_dims(pred_scores, axis = -1), sequence],\n",
    "                        axis=-1, name = 'pred_array')\n",
    "\n",
    "scatter_ind = tf.stack([batch_grid , pred_classes, bbox_grid],axis = -1)\n",
    "pred_scatt  = tf.scatter_nd(scatter_ind, pred_array, [batch_size, num_classes, num_rois, pred_array.shape[-1]])\n",
    "logt('pred_array   ', pred_array, verbose = verbose)\n",
    "logt('scatter_ind  ', scatter_ind, verbose = verbose)\n",
    "logt('pred_scatter ', pred_scatt, verbose = verbose)\n",
    "\n",
    "##--------------------------------------------------------------------------------------------\n",
    "##  Apply a per class score normalization using the score column (COLUMN 5)\n",
    "##--------------------------------------------------------------------------------------------\n",
    "normalizer   = tf.reduce_max(pred_scatt[...,5], axis = -1, keepdims=True)\n",
    "normalizer   = tf.where(normalizer < 1.0e-15,  tf.ones_like(normalizer), normalizer)\n",
    "norm_score   = tf.expand_dims(pred_scatt[...,5]/normalizer, axis = -1)\n",
    "pred_scatt   = tf.concat([pred_scatt, norm_score],axis = -1)   \n",
    "logt('- Add normalized score --\\n', verbose = verbose)\n",
    "logt('normalizer   ', normalizer, verbose = verbose)\n",
    "logt('norm_score   ', norm_score, verbose = verbose)\n",
    "logt('pred_scatter ', pred_scatt, verbose = verbose)\n",
    "\n",
    "##------------------------------------------------------------------------------------\n",
    "## Sort pred_scatt in each class dimension based on sequence number, to push valid  \n",
    "##      to top for each class dimension\n",
    "##\n",
    "## 22-09-2018: sort is now based on sequence which was added as last column\n",
    "##             (previously sort was on bbox scores)\n",
    "##------------------------------------------------------------------------------------\n",
    "_, sort_inds = tf.nn.top_k(pred_scatt[...,6], k=pred_scatt.shape[2])\n",
    "\n",
    "# build indexes to gather rows from pred_scatter based on sort order    \n",
    "class_grid, batch_grid, roi_grid = tf.meshgrid(tf.range(num_classes),tf.range(batch_size), tf.range(num_rois))\n",
    "\n",
    "gather_inds  = tf.stack([batch_grid , class_grid, sort_inds],axis = -1)\n",
    "pred_tensor  = tf.gather_nd(pred_scatt, gather_inds, name = 'pred_tensor')    \n",
    "\n",
    "logt('sort_inds      ', sort_inds  , verbose = verbose)\n",
    "logt('class_grid     ', class_grid , verbose = verbose)\n",
    "logt('batch_grid     ', batch_grid , verbose = verbose)\n",
    "logt('roi_grid shape ', roi_grid   , verbose = verbose)\n",
    "logt('gather_inds    ', gather_inds, verbose = verbose)\n",
    "logt('pred_tensor    ', pred_tensor, verbose = verbose)\n",
    "\n",
    "#     return  pred_tensor"
   ]
  },
  {
   "cell_type": "markdown",
   "metadata": {},
   "source": [
    "### Some tests on the results"
   ]
  },
  {
   "cell_type": "markdown",
   "metadata": {
    "heading_collapsed": true,
    "hideCode": false,
    "hidePrompt": false
   },
   "source": [
    "####  Display `pred_tensor`  from model code and code above, `pred_heatmap_scores`  "
   ]
  },
  {
   "cell_type": "code",
   "execution_count": null,
   "metadata": {
    "ExecuteTime": {
     "end_time": "2018-11-25T23:13:44.885662Z",
     "start_time": "2018-11-25T23:13:44.461635Z"
    },
    "hidden": true,
    "hideCode": false,
    "hidePrompt": false,
    "scrolled": true
   },
   "outputs": [],
   "source": [
    "np_format = {}\n",
    "float_formatter = lambda x: \"%10.4f\" % x\n",
    "np_format['float']=float_formatter\n",
    "# np.set_printoptions(linewidth=150, precision=3, floatmode='fixed', threshold =10000, formatter = np_format)  \n",
    "np.set_printoptions(linewidth=190, precision=4, threshold=10000, suppress = True)\n",
    "print(pred_tensor)\n",
    "# print('scatter shape is ', pred_scatt.get_shape())\n",
    "sess = KB.get_session()\n",
    "# print('pred tensor from model : ', model_pred_tensor.shape)\n",
    "with sess.as_default():\n",
    "#     print('pred_tensor            : ', pred_tensor.get_shape() )\n",
    "    r_pred_tensor = pred_tensor.eval()\n",
    "    \n",
    "    \n",
    "for img in range(2):\n",
    "    class_ids = np.unique(r_pred_tensor[img,:,:,4]).astype(int).tolist()    \n",
    "    print('Classids: ', class_ids)\n",
    "    for i in class_ids:\n",
    "        print('Image ', img , '/ Class ',i,' ------------')\n",
    "        for j in range(25):\n",
    "            print(r_pred_tensor[img,i,j])\n",
    "#             print(model_pred_tensor[img,i,j])\n",
    "#             print(model_pred_heatmap_scores[img,i,j])\n",
    "#             print(pred_heatmap_scores[img,i,j])\n",
    "            print()\n"
   ]
  },
  {
   "cell_type": "code",
   "execution_count": null,
   "metadata": {
    "ExecuteTime": {
     "end_time": "2018-09-25T10:03:58.910808Z",
     "start_time": "2018-09-25T10:03:58.726130Z"
    },
    "hidden": true,
    "hideCode": false
   },
   "outputs": [],
   "source": [
    "np.set_printoptions(precision=4, threshold=4000, linewidth=210, suppress=True)\n",
    "with sess.as_default():\n",
    "    print(scatter_ind.shape)\n",
    "    print(pred_scatt.shape)\n",
    "    print(pred_array.shape)\n",
    "#     r_clipped_rois = clipped_rois.eval()\n",
    "    r_pred_array = pred_array.eval()\n",
    "for i in range(200):\n",
    "#     print()\n",
    "#     print('input_ro:  ', r0[0,i]) \n",
    "#     print('original (clipped) :  ', r_clipped_rois[0,i])\n",
    "    print('pred_array         :  ', r_pred_array[0,i])"
   ]
  },
  {
   "cell_type": "code",
   "execution_count": null,
   "metadata": {
    "ExecuteTime": {
     "end_time": "2018-09-25T10:05:06.237621Z",
     "start_time": "2018-09-25T10:05:06.190986Z"
    },
    "hidden": true,
    "scrolled": false
   },
   "outputs": [],
   "source": [
    "np.set_printoptions(precision=4, threshold=4000, linewidth=210, suppress=True)\n",
    "\n",
    "# with sess.as_default():\n",
    "#     print(pred_scores.eval())\n",
    "#     print(pred_classes.eval())\n",
    "#     print(scatter_ind.eval()[0])\n",
    "#     print(norm_score.eval()[0,9])\n",
    "#     print(pred_array.eval()[0,:200])\n",
    "#     print(scatter_ind.shape)\n",
    "#     print(pred_scatt.shape)\n",
    "#     print(pred_array.shape)\n",
    "#     r_clipped_rois = clipped_rois.eval()\n",
    "#     r_pred_array   = pred_array.eval()\n",
    "#     print(pred_scatt.eval()[0,1,0:200])\n",
    "#     print(normalizer.eval()[0,9])\n"
   ]
  },
  {
   "cell_type": "markdown",
   "metadata": {
    "heading_collapsed": true
   },
   "source": [
    "####  Test that refined_rois is correctly working in `clip_to_window_tf` "
   ]
  },
  {
   "cell_type": "code",
   "execution_count": null,
   "metadata": {
    "ExecuteTime": {
     "end_time": "2018-05-18T13:42:38.351532Z",
     "start_time": "2018-05-18T13:42:37.820120Z"
    },
    "hidden": true,
    "hideCode": false,
    "hideOutput": true,
    "scrolled": true
   },
   "outputs": [],
   "source": [
    "with sess.as_default():\n",
    "    test_np = refined_rois.eval()\n",
    "    test_tf = refined_rois_clipped.eval()\n",
    "    window_np = np.array([0,0,128,128])\n",
    " \n",
    "    print(window_np.shape)\n",
    "    for i in range(5):\n",
    "#         print('Before', i)\n",
    "#         print(test_np[i])\n",
    "        test_np[i] = clip_to_window(window_np, test_np[i])\n",
    "#         print('After', i)\n",
    "#         print(test_np[i])\n",
    "#         print('   tensor flow')\n",
    "#         print(test_tf[i])\n",
    "        \n",
    "    for i in range(5):\n",
    "      all_equal = np.all(test_np == refined_rois_clipped.eval())\n",
    "      print('i: ', i, '--- EQUAL : ', all_equal)\n"
   ]
  },
  {
   "cell_type": "markdown",
   "metadata": {
    "heading_collapsed": true
   },
   "source": [
    "####  Test that pred_classes and pred_deltas have been properly selected when using tf.gather_nd ()"
   ]
  },
  {
   "cell_type": "code",
   "execution_count": null,
   "metadata": {
    "ExecuteTime": {
     "end_time": "2018-05-18T13:32:01.297444Z",
     "start_time": "2018-05-18T13:32:00.765661Z"
    },
    "hidden": true,
    "hideCode": false,
    "hideOutput": true,
    "scrolled": true
   },
   "outputs": [],
   "source": [
    "with sess.as_default():\n",
    "    tmp0 = pred_classes.eval()\n",
    "    tmp1 = mrcnn_bbox.eval()\n",
    "    tmp2 = pred_deltas.eval()\n",
    "    tmp4 = mrcnn_class.eval()\n",
    "    tmp3 = pred_scores2.eval()\n",
    "    tmp5 = pred_scores.eval()\n",
    "    \n",
    "\n",
    "for i in range(5):\n",
    "    for j in range(32):\n",
    "        print('i: ', i, ' j :', j,'--- class: ',tmp0[i,j],'---------------')\n",
    "    #     print(tmp0[i,j])\n",
    "        print(tmp1[i,j])\n",
    "        print(' ===> ', tmp2[i,j])\n",
    "        print(' mrcnn_score: ', tmp4[i,j,tmp0[i,j]], ' pred_score:', tmp5[i,j,0], 'pred_score2: ', tmp3[i,j])\n"
   ]
  },
  {
   "cell_type": "markdown",
   "metadata": {
    "heading_collapsed": true,
    "hideCode": false
   },
   "source": [
    "####  Verify refined_rois generated by TF and NP are equal when using `apply_box_deltas_tf( )`"
   ]
  },
  {
   "cell_type": "code",
   "execution_count": null,
   "metadata": {
    "ExecuteTime": {
     "end_time": "2018-05-18T10:48:35.696940Z",
     "start_time": "2018-05-18T10:48:34.824880Z"
    },
    "hidden": true,
    "hideCode": false,
    "hideOutput": true,
    "scrolled": true
   },
   "outputs": [],
   "source": [
    "from mrcnn.utils import apply_box_deltas, apply_box_deltas_tf\n",
    "with sess.as_default():\n",
    "    refined_rois_tf = apply_box_deltas_3d(output_rois, pred_deltas).eval()\n",
    "    print(' refined rois_tf: ', refined_rois_tf.shape, refined_rois_tf.dtype)\n",
    "    tmp = []\n",
    "    bxs = output_rois.eval()\n",
    "    dlt = pred_deltas.eval()\n",
    "    for i in range(5):\n",
    "        tmp.append(apply_box_deltas(bxs[i], dlt[i]))\n",
    "    refined_rois_np = np.asarray(tmp)\n",
    "    print(' refined rois_np: ', refined_rois_np.shape,refined_rois_np.dtype)\n",
    "    print(' refined rois_np == refined rois_tf ?? :', np.all(refined_rois_tf[0,1] == refined_rois_np[0,1]))\n",
    "\n",
    "#     for i in range(5):\n",
    "#         for j in range(32):\n",
    "#             all_eq = np.all(refined_rois_tf[0,1] == refined_rois_np[0,1])\n",
    "#             if ~all_eq:\n",
    "#                 print(' Not equal : ',i,'/',j)\n",
    "#                 print(refined_rois_tf[i,j])\n",
    "#                 print(refined_rois_np[i,j])\n",
    "#             else:\n",
    "#                 print(' equal : ',i,'/',j)\n",
    "print(refined_rois_tf[0])\n",
    "print(refined_rois_np[0])\n"
   ]
  },
  {
   "cell_type": "markdown",
   "metadata": {
    "heading_collapsed": true
   },
   "source": [
    "##  `build_hm_score_v2()` , `build_hm_score_v3()` , `clip_heatmap()`"
   ]
  },
  {
   "cell_type": "code",
   "execution_count": 9,
   "metadata": {
    "ExecuteTime": {
     "end_time": "2018-11-30T16:33:52.412903Z",
     "start_time": "2018-11-30T16:33:52.033635Z"
    },
    "hidden": true,
    "hideCode": false
   },
   "outputs": [
    {
     "data": {
      "text/plain": [
       "\"\\n##-----------------------------------------------------------------------------------------------------------\\n## Build Mask and Score \\n##----------------------------------------------------------------------------------------------------------- \\ndef build_hm_score_v2(input_list):\\n    '''\\n    Inputs:\\n    -----------\\n        heatmap_tensor :    [ image height, image width ]\\n        input_row      :    [y1, x1, y2, x2] in absolute (non-normalized) scale\\n\\n    Returns\\n    -----------\\n        gaussian_sum :      sum of gaussian heatmap vlaues over the area covered by the bounding box\\n        bbox_area    :      bounding box area (in pixels)\\n        weighted_sum :      gaussian_sum * bbox_score\\n    '''\\n    heatmap_tensor, input_bbox, input_norm_score = input_list\\n    \\n    with tf.variable_scope('mask_routine'):\\n        y_extent     = tf.range(input_bbox[0], input_bbox[2])\\n        x_extent     = tf.range(input_bbox[1], input_bbox[3])\\n        Y,X          = tf.meshgrid(y_extent, x_extent)\\n        bbox_mask    = tf.stack([Y,X],axis=2)        \\n        mask_indices = tf.reshape(bbox_mask,[-1,2])\\n        mask_indices = tf.to_int32(mask_indices)\\n        mask_size    = tf.shape(mask_indices)[0]\\n        mask_updates = tf.ones([mask_size], dtype = tf.float32)    \\n        mask         = tf.scatter_nd(mask_indices, mask_updates, tf.shape(heatmap_tensor))\\n        # mask_sum    =  tf.reduce_sum(mask)\\n        heatmap_tensor = tf.multiply(heatmap_tensor, mask, name = 'mask_applied')\\n        bbox_area    = tf.to_float((input_bbox[2]-input_bbox[0]) * (input_bbox[3]-input_bbox[1]))\\n        gaussian_sum = tf.reduce_sum(heatmap_tensor)\\n\\n        # Multiply gaussian_sum by score to obtain weighted sum    \\n        # weighted_sum = gaussian_sum * input_row[5]\\n\\n        # Replaced lines above with following lines 21-09-2018\\n        # Multiply gaussian_sum by normalized score to obtain weighted_norm_sum \\n        weighted_norm_sum = gaussian_sum * input_norm_score    # input_list[7]\\n\\n    return tf.stack([gaussian_sum, bbox_area, weighted_norm_sum], axis = -1)\\n\\n##-----------------------------------------------------------------------------------------------------------\\n## Clip Heatmap - Clips heatmap to a predefined vicinity (+/- 5 pixels of cy,cx)\\n##----------------------------------------------------------------------------------------------------------- \\ndef clip_heatmap(input_list):\\n    '''\\n    Inputs:\\n    -----------\\n        heatmap_tensor :    [ image height, image width ]\\n        cy,cx, covar   :   \\n        \\n    Returns\\n    -----------\\n        Clipped heatmap tensor \\n    '''\\n    heatmap_tensor, cy, cx, covar = input_list\\n\\n    with tf.variable_scope('mask_routine'):\\n        start_y      = tf.maximum(cy-covar[1],0)\\n        end_y        = tf.minimum(cy+covar[1], KB.int_shape(heatmap_tensor)[0])\\n        start_x      = tf.maximum(cx-covar[0],0)\\n        end_x        = tf.minimum(cx+covar[0], KB.int_shape(heatmap_tensor)[1])\\n        y_extent     = tf.range(start_y, end_y)\\n        x_extent     = tf.range(start_x, end_x)\\n        Y,X          = tf.meshgrid(y_extent, x_extent)\\n        mask_indices = tf.stack([Y,X],axis=2)        \\n        mask_indices = tf.reshape(mask_indices,[-1,2])\\n        mask_indices = tf.to_int32(mask_indices)\\n        mask_size    = tf.shape(mask_indices)[0]\\n        mask_updates = tf.ones([mask_size], dtype = tf.float32)    \\n        mask         = tf.scatter_nd(mask_indices, mask_updates, tf.shape(heatmap_tensor))\\n        # mask_sum    =  tf.reduce_sum(mask)\\n        heatmap_tensor = tf.multiply(heatmap_tensor, mask, name = 'mask_applied')\\n\\n    return  heatmap_tensor\\n\\n\\n\\n##--------------------------------------------------------------------------------------------------------\\n##\\n##--------------------------------------------------------------------------------------------------------        \\ndef build_hm_score_v3(input_list):\\n    '''\\n    Inputs:\\n    -----------\\n        heatmap_tensor :    [ image height, image width ]\\n        input_row      :    [y1, x1, y2, x2] in absolute (non-normalized) scale\\n\\n    Returns\\n    -----------\\n        gaussian_sum :      sum of gaussian heatmap vlaues over the area covered by the bounding box\\n        bbox_area    :      bounding box area (in pixels)\\n    '''\\n    heatmap_tensor, cy, cx, covar = input_list\\n    with tf.variable_scope('mask_routine'):\\n        start_y      = tf.maximum(cy-covar[1], 0.0)\\n        end_y        = tf.minimum(cy+covar[1], KB.int_shape(heatmap_tensor)[0])\\n        start_x      = tf.maximum(cx-covar[0], 0.0)\\n        end_x        = tf.minimum(cx+covar[0], KB.int_shape(heatmap_tensor)[1])\\n        \\n        #---------------------------------------------------------------------------------------\\n        # though rounding was an option, after analyzig the output data, opted to not use it. \\n        # Also not used in FCN Scoring layer routine    11-26-2018\\n        #---------------------------------------------------------------------------------------\\n        # y_extent     = tf.range(tf.round(start_y), tf.round(end_y))  ##  Rounding is NOT USED \\n        # x_extent     = tf.range(tf.round(start_x), tf.round(end_x))  ##  here or in FCN scoring\\n        y_extent     = tf.range(start_y, end_y) \\n        x_extent     = tf.range(start_x, end_x)        \\n        Y,X          = tf.meshgrid(y_extent, x_extent)\\n    \\n        mask_indices = tf.stack([Y,X],axis=2)        \\n        mask_indices = tf.reshape(mask_indices,[-1,2])\\n        mask_indices = tf.to_int32(mask_indices)\\n        mask_size    = tf.shape(mask_indices)[0]\\n        mask_updates = tf.ones([mask_size], dtype = tf.float32)    \\n        \\n        mask         = tf.scatter_nd(mask_indices, mask_updates, tf.shape(heatmap_tensor))\\n        \\n        heatmap_tensor = tf.multiply(heatmap_tensor, mask, name = 'mask_applied')\\n        score        = tf.reduce_sum(heatmap_tensor)\\n        \\n        mask_area    = tf.to_float((end_y -start_y) * (end_x-  start_x))        \\n        mask_sum     = tf.reduce_sum(mask)\\n\\n    return tf.stack([  score, mask_area, mask_sum, score/mask_area, score/mask_sum], axis = -1)  \\n\\n\\n    #                      start_y, end_y, start_x, end_x,\\n    #                      tf.round(start_y), tf.round(end_y),tf.round(start_x), tf.round(end_x) ], \\n\""
      ]
     },
     "execution_count": 9,
     "metadata": {},
     "output_type": "execute_result"
    }
   ],
   "source": [
    "\"\"\"\n",
    "##-----------------------------------------------------------------------------------------------------------\n",
    "## Build Mask and Score \n",
    "##----------------------------------------------------------------------------------------------------------- \n",
    "def build_hm_score_v2(input_list):\n",
    "    '''\n",
    "    Inputs:\n",
    "    -----------\n",
    "        heatmap_tensor :    [ image height, image width ]\n",
    "        input_row      :    [y1, x1, y2, x2] in absolute (non-normalized) scale\n",
    "\n",
    "    Returns\n",
    "    -----------\n",
    "        gaussian_sum :      sum of gaussian heatmap vlaues over the area covered by the bounding box\n",
    "        bbox_area    :      bounding box area (in pixels)\n",
    "        weighted_sum :      gaussian_sum * bbox_score\n",
    "    '''\n",
    "    heatmap_tensor, input_bbox, input_norm_score = input_list\n",
    "    \n",
    "    with tf.variable_scope('mask_routine'):\n",
    "        y_extent     = tf.range(input_bbox[0], input_bbox[2])\n",
    "        x_extent     = tf.range(input_bbox[1], input_bbox[3])\n",
    "        Y,X          = tf.meshgrid(y_extent, x_extent)\n",
    "        bbox_mask    = tf.stack([Y,X],axis=2)        \n",
    "        mask_indices = tf.reshape(bbox_mask,[-1,2])\n",
    "        mask_indices = tf.to_int32(mask_indices)\n",
    "        mask_size    = tf.shape(mask_indices)[0]\n",
    "        mask_updates = tf.ones([mask_size], dtype = tf.float32)    \n",
    "        mask         = tf.scatter_nd(mask_indices, mask_updates, tf.shape(heatmap_tensor))\n",
    "        # mask_sum    =  tf.reduce_sum(mask)\n",
    "        heatmap_tensor = tf.multiply(heatmap_tensor, mask, name = 'mask_applied')\n",
    "        bbox_area    = tf.to_float((input_bbox[2]-input_bbox[0]) * (input_bbox[3]-input_bbox[1]))\n",
    "        gaussian_sum = tf.reduce_sum(heatmap_tensor)\n",
    "\n",
    "        # Multiply gaussian_sum by score to obtain weighted sum    \n",
    "        # weighted_sum = gaussian_sum * input_row[5]\n",
    "\n",
    "        # Replaced lines above with following lines 21-09-2018\n",
    "        # Multiply gaussian_sum by normalized score to obtain weighted_norm_sum \n",
    "        weighted_norm_sum = gaussian_sum * input_norm_score    # input_list[7]\n",
    "\n",
    "    return tf.stack([gaussian_sum, bbox_area, weighted_norm_sum], axis = -1)\n",
    "\n",
    "##-----------------------------------------------------------------------------------------------------------\n",
    "## Clip Heatmap - Clips heatmap to a predefined vicinity (+/- 5 pixels of cy,cx)\n",
    "##----------------------------------------------------------------------------------------------------------- \n",
    "def clip_heatmap(input_list):\n",
    "    '''\n",
    "    Inputs:\n",
    "    -----------\n",
    "        heatmap_tensor :    [ image height, image width ]\n",
    "        cy,cx, covar   :   \n",
    "        \n",
    "    Returns\n",
    "    -----------\n",
    "        Clipped heatmap tensor \n",
    "    '''\n",
    "    heatmap_tensor, cy, cx, covar = input_list\n",
    "\n",
    "    with tf.variable_scope('mask_routine'):\n",
    "        start_y      = tf.maximum(cy-covar[1],0)\n",
    "        end_y        = tf.minimum(cy+covar[1], KB.int_shape(heatmap_tensor)[0])\n",
    "        start_x      = tf.maximum(cx-covar[0],0)\n",
    "        end_x        = tf.minimum(cx+covar[0], KB.int_shape(heatmap_tensor)[1])\n",
    "        y_extent     = tf.range(start_y, end_y)\n",
    "        x_extent     = tf.range(start_x, end_x)\n",
    "        Y,X          = tf.meshgrid(y_extent, x_extent)\n",
    "        mask_indices = tf.stack([Y,X],axis=2)        \n",
    "        mask_indices = tf.reshape(mask_indices,[-1,2])\n",
    "        mask_indices = tf.to_int32(mask_indices)\n",
    "        mask_size    = tf.shape(mask_indices)[0]\n",
    "        mask_updates = tf.ones([mask_size], dtype = tf.float32)    \n",
    "        mask         = tf.scatter_nd(mask_indices, mask_updates, tf.shape(heatmap_tensor))\n",
    "        # mask_sum    =  tf.reduce_sum(mask)\n",
    "        heatmap_tensor = tf.multiply(heatmap_tensor, mask, name = 'mask_applied')\n",
    "\n",
    "    return  heatmap_tensor\n",
    "\n",
    "\n",
    "\n",
    "##--------------------------------------------------------------------------------------------------------\n",
    "##\n",
    "##--------------------------------------------------------------------------------------------------------        \n",
    "def build_hm_score_v3(input_list):\n",
    "    '''\n",
    "    Inputs:\n",
    "    -----------\n",
    "        heatmap_tensor :    [ image height, image width ]\n",
    "        input_row      :    [y1, x1, y2, x2] in absolute (non-normalized) scale\n",
    "\n",
    "    Returns\n",
    "    -----------\n",
    "        gaussian_sum :      sum of gaussian heatmap vlaues over the area covered by the bounding box\n",
    "        bbox_area    :      bounding box area (in pixels)\n",
    "    '''\n",
    "    heatmap_tensor, cy, cx, covar = input_list\n",
    "    with tf.variable_scope('mask_routine'):\n",
    "        start_y      = tf.maximum(cy-covar[1], 0.0)\n",
    "        end_y        = tf.minimum(cy+covar[1], KB.int_shape(heatmap_tensor)[0])\n",
    "        start_x      = tf.maximum(cx-covar[0], 0.0)\n",
    "        end_x        = tf.minimum(cx+covar[0], KB.int_shape(heatmap_tensor)[1])\n",
    "        \n",
    "        #---------------------------------------------------------------------------------------\n",
    "        # though rounding was an option, after analyzig the output data, opted to not use it. \n",
    "        # Also not used in FCN Scoring layer routine    11-26-2018\n",
    "        #---------------------------------------------------------------------------------------\n",
    "        # y_extent     = tf.range(tf.round(start_y), tf.round(end_y))  ##  Rounding is NOT USED \n",
    "        # x_extent     = tf.range(tf.round(start_x), tf.round(end_x))  ##  here or in FCN scoring\n",
    "        y_extent     = tf.range(start_y, end_y) \n",
    "        x_extent     = tf.range(start_x, end_x)        \n",
    "        Y,X          = tf.meshgrid(y_extent, x_extent)\n",
    "    \n",
    "        mask_indices = tf.stack([Y,X],axis=2)        \n",
    "        mask_indices = tf.reshape(mask_indices,[-1,2])\n",
    "        mask_indices = tf.to_int32(mask_indices)\n",
    "        mask_size    = tf.shape(mask_indices)[0]\n",
    "        mask_updates = tf.ones([mask_size], dtype = tf.float32)    \n",
    "        \n",
    "        mask         = tf.scatter_nd(mask_indices, mask_updates, tf.shape(heatmap_tensor))\n",
    "        \n",
    "        heatmap_tensor = tf.multiply(heatmap_tensor, mask, name = 'mask_applied')\n",
    "        score        = tf.reduce_sum(heatmap_tensor)\n",
    "        \n",
    "        mask_area    = tf.to_float((end_y -start_y) * (end_x-  start_x))        \n",
    "        mask_sum     = tf.reduce_sum(mask)\n",
    "\n",
    "    return tf.stack([  score, mask_area, mask_sum, score/mask_area, score/mask_sum], axis = -1)  \n",
    "\n",
    "\n",
    "    #                      start_y, end_y, start_x, end_x,\n",
    "    #                      tf.round(start_y), tf.round(end_y),tf.round(start_x), tf.round(end_x) ], \n",
    "\"\"\""
   ]
  },
  {
   "cell_type": "markdown",
   "metadata": {
    "hideCode": false,
    "hidePrompt": true
   },
   "source": [
    "## `build_heatmap()`"
   ]
  },
  {
   "cell_type": "code",
   "execution_count": 31,
   "metadata": {
    "ExecuteTime": {
     "end_time": "2018-12-22T18:29:59.564344Z",
     "start_time": "2018-12-22T18:29:58.925353Z"
    },
    "hideCode": false,
    "hideOutput": true,
    "scrolled": true
   },
   "outputs": [
    {
     "name": "stdout",
     "output_type": "stream",
     "text": [
      "\n",
      "  > build_pr_tensor()\n",
      "    num_rois               :  32\n",
      "    norm_input_rois.shape  :  <class 'tensorflow.python.framework.ops.Tensor'> (1, 32, 4)\n",
      "    scale.shape            :  <class 'tensorflow.python.framework.ops.Tensor'> (4,) (4,)\n",
      "    dup_scale.shape        :  <class 'tensorflow.python.framework.ops.Tensor'> (1, 32, 4) (1, 32, 4)\n",
      "\n",
      "    mrcnn_class shape      :  (1, 32, 7)\n",
      "    mrcnn_bbox.shape       :  (1, 32, 7, 4) (1, 32, 7, 4)\n",
      "    config image shape     :  [128 128   3] h: 128 w: 128\n",
      "    refined rois                   :  shape: (1, 32, 4)            KB.shape:(1, 32, 4)            Keras Tensor: False\n",
      "    input_rois                     :  shape: (1, 32, 4)            KB.shape:(1, 32, 4)            Keras Tensor: False\n",
      "    refined_rois                   :  shape: (1, 32, 4)            KB.shape:(1, 32, 4)            Keras Tensor: False\n",
      "    sequence                       :  shape: (1, 32, 1)            KB.shape:(1, 32, 1)            Keras Tensor: False\n",
      "    pred_array                     :  shape: (1, 32, 7)            KB.shape:(1, 32, 7)            Keras Tensor: False\n",
      "    scatter_ind                    :  shape: (1, 32, 3)            KB.shape:(1, 32, 3)            Keras Tensor: False\n",
      "    pred_scatter                   :  shape: (1, 7, 32, 7)         KB.shape:(1, 7, 32, 7)         Keras Tensor: False\n",
      "    - Add normalized score --      \n",
      "    normalizer                     :  shape: (1, 7, 1)             KB.shape:(1, 7, 1)             Keras Tensor: False\n",
      "    norm_score                     :  shape: (1, 7, 32, 1)         KB.shape:(1, 7, 32, 1)         Keras Tensor: False\n",
      "    pred_scatter                   :  shape: (1, 7, 32, 8)         KB.shape:(1, 7, 32, 8)         Keras Tensor: False\n",
      "    sort_inds                      :  shape: (1, 7, 32)            KB.shape:(1, 7, 32)            Keras Tensor: False\n",
      "    class_grid                     :  shape: (1, 7, 32)            KB.shape:(1, 7, 32)            Keras Tensor: False\n",
      "    batch_grid                     :  shape: (1, 7, 32)            KB.shape:(1, 7, 32)            Keras Tensor: False\n",
      "    roi_grid shape                 :  shape: (1, 7, 32)            KB.shape:(1, 7, 32)            Keras Tensor: False\n",
      "    gather_inds                    :  shape: (1, 7, 32, 3)         KB.shape:(1, 7, 32, 3)         Keras Tensor: False\n",
      "    pred_tensor                    :  shape: (1, 7, 32, 8)         KB.shape:(1, 7, 32, 8)         Keras Tensor: False\n",
      "\n",
      "\n",
      "  > BUILD_GROUND TRUTH_TF()\n",
      "    num_bboxes             :  32 (building  gt_tensor )\n",
      "    gt_class_ids shape     :  (1, 32)    (1, 32)\n",
      "    norm_gt_bboxes.shape   :  (1, 32, 4)    (1, 32, 4)\n",
      "    gt_bboxes.shape        :  (1, 32, 4)    (1, 32, 4)\n",
      "    gt_classes_exp                 :  shape: (1, 32, 1)            KB.shape:(1, 32, 1)            Keras Tensor: False\n",
      "    gt_scores_exp                  :  shape: (1, 32, 1)            KB.shape:(1, 32, 1)            Keras Tensor: False\n",
      "    gt_array                       :  shape: (1, 32, 8)            KB.shape:(1, 32, 8)            Keras Tensor: False\n",
      "    scatter_ind                    :  shape: (1, 32, 3)            KB.shape:(1, 32, 3)            Keras Tensor: False\n",
      "    gt_array                       :  shape: (1, 32, 8)            KB.shape:(1, 32, 8)            Keras Tensor: False\n",
      "    gt_scatter                     :  shape: (1, 7, 32, 8)         KB.shape:(1, 7, 32, 8)         Keras Tensor: False\n",
      "    sort_inds                      :  shape: (1, 7, 32)            KB.shape:(1, 7, 32)            Keras Tensor: False\n",
      "    class_grid                     :  shape: (1, 7, 32)            KB.shape:(1, 7, 32)            Keras Tensor: False\n",
      "    batch_grid                     :  shape: (1, 7, 32)            KB.shape:(1, 7, 32)            Keras Tensor: False\n",
      "    gather_inds                    :  shape: (1, 7, 32, 3)         KB.shape:(1, 7, 32, 3)         Keras Tensor: False\n",
      "    gt_tensor                      :  shape: (1, 7, 32, 8)         KB.shape:(1, 7, 32, 8)         Keras Tensor: False\n"
     ]
    }
   ],
   "source": [
    "# del sess\n",
    "# del mrcnn_bbox, mrcnn_class, norm_input_rois\n",
    "import tensorflow as tf\n",
    "from mrcnn.chm_layer import build_pr_tensor, build_pr_heatmap\n",
    "from mrcnn.chm_layer_tgt import build_gt_tensor, build_gt_heatmap\n",
    "\n",
    "mrcnn_bbox       = tf.identity(model_mrcnn_bbox)\n",
    "mrcnn_class      = tf.identity(model_mrcnn_class)\n",
    "output_rois      = tf.identity(model_output_rois)\n",
    "target_class_ids = tf.identity(model_target_class_ids)\n",
    "roi_gt_boxes     = tf.identity(model_roi_gt_boxes)\n",
    "config      = mrcnn_model.config\n",
    "\n",
    "pr_tensor   = build_pr_tensor(output_rois, mrcnn_class, mrcnn_bbox, config)\n",
    "gt_tensor   = build_gt_tensor(target_class_ids, roi_gt_boxes, config) \n",
    " \n",
    "# gt_heatmap, gt_heatmap_scores  = build_gt_heatmap(gt_tensor, config, names = ['gt_heatmap'])\n",
    "# pr_heatmap, pr_heatmap_scores =  build_pr_heatmap(pr_tensor, mrcnn_model.config, names = ['pr_heatmap'])\n",
    "    \n",
    "# print(pred_tensor)\n",
    "# with sess.as_default():\n",
    "#     r_pred_tensor = pred_tensor.eval()\n",
    "# print(r_pred_tensor.shape)\n",
    "\n"
   ]
  },
  {
   "cell_type": "markdown",
   "metadata": {},
   "source": [
    "### `build_gt_heatmap()`"
   ]
  },
  {
   "cell_type": "markdown",
   "metadata": {},
   "source": [
    "###  `build_pr_heatmap()` "
   ]
  },
  {
   "cell_type": "code",
   "execution_count": 74,
   "metadata": {
    "ExecuteTime": {
     "end_time": "2018-12-22T19:15:44.952116Z",
     "start_time": "2018-12-22T19:15:41.868729Z"
    }
   },
   "outputs": [
    {
     "name": "stdout",
     "output_type": "stream",
     "text": [
      "\n",
      " \n",
      "  > build_pr_heatmap() for :  ['pr_heatmap']\n",
      "    in_tensor shape        :  (1, 7, 32, 8)\n",
      "    num bboxes per class   :  32\n",
      "    heatmap scale          :  1 Dimensions:  w: 128  h: 128\n",
      "    pt2_sum                        :  shape: (1, 7, 32)            KB.shape:(1, 7, 32)            Keras Tensor: False\n",
      "    pt2_ind                        :  shape: (?, 3)                KB.shape:(None, 3)             Keras Tensor: False\n",
      "    pt2_dense                      :  shape: (?, 8)                KB.shape:(None, 8)             Keras Tensor: False\n",
      "    X/Y shapes : (128, 128) (128, 128)\n",
      "    Ones:     (?, 1, 1)\n",
      "    ones_exp * X (?, 1, 1) * (128, 128) =  (?, 128, 128)\n",
      "    ones_exp * Y (?, 1, 1) * (128, 128) =  (?, 128, 128)\n",
      "    pos_grid before transpse       :  shape: (?, 128, 128, 2)      KB.shape:(None, 128, 128, 2)   Keras Tensor: False\n",
      "    pos_grid after transpose       :  shape: (128, 128, ?, 2)      KB.shape:(128, 128, None, 2)   Keras Tensor: False\n",
      "    Input to MVN.PROB: pos_grid (meshgrid):  shape: (128, 128, ?, 2)      KB.shape:(128, 128, None, 2)   Keras Tensor: False\n",
      "    Prob_grid shape from mvn.probe :  shape: (128, 128, ?)         KB.shape:(128, 128, None)      Keras Tensor: False\n",
      "    Prob_grid shape after tanspose :  shape: (?, 128, 128)         KB.shape:(None, 128, 128)      Keras Tensor: False\n",
      "    Output probabilities shape     :  shape: (?, 128, 128)         KB.shape:(None, 128, 128)      Keras Tensor: False\n",
      "    old_style_scores               :  shape: (?, 3)                KB.shape:(None, 3)             Keras Tensor: False\n",
      "    old_style_scores_by_class      :  shape: (1, 7, 32, 3)         KB.shape:(1, 7, 32, 3)         Keras Tensor: False\n",
      "    prob_grid_clipped :            :  shape: (?, 128, 128)         KB.shape:(None, 128, 128)      Keras Tensor: False\n",
      "    normalization ------------------------------------------------------\n",
      "    normalizer     :               :  shape: (?, 1, 1)             KB.shape:(None, 1, 1)          Keras Tensor: False\n",
      "    prob_grid_cns: clipped/normed/scaled ::  shape: (?, 128, 128)         KB.shape:(None, 128, 128)      Keras Tensor: False\n",
      "    alt_scores_1                   :  shape: (?, 3)                KB.shape:(None, 3)             Keras Tensor: False\n",
      "    alt_scores_1(by class)         :  shape: (1, 7, 32, 3)         KB.shape:(1, 7, 32, 3)         Keras Tensor: False\n",
      "    alt_scores_1_norm(by_class)    :  shape: (1, 7, 32, 3)         KB.shape:(1, 7, 32, 3)         Keras Tensor: False\n",
      "    Scatter out the probability distributions based on class --------------\n",
      "    pt2_ind shape                  :  shape: (?, 3)                KB.shape:(None, 3)             Keras Tensor: False\n",
      "    prob_grid_clippped             :  shape: (?, 128, 128)         KB.shape:(None, 128, 128)      Keras Tensor: False\n",
      "    gauss_heatmap                  :  shape: (1, 7, 32, 128, 128)  KB.shape:(1, 7, 32, 128, 128)  Keras Tensor: False\n",
      "    Reduce SUM based on class and normalize within each class -----------------------\n",
      "    gaussian_heatmap_sum           :  shape: (1, 7, 128, 128)      KB.shape:(1, 7, 128, 128)      Keras Tensor: False\n",
      "    normalizer shape   :           :  shape: (1, 7, 1, 1)          KB.shape:(1, 7, 1, 1)          Keras Tensor: False\n",
      "    normalized heatmap :           :  shape: (1, 7, 128, 128)      KB.shape:(1, 7, 128, 128)      Keras Tensor: False\n",
      "    hm_indices                     :  shape: (?, 2)                KB.shape:(None, 2)             Keras Tensor: False\n",
      "    pt2_heatmaps                   :  shape: (?, 128, 128)         KB.shape:(None, 128, 128)      Keras Tensor: False\n",
      "    alt_scores_2    :              :  shape: (?, 3)                KB.shape:(None, 3)             Keras Tensor: False\n",
      "    alt_scores_2_by_class          :  shape: (1, 7, 32, 3)         KB.shape:(1, 7, 32, 3)         Keras Tensor: False\n",
      "    alt_scores_2_norm(by_class)    :  shape: (1, 7, 32, 3)         KB.shape:(1, 7, 32, 3)         Keras Tensor: False\n",
      "    reshaped heatmap               :  shape: (1, 128, 128, 7)      KB.shape:(1, 128, 128, 7)      Keras Tensor: False\n",
      "    gauss_scores    :              :  shape: (1, 7, 32, 23)        KB.shape:(1, 7, 32, 23)        Keras Tensor: False\n",
      "    complete                       \n"
     ]
    }
   ],
   "source": [
    "from mrcnn.utils import logt\n",
    "from mrcnn.chm_layer import build_hm_score_v2, build_hm_score_v3, clip_heatmap, normalize_scores\n",
    "in_tensor = pr_tensor\n",
    "config = mrcnn_model.config\n",
    "names = ['pr_heatmap']\n",
    "# def build_pr_heatmap(in_tensor, config, names = None):\n",
    "'''\n",
    "input:\n",
    "-------\n",
    "pred_tensor:        [ Bsz, Num_Classes, Num_Rois, 8: \n",
    "                        {y1, x1, y2, x2, class_id, score, sequence_id, score normalized per class}]\n",
    "\n",
    "output:\n",
    "-------\n",
    "    pr_heatmap      (None,  Heatmap-height, Heatmap_width, num_classes)\n",
    "    pr_scores       (None, num_classes, 200, 23) \n",
    "                    [batchSz, Detection_Max_instance, (y1,x1,y2,x2, class, score, sequence_id, normalized_score,\n",
    "                                                       scores-0: gaussian_sum, bbox_area, weighted_norm_sum \n",
    "                                                       scores-1: score, mask_sum, score/mask_sum, (score, mask_sum, score/mask_sum) normalized by class\n",
    "                                                       scores-2: score, mask_sum, score/mask_sum, (score, mask_sum, score/mask_sum) normalized by class ]\n",
    "'''\n",
    "verbose         = 1\n",
    "img_h, img_w    = config.IMAGE_SHAPE[:2]\n",
    "batch_size      = config.BATCH_SIZE\n",
    "num_classes     = config.NUM_CLASSES  \n",
    "heatmap_scale   = config.HEATMAP_SCALE_FACTOR\n",
    "grid_h, grid_w  = config.IMAGE_SHAPE[:2] // heatmap_scale    \n",
    "# rois per image is determined by size of input tensor \n",
    "#   detection mode:   config.TRAIN_ROIS_PER_IMAGE \n",
    "#   ground_truth  :   config.DETECTION_MAX_INSTANCES\n",
    "#   strt_cls        = 0 if rois_per_image == 32 else 1\n",
    "# rois_per_image  = config.DETECTION_PER_CLASS\n",
    "rois_per_image  = (in_tensor.shape)[2]  \n",
    "\n",
    "if verbose:\n",
    "    print('\\n ')\n",
    "    print('  > build_pr_heatmap() for : ', names )\n",
    "    print('    in_tensor shape        : ', in_tensor.shape)       \n",
    "    print('    num bboxes per class   : ', rois_per_image )\n",
    "    print('    heatmap scale          : ', heatmap_scale, 'Dimensions:  w:', grid_w,' h:', grid_h)\n",
    "\n",
    "##-----------------------------------------------------------------------------    \n",
    "## Stack non_zero bboxes from in_tensor into pt2_dense \n",
    "##-----------------------------------------------------------------------------\n",
    "# pt2_ind shape is [?, 3]. \n",
    "#    pt2_ind[0] corresponds to image_index \n",
    "#    pt2_ind[1] corresponds to class_index \n",
    "#    pt2_ind[2] corresponds to roi row_index \n",
    "# pt2_dense shape is [?, 7]\n",
    "#    pt2_dense[0:3]  roi coordinates \n",
    "#    pt2_dense[4]    is class id \n",
    "#    pt2_dense[5]    is score from mrcnn    \n",
    "#    pt2_dense[6]    is bbox sequence id    \n",
    "#    pt2_dense[7]    is normalized score (per class)    \n",
    "#-----------------------------------------------------------------------------\n",
    "pt2_sum = tf.reduce_sum(tf.abs(in_tensor[:,:,:,:4]), axis=-1)\n",
    "pt2_ind = tf.where(pt2_sum > 0)\n",
    "pt2_dense = tf.gather_nd( in_tensor, pt2_ind)\n",
    "\n",
    "logt('pt2_sum   ', pt2_sum, verbose = verbose)\n",
    "logt('pt2_ind   ', pt2_ind, verbose = verbose)\n",
    "logt('pt2_dense ', pt2_dense, verbose = verbose)\n",
    "\n",
    "##-----------------------------------------------------------------------------\n",
    "## Build mesh-grid to hold pixel coordinates  \n",
    "##-----------------------------------------------------------------------------\n",
    "X = tf.range(grid_w, dtype=tf.int32)\n",
    "Y = tf.range(grid_h, dtype=tf.int32)\n",
    "X, Y = tf.meshgrid(X, Y)\n",
    "\n",
    "# duplicate (repeat) X and Y into a  batch_size x rois_per_image tensor\n",
    "ones = tf.ones([tf.shape(pt2_dense)[0] , 1, 1], dtype = tf.int32)\n",
    "rep_X = ones * X\n",
    "rep_Y = ones * Y \n",
    "\n",
    "if verbose:\n",
    "    print('    X/Y shapes :',  X.get_shape(), Y.get_shape())\n",
    "    print('    Ones:    ', ones.shape)                \n",
    "    print('    ones_exp * X', ones.shape, '*', X.shape, '= ',rep_X.shape)\n",
    "    print('    ones_exp * Y', ones.shape, '*', Y.shape, '= ',rep_Y.shape)\n",
    "\n",
    "# # stack the X and Y grids \n",
    "pos_grid = tf.to_float(tf.stack([rep_X,rep_Y], axis = -1))\n",
    "logt('pos_grid before transpse ', pos_grid, verbose = verbose)\n",
    "pos_grid = tf.transpose(pos_grid,[1,2,0,3])\n",
    "logt('pos_grid after transpose ', pos_grid, verbose = verbose)  \n",
    "\n",
    "##-----------------------------------------------------------------------------\n",
    "##  Build mean and convariance tensors for Multivariate Normal Distribution \n",
    "##-----------------------------------------------------------------------------\n",
    "bboxes_scaled = pt2_dense[:,:4]/heatmap_scale\n",
    "width  = bboxes_scaled[:,3] - bboxes_scaled[:,1]      # x2 - x1\n",
    "height = bboxes_scaled[:,2] - bboxes_scaled[:,0]\n",
    "cx     = bboxes_scaled[:,1] + ( width  / 2.0)\n",
    "cy     = bboxes_scaled[:,0] + ( height / 2.0)\n",
    "means  = tf.stack((cx,cy),axis = -1)\n",
    "covar  = tf.stack((width * 0.5 , height * 0.5), axis = -1)\n",
    "covar  = tf.sqrt(covar)\n",
    "\n",
    "##-----------------------------------------------------------------------------\n",
    "##  Compute Normal Distribution for bounding boxes\n",
    "##-----------------------------------------------------------------------------    \n",
    "tfd = tf.contrib.distributions\n",
    "mvn = tfd.MultivariateNormalDiag(loc = means,  scale_diag = covar)\n",
    "prob_grid = mvn.prob(pos_grid)\n",
    "logt('Input to MVN.PROB: pos_grid (meshgrid) ', pos_grid, verbose = verbose)\n",
    "logt('Prob_grid shape from mvn.probe  ',prob_grid, verbose = verbose)\n",
    "prob_grid = tf.transpose(prob_grid,[2,0,1])\n",
    "logt('Prob_grid shape after tanspose ', prob_grid, verbose = verbose)\n",
    "logt('Output probabilities shape   '  , prob_grid, verbose = verbose)\n",
    "\n",
    "##--------------------------------------------------------------------------------------------\n",
    "## (0) Generate scores using prob_grid and pt2_dense - (NEW METHOD added 09-21-2018)\n",
    "##--------------------------------------------------------------------------------------------\n",
    "old_style_scores = tf.map_fn(build_hm_score_v2, [prob_grid, bboxes_scaled, pt2_dense[:,7]], \n",
    "                             dtype = tf.float32, swap_memory = True)\n",
    "old_style_scores_by_class = tf.scatter_nd(pt2_ind, old_style_scores, \n",
    "                                 [batch_size, num_classes, rois_per_image, KB.int_shape(old_style_scores)[-1]],\n",
    "                                 name = 'scores_scattered')\n",
    "logt('old_style_scores        ',  old_style_scores, verbose = verbose)\n",
    "logt('old_style_scores_by_class',  old_style_scores_by_class, verbose = verbose)\n",
    "\n",
    "##----------------------------------------------------------------------------------------------------\n",
    "## Generate scores using same method as FCN, over the prob_grid\n",
    "## using (prob_grid_clipped) as input is superfluous == RETURNS EXACT SAME Results AS prob_grid above\n",
    "##----------------------------------------------------------------------------------------------------\n",
    "# alt_scores_0 = tf.map_fn(build_hm_score_v3, [prob_grid, cy, cx,covar], dtype=tf.float32)    \n",
    "# print('    alt_scores_0 : ', KB.int_shape(alt_scores_0), ' Keras tensor ', KB.is_keras_tensor(alt_scores_0) )\n",
    "# alt_scores_0 = tf.scatter_nd(pt2_ind, alt_scores_0, \n",
    "#                                  [batch_size, num_classes, rois_per_image, KB.int_shape(alt_scores_0)[-1]], name = 'alt_scores_0')\n",
    "\n",
    "##---------------------------------------------------------------------------------------------\n",
    "## (NEW STEP - Clipped heatmaps) \n",
    "## (1)  Clip heatmap to region surrounding Cy,Cx and Covar X, Y \n",
    "##      Similar ro what is being done for gt_heatmap in CHMLayerTarget \n",
    "##---------------------------------------------------------------------------------------------    \n",
    "prob_grid_clipped = tf.map_fn(clip_heatmap, [prob_grid, cy,cx, covar], dtype = tf.float32, swap_memory = True)  \n",
    "logt('    prob_grid_clipped : ', prob_grid_clipped, verbose = verbose)\n",
    "\n",
    "\n",
    "##---------------------------------------------------------------------------------------------\n",
    "## (2) apply normalization per bbox heatmap instance\n",
    "##---------------------------------------------------------------------------------------------\n",
    "logt('\\n    normalization ------------------------------------------------------', verbose = verbose)   \n",
    "normalizer = tf.reduce_max(prob_grid_clipped, axis=[-2,-1], keepdims = True)\n",
    "normalizer = tf.where(normalizer < 1.0e-15,  tf.ones_like(normalizer), normalizer)\n",
    "logt('    normalizer     : ', normalizer, verbose = verbose)\n",
    "prob_grid_cns = prob_grid_clipped / normalizer\n",
    "\n",
    "\n",
    "##---------------------------------------------------------------------------------------------\n",
    "## (3) multiply normalized heatmap by normalized score in in_tensor/ (pt2_dense column 7)\n",
    "##     broadcasting : https://stackoverflow.com/questions/49705831/automatic-broadcasting-in-tensorflow\n",
    "##---------------------------------------------------------------------------------------------    \n",
    "prob_grid_cns = tf.transpose(tf.transpose(prob_grid_cns) * pt2_dense[:,7])\n",
    "logt('    prob_grid_cns: clipped/normed/scaled : ', prob_grid_cns, verbose = verbose)\n",
    "\n",
    "\n",
    "##---------------------------------------------------------------------------------------------\n",
    "## - Build alternative scores based on normalized/scaled/clipped heatmap\n",
    "##---------------------------------------------------------------------------------------------\n",
    "alt_scores_1 = tf.map_fn(build_hm_score_v3, [prob_grid_cns, cy, cx,covar], dtype=tf.float32)    \n",
    "logt('alt_scores_1 ', alt_scores_1, verbose = verbose)\n",
    "alt_scores_1_by_class = tf.scatter_nd(pt2_ind, alt_scores_1, \n",
    "                                 [batch_size, num_classes, rois_per_image, KB.int_shape(alt_scores_1)[-1]], name = 'alt_scores_1')  \n",
    "\n",
    "logt('alt_scores_1(by class) ', alt_scores_1_by_class, verbose = verbose)\n",
    "alt_scores_1_norm = normalize_scores(alt_scores_1_by_class)\n",
    "logt('alt_scores_1_norm(by_class) ', alt_scores_1_norm, verbose = verbose)\n",
    "# alt_scores_1_norm = tf.gather_nd(alt_scores_1_norm, pt2_ind)\n",
    "# print('    alt_scores_1_norm(by_image)  : ', alt_scores_1_norm.shape, KB.int_shape(alt_scores_1_norm))\n",
    "\n",
    "##-------------------------------------------------------------------------------------\n",
    "## (3) scatter out the probability distributions based on class \n",
    "##-------------------------------------------------------------------------------------\n",
    "gauss_heatmap   = tf.scatter_nd(pt2_ind, prob_grid_cns, \n",
    "                                [batch_size, num_classes, rois_per_image, grid_w, grid_h], name = 'gauss_scatter')\n",
    "logt('\\n    Scatter out the probability distributions based on class --------------', verbose = verbose)\n",
    "logt('pt2_ind shape      ', pt2_ind      , verbose = verbose)\n",
    "logt('prob_grid_clippped ', prob_grid_cns, verbose = verbose)\n",
    "logt('gauss_heatmap      ', gauss_heatmap, verbose = verbose)   # batch_sz , num_classes, num_rois, image_h, image_w\n",
    "\n",
    "##-------------------------------------------------------------------------------------\n",
    "## Construction of Gaussian Heatmap output using Reduce SUM\n",
    "##\n",
    "## (4) SUM : Reduce and sum up gauss_heatmaps by class  \n",
    "## (5) heatmap normalization (per class)\n",
    "## (6) Transpose heatmap to shape required for FCN\n",
    "##-------------------------------------------------------------------------------------\n",
    "gauss_heatmap_sum = tf.reduce_sum(gauss_heatmap, axis=2, name='gauss_heatmap_sum')\n",
    "logt('\\n    Reduce SUM based on class and normalize within each class -----------------------', verbose = verbose)\n",
    "logt('gaussian_heatmap_sum ', gauss_heatmap_sum , verbose = verbose)\n",
    "\n",
    "## normalize in class\n",
    "normalizer = tf.reduce_max(gauss_heatmap_sum, axis=[-2,-1], keepdims = True)\n",
    "normalizer = tf.where(normalizer < 1.0e-15,  tf.ones_like(normalizer), normalizer)\n",
    "gauss_heatmap_sum = gauss_heatmap_sum / normalizer\n",
    "# gauss_heatmap_sum_normalized = gauss_heatmap_sum / normalizer\n",
    "logt('normalizer shape   : ', normalizer, verbose = verbose)\n",
    "logt('normalized heatmap : ', gauss_heatmap_sum, verbose = verbose)\n",
    "\n",
    "##---------------------------------------------------------------------------------------------\n",
    "##  Score on reduced sum heatmaps. \n",
    "##\n",
    "##  build indices and extract heatmaps corresponding to each bounding boxes' class id\n",
    "##  build alternative scores#  based on normalized/sclaked clipped heatmap\n",
    "##---------------------------------------------------------------------------------------------\n",
    "hm_indices = tf.cast(pt2_ind[:, :2],dtype=tf.int32)\n",
    "logt('hm_indices   ',  hm_indices, verbose = verbose)\n",
    "\n",
    "pt2_heatmaps = tf.gather_nd(gauss_heatmap_sum, hm_indices )\n",
    "logt('pt2_heatmaps ',  pt2_heatmaps, verbose = verbose)\n",
    "\n",
    "alt_scores_2 = tf.map_fn(build_hm_score_v3, [pt2_heatmaps, cy, cx,covar], dtype=tf.float32)    \n",
    "logt('    alt_scores_2    : ', alt_scores_2, verbose = verbose)\n",
    "\n",
    "alt_scores_2_by_class = tf.scatter_nd(pt2_ind, alt_scores_2, \n",
    "                            [batch_size, num_classes, rois_per_image, KB.int_shape(alt_scores_2)[-1]], name = 'alt_scores_2')  \n",
    "\n",
    "logt('alt_scores_2_by_class     ', alt_scores_2_by_class, verbose = verbose)\n",
    "alt_scores_2_norm = normalize_scores(alt_scores_2_by_class)\n",
    "logt('alt_scores_2_norm(by_class) ', alt_scores_2_norm, verbose = verbose)\n",
    "\n",
    "# ##---------------------------------------------------------------------------------------------\n",
    "# ## Construction of Gaussian Heatmap output using Reduce MAX\n",
    "# ## (4) MAX : Reduce and sum up gauss_heatmaps by class  \n",
    "# ## (5) heatmap normalization\n",
    "# ## (6) Transpose heatmap to shape required for FCN\n",
    "# ##---------------------------------------------------------------------------------------------\n",
    "# print('\\n    Reduce MAX based on class and normalize within each class -------------------------------------')         \n",
    "# gauss_heatmap_max = tf.reduce_max(gauss_heatmap, axis=2, name='gauss_heatmap_max')\n",
    "# print('    gaussian_heatmap : ', gauss_heatmap_max.get_shape(), 'Keras tensor ', KB.is_keras_tensor(gauss_heatmap_max) )      \n",
    "# ## normalize in class\n",
    "# normalizer = tf.reduce_max(gauss_heatmap_max, axis=[-2,-1], keepdims = True)\n",
    "# normalizer = tf.where(normalizer < 1.0e-15,  tf.ones_like(normalizer), normalizer)\n",
    "# gauss_heatmap_max            = gauss_heatmap_max / normalizer\n",
    "# # gauss_heatmap_max_normalized = gauss_heatmap_max / normalizer\n",
    "# print('    normalizer shape   : ', normalizer.shape)   \n",
    "# print('    normalized heatmap_max : ', gauss_heatmap_max.shape   ,' Keras tensor ', KB.is_keras_tensor(gauss_heatmap_max) )\n",
    "\n",
    "\n",
    "# ##---------------------------------------------------------------------------------------------\n",
    "# ##  Score on reduced max heatmaps. \n",
    "# ##\n",
    "# ##   # ##  build indices and extract heatmaps corresponding to each bounding boxes' class id\n",
    "# ##  build alternative scores based on normalized/sclaked clipped heatmap\n",
    "# ##---------------------------------------------------------------------------------------------\n",
    "# hm_indices = tf.cast(pt2_ind[:, :2],dtype=tf.int32)\n",
    "# print('    hm_indices shape         :',  hm_indices.get_shape(), KB.int_shape(hm_indices))\n",
    "# pt2_heatmaps = tf.gather_nd(gauss_heatmap_max_normalized, hm_indices )\n",
    "# print('    pt2_heatmaps             :',  pt2_heatmaps.get_shape(), KB.int_shape(pt2_heatmaps))\n",
    "\n",
    "# alt_scores_3 = tf.map_fn(build_hm_score_v3, [pt2_heatmaps, cy, cx,covar], dtype=tf.float32)    \n",
    "# print('    alt_scores_3    : ', KB.int_shape(alt_scores_3), ' Keras tensor ', KB.is_keras_tensor(alt_scores_3) )\n",
    "# alt_scores_3 = tf.scatter_nd(pt2_ind, alt_scores_3, \n",
    "#                                  [batch_size, num_classes, rois_per_image, KB.int_shape(alt_scores_3)[-1]], name = 'alt_scores_3')  \n",
    "\n",
    "##---------------------------------------------------------------------------------------------\n",
    "## (6) Transpose heatmaps to shape required for FCN [batchsize , width, height, num_classes]\n",
    "##---------------------------------------------------------------------------------------------    \n",
    "gauss_heatmap_sum            = tf.transpose(gauss_heatmap_sum           ,[0,2,3,1], name = names[0])\n",
    "logt('reshaped heatmap ', gauss_heatmap_sum, verbose = verbose)\n",
    "# gauss_heatmap_sum_normalized = tf.transpose(gauss_heatmap_sum_normalized,[0,2,3,1], name = names[0]+'_norm')   \n",
    "# print('    reshaped heatmap normalized    : ', gauss_heatmap_sum_normalized.shape,' Keras tensor ', KB.is_keras_tensor(gauss_heatmap_sum_normalized) )\n",
    "\n",
    "# gauss_heatmap_max            = tf.transpose(gauss_heatmap_max           ,[0,2,3,1], name = names[0]+'_max')\n",
    "# print('    reshaped heatmap_max           : ', gauss_heatmap_max.shape,' Keras tensor ', KB.is_keras_tensor(gauss_heatmap_max) )\n",
    "# gauss_heatmap_max_normalized = tf.transpose(gauss_heatmap_max_normalized,[0,2,3,1], name = names[0]+'_max_norm') \n",
    "# print('    reshaped heatmap_max normalized: ', gauss_heatmap_max_normalized.shape,' Keras tensor ', KB.is_keras_tensor(gauss_heatmap_max_normalized) )\n",
    "\n",
    "##--------------------------------------------------------------------------------------------\n",
    "## APPEND ALL SCORES TO input score tensor TO YIELD output scores tensor\n",
    "##--------------------------------------------------------------------------------------------\n",
    "gauss_scores     = tf.concat([in_tensor, old_style_scores_by_class, alt_scores_1_by_class, alt_scores_1_norm, alt_scores_2_by_class, alt_scores_2_norm],\n",
    "                              axis = -1,name = names[0]+'_scores')\n",
    "logt('    gauss_scores    : ', gauss_scores, verbose = verbose)\n",
    "logt('    complete', verbose = verbose)\n",
    "\n",
    "#     return   gauss_heatmap_sum, gauss_scores  \n"
   ]
  },
  {
   "cell_type": "code",
   "execution_count": 35,
   "metadata": {
    "ExecuteTime": {
     "end_time": "2018-12-21T15:33:35.929632Z",
     "start_time": "2018-12-21T15:33:35.593259Z"
    }
   },
   "outputs": [
    {
     "data": {
      "text/plain": [
       "4"
      ]
     },
     "execution_count": 35,
     "metadata": {},
     "output_type": "execute_result"
    }
   ],
   "source": []
  },
  {
   "cell_type": "markdown",
   "metadata": {},
   "source": [
    "## setup tensors and call `build_heatmap()` "
   ]
  },
  {
   "cell_type": "markdown",
   "metadata": {},
   "source": [
    "### Evaluate results from `build_heatmap()`"
   ]
  },
  {
   "cell_type": "code",
   "execution_count": 75,
   "metadata": {
    "ExecuteTime": {
     "end_time": "2018-12-22T19:15:55.618961Z",
     "start_time": "2018-12-22T19:15:49.716233Z"
    },
    "hideCode": false,
    "hideOutput": false
   },
   "outputs": [],
   "source": [
    "#     pred_heatmap        = gauss_sum.eval()\n",
    "#     r_normalizer        = normalizer.eval()\n",
    "#     prob_grid           = prob_grid.eval()\n",
    "#     r_scores_from_sum2 = scores_from_sum2.eval()\n",
    "#     r_pt2_ind = pt2_ind.eval()\n",
    "#     r_pr_heatmap_scores = gauss_scores.eval()\n",
    "#     r_hm_indices        = hm_indices.eval()\n",
    " \n",
    "# del r_pr_heatmap, r_pr_heatmap_norm\n",
    "# del r_pr_heatmap_max, r_pr_heatmap_max_norm\n",
    "import keras.backend as KB\n",
    "sess = KB.get_session()\n",
    "with sess.as_default():\n",
    "    r_pt2_sum = pt2_sum.eval()\n",
    "    r_pt2_ind = pt2_ind.eval()\n",
    "    r_pt2_dense = pt2_dense.eval()\n",
    "    r_cx = cx.eval()\n",
    "    r_cy = cy.eval()\n",
    "    r_covar = covar.eval()\n",
    "    r_old_style_scores  = old_style_scores.eval()\n",
    "    r_alt_scores_1      = alt_scores_1.eval()\n",
    "    r_alt_scores_1_norm = alt_scores_1_norm.eval()\n",
    "    r_alt_scores_2      = alt_scores_2.eval()\n",
    "    r_alt_scores_2_norm = alt_scores_2_norm.eval()\n",
    "    r_gt_tensor         = gt_tensor.eval()\n",
    "    r_pr_tensor         = pr_tensor.eval()\n",
    "    r_pr_heatmap        = gauss_heatmap_sum.eval()\n",
    "    r_pr_heatmap_scores = gauss_scores.eval()\n",
    "#     r_gt_heatmap        = gt_heatmap.eval()\n",
    "#     r_gt_heatmap_scores = gt_heatmap_scores.eval()\n",
    "    \n",
    "#     r_pr_heatmap_norm   = gauss_heatmap_sum_normalized.eval()\n",
    "#     r_pr_heatmap_max        = gauss_heatmap_max.eval()\n",
    "#     r_pr_heatmap_max_norm   = gauss_heatmap_max_normalized.eval()\n"
   ]
  },
  {
   "cell_type": "code",
   "execution_count": 70,
   "metadata": {
    "ExecuteTime": {
     "end_time": "2018-12-22T19:13:37.982578Z",
     "start_time": "2018-12-22T19:13:37.612317Z"
    },
    "hideCode": false,
    "hideOutput": false,
    "scrolled": true
   },
   "outputs": [
    {
     "name": "stdout",
     "output_type": "stream",
     "text": [
      "(30,) (30,)\n",
      "(30, 2) False\n",
      "old style_scores:  (1, 7, 32, 3) True\n",
      "alt_scores_1:  (30, 3) True\n",
      "alt_scores_1_norm: (1, 7, 32, 3) True\n",
      "alt_scores_2:  (30, 3) True\n",
      "alt_scores_1_norm: (1, 7, 32, 3) True\n",
      "(1, 128, 128, 7) True\n",
      "(1, 7, 32, 23) True\n"
     ]
    }
   ],
   "source": [
    "# print(r_pr_tensor.shape, np.any(np.isnan(r_pr_tensor)))\n",
    "# print(r_gt_tensor.shape, np.any(np.isnan(r_gt_tensor)))\n",
    "print(r_cx.shape, r_cy.shape)\n",
    "print(r_covar.shape    , np.any(np.isnan(r_covar)))\n",
    "print('old style_scores: ',r_old_style_scores.shape, np.any(np.isnan(r_old_style_scores)))\n",
    "print('alt_scores_1: ',r_alt_scores_1.shape    , np.any(np.isnan(r_alt_scores_1)))\n",
    "print('alt_scores_1_norm:',r_alt_scores_1_norm.shape    , np.any(np.isnan(r_alt_scores_1_norm)))\n",
    "print('alt_scores_2: ',r_alt_scores_2.shape    , np.any(np.isnan(r_alt_scores_2)))\n",
    "print('alt_scores_1_norm:',r_alt_scores_2_norm.shape    , np.any(np.isnan(r_alt_scores_2_norm)))\n",
    "# print(r_gt_heatmap.shape, np.any(np.isnan(r_gt_heatmap)))\n",
    "# print(r_gt_heatmap_scores.shape, np.any(np.isnan(r_gt_heatmap_scores)))\n",
    "print(r_pr_heatmap.shape, np.any(np.isnan(r_pr_heatmap)))\n",
    "print(r_pr_heatmap_scores.shape, np.any(np.isnan(r_pr_heatmap_scores)))\n",
    "# print(r_pr_heatmap_scores2.shape)\n",
    "# print(r_pr_heatmap.shape, r_pr_heatmap_norm.shape)\n",
    "# print(r_pr_heatmap_max.shape, r_pr_heatmap_max_norm.shape)"
   ]
  },
  {
   "cell_type": "markdown",
   "metadata": {},
   "source": [
    "####  cx, cy, covar display"
   ]
  },
  {
   "cell_type": "code",
   "execution_count": 27,
   "metadata": {
    "ExecuteTime": {
     "end_time": "2018-12-22T18:27:22.109063Z",
     "start_time": "2018-12-22T18:27:21.770825Z"
    }
   },
   "outputs": [],
   "source": [
    "float_formatter = lambda x: \"%9.4f\" % x\n",
    "np_format = {}\n",
    "np_format['float']=float_formatter\n",
    "np.set_printoptions(linewidth=200, precision=3, floatmode='fixed', threshold =10000, formatter = np_format)   "
   ]
  },
  {
   "cell_type": "code",
   "execution_count": 79,
   "metadata": {
    "ExecuteTime": {
     "end_time": "2018-12-22T19:19:49.602450Z",
     "start_time": "2018-12-22T19:19:49.240193Z"
    }
   },
   "outputs": [
    {
     "name": "stdout",
     "output_type": "stream",
     "text": [
      "[[3 6 4 4 4 4 2 1 2 1 5 0 0 0 0 0 0 0 0 0 0 0 0 0 0 0 0 0 0 0 0 0 0 0 0 0 0 0 0 0 0 0 0 0 0 0 0 0 0 0 0 0 0 0 0 0 0 0 0 0 0 0 0 0 0 0 0 0 0 0 0 0 0 0 0 0 0 0 0 0 0 0 0 0 0 0 0 0 0 0 0 0 0 0 0 0\n",
      "  0 0 0 0]]\n",
      "[[ 11  36  26  51]\n",
      " [ 18  71  39 128]\n",
      " [ 39  56  70  81]\n",
      " [ 43  15  80  44]\n",
      " [ 43  93  82 122]\n",
      " [ 44  32  83  61]\n",
      " [ 70  39  88  80]\n",
      " [ 73  49  94  56]\n",
      " [ 91  15 115  74]\n",
      " [ 84  77  98  84]]\n",
      "(1, 7, 32, 8)\n",
      "[[   53.0235    19.9824    95.2360    82.0816     0.0000     0.9670    30.0000     0.9670]\n",
      " [   86.6734    86.2908   111.0361    97.5058     0.0000     0.9578    29.0000     0.9578]\n",
      " [   14.9455     0.0000    55.8076   102.5598     0.0000     0.9996    28.0000     0.9996]\n",
      " [   14.6624    25.8837    33.4111   113.6182     0.0000     1.0000    27.0000     1.0000]\n",
      " [   40.7928    37.4997    66.0669    65.3824     0.0000     0.9898    26.0000     0.9898]\n",
      " [   44.2736    63.3493    64.4356    78.3896     0.0000     0.9461    24.0000     0.9461]\n",
      " [  101.9695   112.0163   118.5898   125.0559     0.0000     1.0000    22.0000     1.0000]\n",
      " [   38.7291     0.0000    55.5968     0.0000     0.0000     1.0000    21.0000     1.0000]\n",
      " [   59.2791    70.7634    82.4240    83.7793     0.0000     0.9972    20.0000     0.9972]\n",
      " [   75.8250    67.7453   101.6825    78.4470     0.0000     0.7503    19.0000     0.7503]\n",
      " [   17.4968     6.8019    39.9803    57.8538     0.0000     1.0000    18.0000     1.0000]\n",
      " [   43.0479    82.7737    69.1404    91.1104     0.0000     0.9596    17.0000     0.9596]\n",
      " [   33.4979    28.6543    49.4658    83.8588     0.0000     1.0000    16.0000     1.0000]\n",
      " [    7.9541    54.3916    15.3438    82.2345     0.0000     1.0000    15.0000     1.0000]\n",
      " [   46.2388    78.2781    79.1214    91.8470     0.0000     0.9557    14.0000     0.9557]\n",
      " [   12.0644    63.9374    17.2763    81.4343     0.0000     1.0000    13.0000     1.0000]\n",
      " [   34.0872    77.2983    69.9459    91.1128     0.0000     1.0000    12.0000     1.0000]\n",
      " [    8.8874   100.3572    14.4491   128.0000     0.0000     1.0000    11.0000     1.0000]\n",
      " [   24.5047    24.6397    38.5974    71.2705     0.0000     1.0000    10.0000     1.0000]\n",
      " [   47.1173    65.6379    93.6681    93.7012     0.0000     0.9956     9.0000     0.9956]\n",
      " [   52.0072    56.2573    66.3936    61.8947     0.0000     1.0000     8.0000     1.0000]\n",
      " [   14.1036    81.5509    19.1490   126.9299     0.0000     1.0000     7.0000     1.0000]\n",
      " [  116.6177    93.6098   128.0000    97.1501     0.0000     1.0000     6.0000     1.0000]\n",
      " [   63.3246    73.9648    85.5720    94.0975     0.0000     0.9756     5.0000     0.9756]\n",
      " [    0.0000     0.1102     5.9473     7.7377     0.0000     1.0000     4.0000     1.0000]\n",
      " [   53.4572   120.7281    67.8714   125.4050     0.0000     0.9990     3.0000     0.9990]\n",
      " [    0.0000     0.0000     0.0000     0.0000     0.0000     1.0000     2.0000     1.0000]\n",
      " [    0.0000     0.0000     0.0000     0.0000     0.0000     1.0000     1.0000     1.0000]\n",
      " [    0.0000     0.0000     0.0000     0.0000     0.0000     0.0000     0.0000     0.0000]\n",
      " [    0.0000     0.0000     0.0000     0.0000     0.0000     0.0000     0.0000     0.0000]\n",
      " [    0.0000     0.0000     0.0000     0.0000     0.0000     0.0000     0.0000     0.0000]\n",
      " [    0.0000     0.0000     0.0000     0.0000     0.0000     0.0000     0.0000     0.0000]]\n"
     ]
    }
   ],
   "source": [
    "print(input_gt_class_ids)\n",
    "print(input_gt_bboxes[0,:10])\n",
    "print(r_pr_tensor.shape)\n",
    "print(r_pr_tensor[0,0,:])"
   ]
  },
  {
   "cell_type": "code",
   "execution_count": 55,
   "metadata": {
    "ExecuteTime": {
     "end_time": "2018-12-22T19:00:56.420478Z",
     "start_time": "2018-12-22T19:00:56.036205Z"
    },
    "scrolled": false
   },
   "outputs": [
    {
     "name": "stdout",
     "output_type": "stream",
     "text": [
      "Image ids:  [646]\n",
      " pt2_dense  : (30, 8)\n",
      "[[   53.0235    19.9824    95.2360    82.0816     0.0000     0.9670    30.0000     0.9670]\n",
      " [   86.6734    86.2908   111.0361    97.5058     0.0000     0.9578    29.0000     0.9578]\n",
      " [   14.9455     0.0000    55.8076   102.5598     0.0000     0.9996    28.0000     0.9996]\n",
      " [   14.6624    25.8837    33.4111   113.6182     0.0000     1.0000    27.0000     1.0000]\n",
      " [   40.7928    37.4997    66.0669    65.3824     0.0000     0.9898    26.0000     0.9898]\n",
      " [   44.2736    63.3493    64.4356    78.3896     0.0000     0.9461    24.0000     0.9461]\n",
      " [  101.9695   112.0163   118.5898   125.0559     0.0000     1.0000    22.0000     1.0000]\n",
      " [   38.7291     0.0000    55.5968     0.0000     0.0000     1.0000    21.0000     1.0000]\n",
      " [   59.2791    70.7634    82.4240    83.7793     0.0000     0.9972    20.0000     0.9972]\n",
      " [   75.8250    67.7453   101.6825    78.4470     0.0000     0.7503    19.0000     0.7503]\n",
      " [   17.4968     6.8019    39.9803    57.8538     0.0000     1.0000    18.0000     1.0000]\n",
      " [   43.0479    82.7737    69.1404    91.1104     0.0000     0.9596    17.0000     0.9596]\n",
      " [   33.4979    28.6543    49.4658    83.8588     0.0000     1.0000    16.0000     1.0000]\n",
      " [    7.9541    54.3916    15.3438    82.2345     0.0000     1.0000    15.0000     1.0000]\n",
      " [   46.2388    78.2781    79.1214    91.8470     0.0000     0.9557    14.0000     0.9557]\n",
      " [   12.0644    63.9374    17.2763    81.4343     0.0000     1.0000    13.0000     1.0000]\n",
      " [   34.0872    77.2983    69.9459    91.1128     0.0000     1.0000    12.0000     1.0000]\n",
      " [    8.8874   100.3572    14.4491   128.0000     0.0000     1.0000    11.0000     1.0000]\n",
      " [   24.5047    24.6397    38.5974    71.2705     0.0000     1.0000    10.0000     1.0000]\n",
      " [   47.1173    65.6379    93.6681    93.7012     0.0000     0.9956     9.0000     0.9956]\n",
      " [   52.0072    56.2573    66.3936    61.8947     0.0000     1.0000     8.0000     1.0000]\n",
      " [   14.1036    81.5509    19.1490   126.9299     0.0000     1.0000     7.0000     1.0000]\n",
      " [  116.6177    93.6098   128.0000    97.1501     0.0000     1.0000     6.0000     1.0000]\n",
      " [   63.3246    73.9648    85.5720    94.0975     0.0000     0.9756     5.0000     0.9756]\n",
      " [    0.0000     0.1102     5.9473     7.7377     0.0000     1.0000     4.0000     1.0000]\n",
      " [   53.4572   120.7281    67.8714   125.4050     0.0000     0.9990     3.0000     0.9990]\n",
      " [   72.2302    49.8056    97.5455    55.6874     1.0000     0.9501    31.0000     1.0000]\n",
      " [   91.3236    15.4016   116.1190    72.4899     2.0000     0.9920    32.0000     1.0000]\n",
      " [   89.3761    64.8715   128.0000   101.5119     5.0000     0.7075    25.0000     0.7165]\n",
      " [   88.8102    55.9146   128.0000   102.8674     5.0000     0.9874    23.0000     1.0000]]\n",
      " pt2_sum    : (1, 7, 32)\n",
      "[[[  250.3234   381.5062   173.3129   187.5755   209.7419   250.4481   457.6315    94.3260   296.2458   323.6998   122.1327   286.0723   195.4768   159.9239   295.4853   174.7125   272.4443\n",
      "     251.6936   159.0123   300.1245   236.5528   241.7335   435.3776   316.9589    13.7952   367.4618     0.0000     0.0000     0.0000     0.0000     0.0000     0.0000]\n",
      "  [  275.2687     0.0000     0.0000     0.0000     0.0000     0.0000     0.0000     0.0000     0.0000     0.0000     0.0000     0.0000     0.0000     0.0000     0.0000     0.0000     0.0000\n",
      "       0.0000     0.0000     0.0000     0.0000     0.0000     0.0000     0.0000     0.0000     0.0000     0.0000     0.0000     0.0000     0.0000     0.0000     0.0000]\n",
      "  [  295.3342     0.0000     0.0000     0.0000     0.0000     0.0000     0.0000     0.0000     0.0000     0.0000     0.0000     0.0000     0.0000     0.0000     0.0000     0.0000     0.0000\n",
      "       0.0000     0.0000     0.0000     0.0000     0.0000     0.0000     0.0000     0.0000     0.0000     0.0000     0.0000     0.0000     0.0000     0.0000     0.0000]\n",
      "  [    0.0000     0.0000     0.0000     0.0000     0.0000     0.0000     0.0000     0.0000     0.0000     0.0000     0.0000     0.0000     0.0000     0.0000     0.0000     0.0000     0.0000\n",
      "       0.0000     0.0000     0.0000     0.0000     0.0000     0.0000     0.0000     0.0000     0.0000     0.0000     0.0000     0.0000     0.0000     0.0000     0.0000]\n",
      "  [    0.0000     0.0000     0.0000     0.0000     0.0000     0.0000     0.0000     0.0000     0.0000     0.0000     0.0000     0.0000     0.0000     0.0000     0.0000     0.0000     0.0000\n",
      "       0.0000     0.0000     0.0000     0.0000     0.0000     0.0000     0.0000     0.0000     0.0000     0.0000     0.0000     0.0000     0.0000     0.0000     0.0000]\n",
      "  [  383.7595   375.5923     0.0000     0.0000     0.0000     0.0000     0.0000     0.0000     0.0000     0.0000     0.0000     0.0000     0.0000     0.0000     0.0000     0.0000     0.0000\n",
      "       0.0000     0.0000     0.0000     0.0000     0.0000     0.0000     0.0000     0.0000     0.0000     0.0000     0.0000     0.0000     0.0000     0.0000     0.0000]\n",
      "  [    0.0000     0.0000     0.0000     0.0000     0.0000     0.0000     0.0000     0.0000     0.0000     0.0000     0.0000     0.0000     0.0000     0.0000     0.0000     0.0000     0.0000\n",
      "       0.0000     0.0000     0.0000     0.0000     0.0000     0.0000     0.0000     0.0000     0.0000     0.0000     0.0000     0.0000     0.0000     0.0000     0.0000]]]\n",
      " cx / cy/ covar: (30,) (30,) (30, 2)\n",
      "[   51.0320    91.8983    51.2799    69.7510    51.4411    70.8695   118.5361     0.0000    77.2713    73.0961    32.3278    86.9420    56.2565    68.3130    85.0625    72.6859    84.2056\n",
      "   114.1786    47.9551    79.6696    59.0760   104.2404    95.3799    84.0312     3.9239   123.0666    52.7465    43.9457    83.1917    79.3910] [   74.1297    98.8548    35.3766    24.0368    53.4299    54.3546   110.2796    47.1630    70.8516    88.7537    28.7385    56.0941    41.4818    11.6489    62.6801    14.6704    52.0166\n",
      "    11.6682    31.5510    70.3927    59.2004    16.6263   122.3089    74.4483     2.9737    60.6643    84.8878   103.7213   108.6880   108.4051]\n",
      "56.25654 41.481842 [    5.2538     2.8256]\n",
      "\n",
      " r_xy_covar\n",
      "[[   51.0320    74.1297     5.5722     4.5942]\n",
      " [   91.8983    98.8548     2.3680     3.4902]\n",
      " [   51.2799    35.3766     7.1610     4.5201]\n",
      " [   69.7510    24.0368     6.6232     3.0618]\n",
      " [   51.4411    53.4299     3.7338     3.5549]\n",
      " [   70.8695    54.3546     2.7423     3.1751]\n",
      " [  118.5361   110.2796     2.5534     2.8827]\n",
      " [    0.0000    47.1630     0.0000     2.9041]\n",
      " [   77.2713    70.8516     2.5511     3.4018]\n",
      " [   73.0961    88.7537     2.3132     3.5957]\n",
      " [   32.3278    28.7385     5.0523     3.3529]\n",
      " [   86.9420    56.0941     2.0417     3.6120]\n",
      " [   56.2565    41.4818     5.2538     2.8256]\n",
      " [   68.3130    11.6489     3.7311     1.9222]\n",
      " [   85.0625    62.6801     2.6047     4.0548]\n",
      " [   72.6859    14.6704     2.9578     1.6143]\n",
      " [   84.2056    52.0166     2.6282     4.2343]\n",
      " [  114.1786    11.6682     3.7177     1.6676]\n",
      " [   47.9551    31.5510     4.8286     2.6545]\n",
      " [   79.6696    70.3927     3.7459     4.8245]\n",
      " [   59.0760    59.2004     1.6789     2.6820]\n",
      " [  104.2404    16.6263     4.7634     1.5883]\n",
      " [   95.3799   122.3089     1.3305     2.3856]\n",
      " [   84.0312    74.4483     3.1727     3.3352]\n",
      " [    3.9239     2.9737     1.9529     1.7244]\n",
      " [  123.0666    60.6643     1.5292     2.6846]\n",
      " [   52.7465    84.8878     1.7149     3.5578]\n",
      " [   43.9457   103.7213     5.3427     3.5210]\n",
      " [   83.1917   108.6880     4.2802     4.3945]\n",
      " [   79.3910   108.4051     4.8452     4.4266]]\n"
     ]
    }
   ],
   "source": [
    "# print(model_pr_heatmap_scores[0,0,:50])\n",
    "# print('Image ids: ', outputs['mrcnn_input'][1][:,0])\n",
    "print('Image ids: ', input_image_meta[:,0])\n",
    "print(' pt2_dense  :', r_pt2_dense.shape)\n",
    "print(r_pt2_dense)\n",
    "print(' pt2_sum    :', r_pt2_sum.shape)\n",
    "print(r_pt2_sum)\n",
    "\n",
    "# img_id = 0\n",
    "# gt_class_ids = np.unique(model_gt_heatmap_scores[img_id,:,:,4]).astype(int).tolist()\n",
    "# pr_class_ids = np.unique(model_pr_heatmap_scores[img_id,:,:,4]).astype(int).tolist()\n",
    "# print('Image : {}  GT ClassIds: {}'.format(img_id, gt_class_ids))\n",
    "# print('Image : {}  PR ClassIds: {}'.format(img_id, pr_class_ids))\n",
    "\n",
    "print(' cx / cy/ covar:', r_cy.shape, r_cy.shape, r_covar.shape)\n",
    "print(r_cx, r_cy)\n",
    "r_xy = np.stack([r_cx,r_cy ], axis = 1 )\n",
    "r_xy_covar = np.concatenate([r_xy, r_covar], axis = 1)\n",
    "print(r_cx[12], r_cy[12], r_covar[12,:])\n",
    "\n",
    "# print('\\n map_output')\n",
    "# print(r_map_output[:20])\n",
    "\n",
    "print('\\n r_xy_covar')\n",
    "print(r_xy_covar[:60])"
   ]
  },
  {
   "cell_type": "markdown",
   "metadata": {},
   "source": [
    "####  Second"
   ]
  },
  {
   "cell_type": "code",
   "execution_count": 44,
   "metadata": {
    "ExecuteTime": {
     "end_time": "2018-12-22T18:55:01.241370Z",
     "start_time": "2018-12-22T18:55:00.892122Z"
    }
   },
   "outputs": [
    {
     "name": "stdout",
     "output_type": "stream",
     "text": [
      "Image : 0        PR ClassIds: [0, 1, 2, 5]\n"
     ]
    }
   ],
   "source": [
    "float_formatter = lambda x: \"%10.4f\" % x\n",
    "np_format = {}\n",
    "np_format['float']=float_formatter\n",
    "np.set_printoptions(linewidth=195, precision=3, floatmode='fixed', threshold =10000, formatter = np_format)\n",
    "\n",
    "img_id = 0\n",
    "# gt_class_ids = np.unique(model_gt_heatmap_scores[img_id,:,:,4]).astype(int).tolist()\n",
    "# model_pr_class_ids = np.unique(model_pr_heatmap_scores[img_id,:,:,4]).astype(int).tolist()\n",
    "pr_class_ids = np.unique(r_pr_heatmap_scores[img_id,:,:,4]).astype(int).tolist()\n",
    "# pr_class_ids2 = np.unique(r_pr_heatmap_scores2[img_id,:,:,4]).astype(int).tolist()\n",
    "# print('Image : {}  MODEL GT ClassIds: {}'.format(img_id, gt_class_ids))\n",
    "# print('Image : {}  MODEL PR ClassIds: {}'.format(img_id, model_pr_class_ids))\n",
    "print('Image : {}        PR ClassIds: {}'.format(img_id, pr_class_ids))\n",
    "# print('Image : {}       PR2 ClassIds: {}'.format(img_id, pr_class_ids2))"
   ]
  },
  {
   "cell_type": "code",
   "execution_count": 77,
   "metadata": {
    "ExecuteTime": {
     "end_time": "2018-12-22T19:16:31.055782Z",
     "start_time": "2018-12-22T19:16:30.680514Z"
    }
   },
   "outputs": [
    {
     "name": "stdout",
     "output_type": "stream",
     "text": [
      "(30, 3)\n",
      "[[   80.3098   120.0000     0.6692]\n",
      " [   22.6811    35.0000     0.6480]\n",
      " [  104.1182   150.0000     0.6941]\n",
      " [   65.3395    98.0000     0.6667]\n",
      " [   42.6190    64.0000     0.6659]\n",
      " [   27.5187    42.0000     0.6552]\n",
      " [   23.5136    36.0000     0.6532]\n",
      " [       nan     0.0000        nan]\n",
      " [   27.7417    42.0000     0.6605]\n",
      " [   19.3863    40.0000     0.4847]\n",
      " [   53.6791    77.0000     0.6971]\n",
      " [   23.7854    40.0000     0.5946]\n",
      " [   45.7800    66.0000     0.6936]\n",
      " [   20.2710    32.0000     0.6335]\n",
      " [   34.3665    54.0000     0.6364]\n",
      " [   15.8966    24.0000     0.6624]\n",
      " [   35.9118    54.0000     0.6650]\n",
      " [   21.9129    32.0000     0.6848]\n",
      " [   40.3652    60.0000     0.6728]\n",
      " [   54.6213    80.0000     0.6828]\n",
      " [   15.3160    24.0000     0.6382]\n",
      " [   27.3874    40.0000     0.6847]\n",
      " [    9.7924    15.0000     0.6528]\n",
      " [   32.5500    49.0000     0.6643]\n",
      " [    9.1070    16.0000     0.5692]\n",
      " [   14.2047    24.0000     0.5919]\n",
      " [   21.6954    32.0000     0.6780]\n",
      " [   60.9193    88.0000     0.6923]\n",
      " [   40.3852    81.0000     0.4986]\n",
      " [   62.5959    90.0000     0.6955]]\n",
      "(30, 3)\n",
      "[[    1.0000  2621.3606     0.9670]\n",
      " [    0.9877   273.2257     0.9461]\n",
      " [    1.0000  4190.8013     0.9995]\n",
      " [    0.9970  1644.9088     0.9970]\n",
      " [    0.9994   704.7117     0.9892]\n",
      " [    0.9954   303.2412     0.9417]\n",
      " [    0.9880   216.7220     0.9880]\n",
      " [       nan     0.0000        nan]\n",
      " [    0.9915   301.2528     0.9887]\n",
      " [    0.9699   276.7182     0.7277]\n",
      " [    0.9992  1147.8231     0.9992]\n",
      " [    0.9571   217.5268     0.9185]\n",
      " [    0.9930   881.5027     0.9930]\n",
      " [    0.9296   205.7500     0.9296]\n",
      " [    0.9918   446.1810     0.9478]\n",
      " [    0.9356    91.1913     0.9356]\n",
      " [    0.9904   495.3679     0.9904]\n",
      " [    0.8619   153.7417     0.8619]\n",
      " [    0.9946   657.1556     0.9946]\n",
      " [    0.9999  1306.3644     0.9955]\n",
      " [    0.9087    81.1019     0.9087]\n",
      " [    0.9444   228.9539     0.9444]\n",
      " [    0.7797    40.2974     0.7797]\n",
      " [    0.9979   447.8980     0.9735]\n",
      " [    0.8716    45.3633     0.8716]\n",
      " [    0.8162    67.4125     0.8153]\n",
      " [    0.8440   148.8996     0.8440]\n",
      " [    0.9995  1415.5280     0.9995]\n",
      " [    1.0000  1415.1945     0.7165]\n",
      " [    1.0000  1840.0710     1.0000]]\n",
      "(30, 3)\n",
      "[[       nan   120.0000        nan]\n",
      " [       nan    35.0000        nan]\n",
      " [       nan   150.0000        nan]\n",
      " [       nan    98.0000        nan]\n",
      " [       nan    64.0000        nan]\n",
      " [       nan    42.0000        nan]\n",
      " [       nan    36.0000        nan]\n",
      " [       nan     0.0000        nan]\n",
      " [       nan    42.0000        nan]\n",
      " [       nan    40.0000        nan]\n",
      " [       nan    77.0000        nan]\n",
      " [       nan    40.0000        nan]\n",
      " [       nan    66.0000        nan]\n",
      " [       nan    32.0000        nan]\n",
      " [       nan    54.0000        nan]\n",
      " [       nan    24.0000        nan]\n",
      " [       nan    54.0000        nan]\n",
      " [       nan    32.0000        nan]\n",
      " [       nan    60.0000        nan]\n",
      " [       nan    80.0000        nan]\n",
      " [       nan    24.0000        nan]\n",
      " [       nan    40.0000        nan]\n",
      " [       nan    15.0000        nan]\n",
      " [       nan    49.0000        nan]\n",
      " [       nan    16.0000        nan]\n",
      " [       nan    24.0000        nan]\n",
      " [   21.6954    32.0000     0.6780]\n",
      " [   60.9193    88.0000     0.6923]\n",
      " [   50.1439    81.0000     0.6191]\n",
      " [   54.4358    90.0000     0.6048]]\n"
     ]
    }
   ],
   "source": [
    "print(r_alt_scores_1.shape)\n",
    "print(r_alt_scores_1)\n",
    "print(r_old_style_scores.shape)\n",
    "print(r_old_style_scores)\n",
    "print(r_alt_scores_2.shape)\n",
    "print(r_alt_scores_2)"
   ]
  },
  {
   "cell_type": "markdown",
   "metadata": {},
   "source": [
    "####  pr_heatmap_scores"
   ]
  },
  {
   "cell_type": "code",
   "execution_count": 64,
   "metadata": {
    "ExecuteTime": {
     "end_time": "2018-12-22T19:03:51.200766Z",
     "start_time": "2018-12-22T19:03:50.639579Z"
    },
    "scrolled": false
   },
   "outputs": [
    {
     "name": "stdout",
     "output_type": "stream",
     "text": [
      "(1, 7, 32, 23)\n",
      "[0, 1, 2, 5]\n",
      "\n",
      "class: 0 - BG predicted in MRCNN\n",
      "                                                                      Y1, X1, Y2,X2:   [   53.0235    19.9824    95.2360    82.0816]\n",
      "                                                   class, score, seqIid, norm_score:   [    0.0000     0.9670    30.0000     0.9670]\n",
      "                                                             r_pr  old style_scores:   [    1.0000  2621.3606     0.9670]\n",
      "                                                                 model alt_scores_1:   [   80.3098   120.0000     0.6692     0.7713     0.8000     0.9600]\n",
      "                                                                 r_pr  alt_scores_2:   [       nan   120.0000        nan        nan     0.8000        nan]\n",
      "\n",
      "\n",
      "                                                                      Y1, X1, Y2,X2:   [   86.6734    86.2908   111.0361    97.5058]\n",
      "                                                   class, score, seqIid, norm_score:   [    0.0000     0.9578    29.0000     0.9578]\n",
      "                                                             r_pr  old style_scores:   [    0.9877   273.2257     0.9461]\n",
      "                                                                 model alt_scores_1:   [   22.6811    35.0000     0.6480     0.2178     0.2333     0.9296]\n",
      "                                                                 r_pr  alt_scores_2:   [       nan    35.0000        nan        nan     0.2333        nan]\n",
      "\n",
      "\n",
      "                                                                      Y1, X1, Y2,X2:   [   14.9455     0.0000    55.8076   102.5598]\n",
      "                                                   class, score, seqIid, norm_score:   [    0.0000     0.9996    28.0000     0.9996]\n",
      "                                                             r_pr  old style_scores:   [    1.0000  4190.8013     0.9995]\n",
      "                                                                 model alt_scores_1:   [  104.1182   150.0000     0.6941     1.0000     1.0000     0.9957]\n",
      "                                                                 r_pr  alt_scores_2:   [       nan   150.0000        nan        nan     1.0000        nan]\n",
      "\n",
      "\n",
      "                                                                      Y1, X1, Y2,X2:   [   14.6624    25.8837    33.4111   113.6182]\n",
      "                                                   class, score, seqIid, norm_score:   [    0.0000     1.0000    27.0000     1.0000]\n",
      "                                                             r_pr  old style_scores:   [    0.9970  1644.9088     0.9970]\n",
      "                                                                 model alt_scores_1:   [   65.3395    98.0000     0.6667     0.6276     0.6533     0.9564]\n",
      "                                                                 r_pr  alt_scores_2:   [       nan    98.0000        nan        nan     0.6533        nan]\n",
      "\n",
      "\n",
      "                                                                      Y1, X1, Y2,X2:   [   40.7928    37.4997    66.0669    65.3824]\n",
      "                                                   class, score, seqIid, norm_score:   [    0.0000     0.9898    26.0000     0.9898]\n",
      "                                                             r_pr  old style_scores:   [    0.9994   704.7117     0.9892]\n",
      "                                                                 model alt_scores_1:   [   42.6190    64.0000     0.6659     0.4093     0.4267     0.9552]\n",
      "                                                                 r_pr  alt_scores_2:   [       nan    64.0000        nan        nan     0.4267        nan]\n",
      "\n",
      "\n",
      "                                                                      Y1, X1, Y2,X2:   [   44.2736    63.3493    64.4356    78.3896]\n",
      "                                                   class, score, seqIid, norm_score:   [    0.0000     0.9461    24.0000     0.9461]\n",
      "                                                             r_pr  old style_scores:   [    0.9954   303.2412     0.9417]\n",
      "                                                                 model alt_scores_1:   [   27.5187    42.0000     0.6552     0.2643     0.2800     0.9399]\n",
      "                                                                 r_pr  alt_scores_2:   [       nan    42.0000        nan        nan     0.2800        nan]\n",
      "\n",
      "\n",
      "                                                                      Y1, X1, Y2,X2:   [  101.9695   112.0163   118.5898   125.0559]\n",
      "                                                   class, score, seqIid, norm_score:   [    0.0000     1.0000    22.0000     1.0000]\n",
      "                                                             r_pr  old style_scores:   [    0.9880   216.7220     0.9880]\n",
      "                                                                 model alt_scores_1:   [   23.5136    36.0000     0.6532     0.2258     0.2400     0.9369]\n",
      "                                                                 r_pr  alt_scores_2:   [       nan    36.0000        nan        nan     0.2400        nan]\n",
      "\n",
      "\n",
      "                                                                      Y1, X1, Y2,X2:   [   38.7291     0.0000    55.5968     0.0000]\n",
      "                                                   class, score, seqIid, norm_score:   [    0.0000     1.0000    21.0000     1.0000]\n",
      "                                                             r_pr  old style_scores:   [       nan     0.0000        nan]\n",
      "                                                                 model alt_scores_1:   [       nan     0.0000        nan        nan     0.0000        nan]\n",
      "                                                                 r_pr  alt_scores_2:   [       nan     0.0000        nan        nan     0.0000        nan]\n",
      "\n",
      "\n",
      "                                                                      Y1, X1, Y2,X2:   [   59.2791    70.7634    82.4240    83.7793]\n",
      "                                                   class, score, seqIid, norm_score:   [    0.0000     0.9972    20.0000     0.9972]\n",
      "                                                             r_pr  old style_scores:   [    0.9915   301.2528     0.9887]\n",
      "                                                                 model alt_scores_1:   [   27.7417    42.0000     0.6605     0.2664     0.2800     0.9475]\n",
      "                                                                 r_pr  alt_scores_2:   [       nan    42.0000        nan        nan     0.2800        nan]\n",
      "\n",
      "\n",
      "                                                                      Y1, X1, Y2,X2:   [   75.8250    67.7453   101.6825    78.4470]\n",
      "                                                   class, score, seqIid, norm_score:   [    0.0000     0.7503    19.0000     0.7503]\n",
      "                                                             r_pr  old style_scores:   [    0.9699   276.7182     0.7277]\n",
      "                                                                 model alt_scores_1:   [   19.3863    40.0000     0.4847     0.1862     0.2667     0.6952]\n",
      "                                                                 r_pr  alt_scores_2:   [       nan    40.0000        nan        nan     0.2667        nan]\n",
      "\n",
      "\n",
      "                                                                      Y1, X1, Y2,X2:   [   17.4968     6.8019    39.9803    57.8538]\n",
      "                                                   class, score, seqIid, norm_score:   [    0.0000     1.0000    18.0000     1.0000]\n",
      "                                                             r_pr  old style_scores:   [    0.9992  1147.8231     0.9992]\n",
      "                                                                 model alt_scores_1:   [   53.6791    77.0000     0.6971     0.5156     0.5133     1.0000]\n",
      "                                                                 r_pr  alt_scores_2:   [       nan    77.0000        nan        nan     0.5133        nan]\n",
      "\n",
      "\n",
      "                                                                      Y1, X1, Y2,X2:   [   43.0479    82.7737    69.1404    91.1104]\n",
      "                                                   class, score, seqIid, norm_score:   [    0.0000     0.9596    17.0000     0.9596]\n",
      "                                                             r_pr  old style_scores:   [    0.9571   217.5268     0.9185]\n",
      "                                                                 model alt_scores_1:   [   23.7854    40.0000     0.5946     0.2284     0.2667     0.8530]\n",
      "                                                                 r_pr  alt_scores_2:   [       nan    40.0000        nan        nan     0.2667        nan]\n",
      "\n",
      "\n",
      "                                                                      Y1, X1, Y2,X2:   [   33.4979    28.6543    49.4658    83.8588]\n",
      "                                                   class, score, seqIid, norm_score:   [    0.0000     1.0000    16.0000     1.0000]\n",
      "                                                             r_pr  old style_scores:   [    0.9930   881.5027     0.9930]\n",
      "                                                                 model alt_scores_1:   [   45.7800    66.0000     0.6936     0.4397     0.4400     0.9950]\n",
      "                                                                 r_pr  alt_scores_2:   [       nan    66.0000        nan        nan     0.4400        nan]\n",
      "\n",
      "\n",
      "                                                                      Y1, X1, Y2,X2:   [    7.9541    54.3916    15.3438    82.2345]\n",
      "                                                   class, score, seqIid, norm_score:   [    0.0000     1.0000    15.0000     1.0000]\n",
      "                                                             r_pr  old style_scores:   [    0.9296   205.7500     0.9296]\n",
      "                                                                 model alt_scores_1:   [   20.2710    32.0000     0.6335     0.1947     0.2133     0.9087]\n",
      "                                                                 r_pr  alt_scores_2:   [       nan    32.0000        nan        nan     0.2133        nan]\n",
      "\n",
      "\n",
      "                                                                      Y1, X1, Y2,X2:   [   46.2388    78.2781    79.1214    91.8470]\n",
      "                                                   class, score, seqIid, norm_score:   [    0.0000     0.9557    14.0000     0.9557]\n",
      "                                                             r_pr  old style_scores:   [    0.9918   446.1810     0.9478]\n",
      "                                                                 model alt_scores_1:   [   34.3665    54.0000     0.6364     0.3301     0.3600     0.9129]\n",
      "                                                                 r_pr  alt_scores_2:   [       nan    54.0000        nan        nan     0.3600        nan]\n",
      "\n",
      "\n",
      "                                                                      Y1, X1, Y2,X2:   [   12.0644    63.9374    17.2763    81.4343]\n",
      "                                                   class, score, seqIid, norm_score:   [    0.0000     1.0000    13.0000     1.0000]\n",
      "                                                             r_pr  old style_scores:   [    0.9356    91.1913     0.9356]\n",
      "                                                                 model alt_scores_1:   [   15.8966    24.0000     0.6624     0.1527     0.1600     0.9501]\n",
      "                                                                 r_pr  alt_scores_2:   [       nan    24.0000        nan        nan     0.1600        nan]\n",
      "\n",
      "\n",
      "                                                                      Y1, X1, Y2,X2:   [   34.0872    77.2983    69.9459    91.1128]\n",
      "                                                   class, score, seqIid, norm_score:   [    0.0000     1.0000    12.0000     1.0000]\n",
      "                                                             r_pr  old style_scores:   [    0.9904   495.3679     0.9904]\n",
      "                                                                 model alt_scores_1:   [   35.9118    54.0000     0.6650     0.3449     0.3600     0.9540]\n",
      "                                                                 r_pr  alt_scores_2:   [       nan    54.0000        nan        nan     0.3600        nan]\n",
      "\n",
      "\n",
      "                                                                      Y1, X1, Y2,X2:   [    8.8874   100.3572    14.4491   128.0000]\n",
      "                                                   class, score, seqIid, norm_score:   [    0.0000     1.0000    11.0000     1.0000]\n",
      "                                                             r_pr  old style_scores:   [    0.8619   153.7417     0.8619]\n",
      "                                                                 model alt_scores_1:   [   21.9129    32.0000     0.6848     0.2105     0.2133     0.9823]\n",
      "                                                                 r_pr  alt_scores_2:   [       nan    32.0000        nan        nan     0.2133        nan]\n",
      "\n",
      "\n",
      "                                                                      Y1, X1, Y2,X2:   [   24.5047    24.6397    38.5974    71.2705]\n",
      "                                                   class, score, seqIid, norm_score:   [    0.0000     1.0000    10.0000     1.0000]\n",
      "                                                             r_pr  old style_scores:   [    0.9946   657.1556     0.9946]\n",
      "                                                                 model alt_scores_1:   [   40.3652    60.0000     0.6728     0.3877     0.4000     0.9650]\n",
      "                                                                 r_pr  alt_scores_2:   [       nan    60.0000        nan        nan     0.4000        nan]\n",
      "\n",
      "\n",
      "                                                                      Y1, X1, Y2,X2:   [   47.1173    65.6379    93.6681    93.7012]\n",
      "                                                   class, score, seqIid, norm_score:   [    0.0000     0.9956     9.0000     0.9956]\n",
      "                                                             r_pr  old style_scores:   [    0.9999  1306.3644     0.9955]\n",
      "                                                                 model alt_scores_1:   [   54.6213    80.0000     0.6828     0.5246     0.5333     0.9794]\n",
      "                                                                 r_pr  alt_scores_2:   [       nan    80.0000        nan        nan     0.5333        nan]\n",
      "\n",
      "\n",
      "                                                                      Y1, X1, Y2,X2:   [   52.0072    56.2573    66.3936    61.8947]\n",
      "                                                   class, score, seqIid, norm_score:   [    0.0000     1.0000     8.0000     1.0000]\n",
      "                                                             r_pr  old style_scores:   [    0.9087    81.1019     0.9087]\n",
      "                                                                 model alt_scores_1:   [   15.3160    24.0000     0.6382     0.1471     0.1600     0.9154]\n",
      "                                                                 r_pr  alt_scores_2:   [       nan    24.0000        nan        nan     0.1600        nan]\n",
      "\n",
      "\n",
      "                                                                      Y1, X1, Y2,X2:   [   14.1036    81.5509    19.1490   126.9299]\n",
      "                                                   class, score, seqIid, norm_score:   [    0.0000     1.0000     7.0000     1.0000]\n",
      "                                                             r_pr  old style_scores:   [    0.9444   228.9539     0.9444]\n",
      "                                                                 model alt_scores_1:   [   27.3874    40.0000     0.6847     0.2630     0.2667     0.9821]\n",
      "                                                                 r_pr  alt_scores_2:   [       nan    40.0000        nan        nan     0.2667        nan]\n",
      "\n",
      "\n",
      "                                                                      Y1, X1, Y2,X2:   [  116.6177    93.6098   128.0000    97.1501]\n",
      "                                                   class, score, seqIid, norm_score:   [    0.0000     1.0000     6.0000     1.0000]\n",
      "                                                             r_pr  old style_scores:   [    0.7797    40.2974     0.7797]\n",
      "                                                                 model alt_scores_1:   [    9.7924    15.0000     0.6528     0.0941     0.1000     0.9365]\n",
      "                                                                 r_pr  alt_scores_2:   [       nan    15.0000        nan        nan     0.1000        nan]\n",
      "\n",
      "\n",
      "                                                                      Y1, X1, Y2,X2:   [   63.3246    73.9648    85.5720    94.0975]\n",
      "                                                   class, score, seqIid, norm_score:   [    0.0000     0.9756     5.0000     0.9756]\n",
      "                                                             r_pr  old style_scores:   [    0.9979   447.8980     0.9735]\n",
      "                                                                 model alt_scores_1:   [   32.5500    49.0000     0.6643     0.3126     0.3267     0.9529]\n",
      "                                                                 r_pr  alt_scores_2:   [       nan    49.0000        nan        nan     0.3267        nan]\n",
      "\n",
      "\n",
      "                                                                      Y1, X1, Y2,X2:   [    0.0000     0.1102     5.9473     7.7377]\n",
      "                                                   class, score, seqIid, norm_score:   [    0.0000     1.0000     4.0000     1.0000]\n",
      "                                                             r_pr  old style_scores:   [    0.8716    45.3633     0.8716]\n",
      "                                                                 model alt_scores_1:   [    9.1070    16.0000     0.5692     0.0875     0.1067     0.8165]\n",
      "                                                                 r_pr  alt_scores_2:   [       nan    16.0000        nan        nan     0.1067        nan]\n",
      "\n",
      "\n",
      "                                                                      Y1, X1, Y2,X2:   [   53.4572   120.7281    67.8714   125.4050]\n",
      "                                                   class, score, seqIid, norm_score:   [    0.0000     0.9990     3.0000     0.9990]\n",
      "                                                             r_pr  old style_scores:   [    0.8162    67.4125     0.8153]\n",
      "                                                                 model alt_scores_1:   [   14.2047    24.0000     0.5919     0.1364     0.1600     0.8490]\n",
      "                                                                 r_pr  alt_scores_2:   [       nan    24.0000        nan        nan     0.1600        nan]\n",
      "\n",
      "\n",
      "                                                                      Y1, X1, Y2,X2:   [    0.0000     0.0000     0.0000     0.0000]\n",
      "                                                   class, score, seqIid, norm_score:   [    0.0000     1.0000     2.0000     1.0000]\n",
      "                                                             r_pr  old style_scores:   [    0.0000     0.0000     0.0000]\n",
      "                                                                 model alt_scores_1:   [    0.0000     0.0000     0.0000     0.0000     0.0000     0.0000]\n",
      "                                                                 r_pr  alt_scores_2:   [    0.0000     0.0000     0.0000     0.0000     0.0000     0.0000]\n",
      "\n",
      "\n",
      "                                                                      Y1, X1, Y2,X2:   [    0.0000     0.0000     0.0000     0.0000]\n",
      "                                                   class, score, seqIid, norm_score:   [    0.0000     1.0000     1.0000     1.0000]\n",
      "                                                             r_pr  old style_scores:   [    0.0000     0.0000     0.0000]\n",
      "                                                                 model alt_scores_1:   [    0.0000     0.0000     0.0000     0.0000     0.0000     0.0000]\n",
      "                                                                 r_pr  alt_scores_2:   [    0.0000     0.0000     0.0000     0.0000     0.0000     0.0000]\n",
      "\n",
      "\n",
      "                                                                      Y1, X1, Y2,X2:   [    0.0000     0.0000     0.0000     0.0000]\n",
      "                                                   class, score, seqIid, norm_score:   [    0.0000     0.0000     0.0000     0.0000]\n",
      "                                                             r_pr  old style_scores:   [    0.0000     0.0000     0.0000]\n",
      "                                                                 model alt_scores_1:   [    0.0000     0.0000     0.0000     0.0000     0.0000     0.0000]\n",
      "                                                                 r_pr  alt_scores_2:   [    0.0000     0.0000     0.0000     0.0000     0.0000     0.0000]\n",
      "\n",
      "\n",
      "                                                                      Y1, X1, Y2,X2:   [    0.0000     0.0000     0.0000     0.0000]\n",
      "                                                   class, score, seqIid, norm_score:   [    0.0000     0.0000     0.0000     0.0000]\n",
      "                                                             r_pr  old style_scores:   [    0.0000     0.0000     0.0000]\n",
      "                                                                 model alt_scores_1:   [    0.0000     0.0000     0.0000     0.0000     0.0000     0.0000]\n",
      "                                                                 r_pr  alt_scores_2:   [    0.0000     0.0000     0.0000     0.0000     0.0000     0.0000]\n",
      "\n",
      "\n",
      "                                                                      Y1, X1, Y2,X2:   [    0.0000     0.0000     0.0000     0.0000]\n",
      "                                                   class, score, seqIid, norm_score:   [    0.0000     0.0000     0.0000     0.0000]\n",
      "                                                             r_pr  old style_scores:   [    0.0000     0.0000     0.0000]\n",
      "                                                                 model alt_scores_1:   [    0.0000     0.0000     0.0000     0.0000     0.0000     0.0000]\n",
      "                                                                 r_pr  alt_scores_2:   [    0.0000     0.0000     0.0000     0.0000     0.0000     0.0000]\n",
      "\n",
      "\n",
      "                                                                      Y1, X1, Y2,X2:   [    0.0000     0.0000     0.0000     0.0000]\n",
      "                                                   class, score, seqIid, norm_score:   [    0.0000     0.0000     0.0000     0.0000]\n",
      "                                                             r_pr  old style_scores:   [    0.0000     0.0000     0.0000]\n",
      "                                                                 model alt_scores_1:   [    0.0000     0.0000     0.0000     0.0000     0.0000     0.0000]\n",
      "                                                                 r_pr  alt_scores_2:   [    0.0000     0.0000     0.0000     0.0000     0.0000     0.0000]\n",
      "\n",
      "\n",
      "\n",
      "class: 1 - person predicted in MRCNN\n",
      "                                                                      Y1, X1, Y2,X2:   [   72.2302    49.8056    97.5455    55.6874]\n",
      "                                                   class, score, seqIid, norm_score:   [    1.0000     0.9501    31.0000     1.0000]\n",
      "                                                             r_pr  old style_scores:   [    0.8440   148.8996     0.8440]\n",
      "                                                                 model alt_scores_1:   [   21.6954    32.0000     0.6780     1.0000     1.0000     1.0000]\n",
      "                                                                 r_pr  alt_scores_2:   [   21.6954    32.0000     0.6780     1.0000     1.0000     1.0000]\n",
      "\n",
      "\n",
      "                                                                      Y1, X1, Y2,X2:   [    0.0000     0.0000     0.0000     0.0000]\n",
      "                                                   class, score, seqIid, norm_score:   [    0.0000     0.0000     0.0000     0.0000]\n",
      "                                                             r_pr  old style_scores:   [    0.0000     0.0000     0.0000]\n",
      "                                                                 model alt_scores_1:   [    0.0000     0.0000     0.0000     0.0000     0.0000     0.0000]\n",
      "                                                                 r_pr  alt_scores_2:   [    0.0000     0.0000     0.0000     0.0000     0.0000     0.0000]\n",
      "\n",
      "\n",
      "                                                                      Y1, X1, Y2,X2:   [    0.0000     0.0000     0.0000     0.0000]\n",
      "                                                   class, score, seqIid, norm_score:   [    0.0000     0.0000     0.0000     0.0000]\n",
      "                                                             r_pr  old style_scores:   [    0.0000     0.0000     0.0000]\n",
      "                                                                 model alt_scores_1:   [    0.0000     0.0000     0.0000     0.0000     0.0000     0.0000]\n",
      "                                                                 r_pr  alt_scores_2:   [    0.0000     0.0000     0.0000     0.0000     0.0000     0.0000]\n",
      "\n",
      "\n",
      "                                                                      Y1, X1, Y2,X2:   [    0.0000     0.0000     0.0000     0.0000]\n",
      "                                                   class, score, seqIid, norm_score:   [    0.0000     0.0000     0.0000     0.0000]\n",
      "                                                             r_pr  old style_scores:   [    0.0000     0.0000     0.0000]\n",
      "                                                                 model alt_scores_1:   [    0.0000     0.0000     0.0000     0.0000     0.0000     0.0000]\n",
      "                                                                 r_pr  alt_scores_2:   [    0.0000     0.0000     0.0000     0.0000     0.0000     0.0000]\n",
      "\n",
      "\n",
      "                                                                      Y1, X1, Y2,X2:   [    0.0000     0.0000     0.0000     0.0000]\n",
      "                                                   class, score, seqIid, norm_score:   [    0.0000     0.0000     0.0000     0.0000]\n",
      "                                                             r_pr  old style_scores:   [    0.0000     0.0000     0.0000]\n",
      "                                                                 model alt_scores_1:   [    0.0000     0.0000     0.0000     0.0000     0.0000     0.0000]\n",
      "                                                                 r_pr  alt_scores_2:   [    0.0000     0.0000     0.0000     0.0000     0.0000     0.0000]\n",
      "\n",
      "\n",
      "                                                                      Y1, X1, Y2,X2:   [    0.0000     0.0000     0.0000     0.0000]\n",
      "                                                   class, score, seqIid, norm_score:   [    0.0000     0.0000     0.0000     0.0000]\n",
      "                                                             r_pr  old style_scores:   [    0.0000     0.0000     0.0000]\n",
      "                                                                 model alt_scores_1:   [    0.0000     0.0000     0.0000     0.0000     0.0000     0.0000]\n",
      "                                                                 r_pr  alt_scores_2:   [    0.0000     0.0000     0.0000     0.0000     0.0000     0.0000]\n",
      "\n",
      "\n",
      "                                                                      Y1, X1, Y2,X2:   [    0.0000     0.0000     0.0000     0.0000]\n",
      "                                                   class, score, seqIid, norm_score:   [    0.0000     0.0000     0.0000     0.0000]\n",
      "                                                             r_pr  old style_scores:   [    0.0000     0.0000     0.0000]\n",
      "                                                                 model alt_scores_1:   [    0.0000     0.0000     0.0000     0.0000     0.0000     0.0000]\n",
      "                                                                 r_pr  alt_scores_2:   [    0.0000     0.0000     0.0000     0.0000     0.0000     0.0000]\n",
      "\n",
      "\n",
      "                                                                      Y1, X1, Y2,X2:   [    0.0000     0.0000     0.0000     0.0000]\n",
      "                                                   class, score, seqIid, norm_score:   [    0.0000     0.0000     0.0000     0.0000]\n",
      "                                                             r_pr  old style_scores:   [    0.0000     0.0000     0.0000]\n",
      "                                                                 model alt_scores_1:   [    0.0000     0.0000     0.0000     0.0000     0.0000     0.0000]\n",
      "                                                                 r_pr  alt_scores_2:   [    0.0000     0.0000     0.0000     0.0000     0.0000     0.0000]\n",
      "\n",
      "\n",
      "                                                                      Y1, X1, Y2,X2:   [    0.0000     0.0000     0.0000     0.0000]\n",
      "                                                   class, score, seqIid, norm_score:   [    0.0000     0.0000     0.0000     0.0000]\n",
      "                                                             r_pr  old style_scores:   [    0.0000     0.0000     0.0000]\n",
      "                                                                 model alt_scores_1:   [    0.0000     0.0000     0.0000     0.0000     0.0000     0.0000]\n",
      "                                                                 r_pr  alt_scores_2:   [    0.0000     0.0000     0.0000     0.0000     0.0000     0.0000]\n",
      "\n",
      "\n",
      "                                                                      Y1, X1, Y2,X2:   [    0.0000     0.0000     0.0000     0.0000]\n",
      "                                                   class, score, seqIid, norm_score:   [    0.0000     0.0000     0.0000     0.0000]\n",
      "                                                             r_pr  old style_scores:   [    0.0000     0.0000     0.0000]\n",
      "                                                                 model alt_scores_1:   [    0.0000     0.0000     0.0000     0.0000     0.0000     0.0000]\n",
      "                                                                 r_pr  alt_scores_2:   [    0.0000     0.0000     0.0000     0.0000     0.0000     0.0000]\n",
      "\n",
      "\n",
      "                                                                      Y1, X1, Y2,X2:   [    0.0000     0.0000     0.0000     0.0000]\n",
      "                                                   class, score, seqIid, norm_score:   [    0.0000     0.0000     0.0000     0.0000]\n",
      "                                                             r_pr  old style_scores:   [    0.0000     0.0000     0.0000]\n",
      "                                                                 model alt_scores_1:   [    0.0000     0.0000     0.0000     0.0000     0.0000     0.0000]\n",
      "                                                                 r_pr  alt_scores_2:   [    0.0000     0.0000     0.0000     0.0000     0.0000     0.0000]\n",
      "\n",
      "\n",
      "                                                                      Y1, X1, Y2,X2:   [    0.0000     0.0000     0.0000     0.0000]\n",
      "                                                   class, score, seqIid, norm_score:   [    0.0000     0.0000     0.0000     0.0000]\n",
      "                                                             r_pr  old style_scores:   [    0.0000     0.0000     0.0000]\n",
      "                                                                 model alt_scores_1:   [    0.0000     0.0000     0.0000     0.0000     0.0000     0.0000]\n",
      "                                                                 r_pr  alt_scores_2:   [    0.0000     0.0000     0.0000     0.0000     0.0000     0.0000]\n",
      "\n",
      "\n",
      "                                                                      Y1, X1, Y2,X2:   [    0.0000     0.0000     0.0000     0.0000]\n",
      "                                                   class, score, seqIid, norm_score:   [    0.0000     0.0000     0.0000     0.0000]\n",
      "                                                             r_pr  old style_scores:   [    0.0000     0.0000     0.0000]\n",
      "                                                                 model alt_scores_1:   [    0.0000     0.0000     0.0000     0.0000     0.0000     0.0000]\n",
      "                                                                 r_pr  alt_scores_2:   [    0.0000     0.0000     0.0000     0.0000     0.0000     0.0000]\n",
      "\n",
      "\n",
      "                                                                      Y1, X1, Y2,X2:   [    0.0000     0.0000     0.0000     0.0000]\n",
      "                                                   class, score, seqIid, norm_score:   [    0.0000     0.0000     0.0000     0.0000]\n",
      "                                                             r_pr  old style_scores:   [    0.0000     0.0000     0.0000]\n",
      "                                                                 model alt_scores_1:   [    0.0000     0.0000     0.0000     0.0000     0.0000     0.0000]\n",
      "                                                                 r_pr  alt_scores_2:   [    0.0000     0.0000     0.0000     0.0000     0.0000     0.0000]\n",
      "\n",
      "\n",
      "                                                                      Y1, X1, Y2,X2:   [    0.0000     0.0000     0.0000     0.0000]\n",
      "                                                   class, score, seqIid, norm_score:   [    0.0000     0.0000     0.0000     0.0000]\n",
      "                                                             r_pr  old style_scores:   [    0.0000     0.0000     0.0000]\n",
      "                                                                 model alt_scores_1:   [    0.0000     0.0000     0.0000     0.0000     0.0000     0.0000]\n",
      "                                                                 r_pr  alt_scores_2:   [    0.0000     0.0000     0.0000     0.0000     0.0000     0.0000]\n",
      "\n",
      "\n",
      "                                                                      Y1, X1, Y2,X2:   [    0.0000     0.0000     0.0000     0.0000]\n",
      "                                                   class, score, seqIid, norm_score:   [    0.0000     0.0000     0.0000     0.0000]\n",
      "                                                             r_pr  old style_scores:   [    0.0000     0.0000     0.0000]\n",
      "                                                                 model alt_scores_1:   [    0.0000     0.0000     0.0000     0.0000     0.0000     0.0000]\n",
      "                                                                 r_pr  alt_scores_2:   [    0.0000     0.0000     0.0000     0.0000     0.0000     0.0000]\n",
      "\n",
      "\n",
      "                                                                      Y1, X1, Y2,X2:   [    0.0000     0.0000     0.0000     0.0000]\n",
      "                                                   class, score, seqIid, norm_score:   [    0.0000     0.0000     0.0000     0.0000]\n",
      "                                                             r_pr  old style_scores:   [    0.0000     0.0000     0.0000]\n",
      "                                                                 model alt_scores_1:   [    0.0000     0.0000     0.0000     0.0000     0.0000     0.0000]\n",
      "                                                                 r_pr  alt_scores_2:   [    0.0000     0.0000     0.0000     0.0000     0.0000     0.0000]\n",
      "\n",
      "\n",
      "                                                                      Y1, X1, Y2,X2:   [    0.0000     0.0000     0.0000     0.0000]\n",
      "                                                   class, score, seqIid, norm_score:   [    0.0000     0.0000     0.0000     0.0000]\n",
      "                                                             r_pr  old style_scores:   [    0.0000     0.0000     0.0000]\n",
      "                                                                 model alt_scores_1:   [    0.0000     0.0000     0.0000     0.0000     0.0000     0.0000]\n",
      "                                                                 r_pr  alt_scores_2:   [    0.0000     0.0000     0.0000     0.0000     0.0000     0.0000]\n",
      "\n",
      "\n",
      "                                                                      Y1, X1, Y2,X2:   [    0.0000     0.0000     0.0000     0.0000]\n",
      "                                                   class, score, seqIid, norm_score:   [    0.0000     0.0000     0.0000     0.0000]\n",
      "                                                             r_pr  old style_scores:   [    0.0000     0.0000     0.0000]\n",
      "                                                                 model alt_scores_1:   [    0.0000     0.0000     0.0000     0.0000     0.0000     0.0000]\n",
      "                                                                 r_pr  alt_scores_2:   [    0.0000     0.0000     0.0000     0.0000     0.0000     0.0000]\n",
      "\n",
      "\n",
      "                                                                      Y1, X1, Y2,X2:   [    0.0000     0.0000     0.0000     0.0000]\n",
      "                                                   class, score, seqIid, norm_score:   [    0.0000     0.0000     0.0000     0.0000]\n",
      "                                                             r_pr  old style_scores:   [    0.0000     0.0000     0.0000]\n",
      "                                                                 model alt_scores_1:   [    0.0000     0.0000     0.0000     0.0000     0.0000     0.0000]\n",
      "                                                                 r_pr  alt_scores_2:   [    0.0000     0.0000     0.0000     0.0000     0.0000     0.0000]\n",
      "\n",
      "\n",
      "                                                                      Y1, X1, Y2,X2:   [    0.0000     0.0000     0.0000     0.0000]\n",
      "                                                   class, score, seqIid, norm_score:   [    0.0000     0.0000     0.0000     0.0000]\n",
      "                                                             r_pr  old style_scores:   [    0.0000     0.0000     0.0000]\n",
      "                                                                 model alt_scores_1:   [    0.0000     0.0000     0.0000     0.0000     0.0000     0.0000]\n",
      "                                                                 r_pr  alt_scores_2:   [    0.0000     0.0000     0.0000     0.0000     0.0000     0.0000]\n",
      "\n",
      "\n",
      "                                                                      Y1, X1, Y2,X2:   [    0.0000     0.0000     0.0000     0.0000]\n",
      "                                                   class, score, seqIid, norm_score:   [    0.0000     0.0000     0.0000     0.0000]\n",
      "                                                             r_pr  old style_scores:   [    0.0000     0.0000     0.0000]\n",
      "                                                                 model alt_scores_1:   [    0.0000     0.0000     0.0000     0.0000     0.0000     0.0000]\n",
      "                                                                 r_pr  alt_scores_2:   [    0.0000     0.0000     0.0000     0.0000     0.0000     0.0000]\n",
      "\n",
      "\n",
      "                                                                      Y1, X1, Y2,X2:   [    0.0000     0.0000     0.0000     0.0000]\n",
      "                                                   class, score, seqIid, norm_score:   [    0.0000     0.0000     0.0000     0.0000]\n",
      "                                                             r_pr  old style_scores:   [    0.0000     0.0000     0.0000]\n",
      "                                                                 model alt_scores_1:   [    0.0000     0.0000     0.0000     0.0000     0.0000     0.0000]\n",
      "                                                                 r_pr  alt_scores_2:   [    0.0000     0.0000     0.0000     0.0000     0.0000     0.0000]\n",
      "\n",
      "\n",
      "                                                                      Y1, X1, Y2,X2:   [    0.0000     0.0000     0.0000     0.0000]\n",
      "                                                   class, score, seqIid, norm_score:   [    0.0000     0.0000     0.0000     0.0000]\n",
      "                                                             r_pr  old style_scores:   [    0.0000     0.0000     0.0000]\n",
      "                                                                 model alt_scores_1:   [    0.0000     0.0000     0.0000     0.0000     0.0000     0.0000]\n",
      "                                                                 r_pr  alt_scores_2:   [    0.0000     0.0000     0.0000     0.0000     0.0000     0.0000]\n",
      "\n",
      "\n",
      "                                                                      Y1, X1, Y2,X2:   [    0.0000     0.0000     0.0000     0.0000]\n",
      "                                                   class, score, seqIid, norm_score:   [    0.0000     0.0000     0.0000     0.0000]\n",
      "                                                             r_pr  old style_scores:   [    0.0000     0.0000     0.0000]\n",
      "                                                                 model alt_scores_1:   [    0.0000     0.0000     0.0000     0.0000     0.0000     0.0000]\n",
      "                                                                 r_pr  alt_scores_2:   [    0.0000     0.0000     0.0000     0.0000     0.0000     0.0000]\n",
      "\n",
      "\n",
      "                                                                      Y1, X1, Y2,X2:   [    0.0000     0.0000     0.0000     0.0000]\n",
      "                                                   class, score, seqIid, norm_score:   [    0.0000     0.0000     0.0000     0.0000]\n",
      "                                                             r_pr  old style_scores:   [    0.0000     0.0000     0.0000]\n",
      "                                                                 model alt_scores_1:   [    0.0000     0.0000     0.0000     0.0000     0.0000     0.0000]\n",
      "                                                                 r_pr  alt_scores_2:   [    0.0000     0.0000     0.0000     0.0000     0.0000     0.0000]\n",
      "\n",
      "\n",
      "                                                                      Y1, X1, Y2,X2:   [    0.0000     0.0000     0.0000     0.0000]\n",
      "                                                   class, score, seqIid, norm_score:   [    0.0000     0.0000     0.0000     0.0000]\n",
      "                                                             r_pr  old style_scores:   [    0.0000     0.0000     0.0000]\n",
      "                                                                 model alt_scores_1:   [    0.0000     0.0000     0.0000     0.0000     0.0000     0.0000]\n",
      "                                                                 r_pr  alt_scores_2:   [    0.0000     0.0000     0.0000     0.0000     0.0000     0.0000]\n",
      "\n",
      "\n",
      "                                                                      Y1, X1, Y2,X2:   [    0.0000     0.0000     0.0000     0.0000]\n",
      "                                                   class, score, seqIid, norm_score:   [    0.0000     0.0000     0.0000     0.0000]\n",
      "                                                             r_pr  old style_scores:   [    0.0000     0.0000     0.0000]\n",
      "                                                                 model alt_scores_1:   [    0.0000     0.0000     0.0000     0.0000     0.0000     0.0000]\n",
      "                                                                 r_pr  alt_scores_2:   [    0.0000     0.0000     0.0000     0.0000     0.0000     0.0000]\n",
      "\n",
      "\n",
      "                                                                      Y1, X1, Y2,X2:   [    0.0000     0.0000     0.0000     0.0000]\n",
      "                                                   class, score, seqIid, norm_score:   [    0.0000     0.0000     0.0000     0.0000]\n",
      "                                                             r_pr  old style_scores:   [    0.0000     0.0000     0.0000]\n",
      "                                                                 model alt_scores_1:   [    0.0000     0.0000     0.0000     0.0000     0.0000     0.0000]\n",
      "                                                                 r_pr  alt_scores_2:   [    0.0000     0.0000     0.0000     0.0000     0.0000     0.0000]\n",
      "\n",
      "\n",
      "                                                                      Y1, X1, Y2,X2:   [    0.0000     0.0000     0.0000     0.0000]\n",
      "                                                   class, score, seqIid, norm_score:   [    0.0000     0.0000     0.0000     0.0000]\n",
      "                                                             r_pr  old style_scores:   [    0.0000     0.0000     0.0000]\n",
      "                                                                 model alt_scores_1:   [    0.0000     0.0000     0.0000     0.0000     0.0000     0.0000]\n",
      "                                                                 r_pr  alt_scores_2:   [    0.0000     0.0000     0.0000     0.0000     0.0000     0.0000]\n",
      "\n",
      "\n",
      "                                                                      Y1, X1, Y2,X2:   [    0.0000     0.0000     0.0000     0.0000]\n",
      "                                                   class, score, seqIid, norm_score:   [    0.0000     0.0000     0.0000     0.0000]\n",
      "                                                             r_pr  old style_scores:   [    0.0000     0.0000     0.0000]\n",
      "                                                                 model alt_scores_1:   [    0.0000     0.0000     0.0000     0.0000     0.0000     0.0000]\n",
      "                                                                 r_pr  alt_scores_2:   [    0.0000     0.0000     0.0000     0.0000     0.0000     0.0000]\n",
      "\n",
      "\n",
      "                                                                      Y1, X1, Y2,X2:   [    0.0000     0.0000     0.0000     0.0000]\n",
      "                                                   class, score, seqIid, norm_score:   [    0.0000     0.0000     0.0000     0.0000]\n",
      "                                                             r_pr  old style_scores:   [    0.0000     0.0000     0.0000]\n",
      "                                                                 model alt_scores_1:   [    0.0000     0.0000     0.0000     0.0000     0.0000     0.0000]\n",
      "                                                                 r_pr  alt_scores_2:   [    0.0000     0.0000     0.0000     0.0000     0.0000     0.0000]\n",
      "\n",
      "\n",
      "\n",
      "class: 2 - car predicted in MRCNN\n",
      "                                                                      Y1, X1, Y2,X2:   [   91.3236    15.4016   116.1190    72.4899]\n",
      "                                                   class, score, seqIid, norm_score:   [    2.0000     0.9920    32.0000     1.0000]\n",
      "                                                             r_pr  old style_scores:   [    0.9995  1415.5280     0.9995]\n",
      "                                                                 model alt_scores_1:   [   60.9193    88.0000     0.6923     1.0000     1.0000     1.0000]\n",
      "                                                                 r_pr  alt_scores_2:   [   60.9193    88.0000     0.6923     1.0000     1.0000     1.0000]\n",
      "\n",
      "\n",
      "                                                                      Y1, X1, Y2,X2:   [    0.0000     0.0000     0.0000     0.0000]\n",
      "                                                   class, score, seqIid, norm_score:   [    0.0000     0.0000     0.0000     0.0000]\n",
      "                                                             r_pr  old style_scores:   [    0.0000     0.0000     0.0000]\n",
      "                                                                 model alt_scores_1:   [    0.0000     0.0000     0.0000     0.0000     0.0000     0.0000]\n",
      "                                                                 r_pr  alt_scores_2:   [    0.0000     0.0000     0.0000     0.0000     0.0000     0.0000]\n",
      "\n",
      "\n",
      "                                                                      Y1, X1, Y2,X2:   [    0.0000     0.0000     0.0000     0.0000]\n",
      "                                                   class, score, seqIid, norm_score:   [    0.0000     0.0000     0.0000     0.0000]\n",
      "                                                             r_pr  old style_scores:   [    0.0000     0.0000     0.0000]\n",
      "                                                                 model alt_scores_1:   [    0.0000     0.0000     0.0000     0.0000     0.0000     0.0000]\n",
      "                                                                 r_pr  alt_scores_2:   [    0.0000     0.0000     0.0000     0.0000     0.0000     0.0000]\n",
      "\n",
      "\n",
      "                                                                      Y1, X1, Y2,X2:   [    0.0000     0.0000     0.0000     0.0000]\n",
      "                                                   class, score, seqIid, norm_score:   [    0.0000     0.0000     0.0000     0.0000]\n",
      "                                                             r_pr  old style_scores:   [    0.0000     0.0000     0.0000]\n",
      "                                                                 model alt_scores_1:   [    0.0000     0.0000     0.0000     0.0000     0.0000     0.0000]\n",
      "                                                                 r_pr  alt_scores_2:   [    0.0000     0.0000     0.0000     0.0000     0.0000     0.0000]\n",
      "\n",
      "\n",
      "                                                                      Y1, X1, Y2,X2:   [    0.0000     0.0000     0.0000     0.0000]\n",
      "                                                   class, score, seqIid, norm_score:   [    0.0000     0.0000     0.0000     0.0000]\n",
      "                                                             r_pr  old style_scores:   [    0.0000     0.0000     0.0000]\n",
      "                                                                 model alt_scores_1:   [    0.0000     0.0000     0.0000     0.0000     0.0000     0.0000]\n",
      "                                                                 r_pr  alt_scores_2:   [    0.0000     0.0000     0.0000     0.0000     0.0000     0.0000]\n",
      "\n",
      "\n",
      "                                                                      Y1, X1, Y2,X2:   [    0.0000     0.0000     0.0000     0.0000]\n",
      "                                                   class, score, seqIid, norm_score:   [    0.0000     0.0000     0.0000     0.0000]\n",
      "                                                             r_pr  old style_scores:   [    0.0000     0.0000     0.0000]\n",
      "                                                                 model alt_scores_1:   [    0.0000     0.0000     0.0000     0.0000     0.0000     0.0000]\n",
      "                                                                 r_pr  alt_scores_2:   [    0.0000     0.0000     0.0000     0.0000     0.0000     0.0000]\n",
      "\n",
      "\n",
      "                                                                      Y1, X1, Y2,X2:   [    0.0000     0.0000     0.0000     0.0000]\n",
      "                                                   class, score, seqIid, norm_score:   [    0.0000     0.0000     0.0000     0.0000]\n",
      "                                                             r_pr  old style_scores:   [    0.0000     0.0000     0.0000]\n",
      "                                                                 model alt_scores_1:   [    0.0000     0.0000     0.0000     0.0000     0.0000     0.0000]\n",
      "                                                                 r_pr  alt_scores_2:   [    0.0000     0.0000     0.0000     0.0000     0.0000     0.0000]\n",
      "\n",
      "\n",
      "                                                                      Y1, X1, Y2,X2:   [    0.0000     0.0000     0.0000     0.0000]\n",
      "                                                   class, score, seqIid, norm_score:   [    0.0000     0.0000     0.0000     0.0000]\n",
      "                                                             r_pr  old style_scores:   [    0.0000     0.0000     0.0000]\n",
      "                                                                 model alt_scores_1:   [    0.0000     0.0000     0.0000     0.0000     0.0000     0.0000]\n",
      "                                                                 r_pr  alt_scores_2:   [    0.0000     0.0000     0.0000     0.0000     0.0000     0.0000]\n",
      "\n",
      "\n",
      "                                                                      Y1, X1, Y2,X2:   [    0.0000     0.0000     0.0000     0.0000]\n",
      "                                                   class, score, seqIid, norm_score:   [    0.0000     0.0000     0.0000     0.0000]\n",
      "                                                             r_pr  old style_scores:   [    0.0000     0.0000     0.0000]\n",
      "                                                                 model alt_scores_1:   [    0.0000     0.0000     0.0000     0.0000     0.0000     0.0000]\n",
      "                                                                 r_pr  alt_scores_2:   [    0.0000     0.0000     0.0000     0.0000     0.0000     0.0000]\n",
      "\n",
      "\n",
      "                                                                      Y1, X1, Y2,X2:   [    0.0000     0.0000     0.0000     0.0000]\n",
      "                                                   class, score, seqIid, norm_score:   [    0.0000     0.0000     0.0000     0.0000]\n",
      "                                                             r_pr  old style_scores:   [    0.0000     0.0000     0.0000]\n",
      "                                                                 model alt_scores_1:   [    0.0000     0.0000     0.0000     0.0000     0.0000     0.0000]\n",
      "                                                                 r_pr  alt_scores_2:   [    0.0000     0.0000     0.0000     0.0000     0.0000     0.0000]\n",
      "\n",
      "\n",
      "                                                                      Y1, X1, Y2,X2:   [    0.0000     0.0000     0.0000     0.0000]\n",
      "                                                   class, score, seqIid, norm_score:   [    0.0000     0.0000     0.0000     0.0000]\n",
      "                                                             r_pr  old style_scores:   [    0.0000     0.0000     0.0000]\n",
      "                                                                 model alt_scores_1:   [    0.0000     0.0000     0.0000     0.0000     0.0000     0.0000]\n",
      "                                                                 r_pr  alt_scores_2:   [    0.0000     0.0000     0.0000     0.0000     0.0000     0.0000]\n",
      "\n",
      "\n",
      "                                                                      Y1, X1, Y2,X2:   [    0.0000     0.0000     0.0000     0.0000]\n",
      "                                                   class, score, seqIid, norm_score:   [    0.0000     0.0000     0.0000     0.0000]\n",
      "                                                             r_pr  old style_scores:   [    0.0000     0.0000     0.0000]\n",
      "                                                                 model alt_scores_1:   [    0.0000     0.0000     0.0000     0.0000     0.0000     0.0000]\n",
      "                                                                 r_pr  alt_scores_2:   [    0.0000     0.0000     0.0000     0.0000     0.0000     0.0000]\n",
      "\n",
      "\n",
      "                                                                      Y1, X1, Y2,X2:   [    0.0000     0.0000     0.0000     0.0000]\n",
      "                                                   class, score, seqIid, norm_score:   [    0.0000     0.0000     0.0000     0.0000]\n",
      "                                                             r_pr  old style_scores:   [    0.0000     0.0000     0.0000]\n",
      "                                                                 model alt_scores_1:   [    0.0000     0.0000     0.0000     0.0000     0.0000     0.0000]\n",
      "                                                                 r_pr  alt_scores_2:   [    0.0000     0.0000     0.0000     0.0000     0.0000     0.0000]\n",
      "\n",
      "\n",
      "                                                                      Y1, X1, Y2,X2:   [    0.0000     0.0000     0.0000     0.0000]\n",
      "                                                   class, score, seqIid, norm_score:   [    0.0000     0.0000     0.0000     0.0000]\n",
      "                                                             r_pr  old style_scores:   [    0.0000     0.0000     0.0000]\n",
      "                                                                 model alt_scores_1:   [    0.0000     0.0000     0.0000     0.0000     0.0000     0.0000]\n",
      "                                                                 r_pr  alt_scores_2:   [    0.0000     0.0000     0.0000     0.0000     0.0000     0.0000]\n",
      "\n",
      "\n",
      "                                                                      Y1, X1, Y2,X2:   [    0.0000     0.0000     0.0000     0.0000]\n",
      "                                                   class, score, seqIid, norm_score:   [    0.0000     0.0000     0.0000     0.0000]\n",
      "                                                             r_pr  old style_scores:   [    0.0000     0.0000     0.0000]\n",
      "                                                                 model alt_scores_1:   [    0.0000     0.0000     0.0000     0.0000     0.0000     0.0000]\n",
      "                                                                 r_pr  alt_scores_2:   [    0.0000     0.0000     0.0000     0.0000     0.0000     0.0000]\n",
      "\n",
      "\n",
      "                                                                      Y1, X1, Y2,X2:   [    0.0000     0.0000     0.0000     0.0000]\n",
      "                                                   class, score, seqIid, norm_score:   [    0.0000     0.0000     0.0000     0.0000]\n",
      "                                                             r_pr  old style_scores:   [    0.0000     0.0000     0.0000]\n",
      "                                                                 model alt_scores_1:   [    0.0000     0.0000     0.0000     0.0000     0.0000     0.0000]\n",
      "                                                                 r_pr  alt_scores_2:   [    0.0000     0.0000     0.0000     0.0000     0.0000     0.0000]\n",
      "\n",
      "\n",
      "                                                                      Y1, X1, Y2,X2:   [    0.0000     0.0000     0.0000     0.0000]\n",
      "                                                   class, score, seqIid, norm_score:   [    0.0000     0.0000     0.0000     0.0000]\n",
      "                                                             r_pr  old style_scores:   [    0.0000     0.0000     0.0000]\n",
      "                                                                 model alt_scores_1:   [    0.0000     0.0000     0.0000     0.0000     0.0000     0.0000]\n",
      "                                                                 r_pr  alt_scores_2:   [    0.0000     0.0000     0.0000     0.0000     0.0000     0.0000]\n",
      "\n",
      "\n",
      "                                                                      Y1, X1, Y2,X2:   [    0.0000     0.0000     0.0000     0.0000]\n",
      "                                                   class, score, seqIid, norm_score:   [    0.0000     0.0000     0.0000     0.0000]\n",
      "                                                             r_pr  old style_scores:   [    0.0000     0.0000     0.0000]\n",
      "                                                                 model alt_scores_1:   [    0.0000     0.0000     0.0000     0.0000     0.0000     0.0000]\n",
      "                                                                 r_pr  alt_scores_2:   [    0.0000     0.0000     0.0000     0.0000     0.0000     0.0000]\n",
      "\n",
      "\n",
      "                                                                      Y1, X1, Y2,X2:   [    0.0000     0.0000     0.0000     0.0000]\n",
      "                                                   class, score, seqIid, norm_score:   [    0.0000     0.0000     0.0000     0.0000]\n",
      "                                                             r_pr  old style_scores:   [    0.0000     0.0000     0.0000]\n",
      "                                                                 model alt_scores_1:   [    0.0000     0.0000     0.0000     0.0000     0.0000     0.0000]\n",
      "                                                                 r_pr  alt_scores_2:   [    0.0000     0.0000     0.0000     0.0000     0.0000     0.0000]\n",
      "\n",
      "\n",
      "                                                                      Y1, X1, Y2,X2:   [    0.0000     0.0000     0.0000     0.0000]\n",
      "                                                   class, score, seqIid, norm_score:   [    0.0000     0.0000     0.0000     0.0000]\n",
      "                                                             r_pr  old style_scores:   [    0.0000     0.0000     0.0000]\n",
      "                                                                 model alt_scores_1:   [    0.0000     0.0000     0.0000     0.0000     0.0000     0.0000]\n",
      "                                                                 r_pr  alt_scores_2:   [    0.0000     0.0000     0.0000     0.0000     0.0000     0.0000]\n",
      "\n",
      "\n",
      "                                                                      Y1, X1, Y2,X2:   [    0.0000     0.0000     0.0000     0.0000]\n",
      "                                                   class, score, seqIid, norm_score:   [    0.0000     0.0000     0.0000     0.0000]\n",
      "                                                             r_pr  old style_scores:   [    0.0000     0.0000     0.0000]\n",
      "                                                                 model alt_scores_1:   [    0.0000     0.0000     0.0000     0.0000     0.0000     0.0000]\n",
      "                                                                 r_pr  alt_scores_2:   [    0.0000     0.0000     0.0000     0.0000     0.0000     0.0000]\n",
      "\n",
      "\n",
      "                                                                      Y1, X1, Y2,X2:   [    0.0000     0.0000     0.0000     0.0000]\n",
      "                                                   class, score, seqIid, norm_score:   [    0.0000     0.0000     0.0000     0.0000]\n",
      "                                                             r_pr  old style_scores:   [    0.0000     0.0000     0.0000]\n",
      "                                                                 model alt_scores_1:   [    0.0000     0.0000     0.0000     0.0000     0.0000     0.0000]\n",
      "                                                                 r_pr  alt_scores_2:   [    0.0000     0.0000     0.0000     0.0000     0.0000     0.0000]\n",
      "\n",
      "\n",
      "                                                                      Y1, X1, Y2,X2:   [    0.0000     0.0000     0.0000     0.0000]\n",
      "                                                   class, score, seqIid, norm_score:   [    0.0000     0.0000     0.0000     0.0000]\n",
      "                                                             r_pr  old style_scores:   [    0.0000     0.0000     0.0000]\n",
      "                                                                 model alt_scores_1:   [    0.0000     0.0000     0.0000     0.0000     0.0000     0.0000]\n",
      "                                                                 r_pr  alt_scores_2:   [    0.0000     0.0000     0.0000     0.0000     0.0000     0.0000]\n",
      "\n",
      "\n",
      "                                                                      Y1, X1, Y2,X2:   [    0.0000     0.0000     0.0000     0.0000]\n",
      "                                                   class, score, seqIid, norm_score:   [    0.0000     0.0000     0.0000     0.0000]\n",
      "                                                             r_pr  old style_scores:   [    0.0000     0.0000     0.0000]\n",
      "                                                                 model alt_scores_1:   [    0.0000     0.0000     0.0000     0.0000     0.0000     0.0000]\n",
      "                                                                 r_pr  alt_scores_2:   [    0.0000     0.0000     0.0000     0.0000     0.0000     0.0000]\n",
      "\n",
      "\n",
      "                                                                      Y1, X1, Y2,X2:   [    0.0000     0.0000     0.0000     0.0000]\n",
      "                                                   class, score, seqIid, norm_score:   [    0.0000     0.0000     0.0000     0.0000]\n",
      "                                                             r_pr  old style_scores:   [    0.0000     0.0000     0.0000]\n",
      "                                                                 model alt_scores_1:   [    0.0000     0.0000     0.0000     0.0000     0.0000     0.0000]\n",
      "                                                                 r_pr  alt_scores_2:   [    0.0000     0.0000     0.0000     0.0000     0.0000     0.0000]\n",
      "\n",
      "\n",
      "                                                                      Y1, X1, Y2,X2:   [    0.0000     0.0000     0.0000     0.0000]\n",
      "                                                   class, score, seqIid, norm_score:   [    0.0000     0.0000     0.0000     0.0000]\n",
      "                                                             r_pr  old style_scores:   [    0.0000     0.0000     0.0000]\n",
      "                                                                 model alt_scores_1:   [    0.0000     0.0000     0.0000     0.0000     0.0000     0.0000]\n",
      "                                                                 r_pr  alt_scores_2:   [    0.0000     0.0000     0.0000     0.0000     0.0000     0.0000]\n",
      "\n",
      "\n",
      "                                                                      Y1, X1, Y2,X2:   [    0.0000     0.0000     0.0000     0.0000]\n",
      "                                                   class, score, seqIid, norm_score:   [    0.0000     0.0000     0.0000     0.0000]\n",
      "                                                             r_pr  old style_scores:   [    0.0000     0.0000     0.0000]\n",
      "                                                                 model alt_scores_1:   [    0.0000     0.0000     0.0000     0.0000     0.0000     0.0000]\n",
      "                                                                 r_pr  alt_scores_2:   [    0.0000     0.0000     0.0000     0.0000     0.0000     0.0000]\n",
      "\n",
      "\n",
      "                                                                      Y1, X1, Y2,X2:   [    0.0000     0.0000     0.0000     0.0000]\n",
      "                                                   class, score, seqIid, norm_score:   [    0.0000     0.0000     0.0000     0.0000]\n",
      "                                                             r_pr  old style_scores:   [    0.0000     0.0000     0.0000]\n",
      "                                                                 model alt_scores_1:   [    0.0000     0.0000     0.0000     0.0000     0.0000     0.0000]\n",
      "                                                                 r_pr  alt_scores_2:   [    0.0000     0.0000     0.0000     0.0000     0.0000     0.0000]\n",
      "\n",
      "\n",
      "                                                                      Y1, X1, Y2,X2:   [    0.0000     0.0000     0.0000     0.0000]\n",
      "                                                   class, score, seqIid, norm_score:   [    0.0000     0.0000     0.0000     0.0000]\n",
      "                                                             r_pr  old style_scores:   [    0.0000     0.0000     0.0000]\n",
      "                                                                 model alt_scores_1:   [    0.0000     0.0000     0.0000     0.0000     0.0000     0.0000]\n",
      "                                                                 r_pr  alt_scores_2:   [    0.0000     0.0000     0.0000     0.0000     0.0000     0.0000]\n",
      "\n",
      "\n",
      "                                                                      Y1, X1, Y2,X2:   [    0.0000     0.0000     0.0000     0.0000]\n",
      "                                                   class, score, seqIid, norm_score:   [    0.0000     0.0000     0.0000     0.0000]\n",
      "                                                             r_pr  old style_scores:   [    0.0000     0.0000     0.0000]\n",
      "                                                                 model alt_scores_1:   [    0.0000     0.0000     0.0000     0.0000     0.0000     0.0000]\n",
      "                                                                 r_pr  alt_scores_2:   [    0.0000     0.0000     0.0000     0.0000     0.0000     0.0000]\n",
      "\n",
      "\n",
      "                                                                      Y1, X1, Y2,X2:   [    0.0000     0.0000     0.0000     0.0000]\n",
      "                                                   class, score, seqIid, norm_score:   [    0.0000     0.0000     0.0000     0.0000]\n",
      "                                                             r_pr  old style_scores:   [    0.0000     0.0000     0.0000]\n",
      "                                                                 model alt_scores_1:   [    0.0000     0.0000     0.0000     0.0000     0.0000     0.0000]\n",
      "                                                                 r_pr  alt_scores_2:   [    0.0000     0.0000     0.0000     0.0000     0.0000     0.0000]\n",
      "\n",
      "\n",
      "                                                                      Y1, X1, Y2,X2:   [    0.0000     0.0000     0.0000     0.0000]\n",
      "                                                   class, score, seqIid, norm_score:   [    0.0000     0.0000     0.0000     0.0000]\n",
      "                                                             r_pr  old style_scores:   [    0.0000     0.0000     0.0000]\n",
      "                                                                 model alt_scores_1:   [    0.0000     0.0000     0.0000     0.0000     0.0000     0.0000]\n",
      "                                                                 r_pr  alt_scores_2:   [    0.0000     0.0000     0.0000     0.0000     0.0000     0.0000]\n",
      "\n",
      "\n",
      "\n",
      "class: 5 - tree predicted in MRCNN\n",
      "                                                                      Y1, X1, Y2,X2:   [   89.3761    64.8715   128.0000   101.5119]\n",
      "                                                   class, score, seqIid, norm_score:   [    5.0000     0.7075    25.0000     0.7165]\n",
      "                                                             r_pr  old style_scores:   [    1.0000  1415.1945     0.7165]\n",
      "                                                                 model alt_scores_1:   [   40.3852    81.0000     0.4986     0.6452     0.9000     0.7169]\n",
      "                                                                 r_pr  alt_scores_2:   [   50.1439    81.0000     0.6191     0.9212     0.9000     1.0000]\n",
      "\n",
      "\n",
      "                                                                      Y1, X1, Y2,X2:   [   88.8102    55.9146   128.0000   102.8674]\n",
      "                                                   class, score, seqIid, norm_score:   [    5.0000     0.9874    23.0000     1.0000]\n",
      "                                                             r_pr  old style_scores:   [    1.0000  1840.0710     1.0000]\n",
      "                                                                 model alt_scores_1:   [   62.5959    90.0000     0.6955     1.0000     1.0000     1.0000]\n",
      "                                                                 r_pr  alt_scores_2:   [   54.4358    90.0000     0.6048     1.0000     1.0000     0.9770]\n",
      "\n",
      "\n",
      "                                                                      Y1, X1, Y2,X2:   [    0.0000     0.0000     0.0000     0.0000]\n",
      "                                                   class, score, seqIid, norm_score:   [    0.0000     0.0000     0.0000     0.0000]\n",
      "                                                             r_pr  old style_scores:   [    0.0000     0.0000     0.0000]\n",
      "                                                                 model alt_scores_1:   [    0.0000     0.0000     0.0000     0.0000     0.0000     0.0000]\n",
      "                                                                 r_pr  alt_scores_2:   [    0.0000     0.0000     0.0000     0.0000     0.0000     0.0000]\n",
      "\n",
      "\n",
      "                                                                      Y1, X1, Y2,X2:   [    0.0000     0.0000     0.0000     0.0000]\n",
      "                                                   class, score, seqIid, norm_score:   [    0.0000     0.0000     0.0000     0.0000]\n",
      "                                                             r_pr  old style_scores:   [    0.0000     0.0000     0.0000]\n",
      "                                                                 model alt_scores_1:   [    0.0000     0.0000     0.0000     0.0000     0.0000     0.0000]\n",
      "                                                                 r_pr  alt_scores_2:   [    0.0000     0.0000     0.0000     0.0000     0.0000     0.0000]\n",
      "\n",
      "\n",
      "                                                                      Y1, X1, Y2,X2:   [    0.0000     0.0000     0.0000     0.0000]\n",
      "                                                   class, score, seqIid, norm_score:   [    0.0000     0.0000     0.0000     0.0000]\n",
      "                                                             r_pr  old style_scores:   [    0.0000     0.0000     0.0000]\n",
      "                                                                 model alt_scores_1:   [    0.0000     0.0000     0.0000     0.0000     0.0000     0.0000]\n",
      "                                                                 r_pr  alt_scores_2:   [    0.0000     0.0000     0.0000     0.0000     0.0000     0.0000]\n",
      "\n",
      "\n",
      "                                                                      Y1, X1, Y2,X2:   [    0.0000     0.0000     0.0000     0.0000]\n",
      "                                                   class, score, seqIid, norm_score:   [    0.0000     0.0000     0.0000     0.0000]\n",
      "                                                             r_pr  old style_scores:   [    0.0000     0.0000     0.0000]\n",
      "                                                                 model alt_scores_1:   [    0.0000     0.0000     0.0000     0.0000     0.0000     0.0000]\n",
      "                                                                 r_pr  alt_scores_2:   [    0.0000     0.0000     0.0000     0.0000     0.0000     0.0000]\n",
      "\n",
      "\n",
      "                                                                      Y1, X1, Y2,X2:   [    0.0000     0.0000     0.0000     0.0000]\n",
      "                                                   class, score, seqIid, norm_score:   [    0.0000     0.0000     0.0000     0.0000]\n",
      "                                                             r_pr  old style_scores:   [    0.0000     0.0000     0.0000]\n",
      "                                                                 model alt_scores_1:   [    0.0000     0.0000     0.0000     0.0000     0.0000     0.0000]\n",
      "                                                                 r_pr  alt_scores_2:   [    0.0000     0.0000     0.0000     0.0000     0.0000     0.0000]\n",
      "\n",
      "\n",
      "                                                                      Y1, X1, Y2,X2:   [    0.0000     0.0000     0.0000     0.0000]\n",
      "                                                   class, score, seqIid, norm_score:   [    0.0000     0.0000     0.0000     0.0000]\n",
      "                                                             r_pr  old style_scores:   [    0.0000     0.0000     0.0000]\n",
      "                                                                 model alt_scores_1:   [    0.0000     0.0000     0.0000     0.0000     0.0000     0.0000]\n",
      "                                                                 r_pr  alt_scores_2:   [    0.0000     0.0000     0.0000     0.0000     0.0000     0.0000]\n",
      "\n",
      "\n",
      "                                                                      Y1, X1, Y2,X2:   [    0.0000     0.0000     0.0000     0.0000]\n",
      "                                                   class, score, seqIid, norm_score:   [    0.0000     0.0000     0.0000     0.0000]\n",
      "                                                             r_pr  old style_scores:   [    0.0000     0.0000     0.0000]\n",
      "                                                                 model alt_scores_1:   [    0.0000     0.0000     0.0000     0.0000     0.0000     0.0000]\n",
      "                                                                 r_pr  alt_scores_2:   [    0.0000     0.0000     0.0000     0.0000     0.0000     0.0000]\n",
      "\n",
      "\n",
      "                                                                      Y1, X1, Y2,X2:   [    0.0000     0.0000     0.0000     0.0000]\n",
      "                                                   class, score, seqIid, norm_score:   [    0.0000     0.0000     0.0000     0.0000]\n",
      "                                                             r_pr  old style_scores:   [    0.0000     0.0000     0.0000]\n",
      "                                                                 model alt_scores_1:   [    0.0000     0.0000     0.0000     0.0000     0.0000     0.0000]\n",
      "                                                                 r_pr  alt_scores_2:   [    0.0000     0.0000     0.0000     0.0000     0.0000     0.0000]\n",
      "\n",
      "\n",
      "                                                                      Y1, X1, Y2,X2:   [    0.0000     0.0000     0.0000     0.0000]\n",
      "                                                   class, score, seqIid, norm_score:   [    0.0000     0.0000     0.0000     0.0000]\n",
      "                                                             r_pr  old style_scores:   [    0.0000     0.0000     0.0000]\n",
      "                                                                 model alt_scores_1:   [    0.0000     0.0000     0.0000     0.0000     0.0000     0.0000]\n",
      "                                                                 r_pr  alt_scores_2:   [    0.0000     0.0000     0.0000     0.0000     0.0000     0.0000]\n",
      "\n",
      "\n",
      "                                                                      Y1, X1, Y2,X2:   [    0.0000     0.0000     0.0000     0.0000]\n",
      "                                                   class, score, seqIid, norm_score:   [    0.0000     0.0000     0.0000     0.0000]\n",
      "                                                             r_pr  old style_scores:   [    0.0000     0.0000     0.0000]\n",
      "                                                                 model alt_scores_1:   [    0.0000     0.0000     0.0000     0.0000     0.0000     0.0000]\n",
      "                                                                 r_pr  alt_scores_2:   [    0.0000     0.0000     0.0000     0.0000     0.0000     0.0000]\n",
      "\n",
      "\n",
      "                                                                      Y1, X1, Y2,X2:   [    0.0000     0.0000     0.0000     0.0000]\n",
      "                                                   class, score, seqIid, norm_score:   [    0.0000     0.0000     0.0000     0.0000]\n",
      "                                                             r_pr  old style_scores:   [    0.0000     0.0000     0.0000]\n",
      "                                                                 model alt_scores_1:   [    0.0000     0.0000     0.0000     0.0000     0.0000     0.0000]\n",
      "                                                                 r_pr  alt_scores_2:   [    0.0000     0.0000     0.0000     0.0000     0.0000     0.0000]\n",
      "\n",
      "\n",
      "                                                                      Y1, X1, Y2,X2:   [    0.0000     0.0000     0.0000     0.0000]\n",
      "                                                   class, score, seqIid, norm_score:   [    0.0000     0.0000     0.0000     0.0000]\n",
      "                                                             r_pr  old style_scores:   [    0.0000     0.0000     0.0000]\n",
      "                                                                 model alt_scores_1:   [    0.0000     0.0000     0.0000     0.0000     0.0000     0.0000]\n",
      "                                                                 r_pr  alt_scores_2:   [    0.0000     0.0000     0.0000     0.0000     0.0000     0.0000]\n",
      "\n",
      "\n",
      "                                                                      Y1, X1, Y2,X2:   [    0.0000     0.0000     0.0000     0.0000]\n",
      "                                                   class, score, seqIid, norm_score:   [    0.0000     0.0000     0.0000     0.0000]\n",
      "                                                             r_pr  old style_scores:   [    0.0000     0.0000     0.0000]\n",
      "                                                                 model alt_scores_1:   [    0.0000     0.0000     0.0000     0.0000     0.0000     0.0000]\n",
      "                                                                 r_pr  alt_scores_2:   [    0.0000     0.0000     0.0000     0.0000     0.0000     0.0000]\n",
      "\n",
      "\n",
      "                                                                      Y1, X1, Y2,X2:   [    0.0000     0.0000     0.0000     0.0000]\n",
      "                                                   class, score, seqIid, norm_score:   [    0.0000     0.0000     0.0000     0.0000]\n",
      "                                                             r_pr  old style_scores:   [    0.0000     0.0000     0.0000]\n",
      "                                                                 model alt_scores_1:   [    0.0000     0.0000     0.0000     0.0000     0.0000     0.0000]\n",
      "                                                                 r_pr  alt_scores_2:   [    0.0000     0.0000     0.0000     0.0000     0.0000     0.0000]\n",
      "\n",
      "\n",
      "                                                                      Y1, X1, Y2,X2:   [    0.0000     0.0000     0.0000     0.0000]\n",
      "                                                   class, score, seqIid, norm_score:   [    0.0000     0.0000     0.0000     0.0000]\n",
      "                                                             r_pr  old style_scores:   [    0.0000     0.0000     0.0000]\n",
      "                                                                 model alt_scores_1:   [    0.0000     0.0000     0.0000     0.0000     0.0000     0.0000]\n",
      "                                                                 r_pr  alt_scores_2:   [    0.0000     0.0000     0.0000     0.0000     0.0000     0.0000]\n",
      "\n",
      "\n",
      "                                                                      Y1, X1, Y2,X2:   [    0.0000     0.0000     0.0000     0.0000]\n",
      "                                                   class, score, seqIid, norm_score:   [    0.0000     0.0000     0.0000     0.0000]\n",
      "                                                             r_pr  old style_scores:   [    0.0000     0.0000     0.0000]\n",
      "                                                                 model alt_scores_1:   [    0.0000     0.0000     0.0000     0.0000     0.0000     0.0000]\n",
      "                                                                 r_pr  alt_scores_2:   [    0.0000     0.0000     0.0000     0.0000     0.0000     0.0000]\n",
      "\n",
      "\n",
      "                                                                      Y1, X1, Y2,X2:   [    0.0000     0.0000     0.0000     0.0000]\n",
      "                                                   class, score, seqIid, norm_score:   [    0.0000     0.0000     0.0000     0.0000]\n",
      "                                                             r_pr  old style_scores:   [    0.0000     0.0000     0.0000]\n",
      "                                                                 model alt_scores_1:   [    0.0000     0.0000     0.0000     0.0000     0.0000     0.0000]\n",
      "                                                                 r_pr  alt_scores_2:   [    0.0000     0.0000     0.0000     0.0000     0.0000     0.0000]\n",
      "\n",
      "\n",
      "                                                                      Y1, X1, Y2,X2:   [    0.0000     0.0000     0.0000     0.0000]\n",
      "                                                   class, score, seqIid, norm_score:   [    0.0000     0.0000     0.0000     0.0000]\n",
      "                                                             r_pr  old style_scores:   [    0.0000     0.0000     0.0000]\n",
      "                                                                 model alt_scores_1:   [    0.0000     0.0000     0.0000     0.0000     0.0000     0.0000]\n",
      "                                                                 r_pr  alt_scores_2:   [    0.0000     0.0000     0.0000     0.0000     0.0000     0.0000]\n",
      "\n",
      "\n",
      "                                                                      Y1, X1, Y2,X2:   [    0.0000     0.0000     0.0000     0.0000]\n",
      "                                                   class, score, seqIid, norm_score:   [    0.0000     0.0000     0.0000     0.0000]\n",
      "                                                             r_pr  old style_scores:   [    0.0000     0.0000     0.0000]\n",
      "                                                                 model alt_scores_1:   [    0.0000     0.0000     0.0000     0.0000     0.0000     0.0000]\n",
      "                                                                 r_pr  alt_scores_2:   [    0.0000     0.0000     0.0000     0.0000     0.0000     0.0000]\n",
      "\n",
      "\n",
      "                                                                      Y1, X1, Y2,X2:   [    0.0000     0.0000     0.0000     0.0000]\n",
      "                                                   class, score, seqIid, norm_score:   [    0.0000     0.0000     0.0000     0.0000]\n",
      "                                                             r_pr  old style_scores:   [    0.0000     0.0000     0.0000]\n",
      "                                                                 model alt_scores_1:   [    0.0000     0.0000     0.0000     0.0000     0.0000     0.0000]\n",
      "                                                                 r_pr  alt_scores_2:   [    0.0000     0.0000     0.0000     0.0000     0.0000     0.0000]\n",
      "\n",
      "\n",
      "                                                                      Y1, X1, Y2,X2:   [    0.0000     0.0000     0.0000     0.0000]\n",
      "                                                   class, score, seqIid, norm_score:   [    0.0000     0.0000     0.0000     0.0000]\n",
      "                                                             r_pr  old style_scores:   [    0.0000     0.0000     0.0000]\n",
      "                                                                 model alt_scores_1:   [    0.0000     0.0000     0.0000     0.0000     0.0000     0.0000]\n",
      "                                                                 r_pr  alt_scores_2:   [    0.0000     0.0000     0.0000     0.0000     0.0000     0.0000]\n",
      "\n",
      "\n",
      "                                                                      Y1, X1, Y2,X2:   [    0.0000     0.0000     0.0000     0.0000]\n",
      "                                                   class, score, seqIid, norm_score:   [    0.0000     0.0000     0.0000     0.0000]\n",
      "                                                             r_pr  old style_scores:   [    0.0000     0.0000     0.0000]\n",
      "                                                                 model alt_scores_1:   [    0.0000     0.0000     0.0000     0.0000     0.0000     0.0000]\n",
      "                                                                 r_pr  alt_scores_2:   [    0.0000     0.0000     0.0000     0.0000     0.0000     0.0000]\n",
      "\n",
      "\n",
      "                                                                      Y1, X1, Y2,X2:   [    0.0000     0.0000     0.0000     0.0000]\n",
      "                                                   class, score, seqIid, norm_score:   [    0.0000     0.0000     0.0000     0.0000]\n",
      "                                                             r_pr  old style_scores:   [    0.0000     0.0000     0.0000]\n",
      "                                                                 model alt_scores_1:   [    0.0000     0.0000     0.0000     0.0000     0.0000     0.0000]\n",
      "                                                                 r_pr  alt_scores_2:   [    0.0000     0.0000     0.0000     0.0000     0.0000     0.0000]\n",
      "\n",
      "\n",
      "                                                                      Y1, X1, Y2,X2:   [    0.0000     0.0000     0.0000     0.0000]\n",
      "                                                   class, score, seqIid, norm_score:   [    0.0000     0.0000     0.0000     0.0000]\n",
      "                                                             r_pr  old style_scores:   [    0.0000     0.0000     0.0000]\n",
      "                                                                 model alt_scores_1:   [    0.0000     0.0000     0.0000     0.0000     0.0000     0.0000]\n",
      "                                                                 r_pr  alt_scores_2:   [    0.0000     0.0000     0.0000     0.0000     0.0000     0.0000]\n",
      "\n",
      "\n",
      "                                                                      Y1, X1, Y2,X2:   [    0.0000     0.0000     0.0000     0.0000]\n",
      "                                                   class, score, seqIid, norm_score:   [    0.0000     0.0000     0.0000     0.0000]\n",
      "                                                             r_pr  old style_scores:   [    0.0000     0.0000     0.0000]\n",
      "                                                                 model alt_scores_1:   [    0.0000     0.0000     0.0000     0.0000     0.0000     0.0000]\n",
      "                                                                 r_pr  alt_scores_2:   [    0.0000     0.0000     0.0000     0.0000     0.0000     0.0000]\n",
      "\n",
      "\n",
      "                                                                      Y1, X1, Y2,X2:   [    0.0000     0.0000     0.0000     0.0000]\n",
      "                                                   class, score, seqIid, norm_score:   [    0.0000     0.0000     0.0000     0.0000]\n",
      "                                                             r_pr  old style_scores:   [    0.0000     0.0000     0.0000]\n",
      "                                                                 model alt_scores_1:   [    0.0000     0.0000     0.0000     0.0000     0.0000     0.0000]\n",
      "                                                                 r_pr  alt_scores_2:   [    0.0000     0.0000     0.0000     0.0000     0.0000     0.0000]\n",
      "\n",
      "\n",
      "                                                                      Y1, X1, Y2,X2:   [    0.0000     0.0000     0.0000     0.0000]\n",
      "                                                   class, score, seqIid, norm_score:   [    0.0000     0.0000     0.0000     0.0000]\n",
      "                                                             r_pr  old style_scores:   [    0.0000     0.0000     0.0000]\n",
      "                                                                 model alt_scores_1:   [    0.0000     0.0000     0.0000     0.0000     0.0000     0.0000]\n",
      "                                                                 r_pr  alt_scores_2:   [    0.0000     0.0000     0.0000     0.0000     0.0000     0.0000]\n",
      "\n",
      "\n",
      "                                                                      Y1, X1, Y2,X2:   [    0.0000     0.0000     0.0000     0.0000]\n",
      "                                                   class, score, seqIid, norm_score:   [    0.0000     0.0000     0.0000     0.0000]\n",
      "                                                             r_pr  old style_scores:   [    0.0000     0.0000     0.0000]\n",
      "                                                                 model alt_scores_1:   [    0.0000     0.0000     0.0000     0.0000     0.0000     0.0000]\n",
      "                                                                 r_pr  alt_scores_2:   [    0.0000     0.0000     0.0000     0.0000     0.0000     0.0000]\n",
      "\n",
      "\n",
      "                                                                      Y1, X1, Y2,X2:   [    0.0000     0.0000     0.0000     0.0000]\n",
      "                                                   class, score, seqIid, norm_score:   [    0.0000     0.0000     0.0000     0.0000]\n",
      "                                                             r_pr  old style_scores:   [    0.0000     0.0000     0.0000]\n",
      "                                                                 model alt_scores_1:   [    0.0000     0.0000     0.0000     0.0000     0.0000     0.0000]\n",
      "                                                                 r_pr  alt_scores_2:   [    0.0000     0.0000     0.0000     0.0000     0.0000     0.0000]\n",
      "\n",
      "\n",
      "                                                                      Y1, X1, Y2,X2:   [    0.0000     0.0000     0.0000     0.0000]\n",
      "                                                   class, score, seqIid, norm_score:   [    0.0000     0.0000     0.0000     0.0000]\n",
      "                                                             r_pr  old style_scores:   [    0.0000     0.0000     0.0000]\n",
      "                                                                 model alt_scores_1:   [    0.0000     0.0000     0.0000     0.0000     0.0000     0.0000]\n",
      "                                                                 r_pr  alt_scores_2:   [    0.0000     0.0000     0.0000     0.0000     0.0000     0.0000]\n",
      "\n",
      "\n"
     ]
    }
   ],
   "source": [
    "img_id = 0 \n",
    "print(r_pr_heatmap_scores.shape)\n",
    "print(pr_class_ids)\n",
    "for i in  pr_class_ids:\n",
    "#     if i == 0 :\n",
    "#         continue\n",
    "    print()\n",
    "    print('class:', i, '-', dataset_train.class_names[i],'predicted in MRCNN' if i in pr_class_ids else ' ' )\n",
    "    for j in range(32):\n",
    "#         print('{:>86s} {}  '.format('PR bbox :  ',  r_pr_heatmap_scores[img_id, i,j,:4]))        \n",
    "        print('{:>86s} {}'.format('Y1, X1, Y2,X2:  ',  r_pr_heatmap_scores[img_id, i,j,:4]))\n",
    "        print('{:>86s} {}'.format('class, score, seqIid, norm_score:  ',  r_pr_heatmap_scores[img_id, i,j,[4,5,6,7]]))\n",
    "#         print('{:>86s} {}'.format(' model old style_scores:  ',model_pr_heatmap_scores[img_id, i,j,[8,9,10]]))\n",
    "        print('{:>86s} {}'.format(' r_pr  old style_scores:  ', r_pr_heatmap_scores[img_id, i,j,[8,9,10]]))\n",
    "#         print('{:>86s} {}'.format(' alt_scores_1      :  ',model_pr_heatmap_scores[img_id, i,j,[11,12,13,14,15,16]]))\n",
    "        print('{:>86s} {}'.format(' model alt_scores_1:  ',r_pr_heatmap_scores[img_id, i,j,[11,12,13,14,15,16]]))\n",
    "#         print('{:>86s} {}'.format(' alt_scores_2:  ',model_pr_heatmap_scores[img_id, i,j,[17,18,19,20,21,22]]))\n",
    "        print('{:>86s} {}'.format(' r_pr  alt_scores_2:  ',r_pr_heatmap_scores[img_id, i,j,[17,18,19,20,21,22]]))\n",
    "#         print('{:>86s} {}'.format(' new mrcnn_scores:  ',model_pr_heatmap_scores[img_id, i,j, 21:26]))\n",
    "#         print('{:>86s} {}'.format(' model alt_scores_2:  ',r_pr_heatmap_scores[img_id, i,j,21:26]))\n",
    "#         print('{:>86s} {}'.format(' new mrcnn_scores normalized:  ',model_pr_heatmap_scores[img_id, i,j,26:31]))\n",
    "#         print('{:>86s} {}'.format(' r_pr  alt_scores_2 normalized:  ',r_pr_heatmap_scores[img_id, i,j,26:31]))        \n",
    "        print()\n",
    "#         print('{:>86s} {}  '.format('gt bbox :  ',  r_gt_heatmap_scores[img_id, i,j,:4]))\n",
    "#         print('{:>86s} {}  '.format('gt class, score, seqIid, norm_score:  ',  r_gt_heatmap_scores[img_id, i,j,[4,5,6,7]]))\n",
    "#         print('{:>86s} {}'.format(' gt old style_scores:  ',model_gt_heatmap_scores[img_id, i,j,[8,9,10]]))\n",
    "#         print('{:>86s} {}'.format(' gt old style_scores:  ', r_gt_heatmap_scores[img_id, i,j,[8,9,10]]))\n",
    "#         print('{:>86s} {}'.format(' model gt alt_scores_1:  ',model_gt_heatmap_scores[img_id, i,j,[11,12,13,14,15]]))\n",
    "#         print('{:>86s} {}'.format(' gt alt_scores_1:  ',r_gt_heatmap_scores[img_id, i,j,[11,12,13,14,15]]))\n",
    "#         print('{:>86s} {}'.format(' model gt alt_scores_1 normalized:  ',model_gt_heatmap_scores[img_id, i,j,[16,17,18,19,20]]))\n",
    "#         print('{:>86s} {}'.format(' gt alt_scores_1 normalized:  ',r_gt_heatmap_scores[img_id, i,j,[16,17,18,19,20]]))\n",
    "#         print('{:>86s} {}'.format(' model gt alt_scores_2::  ',model_gt_heatmap_scores[img_id, i,j, 21:26]))\n",
    "#         print('{:>86s} {}'.format(' gt alt_scores_2:  ',r_gt_heatmap_scores[img_id, i,j,21:26]))\n",
    "#         print('{:>86s} {}'.format(' model gt alt_scores_2 normalized:  ',model_gt_heatmap_scores[img_id, i,j,26:31]))\n",
    "#         print('{:>86s} {}'.format(' gt alt_scores_2 normalized:  ',r_gt_heatmap_scores[img_id, i,j,26:31]))        \n",
    "        print()\n",
    "#         if (np.all( r_pr_heatmap_scores[img_id,i,j,:4] == 0)):\n",
    "#             print('break')\n",
    "#             break"
   ]
  },
  {
   "cell_type": "code",
   "execution_count": null,
   "metadata": {
    "ExecuteTime": {
     "end_time": "2018-11-30T11:01:38.720630Z",
     "start_time": "2018-11-30T11:01:38.335358Z"
    },
    "scrolled": true
   },
   "outputs": [],
   "source": [
    "for i in  pr_class_ids:\n",
    "    if i == 0 :\n",
    "        continue\n",
    "    print()\n",
    "    print('class:', i, '-', dataset_train.class_names[i],'predicted in MRCNN' if i in pr_class_ids else ' ' , ' (Ground Truth) ' if  i in gt_class_ids else ' ')\n",
    "    for j in range(200):\n",
    "        print(model_pr_heatmap_scores[img_id, i, j, 4:])\n",
    "        print(    r_pr_heatmap_scores[img_id, i, j, 4:])\n",
    "        print()\n",
    "        if (np.all( r_pr_heatmap_scores[img_id,i,j,:4] == 0)):\n",
    "            print()\n",
    "            print('{:12s}{:10.4f} {} {:10.4f} {}{:10.4f} {} {:10.4f} {:10.4f} {:10.4f} {:10.4f}'.format(\n",
    "                ' ', np.mean(r_pr_heatmap_scores[img_id,i,:j,5]),\n",
    "                ' '*10, np.mean(r_pr_heatmap_scores[img_id,i,:j,7]),\n",
    "                '', np.mean(r_pr_heatmap_scores[img_id,i,:j,8]),\n",
    "                ' '*10, np.mean(r_pr_heatmap_scores[img_id,i,:j,10]),\n",
    "                np.mean(r_pr_heatmap_scores[img_id,i,:j,11]),\n",
    "                np.mean(r_pr_heatmap_scores[img_id,i,:j,12]),\n",
    "                np.mean(r_pr_heatmap_scores[img_id,i,:j,13]),                \n",
    "            ))\n",
    "            print(' {} {:10.4f} {} {:10.4f} {}{:10.4f} {} {:10.4f} {:10.4f} {:10.4f} {:10.4f}'.format(\n",
    "                ' '*10, np.std(r_pr_heatmap_scores[img_id,i,:j,5]),\n",
    "                ' '*10, np.std(r_pr_heatmap_scores[img_id,i,:j,7]),\n",
    "                '', np.std(r_pr_heatmap_scores[img_id,i,:j,8]),\n",
    "                ' '*10, np.std(r_pr_heatmap_scores[img_id,i,:j,10]),\n",
    "                np.std(r_pr_heatmap_scores[img_id,i,:j,11]),\n",
    "                np.std(r_pr_heatmap_scores[img_id,i,:j,12]),\n",
    "                np.std(r_pr_heatmap_scores[img_id,i,:j,13]),                \n",
    "            ))            \n",
    "            break"
   ]
  },
  {
   "cell_type": "markdown",
   "metadata": {},
   "source": [
    "###  print `gt_heatmap_scores`"
   ]
  },
  {
   "cell_type": "code",
   "execution_count": null,
   "metadata": {
    "ExecuteTime": {
     "end_time": "2018-11-30T12:09:07.242471Z",
     "start_time": "2018-11-30T12:09:06.800160Z"
    },
    "scrolled": false
   },
   "outputs": [],
   "source": [
    "img_id = 0 \n",
    "for i in  pr_class_ids:\n",
    "    if i == 0 :\n",
    "        continue\n",
    "    print()\n",
    "    print('class:', i, '-', dataset_train.class_names[i],'predicted in MRCNN' if i in pr_class_ids else ' ' , ' (Ground Truth) ' if  i in gt_class_ids else ' ')\n",
    "    for j in range(200):\n",
    "        print('{:>86s} {}  '.format('class, score, seqIid, norm_score:  ',  r_gt_heatmap_scores[img_id, i,j,[4,5,6,7]]))\n",
    "        print('{:>86s} {}'.format(' gt old style_scores:  ',model_gt_heatmap_scores[img_id, i,j,[8,9,10]]))\n",
    "        print('{:>86s} {}'.format(' gt old style_scores:  ', r_gt_heatmap_scores[img_id, i,j,[8,9,10]]))\n",
    "        print('{:>86s} {}'.format(' model gt alt_scores_1:  ',model_gt_heatmap_scores[img_id, i,j,[11,12,13,14,15]]))\n",
    "        print('{:>86s} {}'.format(' gt alt_scores_1:  ',r_gt_heatmap_scores[img_id, i,j,[11,12,13,14,15]]))\n",
    "        print('{:>86s} {}'.format(' model gt alt_scores_1 normalized:  ',model_gt_heatmap_scores[img_id, i,j,[16,17,18,19,20]]))\n",
    "        print('{:>86s} {}'.format(' gt alt_scores_1 normalized:  ',r_gt_heatmap_scores[img_id, i,j,[16,17,18,19,20]]))\n",
    "        print('{:>86s} {}'.format(' model gt alt_scores_2::  ',model_gt_heatmap_scores[img_id, i,j, 21:26]))\n",
    "        print('{:>86s} {}'.format(' gt alt_scores_2:  ',r_gt_heatmap_scores[img_id, i,j,21:26]))\n",
    "        print('{:>86s} {}'.format(' model gt alt_scores_2 normalized:  ',model_gt_heatmap_scores[img_id, i,j,26:31]))\n",
    "        print('{:>86s} {}'.format(' gt alt_scores_2 normalized:  ',r_gt_heatmap_scores[img_id, i,j,26:31]))        \n",
    "        print()\n",
    "        if (np.all( r_gt_heatmap_scores[img_id,i,j,:4] == 0)):\n",
    "            print('break')\n",
    "            break"
   ]
  },
  {
   "cell_type": "code",
   "execution_count": null,
   "metadata": {
    "ExecuteTime": {
     "end_time": "2018-11-27T17:22:22.433728Z",
     "start_time": "2018-11-27T17:22:21.919365Z"
    },
    "scrolled": true
   },
   "outputs": [],
   "source": [
    "for i in  gt_class_ids:\n",
    "    if i == 0 :\n",
    "        continue\n",
    "    print()\n",
    "    print('class:', i, '-', dataset_train.class_names[i],'predicted in MRCNN' if i in gt_class_ids else ' ' , ' (Ground Truth) ' if  i in gt_class_ids else ' ')\n",
    "    for j in range(200):\n",
    "        print(model_gt_heatmap_scores[img_id, i, j, 4:])\n",
    "        print(    r_gt_heatmap_scores[img_id, i, j, 4:])\n",
    "        print()\n",
    "        if (np.all( r_gt_heatmap_scores[img_id,i,j,:4] == 0)):\n",
    "            print()\n",
    "            print('{:12s}{:10.4f} {} {:10.4f} {}{:10.4f} {} {:10.4f} {:10.4f} {:10.4f} {:10.4f}'.format(\n",
    "                ' ', np.mean(r_gt_heatmap_scores[img_id,i,:j,5]),\n",
    "                ' '*10, np.mean(r_gt_heatmap_scores[img_id,i,:j,7]),\n",
    "                '', np.mean(r_gt_heatmap_scores[img_id,i,:j,8]),\n",
    "                ' '*10, np.mean(r_gt_heatmap_scores[img_id,i,:j,10]),\n",
    "                np.mean(r_gt_heatmap_scores[img_id,i,:j,11]),\n",
    "                np.mean(r_gt_heatmap_scores[img_id,i,:j,12]),\n",
    "                np.mean(r_gt_heatmap_scores[img_id,i,:j,13]),                \n",
    "            ))\n",
    "            print(' {} {:10.4f} {} {:10.4f} {}{:10.4f} {} {:10.4f} {:10.4f} {:10.4f} {:10.4f}'.format(\n",
    "                ' '*10, np.std(r_gt_heatmap_scores[img_id,i,:j,5]),\n",
    "                ' '*10, np.std(r_gt_heatmap_scores[img_id,i,:j,7]),\n",
    "                '', np.std(r_gt_heatmap_scores[img_id,i,:j,8]),\n",
    "                ' '*10, np.std(r_gt_heatmap_scores[img_id,i,:j,10]),\n",
    "                np.std(r_gt_heatmap_scores[img_id,i,:j,11]),\n",
    "                np.std(r_gt_heatmap_scores[img_id,i,:j,12]),\n",
    "                np.std(r_gt_heatmap_scores[img_id,i,:j,13]),                \n",
    "            ))            \n",
    "            break"
   ]
  },
  {
   "cell_type": "markdown",
   "metadata": {
    "heading_collapsed": true
   },
   "source": [
    "#### compare results of `pred_heatmap_scores` from code above and program file"
   ]
  },
  {
   "cell_type": "code",
   "execution_count": null,
   "metadata": {
    "ExecuteTime": {
     "end_time": "2018-11-25T23:30:16.677636Z",
     "start_time": "2018-11-25T23:30:16.248628Z"
    },
    "hidden": true,
    "hideOutput": true,
    "scrolled": false
   },
   "outputs": [],
   "source": [
    "np.set_printoptions(linewidth=150, precision=6) \n",
    "print('pred_heatmap_scores shape is       ', r_pr_heatmap_scores.shape )\n",
    "print('pred_heatmap_scores from model is :', model_pr_heatmap_scores.shape)\n",
    "for img in [0]:\n",
    "    class_ids = np.unique(r_pr_heatmap_scores[img,:,:,4]).astype(int).tolist()    \n",
    "    print('Classids: ', class_ids)\n",
    "    for i in class_ids:\n",
    "        print('Image ', img , '/ Class ',i)\n",
    "        for j in range(200):\n",
    "            print(model_gt_heatmap_scores[img,i,j])\n",
    "            print(r_pr_heatmap_scores[img,i,j])\n",
    "            print(model_pr_heatmap_scores[img,i,j])\n",
    "            print()\n",
    "            if (r_pr_heatmap_scores[img,i,j,-1] == model_pr_heatmap_scores[img,i,j,-1] == 0):\n",
    "                break\n",
    "        print()\n"
   ]
  },
  {
   "cell_type": "markdown",
   "metadata": {
    "heading_collapsed": true
   },
   "source": [
    "###  Alternative method: use `scatter_nd_add` to build guassian sum\n",
    "requires definition of tf.variable"
   ]
  },
  {
   "cell_type": "code",
   "execution_count": null,
   "metadata": {
    "ExecuteTime": {
     "end_time": "2018-10-08T13:51:09.679531Z",
     "start_time": "2018-10-08T13:51:09.587607Z"
    },
    "hidden": true
   },
   "outputs": [],
   "source": [
    "with sess.as_default():\n",
    "#   kvar = KB.variable(value = KB.zeros([batch_size, num_classes, grid_w, grid_h], dtype = 'float32'))\n",
    "#   kvar = tf.scatter_nd_add(kvar, pt2_ind[:,:2],prob_grid)\n",
    "\n",
    "#   kvar_norm  = KB.variable(value = KB.zeros([batch_size, num_classes, grid_w, grid_h], dtype = 'float32'))\n",
    "#   kvar_norm = tf.scatter_nd_add(kvar_norm, pt2_ind[:,:2],prob_grid)\n",
    "\n",
    "    kvar_norm_scaled = KB.variable(value = KB.zeros([batch_size, num_classes, grid_w, grid_h], dtype = 'float32'))\n",
    "    kvar_norm_scaled = KB.zeros([batch_size, num_classes, grid_w, grid_h])\n",
    "    kvar_norm_scaled = tf.scatter_nd_add(kvar_norm_scaled, pt2_ind[:,:2],prob_grid_norm_scaled)\n",
    "\n",
    "    ##---------------------------------------------------------------------------------------------\n",
    "    ## heatmap normalization\n",
    "    ## normalizer is set to one when the max of class is zero     \n",
    "    ## this prevents elements of gauss_heatmap_norm computing to nan\n",
    "    ##---------------------------------------------------------------------------------------------\n",
    "    print('\\n    normalization ------------------------------------------------------')   \n",
    "    normalizer = tf.reduce_max(kvar_norm_scaled, axis=[-2,-1], keepdims = True)\n",
    "    normalizer = tf.where(normalizer < 1.0e-15,  tf.ones_like(normalizer), normalizer)\n",
    "    gaussian_heatmap_norm = kvar_norm_scaled / normalizer\n",
    "    # gauss_heatmap_norm    = gauss_heatmap / tf.reduce_max(gauss_heatmap, axis=[-2,-1], keepdims = True)\n",
    "    # gauss_heatmap_norm    = tf.where(tf.is_nan(gauss_heatmap_norm),  tf.zeros_like(gauss_heatmap_norm), gauss_heatmap_norm, name = 'Where2')\n",
    "    print('    gauss norm            : ', gaussian_heatmap_norm.shape  )        "
   ]
  },
  {
   "cell_type": "markdown",
   "metadata": {
    "hidden": true
   },
   "source": [
    "#### Tests"
   ]
  },
  {
   "cell_type": "code",
   "execution_count": null,
   "metadata": {
    "ExecuteTime": {
     "end_time": "2018-09-26T16:31:20.741468Z",
     "start_time": "2018-09-26T16:29:40.444137Z"
    },
    "hidden": true,
    "scrolled": true
   },
   "outputs": [],
   "source": [
    "with sess.as_default():\n",
    "#     r_ghm  = gauss_heatmap.eval()\n",
    "    r_kvar = KB.eval(kvar)\n",
    "    r_kvar_norm = KB.eval(kvar_norm)\n",
    "    r_kvar_norm_scaled = KB.eval(kvar_norm_scaled)\n",
    "    r_kvar_final = kvar_final.eval()\n",
    "#     r_kvar = kvar.eval()\n",
    "#     r_kvar_norm = kvar_norm.eval()\n",
    "#     r_kvar_norm_scaled = kvar_norm_scaled.eval()\n",
    "#     r_kvar_final = kvar_final.eval()"
   ]
  },
  {
   "cell_type": "code",
   "execution_count": null,
   "metadata": {
    "ExecuteTime": {
     "end_time": "2018-09-26T16:31:20.835850Z",
     "start_time": "2018-09-26T16:31:20.791378Z"
    },
    "hidden": true
   },
   "outputs": [],
   "source": [
    "print(r_kvar.shape, r_kvar_norm.shape, r_kvar_norm_scaled.shape, r_kvar_final.shape)"
   ]
  },
  {
   "cell_type": "code",
   "execution_count": null,
   "metadata": {
    "ExecuteTime": {
     "end_time": "2018-09-26T16:31:20.789145Z",
     "start_time": "2018-09-26T16:31:20.744504Z"
    },
    "hidden": true,
    "scrolled": true
   },
   "outputs": [],
   "source": [
    "# np.set_printoptions(precision=4, threshold=30000, linewidth=260, suppress=True)\n",
    "# print(r_kvar.shape, r_ghm.shape)\n",
    "# print(kvar, gauss_heatmap)\n",
    "# for  i in [9]:  #range(81):\n",
    "#     for j in range(256):\n",
    "#         print(' Col: ', j, ': ',np.all(r_kvar[0,i,j] == r_ghm[0,i,j]))\n"
   ]
  },
  {
   "cell_type": "code",
   "execution_count": null,
   "metadata": {
    "ExecuteTime": {
     "end_time": "2018-09-26T16:32:02.165855Z",
     "start_time": "2018-09-26T16:31:54.694866Z"
    },
    "hidden": true,
    "scrolled": false
   },
   "outputs": [],
   "source": [
    "from mrcnn.visualize import plot_2d_gaussian, plot_3d_gaussian\n",
    "cls = 1\n",
    "plot_3d_gaussian(r_ghm[0,cls])\n",
    "plot_3d_gaussian(r_kvar[0,cls])\n",
    "plot_3d_gaussian(r_kvar_norm[0,cls])\n",
    "plot_3d_gaussian(r_kvar_final[0,cls])\n",
    "\n",
    "# for i in range(81):\n",
    "#     print(np.max(r_kvar[0,i]), np.max(r_ghm[0,i]), np.sum(r_kvar[0,i]),np.sum(r_ghm[0,i]))\n",
    "# plot_3d_gaussian(r_prob_grid_norm_scaled[box])"
   ]
  },
  {
   "cell_type": "code",
   "execution_count": null,
   "metadata": {
    "ExecuteTime": {
     "end_time": "2018-09-26T09:14:52.264821Z",
     "start_time": "2018-09-26T09:14:52.218973Z"
    },
    "hidden": true,
    "hideCode": false,
    "hideOutput": true,
    "scrolled": true
   },
   "outputs": [],
   "source": [
    "# np.set_printoptions(linewidth=150, precision=6)\n",
    "# # print('scatter shape is ', pred_scatt.get_shape())\n",
    "# print('pt2_dense shape is ', pt2_dense.get_shape() )\n",
    "# with sess.as_default():\n",
    "#     r_pt2_ind   = pt2_ind.eval()\n",
    "#     r_pt2_dense = pt2_dense.eval()\n",
    "#     X1,Y1 = tf.meshgrid(tf.range(batch_size, dtype=tf.int32), tf.range(num_detections, dtype=tf.int32), indexing = 'ij')\n",
    "#     r_X1 = X1.eval()\n",
    "#     r_Y1 = Y1.eval()\n",
    "# print(r_X1.shape , Y1.shape)\n",
    "# print(r_X1)\n",
    "# print(r_Y1)\n",
    "# print(r_pt2_ind.shape)\n",
    "# where_to_go = np.stack([r_pt2_ind[:,0],r_pt2_dense[:,4], r_pt2_dense[:,6]],axis =-1)\n",
    "# print(where_to_go.shape)\n",
    "# print(where_to_go)\n",
    "\n",
    "# class_ids = np.unique(r_pt2_dense[:,4]).astype(int).tolist()    \n",
    "# print('Classids: ', class_ids)\n",
    "\n",
    "# for box in range(r_pt2_ind.shape[0]):\n",
    "#     print(r_pt2_ind[box],'      ', r_pt2_dense[box,:])"
   ]
  },
  {
   "cell_type": "code",
   "execution_count": null,
   "metadata": {
    "ExecuteTime": {
     "end_time": "2018-09-25T13:17:02.166622Z",
     "start_time": "2018-09-25T13:17:02.123433Z"
    },
    "hidden": true,
    "hideCode": false,
    "hideOutput": true
   },
   "outputs": [],
   "source": [
    "#     gauss_sum = tf.zeros([batch_size, num_classes, rois_per_image, img_w//scale, img_h//scale])\n",
    "#     print('    gaussian_sum shape     : ', gauss_sum.get_shape(), 'Keras tensor ', KB.is_keras_tensor(gauss_sum) )      \n",
    "\n",
    "#     counter = 0\n",
    "#     limit   = batch_size * rois_per_image\n",
    "#     c = lambda i, j, k,l: tf.less_equal(i, pt2_ind.get_shape()[0])\n",
    "#     b = lambda i, j, k,l: tf.add(j[k[i]], l[i])\n",
    "#     loop_vars = [counter, gauss_sum, pt2_ind, prob_grid]\n",
    "#     tf.while_loop(c, b, loop_vars)\n",
    "\n",
    "\n",
    "#     print('pt2_dense shape',pt2_dense.shape)\n",
    "#     for i in range(pt2_dense.shape[0]):\n",
    "#         print('i', i, 'pt2_ind[i]',pt2_ind[i].shape)\n",
    "#         gauss_sum[pt2_ind[i,:]] += prob_grid[i]"
   ]
  },
  {
   "cell_type": "code",
   "execution_count": null,
   "metadata": {
    "ExecuteTime": {
     "end_time": "2018-09-26T16:05:49.554110Z",
     "start_time": "2018-09-26T16:05:14.827455Z"
    },
    "hidden": true
   },
   "outputs": [],
   "source": [
    "with sess.as_default():\n",
    "#     init_sum.initializer()\n",
    "    r_ghm_norm  = gauss_heatmap_norm.eval()"
   ]
  },
  {
   "cell_type": "code",
   "execution_count": null,
   "metadata": {
    "ExecuteTime": {
     "end_time": "2018-11-26T15:23:31.256591Z",
     "start_time": "2018-11-26T15:23:30.929356Z"
    },
    "hidden": true
   },
   "outputs": [],
   "source": [
    "from mrcnn.visualize import plot_2d_gaussian, plot_3d_gaussian\n",
    "box = 23\n",
    "plot_3d_gaussian(r_ghm_norm[0,1])\n",
    "plot_3d_gaussian(r_ghm[0,1])\n",
    "# for i in range(81):\n",
    "#     print(np.max(r_kvar[0,i]), np.max(r_ghm[0,i]), np.sum(r_kvar[0,i]),np.sum(r_ghm[0,i]))\n",
    "# plot_3d_gaussian(r_prob_grid_norm_scaled[box])"
   ]
  },
  {
   "cell_type": "markdown",
   "metadata": {
    "heading_collapsed": true
   },
   "source": [
    "##  Plot heatmaps\n"
   ]
  },
  {
   "cell_type": "markdown",
   "metadata": {
    "hidden": true
   },
   "source": [
    "### Plot 2D heatmaps "
   ]
  },
  {
   "cell_type": "code",
   "execution_count": null,
   "metadata": {
    "ExecuteTime": {
     "end_time": "2018-11-27T15:00:41.752717Z",
     "start_time": "2018-11-27T15:00:41.178074Z"
    },
    "hidden": true,
    "hideCode": false,
    "hideOutput": false
   },
   "outputs": [],
   "source": [
    "from mrcnn.visualize import plot_one_bbox_heatmap, plot_3d_heatmap,plot_2d_heatmap, plot_2d_heatmap_with_bboxes\n",
    "import matplotlib as plt\n",
    "# %matplotlib notebook\n",
    "%matplotlib inline\n",
    "img_id = 0\n",
    "print('Image id: ',img_id)\n",
    "pr_class_ids = np.unique(model_pr_heatmap_scores[img_id,:,:,4]).astype(int).tolist()\n",
    "gt_class_ids = np.unique(model_gt_heatmap_scores[img_id,:,:,4]).astype(int).tolist()\n",
    "new_pr_class_ids = np.unique(r_pr_heatmap_scores[img_id,:,:,4]).astype(int).tolist()\n",
    "print('Image : {}  MODEL GT ClassIds: {}'.format(img_id, gt_class_ids))\n",
    "print('Image : {}  MODEL PR ClassIds: {}'.format(img_id, pr_class_ids))\n",
    "print('Image : {}        PR ClassIds: {}'.format(img_id, new_pr_class_ids))\n",
    "class_names = dataset_train.class_names"
   ]
  },
  {
   "cell_type": "markdown",
   "metadata": {
    "hidden": true
   },
   "source": [
    "####  2D plot of `pred_heatmap_norm` returned from model : `model_pred_heatmap_norm`"
   ]
  },
  {
   "cell_type": "code",
   "execution_count": null,
   "metadata": {
    "ExecuteTime": {
     "end_time": "2018-11-27T14:59:20.577809Z",
     "start_time": "2018-11-27T14:59:18.572288Z"
    },
    "hidden": true,
    "hideCode": false,
    "hideOutput": false,
    "scrolled": false
   },
   "outputs": [],
   "source": [
    "for img_id in [0]: ## range(mrcnn_config.BATCH_SIZE):\n",
    "    # print(pred_refined_heatmap_scores[img_id,:4])\n",
    "    print(model_pr_heatmap.shape)\n",
    "    print(model_pr_heatmap_scores.shape)\n",
    "    print('Image : {}  ClassIds: {}'.format(img_id, pr_class_ids))\n",
    "    plot_2d_heatmap(r_pr_heatmap, r_pr_heatmap_scores, img_id, columns = 3, \n",
    "                                class_ids = pr_class_ids , \n",
    "                                class_names = class_names, scale = 4)   "
   ]
  },
  {
   "cell_type": "markdown",
   "metadata": {
    "hidden": true
   },
   "source": [
    "####  2D plot of `pred_heatmap_norm` returned from model prediction: `res = predict(train_batch_x)`"
   ]
  },
  {
   "cell_type": "code",
   "execution_count": null,
   "metadata": {
    "ExecuteTime": {
     "end_time": "2018-11-27T14:58:38.152465Z",
     "start_time": "2018-11-27T14:58:37.728086Z"
    },
    "hidden": true,
    "hideCode": false,
    "hideOutput": false,
    "scrolled": false
   },
   "outputs": [],
   "source": [
    "\n",
    "for img_id in [0]: ## range(mrcnn_config.BATCH_SIZE):\n",
    "    # print(pred_refined_heatmap_scores[img_id,:4])\n",
    "    print(model_pr_heatmap.shape)\n",
    "    print(model_pr_heatmap_scores.shape)\n",
    "    print('Image : {}  ClassIds: {}'.format(img_id, pr_class_ids))\n",
    "    plot_2d_heatmap(r_pr_heatmap, r_pr_heatmap_scores, img_id, columns = 3, \n",
    "                                class_ids = pr_class_ids , \n",
    "                                class_names = class_names, scale = 4)       \n",
    "#     plot_2d_heatmap_with_bboxes(res[0], res[1], \n",
    "#                                 img_id, class_ids, width=6, height=6, class_names = class_names, scale = 4)"
   ]
  },
  {
   "cell_type": "code",
   "execution_count": null,
   "metadata": {
    "ExecuteTime": {
     "end_time": "2018-11-26T17:06:57.477946Z",
     "start_time": "2018-11-26T17:06:56.225055Z"
    },
    "hidden": true,
    "hideCode": false,
    "hideOutput": false,
    "scrolled": false
   },
   "outputs": [],
   "source": [
    "for img_id in [0]: ## range(mrcnn_config.BATCH_SIZE):\n",
    "    # print(pred_refined_heatmap_scores[img_id,:4])\n",
    "    print(r_pr_heatmap_max.shape)\n",
    "    print(r_pr_heatmap_scores.shape)\n",
    "    print('Image : {}  ClassIds: {}'.format(img_id, pr_class_ids))\n",
    "    plot_2d_heatmap(r_pr_heatmap_max, r_pr_heatmap_scores, img_id, columns = 3, \n",
    "                                class_ids = pr_class_ids , \n",
    "                                class_names = class_names, scale = 4)       \n",
    "#     plot_2d_heatmap_with_bboxes(res[0], res[1], \n",
    "#                                 img_id, class_ids, width=6, height=6, class_names = class_names, scale = 4)"
   ]
  },
  {
   "cell_type": "markdown",
   "metadata": {
    "hidden": true
   },
   "source": [
    "####  2D plot of `model_gt_heatmap_norm` returned from model"
   ]
  },
  {
   "cell_type": "code",
   "execution_count": null,
   "metadata": {
    "ExecuteTime": {
     "end_time": "2018-11-21T21:04:52.465593Z",
     "start_time": "2018-11-21T21:04:50.526539Z"
    },
    "hidden": true,
    "hideCode": false,
    "hideOutput": false,
    "scrolled": false
   },
   "outputs": [],
   "source": [
    "for img_id in [0]:     ##range(mrcnn_config.BATCH_SIZE):\n",
    "    print(model_gt_heatmap.shape)\n",
    "    print('Image : {}  ClassIds: {}'.format(img_id, gt_class_ids))\n",
    "    plot_2d_heatmap_with_bboxes(model_gt_heatmap, model_gt_heatmap_scores, img_id,  \n",
    "                                class_ids = gt_class_ids, columns= 5, class_names = class_names, scale = 4)"
   ]
  },
  {
   "cell_type": "markdown",
   "metadata": {
    "hidden": true
   },
   "source": [
    "###  3D Plots"
   ]
  },
  {
   "cell_type": "markdown",
   "metadata": {
    "hidden": true
   },
   "source": [
    "####  3D plot of `model_pred_heatmap_norm` returned form model"
   ]
  },
  {
   "cell_type": "code",
   "execution_count": null,
   "metadata": {
    "ExecuteTime": {
     "end_time": "2018-11-09T17:50:55.428330Z",
     "start_time": "2018-11-09T17:50:52.799096Z"
    },
    "hidden": true,
    "hideCode": false,
    "hideOutput": false,
    "scrolled": false
   },
   "outputs": [],
   "source": [
    "for img_id in [0]: ##range(mrcnn_config.BATCH_SIZE):\n",
    "    print(model_pred_heatmap_norm.shape)\n",
    "    class_ids = np.unique(model_pred_heatmap_scores[img_id,:,:,4]).astype(int).tolist()\n",
    "    print('Image : {}  ClassIds: {}'.format(img_id, class_ids))\n",
    "    plot_3d_heatmap(model_pred_heatmap_norm, img_id, class_ids, class_names = class_names)\n"
   ]
  },
  {
   "cell_type": "markdown",
   "metadata": {
    "hidden": true
   },
   "source": [
    "####  3D plot of  `pred_heatmap_norm` returned form code above"
   ]
  },
  {
   "cell_type": "code",
   "execution_count": null,
   "metadata": {
    "ExecuteTime": {
     "end_time": "2018-11-26T17:10:14.206712Z",
     "start_time": "2018-11-26T17:10:10.942375Z"
    },
    "hidden": true,
    "hideCode": false,
    "hideOutput": false,
    "scrolled": false
   },
   "outputs": [],
   "source": [
    "for img_id in [0]: ## range(mrcnn_config.BATCH_SIZE):\n",
    "    print(r_pr_heatmap.shape)\n",
    "#     class_ids = np.unique(pred_heatmap_scores[img_id,:,:,4]).astype(int).tolist()\n",
    "#     print('Image : {}  ClassIds: {}'.format(img_id, class_ids))\n",
    "    plot_3d_heatmap(r_pr_heatmap, img_id, pr_class_ids, class_names = class_names)"
   ]
  },
  {
   "cell_type": "code",
   "execution_count": null,
   "metadata": {
    "ExecuteTime": {
     "end_time": "2018-11-26T17:11:24.839875Z",
     "start_time": "2018-11-26T17:11:21.867766Z"
    },
    "hidden": true,
    "hideCode": false,
    "hideOutput": false,
    "scrolled": false
   },
   "outputs": [],
   "source": [
    "for img_id in [0]: ## range(mrcnn_config.BATCH_SIZE):\n",
    "    print(r_pr_heatmap_max.shape)\n",
    "#     class_ids = np.unique(pred_heatmap_scores[img_id,:,:,4]).astype(int).tolist()\n",
    "#     print('Image : {}  ClassIds: {}'.format(img_id, class_ids))\n",
    "    plot_3d_heatmap(r_pr_heatmap_max_norm, img_id, pr_class_ids, class_names = class_names)"
   ]
  },
  {
   "cell_type": "markdown",
   "metadata": {
    "hidden": true
   },
   "source": [
    "####  3D plot of  `model_gt_heatmap_norm` returned form code above"
   ]
  },
  {
   "cell_type": "code",
   "execution_count": null,
   "metadata": {
    "ExecuteTime": {
     "end_time": "2018-11-09T18:01:03.648360Z",
     "start_time": "2018-11-09T18:00:59.304710Z"
    },
    "hidden": true,
    "hideCode": false,
    "hideOutput": false,
    "scrolled": false
   },
   "outputs": [],
   "source": [
    "for img_id in [0]: ## range(mrcnn_config.BATCH_SIZE):\n",
    "    print(model_gt_heatmap.shape)\n",
    "    class_ids = np.unique(model_gt_heatmap_scores[img_id,:,:,4]).astype(int).tolist()\n",
    "    print('Image : {}  ClassIds: {}'.format(img_id, class_ids))\n",
    "    plot_3d_heatmap(model_gt_heatmap, img_id, class_ids,  class_names = class_names)\n"
   ]
  },
  {
   "cell_type": "markdown",
   "metadata": {
    "hidden": true
   },
   "source": [
    "####  3D plot of  `gt_heatmap_norm` returned form code above"
   ]
  },
  {
   "cell_type": "code",
   "execution_count": null,
   "metadata": {
    "ExecuteTime": {
     "end_time": "2018-10-15T19:53:48.031070Z",
     "start_time": "2018-10-15T19:53:43.844950Z"
    },
    "hidden": true,
    "hideCode": false,
    "hideOutput": false,
    "scrolled": false
   },
   "outputs": [],
   "source": [
    "for img_id in [1]: ## range(mrcnn_config.BATCH_SIZE):\n",
    "    print(gt_heatmap_norm.shape)\n",
    "    class_ids = np.unique(gt_heatmap_scores[img_id,:,:,4]).astype(int).tolist()\n",
    "    print('Image : {}  ClassIds: {}'.format(img_id, class_ids))\n",
    "    plot_3d_heatmap(gt_heatmap_norm, img_id, class_ids, width=6, height=6, class_names = class_names)\n"
   ]
  },
  {
   "cell_type": "markdown",
   "metadata": {
    "heading_collapsed": true,
    "hidden": true
   },
   "source": [
    "#### Verfiy max and min of gaussian heatmaps are 1.0 and 0.0, respectively "
   ]
  },
  {
   "cell_type": "code",
   "execution_count": null,
   "metadata": {
    "ExecuteTime": {
     "end_time": "2018-11-09T18:02:52.757214Z",
     "start_time": "2018-11-09T18:02:52.332947Z"
    },
    "hidden": true,
    "scrolled": false
   },
   "outputs": [],
   "source": [
    "np.set_printoptions(precision=4, threshold=None, linewidth=200, suppress=True)\n",
    "print(model_pred_heatmap_norm.shape)\n",
    "hm_max = np.max(model_pred_heatmap_norm, axis = (1,2))\n",
    "hm_min = np.min(model_pred_heatmap_norm, axis = (1,2))\n",
    "print(hm_max.shape)\n",
    "for img_id in range(mrcnn_config.BATCH_SIZE):\n",
    "    # print(pred_refined_heatmap_scores[img_id,:4])\n",
    "    class_ids = np.unique(model_pred_heatmap_scores[img_id,:,:,4]).astype(int).tolist()\n",
    "    print('\\n Image : {}  ClassIds: {}'.format(img_id, class_ids))\n",
    "    print('-'*38)\n",
    "    for cls in class_ids: \n",
    "        print(' class: {}   max: {}  min: {}'.format(cls, hm_max[img_id,cls], hm_min[img_id,cls]))\n",
    "#         print(pred_heatmap_scores[img_id, cls])\n",
    "\n",
    "print(model_gt_heatmap.shape)\n",
    "hm_max = np.max(model_gt_heatmap, axis = (1,2))\n",
    "hm_min = np.min(model_gt_heatmap, axis = (1,2))\n",
    "print(hm_max.shape)\n",
    "for img_id in range(mrcnn_config.BATCH_SIZE):\n",
    "    # print(pred_refined_heatmap_scores[img_id,:4])\n",
    "    class_ids = np.unique(model_gt_heatmap_scores[img_id,:,:,4]).astype(int).tolist()\n",
    "    print('\\n Image : {}  ClassIds: {}'.format(img_id, class_ids))\n",
    "    print('-'*38)\n",
    "    for cls in class_ids: \n",
    "        print(' class: {}   max: {}  min: {}'.format(cls, hm_max[img_id,cls], hm_min[img_id,cls]))\n",
    "#         print(pred_heatmap_scores[img_id, cls])\n",
    "        \n",
    "     "
   ]
  },
  {
   "cell_type": "markdown",
   "metadata": {
    "heading_collapsed": true,
    "hidden": true
   },
   "source": [
    "###  Display `pred_scatter` heatmaps for all bounding boxes of an image"
   ]
  },
  {
   "cell_type": "code",
   "execution_count": null,
   "metadata": {
    "ExecuteTime": {
     "end_time": "2018-05-20T14:13:12.230708Z",
     "start_time": "2018-05-20T14:13:10.485070Z"
    },
    "hidden": true,
    "hideCode": false,
    "hideOutput": true,
    "scrolled": false
   },
   "outputs": [],
   "source": [
    "%matplotlib notebook\n",
    "print('Image id: ',image_id , '    Classes (1: circle, 2: square, 3: triangle ): ')\n",
    "img = 1\n",
    "print(pred_heatmap_scores[img,0,0])\n",
    "plot_bbox_heatmaps(gauss_scatt[img], pred_tensor[img], width = 15, height=25, num_bboxes=12)"
   ]
  },
  {
   "cell_type": "markdown",
   "metadata": {
    "heading_collapsed": true,
    "hidden": true
   },
   "source": [
    "###  Display `gauss_heatmap` heatmap (not normalized, normlized, L2 normalized)"
   ]
  },
  {
   "cell_type": "code",
   "execution_count": null,
   "metadata": {
    "ExecuteTime": {
     "end_time": "2018-09-19T12:54:21.168641Z",
     "start_time": "2018-09-19T12:54:21.110294Z"
    },
    "hidden": true,
    "hideCode": false,
    "hideOutput": false,
    "scrolled": true
   },
   "outputs": [],
   "source": [
    "\n",
    "%matplotlib notebook\n",
    "print('Image id: ',image_id , '    Classes (1: circle, 2: square, 3: triangle ): ')\n",
    "img = 0\n",
    "print(pred_heatmap_scores[img,0,0])\n",
    "# plot_one_heatmap(pred_heatmap[img], pred_heatmap_scores[img], width=19, num_bboxes = 10, title='Non-normalized')\n",
    "plot_gaussian(pred_heatmap_norm[img,:,:,1],0, \n",
    "plot_one_heatmap(pred_heatmap_norm[img], pred_heatmap_scores[img], width=19, num_bboxes = 10, title='normalized')\n",
    "# plot_one_heatmap(pred_heatmap_L2norm[img], pred_heatmap_scores[img], width=19, num_bboxes = 10, title='L2-normalized')\n",
    "# plot_heatmaps(pred_heatmap, pred_heatmap_scores, width = 15, num_bboxes=12)"
   ]
  },
  {
   "cell_type": "markdown",
   "metadata": {
    "heading_collapsed": true,
    "hidden": true
   },
   "source": [
    "###  Display `gauss_heatmap` 3D heatmap (not normalized, normlized, L2 normalized)"
   ]
  },
  {
   "cell_type": "code",
   "execution_count": null,
   "metadata": {
    "ExecuteTime": {
     "end_time": "2018-05-20T14:43:53.940653Z",
     "start_time": "2018-05-20T14:43:52.360486Z"
    },
    "hidden": true,
    "hideCode": false,
    "hideOutput": false,
    "scrolled": false
   },
   "outputs": [],
   "source": [
    "from mrcnn.visualize import plot_3d_heatmap\n",
    "%matplotlib notebook\n",
    "print('Image id: ',image_id , '    Classes (1: circle, 2: square, 3: triangle ): ')\n",
    "img = 1\n",
    "print(pred_heatmap_scores[img,cls,:10])\n",
    "\n",
    "ttl = 'Non-normalized - image: {}'.format(img)\n",
    "plot_3d_heatmap(pred_heatmap[img], title = ttl, width = 20)\n",
    "plot_one_heatmap(pred_heatmap[img], pred_heatmap_scores[img], width=15, title=ttl)\n",
    "\n",
    "ttl = 'Normalized - image: {}'.format(img)\n",
    "plot_3d_heatmap(pred_heatmap[img], title = ttl, width = 20)\n",
    "plot_one_heatmap(pred_heatmap[img], pred_heatmap_scores[img], width=15, title=ttl)\n"
   ]
  },
  {
   "cell_type": "markdown",
   "metadata": {
    "hidden": true
   },
   "source": [
    "###  Find maximum of gaussian distributions for the pred_heatmap\n",
    "Potentially use this as our heatmap scores \n",
    "Found out that using MAX values from the class heatmap (currently generated from the pred_tensor that itself is generated form output_rois and mrcnn_class) is not a viable option, because mutlple max values tend to congreagate around the peak of the gaussian distribution. \n",
    "This is also the case for gt_heatmaps.\n",
    "This will probably also be the case for the FCN output."
   ]
  },
  {
   "cell_type": "markdown",
   "metadata": {
    "heading_collapsed": true,
    "hidden": true
   },
   "source": [
    "#### pred_heatmap"
   ]
  },
  {
   "cell_type": "code",
   "execution_count": null,
   "metadata": {
    "ExecuteTime": {
     "end_time": "2018-05-11T13:23:37.739059Z",
     "start_time": "2018-05-11T13:23:37.484900Z"
    },
    "hidden": true,
    "hideCode": false,
    "hideOutput": true,
    "scrolled": false
   },
   "outputs": [],
   "source": [
    "np.set_printoptions(linewidth=150, threshold=10000)\n",
    "\n",
    "print(pred_hm.shape)\n",
    "cls_hm = pred_hm[0,:,:,2]\n",
    "print(cls_hm.shape)\n",
    "print(np.unravel_index(np.argmax(cls_hm) , cls_hm.shape) )\n",
    "print(np.max(cls_hm))\n",
    "\n",
    "print(pred_hm_norm.shape)\n",
    "cls_hm_norm = pred_hm_norm[0,:,:,2]\n",
    "print(cls_hm_norm.shape)\n",
    "print(np.unravel_index(np.argmax(cls_hm_norm) , cls_hm_norm.shape) )\n",
    "print(np.max(cls_hm_norm))\n"
   ]
  },
  {
   "cell_type": "code",
   "execution_count": null,
   "metadata": {
    "ExecuteTime": {
     "end_time": "2018-05-11T13:09:06.929477Z",
     "start_time": "2018-05-11T13:09:06.655253Z"
    },
    "hidden": true,
    "hideCode": false,
    "hideOutput": true
   },
   "outputs": [],
   "source": [
    "hm_ls =np.ravel(cls_hm)\n",
    "hm_ls_norm = np.ravel(cls_hm_norm)\n",
    "srtlst = np.argsort(hm_ls)\n",
    "srtlst_norm = np.argsort(hm_ls_norm)\n",
    "print(' Sortlist')\n",
    "print(srtlst[::-1])\n",
    "print(srtlst.shape)\n",
    "print('---- norm ------')\n",
    "print(srtlst_norm[::-1])\n",
    "print(srtlst_norm.shape)\n",
    "\n",
    "print(' Top scores')\n",
    "top_scores = srtlst[:-21:-1]\n",
    "print('---- norm ------')\n",
    "top_scores_norm = srtlst_norm[:-21:-1]\n",
    "print(len(top_scores),top_scores)\n",
    "print(' Top items ')\n",
    "for i in top_scores :\n",
    "    print( i , '  ', np.unravel_index(i, cls_hm.shape))\n",
    "print('---- norm ------')    \n",
    "for i in top_scores_norm :\n",
    "    print( i , '  ', np.unravel_index(i, cls_hm_norm.shape))\n",
    "print(' Top scores ')\n",
    "print(hm_ls[top_scores])\n",
    "print('---- norm ------')    \n",
    "print(hm_ls_norm[top_scores_norm])\n"
   ]
  },
  {
   "cell_type": "markdown",
   "metadata": {
    "heading_collapsed": true,
    "hidden": true
   },
   "source": [
    "#### gt_heatmap"
   ]
  },
  {
   "cell_type": "code",
   "execution_count": null,
   "metadata": {
    "ExecuteTime": {
     "end_time": "2018-05-11T13:24:12.185707Z",
     "start_time": "2018-05-11T13:24:11.932533Z"
    },
    "hidden": true,
    "hideCode": false,
    "hideOutput": true,
    "scrolled": true
   },
   "outputs": [],
   "source": [
    "np.set_printoptions(linewidth=150, threshold=10000)\n",
    "print(pred_hm.shape)\n",
    "cls_hm = gt_hm[0,:,:,2]\n",
    "print(cls_hm.shape)\n",
    "print(np.unravel_index(np.argmax(cls_hm) , cls_hm.shape) )\n",
    "print(np.max(cls_hm))\n",
    "\n",
    "print('---- norm -----')\n",
    "print(gt_hm_norm.shape)\n",
    "cls_hm_norm = gt_hm_norm[0,:,:,2]\n",
    "print(cls_hm_norm.shape)\n",
    "print(np.unravel_index(np.argmax(cls_hm_norm) , cls_hm_norm.shape) )\n",
    "print(np.max(cls_hm_norm))\n",
    "\n"
   ]
  },
  {
   "cell_type": "code",
   "execution_count": null,
   "metadata": {
    "ExecuteTime": {
     "end_time": "2018-05-11T13:24:14.243495Z",
     "start_time": "2018-05-11T13:24:13.965220Z"
    },
    "hidden": true,
    "hideCode": false,
    "hideOutput": true
   },
   "outputs": [],
   "source": [
    "hm_ls =np.ravel(cls_hm)\n",
    "hm_ls_norm = np.ravel(cls_hm_norm)\n",
    "srtlst = np.argsort(hm_ls)\n",
    "srtlst_norm = np.argsort(hm_ls_norm)\n",
    "print(' Sortlist')\n",
    "print(srtlst[::-1])\n",
    "print(srtlst.shape)\n",
    "print('---- norm ------')\n",
    "print(srtlst_norm[::-1])\n",
    "print(srtlst_norm.shape)\n",
    "\n",
    "print(' Top scores')\n",
    "top_scores = srtlst[:-21:-1]\n",
    "print('---- norm ------')\n",
    "top_scores_norm = srtlst_norm[:-21:-1]\n",
    "print(len(top_scores),top_scores)\n",
    "print(' Top items ')\n",
    "for i in top_scores :\n",
    "    print( i , '  ', np.unravel_index(i, cls_hm.shape))\n",
    "print('---- norm ------')    \n",
    "for i in top_scores_norm :\n",
    "    print( i , '  ', np.unravel_index(i, cls_hm_norm.shape))\n",
    "print(' Top scores ')\n",
    "print(hm_ls[top_scores])\n",
    "print('---- norm ------')    \n",
    "print(hm_ls_norm[top_scores_norm])\n"
   ]
  },
  {
   "cell_type": "code",
   "execution_count": null,
   "metadata": {
    "ExecuteTime": {
     "end_time": "2018-05-11T11:48:39.739236Z",
     "start_time": "2018-05-11T11:48:39.479040Z"
    },
    "hidden": true,
    "hideCode": false
   },
   "outputs": [],
   "source": [
    "max_a = np.max(cls_pred_heatmap)\n",
    "print(max_a.shape)\n",
    "\n",
    "print(np.unravel_index(np.argmax(prob_a) , prob_a.shape) )\n",
    "\n",
    "print()\n",
    "\n",
    "print(' covar ', covar_sqrd)\n",
    "print(prob_b[35:50, 45:54])\n",
    "max_b = np.max(prob_b)\n",
    "print(np.unravel_index(np.argmax(prob_b) , prob_b.shape) )\n",
    "\n",
    "print('max a , max_b ', max_a, max_b, max_a/max_b)"
   ]
  },
  {
   "cell_type": "markdown",
   "metadata": {
    "heading_collapsed": true,
    "hideCode": true,
    "hidePrompt": false
   },
   "source": [
    "##  `development build_heatmap_tf ()` "
   ]
  },
  {
   "cell_type": "markdown",
   "metadata": {
    "hidden": true,
    "hideCode": true,
    "hidePrompt": false
   },
   "source": [
    "### Generate Multivariate Normal Distribution from Pred_Tensor\n",
    "\n",
    "`pred_tensor[:,:,:,1:7]`  == `[116.9736  21.8213  36.2715  45.6026   0.    0.9139   ]`\n",
    "\n",
    "\n",
    "Detections returned by `detect()` routine:\n",
    "\n",
    "`[[ 25.          18.          80.          72.           2.           0.99936014]\n",
    "  [ 51.           3.         106.          71.           3.           0.99924326]`"
   ]
  },
  {
   "cell_type": "code",
   "execution_count": null,
   "metadata": {
    "hidden": true
   },
   "outputs": [],
   "source": []
  },
  {
   "cell_type": "markdown",
   "metadata": {
    "hidden": true
   },
   "source": [
    "### Prepare values to pass to build_gaussian_tf"
   ]
  },
  {
   "cell_type": "code",
   "execution_count": null,
   "metadata": {
    "ExecuteTime": {
     "end_time": "2018-05-10T14:59:46.125773Z",
     "start_time": "2018-05-10T14:59:45.878270Z"
    },
    "hidden": true,
    "hideCode": false,
    "scrolled": true
   },
   "outputs": [],
   "source": [
    "img = 1\n",
    "max_score = np.max(mrcnn_class, axis = -1)\n",
    "max_class = np.argmax(mrcnn_class, axis = -1)\n",
    "print(' output_rois[',img,'] \\n', output_rois[1]*[128,128,128,128])\n",
    "print('max class shape:',max_class.shape, 'max score shape: ',max_score.shape)\n",
    "print('max class[',img,']\\n',max_class[img])\n",
    "print('max score[',img,']\\n',max_score[img])\n",
    "print(' mrcnn class.shape ',mrcnn_class.shape)\n",
    "print('marcnn_classe[',img,',:]\\n',mrcnn_class[1,:])\n",
    "# print(output_rois[1])\n",
    " "
   ]
  },
  {
   "cell_type": "markdown",
   "metadata": {
    "heading_collapsed": true,
    "hidden": true,
    "hideCode": false,
    "hidePrompt": false
   },
   "source": [
    "####  Display for visual check - `pred_tensor` is the final result which is passed on to  `build_gaussian_tf()`"
   ]
  },
  {
   "cell_type": "code",
   "execution_count": null,
   "metadata": {
    "ExecuteTime": {
     "end_time": "2018-05-11T13:49:20.117333Z",
     "start_time": "2018-05-11T13:49:19.805503Z"
    },
    "hidden": true,
    "hideCode": false,
    "hidePrompt": false,
    "scrolled": false
   },
   "outputs": [],
   "source": [
    "# with sess.as_default():\n",
    "np.set_printoptions(linewidth=150, precision=6)\n",
    "# print('scatter shape is ', pred_scatt.get_shape())\n",
    "print('pred_tensor shape is ', pred_tensor.shape)\n",
    "img = 0\n",
    "print('Image ', img , '/ Class 0 ------------')\n",
    "print(pred_tensor[img,0])\n",
    "print('Image ', img , '/ Class 1 ------------')\n",
    "print(pred_tensor[img,1])\n",
    "print('Image ', img , '/ Class 2 ------------')\n",
    "print(pred_tensor[img,2])\n",
    "print('Image ', img , '/ Class 3 ------------')\n",
    "print(pred_tensor[img,3])\n"
   ]
  },
  {
   "cell_type": "markdown",
   "metadata": {
    "heading_collapsed": true,
    "hidden": true,
    "hideCode": true,
    "hidePrompt": false
   },
   "source": [
    "####  Display for visual check - `gt_tensor` is the final result which is passed on to  `build_gaussian_tf()`"
   ]
  },
  {
   "cell_type": "code",
   "execution_count": null,
   "metadata": {
    "ExecuteTime": {
     "end_time": "2018-05-11T13:51:18.251895Z",
     "start_time": "2018-05-11T13:51:17.973154Z"
    },
    "hidden": true,
    "hideCode": true
   },
   "outputs": [],
   "source": [
    "# with sess.as_default():\n",
    "np.set_printoptions(linewidth=150, precision=6)\n",
    "# print('scatter shape is ', pred_scatt.get_shape())\n",
    "print('pred_tensor shape is ', gt_tensor.shape)\n",
    "img = 1\n",
    "print('Image ', img , '/ Class 0 ------------')\n",
    "print(gt_tensor[img,0])\n",
    "print('Image ', img , '/ Class 1 ------------')\n",
    "print(gt_tensor[img,1])\n",
    "print('Image ', img , '/ Class 2 ------------')\n",
    "print(gt_tensor[img,2])\n",
    "print('Image ', img , '/ Class 3 ------------')\n",
    "print(gt_tensor[img,3])\n"
   ]
  },
  {
   "cell_type": "markdown",
   "metadata": {
    "hidden": true
   },
   "source": [
    "\n",
    "\n",
    "### Plot heatmap produced by network `fcn_bilinear` and compare with `pred_gaussian`"
   ]
  },
  {
   "cell_type": "code",
   "execution_count": null,
   "metadata": {
    "ExecuteTime": {
     "end_time": "2018-05-19T20:56:18.789494Z",
     "start_time": "2018-05-19T20:56:18.196391Z"
    },
    "hidden": true,
    "hideCode": false,
    "hideOutput": true,
    "scrolled": false
   },
   "outputs": [],
   "source": [
    "from mrcnn.visualize import plot_gaussian, plot_gaussian_2d\n",
    "import matplotlib as plt\n",
    "\n",
    "%matplotlib notebook\n",
    "img = 2\n",
    "cls = 2\n",
    "image_id = input_image_meta[img,0]\n",
    "image = dataset_train.load_image(image_id)\n",
    "mask, class_ids = dataset_train.load_mask(image_id)\n",
    "visualize.display_top_masks(image, mask, class_ids, dataset_train.class_names)\n",
    "Zout1 = pred_heatmap     # gt_gaussiam \n",
    "Zout2 = pred_heatmap_norm  # fcn_bilinear\n",
    "Zout3 = pred_heatmap_L2norm  # fcn_bilinear\n",
    "\n",
    "print(Zout1.shape, Zout2.shape)\n",
    "num_images = config.IMAGES_PER_GPU\n",
    "num_classes = config.NUM_CLASSES\n",
    "print(pred_tensor[img,cls,:10])\n",
    "print(pred_tensor.shape)\n",
    "print('Image id: ',image_id)\n",
    "print('Classes (1: circle, 2: square, 3: triangle ): ')\n",
    "\n",
    "width = 9\n",
    "# for j in [cls] : #range(num_classes):\n",
    "print(pred_heatmap_scores[img,cls,:10])\n",
    "ttl = 'Pred_hm      - image :  {} class: {} '.format(img,j)\n",
    "plot_gaussian_2d(Zout1[img,:,:,j], title = ttl, width = width)\n",
    "\n",
    "ttl = 'pred_norm - image :  {} class: {} '.format(img,j)     \n",
    "plot_gaussian_2d(Zout2[img,:,:,j], title = ttl, width = width)  \n",
    "\n",
    "ttl = 'pred_norm_L2 - image :  {} class: {} '.format(img,j)     \n",
    "plot_gaussian_2d(Zout3[img,:,:,j], title = ttl, width = width)  \n",
    "\n",
    "\n",
    "from mrcnn.visualize import display_gt_bboxes, display_roi_proposals\n",
    "model_info = [model, config, dataset_train, train_generator]\n",
    "display_roi_proposals(model_info, input_image_meta, pred_tensor, [cls], 0)"
   ]
  },
  {
   "cell_type": "code",
   "execution_count": null,
   "metadata": {
    "ExecuteTime": {
     "end_time": "2018-05-19T13:03:17.009403Z",
     "start_time": "2018-05-19T13:03:16.778767Z"
    },
    "hidden": true,
    "hideCode": false,
    "hideOutput": false,
    "scrolled": false
   },
   "outputs": [],
   "source": [
    "%matplotlib notebook\n",
    "width = 12\n",
    "plot_gaussian2([pred_heatmap_norm, fcn_heatmap_norm], image_idx = 0, title = ttl, width = width)  \n"
   ]
  },
  {
   "cell_type": "markdown",
   "metadata": {
    "hidden": true,
    "hideCode": false,
    "hidePrompt": false
   },
   "source": [
    "###  Test `means`, `covar`, `gauss_grid`, and `gauss_sum ` between development version and final version"
   ]
  },
  {
   "cell_type": "code",
   "execution_count": null,
   "metadata": {
    "ExecuteTime": {
     "end_time": "2018-05-02T11:10:10.133108Z",
     "start_time": "2018-05-02T11:10:09.386212Z"
    },
    "hidden": true,
    "hideCode": false,
    "hidePrompt": false
   },
   "outputs": [],
   "source": [
    "print(means.get_shape(), means.get_shape())\n",
    "tst1 = means.eval()\n",
    "tst2 = means2.eval()\n",
    "print(tst1.shape, tst2.shape)\n",
    "\n",
    "print(tst1[0,:10])\n",
    "print()\n",
    "print(tst2[0,:10])\n",
    "print(np.all(tst1 == tst2))\n",
    "print()\n",
    "del tst1, tst2"
   ]
  },
  {
   "cell_type": "code",
   "execution_count": null,
   "metadata": {
    "ExecuteTime": {
     "end_time": "2018-05-02T11:10:14.482950Z",
     "start_time": "2018-05-02T11:10:14.205020Z"
    },
    "hidden": true,
    "hideCode": false,
    "hidePrompt": false,
    "scrolled": false
   },
   "outputs": [],
   "source": [
    "tst1 = st.eval()\n",
    "tst2 = st2.eval()\n",
    "print(tst1.shape, tst2.shape)\n",
    "\n",
    "print(tst1[0,:10])\n",
    "print()\n",
    "print(tst2[0,:10])\n",
    "print(np.all(tst1 == tst2))\n",
    "print()\n",
    "del tst1, tst2"
   ]
  },
  {
   "cell_type": "code",
   "execution_count": null,
   "metadata": {
    "ExecuteTime": {
     "end_time": "2018-05-02T11:10:18.158709Z",
     "start_time": "2018-05-02T11:10:17.474806Z"
    },
    "hidden": true,
    "hideCode": false,
    "hidePrompt": false,
    "scrolled": false
   },
   "outputs": [],
   "source": [
    "tst1 = gauss_grid.eval()\n",
    "tst2 = gauss_grid2.eval()\n",
    "print(tst1.shape, tst2.shape)\n",
    "\n",
    "print(tst1[0,0,:10])\n",
    "print()\n",
    "print(tst2[0,0,:10])\n",
    "print(np.all(tst1 == tst2))\n",
    "# print()\n",
    "del tst1, tst2"
   ]
  },
  {
   "cell_type": "code",
   "execution_count": null,
   "metadata": {
    "ExecuteTime": {
     "end_time": "2018-05-02T11:10:23.859635Z",
     "start_time": "2018-05-02T11:10:23.164182Z"
    },
    "hidden": true,
    "hideCode": false,
    "hidePrompt": false,
    "scrolled": false
   },
   "outputs": [],
   "source": [
    "tst1 = gauss_sum.eval()\n",
    "tst2 = gauss_sum2.eval()\n",
    "print(tst1.shape, tst2.shape)\n",
    "\n",
    "# print(tst1[0,0,:10])\n",
    "# print()\n",
    "# print(tst2[0,0,:10])\n",
    "print(np.all(tst1 == tst2))\n",
    "# print()\n",
    "del tst1, tst2"
   ]
  },
  {
   "cell_type": "code",
   "execution_count": null,
   "metadata": {
    "hidden": true,
    "hideCode": false,
    "hidePrompt": false
   },
   "outputs": [],
   "source": []
  },
  {
   "cell_type": "code",
   "execution_count": null,
   "metadata": {
    "ExecuteTime": {
     "end_time": "2018-05-19T19:52:46.002369Z",
     "start_time": "2018-05-19T19:52:45.737646Z"
    },
    "hidden": true,
    "hideCode": false,
    "hideOutput": true,
    "hidePrompt": false,
    "scrolled": false
   },
   "outputs": [],
   "source": [
    "np.set_printoptions(linewidth=150, threshold=10000)\n",
    "from scipy.stats import  multivariate_normal\n",
    "# Build mesh-grid to hold pixel coordinates ----------------------------------\n",
    "XX = np.arange(0, img_w, 1)\n",
    "YY = np.arange(0, img_h, 1)\n",
    "XX, YY = np.meshgrid(XX, YY)\n",
    "print('XX shape', XX.shape)\n",
    "pos  = np.empty(XX.shape + (2,))   # concatinate shape of x to make ( x.rows, x.cols, 2)\n",
    "pos[:,:,0] = XX;\n",
    "pos[:,:,1] = YY;\n",
    "print('XX')\n",
    "print(XX)\n",
    "print('YY')\n",
    "print(YY)\n",
    "print(pos[0,:,:])\n",
    "print(pos[0])\n",
    "print(grid[0].eval())\n",
    "print(' pos type    ', type(pos), type(grid))\n",
    "print(' grid shape ', pos.shape, grid.shape)\n",
    "print(np.all(pos == grid.eval()))\n",
    "mean = np.array([1,2])\n",
    "covar = np.array([[1,0],[0,1]])\n",
    "print(' mean  ', mean)\n",
    "print(' covar ', covar)\n",
    "mvna   = multivariate_normal(mean, covar)\n",
    "prob_a = mvna.pdf(pos)\n",
    "\n",
    "# mvnb = multivariate_normal(mean, covar_sqrd)\n",
    "# prob_b = mvnb.pdf(pos)\n",
    "\n",
    "# print(prob_a[35:50, 45:54])\n",
    "# max_a = np.max(prob_a)\n",
    "# print(np.unravel_index(np.argmax(prob_a) , prob_a.shape) )\n",
    "\n",
    "# print()\n",
    "\n",
    "# print(' covar ', covar_sqrd)\n",
    "# print(prob_b[35:50, 45:54])\n",
    "# max_b = np.max(prob_b)\n",
    "# print(np.unravel_index(np.argmax(prob_b) , prob_b.shape) )\n",
    "\n",
    "# print('max a , max_b ', max_a, max_b, max_a/max_b)"
   ]
  },
  {
   "cell_type": "code",
   "execution_count": null,
   "metadata": {
    "hidden": true
   },
   "outputs": [],
   "source": []
  },
  {
   "cell_type": "code",
   "execution_count": null,
   "metadata": {
    "ExecuteTime": {
     "end_time": "2018-05-19T20:08:23.894913Z",
     "start_time": "2018-05-19T20:08:22.044145Z"
    },
    "hidden": true,
    "hideCode": false,
    "hidePrompt": false
   },
   "outputs": [],
   "source": [
    "with sess.as_default():\n",
    "    #-----------------------------------------------------------------------------\n",
    "    ## Build mesh-grid to hold pixel coordinates  \n",
    "    #-----------------------------------------------------------------------------\n",
    "    X = tf.range(80, dtype=tf.int32)\n",
    "    Y = tf.range(80, dtype=tf.int32)\n",
    "    X, Y = tf.meshgrid(X, Y)\n",
    "\n",
    "    # duplicate (repeat) X and Y into a  batch_size x rois_per_image tensor\n",
    "    print('    X/Y shapes :',  X.get_shape(), Y.get_shape())\n",
    "    ones = tf.ones([1, 1, 1], dtype = tf.int32)\n",
    "    rep_X = ones * X\n",
    "    rep_Y = ones * Y \n",
    "    print('    Ones:    ', ones.shape)                \n",
    "    print('    ones_exp * X', ones.shape, '*', X.shape, '= ',rep_X.shape)\n",
    "    print('    ones_exp * Y', ones.shape, '*', Y.shape, '= ',rep_Y.shape)\n",
    "\n",
    "    # # stack the X and Y grids \n",
    "    bef_pos = tf.to_float(tf.stack([rep_X,rep_Y], axis = -1))\n",
    "    print('    before transpse ', tf.shape(bef_pos).eval())\n",
    "    pos_grid = tf.transpose(bef_pos,[1,2,0,3])\n",
    "    print('    after transpose ', tf.shape(pos_grid).eval())    \n",
    "    pt2_den = tf.constant([[10,10,30,70]], dtype = tf.float32)\n",
    "    print(type(pt2_den))\n",
    "    #-----------------------------------------------------------------------------\n",
    "    ##  Build mean and convariance tensors for Multivariate Normal Distribution \n",
    "    #-----------------------------------------------------------------------------\n",
    "    width  = pt2_den[:,3] - pt2_den[:,1]      # x2 - x1\n",
    "    height = pt2_den[:,2] - pt2_den[:,0]\n",
    "    print(width.eval(), type(width))\n",
    "    print(height.eval(), type(height))\n",
    "    cx     = pt2_den[:,1] + tf.div( width  , 2.0)\n",
    "    cy     = pt2_den[:,0] + ( height / 2.0)\n",
    "    means  = tf.stack((cx,cy),axis = -1)\n",
    "    covar  = tf.stack((width * 0.5 , height * 0.5), axis = -1)\n",
    "    covar  = tf.sqrt(covar)\n",
    "    print(means.eval())\n",
    "    print(covar.eval())\n",
    "\n",
    "    tfd = tf.contrib.distributions\n",
    "    mvn = tfd.MultivariateNormalDiag( loc  = means,  scale_diag = covar)\n",
    "    prob_grid = mvn.prob(pos_grid)\n",
    "    print('     Prob_grid shape before tanspose: ',prob_grid.get_shape())\n",
    "    prob_grid = tf.transpose(prob_grid,[2,0,1])\n",
    "    print('     Prob_grid shape after tanspose: ',prob_grid.get_shape())    \n",
    "    print('    >> input to MVN.PROB: pos_grid (meshgrid) shape: ', pos_grid.get_shape())\n",
    "    print('    << output probabilities shape:' , prob_grid.get_shape())\n"
   ]
  },
  {
   "cell_type": "markdown",
   "metadata": {
    "heading_collapsed": true
   },
   "source": [
    "## Plot Image with bounding boxes from `output_rois`"
   ]
  },
  {
   "cell_type": "code",
   "execution_count": null,
   "metadata": {
    "ExecuteTime": {
     "end_time": "2018-09-21T12:53:03.431815Z",
     "start_time": "2018-09-21T12:53:03.337488Z"
    },
    "hidden": true
   },
   "outputs": [],
   "source": [
    "img_idx = 0\n",
    "image_id = input_image_meta[img_idx,0]\n",
    "image = dataset_train.load_image(image_id)\n",
    "mask, class_ids = dataset_train.load_mask(image_id)\n",
    "bbox = utils.extract_bboxes(mask)\n",
    "\n",
    "log(\"image\", image)\n",
    "log(\"mask\", mask)\n",
    "log(\"class_ids\", class_ids)\n",
    "log(\"bbox\", bbox)\n",
    "\n",
    "# class_names = [str(dataset_train.class_names[class_id]) for class_id in class_ids]\n",
    "class_names = dataset_train.class_names\n",
    "# visualize.display_top_masks(image, mask, class_ids, dataset_train.class_names)\n",
    "print('Classes     : ', class_ids)\n",
    "print(\"image_id    : \", image_id, ' Reference: ', dataset_train.image_reference(image_id))\n",
    "print(' class_ids    : ', class_ids.shape[0])\n",
    "print(' bbox         : ', bbox.shape[0])\n",
    "print(' output_rois: : ', output_rois.shape)\n",
    "print(' Image id     : ', image_id , '  Image meta', img_meta[img_idx,:10])\n",
    "print(' Classes      : ', [class_names[i] for i in class_ids])\n",
    "print(' Image window : ', img_meta[0, 4:8])\n",
    "print(' Image shape  : ', image.shape)\n"
   ]
  },
  {
   "cell_type": "markdown",
   "metadata": {
    "hidden": true
   },
   "source": [
    "#### Display `output_roi` without  delta refinement"
   ]
  },
  {
   "cell_type": "code",
   "execution_count": null,
   "metadata": {
    "ExecuteTime": {
     "end_time": "2018-09-21T12:55:18.047596Z",
     "start_time": "2018-09-21T12:55:17.482833Z"
    },
    "hidden": true
   },
   "outputs": [],
   "source": [
    "unormalized_rois = output_rois[img_idx] * [1024,1024,1024,1024]\n",
    "unrefined_rois   = utils.boxes_to_image_domain(unormalized_rois, img_meta[0] )\n",
    "visualize.draw_rois(image, unrefined_rois, target_class_ids[0], class_names, limit=5) #, random = True)"
   ]
  },
  {
   "cell_type": "markdown",
   "metadata": {
    "hidden": true
   },
   "source": [
    "#### Display `output_rois` with after clipping to image boundaries"
   ]
  },
  {
   "cell_type": "code",
   "execution_count": null,
   "metadata": {
    "ExecuteTime": {
     "end_time": "2018-09-21T13:08:25.467820Z",
     "start_time": "2018-09-21T13:08:24.905458Z"
    },
    "hidden": true,
    "scrolled": true
   },
   "outputs": [],
   "source": [
    "clipped_rois = utils.clip_to_window_np(img_meta[0, 4:8], unormalized_rois)\n",
    "clipped_rois = utils.boxes_to_image_domain(clipped_rois, img_meta[0] )\n",
    "visualize.draw_rois(image, clipped_rois , target_class_ids[0], class_names, bbox_ids = [0,1,2]) # or , limit=2)"
   ]
  },
  {
   "cell_type": "markdown",
   "metadata": {
    "hidden": true
   },
   "source": [
    "####  Displayt `output_rois` after applying `target_bbox_deltas`\n",
    "\n",
    "NOTE: MUST BE MULTIPLIED BY BBOX_STD_DEV"
   ]
  },
  {
   "cell_type": "code",
   "execution_count": null,
   "metadata": {
    "ExecuteTime": {
     "end_time": "2018-09-21T13:08:57.332574Z",
     "start_time": "2018-09-21T13:08:56.776213Z"
    },
    "hidden": true
   },
   "outputs": [],
   "source": [
    "print(' Target_bbox_deltas: ',target_bbox_deltas.shape)\n",
    "## 1- Apply Bounding Box Standard Deviation and apply to output_rois\n",
    "apply_deltas = target_bbox_deltas[img_idx] * mrcnn_config.BBOX_STD_DEV\n",
    "refined_rois = utils.apply_box_deltas_np(output_rois[img_idx], apply_deltas)\n",
    "print(' Refined ROIs shape: ',refined_rois.shape)\n",
    "# print(refined_rois[:20])\n",
    "\n",
    "## 3- Clip to image windoow boundaries:\n",
    "refined_rois = refined_rois * [1024,1024,1024,1024]\n",
    "refined_rois = utils.clip_to_window_np(img_meta[0, 4:8], refined_rois)\n",
    "\n",
    "## 4- Transfer to image coordniates :\n",
    "refined_rois = utils.boxes_to_image_domain(refined_rois, img_meta[0] )\n",
    "## 5- Visualize\n",
    "visualize.draw_rois(image, refined_rois, target_class_ids[0], class_names,bbox_ids = [0,1,2], limit=5)"
   ]
  },
  {
   "cell_type": "markdown",
   "metadata": {
    "hidden": true
   },
   "source": [
    "#### Apply predicted `mrcnn_bbox` delta refinements to `output_rois` and display"
   ]
  },
  {
   "cell_type": "code",
   "execution_count": null,
   "metadata": {
    "ExecuteTime": {
     "end_time": "2018-09-21T13:10:07.212107Z",
     "start_time": "2018-09-21T13:10:06.133701Z"
    },
    "hidden": true,
    "scrolled": false
   },
   "outputs": [],
   "source": [
    "# Create un\n",
    "unormalized_rois = output_rois[img_idx] * [1024,1024,1024,1024]\n",
    "clipped_rois = utils.clip_to_window_np(img_meta[0, 4:8], unormalized_rois)\n",
    "unrefined_rois   = utils.boxes_to_image_domain(clipped_rois, img_meta[0] )\n",
    "\n",
    "## 1- Extract predicted deltas from mrcnn_bbox\n",
    "classes, deltas = get_predicted_mrcnn_deltas(mrcnn_class, mrcnn_bbox, verbose = False)\n",
    "# print(classes.shape, deltas.shape)\n",
    "# print(classes[0,:20])\n",
    "# print(deltas[0,:20])\n",
    "\n",
    "\n",
    "## 2- Apply Bounding Box Standard Deviation and apply to output_rois\n",
    "apply_deltas = deltas[0] * mrcnn_config.BBOX_STD_DEV\n",
    "refined_rois = utils.apply_box_deltas_np(output_rois[img_idx], apply_deltas)\n",
    "print(' Refined ROIs shape: ',refined_rois.shape)\n",
    "# print(refined_rois[:20])\n",
    "\n",
    "## 3- Clip to image windoow boundaries:\n",
    "refined_rois = refined_rois * [1024,1024,1024,1024]\n",
    "refined_rois = utils.clip_to_window_np(img_meta[0, 4:8], refined_rois)\n",
    "\n",
    "## 4- Transfer to image coordniates :\n",
    "refined_rois = utils.boxes_to_image_domain(refined_rois, img_meta[0] )\n",
    "\n",
    "# Visualize\n",
    "visualize.draw_rois(image, unrefined_rois, target_class_ids[0], class_names,  limit=5)\n",
    "visualize.draw_rois(image, refined_rois, target_class_ids[0], class_names,  limit=5)\n",
    "# visualize.draw_rois_with_refinements(image, unrefined_rois, refined_rois, target_class_ids[0], class_names, limit=10)"
   ]
  },
  {
   "cell_type": "markdown",
   "metadata": {
    "hidden": true
   },
   "source": [
    "#### Display `image_gt_bboxes` provided by data generator"
   ]
  },
  {
   "cell_type": "code",
   "execution_count": null,
   "metadata": {
    "ExecuteTime": {
     "end_time": "2018-09-21T13:00:26.348261Z",
     "start_time": "2018-09-21T13:00:25.813073Z"
    },
    "hidden": true,
    "scrolled": true
   },
   "outputs": [],
   "source": [
    "# Display image and instances\n",
    "# visualize.display_instances_with_mask(image, bbox, mask, class_ids, dataset_train.class_names)   \n",
    "\n",
    "# print(input_gt_bboxes[0,:20])\n",
    "gt_bboxes = utils.boxes_to_image_domain(input_gt_bboxes[0], img_meta[0] )\n",
    "visualize.draw_rois(image, gt_bboxes[:20], input_gt_class_ids[0,:20], class_names, limit=10)"
   ]
  },
  {
   "cell_type": "markdown",
   "metadata": {
    "heading_collapsed": true
   },
   "source": [
    "## misc code"
   ]
  },
  {
   "cell_type": "markdown",
   "metadata": {
    "heading_collapsed": true,
    "hidden": true
   },
   "source": [
    "#### sparse to dense"
   ]
  },
  {
   "cell_type": "code",
   "execution_count": null,
   "metadata": {
    "hidden": true
   },
   "outputs": [],
   "source": [
    "with sess.as_default():\n",
    "    tf_dense = tf.sparse_to_dense(pt2_ind), in_tensor.shape[:-1], 1,0)\n",
    "    r_tf_dense = tf_dense.eval()\n",
    "print(r_tf_dense.shape)    \n",
    "print(r_tf_dense[0])\n"
   ]
  },
  {
   "cell_type": "markdown",
   "metadata": {
    "heading_collapsed": true,
    "hidden": true,
    "hideCode": false,
    "hidePrompt": false
   },
   "source": [
    "####  Display for visual check - `pred_heatmap_norm` is the final result from  `build_heatmap()`"
   ]
  },
  {
   "cell_type": "code",
   "execution_count": null,
   "metadata": {
    "ExecuteTime": {
     "end_time": "2018-05-21T17:29:35.708474Z",
     "start_time": "2018-05-21T17:29:35.418691Z"
    },
    "hidden": true,
    "hideCode": false,
    "hideOutput": true,
    "scrolled": true
   },
   "outputs": [],
   "source": [
    "print(pred_heatmap_norm.shape)\n",
    "temp = pred_heatmap_norm\n",
    "np.set_printoptions(linewidth=150, threshold=10000, suppress=False)\n",
    "print('  Temp shape :',  temp.shape)\n",
    "temp_sum = np.sum(temp,axis=(1,2))\n",
    "print('temp_sum is ', temp_sum.shape)\n",
    "for i in range(5):\n",
    "    for j in range(4):\n",
    "        print('img ',i,' class ', j, ' sum:',temp_sum[i,j],  ' max: ',np.max(temp[i,:,:,j]),' mean: ', np.mean(temp[i,:,:,j]),' min: ', np.min(temp[i,:,:,j]))    "
   ]
  },
  {
   "cell_type": "code",
   "execution_count": null,
   "metadata": {
    "ExecuteTime": {
     "end_time": "2018-05-21T18:56:20.286127Z",
     "start_time": "2018-05-21T18:56:19.956192Z"
    },
    "hidden": true,
    "hideCode": false,
    "hideOutput": true,
    "hidePrompt": false,
    "scrolled": true
   },
   "outputs": [],
   "source": [
    "# with sess.as_default():\n",
    "np.set_printoptions(linewidth=150, precision=6, suppress=True)\n",
    "# print('scatter shape is ', pred_scatt.get_shape())\n",
    "print('pred_heatmap_scores shape is ', pred_heatmap_scores.shape)\n",
    "for img in [0,1,2]:\n",
    "    for k in range(4):\n",
    "        print('Image ', img , '/ Class ',k,' ------------')\n",
    "        print(np.min(pred_heatmap_scores[img,k,:,8]))\n",
    "        print(pred_heatmap_scores[img,k])"
   ]
  },
  {
   "cell_type": "code",
   "execution_count": null,
   "metadata": {
    "ExecuteTime": {
     "end_time": "2018-05-20T17:25:18.661505Z",
     "start_time": "2018-05-20T17:25:18.406810Z"
    },
    "hidden": true,
    "hideCode": false,
    "hideOutput": true,
    "hidePrompt": false,
    "scrolled": true
   },
   "outputs": [],
   "source": [
    "np.set_printoptions(linewidth=150, precision=6)\n",
    "print('gt_heatmap_scores shape is ', gt_heatmap_scores.shape)\n",
    "img = 1\n",
    "for k in range(4):\n",
    "    print('Image ', img , '/ Class ',k,' ------------')\n",
    "    print(gt_heatmap_scores[img,k])"
   ]
  },
  {
   "cell_type": "code",
   "execution_count": null,
   "metadata": {
    "ExecuteTime": {
     "end_time": "2018-05-21T17:12:28.879203Z",
     "start_time": "2018-05-21T17:12:28.616104Z"
    },
    "hidden": true,
    "hideCode": false,
    "hideOutput": true,
    "scrolled": true
   },
   "outputs": [],
   "source": [
    "sess = KB.get_session()\n",
    "with sess.as_default():\n",
    "    temp = fcn_heatmap\n",
    "    np.set_printoptions(linewidth=150, threshold=10000)\n",
    "    print('  output shapes :',  temp.get_shape())\n",
    "    temp_sum = tf.reduce_sum(temp, [2,3])\n",
    "    temp_min = tf.reduce_min(temp, [2,3])\n",
    "    temp_max = tf.reduce_max(temp, [2,3])\n",
    "    temp_avg = tf.reduce_mean(temp, [2,3])\n",
    "    print('temp_sum is ', temp_sum.shape)\n",
    "    for i in range(5):\n",
    "        for j in range(4):\n",
    "                print('img/cls ',i,'/', j,'  sum:',temp_sum[i,j], 'min',temp_min[i,j] ,'max',temp_max[i,j] ,'avg',temp_avg[i,j])"
   ]
  },
  {
   "cell_type": "markdown",
   "metadata": {
    "heading_collapsed": true,
    "hidden": true,
    "hideCode": false,
    "hidePrompt": true
   },
   "source": [
    "#### `byclas_to_byimage()` reshape tensor / numpy array from per_class to per image "
   ]
  },
  {
   "cell_type": "code",
   "execution_count": null,
   "metadata": {
    "ExecuteTime": {
     "end_time": "2018-09-25T18:35:36.921742Z",
     "start_time": "2018-09-25T18:35:36.852068Z"
    },
    "hidden": true
   },
   "outputs": [],
   "source": [
    "def byclass_to_byimage_np(in_array, seqid_column):    \n",
    "    ''' \n",
    "    convert a by class tensor shaped  [batch_size, num_classes, num_bboxes, columns ] to \n",
    "            a by image tensor shaped  [batch_size, num_bboxes, columns]\n",
    "    '''\n",
    "    #     np_sum = np.sum(np.abs(model_gt_heatmap_scores[:,:,:,0:4]), axis=-1)\n",
    "    #     print(np_sum.shape)\n",
    "    #     a,b,c = np.where(np_sum > 0)\n",
    "    a,b,c = np.where(in_array[...,seqid_column]>0)\n",
    "\n",
    "    output = np.zeros((in_array.shape[0],in_array.shape[-2],in_array.shape[-1]))\n",
    "#     print(' output shape is ',output.shape)\n",
    "#     print(a.shape, b.shape,c.shape)\n",
    "    \n",
    "    for img, cls , box in zip(a, b,c):\n",
    "#         print( img,cls, box, 200 - in_array[img, cls, box,6].astype(int))\n",
    "        output[img, 200 - in_array[img, cls, box,6].astype(int)] = in_array[img, cls, box]\n",
    "\n",
    "    return output\n",
    "\n",
    "def byclass_to_byimage_tf(in_array, seqid_column):    \n",
    "    ''' \n",
    "    convert a by class tensor shaped  [batch_size, num_classes, num_bboxes, columns ] to \n",
    "            a by image tensor shaped  [batch_size, num_bboxes, columns]\n",
    "    '''\n",
    "    aa = tf.reshape(in_array, [in_array.shape[0], -1, in_array.shape[-1]])\n",
    "    _ , sort_inds = tf.nn.top_k(tf.abs(aa[:,:,seqid_column]), k= in_array.shape[2])\n",
    "    batch_grid, bbox_grid = tf.meshgrid(tf.range(in_array.shape[0]), tf.range(in_array.shape[2]),indexing='ij')\n",
    "    gather_inds = tf.stack([batch_grid, sort_inds],axis = -1)\n",
    "    output = tf.gather_nd(aa, gather_inds )\n",
    "    return output"
   ]
  },
  {
   "cell_type": "markdown",
   "metadata": {
    "heading_collapsed": true,
    "hidden": true
   },
   "source": [
    "####  Try `byclass_to_byimage()` on `gt_heatmap_scores`"
   ]
  },
  {
   "cell_type": "code",
   "execution_count": null,
   "metadata": {
    "ExecuteTime": {
     "end_time": "2018-09-25T18:20:28.345294Z",
     "start_time": "2018-09-25T18:20:27.629896Z"
    },
    "hidden": true
   },
   "outputs": [],
   "source": [
    "# with sess.as_default():\n",
    "np.set_printoptions(linewidth=150, precision=6)\n",
    "# print(gt_heatmap_scores.shape)\n",
    "# outp = byclass_to_byimage_tf(gt_heatmap_scores,6)\n",
    "# with sess.as_default():\n",
    "#      r_outp = outp.eval()\n",
    "# print(r_outp.shape)\n",
    "# print(r_outp[0])\n",
    "# print(r_outp[1])\n",
    "\n",
    "\n",
    "# print(tf_model_pred_heatmap_scores.shape, tf_model_pred_heatmap_scores)\n",
    "# outp = byclass_to_byimage_tf(tf_model_pred_heatmap_scores,6)\n",
    "# with sess.as_default():\n",
    "#      r_outp = outp.eval()\n",
    "# print(r_outp.shape)\n",
    "# print(r_outp[0])\n",
    "# print(r_outp[1])"
   ]
  },
  {
   "cell_type": "markdown",
   "metadata": {
    "heading_collapsed": true,
    "hidden": true
   },
   "source": [
    "####  Try `byclass_to_byimage()` on `pred_heatmap_scores`"
   ]
  },
  {
   "cell_type": "code",
   "execution_count": null,
   "metadata": {
    "ExecuteTime": {
     "end_time": "2018-09-25T18:35:43.684389Z",
     "start_time": "2018-09-25T18:35:42.799114Z"
    },
    "hidden": true
   },
   "outputs": [],
   "source": [
    "np.set_printoptions(linewidth=150, precision=6)\n",
    "\n",
    "tf_model_pred_heatmap_scores = tf.constant(model_pred_heatmap_scores) \n",
    "\n",
    "print('pred_heatmap_scores shape is       ', pred_heatmap_scores.shape )\n",
    "print('pred_heatmap_scores from model is :', tf_model_pred_heatmap_scores.shape,tf_model_pred_heatmap_scores)\n",
    "r_out2 = byclass_to_byimage_np(pred_heatmap_scores,6)\n",
    "\n",
    "with sess.as_default():\n",
    "    r_out1 = byclass_to_byimage_tf(tf_model_pred_heatmap_scores,6).eval()\n",
    "\n",
    "for img in range(2):\n",
    "    class_ids = np.unique(pred_heatmap_scores[img,:,:,4]).astype(int).tolist()    \n",
    "    print('Classids: ', class_ids)\n",
    "    print('Image ', img ,' ------------')\n",
    "    for j in range(200):\n",
    "        print('tf: ',r_out1[img,j])\n",
    "        print('np: ',r_out2[img,j])\n",
    "        print()"
   ]
  },
  {
   "cell_type": "markdown",
   "metadata": {
    "heading_collapsed": true,
    "hidden": true
   },
   "source": [
    "#### ground work for writing `byclass_to_by_image()`"
   ]
  },
  {
   "cell_type": "code",
   "execution_count": null,
   "metadata": {
    "ExecuteTime": {
     "end_time": "2018-09-25T17:12:56.458588Z",
     "start_time": "2018-09-25T17:12:55.776329Z"
    },
    "hidden": true
   },
   "outputs": [],
   "source": [
    "# print(pred_heatmap_scores.shape)\n",
    "# gt_heatmap_scores = tf.identity(model_gt_heatmap_scores)\n",
    "# aa = tf.reshape(gt_heatmap_scores, [gt_heatmap_scores.shape[0], -1, gt_heatmap_scores.shape[-1]])\n",
    "# _ , sort_inds = tf.nn.top_k(tf.abs(aa[:,:,6]), k=gt_heatmap_scores.shape[2])\n",
    "# print(sort_inds.shape)\n",
    "# batch_grid, bbox_grid = tf.meshgrid(tf.range(batch_size), tf.range(gt_heatmap_scores.shape[2]),indexing='ij')\n",
    "# gather_inds = tf.stack([batch_grid, sort_inds],axis = -1)\n",
    "# print(aa.shape)\n",
    "# print(bb.shape)\n",
    "# cc = tf.gather_nd(aa, gather_inds )\n",
    "# print('cc : ',cc.shape)\n",
    "# with sess.as_default():\n",
    "# #     r_pred_heatmap_scores = gauss_scores.eval()\n",
    "#     r_aa = aa.eval()\n",
    "#     r_sort_inds = sort_inds.eval()\n",
    "#     r_gather_inds = gather_inds.eval()\n",
    "# #     r_bb = bb.eval()\n",
    "#     r_cc = cc.eval()\n",
    "# #     r_dd = dd.eval()\n",
    "# # print(r_pred_heatmap_scores[0,1])\n",
    "# print('cc: ',r_cc.shape)\n",
    "# print('bb: ',r_bb.shape)\n",
    "# print('aa: ',r_aa.shape)\n",
    "# # print(r_sort_inds)\n",
    "# print(r_gather_inds)\n",
    "# # print(r_bb)\n",
    "# print(r_cc[0])\n",
    "print(r_cc[1])"
   ]
  },
  {
   "cell_type": "markdown",
   "metadata": {
    "heading_collapsed": true,
    "hidden": true
   },
   "source": [
    "####  Convert `pred_heatmap_scores` using `byclass_to_byimage_np`"
   ]
  },
  {
   "cell_type": "code",
   "execution_count": null,
   "metadata": {
    "ExecuteTime": {
     "end_time": "2018-09-25T16:03:29.189366Z",
     "start_time": "2018-09-25T16:03:29.110660Z"
    },
    "hidden": true,
    "scrolled": true
   },
   "outputs": [],
   "source": [
    "# with sess.as_default():\n",
    "np.set_printoptions(linewidth=150, precision=6)\n",
    "# print('scatter shape is ', pred_scatt.get_shape())\n",
    "print(model_pred_heatmap_scores.shape)\n",
    "print(model_pred_heatmap_scores[0,0,0])\n",
    "outp = byclass_to_byimage_np(model_pred_heatmap_scores,6)\n",
    "print(outp[0])"
   ]
  },
  {
   "cell_type": "markdown",
   "metadata": {
    "heading_collapsed": true,
    "hidden": true
   },
   "source": [
    "####  Convert `gt_heatmap_scores` using `byclass_to_byimage_np`"
   ]
  },
  {
   "cell_type": "code",
   "execution_count": null,
   "metadata": {
    "ExecuteTime": {
     "end_time": "2018-09-25T15:51:19.844675Z",
     "start_time": "2018-09-25T15:51:19.746388Z"
    },
    "hidden": true,
    "hideCode": false,
    "hideOutput": true,
    "hidePrompt": false
   },
   "outputs": [],
   "source": [
    "# with sess.as_default():\n",
    "np.set_printoptions(linewidth=150, precision=6)\n",
    "\n",
    "# print('pred_heatmap_scores shape is       ', gt_heatmap_scores.shape )\n",
    "print('pred_heatmap_scores from model is :', model_gt_heatmap_scores.shape)\n",
    "print(model_gt_heatmap_scores[0,1])\n",
    "\n",
    "# with sess.as_default():\n",
    "#     r_pred_tensor = pred_tensor.eval()\n",
    "# for img in range(2):\n",
    "#     class_ids = np.unique(model_gt_heatmap_scores[img,:,:,4]).astype(int).tolist()    \n",
    "#     print('Classids: ', class_ids)\n",
    "#     for i in class_ids:\n",
    "#         print('Image ', img , '/ Class ',i,' ------------')\n",
    "#         for j in range(200):\n",
    "#             print(gt_heatmap_scores[img,i,j])\n",
    "#             print(model_gt_heatmap_scores[img,i,j])\n",
    "# #         print(pred_refined_tensor[img,i,j])\n",
    "#         print()\n",
    " \n",
    "outp = byclass_to_byimage_np(model_gt_heatmap_scores,6)\n",
    "print(outp[0])"
   ]
  },
  {
   "cell_type": "markdown",
   "metadata": {
    "heading_collapsed": true,
    "hidden": true,
    "hideCode": true,
    "hidePrompt": true
   },
   "source": [
    "####  Display for visual check - `pred_heatmap_scores`"
   ]
  },
  {
   "cell_type": "code",
   "execution_count": null,
   "metadata": {
    "ExecuteTime": {
     "end_time": "2018-05-19T16:49:31.958039Z",
     "start_time": "2018-05-19T16:49:31.945996Z"
    },
    "hidden": true,
    "hideCode": false,
    "hideOutput": true,
    "hidePrompt": false,
    "scrolled": false
   },
   "outputs": [],
   "source": [
    "# with sess.as_default():\n",
    "np.set_printoptions(linewidth=150, precision=6)\n",
    "# print('scatter shape is ', pred_scatt.get_shape())\n",
    "print('pred_heatmap_scores shape is ', pred_heatmap_scores.shape)\n",
    "img = 0\n",
    "for k in range(4):\n",
    "    print('Image ', img , '/ Class ',k,' ------------')\n",
    "    print(pred_heatmap_scores[img,k])"
   ]
  },
  {
   "cell_type": "markdown",
   "metadata": {
    "heading_collapsed": true,
    "hidden": true,
    "hideCode": false,
    "hidePrompt": false
   },
   "source": [
    "####  Display for visual check - `pred_heatmap_norm`  "
   ]
  },
  {
   "cell_type": "code",
   "execution_count": null,
   "metadata": {
    "ExecuteTime": {
     "end_time": "2018-05-17T20:33:24.888916Z",
     "start_time": "2018-05-17T20:33:24.652795Z"
    },
    "hidden": true,
    "hideCode": false,
    "hideOutput": true
   },
   "outputs": [],
   "source": [
    "print(pred_heatmap_norm.shape)\n",
    "temp = pred_heatmap_norm\n",
    "np.set_printoptions(linewidth=150, threshold=10000)\n",
    "print('  Temp shape :',  temp.shape)\n",
    "temp_sum = np.sum(temp,axis=(1,2))\n",
    "print('temp_sum is ', temp_sum.shape)\n",
    "for i in range(5):\n",
    "    for j in range(4):\n",
    "            print('img ',i,' class ', j, ' sum:',temp_sum[i,j])"
   ]
  },
  {
   "cell_type": "markdown",
   "metadata": {
    "heading_collapsed": true,
    "hidden": true
   },
   "source": [
    "####  Run TF graph"
   ]
  },
  {
   "cell_type": "code",
   "execution_count": null,
   "metadata": {
    "hidden": true
   },
   "outputs": [],
   "source": [
    "# with sess1.as_default():\n",
    "# FeedList = [positive_ind_shuffled, positive_indices, positive_overlaps, roi_gt_class_ids, roi_gt_boxes, roi_gt_box_assignment ]\n",
    "# FeedList = [ rois, roi_gt_class_ids,  roi_gt_deltas, roi_gt_boxes]\n",
    "Fetches  = [ pred_heatmap, pred_heatmap_norm, pred_heatmap_scores]\n",
    "tt = sess.run(Fetches)\n",
    "print(type(tt), len(tt))\n",
    "for i in tt:\n",
    "    print(type(i), i.shape)"
   ]
  }
 ],
 "metadata": {
  "anaconda-cloud": {},
  "celltoolbar": "Hide code",
  "hide_code_all_hidden": false,
  "kernelspec": {
   "display_name": "Python [conda env:TF]",
   "language": "python",
   "name": "conda-env-TF-py"
  },
  "language_info": {
   "codemirror_mode": {
    "name": "ipython",
    "version": 3
   },
   "file_extension": ".py",
   "mimetype": "text/x-python",
   "name": "python",
   "nbconvert_exporter": "python",
   "pygments_lexer": "ipython3",
   "version": "3.5.6"
  },
  "toc": {
   "base_numbering": 1,
   "nav_menu": {},
   "number_sections": true,
   "sideBar": true,
   "skip_h1_title": false,
   "title_cell": "Table of Contents",
   "title_sidebar": "Contents",
   "toc_cell": false,
   "toc_position": {},
   "toc_section_display": true,
   "toc_window_display": false
  }
 },
 "nbformat": 4,
 "nbformat_minor": 2
}
