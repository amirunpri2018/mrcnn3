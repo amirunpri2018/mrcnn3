{
 "cells": [
  {
   "cell_type": "code",
   "execution_count": 7,
   "metadata": {
    "ExecuteTime": {
     "end_time": "2019-01-22T16:17:20.998717Z",
     "start_time": "2019-01-22T16:17:20.994714Z"
    }
   },
   "outputs": [],
   "source": [
    "import numpy as np\n",
    "import matplotlib.pyplot as plt"
   ]
  },
  {
   "attachments": {
    "image.png": {
     "image/png": "[encoded data removed]"
    }
   },
   "cell_type": "markdown",
   "metadata": {},
   "source": [
    "Draw samples from a logistic distribution.\n",
    "![image.png](attachment:image.png)\n",
    "Samples are drawn from a logistic distribution with specified parameters, loc (location or mean, also median), and scale (>0)."
   ]
  },
  {
   "cell_type": "code",
   "execution_count": 8,
   "metadata": {
    "ExecuteTime": {
     "end_time": "2019-01-22T16:17:25.926822Z",
     "start_time": "2019-01-22T16:17:25.665492Z"
    }
   },
   "outputs": [
    {
     "data": {
      "image/png": "[encoded data removed]",
      "text/plain": [
       "<Figure size 432x288 with 1 Axes>"
      ]
     },
     "metadata": {},
     "output_type": "display_data"
    }
   ],
   "source": [
    "loc, scale = 10, 1\n",
    "s = np.random.logistic(loc, scale, 10000)\n",
    "count, bins, ignored = plt.hist(s, bins=50)\n",
    "plt.show()\n",
    "def logist(x, loc, scale):\n",
    "    return np.exp((loc-x)/scale)/(scale*(1+np.exp((loc-x)/scale))**2)\n",
    "\n",
    "# plt.plot(bins, logist(bins, loc, scale)*count.max()/logist(bins, loc, scale).max())"
   ]
  },
  {
   "attachments": {
    "image.png": {
     "image/png": "[encoded data removed]"
    }
   },
   "cell_type": "markdown",
   "metadata": {},
   "source": [
    "Return random floats in the half-open interval [0.0, 1.0).\n",
    "\n",
    "Results are from the “continuous uniform” distribution over the stated interval. To sample![image.png](attachment:image.png) \n",
    "multiply the output of random_sample by (b-a) and add a:\n",
    "\n",
    "    (b - a) * random_sample() + a"
   ]
  },
  {
   "cell_type": "code",
   "execution_count": 15,
   "metadata": {
    "ExecuteTime": {
     "end_time": "2019-01-22T16:20:12.281682Z",
     "start_time": "2019-01-22T16:20:12.049606Z"
    },
    "scrolled": true
   },
   "outputs": [
    {
     "data": {
      "image/png": "[encoded data removed]",
      "text/plain": [
       "<Figure size 432x288 with 1 Axes>"
      ]
     },
     "metadata": {},
     "output_type": "display_data"
    }
   ],
   "source": [
    "# np.random.seed(3)\n",
    "s = 0.0004 * np.random.random(size = 100) - 0.0002\n",
    "count, bins, ignored = plt.hist(s, bins=50)\n",
    "plt.show()\n"
   ]
  },
  {
   "cell_type": "code",
   "execution_count": 4,
   "metadata": {
    "ExecuteTime": {
     "end_time": "2019-01-11T13:52:08.089667Z",
     "start_time": "2019-01-11T13:52:07.837685Z"
    }
   },
   "outputs": [
    {
     "data": {
      "image/png": "[encoded data removed]",
      "text/plain": [
       "<Figure size 432x288 with 1 Axes>"
      ]
     },
     "metadata": {},
     "output_type": "display_data"
    }
   ],
   "source": [
    "\n",
    "# s = 0.0004 * np.random.random(size = 10000) - 0.0002\n",
    "s = np.random.random(size = 1000)\n",
    "count, bins, ignored = plt.hist(s, bins=20)\n",
    "plt.show()"
   ]
  },
  {
   "cell_type": "code",
   "execution_count": 214,
   "metadata": {
    "ExecuteTime": {
     "end_time": "2019-01-11T14:53:30.136500Z",
     "start_time": "2019-01-11T14:53:30.131496Z"
    }
   },
   "outputs": [],
   "source": [
    "quantile_scores = [0.9885, 0.7355]\n",
    "    "
   ]
  },
  {
   "cell_type": "code",
   "execution_count": 251,
   "metadata": {
    "ExecuteTime": {
     "end_time": "2019-01-11T15:08:18.256312Z",
     "start_time": "2019-01-11T15:08:18.249309Z"
    }
   },
   "outputs": [
    {
     "name": "stdout",
     "output_type": "stream",
     "text": [
      "[[    0.7355     0.9885     0.9885     0.7355     0.7355     0.7355     0.7355     0.7355     0.7355     0.7355]]\n",
      "[[    0.7355     0.9884     0.9885     0.7355     0.7354     0.7356     0.7357     0.7356     0.7354     0.7355]]\n"
     ]
    }
   ],
   "source": [
    "aa = np.random.choice(quantile_scores, size=(10,1))\n",
    "print(aa.T)\n",
    "bb = aa + np.round(np.random.normal(scale = 0.0001,size = (10,1)) ,4)\n",
    "print(bb.T)"
   ]
  },
  {
   "cell_type": "code",
   "execution_count": 4,
   "metadata": {
    "ExecuteTime": {
     "end_time": "2019-01-22T12:24:38.580048Z",
     "start_time": "2019-01-22T12:24:38.574043Z"
    }
   },
   "outputs": [],
   "source": [
    "float_formatter = lambda x: \"%10.4f\" % x\n",
    "np_format = {}\n",
    "np_format['float']=float_formatter\n",
    "np.set_printoptions(linewidth=195, floatmode='fixed', threshold =10000, formatter = np_format)\n"
   ]
  },
  {
   "cell_type": "markdown",
   "metadata": {},
   "source": [
    "###  Apply Gaussian Noise"
   ]
  },
  {
   "cell_type": "code",
   "execution_count": 6,
   "metadata": {
    "ExecuteTime": {
     "end_time": "2019-01-22T12:29:01.754588Z",
     "start_time": "2019-01-22T12:29:01.273681Z"
    },
    "scrolled": true
   },
   "outputs": [
    {
     "name": "stdout",
     "output_type": "stream",
     "text": [
      "[[    0.8490     0.8490     0.8490     0.8490     0.8490     0.8490     0.8490     0.8490     0.8490     0.8490     0.8490     0.8490     0.8490     0.8490     0.8490     0.8490     0.8490\n",
      "      0.8490     0.8490     0.8490     0.8490     0.8490     0.8490     0.8490     0.8490     0.8490     0.8490     0.8490     0.8490     0.8490     0.8490     0.8490     0.8490     0.8490\n",
      "      0.8490     0.8490     0.8490     0.8490     0.8490     0.8490     0.8490     0.8490     0.8490     0.8490     0.8490     0.8490     0.8490     0.8490     0.8490     0.8490     0.8490\n",
      "      0.8490     0.8490     0.8490     0.8490     0.8490     0.8490     0.8490     0.8490     0.8490     0.8490     0.8490     0.8490     0.8490     0.8490     0.8490     0.8490     0.8490\n",
      "      0.8490     0.8490     0.8490     0.8490     0.8490     0.8490     0.8490     0.8490     0.8490     0.8490     0.8490     0.8490     0.8490     0.8490     0.8490     0.8490     0.8490\n",
      "      0.8490     0.8490     0.8490     0.8490     0.8490     0.8490     0.8490     0.8490     0.8490     0.8490     0.8490     0.8490     0.8490     0.8490     0.8490]]\n",
      "[[    0.7822     0.7822     0.7822     0.7822     0.7822     0.7822     0.7822     0.7822     0.7822     0.7822     0.7822     0.7822     0.7822     0.7822     0.7822     0.7822     0.7822\n",
      "      0.7822     0.7822     0.7822     0.7822     0.7822     0.7822     0.7822     0.7822     0.7822     0.7822     0.7822     0.7822     0.7822     0.7822     0.7822     0.7822     0.7822\n",
      "      0.7822     0.7822     0.7822     0.7822     0.7822     0.7822     0.7822     0.7822     0.7822     0.7822     0.7822     0.7822     0.7822     0.7822     0.7822     0.7822     0.7822\n",
      "      0.7822     0.7822     0.7822     0.7822     0.7822     0.7822     0.7822     0.7822     0.7822     0.7822     0.7822     0.7822     0.7822     0.7822     0.7822     0.7822     0.7822\n",
      "      0.7822     0.7822     0.7822     0.7822     0.7822     0.7822     0.7822     0.7822     0.7822     0.7822     0.7822     0.7822     0.7822     0.7822     0.7822     0.7822     0.7822\n",
      "      0.7822     0.7822     0.7822     0.7822     0.7822     0.7822     0.7822     0.7822     0.7822     0.7822     0.7822     0.7822     0.7822     0.7822     0.7822]]\n",
      "s-------\n",
      "[[    0.8491]\n",
      " [    0.8488]\n",
      " [    0.8490]\n",
      " [    0.8491]\n",
      " [    0.8489]\n",
      " [    0.8490]\n",
      " [    0.8490]\n",
      " [    0.8490]\n",
      " [    0.8489]\n",
      " [    0.8489]]\n",
      "s:  mean:  0.00011   std:  0.84899   min:  0.84870   max:  0.84930 \n",
      "(45,)\n",
      "[[    0.8491     0.8488     0.8490     0.8491     0.8489     0.8490     0.8490     0.8490     0.8489     0.8489     0.8490     0.8491     0.8490     0.8490     0.8490     0.8490     0.8489\n",
      "      0.8490     0.8490     0.8491     0.8490     0.8491     0.8490     0.8492     0.8490     0.8490     0.8493     0.8490     0.8491     0.8490     0.8488     0.8490     0.8490     0.8490\n",
      "      0.8490     0.8490     0.8489     0.8490     0.8487     0.8492     0.8491     0.8491     0.8489     0.8487     0.8488     0.8489     0.8489     0.8491     0.8490     0.8491     0.8492\n",
      "      0.8490     0.8490     0.8489     0.8492     0.8491     0.8490     0.8490     0.8490     0.8489     0.8491     0.8490     0.8488     0.8491     0.8489     0.8489     0.8489     0.8488\n",
      "      0.8490     0.8491     0.8489     0.8490     0.8490     0.8490     0.8488     0.8490     0.8489     0.8489     0.8492     0.8489     0.8491     0.8488     0.8490     0.8490     0.8492\n",
      "      0.8490     0.8491     0.8490     0.8490     0.8491     0.8489     0.8490     0.8487     0.8490     0.8490     0.8490     0.8489     0.8490     0.8491     0.8491]]\n",
      "\n",
      "\n"
     ]
    },
    {
     "data": {
      "image/png": "[encoded data removed]",
      "text/plain": [
       "<Figure size 432x288 with 1 Axes>"
      ]
     },
     "metadata": {},
     "output_type": "display_data"
    },
    {
     "name": "stdout",
     "output_type": "stream",
     "text": [
      "f:  mean:  0.00010   std:  0.78220   min:  0.78200   max:  0.78250 \n",
      "(45,)\n",
      "[[    0.7822     0.7823     0.7823     0.7823     0.7822     0.7822     0.7822     0.7821     0.7823     0.7822     0.7823     0.7822     0.7821     0.7821     0.7822     0.7823     0.7822\n",
      "      0.7823     0.7823     0.7822     0.7822     0.7823     0.7821     0.7823     0.7821     0.7822     0.7823     0.7822     0.7824     0.7823     0.7822     0.7822     0.7821     0.7821\n",
      "      0.7823     0.7822     0.7822     0.7822     0.7820     0.7821     0.7821     0.7822     0.7822     0.7822     0.7822     0.7822     0.7824     0.7822     0.7821     0.7822     0.7821\n",
      "      0.7821     0.7823     0.7821     0.7822     0.7825     0.7822     0.7822     0.7822     0.7820     0.7822     0.7822     0.7820     0.7821     0.7822     0.7822     0.7823     0.7822\n",
      "      0.7823     0.7821     0.7823     0.7821     0.7822     0.7821     0.7825     0.7823     0.7821     0.7824     0.7822     0.7821     0.7823     0.7822     0.7822     0.7823     0.7822\n",
      "      0.7822     0.7822     0.7822     0.7821     0.7822     0.7821     0.7821     0.7821     0.7821     0.7822     0.7823     0.7821     0.7822     0.7822     0.7820]]\n",
      "\n",
      "\n"
     ]
    },
    {
     "data": {
      "image/png": "[encoded data removed]",
      "text/plain": [
       "<Figure size 432x288 with 1 Axes>"
      ]
     },
     "metadata": {},
     "output_type": "display_data"
    }
   ],
   "source": [
    "# s = 0.002 * np.random.normal(scale = 3,size = 10000) - 0.001\n",
    "# s = np.round(np.random.normal(scale = 0.0002,size = (10,1)) ,4)\n",
    "# s = np.clip(np.random.normal(loc = 0.9790,scale = 0.01,size = (1000,1)), 0.0001, 0.9999)\n",
    "size  =(100,1)\n",
    "scale = 0.0001\n",
    "prec  = 4\n",
    "\n",
    "cls_tp_score = 0.8490\n",
    "cls_fp_score = 0.7822\n",
    "# tp_scores = np.ones((100,1)) * cls_tp_score\n",
    "fp_scores = np.full(size, cls_fp_score)\n",
    "tp_scores = np.full(size, cls_tp_score)\n",
    "print(tp_scores.T)\n",
    "print(fp_scores.T)\n",
    "\n",
    "# s = np.round(np.random.normal(loc = cls_tp_score, scale = scale,size = (100,1)) ,4)\n",
    "s = np.round(np.random.normal(scale = scale,size = (100,1)) ,prec) + cls_tp_score\n",
    "s = np.clip(s, 0.0001, 0.9999)\n",
    "print('s-------')\n",
    "print(s[:10])\n",
    "# f = np.round(np.random.normal(loc = cls_fp_score, scale = scale,size = (100,1)) ,4)\n",
    "f = np.round(np.random.normal(scale = scale,size = (100,1)) ,prec) + cls_fp_score\n",
    "f = np.clip(f, 0.0001, 0.9999)\n",
    "\n",
    "print('s:  mean: {:8.5f}   std: {:8.5f}   min: {:8.5f}   max: {:8.5f} '.format( np.std(s), np.mean(s), np.min(s), np.max(s)))\n",
    "print(np.where(s == cls_tp_score)[0].shape)\n",
    "print(s.T)\n",
    "# print(s + 0.8490)\n",
    "print()\n",
    "# print(np.round(s,4))\n",
    "print()\n",
    "# print(np.round(s,4)+ 0.8490)\n",
    "# s = np.random.standard_normal(size=1000)\n",
    "count, bins, ignored = plt.hist(s, bins=10)\n",
    "plt.show()\n",
    "print('f:  mean: {:8.5f}   std: {:8.5f}   min: {:8.5f}   max: {:8.5f} '.format( np.std(f), np.mean(f), np.min(f), np.max(f)))\n",
    "print(np.where(f== cls_fp_score)[0].shape)\n",
    "print(f.T)\n",
    "# print(s + 0.8490)\n",
    "print()\n",
    "# print(np.round(s,4))\n",
    "print()\n",
    "# print(np.round(s,4)+ 0.8490)\n",
    "# s = np.random.standard_normal(size=1000)\n",
    "count, bins, ignored = plt.hist(f, bins=10, color = 'r')\n",
    "plt.show()\n",
    "# plt.show()"
   ]
  },
  {
   "cell_type": "markdown",
   "metadata": {},
   "source": [
    "###  Apply Uniform Noise"
   ]
  },
  {
   "cell_type": "code",
   "execution_count": 117,
   "metadata": {
    "ExecuteTime": {
     "end_time": "2019-01-22T17:03:52.609266Z",
     "start_time": "2019-01-22T17:03:52.121473Z"
    },
    "scrolled": false
   },
   "outputs": [
    {
     "name": "stdout",
     "output_type": "stream",
     "text": [
      "<class 'numpy.ndarray'> (2,)\n",
      "Noisy -------\n",
      "[[    0.8483     0.8497     0.8487     0.8486     0.8492     0.8480     0.8497     0.8482     0.8480     0.8495]]\n",
      "\n",
      "Original tp_scores:\n",
      "-------------------\n",
      "0.849\n",
      "Modified tp_scores:\n",
      "-------------------\n",
      "[[    0.8483     0.8497     0.8487     0.8486     0.8492     0.8480     0.8497     0.8482     0.8480     0.8495     0.8483     0.8499     0.8481     0.8487     0.8495     0.8490     0.8480\n",
      "      0.8496     0.8480     0.8493     0.8499     0.8483     0.8491     0.8495     0.8495     0.8496     0.8484     0.8493     0.8484     0.8494     0.8480     0.8482     0.8486     0.8481\n",
      "      0.8483     0.8495     0.8485     0.8485     0.8496     0.8490     0.8492     0.8494     0.8481     0.8499     0.8482     0.8494     0.8487     0.8492     0.8493     0.8486     0.8494\n",
      "      0.8487     0.8485     0.8493     0.8500     0.8482     0.8485     0.8486     0.8481     0.8493     0.8489     0.8481     0.8490     0.8487     0.8500     0.8483     0.8495     0.8498\n",
      "      0.8483     0.8495     0.8494     0.8484     0.8481     0.8487     0.8492     0.8494     0.8498     0.8494     0.8481     0.8497     0.8487     0.8489     0.8480     0.8487     0.8486\n",
      "      0.8499     0.8490     0.8498     0.8487     0.8484     0.8480     0.8490     0.8499     0.8496     0.8481     0.8485     0.8496     0.8495     0.8482     0.8488]]\n",
      "\n",
      "s:  mean:  0.00062   std:  0.84891   min:  0.84800   max:  0.85000 \n",
      "Number of scores unchanged:  (5,)\n",
      "[15 39 62 86 91]\n",
      "\n",
      "\n",
      "Original fp_scores:\n",
      "-------------------\n",
      "0.7822\n",
      "Modified fp_scores:\n",
      "-------------------\n",
      "[[    0.7813     0.7829     0.7816     0.7813     0.7827     0.7814     0.7824     0.7816     0.7821     0.7820     0.7812     0.7824     0.7829     0.7812     0.7825     0.7815     0.7818\n",
      "      0.7820     0.7823     0.7825     0.7830     0.7821     0.7824     0.7824     0.7819     0.7815     0.7825     0.7832     0.7826     0.7821     0.7817     0.7816     0.7828     0.7831\n",
      "      0.7823     0.7813     0.7812     0.7822     0.7826     0.7824     0.7831     0.7817     0.7818     0.7829     0.7828     0.7827     0.7823     0.7815     0.7826     0.7813     0.7827\n",
      "      0.7827     0.7826     0.7831     0.7821     0.7832     0.7826     0.7828     0.7813     0.7825     0.7830     0.7822     0.7821     0.7819     0.7823     0.7823     0.7813     0.7815\n",
      "      0.7816     0.7813     0.7813     0.7830     0.7821     0.7816     0.7831     0.7815     0.7832     0.7815     0.7813     0.7812     0.7821     0.7831     0.7821     0.7818     0.7818\n",
      "      0.7819     0.7830     0.7820     0.7813     0.7818     0.7823     0.7814     0.7822     0.7826     0.7830     0.7814     0.7831     0.7816     0.7820     0.7827]]\n",
      "\n",
      "f:  mean:  0.00061   std:  0.78215   min:  0.78120   max:  0.78320 \n",
      "Number of scores unchanged:  (3,)\n",
      "[37 61 92]\n",
      "\n"
     ]
    },
    {
     "data": {
      "image/png": "[encoded data removed]",
      "text/plain": [
       "<Figure size 1152x360 with 2 Axes>"
      ]
     },
     "metadata": {},
     "output_type": "display_data"
    }
   ],
   "source": [
    "rows = 1\n",
    "cols = 2\n",
    "plt.close()\n",
    "\n",
    "_, ax = plt.subplots(1, 2, figsize=(8*cols, 5*rows))\n",
    "\n",
    "print(type(ax), ax.shape)\n",
    "\n",
    "size  =(100,1)\n",
    "# scale = 0.0001   ## approx %50 remain unchanged\n",
    "scale = 0.001    ## approx %5 remain unchanged \n",
    "prec  = 4\n",
    "\n",
    "\n",
    "cls_tp_score = np.full(size, cls_tp_score)\n",
    "# cls_tp_score = 0.8490\n",
    "s = np.round(np.random.uniform(low=-scale, high = scale,size = (100,1)) ,prec) + cls_tp_score\n",
    "s = np.clip(s, 0.0001, 0.9999)\n",
    "print('Noisy -------')\n",
    "print(s[:10].T)\n",
    "\n",
    "\n",
    "cls_fp_score = np.full(size, cls_fp_score)\n",
    "# cls_fp_score = 0.7822\n",
    "f = np.round(np.random.uniform(low=-scale, high = scale,size = size) ,prec) + cls_fp_score\n",
    "f = np.clip(f, 0.0001, 0.9999)\n",
    "print()\n",
    "print('Original tp_scores:')\n",
    "print('-------------------')\n",
    "print(tp_scores.T[0,0])\n",
    "print('Modified tp_scores:')\n",
    "print('-------------------')\n",
    "print(s.T)\n",
    "print()\n",
    "print('s:  mean: {:8.5f}   std: {:8.5f}   min: {:8.5f}   max: {:8.5f} '.format( np.std(s), np.mean(s), np.min(s), np.max(s)))\n",
    "print(\"Number of scores unchanged: \", np.where(s == cls_tp_score)[0].shape)\n",
    "print(np.where(s == cls_tp_score)[0])\n",
    "print()\n",
    "# print(np.round(s,4)+ 0.8490)\n",
    "# s = np.random.standard_normal(size=1000)\n",
    "\n",
    "\n",
    "print()\n",
    "print('Original fp_scores:')\n",
    "print('-------------------')\n",
    "print(fp_scores.T[0,0])\n",
    "print('Modified fp_scores:')\n",
    "print('-------------------')\n",
    "print(f.T)\n",
    "print()\n",
    "print('f:  mean: {:8.5f}   std: {:8.5f}   min: {:8.5f}   max: {:8.5f} '.format( np.std(f), np.mean(f), np.min(f), np.max(f)))\n",
    "print(\"Number of scores unchanged: \",np.where(f== cls_fp_score)[0].shape)\n",
    "print(np.where(f == cls_fp_score)[0])\n",
    "print()\n",
    "# print(np.round(s,4)+ 0.8490)\n",
    "# s = np.random.standard_normal(size=1000)\n",
    "\n",
    "count, bins, ignored = ax[0].hist(s, bins=10)\n",
    "count, bins, ignored = ax[1].hist(f, bins=10, color = 'r')\n",
    "plt.show()"
   ]
  },
  {
   "cell_type": "code",
   "execution_count": 27,
   "metadata": {
    "ExecuteTime": {
     "end_time": "2019-01-22T16:30:09.870659Z",
     "start_time": "2019-01-22T16:30:09.681643Z"
    }
   },
   "outputs": [
    {
     "name": "stdout",
     "output_type": "stream",
     "text": [
      "(100,) 0.0005577819920641127\n",
      "[   -0.0003     0.0006     0.0000     0.0003    -0.0004     0.0005     0.0006    -0.0007     0.0009    -0.0001     0.0005     0.0001     0.0002     0.0010     0.0000    -0.0009     0.0010\n",
      "    -0.0009     0.0009    -0.0004     0.0006    -0.0009     0.0002    -0.0001     0.0003    -0.0004     0.0002    -0.0010     0.0006     0.0001    -0.0005    -0.0002     0.0007    -0.0003\n",
      "     0.0008     0.0000    -0.0002     0.0001     0.0008     0.0001    -0.0008     0.0002    -0.0004     0.0001     0.0008     0.0006    -0.0003     0.0008    -0.0003     0.0001     0.0007\n",
      "    -0.0009     0.0009    -0.0009    -0.0008    -0.0009     0.0003    -0.0002     0.0002     0.0000     0.0001     0.0003    -0.0007    -0.0007     0.0000    -0.0005    -0.0008    -0.0007\n",
      "     0.0007     0.0004     0.0007    -0.0009    -0.0000    -0.0005     0.0004    -0.0005    -0.0007     0.0002    -0.0001    -0.0003    -0.0000     0.0004     0.0004     0.0001     0.0007\n",
      "    -0.0002    -0.0009    -0.0004     0.0005     0.0002    -0.0004     0.0007     0.0002    -0.0004    -0.0008     0.0008     0.0003    -0.0003     0.0006     0.0008]\n"
     ]
    },
    {
     "data": {
      "image/png": "[encoded data removed]",
      "text/plain": [
       "<Figure size 432x288 with 1 Axes>"
      ]
     },
     "metadata": {},
     "output_type": "display_data"
    }
   ],
   "source": [
    "s =  np.random.uniform(low = -0.001, high=0.001, size = 100)\n",
    "\n",
    "print(s.shape, np.std(s))\n",
    "print(s)\n",
    "# s = np.random.standard_normal(size=1000)\n",
    "count, bins, ignored = plt.hist(s, bins=20)\n",
    "plt.show()"
   ]
  },
  {
   "cell_type": "code",
   "execution_count": null,
   "metadata": {
    "ExecuteTime": {
     "end_time": "2019-01-11T12:46:08.365891Z",
     "start_time": "2019-01-11T12:46:05.121Z"
    },
    "scrolled": false
   },
   "outputs": [],
   "source": [
    "s1 = np.random.standard_normal(size=1000)\n",
    "count, bins, ignored = plt.hist(s1, bins=20)\n",
    "plt.show()"
   ]
  },
  {
   "cell_type": "code",
   "execution_count": 134,
   "metadata": {
    "ExecuteTime": {
     "end_time": "2019-01-11T12:41:18.337989Z",
     "start_time": "2019-01-11T12:41:17.761381Z"
    }
   },
   "outputs": [
    {
     "data": {
      "image/png": "[encoded data removed]",
      "text/plain": [
       "<Figure size 432x288 with 1 Axes>"
      ]
     },
     "metadata": {},
     "output_type": "display_data"
    }
   ],
   "source": [
    "h = plt.hist(np.random.wald(1, 10, 100000), bins=200)\n",
    "plt.show()"
   ]
  }
 ],
 "metadata": {
  "anaconda-cloud": {},
  "kernelspec": {
   "display_name": "Python [conda env:TF]",
   "language": "python",
   "name": "conda-env-TF-py"
  },
  "language_info": {
   "codemirror_mode": {
    "name": "ipython",
    "version": 3
   },
   "file_extension": ".py",
   "mimetype": "text/x-python",
   "name": "python",
   "nbconvert_exporter": "python",
   "pygments_lexer": "ipython3",
   "version": "3.5.6"
  },
  "toc": {
   "base_numbering": 1,
   "nav_menu": {},
   "number_sections": true,
   "sideBar": true,
   "skip_h1_title": false,
   "title_cell": "Table of Contents",
   "title_sidebar": "Contents",
   "toc_cell": false,
   "toc_position": {},
   "toc_section_display": true,
   "toc_window_display": false
  }
 },
 "nbformat": 4,
 "nbformat_minor": 2
}
