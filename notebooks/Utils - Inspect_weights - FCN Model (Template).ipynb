{
 "cells": [
  {
   "cell_type": "markdown",
   "metadata": {},
   "source": [
    "**FCN - Inspect Weights of a Trained Model\n",
    "\n",
    "This notebook includes code and visualizations to test, debug, and evaluate the Mask R-CNN model."
   ]
  },
  {
   "cell_type": "markdown",
   "metadata": {},
   "source": [
    "## Build FCN Model and display summary"
   ]
  },
  {
   "cell_type": "code",
   "execution_count": null,
   "metadata": {
    "ExecuteTime": {
     "end_time": "2018-11-05T10:01:49.116704Z",
     "start_time": "2018-11-05T10:01:42.539970Z"
    }
   },
   "outputs": [],
   "source": [
    "from IPython.core.display import display, HTML\n",
    "display(HTML(\"<style>.container { width:95% !important; }</style>\"))\n",
    "%matplotlib inline\n",
    "%load_ext autoreload\n",
    "%autoreload 2\n",
    "import sys, os, random, pprint\n",
    "sys.path.append('../')\n",
    "import tensorflow as tf\n",
    "import keras.backend as KB\n",
    "import numpy as np\n",
    "import skimage.io\n",
    "import matplotlib.pyplot as plt\n",
    "import mrcnn.visualize as visualize\n",
    "import mrcnn.utils as utils\n",
    "from mrcnn.datagen         import data_generator, load_image_gt, data_gen_simulate\n",
    "from mrcnn.callbacks       import get_layer_output_1,get_layer_output_2\n",
    "from mrcnn.utils           import mask_string, parse_image_meta, apply_box_deltas_tf\n",
    "from mrcnn.prep_notebook   import mrcnn_coco_test, mrcnn_coco_train,  prep_coco_dataset\n",
    "from mrcnn.coco            import CocoDataset, CocoConfig, CocoInferenceConfig, evaluate_coco, build_coco_results\n",
    "import mrcnn.model_fcn     as fcn_modellib\n",
    "from mrcnn.utils           import log\n",
    "pp = pprint.PrettyPrinter(indent=2, width=100)\n",
    "np.set_printoptions(linewidth=100,precision=4,threshold=1000, suppress = True)\n",
    "\n",
    "## Notebook Preferences\n",
    "\n",
    "# Device to load the neural network on.\n",
    "# Useful if you're training a model on the same \n",
    "# machine, in which case use CPU and leave the\n",
    "# GPU for training.\n",
    "DEVICE = \"/gpu:0\"  # /cpu:0 or /gpu:0\n",
    "\n",
    "# def get_ax(rows=1, cols=1, size=16):\n",
    "#     \"\"\"Return a Matplotlib Axes array to be used in\n",
    "#     all visualizations in the notebook. Provide a\n",
    "#     central point to control graph sizes.\n",
    "    \n",
    "#     Adjust the size attribute to control how big to render images\n",
    "#     \"\"\"\n",
    "#     _, ax = plt.subplots(rows, cols, figsize=(size*cols, size*rows))\n",
    "#     return ax\n",
    "\n",
    "\n",
    "## Configurations\n",
    "\n",
    "DIR_TRAINING = os.path.expanduser('/home/kbardool/models/')\n",
    "FCN_TRAINING_PATH   = os.path.join(DIR_TRAINING  , \"train_fcn_coco\")\n",
    "print(FCN_TRAINING_PATH)\n",
    "##------------------------------------------------------------------------------------\n",
    "## Build configuration for FCN model\n",
    "##------------------------------------------------------------------------------------\n",
    "fcn_config = CocoConfig()\n",
    "# fcn_config.IMAGE_MAX_DIM        = 600\n",
    "# fcn_config.IMAGE_MIN_DIM        = 480      \n",
    "fcn_config.NAME                 = 'fcn'              \n",
    "fcn_config.BATCH_SIZE           = 1                 # Batch size is 2 (# GPUs * images/GPU).\n",
    "fcn_config.IMAGES_PER_GPU       = 1               # Must match BATCH_SIZE\n",
    "# fcn_config.HEATMAP_SCALE_FACTOR = 4\n",
    "fcn_config.FCN_INPUT_SHAPE      = fcn_config.FCN_INPUT_SHAPE[0:2] // fcn_config.HEATMAP_SCALE_FACTOR \n",
    "# fcn_config.FCN_VGG16_MODEL_PATH = mrcnn_config.FCN_VGG16_MODEL_PATH\n",
    "fcn_config.TRAINING_PATH        = FCN_TRAINING_PATH\n",
    "fcn_config.BATCH_MOMENTUM       = 0.9\n",
    "fcn_config.WEIGHT_DECAY         = 2.0e-4\n",
    " \n",
    "fcn_config.STEPS_PER_EPOCH      = 4\n",
    "fcn_config.EPOCHS_TO_RUN        = 2\n",
    "fcn_config.LEARNING_RATE        = 0.01 \n",
    "fcn_config.LAST_EPOCH_RAN       = 0\n",
    "fcn_config.VALIDATION_STEPS     = 5\n",
    "fcn_config.REDUCE_LR_FACTOR     = 0.5\n",
    "fcn_config.REDUCE_LR_COOLDOWN   = 50\n",
    "fcn_config.REDUCE_LR_PATIENCE   = 33\n",
    "fcn_config.EARLY_STOP_PATIENCE  = 50\n",
    "fcn_config.EARLY_STOP_MIN_DELTA = 1.0e-4\n",
    "fcn_config.MIN_LR               = 1.0e-10\n",
    "fcn_config.NEW_LOG_FOLDER       = True  \n",
    "fcn_config.OPTIMIZER            = 'ADAGRAD'\n",
    "fcn_config.SYSOUT               = 'screen'\n",
    "fcn_config.display()\n",
    "\n",
    "## Build FCN Model\n",
    "\n",
    "with tf.device(DEVICE):\n",
    "    ##------------------------------------------------------------------------------------\n",
    "    ## Build FCN Model in Training Mode\n",
    "    ##------------------------------------------------------------------------------------\n",
    "    try :\n",
    "        del fcn_model\n",
    "        gc.collect()\n",
    "    except: \n",
    "        pass    \n",
    "#   fcn_model = fcn_modellib.FCN(mode=\"training\", config=fcn_config, model_dir=fcn_config.TRAINING_PATH)\n",
    "    fcn_model = fcn_modellib.FCN(mode=\"inference\", arch='FCN8', config=fcn_config)\n",
    "\n",
    "fcn_model.keras_model.summary()"
   ]
  },
  {
   "cell_type": "markdown",
   "metadata": {},
   "source": [
    "## Set weight files"
   ]
  },
  {
   "cell_type": "code",
   "execution_count": null,
   "metadata": {
    "ExecuteTime": {
     "end_time": "2018-11-05T10:01:49.168072Z",
     "start_time": "2018-11-05T10:01:49.120351Z"
    }
   },
   "outputs": [],
   "source": [
    "# weights_path= '/home/kbardool/models/train_fcn_coco/fcn20181020T1506/fcn_0124.h5'\n",
    "# weights_path= 'F:/models/train_fcn_coco/fcn20181020T1200/fcn_0056.h5'\n",
    "# weights_path= 'F:/models/train_fcn_coco/fcn20181021T1602/fcn_0188.h5'\n",
    "# weights_path= '/home/kbardool/models/train_fcn_coco/fcn20181022T1622/fcn_0001.h5'\n",
    "\n",
    "# DIR_WEIGHTS = '/home/kbardool/models/train_fcn_coco/fcn20181023T0825'\n",
    "# DIR_WEIGHTS = '/home/kbardool/models/train_fcn8_coco/fcn20181026T1432'\n",
    "\n",
    "# filepath = os.path.join(DIR_WEIGHTS, 'fcn_init_weights')\n",
    "# fcn_model.keras_model.save_weights(filepath, overwrite=True)\n",
    "# fcn_model.save_model(DIR_WEIGHTS, 'fcn_init_weights')\n",
    "# fcn_model.keras_model.summary()\n",
    "##'fcn_init_weights.h5',\n",
    "DIR_WEIGHTS =  'F:/models/train_fcn8_coco/fcn20181031T0000' ### Training with LR=0.00001, MSE Loss NO L2 Regularization\n",
    "\n",
    "# DIR_WEIGHTS = '/home/kbardool/models/train_fcn8_coco/fcn20181028T1324' ### Training with LR=0.0001, MSE Loss\n",
    "# DIR_WEIGHTS = '/home/kbardool/models/train_fcn8_coco/fcn20181030T0000' ### Training with LR=0.0001, MSE Loss NO L2 Regularization\n",
    "DIR_WEIGHTS =  '/home/kbardool/models/train_fcn8_coco/fcn20181031T0000' ### Training with LR=0.00001, MSE Loss NO L2 Regularization\n",
    "# files = ['fcn_0001.h5','fcn_0027.h5','fcn_0036.h5','fcn_0051.h5','fcn_0076.h5','fcn_0106.h5','fcn_0156.h5']\n",
    "files   = ['fcn_0001.h5','fcn_0106.h5','fcn_0170.h5','fcn_0256.h5','fcn_0383.h5','fcn_0500.h5','fcn_2623.h5']"
   ]
  },
  {
   "cell_type": "markdown",
   "metadata": {},
   "source": [
    "## Load Weights - 1"
   ]
  },
  {
   "cell_type": "code",
   "execution_count": null,
   "metadata": {
    "ExecuteTime": {
     "end_time": "2018-11-05T10:01:51.299405Z",
     "start_time": "2018-11-05T10:01:49.170843Z"
    },
    "scrolled": true
   },
   "outputs": [],
   "source": [
    "weights_path = os.path.join(DIR_WEIGHTS  , files[0])\n",
    "print(\"Loading weights \", weights_path)\n",
    "fcn_model.load_model_weights(weights_path)"
   ]
  },
  {
   "cell_type": "markdown",
   "metadata": {},
   "source": [
    "### Review Weight Stats - 1st weight file"
   ]
  },
  {
   "cell_type": "code",
   "execution_count": null,
   "metadata": {
    "ExecuteTime": {
     "end_time": "2018-11-05T10:03:03.678489Z",
     "start_time": "2018-11-05T10:03:02.531303Z"
    }
   },
   "outputs": [],
   "source": [
    "# Show stats of all trainable weights    \n",
    "a = visualize.display_weight_stats(fcn_model)\n",
    "weights_stats = os.path.join(DIR_WEIGHTS  , 'stats_'+files[0]+'.pdf')\n",
    "# utils.convertHtmlToPdf(a, weights_stats) "
   ]
  },
  {
   "cell_type": "code",
   "execution_count": null,
   "metadata": {
    "ExecuteTime": {
     "end_time": "2018-11-03T14:08:01.611835Z",
     "start_time": "2018-11-03T14:08:01.316394Z"
    }
   },
   "outputs": [],
   "source": [
    "from mrcnn.utils import convertHtmlToPdf"
   ]
  },
  {
   "cell_type": "markdown",
   "metadata": {
    "collapsed": true
   },
   "source": [
    "### Histograms of Weights - 1st weight file"
   ]
  },
  {
   "cell_type": "code",
   "execution_count": null,
   "metadata": {
    "ExecuteTime": {
     "end_time": "2018-11-05T10:03:35.164177Z",
     "start_time": "2018-11-05T10:03:23.329047Z"
    },
    "scrolled": false
   },
   "outputs": [],
   "source": [
    "# Pick layer types to display\n",
    "a = visualize.display_weight_histograms(fcn_model,width=15,height=4, filename = files[0])\n",
    "weights_histogram = os.path.join(DIR_WEIGHTS  , 'histogram_'+files[0]+'.png')\n",
    "a.savefig(weights_histogram)"
   ]
  },
  {
   "cell_type": "markdown",
   "metadata": {},
   "source": [
    "## Load Weights - 2"
   ]
  },
  {
   "cell_type": "code",
   "execution_count": null,
   "metadata": {
    "ExecuteTime": {
     "end_time": "2018-11-05T10:04:07.442043Z",
     "start_time": "2018-11-05T10:04:02.300216Z"
    },
    "scrolled": true
   },
   "outputs": [],
   "source": [
    "weights_path = os.path.join(DIR_WEIGHTS  , files[1])\n",
    "print(\"Loading weights \", weights_path)\n",
    "fcn_model.load_model_weights(weights_path)"
   ]
  },
  {
   "cell_type": "markdown",
   "metadata": {},
   "source": [
    "### Review Weight Stats - 2nd weights file"
   ]
  },
  {
   "cell_type": "code",
   "execution_count": null,
   "metadata": {
    "ExecuteTime": {
     "end_time": "2018-11-05T10:04:08.649774Z",
     "start_time": "2018-11-05T10:04:07.444799Z"
    },
    "scrolled": true
   },
   "outputs": [],
   "source": [
    "# Show stats of all trainable weights    \n",
    "visualize.display_weight_stats(fcn_model)"
   ]
  },
  {
   "cell_type": "markdown",
   "metadata": {
    "collapsed": true
   },
   "source": [
    "### Histograms of Weights - 2nd weights file"
   ]
  },
  {
   "cell_type": "code",
   "execution_count": null,
   "metadata": {
    "ExecuteTime": {
     "end_time": "2018-11-05T10:04:20.594829Z",
     "start_time": "2018-11-05T10:04:08.652743Z"
    },
    "scrolled": true
   },
   "outputs": [],
   "source": [
    "a = visualize.display_weight_histograms(fcn_model, filename = files[1])\n",
    "weights_histogram = os.path.join(DIR_WEIGHTS  , 'histogram_'+files[1]+'.png')\n",
    "a.savefig(weights_histogram)"
   ]
  },
  {
   "cell_type": "markdown",
   "metadata": {},
   "source": [
    "## Load Weights - 3rd weight file"
   ]
  },
  {
   "cell_type": "markdown",
   "metadata": {},
   "source": [
    "### load"
   ]
  },
  {
   "cell_type": "code",
   "execution_count": null,
   "metadata": {
    "ExecuteTime": {
     "end_time": "2018-11-05T10:04:25.404867Z",
     "start_time": "2018-11-05T10:04:20.597836Z"
    },
    "scrolled": true
   },
   "outputs": [],
   "source": [
    "weights_path = os.path.join(DIR_WEIGHTS  , files[2])\n",
    "print(\"Loading weights \", weights_path)\n",
    "fcn_model.load_model_weights(weights_path) "
   ]
  },
  {
   "cell_type": "markdown",
   "metadata": {},
   "source": [
    "### Review Weight Stats - 3rd weight file"
   ]
  },
  {
   "cell_type": "code",
   "execution_count": null,
   "metadata": {
    "ExecuteTime": {
     "end_time": "2018-11-05T10:04:26.522232Z",
     "start_time": "2018-11-05T10:04:25.408193Z"
    }
   },
   "outputs": [],
   "source": [
    "# Show stats of all trainable weights    \n",
    "visualize.display_weight_stats(fcn_model)"
   ]
  },
  {
   "cell_type": "markdown",
   "metadata": {
    "collapsed": true
   },
   "source": [
    "### Histograms of Weights - 3rd weight file"
   ]
  },
  {
   "cell_type": "code",
   "execution_count": null,
   "metadata": {
    "ExecuteTime": {
     "end_time": "2018-11-05T10:04:39.375038Z",
     "start_time": "2018-11-05T10:04:26.524940Z"
    },
    "scrolled": false
   },
   "outputs": [],
   "source": [
    "a = visualize.display_weight_histograms(fcn_model, filename = files[2])\n",
    "weights_histogram = os.path.join(DIR_WEIGHTS  , 'histogram_'+files[2]+'.png')\n",
    "a.savefig(weights_histogram)"
   ]
  },
  {
   "cell_type": "markdown",
   "metadata": {},
   "source": [
    "## Load Weights - 4rd weight file"
   ]
  },
  {
   "cell_type": "code",
   "execution_count": null,
   "metadata": {
    "ExecuteTime": {
     "end_time": "2018-11-05T10:04:44.647830Z",
     "start_time": "2018-11-05T10:04:39.378071Z"
    },
    "scrolled": true
   },
   "outputs": [],
   "source": [
    "weights_path = os.path.join(DIR_WEIGHTS  , files[3])\n",
    "print(\"Loading weights \", weights_path)\n",
    "fcn_model.load_model_weights(weights_path) "
   ]
  },
  {
   "cell_type": "markdown",
   "metadata": {},
   "source": [
    "### Review Weight Stats - 4th weight file"
   ]
  },
  {
   "cell_type": "code",
   "execution_count": null,
   "metadata": {
    "ExecuteTime": {
     "end_time": "2018-11-05T10:04:45.821346Z",
     "start_time": "2018-11-05T10:04:44.650506Z"
    }
   },
   "outputs": [],
   "source": [
    "# Show stats of all trainable weights    \n",
    "visualize.display_weight_stats(fcn_model)"
   ]
  },
  {
   "cell_type": "markdown",
   "metadata": {
    "collapsed": true
   },
   "source": [
    "### Histograms of Weights"
   ]
  },
  {
   "cell_type": "code",
   "execution_count": null,
   "metadata": {
    "ExecuteTime": {
     "end_time": "2018-11-05T10:04:58.204231Z",
     "start_time": "2018-11-05T10:04:45.824019Z"
    },
    "scrolled": false
   },
   "outputs": [],
   "source": [
    "a = visualize.display_weight_histograms(fcn_model, filename = files[3])\n",
    "weights_histogram = os.path.join(DIR_WEIGHTS  , 'histogram_'+files[3]+'.png')\n",
    "a.savefig(weights_histogram)"
   ]
  },
  {
   "cell_type": "markdown",
   "metadata": {},
   "source": [
    "## Load Weights - 5th weight file"
   ]
  },
  {
   "cell_type": "code",
   "execution_count": null,
   "metadata": {
    "ExecuteTime": {
     "end_time": "2018-11-05T10:05:02.991575Z",
     "start_time": "2018-11-05T10:04:58.207233Z"
    },
    "scrolled": true
   },
   "outputs": [],
   "source": [
    "weights_path = os.path.join(DIR_WEIGHTS  , files[4])\n",
    "fcn_model.load_model_weights(weights_path) "
   ]
  },
  {
   "cell_type": "markdown",
   "metadata": {},
   "source": [
    "### Review Weight Stats - 5th weight file"
   ]
  },
  {
   "cell_type": "code",
   "execution_count": null,
   "metadata": {
    "ExecuteTime": {
     "end_time": "2018-11-05T10:05:04.136833Z",
     "start_time": "2018-11-05T10:05:02.995248Z"
    }
   },
   "outputs": [],
   "source": [
    "# Show stats of all trainable weights    \n",
    "visualize.display_weight_stats(fcn_model)"
   ]
  },
  {
   "cell_type": "markdown",
   "metadata": {
    "collapsed": true
   },
   "source": [
    "### Histograms of Weights - 5th weight file"
   ]
  },
  {
   "cell_type": "code",
   "execution_count": null,
   "metadata": {
    "ExecuteTime": {
     "end_time": "2018-11-05T10:05:16.301664Z",
     "start_time": "2018-11-05T10:05:04.139739Z"
    }
   },
   "outputs": [],
   "source": [
    "a = visualize.display_weight_histograms(fcn_model, filename = files[4])\n",
    "weights_histogram = os.path.join(DIR_WEIGHTS  , 'histogram_'+files[4]+'.png')\n",
    "a.savefig(weights_histogram)"
   ]
  },
  {
   "cell_type": "markdown",
   "metadata": {},
   "source": [
    "## Load Weights - 6th weight file"
   ]
  },
  {
   "cell_type": "code",
   "execution_count": null,
   "metadata": {
    "ExecuteTime": {
     "end_time": "2018-11-05T10:05:21.588704Z",
     "start_time": "2018-11-05T10:05:16.304466Z"
    }
   },
   "outputs": [],
   "source": [
    "weights_path = os.path.join(DIR_WEIGHTS  , files[5])\n",
    "fcn_model.load_model_weights(weights_path) "
   ]
  },
  {
   "cell_type": "markdown",
   "metadata": {},
   "source": [
    "### Review Weight Stats - 6th weight file"
   ]
  },
  {
   "cell_type": "code",
   "execution_count": null,
   "metadata": {
    "ExecuteTime": {
     "end_time": "2018-11-05T10:05:22.809520Z",
     "start_time": "2018-11-05T10:05:21.592087Z"
    },
    "scrolled": true
   },
   "outputs": [],
   "source": [
    "# Show stats of all trainable weights    \n",
    "visualize.display_weight_stats(fcn_model)"
   ]
  },
  {
   "cell_type": "markdown",
   "metadata": {
    "collapsed": true
   },
   "source": [
    "### Histograms of Weights - 6th weight file"
   ]
  },
  {
   "cell_type": "code",
   "execution_count": null,
   "metadata": {
    "ExecuteTime": {
     "end_time": "2018-11-05T10:05:34.934962Z",
     "start_time": "2018-11-05T10:05:22.811807Z"
    },
    "scrolled": false
   },
   "outputs": [],
   "source": [
    "a = visualize.display_weight_histograms(fcn_model, filename = files[5])\n",
    "weights_histogram = os.path.join(DIR_WEIGHTS  , 'histogram_'+files[5]+'.png')\n",
    "a.savefig(weights_histogram)"
   ]
  },
  {
   "cell_type": "markdown",
   "metadata": {},
   "source": [
    "## Load Weights - 7th weight file"
   ]
  },
  {
   "cell_type": "code",
   "execution_count": null,
   "metadata": {
    "ExecuteTime": {
     "end_time": "2018-11-05T10:05:40.016012Z",
     "start_time": "2018-11-05T10:05:34.938664Z"
    }
   },
   "outputs": [],
   "source": [
    "weights_path = os.path.join(DIR_WEIGHTS  , files[6])\n",
    "fcn_model.load_model_weights(weights_path) "
   ]
  },
  {
   "cell_type": "markdown",
   "metadata": {},
   "source": [
    "### Review Weight Stats - 7th weight file"
   ]
  },
  {
   "cell_type": "code",
   "execution_count": null,
   "metadata": {
    "ExecuteTime": {
     "end_time": "2018-11-05T10:05:41.180266Z",
     "start_time": "2018-11-05T10:05:40.019004Z"
    }
   },
   "outputs": [],
   "source": [
    "# Show stats of all trainable weights    \n",
    "visualize.display_weight_stats(fcn_model)"
   ]
  },
  {
   "cell_type": "markdown",
   "metadata": {
    "collapsed": true
   },
   "source": [
    "### Histograms of Weights - 7th weight file"
   ]
  },
  {
   "cell_type": "code",
   "execution_count": null,
   "metadata": {
    "ExecuteTime": {
     "end_time": "2018-11-05T10:05:54.035392Z",
     "start_time": "2018-11-05T10:05:41.182604Z"
    }
   },
   "outputs": [],
   "source": [
    "a = visualize.display_weight_histograms(fcn_model, filename = files[6])\n",
    "weights_histogram = os.path.join(DIR_WEIGHTS  , 'histogram_'+files[6]+'.png')\n",
    "a.savefig(weights_histogram)"
   ]
  },
  {
   "cell_type": "code",
   "execution_count": null,
   "metadata": {},
   "outputs": [],
   "source": []
  }
 ],
 "metadata": {
  "anaconda-cloud": {},
  "kernelspec": {
   "display_name": "Python [conda env:TFG]",
   "language": "python",
   "name": "conda-env-TFG-py"
  },
  "language_info": {
   "codemirror_mode": {
    "name": "ipython",
    "version": 3
   },
   "file_extension": ".py",
   "mimetype": "text/x-python",
   "name": "python",
   "nbconvert_exporter": "python",
   "pygments_lexer": "ipython3",
   "version": "3.5.4"
  },
  "toc": {
   "base_numbering": 1,
   "nav_menu": {},
   "number_sections": true,
   "sideBar": true,
   "skip_h1_title": false,
   "title_cell": "Table of Contents",
   "title_sidebar": "Contents",
   "toc_cell": false,
   "toc_position": {},
   "toc_section_display": true,
   "toc_window_display": false
  }
 },
 "nbformat": 4,
 "nbformat_minor": 2
}
