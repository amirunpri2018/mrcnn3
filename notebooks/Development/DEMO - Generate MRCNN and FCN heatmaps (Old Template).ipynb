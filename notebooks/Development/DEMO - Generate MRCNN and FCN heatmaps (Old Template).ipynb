{
 "cells": [
  {
   "cell_type": "markdown",
   "metadata": {
    "hideCode": true,
    "hidePrompt": true
   },
   "source": [
    "## Build MRCNN Model\n",
    "Pass data through MRCNN and then FCN and investigte output values from FCN\n",
    "- First we generate the heatmaps, and also visually cehck them. \n",
    "- the we pass the heatmaps to the routine that prodcues the scores "
   ]
  },
  {
   "cell_type": "code",
   "execution_count": null,
   "metadata": {
    "ExecuteTime": {
     "end_time": "2018-11-06T10:02:47.688700Z",
     "start_time": "2018-11-06T10:01:51.403434Z"
    },
    "hideCode": false,
    "hideOutput": false,
    "hidePrompt": false
   },
   "outputs": [],
   "source": [
    "from IPython.core.display import display, HTML\n",
    "display(HTML(\"<style>.container { width:95% !important; }</style>\"))\n",
    "%matplotlib inline\n",
    "%load_ext autoreload\n",
    "%autoreload 2\n",
    "import sys, os, random, pprint\n",
    "sys.path.append('../../')\n",
    "import tensorflow          as tf\n",
    "import keras.backend       as KB\n",
    "import numpy               as np\n",
    "import matplotlib as plt\n",
    "from mrcnn.datagen         import data_generator, load_image_gt, data_gen_simulate\n",
    "from mrcnn.callbacks       import get_layer_output_1,get_layer_output_2\n",
    "from mrcnn.utils           import mask_string, parse_image_meta, apply_box_deltas_tf, log, Paths, command_line_parser\n",
    "from mrcnn.visualize       import display_gt_bboxes, display_roi_proposals, plot_3d_heatmap \n",
    "from mrcnn.visualize       import display_gt_bboxes, display_roi_proposals\n",
    "from mrcnn.prep_notebook   import mrcnn_coco_train, prep_coco_dataset\n",
    "from mrcnn.coco            import CocoDataset, CocoConfig, CocoInferenceConfig, evaluate_coco, build_coco_results\n",
    "import mrcnn.visualize     as visualize\n",
    "from mrcnn.visualize       import (plot_one_bbox_heatmap, \n",
    "                             plot_3d_heatmap, plot_2d_heatmap, \n",
    "                             plot_2d_heatmap_compare, plot_3d_heatmap_compare)\n",
    "# import mrcnn.model_fcn     as fcn_modellib\n",
    "# import mrcnn.model_mrcnn   as mrcnn_modellib\n",
    "import mrcnn.utils         as utils\n",
    "# from mrcnn.utils        import log, stack_tensors, stack_tensors_3d, write_stdout\n",
    "# from mrcnn.datagen      import data_generator, load_image_gt, data_gen_simulate\n",
    "# from mrcnn.datagen_fcn  import fcn_data_gen_simulate\n",
    "# from mrcnn.callbacks    import get_layer_output_1,get_layer_output_2\n",
    "# from mrcnn.coco         import CocoDataset, CocoInferenceConfig, evaluate_coco, build_coco_results\n",
    "# from mrcnn.coco         import CocoConfig\n",
    "# from mrcnn.heatmap      import HeatmapDataset\n",
    "from mrcnn.prep_notebook import prep_heatmap_dataset, prep_coco_dataset\n",
    "pp = pprint.PrettyPrinter(indent=2, width=100)\n",
    "np.set_printoptions(linewidth=100,precision=4,threshold=1000, suppress = True)\n",
    "\n",
    "####  Pass input parameters to argparse\n",
    "\n",
    "# args = parser.parse_args(\"--epochs 100 --steps_in_epoch 128  --last_epoch 1264 --batch_size 8  --lr 0.5               --logs_dir train_fcn_adagrad --model /home/kbardool/models/train_mrcnn/shapes20180621T1554/mask_rcnn_shapes_1119.h5 --fcn_model init\".split())\n",
    "# input_parms = \"--epochs 100 --steps_in_epoch 100  --last_epoch 1264 --batch_size 25 --lr 0.8 --val_steps 5 --logs_dir train_fcn_adagrad --model /home/kbardool/models/train_mrcnn/shapes20180621T1554/mask_rcnn_shapes_1119.h5 --fcn_model /home/kbardool/models/train_fcn_adagrad/shapes20180709T1732/fcn_shapes_1167.h5\"\n",
    "# input_parms +=\" --model     /home/kbardool/models/train_mrcnn/shapes20180621T1554/mask_rcnn_shapes_1119.h5 \"\n",
    "##------------------------------------------------------------------------------------\n",
    "## Parse command line arguments\n",
    "##------------------------------------------------------------------------------------\n",
    "parser = command_line_parser()\n",
    "input_parms = \"--epochs 2 --steps_in_epoch 32  --last_epoch 0 --batch_size 2 --lr 0.00001 --val_steps 8 \" \n",
    "# input_parms +=\"--mrcnn_logs_dir train_mrcnn_newshapes \"\n",
    "# input_parms +=\"--fcn_logs_dir   train_fcn8_newshapes \"\n",
    "input_parms +=\"--mrcnn_logs_dir train_mrcnn_coco \"\n",
    "input_parms +=\"--fcn_logs_dir   train_fcn8_coco_adam \"\n",
    "input_parms +=\"--mrcnn_model    last \"\n",
    "input_parms +=\"--fcn_model      init \"\n",
    "input_parms +=\"--opt            adagrad \"\n",
    "input_parms +=\"--fcn_arch       fcn8 \" \n",
    "input_parms +=\"--fcn_layers     all \" \n",
    "input_parms +=\"--sysout        screen \"\n",
    "input_parms +=\"--new_log_folder    \"\n",
    "# input_parms +=\"--fcn_model /home/kbardool/models/train_fcn_adagrad/shapes20180709T1732/fcn_shapes_1167.h5\"\n",
    "print(input_parms)\n",
    "\n",
    "args = parser.parse_args(input_parms.split())\n",
    "# args = parser.parse_args()\n",
    "\n",
    "##----------------------------------------------------------------------------------------------\n",
    "## if debug is true set stdout destination to stringIO\n",
    "##----------------------------------------------------------------------------------------------            \n",
    "# debug = False\n",
    "if args.sysout == 'FILE':\n",
    "    sys.stdout = io.StringIO()\n",
    "\n",
    "# print(\"    Dataset            : \", args.dataset)\n",
    "# print(\"    Logs               : \", args.logs)\n",
    "# print(\"    Limit              : \", args.limit)\n",
    "print(\"    MRCNN Model        : \", args.mrcnn_model)\n",
    "print(\"    FCN Model          : \", args.fcn_model)\n",
    "print(\"    MRCNN Log Dir      : \", args.mrcnn_logs_dir)\n",
    "print(\"    FCN Log Dir        : \", args.fcn_logs_dir)\n",
    "print(\"    FCN Arch           : \", args.fcn_arch)\n",
    "print(\"    FCN Log Dir        : \", args.fcn_layers)\n",
    "print(\"    Last Epoch         : \", args.last_epoch)\n",
    "print(\"    Epochs to run      : \", args.epochs)\n",
    "print(\"    Steps in each epoch: \", args.steps_in_epoch)\n",
    "print(\"    Validation steps   : \", args.val_steps)\n",
    "print(\"    Batch Size         : \", args.batch_size)\n",
    "print(\"    Optimizer          : \", args.opt)\n",
    "print(\"    sysout             : \", args.sysout)\n",
    "# print(\"    OS Platform        : \", syst)\n",
    "\n",
    "##------------------------------------------------------------------------------------\n",
    "## setup project directories\n",
    "##   ROOT_DIR         : Root directory of the project \n",
    "##   MODEL_DIR        : Directory to save logs and trained model\n",
    "##   COCO_MODEL_PATH  : Path to COCO trained weights\n",
    "##---------------------------------------------------------------------------------\n",
    "paths = Paths(fcn_training_folder = args.fcn_logs_dir, mrcnn_training_folder = args.mrcnn_logs_dir)\n",
    "paths.display()\n",
    "\n",
    "### Build Configuration Object\n",
    "### Build Configuration Object\n",
    "\n",
    "##------------------------------------------------------------------------------------\n",
    "## Build configuration object \n",
    "##------------------------------------------------------------------------------------                          \n",
    "mrcnn_config                    = CocoConfig()\n",
    "# import mrcnn.new_shapes as new_shapes\n",
    "# mrcnn_config = new_shapes.NewShapesConfig()\n",
    "\n",
    "mrcnn_config.NAME               = 'mrcnn'              \n",
    "mrcnn_config.TRAINING_PATH      = paths.MRCNN_TRAINING_PATH\n",
    "mrcnn_config.COCO_DATASET_PATH  = paths.COCO_DATASET_PATH \n",
    "mrcnn_config.COCO_MODEL_PATH    = paths.COCO_MODEL_PATH   \n",
    "mrcnn_config.RESNET_MODEL_PATH  = paths.RESNET_MODEL_PATH \n",
    "mrcnn_config.VGG16_MODEL_PATH   = paths.VGG16_MODEL_PATH  \n",
    "mrcnn_config.COCO_CLASSES       = None \n",
    "mrcnn_config.DETECTION_PER_CLASS = 200\n",
    "mrcnn_config.HEATMAP_SCALE_FACTOR = 4\n",
    "mrcnn_config.BATCH_SIZE         = int(args.batch_size)                  # Batch size is 2 (# GPUs * images/GPU).\n",
    "mrcnn_config.IMAGES_PER_GPU     = int(args.batch_size)                  # Must match BATCH_SIZE\n",
    "\n",
    "mrcnn_config.STEPS_PER_EPOCH    = int(args.steps_in_epoch)\n",
    "mrcnn_config.LEARNING_RATE      = float(args.lr)\n",
    "mrcnn_config.EPOCHS_TO_RUN      = int(args.epochs)\n",
    "mrcnn_config.FCN_INPUT_SHAPE    = mrcnn_config.IMAGE_SHAPE[0:2]\n",
    "mrcnn_config.LAST_EPOCH_RAN     = int(args.last_epoch)\n",
    "mrcnn_config.NEW_LOG_FOLDER       = True\n",
    "mrcnn_config.SYSOUT               = args.sysout\n",
    "\n",
    "# mrcnn_config.WEIGHT_DECAY       = 2.0e-4\n",
    "# mrcnn_config.VALIDATION_STEPS   = int(args.val_steps)\n",
    "# mrcnn_config.REDUCE_LR_FACTOR   = 0.5\n",
    "# mrcnn_config.REDUCE_LR_COOLDOWN = 30\n",
    "# mrcnn_config.REDUCE_LR_PATIENCE = 40\n",
    "# mrcnn_config.EARLY_STOP_PATIENCE= 80\n",
    "# mrcnn_config.EARLY_STOP_MIN_DELTA = 1.0e-4\n",
    "# mrcnn_config.MIN_LR             = 1.0e-10\n",
    "# mrcnn_config.OPTIMIZER          = args.opt.upper()\n",
    "\n",
    "# mrcnn_config.display() \n",
    "\n",
    "\n",
    "###  Build Model\n",
    "\n",
    "from mrcnn.prep_notebook import mrcnn_coco_train\n",
    "mrcnn_model, mrcnn_config = mrcnn_coco_train(mode = 'trainfcn', mrcnn_config = mrcnn_config)\n",
    "\n",
    "####  FCN configuration\n",
    "\n",
    "##------------------------------------------------------------------------------------\n",
    "## Build configuration for FCN model\n",
    "##------------------------------------------------------------------------------------\n",
    "fcn_config = CocoConfig()\n",
    "# fcn_config.IMAGE_MAX_DIM        = 600\n",
    "# fcn_config.IMAGE_MIN_DIM        = 480      \n",
    "# mrcnn_config.COCO_DATASET_PATH  = COCO_DATASET_PATH \n",
    "# mrcnn_config.COCO_MODEL_PATH    = COCO_MODEL_PATH   \n",
    "# mrcnn_config.RESNET_MODEL_PATH  = RESNET_MODEL_PATH \n",
    "fcn_config.NAME                 = 'fcn'              \n",
    "fcn_config.TRAINING_PATH        = paths.FCN_TRAINING_PATH\n",
    "fcn_config.VGG16_MODEL_PATH     = paths.FCN_VGG16_MODEL_PATH\n",
    "fcn_config.FCN_INPUT_SHAPE      = mrcnn_config.IMAGE_SHAPE[0:2] // mrcnn_config.HEATMAP_SCALE_FACTOR \n",
    "\n",
    "fcn_config.BATCH_SIZE           = mrcnn_config.BATCH_SIZE                # Batch size is 2 (# GPUs * images/GPU).\n",
    "fcn_config.IMAGES_PER_GPU       = mrcnn_config.BATCH_SIZE                  # Must match BATCH_SIZE\n",
    "fcn_config.EPOCHS_TO_RUN        = 1\n",
    "fcn_config.STEPS_PER_EPOCH      = 4\n",
    "fcn_config.LAST_EPOCH_RAN       = 0\n",
    "\n",
    "fcn_config.LEARNING_RATE        = 0.0001 \n",
    "\n",
    "fcn_config.BATCH_MOMENTUM       = 0.9\n",
    "fcn_config.WEIGHT_DECAY         = 2.0e-4\n",
    "fcn_config.REDUCE_LR_FACTOR     = 0.5\n",
    "fcn_config.REDUCE_LR_COOLDOWN   = 5\n",
    "fcn_config.REDUCE_LR_PATIENCE   = 5\n",
    "fcn_config.EARLY_STOP_PATIENCE  = 15\n",
    "fcn_config.EARLY_STOP_MIN_DELTA = 1.0e-4\n",
    "fcn_config.MIN_LR               = 1.0e-10\n",
    " \n",
    "fcn_config.VALIDATION_STEPS     = 5\n",
    "fcn_config.REDUCE_LR_FACTOR     = 0.5\n",
    "fcn_config.REDUCE_LR_COOLDOWN   = 50\n",
    "fcn_config.REDUCE_LR_PATIENCE   = 33\n",
    "fcn_config.EARLY_STOP_PATIENCE  = 50\n",
    "fcn_config.EARLY_STOP_MIN_DELTA = 1.0e-6\n",
    "fcn_config.MIN_LR               = 1.0e-10\n",
    "fcn_config.NEW_LOG_FOLDER       = True  \n",
    "fcn_config.OPTIMIZER            = 'ADAGRAD'\n",
    "fcn_config.SYSOUT               = 'screen'\n",
    "\n",
    "fcn_config.display()\n",
    "\n",
    "#### Build FCN Model\n",
    "\n",
    "##------------------------------------------------------------------------------------\n",
    "## Build FCN Model in Training Mode\n",
    "##------------------------------------------------------------------------------------\n",
    "try :\n",
    "    del fcn_model\n",
    "    gc.collect()\n",
    "except: \n",
    "    pass    \n",
    "fcn_model = fcn_modellib.FCN(mode=\"training\", arch = 'FCN8', config=fcn_config)\n",
    "\n",
    "####  Display FCN model info\n",
    "\n",
    "# fcn_model.config.display()  \n",
    "fcn_model.layer_info()"
   ]
  },
  {
   "cell_type": "markdown",
   "metadata": {},
   "source": [
    "## Load MRCNN and FCN weights (FCN weights if not starting from init mode)"
   ]
  },
  {
   "cell_type": "code",
   "execution_count": null,
   "metadata": {
    "ExecuteTime": {
     "end_time": "2018-11-05T15:51:41.501234Z",
     "start_time": "2018-11-05T15:51:35.880765Z"
    },
    "scrolled": true
   },
   "outputs": [],
   "source": [
    "# exclude=[\"mrcnn_class_logits\"] # ,\"mrcnn_bbox_fc\"]   #, \"mrcnn_bbox\", \"mrcnn_mask\"])\n",
    "mrcnn_model.load_model_weights(init_with = 'last', exclude = None)  \n",
    "\n",
    "#### FCN\n",
    "\n",
    "##------------------------------------------------------------------------------------\n",
    "## Load FCN Model weights  \n",
    "##------------------------------------------------------------------------------------\n",
    "# fcn_model.load_model_weights(init_with = 'last') # 'fcn_config.VGG16_MODEL_PATH')\n",
    "# WEIGHT_FILE = '/home/kbardool/models/train_fcn8_coco/fcn20181028T0000/fcn_0050.h5'  # <--- With L2\n",
    "# WEIGHT_FILE = '/home/kbardool/models/train_fcn8_coco/fcn20181030T0000/fcn_0248.h5' # <--- Partial L2 (some still remaining)\n",
    "WEIGHT_FILE = '/home/kbardool/models/train_fcn8_coco/fcn20181031T0000/fcn_0156.h5'\n",
    "fcn_model.load_model_weights(init_with =WEIGHT_FILE, verbose = 1)\n"
   ]
  },
  {
   "cell_type": "markdown",
   "metadata": {},
   "source": [
    "## Load Training Files and Display Images\n",
    " \n",
    "     train\n",
    "         image_ids[:10]       :  [262145, 262146, 524291, 131074, 393221, 131075, 393223, 393224, 524297, 9]\n",
    "         image_ids[1000:1010] :  [1451, 132523, 1453, 132527, 263599, 132529, 132528, 263603, 263604, 132533]\n",
    "     val35k\n",
    "      image_ids[:10]       :  [262148, 393225, 131089, 262161, 262162, 393243, 262175, 131108, 393254, 42]\n",
    "      image_ids[1000:1010] :  [134290, 527506, 527504, 134288, 527510, 265372, 265374, 265378, 527529, 3244]"
   ]
  },
  {
   "cell_type": "code",
   "execution_count": null,
   "metadata": {
    "ExecuteTime": {
     "end_time": "2018-11-06T10:09:28.307200Z",
     "start_time": "2018-11-06T10:08:56.809281Z"
    },
    "hideCode": false,
    "hideOutput": true,
    "hidePrompt": false,
    "scrolled": true
   },
   "outputs": [],
   "source": [
    "# dataset_train, train_generator  = prep_coco_dataset(['train','val35k'], mrcnn_config, generator = True)\n",
    "dataset_train, train_generator  = prep_coco_dataset(['train','val35k'], mrcnn_config, generator = True)\n",
    "# dataset_val, val_generator      = prep_coco_dataset(['minival'], mrcnn_config, generator = True) \n",
    "class_names = dataset_train.class_names"
   ]
  },
  {
   "cell_type": "markdown",
   "metadata": {},
   "source": [
    "####  Display next image from generator"
   ]
  },
  {
   "cell_type": "code",
   "execution_count": null,
   "metadata": {
    "ExecuteTime": {
     "end_time": "2018-11-05T13:44:21.613380Z",
     "start_time": "2018-11-05T13:44:20.808920Z"
    },
    "hideCode": false,
    "hideOutput": true,
    "hidePrompt": false
   },
   "outputs": [],
   "source": [
    "train_batch_x, train_batch_y = next(train_generator)"
   ]
  },
  {
   "cell_type": "code",
   "execution_count": null,
   "metadata": {
    "ExecuteTime": {
     "end_time": "2018-11-05T15:51:42.358963Z",
     "start_time": "2018-11-05T15:51:41.504277Z"
    },
    "hideCode": false,
    "hidePrompt": false,
    "scrolled": false
   },
   "outputs": [],
   "source": [
    "class_names = dataset_train.class_names\n",
    "imgmeta_idx = mrcnn_model.keras_model.input_names.index('input_image_meta')\n",
    "img_meta    = train_batch_x[imgmeta_idx]\n",
    "\n",
    "for img_idx in range(mrcnn_config.BATCH_SIZE):\n",
    "    image_id = img_meta[img_idx,0]\n",
    "    image = dataset_train.load_image(image_id)\n",
    "    mask, class_ids = dataset_train.load_mask(image_id)\n",
    "    bbox = utils.extract_bboxes(mask)\n",
    "    print('Image id: ',image_id)\n",
    "    print('Image meta', img_meta[img_idx])\n",
    "#     print('Classes (1: circle, 2: square, 3: triangle ): ',class_ids)\n",
    "    visualize.display_top_masks(image, mask, class_ids, dataset_train.class_names)\n",
    "    visualize.display_instances_with_mask(image, bbox, mask, class_ids, dataset_train.class_names, figsize =(8,8))  "
   ]
  },
  {
   "cell_type": "markdown",
   "metadata": {},
   "source": [
    "#### Load a specific image using image_id"
   ]
  },
  {
   "cell_type": "code",
   "execution_count": null,
   "metadata": {
    "ExecuteTime": {
     "end_time": "2018-11-05T13:45:23.274979Z",
     "start_time": "2018-11-05T13:45:22.074431Z"
    },
    "hideCode": false,
    "hidePrompt": false,
    "scrolled": false
   },
   "outputs": [],
   "source": [
    "## 62642 (persons),   68539 (trucks) 36466 (surfers)  75040 (boat and persons)\n",
    "## 36466 surfers. 5498 basketbal players, 27711,30531\n",
    "## 5498 lots of motorcylces & persons - \n",
    "## Persons: #26026, #7719, 111864, 58240,  \n",
    "## 89243: Person, bicylce and traiffic lights\n",
    "## 35347 - laptops, keyboards and cat\n",
    "## items = [59199 , 102868]\n",
    "## 101623 (cake and forks), 41423 (elephant & people)\n",
    "## 33477 Table, bowl, cup, sandwich, knife\n",
    "## 26763 Table, chair, cup , bowl, bottle\n",
    "## 49316 Table, book, backpack, many bottles\n",
    "# train_batch_x, train_batch_y = next(train_generator)\n",
    "# IMAGE_LIST = [75040] \n",
    "# IMAGE_LIST = [89243]\n",
    "# IMAGE_LIST = [33477]\n",
    "# IMAGE_LIST = [29731]\n",
    "IMAGE_LIST = [26763]\n",
    "train_batch_x, train_batch_y = test_batch_x, test_batch_y = data_gen_simulate(dataset_train, mrcnn_config, IMAGE_LIST)\n",
    "imgmeta_idx = mrcnn_model.keras_model.input_names.index('input_image_meta')\n",
    "img_meta    = train_batch_x[imgmeta_idx]\n",
    "\n",
    "for img_idx in range(mrcnn_config.BATCH_SIZE):\n",
    "    image_id = img_meta[img_idx,0]\n",
    "    image = dataset_train.load_image(image_id)\n",
    "    mask, class_ids = dataset_train.load_mask(image_id)\n",
    "    bbox = utils.extract_bboxes(mask)\n",
    "    class_names = [str(dataset_train.class_names[class_id]) for class_id in class_ids]\n",
    "    print(' Dataset coco file:', dataset_train.image_info[image_id]['id'])\n",
    "    print(' Image meta  : ', img_meta[img_idx,:10])\n",
    "    print(' Classes     : ', class_ids)\n",
    "    print(\" Image_id    : \", image_id, ' Reference: ', dataset_train.image_reference(image_id))\n",
    "    print(' Class_ids.shape[0]:', class_ids.shape[0], 'bbox.shape[0]:',bbox.shape[0])       \n",
    "    print(' Class Names : ', class_names)\n",
    "    \n",
    "    visualize.display_top_masks(image, mask, class_ids, dataset_train.class_names)   \n",
    "    # Display image and instances\n",
    "    visualize.display_instances_with_mask(image, bbox, mask, class_ids, dataset_train.class_names, figsize =(8,8))    "
   ]
  },
  {
   "cell_type": "markdown",
   "metadata": {},
   "source": [
    "## Pass image through MRCNN and FCN"
   ]
  },
  {
   "cell_type": "markdown",
   "metadata": {},
   "source": [
    "###  Pass data thru MRCNN model - Load In/Out Data - Pass through FCN"
   ]
  },
  {
   "cell_type": "code",
   "execution_count": null,
   "metadata": {
    "ExecuteTime": {
     "end_time": "2018-11-06T10:10:14.144781Z",
     "start_time": "2018-11-06T10:10:14.001103Z"
    },
    "hideCode": false,
    "hideOutput": true,
    "hidePrompt": false,
    "scrolled": true
   },
   "outputs": [],
   "source": [
    "# mrcnn_model.layer_info()\n",
    "\n",
    "# model_output = get_layer_output_2(model.keras_model, train_batch_x, 1)\n",
    "model_output = get_layer_output_1(mrcnn_model.keras_model, train_batch_x, [0,1,2,3], 1)\n",
    "\n",
    "### Load input / output data\n",
    "\n",
    "print(len(model_output))\n",
    "# del pred_heatmap_norm, pred_heatmap_scores, gt_heatmap, gt_heatmap_scores\n",
    "model_pred_heatmap_norm         = model_output[0]          # layer:  0   shape: (1, 256, 256, 81)\n",
    "model_pred_heatmap_scores       = model_output[1]          # layer:  1   shape: (1, 81, 200, 11)\n",
    "model_gt_heatmap                = model_output[2]          # layer:  2   shape: (1, 256, 256, 81)\n",
    "model_gt_heatmap_scores         = model_output[3]          # layer:  3   shape: (1, 81, 200, 11)\n",
    "\n",
    "for i in model_output:\n",
    "    print( i.shape)\n",
    "\n",
    "# input_image      =  train_batch_x[0]\n",
    "input_image_meta =  train_batch_x[1]\n",
    "input_gt_bboxes  =  train_batch_x[5]\n",
    "print(input_image_meta)"
   ]
  },
  {
   "cell_type": "markdown",
   "metadata": {},
   "source": [
    "### Pass data through FCN"
   ]
  },
  {
   "cell_type": "code",
   "execution_count": null,
   "metadata": {
    "ExecuteTime": {
     "end_time": "2018-11-06T10:10:14.146393Z",
     "start_time": "2018-11-06T10:11:13.531Z"
    }
   },
   "outputs": [],
   "source": [
    "# fcn_model.layer_info()\n",
    "fcn_train_batch_x = [train_batch_x[1]]\n",
    "fcn_train_batch_x.extend(model_output[:4])\n",
    "for i in fcn_train_batch_x:\n",
    "    print(i.shape)\n",
    "# fcn_train_batch_x = [model_pred_heatmap_norm, model_pred_heatmap_scores, model_gt_heatmap, model_gt_heatmap_scores]\n",
    "\n",
    "fcn_model_output = get_layer_output_1(fcn_model.keras_model, fcn_train_batch_x, [0,1], 1)\n",
    " \n",
    "\n",
    "model_fcn_heatmap               = fcn_model_output[0]          # layer:  0   shape: (1, 256, 256, 81)\n",
    "model_Mean                      = fcn_model_output[1]          # layer:  1   shape: ()\n",
    "\n",
    "# hm_sum = np.sum(model_fcn_heatmap, axis=(1,2))\n",
    "print('heatmap loss: ',model_Mean)"
   ]
  },
  {
   "cell_type": "markdown",
   "metadata": {
    "heading_collapsed": true
   },
   "source": [
    "#### Display values from FCN_heatmap"
   ]
  },
  {
   "cell_type": "code",
   "execution_count": null,
   "metadata": {
    "ExecuteTime": {
     "end_time": "2018-10-30T16:41:48.847956Z",
     "start_time": "2018-10-30T16:41:48.689231Z"
    },
    "hidden": true
   },
   "outputs": [],
   "source": [
    "img_id = 0 \n",
    "class_ids = np.unique(model_gt_heatmap_scores[img_id,:,:,4]).astype(int).tolist()\n",
    "print('Image : {}  ClassIds: {}'.format(img_id, class_ids))\n",
    "for i in range(class_ids[-1]+1):\n",
    "    \n",
    "    print('FCN class: {:3d}   min: {:12.8f}    max: {:12.8f}    sum: {:12.8f} '.format(i, np.min(model_fcn_heatmap[0,:,:,i]), \n",
    "                                                                    np.max(model_fcn_heatmap[0,:,:,i]), \n",
    "                                                                    np.sum(model_fcn_heatmap[0,:,:,i])))\n",
    "    print('GT  class: {:3d}   min: {:12.8f}    max: {:12.8f}    sum: {:12.8f} '.format(i, np.min(model_gt_heatmap[0,:,:,i]), \n",
    "                                                                    np.max(model_gt_heatmap[0,:,:,i]), \n",
    "                                                                    np.sum(model_gt_heatmap[0,:,:,i])))\n",
    "    print()"
   ]
  },
  {
   "cell_type": "code",
   "execution_count": null,
   "metadata": {
    "hidden": true
   },
   "outputs": [],
   "source": [
    "# print(model_fcn_heatmap[0,0:10,:10,1])"
   ]
  },
  {
   "cell_type": "code",
   "execution_count": null,
   "metadata": {
    "hidden": true
   },
   "outputs": [],
   "source": [
    "# for i in range(10):\n",
    "#     print(model_fcn_heatmap[0,i,:,4])\n",
    "#     print(np.min(model_fcn_heatmap[0,i,:,1]), np.max(model_fcn_heatmap[0,i,:,1]))"
   ]
  },
  {
   "cell_type": "markdown",
   "metadata": {},
   "source": [
    "## Display Heatmaps"
   ]
  },
  {
   "cell_type": "code",
   "execution_count": null,
   "metadata": {
    "ExecuteTime": {
     "end_time": "2018-11-05T15:52:11.710782Z",
     "start_time": "2018-11-05T15:52:11.661782Z"
    },
    "hideCode": false,
    "hideOutput": false
   },
   "outputs": [],
   "source": [
    "# from mrcnn.visualize import (plot_one_bbox_heatmap, \n",
    "#                              plot_3d_heatmap, plot_2d_heatmap, \n",
    "#                              plot_3d_heatmap_all_classes, plot_2d_heatmap_all_classes,\n",
    "#                              plot_2d_heatmap_compare, plot_3d_heatmap_compare)\n",
    "# import matplotlib as plt\n",
    "# %matplotlib inline\n",
    "print('Image id: ',image_id, ' Coco ID: ', dataset_train.image_info[image_id]['id'])\n",
    "img_id = 0\n",
    "coco_class_names = dataset_train.class_names\n",
    "print(model_fcn_heatmap.shape)"
   ]
  },
  {
   "cell_type": "markdown",
   "metadata": {},
   "source": [
    "### 2D Plots  "
   ]
  },
  {
   "cell_type": "markdown",
   "metadata": {},
   "source": [
    "####  2D plot of `model_gt_heatmap` returned from model"
   ]
  },
  {
   "cell_type": "code",
   "execution_count": null,
   "metadata": {
    "ExecuteTime": {
     "end_time": "2018-11-05T15:19:35.915079Z",
     "start_time": "2018-11-05T15:19:32.288317Z"
    },
    "hideCode": false,
    "hideOutput": false,
    "scrolled": false
   },
   "outputs": [],
   "source": [
    "for img_id in [0]:     ##range(mrcnn_config.BATCH_SIZE):\n",
    "    print(model_gt_heatmap.shape, model_gt_heatmap_scores.shape)\n",
    "    class_ids = np.unique(model_gt_heatmap_scores[img_id,:,:,4]).astype(int).tolist()\n",
    "    print('Image : {}  ClassIds: {}'.format(img_id, class_ids))\n",
    "    plot_2d_heatmap(model_gt_heatmap, model_gt_heatmap_scores, img_id, class_ids, \n",
    "                     class_names = coco_class_names, columns = 2, scale = 4)"
   ]
  },
  {
   "cell_type": "markdown",
   "metadata": {},
   "source": [
    "####  2D plot of `model_fcn_heatmap` returned from model"
   ]
  },
  {
   "cell_type": "code",
   "execution_count": null,
   "metadata": {
    "ExecuteTime": {
     "end_time": "2018-11-05T16:16:01.497591Z",
     "start_time": "2018-11-05T16:15:59.263431Z"
    },
    "hideCode": false,
    "hideOutput": false,
    "scrolled": false
   },
   "outputs": [],
   "source": [
    "for img_id in [0]:     ##range(mrcnn_config.BATCH_SIZE):\n",
    "    print(model_fcn_heatmap.shape)\n",
    "    class_ids = np.unique(model_gt_heatmap_scores[img_id,:,:,4]).astype(int).tolist()\n",
    "    print('Image : {}  ClassIds: {}'.format(img_id, class_ids))\n",
    "    plot_2d_heatmap(model_fcn_heatmap, model_gt_heatmap_scores,img_id, class_ids, columns = 3,\n",
    "                                 class_names = coco_class_names, scale = 4, scaling = True)"
   ]
  },
  {
   "cell_type": "markdown",
   "metadata": {},
   "source": [
    "####  2D plot of `model_fcn_heatmap` returned from model - ALL CLASSES"
   ]
  },
  {
   "cell_type": "code",
   "execution_count": null,
   "metadata": {
    "ExecuteTime": {
     "end_time": "2018-11-05T16:19:51.954987Z",
     "start_time": "2018-11-05T16:19:21.339769Z"
    },
    "hideCode": false,
    "hideOutput": false,
    "scrolled": true
   },
   "outputs": [],
   "source": [
    "for img_id in [0]: ##range(mrcnn_config.BATCH_SIZE):\n",
    "    class_ids = np.unique(model_pred_heatmap_scores[img_id,:,:,4]).astype(int).tolist()\n",
    "    print('Image : {}  Pred ClassIds: {}'.format(img_id, class_ids))\n",
    "    print('            Gt   ClassIds: {}'.format(np.unique(model_gt_heatmap_scores[img_id,:,:,4]).astype(int).tolist()))\n",
    "#     plot_2d_heatmap_with_bboxes(model_fcn_heatmap[...,:class_ids[-1]+1], model_gt_heatmap_scores, img_id, \n",
    "#                                 class_ids, class_names = class_names, columns = 2, scale = 4)\n",
    "    fig = plot_2d_heatmap(model_fcn_heatmap, model_gt_heatmap_scores, img_id,\n",
    "                                class_names = coco_class_names, columns = 4, scale = 4, scaling = True)\n",
    "#     fig.savefig('fcn_heatmaps_2d.png')"
   ]
  },
  {
   "cell_type": "code",
   "execution_count": null,
   "metadata": {
    "ExecuteTime": {
     "end_time": "2018-11-05T16:20:46.357754Z",
     "start_time": "2018-11-05T16:20:39.727892Z"
    }
   },
   "outputs": [],
   "source": [
    "fig.savefig('fcn_heatmaps_2d.png')"
   ]
  },
  {
   "cell_type": "markdown",
   "metadata": {},
   "source": [
    "####  2D plot of `pred_heatmap_norm` returned from MRCNN "
   ]
  },
  {
   "cell_type": "code",
   "execution_count": null,
   "metadata": {
    "ExecuteTime": {
     "end_time": "2018-11-05T16:03:08.874899Z",
     "start_time": "2018-11-05T16:03:04.405441Z"
    },
    "hideCode": false,
    "hideOutput": false,
    "scrolled": true
   },
   "outputs": [],
   "source": [
    "for img_id in [0]: ## range(mrcnn_config.BATCH_SIZE):\n",
    "    # print(pred_refined_heatmap_scores[img_id,:4])\n",
    "    print(model_pred_heatmap_norm.shape)\n",
    "    class_ids = np.unique(model_pred_heatmap_scores[img_id,:,:,4]).astype(int).tolist()\n",
    "    print('Image : {}  ClassIds: {}'.format(img_id, class_ids))\n",
    "    plot_2d_heatmap(model_pred_heatmap_norm, model_pred_heatmap_scores, img_id, class_ids, \n",
    "                                class_names = coco_class_names, size = (7,7), scale = 4)"
   ]
  },
  {
   "cell_type": "markdown",
   "metadata": {},
   "source": [
    "####  2D comparative display `pred_heatmap` / `fcn_heatmap`  "
   ]
  },
  {
   "cell_type": "code",
   "execution_count": null,
   "metadata": {
    "ExecuteTime": {
     "end_time": "2018-11-05T13:48:28.054457Z",
     "start_time": "2018-11-05T13:48:22.717773Z"
    },
    "hideCode": false,
    "hideOutput": false,
    "scrolled": false
   },
   "outputs": [],
   "source": [
    "for img_id in [0]: ##range(mrcnn_config.BATCH_SIZE):\n",
    "    class_ids = np.unique(model_pred_heatmap_scores[img_id,:,:,4]).astype(int).tolist()\n",
    "    print('Image : {}  ClassIds: {}'.format(img_id, class_ids))\n",
    "#     class_ids = list(range(30))\n",
    "    plot_2d_heatmap_compare(model_pred_heatmap_norm, model_fcn_heatmap, model_pred_heatmap_scores, \n",
    "                            img_id, class_ids = class_ids, class_names = coco_class_names, scale = 4, scaling = True )    "
   ]
  },
  {
   "cell_type": "markdown",
   "metadata": {},
   "source": [
    "###  3D Plots"
   ]
  },
  {
   "cell_type": "markdown",
   "metadata": {
    "heading_collapsed": true
   },
   "source": [
    "####  3D plot of  `gt_heatmap_norm` returned form code above"
   ]
  },
  {
   "cell_type": "code",
   "execution_count": null,
   "metadata": {
    "ExecuteTime": {
     "end_time": "2018-11-05T13:28:16.847356Z",
     "start_time": "2018-11-05T13:28:14.842854Z"
    },
    "hidden": true,
    "hideCode": false,
    "hideOutput": false,
    "scrolled": false
   },
   "outputs": [],
   "source": [
    "for img_id in [0]: ## range(mrcnn_config.BATCH_SIZE):\n",
    "    print(model_gt_heatmap.shape)\n",
    "    class_ids = np.unique(model_gt_heatmap_scores[img_id,:,:,4]).astype(int).tolist()\n",
    "    print('Image : {}  ClassIds: {}'.format(img_id, class_ids))\n",
    "    plot_3d_heatmap(model_gt_heatmap, img_id, class_ids, class_names = class_names)\n"
   ]
  },
  {
   "cell_type": "markdown",
   "metadata": {
    "heading_collapsed": true
   },
   "source": [
    "####  3D plot of `pred_heatmap_norm` returned form model"
   ]
  },
  {
   "cell_type": "code",
   "execution_count": null,
   "metadata": {
    "ExecuteTime": {
     "end_time": "2018-11-05T13:28:38.225646Z",
     "start_time": "2018-11-05T13:28:36.256081Z"
    },
    "hidden": true,
    "hideCode": false,
    "hideOutput": false,
    "scrolled": true
   },
   "outputs": [],
   "source": [
    "for img_id in [0]: ##range(mrcnn_config.BATCH_SIZE):\n",
    "    print(model_pred_heatmap_norm.shape)\n",
    "    class_ids = np.unique(model_pred_heatmap_scores[img_id,:,:,4]).astype(int).tolist()\n",
    "    print('Image : {}  ClassIds: {}'.format(img_id, class_ids))\n",
    "    plot_3d_heatmap(model_pred_heatmap_norm, img_id, class_ids, class_names = class_names, zlim = 'all' )\n"
   ]
  },
  {
   "cell_type": "markdown",
   "metadata": {},
   "source": [
    "####  3D plot of `fcn_heatmap` returned form model - only classes in pred_scores"
   ]
  },
  {
   "cell_type": "code",
   "execution_count": null,
   "metadata": {
    "ExecuteTime": {
     "end_time": "2018-11-05T15:52:38.571460Z",
     "start_time": "2018-11-05T15:52:38.517733Z"
    }
   },
   "outputs": [],
   "source": [
    "print(np.max(model_fcn_heatmap), np.min(model_fcn_heatmap))"
   ]
  },
  {
   "cell_type": "code",
   "execution_count": null,
   "metadata": {
    "ExecuteTime": {
     "end_time": "2018-11-05T15:53:44.030935Z",
     "start_time": "2018-11-05T15:53:31.508452Z"
    },
    "hideCode": false,
    "hideOutput": false,
    "scrolled": false
   },
   "outputs": [],
   "source": [
    "for img_id in [0]: ##range(mrcnn_config.BATCH_SIZE):\n",
    "    print(model_fcn_heatmap.shape)\n",
    "    class_ids = np.unique(model_pred_heatmap_scores[img_id,:,:,4]).astype(int).tolist()\n",
    "    print('Image : {}  ClassIds: {}'.format(img_id, class_ids))\n",
    "    plot_3d_heatmap(model_fcn_heatmap, img_id, class_ids,class_names = coco_class_names, scaling = False)\n"
   ]
  },
  {
   "cell_type": "markdown",
   "metadata": {},
   "source": [
    "####  3D plot of `fcn_heatmap` returned form model - all classes"
   ]
  },
  {
   "cell_type": "code",
   "execution_count": null,
   "metadata": {
    "ExecuteTime": {
     "end_time": "2018-11-05T12:27:01.327992Z",
     "start_time": "2018-11-05T12:25:46.068250Z"
    },
    "hideCode": false,
    "hideOutput": false,
    "scrolled": true
   },
   "outputs": [],
   "source": [
    "for img_id in [0]: ##range(mrcnn_config.BATCH_SIZE):\n",
    "    class_ids = np.unique(model_pred_heatmap_scores[img_id,:,:,4]).astype(int).tolist()\n",
    "    print('Image : {}  ClassIds: {}'.format(img_id, class_ids))\n",
    "#     plot_3d_heatmap(model_fcn_heatmap, img_id, class_ids,class_names = class_names, size = (8,8), zlim=0)\n",
    "#     plot_3d_heatmap_all_classes(model_fcn_heatmap[...,:class_ids[-1]+1], img_id, class_names = class_names, size = (8,8), zlim=0.0)\n",
    "    plot_3d_heatmap(model_fcn_heatmap, img_id, class_names = class_names, columns = 2,scaling = True)"
   ]
  },
  {
   "cell_type": "markdown",
   "metadata": {
    "heading_collapsed": true
   },
   "source": [
    "####  3D comparative display `pred_heatmap` / `fcn_heatmap` "
   ]
  },
  {
   "cell_type": "code",
   "execution_count": null,
   "metadata": {
    "ExecuteTime": {
     "end_time": "2018-11-05T13:30:30.174183Z",
     "start_time": "2018-11-05T13:29:36.585211Z"
    },
    "hidden": true,
    "hideCode": false,
    "hideOutput": false,
    "scrolled": false
   },
   "outputs": [],
   "source": [
    "for img_id in [0]: ##range(mrcnn_config.BATCH_SIZE):\n",
    "    print(model_pred_heatmap_norm.shape)\n",
    "    class_ids = np.unique(model_pred_heatmap_scores[img_id,:,:,4]).astype(int).tolist()\n",
    "    print('Image : {}  ClassIds: {}'.format(img_id, class_ids))\n",
    "    class_ids.append(1)\n",
    "    class_ids = list(range(30))\n",
    "#     print(class_ids)\n",
    "    plot_3d_heatmap_compare(model_pred_heatmap_norm,model_fcn_heatmap, img_id, class_ids = class_ids, \n",
    "                            class_names = class_names, size=(8,8), zlim = 'all' , scaling = True)"
   ]
  },
  {
   "cell_type": "markdown",
   "metadata": {
    "heading_collapsed": true
   },
   "source": [
    "####  3D comparative display `gt_heatmap` / `fcn_heatmap` "
   ]
  },
  {
   "cell_type": "code",
   "execution_count": null,
   "metadata": {
    "ExecuteTime": {
     "end_time": "2018-11-01T11:04:56.630705Z",
     "start_time": "2018-11-01T11:04:40.766628Z"
    },
    "hidden": true,
    "hideCode": false,
    "hideOutput": false,
    "scrolled": false
   },
   "outputs": [],
   "source": [
    "for img_id in [0]: ##range(mrcnn_config.BATCH_SIZE):\n",
    "    class_ids = np.unique(model_gt_heatmap_scores[img_id,:,:,4]).astype(int).tolist()\n",
    "    class_ids.extend([1,2])\n",
    "    print(class_ids)\n",
    "    print(type(class_ids))\n",
    "    class_ids.sort()\n",
    "    print('Image : {}  ClassIds: {}'.format(img_id, class_ids))\n",
    "    plot_3d_heatmap_compare(model_gt_heatmap,model_fcn_heatmap, img_id, class_ids, class_names = class_names, size=(8,8), zlim = 0 )"
   ]
  },
  {
   "cell_type": "markdown",
   "metadata": {},
   "source": [
    "### Overlay predictions on image"
   ]
  },
  {
   "cell_type": "markdown",
   "metadata": {
    "heading_collapsed": true
   },
   "source": [
    "#### Overlay image with gt_heatmaps"
   ]
  },
  {
   "cell_type": "code",
   "execution_count": null,
   "metadata": {
    "ExecuteTime": {
     "end_time": "2018-11-05T15:42:16.284007Z",
     "start_time": "2018-11-05T15:42:04.991050Z"
    },
    "hidden": true,
    "scrolled": false
   },
   "outputs": [],
   "source": [
    "from mrcnn.visualize import display_heatmaps, display_heatmaps_fcn, display_heatmaps_mrcnn\n",
    "# visualize.display_image_bw(image)\n",
    "print(model_gt_heatmap_scores.shape)\n",
    "class_ids = np.unique(model_gt_heatmap_scores[img_id,:,:,4]).astype(int).tolist()\n",
    "print('class ids: ', class_ids)\n",
    "display_heatmaps_mrcnn(train_batch_x, model_output, 0, hm = 'gt',\n",
    "                     config = mrcnn_config, class_ids = class_ids, class_names = coco_class_names)"
   ]
  },
  {
   "cell_type": "markdown",
   "metadata": {
    "heading_collapsed": true
   },
   "source": [
    "#### Overlay image with pred_heatmaps"
   ]
  },
  {
   "cell_type": "code",
   "execution_count": null,
   "metadata": {
    "ExecuteTime": {
     "end_time": "2018-11-05T15:50:02.181656Z",
     "start_time": "2018-11-05T15:49:58.755633Z"
    },
    "hidden": true,
    "scrolled": false
   },
   "outputs": [],
   "source": [
    "from mrcnn.visualize import display_heatmaps, display_heatmaps_fcn, display_heatmaps_mrcnn\n",
    "# visualize.display_image_bw(image)\n",
    "print(model_gt_heatmap_scores.shape)\n",
    "class_ids = np.unique(model_gt_heatmap_scores[img_id,:,:,4]).astype(int).tolist()\n",
    "print('class ids: ', class_ids)\n",
    "display_heatmaps_mrcnn(train_batch_x, model_output, 0, hm = 'pr', num_bboxes = 0,\n",
    "                     config = mrcnn_config, class_ids = class_ids, class_names = coco_class_names)"
   ]
  },
  {
   "cell_type": "markdown",
   "metadata": {},
   "source": [
    "#### Overlay image with fcn_heatmaps"
   ]
  },
  {
   "cell_type": "code",
   "execution_count": null,
   "metadata": {
    "ExecuteTime": {
     "end_time": "2018-11-05T15:55:46.458352Z",
     "start_time": "2018-11-05T15:55:42.491887Z"
    },
    "scrolled": false
   },
   "outputs": [],
   "source": [
    "from mrcnn.visualize import display_heatmaps, display_heatmaps_fcn\n",
    "# visualize.display_image_bw(image)\n",
    "class_ids = np.unique(model_gt_heatmap_scores[img_id,:,:,4]).astype(int).tolist()\n",
    "print(class_ids)\n",
    "display_heatmaps_fcn(train_batch_x, fcn_train_batch_x, 0, heatmap = model_fcn_heatmap, hm = 'gt', columns = 3,\n",
    "                     config = mrcnn_config, class_ids = class_ids, class_names = coco_class_names)"
   ]
  },
  {
   "cell_type": "markdown",
   "metadata": {
    "heading_collapsed": true
   },
   "source": [
    "##  Display `gauss_heatmap` 3D heatmap (not normalized, normlized, L2 normalized)"
   ]
  },
  {
   "cell_type": "code",
   "execution_count": null,
   "metadata": {
    "ExecuteTime": {
     "end_time": "2018-10-25T12:18:39.027482Z",
     "start_time": "2018-10-25T12:18:37.226575Z"
    },
    "hidden": true,
    "hideCode": false,
    "hideOutput": false,
    "scrolled": false
   },
   "outputs": [],
   "source": [
    "from mrcnn.visualize import plot_3d_heatmap, plot_2d_heatmap, plot_3d_gaussian\n",
    "%matplotlib inline\n",
    "print('Image id: ',image_id , '    Classes (1: circle, 2: square, 3: triangle ): ')\n",
    "img = 0\n",
    "cls = 0\n",
    "# print(pred_heatmap_scores[img,cls,:10])\n",
    "\n",
    "# ttl = 'Non-normalized - image: {}'.format(img)\n",
    "# plot_3d_heatmap(pred_heatmap[img], title = ttl, width = 20)\n",
    "# ttl = 'Normalized - image: {}'.format(img)\n",
    "# plot_3d_heatmap(pred_heatmap_norm[img], title = ttl, width = 20)\n",
    "\n",
    "# ttl = 'Non-normalized - image: {}'.format(img)\n",
    "# plot_3d_heatmap(fcn_heatmap[img], title = ttl, width = 20)\n",
    "# ttl = 'Normalized - image: {}'.format(img)\n",
    "# plot_3d_heatmap(fcn_heatmap_norm[img], title = ttl, width = 20)\n",
    "\n",
    "ttl = 'Ground Truth Non-normalized - image: {}'.format(img)\n",
    "# plot_3d_gaussian(model_fcn_heatmap[img,:,:,1], title = ttl, width = 10)\n",
    "# ttl = 'Ground Truth Normalized - image: {}'.format(img)\n",
    "plot_3d_heatmap(model_fcn_heatmap, 0,[9], title = ttl,width = 10, height=10, zlim=1.0005)\n",
    "\n",
    "\n",
    "# ttl = 'Non-normalized - image: {}'.format(img)\n",
    "# plot_2d_heatmap(pred_heatmap[img], pred_heatmap_scores[img], width=15, title=ttl)\n",
    "# ttl = 'Normalized - image: {}'.format(img)\n",
    "# plot_2d_heatmap(pred_heatmap_norm[img], pred_heatmap_scores[img], width=15, title=ttl)\n"
   ]
  },
  {
   "cell_type": "code",
   "execution_count": null,
   "metadata": {
    "ExecuteTime": {
     "end_time": "2018-10-25T12:22:30.497370Z",
     "start_time": "2018-10-25T12:22:27.726073Z"
    },
    "hidden": true
   },
   "outputs": [],
   "source": [
    "from mrcnn.visualize import plot_3d_heatmap, plot_2d_heatmap\n",
    "%matplotlib inline\n",
    "img = 0\n",
    "cls = 1\n",
    "# print(pred_heatmap_scores[img,cls,:10])\n",
    "\n",
    "# ttl = 'Non-normalized - image: {}'.format(img)\n",
    "# plot_3d_heatmap(pred_heatmap[img], title = ttl, width = 20)\n",
    "# ttl = 'Normalized - image: {}'.format(img)\n",
    "# plot_3d_heatmap(pred_heatmap_norm[img], title = ttl, width = 20)\n",
    "\n",
    "# ttl = 'Non-normalized - image: {}'.format(img)\n",
    "# plot_3d_heatmap(fcn_heatmap[img], title = ttl, width = 20)\n",
    "# ttl = 'Normalized - image: {}'.format(img)\n",
    "# plot_3d_heatmap(fcn_heatmap_norm[img], title = ttl, width = 20)\n",
    "\n",
    "ttl = 'FCN - image: {}'.format(img)\n",
    "plot_3d_heatmap(model_fcn_heatmap, 0,[9], title = ttl, size = (10,10))\n",
    "ttl = 'Ground Truth Normalized - image: {}'.format(img)\n",
    "plot_3d_heatmap(model_gt_heatmap,0,[9], title = ttl, size = (10,10))\n"
   ]
  }
 ],
 "metadata": {
  "anaconda-cloud": {},
  "celltoolbar": "Hide code",
  "hide_code_all_hidden": true,
  "kernelspec": {
   "display_name": "Python [conda env:TFG]",
   "language": "python",
   "name": "conda-env-TFG-py"
  },
  "language_info": {
   "codemirror_mode": {
    "name": "ipython",
    "version": 3
   },
   "file_extension": ".py",
   "mimetype": "text/x-python",
   "name": "python",
   "nbconvert_exporter": "python",
   "pygments_lexer": "ipython3",
   "version": "3.5.4"
  },
  "toc": {
   "base_numbering": 1,
   "nav_menu": {},
   "number_sections": true,
   "sideBar": true,
   "skip_h1_title": false,
   "title_cell": "Table of Contents",
   "title_sidebar": "Contents",
   "toc_cell": false,
   "toc_position": {},
   "toc_section_display": true,
   "toc_window_display": false
  }
 },
 "nbformat": 4,
 "nbformat_minor": 2
}
