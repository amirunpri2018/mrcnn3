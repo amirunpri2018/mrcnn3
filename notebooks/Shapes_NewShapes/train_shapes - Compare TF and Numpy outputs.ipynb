{
 "cells": [
  {
   "cell_type": "markdown",
   "metadata": {
    "hideCode": false,
    "hidePrompt": false
   },
   "source": [
    "# Mask R-CNN - Compare Numpy and Tensorflow layer outputs "
   ]
  },
  {
   "cell_type": "code",
   "execution_count": 1,
   "metadata": {
    "ExecuteTime": {
     "end_time": "2018-05-08T14:43:51.915756Z",
     "start_time": "2018-05-08T14:43:48.266923Z"
    },
    "hideCode": false,
    "hidePrompt": false,
    "scrolled": false
   },
   "outputs": [
    {
     "data": {
      "text/html": [
       "<style>.container { width:90% !important; }</style>"
      ],
      "text/plain": [
       "<IPython.core.display.HTML object>"
      ]
     },
     "metadata": {},
     "output_type": "display_data"
    },
    {
     "name": "stderr",
     "output_type": "stream",
     "text": [
      "D:\\Program Files\\Anaconda3\\envs\\TF_gpu\\lib\\site-packages\\h5py\\__init__.py:36: FutureWarning: Conversion of the second argument of issubdtype from `float` to `np.floating` is deprecated. In future, it will be treated as `np.float64 == np.dtype(float).type`.\n",
      "  from ._conv import register_converters as _register_converters\n",
      "Using TensorFlow backend.\n"
     ]
    },
    {
     "name": "stdout",
     "output_type": "stream",
     "text": [
      "Tensorflow Version: 1.6.0   Keras Version : 2.1.4 \n",
      " Initialize config object - super\n",
      "\n",
      "Configuration Parameters:\n",
      "-------------------------\n",
      "BACKBONE_SHAPES                [[32 32]\n",
      " [16 16]\n",
      " [ 8  8]\n",
      " [ 4  4]\n",
      " [ 2  2]]\n",
      "BACKBONE_STRIDES               [4, 8, 16, 32, 64]\n",
      "BATCH_SIZE                     5\n",
      "BBOX_STD_DEV                   [0.1 0.1 0.2 0.2]\n",
      "DETECTION_MAX_INSTANCES        100\n",
      "DETECTION_MIN_CONFIDENCE       0.7\n",
      "DETECTION_NMS_THRESHOLD        0.3\n",
      "EPOCHS_TO_RUN                  0\n",
      "FCN_INPUT_SHAPE                [128 128]\n",
      "GPU_COUNT                      1\n",
      "IMAGES_PER_GPU                 5\n",
      "IMAGE_MAX_DIM                  128\n",
      "IMAGE_MIN_DIM                  128\n",
      "IMAGE_PADDING                  True\n",
      "IMAGE_SHAPE                    [128 128   3]\n",
      "LAST_EPOCH_RAN                 0\n",
      "LEARNING_MOMENTUM              0.9\n",
      "LEARNING_RATE                  0.001\n",
      "MASK_POOL_SIZE                 14\n",
      "MASK_SHAPE                     [28, 28]\n",
      "MAX_GT_INSTANCES               100\n",
      "MEAN_PIXEL                     [123.7 116.8 103.9]\n",
      "MINI_MASK_SHAPE                (56, 56)\n",
      "NAME                           shapes\n",
      "NUM_CLASSES                    4\n",
      "POOL_SIZE                      7\n",
      "POST_NMS_ROIS_INFERENCE        1000\n",
      "POST_NMS_ROIS_TRAINING         2000\n",
      "ROI_POSITIVE_RATIO             0.33\n",
      "RPN_ANCHOR_RATIOS              [0.5, 1, 2]\n",
      "RPN_ANCHOR_SCALES              (8, 16, 32, 64, 128)\n",
      "RPN_ANCHOR_STRIDE              1\n",
      "RPN_BBOX_STD_DEV               [0.1 0.1 0.2 0.2]\n",
      "RPN_NMS_THRESHOLD              0.7\n",
      "RPN_TRAIN_ANCHORS_PER_IMAGE    256\n",
      "STEPS_PER_EPOCH                2\n",
      "TRAIN_ROIS_PER_IMAGE           32\n",
      "USE_MINI_MASK                  True\n",
      "USE_RPN_ROIS                   True\n",
      "VALIDATION_STEPS               5\n",
      "WEIGHT_DECAY                   0.0001\n",
      "\n",
      "\n",
      " COCO Model Path       :  E:\\Models\\mask_rcnn_coco.h5\n",
      " Checkpoint folder Path:  E:\\Models\\mrcnn_logs\n"
     ]
    }
   ],
   "source": [
    "from IPython.core.display import display, HTML\n",
    "display(HTML(\"<style>.container { width:90% !important; }</style>\"))\n",
    "\n",
    "%matplotlib inline\n",
    "%load_ext autoreload\n",
    "%autoreload 2\n",
    "import os\n",
    "import sys\n",
    "import random\n",
    "import math\n",
    "import re\n",
    "import  gc\n",
    "import time\n",
    "import numpy as np\n",
    "import cv2\n",
    "import matplotlib\n",
    "import matplotlib.pyplot as plt\n",
    "import tensorflow as tf\n",
    "import keras\n",
    "import pprint\n",
    "import keras.backend as KB\n",
    "sys.path.append('../')\n",
    "\n",
    "import mrcnn.model     as modellib\n",
    "import mrcnn.visualize as visualize\n",
    "import mrcnn.shapes    as shapes\n",
    "from mrcnn.config      import Config\n",
    "from mrcnn.model       import log\n",
    "from mrcnn.dataset     import Dataset \n",
    "\n",
    "from mrcnn.utils       import stack_tensors, stack_tensors_3d\n",
    "from mrcnn.datagen     import data_generator, load_image_gt\n",
    "from mrcnn.callbacks   import get_layer_output_1,get_layer_output_2\n",
    "from mrcnn.visualize   import plot_gaussian\n",
    "# from mrcnn.pc_layer    import PCTensor\n",
    "# from mrcnn.pc_layer   import PCNLayer\n",
    "\n",
    "# Root directory of the project\n",
    "ROOT_DIR = os.getcwd()\n",
    "MODEL_PATH = 'E:\\Models'\n",
    "# Directory to save logs and trained model\n",
    "MODEL_DIR = os.path.join(MODEL_PATH, \"mrcnn_logs\")\n",
    "# Path to COCO trained weights\n",
    "COCO_MODEL_PATH   = os.path.join(MODEL_PATH, \"mask_rcnn_coco.h5\")\n",
    "RESNET_MODEL_PATH = os.path.join(MODEL_PATH, \"resnet50_weights_tf_dim_ordering_tf_kernels_notop.h5\")\n",
    "\n",
    "print(\"Tensorflow Version: {}   Keras Version : {} \".format(tf.__version__,keras.__version__))\n",
    "pp = pprint.PrettyPrinter(indent=2, width=100)\n",
    "np.set_printoptions(linewidth=100,precision=4)\n",
    "\n",
    "\n",
    "# Build configuration object -----------------------------------------------\n",
    "config = shapes.ShapesConfig()\n",
    "config.BATCH_SIZE      = 5                  # Batch size is 2 (# GPUs * images/GPU).\n",
    "config.IMAGES_PER_GPU  = 5                  # Must match BATCH_SIZE\n",
    "config.STEPS_PER_EPOCH = 2\n",
    "config.FCN_INPUT_SHAPE = config.IMAGE_SHAPE[0:2]\n",
    "config.display() \n",
    "\n",
    "# Build shape dataset        -----------------------------------------------\n",
    "# Training dataset\n",
    "# generate 500 shapes \n",
    "dataset_train = shapes.ShapesDataset()\n",
    "dataset_train.load_shapes(500, config.IMAGE_SHAPE[0], config.IMAGE_SHAPE[1])\n",
    "dataset_train.prepare()\n",
    "\n",
    "# Validation dataset\n",
    "dataset_val = shapes.ShapesDataset()\n",
    "dataset_val.load_shapes(50, config.IMAGE_SHAPE[0], config.IMAGE_SHAPE[1])\n",
    "dataset_val.prepare()\n",
    "\n",
    "try :\n",
    "    del model, train_generator, val_generator, mm\n",
    "    gc.collect()\n",
    "except: \n",
    "    pass\n",
    "# Load and display random samples\n",
    "# image_ids = np.random.choice(dataset_train.image_ids, 3)\n",
    "# for image_id in [3]:\n",
    "#     image = dataset_train.load_image(image_id)\n",
    "#     mask, class_ids = dataset_train.load_mask(image_id)\n",
    "#     visualize.display_top_masks(image, mask, class_ids, dataset_train.class_names)\n",
    "print(' COCO Model Path       : ', COCO_MODEL_PATH)\n",
    "print(' Checkpoint folder Path: ', MODEL_DIR)\n"
   ]
  },
  {
   "cell_type": "markdown",
   "metadata": {
    "hideCode": false,
    "hidePrompt": false
   },
   "source": [
    "# Create Model"
   ]
  },
  {
   "cell_type": "code",
   "execution_count": 2,
   "metadata": {
    "ExecuteTime": {
     "end_time": "2018-05-08T14:44:11.408420Z",
     "start_time": "2018-05-08T14:44:00.698942Z"
    },
    "hideCode": false,
    "hideOutput": true,
    "hidePrompt": false,
    "scrolled": false
   },
   "outputs": [
    {
     "name": "stdout",
     "output_type": "stream",
     "text": [
      "    set_log_dir: Checkpoint path set to : E:\\Models\\mrcnn_logs\\shapes20180508T1644\\mask_rcnn_shapes_{epoch:04d}.h5\n",
      "    set_log_dir: self.epoch set to 0 \n",
      "\n",
      ">>> Resnet Graph \n",
      "     Input_image shape : (?, 128, 128, 3)\n",
      "     After ZeroPadding2D  : (?, 134, 134, 3) (?, 134, 134, 3)\n",
      "     After Conv2D padding : (?, 64, 64, 64) (?, 64, 64, 64)\n",
      "     After BatchNorm      : (?, 64, 64, 64) (?, 64, 64, 64)\n",
      "     After MaxPooling2D   : (?, 32, 32, 64) (?, 32, 32, 64)\n",
      "\n",
      ">>> Feature Pyramid Network (FPN) Graph \n",
      "     FPN P2 shape : (None, 32, 32, 256)\n",
      "     FPN P3 shape : (None, 16, 16, 256)\n",
      "     FPN P4 shape : (None, 8, 8, 256)\n",
      "     FPN P5 shape : (None, 4, 4, 256)\n",
      "     FPN P6 shape : (None, 2, 2, 256)\n",
      "\n",
      ">>> RPN Layer \n",
      "     Input_feature_map shape : (?, ?, ?, 256)\n",
      "     anchors_per_location    : 3\n",
      "     depth                   : 256\n",
      "     Input_feature_map shape : (?, ?, ?, 256)\n",
      "     anchors_per_location    : 3\n",
      "     anchor_stride           : 1\n",
      "\n",
      ">>> RPN Outputs  <class 'list'>\n",
      "      rpn_class_logits/concat:0\n",
      "      rpn_class/concat:0\n",
      "      rpn_bbox/concat:0\n",
      "\n",
      ">>> Proposal Layer - generate  2000  proposals\n",
      "    Init complete. Size of anchors:  (4092, 4)\n",
      "     Scores :  (5, 4092)\n",
      "     Deltas :  (5, 4092, 4)\n",
      "     Anchors:  (5, 4092, 4)\n",
      "     Boxes shape / type after processing:  (5, 4092, 4) <class 'tensorflow.python.framework.ops.Tensor'>\n",
      "     Output: Prposals shape :  (5, ?, ?) (5, None, None)\n",
      "\n",
      ">>> Detection Target Layer (Training Mode)\n",
      "    Detection Target Layer : call()  <class 'list'> 4\n",
      "     proposals.shape    : (5, ?, ?) (5, ?, ?) (None, 2000, 4)\n",
      "     gt_class_ids.shape : (?, ?) (?, ?) (None, None)\n",
      "     gt_bboxes.shape    : (?, ?, 4) (?, ?, 4) (None, None, 4)\n",
      "     gt_masks.shape     : (?, 56, 56, ?) (?, 56, 56, ?) (None, 56, 56, None)\n",
      ">>> detection_targets_graph \n",
      "     propsals.shape        : (?, ?) (?, ?) (None, None)\n",
      "     gt_boxes.shape        : (?, 4) (None, 4)\n",
      "     gt_class_ids.shape    : (?,) (None,)\n",
      "     gt_masks.shape        : (56, 56, ?) (56, 56, None)\n",
      "\t     Overlaps_graph(): Shape of output overlaps Tensor(\"proposal_targets/Shape_5:0\", shape=(2,), dtype=int32) (?, ?)\n",
      "\t     Overlaps_graph(): Shape of output overlaps Tensor(\"proposal_targets/Shape_10:0\", shape=(2,), dtype=int32) (?, ?)\n",
      ">>> detection_targets_graph \n",
      "     propsals.shape        : (?, ?) (?, ?) (None, None)\n",
      "     gt_boxes.shape        : (?, 4) (None, 4)\n",
      "     gt_class_ids.shape    : (?,) (None,)\n",
      "     gt_masks.shape        : (56, 56, ?) (56, 56, None)\n",
      "\t     Overlaps_graph(): Shape of output overlaps Tensor(\"proposal_targets/Shape_20:0\", shape=(2,), dtype=int32) (?, ?)\n",
      "\t     Overlaps_graph(): Shape of output overlaps Tensor(\"proposal_targets/Shape_25:0\", shape=(2,), dtype=int32) (?, ?)\n",
      ">>> detection_targets_graph \n",
      "     propsals.shape        : (?, ?) (?, ?) (None, None)\n",
      "     gt_boxes.shape        : (?, 4) (None, 4)\n",
      "     gt_class_ids.shape    : (?,) (None,)\n",
      "     gt_masks.shape        : (56, 56, ?) (56, 56, None)\n",
      "\t     Overlaps_graph(): Shape of output overlaps Tensor(\"proposal_targets/Shape_35:0\", shape=(2,), dtype=int32) (?, ?)\n",
      "\t     Overlaps_graph(): Shape of output overlaps Tensor(\"proposal_targets/Shape_40:0\", shape=(2,), dtype=int32) (?, ?)\n",
      ">>> detection_targets_graph \n",
      "     propsals.shape        : (?, ?) (?, ?) (None, None)\n",
      "     gt_boxes.shape        : (?, 4) (None, 4)\n",
      "     gt_class_ids.shape    : (?,) (None,)\n",
      "     gt_masks.shape        : (56, 56, ?) (56, 56, None)\n",
      "\t     Overlaps_graph(): Shape of output overlaps Tensor(\"proposal_targets/Shape_50:0\", shape=(2,), dtype=int32) (?, ?)\n",
      "\t     Overlaps_graph(): Shape of output overlaps Tensor(\"proposal_targets/Shape_55:0\", shape=(2,), dtype=int32) (?, ?)\n",
      ">>> detection_targets_graph \n",
      "     propsals.shape        : (?, ?) (?, ?) (None, None)\n",
      "     gt_boxes.shape        : (?, 4) (None, 4)\n",
      "     gt_class_ids.shape    : (?,) (None,)\n",
      "     gt_masks.shape        : (56, 56, ?) (56, 56, None)\n",
      "\t     Overlaps_graph(): Shape of output overlaps Tensor(\"proposal_targets/Shape_65:0\", shape=(2,), dtype=int32) (?, ?)\n",
      "\t     Overlaps_graph(): Shape of output overlaps Tensor(\"proposal_targets/Shape_70:0\", shape=(2,), dtype=int32) (?, ?)\n",
      "\n",
      "    Detection Target Layer : return  <class 'list'> 5\n",
      "     output 0  shape (5, ?, ?)  type <class 'tensorflow.python.framework.ops.Tensor'> \n",
      "     output 1  shape (5, ?)  type <class 'tensorflow.python.framework.ops.Tensor'> \n",
      "     output 2  shape (5, ?, ?)  type <class 'tensorflow.python.framework.ops.Tensor'> \n",
      "     output 3  shape (5, ?, ?, ?)  type <class 'tensorflow.python.framework.ops.Tensor'> \n",
      "     output 4  shape (5, ?, ?)  type <class 'tensorflow.python.framework.ops.Tensor'> \n",
      "\n",
      ">>> FPN Classifier Graph \n",
      "     rois shape          : (5, ?, ?)\n",
      "     feature_maps : 4\n",
      "     feature_maps shape  : (?, 32, 32, 256)\n",
      "     feature_maps shape  : (?, 16, 16, 256)\n",
      "     feature_maps shape  : (?, 8, 8, 256)\n",
      "     feature_maps shape  : (?, 4, 4, 256)\n",
      "     input_shape         : [128 128   3]\n",
      "     pool_size           : 7\n",
      "\n",
      ">>> FPN Mask Graph \n",
      "     rois shape          : (5, ?, ?)\n",
      "     feature_maps : 4\n",
      "     feature_maps shape  : (?, 32, 32, 256)\n",
      "     feature_maps shape  : (?, 16, 16, 256)\n",
      "     feature_maps shape  : (?, 8, 8, 256)\n",
      "     feature_maps shape  : (?, 4, 4, 256)\n",
      "     input_shape         : [128 128   3]\n",
      "     pool_size           : 14\n",
      "     FPN Mask Graph output shape : (?, 32, 28, 28, 4)\n",
      "\n",
      ">>> PCN Layer TF \n",
      "   > PCNLayerTF Call()  5\n",
      "     mrcnn_class.shape    : (?, 32, 4) (None, 32, 4)\n",
      "     mrcnn_bbox.shape     : (?, 32, 4, 4) (None, 32, 4, 4)\n",
      "     output_rois.shape    : (5, ?, ?) (None, 32, 4)\n",
      "     gt_class_ids.shape   : (?, ?) (None, None)\n",
      "     gt_bboxes.shape      : (?, ?, 4) (None, None, 4)\n",
      "\n",
      "  > BUILD_PREDICTIONS_TF()\n",
      "    num_rois          :  32\n",
      "    mrcnn_class shape :  Tensor(\"cntxt_layer/Shape:0\", shape=(3,), dtype=int32) (None, 32, 4)\n",
      "    mrcnn_bbox.shape  :  Tensor(\"cntxt_layer/Shape_1:0\", shape=(4,), dtype=int32) (None, 32, 4, 4) (?, 32, 4, 4)\n",
      "    output_rois.shape :  Tensor(\"cntxt_layer/Shape_2:0\", shape=(3,), dtype=int32) (5, None, 4)\n",
      "    pred_classes     :  (?, 32)\n",
      "    pred_classes_exp :  (?, 32, 1)\n",
      "    pred_scores      :  (?, 32, 1)\n",
      "    batch_grid       :  (5, 32)\n",
      "    roi_grid         :  (5, 32)\n",
      "    bbox_idx         :  (5, 32, 1)\n",
      "\n",
      "    -- pred_tensor tf ------------------------------\n",
      "    pred_array shape: (5, 32, 6)\n",
      "    pred_scatter shape is  (5, 4, 32, 6) Tensor(\"cntxt_layer/ScatterNd:0\", shape=(5, 4, 32, 6), dtype=float32)\n",
      "    sort inds shape :  (5, 4, 32)\n",
      "    class_grid   <class 'tensorflow.python.framework.ops.Tensor'> shape (5, 4, 32)\n",
      "    batch_grid   <class 'tensorflow.python.framework.ops.Tensor'> shape (5, 4, 32)\n",
      "    roi_grid shape (5, 4, 32) roi_grid_exp shape  (5, 4, 32, 1)\n",
      "    gather_inds  <class 'tensorflow.python.framework.ops.Tensor'> shape (5, 4, 32, 3)\n",
      "    pred_tensor (gathered)  :  (5, 4, 32, 6)\n",
      "    -- pred_tensor results (bboxes sorted by score) ----\n",
      "    final pred_tensor shape  :  (5, 4, 32, 6)\n",
      "    final pred_cls_cnt shape :  (5, 4)\n",
      "    complete\n",
      "\n",
      "\n",
      "  > BUILD_GROUND TRUTH_TF()\n",
      "    gt_class_ids shape :  (?, ?)     notm_gt_bbox.shape  :  (?, ?, 4)\n",
      "    gt_classes_exp shape  (?, ?, 1)\n",
      "    pred_ scores shape  (?, ?)\n",
      "    bbox_idx shape     (5, 100, 1)\n",
      "    gt_array shape     (?, ?, 6)\n",
      "    bbox_grid  shape   (5, 100)\n",
      "    batch_grid shape   (5, 100)\n",
      "    scatter_ind shape  (5, 100, 3)\n",
      "    gt_scatter shape  (5, 4, 100, 6)\n",
      "    build gathering indexes to use in sorting -------\n",
      "    sort inds shape :  (5, 4, 100)\n",
      "    class_grid  shape  (5, 4, 100)\n",
      "    batch_grid  shape  (5, 4, 100)\n",
      "    bbox_grid   shape  (5, 4, 100)  bbox_grid_exp shape  (5, 4, 100, 1)\n",
      "    gather_inds shape      :  (5, 4, 100, 3)\n",
      "    gt_tensor (gathered)   :  (5, 4, 100, 6)\n",
      "    final gt_tensor shape  :  (5, 4, 100, 6)\n",
      "    final gt_cls_cnt shape :  (5, 4)\n",
      "    complete\n",
      "\n",
      " \n",
      "  > BUILD_GAUSSIAN_TF() for  ['pred_gaussian']\n",
      "    orignal in_tensor shape :  (5, 4, 32, 6)\n",
      "    modified in_tensor shape :  (5, 4, 32, 6)\n",
      "    num of bboxes per class is :  Tensor(\"cntxt_layer/ToInt32_1/x:0\", shape=(), dtype=int32)\n",
      "    after transpose  (128, 128, 5, 32, 2)\n",
      "    pt2_sum shape  (5, 4, 32)\n",
      "    dense shape  (?, 6)\n",
      "    Build Stacked output from dynamically partitioned lists --------------\n",
      "    >> input to MVN.PROB: pos_grid (meshgrid) shape:  (128, 128, 5, 32, 2)\n",
      "    << output probabilities shape: (5, 32, 128, 128)\n",
      "\n",
      "    Scatter out the probability distributions based on class --------------\n",
      "    gaussian_grid      :  (5, 32, 128, 128)\n",
      "    class shape        :  (5, ?)\n",
      "    roi_grid shape     :  (5, 32)\n",
      "    batch_grid shape   :  (5, 32)\n",
      "    scatter_classes    :  (5, 32, 3)\n",
      "    gaussian scattered :  (5, 4, 32, 128, 128)\n",
      "\n",
      "    Reduce sum based on class ---------------------------------------------\n",
      "    gaussian sum type/name :  <class 'tensorflow.python.framework.ops.Tensor'> cntxt_layer/pred_gaussian_1:0 pred_gaussian\n",
      "    gaussian_sum shape     :  (5, 128, 128, 4) Keras tensor  False\n",
      "\n",
      " \n",
      "  > BUILD_GAUSSIAN_TF() for  ['gt_gaussian']\n",
      "    orignal in_tensor shape :  (5, 4, 100, 6)\n",
      "    modified in_tensor shape :  (5, 4, 100, 6)\n",
      "    num of bboxes per class is :  Tensor(\"cntxt_layer/ToInt32_4/x:0\", shape=(), dtype=int32)\n",
      "    after transpose  (128, 128, 5, 100, 2)\n",
      "    pt2_sum shape  (5, 4, 100)\n",
      "    dense shape  (?, 6)\n",
      "    Build Stacked output from dynamically partitioned lists --------------\n"
     ]
    },
    {
     "name": "stdout",
     "output_type": "stream",
     "text": [
      "    >> input to MVN.PROB: pos_grid (meshgrid) shape:  (128, 128, 5, 100, 2)\n",
      "    << output probabilities shape: (5, 100, 128, 128)\n",
      "\n",
      "    Scatter out the probability distributions based on class --------------\n",
      "    gaussian_grid      :  (5, 100, 128, 128)\n",
      "    class shape        :  (5, ?)\n",
      "    roi_grid shape     :  (5, 100)\n",
      "    batch_grid shape   :  (5, 100)\n",
      "    scatter_classes    :  (5, 100, 3)\n",
      "    gaussian scattered :  (5, 4, 100, 128, 128)\n",
      "\n",
      "    Reduce sum based on class ---------------------------------------------\n",
      "    gaussian sum type/name :  <class 'tensorflow.python.framework.ops.Tensor'> cntxt_layer/gt_gaussian:0 gt_gaussian\n",
      "    gaussian_sum shape     :  (5, 128, 128, 4) Keras tensor  False\n",
      "\n",
      "    Output build_gaussian_tf \n",
      "     pred_gaussian :  (5, 128, 128, 4) Keras tensor  False\n",
      "     gt_gaussian   :  (5, 128, 128, 4) Keras tensor  False\n",
      "<<<  shape of pred_gaussian   :  (5, 128, 128, 4)  Keras tensor  True\n",
      "<<<  shape of gt_gaussian     :  (5, 128, 128, 4)  Keras tensor  True\n",
      "\n",
      ">>> FCN Layer \n",
      "     feature map shape is  (5, 128, 128, 4)\n",
      "     height : 128 width : 128 classes : 4\n",
      "     image_data_format     channels_last\n",
      "   FCN Block 11 shape is :  (5, 128, 128, 64)\n",
      "   FCN Block 12 shape is :  (5, 128, 128, 64)\n",
      "   FCN Block 13 shape is :  (5, 64, 64, 64)\n",
      "   FCN Block 21 shape is :  (5, 64, 64, 128)\n",
      "   FCN Block 22 shape is :  (5, 64, 64, 128)\n",
      "   FCN Block 23 (Max pooling) shape is :  (5, 32, 32, 128)\n",
      "   FCN Block 31 shape is :  (5, 32, 32, 256)\n",
      "   FCN Block 32 shape is :  (5, 32, 32, 256)\n",
      "   FCN Block 33 shape is :  (5, 32, 32, 256)\n",
      "   FCN Block 34 (Max pooling) shape is :  (5, 16, 16, 256)\n",
      "   FCN fully connected 1 (fcn_fc1) shape is :  (5, 16, 16, 2048)\n",
      "   FCN fully connected 2 (fcn_fc2) shape is :  (5, 16, 16, 2048)\n",
      "   FCN final conv2d (fcn_classify) shape is :  (None, 16, 16, 4)\n",
      "   h_factor :  8.0 w_factor :  8.0\n",
      "\n",
      ">>> BilinearUpSampling2D layer\n",
      "     data_format :  channels_last\n",
      "     size        :  (8.0, 8.0)\n",
      "     target_size :  None\n",
      "     input_spec  :  [InputSpec(ndim=4)]\n",
      "     call resize_images_bilinear with size:  (8.0, 8.0)\n",
      "     CHANNELS LAST: X:  (5, 16, 16, 4)  KB.int_shape() :  (None, 16, 16, 4)\n",
      "     target_height   :  None  target_width  :  None\n",
      "     new_shape (2):  (2,) (2,)\n",
      "     new_shape (3):  (2,) (2,)\n",
      "     X after image.resize_bilinear:  (5, ?, ?, 4)\n",
      "     Dimensions of X after set_shape() :  (5, 128, 128, 4)\n",
      "    BilinearUpSampling2D. compute_output_shape()\n",
      "   FCN output (fcn_bilinear) shape is :  (5, 128, 128, 4) Keras tensor  True\n",
      "   fcn_heatmap  shape is :  (None, 128, 128, 4)  Keras tensor  True\n",
      "\n",
      "\n",
      "---------------------------------------------------\n",
      "    building Loss Functions \n",
      "---------------------------------------------------\n",
      "\n",
      ">>> rpn_bbox_loss_graph\n",
      "    rpn_match size : (?, ?)\n",
      "    rpn_bbox  size : (?, ?, 4)\n",
      "    tf default session:  None\n",
      "\n",
      ">>> rpn_bbox_loss_graph\n",
      "    rpn_match size : (?, ?)\n",
      "    rpn_bbox  size : (?, ?, 4)\n",
      "    tf default session:  None\n",
      "\n",
      ">>> mrcnn_class_loss_graph \n",
      "    target_class_ids  size : (5, ?)\n",
      "    pred_class_logits size : (?, 32, 4)\n",
      "    active_class_ids  size : (?, ?)\n",
      "\n",
      ">>> mrcnn_class_loss_graph \n",
      "    target_class_ids  size : (?, 1)\n",
      "    pred_class_logits size : (?, 32, 4)\n",
      "    active_class_ids  size : (?, ?)\n",
      "\n",
      ">>> mrcnn_bbox_loss_graph \n",
      "    target_class_ids  size : (5, ?)\n",
      "    pred_bbox size         : (?, 32, 4, 4)\n",
      "    target_bbox size       : (5, ?, ?)\n",
      "\n",
      ">>> mrcnn_bbox_loss_graph \n",
      "    target_class_ids  size : (?, 1)\n",
      "    pred_bbox size         : (?, 32, 4, 4)\n",
      "    target_bbox size       : (?, 32, 4)\n",
      "\n",
      ">>> mrcnn_mask_loss_graph \n",
      "    target_class_ids shape : (5, ?)\n",
      "    target_masks     shape : (5, ?, ?, ?)\n",
      "    pred_masks       shape : (?, 32, 28, 28, 4)\n",
      "    target_class_ids shape : (?,)\n",
      "    target_shape       shape : (4,)\n",
      "    target_masks     shape : (?, ?, ?)\n",
      "    pred_shape       shape : (5,)\n",
      "    pred_masks       shape : (?, ?, ?, ?)\n",
      "     y_true shape: (?, ?, ?)\n",
      "     y_pred shape: (?, ?, ?)\n",
      "     final loss shape: (1, 1) <class 'tensorflow.python.framework.ops.Tensor'> False\n",
      "\n",
      ">>> mrcnn_mask_loss_graph \n",
      "    target_class_ids shape : (?, 1)\n",
      "    target_masks     shape : (?, 32, 28, 28)\n",
      "    pred_masks       shape : (?, 32, 28, 28, 4)\n",
      "    target_class_ids shape : (?,)\n",
      "    target_shape       shape : (4,)\n",
      "    target_masks     shape : (?, ?, ?)\n",
      "    pred_shape       shape : (5,)\n",
      "    pred_masks       shape : (?, ?, ?, ?)\n",
      "     y_true shape: (?, ?, ?)\n",
      "     y_pred shape: (?, ?, ?)\n",
      "     final loss shape: (1, 1) <class 'tensorflow.python.framework.ops.Tensor'> False\n",
      "\n",
      ">>> fcn_norm_loss_graph \n",
      "    target_masks     shape : (5, 128, 128, 4)\n",
      "    pred_masks       shape : (5, 128, 128, 4)\n",
      "\n",
      "    L2 normalization ------------------------------------------------------\n",
      " pred_shape: KB.shape: Tensor(\"fcn_norm_loss/Shape:0\", shape=(4,), dtype=int32)  tf.get_shape():  (5, 128, 128, 4)  pred_maks.shape: (5, 128, 128, 4) tf.shape : Tensor(\"fcn_norm_loss/Shape_1:0\", shape=(4,), dtype=int32)\n",
      "WARNING:tensorflow:From D:\\Program Files\\Anaconda3\\envs\\TF_gpu\\lib\\site-packages\\keras\\backend\\tensorflow_backend.py:3157: calling l2_normalize (from tensorflow.python.ops.nn_impl) with dim is deprecated and will be removed in a future version.\n",
      "Instructions for updating:\n",
      "dim is deprecated, use axis instead\n",
      "   output_flatten    :  (None, None, None) (?, ?, ?)  Keras tensor  False\n",
      "   output_norm1      :  (None, None, None) (?, ?, ?)  Keras tensor  False\n",
      "   output_norm final :  (5, 128, 128, 4) (5, 128, 128, 4)  Keras tensor  False\n",
      "\n",
      "    L2 normalization ------------------------------------------------------\n",
      " target shape is : Tensor(\"fcn_norm_loss/Shape_2:0\", shape=(4,), dtype=int32)     (5, 128, 128, 4) (5, 128, 128, 4) Tensor(\"fcn_norm_loss/Shape_3:0\", shape=(4,), dtype=int32)\n",
      "    guass_flatten         :  (?, ?, ?) (?, ?, ?) Keras tensor  False\n",
      "    gauss_norm shape      :  (?, ?, ?) (?, ?, ?) Keras tensor  False\n",
      "    gauss_norm final shape:  (5, 128, 128, 4) (5, 128, 128, 4) Keras tensor  False\n",
      "    target_masks1 shape : (?, ?, ?) (None, None, None)\n",
      "    pred_masks1  shape : (?, ?, ?)\n",
      "    loss type is : <class 'tensorflow.python.framework.ops.Tensor'>\n",
      "\n",
      ">>> fcn_norm_loss_graph \n",
      "    target_masks     shape : (?, 128, 128, 4)\n",
      "    pred_masks       shape : (?, 128, 128, 4)\n",
      "\n",
      "    L2 normalization ------------------------------------------------------\n",
      " pred_shape: KB.shape: Tensor(\"fcn_norm_loss/Shape_4:0\", shape=(4,), dtype=int32)  tf.get_shape():  (?, 128, 128, 4)  pred_maks.shape: (?, 128, 128, 4) tf.shape : Tensor(\"fcn_norm_loss/Shape_5:0\", shape=(4,), dtype=int32)\n",
      "   output_flatten    :  (None, None, None) (?, ?, ?)  Keras tensor  False\n",
      "   output_norm1      :  (None, None, None) (?, ?, ?)  Keras tensor  False\n",
      "   output_norm final :  (None, 128, 128, 4) (?, 128, 128, 4)  Keras tensor  False\n",
      "\n",
      "    L2 normalization ------------------------------------------------------\n",
      " target shape is : Tensor(\"fcn_norm_loss/Shape_6:0\", shape=(4,), dtype=int32)     (?, 128, 128, 4) (?, 128, 128, 4) Tensor(\"fcn_norm_loss/Shape_7:0\", shape=(4,), dtype=int32)\n",
      "    guass_flatten         :  (?, ?, ?) (?, ?, ?) Keras tensor  False\n",
      "    gauss_norm shape      :  (?, ?, ?) (?, ?, ?) Keras tensor  False\n",
      "    gauss_norm final shape:  (?, 128, 128, 4) (?, 128, 128, 4) Keras tensor  False\n",
      "    target_masks1 shape : (?, ?, ?) (None, None, None)\n",
      "    pred_masks1  shape : (?, ?, ?)\n",
      "    loss type is : <class 'tensorflow.python.framework.ops.Tensor'>\n",
      "\n",
      ">>> MaskRCNN build complete\n",
      ">>> MaskRCNN initialization complete\n"
     ]
    }
   ],
   "source": [
    "try :\n",
    "    del model\n",
    "    gc.collect()\n",
    "except: \n",
    "    pass\n",
    "KB.clear_session()\n",
    "model = modellib.MaskRCNN(mode=\"training\", config=config, model_dir=MODEL_DIR)\n",
    "#model.keras_model.summary(line_length = 120) "
   ]
  },
  {
   "cell_type": "code",
   "execution_count": 3,
   "metadata": {
    "ExecuteTime": {
     "end_time": "2018-05-08T14:44:21.534977Z",
     "start_time": "2018-05-08T14:44:11.410426Z"
    },
    "hideCode": false,
    "hideOutput": true,
    "hidePrompt": false,
    "scrolled": false
   },
   "outputs": [
    {
     "name": "stdout",
     "output_type": "stream",
     "text": [
      ">>> load_weights()\n",
      "    load_weights: Loading weights from: E:\\Models\\mrcnn_logs\\shapes20180428T1819\\mask_rcnn_shapes_5784.h5\n",
      "    load_weights: Log directory set to : E:\\Models\\mrcnn_logs\\shapes20180428T1819\\mask_rcnn_shapes_5784.h5\n",
      "    set_log_dir: Checkpoint path set to : E:\\Models\\mrcnn_logs\\shapes20180428T1819\\mask_rcnn_shapes_{epoch:04d}.h5\n",
      "    set_log_dir: self.epoch set to 5785 \n",
      "    Load weights complete :  E:\\Models\\mrcnn_logs\\shapes20180428T1819\\mask_rcnn_shapes_5784.h5\n",
      "Load weights complete\n"
     ]
    }
   ],
   "source": [
    "# Which weights to start with?\n",
    "# model.compile_only(learning_rate=config.LEARNING_RATE, layers='heads')\n",
    "# print(model.find_last())\n",
    "\n",
    "KB.set_learning_phase(1)\n",
    "\n",
    "# Which weights to start with?\n",
    "init_with = \"last\"  # imagenet, coco, or last\n",
    "\n",
    "if init_with == \"imagenet\":\n",
    "#     loc=model.load_weights(model.get_imagenet_weights(), by_name=True)\n",
    "    loc=model.load_weights(RESNET_MODEL_PATH, by_name=True)\n",
    "elif init_with == \"coco\":\n",
    "    # Load weights trained on MS COCO, but skip layers that\n",
    "    # are different due to the different number of classes\n",
    "    # See README for instructions to download the COCO weights\n",
    "    loc=model.load_weights(COCO_MODEL_PATH, by_name=True,\n",
    "                       exclude=[\"mrcnn_class_logits\", \"mrcnn_bbox_fc\", \"mrcnn_bbox\", \"mrcnn_mask\"])\n",
    "elif init_with == \"last\":\n",
    "    # Load the last model you trained and continue training\n",
    "    loc= model.load_weights(model.find_last()[1], by_name=True)\n",
    "print('Load weights complete')"
   ]
  },
  {
   "cell_type": "markdown",
   "metadata": {
    "hideCode": false,
    "hideOutput": false,
    "hidePrompt": false
   },
   "source": [
    "###  Print some model information "
   ]
  },
  {
   "cell_type": "code",
   "execution_count": null,
   "metadata": {
    "ExecuteTime": {
     "end_time": "2018-05-08T14:07:35.188981Z",
     "start_time": "2018-05-08T14:07:34.963400Z"
    },
    "hideCode": false,
    "hidePrompt": false
   },
   "outputs": [],
   "source": [
    "# print('\\n Learning phase values is L ' ,KB.learning_phase())\n",
    "# print('\\n Metrics (_get_deduped_metrics_names():) ') \n",
    "# pp.pprint(model.keras_model._get_deduped_metrics_names())\n",
    "print('\\n Outputs: ') \n",
    "for i,x in enumerate(model.keras_model.outputs):\n",
    "    print(' layer: {:2d}    output : {:40s}   Type: {}       Shape: {}'.format( i, x.name, x.dtype, x.shape) )\n",
    "# print('\\n Losses (model.metrics_names): ') \n",
    "# pp.pprint(model.keras_model.metrics_names)"
   ]
  },
  {
   "cell_type": "code",
   "execution_count": null,
   "metadata": {
    "ExecuteTime": {
     "end_time": "2018-05-08T14:07:40.936262Z",
     "start_time": "2018-05-08T14:07:40.691640Z"
    },
    "hideCode": false,
    "hidePrompt": false,
    "scrolled": true
   },
   "outputs": [],
   "source": [
    "model.keras_model.summary(line_length = 150) "
   ]
  },
  {
   "cell_type": "code",
   "execution_count": 6,
   "metadata": {
    "ExecuteTime": {
     "end_time": "2018-05-08T14:44:33.225064Z",
     "start_time": "2018-05-08T14:44:32.996456Z"
    }
   },
   "outputs": [
    {
     "name": "stdout",
     "output_type": "stream",
     "text": [
      "['(fcn\\\\_.*)']\n",
      "(fcn\\_.*)\n"
     ]
    }
   ],
   "source": [
    "# print(model.layer_regex)\n",
    "train_list = ['fcn']\n",
    "\n",
    "print(layers)"
   ]
  },
  {
   "cell_type": "code",
   "execution_count": 8,
   "metadata": {
    "ExecuteTime": {
     "end_time": "2018-05-08T14:45:50.120505Z",
     "start_time": "2018-05-08T14:45:49.881871Z"
    },
    "scrolled": false
   },
   "outputs": [
    {
     "name": "stdout",
     "output_type": "stream",
     "text": [
      "\n",
      "Selecting layers to train\n",
      "-------------------------\n",
      "Layer    Layer Name               Layer Type\n",
      "   0  input_image            (InputLayer          )   ............................no weights to train ]\n",
      "   1  zero_padding2d_1       (ZeroPadding2D       )   ............................no weights to train ]\n",
      "   2  conv1                  (Conv2D              )   ............................not a layer we want to train ]\n",
      "   3  bn_conv1               (BatchNorm           )   ............................not a layer we want to train ]\n",
      "   4  activation_1           (Activation          )   ............................no weights to train ]\n",
      "   5  max_pooling2d_1        (MaxPooling2D        )   ............................no weights to train ]\n",
      "   6  res2a_branch2a         (Conv2D              )   ............................not a layer we want to train ]\n",
      "   7  bn2a_branch2a          (BatchNorm           )   ............................not a layer we want to train ]\n",
      "   8  activation_2           (Activation          )   ............................no weights to train ]\n",
      "   9  res2a_branch2b         (Conv2D              )   ............................not a layer we want to train ]\n",
      "  10  bn2a_branch2b          (BatchNorm           )   ............................not a layer we want to train ]\n",
      "  11  activation_3           (Activation          )   ............................no weights to train ]\n",
      "  12  res2a_branch2c         (Conv2D              )   ............................not a layer we want to train ]\n",
      "  13  res2a_branch1          (Conv2D              )   ............................not a layer we want to train ]\n",
      "  14  bn2a_branch2c          (BatchNorm           )   ............................not a layer we want to train ]\n",
      "  15  bn2a_branch1           (BatchNorm           )   ............................not a layer we want to train ]\n",
      "  16  add_1                  (Add                 )   ............................no weights to train ]\n",
      "  17  res2a_out              (Activation          )   ............................no weights to train ]\n",
      "  18  res2b_branch2a         (Conv2D              )   ............................not a layer we want to train ]\n",
      "  19  bn2b_branch2a          (BatchNorm           )   ............................not a layer we want to train ]\n",
      "  20  activation_4           (Activation          )   ............................no weights to train ]\n",
      "  21  res2b_branch2b         (Conv2D              )   ............................not a layer we want to train ]\n",
      "  22  bn2b_branch2b          (BatchNorm           )   ............................not a layer we want to train ]\n",
      "  23  activation_5           (Activation          )   ............................no weights to train ]\n",
      "  24  res2b_branch2c         (Conv2D              )   ............................not a layer we want to train ]\n",
      "  25  bn2b_branch2c          (BatchNorm           )   ............................not a layer we want to train ]\n",
      "  26  add_2                  (Add                 )   ............................no weights to train ]\n",
      "  27  res2b_out              (Activation          )   ............................no weights to train ]\n",
      "  28  res2c_branch2a         (Conv2D              )   ............................not a layer we want to train ]\n",
      "  29  bn2c_branch2a          (BatchNorm           )   ............................not a layer we want to train ]\n",
      "  30  activation_6           (Activation          )   ............................no weights to train ]\n",
      "  31  res2c_branch2b         (Conv2D              )   ............................not a layer we want to train ]\n",
      "  32  bn2c_branch2b          (BatchNorm           )   ............................not a layer we want to train ]\n",
      "  33  activation_7           (Activation          )   ............................no weights to train ]\n",
      "  34  res2c_branch2c         (Conv2D              )   ............................not a layer we want to train ]\n",
      "  35  bn2c_branch2c          (BatchNorm           )   ............................not a layer we want to train ]\n",
      "  36  add_3                  (Add                 )   ............................no weights to train ]\n",
      "  37  res2c_out              (Activation          )   ............................no weights to train ]\n",
      "  38  res3a_branch2a         (Conv2D              )   ............................not a layer we want to train ]\n",
      "  39  bn3a_branch2a          (BatchNorm           )   ............................not a layer we want to train ]\n",
      "  40  activation_8           (Activation          )   ............................no weights to train ]\n",
      "  41  res3a_branch2b         (Conv2D              )   ............................not a layer we want to train ]\n",
      "  42  bn3a_branch2b          (BatchNorm           )   ............................not a layer we want to train ]\n",
      "  43  activation_9           (Activation          )   ............................no weights to train ]\n",
      "  44  res3a_branch2c         (Conv2D              )   ............................not a layer we want to train ]\n",
      "  45  res3a_branch1          (Conv2D              )   ............................not a layer we want to train ]\n",
      "  46  bn3a_branch2c          (BatchNorm           )   ............................not a layer we want to train ]\n",
      "  47  bn3a_branch1           (BatchNorm           )   ............................not a layer we want to train ]\n",
      "  48  add_4                  (Add                 )   ............................no weights to train ]\n",
      "  49  res3a_out              (Activation          )   ............................no weights to train ]\n",
      "  50  res3b_branch2a         (Conv2D              )   ............................not a layer we want to train ]\n",
      "  51  bn3b_branch2a          (BatchNorm           )   ............................not a layer we want to train ]\n",
      "  52  activation_10          (Activation          )   ............................no weights to train ]\n",
      "  53  res3b_branch2b         (Conv2D              )   ............................not a layer we want to train ]\n",
      "  54  bn3b_branch2b          (BatchNorm           )   ............................not a layer we want to train ]\n",
      "  55  activation_11          (Activation          )   ............................no weights to train ]\n",
      "  56  res3b_branch2c         (Conv2D              )   ............................not a layer we want to train ]\n",
      "  57  bn3b_branch2c          (BatchNorm           )   ............................not a layer we want to train ]\n",
      "  58  add_5                  (Add                 )   ............................no weights to train ]\n",
      "  59  res3b_out              (Activation          )   ............................no weights to train ]\n",
      "  60  res3c_branch2a         (Conv2D              )   ............................not a layer we want to train ]\n",
      "  61  bn3c_branch2a          (BatchNorm           )   ............................not a layer we want to train ]\n",
      "  62  activation_12          (Activation          )   ............................no weights to train ]\n",
      "  63  res3c_branch2b         (Conv2D              )   ............................not a layer we want to train ]\n",
      "  64  bn3c_branch2b          (BatchNorm           )   ............................not a layer we want to train ]\n",
      "  65  activation_13          (Activation          )   ............................no weights to train ]\n",
      "  66  res3c_branch2c         (Conv2D              )   ............................not a layer we want to train ]\n",
      "  67  bn3c_branch2c          (BatchNorm           )   ............................not a layer we want to train ]\n",
      "  68  add_6                  (Add                 )   ............................no weights to train ]\n",
      "  69  res3c_out              (Activation          )   ............................no weights to train ]\n",
      "  70  res3d_branch2a         (Conv2D              )   ............................not a layer we want to train ]\n",
      "  71  bn3d_branch2a          (BatchNorm           )   ............................not a layer we want to train ]\n",
      "  72  activation_14          (Activation          )   ............................no weights to train ]\n",
      "  73  res3d_branch2b         (Conv2D              )   ............................not a layer we want to train ]\n",
      "  74  bn3d_branch2b          (BatchNorm           )   ............................not a layer we want to train ]\n",
      "  75  activation_15          (Activation          )   ............................no weights to train ]\n",
      "  76  res3d_branch2c         (Conv2D              )   ............................not a layer we want to train ]\n",
      "  77  bn3d_branch2c          (BatchNorm           )   ............................not a layer we want to train ]\n",
      "  78  add_7                  (Add                 )   ............................no weights to train ]\n",
      "  79  res3d_out              (Activation          )   ............................no weights to train ]\n",
      "  80  res4a_branch2a         (Conv2D              )   ............................not a layer we want to train ]\n",
      "  81  bn4a_branch2a          (BatchNorm           )   ............................not a layer we want to train ]\n",
      "  82  activation_16          (Activation          )   ............................no weights to train ]\n",
      "  83  res4a_branch2b         (Conv2D              )   ............................not a layer we want to train ]\n",
      "  84  bn4a_branch2b          (BatchNorm           )   ............................not a layer we want to train ]\n",
      "  85  activation_17          (Activation          )   ............................no weights to train ]\n",
      "  86  res4a_branch2c         (Conv2D              )   ............................not a layer we want to train ]\n",
      "  87  res4a_branch1          (Conv2D              )   ............................not a layer we want to train ]\n",
      "  88  bn4a_branch2c          (BatchNorm           )   ............................not a layer we want to train ]\n",
      "  89  bn4a_branch1           (BatchNorm           )   ............................not a layer we want to train ]\n",
      "  90  add_8                  (Add                 )   ............................no weights to train ]\n",
      "  91  res4a_out              (Activation          )   ............................no weights to train ]\n",
      "  92  res4b_branch2a         (Conv2D              )   ............................not a layer we want to train ]\n",
      "  93  bn4b_branch2a          (BatchNorm           )   ............................not a layer we want to train ]\n",
      "  94  activation_18          (Activation          )   ............................no weights to train ]\n",
      "  95  res4b_branch2b         (Conv2D              )   ............................not a layer we want to train ]\n",
      "  96  bn4b_branch2b          (BatchNorm           )   ............................not a layer we want to train ]\n",
      "  97  activation_19          (Activation          )   ............................no weights to train ]\n",
      "  98  res4b_branch2c         (Conv2D              )   ............................not a layer we want to train ]\n",
      "  99  bn4b_branch2c          (BatchNorm           )   ............................not a layer we want to train ]\n",
      " 100  add_9                  (Add                 )   ............................no weights to train ]\n",
      " 101  res4b_out              (Activation          )   ............................no weights to train ]\n",
      " 102  res4c_branch2a         (Conv2D              )   ............................not a layer we want to train ]\n",
      " 103  bn4c_branch2a          (BatchNorm           )   ............................not a layer we want to train ]\n",
      " 104  activation_20          (Activation          )   ............................no weights to train ]\n",
      " 105  res4c_branch2b         (Conv2D              )   ............................not a layer we want to train ]\n",
      " 106  bn4c_branch2b          (BatchNorm           )   ............................not a layer we want to train ]\n",
      " 107  activation_21          (Activation          )   ............................no weights to train ]\n",
      " 108  res4c_branch2c         (Conv2D              )   ............................not a layer we want to train ]\n",
      " 109  bn4c_branch2c          (BatchNorm           )   ............................not a layer we want to train ]\n",
      " 110  add_10                 (Add                 )   ............................no weights to train ]\n",
      " 111  res4c_out              (Activation          )   ............................no weights to train ]\n",
      " 112  res4d_branch2a         (Conv2D              )   ............................not a layer we want to train ]\n",
      " 113  bn4d_branch2a          (BatchNorm           )   ............................not a layer we want to train ]\n",
      " 114  activation_22          (Activation          )   ............................no weights to train ]\n",
      " 115  res4d_branch2b         (Conv2D              )   ............................not a layer we want to train ]\n",
      " 116  bn4d_branch2b          (BatchNorm           )   ............................not a layer we want to train ]\n",
      " 117  activation_23          (Activation          )   ............................no weights to train ]\n",
      " 118  res4d_branch2c         (Conv2D              )   ............................not a layer we want to train ]\n",
      " 119  bn4d_branch2c          (BatchNorm           )   ............................not a layer we want to train ]\n",
      " 120  add_11                 (Add                 )   ............................no weights to train ]\n",
      " 121  res4d_out              (Activation          )   ............................no weights to train ]\n",
      " 122  res4e_branch2a         (Conv2D              )   ............................not a layer we want to train ]\n",
      " 123  bn4e_branch2a          (BatchNorm           )   ............................not a layer we want to train ]\n",
      " 124  activation_24          (Activation          )   ............................no weights to train ]\n",
      " 125  res4e_branch2b         (Conv2D              )   ............................not a layer we want to train ]\n",
      " 126  bn4e_branch2b          (BatchNorm           )   ............................not a layer we want to train ]\n",
      " 127  activation_25          (Activation          )   ............................no weights to train ]\n",
      " 128  res4e_branch2c         (Conv2D              )   ............................not a layer we want to train ]\n",
      " 129  bn4e_branch2c          (BatchNorm           )   ............................not a layer we want to train ]\n",
      " 130  add_12                 (Add                 )   ............................no weights to train ]\n",
      " 131  res4e_out              (Activation          )   ............................no weights to train ]\n",
      " 132  res4f_branch2a         (Conv2D              )   ............................not a layer we want to train ]\n",
      " 133  bn4f_branch2a          (BatchNorm           )   ............................not a layer we want to train ]\n",
      " 134  activation_26          (Activation          )   ............................no weights to train ]\n",
      " 135  res4f_branch2b         (Conv2D              )   ............................not a layer we want to train ]\n",
      " 136  bn4f_branch2b          (BatchNorm           )   ............................not a layer we want to train ]\n",
      " 137  activation_27          (Activation          )   ............................no weights to train ]\n",
      " 138  res4f_branch2c         (Conv2D              )   ............................not a layer we want to train ]\n",
      " 139  bn4f_branch2c          (BatchNorm           )   ............................not a layer we want to train ]\n",
      " 140  add_13                 (Add                 )   ............................no weights to train ]\n",
      " 141  res4f_out              (Activation          )   ............................no weights to train ]\n",
      " 142  res5a_branch2a         (Conv2D              )   ............................not a layer we want to train ]\n",
      " 143  bn5a_branch2a          (BatchNorm           )   ............................not a layer we want to train ]\n",
      " 144  activation_28          (Activation          )   ............................no weights to train ]\n",
      " 145  res5a_branch2b         (Conv2D              )   ............................not a layer we want to train ]\n",
      " 146  bn5a_branch2b          (BatchNorm           )   ............................not a layer we want to train ]\n",
      " 147  activation_29          (Activation          )   ............................no weights to train ]\n",
      " 148  res5a_branch2c         (Conv2D              )   ............................not a layer we want to train ]\n",
      " 149  res5a_branch1          (Conv2D              )   ............................not a layer we want to train ]\n",
      " 150  bn5a_branch2c          (BatchNorm           )   ............................not a layer we want to train ]\n",
      " 151  bn5a_branch1           (BatchNorm           )   ............................not a layer we want to train ]\n",
      " 152  add_14                 (Add                 )   ............................no weights to train ]\n",
      " 153  res5a_out              (Activation          )   ............................no weights to train ]\n",
      " 154  res5b_branch2a         (Conv2D              )   ............................not a layer we want to train ]\n",
      " 155  bn5b_branch2a          (BatchNorm           )   ............................not a layer we want to train ]\n",
      " 156  activation_30          (Activation          )   ............................no weights to train ]\n",
      " 157  res5b_branch2b         (Conv2D              )   ............................not a layer we want to train ]\n",
      " 158  bn5b_branch2b          (BatchNorm           )   ............................not a layer we want to train ]\n",
      " 159  activation_31          (Activation          )   ............................no weights to train ]\n",
      " 160  res5b_branch2c         (Conv2D              )   ............................not a layer we want to train ]\n",
      " 161  bn5b_branch2c          (BatchNorm           )   ............................not a layer we want to train ]\n",
      " 162  add_15                 (Add                 )   ............................no weights to train ]\n",
      " 163  res5b_out              (Activation          )   ............................no weights to train ]\n",
      " 164  res5c_branch2a         (Conv2D              )   ............................not a layer we want to train ]\n",
      " 165  bn5c_branch2a          (BatchNorm           )   ............................not a layer we want to train ]\n",
      " 166  activation_32          (Activation          )   ............................no weights to train ]\n",
      " 167  res5c_branch2b         (Conv2D              )   ............................not a layer we want to train ]\n",
      " 168  bn5c_branch2b          (BatchNorm           )   ............................not a layer we want to train ]\n",
      " 169  activation_33          (Activation          )   ............................no weights to train ]\n",
      " 170  res5c_branch2c         (Conv2D              )   ............................not a layer we want to train ]\n",
      " 171  bn5c_branch2c          (BatchNorm           )   ............................not a layer we want to train ]\n",
      " 172  add_16                 (Add                 )   ............................no weights to train ]\n",
      " 173  res5c_out              (Activation          )   ............................no weights to train ]\n",
      " 174  fpn_c5p5               (Conv2D              )   ............................not a layer we want to train ]\n",
      " 175  fpn_p5upsampled        (UpSampling2D        )   ............................no weights to train ]\n",
      " 176  fpn_c4p4               (Conv2D              )   ............................not a layer we want to train ]\n",
      " 177  fpn_p4add              (Add                 )   ............................no weights to train ]\n",
      " 178  fpn_p4upsampled        (UpSampling2D        )   ............................no weights to train ]\n",
      " 179  fpn_c3p3               (Conv2D              )   ............................not a layer we want to train ]\n",
      " 180  fpn_p3add              (Add                 )   ............................no weights to train ]\n",
      " 181  fpn_p3upsampled        (UpSampling2D        )   ............................no weights to train ]\n",
      " 182  fpn_c2p2               (Conv2D              )   ............................not a layer we want to train ]\n",
      " 183  fpn_p2add              (Add                 )   ............................no weights to train ]\n",
      " 184  fpn_p5                 (Conv2D              )   ............................not a layer we want to train ]\n",
      " 185  fpn_p2                 (Conv2D              )   ............................not a layer we want to train ]\n",
      " 186  fpn_p3                 (Conv2D              )   ............................not a layer we want to train ]\n",
      " 187  fpn_p4                 (Conv2D              )   ............................not a layer we want to train ]\n",
      " 188  fpn_p6                 (MaxPooling2D        )   ............................no weights to train ]\n",
      "Entering model layer:  rpn_model ------------------------------\n",
      "       0  input_rpn_feature_map   (InputLayer          )   ............................no weights to train ]\n",
      "       1  rpn_conv_shared        (Conv2D              )   ............................not a layer we want to train ]\n",
      "       2  rpn_class_raw          (Conv2D              )   ............................not a layer we want to train ]\n",
      "       3  lambda_2               (Lambda              )   ............................no weights to train ]\n",
      "       4  rpn_bbox_pred          (Conv2D              )   ............................not a layer we want to train ]\n",
      "       5  rpn_class_xxx          (Activation          )   ............................no weights to train ]\n",
      "       6  lambda_3               (Lambda              )   ............................no weights to train ]\n",
      "Exiting model layer  rpn_model --------------------------------\n",
      " 190  rpn_class              (Concatenate         )   ............................no weights to train ]\n",
      " 191  rpn_bbox               (Concatenate         )   ............................no weights to train ]\n",
      " 192  input_gt_boxes         (InputLayer          )   ............................no weights to train ]\n",
      " 193  rpn_proposal_rois      (ProposalLayer       )   ............................no weights to train ]\n",
      " 194  input_gt_class_ids     (InputLayer          )   ............................no weights to train ]\n",
      " 195  lambda_1               (Lambda              )   ............................no weights to train ]\n",
      " 196  input_gt_masks         (InputLayer          )   ............................no weights to train ]\n",
      " 197  proposal_targets       (DetectionTargetLayer)   ............................no weights to train ]\n",
      " 198  roi_align_classifier   (PyramidROIAlign     )   ............................no weights to train ]\n",
      " 199  mrcnn_class_conv1      (TimeDistributed     )   ............................not a layer we want to train ]\n",
      " 200  mrcnn_class_bn1        (TimeDistributed     )   ............................not a layer we want to train ]\n",
      " 201  activation_34          (Activation          )   ............................no weights to train ]\n",
      " 202  mrcnn_class_conv2      (TimeDistributed     )   ............................not a layer we want to train ]\n",
      " 203  mrcnn_class_bn2        (TimeDistributed     )   ............................not a layer we want to train ]\n",
      " 204  activation_35          (Activation          )   ............................no weights to train ]\n",
      " 205  pool_squeeze           (Lambda              )   ............................no weights to train ]\n",
      " 206  mrcnn_class_logits     (TimeDistributed     )   ............................not a layer we want to train ]\n",
      " 207  mrcnn_bbox_fc          (TimeDistributed     )   ............................not a layer we want to train ]\n",
      " 208  mrcnn_class            (TimeDistributed     )   ............................no weights to train ]\n",
      " 209  mrcnn_bbox             (Reshape             )   ............................no weights to train ]\n",
      " 210  cntxt_layer            (PCNLayerTF          )   ............................no weights to train ]\n",
      " 211  fcn_block1_conv1       (Conv2D              )   TRAIN \n",
      " 212  roi_align_mask         (PyramidROIAlign     )   ............................no weights to train ]\n",
      " 213  fcn_block1_conv2       (Conv2D              )   TRAIN \n",
      " 214  mrcnn_mask_conv1       (TimeDistributed     )   ............................not a layer we want to train ]\n",
      " 215  fcn_block1_pool        (MaxPooling2D        )   ............................no weights to train ]\n",
      " 216  mrcnn_mask_bn1         (TimeDistributed     )   ............................not a layer we want to train ]\n",
      " 217  fcn_block2_conv1       (Conv2D              )   TRAIN \n",
      " 218  activation_37          (Activation          )   ............................no weights to train ]\n",
      " 219  fcn_block2_conv2       (Conv2D              )   TRAIN \n",
      " 220  mrcnn_mask_conv2       (TimeDistributed     )   ............................not a layer we want to train ]\n",
      " 221  fcn_block2_pool        (MaxPooling2D        )   ............................no weights to train ]\n",
      " 222  mrcnn_mask_bn2         (TimeDistributed     )   ............................not a layer we want to train ]\n",
      " 223  fcn_block3_conv1       (Conv2D              )   TRAIN \n",
      " 224  activation_38          (Activation          )   ............................no weights to train ]\n",
      " 225  fcn_block3_conv2       (Conv2D              )   TRAIN \n",
      " 226  mrcnn_mask_conv3       (TimeDistributed     )   ............................not a layer we want to train ]\n",
      " 227  fcn_block3_conv3       (Conv2D              )   TRAIN \n",
      " 228  mrcnn_mask_bn3         (TimeDistributed     )   ............................not a layer we want to train ]\n",
      " 229  fcn_block3_pool        (MaxPooling2D        )   ............................no weights to train ]\n",
      " 230  activation_39          (Activation          )   ............................no weights to train ]\n",
      " 231  fcn_fc1                (Conv2D              )   TRAIN \n",
      " 232  mrcnn_mask_conv4       (TimeDistributed     )   ............................not a layer we want to train ]\n",
      " 233  dropout_1              (Dropout             )   ............................no weights to train ]\n",
      " 234  mrcnn_mask_bn4         (TimeDistributed     )   ............................not a layer we want to train ]\n",
      " 235  fcn_fc2                (Conv2D              )   TRAIN \n",
      " 236  activation_40          (Activation          )   ............................no weights to train ]\n",
      " 237  dropout_2              (Dropout             )   ............................no weights to train ]\n",
      " 238  mrcnn_mask_deconv      (TimeDistributed     )   ............................not a layer we want to train ]\n",
      " 239  input_image_meta       (InputLayer          )   ............................no weights to train ]\n",
      " 240  fcn_classify           (Conv2D              )   TRAIN \n",
      " 241  rpn_class_logits       (Concatenate         )   ............................no weights to train ]\n",
      " 242  mrcnn_mask             (TimeDistributed     )   ............................not a layer we want to train ]\n",
      " 243  input_rpn_match        (InputLayer          )   ............................no weights to train ]\n",
      " 244  input_rpn_bbox         (InputLayer          )   ............................no weights to train ]\n",
      " 245  lambda_4               (Lambda              )   ............................no weights to train ]\n",
      " 246  fcn_heatmap            (BilinearUpSampling2D)   ............................no weights to train ]\n",
      " 247  rpn_class_loss         (Lambda              )   ............................no weights to train ]\n",
      " 248  rpn_bbox_loss          (Lambda              )   ............................no weights to train ]\n",
      " 249  mrcnn_class_loss       (Lambda              )   ............................no weights to train ]\n",
      " 250  mrcnn_bbox_loss        (Lambda              )   ............................no weights to train ]\n",
      " 251  mrcnn_mask_loss        (Lambda              )   ............................no weights to train ]\n",
      " 252  fcn_norm_loss          (Lambda              )   ............................no weights to train ]\n"
     ]
    }
   ],
   "source": [
    "# model.dev_set_trainable(model.layer_regex['heads'])\n",
    "model.dev_set_trainable(layers)"
   ]
  },
  {
   "cell_type": "code",
   "execution_count": null,
   "metadata": {
    "ExecuteTime": {
     "end_time": "2018-05-03T19:53:37.933253Z",
     "start_time": "2018-05-03T19:53:37.704036Z"
    },
    "hideCode": false,
    "hidePrompt": false,
    "scrolled": true
   },
   "outputs": [],
   "source": [
    "train_generator = data_generator(dataset_train, model.config, shuffle=True,\n",
    "                                 batch_size=model.config.BATCH_SIZE,\n",
    "                                 augment = False)\n",
    "val_generator = data_generator(dataset_val, model.config, shuffle=True, \n",
    "                                batch_size=model.config.BATCH_SIZE,\n",
    "                                augment=False)"
   ]
  },
  {
   "cell_type": "markdown",
   "metadata": {
    "hideCode": false,
    "hidePrompt": false
   },
   "source": [
    "### Get next shapes from generator and display loaded shapes"
   ]
  },
  {
   "cell_type": "code",
   "execution_count": null,
   "metadata": {
    "ExecuteTime": {
     "end_time": "2018-05-03T19:53:38.302810Z",
     "start_time": "2018-05-03T19:53:38.032610Z"
    },
    "hideCode": false,
    "hidePrompt": false,
    "scrolled": false
   },
   "outputs": [],
   "source": [
    "train_batch_x, train_batch_y = next(train_generator)"
   ]
  },
  {
   "cell_type": "markdown",
   "metadata": {
    "hideCode": false,
    "hidePrompt": false
   },
   "source": [
    "### Display loaded shapes"
   ]
  },
  {
   "cell_type": "code",
   "execution_count": null,
   "metadata": {
    "ExecuteTime": {
     "end_time": "2018-05-03T19:53:40.692008Z",
     "start_time": "2018-05-03T19:53:39.160678Z"
    },
    "hideCode": false,
    "hideOutput": false,
    "hidePrompt": false,
    "scrolled": false
   },
   "outputs": [],
   "source": [
    "# train_batch_x, train_batch_y = next(train_generator)\n",
    "imgmeta_idx = model.keras_model.input_names.index('input_image_meta')\n",
    "img_meta    = train_batch_x[imgmeta_idx]\n",
    "\n",
    "for img_idx in range(config.BATCH_SIZE):\n",
    "    image_id = img_meta[img_idx,0]\n",
    "    image = dataset_train.load_image(image_id)\n",
    "    mask, class_ids = dataset_train.load_mask(image_id)\n",
    "    print('Image id: ',image_id)\n",
    "    print('Image meta', img_meta[img_idx])\n",
    "    print('Classes (1: circle, 2: square, 3: triangle ): ',class_ids)\n",
    "    visualize.display_top_masks(image, mask, class_ids, dataset_train.class_names)\n",
    "\n"
   ]
  },
  {
   "cell_type": "markdown",
   "metadata": {
    "hideCode": false,
    "hidePrompt": false
   },
   "source": [
    "### Push Data thru model using get_layer_output()"
   ]
  },
  {
   "cell_type": "code",
   "execution_count": null,
   "metadata": {
    "ExecuteTime": {
     "end_time": "2018-05-03T20:38:33.889953Z",
     "start_time": "2018-05-03T20:38:27.133621Z"
    },
    "hideCode": false,
    "hidePrompt": false,
    "scrolled": true
   },
   "outputs": [],
   "source": [
    "\n",
    "layers_out = get_layer_output_2(model.keras_model, train_batch_x, 1)\n"
   ]
  },
  {
   "cell_type": "markdown",
   "metadata": {},
   "source": [
    "### Display first two images from training batch "
   ]
  },
  {
   "cell_type": "code",
   "execution_count": null,
   "metadata": {
    "ExecuteTime": {
     "end_time": "2018-05-03T13:09:24.205187Z",
     "start_time": "2018-05-03T13:09:23.437145Z"
    },
    "hideCode": true,
    "hidePrompt": false
   },
   "outputs": [],
   "source": [
    "imgmeta_idx = model.keras_model.input_names.index('input_image_meta')\n",
    "img_meta    = train_batch_x[imgmeta_idx]\n",
    "img         = 2\n",
    "image_id = img_meta[img,0]\n",
    "print('Image id: ',image_id)\n",
    "\n",
    "image = dataset_train.load_image(image_id)\n",
    "mask, class_ids = dataset_train.load_mask(image_id)\n",
    "visualize.display_top_masks(image, mask, class_ids, dataset_train.class_names)\n",
    "\n",
    "img = 3\n",
    "image_id = img_meta[img,0]\n",
    "print('Image id: ',image_id)\n",
    "image = dataset_train.load_image(image_id)\n",
    "mask, class_ids = dataset_train.load_mask(image_id)\n",
    "visualize.display_top_masks(image, mask, class_ids, dataset_train.class_names)"
   ]
  },
  {
   "cell_type": "markdown",
   "metadata": {
    "hideCode": false,
    "hidePrompt": false
   },
   "source": [
    "\n",
    "### Plot Predicted and Ground Truth Probability Heatmaps `pred_gaussian` and `gt_gaussian`  (Tensorflow Implementation)\n",
    "`gt_gaussian` and `gt_gaussian2` from Numpy and Tensorflow PCN layers"
   ]
  },
  {
   "cell_type": "code",
   "execution_count": null,
   "metadata": {
    "ExecuteTime": {
     "end_time": "2018-05-03T20:39:30.297210Z",
     "start_time": "2018-05-03T20:39:24.149867Z"
    },
    "hideCode": false,
    "hideOutput": false
   },
   "outputs": [],
   "source": [
    "# gt_heatmap  = layers_out[27]     # gt_gaussiam \n",
    "# pred_heatmap= layers_out[24]  # pred_gaussian\n",
    "\n",
    "roi_gt_boxes, pred_heatmap, gt_heatmap, pred_tensor, gt_tensor = get_layer_output_1(model.keras_model, train_batch_x, [8, 18,19,20,21], verbose = True)\n",
    "# print('gt_gaussian heatmap shape : ', gt_heatmap.shape, ' pred_gaussian heatmap shape: ', pred_heatmap.shape)"
   ]
  },
  {
   "cell_type": "code",
   "execution_count": null,
   "metadata": {
    "ExecuteTime": {
     "end_time": "2018-05-03T20:34:58.242642Z",
     "start_time": "2018-05-03T20:34:52.941835Z"
    },
    "hideCode": false,
    "hideOutput": false,
    "scrolled": false
   },
   "outputs": [],
   "source": [
    "num_classes = config.NUM_CLASSES\n",
    "\n",
    "img = 4\n",
    "\n",
    "image_id = img_meta[img,0]\n",
    "print('Image id: ',image_id)\n",
    "print('Classes (1: circle, 2: square, 3: triangle ): ')\n",
    "image = dataset_train.load_image(image_id)\n",
    "mask, class_ids = dataset_train.load_mask(image_id)\n",
    "visualize.display_top_masks(image, mask, class_ids, dataset_train.class_names)\n",
    "\n",
    "\n",
    "for cls in range(num_classes):\n",
    "    ttl = 'GROUND TRUTH HEATMAP - image :  {} class: {} '.format(img,cls)\n",
    "    print(' *** Zout  ', gt_heatmap[img,:,:,cls].shape, ttl)   \n",
    "    plot_gaussian( gt_heatmap[img,:,:,cls], title = ttl)\n",
    "    \n",
    "    ttl = 'PREDICTED heatmap  - image :  {} class: {} '.format(img,cls)     \n",
    "    print(' *** pred_heatmap ', pred_heatmap[img,:,:,cls].shape, ttl)   \n",
    "    plot_gaussian(pred_heatmap[img,:,:,cls], title = ttl)  "
   ]
  },
  {
   "cell_type": "markdown",
   "metadata": {
    "hideCode": false,
    "hidePrompt": false
   },
   "source": [
    "\n",
    "### Predicted and Ground Truth Probability Heatmaps `pred_gaussian` and `gt_gaussian`  (NUMPY)\n",
    "`gt_gaussian` and `gt_gaussian2` from Numpy and Tensorflow PCN layers"
   ]
  },
  {
   "cell_type": "code",
   "execution_count": null,
   "metadata": {
    "ExecuteTime": {
     "end_time": "2018-04-22T16:27:08.129743Z",
     "start_time": "2018-04-22T16:27:03.059257Z"
    },
    "hideCode": true,
    "scrolled": false
   },
   "outputs": [],
   "source": [
    "gt_heatmap  = layers_out[21]     # gt_gaussiam \n",
    "pred_heatmap= layers_out[18]  # pred_gaussian\n",
    "\n",
    "print('gt_gaussian heatmap shape : ', gt_heatmap.shape, ' pred_gaussian heatmap shape: ', pred_heatmap.shape)\n",
    "num_images = 1 # config.IMAGES_PER_GPU\n",
    "num_classes = config.NUM_CLASSES\n",
    "\n",
    "img = 2\n",
    "\n",
    "image_id = img_meta[img,0]\n",
    "print('Image id: ',image_id)\n",
    "print('Classes (1: circle, 2: square, 3: triangle ): ')\n",
    "image = dataset_train.load_image(image_id)\n",
    "mask, class_ids = dataset_train.load_mask(image_id)\n",
    "visualize.display_top_masks(image, mask, class_ids, dataset_train.class_names)\n",
    "\n",
    "\n",
    "for cls in range(num_classes):\n",
    "    ttl = 'GROUND TRUTH HEATMAP - image :  {} class: {} '.format(img,cls)\n",
    "    print(' *** Zout  ', gt_heatmap[img,:,:,cls].shape, ttl)   \n",
    "    plot_gaussian( gt_heatmap[img,:,:,cls], title = ttl)\n",
    "    \n",
    "    ttl = 'PREDICTED heatmap  - image :  {} class: {} '.format(img,cls)     \n",
    "    print(' *** pred_heatmap ', pred_heatmap[img,:,:,cls].shape, ttl)   \n",
    "    plot_gaussian(pred_heatmap[img,:,:,cls], title = ttl)  \n"
   ]
  },
  {
   "cell_type": "markdown",
   "metadata": {
    "hideCode": false,
    "hidePrompt": false
   },
   "source": [
    "### Plot Predicition Probability Heatmaps `pred_gaussian` and `pred_gaussian2` (Numpy vs. Tensorflow)\n",
    "\n",
    "`pred_gaussian` and `pred_gaussian2` from Numpy and Tensorflow layers "
   ]
  },
  {
   "cell_type": "code",
   "execution_count": null,
   "metadata": {
    "ExecuteTime": {
     "end_time": "2018-04-22T16:33:38.120521Z",
     "start_time": "2018-04-22T16:33:32.924696Z"
    },
    "hideCode": true,
    "hideOutput": true,
    "hidePrompt": false,
    "scrolled": false
   },
   "outputs": [],
   "source": [
    "# pred_heatmap_np = layers_out[18]  # pred_gaussiam \n",
    "# pred_heatmap_tf = layers_out[24]  # pred_gaussian2\n",
    "pred_heatmap_np = layers_out[21]  # pred_gaussiam \n",
    "pred_heatmap_tf = layers_out[27]  # pred_gaussian2\n",
    "\n",
    "print('pred_gaussian_np heatmap shape : ', pred_heatmap_np.shape, ' pred_gaussian_tf heatmap shape: ', pred_heatmap_tf.shape)\n",
    "num_images = 1 # config.IMAGES_PER_GPU\n",
    "num_classes = config.NUM_CLASSES\n",
    "\n",
    "img = 2\n",
    "\n",
    "image_id = img_meta[img,0]\n",
    "print('Image id: ',image_id)\n",
    "print('Classes (1: circle, 2: square, 3: triangle ): ')\n",
    "image = dataset_train.load_image(image_id)\n",
    "mask, class_ids = dataset_train.load_mask(image_id)\n",
    "visualize.display_top_masks(image, mask, class_ids, dataset_train.class_names)\n",
    "\n",
    "\n",
    "for cls in range(num_classes):\n",
    "    ttl = 'NUMPY predicted HEATMAP - image :  {} class: {} '.format(img,cls)\n",
    "    print(' *** Zout  ', pred_heatmap_np[img,:,:,cls].shape, ttl)   \n",
    "    plot_gaussian( pred_heatmap_np[img,:,:,cls], title = ttl)\n",
    "    \n",
    "    ttl = 'PREDICTED heatmap  - image :  {} class: {} '.format(img,cls)     \n",
    "    print(' *** pred_heatmap ', pred_heatmap_tf[img,:,:,cls].shape, ttl)   \n",
    "    plot_gaussian(pred_heatmap_tf[img,:,:,cls], title = ttl)  \n",
    "  "
   ]
  },
  {
   "cell_type": "markdown",
   "metadata": {
    "hideCode": false,
    "hidePrompt": false
   },
   "source": [
    "### Plot Output from FCN network `fcn_bilinear` and compare with `pred_gaussian`\n"
   ]
  },
  {
   "cell_type": "code",
   "execution_count": null,
   "metadata": {
    "ExecuteTime": {
     "end_time": "2018-04-22T15:35:57.324157Z",
     "start_time": "2018-04-22T15:35:51.897933Z"
    },
    "hideCode": false
   },
   "outputs": [],
   "source": [
    "from mrcnn.visualize import plot_gaussian\n",
    "Zout  = layers_out[7]     # gt_gaussiam \n",
    "Zout2 = layers_out[18]    # gt_gaussian2\n",
    "\n",
    "print(Zout.shape, Zout2.shape)\n",
    "num_images = config.IMAGES_PER_GPU\n",
    "num_classes = config.NUM_CLASSES\n",
    "\n",
    "img = 0\n",
    "for cls in range(num_classes):\n",
    "    ttl = 'NUMPY - image :  {} class: {} '.format(img,cls)\n",
    "    print(' *** Zout  ', Zout[img,:,:,cls].shape, ttl)   \n",
    "    plot_gaussian( Zout[img,:,:,cls], title = ttl)\n",
    "    \n",
    "    ttl = 'TENSORFLOW - image :  {} class: {} '.format(img,cls)     \n",
    "    print(' *** Zout2 ', Zout2[img,:,:,cls].shape, ttl)   \n",
    "    plot_gaussian(Zout2[img,:,:,cls], title = ttl)  \n"
   ]
  },
  {
   "cell_type": "markdown",
   "metadata": {
    "hideCode": false,
    "hidePrompt": false
   },
   "source": [
    "### Display ground truth bboxes from Shapes database (using `load_image_gt` )\n",
    "\n",
    "Here we are displaying the ground truth bounding boxes as provided by the dataset"
   ]
  },
  {
   "cell_type": "code",
   "execution_count": null,
   "metadata": {
    "ExecuteTime": {
     "end_time": "2018-04-22T16:34:25.418871Z",
     "start_time": "2018-04-22T16:34:24.842809Z"
    },
    "hideCode": false,
    "hideOutput": true,
    "hidePrompt": false
   },
   "outputs": [],
   "source": [
    "img = 2\n",
    "image_id = img_meta[img,0]\n",
    "print('Image id: ',image_id)\n",
    "p_original_image, p_image_meta, p_gt_class_id, p_gt_bbox, p_gt_mask =  \\\n",
    "            load_image_gt(dataset_train, config, image_id, augment=False, use_mini_mask=True)\n",
    "# print(p_gt_class_id.shape, p_gt_bbox.shape, p_gt_mask.shape)\n",
    "print(p_gt_bbox)\n",
    "print(p_gt_class_id)\n",
    "visualize.draw_boxes(p_original_image, p_gt_bbox)\n",
    "\n",
    "image_id = img_meta[img,0]\n",
    "print('Image id: ',image_id)\n",
    "p_original_image, p_image_meta, p_gt_class_id, p_gt_bbox, p_gt_mask =  \\\n",
    "            load_image_gt(dataset_train, config, image_id, augment=False, use_mini_mask=True)\n",
    "# print(p_gt_class_id.shape, p_gt_bbox.shape, p_gt_mask.shape)\n",
    "print(p_gt_bbox)\n",
    "print(p_gt_class_id)\n",
    "visualize.draw_boxes(p_original_image, p_gt_bbox)"
   ]
  },
  {
   "cell_type": "markdown",
   "metadata": {
    "hideCode": false,
    "hidePrompt": false
   },
   "source": [
    "### Display Predicted  Ground Truth Bounding Boxes  `gt_tensor` and `gt_tensor2`\n",
    "\n",
    "layers_out[22]  `gt_tensor` is based on input_gt_class_ids and input_normlzd_gt_boxes\n",
    "layers_out[28]  `gt_tensor2` is based on input_gt_class_ids and input_normlzd_gt_boxes, generated using Tensorflow\n",
    "\n",
    "Display the Ground Truth bounding boxes from the tensor we've constructed"
   ]
  },
  {
   "cell_type": "code",
   "execution_count": null,
   "metadata": {
    "ExecuteTime": {
     "end_time": "2018-04-22T16:38:20.707162Z",
     "start_time": "2018-04-22T16:38:20.105860Z"
    },
    "hideCode": false,
    "hideOutput": true,
    "hidePrompt": false,
    "scrolled": false
   },
   "outputs": [],
   "source": [
    "from mrcnn.utils  import stack_tensors, stack_tensors_3d\n",
    "# print(gt_bboxes)\n",
    "# visualize.display_instances(p_original_image, p_gt_bbox, p_gt_mask, p_gt_class_id, \n",
    "#                             dataset_train.class_names, figsize=(8, 8))\n",
    "# pp.pprint(gt_bboxes)\n",
    "img = 2\n",
    "image_id = img_meta[img,0]\n",
    "\n",
    "print('Image id: ',image_id)\n",
    "p_image, p_image_meta, p_gt_class_id, p_gt_bbox, p_gt_mask =  \\\n",
    "            load_image_gt(dataset_train, config, image_id, augment=False, use_mini_mask=True)   \n",
    "gt_bboxes_stacked = stack_tensors_3d(layers_out[22][img])\n",
    "print(gt_bboxes_stacked)\n",
    "visualize.draw_boxes(p_image, gt_bboxes_stacked[:,2:6])\n",
    "\n",
    "\n",
    "print('Image id: ',image_id)\n",
    "p_image, p_image_meta, p_gt_class_id, p_gt_bbox, p_gt_mask =  \\\n",
    "            load_image_gt(dataset_train, config, image_id, augment=False, use_mini_mask=True)   \n",
    "gt_bboxes_stacked = stack_tensors_3d(layers_out[28][img])\n",
    "print(' From pcn_layer_tf (TENSORFLOW)')\n",
    "print(gt_bboxes_stacked)\n",
    "visualize.draw_boxes(p_image, gt_bboxes_stacked[:,2:6])"
   ]
  },
  {
   "cell_type": "markdown",
   "metadata": {
    "hideCode": false,
    "hidePrompt": true
   },
   "source": [
    "### Display Predicted Bounding Boxes  `pred_tensor` and `gt_tensor` \n",
    "\n",
    "layers_out[19]  `gt_tensor` is based on input_gt_class_ids and input_normlzd_gt_boxes - Using Numpy\n",
    "layers_out[25]  `gt_tensor` is based on input_gt_class_ids and input_normlzd_gt_boxes - Using Tensorflow\n",
    "\n",
    "Display the Ground Truth bounding boxes from the tensor we've constructed"
   ]
  },
  {
   "cell_type": "code",
   "execution_count": null,
   "metadata": {
    "ExecuteTime": {
     "end_time": "2018-05-03T20:27:32.016395Z",
     "start_time": "2018-05-03T20:27:30.902320Z"
    },
    "hideCode": false,
    "hideOutput": true,
    "hidePrompt": false,
    "scrolled": false
   },
   "outputs": [],
   "source": [
    "from mrcnn.utils  import stack_tensors, stack_tensors_3d\n",
    "# print(gt_bboxes)\n",
    "# visualize.display_instances(p_original_image, p_gt_bbox, p_gt_mask, p_gt_class_id, \n",
    "#                             dataset_train.class_names, figsize=(8, 8))\n",
    "# pp.pprint(gt_bboxes)\n",
    "img = 4\n",
    "\n",
    "image_id = img_meta[img,0]\n",
    "print(pred_tensor.shape, gt_tensor.shape)\n",
    "print('Image id: ',image_id)\n",
    "p_image, p_image_meta, p_gt_class_id, p_gt_bbox, p_gt_mask =  \\\n",
    "            load_image_gt(dataset_train, config, image_id, augment=False, use_mini_mask=True)   \n",
    "    \n",
    "pred_bboxes_stacked = stack_tensors_3d(pred_tensor[img])\n",
    "print(pred_bboxes_stacked)\n",
    "visualize.draw_boxes(p_image, pred_bboxes_stacked[15:21][:,:4])\n",
    "\n",
    "selected_boxes = np.where(pred_bboxes_stacked[:,4] == 1)\n",
    "print()\n",
    "print(pred_bboxes_stacked[selected_boxes])\n",
    "visualize.draw_boxes(p_image, pred_bboxes_stacked[selected_boxes][:,:4])\n",
    "\n",
    "selected_boxes = np.where(pred_bboxes_stacked[:,4] == 2)\n",
    "print()\n",
    "print(pred_bboxes_stacked[selected_boxes])\n",
    "visualize.draw_boxes(p_image, pred_bboxes_stacked[selected_boxes][:,:4])\n",
    "\n",
    "selected_boxes = np.where(pred_bboxes_stacked[:,4] == 3)\n",
    "print()\n",
    "print(pred_bboxes_stacked[selected_boxes])\n",
    "visualize.draw_boxes(p_image, pred_bboxes_stacked[selected_boxes][:,:4])\n",
    "\n",
    "print('Image id: ',image_id)\n",
    "p_image, p_image_meta, p_gt_class_id, p_gt_bbox, p_gt_mask =  \\\n",
    "            load_image_gt(dataset_train, config, image_id, augment=False, use_mini_mask=True)   \n",
    "gt_bboxes_stacked = stack_tensors_3d(gt_tensor[img])\n",
    "print(' From pcn_layer_tf (TENSORFLOW)')\n",
    "print(gt_bboxes_stacked)\n",
    "visualize.draw_boxes(p_image, gt_bboxes_stacked[:,:4])"
   ]
  },
  {
   "cell_type": "code",
   "execution_count": null,
   "metadata": {
    "ExecuteTime": {
     "end_time": "2018-04-20T15:57:11.173145Z",
     "start_time": "2018-04-20T15:57:10.930483Z"
    },
    "hideCode": true,
    "hideOutput": true,
    "hidePrompt": false
   },
   "outputs": [],
   "source": [
    "np.set_printoptions(linewidth=120, precision=5)\n",
    "print(' gt_cls_cnt from Numpy - shape: ', layers_out[5].shape)\n",
    "print(layers_out[5])\n",
    "\n",
    "\n",
    "print(' gt_cls_cnt from TF - shape: ', layers_out[13].shape)\n",
    "print(layers_out[13])\n"
   ]
  },
  {
   "cell_type": "markdown",
   "metadata": {
    "hideCode": false,
    "hidePrompt": false
   },
   "source": [
    "### Display `output_rois` generated for  positive classes\n",
    "\n",
    "Display bounding boxes from tensor of proposals produced by the network \n",
    "Circle:1 ,  Square: 2 , Triangle 3"
   ]
  },
  {
   "cell_type": "code",
   "execution_count": null,
   "metadata": {
    "ExecuteTime": {
     "end_time": "2018-05-03T13:33:56.441052Z",
     "start_time": "2018-05-03T13:33:55.962780Z"
    },
    "hideCode": false,
    "hideOutput": true,
    "hidePrompt": false,
    "scrolled": false
   },
   "outputs": [],
   "source": [
    "img = 0\n",
    "cls = 3 # <==== Class to display\n",
    "output_rois = layers_out[0][img]\n",
    "target_class_ids = layers_out[1][img]\n",
    "positive_box_ids = np.where(target_class_ids > 0)\n",
    "\n",
    "boxes  =  output_rois* [128,128,128,128]\n",
    "print(positive_box_ids)\n",
    "print(output_rois.shape, boxes.shape)\n",
    "image_id = img_meta[img,0]\n",
    "print('Image id: ',image_id)\n",
    "p_image, p_image_meta, p_gt_class_id, p_gt_bbox, p_gt_mask =  \\\n",
    "            load_image_gt(dataset_train, config, image_id, augment=False, use_mini_mask=True)\n",
    "#+'-'+str(np.around(int(x[1]),decimals = 3))\n",
    "# class id: str(int(x[6]))+'-'+\n",
    "caps = [str(X)  for X in positive_box_ids[0].tolist() ]\n",
    "print(caps)\n",
    "visualize.draw_boxes(p_image, boxes[positive_box_ids], captions = caps)\n",
    "print(boxes[positive_box_ids])"
   ]
  },
  {
   "cell_type": "markdown",
   "metadata": {
    "hideCode": false,
    "hidePrompt": false
   },
   "source": [
    "### Display `output_rois` generated for  negative classes\n",
    "\n",
    "Display bounding boxes from tensor of proposals produced by the network \n",
    "Circle:1 ,  Square: 2 , Triangle 3"
   ]
  },
  {
   "cell_type": "code",
   "execution_count": null,
   "metadata": {
    "ExecuteTime": {
     "end_time": "2018-05-03T13:36:48.692374Z",
     "start_time": "2018-05-03T13:36:48.159959Z"
    },
    "hideCode": false,
    "hideOutput": true,
    "hidePrompt": false,
    "scrolled": false
   },
   "outputs": [],
   "source": [
    "negative_box_ids = np.where(target_class_ids <= 0)\n",
    "boxes  =  output_rois * [128,128,128,128]\n",
    "print(negative_box_ids)\n",
    "print(output_rois.shape, boxes.shape)\n",
    "image_id = img_meta[img,0]\n",
    "print('Image id: ',image_id)\n",
    "p_image, p_image_meta, p_gt_class_id, p_gt_bbox, p_gt_mask =  \\\n",
    "            load_image_gt(dataset_train, config, image_id, augment=False, use_mini_mask=True)\n",
    "#+'-'+str(np.around(int(x[1]),decimals = 3))\n",
    "# class id: str(int(x[6]))+'-'+\n",
    "caps = [str(X)  for X in negative_box_ids[0].tolist() ]\n",
    "print(caps)\n",
    "visualize.draw_boxes(p_image, boxes[negative_box_ids], captions = caps)\n",
    "print(boxes[negative_box_ids])"
   ]
  },
  {
   "cell_type": "markdown",
   "metadata": {
    "hideCode": false,
    "hidePrompt": false
   },
   "source": [
    "### Display `roi_gt_boxes` generated from Proposal Target Layer\n",
    "\n",
    "Display bounding boxes from tensor of proposals produced by the network \n",
    "Circle:1 ,  Square: 2 , Triangle 3"
   ]
  },
  {
   "cell_type": "code",
   "execution_count": null,
   "metadata": {
    "ExecuteTime": {
     "end_time": "2018-05-03T20:28:08.481906Z",
     "start_time": "2018-05-03T20:28:08.247238Z"
    }
   },
   "outputs": [],
   "source": [
    "print(roi_gt_boxes[4])"
   ]
  },
  {
   "cell_type": "code",
   "execution_count": null,
   "metadata": {
    "ExecuteTime": {
     "end_time": "2018-05-03T19:42:14.468506Z",
     "start_time": "2018-05-03T19:42:14.019705Z"
    },
    "hideCode": false,
    "hideOutput": false,
    "hidePrompt": false,
    "scrolled": false
   },
   "outputs": [],
   "source": [
    "img = 0\n",
    "# roi_gt_boxes = layers_out[21][img]\n",
    "target_class_ids = layers_out[1][img]\n",
    "positive_box_ids = np.where(target_class_ids > 0)\n",
    "print(' Target_class_ids:', target_class_ids)\n",
    "boxes  =  roi_gt_boxes * [128,128,128,128]\n",
    "print(roi_gt_boxes.shape, boxes.shape)\n",
    "image_id = img_meta[img,0]\n",
    "print('Image id: ',image_id)\n",
    "p_image, p_image_meta, p_gt_class_id, p_gt_bbox, p_gt_mask =  \\\n",
    "            load_image_gt(dataset_train, config, image_id, augment=False, use_mini_mask=True)\n",
    "\n",
    "\n",
    "#+'-'+str(np.around(int(x[1]),decimals = 3))\n",
    "# class id: str(int(x[6]))+'-'+\n",
    "caps = [str(i)  for i,x in enumerate(positive_box_ids[0].tolist()) ]\n",
    "print(caps)\n",
    "\n",
    "visualize.draw_boxes(p_image, boxes[positive_box_ids], captions = caps)\n",
    "print(boxes[positive_box_ids])\n",
    "\n",
    "\n",
    "# visualize.draw_boxes(p_image, roi_gt_boxes[img,:], captions = caps)"
   ]
  },
  {
   "cell_type": "markdown",
   "metadata": {
    "hideCode": false,
    "hidePrompt": false
   },
   "source": [
    "### Display RoI proposals `pred_bboxes` generated for all classes in image\n",
    "\n",
    "Display bounding boxes from tensor of proposals produced by the network \n",
    "Square: 1 , Circle:2 , Triangle -3"
   ]
  },
  {
   "cell_type": "code",
   "execution_count": null,
   "metadata": {
    "ExecuteTime": {
     "end_time": "2018-04-20T16:08:04.719657Z",
     "start_time": "2018-04-20T16:08:04.051881Z"
    },
    "hideCode": false,
    "hideOutput": true,
    "hidePrompt": false,
    "scrolled": false
   },
   "outputs": [],
   "source": [
    "img = 0\n",
    "# cls = 1  # <==== Class to dispaly\n",
    "\n",
    "image_id = img_meta[img,0]\n",
    "print('Image id: ',image_id)\n",
    "p_image, p_image_meta, p_gt_class_id, p_gt_bbox, p_gt_mask =  \\\n",
    "            load_image_gt(dataset_train, config, image_id, augment=False, use_mini_mask=True)\n",
    "\n",
    "pred_tensor = layers_out[4][img]\n",
    "print(pred_tensor[img,cls,:].shape)\n",
    "pred_bboxes_stacked = stack_tensors_3d(pred_tensor)\n",
    "# lst2   = [np.squeeze(item) for item in np.split(pred_tensor, pred_tensor.shape[0], axis = 0 )]\n",
    "# results = np.concatenate( [ i[~np.all(i[:,2:6] == 0, axis=1)] for i in lst2] , axis = 0)\n",
    "caps = [str(int(x[6]))+'-'+str(int(x[0]))+'-'+str(np.around(x[1],decimals = 3))  for x in pred_bboxes_stacked.tolist() ]\n",
    "print(caps)\n",
    "\n",
    "# print(pc_tensor.pred_tensor[1,3,:])\n",
    "# print(pc_tensor.pred_tensor[1,3,:,2:6])\n",
    "visualize.draw_boxes(p_image, pred_bboxes_stacked[:,2:6], captions = caps)\n",
    "\n",
    "\n",
    "\n",
    "\n",
    "#+'-'+str(np.around(int(x[1]),decimals = 3))\n",
    "# class id: str(int(x[6]))+'-'+\n",
    "# caps = [str(int(x[0]))+'-'+str(np.around(x[1],decimals = 3))  for x in pred_tensor[img,cls,:].tolist() ]\n",
    "# print(caps)\n",
    "\n",
    "# visualize.draw_boxes(p_image, pred_tensor[img,cls,:,2:6], captions = caps)"
   ]
  },
  {
   "cell_type": "markdown",
   "metadata": {
    "hideCode": false,
    "hidePrompt": false
   },
   "source": [
    "For each class:\n",
    "- determine the center of each bounding box.\n",
    "- center a 2d gaussian distribution with the mean = center of bounding box and sigma = height/width\n",
    "- place dist on mesh grid\n",
    "- normalize\n",
    "- draw heatmap"
   ]
  },
  {
   "cell_type": "markdown",
   "metadata": {
    "hideCode": false,
    "hidePrompt": false
   },
   "source": [
    "# Verify matching results between numpy and tensorflow routines"
   ]
  },
  {
   "cell_type": "markdown",
   "metadata": {
    "hideCode": false,
    "hidePrompt": false
   },
   "source": [
    "### Control pred_tensor / pred_tensor2 on 100 training shapes"
   ]
  },
  {
   "cell_type": "code",
   "execution_count": null,
   "metadata": {
    "ExecuteTime": {
     "end_time": "2018-05-03T19:21:31.745089Z",
     "start_time": "2018-05-03T19:21:30.131058Z"
    }
   },
   "outputs": [],
   "source": [
    "layers_out = get_layer_output_1(model.keras_model, train_batch_x, [0,22], verbose = True)\n"
   ]
  },
  {
   "cell_type": "code",
   "execution_count": null,
   "metadata": {
    "ExecuteTime": {
     "end_time": "2018-05-03T19:22:36.277631Z",
     "start_time": "2018-05-03T19:22:33.123307Z"
    },
    "hideCode": false,
    "hidePrompt": false
   },
   "outputs": [],
   "source": [
    "for i in range(100):\n",
    "    train_batch_x, train_batch_y = next(train_generator)\n",
    "\n",
    "    layers_out = get_layer_output_2(model.keras_model, train_batch_x, 1, verbose = False)\n",
    "\n",
    "    pt   = layers_out[5]   # pred_tensor\n",
    "    pt2  = layers_out[11]  # pred_tensor_2\n",
    "    \n",
    "#     pcc  = layers_out[9]   # pred_cls_cnt\n",
    "#     pcc2 = layers_out[15]  # pred_cls_cnt_2\n",
    "\n",
    "#     print( pt2.shape, pcc2.shape)\n",
    "#     print( pt.shape, pt2.shape)\n",
    "#     print(pc2)\n",
    "\n",
    "    for img in range(config.BATCH_SIZE):\n",
    "        for cls in range(4):\n",
    "#             print(pt2[img][cls])\n",
    "#             print(pt[img][cls])\n",
    "            pt_equal = np.all(pt2[img,cls,:,1:-1]== pt[img,cls,:,1:-1], axis = -1)\n",
    "            print('* Iteration', i , 'Image ',img,' Class ',cls, ' pred_tesnor == pred_tensor2 : ',pt_equal.all())\n",
    "            \n",
    "            if (~pt_equal.all()):\n",
    "#                 print(' Iteration', i , 'Image ',img,' Class ',cls, ' ALL pt_equal: ',pt_equal.all())\n",
    "                print(pt_equal)\n",
    "                print('\\n -- using numpy \\n',pt[img][cls,~pt_equal,:-1])\n",
    "                print('\\n -- using tensorflow \\n',pt2[img][cls,~pt_equal])\n",
    "                print()\n",
    "    #             print('\\n -- using numpy \\n',pt[img][cls])            \n",
    "    #             print('\\n -- using tensorflow \\n',pt2[img][cls])\n",
    "    "
   ]
  },
  {
   "cell_type": "markdown",
   "metadata": {
    "hideCode": false,
    "hidePrompt": false
   },
   "source": [
    "### Control pred_tesnor / pred_tensor2"
   ]
  },
  {
   "cell_type": "code",
   "execution_count": null,
   "metadata": {
    "ExecuteTime": {
     "end_time": "2018-04-17T10:43:43.392596Z",
     "start_time": "2018-04-17T10:43:43.123879Z"
    },
    "hideCode": false,
    "hidePrompt": false,
    "scrolled": true
   },
   "outputs": [],
   "source": [
    "pt   = layers_out[4]   # pred_tensor\n",
    "pt2  = layers_out[12] \n",
    " \n",
    "print( pt.shape, pt2.shape)\n",
    "\n",
    "for img in range(config.BATCH_SIZE):\n",
    "    for cls in range(4):\n",
    "        equal = np.all(pt[img][cls,:,1:7] == pt2[img][cls,:,1:7], axis = -1)\n",
    "        print('Image ',img,' Class ',cls, ' ALL EQUAL: ',equal.all())\n",
    "#         print(' numpy results ')\n",
    "#         print( pt[img,cls])\n",
    "#         print('tensorflow results ')\n",
    "#         print(pt2[img,cls])\n",
    "        if (~equal.all()):\n",
    "#             print('Image ',img,' Class ',cls, ' ALL EQUAL: ',equal.all())\n",
    "            print(equal)\n",
    "            print('\\n -- using numpy (pt) \\n',pt[img][cls,~equal,:-1])\n",
    "            print('\\n -- using tensorflow (pt2) \\n',pt2[img][cls,~equal])\n",
    "            print()\n",
    "#             print('\\n -- using numpy \\n',pt[img][cls])            \n",
    "#             print('\\n -- using tensorflow \\n',pt2[img][cls])\n",
    "    "
   ]
  },
  {
   "cell_type": "markdown",
   "metadata": {
    "hideCode": false,
    "hidePrompt": false
   },
   "source": [
    "### Control output_rois/ new_output_rois"
   ]
  },
  {
   "cell_type": "code",
   "execution_count": null,
   "metadata": {
    "ExecuteTime": {
     "end_time": "2018-05-03T19:27:37.317538Z",
     "start_time": "2018-05-03T19:25:41.115972Z"
    },
    "hideCode": false,
    "hideOutput": false,
    "hidePrompt": false,
    "scrolled": true
   },
   "outputs": [],
   "source": [
    "for i in range(100):\n",
    "    train_batch_x, train_batch_y = next(train_generator)\n",
    "    layers_out = get_layer_output_1(model.keras_model, train_batch_x, [0,22], verbose = False) \n",
    "#     print( layers_out[0].shape, layers_out[1].shape)\n",
    "\n",
    "    equal = np.all(layers_out[0] == layers_out[1], axis = -1)\n",
    "    print('Iteration :', i, '--  ALL EQUAL: ',equal.all())\n",
    "    if (~equal.all()):\n",
    "    #             print('Image ',img,' Class ',cls, ' ALL EQUAL: ',equal.all())\n",
    "        print(equal)\n",
    "        print('\\n -- output_rois \\n',layers_out[0])\n",
    "        print('\\n -- rois        \\n',layers_out[1])\n",
    "        print()\n",
    "        \n",
    "        \n",
    "# for img in range(config.BATCH_SIZE):\n",
    "#         print('Image ',img,' Class ',cls, ' ALL EQUAL: ',equal.all())\n",
    "#         print(' numpy results ')\n",
    "#         print( pt[img,cls])\n",
    "#         print('tensorflow results ')\n",
    "#         print(pt2[img,cls])\n",
    "\n",
    "\n",
    "\n",
    "# for i in range(5):\n",
    "#     for j in range(32):\n",
    "#         print()\n",
    "#         print(layers_out[0][i,j])\n",
    "#         print(layers_out[1][i,j])"
   ]
  },
  {
   "cell_type": "markdown",
   "metadata": {},
   "source": [
    "### Control  xxxxxxx / yyyyyyy"
   ]
  },
  {
   "cell_type": "code",
   "execution_count": null,
   "metadata": {
    "ExecuteTime": {
     "end_time": "2018-04-17T10:43:43.392596Z",
     "start_time": "2018-04-17T10:43:43.123879Z"
    },
    "hideCode": false,
    "hidePrompt": false,
    "scrolled": true
   },
   "outputs": [],
   "source": [
    "pt   = layers_out[4]   # pred_tensor\n",
    "pt2  = layers_out[12] \n",
    " \n",
    "print( pt.shape, pt2.shape)\n",
    "\n",
    "for img in range(config.BATCH_SIZE):\n",
    "    for cls in range(4):\n",
    "        equal = np.all(pt[img][cls,:,1:7] == pt2[img][cls,:,1:7], axis = -1)\n",
    "        print('Image ',img,' Class ',cls, ' ALL EQUAL: ',equal.all())\n",
    "#         print(' numpy results ')\n",
    "#         print( pt[img,cls])\n",
    "#         print('tensorflow results ')\n",
    "#         print(pt2[img,cls])\n",
    "        if (~equal.all()):\n",
    "#             print('Image ',img,' Class ',cls, ' ALL EQUAL: ',equal.all())\n",
    "            print(equal)\n",
    "            print('\\n -- using numpy (pt) \\n',pt[img][cls,~equal,:-1])\n",
    "            print('\\n -- using tensorflow (pt2) \\n',pt2[img][cls,~equal])\n",
    "            print()\n",
    "#             print('\\n -- using numpy \\n',pt[img][cls])            \n",
    "#             print('\\n -- using tensorflow \\n',pt2[img][cls])\n",
    "    "
   ]
  },
  {
   "cell_type": "markdown",
   "metadata": {
    "hideCode": false,
    "hidePrompt": false
   },
   "source": [
    "### Display pred_tensor from Numpy and Tensorflow PCN_Layer "
   ]
  },
  {
   "cell_type": "code",
   "execution_count": null,
   "metadata": {
    "ExecuteTime": {
     "end_time": "2018-04-20T14:44:42.193764Z",
     "start_time": "2018-04-20T14:44:41.915023Z"
    },
    "hideCode": false,
    "hidePrompt": false
   },
   "outputs": [],
   "source": [
    "# np.set_printoptions(threshold=99999, linewidth=2000)\n",
    "# print(np.array2string(mask[...,0],max_line_width=2000,separator=''))\n",
    "pt   = layers_out[4]   # pred_tensor\n",
    "pt2  = layers_out[12] \n",
    " \n",
    "print( pt.shape, pt2.shape)\n",
    "img = 0\n",
    "\n",
    "for cls in range(4):\n",
    "#     equal = np.all(pt[img][cls,:,1:7] == pt2[img][cls,:,1:7], axis = -1)\n",
    "    print('Image ',img,' Class ',cls)\n",
    "    print(' Output from PCN_Layer (Numpy)')\n",
    "    print( pt[img,cls])\n",
    "    print(' Output from PCN_Layer (Tensorflow)')\n",
    "    print(pt2[img,cls])\n"
   ]
  },
  {
   "cell_type": "markdown",
   "metadata": {
    "hideCode": false,
    "hidePrompt": false
   },
   "source": [
    "###  pred_gaussian / pred_gaussian2  & gt_gaussian / gt_gaussian2"
   ]
  },
  {
   "cell_type": "code",
   "execution_count": null,
   "metadata": {
    "ExecuteTime": {
     "end_time": "2018-04-20T17:16:55.122333Z",
     "start_time": "2018-04-20T17:16:54.624011Z"
    },
    "hideCode": false,
    "hideOutput": true,
    "hidePrompt": false,
    "scrolled": false
   },
   "outputs": [],
   "source": [
    "# pt   = layers_out[4]   # pred_gaussian \n",
    "# pt2  = layers_out[10]  # pred_gaussian_2\n",
    "np.set_printoptions(linewidth=130, threshold=20000)\n",
    "gt   = layers_out[7]   # gt_gaussian \n",
    "gt2  = layers_out[13]  # gt_gaussian_2\n",
    "# gt   = np.where(gt > 1e-6,gt,0)\n",
    "# gt2   = np.where(gt2 > 1e-6,gt2,0)\n",
    "print( ' pt shape ', gt.shape, ' pt2.shape ', gt2.shape)\n",
    "\n",
    "for img in range(config.BATCH_SIZE):\n",
    "#     print(' from np ')\n",
    "#     print(pt[img])\n",
    "#     print(' from tensorflow')\n",
    "#     print(pt2[img])\n",
    "    for cls in range(4):\n",
    "        equal = np.all(gt2[img, cls] == gt[img, cls], axis=-1)      \n",
    "        print( 'Image ',img,' Class ',cls, '  all equal: ',equal.all())        \n",
    "        \n",
    "        if (~equal.all()):\n",
    "            print(~equal)\n",
    "            print( 'Image ',img,' Class ',cls, ' ALL EQUAL: ',equal.all())\n",
    "#             print('\\n -- using numpy      \\n',  gt[img, cls, ~equal])\n",
    "#             print('\\n -- using tensorflow \\n', gt2[img, cls, ~equal])\n",
    "# if not equal display the different between the mismatching rows\n",
    "            for i in range(equal.shape[0]):\n",
    "                if ~equal[i]:\n",
    "                    diff = np.abs(gt2[img, cls, i] - gt[img, cls, i])\n",
    "                    big_error = np.any(diff > 3.0e-9, axis = -1)\n",
    "                    print('   row = ', i, ' rows equal = ',equal[i], '   Big Error (larger than 7.0e-8): ' ,big_error)\n",
    "                    if big_error:\n",
    "                        print(' difference  :', diff )\n",
    "#                     print(' -- using numpy      \\n',gt[img,cls,i])            \n",
    "#                     print(' -- using tensorflow \\n',gt2[img,cls,i])\n",
    "    "
   ]
  },
  {
   "cell_type": "markdown",
   "metadata": {
    "hideCode": false,
    "hidePrompt": false
   },
   "source": [
    "# Stacking Routines\n",
    "###  Stacking routine -- break down by images "
   ]
  },
  {
   "cell_type": "code",
   "execution_count": null,
   "metadata": {
    "ExecuteTime": {
     "end_time": "2018-04-16T15:52:06.157379Z",
     "start_time": "2018-04-16T15:52:05.913730Z"
    },
    "hideCode": false,
    "hidePrompt": false,
    "scrolled": false
   },
   "outputs": [],
   "source": [
    "## stack an [Batch x Class x Row x Col] tensor into Row x Cols\n",
    "##------------------------------------------------------------------\n",
    "pred_tensor = layers_out[8]\n",
    "lst2 = [ np.squeeze(item) for item in np.split(pred_tensor, pred_tensor.shape[0], axis = 0 )]\n",
    "lst2 = [ np.squeeze(np.concatenate(np\n",
    "                                   .split(item, item.shape[0], axis = 0 ), axis = 1)) for item in lst2]\n",
    "result = [ item[~np.all(item[:,2:6] == 0, axis=1)] for item in lst2]\n",
    "print(len(result))\n",
    "# print(result)"
   ]
  },
  {
   "cell_type": "markdown",
   "metadata": {
    "hideCode": false,
    "hidePrompt": false
   },
   "source": [
    "###  Stack tensor routine for one image "
   ]
  },
  {
   "cell_type": "code",
   "execution_count": null,
   "metadata": {
    "ExecuteTime": {
     "end_time": "2018-04-16T15:52:11.571785Z",
     "start_time": "2018-04-16T15:52:11.337160Z"
    },
    "hideCode": false,
    "hidePrompt": false,
    "scrolled": false
   },
   "outputs": [],
   "source": [
    "## stack an  [Class x Row x Col] tensor into Row x Cols\n",
    "##------------------------------------------------------------------\n",
    "pred_tensor = layers_out[8][0]\n",
    "lst2   = [np.squeeze(item) for item in np.split(pred_tensor, pred_tensor.shape[0], axis = 0 )]\n",
    "result = np.concatenate( [ i[~np.all(i[:,2:6] == 0, axis=1)] for i in lst2] , axis = 0)\n",
    "print(result.shape)\n",
    "# print(result)"
   ]
  }
 ],
 "metadata": {
  "anaconda-cloud": {},
  "celltoolbar": "Hide code",
  "hide_code_all_hidden": false,
  "kernelspec": {
   "display_name": "Python [conda env:TF_gpu]",
   "language": "python",
   "name": "conda-env-TF_gpu-py"
  },
  "language_info": {
   "codemirror_mode": {
    "name": "ipython",
    "version": 3
   },
   "file_extension": ".py",
   "mimetype": "text/x-python",
   "name": "python",
   "nbconvert_exporter": "python",
   "pygments_lexer": "ipython3",
   "version": "3.5.4"
  }
 },
 "nbformat": 4,
 "nbformat_minor": 2
}
