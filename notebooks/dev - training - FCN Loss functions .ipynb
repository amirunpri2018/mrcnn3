{
 "cells": [
  {
   "cell_type": "markdown",
   "metadata": {
    "hideCode": true,
    "hidePrompt": true
   },
   "source": [
    "## Build MRCNN Model\n",
    "Pass data through MRCNN and then FCN and investigte output values from FCN\n",
    "- First we generate the heatmaps, and also visually cehck them. \n",
    "- the we pass the heatmaps to the routine that prodcues the scores "
   ]
  },
  {
   "cell_type": "code",
   "execution_count": 1,
   "metadata": {
    "ExecuteTime": {
     "end_time": "2018-11-06T16:58:17.326798Z",
     "start_time": "2018-11-06T16:58:03.039988Z"
    },
    "hideCode": false,
    "hideOutput": false,
    "hidePrompt": false
   },
   "outputs": [
    {
     "data": {
      "text/html": [
       "<style>.container { width:95% !important; }</style>"
      ],
      "text/plain": [
       "<IPython.core.display.HTML object>"
      ]
     },
     "metadata": {},
     "output_type": "display_data"
    },
    {
     "name": "stderr",
     "output_type": "stream",
     "text": [
      "Using TensorFlow backend.\n"
     ]
    },
    {
     "name": "stdout",
     "output_type": "stream",
     "text": [
      ">>> Initialize Paths\n",
      " Linx  Linux\n",
      "\n",
      "Paths:\n",
      "-------------------------\n",
      "COCO_DATASET_PATH              /home/kbardool/MLDatasets/coco2014\n",
      "COCO_MODEL_PATH                /home/kbardool/PretrainedModels/mask_rcnn_coco.h5\n",
      "DIR_DATASET                    /home/kbardool/MLDatasets\n",
      "DIR_PRETRAINED                 /home/kbardool/PretrainedModels\n",
      "DIR_ROOT                       /home/kbardool/git_projs/mrcnn3/notebooks\n",
      "DIR_TRAINING                   /home/kbardool/models\n",
      "FCN_TRAINING_PATH              /home/kbardool/models/train_fcn_coco\n",
      "FCN_VGG16_MODEL_PATH           /home/kbardool/PretrainedModels/fcn_vgg16_weights_tf_dim_ordering_tf_kernels.h5\n",
      "MRCNN_TRAINING_PATH            /home/kbardool/models/train_mrcnn_coco\n",
      "RESNET_MODEL_PATH              /home/kbardool/PretrainedModels/resnet50_weights_tf_dim_ordering_tf_kernels_notop.h5\n",
      "VGG16_MODEL_PATH               /home/kbardool/PretrainedModels/vgg16_weights_tf_dim_ordering_tf_kernels_notop.h5\n",
      "\n",
      "\n",
      ">>> Initialize ModelBase model \n",
      "   Mode      :  trainfcn\n",
      "   Model dir :  /home/kbardool/models/train_mrcnn_coco\n",
      ">>> ModelBase initialiation complete\n",
      ">>> ---Initialize MRCNN model, mode:  trainfcn\n",
      "\n",
      "----------------------------\n",
      ">>> Resnet Graph \n",
      "----------------------------\n",
      "     Input_image shape : (?, 1024, 1024, 3)\n",
      "     After ZeroPadding2D  : (?, 1030, 1030, 3) (?, 1030, 1030, 3)\n",
      "     After Conv2D padding : (?, 512, 512, 64) (?, 512, 512, 64)\n",
      "     After BatchNorm      : (?, 512, 512, 64) (?, 512, 512, 64)\n",
      "     C1 Shape: (?, 256, 256, 64) (?, 256, 256, 64)\n",
      "     C2 Shape:  (?, 256, 256, 256) (?, 256, 256, 256)\n",
      "     C3 Shape:  (?, 128, 128, 512) (?, 128, 128, 512)\n",
      "     C4 Shape:  (?, 64, 64, 1024) (?, 64, 64, 1024)\n",
      "     C5 Shape:  (?, 32, 32, 2048) (?, 32, 32, 2048)\n",
      "\n",
      ">>> Feature Pyramid Network (FPN) Graph \n",
      "     FPN P2 shape : (None, 256, 256, 256)\n",
      "     FPN P3 shape : (None, 128, 128, 256)\n",
      "     FPN P4 shape : (None, 64, 64, 256)\n",
      "     FPN P5 shape : (None, 32, 32, 256)\n",
      "     FPN P6 shape : (None, 16, 16, 256)\n",
      "\n",
      ">>> RPN Layer \n",
      "     Input_feature_map shape : (?, ?, ?, 256)\n",
      "     anchors_per_location    : 3\n",
      "     depth                   : 256\n",
      "     Input_feature_map shape : (?, ?, ?, 256)\n",
      "     anchors_per_location    : 3\n",
      "     anchor_stride           : 1\n",
      "     append Tensor(\"fpn_p2/BiasAdd:0\", shape=(?, 256, 256, 256), dtype=float32) to layer_outputs \n",
      "     append Tensor(\"fpn_p3/BiasAdd:0\", shape=(?, 128, 128, 256), dtype=float32) to layer_outputs \n",
      "     append Tensor(\"fpn_p4/BiasAdd:0\", shape=(?, 64, 64, 256), dtype=float32) to layer_outputs \n",
      "     append Tensor(\"fpn_p5/BiasAdd:0\", shape=(?, 32, 32, 256), dtype=float32) to layer_outputs \n",
      "     append Tensor(\"fpn_p6/MaxPool:0\", shape=(?, 16, 16, 256), dtype=float32) to layer_outputs \n",
      "\n",
      ">>> RPN Outputs  <class 'list'>\n",
      "      rpn_class_logits/rpn_class_logits:0\n",
      "      rpn_class/rpn_class:0\n",
      "      rpn_bbox/rpn_bbox:0\n",
      "\n",
      ">>> Proposal Layer - generate  2000  proposals\n",
      "    Init complete. Size of anchors:  (261888, 4)\n",
      "     Scores :  (1, 6000)\n",
      "     Deltas :  (1, 6000, 4)\n",
      "     Anchors:  (1, 6000, 4)\n",
      "     Boxes shape / type after processing: \n",
      "     Output: Prposals shape :  (1, ?, ?) (1, None, None)\n",
      "\n",
      ">>> Detection Target Layer (Training Mode)\n",
      "    Detection Target Layer : call()  <class 'list'> 3\n",
      "     proposals.shape    : (1, ?, ?) (1, ?, ?) (None, 2000, 4)\n",
      "     gt_class_ids.shape : (?, ?) (?, ?) (None, None)\n",
      "     gt_bboxes.shape    : (?, ?, 4) (?, ?, 4) (None, None, 4)\n",
      "\n",
      "    Detection Target Layer : return  <class 'list'> 4\n",
      "     output 0  shape (1, ?, ?)  type <class 'tensorflow.python.framework.ops.Tensor'> \n",
      "     output 1  shape (1, ?)  type <class 'tensorflow.python.framework.ops.Tensor'> \n",
      "     output 2  shape (1, ?, ?)  type <class 'tensorflow.python.framework.ops.Tensor'> \n",
      "     output 3  shape (1, ?, ?)  type <class 'tensorflow.python.framework.ops.Tensor'> \n",
      "\n",
      ">>> FPN Classifier Graph \n",
      "     INPUT: rois shape          : (1, ?, ?)\n",
      "     INPUT: No of feature_maps  : 4\n",
      "        feature_maps shape  : (?, 256, 256, 256)\n",
      "        feature_maps shape  : (?, 128, 128, 256)\n",
      "        feature_maps shape  : (?, 64, 64, 256)\n",
      "        feature_maps shape  : (?, 32, 32, 256)\n",
      "     INPUT: image_shape         : [1024 1024    3]\n",
      "     INPUT: pool_size           : 7\n",
      "     INPUT: num_classes         : 81\n",
      "   > PyramidRoI Alignment Layer Call()  5\n",
      "     boxes.shape    : (None, 200, 4)\n",
      "     roi_align_classifier output shape is :  (1, ?, 7, 7, 256) (1, ?, 7, 7, 256)\n",
      "     mrcnn_class_conv1    output shape is :  (?, 200, 1, 1, 1024)\n",
      "     mrcnn_class_bn1      output shape is :  (?, 200, 1, 1, 1024)\n",
      "     mrcnn_class_relu1    output shape is :  (?, 200, 1, 1, 1024)\n",
      "     mrcnn_class_conv2 output shape is :  (?, 200, 1, 1, 1024)\n",
      "     mrcnn_class_bn2      output shape is :  (?, 200, 1, 1, 1024)\n",
      "     mrcnn_class_relu2    output shape is :  (?, 200, 1, 1, 1024)\n",
      "     pool_squeeze(Shared) output shape is :  (?, 200, 1024)\n",
      "     mrcnn_class_logits   output shape is :  (?, 200, 81)\n",
      "     mrcnn_class_probs    output shape is :  (?, 200, 81)\n",
      "     mrcnn_bbox_fc        output shape is :  (?, 200, 324)\n",
      "     mrcnn_bbox_fc        reshaped output :  (?, 200, 324)\n",
      "     mrcnn_bbox           output shape is :  (?, 200, 81, 4)\n",
      "--------------------------------\n",
      ">>>  CHM Layer  \n",
      "--------------------------------\n",
      "  > CHMLayer Call()  3\n",
      "    mrcnn_class.shape    : (?, 200, 81) (None, 200, 81)\n",
      "    mrcnn_bbox.shape     : (?, 200, 81, 4) (None, 200, 81, 4)\n",
      "    output_rois.shape    : (1, ?, ?) (None, 200, 4)\n",
      "\n",
      "  > build_predictions()\n",
      "    num_rois               :  200\n",
      "    norm_input_rois.shape  :  <class 'tensorflow.python.framework.ops.Tensor'> (None, 200, 4)\n",
      "    scale.shape            :  <class 'tensorflow.python.framework.ops.Tensor'> (4,) (4,)\n",
      "    dup_scale.shape        :  <class 'tensorflow.python.framework.ops.Tensor'> (1, 200, 4) (1, 200, 4)\n",
      "\n",
      "    mrcnn_class shape      :  (None, 200, 81)\n",
      "    mrcnn_bbox.shape       :  (None, 200, 81, 4) (?, 200, 81, 4)\n",
      "    config image shape     :  [1024 1024    3] h: 1024 w: 1024\n",
      "    refined rois clipped   :  (1, 200, 4)\n",
      "    input_rois.shape       :  (1, 200, 4) (1, 200, 4)\n",
      "    refined_rois.shape     :  (1, 200, 4) (1, 200, 4)\n",
      "    shape of sequence      :  (?, 200, 1)\n",
      "    pred_array             :  (1, 200, 7)\n",
      "    scatter_ind            :  <class 'tensorflow.python.framework.ops.Tensor'> shape (1, 200, 3)\n",
      "    pred_scatter           :  (1, 81, 200, 7)\n",
      "    - Add normalized score --\n",
      "\n",
      "    normalizer             :  (1, 81, 1)\n",
      "    norm_score             :  (1, 81, 200, 1)\n",
      "    pred_scatter           :  (1, 81, 200, 8)\n",
      "    sort_inds              :  <class 'tensorflow.python.framework.ops.Tensor'>  shape  (1, 81, 200)\n",
      "    class_grid             :  <class 'tensorflow.python.framework.ops.Tensor'>  shape  (1, 81, 200)\n",
      "    batch_grid             :  <class 'tensorflow.python.framework.ops.Tensor'>  shape  (1, 81, 200)\n",
      "    roi_grid shape         :  <class 'tensorflow.python.framework.ops.Tensor'>  shape  (1, 81, 200)\n",
      "    roi_grid_exp           :  <class 'tensorflow.python.framework.ops.Tensor'>  shape  (1, 81, 200, 1)\n",
      "    gather_inds            :  <class 'tensorflow.python.framework.ops.Tensor'>  shape  (1, 81, 200, 3)\n",
      "    pred_tensor            :  (1, 81, 200, 8)\n",
      "\n",
      " \n",
      "  > build_heatmap() for  ['pred_heatmap']\n",
      "    in_tensor shape        :  (1, 81, 200, 8)\n",
      "    num bboxes per class   :  200\n",
      "    heatmap scale        :  4 Dimensions:  w: 256  h: 256\n",
      "    pt2_sum shape  :  (1, 81, 200)\n",
      "    pt2_ind shape  :  (?, 3)\n",
      "    pt2_dense shape:  (?, 8)\n",
      "    X/Y shapes : (256, 256) (256, 256)\n",
      "    Ones:     (?, 1, 1)\n",
      "    ones_exp * X (?, 1, 1) * (256, 256) =  (?, 256, 256)\n",
      "    ones_exp * Y (?, 1, 1) * (256, 256) =  (?, 256, 256)\n",
      "    pos_grid before transpse :  (?, 256, 256, 2)\n",
      "    pos_grid after transpose :  (256, 256, ?, 2)\n",
      "    >> input to MVN.PROB: pos_grid (meshgrid) shape:  (256, 256, ?, 2)\n",
      "     Prob_grid shape from mvn.probe:  (256, 256, ?)\n",
      "     Prob_grid shape after tanspose:  (?, 256, 256)\n",
      "    << output probabilities shape  :  (?, 256, 256)\n",
      "    scores_scattered shape :  (1, 81, 200, 3)\n",
      "    gauss_scores  (FINAL)  :  (1, 81, 200, 11)  Keras tensor  False\n",
      "\n",
      "    normalization ------------------------------------------------------\n",
      "    normalizer     :  (?, 1, 1)\n",
      "    prob_grid_norm_scaled :  (?, 256, 256)\n",
      "\n",
      "    Scatter out the probability distributions based on class --------------\n",
      "    pt2_ind shape      :  (?, 3)\n",
      "    prob_grid_clippped :  (?, 256, 256)\n",
      "    gauss_heatmap      :  (1, 81, 200, 256, 256)\n",
      "\n",
      "    Reduce sum based on class ---------------------------------------------\n",
      "    gaussian_heatmap :  (1, 81, 256, 256) Keras tensor  False\n",
      "\n",
      "    normalization ------------------------------------------------------\n",
      "    normalizer shape   :  (1, 81, 1, 1)\n",
      "    normalized heatmap :  (1, 81, 256, 256)  Keras tensor  False\n",
      "    reshaped heatmap :  (1, 256, 256, 81)  Keras tensor  False\n",
      "    complete\n",
      "\n",
      "    pred_refined_heatmap        :  (1, 256, 256, 81) Keras tensor  False\n",
      "    pred_refnined_heatmap_scores:  (1, 81, 200, 11) Keras tensor  False\n",
      "    complete\n",
      "\n",
      "-----------------------------------------\n",
      ">>>  CHM Layer (Ground Truth Generation) \n",
      "-----------------------------------------\n",
      "  > CHMLayerTgt Call()  2\n",
      "    tgt_class_ids.shape  : (1, ?) (None, 200)\n",
      "    tgt_bboxes.shape     : (1, ?, ?) (None, 200, 4)\n",
      "\n",
      "\n",
      "  > BUILD_GROUND TRUTH_TF()\n"
     ]
    },
    {
     "name": "stdout",
     "output_type": "stream",
     "text": [
      "    num_bboxes             :  200 (building  gt_tensor )\n",
      "    gt_class_ids shape     :  (1, ?)    (None, 200)\n",
      "    norm_gt_bboxes.shape   :  (1, ?, ?)    (None, 200, 4)\n",
      "    gt_bboxes.shape        :  (1, 200, 4)    (1, 200, 4)\n",
      "    gt_classes_exp         :  (1, ?, 1)\n",
      "    gt_scores_exp          :  (1, ?, 1)\n",
      "    gt_array shape         :  (1, 200, 8) (1, 200, 8)\n",
      "    scatter_ind shape      :  (1, 200, 3) (1, 200, 3)\n",
      "    tf.shape(gt_array)[-1] :  8 (1, 200, 8)\n",
      "    gt_scatter shape       :  (1, 81, 200, 8) (1, 81, 200, 8)\n",
      "    sort_inds              :  <class 'tensorflow.python.framework.ops.Tensor'>  shape  (1, 81, 200)\n",
      "    class_grid             :  <class 'tensorflow.python.framework.ops.Tensor'>  shape  (1, 81, 200)\n",
      "    batch_grid             :  <class 'tensorflow.python.framework.ops.Tensor'>  shape  (1, 81, 200)\n",
      "    gather_inds            :  (1, 81, 200, 3)\n",
      "    gt_tensor.shape        :  (1, 81, 200, 8) (1, 81, 200, 8)\n",
      "\n",
      " \n",
      "  > build_heatmap() for  ['gt_heatmap']\n",
      "    in_tensor shape        :  (1, 81, 200, 8)\n",
      "    num bboxes per class   :  200\n",
      "    heatmap scale        :  4 Dimensions:  w: 256  h: 256\n",
      "    pt2_sum shape  :  (1, 81, 200)\n",
      "    pt2_ind shape  :  (?, 3)\n",
      "    pt2_dense shape:  (?, 8)\n",
      "     Prob_grid shape :  (?, 256, 256)\n",
      "    prob_grid_clipped      :  (?, 256, 256)\n",
      "    scores_scattered shape :  (1, 81, 200, 3)\n",
      "    gauss_scores           :  (1, 81, 200, 11)  Name:    cntxt_layer_gt/gt_heatmap_scores:0\n",
      "    gauss_scores  (FINAL)  :  (1, 81, 200, 11)  Keras tensor  False\n",
      "\n",
      "    Scatter out the probability distributions based on class --------------\n",
      "    pt2_ind shape   :  (?, 3)\n",
      "    prob_grid shape :  (?, 256, 256)\n",
      "    gauss_heatmap   :  (1, 81, 200, 256, 256)\n",
      "\n",
      "    Reduce MAX based on class ---------------------------------------------\n",
      "    gaussian_heatmap :  (1, 81, 256, 256) Keras tensor  False\n",
      "    gauss_heatmap :  (1, 256, 256, 81)  Keras tensor  False\n",
      "\n",
      "    gt_heatmap                  :  (1, 256, 256, 81) Keras tensor  False\n",
      "    gt_heatmap_scores           :  (1, 81, 200, 11) Keras tensor  False\n",
      "    complete\n",
      "<<<  shape of pred_heatmap   :  (1, 256, 256, 81)  Keras tensor  True\n",
      "<<<  shape of gt_heatmap     :  (1, 256, 256, 81)  Keras tensor  True\n",
      "\n",
      ">>> Build MaskRCNN build complete. mode:  trainfcn\n",
      ">>> MaskRCNN initialiation complete. Mode:  trainfcn\n",
      "\n",
      "\n",
      " Inputs:\n",
      " -------\n",
      " index:  0    input name : input_image:0                              Type: float32           Shape: (?, 1024, 1024, 3)\n",
      " index:  1    input name : input_image_meta:0                         Type: float32           Shape: (?, ?)\n",
      " index:  2    input name : input_rpn_match:0                          Type: int32             Shape: (?, ?, 1)\n",
      " index:  3    input name : input_rpn_bbox:0                           Type: float32           Shape: (?, ?, 4)\n",
      " index:  4    input name : input_gt_class_ids:0                       Type: int32             Shape: (?, ?)\n",
      " index:  5    input name : input_gt_boxes:0                           Type: float32           Shape: (?, ?, 4)\n",
      "\n",
      "\n",
      " Outputs:\n",
      " --------\n",
      " layer:  0    output name: cntxt_layer/pred_heatmap_norm:0            Type: float32           Shape: (1, 256, 256, 81)\n",
      " layer:  1    output name: cntxt_layer/pred_heatmap_scores:0          Type: float32           Shape: (1, 81, 200, 11)\n",
      " layer:  2    output name: cntxt_layer_gt/gt_heatmap:0                Type: float32           Shape: (1, 256, 256, 81)\n",
      " layer:  3    output name: cntxt_layer_gt/gt_heatmap_scores:0         Type: float32           Shape: (1, 81, 200, 11)\n",
      " layer:  4    output name: proposal_targets/target_class_ids:0        Type: int32             Shape: (1, ?)\n",
      " layer:  5    output name: mrcnn_class_logits/Reshape_1:0             Type: float32           Shape: (?, 200, 81)\n",
      " layer:  6    output name: lambda_3/strided_slice_3:0                 Type: float32           Shape: (?, ?)\n"
     ]
    }
   ],
   "source": [
    "from IPython.core.display import display, HTML\n",
    "display(HTML(\"<style>.container { width:95% !important; }</style>\"))\n",
    "%matplotlib inline\n",
    "%load_ext autoreload\n",
    "%autoreload 2\n",
    "import os, sys, math, io, time, gc, argparse, platform, pprint\n",
    "import numpy as np\n",
    "import tensorflow as tf\n",
    "import keras\n",
    "import keras.backend as KB\n",
    "sys.path.append('../')\n",
    "import mrcnn.model_mrcnn  as mrcnn_modellib\n",
    "import mrcnn.model_fcn    as fcn_modellib\n",
    "import mrcnn.visualize    as visualize\n",
    "import mrcnn.new_shapes   as shapes\n",
    "import mrcnn.utils        as utils\n",
    "\n",
    "from datetime           import datetime   \n",
    "from mrcnn.utils        import command_line_parser, Paths\n",
    "from mrcnn.config       import Config\n",
    "from mrcnn.dataset      import Dataset \n",
    "# from mrcnn.utils        import log, stack_tensors, stack_tensors_3d, write_stdout\n",
    "from mrcnn.datagen      import data_generator, load_image_gt, data_gen_simulate\n",
    "from mrcnn.callbacks    import get_layer_output_1,get_layer_output_2\n",
    "from mrcnn.coco         import CocoDataset, CocoConfig, CocoInferenceConfig, evaluate_coco, build_coco_results\n",
    "# from mrcnn.prep_notebook import mrcnn_newshape_train, prep_newshape_dataset\n",
    "\n",
    "pp = pprint.PrettyPrinter(indent=2, width=100)\n",
    "np.set_printoptions(linewidth=100,precision=4,threshold=1000, suppress = True)\n",
    "start_time = datetime.now().strftime(\"%m-%d-%Y @ %H:%M:%S\")\n",
    "print()\n",
    "print('--> Execution started at:', start_time)\n",
    "print(\"    Tensorflow Version: {}   Keras Version : {} \".format(tf.__version__,keras.__version__))\n",
    "\n",
    "####  Pass input parameters to argparse\n",
    "\n",
    "# args = parser.parse_args(\"--epochs 100 --steps_in_epoch 128  --last_epoch 1264 --batch_size 8  --lr 0.5               --logs_dir train_fcn_adagrad --model /home/kbardool/models/train_mrcnn/shapes20180621T1554/mask_rcnn_shapes_1119.h5 --fcn_model init\".split())\n",
    "# input_parms = \"--epochs 100 --steps_in_epoch 100  --last_epoch 1264 --batch_size 25 --lr 0.8 --val_steps 5 --logs_dir train_fcn_adagrad --model /home/kbardool/models/train_mrcnn/shapes20180621T1554/mask_rcnn_shapes_1119.h5 --fcn_model /home/kbardool/models/train_fcn_adagrad/shapes20180709T1732/fcn_shapes_1167.h5\"\n",
    "# input_parms +=\" --model     /home/kbardool/models/train_mrcnn/shapes20180621T1554/mask_rcnn_shapes_1119.h5 \"\n",
    "##------------------------------------------------------------------------------------\n",
    "## Parse command line arguments\n",
    "##------------------------------------------------------------------------------------\n",
    "parser = command_line_parser()\n",
    "input_parms = \"--epochs 2 --steps_in_epoch 32  --last_epoch 0 --batch_size 1 --lr 0.00001 --val_steps 8 \" \n",
    "# input_parms +=\"--mrcnn_logs_dir train_mrcnn_newshapes \"\n",
    "# input_parms +=\"--fcn_logs_dir   train_fcn8_newshapes \"\n",
    "input_parms +=\"--mrcnn_logs_dir train_mrcnn_coco \"\n",
    "input_parms +=\"--fcn_logs_dir   train_fcn8_coco \"\n",
    "input_parms +=\"--mrcnn_model    last \"\n",
    "input_parms +=\"--fcn_model      init \"\n",
    "input_parms +=\"--opt            adagrad \"\n",
    "input_parms +=\"--fcn_arch       fcn8 \" \n",
    "input_parms +=\"--fcn_layers     all \" \n",
    "input_parms +=\"--sysout        screen \"\n",
    "input_parms +=\"--new_log_folder    \"\n",
    "# input_parms +=\"--fcn_model /home/kbardool/models/train_fcn_adagrad/shapes20180709T1732/fcn_shapes_1167.h5\"\n",
    "print(input_parms)\n",
    "\n",
    "args = parser.parse_args(input_parms.split())\n",
    "# args = parser.parse_args()\n",
    "\n",
    "##----------------------------------------------------------------------------------------------\n",
    "## if debug is true set stdout destination to stringIO\n",
    "##----------------------------------------------------------------------------------------------            \n",
    "# debug = False\n",
    "if args.sysout == 'FILE':\n",
    "    sys.stdout = io.StringIO()\n",
    "\n",
    "# print(\"    Dataset            : \", args.dataset)\n",
    "# print(\"    Logs               : \", args.logs)\n",
    "# print(\"    Limit              : \", args.limit)\n",
    "print(\"    MRCNN Model        : \", args.mrcnn_model)\n",
    "print(\"    FCN Model          : \", args.fcn_model)\n",
    "print(\"    MRCNN Log Dir      : \", args.mrcnn_logs_dir)\n",
    "print(\"    FCN Log Dir        : \", args.fcn_logs_dir)\n",
    "print(\"    FCN Arch           : \", args.fcn_arch)\n",
    "print(\"    FCN Log Dir        : \", args.fcn_layers)\n",
    "print(\"    Last Epoch         : \", args.last_epoch)\n",
    "print(\"    Epochs to run      : \", args.epochs)\n",
    "print(\"    Steps in each epoch: \", args.steps_in_epoch)\n",
    "print(\"    Validation steps   : \", args.val_steps)\n",
    "print(\"    Batch Size         : \", args.batch_size)\n",
    "print(\"    Optimizer          : \", args.opt)\n",
    "print(\"    sysout             : \", args.sysout)\n",
    "# print(\"    OS Platform        : \", syst)\n",
    "\n",
    "##------------------------------------------------------------------------------------\n",
    "## setup project directories\n",
    "##   ROOT_DIR         : Root directory of the project \n",
    "##   MODEL_DIR        : Directory to save logs and trained model\n",
    "##   COCO_MODEL_PATH  : Path to COCO trained weights\n",
    "##---------------------------------------------------------------------------------\n",
    "paths = Paths(fcn_training_folder = args.fcn_logs_dir, mrcnn_training_folder = args.mrcnn_logs_dir)\n",
    "paths.display()\n",
    "\n",
    "### Build Configuration Object\n",
    "\n",
    "##------------------------------------------------------------------------------------\n",
    "## Build configuration object \n",
    "##------------------------------------------------------------------------------------                          \n",
    "mrcnn_config                    = CocoConfig()\n",
    "# import mrcnn.new_shapes as new_shapes\n",
    "# mrcnn_config = new_shapes.NewShapesConfig()\n",
    "\n",
    "mrcnn_config.NAME               = 'mrcnn'              \n",
    "mrcnn_config.TRAINING_PATH      = paths.MRCNN_TRAINING_PATH\n",
    "mrcnn_config.COCO_DATASET_PATH  = paths.COCO_DATASET_PATH \n",
    "mrcnn_config.COCO_MODEL_PATH    = paths.COCO_MODEL_PATH   \n",
    "mrcnn_config.RESNET_MODEL_PATH  = paths.RESNET_MODEL_PATH \n",
    "mrcnn_config.VGG16_MODEL_PATH   = paths.VGG16_MODEL_PATH  \n",
    "mrcnn_config.COCO_CLASSES       = None \n",
    "mrcnn_config.DETECTION_PER_CLASS = 200\n",
    "mrcnn_config.HEATMAP_SCALE_FACTOR = 4\n",
    "mrcnn_config.BATCH_SIZE         = int(args.batch_size)                  # Batch size is 2 (# GPUs * images/GPU).\n",
    "mrcnn_config.IMAGES_PER_GPU     = int(args.batch_size)                  # Must match BATCH_SIZE\n",
    "\n",
    "mrcnn_config.STEPS_PER_EPOCH    = int(args.steps_in_epoch)\n",
    "mrcnn_config.LEARNING_RATE      = float(args.lr)\n",
    "mrcnn_config.EPOCHS_TO_RUN      = int(args.epochs)\n",
    "mrcnn_config.FCN_INPUT_SHAPE    = mrcnn_config.IMAGE_SHAPE[0:2]\n",
    "mrcnn_config.LAST_EPOCH_RAN     = int(args.last_epoch)\n",
    "\n",
    "mrcnn_config.WEIGHT_DECAY       = 2.0e-4\n",
    "mrcnn_config.VALIDATION_STEPS   = int(args.val_steps)\n",
    "mrcnn_config.REDUCE_LR_FACTOR   = 0.5\n",
    "mrcnn_config.REDUCE_LR_COOLDOWN = 30\n",
    "mrcnn_config.REDUCE_LR_PATIENCE = 40\n",
    "mrcnn_config.EARLY_STOP_PATIENCE= 80\n",
    "mrcnn_config.EARLY_STOP_MIN_DELTA = 1.0e-4\n",
    "mrcnn_config.MIN_LR             = 1.0e-10\n",
    "mrcnn_config.OPTIMIZER          = args.opt.upper()\n",
    "mrcnn_config.NEW_LOG_FOLDER       = True\n",
    "mrcnn_config.SYSOUT               = args.sysout\n",
    "mrcnn_config.display() \n",
    "\n",
    "\n",
    "###  Build Model\n",
    "\n",
    "from mrcnn.prep_notebook import mrcnn_coco_train\n",
    "mrcnn_model, mrcnn_config = mrcnn_coco_train(mode = 'training', mrcnn_config = mrcnn_config)"
   ]
  },
  {
   "cell_type": "markdown",
   "metadata": {},
   "source": [
    "##  Build FCN Model "
   ]
  },
  {
   "cell_type": "code",
   "execution_count": 2,
   "metadata": {
    "ExecuteTime": {
     "end_time": "2018-11-06T16:58:18.117888Z",
     "start_time": "2018-11-06T16:58:17.329729Z"
    }
   },
   "outputs": [
    {
     "name": "stdout",
     "output_type": "stream",
     "text": [
      ">>> Initialize Paths\n",
      " Linx  Linux\n",
      "\n",
      "Paths:\n",
      "-------------------------\n",
      "COCO_DATASET_PATH              /home/kbardool/MLDatasets/coco2014\n",
      "COCO_MODEL_PATH                /home/kbardool/PretrainedModels/mask_rcnn_coco.h5\n",
      "DIR_DATASET                    /home/kbardool/MLDatasets\n",
      "DIR_PRETRAINED                 /home/kbardool/PretrainedModels\n",
      "DIR_ROOT                       /home/kbardool/git_projs/mrcnn3/notebooks\n",
      "DIR_TRAINING                   /home/kbardool/models\n",
      "FCN_TRAINING_PATH              /home/kbardool/models/train_fcn8_coco\n",
      "FCN_VGG16_MODEL_PATH           /home/kbardool/PretrainedModels/fcn_vgg16_weights_tf_dim_ordering_tf_kernels.h5\n",
      "MRCNN_TRAINING_PATH            /home/kbardool/models/train_mrcnn_coco\n",
      "RESNET_MODEL_PATH              /home/kbardool/PretrainedModels/resnet50_weights_tf_dim_ordering_tf_kernels_notop.h5\n",
      "VGG16_MODEL_PATH               /home/kbardool/PretrainedModels/vgg16_weights_tf_dim_ordering_tf_kernels_notop.h5\n",
      "\n",
      "\n",
      ">>> Initialize ModelBase model \n",
      "   Mode      :  training\n",
      "   Model dir :  /home/kbardool/models/train_fcn8_coco\n",
      ">>> ModelBase initialiation complete\n",
      ">>> Initialize FCN model, mode:  training architecture:  FCN8\n",
      ">>> set_log_dir(): model_path:  None\n",
      "    set_log_dir(): model_path has NOT been provided : None \n",
      "                  NewFolder: False  config.NEW_LOG_FOLDER: True \n",
      "    set_log_dir(): weight file template (self.checkpoint_path): /home/kbardool/models/train_fcn8_coco/fcn20181106T1658/fcn_{epoch:04d}.h5 \n",
      "    set_log_dir(): weight file dir      (self.log_dir)        : /home/kbardool/models/train_fcn8_coco/fcn20181106T1658 \n",
      "    set_log_dir(): Last completed epoch (self.epoch)          : 0 \n",
      "    arch set to FCN8 - with No L2 Regularization\n",
      "<function fcn8_graph at 0x7f4238b7d730>\n",
      "\n",
      "\n",
      "---------------------------------------------------\n",
      "   Arch:  FCN8  Adding  FCN layers\n",
      "---------------------------------------------------\n",
      "\n",
      "---------------\n",
      ">>> FCN8 Layer \n",
      "---------------\n",
      "     feature map      : (?, 256, 256, 81)\n",
      "     height : 256 width : 256 classes : 81\n",
      "     image_data_format:  channels_last\n",
      "     rois_per_class   :  channels_last\n",
      "   Input feature map                   :  (?, 256, 256, 81)\n",
      "   FCN Block 11 shape is               :  (None, 256, 256, 64)\n",
      "   FCN Block 12 shape is               :  (None, 256, 256, 64)\n",
      "   FCN Block 13 (Max pooling) shape is :  (None, 128, 128, 64)\n",
      "   FCN Block 21 shape is               :  (?, 128, 128, 128)\n",
      "   FCN Block 22 shape is               :  (None, 128, 128, 128)\n",
      "   FCN Block 23 (Max pooling) shape is :  (None, 64, 64, 128)\n",
      "   FCN Block 31 shape is               :  (None, 64, 64, 256)\n",
      "   FCN Block 32 shape is               :  (None, 64, 64, 256)\n",
      "   FCN Block 33 shape is               :  (None, 64, 64, 256)\n",
      "   FCN Block 34 (Max pooling) shape is :  (?, 32, 32, 256)\n",
      "   FCN Block 41 shape is               :  (None, 32, 32, 512)\n",
      "   FCN Block 42 shape is               :  (None, 32, 32, 512)\n",
      "   FCN Block 43 shape is               :  (None, 32, 32, 512)\n",
      "   FCN Block 44 (Max pooling) shape is :  (?, 16, 16, 512)\n",
      "   FCN Block 51 shape is               :  (None, 16, 16, 512)\n",
      "   FCN Block 52 shape is               :  (None, 16, 16, 512)\n",
      "   FCN Block 53 shape is               :  (None, 16, 16, 512)\n",
      "   FCN Block 54 (Max pooling) shape is :  (None, 8, 8, 512)\n",
      "\n",
      "   --- FCN32 ----------------------------\n",
      "   FCN fully connected 1 (fc1) shape   :  (None, 8, 8, 4096)\n",
      "   FCN fully connected 2 (fc2) shape   :  (None, 8, 8, 4096)\n",
      "   FCN conv2d (fcn32_deconv2D) shape   :  (?, 8, 8, 81)  keras_tensor  True\n",
      "\n",
      "   --- FCN16 ----------------------------\n",
      "   FCN scorePool4 (Conv2D(Pool4)) shape is                   :  (None, 16, 16, 81)    keras_tensor  True\n",
      "   FCN 2x Upsampling (Deconvolution2D(fcn32_classify)) shape :  (None, 18, 18, 81)    keras_tensor  True\n",
      "   FCN 2x Upsampling/Cropped (Cropped2D(score2)) shape       :  (None, 16, 16, 81)    keras_tensor  True\n",
      "   FCN Add Score2,scorePool4 Add(score2_c, scorePool4) shape :  (None, 16, 16, 81)    keras_tensor  True\n",
      "   FCN upscore_pool4 (Deconv(fuse_Pool4)) shape              :  (None, 32, 32, 81)    keras_tensor  True\n",
      "\n",
      "   --- FCN8 ----------------------------\n",
      "   FCN scorePool4 (Conv2D(Pool4)) shape                      :  (None, 32, 32, 81)    keras_tensor  True\n",
      "   FCN 2x Upsampling/Cropped (Cropped2D(score2)) shape       :  (None, 32, 32, 81)    keras_tensor  True\n",
      "   FCN Add Score2,scorePool4 shape is                        :  (None, 32, 32, 81)    keras_tensor  True\n",
      "\n",
      "   FCN fcn8_classify/heatmap  (Deconv(fuse_Pool4)) shape:  (None, 256, 256, 81)    keras_tensor  True\n",
      "\n",
      "\n",
      "\n",
      "---------------------------------------------------\n",
      "    building Loss Functions \n",
      "---------------------------------------------------\n",
      "\n",
      "-------------------------------\n",
      ">>> fcn_heatmap_MSE_loss_graph \n",
      "-------------------------------\n",
      "    target_masks : (?, 256, 256, 81) (None, 256, 256, 81) KerasTensor:  True\n",
      "    pred_heatmap : (?, ?, ?, 81) (None, 256, 256, 81) KerasTensor:  True\n",
      "    loss         : (?, 256, 256) (None, 256, 256) KerasTensor:  False\n",
      "    loss mean    : () () KerasTensor:  False\n",
      "    loss final   : (1, 1) (1, 1) KerasTensor:  False\n",
      "\n",
      "-------------------------------\n",
      ">>> fcn_heatmap_MSE_loss_graph \n",
      "-------------------------------\n",
      "    target_masks : (?, 256, 256, 81) (None, 256, 256, 81) KerasTensor:  False\n",
      "    pred_heatmap : (?, 256, 256, 81) (None, 256, 256, 81) KerasTensor:  False\n",
      "    loss         : (?, 256, 256) (None, 256, 256) KerasTensor:  False\n",
      "    loss mean    : () () KerasTensor:  False\n",
      "    loss final   : (1, 1) (1, 1) KerasTensor:  False\n",
      "\n",
      "-------------------------------\n",
      ">>> fcn_heatmap_CE_loss_graph  \n",
      "-------------------------------\n",
      "    target_class_ids  : (None, 256, 256, 81)\n",
      "    pred_class_logits : (None, 256, 256, 81)\n",
      "    active_class_ids  : (None, None)\n",
      "    pred_class_ids    : (None, None, None) <dtype: 'int64'>\n",
      "    gt_class_ids      : (None, 256, 256) <dtype: 'int64'>\n",
      "    pred_active       : (None, None, None) <dtype: 'float32'>\n",
      "    loss              : (None, None, None) <dtype: 'float32'>\n",
      "    loss*pred_active  : (None, None, None) KerasTensor:  False\n",
      "    loss              : () () KerasTensor:  False\n",
      "    loss mean         : () () KerasTensor:  False\n",
      "    loss final        : (1, 1) (1, 1) KerasTensor:  False\n",
      "\n",
      "-------------------------------\n",
      ">>> fcn_heatmap_CE_loss_graph  \n",
      "-------------------------------\n",
      "    target_class_ids  : (None, 256, 256, 81)\n",
      "    pred_class_logits : (None, 256, 256, 81)\n",
      "    active_class_ids  : (None, None)\n",
      "    pred_class_ids    : (None, 256, 256) <dtype: 'int64'>\n",
      "    gt_class_ids      : (None, 256, 256) <dtype: 'int64'>\n",
      "    pred_active       : (None, 256, 256) <dtype: 'float32'>\n",
      "    loss              : (None, 256, 256) <dtype: 'float32'>\n",
      "    loss*pred_active  : (None, 256, 256) KerasTensor:  False\n",
      "    loss              : () () KerasTensor:  False\n",
      "    loss mean         : () () KerasTensor:  False\n",
      "    loss final        : (1, 1) (1, 1) KerasTensor:  False\n",
      " ================================================================\n",
      " self.keras_model.losses :  0\n",
      " ================================================================\n",
      "\n",
      ">>> FCN build complete. mode:  training\n",
      ">>> FCN initialization complete. mode:  training\n",
      "\n",
      "\n",
      " Inputs:\n",
      " -------\n",
      " index:  0    input name : input_image_meta_1:0                       Type: float32           Shape: (?, ?)\n",
      " index:  1    input name : input_pr_hm_norm:0                         Type: float32           Shape: (?, 256, 256, 81)\n",
      " index:  2    input name : input_pr_hm_scores:0                       Type: float32           Shape: (?, 81, 200, 11)\n",
      " index:  3    input name : input_gt_hm_norm:0                         Type: float32           Shape: (?, 256, 256, 81)\n",
      " index:  4    input name : input_gt_hm_scores:0                       Type: float32           Shape: (?, 81, 200, 11)\n",
      "\n",
      "\n",
      " Outputs:\n",
      " --------\n",
      " layer:  0    output name: fcn8_heatmap/BiasAdd:0                     Type: float32           Shape: (?, ?, ?, 81)\n",
      " layer:  1    output name: fcn_heatmap_MSE_loss/fcn_MSE_loss:0        Type: float32           Shape: (1, 1)\n",
      " layer:  2    output name: fcn_heatmap_CE_loss/fcn_CE_loss:0          Type: float32           Shape: (1, 1)\n"
     ]
    }
   ],
   "source": [
    "from mrcnn.utils import Paths\n",
    "paths = Paths(fcn_training_folder='train_fcn8_coco')\n",
    "paths.display()\n",
    "##------------------------------------------------------------------------------------\n",
    "## Build configuration for FCN model\n",
    "##------------------------------------------------------------------------------------\n",
    "fcn_config = CocoConfig()\n",
    "# fcn_config.IMAGE_MAX_DIM        = 600\n",
    "# fcn_config.IMAGE_MIN_DIM        = 480      \n",
    "# mrcnn_config.COCO_DATASET_PATH  = COCO_DATASET_PATH \n",
    "# mrcnn_config.COCO_MODEL_PATH    = COCO_MODEL_PATH   \n",
    "# mrcnn_config.RESNET_MODEL_PATH  = RESNET_MODEL_PATH \n",
    "fcn_config.NAME                 = 'fcn'              \n",
    "fcn_config.TRAINING_PATH        = paths.FCN_TRAINING_PATH\n",
    "fcn_config.VGG16_MODEL_PATH     = paths.FCN_VGG16_MODEL_PATH\n",
    "fcn_config.FCN_INPUT_SHAPE      = mrcnn_config.IMAGE_SHAPE[0:2] // mrcnn_config.HEATMAP_SCALE_FACTOR \n",
    "\n",
    "fcn_config.BATCH_SIZE           = mrcnn_config.BATCH_SIZE                # Batch size is 2 (# GPUs * images/GPU).\n",
    "fcn_config.IMAGES_PER_GPU       = mrcnn_config.BATCH_SIZE                  # Must match BATCH_SIZE\n",
    "fcn_config.EPOCHS_TO_RUN        = 1\n",
    "fcn_config.STEPS_PER_EPOCH      = 4\n",
    "fcn_config.LAST_EPOCH_RAN       = 0\n",
    "\n",
    "fcn_config.LEARNING_RATE        = 0.0001 \n",
    "\n",
    "fcn_config.BATCH_MOMENTUM       = 0.9\n",
    "fcn_config.WEIGHT_DECAY         = 2.0e-4\n",
    "fcn_config.REDUCE_LR_FACTOR     = 0.5\n",
    "fcn_config.REDUCE_LR_COOLDOWN   = 5\n",
    "fcn_config.REDUCE_LR_PATIENCE   = 5\n",
    "fcn_config.EARLY_STOP_PATIENCE  = 15\n",
    "fcn_config.EARLY_STOP_MIN_DELTA = 1.0e-4\n",
    "fcn_config.MIN_LR               = 1.0e-10\n",
    " \n",
    "fcn_config.VALIDATION_STEPS     = 5\n",
    "fcn_config.REDUCE_LR_FACTOR     = 0.5\n",
    "fcn_config.REDUCE_LR_COOLDOWN   = 50\n",
    "fcn_config.REDUCE_LR_PATIENCE   = 33\n",
    "fcn_config.EARLY_STOP_PATIENCE  = 50\n",
    "fcn_config.EARLY_STOP_MIN_DELTA = 1.0e-6\n",
    "fcn_config.MIN_LR               = 1.0e-10\n",
    "fcn_config.NEW_LOG_FOLDER       = True  \n",
    "fcn_config.OPTIMIZER            = 'ADAGRAD'\n",
    "fcn_config.SYSOUT               = 'screen'\n",
    "\n",
    "# fcn_config.display()\n",
    "\n",
    "#### Build Model\n",
    "\n",
    "##------------------------------------------------------------------------------------\n",
    "## Build FCN Model in Training Mode\n",
    "##------------------------------------------------------------------------------------\n",
    "try :\n",
    "    del fcn_model\n",
    "    gc.collect()\n",
    "except: \n",
    "    pass    \n",
    "fcn_model = fcn_modellib.FCN(mode=\"training\", arch = 'FCN8', config=fcn_config)\n",
    "\n",
    "####  Display FCN model info\n",
    "\n",
    "# fcn_model.config.display()  \n",
    "fcn_model.layer_info()"
   ]
  },
  {
   "cell_type": "code",
   "execution_count": 15,
   "metadata": {
    "ExecuteTime": {
     "end_time": "2018-11-06T17:01:38.565118Z",
     "start_time": "2018-11-06T17:01:38.515568Z"
    }
   },
   "outputs": [
    {
     "name": "stdout",
     "output_type": "stream",
     "text": [
      "__________________________________________________________________________________________________\n",
      "Layer (type)                    Output Shape         Param #     Connected to                     \n",
      "==================================================================================================\n",
      "input_pr_hm_norm (InputLayer)   (None, 256, 256, 81) 0                                            \n",
      "__________________________________________________________________________________________________\n",
      "block1_conv1 (Conv2D)           (None, 256, 256, 64) 46720       input_pr_hm_norm[0][0]           \n",
      "__________________________________________________________________________________________________\n",
      "block1_conv2 (Conv2D)           (None, 256, 256, 64) 36928       block1_conv1[0][0]               \n",
      "__________________________________________________________________________________________________\n",
      "block1_pool (MaxPooling2D)      (None, 128, 128, 64) 0           block1_conv2[0][0]               \n",
      "__________________________________________________________________________________________________\n",
      "block2_conv1 (Conv2D)           (None, 128, 128, 128 73856       block1_pool[0][0]                \n",
      "__________________________________________________________________________________________________\n",
      "block2_conv2 (Conv2D)           (None, 128, 128, 128 147584      block2_conv1[0][0]               \n",
      "__________________________________________________________________________________________________\n",
      "block2_pool (MaxPooling2D)      (None, 64, 64, 128)  0           block2_conv2[0][0]               \n",
      "__________________________________________________________________________________________________\n",
      "block3_conv1 (Conv2D)           (None, 64, 64, 256)  295168      block2_pool[0][0]                \n",
      "__________________________________________________________________________________________________\n",
      "block3_conv2 (Conv2D)           (None, 64, 64, 256)  590080      block3_conv1[0][0]               \n",
      "__________________________________________________________________________________________________\n",
      "block3_conv3 (Conv2D)           (None, 64, 64, 256)  590080      block3_conv2[0][0]               \n",
      "__________________________________________________________________________________________________\n",
      "block3_pool (MaxPooling2D)      (None, 32, 32, 256)  0           block3_conv3[0][0]               \n",
      "__________________________________________________________________________________________________\n",
      "block4_conv1 (Conv2D)           (None, 32, 32, 512)  1180160     block3_pool[0][0]                \n",
      "__________________________________________________________________________________________________\n",
      "block4_conv2 (Conv2D)           (None, 32, 32, 512)  2359808     block4_conv1[0][0]               \n",
      "__________________________________________________________________________________________________\n",
      "block4_conv3 (Conv2D)           (None, 32, 32, 512)  2359808     block4_conv2[0][0]               \n",
      "__________________________________________________________________________________________________\n",
      "block4_pool (MaxPooling2D)      (None, 16, 16, 512)  0           block4_conv3[0][0]               \n",
      "__________________________________________________________________________________________________\n",
      "block5_conv1 (Conv2D)           (None, 16, 16, 512)  2359808     block4_pool[0][0]                \n",
      "__________________________________________________________________________________________________\n",
      "block5_conv2 (Conv2D)           (None, 16, 16, 512)  2359808     block5_conv1[0][0]               \n",
      "__________________________________________________________________________________________________\n",
      "block5_conv3 (Conv2D)           (None, 16, 16, 512)  2359808     block5_conv2[0][0]               \n",
      "__________________________________________________________________________________________________\n",
      "block5_pool (MaxPooling2D)      (None, 8, 8, 512)    0           block5_conv3[0][0]               \n",
      "__________________________________________________________________________________________________\n",
      "fcn32_fc1 (Conv2D)              (None, 8, 8, 4096)   102764544   block5_pool[0][0]                \n",
      "__________________________________________________________________________________________________\n",
      "dropout_1 (Dropout)             (None, 8, 8, 4096)   0           fcn32_fc1[0][0]                  \n",
      "__________________________________________________________________________________________________\n",
      "fcn32_fc2 (Conv2D)              (None, 8, 8, 4096)   16781312    dropout_1[0][0]                  \n",
      "__________________________________________________________________________________________________\n",
      "dropout_2 (Dropout)             (None, 8, 8, 4096)   0           fcn32_fc2[0][0]                  \n",
      "__________________________________________________________________________________________________\n",
      "fcn32_deconv2D (Conv2D)         (None, 8, 8, 81)     331857      dropout_2[0][0]                  \n",
      "__________________________________________________________________________________________________\n",
      "fcn16_score2 (Conv2DTranspose)  (None, 18, 18, 81)   105057      fcn32_deconv2D[0][0]             \n",
      "__________________________________________________________________________________________________\n",
      "fcn16_crop_score2 (Cropping2D)  (None, 16, 16, 81)   0           fcn16_score2[0][0]               \n",
      "__________________________________________________________________________________________________\n",
      "fcn16_score_pool4 (Conv2D)      (None, 16, 16, 81)   41553       block4_pool[0][0]                \n",
      "__________________________________________________________________________________________________\n",
      "fcn16_fuse_pool4 (Add)          (None, 16, 16, 81)   0           fcn16_crop_score2[0][0]          \n",
      "                                                                 fcn16_score_pool4[0][0]          \n",
      "__________________________________________________________________________________________________\n",
      "fcn16_upscore_pool4 (Conv2DTran (None, 32, 32, 81)   105057      fcn16_fuse_pool4[0][0]           \n",
      "__________________________________________________________________________________________________\n",
      "fcn8_crop_pool4 (Cropping2D)    (None, 32, 32, 81)   0           fcn16_upscore_pool4[0][0]        \n",
      "__________________________________________________________________________________________________\n",
      "fcn8_score_pool3 (Conv2D)       (None, 32, 32, 81)   20817       block3_pool[0][0]                \n",
      "__________________________________________________________________________________________________\n",
      "fcn8_fuse_pool3 (Add)           (None, 32, 32, 81)   0           fcn8_crop_pool4[0][0]            \n",
      "                                                                 fcn8_score_pool3[0][0]           \n",
      "__________________________________________________________________________________________________\n",
      "input_image_meta (InputLayer)   (None, None)         0                                            \n",
      "__________________________________________________________________________________________________\n",
      "fcn8_heatmap (Conv2DTranspose)  (None, 256, 256, 81) 1679697     fcn8_fuse_pool3[0][0]            \n",
      "__________________________________________________________________________________________________\n",
      "input_gt_hm_norm (InputLayer)   (None, 256, 256, 81) 0                                            \n",
      "__________________________________________________________________________________________________\n",
      "active_class_ids (Lambda)       [(None,), (None, Non 0           input_image_meta[0][0]           \n",
      "__________________________________________________________________________________________________\n",
      "fcn_heatmap_MSE_loss (Lambda)   (1, 1)               0           input_gt_hm_norm[0][0]           \n",
      "                                                                 fcn8_heatmap[0][0]               \n",
      "__________________________________________________________________________________________________\n",
      "fcn_heatmap_CE_loss (Lambda)    (1, 1)               0           input_gt_hm_norm[0][0]           \n",
      "                                                                 fcn8_heatmap[0][0]               \n",
      "                                                                 active_class_ids[0][3]           \n",
      "==================================================================================================\n",
      "Total params: 136,589,510\n",
      "Trainable params: 136,589,510\n",
      "Non-trainable params: 0\n",
      "__________________________________________________________________________________________________\n"
     ]
    }
   ],
   "source": [
    "fcn_model.keras_model.summary()"
   ]
  },
  {
   "cell_type": "markdown",
   "metadata": {},
   "source": [
    "## Load FMRCNN and FCN weights (FCN weights if not starting from init mode)"
   ]
  },
  {
   "cell_type": "markdown",
   "metadata": {},
   "source": [
    "#### MRCNN weights"
   ]
  },
  {
   "cell_type": "code",
   "execution_count": 3,
   "metadata": {
    "ExecuteTime": {
     "end_time": "2018-11-06T16:58:24.285099Z",
     "start_time": "2018-11-06T16:58:18.120888Z"
    },
    "scrolled": true
   },
   "outputs": [
    {
     "name": "stdout",
     "output_type": "stream",
     "text": [
      "-----------------------------------------------\n",
      " Load Model with init parm: [ last ]\n",
      "-----------------------------------------------\n",
      " ---> last\n",
      ">>> find_last checkpoint in :  /home/kbardool/models/train_mrcnn_coco\n",
      "    Dir starting with  mrcnn  : ['mrcnn20181105T1801', 'mrcnn20181105T1811', 'mrcnn20181105T1813', 'mrcnn20181011T1100']\n",
      "    find_last():   dir_name: /home/kbardool/models/train_mrcnn_coco/mrcnn20181011T1100\n",
      "    find_last(): checkpoint: /home/kbardool/models/train_mrcnn_coco/mrcnn20181011T1100/mrcnn_0103.h5\n",
      ">>> load_weights() from : /home/kbardool/models/train_mrcnn_coco/mrcnn20181011T1100/mrcnn_0103.h5\n",
      "layers type:  <class 'list'> length:  383\n",
      "    Weights file loaded: /home/kbardool/models/train_mrcnn_coco/mrcnn20181011T1100/mrcnn_0103.h5 \n",
      "==========================================\n",
      "MRCNN  MODEL Load weight file COMPLETE \n",
      "==========================================\n"
     ]
    }
   ],
   "source": [
    "# exclude=[\"mrcnn_class_logits\"] # ,\"mrcnn_bbox_fc\"]   #, \"mrcnn_bbox\", \"mrcnn_mask\"])\n",
    "mrcnn_model.load_model_weights(init_with = 'last', exclude = None)  "
   ]
  },
  {
   "cell_type": "markdown",
   "metadata": {},
   "source": [
    "#### Load FCN weights"
   ]
  },
  {
   "cell_type": "code",
   "execution_count": 4,
   "metadata": {
    "ExecuteTime": {
     "end_time": "2018-11-06T16:58:25.470036Z",
     "start_time": "2018-11-06T16:58:24.288159Z"
    }
   },
   "outputs": [
    {
     "name": "stdout",
     "output_type": "stream",
     "text": [
      "-----------------------------------------------\n",
      " Load Model with init parm: [ /home/kbardool/models/train_fcn8_coco/fcn20181031T0000/fcn_0051.h5 ]\n",
      "-----------------------------------------------\n",
      " ---> Explicit weight file\n",
      ">>> load_weights() from : /home/kbardool/models/train_fcn8_coco/fcn20181031T0000/fcn_0051.h5\n",
      "layers type:  <class 'list'> length:  38\n",
      "=====================================================================\n",
      " List Defined Model  and matching hd5 layers, if present       \n",
      "       Model Layer                     HD5 Layer \n",
      "=====================================================================\n",
      "    0  input_pr_hm_norm..............  1 \n",
      "    1  block1_conv1..................  1 \n",
      "    2  block1_conv2..................  1 \n",
      "    3  block1_pool...................  1 \n",
      "    4  block2_conv1..................  1 \n",
      "    5  block2_conv2..................  1 \n",
      "    6  block2_pool...................  1 \n",
      "    7  block3_conv1..................  1 \n",
      "    8  block3_conv2..................  1 \n",
      "    9  block3_conv3..................  1 \n",
      "   10  block3_pool...................  1 \n",
      "   11  block4_conv1..................  1 \n",
      "   12  block4_conv2..................  1 \n",
      "   13  block4_conv3..................  1 \n",
      "   14  block4_pool...................  1 \n",
      "   15  block5_conv1..................  1 \n",
      "   16  block5_conv2..................  1 \n",
      "   17  block5_conv3..................  1 \n",
      "   18  block5_pool...................  1 \n",
      "   19  fcn32_fc1.....................  1 \n",
      "   20  dropout_1.....................  1 \n",
      "   21  fcn32_fc2.....................  1 \n",
      "   22  dropout_2.....................  1 \n",
      "   23  fcn32_deconv2D................  1 \n",
      "   24  fcn16_score2..................  1 \n",
      "   25  fcn16_crop_score2.............  1 \n",
      "   26  fcn16_score_pool4.............  1 \n",
      "   27  fcn16_fuse_pool4..............  1 \n",
      "   28  fcn16_upscore_pool4...........  1 \n",
      "   29  fcn8_crop_pool4...............  1 \n",
      "   30  fcn8_score_pool3..............  1 \n",
      "   31  fcn8_fuse_pool3...............  1 \n",
      "   32  input_image_meta..............  !!! Not Found !!! \n",
      "   33  fcn8_heatmap..................  !!! Not Found !!! \n",
      "   34  input_gt_hm_norm..............  1 \n",
      "   35  active_class_ids..............  !!! Not Found !!! \n",
      "   36  fcn_heatmap_MSE_loss..........  !!! Not Found !!! \n",
      "   37  fcn_heatmap_CE_loss...........  !!! Not Found !!! \n",
      "=====================================================================\n",
      " List hd5 layers and matching layers from Defined Model, if present  \n",
      "       HDF5 Layer                      Model Layer\n",
      "=====================================================================\n",
      "    0  input_pr_hm_norm..............  input_pr_hm_norm \n",
      "    1  block1_conv1..................  block1_conv1 \n",
      "    2  block1_conv2..................  block1_conv2 \n",
      "    3  block1_pool...................  block1_pool \n",
      "    4  block2_conv1..................  block2_conv1 \n",
      "    5  block2_conv2..................  block2_conv2 \n",
      "    6  block2_pool...................  block2_pool \n",
      "    7  block3_conv1..................  block3_conv1 \n",
      "    8  block3_conv2..................  block3_conv2 \n",
      "    9  block3_conv3..................  block3_conv3 \n",
      "   10  block3_pool...................  block3_pool \n",
      "   11  block4_conv1..................  block4_conv1 \n",
      "   12  block4_conv2..................  block4_conv2 \n",
      "   13  block4_conv3..................  block4_conv3 \n",
      "   14  block4_pool...................  block4_pool \n",
      "   15  block5_conv1..................  block5_conv1 \n",
      "   16  block5_conv2..................  block5_conv2 \n",
      "   17  block5_conv3..................  block5_conv3 \n",
      "   18  block5_pool...................  block5_pool \n",
      "   19  fcn32_fc1.....................  fcn32_fc1 \n",
      "   20  dropout_1.....................  dropout_1 \n",
      "   21  fcn32_fc2.....................  fcn32_fc2 \n",
      "   22  dropout_2.....................  dropout_2 \n",
      "   23  fcn32_deconv2D................  fcn32_deconv2D \n",
      "   24  fcn16_score2..................  fcn16_score2 \n",
      "   25  fcn16_crop_score2.............  fcn16_crop_score2 \n",
      "   26  fcn16_score_pool4.............  fcn16_score_pool4 \n",
      "   27  fcn16_fuse_pool4..............  fcn16_fuse_pool4 \n",
      "   28  fcn16_upscore_pool4...........  fcn16_upscore_pool4 \n",
      "   29  fcn8_crop_pool4...............  fcn8_crop_pool4 \n",
      "   30  fcn8_score_pool3..............  fcn8_score_pool3 \n",
      "   31  fcn8_fuse_pool3...............  fcn8_fuse_pool3 \n",
      "   32  fcn_heatmap...................  !!! NotFound !!! \n",
      "   33  input_gt_hm_norm..............  input_gt_hm_norm \n",
      "   34  fcn_heatmap_loss..............  !!! NotFound !!! \n",
      "=====================================================================\n",
      " Weight Matchup between model and HDF5 weights \n",
      "=====================================================================\n",
      "\n",
      "  0 input_pr_hm_norm          Model Layer Name/Type : [['input_pr_hm_norm', 'InputLayer']] \n",
      "\n",
      "  1 block1_conv1              Model Layer Name/Type : [['block1_conv1', 'Conv2D']] \n",
      "    0 block1_conv1/kernel:0                hdf5 Weights: (3, 3, 81, 64)  \t\t Symbolic Wghts: (3, 3, 81, 64)   \n",
      "    1 block1_conv1/bias:0                  hdf5 Weights: (64,)  \t\t Symbolic Wghts: (64,)   \n",
      "\n",
      "  2 block1_conv2              Model Layer Name/Type : [['block1_conv2', 'Conv2D']] \n",
      "    0 block1_conv2/kernel:0                hdf5 Weights: (3, 3, 64, 64)  \t\t Symbolic Wghts: (3, 3, 64, 64)   \n",
      "    1 block1_conv2/bias:0                  hdf5 Weights: (64,)  \t\t Symbolic Wghts: (64,)   \n",
      "\n",
      "  3 block1_pool               Model Layer Name/Type : [['block1_pool', 'MaxPooling2D']] \n",
      "\n",
      "  4 block2_conv1              Model Layer Name/Type : [['block2_conv1', 'Conv2D']] \n",
      "    0 block2_conv1/kernel:0                hdf5 Weights: (3, 3, 64, 128)  \t\t Symbolic Wghts: (3, 3, 64, 128)   \n",
      "    1 block2_conv1/bias:0                  hdf5 Weights: (128,)  \t\t Symbolic Wghts: (128,)   \n",
      "\n",
      "  5 block2_conv2              Model Layer Name/Type : [['block2_conv2', 'Conv2D']] \n",
      "    0 block2_conv2/kernel:0                hdf5 Weights: (3, 3, 128, 128)  \t\t Symbolic Wghts: (3, 3, 128, 128)   \n",
      "    1 block2_conv2/bias:0                  hdf5 Weights: (128,)  \t\t Symbolic Wghts: (128,)   \n",
      "\n",
      "  6 block2_pool               Model Layer Name/Type : [['block2_pool', 'MaxPooling2D']] \n",
      "\n",
      "  7 block3_conv1              Model Layer Name/Type : [['block3_conv1', 'Conv2D']] \n",
      "    0 block3_conv1/kernel:0                hdf5 Weights: (3, 3, 128, 256)  \t\t Symbolic Wghts: (3, 3, 128, 256)   \n",
      "    1 block3_conv1/bias:0                  hdf5 Weights: (256,)  \t\t Symbolic Wghts: (256,)   \n",
      "\n",
      "  8 block3_conv2              Model Layer Name/Type : [['block3_conv2', 'Conv2D']] \n",
      "    0 block3_conv2/kernel:0                hdf5 Weights: (3, 3, 256, 256)  \t\t Symbolic Wghts: (3, 3, 256, 256)   \n",
      "    1 block3_conv2/bias:0                  hdf5 Weights: (256,)  \t\t Symbolic Wghts: (256,)   \n",
      "\n",
      "  9 block3_conv3              Model Layer Name/Type : [['block3_conv3', 'Conv2D']] \n",
      "    0 block3_conv3/kernel:0                hdf5 Weights: (3, 3, 256, 256)  \t\t Symbolic Wghts: (3, 3, 256, 256)   \n",
      "    1 block3_conv3/bias:0                  hdf5 Weights: (256,)  \t\t Symbolic Wghts: (256,)   \n",
      "\n",
      " 10 block3_pool               Model Layer Name/Type : [['block3_pool', 'MaxPooling2D']] \n",
      "\n",
      " 11 block4_conv1              Model Layer Name/Type : [['block4_conv1', 'Conv2D']] \n",
      "    0 block4_conv1/kernel:0                hdf5 Weights: (3, 3, 256, 512)  \t\t Symbolic Wghts: (3, 3, 256, 512)   \n",
      "    1 block4_conv1/bias:0                  hdf5 Weights: (512,)  \t\t Symbolic Wghts: (512,)   \n",
      "\n",
      " 12 block4_conv2              Model Layer Name/Type : [['block4_conv2', 'Conv2D']] \n",
      "    0 block4_conv2/kernel:0                hdf5 Weights: (3, 3, 512, 512)  \t\t Symbolic Wghts: (3, 3, 512, 512)   \n",
      "    1 block4_conv2/bias:0                  hdf5 Weights: (512,)  \t\t Symbolic Wghts: (512,)   \n",
      "\n",
      " 13 block4_conv3              Model Layer Name/Type : [['block4_conv3', 'Conv2D']] \n",
      "    0 block4_conv3/kernel:0                hdf5 Weights: (3, 3, 512, 512)  \t\t Symbolic Wghts: (3, 3, 512, 512)   \n",
      "    1 block4_conv3/bias:0                  hdf5 Weights: (512,)  \t\t Symbolic Wghts: (512,)   \n",
      "\n",
      " 14 block4_pool               Model Layer Name/Type : [['block4_pool', 'MaxPooling2D']] \n",
      "\n",
      " 15 block5_conv1              Model Layer Name/Type : [['block5_conv1', 'Conv2D']] \n",
      "    0 block5_conv1/kernel:0                hdf5 Weights: (3, 3, 512, 512)  \t\t Symbolic Wghts: (3, 3, 512, 512)   \n",
      "    1 block5_conv1/bias:0                  hdf5 Weights: (512,)  \t\t Symbolic Wghts: (512,)   \n",
      "\n",
      " 16 block5_conv2              Model Layer Name/Type : [['block5_conv2', 'Conv2D']] \n",
      "    0 block5_conv2/kernel:0                hdf5 Weights: (3, 3, 512, 512)  \t\t Symbolic Wghts: (3, 3, 512, 512)   \n",
      "    1 block5_conv2/bias:0                  hdf5 Weights: (512,)  \t\t Symbolic Wghts: (512,)   \n",
      "\n",
      " 17 block5_conv3              Model Layer Name/Type : [['block5_conv3', 'Conv2D']] \n",
      "    0 block5_conv3/kernel:0                hdf5 Weights: (3, 3, 512, 512)  \t\t Symbolic Wghts: (3, 3, 512, 512)   \n",
      "    1 block5_conv3/bias:0                  hdf5 Weights: (512,)  \t\t Symbolic Wghts: (512,)   \n",
      "\n",
      " 18 block5_pool               Model Layer Name/Type : [['block5_pool', 'MaxPooling2D']] \n",
      "\n",
      " 19 fcn32_fc1                 Model Layer Name/Type : [['fcn32_fc1', 'Conv2D']] \n",
      "    0 fcn32_fc1/kernel:0                   hdf5 Weights: (7, 7, 512, 4096)  \t\t Symbolic Wghts: (7, 7, 512, 4096)   \n",
      "    1 fcn32_fc1/bias:0                     hdf5 Weights: (4096,)  \t\t Symbolic Wghts: (4096,)   \n",
      "\n",
      " 20 dropout_1                 Model Layer Name/Type : [['dropout_1', 'Dropout']] \n"
     ]
    },
    {
     "name": "stdout",
     "output_type": "stream",
     "text": [
      "\n",
      " 21 fcn32_fc2                 Model Layer Name/Type : [['fcn32_fc2', 'Conv2D']] \n",
      "    0 fcn32_fc2/kernel:0                   hdf5 Weights: (1, 1, 4096, 4096)  \t\t Symbolic Wghts: (1, 1, 4096, 4096)   \n",
      "    1 fcn32_fc2/bias:0                     hdf5 Weights: (4096,)  \t\t Symbolic Wghts: (4096,)   \n",
      "\n",
      " 22 dropout_2                 Model Layer Name/Type : [['dropout_2', 'Dropout']] \n",
      "\n",
      " 23 fcn32_deconv2D            Model Layer Name/Type : [['fcn32_deconv2D', 'Conv2D']] \n",
      "    0 fcn32_deconv2D/kernel:0              hdf5 Weights: (1, 1, 4096, 81)  \t\t Symbolic Wghts: (1, 1, 4096, 81)   \n",
      "    1 fcn32_deconv2D/bias:0                hdf5 Weights: (81,)  \t\t Symbolic Wghts: (81,)   \n",
      "\n",
      " 24 fcn16_score2              Model Layer Name/Type : [['fcn16_score2', 'Conv2DTranspose']] \n",
      "    0 fcn16_score2/kernel:0                hdf5 Weights: (4, 4, 81, 81)  \t\t Symbolic Wghts: (4, 4, 81, 81)   \n",
      "    1 fcn16_score2/bias:0                  hdf5 Weights: (81,)  \t\t Symbolic Wghts: (81,)   \n",
      "\n",
      " 25 fcn16_crop_score2         Model Layer Name/Type : [['fcn16_crop_score2', 'Cropping2D']] \n",
      "\n",
      " 26 fcn16_score_pool4         Model Layer Name/Type : [['fcn16_score_pool4', 'Conv2D']] \n",
      "    0 fcn16_score_pool4/kernel:0           hdf5 Weights: (1, 1, 512, 81)  \t\t Symbolic Wghts: (1, 1, 512, 81)   \n",
      "    1 fcn16_score_pool4/bias:0             hdf5 Weights: (81,)  \t\t Symbolic Wghts: (81,)   \n",
      "\n",
      " 27 fcn16_fuse_pool4          Model Layer Name/Type : [['fcn16_fuse_pool4', 'Add']] \n",
      "\n",
      " 28 fcn16_upscore_pool4       Model Layer Name/Type : [['fcn16_upscore_pool4', 'Conv2DTranspose']] \n",
      "    0 fcn16_upscore_pool4/kernel:0         hdf5 Weights: (4, 4, 81, 81)  \t\t Symbolic Wghts: (4, 4, 81, 81)   \n",
      "    1 fcn16_upscore_pool4/bias:0           hdf5 Weights: (81,)  \t\t Symbolic Wghts: (81,)   \n",
      "\n",
      " 29 fcn8_crop_pool4           Model Layer Name/Type : [['fcn8_crop_pool4', 'Cropping2D']] \n",
      "\n",
      " 30 fcn8_score_pool3          Model Layer Name/Type : [['fcn8_score_pool3', 'Conv2D']] \n",
      "    0 fcn8_score_pool3/kernel:0            hdf5 Weights: (1, 1, 256, 81)  \t\t Symbolic Wghts: (1, 1, 256, 81)   \n",
      "    1 fcn8_score_pool3/bias:0              hdf5 Weights: (81,)  \t\t Symbolic Wghts: (81,)   \n",
      "\n",
      " 31 fcn8_fuse_pool3           Model Layer Name/Type : [['fcn8_fuse_pool3', 'Add']] \n",
      "\n",
      " 32 fcn_heatmap               *** No corresponding layers found in model ***\n",
      "    HDF5 Weights  : ['fcn_heatmap/kernel:0', 'fcn_heatmap/bias:0'] \n",
      "\n",
      "    0 fcn_heatmap/kernel:0                 hdf5 Weights: (16, 16, 81, 81)\n",
      "    1 fcn_heatmap/bias:0                   hdf5 Weights: (81,)\n",
      "\n",
      " 33 input_gt_hm_norm          Model Layer Name/Type : [['input_gt_hm_norm', 'InputLayer']] \n",
      "\n",
      " 34 fcn_heatmap_loss          *** No corresponding layers found in model ***\n",
      "    HDF5 Weights  : [] \n",
      "\n",
      "    Weights file loaded: /home/kbardool/models/train_fcn8_coco/fcn20181031T0000/fcn_0051.h5 \n",
      "==========================================\n",
      "FCN  MODEL Load weight file COMPLETE \n",
      "==========================================\n"
     ]
    }
   ],
   "source": [
    "##------------------------------------------------------------------------------------\n",
    "## Load FCN Model weights  \n",
    "##------------------------------------------------------------------------------------\n",
    "WEIGHTS_PATH = '/home/kbardool/models/train_fcn8_coco/fcn20181031T0000/fcn_0051.h5' \n",
    "# fcn_model.load_model_weights(init_with ='last')\n",
    "fcn_model.load_model_weights(init_with = WEIGHTS_PATH, verbose =2)"
   ]
  },
  {
   "cell_type": "markdown",
   "metadata": {},
   "source": [
    "## Load Training Files and Display Images\n",
    "\n",
    "    train:\n",
    "     image_ids[:10]       :  [262145, 262146, 524291, 131074, 393221, 131075, 393223, 393224, 524297, 9]\n",
    "     image_ids[1000:1010] :  [1451, 132523, 1453, 132527, 263599, 132529, 132528, 263603, 263604, 132533]\n",
    "    val:\n",
    "     image_ids[:10]       :  [262148, 393225, 131089, 262161, 262162, 393243, 262175, 131108, 393254, 42]\n",
    "     image_ids[1000:1010] :  [134290, 527506, 527504, 134288, 527510, 265372, 265374, 265378, 527529, 3244]    "
   ]
  },
  {
   "cell_type": "code",
   "execution_count": 5,
   "metadata": {
    "ExecuteTime": {
     "end_time": "2018-11-06T16:58:52.947588Z",
     "start_time": "2018-11-06T16:58:25.473024Z"
    },
    "hideCode": false,
    "hideOutput": true,
    "hidePrompt": false,
    "scrolled": true
   },
   "outputs": [
    {
     "name": "stdout",
     "output_type": "stream",
     "text": [
      "loading annotations into memory...\n",
      "Done (t=12.09s)\n",
      "creating index...\n",
      "index created!\n",
      " image dir            :  /home/kbardool/MLDatasets/coco2014/train2014\n",
      " json_path_dir        :  /home/kbardool/MLDatasets/coco2014/annotations/instances_train2014.json\n",
      " number of images     :  82081\n",
      " image_ids[:10]       :  [262145, 262146, 524291, 131074, 393221, 131075, 393223, 393224, 524297, 9]\n",
      " image_ids[1000:1010] :  [1451, 132523, 1453, 132527, 263599, 132529, 132528, 263603, 263604, 132533]\n",
      "loading annotations into memory...\n",
      "Done (t=6.37s)\n",
      "creating index...\n",
      "index created!\n",
      " image dir            :  /home/kbardool/MLDatasets/coco2014/val2014\n",
      " json_path_dir        :  /home/kbardool/MLDatasets/coco2014/annotations/instances_valminusminival2014.json\n",
      " number of images     :  35185\n",
      " image_ids[:10]       :  [262148, 393225, 131089, 262161, 262162, 393243, 262175, 131108, 393254, 42]\n",
      " image_ids[1000:1010] :  [134290, 527506, 527504, 134288, 527510, 265372, 265374, 265378, 527529, 3244]\n"
     ]
    }
   ],
   "source": [
    "dataset_train, train_generator  = prep_coco_dataset(['train','val35k'], mrcnn_config, generator = True)\n",
    "# dataset_val, val_generator      = prep_coco_dataset(['minival'], mrcnn_config, generator = True) \n",
    "class_names = dataset_train.class_names"
   ]
  },
  {
   "cell_type": "code",
   "execution_count": 6,
   "metadata": {
    "ExecuteTime": {
     "end_time": "2018-11-06T16:58:53.420981Z",
     "start_time": "2018-11-06T16:58:52.950037Z"
    },
    "hideCode": false,
    "hideOutput": true,
    "hidePrompt": false
   },
   "outputs": [],
   "source": [
    "train_batch_x, train_batch_y = next(train_generator)"
   ]
  },
  {
   "cell_type": "code",
   "execution_count": 7,
   "metadata": {
    "ExecuteTime": {
     "end_time": "2018-11-06T16:58:54.296685Z",
     "start_time": "2018-11-06T16:58:53.423623Z"
    },
    "hideCode": false,
    "hidePrompt": false,
    "scrolled": false
   },
   "outputs": [
    {
     "name": "stdout",
     "output_type": "stream",
     "text": [
      "Image id:  84243\n",
      "Image meta [84243   480   640     3   128     0   896  1024     1     1]\n"
     ]
    },
    {
     "data": {
      "image/png": "[encoded data removed]",
      "text/plain": [
       "<matplotlib.figure.Figure at 0x7f42232398d0>"
      ]
     },
     "metadata": {},
     "output_type": "display_data"
    },
    {
     "data": {
      "image/png": "[encoded data removed]",
      "text/plain": [
       "<matplotlib.figure.Figure at 0x7f42232a6978>"
      ]
     },
     "metadata": {},
     "output_type": "display_data"
    }
   ],
   "source": [
    "imgmeta_idx = mrcnn_model.keras_model.input_names.index('input_image_meta')\n",
    "img_meta    = train_batch_x[imgmeta_idx]\n",
    "\n",
    "for img_idx in range(mrcnn_config.BATCH_SIZE):\n",
    "    image_id = img_meta[img_idx,0]\n",
    "    image = dataset_train.load_image(image_id)\n",
    "    mask, class_ids = dataset_train.load_mask(image_id)\n",
    "    bbox = utils.extract_bboxes(mask)\n",
    "    print('Image id: ',image_id)\n",
    "    print('Image meta', img_meta[img_idx,:10])\n",
    "#     print('Classes (1: circle, 2: square, 3: triangle ): ',class_ids)\n",
    "    visualize.display_top_masks(image, mask, class_ids, dataset_train.class_names)\n",
    "    visualize.display_instances_with_mask(image, bbox, mask, class_ids, dataset_train.class_names, figsize =(8,8))  "
   ]
  },
  {
   "cell_type": "markdown",
   "metadata": {},
   "source": [
    "#### Load a specific image using image_id"
   ]
  },
  {
   "cell_type": "code",
   "execution_count": 8,
   "metadata": {
    "ExecuteTime": {
     "end_time": "2018-11-06T16:59:06.195831Z",
     "start_time": "2018-11-06T16:59:03.794579Z"
    },
    "hideCode": false,
    "hidePrompt": false,
    "scrolled": false
   },
   "outputs": [
    {
     "name": "stdout",
     "output_type": "stream",
     "text": [
      " batch size is : 1\n",
      " load image ud:  43168\n"
     ]
    },
    {
     "name": "stderr",
     "output_type": "stream",
     "text": [
      "/home/kbardool/anaconda3/envs/TFG/lib/python3.5/site-packages/scipy/ndimage/interpolation.py:616: UserWarning: From scipy 0.13.0, the output shape of zoom() is calculated with round() instead of int() - for these inputs the size of the returned array has changed.\n",
      "  \"the returned array has changed.\", UserWarning)\n"
     ]
    },
    {
     "name": "stdout",
     "output_type": "stream",
     "text": [
      " Image meta  :  [43168   473   640     3   133     0   890  1024     1     1]\n",
      " Classes     :  [57  9  9 26 26 26 26 26 60 14 14 26 26 26 26 26 26 26 57 57 57 57 57 57 60 60 60 60 60 60]\n",
      " Image_id    :  43168  Reference:  http://cocodataset.org/#explore?id=193808\n",
      " Class_ids.shape[0]: 30 bbox.shape[0]: 30\n",
      " Class Names :  ['chair', 'boat', 'boat', 'umbrella', 'umbrella', 'umbrella', 'umbrella', 'umbrella', 'bed', 'bench', 'bench', 'umbrella', 'umbrella', 'umbrella', 'umbrella', 'umbrella', 'umbrella', 'umbrella', 'chair', 'chair', 'chair', 'chair', 'chair', 'chair', 'bed', 'bed', 'bed', 'bed', 'bed', 'bed']\n"
     ]
    },
    {
     "data": {
      "image/png": "[encoded data removed]",
      "text/plain": [
       "<matplotlib.figure.Figure at 0x7f42233e2240>"
      ]
     },
     "metadata": {},
     "output_type": "display_data"
    },
    {
     "data": {
      "image/png": "[encoded data removed]",
      "text/plain": [
       "<matplotlib.figure.Figure at 0x7f42234e48d0>"
      ]
     },
     "metadata": {},
     "output_type": "display_data"
    }
   ],
   "source": [
    "## 62642 (persons),   68539 (trucks) 36466 (surfers)  75040 (boat and persons)\n",
    "## 36466 surfers. 5498 basketbal players, 27711,30531\n",
    "## 5498 lots of motorcylces & persons - \n",
    "## Persons: #26026, #7719, 111864, 58240,  \n",
    "## 35347 - laptops, keyboards and cat\n",
    "## items = [59199 , 102868]\n",
    "## 101623 (cake and forks), 41423 (elephant & people)\n",
    "## 33477 Table, bowl, cup, sandwich, knife\n",
    "## 26763 Table, chair, cup , bowl, bottle\n",
    "## 49316 Table, book, backpack, many bottles\n",
    "## 12902 Car , truck and traffic light tree\n",
    "## 57327 person and horses\n",
    "# IMAGE_LIST = [75040] \n",
    "# IMAGE_LIST = [89243]\n",
    "# IMAGE_LIST = [33477]\n",
    "# IMAGE_LIST = [29731]\n",
    "# IMAGE_LIST = [26763]\n",
    "# IMAGE_LIST = [89243]  ## 89243: Person, bicylce and traiffic lights\n",
    "IMAGE_LIST = [43168]   ## 43168 Multiple umbrella, chairs, beds\n",
    "train_batch_x, train_batch_y = test_batch_x, test_batch_y = data_gen_simulate(dataset_train, mrcnn_config, IMAGE_LIST)\n",
    "imgmeta_idx = mrcnn_model.keras_model.input_names.index('input_image_meta')\n",
    "img_meta    = train_batch_x[imgmeta_idx]\n",
    "\n",
    "for img_idx in range(mrcnn_config.BATCH_SIZE):\n",
    "    image_id = img_meta[img_idx,0]\n",
    "    image = dataset_train.load_image(image_id)\n",
    "    mask, class_ids = dataset_train.load_mask(image_id)\n",
    "    bbox = utils.extract_bboxes(mask)\n",
    "    class_names = [str(dataset_train.class_names[class_id]) for class_id in class_ids]    \n",
    "    print(' Image meta  : ', img_meta[img_idx,:10])\n",
    "    print(' Classes     : ', class_ids)\n",
    "    print(\" Image_id    : \", image_id, ' Reference: ', dataset_train.image_reference(image_id))\n",
    "    print(' Class_ids.shape[0]:', class_ids.shape[0], 'bbox.shape[0]:',bbox.shape[0])       \n",
    "    print(' Class Names : ', class_names)\n",
    "    \n",
    "    visualize.display_top_masks(image, mask, class_ids, dataset_train.class_names)   \n",
    "    # Display image and instances\n",
    "    visualize.display_instances_with_mask(image, bbox, mask, class_ids, dataset_train.class_names, figsize =(8,8))    "
   ]
  },
  {
   "cell_type": "markdown",
   "metadata": {},
   "source": [
    "##  Pass data thru MRCNN model"
   ]
  },
  {
   "cell_type": "code",
   "execution_count": 9,
   "metadata": {
    "ExecuteTime": {
     "end_time": "2018-11-06T16:59:11.596052Z",
     "start_time": "2018-11-06T16:59:11.543877Z"
    },
    "hideCode": false,
    "hideOutput": true,
    "hidePrompt": false,
    "scrolled": true
   },
   "outputs": [
    {
     "name": "stdout",
     "output_type": "stream",
     "text": [
      "\n",
      "\n",
      " Inputs:\n",
      " -------\n",
      " index:  0    input name : input_image:0                              Type: float32           Shape: (?, 1024, 1024, 3)\n",
      " index:  1    input name : input_image_meta:0                         Type: float32           Shape: (?, ?)\n",
      " index:  2    input name : input_rpn_match:0                          Type: int32             Shape: (?, ?, 1)\n",
      " index:  3    input name : input_rpn_bbox:0                           Type: float32           Shape: (?, ?, 4)\n",
      " index:  4    input name : input_gt_class_ids:0                       Type: int32             Shape: (?, ?)\n",
      " index:  5    input name : input_gt_boxes:0                           Type: float32           Shape: (?, ?, 4)\n",
      "\n",
      "\n",
      " Outputs:\n",
      " --------\n",
      " layer:  0    output name: cntxt_layer/pred_heatmap_norm:0            Type: float32           Shape: (1, 256, 256, 81)\n",
      " layer:  1    output name: cntxt_layer/pred_heatmap_scores:0          Type: float32           Shape: (1, 81, 200, 11)\n",
      " layer:  2    output name: cntxt_layer_gt/gt_heatmap:0                Type: float32           Shape: (1, 256, 256, 81)\n",
      " layer:  3    output name: cntxt_layer_gt/gt_heatmap_scores:0         Type: float32           Shape: (1, 81, 200, 11)\n",
      " layer:  4    output name: proposal_targets/target_class_ids:0        Type: int32             Shape: (1, ?)\n",
      " layer:  5    output name: mrcnn_class_logits/Reshape_1:0             Type: float32           Shape: (?, 200, 81)\n",
      " layer:  6    output name: lambda_3/strided_slice_3:0                 Type: float32           Shape: (?, ?)\n",
      "\n",
      "\n",
      " Inputs:\n",
      " -------\n",
      " index:  0    input name : input_image_meta_1:0                       Type: float32           Shape: (?, ?)\n",
      " index:  1    input name : input_pr_hm_norm:0                         Type: float32           Shape: (?, 256, 256, 81)\n",
      " index:  2    input name : input_pr_hm_scores:0                       Type: float32           Shape: (?, 81, 200, 11)\n",
      " index:  3    input name : input_gt_hm_norm:0                         Type: float32           Shape: (?, 256, 256, 81)\n",
      " index:  4    input name : input_gt_hm_scores:0                       Type: float32           Shape: (?, 81, 200, 11)\n",
      "\n",
      "\n",
      " Outputs:\n",
      " --------\n",
      " layer:  0    output name: fcn8_heatmap/BiasAdd:0                     Type: float32           Shape: (?, ?, ?, 81)\n",
      " layer:  1    output name: fcn_heatmap_MSE_loss/fcn_MSE_loss:0        Type: float32           Shape: (1, 1)\n",
      " layer:  2    output name: fcn_heatmap_CE_loss/fcn_CE_loss:0          Type: float32           Shape: (1, 1)\n"
     ]
    }
   ],
   "source": [
    "mrcnn_model.layer_info()\n",
    "fcn_model.layer_info()"
   ]
  },
  {
   "cell_type": "code",
   "execution_count": 10,
   "metadata": {
    "ExecuteTime": {
     "end_time": "2018-11-06T16:59:17.888628Z",
     "start_time": "2018-11-06T16:59:11.753047Z"
    },
    "hideCode": false,
    "hidePrompt": false,
    "scrolled": true
   },
   "outputs": [
    {
     "name": "stdout",
     "output_type": "stream",
     "text": [
      "/* Inputs */\n",
      "Input  0:  (input_image:0                           ) \t  Input shape: (1, 1024, 1024, 3)\n",
      "Input  1:  (input_image_meta:0                      ) \t  Input shape: (1, 89)\n",
      "Input  2:  (input_rpn_match:0                       ) \t  Input shape: (1, 261888, 1)\n",
      "Input  3:  (input_rpn_bbox:0                        ) \t  Input shape: (1, 256, 4)\n",
      "Input  4:  (input_gt_class_ids:0                    ) \t  Input shape: (1, 100)\n",
      "Input  5:  (input_gt_boxes:0                        ) \t  Input shape: (1, 100, 4)\n",
      "\n",
      "/* Outputs */\n",
      "Output idx:  0    Layer:  0: (cntxt_layer/pred_heatmap_norm:0         ) \t  Output shape: (1, 256, 256, 81)\n",
      "Output idx:  1    Layer:  1: (cntxt_layer/pred_heatmap_scores:0       ) \t  Output shape: (1, 81, 200, 11)\n",
      "Output idx:  2    Layer:  2: (cntxt_layer_gt/gt_heatmap:0             ) \t  Output shape: (1, 256, 256, 81)\n",
      "Output idx:  3    Layer:  3: (cntxt_layer_gt/gt_heatmap_scores:0      ) \t  Output shape: (1, 81, 200, 11)\n",
      "\n",
      "Number of layers generated:  4 \n",
      "\n",
      "pred_heatmap_norm         = model_output[0]          # layer:  0   shape: (1, 256, 256, 81)\n",
      "pred_heatmap_scores       = model_output[1]          # layer:  1   shape: (1, 81, 200, 11)\n",
      "gt_heatmap                = model_output[2]          # layer:  2   shape: (1, 256, 256, 81)\n",
      "gt_heatmap_scores         = model_output[3]          # layer:  3   shape: (1, 81, 200, 11)\n"
     ]
    }
   ],
   "source": [
    "# model_output = get_layer_output_2(model.keras_model, train_batch_x, 1)\n",
    "model_output = get_layer_output_1(mrcnn_model.keras_model, train_batch_x, [0,1,2,3], 1)\n"
   ]
  },
  {
   "cell_type": "markdown",
   "metadata": {
    "ExecuteTime": {
     "end_time": "2018-05-22T09:45:41.936636Z",
     "start_time": "2018-05-22T09:45:41.682963Z"
    }
   },
   "source": [
    "#### Load input/output data"
   ]
  },
  {
   "cell_type": "code",
   "execution_count": 11,
   "metadata": {
    "ExecuteTime": {
     "end_time": "2018-11-06T16:59:17.986011Z",
     "start_time": "2018-11-06T16:59:17.891500Z"
    },
    "hideCode": false,
    "hidePrompt": false,
    "scrolled": true
   },
   "outputs": [
    {
     "name": "stdout",
     "output_type": "stream",
     "text": [
      "4\n",
      "(1, 256, 256, 81)\n",
      "(1, 81, 200, 11)\n",
      "(1, 256, 256, 81)\n",
      "(1, 81, 200, 11)\n",
      "(1, 1024, 1024, 3)\n",
      "(1, 89)\n",
      "(1, 261888, 1)\n",
      "(1, 256, 4)\n",
      "(1, 100)\n",
      "(1, 100, 4)\n",
      "(1, 89)\n",
      "[[43168   473   640     3   133     0   890  1024     1     1     1     1     1     1     1     1\n",
      "      1     1     1     1     1     1     1     1     1     1     1     1     1     1     1     1\n",
      "      1     1     1     1     1     1     1     1     1     1     1     1     1     1     1     1\n",
      "      1     1     1     1     1     1     1     1     1     1     1     1     1     1     1     1\n",
      "      1     1     1     1     1     1     1     1     1     1     1     1     1     1     1     1\n",
      "      1     1     1     1     1     1     1     1     1]]\n"
     ]
    }
   ],
   "source": [
    "print(len(model_output))\n",
    "# del pred_heatmap_norm, pred_heatmap_scores, gt_heatmap, gt_heatmap_scores\n",
    "model_pred_heatmap_norm         = model_output[0]          # layer:  0   shape: (1, 256, 256, 81)\n",
    "model_pred_heatmap_scores       = model_output[1]          # layer:  1   shape: (1, 81, 200, 11)\n",
    "model_gt_heatmap                = model_output[2]          # layer:  2   shape: (1, 256, 256, 81)\n",
    "model_gt_heatmap_scores         = model_output[3]          # layer:  3   shape: (1, 81, 200, 11)\n",
    "\n",
    "for i in model_output:\n",
    "    print( i.shape)\n",
    "\n",
    "#### Load input data\n",
    "\n",
    "for i in range(len(train_batch_x)):\n",
    "    print( train_batch_x[i].shape)\n",
    "# input_image      =  train_batch_x[0]\n",
    "input_image_meta =  train_batch_x[1]\n",
    "# input_rpn_match  =  train_batch_x[2]\n",
    "# input_rpn_bbox   =  train_batch_x[3]\n",
    "# input_gt_class_ids = train_batch_x[4]\n",
    "# input_gt_bboxes    = train_batch_x[5]\n",
    "# input_gt_masks     = train_batch_x[6]\n",
    "# print(' Input image shape is :', input_image.shape)\n",
    "# h, w = input_image.shape[1], input_image.shape[2]      #  tf.shape(input_image)[1], tf.shape(input_image)[2]\n",
    "# input_normlzd_gt_bboxes = tf.identity(input_gt_bboxes / [h,w,h,w])\n",
    "\n",
    "# gt_masks   =  train_batch_x[6]\n",
    "# print(' input_rpn_match    ', input_rpn_match.shape)\n",
    "# print(' input_rpn_bbox     ', input_rpn_bbox.shape)\n",
    "# print(' input_gt_class_ids ', input_gt_class_ids.shape)\n",
    "# print(' input_gt_bboxes    ', input_gt_bboxes.shape)\n",
    "# print(' input_normlzd_gt_bboxes    ', input_normlzd_gt_bboxes.shape)\n",
    "print(input_image_meta.shape)\n",
    "print(input_image_meta)"
   ]
  },
  {
   "cell_type": "markdown",
   "metadata": {},
   "source": [
    "## Pass data through FCN Model"
   ]
  },
  {
   "cell_type": "code",
   "execution_count": 12,
   "metadata": {
    "ExecuteTime": {
     "end_time": "2018-11-06T16:59:18.682910Z",
     "start_time": "2018-11-06T16:59:17.991182Z"
    }
   },
   "outputs": [
    {
     "name": "stdout",
     "output_type": "stream",
     "text": [
      "(1, 89)\n",
      "(1, 256, 256, 81)\n",
      "(1, 81, 200, 11)\n",
      "(1, 256, 256, 81)\n",
      "(1, 81, 200, 11)\n",
      "/* Inputs */\n",
      "Input  0:  (input_image_meta_1:0                    ) \t  Input shape: (1, 89)\n",
      "Input  1:  (input_pr_hm_norm:0                      ) \t  Input shape: (1, 256, 256, 81)\n",
      "Input  2:  (input_pr_hm_scores:0                    ) \t  Input shape: (1, 81, 200, 11)\n",
      "Input  3:  (input_gt_hm_norm:0                      ) \t  Input shape: (1, 256, 256, 81)\n",
      "Input  4:  (input_gt_hm_scores:0                    ) \t  Input shape: (1, 81, 200, 11)\n",
      "\n",
      "/* Outputs */\n",
      "Output idx:  0    Layer:  0: (fcn8_heatmap/BiasAdd:0                  ) \t  Output shape: (1, 256, 256, 81)\n",
      "Output idx:  1    Layer:  1: (fcn_heatmap_MSE_loss/fcn_MSE_loss:0     ) \t  Output shape: (1, 1)\n",
      "Output idx:  2    Layer:  2: (fcn_heatmap_CE_loss/fcn_CE_loss:0       ) \t  Output shape: (1, 1)\n",
      "\n",
      "Number of layers generated:  3 \n",
      "\n",
      "BiasAdd                   = model_output[0]          # layer:  0   shape: (1, 256, 256, 81)\n",
      "fcn_MSE_loss              = model_output[1]          # layer:  1   shape: (1, 1)\n",
      "fcn_CE_loss               = model_output[2]          # layer:  2   shape: (1, 1)\n"
     ]
    }
   ],
   "source": [
    "# model_output = get_layer_output_2(model.keras_model, train_batch_x, 1)\n",
    "\n",
    "fcn_train_batch_x = [train_batch_x[1]]\n",
    "fcn_train_batch_x.extend(model_output[:4])\n",
    "for i in fcn_train_batch_x:\n",
    "    print(i.shape)\n",
    "# fcn_train_batch_x = [model_pred_heatmap_norm, model_pred_heatmap_scores, model_gt_heatmap, model_gt_heatmap_scores]\n",
    "\n",
    "fcn_model_output = get_layer_output_1(fcn_model.keras_model, fcn_train_batch_x, [0,1,2], 1)\n"
   ]
  },
  {
   "cell_type": "code",
   "execution_count": 13,
   "metadata": {
    "ExecuteTime": {
     "end_time": "2018-11-06T16:59:18.738994Z",
     "start_time": "2018-11-06T16:59:18.688347Z"
    }
   },
   "outputs": [
    {
     "name": "stdout",
     "output_type": "stream",
     "text": [
      "model_fcn_heatmap:  (1, 256, 256, 81)\n",
      "MSE heatmap loss :  (1, 1) [[0.0002]]\n",
      "CE_loss          :  (1, 1) [[5563.4053]]\n"
     ]
    }
   ],
   "source": [
    "model_fcn_heatmap               = fcn_model_output[0]          # layer:  0   shape: (1, 256, 256, 81)\n",
    "model_MSE_loss                  = fcn_model_output[1]          # layer:  1   shape: ()\n",
    "model_CE_loss                   = fcn_model_output[2]\n",
    "# model_active_class_ids                = fcn_model_output[2]\n",
    "# hm_sum = np.sum(model_fcn_heatmap, axis=(1,2))\n",
    "print('model_fcn_heatmap: ', model_fcn_heatmap.shape)\n",
    "print('MSE heatmap loss : ', model_MSE_loss.shape,  model_MSE_loss)\n",
    "print('CE_loss          : ', model_CE_loss.shape ,  model_CE_loss)"
   ]
  },
  {
   "cell_type": "markdown",
   "metadata": {
    "heading_collapsed": true
   },
   "source": [
    "#### Display values from FCN_heatmap"
   ]
  },
  {
   "cell_type": "code",
   "execution_count": null,
   "metadata": {
    "ExecuteTime": {
     "end_time": "2018-10-29T11:12:05.885479Z",
     "start_time": "2018-10-29T11:12:05.767664Z"
    },
    "hidden": true
   },
   "outputs": [],
   "source": [
    "img_id = 0 \n",
    "class_ids = np.unique(model_gt_heatmap_scores[img_id,:,:,4]).astype(int).tolist()\n",
    "print('Image : {}  ClassIds: {}'.format(img_id, class_ids))\n",
    "for i in range(class_ids[-1]+1):\n",
    "    \n",
    "    print('FCN class: {:3d}   min: {:12.8f}    max: {:12.8f}    sum: {:12.8f} '.format(i, np.min(model_fcn_heatmap[0,:,:,i]), \n",
    "                                                                    np.max(model_fcn_heatmap[0,:,:,i]), \n",
    "                                                                    np.sum(model_fcn_heatmap[0,:,:,i])))\n",
    "    print('GT  class: {:3d}   min: {:12.8f}    max: {:12.8f}    sum: {:12.8f} '.format(i, np.min(model_gt_heatmap[0,:,:,i]), \n",
    "                                                                    np.max(model_gt_heatmap[0,:,:,i]), \n",
    "                                                                    np.sum(model_gt_heatmap[0,:,:,i])))\n",
    "    print()"
   ]
  },
  {
   "cell_type": "code",
   "execution_count": null,
   "metadata": {
    "hidden": true
   },
   "outputs": [],
   "source": [
    "# print(model_fcn_heatmap[0,0:10,:10,1])"
   ]
  },
  {
   "cell_type": "code",
   "execution_count": null,
   "metadata": {
    "hidden": true
   },
   "outputs": [],
   "source": [
    "# for i in range(10):\n",
    "#     print(model_fcn_heatmap[0,i,:,4])\n",
    "#     print(np.min(model_fcn_heatmap[0,i,:,1]), np.max(model_fcn_heatmap[0,i,:,1]))"
   ]
  },
  {
   "cell_type": "markdown",
   "metadata": {},
   "source": [
    "## Heatmap CE loss"
   ]
  },
  {
   "cell_type": "code",
   "execution_count": null,
   "metadata": {
    "ExecuteTime": {
     "end_time": "2018-11-06T14:44:31.759013Z",
     "start_time": "2018-11-06T14:44:31.449583Z"
    }
   },
   "outputs": [],
   "source": [
    "target_heatmap   = tf.identity(model_gt_heatmap)\n",
    "pred_heatmap     = tf.identity(model_fcn_heatmap)\n",
    "pred_softmax     = tf.identity(model_fcn_softmax)\n",
    "active_class_ids = tf.identity(input_image_meta[:,8:])\n",
    "sess = KB.get_session()"
   ]
  },
  {
   "cell_type": "code",
   "execution_count": null,
   "metadata": {
    "ExecuteTime": {
     "end_time": "2018-11-06T16:24:00.991119Z",
     "start_time": "2018-11-06T16:24:00.763769Z"
    },
    "scrolled": true
   },
   "outputs": [],
   "source": [
    "##-----------------------------------------------------------------------\n",
    "##  FCN Categorical Cross Entropy loss  \n",
    "##-----------------------------------------------------------------------    \n",
    "# def fcn_heatmap_CE_loss_graph(target_heatmap, pred_heatmap, active_class_ids):\n",
    "with sess.as_default():\n",
    "    '''\n",
    "    Categorical Cross Entropy Loss for the FCN heatmaps.\n",
    "\n",
    "    target_class_ids:       [batch, num_rois]. Integer class IDs. Uses zero\n",
    "                            padding to fill in the array.\n",
    "    \n",
    "    pred_class_logits:      [batch, num_rois, num_classes]\n",
    "    \n",
    "    active_class_ids:       [batch, num_classes]. Has a value of 1 for\n",
    "                            classes that are in the dataset of the image, and 0\n",
    "                            for classes that are not in the dataset. \n",
    "    '''\n",
    "    print('\\n>>> mrcnn_class_loss_graph ' )\n",
    "    print('    target_class_ids  size :', target_heatmap.shape, target_heatmap.dtype)\n",
    "    print('    pred_class_logits size :', pred_heatmap.shape  , pred_heatmap.dtype)\n",
    "    print('    active_class_ids  size :', active_class_ids.shape, active_class_ids.dtype)    \n",
    "    #     target_class_ids = tf.cast(target_class_ids, 'int64')\n",
    "    \n",
    "    # Find predictions of classes that are not in the dataset.\n",
    "    \n",
    "    pred_class_ids = tf.argmax(pred_heatmap, axis=3)\n",
    "    gt_class_ids   = tf.argmax(target_heatmap, axis = 3 )\n",
    "    print('    pred_class_ids        :', pred_class_ids.get_shape(), pred_class_ids.dtype ) \n",
    "    print('    gt_class_ids          :', gt_class_ids.get_shape()  , gt_class_ids.dtype) \n",
    "\n",
    "    \n",
    " \n",
    "    pred_active = tf.gather(active_class_ids[0], pred_class_ids)\n",
    "    print('    pred_active           :', pred_active.get_shape(),  pred_active.dtype)  \n",
    "    \n",
    "    loss = tf.nn.softmax_cross_entropy_with_logits_v2(labels=target_heatmap, logits=pred_heatmap)\n",
    "    print('    loss                  :', loss.get_shape(), loss.dtype)\n",
    "## same as tf.nn.softmax_cross_entropy_with_logits\n",
    "#     lossV2 = tf.nn.softmax_cross_entropy_with_logits_v2(labels=target_heatmap, logits=pred_heatmap)\n",
    "#     print('    loss   V2             :', lossV2.get_shape(), lossV2.dtype)\n",
    "\n",
    "\n",
    "    # same as tf.nn.softmax_cross_entropy_with_logits\n",
    "    KB_CCE_logits = KB.categorical_crossentropy(target_heatmap, pred_softmax, from_logits = True)\n",
    "    print('    KB_CCE_logits         :', KB_CCE_logits.get_shape(), KB_CCE_logits.dtype)\n",
    "    KB_CCE_smax   = KB.categorical_crossentropy(target_heatmap, pred_softmax, from_logits = False)\n",
    "    print('    KB_CCE_smax           :', KB_CCE_smax.get_shape(), KB_CCE_smax.dtype)\n",
    "    \n",
    "    sigmoid_CE_loss = tf.nn.sigmoid_cross_entropy_with_logits(labels=target_heatmap, logits=pred_heatmap)\n",
    "    print('    TF_sigmoid_CE         :', sigmoid_CE_loss.get_shape(), sigmoid_CE_loss.dtype)\n",
    "    \n",
    "    ### all elements of pred_active are 1 - essentially loss_active == loss\n",
    "    ### This line can be ignored\n",
    "    loss_active = loss * tf.cast(pred_active, tf.float32)\n",
    "    print('    loss_active           :', loss_active.get_shape(), loss_active.dtype)\n",
    "    \n",
    "    red_sum = tf.reduce_sum(pred_active)\n",
    "    print('    reduce_sum            :', red_sum.get_shape(), red_sum.dtype)\n",
    "\n",
    "    loss_sum = tf.reduce_sum(loss_active)\n",
    "    print('    loss_sum            :', loss_sum.get_shape(), loss_sum.dtype)\n"
   ]
  },
  {
   "cell_type": "code",
   "execution_count": null,
   "metadata": {
    "ExecuteTime": {
     "end_time": "2018-11-06T16:26:26.954824Z",
     "start_time": "2018-11-06T16:26:26.894690Z"
    }
   },
   "outputs": [],
   "source": [
    "# del loss2, lossV2, r_lossV2, r_loss2\n",
    "with sess.as_default():\n",
    "    r_pred_class_ids = pred_class_ids.eval()\n",
    "    r_gt_class_ids   = gt_class_ids.eval()\n",
    "    r_pred_active    = pred_active.eval()\n",
    "    r_KB_CCE_logits  = KB_CCE_logits.eval()\n",
    "    r_KB_CCE_smax    = KB_CCE_smax.eval()\n",
    "    r_sigmoid_CE_loss = sigmoid_CE_loss.eval()\n",
    "    r_loss_active    = loss_active.eval()\n",
    "    r_red_sum     = red_sum.eval()\n",
    "    r_loss_sum       = loss_sum.eval()"
   ]
  },
  {
   "cell_type": "code",
   "execution_count": null,
   "metadata": {
    "ExecuteTime": {
     "end_time": "2018-11-06T16:26:28.186254Z",
     "start_time": "2018-11-06T16:26:28.126421Z"
    }
   },
   "outputs": [],
   "source": [
    "# r_pred_active.shape\n",
    "np.set_printoptions(linewidth=200,precision=4,threshold=1000, suppress = True)\n",
    "print(' gt_class_ids', r_gt_class_ids.shape)\n",
    "print(' TF_CE (Loss)  : ', r_loss.shape)\n",
    "print(' KB_CCE_logits : ', r_KB_CCE_logits.shape)\n",
    "print(' KB_CCE_smax   : ', r_KB_CCE_smax.shape)\n",
    "print('sigmoid_CE_loss: ', r_sigmoid_CE_loss.shape)\n",
    "print(' r_pred_active : ', r_pred_active.shape)\n",
    "print(' r_loss_active : ', r_loss_active.shape)\n",
    "print(' r_loss_sum    : ', r_loss_sum.shape, r_loss_sum)\n",
    "print(' r_red_sum     : ', r_red_sum.shape, r_red_sum)\n",
    "equal_test = np.equal(r_pred_class_ids, r_gt_class_ids)\n",
    "nonzero_gt= np.not_equal(r_gt_class_ids, 0)\n",
    "print(equal_test.shape)\n",
    "print(nonzero_gt.shape)\n",
    "st = 32"
   ]
  },
  {
   "cell_type": "code",
   "execution_count": null,
   "metadata": {
    "ExecuteTime": {
     "end_time": "2018-11-06T15:48:29.873114Z",
     "start_time": "2018-11-06T15:48:29.821144Z"
    }
   },
   "outputs": [],
   "source": [
    "print(r_loss[0,104])\n",
    "print(r_pred_active[0,104])\n",
    "print(r_loss_active[0,104])\n",
    "\n",
    "eq_test = np.equal(r_loss, r_loss_active)\n",
    "print(np.all(eq_test))"
   ]
  },
  {
   "cell_type": "code",
   "execution_count": null,
   "metadata": {
    "ExecuteTime": {
     "end_time": "2018-11-06T15:33:06.051512Z",
     "start_time": "2018-11-06T15:33:06.001991Z"
    }
   },
   "outputs": [],
   "source": [
    "def print_info(i,j):\n",
    "    class_id =  r_gt_class_ids[0,i,j]            \n",
    "    print('r/c',i,'/',j,' pr:', r_pred_class_ids[0,i,j], ' gt: ', r_gt_class_ids[0,i,j]\n",
    "          ,'  loss: ', r_loss[0,i,j]\n",
    "          ,'  KB_CCE_logits: ', r_KB_CCE_logits[0,i,j]\n",
    "          ,'  KB_CCE_smax  : ', r_KB_CCE_smax[0,i,j]\n",
    "          ,'  gt val: ', model_gt_heatmap[0,i,j,class_id] \n",
    "          ,'  pr_val: ', model_fcn_heatmap[0,i,j,class_id]\n",
    "          ,'  sm_val: ', model_fcn_softmax[0,i,j,class_id])\n",
    "    print('\\t\\t predict min ', np.amin(model_fcn_heatmap[0,i,j]), 'max: ', np.amax(model_fcn_heatmap[0,i,j]))\n",
    "    print('\\t\\t softmax min ', np.amin(model_fcn_softmax[0,i,j]), 'max: ', np.amax(model_fcn_softmax[0,i,j]))\n",
    "    print('   sigmoid_CE loss:', r_sigmoid_CE_loss[0,i,j])"
   ]
  },
  {
   "cell_type": "code",
   "execution_count": null,
   "metadata": {
    "ExecuteTime": {
     "end_time": "2018-11-06T15:39:19.645250Z",
     "start_time": "2018-11-06T15:39:18.266713Z"
    }
   },
   "outputs": [],
   "source": [
    "for i in range(256):\n",
    "#     print(r_pred_active[0,i])\n",
    "#     print(r_gt_class_ids[0,i])\n",
    "#     if np.any(r_gt_class_ids[0,i]):\n",
    "        for j in range(256):\n",
    "            if equal_test[0,i,j] : ## and nonzero_gt[0,i,j]: \n",
    "                 print('r/c',i,'/',j,' pr:', r_pred_class_ids[0,i,j], ' gt: ', r_gt_class_ids[0,i,j],'  loss: ', r_loss[0,i,j]  )\n",
    "#                 print_info(i,j)\n",
    "\n",
    "print_info(104,71)"
   ]
  },
  {
   "cell_type": "code",
   "execution_count": null,
   "metadata": {
    "ExecuteTime": {
     "end_time": "2018-11-06T15:33:47.331973Z",
     "start_time": "2018-11-06T15:33:47.186791Z"
    }
   },
   "outputs": [],
   "source": [
    "o1= np.sum(model_fcn_softmax, axis=-1, keepdims = True)\n",
    "print(o1.shape)\n",
    "o2 = model_fcn_softmax / o1\n",
    "print(o2.shape)\n",
    "print(KB.epsilon())\n",
    "a = np.arange(10)\n",
    "o3 = np.clip(o2,KB.epsilon(), 1.0 - KB.epsilon())\n",
    "print(o3.shape)\n",
    "o4 = np.log(o3)\n",
    "print(o4.shape)\n",
    "print(o4[0,104,70])\n",
    "print(model_gt_heatmap[0,104,70])\n",
    "o5 = model_gt_heatmap * o4\n",
    "print(o5.shape)\n",
    "print(o5[0,104,70])"
   ]
  },
  {
   "cell_type": "code",
   "execution_count": null,
   "metadata": {
    "ExecuteTime": {
     "end_time": "2018-11-05T17:37:38.126045Z",
     "start_time": "2018-11-05T17:37:37.972499Z"
    }
   },
   "outputs": [],
   "source": [
    "\n",
    "# TODO: Update this line to work with batch > 1. Right now it assumes all\n",
    "    #       images in a batch have the same active_class_ids\n",
    "    pred_active = tf.gather(active_class_ids[0], pred_class_ids)\n",
    "    print('    pred_active      :', pred_active.get_shape(), KB.shape(pred_active), 'KerasTensor: ', KB.is_keras_tensor(pred_active))    \n",
    "    # Loss\n",
    "#     loss = tf.nn.softmax_cross_entropy_with_logits(labels=target_class_ids, logits=pred_class_logits)\n",
    "    loss = tf.nn.softmax_cross_entropy_with_logits(labels=target_heatmap, logits=pred_heatmap)\n",
    "    print('    loss      :', loss.get_shape(), KB.shape(loss), 'KerasTensor: ', KB.is_keras_tensor(loss))\n",
    "\n",
    "    # Erase losses of predictions of classes that are not in the active\n",
    "    # classes of the image.\n",
    "    loss_active = loss * pred_active\n",
    "    print('    loss_active      :', loss_active.get_shape(), KB.shape(loss), 'KerasTensor: ', KB.is_keras_tensor(loss_active))\n",
    "\n",
    "    # Compute  loss mean. Use only predictions that contribute\n",
    "    # to the loss to get a correct mean.\n",
    "    mean_loss = tf.reduce_sum(loss_active) / tf.reduce_sum(pred_active)\n",
    "    print('    mean loss :', loss.get_shape(), KB.shape(loss), 'KerasTensor: ', KB.is_keras_tensor(loss))\n",
    "    mean_loss_rehshaped = tf.reshape(loss, [1, 1], name = \"fcn_heatmap_CE_loss\")\n",
    "    print('    reshaped mean loss :', loss.get_shape(), KB.shape(loss), 'KerasTensor: ', KB.is_keras_tensor(loss))\n",
    "#     return loss"
   ]
  },
  {
   "cell_type": "code",
   "execution_count": null,
   "metadata": {
    "ExecuteTime": {
     "end_time": "2018-11-05T16:48:52.979001Z",
     "start_time": "2018-11-05T16:48:52.915094Z"
    }
   },
   "outputs": [],
   "source": [
    "loss = fcn_heatmap_CE_loss_graph(target_heatmap, pred_heatmap,active_class_ids)"
   ]
  },
  {
   "cell_type": "markdown",
   "metadata": {},
   "source": [
    "## Calculate FCN Loss on heatmap"
   ]
  },
  {
   "cell_type": "code",
   "execution_count": 16,
   "metadata": {
    "ExecuteTime": {
     "end_time": "2018-11-06T17:03:01.013800Z",
     "start_time": "2018-11-06T17:03:00.735087Z"
    }
   },
   "outputs": [
    {
     "name": "stdout",
     "output_type": "stream",
     "text": [
      "Tensor(\"Identity:0\", shape=(1, 256, 256, 81), dtype=float32) Tensor(\"Identity_1:0\", shape=(1, 256, 256, 81), dtype=float32) Tensor(\"Identity_2:0\", shape=(1, 81), dtype=int64)\n"
     ]
    }
   ],
   "source": [
    "target_heatmap = tf.identity(model_gt_heatmap)\n",
    "pred_heatmap  = tf.identity(model_fcn_heatmap)\n",
    "active_class_ids = tf.identity(input_image_meta[:,8:])\n",
    "print(target_heatmap, pred_heatmap,active_class_ids)"
   ]
  },
  {
   "cell_type": "code",
   "execution_count": null,
   "metadata": {
    "ExecuteTime": {
     "end_time": "2018-11-05T17:27:58.569318Z",
     "start_time": "2018-11-05T17:27:58.296738Z"
    }
   },
   "outputs": [],
   "source": [
    "for i in range(256):\n",
    "    if np.any(model_gt_heatmap[0,i,:,1]):\n",
    "        print(i, model_gt_heatmap[0,i,:,1])\n",
    "        print()\n",
    "        print(i, model_pred_heatmap_norm[0,i,:,1])\n",
    "        print()\n",
    "        print(i, model_fcn_heatmap[0,i,:,1])"
   ]
  },
  {
   "cell_type": "code",
   "execution_count": 17,
   "metadata": {
    "ExecuteTime": {
     "end_time": "2018-11-06T17:03:07.170588Z",
     "start_time": "2018-11-06T17:03:06.881893Z"
    }
   },
   "outputs": [
    {
     "name": "stdout",
     "output_type": "stream",
     "text": [
      " New session obtained from Kras <tensorflow.python.client.session.Session object at 0x7f42389cfd68>\n",
      "\n",
      "---------------------------\n",
      ">>> fcn_heatmap_loss_graph \n",
      "---------------------------\n",
      "    target_masks : (1, 256, 256, 81) Tensor(\"Shape_2:0\", shape=(4,), dtype=int32) KerasTensor:  False\n",
      "    pred_heatmap : (1, 256, 256, 81) Tensor(\"Shape_3:0\", shape=(4,), dtype=int32) KerasTensor:  False\n",
      "loss:  (1, 256, 256, 80)\n",
      "loss_mean:  ()\n",
      "WARNING:tensorflow:From /home/kbardool/anaconda3/envs/TFG/lib/python3.5/site-packages/keras/backend/tensorflow_backend.py:3018: softmax_cross_entropy_with_logits (from tensorflow.python.ops.nn_ops) is deprecated and will be removed in a future version.\n",
      "Instructions for updating:\n",
      "\n",
      "Future major versions of TensorFlow will allow gradients to flow\n",
      "into the labels input on backprop by default.\n",
      "\n",
      "See @{tf.nn.softmax_cross_entropy_with_logits_v2}.\n",
      "\n",
      "loss2:  (1, 256, 256)\n",
      "loss_mean2:  ()\n",
      "loss3:  (1, 256, 256)\n",
      "loss_mean3:  ()\n",
      "loss4:  (1, 256, 256)\n",
      "loss_mean4:  ()\n",
      "loss5:  (1, 256, 256)\n",
      "loss_mean5:  ()\n",
      "loss6:  (1, 256, 256)\n",
      "loss_mean6:  ()\n",
      "loss7:  (1, 256, 256)\n",
      "loss_mean7:  ()\n"
     ]
    }
   ],
   "source": [
    "sess = KB.get_session()\n",
    "print(' New session obtained from Kras', sess)\n",
    "import keras.losses as KLosses\n",
    "losses = {}\n",
    "losses_mean = {}\n",
    "print()\n",
    "print('---------------------------' )\n",
    "print('>>> fcn_heatmap_loss_graph ' )\n",
    "print('---------------------------' )\n",
    "print('    target_masks :', target_heatmap.get_shape(), KB.shape(target_heatmap), 'KerasTensor: ', KB.is_keras_tensor(target_heatmap))\n",
    "print('    pred_heatmap :', pred_heatmap.get_shape()  , KB.shape(pred_heatmap)  , 'KerasTensor: ', KB.is_keras_tensor(pred_heatmap))\n",
    "\n",
    "loss = KB.binary_crossentropy(target_heatmap[...,1:], pred_heatmap[...,1:], from_logits= True)\n",
    "loss_mean = KB.mean(loss)\n",
    "print('loss: ',loss.shape)    \n",
    "print('loss_mean: ', loss_mean.shape)\n",
    "\n",
    "loss2 = KB.categorical_crossentropy(target_heatmap[...,1:], pred_heatmap[...,1:], from_logits=True)\n",
    "loss_mean2 = KB.mean(loss2)\n",
    "print('loss2: ',loss2.shape)\n",
    "print('loss_mean2: ',loss_mean2.shape)\n",
    "\n",
    "loss3 = KLosses.mean_squared_error(target_heatmap[...,1:], pred_heatmap[...,1:])\n",
    "loss_mean3 = KB.mean(loss3)\n",
    "print('loss3: ',loss3.shape)\n",
    "print('loss_mean3: ',loss_mean3.shape)\n",
    "\n",
    "loss4 = KLosses.mean_absolute_error(target_heatmap[...,1:], pred_heatmap[...,1:])\n",
    "loss_mean4 = KB.mean(loss4)\n",
    "print('loss4: ',loss4.shape)\n",
    "print('loss_mean4: ',loss_mean4.shape)\n",
    " \n",
    "loss5 = KLosses.mean_squared_logarithmic_error(target_heatmap[...,1:], pred_heatmap[...,1:])\n",
    "loss_mean5 = KB.mean(loss5)\n",
    "print('loss5: ',loss5.shape)\n",
    "print('loss_mean5: ',loss_mean5.shape)\n",
    "\n",
    "loss6 = KLosses.squared_hinge(target_heatmap[...,1:], pred_heatmap[...,1:])\n",
    "loss_mean6 = KB.mean(loss6)\n",
    "print('loss6: ',loss6.shape)\n",
    "print('loss_mean6: ',loss_mean6.shape)\n",
    "\n",
    "loss7 = KLosses.hinge(target_heatmap[...,1:], pred_heatmap[...,1:])\n",
    "loss_mean7 = KB.mean(loss7)\n",
    "print('loss7: ',loss7.shape)\n",
    "print('loss_mean7: ',loss_mean7.shape)"
   ]
  },
  {
   "cell_type": "code",
   "execution_count": 18,
   "metadata": {
    "ExecuteTime": {
     "end_time": "2018-11-06T17:03:20.965025Z",
     "start_time": "2018-11-06T17:03:13.504713Z"
    }
   },
   "outputs": [],
   "source": [
    "with sess.as_default():\n",
    "    r_loss_mean = loss_mean.eval()\n",
    "    r_loss_mean2= loss_mean2.eval()\n",
    "    r_loss_mean3= loss_mean3.eval()\n",
    "    r_loss_mean4= loss_mean4.eval()\n",
    "    r_loss_mean5= loss_mean5.eval()\n",
    "    r_loss_mean6= loss_mean6.eval()\n",
    "    r_loss_mean7= loss_mean7.eval()"
   ]
  },
  {
   "cell_type": "code",
   "execution_count": 19,
   "metadata": {
    "ExecuteTime": {
     "end_time": "2018-11-06T17:03:21.013276Z",
     "start_time": "2018-11-06T17:03:20.967968Z"
    }
   },
   "outputs": [
    {
     "name": "stdout",
     "output_type": "stream",
     "text": [
      "Binary Cross Entropy      (from logits):  0.68841326\n",
      "Categorical Cross Entropy (from logits):  0.084650874\n",
      "Mean Squared error                     :  0.00024149596\n",
      "Mean Absolute error                    :  0.00029556116\n",
      "mean_squared_logarithmic_error         :  0.00011598565\n",
      "squared_hinge                          :  1.0\n",
      "hinge                                  :  1.0\n"
     ]
    }
   ],
   "source": [
    "print('Binary Cross Entropy      (from logits): ', r_loss_mean)\n",
    "print('Categorical Cross Entropy (from logits): ', r_loss_mean2)\n",
    "print('Mean Squared error                     : ', r_loss_mean3)\n",
    "print('Mean Absolute error                    : ', r_loss_mean4)\n",
    "print('mean_squared_logarithmic_error         : ', r_loss_mean5)\n",
    "print('squared_hinge                          : ', r_loss_mean6)\n",
    "print('hinge                                  : ', r_loss_mean7)"
   ]
  },
  {
   "cell_type": "markdown",
   "metadata": {},
   "source": [
    "#### Try flattening the results. \n",
    "\n",
    "Results are same except for Categorical Cross Entropy"
   ]
  },
  {
   "cell_type": "code",
   "execution_count": null,
   "metadata": {},
   "outputs": [],
   "source": [
    "sess = KB.get_session()\n",
    "print(' New session obtained from Kras', sess)\n",
    "import keras.losses as KLosses\n",
    "losses = {}\n",
    "losses_mean = {}\n",
    "print()\n",
    "print('---------------------------' )\n",
    "print('>>> fcn_heatmap_loss_graph ' )\n",
    "print('---------------------------' )\n",
    "print('    target_masks :', target_heatmap.get_shape(), KB.shape(target_heatmap), 'KerasTensor: ', KB.is_keras_tensor(target_heatmap))\n",
    "print('    pred :', pred_heatmap.get_shape()  , KB.shape(pred_heatmap)  , 'KerasTensor: ', KB.is_keras_tensor(pred_heatmap))\n",
    "trgt = tf.transpose(target_heatmap, [0, 3, 1, 2])\n",
    "pred = tf.transpose(pred_heatmap, [0, 3, 1, 2])\n",
    "print('    target_masks :', trgt.get_shape())\n",
    "print('    pred :', pred.get_shape())\n",
    "trgt = tf.reshape(trgt, [KB.shape(trgt)[0],KB.shape(trgt)[1],-1])\n",
    "pred = tf.reshape(pred, [KB.shape(pred)[0],KB.shape(pred)[1],-1])\n",
    "print('    target_masks :', trgt.get_shape())\n",
    "print('    pred :', pred.get_shape())\n",
    "\n",
    "loss = KB.binary_crossentropy(trgt[:,1:,:], pred[:,1:,:], from_logits= True)\n",
    "loss_mean = KB.mean(loss)\n",
    "print('loss: ',loss.shape)    \n",
    "print('loss_mean: ', loss_mean.shape)\n",
    "\n",
    "loss2 = KB.categorical_crossentropy(trgt[:,1:,:], pred[:,1:,:], from_logits=True)\n",
    "loss_mean2 = KB.mean(loss2)\n",
    "print('loss2: ',loss2.shape)\n",
    "print('loss_mean2: ',loss_mean2.shape)\n",
    "\n",
    "loss3 = KLosses.mean_squared_error(trgt[:,1:,:], pred[:,1:,:])\n",
    "loss_mean3 = KB.mean(loss3)\n",
    "print('loss3: ',loss3.shape)\n",
    "print('loss_mean3: ',loss_mean3.shape)\n",
    "\n",
    "loss4 = KLosses.mean_absolute_error(trgt[:,1:,:], pred[:,1:,:])\n",
    "loss_mean4 = KB.mean(loss4)\n",
    "print('loss4: ',loss4.shape)\n",
    "print('loss_mean4: ',loss_mean4.shape)\n",
    " \n",
    "loss5 = KLosses.mean_squared_logarithmic_error(trgt[:,1:,:], pred[:,1:,:])\n",
    "loss_mean5 = KB.mean(loss5)\n",
    "print('loss5: ',loss5.shape)\n",
    "print('loss_mean5: ',loss_mean5.shape)\n",
    "\n",
    "loss6 = KLosses.squared_hinge(trgt[:,1:,:], pred[:,1:,:])\n",
    "loss_mean6 = KB.mean(loss6)\n",
    "print('loss6: ',loss6.shape)\n",
    "print('loss_mean6: ',loss_mean6.shape)\n",
    "\n",
    "loss7 = KLosses.hinge(trgt[:,1:,:], pred[:,1:,:])\n",
    "loss_mean7 = KB.mean(loss7)\n",
    "print('loss7: ',loss7.shape)\n",
    "print('loss_mean7: ',loss_mean7.shape)"
   ]
  },
  {
   "cell_type": "code",
   "execution_count": null,
   "metadata": {},
   "outputs": [],
   "source": [
    "with sess.as_default():\n",
    "    r_loss_mean = loss_mean.eval()\n",
    "    r_loss_mean2= loss_mean2.eval()\n",
    "    r_loss_mean3= loss_mean3.eval()\n",
    "    r_loss_mean4= loss_mean4.eval()\n",
    "    r_loss_mean5= loss_mean5.eval()\n",
    "    r_loss_mean6= loss_mean6.eval()\n",
    "    r_loss_mean7= loss_mean7.eval()"
   ]
  },
  {
   "cell_type": "code",
   "execution_count": null,
   "metadata": {
    "scrolled": true
   },
   "outputs": [],
   "source": [
    "print('Binary Cross Entropy (logits)     : ', r_loss_mean)\n",
    "print('Categorical Cross Entropy (logits): ', r_loss_mean2)\n",
    "print('Mean Squared error            : ', r_loss_mean3)\n",
    "print('Mean Absolute error           : ', r_loss_mean4)\n",
    "print('mean_squared_logarithmic_error: ', r_loss_mean5)\n",
    "print('squared_hinge                 : ', r_loss_mean6)\n",
    "print('hinge                         : ', r_loss_mean7)"
   ]
  },
  {
   "cell_type": "code",
   "execution_count": null,
   "metadata": {},
   "outputs": [],
   "source": [
    "target_heatmap = tf.identity(model_gt_heatmap)\n",
    "pred_heatmap  = tf.identity(model_fcn_heatmap)\n",
    "active_class_ids = tf.identity(model_active_class_ids)"
   ]
  },
  {
   "cell_type": "code",
   "execution_count": null,
   "metadata": {
    "ExecuteTime": {
     "end_time": "2018-10-29T19:58:10.517952Z",
     "start_time": "2018-10-29T19:58:05.840642Z"
    },
    "scrolled": true
   },
   "outputs": [],
   "source": [
    "print('\\n>>> mrcnn_class_loss_graph ' )\n",
    "print('    target_class_ids  size :', target_heatmap.shape)\n",
    "print('    pred_class_logits size :', pred_heatmap.shape)\n",
    "print('    active_class_ids  size :', active_class_ids.shape)    \n",
    "target_class_ids = tf.cast(target_heatmap, 'int64')\n",
    "\n",
    "# Find predictions of classes that are not in the dataset.\n",
    "\n",
    "pred_class_ids = tf.argmax(pred_heatmap, axis=3)\n",
    "print(' pred_class_ids :',  KB.int_shape(pred_class_ids), 'KerasTensor: ', KB.is_keras_tensor(pred_class_ids))\n",
    "# TODO: Update this line to work with batch > 1. Right now it assumes all\n",
    "#       images in a batch have the same active_class_ids\n",
    "pred_active = tf.gather(active_class_ids[0], pred_class_ids)\n",
    "print('    pred_active :',  KB.int_shape(pred_active), 'KerasTensor: ', KB.is_keras_tensor(pred_active))\n",
    "\n",
    "# Loss\n",
    "loss = tf.nn.softmax_cross_entropy_with_logits(\n",
    "    labels=target_heatmap, logits=pred_heatmap)\n",
    "print('1    loss      :', loss.get_shape(), KB.shape(loss), 'KerasTensor: ', KB.is_keras_tensor(loss))\n",
    "\n",
    "# Erase losses of predictions of classes that are not in the active\n",
    "# classes of the image.\n",
    "loss = loss * pred_active\n",
    "print('2    loss      :', loss.get_shape(), KB.shape(loss), 'KerasTensor: ', KB.is_keras_tensor(loss))\n",
    "\n",
    "# Compute  loss mean. Use only predictions that contribute\n",
    "# to the loss to get a correct mean.\n",
    "\n",
    "mean_loss = tf.reduce_sum(loss) / tf.reduce_sum(pred_active)\n",
    "print('3    mean loss :', loss.get_shape(), KB.shape(loss), 'KerasTensor: ', KB.is_keras_tensor(loss))\n",
    "final_loss = tf.reshape(mean_loss, [1, 1], name = 'mrcnn_class_loss')\n",
    "print('4    reshaped mean loss :', loss.get_shape(), KB.shape(loss), 'KerasTensor: ', KB.is_keras_tensor(loss))\n",
    "# return loss\n",
    "with sess.as_default():\n",
    "    print(tf.reduce_sum(pred_active).eval())\n",
    "    print(tf.reduce_sum(loss).eval()) \n",
    "    print(mean_loss.eval())\n",
    "    r_pred_active = pred_active.eval()\n",
    "    r_target_active = tf.argmax(target_heatmap, axis=3).eval()"
   ]
  },
  {
   "cell_type": "code",
   "execution_count": null,
   "metadata": {
    "ExecuteTime": {
     "end_time": "2018-10-29T19:58:32.565934Z",
     "start_time": "2018-10-29T19:58:32.448261Z"
    },
    "scrolled": false
   },
   "outputs": [],
   "source": [
    "print(r_target_active.shape)\n",
    "for i in range(100,200):\n",
    "    print(i,r_target_active[0,i])"
   ]
  },
  {
   "cell_type": "markdown",
   "metadata": {
    "heading_collapsed": true
   },
   "source": [
    "### Display Input / Output from MRCNN "
   ]
  },
  {
   "cell_type": "markdown",
   "metadata": {
    "hidden": true
   },
   "source": [
    "####  display Pred_Tensor, Pred_heatmap, mrcnn_class"
   ]
  },
  {
   "cell_type": "code",
   "execution_count": null,
   "metadata": {
    "ExecuteTime": {
     "end_time": "2018-05-22T09:45:42.436974Z",
     "start_time": "2018-05-22T09:45:42.182291Z"
    },
    "hidden": true,
    "hideCode": false,
    "hideOutput": true,
    "scrolled": false
   },
   "outputs": [],
   "source": [
    "np.set_printoptions(precision=4, threshold=None, linewidth=210, suppress=True)\n",
    "img = 0\n",
    "\n",
    "# print(KB.int_shape(output_rois))\n",
    "# print(output_rois[img,:15]*[128, 128,128,128])\n",
    "# print(input_gt_class_ids[0])\n",
    "\n",
    "# print(' Pred_tensor')\n",
    "# print(pred_tensor.shape)\n",
    "# print(pred_tensor[img,:,:10])\n",
    "\n",
    "# print(' gt_tensor')\n",
    "# print(gt_tensor.shape)\n",
    "# print(gt_tensor[img,:,:10])\n",
    "\n",
    "# print(' output_rois')\n",
    "# print(output_rois.shape)\n",
    "# print(output_rois[img,:15] * [128, 128,128,128])\n",
    "\n",
    "\n",
    "# print(' roi_gt_boxes')\n",
    "# print(roi_gt_boxes.shape)\n",
    "# print(roi_gt_boxes[img,:15] * [128, 128,128,128])\n",
    "\n",
    "print(' Pred Heatmap Scores')\n",
    "print(pred_heatmap_scores.dtype)\n",
    "\n",
    "\n",
    "print(' FCN Scores')\n",
    "# print(fcn_scores.dtype)\n",
    "# for cls in range(4):\n",
    "#     for box in range(25):\n",
    "#         print(pred_heatmap_scores[img,cls,box])\n",
    "#         print(gt_heatmap_scores[img, cls,box])\n",
    "#         print()\n",
    "#     print(fcn_scores[img,cls,:10,2:])\n",
    "\n",
    "# img = 2\n",
    "# max_score = np.max(mrcnn_class, axis = -1)\n",
    "# max_class = np.argmax(mrcnn_class, axis = -1)\n",
    "# # print(' output_rois[',img,'] \\n', output_rois[1]*[128,128,128,128])\n",
    "# print('max class shape:',max_class.shape, 'max score shape: ',max_score.shape)\n",
    "# print('max class[',img,']\\n',max_class[img])\n",
    "# print('max score[',img,']\\n',max_score[img])\n",
    "# print('mrcnn class.shape ',mrcnn_class.shape)\n",
    "# print('mrcnn_class[',img,',:]\\n',mrcnn_class[img,:])\n",
    "# print(output_rois[1])\n",
    " "
   ]
  },
  {
   "cell_type": "markdown",
   "metadata": {
    "hidden": true,
    "hideCode": true,
    "hidePrompt": true
   },
   "source": [
    "####  Display `output_rois` for visual check - passed on to  `build_pred_tensor()`"
   ]
  },
  {
   "cell_type": "code",
   "execution_count": null,
   "metadata": {
    "ExecuteTime": {
     "end_time": "2018-05-21T20:45:16.040038Z",
     "start_time": "2018-05-21T20:45:15.807401Z"
    },
    "hidden": true,
    "hideCode": true,
    "hideOutput": true,
    "hidePrompt": false
   },
   "outputs": [],
   "source": [
    "np.set_printoptions(linewidth=150, precision=6)\n",
    "# print('scatter shape is ', pred_scatt.get_shape())\n",
    "print('output_rois shape is ', output_rois.shape)\n",
    "img = 0\n",
    "for img in range(5):\n",
    "    print('Image ', img , ' ------------')\n",
    "    print(output_rois[img]*[128,128,128,128])"
   ]
  },
  {
   "cell_type": "markdown",
   "metadata": {
    "hidden": true,
    "hideCode": false,
    "hidePrompt": false
   },
   "source": [
    "####  Display for visual check - `pred_tensor` is the final result which is passed on to  `build_gaussian_tf()`"
   ]
  },
  {
   "cell_type": "code",
   "execution_count": null,
   "metadata": {
    "ExecuteTime": {
     "end_time": "2018-05-21T20:46:05.173284Z",
     "start_time": "2018-05-21T20:46:04.920073Z"
    },
    "hidden": true,
    "hideCode": true,
    "hideOutput": false,
    "hidePrompt": false,
    "scrolled": false
   },
   "outputs": [],
   "source": [
    "# with sess.as_default():\n",
    "np.set_printoptions(linewidth=150, precision=6)\n",
    "# print('scatter shape is ', pred_scatt.get_shape())\n",
    "print('pred_tensor shape is ', pred_tensor.shape)\n",
    "img = 0\n",
    "for k in range(4):\n",
    "    print('Image ', img , '/ Class ',k,' ------------')\n",
    "    print(pred_tensor[img,k])"
   ]
  },
  {
   "cell_type": "markdown",
   "metadata": {
    "hidden": true,
    "hideCode": false,
    "hidePrompt": false
   },
   "source": [
    "####  Display for visual check - `gt_tensor` is the final result which is passed on to  `build_gaussian_tf()`"
   ]
  },
  {
   "cell_type": "code",
   "execution_count": null,
   "metadata": {
    "ExecuteTime": {
     "end_time": "2018-05-17T20:31:43.625908Z",
     "start_time": "2018-05-17T20:31:43.364212Z"
    },
    "hidden": true,
    "hideCode": true,
    "hideOutput": false,
    "hidePrompt": false,
    "scrolled": false
   },
   "outputs": [],
   "source": [
    "np.set_printoptions(linewidth=150, precision=6)\n",
    "print('gt_tensor shape is ', gt_tensor.shape)\n",
    "img = 1\n",
    "for k in range(4):\n",
    "    print('Image ', img , '/ Class ',k,' ------------')\n",
    "    print(gt_tensor[img,k])"
   ]
  },
  {
   "cell_type": "markdown",
   "metadata": {
    "hidden": true,
    "hideCode": false,
    "hidePrompt": true
   },
   "source": [
    "####  Display for visual check - `pred_heatmap_scores` is the final result which is passed from  `build_gaussian_tf()`"
   ]
  },
  {
   "cell_type": "code",
   "execution_count": null,
   "metadata": {
    "ExecuteTime": {
     "end_time": "2018-05-21T21:14:28.370605Z",
     "start_time": "2018-05-21T21:14:28.095876Z"
    },
    "hidden": true,
    "hideCode": false,
    "hideOutput": true,
    "hidePrompt": false,
    "scrolled": true
   },
   "outputs": [],
   "source": [
    "# with sess.as_default():\n",
    "np.set_printoptions(linewidth=150, precision=6, suppress=True)\n",
    "# print('scatter shape is ', pred_scatt.get_shape())\n",
    "print('pred_heatmap_scores shape is ', pred_heatmap_scores.shape)\n",
    "for img in [0,1,2]:\n",
    "    for k in range(4):\n",
    "        print('Image ', img , '/ Class ',k,' ------------')\n",
    "        print(np.min(pred_heatmap_scores[img,k,:,8]))\n",
    "        print(pred_heatmap_scores[img,k])"
   ]
  },
  {
   "cell_type": "markdown",
   "metadata": {
    "hidden": true,
    "hideCode": true,
    "hidePrompt": false
   },
   "source": [
    "####  Display for visual check - `GT_HEATMAP_SCORES` is the final result which is passed on to  `build_gaussian_tf()`"
   ]
  },
  {
   "cell_type": "code",
   "execution_count": null,
   "metadata": {
    "ExecuteTime": {
     "end_time": "2018-05-20T17:25:18.661505Z",
     "start_time": "2018-05-20T17:25:18.406810Z"
    },
    "hidden": true,
    "hideCode": false,
    "hideOutput": true,
    "hidePrompt": false,
    "scrolled": false
   },
   "outputs": [],
   "source": [
    "np.set_printoptions(linewidth=150, precision=6)\n",
    "print('gt_heatmap_scores shape is ', gt_heatmap_scores.shape)\n",
    "img = 1\n",
    "for k in range(4):\n",
    "    print('Image ', img , '/ Class ',k,' ------------')\n",
    "    print(gt_heatmap_scores[img,k])"
   ]
  },
  {
   "cell_type": "markdown",
   "metadata": {
    "hidden": true,
    "hideCode": true,
    "hidePrompt": false
   },
   "source": [
    "####  Display for visual check - `FCN_HEATMAP_SCORES` is the final result which is passed on to  `build_gaussian_tf()`"
   ]
  },
  {
   "cell_type": "code",
   "execution_count": null,
   "metadata": {
    "ExecuteTime": {
     "end_time": "2018-05-21T21:14:55.327892Z",
     "start_time": "2018-05-21T21:14:55.040309Z"
    },
    "hidden": true,
    "hideCode": false,
    "hideOutput": true,
    "hidePrompt": false
   },
   "outputs": [],
   "source": [
    "np.set_printoptions(linewidth=150, threshold=10000, precision=2)\n",
    "temp = fcn_heatmap_scores\n",
    "print('fcn_heatmap_scores shape is ', temp.shape)\n",
    "# img = 1\n",
    "for img in [1,2,3]:\n",
    "    for k in range(4):\n",
    "        print('Image ', img , '/ Class ',k,' ------------')\n",
    "        print(temp[img,k])\n",
    "    "
   ]
  },
  {
   "cell_type": "markdown",
   "metadata": {
    "hidden": true,
    "hideCode": false,
    "hidePrompt": false
   },
   "source": [
    "####  Display for visual check - `pred_heatmap_norm` is the final result from  `build_gaussian_tf()`"
   ]
  },
  {
   "cell_type": "code",
   "execution_count": null,
   "metadata": {
    "ExecuteTime": {
     "end_time": "2018-05-21T20:55:58.752564Z",
     "start_time": "2018-05-21T20:55:58.464796Z"
    },
    "hidden": true,
    "hideCode": false,
    "hideOutput": true
   },
   "outputs": [],
   "source": [
    "print(pred_heatmap_norm.shape)\n",
    "temp = pred_heatmap_norm\n",
    "np.set_printoptions(linewidth=150, threshold=10000, suppress=False)\n",
    "print('  Temp shape :',  temp.shape)\n",
    "temp_sum = np.sum(temp,axis=(1,2))\n",
    "print('temp_sum is ', temp_sum.shape)\n",
    "for i in range(5):\n",
    "    for j in range(4):\n",
    "        print('img ',i,' class ', j, ' sum:',temp_sum[i,j],  ' max: ',np.max(temp[i,:,:,j]),' mean: ', np.mean(temp[i,:,:,j]),' min: ', np.min(temp[i,:,:,j]))    "
   ]
  },
  {
   "cell_type": "markdown",
   "metadata": {
    "hidden": true,
    "hideCode": true,
    "hidePrompt": false
   },
   "source": [
    "\n",
    "####  Display for visual check - `fcn_heatmap is the final result from  `FCN`"
   ]
  },
  {
   "cell_type": "code",
   "execution_count": null,
   "metadata": {
    "ExecuteTime": {
     "end_time": "2018-05-21T20:56:07.906104Z",
     "start_time": "2018-05-21T20:56:07.641900Z"
    },
    "hidden": true,
    "hideCode": false,
    "hideOutput": true,
    "hidePrompt": false,
    "scrolled": false
   },
   "outputs": [],
   "source": [
    "np.set_printoptions(linewidth=150, threshold=10000, suppress=False)\n",
    "temp = fcn_heatmap_norm\n",
    "print('  Temp shape :',  temp.shape)\n",
    "temp_sum = np.sum(temp,axis=(1,2))\n",
    "print('temp_sum is ', temp_sum.shape)\n",
    "for i in range(5):\n",
    "    for j in range(4):\n",
    "        print('img ',i,' class ', j, ' sum:',temp_sum[i,j],  ' max: ',np.max(temp[i,:,:,j]),' mean: ', np.mean(temp[i,:,:,j]),' min: ', np.min(temp[i,:,:,j]))    "
   ]
  },
  {
   "cell_type": "code",
   "execution_count": null,
   "metadata": {
    "ExecuteTime": {
     "end_time": "2018-05-21T21:09:58.924538Z",
     "start_time": "2018-05-21T21:09:58.670388Z"
    },
    "hidden": true,
    "hideCode": false,
    "hideOutput": true
   },
   "outputs": [],
   "source": [
    "np.set_printoptions(linewidth=150, threshold=10000, suppress=False)\n",
    "temp = fcn_heatmap\n",
    "print('  Temp shape :',  temp.shape)\n",
    "temp_sum = np.sum(temp,axis=(1,2))\n",
    "print('temp_sum is ', temp_sum.shape)\n",
    "for i in range(5):\n",
    "    for j in range(4):\n",
    "        print('img ',i,' class ', j, ' sum:',temp_sum[i,j],  ' max: ',np.max(temp[i,:,:,j]),' mean: ', np.mean(temp[i,:,:,j]),' min: ', np.min(temp[i,:,:,j]))    \n",
    "\n",
    "\n",
    "# sess = KB.get_session()\n",
    "# with sess.as_default():\n",
    "#     temp = tf.identity(fcn_heatmap\n",
    "#     np.set_printoptions(linewidth=150, threshold=10000)\n",
    "#     print('  output shapes :',  temp.get_shape())\n",
    "#     temp_sum = tf.reduce_sum(temp, [2,3])\n",
    "#     temp_min = tf.reduce_min(temp, [2,3])\n",
    "#     temp_max = tf.reduce_max(temp, [2,3])\n",
    "#     temp_avg = tf.reduce_mean(temp, [2,3])\n",
    "#     print('temp_sum is ', temp_sum.shape)\n",
    "#     for i in range(5):\n",
    "#         for j in range(4):\n",
    "#                 print('img/cls ',i,'/', j,'  sum:',temp_sum[i,j], 'min',temp_min[i,j] ,'max',temp_max[i,j] ,'avg',temp_avg[i,j])"
   ]
  },
  {
   "cell_type": "code",
   "execution_count": null,
   "metadata": {
    "ExecuteTime": {
     "end_time": "2018-05-21T21:12:55.147060Z",
     "start_time": "2018-05-21T21:12:53.450743Z"
    },
    "hidden": true
   },
   "outputs": [],
   "source": [
    "np.set_printoptions(linewidth=150, threshold=10000, precision = 6,suppress=False)\n",
    "sess = KB.get_session()\n",
    "with sess.as_default():\n",
    "    tmp = tf.identity(fcn_heatmap)\n",
    "    print(tf.shape(tmp).eval())\n",
    "    reduce_max = tf.reduce_max(tmp,axis = [1,2], keepdims=True)\n",
    "    print(tf.shape(reduce_max).eval())\n",
    "    reduce_min = tf.reduce_min(tmp, axis = [1,2], keepdims=True)\n",
    "    print(tf.shape(reduce_min).eval())\n",
    "    print(reduce_min.eval())\n",
    "    print(reduce_max.eval())\n",
    "    y  =  (tmp - reduce_min) / (reduce_max - reduce_min)        \n",
    "    print(tf.shape(y).eval())"
   ]
  },
  {
   "cell_type": "markdown",
   "metadata": {
    "hidden": true,
    "hideCode": false,
    "hidePrompt": true
   },
   "source": [
    "####  Display for visual check - `gt_heatmap_scores`  and `fcn_heatmap_scores` "
   ]
  },
  {
   "cell_type": "code",
   "execution_count": null,
   "metadata": {
    "ExecuteTime": {
     "end_time": "2018-05-20T20:01:28.251086Z",
     "start_time": "2018-05-20T20:01:27.923729Z"
    },
    "hidden": true,
    "hideCode": false,
    "hideOutput": true,
    "hidePrompt": false,
    "scrolled": false
   },
   "outputs": [],
   "source": [
    "np.set_printoptions(precision=4, threshold=None, linewidth=200, suppress=True)\n",
    "# print(' gt_tensor')\n",
    "# print(gt_tensor.shape)\n",
    "# print(gt_tensor[img,:,:10])\n",
    "img_id = 1\n",
    "print(' GT Heatmap Scores')\n",
    "\n",
    "print('gt_heatmap_scores: ', model_gt_heatmap_scores.dtype,  model_gt_heatmap_scores.shape)\n",
    "print('pred_heatmap_scores: ', model_pred_heatmap_scores.dtype,  model_pred_heatmap_scores.shape)\n",
    "\n",
    "# print(gt_heatmap_scores[img,1])\n",
    "# for img_id in range(mrcnn_config.BATCH_SIZE):\n",
    "\n",
    "for img_id in [0]:    # print(pred_refined_heatmap_scores[img_id,:4])\n",
    "    pr_class_ids = np.unique(model_pred_heatmap_scores[img_id,:,:,4]).astype(int).tolist()\n",
    "    gt_class_ids = np.unique(model_gt_heatmap_scores[img_id,:,:,4]).astype(int).tolist() \n",
    "    union_class_ids = np.union1d(pr_class_ids, gt_class_ids)\n",
    "    print('-'*56)\n",
    "    print('Image : {}  GT ClassIds: {}   PR ClassIds: {} '.format(img_id, gt_class_ids, pr_class_ids))\n",
    "    print('Image : {}  Union ClassIds: {}'.format(img_id, union_class_ids))\n",
    "    print('-'*56)\n",
    "    for cls in union_class_ids:  \n",
    "        print()\n",
    "        for i in range(10):\n",
    "#             print(' GT: img_id:',img_id, ' cls: ',cls, ' -',gt_tensor[img_id, cls,i]) #, gt_heatmap_scores[img_id, cls,i,7] )\n",
    "#             print(' PR: img_id:',img_id, ' cls: ',cls, ' -',pred_tensor[img_id,cls,i]) #,pred_refined_heatmap_scores[img_id,cls,i,7])\n",
    "\n",
    "            print(' GT: img_id:',img_id, ' cls: ',cls, ' -',model_gt_heatmap_scores[img_id, cls,i]) #, gt_heatmap_scores[img_id, cls,i,7] )\n",
    "            print(' PR: img_id:',img_id, ' cls: ',cls, ' -',model_pred_heatmap_scores[img_id,cls,i]) #,pred_refined_heatmap_scores[img_id,cls,i,7])\n",
    "            print()"
   ]
  },
  {
   "cell_type": "markdown",
   "metadata": {},
   "source": [
    "## Display Heatmaps"
   ]
  },
  {
   "cell_type": "code",
   "execution_count": null,
   "metadata": {
    "ExecuteTime": {
     "end_time": "2018-10-29T18:38:43.020904Z",
     "start_time": "2018-10-29T18:38:42.968612Z"
    },
    "hideCode": false,
    "hideOutput": false
   },
   "outputs": [],
   "source": [
    "from mrcnn.visualize import (plot_one_bbox_heatmap, plot_3d_heatmap, plot_3d_heatmap_all_classes, plot_2d_heatmap, plot_2d_heatmap_with_bboxes,\n",
    "                            plot_2d_heatmap_compare)\n",
    "\n",
    "import matplotlib as plt\n",
    "\n",
    "%matplotlib inline\n",
    "print('Image id: ',image_id)\n",
    "img_id = 0\n",
    "class_names = dataset_train.class_names"
   ]
  },
  {
   "cell_type": "markdown",
   "metadata": {},
   "source": [
    "### 2D Plots  "
   ]
  },
  {
   "cell_type": "markdown",
   "metadata": {
    "heading_collapsed": true
   },
   "source": [
    "####  2D plot of `model_gt_heatmap` returned from model"
   ]
  },
  {
   "cell_type": "code",
   "execution_count": null,
   "metadata": {
    "ExecuteTime": {
     "end_time": "2018-10-29T18:38:52.461831Z",
     "start_time": "2018-10-29T18:38:49.329567Z"
    },
    "hidden": true,
    "hideCode": false,
    "hideOutput": false,
    "scrolled": false
   },
   "outputs": [],
   "source": [
    "for img_id in [0]:     ##range(mrcnn_config.BATCH_SIZE):\n",
    "    print(model_gt_heatmap.shape, model_gt_heatmap_scores.shape)\n",
    "    class_ids = np.unique(model_gt_heatmap_scores[img_id,:,:,4]).astype(int).tolist()\n",
    "    print('Image : {}  ClassIds: {}'.format(img_id, class_ids))\n",
    "    plot_2d_heatmap_with_bboxes(model_gt_heatmap, model_gt_heatmap_scores, \n",
    "                                img_id, class_ids, class_names = class_names, size = (9,9), scale = 4)"
   ]
  },
  {
   "cell_type": "markdown",
   "metadata": {
    "heading_collapsed": true
   },
   "source": [
    "####  2D plot of `model_fcn_heatmap` returned from model"
   ]
  },
  {
   "cell_type": "code",
   "execution_count": null,
   "metadata": {
    "ExecuteTime": {
     "end_time": "2018-10-29T20:00:18.073376Z",
     "start_time": "2018-10-29T20:00:14.361930Z"
    },
    "hidden": true,
    "hideCode": false,
    "hideOutput": false,
    "scrolled": true
   },
   "outputs": [],
   "source": [
    "for img_id in [0]:     ##range(mrcnn_config.BATCH_SIZE):\n",
    "    print(model_fcn_heatmap.shape)\n",
    "    class_ids = np.unique(model_gt_heatmap_scores[img_id,:,:,4]).astype(int).tolist()\n",
    "    print('Image : {}  ClassIds: {}'.format(img_id, class_ids))\n",
    "    plot_2d_heatmap_with_bboxes(model_fcn_heatmap, model_gt_heatmap_scores, \n",
    "                                img_id, class_ids,size=(9,9), class_names = class_names, scale = 4)"
   ]
  },
  {
   "cell_type": "markdown",
   "metadata": {
    "heading_collapsed": true
   },
   "source": [
    "####  2D plot of `model_fcn_heatmap` returned from model - ALL CLASSES"
   ]
  },
  {
   "cell_type": "code",
   "execution_count": null,
   "metadata": {
    "ExecuteTime": {
     "end_time": "2018-10-29T20:38:21.606454Z",
     "start_time": "2018-10-29T20:37:34.407214Z"
    },
    "hidden": true,
    "hideCode": false,
    "hideOutput": false,
    "scrolled": false
   },
   "outputs": [],
   "source": [
    "from mrcnn.visualize import plot_2d_heatmap_all_classes\n",
    "for img_id in [0]: ##range(mrcnn_config.BATCH_SIZE):\n",
    "    class_ids = np.unique(model_pred_heatmap_scores[img_id,:,:,4]).astype(int).tolist()\n",
    "    print('Image : {}  Pred ClassIds: {}'.format(img_id, class_ids))\n",
    "    print('            Gt   ClassIds: {}'.format(np.unique(model_gt_heatmap_scores[img_id,:,:,4]).astype(int).tolist()))\n",
    "#     plot_3d_heatmap(model_fcn_heatmap, img_id, class_ids,class_names = class_names, size = (8,8), zlim=0)\n",
    "#     plot_2d_heatmap_with_bboxes(model_fcn_heatmap[...,:class_ids[-1]+1], model_gt_heatmap_scores, img_id, \n",
    "#                                 class_ids, class_names = class_names, columns = 2, scale = 4)\n",
    "    plot_2d_heatmap_all_classes(model_fcn_heatmap, model_gt_heatmap_scores, img_id,class_names = class_names, columns = 2, scale = 4)"
   ]
  },
  {
   "cell_type": "markdown",
   "metadata": {
    "heading_collapsed": true
   },
   "source": [
    "####  2D plot of `pred_heatmap_norm` returned from MRCNN "
   ]
  },
  {
   "cell_type": "code",
   "execution_count": null,
   "metadata": {
    "ExecuteTime": {
     "end_time": "2018-10-29T18:39:32.196057Z",
     "start_time": "2018-10-29T18:39:28.404045Z"
    },
    "hidden": true,
    "hideCode": false,
    "hideOutput": false,
    "scrolled": false
   },
   "outputs": [],
   "source": [
    "for img_id in [0]: ## range(mrcnn_config.BATCH_SIZE):\n",
    "    # print(pred_refined_heatmap_scores[img_id,:4])\n",
    "    print(model_pred_heatmap_norm.shape)\n",
    "    class_ids = np.unique(model_pred_heatmap_scores[img_id,:,:,4]).astype(int).tolist()\n",
    "    print('Image : {}  ClassIds: {}'.format(img_id, class_ids))\n",
    "    \n",
    "    plot_2d_heatmap_with_bboxes(model_pred_heatmap_norm, model_pred_heatmap_scores, \n",
    "                                img_id, class_ids, class_names = class_names, size = (9,9), scale = 4)\n",
    "#     plot_2d_heatmap(pred_heatmap_norm, img_id, class_ids, width=6, height=6, class_names = class_names)\n"
   ]
  },
  {
   "cell_type": "markdown",
   "metadata": {},
   "source": [
    "###  3D Plots"
   ]
  },
  {
   "cell_type": "markdown",
   "metadata": {},
   "source": [
    "####  3D plot of  `gt_heatmap_norm` returned form code above"
   ]
  },
  {
   "cell_type": "code",
   "execution_count": null,
   "metadata": {
    "ExecuteTime": {
     "end_time": "2018-10-30T16:49:32.708008Z",
     "start_time": "2018-10-30T16:49:32.625441Z"
    },
    "hideCode": false,
    "hideOutput": false,
    "scrolled": false
   },
   "outputs": [],
   "source": [
    "for img_id in [0]: ## range(mrcnn_config.BATCH_SIZE):\n",
    "    print(model_gt_heatmap.shape)\n",
    "    class_ids = np.unique(model_gt_heatmap_scores[img_id,:,:,4]).astype(int).tolist()\n",
    "    print('Image : {}  ClassIds: {}'.format(img_id, class_ids))\n",
    "    plot_3d_heatmap(model_gt_heatmap, img_id, class_ids, class_names = class_names, size=(7,7))\n"
   ]
  },
  {
   "cell_type": "markdown",
   "metadata": {
    "heading_collapsed": true
   },
   "source": [
    "####  3D plot of `pred_heatmap_norm` returned form model"
   ]
  },
  {
   "cell_type": "code",
   "execution_count": null,
   "metadata": {
    "ExecuteTime": {
     "end_time": "2018-10-29T18:39:59.834937Z",
     "start_time": "2018-10-29T18:39:54.969460Z"
    },
    "hidden": true,
    "hideCode": false,
    "hideOutput": false,
    "scrolled": false
   },
   "outputs": [],
   "source": [
    "for img_id in [0]: ##range(mrcnn_config.BATCH_SIZE):\n",
    "    print(model_pred_heatmap_norm.shape)\n",
    "    class_ids = np.unique(model_pred_heatmap_scores[img_id,:,:,4]).astype(int).tolist()\n",
    "    print('Image : {}  ClassIds: {}'.format(img_id, class_ids))\n",
    "    plot_3d_heatmap(model_pred_heatmap_norm, img_id, class_ids, class_names = class_names, size=(8,8) )\n"
   ]
  },
  {
   "cell_type": "markdown",
   "metadata": {
    "heading_collapsed": true
   },
   "source": [
    "####  3D plot of `fcn_heatmap` returned form model - only classes in pred_scores"
   ]
  },
  {
   "cell_type": "code",
   "execution_count": null,
   "metadata": {
    "ExecuteTime": {
     "end_time": "2018-10-29T18:46:47.068108Z",
     "start_time": "2018-10-29T18:46:36.401998Z"
    },
    "hidden": true,
    "hideCode": false,
    "hideOutput": false,
    "scrolled": false
   },
   "outputs": [],
   "source": [
    "for img_id in [0]: ##range(mrcnn_config.BATCH_SIZE):\n",
    "    print(model_fcn_heatmap.shape)\n",
    "    class_ids = np.unique(model_pred_heatmap_scores[img_id,:,:,4]).astype(int).tolist()\n",
    "    print('Image : {}  ClassIds: {}'.format(img_id, class_ids))\n",
    "    plot_3d_heatmap(model_fcn_heatmap, img_id, class_ids,class_names = class_names, size = (8,8), zlim=0)\n"
   ]
  },
  {
   "cell_type": "markdown",
   "metadata": {},
   "source": [
    "####  3D plot of `fcn_heatmap` returned form model - all classes"
   ]
  },
  {
   "cell_type": "code",
   "execution_count": null,
   "metadata": {
    "ExecuteTime": {
     "end_time": "2018-11-05T16:36:16.188191Z",
     "start_time": "2018-11-05T16:36:16.183255Z"
    },
    "hideCode": false,
    "hideOutput": false,
    "scrolled": false
   },
   "outputs": [],
   "source": [
    "# for img_id in [0]: ##range(mrcnn_config.BATCH_SIZE):\n",
    "#     class_ids = np.unique(model_pred_heatmap_scores[img_id,:,:,4]).astype(int).tolist()\n",
    "#     print('Image : {}  ClassIds: {}'.format(img_id, class_ids))\n",
    "# #     plot_3d_heatmap(model_fcn_heatmap, img_id, class_ids,class_names = class_names, size = (8,8), zlim=0)\n",
    "#     plot_3d_heatmap_all_classes(model_fcn_heatmap[...,:class_ids[-1]+1], img_id, class_names = class_names, size = (8,8), zlim=0.0)\n"
   ]
  },
  {
   "cell_type": "markdown",
   "metadata": {},
   "source": [
    "####  3D comparative display `pred_heatmap` / `fcn_heatmap` "
   ]
  },
  {
   "cell_type": "code",
   "execution_count": null,
   "metadata": {
    "ExecuteTime": {
     "end_time": "2018-10-29T18:57:03.165881Z",
     "start_time": "2018-10-29T18:56:47.654612Z"
    },
    "hideCode": false,
    "hideOutput": false,
    "scrolled": false
   },
   "outputs": [],
   "source": [
    "from mrcnn.visualize import plot_3d_heatmap_compare\n",
    "for img_id in [0]: ##range(mrcnn_config.BATCH_SIZE):\n",
    "    print(model_pred_heatmap_norm.shape)\n",
    "    class_ids = np.unique(model_pred_heatmap_scores[img_id,:,:,4]).astype(int).tolist()\n",
    "    print('Image : {}  ClassIds: {}'.format(img_id, class_ids))\n",
    "    plot_3d_heatmap_compare(model_pred_heatmap_norm,model_fcn_heatmap, img_id, class_ids, class_names = class_names, size=(8,8), zlim = 0 )\n"
   ]
  },
  {
   "cell_type": "markdown",
   "metadata": {
    "heading_collapsed": true
   },
   "source": [
    "####  3D comparative display `gt_heatmap` / `fcn_heatmap` "
   ]
  },
  {
   "cell_type": "code",
   "execution_count": null,
   "metadata": {
    "ExecuteTime": {
     "end_time": "2018-10-29T11:25:00.337744Z",
     "start_time": "2018-10-29T11:24:55.650684Z"
    },
    "hidden": true,
    "hideCode": false,
    "hideOutput": false,
    "scrolled": false
   },
   "outputs": [],
   "source": [
    "from mrcnn.visualize import plot_3d_heatmap_compare\n",
    "for img_id in [0]: ##range(mrcnn_config.BATCH_SIZE):\n",
    "    class_ids = np.unique(model_gt_heatmap_scores[img_id,:,:,4]).astype(int).tolist()\n",
    "    print('Image : {}  ClassIds: {}'.format(img_id, class_ids))\n",
    "    plot_3d_heatmap_compare(model_gt_heatmap,model_fcn_heatmap, img_id, class_ids, class_names = class_names, size=(8,8), zlim = 0 )\n"
   ]
  },
  {
   "cell_type": "markdown",
   "metadata": {},
   "source": [
    "####  2D comparative display `pred_heatmap` / `fcn_heatmap`  "
   ]
  },
  {
   "cell_type": "code",
   "execution_count": null,
   "metadata": {
    "ExecuteTime": {
     "end_time": "2018-10-29T18:51:37.246007Z",
     "start_time": "2018-10-29T18:51:29.204960Z"
    },
    "hideCode": false,
    "hideOutput": false,
    "scrolled": false
   },
   "outputs": [],
   "source": [
    "from mrcnn.visualize import plot_2d_heatmap_compare\n",
    "for img_id in [0]: ##range(mrcnn_config.BATCH_SIZE):\n",
    "    class_ids = np.unique(model_pred_heatmap_scores[img_id,:,:,4]).astype(int).tolist()\n",
    "    print('Image : {}  ClassIds: {}'.format(img_id, class_ids))\n",
    "    plot_2d_heatmap_compare(model_pred_heatmap_norm, model_fcn_heatmap, model_pred_heatmap_scores,\n",
    "                            img_id, class_ids, class_names = class_names, size=(8,8), scale = 4 )"
   ]
  },
  {
   "cell_type": "markdown",
   "metadata": {
    "heading_collapsed": true
   },
   "source": [
    "##  Display `gauss_heatmap` 3D heatmap (not normalized, normlized, L2 normalized)"
   ]
  },
  {
   "cell_type": "code",
   "execution_count": null,
   "metadata": {
    "ExecuteTime": {
     "end_time": "2018-10-25T12:18:39.027482Z",
     "start_time": "2018-10-25T12:18:37.226575Z"
    },
    "hidden": true,
    "hideCode": false,
    "hideOutput": false,
    "scrolled": false
   },
   "outputs": [],
   "source": [
    "from mrcnn.visualize import plot_3d_heatmap, plot_2d_heatmap, plot_3d_gaussian\n",
    "%matplotlib inline\n",
    "print('Image id: ',image_id , '    Classes (1: circle, 2: square, 3: triangle ): ')\n",
    "img = 0\n",
    "cls = 0\n",
    "# print(pred_heatmap_scores[img,cls,:10])\n",
    "\n",
    "# ttl = 'Non-normalized - image: {}'.format(img)\n",
    "# plot_3d_heatmap(pred_heatmap[img], title = ttl, width = 20)\n",
    "# ttl = 'Normalized - image: {}'.format(img)\n",
    "# plot_3d_heatmap(pred_heatmap_norm[img], title = ttl, width = 20)\n",
    "\n",
    "# ttl = 'Non-normalized - image: {}'.format(img)\n",
    "# plot_3d_heatmap(fcn_heatmap[img], title = ttl, width = 20)\n",
    "# ttl = 'Normalized - image: {}'.format(img)\n",
    "# plot_3d_heatmap(fcn_heatmap_norm[img], title = ttl, width = 20)\n",
    "\n",
    "ttl = 'Ground Truth Non-normalized - image: {}'.format(img)\n",
    "# plot_3d_gaussian(model_fcn_heatmap[img,:,:,1], title = ttl, width = 10)\n",
    "# ttl = 'Ground Truth Normalized - image: {}'.format(img)\n",
    "plot_3d_heatmap(model_fcn_heatmap, 0,[9], title = ttl,width = 10, height=10, zlim=1.0005)\n",
    "\n",
    "\n",
    "# ttl = 'Non-normalized - image: {}'.format(img)\n",
    "# plot_2d_heatmap(pred_heatmap[img], pred_heatmap_scores[img], width=15, title=ttl)\n",
    "# ttl = 'Normalized - image: {}'.format(img)\n",
    "# plot_2d_heatmap(pred_heatmap_norm[img], pred_heatmap_scores[img], width=15, title=ttl)\n"
   ]
  },
  {
   "cell_type": "code",
   "execution_count": null,
   "metadata": {
    "ExecuteTime": {
     "end_time": "2018-10-25T12:22:30.497370Z",
     "start_time": "2018-10-25T12:22:27.726073Z"
    },
    "hidden": true
   },
   "outputs": [],
   "source": [
    "from mrcnn.visualize import plot_3d_heatmap, plot_2d_heatmap\n",
    "%matplotlib inline\n",
    "img = 0\n",
    "cls = 1\n",
    "# print(pred_heatmap_scores[img,cls,:10])\n",
    "\n",
    "# ttl = 'Non-normalized - image: {}'.format(img)\n",
    "# plot_3d_heatmap(pred_heatmap[img], title = ttl, width = 20)\n",
    "# ttl = 'Normalized - image: {}'.format(img)\n",
    "# plot_3d_heatmap(pred_heatmap_norm[img], title = ttl, width = 20)\n",
    "\n",
    "# ttl = 'Non-normalized - image: {}'.format(img)\n",
    "# plot_3d_heatmap(fcn_heatmap[img], title = ttl, width = 20)\n",
    "# ttl = 'Normalized - image: {}'.format(img)\n",
    "# plot_3d_heatmap(fcn_heatmap_norm[img], title = ttl, width = 20)\n",
    "\n",
    "ttl = 'FCN - image: {}'.format(img)\n",
    "plot_3d_heatmap(model_fcn_heatmap, 0,[9], title = ttl, size = (10,10))\n",
    "ttl = 'Ground Truth Normalized - image: {}'.format(img)\n",
    "plot_3d_heatmap(model_gt_heatmap,0,[9], title = ttl, size = (10,10))\n"
   ]
  },
  {
   "cell_type": "markdown",
   "metadata": {
    "heading_collapsed": true
   },
   "source": [
    "## Build `fcn_scores`"
   ]
  },
  {
   "cell_type": "code",
   "execution_count": null,
   "metadata": {
    "ExecuteTime": {
     "end_time": "2018-05-20T16:54:02.728893Z",
     "start_time": "2018-05-20T16:54:02.499283Z"
    },
    "hidden": true
   },
   "outputs": [],
   "source": [
    "def build_mask_routine(input_list):\n",
    "    '''\n",
    "    Inputs:\n",
    "    -----------\n",
    "        heatmap_tensor :    [ image height, image width ]\n",
    "        input_row      :    [y1, x1, y2, x2] in absolute (non-normalized) scale\n",
    "\n",
    "    Returns\n",
    "    -----------\n",
    "        gaussian_sum :      sum of gaussian heatmap vlaues over the area covered by the bounding box\n",
    "        bbox_area    :      bounding box area (in pixels)\n",
    "    '''\n",
    "    heatmap_tensor, input_row = input_list\n",
    "    with tf.variable_scope('mask_routine'):\n",
    "        y_extent     = tf.range(input_row[0], input_row[2])\n",
    "        x_extent     = tf.range(input_row[1], input_row[3])\n",
    "        Y,X          = tf.meshgrid(y_extent, x_extent)\n",
    "        bbox_mask    = tf.stack([Y,X],axis=2)        \n",
    "        mask_indices = tf.reshape(bbox_mask,[-1,2])\n",
    "        mask_indices = tf.to_int32(mask_indices)\n",
    "        mask_size    = tf.shape(mask_indices)[0]\n",
    "        mask_updates = tf.ones([mask_size], dtype = tf.float32)    \n",
    "        mask         = tf.scatter_nd(mask_indices, mask_updates, tf.shape(heatmap_tensor))\n",
    "        mask_sum    =  tf.reduce_sum(mask)\n",
    "        mask_applied = tf.multiply(heatmap_tensor, mask, name = 'mask_applied')\n",
    "        bbox_area    = tf.to_float((input_row[2]-input_row[0]) * (input_row[3]-input_row[1]))\n",
    "        gaussian_sum = tf.reduce_sum(mask_applied)\n",
    "        ratio        = gaussian_sum / bbox_area \n",
    "        ratio        = tf.where(tf.is_nan(ratio),  0.0, ratio)  \n",
    "    return tf.stack([gaussian_sum, bbox_area, ratio], axis = -1)"
   ]
  },
  {
   "cell_type": "code",
   "execution_count": null,
   "metadata": {
    "ExecuteTime": {
     "end_time": "2018-05-20T17:07:35.355542Z",
     "start_time": "2018-05-20T17:07:34.831591Z"
    },
    "hidden": true,
    "hideOutput": true
   },
   "outputs": [],
   "source": [
    "##--------------------------------------------------------------------------\n",
    "## setup input values\n",
    "in_scores = tf.identity(pred_heatmap_scores)\n",
    "in_heatmap = tf.identity(fcn_heatmap)\n",
    "# in_tensor = tf.placeholder(tf.float32, shape=[3,4,32,6], name = 'in_tensor')\n",
    "\n",
    "config = model.config\n",
    "names = ['Dev']\n",
    "##--------------------------------------------------------------------------\n",
    "\n",
    "\n",
    "##----------------------------------------------------------------------------------------------------------------------          \n",
    "##   build_fcn_scores \n",
    "##----------------------------------------------------------------------------------------------------------------------          \n",
    "# def build_fcn_scores(self, in_heatmap, in_scores, names = None):\n",
    "sess = KB.get_session()\n",
    "with sess.as_default():\n",
    "\n",
    "\n",
    "    num_detections  = config.DETECTION_MAX_INSTANCES\n",
    "    img_h, img_w    = config.IMAGE_SHAPE[:2]\n",
    "    batch_size      = config.BATCH_SIZE\n",
    "    num_classes     = config.NUM_CLASSES  \n",
    "    print('\\n ')\n",
    "    print('  > NEW build_heatmap() for ', names )\n",
    "    print('    orignal in_heatmap shape : ', in_heatmap.shape)       \n",
    "    # rois per image is determined by size of input tensor \n",
    "    #   detection mode:   config.TRAIN_ROIS_PER_IMAGE \n",
    "    #   ground_truth  :   config.DETECTION_MAX_INSTANCES\n",
    "    rois_per_image  = KB.int_shape(in_scores)[2] \n",
    "    # strt_cls        = 0 if rois_per_image == 32 else 1\n",
    "    print('    num of bboxes per class is : ', rois_per_image )\n",
    "\n",
    "    ##--------------------------------------------------------------------------------------------\n",
    "    ## generate score based on gaussian using bounding box masks \n",
    "    ## NOTE: Score is generated on NORMALIZED gaussian distributions (GAUSS_NORM)\n",
    "    ##       If want to do this on NON-NORMALIZED, we need to apply it on GAUSS_SUM\n",
    "    ##--------------------------------------------------------------------------------------------\n",
    "    # flatten guassian scattered and input_tensor, and pass on to build_bbox_score routine \n",
    "    in_scores_shape = tf.shape(in_scores)\n",
    "    in_scores_flat  = tf.reshape(in_scores, [-1, in_scores_shape[-1]])\n",
    "    bboxes = tf.to_int32(tf.round(in_scores_flat[...,0:4]))\n",
    "    # print('    in_scores_shape : ', in_scores_shape.eval() )\n",
    "    # print('    in_scores_flat  : ', tf.shape(in_scores_flat).eval())\n",
    "    # print('    boxes shape     : ', tf.shape(bboxes).eval())\n",
    "    print('    Rois per image  : ', rois_per_image)\n",
    "\n",
    "    #--------------------------------------------------------------------------------------------------------------------------\n",
    "    # duplicate GAUSS_NORM <num_roi> times to pass along with bboxes to map_fn function\n",
    "    #   Here we have a choice to calculate scores using the GAUSS_SUM (unnormalized) or GAUSS_NORM (normalized)\n",
    "    #   after looking at the scores and ratios for each option, I decided to go with the normalized \n",
    "    #   as the numbers are large\n",
    "    #---------------------------------------------------------------------------------------------------------------------------\n",
    "    dup_heatmap = tf.transpose(in_heatmap, [0,3,1,2])\n",
    "    print('    heatmap original shape   : ', in_heatmap.shape)\n",
    "    print('    heatmap transposed shape :',  dup_heatmap.get_shape())\n",
    "    dup_heatmap = tf.expand_dims(dup_heatmap, axis =2)\n",
    "    # print('    heatmap expanded shape   :',  tf.shape(dup_heatmap).eval())\n",
    "    dup_heatmap = tf.tile(dup_heatmap, [1,1, rois_per_image ,1,1])\n",
    "    print('    heatmap tiled            : ', dup_heatmap.get_shape())\n",
    "    dup_heatmap_shape   = KB.int_shape(dup_heatmap)\n",
    "    dup_heatmap         = KB.reshape(dup_heatmap, (-1, dup_heatmap_shape[-2], dup_heatmap_shape[-1]))\n",
    "    # print('    heatmap flattened        : ', tf.shape(dup_heatmap).eval())\n",
    "\n",
    "    scores = tf.map_fn(build_mask_routine, [dup_heatmap, bboxes], dtype=tf.float32)    \n",
    "\n",
    "    ##--------------------------------------------------------------------------------------------\n",
    "    ## Add returned values from scoring to the end of the input score \n",
    "    ##--------------------------------------------------------------------------------------------    \n",
    "    # consider the two new columns for reshaping the gaussian_bbox_scores\n",
    "    new_shape   = in_scores_shape + [0,0,0, tf.shape(scores)[-1]]        \n",
    "    bbox_scores = tf.concat([in_scores_flat, scores], axis = -1)\n",
    "    bbox_scores = tf.reshape(bbox_scores, new_shape)\n",
    "    # print('    new shape is            : ', new_shape.eval())\n",
    "    # print('    in_scores_flat          : ', tf.shape(in_scores_flat).eval())\n",
    "    # print('    Scores shape            : ', tf.shape(scores).eval())   # [(num_batches x num_class x num_rois ), 3]\n",
    "    # print('    boxes_scores (rehspaed) : ', tf.shape(bbox_scores).eval())    \n",
    "\n",
    "    ##--------------------------------------------------------------------------------------------\n",
    "    ## Normalize computed score above, and add it to the heatmap_score tensor as last column\n",
    "    ##--------------------------------------------------------------------------------------------\n",
    "    scr_L2norm   = tf.nn.l2_normalize(bbox_scores[...,-1], axis = -1)   # shape (num_imgs, num_class, num_rois)\n",
    "    scr_L2norm   = tf.expand_dims(scr_L2norm, axis = -1)\n",
    "\n",
    "    ##--------------------------------------------------------------------------------------------\n",
    "    # shape of tf.reduce_max(bbox_scores[...,-1], axis = -1, keepdims=True) is (num_imgs, num_class, 1)\n",
    "    #  This is a regular normalization that moves everything between [0, 1]. This causes negative values to move\n",
    "    #  to -inf. \n",
    "    # To address this a normalization between [-1 and +1] was introduced. Not sure how this will work with \n",
    "    # training tho.\n",
    "    ##--------------------------------------------------------------------------------------------\n",
    "    #     scr_norm     = bbox_scores[...,-1]/ tf.reduce_max(bbox_scores[...,-1], axis = -1, keepdims=True)\n",
    "    #     scr_norm     = tf.where(tf.is_nan(scr_norm),  tf.zeros_like(scr_norm), scr_norm)     \n",
    "    \n",
    "    ##--------------------------------------------------------------------------------------------\n",
    "    # this normalization moves values to [-1 +1] \n",
    "    ##--------------------------------------------------------------------------------------------    \n",
    "    reduce_max = tf.reduce_max(bbox_scores[...,-1], axis = -1, keepdims=True)\n",
    "    reduce_min = tf.reduce_min(bbox_scores[...,-1], axis = -1, keepdims=True)  ## epsilon    = tf.ones_like(reduce_max) * 1e-7\n",
    "    scr_norm  = (2* (bbox_scores[...,-1] - reduce_min) / (reduce_max - reduce_min)) - 1     \n",
    "\n",
    "    scr_norm     = tf.where(tf.is_nan(scr_norm),  tf.zeros_like(scr_norm), scr_norm)  \n",
    "    scr_norm     = tf.expand_dims(scr_norm, axis = -1)                             # shape (num_imgs, num_class, 32, 1)\n",
    "    # print('scr_norm shape ',tf.shape(scr_norm).eval())    \n",
    "    fcn_scores   = KB.identity(tf.concat([bbox_scores, scr_norm, scr_L2norm], axis = -1), name = 'fcn_scores') \n",
    "\n",
    "#     print('    fcn_scores  final shape : ', fcn_scores.shape ,' Keras tensor ', KB.is_keras_tensor(fcn_scores) )  \n",
    "    print('    complete')\n",
    "\n",
    "#     return fcn_scores     \n",
    "\n",
    "\n"
   ]
  },
  {
   "cell_type": "markdown",
   "metadata": {
    "hidden": true,
    "hideCode": false,
    "hidePrompt": true
   },
   "source": [
    "\n",
    "####  Display for visual check - `gauss_scores`  the final result from    `build_heatmap()`"
   ]
  },
  {
   "cell_type": "code",
   "execution_count": null,
   "metadata": {
    "ExecuteTime": {
     "end_time": "2018-05-20T17:08:12.099515Z",
     "start_time": "2018-05-20T17:08:09.585183Z"
    },
    "hidden": true,
    "hideCode": false,
    "hidePrompt": false
   },
   "outputs": [],
   "source": [
    "with sess.as_default():\n",
    "#     scr_norm     = bbox_scores[...,-1]/ tf.reduce_max(bbox_scores[...,-1], axis = -1, keepdims=True)\n",
    "#     scr_norm     = tf.where(tf.is_nan(scr_norm),  tf.zeros_like(scr_norm), scr_norm)     \n",
    "    \n",
    "    \n",
    "#     reduce_max = tf.reduce_max(bbox_scores[...,-1], axis = -1, keepdims=True)\n",
    "#     reduce_min = tf.reduce_min(bbox_scores[...,-1], axis = -1, keepdims=True)  ## epsilon    = tf.ones_like(reduce_max) * 1e-7\n",
    "#     reduce_max = tf.where(tf.equal(reduce_max, 0.0), epsilon, reduce_max)\n",
    "#     scr_norm1  = (2* (bbox_scores[...,-1] - reduce_min) / (reduce_max - reduce_min)) - 1\n",
    "#     scr_norm   = tf.expand_dims(scr_norm, axis = -1)   \n",
    "    \n",
    "    res = fcn_scores.eval()\n",
    "#     bbx =  bbox_scores[...,-1].eval()\n",
    "#     scr =  scr_norm.eval()\n",
    "#     scr1 = scr_norm1.eval()"
   ]
  },
  {
   "cell_type": "code",
   "execution_count": null,
   "metadata": {
    "ExecuteTime": {
     "end_time": "2018-05-20T17:12:10.341920Z",
     "start_time": "2018-05-20T17:12:10.034637Z"
    },
    "hidden": true,
    "hideCode": false,
    "hidePrompt": false,
    "scrolled": false
   },
   "outputs": [],
   "source": [
    "np.set_printoptions(linewidth=180, precision=5, suppress=False, threshold = 10000)\n",
    "# print(scr_norm.shape, scr_norm1.shape)\n",
    "# for i in range(5):\n",
    "#     for j in range(4):\n",
    "#         print('bbox')\n",
    "#         print(bbx[i,j])\n",
    "#         print('scr_norm')\n",
    "#         print(scr[i,j])\n",
    "#         print('scr_norm1')\n",
    "#         print(scr1[i,j])\n",
    "print(res.shape)\n",
    "print(res[...,8:])    "
   ]
  },
  {
   "cell_type": "code",
   "execution_count": null,
   "metadata": {
    "ExecuteTime": {
     "end_time": "2018-05-20T16:25:44.914311Z",
     "start_time": "2018-05-20T16:25:44.675762Z"
    },
    "hidden": true
   },
   "outputs": [],
   "source": [
    "print(test.shape)\n",
    "print(pred_heatmap_scores.shape)\n",
    "# pred_heatmap_scores[0,0]"
   ]
  },
  {
   "cell_type": "code",
   "execution_count": null,
   "metadata": {
    "ExecuteTime": {
     "end_time": "2018-05-20T16:26:52.257369Z",
     "start_time": "2018-05-20T16:26:52.011134Z"
    },
    "hidden": true,
    "hideCode": false,
    "hidePrompt": false,
    "scrolled": true
   },
   "outputs": [],
   "source": [
    "np.set_printoptions(linewidth=150, precision=8)\n",
    "with sess.as_default():\n",
    "    img = 0\n",
    "    for k in range(4):\n",
    "        print('FCN Scroes Image ', img , '/ Class ',k,' ------------')\n",
    "        print(test[img,k,:,6:])\n"
   ]
  },
  {
   "cell_type": "code",
   "execution_count": null,
   "metadata": {
    "ExecuteTime": {
     "end_time": "2018-05-20T15:54:28.997200Z",
     "start_time": "2018-05-20T15:54:23.845505Z"
    },
    "hidden": true
   },
   "outputs": [],
   "source": [
    "np.set_printoptions(linewidth=150, precision=7)\n",
    "with sess.as_default():\n",
    "    test1 = tf.reduce_max(fcn_scores[...,-1], axis=-1)\n",
    "    print(test1.eval())\n",
    "    epsilon = tf.ones_like(test1) * 1e-7\n",
    "    print(epsilon.eval())\n",
    "    test2 = tf.where(tf.equal(test1, 0.0), epsilon, test1)\n",
    "    print(test2.eval())"
   ]
  },
  {
   "cell_type": "code",
   "execution_count": null,
   "metadata": {
    "hidden": true
   },
   "outputs": [],
   "source": []
  },
  {
   "cell_type": "code",
   "execution_count": null,
   "metadata": {
    "hidden": true
   },
   "outputs": [],
   "source": []
  },
  {
   "cell_type": "markdown",
   "metadata": {
    "hidden": true
   },
   "source": [
    "### Following results were produced using GAUSS_SUM for score generation"
   ]
  },
  {
   "cell_type": "code",
   "execution_count": null,
   "metadata": {
    "ExecuteTime": {
     "end_time": "2018-05-20T17:41:01.276701Z",
     "start_time": "2018-05-20T17:41:01.030033Z"
    },
    "hidden": true
   },
   "outputs": [],
   "source": [
    "def smooth_l1_loss(y_true, y_pred):\n",
    "    \"\"\"Implements Smooth-L1 loss.\n",
    "    y_true and y_pred are typicallly: [N, 4], but could be any shape.\n",
    "    \"\"\"\n",
    "    diff = KB.abs(y_true - y_pred)\n",
    "    less_than_one = KB.cast(KB.less(diff, 1.0), \"float32\")\n",
    "    loss = (less_than_one * 0.5 * diff**2) + (1 - less_than_one) * (diff - 0.5)\n",
    "    return loss\n"
   ]
  },
  {
   "cell_type": "code",
   "execution_count": null,
   "metadata": {
    "ExecuteTime": {
     "end_time": "2018-05-20T17:41:03.447875Z",
     "start_time": "2018-05-20T17:41:03.156120Z"
    },
    "hidden": true,
    "hideCode": false,
    "hidePrompt": false
   },
   "outputs": [],
   "source": [
    "##--------------------------------------------------------------------------\n",
    "## setup input values\n",
    "input_target = tf.identity(gt_heatmap_scores)\n",
    "input_pred   = tf.identity(fcn_scores)\n",
    "# in_tensor = tf.placeholder(tf.float32, shape=[3,4,32,6], name = 'in_tensor')\n",
    "sess = KB.get_session()\n",
    "config = model.config\n",
    "names = ['Dev']\n",
    "##--------------------------------------------------------------------------\n",
    "\n",
    "\n",
    "##-----------------------------------------------------------------------\n",
    "##  FCN loss\n",
    "##-----------------------------------------------------------------------    \n",
    "# def fcn_norm_loss_graph(input_target,  input_pred):\n",
    "with sess.as_default():\n",
    "    '''\n",
    "    Generate Loss based on Normalized score in PRED_HEATMAP_SCORES and FCN_HEATMAP_SCORES \n",
    "    \n",
    "    Inputs:            \n",
    "    gt_heatmap_scores   [batch, num_classes, num_rois, 11 ] --> column 9 contains normalized score.\n",
    "    pred_heatmap:       [batch, num_classes, num_rois, 16 ] --> column 14 contains normalized score\n",
    "    '''\n",
    "    pred_scores   = input_pred[...,14]\n",
    "    target_scores = input_target[...,9]\n",
    "    # Reshape for simplicity. Merge first two dimensions into one.\n",
    "    print('\\n>>> fcn_norm_loss_graph ' )\n",
    "    print('    target_scores shape :', target_scores.shape)\n",
    "    print('    pred_scores   shape :', pred_scores.shape)    \n",
    "\n",
    "    target_scores1 = KB.reshape(target_scores, (-1,1))\n",
    "    print('    target_scores1 shape :', target_scores1.get_shape(), KB.int_shape(target_scores1))        \n",
    "    pred_scores1   = KB.reshape(pred_scores  , (-1,1))\n",
    "    print('    pred_scores1  shape :', pred_scores1.get_shape())        \n",
    "\n",
    "#     # Compute binary cross entropy. If no positive ROIs, then return 0.\n",
    "#     # shape: [batch, roi, num_classes]\n",
    "#     # Smooth-L1 Loss\n",
    "    loss        = KB.switch(tf.size(target_scores1) > 0,\n",
    "                    smooth_l1_loss(y_true=target_scores1, y_pred=pred_scores1),\n",
    "                    tf.constant(0.0))\n",
    "    loss        = KB.mean(loss)\n",
    "    loss        = tf.reshape(loss, [1, 1], name = 'fcn_normalized_loss')\n",
    "    print('    loss type is :', type(loss))\n",
    "    return loss\n",
    "     "
   ]
  },
  {
   "cell_type": "code",
   "execution_count": null,
   "metadata": {
    "ExecuteTime": {
     "end_time": "2018-05-20T17:41:33.400765Z",
     "start_time": "2018-05-20T17:41:32.525983Z"
    },
    "hidden": true,
    "hideCode": false,
    "hidePrompt": false,
    "scrolled": false
   },
   "outputs": [],
   "source": [
    "with sess.as_default():\n",
    "    los = loss.eval()\n",
    "    print(los.shape)"
   ]
  },
  {
   "cell_type": "code",
   "execution_count": null,
   "metadata": {
    "hidden": true
   },
   "outputs": [],
   "source": []
  },
  {
   "cell_type": "code",
   "execution_count": null,
   "metadata": {
    "hidden": true
   },
   "outputs": [],
   "source": []
  },
  {
   "cell_type": "code",
   "execution_count": null,
   "metadata": {
    "hidden": true
   },
   "outputs": [],
   "source": []
  },
  {
   "cell_type": "code",
   "execution_count": null,
   "metadata": {
    "hidden": true
   },
   "outputs": [],
   "source": []
  },
  {
   "cell_type": "markdown",
   "metadata": {
    "heading_collapsed": true,
    "hideCode": false,
    "hidePrompt": true
   },
   "source": [
    "## `development_build_heatmap` - Using Alternative , more efficient method to generate `gauss_sum`\n",
    "    Develped a more efficient way of gneerating the heatmap without dynamic_parittioning and avoiding redundant tensor manipulation"
   ]
  },
  {
   "cell_type": "code",
   "execution_count": null,
   "metadata": {
    "ExecuteTime": {
     "end_time": "2018-05-17T12:41:37.050069Z",
     "start_time": "2018-05-17T12:41:30.490797Z"
    },
    "hidden": true,
    "hideCode": false,
    "hideOutput": true,
    "hidePrompt": true
   },
   "outputs": [],
   "source": [
    "##def development_build_gaussian_tf(in_tensor, config, names = None):\n",
    "# in_tensor = KB.constant(pred_tensor)\n",
    "# graph1 = tf.Graph()\n",
    "# with graph1.as_default():\n",
    "# try:\n",
    "#     print(' Session to close ', sess)\n",
    "#     sess.close()\n",
    "#     print('session was deleted ')\n",
    "# except:\n",
    "#     print(' Session was not defined ', sess)\n",
    "#     pass\n",
    "sess = KB.get_session()\n",
    "print(' New session obtained from Kras', sess)\n",
    "\n",
    "with sess.as_default():\n",
    "##--------------------------------------------------------------------------\n",
    "## setup input values\n",
    "    in_tensor = tf.identity(pred_tensor)\n",
    "    # in_tensor = tf.placeholder(tf.float32, shape=[3,4,32,6], name = 'in_tensor')\n",
    "\n",
    "    config = model.config\n",
    "    names = ['Dev']\n",
    "##--------------------------------------------------------------------------\n",
    "    \n",
    "    # def build_heatmap(in_tensor, config, names = None):\n",
    "\n",
    "    num_detections  = config.DETECTION_MAX_INSTANCES\n",
    "    img_h, img_w    = config.IMAGE_SHAPE[:2]\n",
    "    batch_size      = config.BATCH_SIZE\n",
    "    num_classes     = config.NUM_CLASSES  \n",
    "    print('\\n ')\n",
    "    print('  > NEW build_heatmap() for ', names )\n",
    "    print('    orignal in_tensor shape : ', in_tensor.shape)       \n",
    "    # rois per image is determined by size of input tensor \n",
    "    #   detection mode:   config.TRAIN_ROIS_PER_IMAGE \n",
    "    #   ground_truth  :   config.DETECTION_MAX_INSTANCES\n",
    "    rois_per_image  = (in_tensor.shape)[2] \n",
    "    # strt_cls        = 0 if rois_per_image == 32 else 1\n",
    "    print('    num of bboxes per class is : ', rois_per_image )\n",
    "\n",
    "    #-----------------------------------------------------------------------------    \n",
    "    ## Stack non_zero bboxes from in_tensor into pt2_dense \n",
    "    #-----------------------------------------------------------------------------\n",
    "    # pt2_ind shape is [?, 3]. \n",
    "    #   pt2_ind[0] corresponds to image_index \n",
    "    #   pt2_ind[1] corresponds to class_index \n",
    "    #   pt2_ind[2] corresponds to roi row_index \n",
    "    # pt2_dense shape is [?, 6]\n",
    "    #    pt2_dense[0] is image index\n",
    "    #    pt2_dense[1:4]  roi cooridnaytes \n",
    "    #    pt2_dense[5]    is class id \n",
    "    #-----------------------------------------------------------------------------\n",
    "    pt2_sum = tf.reduce_sum(tf.abs(in_tensor[:,:,:,:-2]), axis=-1)\n",
    "    print('    pt2_sum shape ',pt2_sum.shape)\n",
    "    # print(pt2_sum[0].eval())\n",
    "    pt2_ind = tf.where(pt2_sum > 0)\n",
    "\n",
    "    ## replaced the two operations below with the one above - 15-05-2018\n",
    "    # pt2_mask = tf.greater(pt2_sum , 0)\n",
    "    # pt2_ind  = tf.where(pt2_mask)\n",
    "    # print(' pt2_mask shape ', pt2_mask.get_shape())\n",
    "    # print(pt2_mask.eval())\n",
    "    # print('    pt2_ind shape ', pt2_ind.get_shape())\n",
    "    # print(pt2_ind.eval())\n",
    "\n",
    "    pt2_dense = tf.gather_nd( in_tensor, pt2_ind)\n",
    "    print('    dense shape ',pt2_dense.get_shape())\n",
    "\n",
    "    #-----------------------------------------------------------------------------\n",
    "    ## Build mesh-grid to hold pixel coordinates  \n",
    "    #-----------------------------------------------------------------------------\n",
    "    X = tf.range(img_w, dtype=tf.int32)\n",
    "    Y = tf.range(img_h, dtype=tf.int32)\n",
    "    X, Y = tf.meshgrid(X, Y)\n",
    "\n",
    "    # duplicate (repeat) X and Y into a  batch_size x rois_per_image tensor\n",
    "    print('    X/Y shapes :',  X.get_shape(), Y.get_shape())\n",
    "    ones = tf.ones([tf.shape(pt2_dense)[0] , 1, 1], dtype = tf.int32)\n",
    "    rep_X = ones * X\n",
    "    rep_Y = ones * Y \n",
    "    print('    Ones:    ', ones.shape)                \n",
    "    print('    ones_exp * X', ones.shape, '*', X.shape, '= ',rep_X.shape)\n",
    "    print('    ones_exp * Y', ones.shape, '*', Y.shape, '= ',rep_Y.shape)\n",
    "\n",
    "    # # stack the X and Y grids \n",
    "    bef_pos = tf.to_float(tf.stack([rep_X,rep_Y], axis = -1))\n",
    "    print('    before transpse ', bef_pos.get_shape())\n",
    "    pos_grid = tf.transpose(bef_pos,[1,2,0,3])\n",
    "    print('    after transpose ', pos_grid.get_shape())    \n",
    "\n",
    "    #-----------------------------------------------------------------------------\n",
    "    ##  Build mean and convariance tensors for Multivariate Normal Distribution \n",
    "    #-----------------------------------------------------------------------------\n",
    "    width  = pt2_dense[:,3] - pt2_dense[:,1]      # x2 - x1\n",
    "    height = pt2_dense[:,2] - pt2_dense[:,0]\n",
    "    cx     = pt2_dense[:,1] + ( width  / 2.0)\n",
    "    cy     = pt2_dense[:,0] + ( height / 2.0)\n",
    "    means  = tf.stack((cx,cy),axis = -1)\n",
    "    covar  = tf.stack((width * 0.5 , height * 0.5), axis = -1)\n",
    "    covar  = tf.sqrt(covar)\n",
    "\n",
    "    tfd = tf.contrib.distributions\n",
    "    mvn = tfd.MultivariateNormalDiag( loc  = means,  scale_diag = covar)\n",
    "    prob_grid = mvn.prob(pos_grid)\n",
    "    print('     Prob_grid shape before tanspose: ',prob_grid.get_shape())\n",
    "    prob_grid = tf.transpose(prob_grid,[2,0,1])\n",
    "    print('     Prob_grid shape after tanspose: ',prob_grid.get_shape())    \n",
    "    print('    >> input to MVN.PROB: pos_grid (meshgrid) shape: ', pos_grid.get_shape())\n",
    "    print('    << output probabilities shape:' , prob_grid.get_shape())\n",
    "\n",
    "    #--------------------------------------------------------------------------------\n",
    "    ## IMPORTANT: kill distributions of NaN boxes (resulting from bboxes with height/width of zero\n",
    "    ## which cause singular sigma cov matrices\n",
    "    #--------------------------------------------------------------------------------\n",
    "    prob_grid = tf.where(tf.is_nan(prob_grid),  tf.zeros_like(prob_grid), prob_grid)\n",
    "\n",
    "\n",
    "    ## scatter out the probability distributions based on class --------------------------\n",
    "    print('\\n    Scatter out the probability distributions based on class --------------') \n",
    "    gauss_scatt   = tf.scatter_nd(pt2_ind, prob_grid, [batch_size, num_classes, rois_per_image, img_w, img_h])\n",
    "    print('    pt2_ind shape   : ', pt2_ind.shape)  \n",
    "    print('    prob_grid shape : ', prob_grid.shape)  \n",
    "    print('    gauss_scatt     : ', gauss_scatt.shape)   # batch_sz , num_classes, num_rois, image_h, image_w\n",
    "    \n",
    "    ## heatmap: sum gauss_scattered based on class ---------------------------------------\n",
    "    print('\\n    Reduce sum based on class ---------------------------------------------')         \n",
    "    gauss_sum = tf.reduce_sum(gauss_scatt, axis=2, name='pred_heatmap2')\n",
    "    gauss_sum = tf.where(gauss_sum > 1e-12, gauss_sum, tf.zeros_like(gauss_sum))\n",
    "    print('    gaussian_sum shape     : ', gauss_sum.get_shape(), 'Keras tensor ', KB.is_keras_tensor(gauss_sum) )      \n",
    "    \n",
    "    ##---------------------------------------------------------------------------------------------\n",
    "    ## heatmap L2 normalization\n",
    "    ## Normalization using the  `gauss_sum` (batchsize , num_classes, height, width) \n",
    "    ## 17-05-2018 (New method, replace dthe previous method that usedthe transposed gauss sum\n",
    "    ##---------------------------------------------------------------------------------------------\n",
    "    print('\\n    L2 normalization ------------------------------------------------------')   \n",
    "    heatmap_shape=KB.shape(gauss_sum)\n",
    "    print('    gauss-sum.shape:', gauss_sum.shape, 'tf.shape :', tf.shape(gauss_sum))\n",
    "\n",
    "    gauss_flatten = KB.reshape(gauss_sum, (heatmap_shape[0], heatmap_shape[1], -1 ) )  # reshape to image, class\n",
    "    output_norm   = KB.l2_normalize(gauss_flatten, axis = -1)    \n",
    "    gauss_norm    = KB.identity(KB.reshape(output_norm,  heatmap_shape ) , name = names[0]+'_norm')   \n",
    "\n",
    "    print('    gauss_flatten    : ', tf.shape(gauss_flatten).eval(session=sess) , gauss_flatten.shape,' Keras tensor ', KB.is_keras_tensor(gauss_flatten) )\n",
    "    print('    output of norm   : ', tf.shape(output_norm).eval(session=sess)   , output_norm.shape  ,' Keras tensor ', KB.is_keras_tensor(output_norm) )\n",
    "    print('    gauss_norm final : ', tf.shape(gauss_norm).eval(session=sess)    , gauss_norm.shape   ,' Keras tensor ', KB.is_keras_tensor(gauss_norm) )    "
   ]
  },
  {
   "cell_type": "markdown",
   "metadata": {
    "hidden": true
   },
   "source": [
    "### Normalization using the  `gauss_sum` (batchsize , num_classes, height, width) (New method) "
   ]
  },
  {
   "cell_type": "code",
   "execution_count": null,
   "metadata": {
    "ExecuteTime": {
     "end_time": "2018-05-17T12:33:00.523586Z",
     "start_time": "2018-05-17T12:32:54.739124Z"
    },
    "hidden": true,
    "hideCode": true,
    "hideOutput": true,
    "hidePrompt": false
   },
   "outputs": [],
   "source": [
    "# with sess.as_default():\n",
    "#     ## heatmap: L2 normalization  -----------------------------------------------------------------\n",
    "#     print('\\n    L2 normalization ------------------------------------------------------')   \n",
    "#     heatmap_shape=KB.shape(gauss_sum)\n",
    "#     print('    gauss-sum.shape:', gauss_sum.shape, 'tf.shape :', tf.shape(gauss_sum))\n",
    "\n",
    "#     gauss_flatten = KB.reshape(gauss_sum, (heatmap_shape[0], heatmap_shape[1], -1 ) )  # reshape to image, class\n",
    "#     output_norm   = KB.l2_normalize(gauss_flatten, axis = -1)    \n",
    "#     gauss_norm    = KB.identity(KB.reshape(output_norm,  heatmap_shape ) , name = names[0]+'_norm')   \n",
    "\n",
    "#     print('    gauss_flatten    : ', tf.shape(gauss_flatten).eval(session=sess) , gauss_flatten.shape,' Keras tensor ', KB.is_keras_tensor(gauss_flatten) )\n",
    "#     print('    output of norm   : ', tf.shape(output_norm).eval(session=sess)   , output_norm.shape  ,' Keras tensor ', KB.is_keras_tensor(output_norm) )\n",
    "#     print('    gauss_norm final : ', tf.shape(gauss_norm).eval(session=sess)    , gauss_norm.shape   ,' Keras tensor ', KB.is_keras_tensor(gauss_norm) )"
   ]
  },
  {
   "cell_type": "markdown",
   "metadata": {
    "hidden": true
   },
   "source": [
    "### Normalization using the TRANSPOSED `gauss_sum` (batchsize, height, width , num_classes)   (OLD method) "
   ]
  },
  {
   "cell_type": "code",
   "execution_count": null,
   "metadata": {
    "ExecuteTime": {
     "end_time": "2018-05-17T10:33:39.255864Z",
     "start_time": "2018-05-17T10:33:33.780634Z"
    },
    "hidden": true,
    "hideCode": true,
    "hideOutput": true,
    "hidePrompt": true
   },
   "outputs": [],
   "source": [
    "### (old method) Normalization using the TRANSPOSED gauss_sum\n",
    "\n",
    "# with sess.as_default():\n",
    "#     ## heatmap: L2 normalization  -----------------------------------------------------------------\n",
    "#     print('\\n    L2 normalization ------------------------------------------------------')   \n",
    "#     heatmap_shape=KB.shape(gauss_sum_tp)\n",
    "#     print('    gauss-sum.shape:', gauss_sum_tp.shape, 'tf.shape :', tf.shape(gauss_sum_tp))\n",
    "\n",
    "#     gauss_flatten_tp = KB.reshape(gauss_sum, (heatmap_shape[0], -1, heatmap_shape[-1]) )  # reshape to image, class\n",
    "#     output_norm_tp   = KB.l2_normalize(gauss_flatten_tp, axis = 1)    \n",
    "#     gauss_norm_tp    = KB.identity(KB.reshape(output_norm_tp,  heatmap_shape ) , name = names[0]+'_norm')   \n",
    "\n",
    "#     print('    gauss_flatten    : ', tf.shape(gauss_flatten_tp).eval() , gauss_flatten_tp.shape,' Keras tensor ', KB.is_keras_tensor(gauss_flatten) )\n",
    "#     print('    output of norm   : ', tf.shape(output_norm_tp).eval()   , output_norm_tp.shape  ,' Keras tensor ', KB.is_keras_tensor(output_norm) )\n",
    "#     print('    gauss_norm final : ', tf.shape(gauss_norm_tp).eval()    , gauss_norm_tp.shape   ,' Keras tensor ', KB.is_keras_tensor(gauss_norm) )"
   ]
  },
  {
   "cell_type": "markdown",
   "metadata": {
    "hidden": true,
    "hideCode": true
   },
   "source": [
    "### Old method - generating `gauss_heatmap_scores` using `gauss_scatter`\n",
    "\n",
    "This will NOT work for generating scores in FCN, since we do not have the heatmaps per individual bounding box. \n",
    "We need to apply the boundingbox masks on the GAUSS_SUM\n",
    "\n",
    "#### If we use this to generate scores, the scores will only reflect the heatmap produced for one object's bounding box. The overlapping of bounding boxes will not affect the generated scores. Therefore, the scores are invariant of possible overlapping. \n",
    "#### We could possibly use this if we want to generate independent scores for bounding boxes with no overlaps. However it's important to consider the ramifications. "
   ]
  },
  {
   "cell_type": "code",
   "execution_count": null,
   "metadata": {
    "ExecuteTime": {
     "end_time": "2018-05-17T10:52:16.836988Z",
     "start_time": "2018-05-17T10:52:16.578780Z"
    },
    "hidden": true,
    "hideCode": true,
    "hideOutput": true,
    "hidePrompt": true
   },
   "outputs": [],
   "source": [
    "with sess.as_default():\n",
    "    ##--------------------------------------------------------------------------------------------\n",
    "    ## generate score based on gaussian using bouding box masks \n",
    "    ## NOTE: Score is generated on NON-NORMALIZED gaussian distributions\n",
    "    ##       If want to do this on normalized, we need to apply normalization to gauss_scatt first\n",
    "    ##--------------------------------------------------------------------------------------------\n",
    "    # flatten guassian scattered and input_tensor, and pass on to build_bbox_score routine \n",
    "    in_tensor_flattened  = tf.reshape(in_tensor, [-1,6])\n",
    "    bboxes = tf.to_int32(tf.round(in_tensor_flattened[...,0:4]))\n",
    "    print('    in_tensor               ', in_tensor.shape)\n",
    "    print('    in_tensorr_flattened is ', in_tensor_flattened.shape)\n",
    "    print('    boxes shape          ', bboxes.shape)\n",
    "\n",
    "    # DONT NEED THIS - was put there to try to avoid computing sum/area for zero bboxes.\n",
    "    # kept as reference for future generations .....\n",
    "    # bbox_sum = tf.reduce_max(in_tensor[...,0:3], axis = -1, name  = 'bbox_sum')\n",
    "    # print(' bbox sum shape: ', bbox_sum.shape)\n",
    "\n",
    "    gauss_scatt_shape   = KB.int_shape(gauss_scatt)\n",
    "    gauss_scatt_reshape = KB.reshape(gauss_scatt, (-1, gauss_scatt_shape[-2], gauss_scatt_shape[-1]))\n",
    "    print('    gaussian scatter shape : ', gauss_scatt_shape)\n",
    "    print('    gaussian scatter reshaped : ', gauss_scatt_reshape.shape)\n",
    "    print('    gaussian sum shape          ', KB.int_shape(gauss_sum))\n",
    "\n",
    "    # ones_map = tf.ones([384,128,128])   \n",
    "    scores = tf.map_fn(build_mask_routine, [gauss_scatt_reshape, bboxes], dtype=tf.float32)\n",
    "\n",
    "    new_shape = tf.shape(in_tensor)+ [0,0,0,tf.shape(scores)[-1]]        \n",
    "    gaussian_bbox_scores = tf.concat([in_tensor_flattened, scores], axis = -1)\n",
    "    print('    in_tensor_flattened shape : ', scatter_flattened.shape)\n",
    "    print('    Scores shape              : ', scores.shape)\n",
    "    print('    gaussian_boxes_scores     : ', gaussian_bbox_scores.shape)    \n",
    "    gaussian_bbox_scores = tf.reshape(gaussian_bbox_scores, new_shape, name = names[0]+'_scores')\n",
    "\n",
    "    ##--------------------------------------------------------------------------------------------\n",
    "    ## Normalize computed score above, and add it to the heatmap_score tensor as last column\n",
    "    ##--------------------------------------------------------------------------------------------\n",
    "#     scr = gaussian_bbox_scores[...,-2]/gaussian_bbox_scores[...,-1]\n",
    "#     scr = tf.where(tf.is_nan(scr),  tf.zeros_like(scr), scr)       \n",
    "#     scr_norm = tf.nn.l2_normalize(scr, axis = -1)\n",
    "#     scr_norm = tf.expand_dims(scr_norm, axis = -1)\n",
    "#     gaussian_bbox_scores = tf.concat([gaussian_bbox_scores, scr_norm], axis = -1)\n",
    "\n",
    "#     print('    gaussian_bbox_scores final shape   : ', gaussian_bbox_scores.shape)\n",
    "#     print('    complete')\n",
    "\n",
    "# return  gauss_norm, gaussian_bbox_scores    # [gauss_sum, gauss_scatt, means, covar]"
   ]
  },
  {
   "cell_type": "markdown",
   "metadata": {
    "hidden": true,
    "hideCode": true
   },
   "source": [
    "### NEW method - generating `gauss_heatmap_scores` using `gauss_sum`\n",
    "\n",
    "Since FCN provides a heatmap per class , and not per individual object, we use the similar method here to generate heat maps. "
   ]
  },
  {
   "cell_type": "code",
   "execution_count": null,
   "metadata": {
    "ExecuteTime": {
     "end_time": "2018-05-17T12:43:11.833374Z",
     "start_time": "2018-05-17T12:43:07.138502Z"
    },
    "hidden": true,
    "hideCode": true,
    "hideOutput": true,
    "hidePrompt": true
   },
   "outputs": [],
   "source": [
    "with sess.as_default():\n",
    "    ##--------------------------------------------------------------------------------------------\n",
    "    ## generate score based on gaussian using bouding box masks \n",
    "    ## NOTE: Score is generated on NON-NORMALIZED gaussian distributions\n",
    "    ##       If want to do this on normalized, we need to apply normalization to gauss_scatt first\n",
    "    ##--------------------------------------------------------------------------------------------\n",
    "    # flatten guassian scattered and input_tensor, and pass on to build_bbox_score routine \n",
    "    in_tensor_flattened  = tf.reshape(in_tensor, [-1,6])\n",
    "    bboxes = tf.to_int32(tf.round(in_tensor_flattened[...,0:4]))\n",
    "    print('    in_tensor               ', in_tensor.shape)\n",
    "    print('    in_tensorr_flattened is ', in_tensor_flattened.shape)\n",
    "    print('    boxes shape          ', bboxes.shape)\n",
    "\n",
    "    print(rois_per_image)\n",
    "    ##--------------------------------------------------------------------------------------------\n",
    "    # duplicate gauss_sum <num_roi> times to pass along with bboxes to map_fn function\n",
    "    ##--------------------------------------------------------------------------------------------\n",
    "    temp = tf.expand_dims(gauss_sum, axis =2)\n",
    "    print('  Gauss_Sum expanced shape :',  temp.get_shape())\n",
    "    temp = tf.tile(temp, [1,1, rois_per_image ,1,1])\n",
    "    print('  Gauss_Sum expanded/tiled shape :',  temp.get_shape())\n",
    "    temp_shape   = KB.int_shape(temp)\n",
    "    temp_reshape = KB.reshape(temp, (-1, temp_shape[-2], temp_shape[-1]))\n",
    "    print('    gauss_sum original shape  : ', gauss_sum.shape)\n",
    "    print('    gauss_sum replicated      : ', temp_shape)\n",
    "    print('    gaussian scatter reshaped : ', temp_reshape.shape)\n",
    "\n",
    "    scores = tf.map_fn(build_mask_routine, [temp_reshape, bboxes], dtype=tf.float32)\n",
    "    # consider the two new columns for reshaping the gaussian_bbox_scores\n",
    "    new_shape = tf.shape(in_tensor)+ [0,0,0, tf.shape(scores)[-1]]        \n",
    "    gaussian_bbox_scores = tf.concat([scatter_flattened, scores], axis = -1)\n",
    "    print('    Scatter Flattened shape : ', scatter_flattened.shape)\n",
    "    print('    Scores shape :            ', scores.shape)\n",
    "    print('    gaussian_boxes_scores initial shape: ', gaussian_bbox_scores.shape)    \n",
    "    gaussian_bbox_scores = tf.reshape(gaussian_bbox_scores, new_shape, name = names[0]+'_scores')\n",
    "\n",
    "\n",
    "    ##--------------------------------------------------------------------------------------------\n",
    "    ## Normalize computed score above, and add it to the heatmap_score tensor as last column\n",
    "    ##--------------------------------------------------------------------------------------------\n",
    "    scr = gaussian_bbox_scores[...,-2]/gaussian_bbox_scores[...,-1]\n",
    "    scr = tf.where(tf.is_nan(scr),  tf.zeros_like(scr), scr)       \n",
    "    scr_norm = tf.nn.l2_normalize(scr, axis = -1)\n",
    "    scr_norm = tf.expand_dims(scr_norm, axis = -1)\n",
    "    gaussian_bbox_scores = tf.concat([gaussian_bbox_scores, scr_norm], axis = -1)\n",
    "    gauss_norm = tf.transpose(gauss_norm,[0,2,3,1], name = names[0])  \n",
    "    \n",
    "    \n",
    "    print('    gauss_norm           final shape   : ', gauss_norm.shape)\n",
    "    print('    gaussian_bbox_scores final shape   : ', tf.shape(gaussian_bbox_scores).eval())\n",
    "    print('    complete')\n",
    "\n",
    "# return  gauss_norm, gaussian_bbox_scores    # [gauss_sum, gauss_scatt, means, covar]"
   ]
  },
  {
   "cell_type": "code",
   "execution_count": null,
   "metadata": {
    "ExecuteTime": {
     "end_time": "2018-05-17T12:43:54.164205Z",
     "start_time": "2018-05-17T12:43:53.577870Z"
    },
    "hidden": true,
    "scrolled": false
   },
   "outputs": [],
   "source": [
    "with sess.as_default():\n",
    "    print(pred_heatmap_scores)"
   ]
  },
  {
   "cell_type": "markdown",
   "metadata": {
    "hidden": true,
    "hideCode": true,
    "hidePrompt": true
   },
   "source": [
    "###  Compare results from old and new method of generating `gauss_sum`"
   ]
  },
  {
   "cell_type": "code",
   "execution_count": null,
   "metadata": {
    "ExecuteTime": {
     "end_time": "2018-05-17T10:40:06.501659Z",
     "start_time": "2018-05-17T10:39:03.275888Z"
    },
    "hidden": true,
    "hideCode": false,
    "hideOutput": true,
    "hidePrompt": true,
    "scrolled": false
   },
   "outputs": [],
   "source": [
    "# try:\n",
    "#     sess.close()\n",
    "#     print('session was deleted ')\n",
    "# except:\n",
    "#     print('Session was not defined ')\n",
    "#     pass\n",
    "# sess = tf.InteractiveSession()\n",
    "with sess.as_default():\n",
    "    np.set_printoptions(linewidth=130, threshold=20000)\n",
    "    gt   = gauss_norm_tp2 # gt_gaussian \n",
    "    gt2  = gauss_norm_tp # gt_gaussian_2\n",
    "    # gt   = np.where(gt > 1e-6,gt,0)\n",
    "    # gt2   = np.where(gt2 > 1e-6,gt2,0)\n",
    "    print( ' pt shape ', gt.shape, ' pt2.shape ', gt2.shape)\n",
    "\n",
    "    for img in range(3):\n",
    "        print('Image', img)\n",
    "\n",
    "        for cls in range(4):\n",
    "\n",
    "            all_equal = np.all(np.equal(gt2[img, :,:,cls], gt[img, :,:,cls]))\n",
    "        #         for roi in range(32):\n",
    "    #             print('roi:', roi)\n",
    "    #             equal = tf.equal(gt2[img, cls, roi, line], gt[img, cls,roi, line])\n",
    "    #             all_equal = tf.reduce_all(equal).eval()     \n",
    "            if all_equal:\n",
    "                max_diff = np.max(gt2[img, :,:, cls]- gt[img, :,:,cls]).eval()\n",
    "                print('Img: ', img, ' Cls',cls, 'All equal', all_equal, '    Largest diffeence in cls', cls,':', max_diff)            \n",
    "            else:\n",
    "                for line in range(128):\n",
    "                    all_equal = np.all(np.equal(gt2[img, line,:,cls], gt[img, line,:,cls]))\n",
    "                    if all_equal:\n",
    "                        print('Img: ', img, 'Calss',cls, 'LINE', line, 'All equal', all_equal)   \n",
    "                    else:\n",
    "                        max_diff = np.max(gt2[img, line,:, cls]- gt[img, line,:,cls])\n",
    "                        print('Img: ', img, 'Calss',cls, 'LINE', line, 'All equal', all_equal,' Max difference :', max_diff.eval() )\n",
    "    #                 print(' -- pred_hm\\n',  gt[img, line, :,cls])\n",
    "    #                 print(' -- prd_hm2\\n', gt2[img, line, :, cls])                \n"
   ]
  },
  {
   "cell_type": "code",
   "execution_count": null,
   "metadata": {
    "ExecuteTime": {
     "end_time": "2018-05-10T15:10:04.730267Z",
     "start_time": "2018-05-10T15:10:00.524802Z"
    },
    "hidden": true,
    "hideCode": false,
    "hidePrompt": true
   },
   "outputs": [],
   "source": [
    "feed_dict = {in_tensor: pred_tensor}\n",
    "fetches = [stacked_tensor, rnd_tensor, gauss_sum]\n",
    "sess = tf.Session()\n",
    "print(' tfsession() is ', sess)\n",
    "tt = sess.run(fetches, feed_dict = feed_dict )\n",
    "print(type(tt), len(tt))\n",
    "sess.close()"
   ]
  },
  {
   "cell_type": "code",
   "execution_count": null,
   "metadata": {
    "ExecuteTime": {
     "end_time": "2018-05-10T15:10:04.974515Z",
     "start_time": "2018-05-10T15:10:04.731741Z"
    },
    "hidden": true,
    "hideCode": true,
    "hidePrompt": true
   },
   "outputs": [],
   "source": [
    "img = 1\n",
    "print(' Stacked Tensor Shape: ', tt[0].shape)\n",
    "print(' Stacked Tensor :   \\n ', tt[0][img])\n",
    "\n",
    "print(' rnd_tensor shape ', tt[1].shape)\n",
    "print(' rnd_tensor :  \\n ', tt[1][img])\n",
    "\n",
    "print(' Gauss_Sum shape :\\n', tt[2].shape)\n",
    "# print(' FP gt boxes        :\\n', tt[3])\n",
    "# print(' FP gt class assign :\\n', tt[4])\n",
    "# print(' gt class ids assign :\\n', tt[5])\n",
    "# print()\n",
    "# print('fp_rois ', tt[6].shape, '\\n',tt[6])\n",
    "# print('rois ', tt[9].shape, '\\n',tt[9])\n",
    "# print()\n",
    "# print('fp_rois_gt_boxes ', tt[7].shape, '\\n',tt[7])\n",
    "# print('rois_gt_boxes ', tt[10].shape, '\\n',tt[10])\n",
    "# print()\n",
    "# print('fp_rois_gt_class_ids ', tt[8].shape, '\\n',tt[8])\n",
    "# print('rois_gt_class_ids ', tt[11].shape, '\\n',tt[11])\n",
    "# # return positive_ind_shuffled, positive_indices, positive_overlaps, roi_gt_box_assignment,roi_gt_boxes, roi_gt_class_ids"
   ]
  },
  {
   "cell_type": "code",
   "execution_count": null,
   "metadata": {
    "ExecuteTime": {
     "end_time": "2018-05-10T13:43:36.617141Z",
     "start_time": "2018-05-10T13:43:35.151625Z"
    },
    "hidden": true,
    "hideCode": true,
    "hideOutput": true,
    "hidePrompt": true,
    "scrolled": false
   },
   "outputs": [],
   "source": [
    "with sess.as_default():\n",
    "    gauss_sum = development_build_gaussian_tf(KB.constant(pred_tensor), model.config, names = ['Dev'])"
   ]
  },
  {
   "cell_type": "code",
   "execution_count": null,
   "metadata": {
    "hidden": true,
    "hideCode": true,
    "hidePrompt": true
   },
   "outputs": [],
   "source": [
    "    rnd_tensor = tf.floor(stacked_tensor)    \n",
    "    sum_tensor = tf.reduce_sum(tf.abs(rnd_tensor[:,:,:4]), axis=-1)\n",
    "    non_zero   = tf.cast(sum_tensor, tf.bool)\n",
    "    non_zero_exp = tf.expand_dims(non_zero, axis =-1)\n",
    "    \n",
    "    print(' rnd_tensor :', tf.shape(rnd_tensor).eval())\n",
    "    print(' sum_tensor :', tf.shape(sum_tensor).eval())\n",
    "    print(' non_zero   :', tf.shape(non_zero).eval())\n",
    "    print(' non_zero_exp:', tf.shape(non_zero_exp).eval())\n",
    "    non_zero_exp = KB.repeat_elements(non_zero_exp, 6, axis=-1)\n",
    "    print(' non_zero_exp:', tf.shape(non_zero_exp).eval())\n",
    "    nz_tensor  = tf.boolean_mask(rnd_tensor, non_zero_exp, axis = -1)\n",
    "    print(' nz_tensor  :', tf.shape(nz_tensor).eval())\n",
    "\n",
    "#     print(stacked_tensor[0].eval())\n",
    "    print(rnd_tensor[0].eval())\n",
    "    print()\n",
    "#     print(stacked_tensor[1].eval())\n",
    "    print(rnd_tensor[1].eval())\n",
    "    print()\n",
    "#     print(stacked_tensor[2].eval())\n",
    "    print(rnd_tensor[2].eval())\n",
    "    \n",
    "    print(sum_tensor[1].eval())    \n",
    "    print(non_zero[1].eval())    \n",
    "#     non_zeros = tf.cast(tf.reduce_sum(tf.abs(rnd_tensor), axis=1), tf.bool)\n",
    "    print(non_zero_exp[1].eval())    \n",
    "\n",
    "    print(nz_tensor[1].eval())\n",
    "    print()\n"
   ]
  },
  {
   "cell_type": "markdown",
   "metadata": {
    "hidden": true,
    "hideCode": false,
    "hidePrompt": true
   },
   "source": [
    "### Plot Predicted  Heatmaps `pred_gaussian` \n",
    "\n",
    "`pred_gaussian2` and `gt_gaussian2` from Tensorflow PCN layer"
   ]
  },
  {
   "cell_type": "code",
   "execution_count": null,
   "metadata": {
    "hidden": true,
    "hideCode": true,
    "hidePrompt": true
   },
   "outputs": [],
   "source": [
    "%matplotlib notebook\n",
    "INPUT1 = pred_hm\n",
    "INPUT2 = pred_hm_norm\n",
    "# gt_heatmap  = layers_out[27]     # gt_gaussiam \n",
    "# pred_heatmap= layers_out[24]  # pred_gaussian\n",
    "# gt_heatmap  = layers_out[19]     # gt_gaussiam \n",
    "# pred_heatmap= layers_out[18]  # pred_gaussian\n",
    "print('INPUT1 shape : ', INPUT1.shape, ' INPUT2 shape: ', INPUT2.shape)\n",
    "num_images = 1 # config.IMAGES_PER_GPU\n",
    "num_classes = config.NUM_CLASSES\n",
    "\n",
    "img = 0\n",
    "\n",
    "image_id = img_meta[img,0]\n",
    "print('Image id: ',image_id)\n",
    "print('Classes (1: circle, 2: square, 3: triangle ): ')\n",
    "image = dataset_train.load_image(image_id)\n",
    "mask, class_ids = dataset_train.load_mask(image_id)\n",
    "visualize.display_top_masks(image, mask, class_ids, dataset_train.class_names)\n",
    "\n",
    "\n",
    "for cls in range(1,num_classes):\n",
    "    ttl = 'INPUT1 -  image :  {} class: {} '.format(img,cls)     \n",
    "    print(' *** pred_heatmap ', INPUT1[img,:,:,cls].shape, ttl)   \n",
    "    plot_gaussian(INPUT1[img,:,:,cls], title = ttl)  \n",
    "    \n",
    "    ttl = 'INPUT2 -  image :  {} class: {} '.format(img,cls)     \n",
    "    print(' *** pred_heatmap ', INPUT2[img,:,:,cls].shape, ttl)   \n",
    "    plot_gaussian(INPUT2[img,:,:,cls], title = ttl)  "
   ]
  },
  {
   "cell_type": "code",
   "execution_count": null,
   "metadata": {
    "hidden": true
   },
   "outputs": [],
   "source": []
  },
  {
   "cell_type": "code",
   "execution_count": null,
   "metadata": {
    "ExecuteTime": {
     "end_time": "2018-05-11T13:12:47.630505Z",
     "start_time": "2018-05-11T13:12:47.372814Z"
    },
    "hidden": true,
    "hideCode": true,
    "hideOutput": true,
    "hidePrompt": true
   },
   "outputs": [],
   "source": [
    "print(pred_tensor[0,2])\n",
    "print(output_rois[0,:])\n",
    "width  = pred_tensor[:,:,:,3] - pred_tensor[:,:,:,1]      # x2 - x1\n",
    "height = pred_tensor[:,:,:,2] - pred_tensor[:,:,:,0]\n",
    "cx     = pred_tensor[:,:,:,1] + ( width  / 2.0)\n",
    "cy     = pred_tensor[:,:,:,0] + ( height / 2.0)\n",
    "means  = np.floor(np.stack((cy,cx),axis = -1))\n",
    "\n",
    "print(means.shape)\n",
    "print(means[0,2,:12])"
   ]
  },
  {
   "cell_type": "code",
   "execution_count": null,
   "metadata": {
    "ExecuteTime": {
     "end_time": "2018-05-11T13:20:27.357106Z",
     "start_time": "2018-05-11T13:20:27.100938Z"
    },
    "hidden": true,
    "hideCode": true,
    "hidePrompt": true
   },
   "outputs": [],
   "source": [
    "print(gt_tensor[0,2])\n",
    "print(output_rois[0,:])\n",
    "width  = gt_tensor[:,:,:,3] - gt_tensor[:,:,:,1]      # x2 - x1\n",
    "height = gt_tensor[:,:,:,2] - gt_tensor[:,:,:,0]\n",
    "cx     = gt_tensor[:,:,:,1] + ( width  / 2.0)\n",
    "cy     = gt_tensor[:,:,:,0] + ( height / 2.0)\n",
    "gt_means  = np.floor(np.stack((cy,cx),axis = -1))\n",
    "\n",
    "print(gt_means.shape)\n",
    "print(gt_means[0,2,:12])"
   ]
  },
  {
   "cell_type": "markdown",
   "metadata": {
    "hidden": true,
    "hideCode": true,
    "hidePrompt": true
   },
   "source": [
    "###  Find maximum of gaussian distributions for the pred_heatmap\n",
    "Potentially use this as our heatmap scores \n",
    "Found out that using MAX values from the class heatmap (currently generated from the pred_tensor that itself is generated form output_rois and mrcnn_class) is not a viable option, because mutlple max values tend to congreagate around the peak of the gaussian distribution. \n",
    "This is also the case for gt_heatmaps.\n",
    "This will probably also be the case for the FCN output."
   ]
  },
  {
   "cell_type": "markdown",
   "metadata": {
    "hidden": true,
    "hideCode": true,
    "hidePrompt": true
   },
   "source": [
    "#### pred_heatmap"
   ]
  },
  {
   "cell_type": "code",
   "execution_count": null,
   "metadata": {
    "ExecuteTime": {
     "end_time": "2018-05-11T13:23:37.739059Z",
     "start_time": "2018-05-11T13:23:37.484900Z"
    },
    "hidden": true,
    "hideCode": true,
    "hideOutput": true,
    "hidePrompt": true,
    "scrolled": false
   },
   "outputs": [],
   "source": [
    "np.set_printoptions(linewidth=150, threshold=10000)\n",
    "\n",
    "print(pred_hm.shape)\n",
    "cls_hm = pred_hm[0,:,:,2]\n",
    "print(cls_hm.shape)\n",
    "print(np.unravel_index(np.argmax(cls_hm) , cls_hm.shape) )\n",
    "print(np.max(cls_hm))\n",
    "\n",
    "print(pred_hm_norm.shape)\n",
    "cls_hm_norm = pred_hm_norm[0,:,:,2]\n",
    "print(cls_hm_norm.shape)\n",
    "print(np.unravel_index(np.argmax(cls_hm_norm) , cls_hm_norm.shape) )\n",
    "print(np.max(cls_hm_norm))\n"
   ]
  },
  {
   "cell_type": "code",
   "execution_count": null,
   "metadata": {
    "ExecuteTime": {
     "end_time": "2018-05-11T13:09:06.929477Z",
     "start_time": "2018-05-11T13:09:06.655253Z"
    },
    "hidden": true,
    "hideCode": true,
    "hideOutput": true,
    "hidePrompt": true
   },
   "outputs": [],
   "source": [
    "hm_ls =np.ravel(cls_hm)\n",
    "hm_ls_norm = np.ravel(cls_hm_norm)\n",
    "srtlst = np.argsort(hm_ls)\n",
    "srtlst_norm = np.argsort(hm_ls_norm)\n",
    "print(' Sortlist')\n",
    "print(srtlst[::-1])\n",
    "print(srtlst.shape)\n",
    "print('---- norm ------')\n",
    "print(srtlst_norm[::-1])\n",
    "print(srtlst_norm.shape)\n",
    "\n",
    "print(' Top scores')\n",
    "top_scores = srtlst[:-21:-1]\n",
    "print('---- norm ------')\n",
    "top_scores_norm = srtlst_norm[:-21:-1]\n",
    "print(len(top_scores),top_scores)\n",
    "print(' Top items ')\n",
    "for i in top_scores :\n",
    "    print( i , '  ', np.unravel_index(i, cls_hm.shape))\n",
    "print('---- norm ------')    \n",
    "for i in top_scores_norm :\n",
    "    print( i , '  ', np.unravel_index(i, cls_hm_norm.shape))\n",
    "print(' Top scores ')\n",
    "print(hm_ls[top_scores])\n",
    "print('---- norm ------')    \n",
    "print(hm_ls_norm[top_scores_norm])\n"
   ]
  },
  {
   "cell_type": "markdown",
   "metadata": {
    "hidden": true,
    "hideCode": true,
    "hidePrompt": true
   },
   "source": [
    "#### gt_heatmap"
   ]
  },
  {
   "cell_type": "code",
   "execution_count": null,
   "metadata": {
    "ExecuteTime": {
     "end_time": "2018-05-11T13:24:12.185707Z",
     "start_time": "2018-05-11T13:24:11.932533Z"
    },
    "hidden": true,
    "hideCode": true,
    "hideOutput": true,
    "hidePrompt": true,
    "scrolled": true
   },
   "outputs": [],
   "source": [
    "np.set_printoptions(linewidth=150, threshold=10000)\n",
    "print(pred_hm.shape)\n",
    "cls_hm = gt_hm[0,:,:,2]\n",
    "print(cls_hm.shape)\n",
    "print(np.unravel_index(np.argmax(cls_hm) , cls_hm.shape) )\n",
    "print(np.max(cls_hm))\n",
    "\n",
    "print('---- norm -----')\n",
    "print(gt_hm_norm.shape)\n",
    "cls_hm_norm = gt_hm_norm[0,:,:,2]\n",
    "print(cls_hm_norm.shape)\n",
    "print(np.unravel_index(np.argmax(cls_hm_norm) , cls_hm_norm.shape) )\n",
    "print(np.max(cls_hm_norm))\n",
    "\n"
   ]
  },
  {
   "cell_type": "code",
   "execution_count": null,
   "metadata": {
    "ExecuteTime": {
     "end_time": "2018-05-11T13:24:14.243495Z",
     "start_time": "2018-05-11T13:24:13.965220Z"
    },
    "hidden": true,
    "hideCode": true,
    "hideOutput": true,
    "hidePrompt": true
   },
   "outputs": [],
   "source": [
    "hm_ls =np.ravel(cls_hm)\n",
    "hm_ls_norm = np.ravel(cls_hm_norm)\n",
    "srtlst = np.argsort(hm_ls)\n",
    "srtlst_norm = np.argsort(hm_ls_norm)\n",
    "print(' Sortlist')\n",
    "print(srtlst[::-1])\n",
    "print(srtlst.shape)\n",
    "print('---- norm ------')\n",
    "print(srtlst_norm[::-1])\n",
    "print(srtlst_norm.shape)\n",
    "\n",
    "print(' Top scores')\n",
    "top_scores = srtlst[:-21:-1]\n",
    "print('---- norm ------')\n",
    "top_scores_norm = srtlst_norm[:-21:-1]\n",
    "print(len(top_scores),top_scores)\n",
    "print(' Top items ')\n",
    "for i in top_scores :\n",
    "    print( i , '  ', np.unravel_index(i, cls_hm.shape))\n",
    "print('---- norm ------')    \n",
    "for i in top_scores_norm :\n",
    "    print( i , '  ', np.unravel_index(i, cls_hm_norm.shape))\n",
    "print(' Top scores ')\n",
    "print(hm_ls[top_scores])\n",
    "print('---- norm ------')    \n",
    "print(hm_ls_norm[top_scores_norm])\n"
   ]
  },
  {
   "cell_type": "code",
   "execution_count": null,
   "metadata": {
    "ExecuteTime": {
     "end_time": "2018-05-11T11:48:39.739236Z",
     "start_time": "2018-05-11T11:48:39.479040Z"
    },
    "hidden": true,
    "hideCode": true,
    "hidePrompt": true
   },
   "outputs": [],
   "source": [
    "max_a = np.max(cls_pred_heatmap)\n",
    "print(max_a.shape)\n",
    "\n",
    "print(np.unravel_index(np.argmax(prob_a) , prob_a.shape) )\n",
    "\n",
    "print()\n",
    "\n",
    "print(' covar ', covar_sqrd)\n",
    "print(prob_b[35:50, 45:54])\n",
    "max_b = np.max(prob_b)\n",
    "print(np.unravel_index(np.argmax(prob_b) , prob_b.shape) )\n",
    "\n",
    "print('max a , max_b ', max_a, max_b, max_a/max_b)"
   ]
  },
  {
   "cell_type": "markdown",
   "metadata": {
    "hidden": true,
    "hideCode": true,
    "hidePrompt": true
   },
   "source": [
    "###  Test `means`, `covar`, `gauss_grid`, and `gauss_sum ` between development version and final version"
   ]
  },
  {
   "cell_type": "code",
   "execution_count": null,
   "metadata": {
    "ExecuteTime": {
     "end_time": "2018-05-02T11:10:10.133108Z",
     "start_time": "2018-05-02T11:10:09.386212Z"
    },
    "hidden": true,
    "hideCode": true,
    "hidePrompt": true
   },
   "outputs": [],
   "source": [
    "print(means.get_shape(), means.get_shape())\n",
    "tst1 = means.eval()\n",
    "tst2 = means2.eval()\n",
    "print(tst1.shape, tst2.shape)\n",
    "\n",
    "print(tst1[0,:10])\n",
    "print()\n",
    "print(tst2[0,:10])\n",
    "print(np.all(tst1 == tst2))\n",
    "print()\n",
    "del tst1, tst2"
   ]
  },
  {
   "cell_type": "code",
   "execution_count": null,
   "metadata": {
    "ExecuteTime": {
     "end_time": "2018-05-02T11:10:14.482950Z",
     "start_time": "2018-05-02T11:10:14.205020Z"
    },
    "hidden": true,
    "hideCode": true,
    "hidePrompt": true,
    "scrolled": false
   },
   "outputs": [],
   "source": [
    "tst1 = st.eval()\n",
    "tst2 = st2.eval()\n",
    "print(tst1.shape, tst2.shape)\n",
    "\n",
    "print(tst1[0,:10])\n",
    "print()\n",
    "print(tst2[0,:10])\n",
    "print(np.all(tst1 == tst2))\n",
    "print()\n",
    "del tst1, tst2"
   ]
  },
  {
   "cell_type": "code",
   "execution_count": null,
   "metadata": {
    "ExecuteTime": {
     "end_time": "2018-05-02T11:10:18.158709Z",
     "start_time": "2018-05-02T11:10:17.474806Z"
    },
    "hidden": true,
    "hideCode": true,
    "hidePrompt": true,
    "scrolled": false
   },
   "outputs": [],
   "source": [
    "tst1 = gauss_grid.eval()\n",
    "tst2 = gauss_grid2.eval()\n",
    "print(tst1.shape, tst2.shape)\n",
    "\n",
    "print(tst1[0,0,:10])\n",
    "print()\n",
    "print(tst2[0,0,:10])\n",
    "print(np.all(tst1 == tst2))\n",
    "# print()\n",
    "del tst1, tst2"
   ]
  },
  {
   "cell_type": "code",
   "execution_count": null,
   "metadata": {
    "ExecuteTime": {
     "end_time": "2018-05-02T11:10:23.859635Z",
     "start_time": "2018-05-02T11:10:23.164182Z"
    },
    "hidden": true,
    "hideCode": true,
    "hidePrompt": true,
    "scrolled": false
   },
   "outputs": [],
   "source": [
    "tst1 = gauss_sum.eval()\n",
    "tst2 = gauss_sum2.eval()\n",
    "print(tst1.shape, tst2.shape)\n",
    "\n",
    "# print(tst1[0,0,:10])\n",
    "# print()\n",
    "# print(tst2[0,0,:10])\n",
    "print(np.all(tst1 == tst2))\n",
    "# print()\n",
    "del tst1, tst2"
   ]
  },
  {
   "cell_type": "markdown",
   "metadata": {
    "hidden": true,
    "hideCode": true,
    "hidePrompt": true
   },
   "source": [
    "###  Compute mean and max of `gauss_grid()`"
   ]
  },
  {
   "cell_type": "code",
   "execution_count": null,
   "metadata": {
    "ExecuteTime": {
     "end_time": "2018-05-02T10:04:30.778443Z",
     "start_time": "2018-05-02T10:04:08.500Z"
    },
    "hidden": true,
    "hideCode": true,
    "hideOutput": true,
    "hidePrompt": true,
    "scrolled": false
   },
   "outputs": [],
   "source": [
    "print(gauss_grid.shape)\n",
    "for img in [0,1,2]:\n",
    "    for bbx in range(32):\n",
    "        gauss_mean = KB.mean(gauss_grid[img, bbx,:,:]).eval()\n",
    "        gauss_min  = KB.min(gauss_grid[img, bbx,:,:]).eval()\n",
    "        gauss_max  = KB.max(gauss_grid[img, bbx,:,:]).eval()\n",
    "#         prob    = stacked_tensor[img,bbx,-1].eval() 'prob: ',prob ,\n",
    "        print('Img/bbx: {}/{}     Mean:  {:6e}  \\t Max: {:6e}  \\t Min : {:6e}'.format(img, bbx, gauss_mean, gauss_max, gauss_min))"
   ]
  },
  {
   "cell_type": "markdown",
   "metadata": {
    "hidden": true,
    "hideCode": true,
    "hidePrompt": true
   },
   "source": [
    "###  Compute mean and max of `gauss_grid2()`"
   ]
  },
  {
   "cell_type": "code",
   "execution_count": null,
   "metadata": {
    "ExecuteTime": {
     "end_time": "2018-05-02T10:04:30.776944Z",
     "start_time": "2018-05-02T10:03:27.542792Z"
    },
    "hidden": true,
    "hideCode": true,
    "hideOutput": true,
    "hidePrompt": true,
    "scrolled": false
   },
   "outputs": [],
   "source": [
    "print(gauss_grid2.shape)\n",
    "for img in [0,1,2]:\n",
    "    for bbx in range(32):\n",
    "        gauss_mean = KB.mean(gauss_grid2[img, bbx,:,:]).eval()\n",
    "        gauss_min  = KB.min(gauss_grid2[img, bbx,:,:]).eval()\n",
    "        gauss_max  = KB.max(gauss_grid2[img, bbx,:,:]).eval()\n",
    "#         prob    = stacked_tensor[img,bbx,-1].eval() 'prob: ',prob ,\n",
    "        print('Img/bbx: {}/{}     Mean:  {:6e}  \\t Max: {:6e}  \\t Min : {:6e}'.format(img, bbx, gauss_mean, gauss_max, gauss_min))"
   ]
  },
  {
   "cell_type": "markdown",
   "metadata": {
    "hidden": true,
    "hideCode": true,
    "hidePrompt": true
   },
   "source": [
    "###  Compute `gauss_grid()` and   `gauss_grid2()`"
   ]
  },
  {
   "cell_type": "code",
   "execution_count": null,
   "metadata": {
    "ExecuteTime": {
     "end_time": "2018-05-02T11:10:39.307514Z",
     "start_time": "2018-05-02T11:10:38.603585Z"
    },
    "hidden": true,
    "hideCode": true,
    "hidePrompt": true,
    "scrolled": false
   },
   "outputs": [],
   "source": [
    "print(gauss_grid2.shape)\n",
    "gauss_max  = KB.max(gauss_grid, axis = [2,3]).eval()\n",
    "gauss_max2  = KB.max(gauss_grid2, axis = [2,3]).eval()\n",
    "\n",
    "for img in [0,1,2]:\n",
    "    for bbx in range(32):\n",
    "\n",
    "#         prob    = stacked_tensor[img,bbx,-1].eval() 'prob: ',prob ,\n",
    "        print('Img/bbx: {}/{}     MAX:  {:6e}  \\t MAX2: {:6e}  \\t Equal : {}'.format(img, bbx, gauss_max[img, bbx],gauss_max2[img,bbx],(gauss_max[img,bbx]== gauss_max2[img,bbx])))\n",
    "del gauss_max, gauss_max2    "
   ]
  },
  {
   "cell_type": "markdown",
   "metadata": {
    "hidden": true,
    "hideCode": true,
    "hidePrompt": true
   },
   "source": [
    "### Compute `gauss_sum()` and  `gauss_sum2()`"
   ]
  },
  {
   "cell_type": "code",
   "execution_count": null,
   "metadata": {
    "ExecuteTime": {
     "end_time": "2018-05-02T11:10:52.883112Z",
     "start_time": "2018-05-02T11:10:52.154331Z"
    },
    "hidden": true,
    "hideCode": true,
    "hidePrompt": true
   },
   "outputs": [],
   "source": [
    "print(gauss_sum.shape, gauss_sum2.shape)\n",
    "# print(gauss_grid2.shape)\n",
    "tst1 = tf.transpose(gauss_sum, [0,3,1,2])\n",
    "tst2 = tf.transpose(gauss_sum2, [0,3,1,2])\n",
    "print(tst1.shape, tst2.shape)\n",
    "\n",
    "gauss_max1 = KB.max(tst1, axis = [2,3]).eval()\n",
    "gauss_max2 = KB.max(tst2, axis = [2,3]).eval()\n",
    "print(gauss_max1.shape, gauss_max2.shape)\n",
    "\n",
    "# gauss_max2  = KB.max(gauss_grid2, axis = [2,3]).eval()\n",
    "\n",
    "for img in [0,1,2]:\n",
    "    for bbx in range(4):\n",
    "        print('Img/bbx: {}/{}     MAX:  {:6e}  \\t MAX2: {:6e}  \\t Equal : {}'.format(img, bbx, gauss_max1[img, bbx],gauss_max2[img,bbx],(gauss_max1[img,bbx]== gauss_max2[img,bbx])))\n",
    "   "
   ]
  },
  {
   "cell_type": "code",
   "execution_count": null,
   "metadata": {
    "ExecuteTime": {
     "end_time": "2018-05-02T10:58:45.332214Z",
     "start_time": "2018-05-02T10:58:44.117193Z"
    },
    "hidden": true,
    "hideCode": true,
    "hidePrompt": true
   },
   "outputs": [],
   "source": [
    "for img in [0,1,2]:\n",
    "    for bbx in range(4):\n",
    "        print('Img/bbx: {}/{}    Equal : {}'.format(img, bbx, (tst1[img,bbx]==  tst2[img,bbx])))\n",
    "del gauss_max1, gauss_max2    "
   ]
  },
  {
   "cell_type": "markdown",
   "metadata": {
    "hidden": true,
    "hideCode": true,
    "hidePrompt": true
   },
   "source": [
    "\n",
    "###  Compute mean and max OF `gauss_sum2()`"
   ]
  },
  {
   "cell_type": "code",
   "execution_count": null,
   "metadata": {
    "ExecuteTime": {
     "end_time": "2018-05-02T09:55:59.702691Z",
     "start_time": "2018-05-02T09:55:42.231847Z"
    },
    "hidden": true,
    "hideCode": true,
    "hidePrompt": true,
    "scrolled": true
   },
   "outputs": [],
   "source": [
    "print(gauss_sum2.shape)\n",
    "for img in [0,1,2]:\n",
    "    for cls in range(4):\n",
    "        gauss_mean = KB.mean(gauss_sum2[img,:,:,cls]).eval()\n",
    "        gauss_min  = KB.min(gauss_sum2[img, :,:,cls]).eval()\n",
    "        gauss_max  = KB.max(gauss_sum2[img, :,:,cls]).eval()\n",
    "        print('Img/bbx: ', img, '/',cls ,'   Mean: ', gauss_mean, '\\t Max: ' , gauss_max, '\\t Min :', gauss_min)"
   ]
  },
  {
   "cell_type": "markdown",
   "metadata": {
    "hidden": true,
    "hideCode": true,
    "hidePrompt": true
   },
   "source": [
    "### Compute min and max of `gauss_sum()`"
   ]
  },
  {
   "cell_type": "code",
   "execution_count": null,
   "metadata": {
    "ExecuteTime": {
     "end_time": "2018-05-02T09:57:11.807587Z",
     "start_time": "2018-05-02T09:56:55.286325Z"
    },
    "hidden": true,
    "hideCode": true,
    "hidePrompt": true
   },
   "outputs": [],
   "source": [
    "print(gauss_sum.shape)\n",
    "for img in [0,1,2]:\n",
    "    for cls in range(4):\n",
    "        gauss_mean = KB.mean(gauss_sum[img,:,:,cls]).eval()\n",
    "        gauss_min  =  KB.min(gauss_sum[img, :,:,cls]).eval()\n",
    "        gauss_max  =  KB.max(gauss_sum[img, :,:,cls]).eval()\n",
    "        print('Img/bbx: ', img, '/',cls ,'   Mean: ', gauss_mean, '\\t Max: ' , gauss_max, '\\t Min :', gauss_min)"
   ]
  },
  {
   "cell_type": "code",
   "execution_count": null,
   "metadata": {
    "ExecuteTime": {
     "end_time": "2018-05-02T08:44:41.071788Z",
     "start_time": "2018-05-02T08:44:33.434419Z"
    },
    "hidden": true,
    "hideCode": true,
    "hidePrompt": true
   },
   "outputs": [],
   "source": [
    "pred_gauss = tf.constant(layers_out[19])\n",
    "print(pred_gauss.shape)\n",
    "for img in [0,1,2]:\n",
    "    for cls in range(4):\n",
    "        gauss_mean = KB.mean(pred_gauss[img,:,:,cls]).eval()\n",
    "        gauss_min  = KB.min(pred_gauss[img, :,:,cls]).eval()\n",
    "        gauss_max  = KB.max(pred_gauss[img, :,:,cls]).eval()\n",
    "        print('Img/bbx: ', img, '/',cls ,'   Mean: ', gauss_mean, '\\t Max: ' , gauss_max, '\\t Min :', gauss_min)"
   ]
  },
  {
   "cell_type": "markdown",
   "metadata": {
    "hidden": true,
    "hideCode": true,
    "hidePrompt": true
   },
   "source": [
    "### Plot Predicted  Heatmaps `pred_gaussian` \n",
    "\n",
    "`pred_gaussian2` and `gt_gaussian2` from Tensorflow PCN layer"
   ]
  },
  {
   "cell_type": "code",
   "execution_count": null,
   "metadata": {
    "ExecuteTime": {
     "end_time": "2018-05-02T11:14:01.486755Z",
     "start_time": "2018-05-02T11:13:59.680438Z"
    },
    "hidden": true,
    "hideCode": true,
    "hidePrompt": true,
    "scrolled": false
   },
   "outputs": [],
   "source": [
    "%matplotlib notebook\n",
    "# gt_heatmap  = layers_out[27]     # gt_gaussiam \n",
    "# pred_heatmap= layers_out[24]  # pred_gaussian\n",
    "# gt_heatmap  = gauss_sum.eval()    # gt_gaussiam \n",
    "gt_heatmap  = layers_out[18]     # gt_gaussiam \n",
    "\n",
    "pred_heatmap= gauss_sum2.eval()  # pred_gaussian\n",
    "print('gt_gaussian heatmap shape : ', gt_heatmap.shape, ' pred_gaussian heatmap shape: ', pred_heatmap.shape)\n",
    "num_images = 1 # config.IMAGES_PER_GPU\n",
    "num_classes = config.NUM_CLASSES\n",
    "\n",
    "img = 0\n",
    "\n",
    "image_id = img_meta[img,0]\n",
    "print('Image id: ',image_id)\n",
    "print('Classes (1: circle, 2: square, 3: triangle ): ')\n",
    "image = dataset_train.load_image(image_id)\n",
    "mask, class_ids = dataset_train.load_mask(image_id)\n",
    "visualize.display_top_masks(image, mask, class_ids, dataset_train.class_names)\n",
    "\n",
    "\n",
    "for cls in range(1,num_classes):\n",
    "    ttl = 'GROUND TRUTH HEATMAP - image :  {} class: {} '.format(img,cls)\n",
    "    print(' *** Zout  ', gt_heatmap[img,:,:,cls].shape, ttl)   \n",
    "    plot_gaussian( gt_heatmap[img,:,:,cls], title = ttl)\n",
    "    \n",
    "    ttl = 'PREDICTED heatmap  - image :  {} class: {} '.format(img,cls)     \n",
    "    print(' *** pred_heatmap ', pred_heatmap[img,:,:,cls].shape, ttl)   \n",
    "    plot_gaussian(pred_heatmap[img,:,:,cls], title = ttl)  "
   ]
  },
  {
   "cell_type": "markdown",
   "metadata": {
    "hidden": true,
    "hideCode": true,
    "hidePrompt": true
   },
   "source": [
    "### Plot Predicted  Heatmaps `pred_gaussian` \n",
    "\n",
    "`pred_gaussian2` and `gt_gaussian2` from Tensorflow PCN layer"
   ]
  },
  {
   "cell_type": "code",
   "execution_count": null,
   "metadata": {
    "hidden": true,
    "hideCode": true,
    "hidePrompt": true
   },
   "outputs": [],
   "source": [
    "%matplotlib notebook\n",
    "# gt_heatmap  = layers_out[27]     # gt_gaussiam \n",
    "# pred_heatmap= layers_out[24]  # pred_gaussian\n",
    "gt_heatmap  = layers_out[19]     # gt_gaussiam \n",
    "pred_heatmap= layers_out[18]  # pred_gaussian\n",
    "print('gt_gaussian heatmap shape : ', gt_heatmap.shape, ' pred_gaussian heatmap shape: ', pred_heatmap.shape)\n",
    "num_images = 1 # config.IMAGES_PER_GPU\n",
    "num_classes = config.NUM_CLASSES\n",
    "\n",
    "img = 0\n",
    "\n",
    "image_id = img_meta[img,0]\n",
    "print('Image id: ',image_id)\n",
    "print('Classes (1: circle, 2: square, 3: triangle ): ')\n",
    "image = dataset_train.load_image(image_id)\n",
    "mask, class_ids = dataset_train.load_mask(image_id)\n",
    "visualize.display_top_masks(image, mask, class_ids, dataset_train.class_names)\n",
    "\n",
    "\n",
    "for cls in range(1,num_classes):\n",
    "    ttl = 'GROUND TRUTH HEATMAP - image :  {} class: {} '.format(img,cls)\n",
    "    print(' *** Zout  ', gt_heatmap[img,:,:,cls].shape, ttl)   \n",
    "    plot_gaussian( gt_heatmap[img,:,:,cls], title = ttl)\n",
    "    \n",
    "    ttl = 'PREDICTED heatmap  - image :  {} class: {} '.format(img,cls)     \n",
    "    print(' *** pred_heatmap ', pred_heatmap[img,:,:,cls].shape, ttl)   \n",
    "    plot_gaussian(pred_heatmap[img,:,:,cls], title = ttl)  "
   ]
  },
  {
   "cell_type": "markdown",
   "metadata": {
    "hidden": true,
    "hideCode": true,
    "hidePrompt": true
   },
   "source": [
    "\n",
    "### Plot Predicted and Ground Truth Probability Heatmaps `pred_gaussian` and `gt_gaussian` (Tensorflow)\n",
    "\n",
    "`pred_gaussian2` and `gt_gaussian2` from Tensorflow PCN layer"
   ]
  },
  {
   "cell_type": "code",
   "execution_count": null,
   "metadata": {
    "hidden": true,
    "hideCode": true,
    "hidePrompt": true
   },
   "outputs": [],
   "source": [
    "%matplotlib notebook\n",
    "# gt_heatmap  = layers_out[27]     # gt_gaussiam \n",
    "# pred_heatmap= layers_out[24]  # pred_gaussian\n",
    "gt_heatmap  = layers_out[19]     # gt_gaussiam \n",
    "pred_heatmap= layers_out[18]  # pred_gaussian\n",
    "print('gt_gaussian heatmap shape : ', gt_heatmap.shape, ' pred_gaussian heatmap shape: ', pred_heatmap.shape)\n",
    "num_images = 1 # config.IMAGES_PER_GPU\n",
    "num_classes = config.NUM_CLASSES\n",
    "\n",
    "img = 0\n",
    "\n",
    "image_id = img_meta[img,0]\n",
    "print('Image id: ',image_id)\n",
    "print('Classes (1: circle, 2: square, 3: triangle ): ')\n",
    "image = dataset_train.load_image(image_id)\n",
    "mask, class_ids = dataset_train.load_mask(image_id)\n",
    "visualize.display_top_masks(image, mask, class_ids, dataset_train.class_names)\n",
    "\n",
    "\n",
    "for cls in range(1,num_classes):\n",
    "    ttl = 'GROUND TRUTH HEATMAP - image :  {} class: {} '.format(img,cls)\n",
    "    print(' *** Zout  ', gt_heatmap[img,:,:,cls].shape, ttl)   \n",
    "    plot_gaussian( gt_heatmap[img,:,:,cls], title = ttl)\n",
    "    \n",
    "    ttl = 'PREDICTED heatmap  - image :  {} class: {} '.format(img,cls)     \n",
    "    print(' *** pred_heatmap ', pred_heatmap[img,:,:,cls].shape, ttl)   \n",
    "    plot_gaussian(pred_heatmap[img,:,:,cls], title = ttl)  "
   ]
  },
  {
   "cell_type": "markdown",
   "metadata": {
    "hidden": true,
    "hideCode": true,
    "hidePrompt": true
   },
   "source": [
    "###  Softmax Sparse Cross Entropy Ignoring Last Label -- Used in Keras FCN"
   ]
  },
  {
   "cell_type": "code",
   "execution_count": null,
   "metadata": {
    "ExecuteTime": {
     "end_time": "2018-04-27T07:53:31.114036Z",
     "start_time": "2018-04-27T07:53:30.853311Z"
    },
    "hidden": true,
    "hideCode": true,
    "hidePrompt": true
   },
   "outputs": [],
   "source": [
    "import keras.backend as K \n",
    "\n",
    "y_pred = tf.placeholder(dtype=tf.float32, shape=(16,320,320,20))\n",
    "y_true = tf.placeholder(dtype=tf.float32, shape=(16,320,320,1))\n",
    "print(K.int_shape(y_pred), K.int_shape(y_true))\n",
    "y_pred = K.reshape(y_pred, (-1, K.int_shape(y_pred)[-1]))\n",
    "print(K.int_shape(y_pred))\n",
    "log_softmax = tf.nn.log_softmax(y_pred)\n",
    "print(K.int_shape(log_softmax))\n",
    "\n",
    "y_true = K.flatten(y_true)\n",
    "print(K.int_shape(y_true))\n",
    "\n",
    "y_true = K.one_hot(tf.to_int32(y_true), K.int_shape(y_pred)[-1]+1)\n",
    "print(K.int_shape(y_true))\n",
    "\n",
    "unpacked = tf.unstack(y_true, axis=-1)\n",
    "print(len(unpacked), unpacked[0].shape)\n",
    "\n",
    "y_true = tf.stack(unpacked[:-1], axis=-1)\n",
    "print(K.int_shape(y_true))\n",
    "\n",
    "\n",
    "cross_entropy = -K.sum(y_true * log_softmax, axis=1)\n",
    "print(K.int_shape(cross_entropy))\n",
    "\n",
    "cross_entropy_mean = K.mean(cross_entropy)\n",
    "print(K.int_shape(cross_entropy_mean))\n",
    "\n",
    "\n",
    "\n",
    "\n",
    "# import keras.backend as K\n",
    "# print(K.int_shape(bef_pos)[-1])\n",
    "# unpacked  = K.flatten(test)\n",
    "# unpacked.shape"
   ]
  },
  {
   "cell_type": "markdown",
   "metadata": {
    "ExecuteTime": {
     "end_time": "2018-04-16T23:19:54.102900Z",
     "start_time": "2018-04-16T23:19:53.889289Z"
    },
    "hidden": true,
    "hideCode": true,
    "hidePrompt": true
   },
   "source": [
    "### Experimental code to Create mask for class bounding boxes\n"
   ]
  },
  {
   "cell_type": "code",
   "execution_count": null,
   "metadata": {
    "hidden": true,
    "hideCode": false,
    "hidePrompt": true
   },
   "outputs": [],
   "source": []
  },
  {
   "cell_type": "code",
   "execution_count": null,
   "metadata": {
    "hidden": true,
    "hideCode": false,
    "hidePrompt": true
   },
   "outputs": [],
   "source": []
  },
  {
   "cell_type": "markdown",
   "metadata": {
    "hidden": true,
    "hideCode": false,
    "hidePrompt": true
   },
   "source": [
    "###  Comparing Scipy / Tensorflow Multivar normal distribution "
   ]
  },
  {
   "cell_type": "code",
   "execution_count": null,
   "metadata": {
    "ExecuteTime": {
     "end_time": "2018-04-16T10:10:11.958301Z",
     "start_time": "2018-04-16T10:10:10.121532Z"
    },
    "hidden": true,
    "hideCode": true,
    "hidePrompt": true
   },
   "outputs": [],
   "source": [
    "tfd        = tf.contrib.distributions\n",
    "grid       = pos_grid_1[:,:,0,0,:]\n",
    "covar      = np.array([27.7818, 26.6678],dtype = np.float32)\n",
    "covar_sqrt = np.sqrt(covar)\n",
    "covar_sqrd = covar ** 2\n",
    "full_covar = np.array([[27.7818, 0],[0, 26.6678]],dtype = np.float32)\n",
    "mean       = np.array([48.8926, 36.101 ],dtype = np.float32)\n",
    "\n",
    "print('   grid :', grid.dtype, grid.shape)\n",
    "print('   Covar sqrt :', covar_sqrt)\n",
    "print('   Covar sqrd :', covar_sqrd)\n",
    "\n",
    "mvn1  = tfd.MultivariateNormalDiag(loc=mean,scale_diag=covar_sqrt)\n",
    "prob1 = mvn1.prob(grid2)\n",
    "print()\n",
    "print('   mvn1 mean             ', mvn1.mean().eval())\n",
    "print('   mvn1 std deviation    ', mvn1.stddev().eval())\n",
    "print('   mvn1 covariance:      ', '\\n', mvn1.covariance().eval())\n",
    "print('   mvn1 location         ', mvn1.loc.eval())\n",
    "print('   Linear OP shape       ', mvn1.scale.shape)\n",
    "print('   Linear Op batch shape ', mvn1.scale.batch_shape)\n",
    "print('   Linear op Range Dim   ', mvn1.scale.range_dimension)\n",
    "print('   Linear op Domain Dim  ', mvn1.scale.domain_dimension) \n",
    "print('   Linear op Domain Dim  ', mvn1.scale.diag_part().eval()) \n",
    "\n",
    "mvn2  = tfd.MultivariateNormalDiag(loc=mean,scale_diag=covar)\n",
    "prob2 = mvn2.prob(grid2)\n",
    "print()\n",
    "print('   mvn2 mean             ', mvn2.mean().eval())\n",
    "print('   mvn2 std deviation    ', mvn2.stddev().eval())\n",
    "print('   mvn2 covariance:      ', '\\n', mvn2.covariance().eval())\n",
    "print('   mvn2 location         ', mvn2.loc.eval())\n",
    "print('   Linear OP shape       ', mvn2.scale.shape)\n",
    "print('   Linear Op batch shape ', mvn2.scale.batch_shape)\n",
    "print('   Linear op Range Dim   ', mvn2.scale.range_dimension)\n",
    "print('   Linear op Domain Dim  ', mvn2.scale.domain_dimension) \n",
    "print('   Linear op Domain Dim  ', mvn2.scale.diag_part().eval()) \n",
    "\n",
    "\n",
    "mvn3  = tfd.MultivariateNormalFullCovariance( loc = mean, covariance_matrix = full_covar)\n",
    "prob3 = mvn3.prob(grid2)\n",
    "print()\n",
    "print('   mvn3 mean             ', mvn3.mean().eval())\n",
    "print('   mvn3 std deviation    ', mvn3.stddev().eval())\n",
    "print('   mvn3 covariance:      ', '\\n', mvn3.covariance().eval())\n",
    "print('   mvn3 location         ', mvn3.loc.eval())\n",
    "print('   Linear OP shape       ', mvn3.scale.shape)\n",
    "print('   Linear Op batch shape ', mvn3.scale.batch_shape)\n",
    "print('   Linear op Range Dim   ', mvn3.scale.range_dimension)\n",
    "print('   Linear op Domain Dim  ', mvn3.scale.domain_dimension) \n",
    "print('   Linear op Domain Dim  ', mvn3.scale.diag_part().eval()) \n",
    "\n",
    "print('   << output probabilities shape:' )\n",
    "print(' prob1 ', prob1.get_shape())\n",
    "print(prob1.eval())\n",
    "print(' prob2 ', prob2.get_shape())\n",
    "print(prob2.eval())\n",
    "print(' prob3 ', prob3.get_shape())\n",
    "print(prob3.eval())"
   ]
  },
  {
   "cell_type": "code",
   "execution_count": null,
   "metadata": {
    "ExecuteTime": {
     "end_time": "2018-04-16T09:59:30.850107Z",
     "start_time": "2018-04-16T09:59:30.182014Z"
    },
    "hidden": true,
    "hideCode": true,
    "hidePrompt": true,
    "scrolled": false
   },
   "outputs": [],
   "source": [
    "np.set_printoptions(linewidth=150, threshold=10000)\n",
    "from scipy.stats import  multivariate_normal\n",
    "# Build mesh-grid to hold pixel coordinates ----------------------------------\n",
    "XX = np.arange(0, img_w, 1)\n",
    "YY = np.arange(0, img_h, 1)\n",
    "XX, YY = np.meshgrid(XX, YY)\n",
    "pos  = np.empty(XX.shape + (2,))   # concatinate shape of x to make ( x.rows, x.cols, 2)\n",
    "pos[:,:,0] = XX;\n",
    "pos[:,:,1] = YY;\n",
    "# print(XX)\n",
    "# print(YY)\n",
    "# print(pos[0,:,:])\n",
    "# print(pos[0])\n",
    "# print(grid[0].eval())\n",
    "print(' pos type    ', type(pos), type(grid))\n",
    "print(' grid shape ', pos.shape, grid.shape)\n",
    "print(np.all(pos == grid.eval()))\n",
    "print(' mean  ', mean)\n",
    "print(' covar ', covar)\n",
    "mvna    = multivariate_normal(mean, covar)\n",
    "prob_a = mvna.pdf(pos)\n",
    "\n",
    "mvnb = multivariate_normal(mean, covar_sqrd)\n",
    "prob_b = mvnb.pdf(pos)\n",
    "\n",
    "print(prob_a[35:50, 45:54])\n",
    "max_a = np.max(prob_a)\n",
    "print(np.unravel_index(np.argmax(prob_a) , prob_a.shape) )\n",
    "\n",
    "print()\n",
    "\n",
    "print(' covar ', covar_sqrd)\n",
    "print(prob_b[35:50, 45:54])\n",
    "max_b = np.max(prob_b)\n",
    "print(np.unravel_index(np.argmax(prob_b) , prob_b.shape) )\n",
    "\n",
    "print('max a , max_b ', max_a, max_b, max_a/max_b)"
   ]
  },
  {
   "cell_type": "markdown",
   "metadata": {
    "hidden": true,
    "hideCode": true,
    "hidePrompt": true
   },
   "source": [
    "###  Original `build heatmap()` prior to modifications "
   ]
  },
  {
   "cell_type": "code",
   "execution_count": null,
   "metadata": {
    "ExecuteTime": {
     "end_time": "2018-05-15T14:45:58.207448Z",
     "start_time": "2018-05-15T14:45:55.245020Z"
    },
    "hidden": true,
    "hideCode": true,
    "hideOutput": true,
    "hidePrompt": true
   },
   "outputs": [],
   "source": [
    "##def development_build_gaussian_tf(in_tensor, config, names = None):\n",
    "# in_tensor = KB.constant(pred_tensor)\n",
    "# graph1 = tf.Graph()\n",
    "# with graph1.as_default():\n",
    "try:\n",
    "    sess.close()\n",
    "    print('session was deleted ')\n",
    "except:\n",
    "    print('Session was not defined ')\n",
    "    pass\n",
    "sess = tf.InteractiveSession()\n",
    "in_tensor = tf.identity(pred_tensor)\n",
    "# in_tensor = tf.placeholder(tf.float32, shape=[3,4,32,6], name = 'in_tensor')\n",
    "config = model.config\n",
    "names = ['Dev']\n",
    "\n",
    "\n",
    "\n",
    "num_detections  = config.DETECTION_MAX_INSTANCES\n",
    "img_h, img_w    = config.IMAGE_SHAPE[:2]\n",
    "batch_size      = config.BATCH_SIZE\n",
    "num_classes     = config.NUM_CLASSES  \n",
    "print('\\n ')\n",
    "print('  > build_heatmap() for ', names )\n",
    "\n",
    "# rois per image is determined by size of input tensor \n",
    "#   detection mode:   config.TRAIN_ROIS_PER_IMAGE \n",
    "#   ground_truth  :   config.DETECTION_MAX_INSTANCES\n",
    "\n",
    "print('    orignal in_tensor shape : ', in_tensor.shape)   \n",
    "# in_tensor = in_tensor[:,:,:,2:7]\n",
    "print('    modified in_tensor shape : ', in_tensor.get_shape())\n",
    "\n",
    "rois_per_image  = tf.to_int32(in_tensor.shape[2])\n",
    "# strt_cls        = 0 if rois_per_image == 32 else 1\n",
    "print('    num of bboxes per class is : ', rois_per_image.eval(session=sess))\n",
    "#-----------------------------------------------------------------------------\n",
    "## Build mesh-grid to hold pixel coordinates  \n",
    "#-----------------------------------------------------------------------------\n",
    "X = tf.range(img_w, dtype=tf.int32)\n",
    "Y = tf.range(img_h, dtype=tf.int32)\n",
    "X, Y = tf.meshgrid(X, Y)\n",
    "print('    X/Y shapes :',  X.get_shape(), Y.get_shape())\n",
    "# print('    X : \\n',X.eval())\n",
    "# print('    Y : \\n',Y.eval())\n",
    "\n",
    "# duplicate (repeat) X and Y into a  batch_size x rois_per_image tensor\n",
    "ones = tf.ones([batch_size, rois_per_image,1, 1], dtype = tf.int32)\n",
    "rep_X = ones * X\n",
    "rep_Y = ones * Y \n",
    "print('    Ones: ',ones.shape)                \n",
    "print('    ones_exp * X', ones.shape, '*', X.shape, '= ',rep_X.shape)\n",
    "print('    ones_exp * Y', ones.shape, '*', Y.shape, '= ',rep_Y.shape)\n",
    "\n",
    "# # stack the X and Y grids \n",
    "bef_pos = tf.to_float(tf.stack([rep_X,rep_Y], axis = -1))\n",
    "print('    before transpse ', bef_pos.get_shape())\n",
    "pos_grid = tf.transpose(bef_pos,[2,3,0,1,4])\n",
    "print('    after transpose ', pos_grid.get_shape())    \n",
    "\n",
    "#-----------------------------------------------------------------------------    \n",
    "## Stack non_zero bboxes from in_tensor into pt2_dense \n",
    "# pt2_ind shape is [?, 3]. \n",
    "#   pt2_ind[0] corresponds to image_index \n",
    "#   pt2_ind[1] corresponds to class_index \n",
    "#   pt2_ind[2] corresponds to roi row_index \n",
    "# pt2_dense shape is [?, 6]\n",
    "#    pt2_dense[0] is image index\n",
    "#    pt2_dense[1:4]  roi cooridnaytes \n",
    "#    pt2_dense[5]    is class id \n",
    "\n",
    "#-----------------------------------------------------------------------------\n",
    "pt2_sum = tf.reduce_sum(tf.abs(in_tensor[:,:,:,:-2]), axis=-1)\n",
    "print('    pt2_sum shape ',pt2_sum.shape)\n",
    "# print(pt2_sum[0].eval())\n",
    "pt2_ind = tf.where(pt2_sum > 0)\n",
    "\n",
    "## replaced the two operations with the one above\n",
    "# pt2_mask = tf.greater(pt2_sum , 0)\n",
    "# pt2_ind  = tf.where(pt2_mask)\n",
    "\n",
    "# print(' pt2_mask shape ', pt2_mask.get_shape())\n",
    "# print(pt2_mask.eval())\n",
    "print('    pt2_ind shape ', tf.shape(pt2_ind).eval() )\n",
    "print(pt2_ind.eval())\n",
    "# pt2_ind_float  =  tf.to_float(pt2_ind[:,0:1])\n",
    "\n",
    "pt2_dense = tf.gather_nd( in_tensor, pt2_ind)\n",
    "\n",
    "# append image index to front of rows - REMOVED 1-5-2018\n",
    "# pt2_ind[:,0] is the same informaiton and is used in dynamic_partition\n",
    "\n",
    "#  pt2_dense = tf.concat([tf.to_float(pt2_ind[:,0:1]), pt2_dense],axis=1)\n",
    "print('    dense shape ',tf.shape(pt2_dense).eval())\n",
    "print(pt2_dense.eval())\n",
    " \n",
    "\n",
    "## we want to slice pt2._dense by Batch size.\n",
    "## split pt2_dense by pt2_ind[:,0], which identifies the image \n",
    "stacked_list = tf.dynamic_partition(pt2_dense, tf.to_int32(pt2_ind[:,0]), num_partitions = batch_size )\n",
    "\n",
    "#-----------------------------------------------------------------------------\n",
    "##  Build Stacked output from dynamically partitioned lists \n",
    "#-----------------------------------------------------------------------------\n",
    "print('    Build Stacked output from dynamically partitioned lists --------------')  \n",
    "\n",
    "stacked_output=[]\n",
    "for img, item  in enumerate(stacked_list) : \n",
    "    rois_in_image  = tf.shape(item)[0]\n",
    "    pad_item =  tf.pad(item,[[0, rois_per_image - rois_in_image ],[0,0]])\n",
    "    stacked_output.append(pad_item)\n",
    "stacked_tensor = tf.stack(stacked_output)\n",
    "\n",
    "# print()    \n",
    "# print('   -- Stacked output contents --------------')    \n",
    "# print('    stacked_output shape : ', len(stacked_output))\n",
    "# for img, item  in enumerate(stacked_output) :\n",
    "    # print('   img ', img, ' stacked_list[img] ', tf.shape(item).eval() ) \n",
    "print('   stacked_tensor shape : ', tf.shape(stacked_tensor).eval())\n",
    "print(stacked_tensor.eval())\n",
    "\n",
    "##  Build mean and convariance tensors for Multivariate Normal Distribution \n",
    "#-----------------------------------------------------------------------------\n",
    "width  = stacked_tensor[:,:,3] - stacked_tensor[:,:,1]      # x2 - x1\n",
    "height = stacked_tensor[:,:,2] - stacked_tensor[:,:,0]\n",
    "cx     = stacked_tensor[:,:,1] + ( width  / 2.0)\n",
    "cy     = stacked_tensor[:,:,0] + ( height / 2.0)\n",
    "means  = tf.stack((cx,cy),axis = -1)\n",
    "covar  = tf.stack((width * 0.5 , height * 0.5), axis = -1)\n",
    "covar  = tf.sqrt(covar)\n",
    "\n",
    "\n",
    "print('    means shape :', tf.shape(means).eval(),' covar shape ', tf.shape(covar).eval())\n",
    "\n",
    "tfd = tf.contrib.distributions\n",
    "mvn = tfd.MultivariateNormalDiag( loc  = means,  scale_diag = covar)\n",
    "prob_grid = mvn.prob(pos_grid)\n",
    "print(prob_grid.shape)\n",
    "prob_grid = tf.transpose(prob_grid,[2,3,0,1])\n",
    "print(prob_grid.shape)\n",
    "\n",
    "#--------------------------------------------------------------------------------\n",
    "# kill distributions of NaN boxes (resulting from bboxes with height/width of zero\n",
    "# which cause singular sigma cov matrices\n",
    "#--------------------------------------------------------------------------------\n",
    "gauss_grid = tf.where(tf.is_nan(prob_grid),  tf.zeros_like(prob_grid), prob_grid)\n",
    "\n",
    "\n",
    "## scatter out the probability distributions based on class --------------------------\n",
    "print('\\n    Scatter out the probability distributions based on class --------------')     \n",
    "class_inds      = tf.to_int32(stacked_tensor[:,:,-2])   # - should be -2 since class moved to that postion\n",
    "batch_grid, roi_grid = tf.meshgrid( tf.range(batch_size, dtype=tf.int32), tf.range(rois_per_image, dtype=tf.int32),\n",
    "                                    indexing = 'ij' )\n",
    "scatter_classes = tf.stack([batch_grid, class_inds, roi_grid ],axis = -1)\n",
    "gauss_scatt     = tf.scatter_nd(scatter_classes, gauss_grid, [batch_size, num_classes, rois_per_image, img_w, img_h])\n",
    "\n",
    "print('    gaussian_grid      : ', gauss_grid.shape)    \n",
    "print('    class shape        : ', class_inds.get_shape())\n",
    "print('    roi_grid shape     : ', roi_grid.get_shape() )\n",
    "print('    batch_grid shape   : ', batch_grid.get_shape())\n",
    "print('    scatter_classes    : ', scatter_classes.get_shape())\n",
    "print('    gaussian scattered : ', gauss_scatt.shape)   \n",
    "print(scatter_classes.eval())\n",
    "\n",
    "## heatmap: sum gauss_scattered based on class ---------------------------------------\n",
    "print('\\n    Reduce sum based on class ---------------------------------------------')         \n",
    "gauss_sum = tf.reduce_sum(gauss_scatt, axis=2, name='pred_heatmap')\n",
    "print('    gaussian_sum shape     : ', gauss_sum.get_shape(), 'Keras tensor ', KB.is_keras_tensor(gauss_sum) )  \n",
    "gauss_sum = tf.where(gauss_sum > 1e-6, gauss_sum,tf.zeros_like(gauss_sum))\n",
    "gauss_sum = tf.transpose(gauss_sum,[0,2,3,1], name = names[0])\n",
    "print('    gaussian sum type/name : ', type(gauss_sum), gauss_sum.name, names[0])\n",
    "print('    gaussian_sum shape     : ', gauss_sum.get_shape(), 'Keras tensor ', KB.is_keras_tensor(gauss_sum) )  "
   ]
  },
  {
   "cell_type": "markdown",
   "metadata": {
    "hidden": true,
    "hideCode": false,
    "hideOutput": false,
    "hidePrompt": false
   },
   "source": [
    "### development of `build_mask_routine()`"
   ]
  },
  {
   "cell_type": "code",
   "execution_count": null,
   "metadata": {
    "ExecuteTime": {
     "end_time": "2018-05-15T17:31:10.879155Z",
     "start_time": "2018-05-15T17:31:10.540145Z"
    },
    "hidden": true,
    "hideCode": true,
    "hidePrompt": true
   },
   "outputs": [],
   "source": [
    "print(' Heatmap tensor shape is :', gauss_scatt2_reshape.shape)\n",
    "\n",
    "def build_mask_routine(input_list):\n",
    "    heatmap_tensor, input_row = input_list\n",
    "    with tf.variable_scope('mask_routine'):\n",
    "        #         tensor_output = tf.zeros_like(config.IMAGE_SHAPE[:2], dtype = tf.int32)\n",
    "        #         input_row = tf.cast(input_row, tf.int32)\n",
    "        y_extent  = tf.range(input_row[0], input_row[2])\n",
    "        x_extent  = tf.range(input_row[1], input_row[3])\n",
    "\n",
    "        Y,X       = tf.meshgrid(y_extent, x_extent)\n",
    "        bbox_mask = tf.stack([Y,X],axis=2)        \n",
    "        mask_indices = tf.reshape(bbox_mask,[-1,2])\n",
    "        mask_indices = tf.to_int32(mask_indices)\n",
    "        #     print('===> Box input is : ', row)   \n",
    "        #     print('    y_extent (Row) ', y_extent, y_extent.shape)\n",
    "        #     print('    x_extent (Cols)', x_extent, x_extent.shape)   \n",
    "        #     print(Y.shape, X.shape)\n",
    "        #     print(X.eval())\n",
    "        #     print('    bbox_mask shape: ',bbox_mask.shape)\n",
    "        #     print(bbox_mask.eval())\n",
    "        #     rows = mask_indices.shape[0]\n",
    "        #     class_id,_ = tf.meshgrid(row[4], mask_indices[:,1] )\n",
    "        #     class_id = row[4]\n",
    "        #     print('    Size of mask_indices: ', mask_indices.shape)\n",
    "        #     print('    Number of rows : ',rows )     \n",
    "        #     mask_indices = tf.concat([class_id,  mask_indices ], axis= 1)\n",
    "        #     print('    Size of mask_indices for this bbox: ', mask_indices.shape)\n",
    "        #     print(mask_indices.eval())         \n",
    "        #     mask_size = mask_indices.get_shape()\n",
    "        #     print(mask_size)\n",
    "        #     mask_updates = tf.ones_like(tf.shape(mask_size), dtype = tf.int32)\n",
    "        mask_size    = tf.shape(mask_indices)[0]\n",
    "        mask_updates = tf.ones([mask_size], dtype = tf.float32)    \n",
    "        #     print('    Size of mask_updates for this bbox: ', mask_updates.shape)    \n",
    "        #     print('  size of bbox_mask: ', mask_size)\n",
    "        #     print(' Before scatter_nd_add ')\n",
    "        #     print(tensor_var.eval())\n",
    "        mask = tf.scatter_nd(mask_indices, mask_updates, config.IMAGE_SHAPE[:2])\n",
    "        #         mask_applied = tf.multiply(heatmap_tensor[index[0], index[1]], mask, name = 'mask_applied')\n",
    "        mask_applied  = tf.multiply(heatmap_tensor, mask, name = 'mask_applied')\n",
    "#         bbox_pred_sum = tf.expand_dims( tf.reduce_sum(mask_applied),-1)\n",
    "#         area      = tf.expand_dims((input_row[2]-input_row[0]) * (input_row[3]-input_row[1]), axis = -1)\n",
    "        area      = (input_row[2]-input_row[0]) * (input_row[3]-input_row[1])    \n",
    "        bbox_pred_sum =  tf.reduce_sum(mask_applied)\n",
    "    return tf.stack([bbox_pred_sum, area], axis = -1)\n"
   ]
  },
  {
   "cell_type": "code",
   "execution_count": null,
   "metadata": {
    "hidden": true,
    "hideCode": true,
    "hidePrompt": true
   },
   "outputs": [],
   "source": [
    "## generate score based on gaussian using bouding box masks ----------------------------------\n",
    "## NOTE: Score is generated on NON-NORMALIZED gaussian distributions\n",
    "##       If want to do this on normalized, we need to apply normalization to gauss_scatt first\n",
    "##--------------------------------------------------------------------------------------------\n",
    "# flatten guassian scattered and input_tensor, and pass on to build_bbox_score routine \n",
    "scatter_flattened  = tf.reshape(in_tensor, [-1,6])\n",
    "bboxes = tf.to_int32(tf.round(scatter_flattened[...,0:4]))\n",
    "print('    scatter_flattened is ', scatter_flattened.shape)\n",
    "print('    boxes shape          ', bboxes.shape)\n",
    "\n",
    "# DONT NEED THIS - was put there to try to avoid computing sum/area for zero bboxes.\n",
    "# kept as reference for future generations .....\n",
    "# bbox_sum = tf.reduce_max(in_tensor[...,0:3], axis = -1, name  = 'bbox_sum')\n",
    "# print(' bbox sum shape: ', bbox_sum.shape)\n",
    "\n",
    "gauss_scatt_shape   = KB.int_shape(gauss_scatt)\n",
    "gauss_scatt_reshape = KB.reshape(gauss_scatt, (-1, gauss_scatt_shape[-2], gauss_scatt_shape[-1]))\n",
    "print('    gaussian scatter shape : ', gauss_scatt_shape)\n",
    "print('    gaussian scatter reshaped : ', gauss_scatt_reshape.shape)\n",
    "# ones_map = tf.ones([384,128,128])   \n",
    "scores = tf.map_fn(build_mask_routine, [gauss_scatt_reshape, bboxes], dtype=tf.float32)\n",
    "\n",
    "new_shape = tf.shape(in_tensor)+ [0,0,0,tf.shape(scores)[-1]]        \n",
    "gaussian_bbox_scores = tf.concat([scatter_flattened, scores], axis = -1)\n",
    "print('    Scatter Flattened shape : ', scatter_flattened.shape))\n",
    "print('    Scores shape :            ', scores.shape)\n",
    "print('    gaussian_boxes_scores initial shape: ', gaussian_bbox_scores.shape)    \n",
    "gaussian_bbox_scores = tf.reshape(concat, new_shape)\n",
    "print('    gaussian_bbox_scores final shape   : ', gaussian_bbox_scores.shape)\n",
    "print('    complete')\n"
   ]
  },
  {
   "cell_type": "code",
   "execution_count": null,
   "metadata": {
    "ExecuteTime": {
     "end_time": "2018-05-15T17:59:33.486569Z",
     "start_time": "2018-05-15T17:59:32.859747Z"
    },
    "hidden": true,
    "hideCode": true,
    "hidePrompt": true
   },
   "outputs": [],
   "source": [
    "scores = tf.map_fn(build_mask_routine, [gauss_scatt_reshape, bboxes], dtype=tf.float32)"
   ]
  },
  {
   "cell_type": "code",
   "execution_count": null,
   "metadata": {
    "ExecuteTime": {
     "end_time": "2018-05-15T18:12:00.528378Z",
     "start_time": "2018-05-15T18:11:57.234725Z"
    },
    "hidden": true,
    "hideCode": true,
    "hidePrompt": true
   },
   "outputs": [],
   "source": [
    "new_shape = tf.shape(in_tensor)+ [0,0,0,tf.shape(scores)[-1]]\n",
    "print(tf.shape(in_tensor).eval())\n",
    "print(new_shape.eval())      \n",
    "print(tf.shape(reshape_tensor).eval())\n",
    "print(tf.shape(scores).eval())\n",
    "\n",
    "concat = tf.concat([reshape_tensor, scores], axis = -1)\n",
    "gaussian_boxes_scores = tf.reshape(concat, new_shape)\n",
    "print(tf.shape(gaussian_boxes_scores).eval())\n",
    "print(gaussian_boxes_scores[0,0].eval())"
   ]
  },
  {
   "cell_type": "code",
   "execution_count": null,
   "metadata": {
    "ExecuteTime": {
     "end_time": "2018-05-15T18:12:17.044573Z",
     "start_time": "2018-05-15T18:12:16.786856Z"
    },
    "hidden": true,
    "hideCode": true,
    "hidePrompt": true
   },
   "outputs": [],
   "source": [
    "print(pred_tensor[0,0])\n",
    "# print(type(int_scores), len(int_scores), int_scores[0].shape, int_scores[1].shape)\n",
    "# print(type(int_scores), int_scores.shape)\n",
    "# results = tf.concat(int_scores, axis = -1)\n",
    "# print(tf.shape(results).eval())\n",
    "# print(results[:32].eval())"
   ]
  },
  {
   "cell_type": "code",
   "execution_count": null,
   "metadata": {
    "ExecuteTime": {
     "end_time": "2018-05-15T17:30:13.657068Z",
     "start_time": "2018-05-15T17:30:12.045620Z"
    },
    "hidden": true,
    "hideCode": true,
    "hidePrompt": true
   },
   "outputs": [],
   "source": [
    "# print(pred_tensor[0,0])\n",
    "# bboxes = tf.concat([bboxes, tf.expand_dims(int_scores, axis = -1)],axis = -1 )\n",
    "print(reshape_tensor[10].eval())\n",
    "tst = gauss_scatt_reshape[10]\n",
    "print(tst.eval())\n",
    "tst1 = tf.where(tf.is_nan(tst),  tf.zeros_like(tst), tst)\n",
    "print(tst1.eval())"
   ]
  },
  {
   "cell_type": "code",
   "execution_count": null,
   "metadata": {
    "ExecuteTime": {
     "end_time": "2018-05-15T19:55:35.838068Z",
     "start_time": "2018-05-15T19:55:35.570335Z"
    },
    "hidden": true,
    "hideCode": true,
    "hideOutput": true,
    "hidePrompt": true
   },
   "outputs": [],
   "source": [
    "print(output_rois[1]*[128,128,128,128])\n",
    "print(pred_tensor[1,2])\n",
    "print(pred_hm_scores[1,2])\n",
    "print(pred_hm_scores[1,2,:,-2]/pred_hm_scores[1,2,:,-1])"
   ]
  },
  {
   "cell_type": "markdown",
   "metadata": {
    "hidden": true,
    "hideCode": true,
    "hidePrompt": true
   },
   "source": [
    "###  Successful attempt to nbuild masks based on boudiung boxes"
   ]
  },
  {
   "cell_type": "code",
   "execution_count": null,
   "metadata": {
    "ExecuteTime": {
     "end_time": "2018-05-14T23:09:26.303677Z",
     "start_time": "2018-05-14T23:09:26.051088Z"
    },
    "hidden": true,
    "hideCode": false,
    "hidePrompt": true
   },
   "outputs": [],
   "source": [
    "try:\n",
    "    sess.close()\n",
    "    print('session was deleted ')\n",
    "except:\n",
    "    print('Session was not defined ')\n",
    "    pass\n",
    "try: \n",
    "    del input_tensor\n",
    "    print('input_tensor was deleted')\n",
    "except:\n",
    "    print('input tensor was not defined ')\n",
    "    pass\n",
    "# \n",
    "# tf.reset_default_graph()  \n",
    "try: \n",
    "    del canvas\n",
    "    print('Canvas was deleted')\n",
    "except:\n",
    "    print('Canvas was not defined ')\n",
    "# sess = KB.get_session()\n",
    "# print(sess)\n",
    "# pred_tensor_tf = tf.identity(pred_tensor)\n",
    "# gauss_sum2 =  build_heatmap(pred_tensor_tf, model.config, names = 'Kevin')"
   ]
  },
  {
   "cell_type": "code",
   "execution_count": null,
   "metadata": {
    "ExecuteTime": {
     "end_time": "2018-05-14T23:48:27.547714Z",
     "start_time": "2018-05-14T23:48:27.177650Z"
    },
    "hidden": true,
    "hideCode": true,
    "hidePrompt": true
   },
   "outputs": [],
   "source": [
    "try:\n",
    "    sess.close()\n",
    "    print('session was deleted ')\n",
    "except:\n",
    "    print('Session was not defined ')\n",
    "    pass\n",
    "sess= tf.InteractiveSession()\n",
    "# sess.run(tf.global_variables_initializer())\n",
    "input_tensor = tf.identity(pred_tensor)\n",
    "# heatmap_tensor = tf.identity(tf.transpose(pred_hm_norm, perm=[0,3,1,2]))\n",
    "heatmap_tensor = tf.ones([3,4,128,128])\n",
    "heatmap_tensor  += heatmap_tensor\n",
    "print(' Heatmap tensor shae is :', heatmap_tensor.shape)\n",
    "\n",
    "def f1(): return  tf.zeros_like(config.IMAGE_SHAPE[:2])\n",
    "\n",
    "def build_mask_routine(heatmap_tensor, input_row, index):\n",
    "    with tf.variable_scope('mask_routine'):\n",
    "        #         tensor_output = tf.zeros_like(config.IMAGE_SHAPE[:2], dtype = tf.int32)\n",
    "        #         input_row = tf.cast(input_row, tf.int32)\n",
    "        y_extent  = tf.range(input_row[0], input_row[2])\n",
    "        x_extent  = tf.range(input_row[1], input_row[3])\n",
    "        Y,X       = tf.meshgrid(y_extent, x_extent)\n",
    "        bbox_mask = tf.stack([Y,X],axis=2)        \n",
    "        mask_indices = tf.reshape(bbox_mask,[-1,2])\n",
    "        #     print('===> Box input is : ', row)   \n",
    "        #     print('    y_extent (Row) ', y_extent, y_extent.shape)\n",
    "        #     print('    x_extent (Cols)', x_extent, x_extent.shape)   \n",
    "        #     print(Y.shape, X.shape)\n",
    "        #     print(X.eval())\n",
    "        #     print('    bbox_mask shape: ',bbox_mask.shape)\n",
    "        #     print(bbox_mask.eval())\n",
    "        #     rows = mask_indices.shape[0]\n",
    "        #     class_id,_ = tf.meshgrid(row[4], mask_indices[:,1] )\n",
    "        #     class_id = row[4]\n",
    "        #     print('    Size of mask_indices: ', mask_indices.shape)\n",
    "        #     print('    Number of rows : ',rows )     \n",
    "        #     mask_indices = tf.concat([class_id,  mask_indices ], axis= 1)\n",
    "        #     print('    Size of mask_indices for this bbox: ', mask_indices.shape)\n",
    "        #     print(mask_indices.eval())         \n",
    "        #     mask_size = mask_indices.get_shape()\n",
    "        #     print(mask_size)\n",
    "        #     mask_updates = tf.ones_like(tf.shape(mask_size), dtype = tf.int32)\n",
    "        mask_size    = tf.shape(mask_indices)[0]\n",
    "        mask_updates = tf.ones([mask_size], dtype = tf.float32)    \n",
    "        #     print('    Size of mask_updates for this bbox: ', mask_updates.shape)    \n",
    "        #     print('  size of bbox_mask: ', mask_size)\n",
    "        #     print(' Before scatter_nd_add ')\n",
    "        #     print(tensor_var.eval())\n",
    "        mask = tf.scatter_nd(mask_indices, mask_updates, config.IMAGE_SHAPE[:2])\n",
    "        mask_applied = tf.multiply(heatmap_tensor[index[0], index[1]], mask, name = 'mask_applied')\n",
    "        bbox_pred_sum = tf.reduce_sum(mask_applied)\n",
    "    return bbox_pred_sum\n",
    "\n",
    "\n",
    "#     tensor_output = tf.scatter_nd_add(tensor_input, mask_indices, mask_updates)\n",
    "#     print('    Tensor_output shape:  ', tensor_output.shape)\n",
    "#     print(tensor_output[2].eval())\n"
   ]
  },
  {
   "cell_type": "code",
   "execution_count": null,
   "metadata": {
    "ExecuteTime": {
     "end_time": "2018-05-14T23:48:31.132863Z",
     "start_time": "2018-05-14T23:48:30.817404Z"
    },
    "hidden": true,
    "hideCode": true,
    "hidePrompt": true
   },
   "outputs": [],
   "source": [
    "''' \n",
    "input is a row of the pred_tensor array (x1,y1, x2,y2)\n",
    "'''\n",
    "# input_tensor = tf.placeholder(tf.float32,shape=[config.BATCH_SIZE, config.NUM_CLASSES, config.TRAIN_ROIS_PER_IMAGE,6])\n",
    "# heatmap_tensor = tf.placeholder(tf.float32,shape=[config.BATCH_SIZE, config.FCN_INPUT_SHAPE[0], config.FCN_INPUT_SHAPE[1], config.NUM_CLASSES])\n",
    "\n",
    "reshape_tensor  = tf.reshape(input_tensor, [-1,6])\n",
    "# num_imgs, num_classes, num_rois, cols = KB.int_shape(input_tensor)\n",
    "print('input_shape is ', input_tensor.shape) \n",
    "# print(' Or: ', num_imgs, num_classes, num_rois, cols)\n",
    "num_boxes, num_cols = KB.int_shape(reshape_tensor)\n",
    "print('reshape_tensor is ', reshape_tensor.shape)\n",
    "\n",
    "bbox_sum = tf.reduce_max(input_tensor[...,0:3], axis = -1, name  = 'bbox_sum')\n",
    "print(' bbox sum shape: ', bbox_sum.shape)\n",
    "\n",
    "bboxes = tf.concat([tf.to_int32(tf.round(reshape_tensor[...,0:4])), reshape_tensor[...,4:]], axis = -1, name='nz_boxes')\n",
    "print('boxes shape', bboxes.shape)\n",
    "# print(bboxes.eval())\n",
    "\n",
    "#     print(bbox_sum.eval(session = sess))\n",
    "# nz_inds  = tf.where(bbox_sum > 0 , name ='nz_inds')\n",
    "# print(' shape of indexes to non zeros bouding boxes : ',nz_inds.shape)\n",
    "#     print(nz_inds.eval(session = sess))\n",
    "\n",
    "# nz_inds = nz_inds[0:6]\n",
    "# num_nz_inds = tf.shape(nz_inds)[0]\n",
    "# print('number of non-zeros indices:', num_nz_inds.eval())\n",
    "\n",
    "# tmp = tf.gather_nd(input_tensor, nz_inds, name = 'tmp')\n",
    "# print(nz_boxes.get_shape())\n",
    "#     print(nz_boxes.eval(session = sess))\n",
    "\n",
    "\n",
    "# print('non zeros boxes shape:', tf.shape(nz_boxes).eval(session = sess)) \n",
    "# print(nz_boxes[:11].eval(session = sess))\n",
    "\n",
    "# print('non zeros boxes shape:', tf.shape(tst_boxes)) \n",
    "# print(tst_boxes.eval(session = sess))\n",
    "\n",
    "# nz_boxes = tf.Print(nz_boxes, [tf.shape(nz_inds)],message='Non zero bounding boxes')\n",
    "# print(nz_boxes.eval())"
   ]
  },
  {
   "cell_type": "code",
   "execution_count": null,
   "metadata": {
    "ExecuteTime": {
     "end_time": "2018-05-15T00:08:57.949522Z",
     "start_time": "2018-05-14T23:53:50.353147Z"
    },
    "hidden": true,
    "hideCode": true,
    "hidePrompt": true,
    "scrolled": true
   },
   "outputs": [],
   "source": [
    "print(bboxes.shape)\n",
    "num_bboxes = bboxes.shape[0]\n",
    "score_list = []\n",
    "\n",
    "print('num_bboxes: ', num_bboxes)\n",
    "for i in range(num_bboxes):\n",
    "    index = tf.unravel_index(i, input_tensor.shape[0:3])\n",
    "    heatmap_tensor = tf.Print(heatmap_tensor, [index], message= 'Index is ')\n",
    "    print('Call ', i, 'Unraveled: (' ,index.eval(), ') for ', bboxes[i].eval())\n",
    "    \n",
    "#     new_mask = tf.assign(mask, zero)    \n",
    "    summ = tf.reduce_max(bboxes[i,0:4],name = \"max_element\")\n",
    "#     output=tf.cond(tf.equal(summ, 0),\n",
    "#                 f1,\n",
    "#                 lambda: build_mask_routine(mask , bboxes[i])   )\n",
    "#         return tensor_output    \n",
    "    score = build_mask_routine(heatmap_tensor, bboxes[i], index)\n",
    "    print('       Score', score.eval())\n",
    "#     print(' Mask shape: ',mask.get_shape() )\n",
    "    score_list.append(score)\n",
    "final_scores = tf.stack(score_list,axis=-1)\n",
    " "
   ]
  },
  {
   "cell_type": "code",
   "execution_count": null,
   "metadata": {
    "ExecuteTime": {
     "end_time": "2018-05-14T23:52:22.284988Z",
     "start_time": "2018-05-14T23:52:21.321147Z"
    },
    "hidden": true,
    "hideCode": true,
    "hidePrompt": true
   },
   "outputs": [],
   "source": [
    "print(final_scores.eval())"
   ]
  },
  {
   "cell_type": "markdown",
   "metadata": {
    "hidden": true,
    "hideCode": true,
    "hidePrompt": true
   },
   "source": [
    "###  Run TF session"
   ]
  },
  {
   "cell_type": "code",
   "execution_count": null,
   "metadata": {
    "ExecuteTime": {
     "end_time": "2018-05-14T22:50:07.054593Z",
     "start_time": "2018-05-14T22:50:05.476250Z"
    },
    "hidden": true,
    "hideCode": true,
    "hidePrompt": true
   },
   "outputs": [],
   "source": [
    "feed_dict = {input_tensor: pred_tensor}\n",
    "# fetches = [nz_boxes, int_masks]\n",
    "fetches = [bboxes, output, reshape_tensor, final_output]\n",
    "sess = tf.Session()\n",
    "print(' tfsession() is ', sess)\n",
    "sess.run(tf.global_variables_initializer())\n",
    "tt = sess.run(fetches, feed_dict = feed_dict )\n",
    "print(type(tt), len(tt))\n",
    "sess.close()"
   ]
  },
  {
   "cell_type": "code",
   "execution_count": null,
   "metadata": {
    "ExecuteTime": {
     "end_time": "2018-05-14T21:24:56.753927Z",
     "start_time": "2018-05-14T21:24:56.499752Z"
    },
    "hidden": true,
    "hideCode": true,
    "hidePrompt": true
   },
   "outputs": [],
   "source": [
    "print(len(Output_list))\n",
    "for i in range(len(Output_list)):\n",
    "    print(Output_list[i].shape, type(Output_list[i]))\n",
    "    print(mask_string(Output_list[i]))"
   ]
  },
  {
   "cell_type": "code",
   "execution_count": null,
   "metadata": {
    "ExecuteTime": {
     "end_time": "2018-05-14T22:07:10.133092Z",
     "start_time": "2018-05-14T22:07:09.861953Z"
    },
    "hidden": true,
    "hideCode": true,
    "hidePrompt": true,
    "scrolled": true
   },
   "outputs": [],
   "source": [
    "from mrcnn.utils import mask_string\n",
    "# img = 1\n",
    "np.set_printoptions(linewidth=150, precision=6, threshold=20000)\n",
    "print(' bboxes Shape: ', tt[0].shape)\n",
    "print(' bboxes Tensor :   \\n ', tt[0][32:48])\n",
    "\n",
    "print('\\n')\n",
    "print(' pred_tensor shape : ', pred_tensor.shape)\n",
    "print(' pred_tensor      \\n ', pred_tensor[0,0,32:48])\n",
    "\n",
    "# print(' tst_boxes shape ', tt[1].shape)\n",
    "# print(' tst_boxes :   \\n ', tt[1])\n",
    "\n",
    "# print(' masks shape :   ', tt[1].shape, type(tt[1]))\n",
    "# print(' masks :      \\n ', mask_string(tt[1]))\n",
    "print('\\n')\n",
    "print(' reshape_tensor shape :   ', tt[2].shape, type(tt[2]))\n",
    "print(' reshape_tensor :      \\n ', tt[2][32:48])\n",
    "print('\\n')\n",
    "print(' reshape_tensor shape :   ', tt[3].shape, type(tt[3]))\n",
    "# print(' reshape_tensor :      \\n ', tt[3][0:10])\n",
    "  \n",
    "\n",
    "\n",
    "print(mask_string(tt[3][:,:,2]))"
   ]
  },
  {
   "cell_type": "markdown",
   "metadata": {
    "hidden": true
   },
   "source": [
    "### Repeat tesnor at given axis n times"
   ]
  },
  {
   "cell_type": "code",
   "execution_count": null,
   "metadata": {
    "ExecuteTime": {
     "end_time": "2018-05-17T11:59:13.056822Z",
     "start_time": "2018-05-17T11:59:11.096615Z"
    },
    "hidden": true,
    "hideCode": false,
    "hideOutput": true,
    "scrolled": false
   },
   "outputs": [],
   "source": [
    "import tensorflow as tf\n",
    "import keras.layers as KL\n",
    "np.set_printoptions(linewidth=130,precision=4,threshold=7000, suppress = True)\n",
    "\n",
    "sess  = KB.get_session()\n",
    "print(sess)\n",
    "test1 = KB.identity(output_rois)\n",
    "print(pred_heatmap_norm.shape)\n",
    "pred_hm_norm = KB.identity(pred_heatmap_norm)\n",
    "test1 = tf.transpose(pred_heatmap_norm, (0,3,1,2))\n",
    "test1_shape = KB.int_shape(test1)\n",
    "\n",
    "with sess.as_default():\n",
    "    print(test1_shape)\n",
    "    test1_sum = tf.reduce_sum(test1, [2,3]).eval()\n",
    "    print('test1_sum is ', test1_sum.shape)\n",
    "    for i in range(5):\n",
    "        for j in range(4):\n",
    "            print('img ',i,' class ', j, ' sum: ', test1_sum[i,j])\n",
    "            \n",
    "    test2 = tf.expand_dims(test1, axis =2)\n",
    "    print('  Test2 shapes :',  test2.get_shape())\n",
    "    test2 = tf.tile(test2, [1,2,32,1,1])\n",
    "    print('  Test2 shapes :',  test2.get_shape())\n",
    "    test2_sum = tf.reduce_sum(test2, [3,4]).eval()\n",
    "    print('test2_sum is ', test2_sum.shape)\n",
    "    for i in range(5):\n",
    "        for j in range(4):\n",
    "            for k in range(32):\n",
    "                print('img ',i,' class ', j, 'copy ',k, ' sum:',test2_sum[i,j,k])\n",
    "\n",
    "#         print(KB.int_shape(test2))\n",
    "#         print(' Test2 - ',i)\n",
    "#         print(test2[i,0,:6].eval())\n",
    "#         print(test2[i,1,:6].eval())\n",
    "#         print(test2[i,2,:6].eval())\n",
    "\n",
    "#     ones = tf.ones([7 ,1, 1, 1], dtype = tf.float32)    \n",
    "#     test2 = test1 * ones\n",
    "#     print(KB.int_shape(test2))\n",
    "\n",
    "#     test2 = tf.tile(test2, [1,3,1,1])\n",
    "#     for i in range(5):\n",
    "#         print(KB.int_shape(test2))\n",
    "#         print(' Test2 - ',i)\n",
    "#         print(test2[i,0,:6].eval())\n",
    "#         print(test2[i,1,:6].eval())\n",
    "#         print(test2[i,2,:6].eval())\n",
    "\n",
    "\n",
    "# with sess.as_default():\n",
    "#     print(KB.int_shape(pred_hm_norm))\n",
    "#     test1_shape = KB.int_shape(test1)\n",
    "#     print(test1_shape)\n",
    "#     print(test1[0,:6].eval())\n",
    "#     print(test1[1,:6].eval())\n",
    "#     print(test1[2,:6].eval())\n",
    "#     print(test1[3,:6].eval())    \n",
    "#     print(test1[4,:6].eval())    \n",
    "#     test2 = tf.expand_dims(test1, axis =1)\n",
    "# #     print('  Test1 shapes :',  test1.get_shape())\n",
    "# #     ones = tf.ones([7 ,1, 1, 1], dtype = tf.float32)    \n",
    "# #     test2 = test1 * ones\n",
    "#     print(KB.int_shape(test2))\n",
    "\n",
    "#     test2 = tf.tile(test2, [1,3,1,1])\n",
    "#     for i in range(5):\n",
    "#         print(KB.int_shape(test2))\n",
    "#         print(' Test2 - ',i)\n",
    "#         print(test2[i,0,:6].eval())\n",
    "#         print(test2[i,1,:6].eval())\n",
    "#         print(test2[i,2,:6].eval())\n",
    "\n",
    "# #     test3 = KB.reshape(test2, (-1,test1_shape[0], test1_shape[1]))    \n",
    "# #     print(KB.int_shape(test3))\n",
    "# #     print(test3.eval())\n"
   ]
  },
  {
   "cell_type": "markdown",
   "metadata": {
    "hidden": true
   },
   "source": [
    "###  Generate L2 norm on heatmap score"
   ]
  },
  {
   "cell_type": "code",
   "execution_count": null,
   "metadata": {
    "ExecuteTime": {
     "end_time": "2018-05-17T08:39:30.643505Z",
     "start_time": "2018-05-17T08:39:29.898717Z"
    },
    "hidden": true,
    "hideCode": false,
    "hideOutput": true,
    "scrolled": false
   },
   "outputs": [],
   "source": [
    "# del scr\n",
    "# del scr_norm\n",
    "with sess.as_default():\n",
    "#     print(tf.shape(scr).eval())\n",
    "    print(pred_heatmap_scores[img,0])\n",
    "    scr = pred_heatmap_scores[...,6]/pred_heatmap_scores[...,7]\n",
    "    scr = tf.where(tf.is_nan(scr),  tf.zeros_like(scr), scr)       \n",
    "    scr_norm = tf.nn.l2_normalize(scr, axis = -1)\n",
    "#     print('l2 normalzied - 2')\n",
    "#     print(tf.shape(scr_norm).eval())    \n",
    "#     print(scr_norm.eval())\n",
    "    scr_norm = tf.expand_dims(scr_norm, axis = -1)\n",
    "#     print(tf.shape(scr_norm).eval())\n",
    "    print('tst')\n",
    "    tst = tf.concat([pred_heatmap_scores, scr_norm], axis = -1)\n",
    "    print(tst.shape)\n",
    "    print(tst[0].eval())"
   ]
  }
 ],
 "metadata": {
  "anaconda-cloud": {},
  "celltoolbar": "Hide code",
  "hide_code_all_hidden": true,
  "kernelspec": {
   "display_name": "Python [conda env:TFG]",
   "language": "python",
   "name": "conda-env-TFG-py"
  },
  "language_info": {
   "codemirror_mode": {
    "name": "ipython",
    "version": 3
   },
   "file_extension": ".py",
   "mimetype": "text/x-python",
   "name": "python",
   "nbconvert_exporter": "python",
   "pygments_lexer": "ipython3",
   "version": "3.5.4"
  },
  "toc": {
   "base_numbering": 1,
   "nav_menu": {},
   "number_sections": true,
   "sideBar": true,
   "skip_h1_title": false,
   "title_cell": "Table of Contents",
   "title_sidebar": "Contents",
   "toc_cell": false,
   "toc_position": {},
   "toc_section_display": true,
   "toc_window_display": false
  }
 },
 "nbformat": 4,
 "nbformat_minor": 2
}
