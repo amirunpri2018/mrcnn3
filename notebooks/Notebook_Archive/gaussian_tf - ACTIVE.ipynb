{
 "cells": [
  {
   "cell_type": "markdown",
   "metadata": {},
   "source": [
    "### Simulate build_prediction and  _build_gaussian_tf by simulating tensors"
   ]
  },
  {
   "cell_type": "code",
   "execution_count": null,
   "metadata": {
    "ExecuteTime": {
     "end_time": "2018-04-30T13:52:23.585605Z",
     "start_time": "2018-04-30T13:52:19.952017Z"
    },
    "hideCode": false,
    "hidePrompt": false
   },
   "outputs": [],
   "source": [
    "\n",
    "from IPython.core.display import display, HTML\n",
    "display(HTML(\"<style>.container { width:90% !important; }</style>\"))\n",
    "\n",
    "%matplotlib inline\n",
    "%load_ext autoreload\n",
    "%autoreload 2\n",
    "\n",
    "\n",
    "import sys\n",
    "sys.path.append('../')\n",
    "from mrcnn.utils import trim_zeros_graph\n",
    "import numpy as np\n",
    "import tensorflow as tf\n",
    "\n",
    "np.set_printoptions(linewidth=100, precision=4)\n",
    "sess = tf.InteractiveSession()\n",
    "\n",
    "batch_size = 3\n",
    "num_rois = 32\n",
    "num_classes = 4\n",
    "num_detections = 100\n",
    "num_rois_per_image = 32\n",
    "rois_per_image = 32"
   ]
  },
  {
   "cell_type": "markdown",
   "metadata": {
    "hideCode": false,
    "hidePrompt": false
   },
   "source": [
    "# Generate 3D Pred Array Tensors\n",
    "\n",
    "###  Create class score tensor\n",
    " 1- Class_Score tensor:   batch_size x  num_dectections x num_classes\n",
    "        \n",
    "        2- Output_ROIs :         batch_size x  num_detections  x 4    \n",
    " 3- mrcnn_bboxes:         batch_size x  num_detections  x num_clases x 4\n",
    " \n",
    "###  Generate pred_array: tensor [ seq_id,  max_score,  bbox coordinates, class_id]\n",
    "  1 -  Get max prediction score and  corresponding class for each ROI\n",
    "  2 -  Concat sequence id, max_score, bbox coordinates and class id \n",
    "  \n",
    "###  Generate meshgrid of image_id (batch grid) and bbox_ids  (roi_grid)\n",
    "  Generate scatter indices to scatter bbox information by image_id and class_id \n",
    "  The the highest score for each detection (highest score amongst classes) and the class corresponding to the highest score   \n",
    "\n",
    "###  Split Box/ Class info for each Image dim(0) by class and place into new tensor using tf.scatter_nd\n",
    "\n",
    "    Output is converted to NUMN_BATCHES x NUM_CLASSES x NUM_ROIS x columns(7)\n",
    "\n",
    "###  Sort pred_scatter by score \n",
    "    Sort each slice based on column  1 (score) using top_k\n",
    "    Generate calss_grid, batch_grid and roi-grid based using mesh_grid \n",
    "    Stack results to generate gather indices \n",
    "    Generate final result - pred_tensor - using tf.gather_nd()         "
   ]
  },
  {
   "cell_type": "code",
   "execution_count": null,
   "metadata": {
    "ExecuteTime": {
     "end_time": "2018-04-30T15:42:36.609798Z",
     "start_time": "2018-04-30T15:42:35.521371Z"
    },
    "hideCode": false,
    "hidePrompt": false
   },
   "outputs": [],
   "source": [
    "mrcnn_class_init_0 = tf.Variable(tf.random_uniform([num_rois-10, num_classes], minval=0, maxval=1  , dtype=tf.float32, seed=1234), name = 'var1')\n",
    "mrcnn_class_init_1 = tf.Variable(tf.random_uniform([num_rois-4 , num_classes], minval=0, maxval=1  , dtype=tf.float32, seed=5678), name = 'var2')\n",
    "mrcnn_class_init_2 = tf.Variable(tf.random_uniform([num_rois-2 , num_classes], minval=0, maxval=1  , dtype=tf.float32, seed=9012), name = 'var3')\n",
    "\n",
    "output_rois_init_0a = tf.Variable(tf.random_uniform([5, 4] , minval=0, maxval=128, dtype=tf.float32, seed=1969), name = 'var4')\n",
    "output_rois_init_0b = tf.Variable(tf.random_uniform([15, 4], minval=0, maxval=128, dtype=tf.float32, seed=1192), name = 'var5')\n",
    "output_rois_init_1  = tf.Variable(tf.random_uniform([num_rois-4 , 4], minval=0, maxval=128, dtype=tf.float32, seed=1999), name = 'var6')\n",
    "output_rois_init_2  = tf.Variable(tf.random_uniform([num_rois-2 , 4], minval=0, maxval=128, dtype=tf.float32, seed=2012), name = 'var7')\n",
    "\n",
    "mrcnn_bboxes       = tf.Variable(tf.random_uniform([batch_size, num_rois, num_classes, 4], minval=0, maxval=128, dtype=tf.float32, seed=8976),\n",
    "                                 name = 'var8')\n",
    "\n",
    "init = tf.global_variables_initializer().run()\n",
    "np.set_printoptions(linewidth=100, precision=4)\n",
    "\n",
    "mrcnn_class_filler_0 = tf.zeros([10, num_classes], dtype = tf.float32)\n",
    "mrcnn_class_filler_1 = tf.zeros([4, num_classes], dtype = tf.float32)\n",
    "mrcnn_class_filler_2 = tf.zeros([2, num_classes], dtype = tf.float32)\n",
    "mrcnn_class_0 = tf.concat([mrcnn_class_init_0, mrcnn_class_filler_0],axis = 0)\n",
    "mrcnn_class_1 = tf.concat([mrcnn_class_init_1, mrcnn_class_filler_1],axis = 0)\n",
    "mrcnn_class_2 = tf.concat([mrcnn_class_init_2, mrcnn_class_filler_2],axis = 0)\n",
    "print(' mrcnn_class 0 shape: ', mrcnn_class_0.shape)\n",
    "print(' mrcnn_class 1 shape: ', mrcnn_class_1.shape)\n",
    "print(' mrcnn_class 2 shape: ', mrcnn_class_2.shape)\n",
    "\n",
    "mrcnn_class   = tf.stack([mrcnn_class_0, mrcnn_class_1, mrcnn_class_2], axis = 0 )\n",
    "print(' mrcnn_class shape: ', mrcnn_class.shape)\n",
    "# print(mrcnn_class.eval())\n",
    "\n",
    "output_rois_filler_0a = tf.zeros([2, 4], dtype = tf.float32)\n",
    "output_rois_filler_0b = tf.zeros([10, 4], dtype = tf.float32)\n",
    "output_rois_filler_1  = tf.zeros([4 , 4], dtype = tf.float32)\n",
    "output_rois_filler_2  = tf.zeros([2 , 4], dtype = tf.float32)\n",
    "# output_rois_filler  = tf.zeros([batch_size, 2, 4], dtype = tf.float32)\n",
    "output_rois_0         = tf.concat([output_rois_init_0a, output_rois_filler_0a, output_rois_init_0b, output_rois_filler_0b],axis = 0)\n",
    "output_rois_1         = tf.concat([output_rois_init_1, output_rois_filler_1],axis = 0)\n",
    "output_rois_2         = tf.concat([output_rois_init_2, output_rois_filler_2],axis = 0)\n",
    "print(' output_rois 0 shape: ', output_rois_0.shape)\n",
    "print(' output_rois 1 shape: ', output_rois_1.shape)\n",
    "print(' output_rois 2 shape: ', output_rois_2.shape)\n",
    "\n",
    "output_rois   = tf.stack([output_rois_0, output_rois_1, output_rois_2], axis = 0 )\n",
    "\n",
    "print(' output_rois shape: ', output_rois.shape)\n",
    "# print(output_rois[0].eval())\n",
    "\n",
    "\n",
    "one   = tf.ones([num_rois, 4])\n",
    "test_bboxes = tf.stack([one, one+1, one+2, one+3], axis = 0) \n",
    "print(output_rois.eval())"
   ]
  },
  {
   "cell_type": "code",
   "execution_count": null,
   "metadata": {
    "ExecuteTime": {
     "end_time": "2018-04-30T15:44:01.530179Z",
     "start_time": "2018-04-30T15:44:00.621762Z"
    },
    "hideCode": false,
    "hidePrompt": false
   },
   "outputs": [],
   "source": [
    "pred_classes     = tf.argmax(mrcnn_class,axis=-1, output_type = tf.int32)\n",
    "pred_classes_exp = tf.to_float(tf.expand_dims(pred_classes,axis=-1))\n",
    "print('pred_classes (classes with highest scores):', pred_classes.get_shape())\n",
    "print(pred_classes.eval())\n",
    "print('pred_classes expanded shape:', pred_classes_exp.get_shape())\n",
    "\n",
    "pred_scores  = tf.reduce_max(mrcnn_class,axis=-1, keepdims=True)\n",
    "print('pred_scores shape', pred_scores.shape)\n",
    "# print(pred_scores.eval())\n",
    "\n",
    "batch_grid, roi_grid = tf.meshgrid( tf.range(batch_size, dtype=tf.int32), tf.range(num_rois, dtype=tf.int32), indexing = 'ij' )\n",
    "bbox_idx   = tf.to_float(tf.expand_dims(roi_grid, axis = -1))\n",
    "\n",
    "print('roi_grid shape    :',tf.shape(roi_grid).eval())\n",
    "print(roi_grid.eval())\n",
    "print('batch_grid  shape :',tf.shape(batch_grid).eval())\n",
    "print(batch_grid.eval())\n",
    "\n",
    "# changed o make pred_array simnialr to detections array \n",
    "# pred_array = tf.concat([ bbox_idx, pred_scores , output_rois, pred_classes_exp], axis=-1)\n",
    "pred_array = tf.concat([ bbox_idx, output_rois, pred_classes_exp, pred_scores ], axis=-1)\n",
    "scatter_classes = tf.stack([batch_grid , pred_classes, roi_grid],axis = -1)\n",
    "print(pred_array.get_shape())"
   ]
  },
  {
   "cell_type": "code",
   "execution_count": null,
   "metadata": {
    "hideCode": true
   },
   "outputs": [],
   "source": [
    "\n",
    "# aa = tf.reduce_sum(pred_array[:,:, 2:6],2)\n",
    "# print('aa is : ', type(aa), aa.shape)\n",
    "# print( aa.eval())\n",
    "# non_zero = tf.not_equal(aa, 0)\n",
    "# print(' non_zero  ', non_zero.get_shape())\n",
    "# print(non_zero.eval())\n",
    "# non_zero_ind = tf.where(non_zero)\n",
    "# print(' non_zero_ind  ', non_zero_ind.get_shape())\n",
    "# print(non_zero_ind.eval())\n",
    "\n",
    "# # non_zero_exp = tf.concat([tf.expand_dims(non_zero[:,0], axis = -1), non_zero], axis = -1 )\n",
    "# # print(' non_zero  ', non_zero_exp.get_shape())\n",
    "# # print(non_zero_exp.eval())\n",
    "\n",
    "# pred_nz_array   = tf.scatter_nd(non_zero_ind, pred_array,[3, 32,7])\n",
    "# print(' non_zero_array  ', pred_nz_array.shape)\n",
    "# print(pred_nz_array.eval())"
   ]
  },
  {
   "cell_type": "code",
   "execution_count": null,
   "metadata": {
    "ExecuteTime": {
     "end_time": "2018-04-30T15:44:08.147469Z",
     "start_time": "2018-04-30T15:44:07.669664Z"
    },
    "hideCode": false,
    "hidePrompt": false
   },
   "outputs": [],
   "source": [
    "np.set_printoptions(linewidth=120, precision=6)\n",
    "print('pred_array shape', pred_array.shape)\n",
    "print('Image 0 ------')\n",
    "print(pred_array[0].eval())\n",
    "print('Image 1 ------')\n",
    "print(pred_array[1].eval())\n",
    "print('Image 2 ------')\n",
    "print(pred_array[2].eval())\n"
   ]
  },
  {
   "cell_type": "code",
   "execution_count": null,
   "metadata": {
    "ExecuteTime": {
     "end_time": "2018-04-30T15:44:35.038068Z",
     "start_time": "2018-04-30T15:44:34.774365Z"
    },
    "hideCode": false,
    "hideOutput": false,
    "hidePrompt": false,
    "scrolled": false
   },
   "outputs": [],
   "source": [
    "print('-- scatter to classes ----')\n",
    "print('pred_array shape     ', pred_array.get_shape())\n",
    "print('scatter_classes shape', scatter_classes.get_shape())\n",
    "# scatter_classes gives indcies to scatter the pred_array by image / class \n",
    "# print(scatter_classes[0].eval())\n"
   ]
  },
  {
   "cell_type": "markdown",
   "metadata": {},
   "source": [
    "### pred_scatt is the array with ROIs scattered out (separated)  by Image &  Class "
   ]
  },
  {
   "cell_type": "code",
   "execution_count": null,
   "metadata": {
    "ExecuteTime": {
     "end_time": "2018-04-30T15:44:39.198862Z",
     "start_time": "2018-04-30T15:44:38.664424Z"
    },
    "hideCode": false,
    "hidePrompt": false
   },
   "outputs": [],
   "source": [
    "pred_scatt = tf.scatter_nd(scatter_classes, pred_array, [batch_size, num_classes, num_rois,7])\n",
    "print('pred_scatter shape is ', pred_scatt.get_shape())\n",
    "print('------------')\n",
    "print(pred_scatt[0].eval())\n",
    "print('------------')\n",
    "print(pred_scatt[1].eval())\n",
    "print('------------')\n",
    "print(pred_scatt[2].eval())"
   ]
  },
  {
   "cell_type": "markdown",
   "metadata": {},
   "source": [
    "###  Sort `pred_scattered` by score (last column) and create `pred_tensor`"
   ]
  },
  {
   "cell_type": "code",
   "execution_count": null,
   "metadata": {
    "ExecuteTime": {
     "end_time": "2018-04-30T15:59:17.296620Z",
     "start_time": "2018-04-30T15:59:16.144054Z"
    },
    "hideCode": false,
    "hidePrompt": false,
    "scrolled": false
   },
   "outputs": [],
   "source": [
    "'''\n",
    "# sort_vals, sort_inds = tf.nn.top_k(pred_scatt[:,:,:,1], k=pred_scatt.shape[2])\n",
    "'''\n",
    "np.set_printoptions(linewidth=130, precision=6)\n",
    "sort_vals, sort_inds = tf.nn.top_k(pred_scatt[:,:,:,-1], k=pred_scatt.shape[2])\n",
    "\n",
    "# print(' Sort vals: ',tf.shape(sort_vals).eval())\n",
    "# print(sort_vals.eval())\n",
    "print()\n",
    "print(' Sort inds: ',tf.shape(sort_inds).eval())\n",
    "print(sort_inds.eval())\n",
    "\n",
    "class_grid, batch_grid, roi_grid = tf.meshgrid(tf.range(num_classes),tf.range(batch_size), tf.range(num_rois))\n",
    "roi_grid_exp = tf.to_float(tf.expand_dims(roi_grid, axis = -1))\n",
    "gather_inds = tf.stack([batch_grid , class_grid, sort_inds],axis = -1)\n",
    "pred_tensor = tf.gather_nd(pred_scatt, gather_inds)\n",
    "\n",
    "# print(class_grid.eval())\n",
    "# print(batch_grid.eval())\n",
    "print('    class_grid  ', type(class_grid) , 'shape', class_grid.get_shape())\n",
    "print('    batch_grid  ', type(batch_grid) , 'shape', batch_grid.get_shape())\n",
    "print('    roi_grid shape', roi_grid.get_shape(), 'roi_grid_exp shape ', roi_grid_exp.get_shape())\n",
    "print('    gather_inds ', type(gather_inds), 'shape', gather_inds.get_shape())\n",
    "print('    pred_tensor (gathered)  : ', pred_tensor.get_shape())\n",
    "\n",
    "print('-- stack results ----')\n",
    "print('pred_scatt ', type(pred_scatt), 'shape',tf.shape(pred_scatt).eval())\n",
    "print('gather_inds', type(gather_inds), 'shape',tf.shape(gather_inds).eval())\n",
    "# print(gather_inds.eval())\n",
    "\n",
    "\n",
    "# this line adds a sequence id to the end of each row\n",
    "# pred_tensor  = tf.concat([pred_tensor, roi_grid_exp], axis = -1)\n",
    "\n",
    "\n",
    "# print(pred_tensor.eval())\n",
    "pred_cls_cnt = tf.count_nonzero(pred_tensor[:,:,:,0], axis = -1, name = 'pred_cls_count')\n",
    "pred_cls_cnt1 = tf.count_nonzero(pred_tensor[:,:,:,-1], axis = -1, name = 'pred_cls_count')\n",
    "\n",
    "print()\n",
    "print('    -- pred_tensor results (bboxes sorted by score) ----')    \n",
    "print('    final pred_tensor shape  : ', pred_tensor.get_shape())\n",
    "print('    final pred_cls_cnt shape : ',pred_cls_cnt.get_shape())\n",
    "print(pred_cls_cnt.eval())\n",
    "print(pred_cls_cnt1.eval())\n",
    "print('    complete')\n"
   ]
  },
  {
   "cell_type": "markdown",
   "metadata": {
    "hideCode": false,
    "hidePrompt": false
   },
   "source": [
    "###  Display for visual check - `pred_tensor` is the final result which is passed on to  `build_gaussian_tf()`"
   ]
  },
  {
   "cell_type": "code",
   "execution_count": null,
   "metadata": {
    "ExecuteTime": {
     "end_time": "2018-04-30T16:13:31.485323Z",
     "start_time": "2018-04-30T16:13:30.228981Z"
    },
    "hideCode": false,
    "hidePrompt": false,
    "scrolled": false
   },
   "outputs": [],
   "source": [
    "np.set_printoptions(linewidth=100, precision=4)\n",
    "print('scatter shape is ', pred_scatt.get_shape())\n",
    "print('pred_tensor shape is ', pred_tensor.get_shape() )\n",
    "\n",
    "img = 1\n",
    "print('Image ', img , '/ Class 0 ------------')\n",
    "print(pred_tensor[img,0].eval())\n",
    "print('Image ', img , '/ Class 1 ------------')\n",
    "print(pred_tensor[img,1].eval())\n",
    "print('Image ', img , '/ Class 2 ------------')\n",
    "print(pred_tensor[img,2].eval())\n",
    "print('Image ', img , '/ Class 3 ------------')\n",
    "print(pred_tensor[img,3].eval())\n",
    " \n",
    "cls = 3\n",
    "print('Image 0 / Class ', cls ,' ------------')\n",
    "print(pred_tensor[0, cls].eval())\n",
    "print('Image 1 / Class ', cls ,' ------------')\n",
    "print(pred_tensor[1, cls].eval())\n",
    "print('Image 2 / Class ', cls ,' ------------')\n",
    "print(pred_tensor[2, cls].eval())\n",
    "\n"
   ]
  },
  {
   "cell_type": "code",
   "execution_count": null,
   "metadata": {},
   "outputs": [],
   "source": []
  },
  {
   "cell_type": "code",
   "execution_count": null,
   "metadata": {},
   "outputs": [],
   "source": []
  },
  {
   "cell_type": "markdown",
   "metadata": {},
   "source": [
    "##   `build_gaussian_tf ()` -- Generate Multivariate Normal Distribution from Pred_Tensor"
   ]
  },
  {
   "cell_type": "code",
   "execution_count": null,
   "metadata": {
    "ExecuteTime": {
     "end_time": "2018-04-30T16:15:27.333541Z",
     "start_time": "2018-04-30T16:15:26.567936Z"
    }
   },
   "outputs": [],
   "source": [
    "# def build_gaussian_tf(in_tensor) :   #, pred_cls_cnt, config):\n",
    "## rois per image is determined by size of input tensor \n",
    "##   detection mode:   config.TRAIN_ROIS_PER_IMAGE \n",
    "##   ground_truth  :   config.DETECTION_MAX_INSTANCES    \n",
    "'''\n",
    "in_tensor :     [N, num_rois, 8 { index, ]\n",
    "'''\n",
    "in_tensor = pred_tensor\n",
    "\n",
    "# num_detections  = config.DETECTION_MAX_INSTANCES\n",
    "# batch_size      = config.BATCH_SIZE\n",
    "# num_classes     = config.NUM_CLASSES  \n",
    "\n",
    "num_detections  = 32          # config.DETECTION_MAX_INSTANCES\n",
    "h, w            = [128, 128]  #   config.IMAGE_SHAPE[:2]\n",
    "num_cols        = 7 \n",
    "img_h, img_w    = [128, 128]  # config.IMAGE_SHAPE[:2]\n",
    "batch_size      = 3           # config.BATCH_SIZE\n",
    "num_classes     = 4           # config.NUM_CLASSES  \n",
    "\n",
    "print('\\n ')\n",
    "print('  > BUILD_GAUSSIAN_TF() for ' )\n",
    "\n",
    "# rois per image is determined by size of input tensor \n",
    "#   detection mode:   config.TRAIN_ROIS_PER_IMAGE \n",
    "#   ground_truth  :   config.DETECTION_MAX_INSTANCES\n",
    "\n",
    "print('    orignal in_tensor shape : ', in_tensor.shape)   \n",
    "# in_tensor = in_tensor[:,:,:,2:7]\n",
    "in_tensor = in_tensor[:,:,:,1:]\n",
    "print('    modified in_tensor shape : ', in_tensor.get_shape())\n",
    "\n",
    "rois_per_image  = tf.to_int32(in_tensor.shape[2])\n",
    "strt_cls        = 0 if rois_per_image == 32 else 1\n",
    "print('    num of bboxes per class is : ', rois_per_image)\n",
    "# print(in_tensor[0].eval())\n",
    "print(in_tensor[0,0].eval())\n",
    "print()\n",
    "print(in_tensor[0,1].eval())"
   ]
  },
  {
   "cell_type": "markdown",
   "metadata": {},
   "source": [
    "### Build Position meshgird"
   ]
  },
  {
   "cell_type": "code",
   "execution_count": null,
   "metadata": {
    "ExecuteTime": {
     "end_time": "2018-04-30T16:15:37.700272Z",
     "start_time": "2018-04-30T16:15:37.384933Z"
    }
   },
   "outputs": [],
   "source": [
    "##-----------------------------------------------------------------------------\n",
    "## Build mesh-grid to hold pixel coordinates \n",
    "##-----------------------------------------------------------------------------\n",
    "X = tf.range(img_w, dtype=tf.int32)\n",
    "Y = tf.range(img_h, dtype=tf.int32)\n",
    "X, Y = tf.meshgrid(X, Y)\n",
    "# grid1 = tf.stack([X,Y], axis=-1)\n",
    "# print('grid1 shape ', grid1.shape)\n",
    "# print(grid1[0,:,:].eval())\n",
    "\n",
    "print('   -- build meshgrid -----')\n",
    "print('   X and Y meshgrid shapes ', X.get_shape(), Y.get_shape())\n",
    "# print( ' X : \\n',X.eval())\n",
    "# print( ' Y : \\n',Y.eval())\n",
    "\n",
    "# ## hear we repeat X and Y  batch_size x rois_per_image times\n",
    "ones = tf.ones([batch_size, rois_per_image,1, 1], dtype = tf.int32)\n",
    "print('   ones: ',ones.shape)                \n",
    "# # ones = tf.expand_dims(ones,-1)\n",
    "# print(' ones with exp dims ',ones.shape)\n",
    "\n",
    "rep_X = ones * X\n",
    "rep_Y = ones * Y \n",
    "# print(' ones_exp * X', ones.shape, '*', X.shape, '= ',rep_X.shape)\n",
    "# print(' ones_exp * Y', ones.shape, '*', Y.shape, '= ',rep_Y.shape)\n",
    "\n",
    "# # stack the X and Y grids \n",
    "bef_pos = tf.to_float(tf.stack([rep_X,rep_Y], axis = -1))\n",
    "print(' before transpse ', bef_pos.get_shape())\n",
    "pos_grid = tf.transpose(bef_pos,[2,3,0,1,4])\n",
    "print('   after transpose ', pos_grid.get_shape())    \n",
    "\n",
    "# print(pos_grid_1[:,:,0,0,:].eval())"
   ]
  },
  {
   "cell_type": "markdown",
   "metadata": {},
   "source": [
    "`pred_tensor[:,:,:,1:7]`  == `[116.9736  21.8213  36.2715  45.6026   0.    0.9139   ]`\n",
    "\n",
    "\n",
    "Detections returned by `detect()` routine:\n",
    "\n",
    "`[[ 25.          18.          80.          72.           2.           0.99936014]\n",
    "  [ 51.           3.         106.          71.           3.           0.99924326]`"
   ]
  },
  {
   "cell_type": "markdown",
   "metadata": {},
   "source": [
    "### Build stacked_list\n",
    "List of stacked tensors (one per image) - each stacked tensor shape is `[? , 6]`"
   ]
  },
  {
   "cell_type": "code",
   "execution_count": null,
   "metadata": {
    "ExecuteTime": {
     "end_time": "2018-04-30T15:01:11.414503Z",
     "start_time": "2018-04-30T15:01:10.755834Z"
    },
    "scrolled": false
   },
   "outputs": [],
   "source": [
    "##-----------------------------------------------------------------------------\n",
    "## Stack non_zero bboxes from in_tensor into pt2_dense \n",
    "##-----------------------------------------------------------------------------\n",
    "pt2_sum = tf.reduce_sum(tf.abs(in_tensor[:,:,:,:-1]) ,axis =-1)\n",
    "print('   pt2_sum shape ',pt2_sum.shape)\n",
    "print(pt2_sum[0].eval())\n",
    "\n",
    "pt2_mask = tf.greater(pt2_sum , 0)\n",
    "print('   pt2_mask shape ', pt2_mask.get_shape())\n",
    "# print(pt2_mask.eval())\n",
    "\n",
    "pt2_ind  = tf.where(pt2_mask)\n",
    "print('   pt2_ind shape  ', pt2_ind.get_shape())\n",
    "print(pt2_ind.eval())\n",
    "# pt2_ind_float  =  tf.to_float(pt2_ind[:,0:1])\n",
    "\n",
    "dense1 = tf.gather_nd( in_tensor, pt2_ind)\n",
    "dense1 = tf.concat([tf.to_float(pt2_ind[:,0:1]), dense1],axis=1)\n",
    "print('   dense1 shape ',dense1.get_shape())\n",
    "print(dense1.eval())\n",
    "\n",
    "stacked_list = tf.dynamic_partition(dense1, tf.to_int32(pt2_ind[:,0]),num_partitions = batch_size )\n",
    "     "
   ]
  },
  {
   "cell_type": "code",
   "execution_count": null,
   "metadata": {
    "ExecuteTime": {
     "end_time": "2018-04-30T15:01:24.809005Z",
     "start_time": "2018-04-30T15:01:24.594344Z"
    }
   },
   "outputs": [],
   "source": [
    "print(stacked_list[0].shape)\n",
    "print(stacked_list[0].eval())"
   ]
  },
  {
   "cell_type": "markdown",
   "metadata": {},
   "source": [
    "### Build stacked tensor"
   ]
  },
  {
   "cell_type": "code",
   "execution_count": null,
   "metadata": {
    "ExecuteTime": {
     "end_time": "2018-04-30T15:09:13.566044Z",
     "start_time": "2018-04-30T15:09:12.491415Z"
    }
   },
   "outputs": [],
   "source": [
    "import keras.backend as KB\n",
    "print('   -- Build Stacked output from dynamically partitioned lists --------------')  \n",
    "\n",
    "stacked_output=[]\n",
    "for img, item  in enumerate(stacked_list) :\n",
    "    # rois_in_image, cols  = tf.shape(stacked_list[img]).eval()\n",
    "    rois_in_image  = tf.shape(item).eval()[0]\n",
    "\n",
    "    print('\\n   ===> list item #', img)       \n",
    "    print('   img ', img, ' stacked_list[img] ', tf.shape(item).eval(), ' rois_in_image : ', rois_in_image)\n",
    "    #     print(stacked_list[img].eval())            \n",
    "    pad_item =  tf.pad(item,[[0, rois_per_image - rois_in_image ],[0,0]])\n",
    "    stacked_output.append(pad_item)\n",
    "    print('   tensor_list item pos padding :', tf.shape(pad_item).eval())\n",
    "    #     print(stacked_list[img].eval())\n",
    "\n",
    "print()    \n",
    "print('   -- Stacked output contents --------------')    \n",
    "print('    stacked_output shape : ', len(stacked_output))\n",
    "for img, item  in enumerate(stacked_output) :\n",
    "    print('   img ', img, ' stacked_list[img] ', tf.shape(item).eval() ) \n",
    "print('   stacked_tensor shape : ', tf.shape(stacked_tensor).eval())\n"
   ]
  },
  {
   "cell_type": "code",
   "execution_count": null,
   "metadata": {
    "ExecuteTime": {
     "end_time": "2018-04-30T15:17:31.694191Z",
     "start_time": "2018-04-30T15:17:30.907831Z"
    }
   },
   "outputs": [],
   "source": [
    "print('   stacked tensor : ', tf.shape(stacked_tensor).eval(), stacked_tensor.shape, stacked_tensor.get_shape())\n",
    "print(stacked_tensor[0].eval())\n",
    "print()\n",
    "print(stacked_tensor[1].eval())\n",
    "print()\n",
    "print(stacked_tensor[2].eval())"
   ]
  },
  {
   "cell_type": "code",
   "execution_count": null,
   "metadata": {
    "ExecuteTime": {
     "end_time": "2018-04-30T15:27:11.371026Z",
     "start_time": "2018-04-30T15:27:10.854784Z"
    }
   },
   "outputs": [],
   "source": [
    "##-----------------------------------------------------------------------------\n",
    "##  Build mean and convariance tensors for Multivariate Normal Distribution\n",
    "##-----------------------------------------------------------------------------\n",
    "width  = stacked_tensor[:,:,4] - stacked_tensor[:,:,2]\n",
    "height = stacked_tensor[:,:,3] - stacked_tensor[:,:,1]\n",
    "cx     = stacked_tensor[:,:,2] + ( width  / 2.0)\n",
    "cy     = stacked_tensor[:,:,1] + ( height / 2.0)\n",
    "means  = tf.stack((cx,cy),axis = -1)\n",
    "covar_orig  = tf.stack((width * 0.5 , height * 0.5), axis = -1)\n",
    "covar  = tf.sqrt(covar_orig)\n",
    "# print(means.eval())\n",
    "# print(covar.eval())\n",
    "\n",
    "# print('width shape ',width.get_shape()) \n",
    "# print(mns.eval())\n",
    "tfd = tf.contrib.distributions\n",
    "mvn = tfd.MultivariateNormalDiag(\n",
    "    loc  = means,\n",
    "    scale_diag = covar)\n",
    "\n",
    "print('   means shape ',means.get_shape(), '  ', means.get_shape())\n",
    "print('   covar shape ',covar.get_shape(), '  ', covar.get_shape())\n",
    "print('   from MVN :  \\t mean shape     :', mvn.mean().shape, '\\t stddev shape', mvn.stddev().shape )\n",
    "print('   from MVN :  \\t mean shape     :', mvn.mean().get_shape(), '\\t stddev shape', mvn.stddev().get_shape())\n",
    "print('   from MVN :  \\t mvn.batch_shape:', mvn.batch_shape , '\\t mvn.event_shape ',  mvn.event_shape)\n",
    "print('   Linear OP shape      ', mvn.scale.shape, ' Linear Op batch shape ',mvn.scale.batch_shape)\n",
    "print('   Linear op Range Dim  ', mvn.scale.range_dimension)\n",
    "print('   Linear op Domain Dim ', mvn.scale.domain_dimension) \n",
    " \n",
    "prob_grid = mvn.prob(pos_grid)\n",
    "# print(prob.eval())\n",
    "#     eq = tf.equal(grid, pos)\n",
    "#     print( ' pos and grid probabalitiy matricies equal  -->', tf.reduce_all(eq).eval())\n",
    "trans_grid = tf.transpose(prob_grid,[2,3,0,1])\n",
    "\n",
    "print('    >> input to MVN.PROB: pos_grid (meshgrid) shape: ', pos_grid.get_shape())\n",
    "print('    << output probabilities shape:' , prob_grid.get_shape())\n",
    "print('       transposed_grid shape: ', trans_grid.shape)\n",
    "\n",
    "#--------------------------------------------------------------------------------\n",
    "# kill distributions of NaN boxes (resulting from bboxes with height/width of zero\n",
    "# which cause singular sigma cov matrices\n",
    "#--------------------------------------------------------------------------------\n",
    "# gauss_grid = tf.where(tf.is_nan(trans_grid),  tf.zeros_like(trans_grid), trans_grid)"
   ]
  },
  {
   "cell_type": "code",
   "execution_count": null,
   "metadata": {
    "ExecuteTime": {
     "end_time": "2018-04-30T15:27:14.556416Z",
     "start_time": "2018-04-30T15:27:13.341887Z"
    },
    "scrolled": false
   },
   "outputs": [],
   "source": [
    "#--------------------------------------------------------------------------------\n",
    "## scatter out the probability distributions based on class\n",
    "#--------------------------------------------------------------------------------\n",
    "print('    Scatter out the probability distributions based on class --------------')     \n",
    "\n",
    "'''\n",
    "class_inds      = tf.to_int32(stacked_tensor[:,:,-1])\n",
    "'''\n",
    "class_inds      = tf.to_int32(stacked_tensor[:,:,-2])\n",
    "batch_grid, roi_grid = tf.meshgrid( tf.range(batch_size, dtype=tf.int32), tf.range(rois_per_image, dtype=tf.int32),\n",
    "                                    indexing = 'ij' )\n",
    "scatter_classes = tf.stack([batch_grid, class_inds, roi_grid ],axis = -1)\n",
    "gauss_scatt     = tf.scatter_nd(scatter_classes, gauss_grid, [batch_size, num_classes, rois_per_image, img_w, img_h])\n",
    "\n",
    "print('    gaussian_grid      : ', gauss_grid.shape)    \n",
    "print('    class shape        : ', class_inds.shape)\n",
    "print(class_inds.eval())\n",
    "print('    roi_grid shape     : ', roi_grid.get_shape() )\n",
    "print('    batch_grid shape   : ', batch_grid.get_shape())\n",
    "print('    scatter_classes    : ', scatter_classes.get_shape())\n",
    "print('    gaussian scattered : ', gauss_scatt.shape)   \n",
    "\n",
    "print('   means shape ',means.get_shape(), '\\n', means.eval())\n",
    "print('   covar orig shape ',covar_orig.get_shape(), '\\n', covar_orig.eval())\n",
    "\n",
    "\n",
    "#--------------------------------------------------------------------------------\n",
    "## sum based on class\n",
    "#--------------------------------------------------------------------------------\n",
    "print('    Reduce sum based on class ---------------------------------------------')         \n",
    "gauss_sum = tf.reduce_sum(gauss_scatt, axis=2, name='pred_gaussian')\n",
    "print('    gaussian_sum shape : ', gauss_sum.get_shape())    \n",
    "\n",
    "gauss_sum = tf.where(gauss_sum > 1e-6, gauss_sum,tf.zeros_like(gauss_sum))\n",
    "gauss_sum = tf.transpose(gauss_sum,[0,2,3,1])\n",
    "print('    gaussian_sum shape : ', gauss_sum.get_shape())    \n",
    "print( gauss_sum[0,0].eval())\n",
    "\n",
    "print('    complete')"
   ]
  },
  {
   "cell_type": "code",
   "execution_count": null,
   "metadata": {
    "ExecuteTime": {
     "end_time": "2018-04-30T15:26:50.157353Z",
     "start_time": "2018-04-30T15:26:49.067800Z"
    }
   },
   "outputs": [],
   "source": [
    "gauss_scatt[0,0,0].eval()"
   ]
  },
  {
   "cell_type": "markdown",
   "metadata": {},
   "source": [
    "###  Softmax Sparse Cross Entropy Ignoring Last Label -- Used in Keras FCN"
   ]
  },
  {
   "cell_type": "code",
   "execution_count": null,
   "metadata": {
    "ExecuteTime": {
     "end_time": "2018-04-27T07:53:31.114036Z",
     "start_time": "2018-04-27T07:53:30.853311Z"
    }
   },
   "outputs": [],
   "source": [
    "import keras.backend as K \n",
    "\n",
    "y_pred = tf.placeholder(dtype=tf.float32, shape=(16,320,320,20))\n",
    "y_true = tf.placeholder(dtype=tf.float32, shape=(16,320,320,1))\n",
    "print(K.int_shape(y_pred), K.int_shape(y_true))\n",
    "y_pred = K.reshape(y_pred, (-1, K.int_shape(y_pred)[-1]))\n",
    "print(K.int_shape(y_pred))\n",
    "log_softmax = tf.nn.log_softmax(y_pred)\n",
    "print(K.int_shape(log_softmax))\n",
    "\n",
    "y_true = K.flatten(y_true)\n",
    "print(K.int_shape(y_true))\n",
    "\n",
    "y_true = K.one_hot(tf.to_int32(y_true), K.int_shape(y_pred)[-1]+1)\n",
    "print(K.int_shape(y_true))\n",
    "\n",
    "unpacked = tf.unstack(y_true, axis=-1)\n",
    "print(len(unpacked), unpacked[0].shape)\n",
    "\n",
    "y_true = tf.stack(unpacked[:-1], axis=-1)\n",
    "print(K.int_shape(y_true))\n",
    "\n",
    "\n",
    "cross_entropy = -K.sum(y_true * log_softmax, axis=1)\n",
    "print(K.int_shape(cross_entropy))\n",
    "\n",
    "cross_entropy_mean = K.mean(cross_entropy)\n",
    "print(K.int_shape(cross_entropy_mean))\n",
    "\n",
    "\n",
    "\n",
    "\n",
    "# import keras.backend as K\n",
    "# print(K.int_shape(bef_pos)[-1])\n",
    "# unpacked  = K.flatten(test)\n",
    "# unpacked.shape"
   ]
  },
  {
   "cell_type": "code",
   "execution_count": null,
   "metadata": {
    "ExecuteTime": {
     "end_time": "2018-04-27T08:11:57.244128Z",
     "start_time": "2018-04-27T08:11:57.021539Z"
    }
   },
   "outputs": [],
   "source": [
    "# pos_grid_1[:,:,0,0,:].eval()"
   ]
  },
  {
   "cell_type": "markdown",
   "metadata": {
    "ExecuteTime": {
     "end_time": "2018-04-16T23:19:54.102900Z",
     "start_time": "2018-04-16T23:19:53.889289Z"
    }
   },
   "source": [
    "### Experimental code to Create mask for class bounding boxes\n"
   ]
  },
  {
   "cell_type": "code",
   "execution_count": null,
   "metadata": {
    "ExecuteTime": {
     "end_time": "2018-04-17T08:37:04.047619Z",
     "start_time": "2018-04-17T08:37:03.810018Z"
    }
   },
   "outputs": [],
   "source": [
    "print(gauss_scatt.shape)\n",
    "print(gauss_grid.shape)"
   ]
  },
  {
   "cell_type": "code",
   "execution_count": null,
   "metadata": {
    "ExecuteTime": {
     "end_time": "2018-04-17T08:44:16.866844Z",
     "start_time": "2018-04-17T08:44:16.635221Z"
    }
   },
   "outputs": [],
   "source": [
    "mask_arr = tf.zeros_like(gauss_grid)\n",
    "mask = mask_arr[0]\n",
    "mask.shape"
   ]
  },
  {
   "cell_type": "code",
   "execution_count": null,
   "metadata": {
    "ExecuteTime": {
     "end_time": "2018-04-17T08:44:30.822194Z",
     "start_time": "2018-04-17T08:44:30.147674Z"
    }
   },
   "outputs": [],
   "source": [
    "boxes = tf.round(stacked_tensor[0,:,1:5]).eval()\n",
    "boxes[0]"
   ]
  },
  {
   "cell_type": "code",
   "execution_count": null,
   "metadata": {
    "ExecuteTime": {
     "end_time": "2018-04-17T08:42:48.813538Z",
     "start_time": "2018-04-17T08:42:48.588945Z"
    }
   },
   "outputs": [],
   "source": [
    "##-----------------------------------------------------------------------------\n",
    "## Build mesh-grid to hold pixel coordinates \n",
    "##-----------------------------------------------------------------------------\n",
    "X = tf.range(img_w, dtype=tf.int32)\n",
    "Y = tf.range(img_h, dtype=tf.int32)\n",
    "X, Y = tf.meshgrid(X, Y)\n",
    "# grid1 = tf.stack([X,Y], axis=-1)\n",
    "# print('grid1 shape ', grid1.shape)\n",
    "# print(grid1[0,:,:].eval())"
   ]
  },
  {
   "cell_type": "code",
   "execution_count": null,
   "metadata": {},
   "outputs": [],
   "source": []
  },
  {
   "cell_type": "code",
   "execution_count": null,
   "metadata": {},
   "outputs": [],
   "source": []
  },
  {
   "cell_type": "code",
   "execution_count": null,
   "metadata": {},
   "outputs": [],
   "source": []
  },
  {
   "cell_type": "code",
   "execution_count": null,
   "metadata": {},
   "outputs": [],
   "source": []
  },
  {
   "cell_type": "markdown",
   "metadata": {},
   "source": [
    "###  Comparing Scipy / Tensorflow Multivar normal distribution "
   ]
  },
  {
   "cell_type": "code",
   "execution_count": null,
   "metadata": {
    "ExecuteTime": {
     "end_time": "2018-04-16T10:10:11.958301Z",
     "start_time": "2018-04-16T10:10:10.121532Z"
    }
   },
   "outputs": [],
   "source": [
    "tfd        = tf.contrib.distributions\n",
    "grid       = pos_grid_1[:,:,0,0,:]\n",
    "covar      = np.array([27.7818, 26.6678],dtype = np.float32)\n",
    "covar_sqrt = np.sqrt(covar)\n",
    "covar_sqrd = covar ** 2\n",
    "full_covar = np.array([[27.7818, 0],[0, 26.6678]],dtype = np.float32)\n",
    "mean       = np.array([48.8926, 36.101 ],dtype = np.float32)\n",
    "\n",
    "print('   grid :', grid.dtype, grid.shape)\n",
    "print('   Covar sqrt :', covar_sqrt)\n",
    "print('   Covar sqrd :', covar_sqrd)\n",
    "\n",
    "mvn1  = tfd.MultivariateNormalDiag(loc=mean,scale_diag=covar_sqrt)\n",
    "prob1 = mvn1.prob(grid2)\n",
    "print()\n",
    "print('   mvn1 mean             ', mvn1.mean().eval())\n",
    "print('   mvn1 std deviation    ', mvn1.stddev().eval())\n",
    "print('   mvn1 covariance:      ', '\\n', mvn1.covariance().eval())\n",
    "print('   mvn1 location         ', mvn1.loc.eval())\n",
    "print('   Linear OP shape       ', mvn1.scale.shape)\n",
    "print('   Linear Op batch shape ', mvn1.scale.batch_shape)\n",
    "print('   Linear op Range Dim   ', mvn1.scale.range_dimension)\n",
    "print('   Linear op Domain Dim  ', mvn1.scale.domain_dimension) \n",
    "print('   Linear op Domain Dim  ', mvn1.scale.diag_part().eval()) \n",
    "\n",
    "mvn2  = tfd.MultivariateNormalDiag(loc=mean,scale_diag=covar)\n",
    "prob2 = mvn2.prob(grid2)\n",
    "print()\n",
    "print('   mvn2 mean             ', mvn2.mean().eval())\n",
    "print('   mvn2 std deviation    ', mvn2.stddev().eval())\n",
    "print('   mvn2 covariance:      ', '\\n', mvn2.covariance().eval())\n",
    "print('   mvn2 location         ', mvn2.loc.eval())\n",
    "print('   Linear OP shape       ', mvn2.scale.shape)\n",
    "print('   Linear Op batch shape ', mvn2.scale.batch_shape)\n",
    "print('   Linear op Range Dim   ', mvn2.scale.range_dimension)\n",
    "print('   Linear op Domain Dim  ', mvn2.scale.domain_dimension) \n",
    "print('   Linear op Domain Dim  ', mvn2.scale.diag_part().eval()) \n",
    "\n",
    "\n",
    "mvn3  = tfd.MultivariateNormalFullCovariance( loc = mean, covariance_matrix = full_covar)\n",
    "prob3 = mvn3.prob(grid2)\n",
    "print()\n",
    "print('   mvn3 mean             ', mvn3.mean().eval())\n",
    "print('   mvn3 std deviation    ', mvn3.stddev().eval())\n",
    "print('   mvn3 covariance:      ', '\\n', mvn3.covariance().eval())\n",
    "print('   mvn3 location         ', mvn3.loc.eval())\n",
    "print('   Linear OP shape       ', mvn3.scale.shape)\n",
    "print('   Linear Op batch shape ', mvn3.scale.batch_shape)\n",
    "print('   Linear op Range Dim   ', mvn3.scale.range_dimension)\n",
    "print('   Linear op Domain Dim  ', mvn3.scale.domain_dimension) \n",
    "print('   Linear op Domain Dim  ', mvn3.scale.diag_part().eval()) \n",
    "\n",
    "print('   << output probabilities shape:' )\n",
    "print(' prob1 ', prob1.get_shape())\n",
    "print(prob1.eval())\n",
    "print(' prob2 ', prob2.get_shape())\n",
    "print(prob2.eval())\n",
    "print(' prob3 ', prob3.get_shape())\n",
    "print(prob3.eval())"
   ]
  },
  {
   "cell_type": "code",
   "execution_count": null,
   "metadata": {
    "ExecuteTime": {
     "end_time": "2018-04-16T09:59:30.850107Z",
     "start_time": "2018-04-16T09:59:30.182014Z"
    },
    "scrolled": false
   },
   "outputs": [],
   "source": [
    "np.set_printoptions(linewidth=150, threshold=10000)\n",
    "from scipy.stats import  multivariate_normal\n",
    "# Build mesh-grid to hold pixel coordinates ----------------------------------\n",
    "XX = np.arange(0, img_w, 1)\n",
    "YY = np.arange(0, img_h, 1)\n",
    "XX, YY = np.meshgrid(XX, YY)\n",
    "pos  = np.empty(XX.shape + (2,))   # concatinate shape of x to make ( x.rows, x.cols, 2)\n",
    "pos[:,:,0] = XX;\n",
    "pos[:,:,1] = YY;\n",
    "# print(XX)\n",
    "# print(YY)\n",
    "# print(pos[0,:,:])\n",
    "# print(pos[0])\n",
    "# print(grid[0].eval())\n",
    "print(' pos type    ', type(pos), type(grid))\n",
    "print(' grid shape ', pos.shape, grid.shape)\n",
    "print(np.all(pos == grid.eval()))\n",
    "print(' mean  ', mean)\n",
    "print(' covar ', covar)\n",
    "mvna    = multivariate_normal(mean, covar)\n",
    "prob_a = mvna.pdf(pos)\n",
    "\n",
    "mvnb = multivariate_normal(mean, covar_sqrd)\n",
    "prob_b = mvnb.pdf(pos)\n",
    "\n",
    "print(prob_a[35:50, 45:54])\n",
    "max_a = np.max(prob_a)\n",
    "print(np.unravel_index(np.argmax(prob_a) , prob_a.shape) )\n",
    "\n",
    "print()\n",
    "\n",
    "print(' covar ', covar_sqrd)\n",
    "print(prob_b[35:50, 45:54])\n",
    "max_b = np.max(prob_b)\n",
    "print(np.unravel_index(np.argmax(prob_b) , prob_b.shape) )\n",
    "\n",
    "print('max a , max_b ', max_a, max_b, max_a/max_b)"
   ]
  },
  {
   "cell_type": "code",
   "execution_count": null,
   "metadata": {},
   "outputs": [],
   "source": []
  },
  {
   "cell_type": "code",
   "execution_count": null,
   "metadata": {},
   "outputs": [],
   "source": []
  },
  {
   "cell_type": "code",
   "execution_count": null,
   "metadata": {},
   "outputs": [],
   "source": []
  },
  {
   "cell_type": "code",
   "execution_count": null,
   "metadata": {},
   "outputs": [],
   "source": []
  },
  {
   "cell_type": "code",
   "execution_count": null,
   "metadata": {},
   "outputs": [],
   "source": []
  },
  {
   "cell_type": "code",
   "execution_count": null,
   "metadata": {},
   "outputs": [],
   "source": []
  },
  {
   "cell_type": "code",
   "execution_count": null,
   "metadata": {},
   "outputs": [],
   "source": []
  },
  {
   "cell_type": "code",
   "execution_count": null,
   "metadata": {},
   "outputs": [],
   "source": []
  },
  {
   "cell_type": "markdown",
   "metadata": {
    "hideCode": true,
    "hidePrompt": true
   },
   "source": [
    "###  Build indicies to gather bounding boxes from bboxes_4d corrsponding to predicted class\n",
    "#### Only used if we want to use mrcnn_bboxes (batch_size, num_rois, num_classes, 4)\n",
    "\n",
    "batch_size x nuum_detections x 4"
   ]
  },
  {
   "cell_type": "code",
   "execution_count": null,
   "metadata": {
    "hideCode": false,
    "hideOutput": true,
    "hidePrompt": true
   },
   "outputs": [],
   "source": [
    "###  Build indicies to gather bounding boxes from bboxes_4d corrsponding to predicted class\n",
    "###  Only used if we want to use mrcnn_bboxes (batch_size, num_rois, num_classes, 4)\n",
    "\n",
    "# gather_boxes = tf.stack([batch_grid, roi_grid, pred_classes, ], axis = -1)\n",
    "\n",
    "# print('-- gather_boxes  ----')\n",
    "# print('gather_boxes inds', type(gather_boxes), 'shape',tf.shape(gather_boxes).eval())\n",
    "# print(gather_boxes.eval())\n",
    "\n",
    "# mrcnn_bboxes_selected = tf.gather_nd(mrcnn_bboxes, gather_boxes)\n",
    "# print(' padding required for output_rois : ', mrcnn_bboxes_selected.get_shape())\n",
    "# print(mrcnn_bboxes_selected[0].eval())\n",
    "\n",
    "# print(' output_rois shape ', output_rois.get_shape())\n",
    "# print(pred_classes[0].eval())\n",
    "# print(output_rois[0].eval())\n",
    "\n"
   ]
  },
  {
   "cell_type": "markdown",
   "metadata": {
    "hideCode": false,
    "hidePrompt": true
   },
   "source": [
    "## Experimental Code"
   ]
  },
  {
   "cell_type": "markdown",
   "metadata": {
    "hideCode": false,
    "hidePrompt": true
   },
   "source": [
    "###  Experiment for sort ordering "
   ]
  },
  {
   "cell_type": "code",
   "execution_count": null,
   "metadata": {
    "hideCode": false,
    "hidePrompt": true,
    "scrolled": true
   },
   "outputs": [],
   "source": [
    "indices = tf.constant([\n",
    "            [[0,2],[0,1],[0,0]],\n",
    "            [[1,2],[1,1],[1,0]],\n",
    "            [[2,0],[2,1],[2,1]],\n",
    "          ])\n",
    "params = tf.constant( [\n",
    "          [['0-00', '0-01', '0-02', '0-03'], \n",
    "           ['0-10', '0-11', '0-12', '0-13'],\n",
    "           ['0-20', '0-21', '0-22', '0-23'],\n",
    "           ['0-30', '0-31', '0-32', '0-33']],\n",
    "    \n",
    "          [['1-00', '1-01', '1-02', '1-03'], \n",
    "           ['1-10', '1-11', '1-12', '1-13'],\n",
    "           ['1-20', '1-21', '1-22', '1-23'],\n",
    "           ['1-30', '1-31', '1-32', '1-33']],\n",
    "    \n",
    "          [['2-00', '2-01', '2-02', '2-03'], \n",
    "           ['2-10', '2-11', '2-12', '2-13'],\n",
    "           ['2-20', '2-21', '2-22', '2-23'],\n",
    "           ['2-30', '2-31', '2-32', '2-33']]    \n",
    "         ])\n",
    "print(params.shape, '   ', indices.shape)\n",
    "res = tf.gather_nd(params, indices)\n",
    "res.eval()\n",
    "\n"
   ]
  },
  {
   "cell_type": "markdown",
   "metadata": {
    "hideCode": false,
    "hidePrompt": false
   },
   "source": [
    "###  Experiment with GATHER() for splitting into classes"
   ]
  },
  {
   "cell_type": "code",
   "execution_count": null,
   "metadata": {
    "hideCode": false,
    "hidePrompt": false
   },
   "outputs": [],
   "source": [
    "# indices = tf.constant([\n",
    "#             [0,2,2],[0,1,1],[0,0,0],\n",
    "#             [1,2,2],[1,1,1],[1,0,0],\n",
    "#             [2,0,0],[2,1,1],[2,1,1],\n",
    "#            ])\n",
    "# indices = tf.constant([ [0,2],[0,1],[0,0],[1,2],[1,1],[1,0],[1,2],[1,3], [2,3]] ) # 9 x 2\n",
    "indices = tf.constant([\n",
    "           [\n",
    "            [[0,2],[0,1],[0,0],[1,2],[2,3]],\n",
    "            [[1,1],[1,0],[1,2],[1,3],[1,1]]\n",
    "           ]\n",
    "           ])\n",
    "params = tf.constant( [\n",
    "          [['0-00', '0-01', '0-02', '0-03', '0-04', '0-05', '0-06'], \n",
    "           ['0-10', '0-11', '0-12', '0-13', '0-14', '0-15', '0-16'],\n",
    "           ['0-20', '0-21', '0-22', '0-23', '0-24', '0-25', '0-26'],\n",
    "           ['0-30', '0-31', '0-32', '0-33', '0-34', '0-35', '0-36'],\n",
    "           ['0-40', '0-41', '0-42', '0-43', '0-44', '0-45', '0-46']],\n",
    "                                                          \n",
    "          [['1-00', '1-01', '1-02', '1-03', '1-04', '1-05', '1-06'], \n",
    "           ['1-10', '1-11', '1-12', '1-13', '1-14', '1-15', '1-16'],\n",
    "           ['1-20', '1-21', '1-22', '1-23', '1-24', '1-25', '1-26'],\n",
    "           ['1-30', '1-31', '1-32', '1-33', '1-34', '1-35', '1-36'],\n",
    "           ['1-40', '1-41', '1-42', '1-43', '1-44', '1-45', '1-46']],\n",
    "                                                          \n",
    "          [['2-00', '2-01', '2-02', '2-03', '2-04', '2-05', '2-06'], \n",
    "           ['2-10', '2-11', '2-12', '2-13', '2-14', '2-15', '2-16'],\n",
    "           ['2-20', '2-21', '2-22', '2-23', '2-24', '2-25', '2-26'],\n",
    "           ['2-30', '2-31', '2-32', '2-33', '2-34', '2-35', '2-36'],\n",
    "           ['2-40', '2-41', '2-42', '2-43', '2-44', '2-45', '2-46']]    \n",
    "         ])\n",
    "print(' params sahape: ', params.shape, ' parms[:axis]', params.shape[:0], params.shape[:1], params.shape[:2], params.shape[:3])\n",
    "print(' params sahape: ', params.shape, ' parms[:axis]', params.shape[0:], params.shape[1:], params.shape[2:], params.shape[3:])\n",
    "print(' indices.shape  ', indices.shape)\n",
    "res = tf.gather_nd(params, indices)\n",
    "print('result shape   ', res.get_shape())\n",
    "res.eval()"
   ]
  },
  {
   "cell_type": "markdown",
   "metadata": {
    "hideCode": true,
    "hidePrompt": false
   },
   "source": [
    "###  Experiment with SCATTER() for splitting into classes"
   ]
  },
  {
   "cell_type": "code",
   "execution_count": null,
   "metadata": {
    "hideCode": false,
    "hideOutput": false,
    "hidePrompt": false,
    "scrolled": false
   },
   "outputs": [],
   "source": [
    "# del indices, updates, shape\n",
    "\n",
    "indices =  tf.constant([\n",
    "                         #|\n",
    "                         #| \n",
    "                        [[0,0,0], [0,3,0], [0,2,0], [0,1,0],[0,1,1],[0,1,2],[0,2,1],[0,3,2] ],\n",
    "                        [[1,0,0], [1,3,0], [1,2,0], [1,1,0],[1,1,1],[1,1,2],[1,2,1],[1,3,2] ],\n",
    "                        [[2,0,0], [2,3,0], [2,2,0], [2,1,0],[2,1,1],[2,1,2],[2,2,1],[2,3,2] ]\n",
    "])\n",
    "                            #<--- each one corrsponds to an entry in  the updates array [row , position in resulting array]\n",
    "    \n",
    "#                        [[1,1], [3,1], [2,1], [1,1],[1,1],[1,2],[2,1],[3,2] ],\n",
    "#                        [[0,0], [3,0], [2,0], [1,0],[1,1],[1,2],[2,1],[3,2] ]\n",
    "    \n",
    "###----------------------------------------------------\n",
    "### Our bounding box array\n",
    "###---------------------------------------------------\n",
    "updates = tf.constant( [\n",
    "          [[1000, 1001, 1002, 1003, 1004, 1005, 1006], \n",
    "           [1010, 1011, 1012, 1013, 1014, 1015, 1016],\n",
    "           [1020, 1021, 1022, 1023, 1024, 1025, 1026],\n",
    "           [1030, 1031, 1032, 1033, 1034, 1035, 1036],\n",
    "           [1040, 1041, 1042, 1043, 1044, 1045, 1046],\n",
    "           [1050, 1051, 1052, 1053, 1054, 1055, 1056],\n",
    "           [1060, 1061, 1062, 1063, 1064, 1065, 1066],\n",
    "           [1070, 1071, 1072, 1073, 1074, 1075, 1076] ],\n",
    "          \n",
    "          [[2000, 2001, 2002, 2003, 2004, 2005, 2006], \n",
    "           [2010, 2011, 2012, 2013, 2014, 2015, 2016],\n",
    "           [2020, 2021, 2022, 2023, 2024, 2025, 2026],\n",
    "           [2030, 2031, 2032, 2033, 2034, 2035, 2036],\n",
    "           [2040, 2041, 2042, 2043, 2044, 2045, 2046],\n",
    "           [2050, 2051, 2052, 2053, 2054, 2055, 2056],\n",
    "           [2060, 2061, 2062, 2063, 2064, 2065, 2066],\n",
    "           [2070, 2071, 2072, 2073, 2074, 2075, 2076]] , \n",
    "\n",
    "          [[3000, 3001, 3002, 3003, 3004, 3005, 3006], \n",
    "           [3010, 3011, 3012, 3013, 3014, 3015, 3016],\n",
    "           [3020, 3021, 3022, 3023, 3024, 3025, 3026],\n",
    "           [3030, 3031, 3032, 3033, 3034, 3035, 3036],\n",
    "           [3040, 3041, 3042, 3043, 3044, 3045, 3046],\n",
    "           [3050, 3051, 3052, 3053, 3054, 3055, 3056],\n",
    "           [3060, 3061, 3062, 3063, 3064, 3065, 3066],\n",
    "           [3070, 3071, 3072, 3073, 3074, 3075, 3076] ]    \n",
    "         ])                       \n",
    "\n",
    "zeros = tf.zeros([3,4,8,7], dtype=tf.int32)\n",
    "ref   = tf.Variable(zeros)\n",
    "scatt1= tf.Variable(zeros)\n",
    "shape = tf.constant([3,4, 8, 7])\n",
    " \n",
    "# init = tf.global_variables_initializer().run()\n",
    "# print('indices shape ', indices.shape,  'indices_shape [-1]', indices.shape[-1],  'indices_shape [:-1]', indices.shape[:-1])\n",
    "# print('updates.shape ', updates.shape)\n",
    "# print('ref     shape ', ref.get_shape(), ref)\n",
    "# print('scatt1  shape ', scatt1.get_shape(), scatt)\n",
    "\n",
    "scatt1 = tf.scatter_nd(indices, updates, shape)\n",
    "# print('scatt1  shape ', scatt1.get_shape(), scatt)\n",
    "# print(scatt1[0].eval())\n",
    "# print('------------')\n",
    "# print(scatt1[1].eval())\n",
    "# print('------------')\n",
    "# print(scatt1[2].eval())\n",
    "\n",
    "# scatt = tf.scatter_nd_update(ref, indices, updates)\n",
    "# print('scatter shape is ', scatt.get_shape(), scatt)\n",
    "# print(scatt.eval())\n",
    "\n",
    "print()\n"
   ]
  },
  {
   "cell_type": "code",
   "execution_count": null,
   "metadata": {
    "hideCode": false,
    "hideOutput": false,
    "hidePrompt": false
   },
   "outputs": [],
   "source": [
    "indices = tf.constant([\n",
    "                        [[0,0], [3,0], [2,0], [1,0]]\n",
    "#                     ,[[1,3], [1,3], [1,2], [1,0]]\n",
    "                      ])\n",
    "updates = tf.constant([\n",
    "                       [[5, 5, 5, 5, 0], \n",
    "                        [6, 6, 6, 6, 3],\n",
    "                        [7, 7, 7, 7, 2], \n",
    "                        [8, 8, 8, 8, 1]]\n",
    "                       \n",
    "#                      , [[5, 5, 5, 3], \n",
    "#                         [6, 6, 6, 3],\n",
    "#                         [7, 7, 7, 2], \n",
    "#                         [8, 8, 8, 0]]\n",
    "                       ])\n",
    "shape = tf.constant([4, 4, 5])\n",
    "print(indices.shape, 'inputs shape', updates.shape, shape.shape)\n",
    "scatter = tf.scatter_nd(indices, updates, shape)\n",
    "print('scatter shape is ', scatter.get_shape())\n",
    "print(scatter.eval())"
   ]
  },
  {
   "cell_type": "code",
   "execution_count": null,
   "metadata": {
    "hideCode": false,
    "hidePrompt": false
   },
   "outputs": [],
   "source": [
    "num_detections = 8\n",
    "# batch_size is  3\n",
    "gt_class_ids = tf.constant([[1,2,3,0,0,0,0,0],[3,3,3,0,0,0,0,0],[1,2,2,0,0,2,0,0]])\n",
    "gt_bboxes    = tf.random_uniform([batch_size,3,4], maxval = 127, dtype=tf.int32)\n",
    "\n",
    "\n",
    "gt_classes_exp = tf.to_float(tf.expand_dims(gt_class_ids ,axis=-1))\n",
    "print('    gt_classes_exp: ' ,gt_classes_exp.get_shape())\n",
    "print(gt_classes_exp.eval())\n",
    "\n",
    "\n",
    "zeros        = tf.zeros([batch_size,5,4], dtype = tf.int32)\n",
    "gt_bboxes    = tf.concat([gt_bboxes, zeros], axis = 1)\n",
    "gt_bboxes    = tf.to_float(gt_bboxes)\n",
    "print('\\n    gt_bboxes: ' ,gt_bboxes.get_shape())\n",
    "print(gt_bboxes.eval())\n",
    "\n",
    "mask = tf.greater(gt_class_ids,0)\n",
    "print(mask.eval())\n",
    "\n",
    "gt_scores     = tf.where(mask, tf.ones_like(gt_class_ids), tf.zeros_like(gt_class_ids))\n",
    "gt_scores_exp = tf.to_float(tf.expand_dims(gt_scores, axis=-1))\n",
    "print('\\n    gt_scores ', gt_scores_exp.get_shape())\n",
    "print(gt_scores_exp.eval())\n",
    "\n",
    "batch_grid, bbox_grid = tf.meshgrid( tf.range(batch_size    , dtype=tf.int32), \n",
    "                                    tf.range(num_detections , dtype=tf.int32), indexing = 'ij' )\n",
    "\n",
    "print('\\n    bbox_grid   ', type(bbox_grid)  , 'shape', bbox_grid.get_shape())\n",
    "print(bbox_grid.eval())\n",
    "print('\\n    batch_grid ', type(batch_grid), 'shape', batch_grid.get_shape())\n",
    "print(batch_grid.eval())\n",
    " \n",
    "bbox_idx_zeros  = tf.zeros_like(bbox_grid)\n",
    "bbox_idx        = tf.where(mask, bbox_grid , bbox_idx_zeros)\n",
    "bbox_idx        = tf.to_float(tf.expand_dims(bbox_idx, axis = -1))    \n",
    "print('    bbox_idx', type(bbox_idx), 'shape', bbox_idx.get_shape())\n",
    "print(bbox_idx.eval())"
   ]
  },
  {
   "cell_type": "code",
   "execution_count": null,
   "metadata": {
    "hideCode": false,
    "hideOutput": false,
    "hidePrompt": false
   },
   "outputs": [],
   "source": [
    "gt_array        = tf.concat([bbox_idx, gt_scores_exp , gt_bboxes, gt_classes_exp], axis=2)\n",
    "print('    gt_array  ',  type(gt_array), gt_array.shape)\n",
    "print(gt_array.eval())\n"
   ]
  },
  {
   "cell_type": "code",
   "execution_count": null,
   "metadata": {
    "hideCode": false,
    "hidePrompt": false
   },
   "outputs": [],
   "source": [
    "scatter_classes = tf.stack([batch_grid , gt_class_ids, bbox_grid],axis = -1)\n",
    "print('\\n    -- stack results ----')\n",
    "print('\\n    scatter_classes', type(scatter_classes), 'shape',tf.shape(scatter_classes).eval())\n",
    "print(scatter_classes.eval())"
   ]
  },
  {
   "cell_type": "code",
   "execution_count": null,
   "metadata": {
    "hideCode": false,
    "hidePrompt": false
   },
   "outputs": [],
   "source": [
    "gt_scatter = tf.scatter_nd(scatter_classes, gt_array, [batch_size, num_classes, num_detections,7])\n",
    "print('    gt_tensor shape is ', gt_scatter.get_shape(), gt_scatter)\n",
    "gt_scatter.eval()"
   ]
  },
  {
   "cell_type": "code",
   "execution_count": null,
   "metadata": {
    "hideCode": false,
    "hidePrompt": false
   },
   "outputs": [],
   "source": [
    "sort_vals, sort_inds = tf.nn.top_k(gt_scatter[:,:,:,0], k=gt_scatter.shape[2])\n",
    "print('    sort vals shape : ', sort_vals.get_shape())\n",
    "print(sort_vals.eval())\n",
    "print('    sort inds shape : ', sort_inds.get_shape())\n",
    "print(sort_inds.eval())"
   ]
  },
  {
   "cell_type": "code",
   "execution_count": null,
   "metadata": {
    "hideCode": false,
    "hidePrompt": false
   },
   "outputs": [],
   "source": [
    "# build gathering indexes to use in sorting \n",
    "class_grid, batch_grid, bbox_grid = tf.meshgrid(tf.range(num_classes),tf.range(batch_size), tf.range(num_detections))\n",
    "\n",
    "print('    class_grid  ', type(class_grid) , 'shape', class_grid.get_shape())\n",
    "print(class_grid.eval())\n",
    "print('    batch_grid  ', type(batch_grid) , 'shape', batch_grid.get_shape())\n",
    "print(class_grid.eval())\n",
    "print('    bbox_grid    ', type(bbox_grid) , 'shape', bbox_grid.get_shape())\n",
    "print(bbox_grid.eval())"
   ]
  },
  {
   "cell_type": "code",
   "execution_count": null,
   "metadata": {
    "hideCode": false,
    "hidePrompt": false
   },
   "outputs": [],
   "source": [
    "gather_inds = tf.stack([batch_grid , class_grid, sort_inds],axis = -1)\n",
    "print('    -- pred_tensor results (A-boxes sorted by score ----')\n",
    "print('    gatehr_inds ', gather_inds.get_shape())\n",
    "print(gather_inds.eval())\n",
    "\n",
    "gt_tensor = tf.gather_nd(gt_scatter, gather_inds)\n",
    "print('    -- pred_tensor results (A-boxes sorted by score ----')\n",
    "print('    pred_tensor ', gt_tensor.get_shape())\n",
    "print(gt_tensor.eval())"
   ]
  },
  {
   "cell_type": "markdown",
   "metadata": {
    "hideCode": false,
    "hideOutput": false,
    "hidePrompt": false
   },
   "source": [
    "###  Split Box/ Class info for each Image dim(0) by class and place into new tensor using tf.scatter_nd_update\n",
    "###  obsolete -- use tf.scatter_nd instead\n",
    "    Output is converted to NUMN_BATCHES x NUM_CLASSES x num_rois x columns "
   ]
  },
  {
   "cell_type": "code",
   "execution_count": null,
   "metadata": {
    "hideCode": false,
    "hidePrompt": false,
    "scrolled": true
   },
   "outputs": [],
   "source": [
    "# scatt1 = tf.scatter_nd(scatter_inds, pred_array, [batch_size, num_classes, num_rois])\n",
    "# print('scatt1  shape ', scatt1.get_shape(), scatt)\n",
    "\n",
    "# zeros = tf.zeros([batch_size,num_classes, num_rois,7], dtype=tf.float32)\n",
    "# ref   = tf.Variable(zeros)\n",
    "# init = tf.global_variables_initializer().run()\n",
    "\n",
    "# pred_scatt_old = tf.scatter_nd_update(ref, scatter_classes, pred_array)\n",
    "\n",
    "\n",
    "# print('scatter shape is ', pred_scatt.get_shape(), pred_scatt)\n",
    "# print(pred_scatt[0].eval())\n",
    "# print('------------')\n",
    "# print(pred_scatt[1].eval())\n",
    "# print('------------')\n",
    "# print(pred_scatt[2].eval())\n",
    "\n"
   ]
  },
  {
   "cell_type": "markdown",
   "metadata": {
    "hideCode": true,
    "hideOutput": false,
    "hidePrompt": true
   },
   "source": [
    "###  Stack non-zero bbox infromaton from pred_array into stacked_array --- method 2 (obsolete)"
   ]
  },
  {
   "cell_type": "code",
   "execution_count": null,
   "metadata": {
    "hideCode": false,
    "hidePrompt": false
   },
   "outputs": [],
   "source": [
    "# sep = tf.unstack(pred_tensor)\n",
    "# print(len(sep))\n",
    "# all_boxes = []\n",
    "# for sub_sep in sep:\n",
    "#     p_reduced = tf.reduce_sum(tf.abs(sub_sep), axis=-1)\n",
    "#     print(' p_redcued shape ',p_reduced.shape)\n",
    "# #     print(p_reduced.eval())\n",
    "#     non_zeros = tf.cast(p_reduced, tf.bool)\n",
    "#     print(' mask shape' ,non_zeros.shape) \n",
    "#     # print(non_zeros.eval())\n",
    "#     boxes = tf.boolean_mask(sub_sep, non_zeros,axis = 0)\n",
    "#     print(' boxes shape ',boxes.get_shape())\n",
    "#     print(boxes.eval())\n",
    "\n",
    "#     all_boxes.append(boxes)\n",
    "# print(len(all_boxes))\n",
    "# stacked_tensor = tf.stack(all_boxes)\n",
    "# print('stacked shape',stacked_tensor.get_shape())\n",
    "\n",
    "# p_reduced = tf.reduce_sum(tf.abs(pred_tensor), axis=-1)\n",
    "# print(' p_redcued shape ',p_reduced.shape)\n",
    "# print(p_reduced.eval())\n",
    "# non_zeros = tf.cast(p_reduced, tf.bool)\n",
    "# print(' mask shape' ,non_zeros.shape) \n",
    "# print(non_zeros.eval())\n",
    "# boxes = tf.boolean_mask(pred_tensor, non_zeros,axis = 0)\n",
    "# print(boxes.shape)\n",
    "# print(boxes.eval())\n",
    "# print(keepers[1].eval())"
   ]
  },
  {
   "cell_type": "code",
   "execution_count": null,
   "metadata": {
    "ExecuteTime": {
     "end_time": "2018-04-27T08:39:08.799869Z",
     "start_time": "2018-04-27T08:39:08.370702Z"
    }
   },
   "outputs": [],
   "source": [
    "boxes1 = tf.Variable(tf.random_uniform([32, 4], minval=0, maxval=128, dtype=tf.float32, seed=1234), name = 'var')\n",
    "boxes2 = tf.Variable(tf.random_uniform([100, 4], minval=0, maxval=128, dtype=tf.float32, seed=1234), name = 'var')\n",
    "\n",
    "init = tf.global_variables_initializer().run()\n",
    "\n",
    "# boxes1 = tf.placeholder(tf.float32,(32,4))\n",
    "# boxes2 = tf.placeholder(tf.float32,(100,4))\n",
    "\n",
    "print(boxes1.get_shape(), boxes2.get_shape())\n",
    "aa = tf.expand_dims(boxes1, 1)\n",
    "print(tf.shape(aa).eval())\n",
    "aa = tf.tile(tf.expand_dims(boxes1, 1), [1, 1, tf.shape(boxes2)[0]])\n",
    "print(tf.shape(aa).eval())                          \n",
    "\n",
    "b1 = tf.reshape(tf.tile(tf.expand_dims(boxes1, 1), [1, 1, tf.shape(boxes2)[0]]), [-1, 4])\n",
    "print('b1 : ', tf.shape(b1).eval())\n",
    "b2 = tf.tile(boxes2, [tf.shape(boxes1)[0], 1])\n",
    "print('b2 : ', tf.shape(b1).eval())\n",
    "print('     overlaps_graph: shape of boxes1 after reshape: ',b1.shape)  # (?,4)\n",
    "print('     overlaps_graph: shape of boxes2 after reshape: ',b2.shape)  # (?,4)\n"
   ]
  }
 ],
 "metadata": {
  "anaconda-cloud": {},
  "celltoolbar": "Hide code",
  "hide_code_all_hidden": true,
  "kernelspec": {
   "display_name": "Python [conda env:TF_gpu]",
   "language": "python",
   "name": "conda-env-TF_gpu-py"
  },
  "language_info": {
   "codemirror_mode": {
    "name": "ipython",
    "version": 3
   },
   "file_extension": ".py",
   "mimetype": "text/x-python",
   "name": "python",
   "nbconvert_exporter": "python",
   "pygments_lexer": "ipython3",
   "version": "3.5.4"
  }
 },
 "nbformat": 4,
 "nbformat_minor": 2
}
