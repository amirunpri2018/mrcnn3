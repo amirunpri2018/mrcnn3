{
 "cells": [
  {
   "cell_type": "markdown",
   "metadata": {
    "hideCode": false,
    "hidePrompt": false
   },
   "source": [
    "###  Simulate `build_gaussian_tf` function \n",
    "- Setup model, load weights and data generators \n",
    "- get items from data generator\n",
    "- pass through network"
   ]
  },
  {
   "cell_type": "code",
   "execution_count": null,
   "metadata": {
    "ExecuteTime": {
     "end_time": "2018-05-16T20:59:36.748699Z",
     "start_time": "2018-05-16T20:59:17.603575Z"
    },
    "hideCode": false,
    "hidePrompt": false,
    "scrolled": false
   },
   "outputs": [],
   "source": [
    "from IPython.core.display import display, HTML\n",
    "display(HTML(\"<style>.container { width:95% !important; }</style>\"))\n",
    "%matplotlib inline\n",
    "%load_ext autoreload\n",
    "%autoreload 2\n",
    "import sys\n",
    "sys.path.append('../')\n",
    "import tensorflow as tf\n",
    "import keras.backend as KB\n",
    "import numpy as np\n",
    "from mrcnn.datagen     import data_generator, load_image_gt\n",
    "from mrcnn.callbacks   import get_layer_output_1,get_layer_output_2\n",
    "from mrcnn.utils       import mask_string\n",
    "import mrcnn.visualize as visualize\n",
    "from mrcnn.prep_notebook import prep_dev_notebook, load_model\n",
    "\n",
    "model, dataset_train, train_generator, config = prep_dev_notebook(init_with = 'last', FCN_layers = False)"
   ]
  },
  {
   "cell_type": "code",
   "execution_count": null,
   "metadata": {
    "ExecuteTime": {
     "end_time": "2018-05-16T20:59:44.419879Z",
     "start_time": "2018-05-16T20:59:44.115068Z"
    },
    "hideCode": false,
    "hidePrompt": true
   },
   "outputs": [],
   "source": [
    "train_batch_x, train_batch_y = next(train_generator)"
   ]
  },
  {
   "cell_type": "code",
   "execution_count": null,
   "metadata": {
    "ExecuteTime": {
     "end_time": "2018-05-16T20:59:51.310545Z",
     "start_time": "2018-05-16T20:59:49.465613Z"
    },
    "hideCode": false,
    "hidePrompt": true
   },
   "outputs": [],
   "source": [
    "# train_batch_x, train_batch_y = next(train_generator)\n",
    "imgmeta_idx = model.keras_model.input_names.index('input_image_meta')\n",
    "img_meta    = train_batch_x[imgmeta_idx]\n",
    "\n",
    "for img_idx in range(config.BATCH_SIZE):\n",
    "    image_id = img_meta[img_idx,0]\n",
    "    image = dataset_train.load_image(image_id)\n",
    "    mask, class_ids = dataset_train.load_mask(image_id)\n",
    "    print('Image id: ',image_id)\n",
    "    print('Image meta', img_meta[img_idx])\n",
    "    print('Classes (1: circle, 2: square, 3: triangle ): ',class_ids)\n",
    "    visualize.display_top_masks(image, mask, class_ids, dataset_train.class_names)"
   ]
  },
  {
   "cell_type": "code",
   "execution_count": null,
   "metadata": {
    "ExecuteTime": {
     "end_time": "2018-05-16T21:07:56.706904Z",
     "start_time": "2018-05-16T21:07:55.882798Z"
    }
   },
   "outputs": [],
   "source": [
    "load_model(model, init_with='last')"
   ]
  },
  {
   "cell_type": "code",
   "execution_count": null,
   "metadata": {
    "ExecuteTime": {
     "end_time": "2018-05-16T20:59:55.781530Z",
     "start_time": "2018-05-16T20:59:55.515746Z"
    },
    "hideCode": false,
    "hideOutput": false,
    "hidePrompt": false
   },
   "outputs": [],
   "source": [
    "model.layer_info()\n",
    "# model.keras_model.outputs[0].name"
   ]
  },
  {
   "cell_type": "code",
   "execution_count": null,
   "metadata": {
    "ExecuteTime": {
     "end_time": "2018-05-16T21:08:04.793363Z",
     "start_time": "2018-05-16T21:08:03.780153Z"
    },
    "hideCode": false,
    "hidePrompt": false,
    "scrolled": true
   },
   "outputs": [],
   "source": [
    "\n",
    "# model_output = get_layer_output_2(model.keras_model, train_batch_x, 1)\n",
    "model_output = get_layer_output_1(model.keras_model, train_batch_x, [1,2,3,4,5,7,9,10,17,19], 1)\n"
   ]
  },
  {
   "cell_type": "markdown",
   "metadata": {},
   "source": [
    "#### Load input and output tensors"
   ]
  },
  {
   "cell_type": "code",
   "execution_count": null,
   "metadata": {
    "ExecuteTime": {
     "end_time": "2018-05-16T21:08:27.035236Z",
     "start_time": "2018-05-16T21:08:26.802377Z"
    },
    "hideCode": false,
    "hideOutput": true,
    "hidePrompt": false,
    "scrolled": true
   },
   "outputs": [],
   "source": [
    "print(len(model_output))\n",
    "\n",
    "rpn_class                 = model_output[0]          # layer:  1   shape: (5, 4092, 2)\n",
    "rpn_bbox                  = model_output[1]          # layer:  2   shape: (5, 4092, 4)\n",
    "rpn_proposal_rois         = model_output[2]          # layer:  3   shape: (5, 2000, 4)\n",
    "output_rois               = model_output[3]          # layer:  4   shape: (5, 32, 4)\n",
    "target_class_ids          = model_output[4]          # layer:  5   shape: (5, 32)\n",
    "roi_gt_boxes              = model_output[5]          # layer:  7   shape: (5, 32, 4)\n",
    "mrcnn_class               = model_output[6]          # layer:  9   shape: (5, 32, 4)\n",
    "mrcnn_bbox                = model_output[7]          # layer: 10   shape: (5, 32, 4, 4)\n",
    "pred_heatmap_scores       = model_output[8]          # layer: 17   shape: (5, 4, 32, 8)\n",
    "pred_tensor               = model_output[9]          # layer: 19   shape: (5, 4, 32, 6)\n",
    "# rpn_class_logits   = model_output[0]\n",
    "# rpn_class          = model_output[0]\n",
    "# rpn_bbox           = model_output[1]\n",
    "# rpn_proposal_rois  = model_output[2]\n",
    "# output_rois        = model_output[3]\n",
    "# target_class_ids   = model_output[5]\n",
    "# target_bbox_deltas = model_output[6]\n",
    "\n",
    "# print(type(model_output[4]))\n",
    "# print(type(output_rois))\n",
    "for i in model_output:\n",
    "    print( i.shape)"
   ]
  },
  {
   "cell_type": "code",
   "execution_count": null,
   "metadata": {
    "ExecuteTime": {
     "end_time": "2018-05-16T21:08:35.805380Z",
     "start_time": "2018-05-16T21:08:35.562736Z"
    },
    "hideCode": false,
    "hideOutput": true,
    "hidePrompt": false,
    "scrolled": false
   },
   "outputs": [],
   "source": [
    "input_image      =  train_batch_x[0]\n",
    "input_image_meta =  train_batch_x[1]\n",
    "# input_rpn_match  =  train_batch_x[2]\n",
    "# input_rpn_bbox   =  train_batch_x[3]\n",
    "input_gt_class_ids = train_batch_x[4]\n",
    "input_gt_bboxes    = train_batch_x[5]\n",
    "# input_gt_masks     = train_batch_x[6]\n",
    "print(input_image.shape)\n",
    "h, w = input_image.shape[1], input_image.shape[2]      #  tf.shape(input_image)[1], tf.shape(input_image)[2]\n",
    "print('height/width', h,w)\n",
    "input_gt_bboxes_norm = input_gt_bboxes / [h,w,h,w]\n",
    "\n",
    "# print(' input_rpn_match    ', input_rpn_match.shape)\n",
    "# print(' input_rpn_bbox     ', input_rpn_bbox.shape)\n",
    "print(' input_gt_class_ids   ', input_gt_class_ids.shape)\n",
    "print(input_gt_class_ids)\n",
    "print(' input_gt_bboxes      ', input_gt_bboxes.shape)\n",
    "print(input_gt_bboxes)  \n",
    "print(' input_gt_bboxes_norm ', input_gt_bboxes_norm.shape)\n",
    "print( input_gt_bboxes_norm)"
   ]
  },
  {
   "cell_type": "markdown",
   "metadata": {},
   "source": [
    "## Proposal Layer"
   ]
  },
  {
   "cell_type": "code",
   "execution_count": null,
   "metadata": {
    "ExecuteTime": {
     "end_time": "2018-05-16T14:16:18.148825Z",
     "start_time": "2018-05-16T14:16:17.917166Z"
    },
    "hideCode": true
   },
   "outputs": [],
   "source": [
    "import mrcnn.utils as utils\n",
    "sess = KB.get_session()\n"
   ]
  },
  {
   "cell_type": "code",
   "execution_count": null,
   "metadata": {
    "ExecuteTime": {
     "end_time": "2018-05-16T13:52:43.494511Z",
     "start_time": "2018-05-16T13:52:43.056219Z"
    },
    "hideCode": true
   },
   "outputs": [],
   "source": [
    "def apply_box_deltas_graph(boxes, deltas):\n",
    "    \"\"\"\n",
    "    Applies the given deltas to the given boxes.\n",
    "\n",
    "    x,y,w,h : Bounding Box coordinates, width, and height\n",
    "\n",
    "    Boxes:  is the (y1, x1, y2, x2) of the anchor boxes\n",
    "    deltas: [dy, dx, log(dh), log(dw)] \n",
    "            is the predicted bounding box returned from the RPN layer (in test phase)\n",
    "            These are considered the targets or ground truth \n",
    "    Refer to Bounding Box Regression - R-CNN paper \n",
    "    Regression targets are calculated as follows:   \n",
    "      tx = (GTx - PRx)/PRw       ty = (Gy - Py)/Ph\n",
    "      th = log(Gw/Pw)         tw = log(Gh/Ph)\n",
    "    ---------------------------------------------------------------------------------            \n",
    "    \n",
    "    boxes:  [N, 4] where each row is [y1, x1, y2, x2]\n",
    "    deltas: [N, 4] where each row is [dy, dx, log(dh), log(dw)]\n",
    "    \"\"\"\n",
    "    # Convert to y, x, h, w\n",
    "    height   = boxes[:, 2] - boxes[:, 0]\n",
    "    width    = boxes[:, 3] - boxes[:, 1]\n",
    "    center_y = boxes[:, 0] + 0.5 * height\n",
    "    center_x = boxes[:, 1] + 0.5 * width\n",
    "    \n",
    "    # Apply deltas\n",
    "    center_y += deltas[:, 0] * height\n",
    "    center_x += deltas[:, 1] * width\n",
    "    height   *= tf.exp(deltas[:, 2])\n",
    "    width    *= tf.exp(deltas[:, 3])\n",
    "    \n",
    "    # Convert back to y1, x1, y2, x2\n",
    "    y1 = center_y - 0.5 * height\n",
    "    x1 = center_x - 0.5 * width\n",
    "    y2 = y1 + height\n",
    "    x2 = x1 + width\n",
    "    result = tf.stack([y1, x1, y2, x2], axis=1, name=\"apply_box_deltas_out\")\n",
    "    return result\n",
    "\n",
    "\n",
    "def clip_boxes_graph(boxes, window):\n",
    "    \"\"\"\n",
    "    clip refined anchor boxes such that they remain within the dimensions of the image \n",
    "    boxes:  [N, 4] each row is y1, x1, y2, x2\n",
    "    window: [4] in the form y1, x1, y2, x2 \n",
    "    \"\"\"\n",
    "    # Split corners\n",
    "    wy1, wx1, wy2, wx2 = tf.split(window, 4)   #  0, 0 , 128,128\n",
    "    y1 , x1 , y2 , x2  = tf.split(boxes, 4, axis=1)\n",
    "    \n",
    "    # Clip\n",
    "    y1 = tf.maximum(tf.minimum(y1, wy2), wy1)   # ensure  wy1 <= y1 <= wy2\n",
    "    x1 = tf.maximum(tf.minimum(x1, wx2), wx1)\n",
    "    y2 = tf.maximum(tf.minimum(y2, wy2), wy1)\n",
    "    x2 = tf.maximum(tf.minimum(x2, wx2), wx1)\n",
    "    clipped = tf.concat([y1, x1, y2, x2], axis=1, name=\"clipped_boxes\")\n",
    "    return clipped\n",
    "\n",
    "def suppress_small_boxes_graph(boxes, scores, area_threshold ):\n",
    "    \"\"\"\n",
    "    supress boxes with area less than area_threshold\n",
    "    boxes:  [N, 4] each row is y1, x1, y2, x2\n",
    "    \n",
    "    \"\"\"\n",
    "    bx_area = (boxes[...,2]-boxes[...,0])*(boxes[...,3]-boxes[...,1])\n",
    "    selected_idxs   = tf.where(tf.greater_equal(bx_area, area_threshold))\n",
    "    selected_boxes  = tf.gather_nd(boxes, selected_idxs)\n",
    "    selected_scores = tf.gather_nd(scores, selected_idxs)\n",
    "    padding   = tf.maximum(tf.shape(boxes)[0] - tf.shape(selected_boxes)[0], 0)\n",
    "\n",
    "#     print(' box area       : ', bx_area.shape)    \n",
    "#     print(' selected_idxs  : ', tf.shape(selected_idxs).eval())\n",
    "#     print(' selected scores: ', tf.shape(selected_scores).eval())\n",
    "#     print(' Req padding    : ', padding.eval())\n",
    "    \n",
    "    selected_boxes  = tf.pad(selected_boxes, [(0, padding), (0, 0)])    \n",
    "    selected_scores = tf.pad(selected_scores, [(0, padding)])    \n",
    "    return selected_boxes, selected_scores\n",
    "\n",
    "def nms(normalized_boxes, scores):\n",
    "    proposal_count = model.config.POST_NMS_ROIS_TRAINING\n",
    "    rms_threshold  = model.config.RPN_NMS_THRESHOLD\n",
    "    indices = tf.image.non_max_suppression(normalized_boxes, \n",
    "                                           scores, \n",
    "                                           proposal_count,\n",
    "                                           nms_threshold, \n",
    "                                           name=\"rpn_non_max_suppression\")\n",
    "\n",
    "    proposals = tf.gather(normalized_boxes, indices)\n",
    "    # Pad if needed\n",
    "    padding   = tf.maximum(proposal_count - tf.shape(proposals)[0], 0)\n",
    "    proposals = tf.pad(proposals, [(0, padding), (0, 0)])\n",
    "    return proposals"
   ]
  },
  {
   "cell_type": "code",
   "execution_count": null,
   "metadata": {
    "ExecuteTime": {
     "end_time": "2018-05-16T13:52:51.950082Z",
     "start_time": "2018-05-16T13:52:47.181975Z"
    },
    "hideCode": true,
    "scrolled": true
   },
   "outputs": [],
   "source": [
    "with sess.as_default():\n",
    "    scores = rpn_class[:, :, 1]\n",
    "    print(scores.shape)\n",
    "    deltas = rpn_bbox\n",
    "    print('deltas shape', deltas.shape)\n",
    "    deltas = deltas * np.reshape(model.config.RPN_BBOX_STD_DEV, [1, 1, 4])\n",
    "    print('deltas shape', deltas.shape)\n",
    "    anchors = model.anchors\n",
    "    print('model.anchors.shape', model.anchors.shape)\n",
    "    pre_nms_limit = min(6000, model.anchors.shape[0])\n",
    "    print('pre nms limit', pre_nms_limit)\n",
    "\n",
    "    ix = tf.nn.top_k(scores, pre_nms_limit, sorted=True,name=\"top_anchors\").indices\n",
    "\n",
    "    ## gather top scores (pre_nms_limit = min(6000, # anchors) number of scores from scores)        \n",
    "    scores  = utils.batch_slice([scores, ix], lambda x, y: tf.gather(x, y), model.config.IMAGES_PER_GPU) \n",
    "    print(' selected scores: ',scores.shape)\n",
    "\n",
    "    ## get corrsponding deltas generated by RPN\n",
    "    deltas  = utils.batch_slice([deltas, ix], lambda x, y: tf.gather(x, y), model.config.IMAGES_PER_GPU)\n",
    "    print(' selected deltas: ',deltas.shape)\n",
    "    anchors = utils.batch_slice(         ix , lambda x   : tf.gather(anchors, x), model.config.IMAGES_PER_GPU, names=[\"pre_nms_anchors\"])\n",
    "    print(' selected anchors: ',anchors.shape)\n",
    "    boxes = utils.batch_slice([anchors, deltas],\n",
    "                              lambda x, y: apply_box_deltas_graph(x, y),model.config.IMAGES_PER_GPU,\n",
    "                              names=[\"refined_anchors\"])\n",
    "    print(' delta applied boxes :', boxes.shape)\n",
    "\n",
    "    # Clip to image boundaries. [batch, N, (y1, x1, y2, x2)]\n",
    "    height, width = model.config.IMAGE_SHAPE[:2]\n",
    "    window = np.array([0, 0, height, width]).astype(np.float64)\n",
    "    print(' window is ', window)\n",
    "    clipped_boxes  = utils.batch_slice(boxes, \n",
    "                                   lambda x: clip_boxes_graph(x, window), model.config.IMAGES_PER_GPU,\n",
    "                                   names=[\"refined_anchors_clipped\"])\n",
    "\n",
    "    print(' clipped boxes :', clipped_boxes.shape)\n",
    "    \n",
    "    ## Suppress proposal boxes (and  corresponding score) if the area is less than ROI_AREA_THRESHOLD\n",
    "    roi_area_threshold = 2\n",
    "    mod_boxes, mod_scores = utils.batch_slice([clipped_boxes,scores], \n",
    "                            lambda x, y: suppress_small_boxes_graph(x, y, roi_area_threshold), model.config.IMAGES_PER_GPU,\n",
    "                            names=[\"mod_boxes\", \"mod_scores\"])  \n",
    "    print(' mod boxes :', tf.shape(mod_boxes).eval())\n",
    "    print(' mod_scores:', tf.shape(mod_scores).eval())   \n",
    "    \n",
    "    normalized_boxes = tf.cast(mod_boxes / np.array([[height, width, height, width]]), tf.float32)\n",
    "    print(' normalized boxes:', normalized_boxes.shape)\n",
    "\n",
    "    proposals = utils.batch_slice([normalized_boxes, mod_scores], nms, model.config.IMAGES_PER_GPU)\n",
    "    print('     Output: Prposals shape : ', proposals.shape, tf.shape(proposals).eval())\n",
    "    "
   ]
  },
  {
   "cell_type": "markdown",
   "metadata": {
    "hideCode": true
   },
   "source": [
    "####  Analyze proposals results "
   ]
  },
  {
   "cell_type": "code",
   "execution_count": null,
   "metadata": {
    "ExecuteTime": {
     "end_time": "2018-05-16T14:16:27.148573Z",
     "start_time": "2018-05-16T14:16:25.527179Z"
    },
    "hideCode": true,
    "scrolled": true
   },
   "outputs": [],
   "source": [
    "sess = KB.get_session()\n",
    "with sess.as_default():\n",
    "    proposals = tf.identity(rpn_proposal_rois)  # <--- this uses the results from the model \n",
    "\n",
    "    bx_area = (proposals[...,2]-proposals[...,0])*(proposals[...,3]-proposals[...,1])\n",
    "    print(' proposals :', tf.shape(proposals).eval())\n",
    "    print(' box area : ', tf.shape(bx_area).eval())\n",
    "    \n",
    "    selected_idxs = tf.where(tf.less_equal(bx_area, (2/(128*128))) )\n",
    "    print('selected bx:', tf.shape(selected_idxs).eval())\n",
    "    \n",
    "    print(selected_idxs.eval())\n",
    "    selected_area      = tf.gather_nd(bx_area  , selected_idxs)\n",
    "    selected_proposals = tf.gather_nd(proposals, selected_idxs)\n",
    "    print('selected proposals shape', tf.shape(selected_proposals).eval())\n",
    "    print(selected_proposals[0:30].eval())\n",
    "    print('selected area shape', tf.shape(selected_area).eval())\n",
    "    print(selected_area[0:30].eval())\n",
    "    "
   ]
  },
  {
   "cell_type": "markdown",
   "metadata": {},
   "source": [
    "####  Analyze bounding box areas "
   ]
  },
  {
   "cell_type": "code",
   "execution_count": null,
   "metadata": {
    "ExecuteTime": {
     "end_time": "2018-05-16T10:44:24.008139Z",
     "start_time": "2018-05-16T10:44:09.624904Z"
    },
    "hideCode": true
   },
   "outputs": [],
   "source": [
    "with sess.as_default():\n",
    "    print(' boxes :', boxes.shape)\n",
    "    for i in [0,10,17,25,26,34,39]:\n",
    "        print(i, ' non-clipped ', boxes[0, i].eval())\n",
    "    bx_area = (boxes[...,2]-boxes[...,0])*(boxes[...,3]-boxes[...,1])\n",
    "    print(' box area : ', bx_area.shape)\n",
    "    np.set_printoptions(linewidth=130,precision=4,threshold=4096)\n",
    "    print(bx_area[:, :20].eval(session=sess))\n",
    "    small_idxs = tf.where(bx_area < 1)\n",
    "    print('small bx:', tf.shape(small_idxs).eval())\n",
    "    print(small_idxs[0:10].eval())\n",
    "    small_area  = tf.gather_nd(bx_area, small_idxs)\n",
    "    small_boxes = tf.gather_nd(boxes, small_idxs)\n",
    "    print('small boxes shape', tf.shape(small_boxes).eval())\n",
    "    print(small_boxes[0:30].eval())\n",
    "    print('small area shape', tf.shape(small_area).eval())\n",
    "    print(small_area[0:30].eval())\n",
    "    "
   ]
  },
  {
   "cell_type": "markdown",
   "metadata": {
    "hideCode": false
   },
   "source": [
    "## Detection Layer"
   ]
  },
  {
   "cell_type": "markdown",
   "metadata": {
    "hideCode": true
   },
   "source": [
    "####  Setup tensors to be passed to `detections_target_graph()`    - Detection Target Layer"
   ]
  },
  {
   "cell_type": "code",
   "execution_count": null,
   "metadata": {
    "ExecuteTime": {
     "end_time": "2018-05-16T21:12:07.570951Z",
     "start_time": "2018-05-16T21:12:03.473575Z"
    },
    "hideCode": true,
    "hideOutput": true,
    "scrolled": false
   },
   "outputs": [],
   "source": [
    "import mrcnn.utils  as utils\n",
    "from mrcnn.detect_tgt_layer import overlaps_graph\n",
    "# sess = KB.get_session()\n",
    "# with  sess.as_default():\n",
    "try:\n",
    "    sess.close()\n",
    "    print('session was deleted ')\n",
    "except:\n",
    "    print('Session was not defined ')\n",
    "    pass\n",
    "sess = tf.InteractiveSession()\n",
    "\n",
    "image_id = 1\n",
    "\n",
    "proposals    = KB.identity(rpn_proposal_rois)[image_id]\n",
    "gt_class_ids = KB.identity(input_gt_class_ids)[image_id]\n",
    "gt_boxes     = KB.cast(KB.identity(input_gt_bboxes_norm), dtype='float32')[image_id]\n",
    "# gt_masks     = KB.identity(input_gt_masks)\n",
    "print('rpn_roi_proposals')\n",
    "print(proposals.dtype, gt_class_ids.dtype, gt_boxes.dtype)\n",
    "print(proposals.shape)\n",
    "print(proposals.eval())\n",
    "print('gt_class_ids')\n",
    "print(gt_class_ids.shape)\n",
    "print(gt_class_ids.eval())\n",
    "print('gt_boxes')\n",
    "print(gt_boxes.shape)\n",
    "print(gt_boxes.eval())\n",
    "# proposals    = rpn_proposal_rois[1]\n",
    "# gt_class_ids = input_gt_class_ids[1]\n",
    "# gt_boxes     = input_normlzd_gt_boxes[1]\n",
    "# gt_masks     = input_gt_masks[1]\n",
    "# config       = model.config"
   ]
  },
  {
   "cell_type": "markdown",
   "metadata": {
    "hideCode": true
   },
   "source": [
    "### def `dev_detection_targets_graph`"
   ]
  },
  {
   "cell_type": "code",
   "execution_count": null,
   "metadata": {
    "ExecuteTime": {
     "end_time": "2018-05-16T20:13:21.213932Z",
     "start_time": "2018-05-16T20:13:19.686871Z"
    },
    "hideCode": true
   },
   "outputs": [],
   "source": [
    "# def dev_detection_targets_graph(proposals, gt_class_ids, gt_boxes, gt_masks, config):\n",
    " \n",
    "'''\n",
    "as of 16-0-2018\n",
    "Generates detection targets for one image. Subsamples proposals and\n",
    "generates target class IDs, bounding box deltas, and masks for each.\n",
    "\n",
    "Inputs:\n",
    "-------\n",
    "proposals:          [N, 2000, (y1, x1, y2, x2)] in normalized coordinates. \n",
    "                         Might be zero padded if there are not enough proposals.\n",
    "gt_class_ids:       [MAX_GT_INSTANCES] int class IDsMx2)] in normalized coordinates.\n",
    "gt_masks:           [height, width, MAX_GT_INSTANCES] of boolean type.\n",
    "\n",
    "Returns:            Target ROIs and corresponding class IDs, bounding box shifts, and masks.\n",
    "--------\n",
    "rois:               [TRAIN_ROIS_PER_IMAGE, (y1, x1, y2, x2)] in normalized coordinates\n",
    "class_ids:          [TRAIN_ROIS_PER_IMAGE]. Integer class IDs. Zero padded.\n",
    "deltas:             [TRAIN_ROIS_PER_IMAGE, NUM_CLASSES, (dy, dx, log(dh), log(dw))]\n",
    "                    Class-specific bbox refinments.\n",
    "masks:              [TRAIN_ROIS_PER_IMAGE, height, width). Masks cropped to bbox\n",
    "                    boundaries and resized to neural network output size.\n",
    "\n",
    "Note: Returned arrays might be zero padded if not enough target ROIs.\n",
    "\n",
    "''' \n",
    "# Assertions\n",
    "asserts = [\n",
    "    tf.Assert(tf.greater(tf.shape(proposals)[0], 0), [proposals], name=\"roi_assertion\"),\n",
    "]\n",
    "\n",
    "with tf.control_dependencies(asserts):\n",
    "    proposals = tf.identity(proposals)\n",
    "# print('>>> detection_targets_graph ')\n",
    "# print('     propsals.shape        :',  proposals.shape, proposals.get_shape(), KB.int_shape(proposals) )\n",
    "# print('     gt_boxes.shape        :',  gt_boxes.shape ,    KB.int_shape(gt_boxes)   )\n",
    "# print('     gt_class_ids.shape    :',  gt_class_ids.shape, KB.int_shape(gt_class_ids))\n",
    "# print('     gt_masks.shape        :',  gt_masks.shape ,    KB.int_shape(gt_masks)   )\n",
    "\n",
    "# Remove zero padding   \n",
    "# non_zeros returns indicies to valid bboxes, which we use to index gt_class_ids, and gt_masks\n",
    "proposals, non_zeros1= utils.trim_zeros_graph(proposals, name=\"trim_proposals\")\n",
    "gt_boxes, non_zeros = utils.trim_zeros_graph(gt_boxes , name=\"trim_gt_boxes\")\n",
    "gt_class_ids        = tf.boolean_mask(gt_class_ids, non_zeros, name=\"trim_gt_class_ids\")\n",
    "# gt_masks            = tf.gather(gt_masks, tf.where(non_zeros)[:, 0], axis=2,name=\"trim_gt_masks\")\n",
    "\n",
    "print(tf.reduce_all(non_zeros1).eval())\n",
    "print(tf.shape(proposals).eval())\n",
    "print(non_zeros.eval())\n",
    "print(tf.shape(gt_boxes).eval())\n",
    "print(gt_boxes.eval())\n",
    "\n",
    "#------------------------------------------------------------------------------------------\n",
    "# Handle COCO crowds\n",
    "# A crowd box in COCO is a bounding box around several instances. Exclude\n",
    "# them from training. A crowd box is given a negative class ID.\n",
    "#------------------------------------------------------------------------------------------\n",
    "# tf.where : returns the coordinates of true elements of  the specified conditon.\n",
    "#            The coordinates are returned in a 2-D tensor where the first dimension (rows) \n",
    "#            represents the number of true elements, and the second dimension (columns) \n",
    "#            represents the coordinates of the true elements. \n",
    "#            Keep in mind, the shape of the output tensor can vary depending on how many \n",
    "#            true values there are in input. Indices are output in row-major order.\n",
    "#\n",
    "# tf.gather: Gather slices from params axis (default = 0) according to indices.\n",
    "#            indices must be an integer tensor of any dimension (usually 0-D or 1-D). \n",
    "#            Produces an output tensor with shape:\n",
    "#                   params.shape[:axis] + indices.shape + params.shape[axis + 1:] \n",
    "#\n",
    "# tf.squeeze: Removes dimensions of size 1 from the shape of a tensor.\n",
    "#            Given a tensor input, this operation returns a tensor of the same type with \n",
    "#            all dimensions of size 1 removed. If you don't want to remove all size 1 \n",
    "#            dimensions, you can remove specific size 1 dimensions by specifying axis.\n",
    "#------------------------------------------------------------------------------------------\n",
    "\n",
    "crowd_ix        = tf.where(gt_class_ids < 0)[:, 0]\n",
    "non_crowd_ix    = tf.where(gt_class_ids > 0)[:, 0]\n",
    "crowd_boxes     = tf.gather(gt_boxes, crowd_ix)\n",
    "# crowd_masks     = tf.gather(gt_masks, crowd_ix, axis=2)\n",
    "gt_class_ids    = tf.gather(gt_class_ids, non_crowd_ix)\n",
    "gt_boxes        = tf.gather(gt_boxes, non_crowd_ix)\n",
    "# gt_masks        = tf.gather(gt_masks, non_crowd_ix, axis=2)\n",
    "print(non_crowd_ix.eval())\n",
    "print(gt_boxes.eval())\n",
    "\n",
    "# Compute overlaps with crowd boxes [anchors, crowds]\n",
    "crowd_overlaps  = overlaps_graph(proposals, crowd_boxes)\n",
    "crowd_iou_max   = tf.reduce_max(crowd_overlaps, axis=1)\n",
    "no_crowd_bool   = (crowd_iou_max < 0.001)\n",
    "\n",
    "# Compute overlaps matrix [proposals, gt_boxes] - The IoU between \n",
    "# proposals and gt_boxes (non-crowd gt boxes, designated by classId < 0 in Coco)\n",
    "# overlaps is \n",
    "# compute max of elements across axis 1 of overlaps tensor. "
   ]
  },
  {
   "cell_type": "code",
   "execution_count": null,
   "metadata": {
    "ExecuteTime": {
     "end_time": "2018-05-16T20:15:50.226820Z",
     "start_time": "2018-05-16T20:15:49.341966Z"
    },
    "hideCode": true
   },
   "outputs": [],
   "source": [
    "np.set_printoptions(linewidth=150, precision=6, suppress = True)\n",
    "overlaps        = overlaps_graph(proposals, gt_boxes)\n",
    "print(tf.shape(overlaps).eval())\n",
    "print(overlaps[0:500].eval())"
   ]
  },
  {
   "cell_type": "code",
   "execution_count": null,
   "metadata": {
    "ExecuteTime": {
     "end_time": "2018-05-16T20:10:55.340816Z",
     "start_time": "2018-05-16T20:10:52.190165Z"
    },
    "hideCode": true
   },
   "outputs": [],
   "source": [
    "roi_iou_max     = tf.reduce_max(overlaps, axis=1)\n",
    "print('     overlaps.shape        :',  tf.shape(overlaps).eval())\n",
    "print(overlaps.eval())\n",
    "zero_idxs = tf.where(tf.greater_equal(overlaps,0.5))\n",
    "print(tf.shape(zero_idxs).eval())\n",
    "\n",
    "## 1. Determine indices of postive ROI propsal boxes\n",
    "#    Identify ROI proposal boxes that have an IoU >= 05 overlap with some gt_box, and store \n",
    "#    indices into positive_indices\n",
    "positive_roi_bool     = (roi_iou_max >= 0.5)\n",
    "positive_indices      = tf.where(positive_roi_bool)[:,0]\n",
    "print(tf.shape(positive_roi_bool).eval())\n",
    "print(tf.shape(positive_indices).eval())\n",
    "print(positive_indices.eval())\n",
    "\n",
    "\n",
    "\n",
    "## 2. Determine indices of negative ROI proposal boxes\n",
    "#    those with < 0.5 with every GT box and are not crowds bboxes \n",
    "# the where creates a array with shape [# of answers, 1] so we use [:, 0] after\n",
    "## current method\n",
    "negative_indices      = tf.where(tf.logical_and(roi_iou_max < 0.5, no_crowd_bool))[:, 0]\n",
    "\n",
    "## new method\n",
    "# this modification will determine negative ROI proposal boxes but in addition, \n",
    "# will suppress the zero RoIs from the indicies \n",
    "# note that   ( negative_bool         = ~positive_roi_bool)\n",
    "# negative_nonzero_bool = tf.logical_and(~positive_roi_bool, (roi_iou_max > 0))\n",
    "# negative_nonzero_bool = tf.logical_and(negative_nonzero_bool, no_crowd_bool)\n",
    "# negative_indices2     = tf.where(negative_nonzero_bool) [:, 0]\n",
    "\n",
    "## 3. Subsample positive ROIs based on ROI_POSITIVE_RATIO\n",
    "#    Aim for 33% positive (config.ROI_POSITIVE_RATIO = 0.33)\n",
    "#    Positive ROIs   33% of config.TRAIN_ROIS_PER_IMAGE ~  11\n",
    "positive_count        = int(config.TRAIN_ROIS_PER_IMAGE * config.ROI_POSITIVE_RATIO)\n",
    "positive_indices      = tf.random_shuffle(positive_indices)[:positive_count]\n",
    "positive_count        = tf.shape(positive_indices)[0]\n",
    "\n",
    "print(positive_indices.eval())\n",
    "print(positive_count.eval())\n",
    "\n",
    "## 4. Add Negative ROIs. Add enough to maintain positive:negative ratio\n",
    "#     negative_count = int((positive_count / config.ROI_POSITIVE_RATIO) - positive_count)\n",
    "r = 1.0 / config.ROI_POSITIVE_RATIO\n",
    "negative_count        = tf.cast(r * tf.cast(positive_count, tf.float32), tf.int32) - positive_count\n",
    "negative_indices      = tf.random_shuffle(negative_indices)[:negative_count]\n",
    "\n",
    "## 5.   Gather selected positive and negative ROIs\n",
    "positive_rois         = tf.gather(proposals, positive_indices)\n",
    "negative_rois         = tf.gather(proposals, negative_indices)\n",
    "print(positive_rois.eval())\n",
    "\n",
    "## 6.   Assign positive ROIs to GT boxes.\n",
    "#      roi_gt_box_assignment shows for each positive overlap, which class has the maximum overlap\n",
    "positive_overlaps     = tf.gather(overlaps, positive_indices)\n",
    "roi_gt_box_assignment = tf.argmax(positive_overlaps, axis=1)\n",
    "roi_gt_boxes          = tf.gather(gt_boxes    , roi_gt_box_assignment)\n",
    "roi_gt_class_ids      = tf.gather(gt_class_ids, roi_gt_box_assignment)\n",
    "\n",
    "print('     shape of positive overlaps is :', positive_overlaps.get_shape())\n",
    "print(roi_gt_box_assignment.eval())\n",
    "print(positive_overlaps.eval())\n",
    "\n",
    "## 7.   Compute bbox delta \n",
    "# calculate refinement (difference b/w positive rois and gt_boxes) for positive ROIs\n",
    "roi_gt_deltas  = utils.box_refinement_graph(positive_rois, roi_gt_boxes)\n",
    "roi_gt_deltas /= config.BBOX_STD_DEV\n",
    "\n",
    "## 8.  prepare gt_masks \n",
    "#      transpose gt_masks from [h, w, N] to [N, height, width] and add 4th dim at end [N, height, width, 1]\n",
    "#      Pick the right mask for each ROI\n",
    "# transposed_masks = tf.expand_dims(tf.transpose(gt_masks, [2, 0, 1]), -1)\n",
    "# roi_masks = tf.gather(transposed_masks, roi_gt_box_assignment)\n",
    "\n",
    "# Compute mask targets\n",
    "# boxes = positive_rois\n",
    "\n",
    "# if config.USE_MINI_MASK:\n",
    "    # Transform ROI corrdinates from normalized image space\n",
    "    # to normalized mini-mask space.\n",
    "    # y1, x1, y2, x2 = tf.split(positive_rois, 4, axis=1)\n",
    "    # gt_y1, gt_x1, gt_y2, gt_x2 = tf.split(roi_gt_boxes, 4, axis=1)\n",
    "    # gt_h = gt_y2 - gt_y1\n",
    "    # gt_w = gt_x2 - gt_x1\n",
    "    # y1 = (y1 - gt_y1) / gt_h\n",
    "    # x1 = (x1 - gt_x1) / gt_w\n",
    "    # y2 = (y2 - gt_y1) / gt_h\n",
    "    # x2 = (x2 - gt_x1) / gt_w\n",
    "    # boxes = tf.concat([y1, x1, y2, x2], 1)\n",
    "\n",
    "# box_ids = tf.range(0, tf.shape(roi_masks)[0])\n",
    "# masks   = tf.image.crop_and_resize(tf.cast(roi_masks, tf.float32), \n",
    "                                   # boxes,\n",
    "                                   # box_ids,\n",
    "                                   # config.MASK_SHAPE)\n",
    "\n",
    "# Remove the extra dimension from masks.\n",
    "# masks = tf.squeeze(masks, axis=3)\n",
    "\n",
    "# Threshold mask pixels at 0.5 to have GT masks be 0 or 1 to use with\n",
    "# binary cross entropy loss.\n",
    "# masks = tf.round(masks)\n",
    "\n",
    "# Append negative ROIs and pad bbox roi_gt_deltas and masks that\n",
    "# are not used for negative ROIs with zeros.\n",
    "rois             = tf.concat([positive_rois, negative_rois], axis=0)\n",
    "N                = tf.shape(negative_rois)[0]\n",
    "P                = tf.maximum(config.TRAIN_ROIS_PER_IMAGE - tf.shape(rois)[0], 0)\n",
    "rois             = tf.pad(rois            , [(0, P ), (0, 0)])\n",
    "\n",
    "roi_gt_boxes     = tf.pad(roi_gt_boxes    , [(0, N + P), (0, 0)])\n",
    "roi_gt_class_ids = tf.pad(roi_gt_class_ids, [(0, N + P)])\n",
    "roi_gt_deltas    = tf.pad(roi_gt_deltas   , [(0, N + P), (0, 0)])\n",
    "# masks            = tf.pad(masks           , [[0, N + P], (0, 0), (0, 0)])\n",
    "\n",
    "# print(' roi_gt_boxes :  ' , tf.shape(roi_gt_boxes) )\n",
    "# print(' P:  ' , P,  ' N :    ', N)   \n",
    "# print('     roi.shape             :',  rois.shape            , tf.shape(rois))\n",
    "# print('     roi_gt_class_ids.shape:',  roi_gt_class_ids.shape, tf.shape(roi_gt_class_ids))\n",
    "# print('     roi_gt_deltas.shape   :',  roi_gt_deltas.shape   , tf.shape(roi_gt_deltas))\n",
    "# print('     masks.shape           :',  masks.shape           , tf.shape(masks))\n",
    "# print('     roi_gt_boxes.shape    :',  roi_gt_boxes.shape    , tf.shape(roi_gt_boxes))\n",
    "\n",
    "#     return rois, roi_gt_class_ids,  roi_gt_deltas, roi_gt_boxes\n",
    "#     return positive_ind_shuffled, positive_indices, positive_overlaps, roi_gt_box_assignment, roi_gt_boxes, roi_gt_class_ids"
   ]
  },
  {
   "cell_type": "code",
   "execution_count": null,
   "metadata": {
    "ExecuteTime": {
     "end_time": "2018-05-16T20:11:00.750967Z",
     "start_time": "2018-05-16T20:11:00.015541Z"
    },
    "hideCode": true
   },
   "outputs": [],
   "source": [
    "print(tf.shape(rois).eval())\n",
    "print(rois.eval())\n",
    "print(roi_gt_class_ids.eval())\n",
    "print(gt_class_ids.eval())\n",
    "print(gt_boxes.eval())"
   ]
  },
  {
   "cell_type": "code",
   "execution_count": null,
   "metadata": {
    "ExecuteTime": {
     "end_time": "2018-05-13T08:56:24.034780Z",
     "start_time": "2018-05-13T08:56:23.208821Z"
    },
    "hideCode": true,
    "hidePrompt": false
   },
   "outputs": [],
   "source": [
    "# sess = tf.InteractiveSession()\n",
    "sess = KB.get_session()\n",
    "# print(input_gt_boxes[0].eval())\n",
    "# print(input_normlzd_gt_boxes[0].eval())\n",
    "# print(norm_output_rois[0].eval(session=sess))\n"
   ]
  },
  {
   "cell_type": "markdown",
   "metadata": {
    "hideCode": false,
    "hidePrompt": false
   },
   "source": [
    "##  `build_pred_tf ()` \n",
    "\n",
    "###  Build Pred_Tensor\n",
    "\n",
    "`pred_tensor[:,:,:,1:7]`  == `[116.9736  21.8213  36.2715  45.6026   0.    0.9139   ]`\n",
    "\n",
    "\n",
    "Detections returned by `detect()` routine:\n",
    "\n",
    "`[[ 25.          18.          80.          72.           2.           0.99936014]\n",
    "  [ 51.           3.         106.          71.           3.           0.99924326]`"
   ]
  },
  {
   "cell_type": "markdown",
   "metadata": {},
   "source": [
    "###  Setup tensors to be passed to `build_pred_tf ()`    "
   ]
  },
  {
   "cell_type": "code",
   "execution_count": null,
   "metadata": {
    "ExecuteTime": {
     "end_time": "2018-05-16T21:12:59.778213Z",
     "start_time": "2018-05-16T21:12:58.984586Z"
    },
    "hideCode": false,
    "hideOutput": true,
    "scrolled": false
   },
   "outputs": [],
   "source": [
    "# try:\n",
    "#     sess.close()\n",
    "#     print('session was deleted ')\n",
    "# except:\n",
    "#     print('Session was not defined ')\n",
    "#     pass\n",
    "# sess = tf.InteractiveSession()\n",
    "mrcnn_class = tf.identity(mrcnn_class)\n",
    " \n",
    "target_class_ids = tf.identity(target_class_ids)\n",
    "# in_tensor = tf.placeholder(tf.float32, shape=[3,4,32,6], name = 'in_tensor')\n",
    "config = model.config\n",
    "names = ['Dev']\n",
    "print(mrcnn_class.shape)\n",
    "print('output_rois')\n",
    "print(norm_output_rois.shape)\n",
    "print(norm_output_rois[:,:10].eval())\n",
    "print('target_class_ids')\n",
    "print(target_class_ids.eval())\n",
    "print('input_gt_class_ids')\n",
    "print(input_gt_class_ids)\n",
    "print('input_gt_bboxes')\n",
    "print(input_gt_bboxes[:,:10])\n",
    "print('roi_gt_boxes')\n",
    "print(roi_gt_boxes.shape)\n",
    "print(roi_gt_boxes[:,:10])"
   ]
  },
  {
   "cell_type": "markdown",
   "metadata": {
    "hideCode": false
   },
   "source": [
    "### Original `build_prediction_tf()` for comparison"
   ]
  },
  {
   "cell_type": "code",
   "execution_count": null,
   "metadata": {},
   "outputs": [],
   "source": [
    "def build_predictions_tf(mrcnn_class, norm_output_rois, config):\n",
    "    batch_size      = config.BATCH_SIZE\n",
    "    num_classes     = config.NUM_CLASSES\n",
    "    h, w            = config.IMAGE_SHAPE[:2]\n",
    "    # num_rois        = config.TRAIN_ROIS_PER_IMAGE\n",
    "    num_cols        = 6\n",
    "    num_rois        = KB.int_shape(norm_output_rois)[1]\n",
    "    output_rois = norm_output_rois * np.array([h,w,h,w])   \n",
    "\n",
    "    print()\n",
    "    print('  > BUILD_PREDICTIONS_TF()')\n",
    "    print('    num_rois          : ', num_rois )\n",
    "    print('    mrcnn_class shape : ', KB.shape(mrcnn_class), KB.int_shape(mrcnn_class))\n",
    "    print('    mrcnn_bbox.shape  : ', KB.shape(mrcnn_bbox) , KB.int_shape(mrcnn_bbox), mrcnn_bbox.shape )\n",
    "    print('    output_rois.shape : ', KB.shape(output_rois), KB.int_shape(output_rois))\n",
    "    \n",
    "    #---------------------------------------------------------------------------\n",
    "    # use the argmaxof each row to determine the dominating (predicted) class\n",
    "    #---------------------------------------------------------------------------\n",
    "    pred_classes     = tf.to_int32(tf.argmax( mrcnn_class,axis=-1))\n",
    "    pred_classes_exp = tf.to_float(tf.expand_dims(pred_classes ,axis=-1))\n",
    "    pred_scores      = tf.reduce_max(mrcnn_class ,axis=-1, keepdims=True)   # (32,)\n",
    "    \n",
    "    # np.set_printoptions(linewidth=100, precision=4)\n",
    "    # print('    pred_classes with highest scores:', pred_classes.get_shape() )\n",
    "    # print('    pred_ scores:', pred_scores.get_shape())\n",
    "    \n",
    "    print('    pred_classes     : ', pred_classes.shape)\n",
    "    print('    pred_classes_exp : ', pred_classes_exp.shape)\n",
    "    print('    pred_scores      : ', pred_scores.shape)\n",
    "\n",
    "    #-----------------------------------------------------------------------------------\n",
    "    # This part is used if we want to gather bbox coordinates from mrcnn_bbox \n",
    "    #  Currently we are gathering bbox coordinates form output_roi so we dont need this\n",
    "    #-----------------------------------------------------------------------------------\n",
    "    # bbox_selected    = tf.zeros_like(norm_output_rois)\n",
    "    # print('    bbox_selected    : ', bbox_selected.shape)\n",
    "    # gather_boxes    = tf.stack([batch_grid, roi_grid, pred_classes, ], axis = -1)\n",
    "    # print('-- gather_boxes  ----')\n",
    "    # print('gather_boxes inds', type(gather_boxes), 'shape',tf.shape(gather_boxes).eval())\n",
    "    # print(gather_boxes.eval())\n",
    "    # bbox_selected   = tf.gather_nd(mrcnn_bbox, gather_boxes)\n",
    "    # print('    bbox_selected shape : ', bbox_selected.get_shape())\n",
    "    # print(bbox_selected[0].eval())    \n",
    "    #-----------------------------------------------------------------------------------\n",
    "    \n",
    "    ## moved pred_scores to end -- 30-04-2018\n",
    "    # pred_array  = tf.concat([bbox_idx , output_rois, pred_classes_exp , pred_scores], axis=-1)\n",
    "    pred_array  = tf.concat([ output_rois, pred_classes_exp , pred_scores], axis=-1)\n",
    "\n",
    "    #---------------------------------------------------------------------------\n",
    "    # Build a meshgrid for image id and bbox to use in gathering of bbox information \n",
    "    #---------------------------------------------------------------------------\n",
    "    batch_grid, roi_grid = tf.meshgrid( tf.range(batch_size, dtype=tf.int32),\n",
    "                                        tf.range(num_rois, dtype=tf.int32), indexing = 'ij' )\n",
    "    # bbox_idx             = tf.to_float(tf.expand_dims(roi_grid , axis = -1))    \n",
    "    print('    batch_grid       : ', batch_grid.shape)\n",
    "    print('    roi_grid         : ', roi_grid.shape)\n",
    "\n",
    "\n",
    "    scatter_ind          = tf.stack([batch_grid , pred_classes, roi_grid],axis = -1)\n",
    "    pred_scatt = tf.scatter_nd(scatter_ind, pred_array, [batch_size, num_classes, num_rois, pred_array.shape[-1]])\n",
    "    # print('scatter_ind', type(scatter_ind), 'shape',tf.shape(scatter_ind).eval())\n",
    "    # print('    pred_scatter shape is ', pred_scatt.get_shape(), pred_scatt)\n",
    "\n",
    "    \n",
    "    #------------------------------------------------------------------------------------\n",
    "    ## sort pred_scatter in each class dimension based on sequence number (last column)\n",
    "    #------------------------------------------------------------------------------------\n",
    "    _, sort_inds = tf.nn.top_k(pred_scatt[:,:,:,-1], k=pred_scatt.shape[2])\n",
    "\n",
    "    # build indexes to gather rows from pred_scatter based on sort order    \n",
    "    class_grid, batch_grid, roi_grid = tf.meshgrid(tf.range(num_classes),tf.range(batch_size), tf.range(num_rois))\n",
    "    roi_grid_exp = tf.to_float(tf.expand_dims(roi_grid, axis = -1))\n",
    "    \n",
    "    gather_inds  = tf.stack([batch_grid , class_grid, sort_inds],axis = -1)\n",
    "    pred_tensor  = tf.gather_nd(pred_scatt, gather_inds, name = 'pred_tensor')\n",
    "    \n",
    "    # print('    class_grid  ', type(class_grid) , 'shape', class_grid.get_shape())\n",
    "    # print('    batch_grid  ', type(batch_grid) , 'shape', batch_grid.get_shape())\n",
    "    # print('    roi_grid shape', roi_grid.get_shape(), 'roi_grid_exp shape ', roi_grid_exp.get_shape())\n",
    "    # print('    gather_inds ', type(gather_inds), 'shape', gather_inds.get_shape())\n",
    "    # print('    pred_tensor (gathered)  : ', pred_tensor.get_shape())\n",
    "\n",
    "    # append an index to the end of each row --- commented out 30-04-2018\n",
    "    # pred_tensor  = tf.concat([pred_tensor, roi_grid_exp], axis = -1)\n",
    "    \n",
    "    # print('    final pred_tensor shape  : ', pred_tensor.get_shape())\n",
    "   # print('    complete')\n",
    "    return  pred_tensor"
   ]
  },
  {
   "cell_type": "markdown",
   "metadata": {
    "hideCode": false,
    "hidePrompt": false
   },
   "source": [
    "### Copy of `build_prediction_tf()` for modification"
   ]
  },
  {
   "cell_type": "code",
   "execution_count": null,
   "metadata": {
    "ExecuteTime": {
     "end_time": "2018-05-13T09:37:48.951317Z",
     "start_time": "2018-05-13T09:37:48.505106Z"
    }
   },
   "outputs": [],
   "source": [
    "\n",
    "\n",
    "    \n",
    "\n",
    "\n",
    "    \n"
   ]
  },
  {
   "cell_type": "markdown",
   "metadata": {
    "hideCode": false,
    "hidePrompt": false
   },
   "source": [
    "\n",
    "###  Display for visual check - `pred_tensor` is the final result which is passed on to  `build_gaussian_tf()`"
   ]
  },
  {
   "cell_type": "code",
   "execution_count": null,
   "metadata": {
    "ExecuteTime": {
     "end_time": "2018-05-13T08:57:52.773471Z",
     "start_time": "2018-05-13T08:57:51.641962Z"
    },
    "hideCode": true,
    "hidePrompt": false,
    "scrolled": false
   },
   "outputs": [],
   "source": [
    "np.set_printoptions(linewidth=150, precision=6)\n",
    "# print('scatter shape is ', pred_scatt.get_shape())\n",
    "print('pred_tensor shape is ', pred_tensor.get_shape() )\n",
    "img = 0\n",
    "print('Image ', img , '/ Class 0 ------------')\n",
    "print(pred_tensor[img,0].eval(session=sess))\n",
    "print('Image ', img , '/ Class 1 ------------')\n",
    "print(pred_tensor[img,1].eval(session=sess))\n",
    "print('Image ', img , '/ Class 2 ------------')\n",
    "print(pred_tensor[img,2].eval(session=sess))\n",
    "print('Image ', img , '/ Class 3 ------------')\n",
    "print(pred_tensor[img,3].eval(session=sess))\n"
   ]
  },
  {
   "cell_type": "code",
   "execution_count": null,
   "metadata": {
    "ExecuteTime": {
     "end_time": "2018-05-13T09:37:55.920827Z",
     "start_time": "2018-05-13T09:37:55.615982Z"
    },
    "hideCode": false,
    "hideOutput": true,
    "hidePrompt": false,
    "scrolled": true
   },
   "outputs": [],
   "source": [
    " pred_tensor1  = build_predictions_tf(mrcnn_class, mrcnn_bbox, output_rois, model.config)"
   ]
  },
  {
   "cell_type": "code",
   "execution_count": null,
   "metadata": {
    "ExecuteTime": {
     "end_time": "2018-05-13T09:38:24.489697Z",
     "start_time": "2018-05-13T09:38:23.584328Z"
    }
   },
   "outputs": [],
   "source": [
    "img = 2\n",
    "print(pred_tensor1[img,0].eval(session=sess))\n",
    "print(pred_tensor1[img,1].eval(session=sess))\n",
    "print(pred_tensor1[img,2].eval(session=sess))\n",
    "print(pred_tensor1[img,3].eval(session=sess))"
   ]
  },
  {
   "cell_type": "markdown",
   "metadata": {
    "hideCode": false,
    "hidePrompt": false
   },
   "source": [
    "###  Test `means`, `covar`, `gauss_grid`, and `gauss_sum ` between development version and final version"
   ]
  },
  {
   "cell_type": "code",
   "execution_count": null,
   "metadata": {
    "ExecuteTime": {
     "end_time": "2018-05-04T16:29:49.313931Z",
     "start_time": "2018-05-04T16:29:48.092590Z"
    },
    "hideCode": false,
    "hidePrompt": false
   },
   "outputs": [],
   "source": [
    "print(pred_tensor.get_shape(), pred_tensor2.get_shape())\n",
    "print(np.all(pred_tensor.eval() == pred_tensor2.eval()))\n",
    "# tst1 = means.eval()\n",
    "# tst2 = means2.eval()\n",
    "# print(tst1.shape, tst2.shape)\n",
    "\n",
    "# print(tst1[0,:10])\n",
    "# print()\n",
    "# print(tst2[0,:10])\n",
    "# print(np.all(tst1 == tst2))\n",
    "# print()\n",
    "# del tst1, tst2"
   ]
  },
  {
   "cell_type": "code",
   "execution_count": null,
   "metadata": {
    "ExecuteTime": {
     "end_time": "2018-05-04T16:50:26.299995Z",
     "start_time": "2018-05-04T16:50:25.744478Z"
    },
    "hideCode": false,
    "hidePrompt": false,
    "scrolled": false
   },
   "outputs": [],
   "source": [
    "tst1 = pred_tensor.eval()\n",
    "tst2 = pred_tensor2.eval()"
   ]
  },
  {
   "cell_type": "code",
   "execution_count": null,
   "metadata": {
    "ExecuteTime": {
     "end_time": "2018-05-04T16:31:08.683686Z",
     "start_time": "2018-05-04T16:31:08.427534Z"
    },
    "scrolled": false
   },
   "outputs": [],
   "source": [
    "print(tst1[0])"
   ]
  },
  {
   "cell_type": "code",
   "execution_count": null,
   "metadata": {
    "ExecuteTime": {
     "end_time": "2018-05-04T16:46:19.731291Z",
     "start_time": "2018-05-04T16:46:19.281096Z"
    }
   },
   "outputs": [],
   "source": [
    "print(output_rois.eval())"
   ]
  },
  {
   "cell_type": "code",
   "execution_count": null,
   "metadata": {},
   "outputs": [],
   "source": []
  },
  {
   "cell_type": "code",
   "execution_count": null,
   "metadata": {},
   "outputs": [],
   "source": []
  },
  {
   "cell_type": "code",
   "execution_count": null,
   "metadata": {
    "hideCode": false,
    "hidePrompt": false
   },
   "outputs": [],
   "source": []
  },
  {
   "cell_type": "code",
   "execution_count": null,
   "metadata": {
    "hideCode": false,
    "hidePrompt": false
   },
   "outputs": [],
   "source": []
  },
  {
   "cell_type": "markdown",
   "metadata": {
    "hideCode": false,
    "hidePrompt": false
   },
   "source": [
    "## Experimental Code"
   ]
  }
 ],
 "metadata": {
  "anaconda-cloud": {},
  "celltoolbar": "Hide code",
  "hide_code_all_hidden": false,
  "kernelspec": {
   "display_name": "Python [conda env:TF_gpu]",
   "language": "python",
   "name": "conda-env-TF_gpu-py"
  },
  "language_info": {
   "codemirror_mode": {
    "name": "ipython",
    "version": 3
   },
   "file_extension": ".py",
   "mimetype": "text/x-python",
   "name": "python",
   "nbconvert_exporter": "python",
   "pygments_lexer": "ipython3",
   "version": "3.5.4"
  }
 },
 "nbformat": 4,
 "nbformat_minor": 2
}
