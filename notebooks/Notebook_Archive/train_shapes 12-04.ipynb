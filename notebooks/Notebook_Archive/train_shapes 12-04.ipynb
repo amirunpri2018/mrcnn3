{
 "cells": [
  {
   "cell_type": "markdown",
   "metadata": {},
   "source": [
    "# Mask R-CNN - Train on Shapes Dataset\n",
    "\n",
    "### Notes from implementation\n",
    "\n",
    "This notebook shows how to train Mask R-CNN on your own dataset. To keep things simple we use a synthetic dataset of shapes (squares, triangles, and circles) which enables fast training. You'd still need a GPU, though, because the network backbone is a Resnet101, which would be too slow to train on a CPU. On a GPU, you can start to get okay-ish results in a few minutes, and good results in less than an hour.\n",
    "\n",
    "The code of the *Shapes* dataset is included below. It generates images on the fly, so it doesn't require downloading any data. And it can generate images of any size, so we pick a small image size to train faster. \n"
   ]
  },
  {
   "cell_type": "code",
   "execution_count": 5,
   "metadata": {
    "ExecuteTime": {
     "end_time": "2018-04-15T18:26:11.062541Z",
     "start_time": "2018-04-15T18:26:10.831930Z"
    }
   },
   "outputs": [
    {
     "data": {
      "text/html": [
       "<style>.container { width:90% !important; }</style>"
      ],
      "text/plain": [
       "<IPython.core.display.HTML object>"
      ]
     },
     "metadata": {},
     "output_type": "display_data"
    }
   ],
   "source": [
    "from IPython.core.display import display, HTML\n",
    "display(HTML(\"<style>.container { width:90% !important; }</style>\"))\n",
    "\n",
    "%matplotlib inline\n",
    "%load_ext autoreload\n",
    "%autoreload 2\n",
    "import os\n",
    "import sys\n",
    "import random\n",
    "import math\n",
    "import re\n",
    "import  gc\n",
    "import time\n",
    "import numpy as np\n",
    "import cv2\n",
    "import matplotlib\n",
    "import matplotlib.pyplot as plt\n",
    "import tensorflow as tf\n",
    "import keras\n",
    "import pprint\n",
    "import keras.backend as KB\n",
    "sys.path.append('../')\n",
    "\n",
    "import mrcnn.model     as modellib\n",
    "import mrcnn.visualize as visualize\n",
    "import mrcnn.shapes    as shapes\n",
    "from mrcnn.config      import Config\n",
    "from mrcnn.model       import log\n",
    "from mrcnn.dataset     import Dataset \n",
    "# from mrcnn.pc_layer    import PCTensor\n",
    "# from mrcnn.pc_layer   import PCNLayer\n",
    "\n",
    "# Root directory of the project\n",
    "ROOT_DIR = os.getcwd()\n",
    "MODEL_PATH = 'E:\\Models'\n",
    "# Directory to save logs and trained model\n",
    "MODEL_DIR = os.path.join(MODEL_PATH, \"mrcnn_logs\")\n",
    "# Path to COCO trained weights\n",
    "COCO_MODEL_PATH   = os.path.join(MODEL_PATH, \"mask_rcnn_coco.h5\")\n",
    "RESNET_MODEL_PATH = os.path.join(MODEL_PATH, \"resnet50_weights_tf_dim_ordering_tf_kernels_notop.h5\")\n",
    "\n",
    "print(\"Tensorflow Version: {}   Keras Version : {} \".format(tf.__version__,keras.__version__))\n",
    "pp = pprint.PrettyPrinter(indent=2, width=100)\n",
    "np.set_printoptions(linewidth=100)\n",
    "\n",
    "# Build configuration object -----------------------------------------------\n",
    "config = shapes.ShapesConfig()\n",
    "config.BATCH_SIZE      = 4                   #Batch size is 2 (# GPUs * images/GPU).\n",
    "config.IMAGES_PER_GPU  = 4\n",
    "config.STEPS_PER_EPOCH = 2\n",
    "# config.IMAGES_PER_GPU  = 1\n",
    "config.FCN_INPUT_SHAPE = config.IMAGE_SHAPE[0:2]\n",
    "config.display() \n",
    "\n",
    "# Build shape dataset        -----------------------------------------------\n",
    "\n",
    "from mrcnn.datagen import data_generator, load_image_gt\n",
    "\n",
    "# Training dataset\n",
    "# generate 500 shapes \n",
    "dataset_train = shapes.ShapesDataset()\n",
    "dataset_train.load_shapes(500, config.IMAGE_SHAPE[0], config.IMAGE_SHAPE[1])\n",
    "dataset_train.prepare()\n",
    "\n",
    "# Validation dataset\n",
    "dataset_val = shapes.ShapesDataset()\n",
    "dataset_val.load_shapes(50, config.IMAGE_SHAPE[0], config.IMAGE_SHAPE[1])\n",
    "dataset_val.prepare()\n",
    "\n",
    "# Load and display random samples\n",
    "# image_ids = np.random.choice(dataset_train.image_ids, 3)\n",
    "# for image_id in [3]:\n",
    "#     image = dataset_train.load_image(image_id)\n",
    "#     mask, class_ids = dataset_train.load_mask(image_id)\n",
    "#     visualize.display_top_masks(image, mask, class_ids, dataset_train.class_names)\n",
    "print(' COCO Model Path       : ', COCO_MODEL_PATH)\n",
    "print(' Checkpoint folder Path: ', MODEL_DIR)"
   ]
  },
  {
   "cell_type": "code",
   "execution_count": 6,
   "metadata": {
    "ExecuteTime": {
     "end_time": "2018-04-15T18:26:14.098642Z",
     "start_time": "2018-04-15T18:26:13.874023Z"
    }
   },
   "outputs": [],
   "source": [
    "# del dataset_train,dataset_val\n",
    "# del model\n",
    "# gc.collect()\n",
    "# sess = KB.get_session()\n",
    "# sess.close()\n",
    "# import tensorflow as tf\n",
    "# # print(\"Tensorflow Version: {}   Keras Version : {} \".format(tf.__version__))\n",
    "# dir(tf)"
   ]
  },
  {
   "cell_type": "markdown",
   "metadata": {},
   "source": [
    "## Process outside of training \n",
    "\n",
    "### Create Model"
   ]
  },
  {
   "cell_type": "code",
   "execution_count": 8,
   "metadata": {
    "ExecuteTime": {
     "end_time": "2018-04-15T18:27:57.808988Z",
     "start_time": "2018-04-15T18:26:19.179137Z"
    },
    "scrolled": false
   },
   "outputs": [
    {
     "name": "stdout",
     "output_type": "stream",
     "text": [
      ">>> Set_log_dir() -- model dir is  E:\\Models\\mrcnn_logs\n",
      "    set_log_dir: Checkpoint path set to : E:\\Models\\mrcnn_logs\\shapes20180415T2026\\mask_rcnn_shapes_{epoch:04d}.h5\n",
      ">>> Generate pyramid anchors \n",
      "    Size of anchor array is : (4092, 4)\n",
      ">>> RPN Outputs  <class 'list'>\n",
      "      rpn_class_logits_1/concat:0\n",
      "      rpn_class_1/concat:0\n",
      "      rpn_bbox_1/concat:0\n",
      ">>> Proposal Layer init complete. Size of anchors:  (4092, 4)\n",
      "     Scores :  (4, 4092)\n",
      "     Deltas :  (4, 4092, 4)\n",
      "     Anchors:  (4, 4092, 4)\n",
      "     Boxes shape / type after processing:  (4, 4092, 4) <class 'tensorflow.python.framework.ops.Tensor'>\n",
      ">>> Detection Target Layer : initialization\n",
      ">>> Detection Target Layer : call  <class 'list'> 4\n",
      "     proposals.shape    : (4, ?, ?) <class 'tensorflow.python.framework.ops.Tensor'>\n",
      "     gt_class_ids.shape : (?, ?) <class 'tensorflow.python.framework.ops.Tensor'>\n",
      "     gt_bboxes.shape    : (?, ?, 4) <class 'tensorflow.python.framework.ops.Tensor'>\n",
      "     gt_masks.shape     : (?, 56, 56, ?) <class 'tensorflow.python.framework.ops.Tensor'>\n",
      ">>> Detection Target Layer : return call  <class 'list'> 4\n",
      "     output 0  shape (4, ?, ?)  type <class 'tensorflow.python.framework.ops.Tensor'> \n",
      "     output 1  shape (4, ?)  type <class 'tensorflow.python.framework.ops.Tensor'> \n",
      "     output 2  shape (4, ?, ?)  type <class 'tensorflow.python.framework.ops.Tensor'> \n",
      "     output 3  shape (4, ?, ?, ?)  type <class 'tensorflow.python.framework.ops.Tensor'> \n",
      ">>> PCN Layer : initialization\n",
      ">>> PCN Layer : call  <class 'list'> 5\n",
      "     mrcnn_class.shape    : (?, 32, 4) <class 'tensorflow.python.framework.ops.Tensor'>\n",
      "     mrcnn_bbox.shape     : (?, 32, 4, 4) <class 'tensorflow.python.framework.ops.Tensor'>\n",
      "     output_rois.shape    : (?, ?) <class 'tensorflow.python.framework.ops.Tensor'>\n",
      ">>> PCN Layer TF : initialization\n",
      ">>> PCN Layer TF: call  <class 'list'> 5\n",
      "     mrcnn_class.shape    : (?, 32, 4) <class 'tensorflow.python.framework.ops.Tensor'>\n",
      "     mrcnn_bbox.shape     : (?, 32, 4, 4) <class 'tensorflow.python.framework.ops.Tensor'>\n",
      "     output_rois.shape    : (4, ?, ?) <class 'tensorflow.python.framework.ops.Tensor'>\n",
      "     gt_class_ids.shape   : (?, ?) <class 'tensorflow.python.framework.ops.Tensor'>\n",
      "     gt_bboxes.shape      : (?, ?, 4) <class 'tensorflow.python.framework.ops.Tensor'>\n",
      ">>> build_predictions_tf\n",
      " -- pred_tensor tf ------------------------------\n",
      "    resulting tensor : a_boxes_3d <class 'tensorflow.python.framework.ops.Tensor'> (4, 32, 7)\n",
      "    pred_scatter shape is  (4, 4, 32, 7) Tensor(\"cntxt_layer_2_1/ScatterNd:0\", shape=(4, 4, 32, 7), dtype=float32)\n",
      "    sort inds shape :  (4, 4, 32)\n",
      "    class_grid   <class 'tensorflow.python.framework.ops.Tensor'> shape (4, 4, 32)\n",
      "    batch_grid   <class 'tensorflow.python.framework.ops.Tensor'> shape (4, 4, 32)\n",
      "    roi_grid shape (4, 4, 32) roi_grid_exp shape  (4, 4, 32, 1)\n",
      "    gather_inds  <class 'tensorflow.python.framework.ops.Tensor'> shape (4, 4, 32, 3)\n",
      "    pred_tensor (gathered)  :  (4, 4, 32, 7)\n",
      "    -- pred_tensor results (A-boxes sorted by score ----\n",
      "    final pred_tensor shape  :  (4, 4, 32, 8)\n",
      "    final pred_cls_cnt shape :  (4, 4)\n",
      "    complete\n",
      ">>> build_ground_truth_tf\n",
      "    gt_class_ids shape :  (?, ?)     notm_gt_bbox.shape  :  (?, ?, 4)\n",
      "    gt_classes_exp shape  (?, ?, 1)\n",
      "    pred_ scores shape  (?, ?)\n",
      "    bbox_grid  shape   (4, 100)\n",
      "    batch_grid  shape  (4, 100)\n",
      "    bbox_idx shape    (4, 100, 1)\n",
      "    gt_array shape    (4, 100, 7)\n",
      "    class shape       (?, ?)\n",
      "    bbox_grid   shape  (4, 100)\n",
      "    batch_grid shape  (4, 100)\n",
      "    scatter_ind shape  (4, 100, 3)\n",
      "    gt_scatter shape  (4, 4, 100, 7)\n",
      "    sort inds shape :  (4, 4, 100)\n",
      "    class_grid  shape  (4, 4, 100)\n",
      "    batch_grid  shape  (4, 4, 100)\n",
      "    bbox_grid   shape  (4, 4, 100)  bbox_grid_exp shape  (4, 4, 100, 1)\n",
      "    gather_inds shape  (4, 4, 100, 3)\n",
      "    gt_tensor (gathered)   :  (4, 4, 100, 8)\n",
      "    final gt_tensor shape  :  (4, 4, 100, 8)\n",
      "    final gt_cls_cnt shape :  (4, 4)\n",
      "    complete\n",
      " Build Gaussian np for detected rois =========================\n",
      ">>> build_gaussian_tf \n",
      "    in_tensor shape :  (4, 4, 32, 5)\n",
      "    num of bboxes per class is :  Tensor(\"cntxt_layer_2_1/ToInt32_2/x:0\", shape=(), dtype=int32)\n",
      "    pred_tensor shape is       :  (4, 4, 32, 5)\n",
      "   pt2_sum shape  (4, 4, 32)\n",
      "   pt2_ind shape  (?, 3)\n",
      "   dense shape  (?, 5)\n",
      "   dense shape  (?, 6)\n",
      "   -- Build Stacked output from dynamically partitioned lists --------------\n",
      "\n",
      "   ===> list item # 0\n",
      "   stacked_list[img] shape:  Tensor(\"cntxt_layer_2_1/strided_slice_9:0\", shape=(), dtype=int32)\n",
      "   tensor_list item pos padding : Tensor(\"cntxt_layer_2_1/Shape_1:0\", shape=(2,), dtype=int32)\n",
      "\n",
      "   ===> list item # 1\n",
      "   stacked_list[img] shape:  Tensor(\"cntxt_layer_2_1/strided_slice_10:0\", shape=(), dtype=int32)\n",
      "   tensor_list item pos padding : Tensor(\"cntxt_layer_2_1/Shape_3:0\", shape=(2,), dtype=int32)\n",
      "\n",
      "   ===> list item # 2\n",
      "   stacked_list[img] shape:  Tensor(\"cntxt_layer_2_1/strided_slice_11:0\", shape=(), dtype=int32)\n",
      "   tensor_list item pos padding : Tensor(\"cntxt_layer_2_1/Shape_5:0\", shape=(2,), dtype=int32)\n",
      "\n",
      "   ===> list item # 3\n",
      "   stacked_list[img] shape:  Tensor(\"cntxt_layer_2_1/strided_slice_12:0\", shape=(), dtype=int32)\n",
      "   tensor_list item pos padding : Tensor(\"cntxt_layer_2_1/Shape_7:0\", shape=(2,), dtype=int32)\n",
      "\n",
      "stacked output tensor shape :  Tensor(\"cntxt_layer_2_1/Shape_8:0\", shape=(3,), dtype=int32) (4, ?, ?) (4, ?, ?)\n",
      "   stacked tensor :  Tensor(\"cntxt_layer_2_1/Shape_9:0\", shape=(3,), dtype=int32) (4, ?, ?) (4, ?, ?)\n",
      "(128, 128) (128, 128)\n",
      "   ones:  (4, 32, 1, 1)\n",
      "   after transpose  (128, 128, 4, 32, 2)\n",
      "ps.shape is  (4, ?, ?)\n",
      "   means shape  (4, ?, 2)    (4, ?, 2)\n",
      "   covar shape  (4, ?, 2)    (4, ?, 2)\n",
      "   from MVN :  \t mns shape      : (4, ?, 2) (4, ?, 2)  \t cov shape :  (4, ?, 2) (4, ?, 2)\n",
      "   from MVN :  \t mean shape     : (4, ?, 2) \t stddev shape (4, ?, 2)\n",
      "   from MVN :  \t mean shape     : (4, ?, 2) \t stddev shape (4, ?, 2)\n",
      "   from MVN :  \t mvn.batch_shape: (?, ?) \t mvn.event_shape  (2,)\n",
      "   Linear OP shape       (4, ?, 2, 2)  Linear Op batch shape  (4, ?)\n",
      "   Linear op Range Dim   2\n",
      "   Linear op Domain Dim  2\n",
      "   >> input to MVN.PROB: pos_grid (meshgrid) shape:  (128, 128, 4, 32, 2)\n",
      "   << output probabilities shape: (128, 128, 4, 32)\n",
      "   trans_grid shape   :  (4, 32, 128, 128)\n",
      "   gaussian_grid      :  (4, 32, 128, 128)\n",
      "   class shape        :  (4, ?)\n",
      "   roi_grid shape     :  (4, 32)\n",
      "   batch_grid shape   :  (4, 32)\n",
      "   scatter_classes    :  (4, 32, 3)\n",
      "   gaussian scattered :  (4, 4, 32, 128, 128)\n",
      "   gaussian_sum shape :  (4, 4, 128, 128)\n",
      "    means  :  (4, ?, 2)     covar :  (4, ?, 2)\n",
      " shape of pcn_tnesor2, cls_cnt2    (4, 4, 32, 8) (4, 4)\n",
      " shape of gt_tnesor2, gt_cls_cnt2  (4, 4, 100, 8) (4, 4)\n",
      " shape of pcn_scatter is    <unknown>\n",
      " shape of pcn_scatter_2 is  (4, 4, 32, 128, 128)\n",
      " shape of pcn_gaussian is   <unknown>\n",
      " shape of pcn_gaussian_2    (4, 4, 128, 128)\n",
      ">>> rpn_bbox_loss_graph\n",
      "    rpn_match size : (?, ?)\n",
      "    rpn_bbox  size : (?, ?, 4)\n",
      "    tf default session:  <tensorflow.python.client.session.InteractiveSession object at 0x000001D899973EB8>\n",
      ">>> rpn_bbox_loss_graph\n",
      "    rpn_match size : (?, ?)\n",
      "    rpn_bbox  size : (?, ?, 4)\n",
      "    tf default session:  <tensorflow.python.client.session.InteractiveSession object at 0x000001D899973EB8>\n",
      ">>> rpn_bbox_loss_graph_old\n",
      "    rpn_match size    :  (?, ?)\n",
      "    rpn_bbox  size    :  (?, ?, 4)\n",
      "    target_bbox size n:  (?, ?, 4)\n",
      ">>> rpn_bbox_loss_graph_old\n",
      "    rpn_match size    :  (?, ?)\n",
      "    rpn_bbox  size    :  (?, ?, 4)\n",
      "    target_bbox size n:  (?, ?, 4)\n",
      ">>> mrcnn_class_loss_graph \n",
      "    target_class_ids  size : (4, ?)\n",
      "    pred_class_logits size : (?, 32, 4)\n",
      "    active_class_ids  size : (?, ?)\n",
      ">>> mrcnn_class_loss_graph \n",
      "    target_class_ids  size : (?, 1)\n",
      "    pred_class_logits size : (?, 32, 4)\n",
      "    active_class_ids  size : (?, ?)\n",
      ">>> mrcnn_bbox_loss_graph \n",
      "    target_class_ids  size : (4, ?)\n",
      "    pred_bbox size         : (?, 32, 4, 4)\n",
      "    target_bbox size       : (4, ?, ?)\n",
      ">>> mrcnn_bbox_loss_graph \n",
      "    target_class_ids  size : (?, 1)\n",
      "    pred_bbox size         : (?, 32, 4, 4)\n",
      "    target_bbox size       : (?, 32, 4)\n",
      ">>> mrcnn_mask_loss_graph \n",
      "    target_class_ids size : (4, ?)\n",
      "    target_masks     size : (4, ?, ?, ?)\n",
      "    pred_masks       size : (?, 32, 28, 28, 4)\n"
     ]
    },
    {
     "name": "stdout",
     "output_type": "stream",
     "text": [
      ">>> mrcnn_mask_loss_graph \n",
      "    target_class_ids size : (?, 1)\n",
      "    target_masks     size : (?, 32, 28, 28)\n",
      "    pred_masks       size : (?, 32, 28, 28, 4)\n",
      ">>> MaskRCNN build complete\n",
      ">>> MaskRCNN initialization complete\n",
      ">>> find_last checkpoint file() \n",
      "    find_last info:   dir_name: E:\\Models\\mrcnn_logs\\shapes20180313T1856\n",
      "    find_last info: checkpoint: E:\\Models\\mrcnn_logs\\shapes20180313T1856\\mask_rcnn_shapes_0242.h5\n",
      ">>> load_weights()\n",
      "    load_weights: Loading weights from: E:\\Models\\mrcnn_logs\\shapes20180313T1856\\mask_rcnn_shapes_0242.h5\n",
      "    load_weights: Log directory set to : E:\\Models\\mrcnn_logs\\shapes20180313T1856\\mask_rcnn_shapes_0242.h5\n",
      ">>> Set_log_dir() -- model dir is  E:\\Models\\mrcnn_logs\n",
      "    set_log_dir: model_path (input) is : E:/Models/mrcnn_logs/shapes20180313T1856/mask_rcnn_shapes_0242.h5  \n",
      "    set_log_dir: self.epoch set to 243  (Next epoch to run)\n",
      "    set_log_dir: tensorboard path: E:\\Models\\mrcnn_logs\\tensorboard\n",
      "    set_log_dir: Checkpoint path set to : E:\\Models\\mrcnn_logs\\shapes20180313T1856\\mask_rcnn_shapes_{epoch:04d}.h5\n",
      ">>> Load weights complete\n",
      "Compile with learing rate; 0.001 Learning Moementum: 0.9 \n",
      "Checkpoint Folder:  E:\\Models\\mrcnn_logs\\shapes20180313T1856\\mask_rcnn_shapes_{epoch:04d}.h5 \n",
      "\n",
      "Selecting layers to train\n",
      "Layer    Layer Name               Layer Type\n",
      "174  fpn_c5p5               (Conv2D)\n",
      "176  fpn_c4p4               (Conv2D)\n",
      "179  fpn_c3p3               (Conv2D)\n",
      "182  fpn_c2p2               (Conv2D)\n",
      "184  fpn_p5                 (Conv2D)\n",
      "185  fpn_p2                 (Conv2D)\n",
      "186  fpn_p3                 (Conv2D)\n",
      "187  fpn_p4                 (Conv2D)\n",
      "In model:  rpn_model\n",
      "      1  rpn_conv_shared        (Conv2D)\n",
      "      2  rpn_class_raw          (Conv2D)\n",
      "      4  rpn_bbox_pred          (Conv2D)\n",
      "199  mrcnn_mask_conv1       (TimeDistributed)\n",
      "200  mrcnn_mask_bn1         (TimeDistributed)\n",
      "202  mrcnn_mask_conv2       (TimeDistributed)\n",
      "204  mrcnn_mask_bn2         (TimeDistributed)\n",
      "205  mrcnn_class_conv1      (TimeDistributed)\n",
      "207  mrcnn_class_bn1        (TimeDistributed)\n",
      "208  mrcnn_mask_conv3       (TimeDistributed)\n",
      "210  mrcnn_mask_bn3         (TimeDistributed)\n",
      "211  mrcnn_class_conv2      (TimeDistributed)\n",
      "213  mrcnn_class_bn2        (TimeDistributed)\n",
      "214  mrcnn_mask_conv4       (TimeDistributed)\n",
      "216  mrcnn_mask_bn4         (TimeDistributed)\n",
      "219  mrcnn_class_logits     (TimeDistributed)\n",
      "220  mrcnn_bbox_fc          (TimeDistributed)\n",
      "221  mrcnn_mask_deconv      (TimeDistributed)\n",
      "227  mrcnn_mask             (TimeDistributed)\n"
     ]
    }
   ],
   "source": [
    "try :\n",
    "    del model, train_generator, val_generator, mm\n",
    "    gc.collect()\n",
    "except: \n",
    "    pass\n",
    "\n",
    "model = modellib.MaskRCNN(mode=\"training\", config=config, model_dir=MODEL_DIR)\n",
    "#model.keras_model.summary(line_length = 120) \n",
    "\n",
    "# Which weights to start with?\n",
    "init_with = \"last\"  # imagenet, coco, or last\n",
    "if init_with == \"coco\":\n",
    "    # Load weights trained on MS COCO, but skip layers that are different due to the different number of classes\n",
    "    # See README for instructions to download the COCO weights\n",
    "    loc=model.load_weights(COCO_MODEL_PATH, by_name=True,\n",
    "                       exclude=[\"mrcnn_class_logits\", \"mrcnn_bbox_fc\", \n",
    "                                \"mrcnn_bbox\", \"mrcnn_mask\"])\n",
    "elif init_with == \"last\":\n",
    "    # Load the last model you trained and continue training\n",
    "    loc= model.load_weights(model.find_last()[1], by_name=True)\n",
    "\n",
    "model.compile_only(learning_rate=config.LEARNING_RATE, layers='heads')\n",
    "KB.set_learning_phase(1)"
   ]
  },
  {
   "cell_type": "markdown",
   "metadata": {},
   "source": [
    "###  Print some model information "
   ]
  },
  {
   "cell_type": "code",
   "execution_count": null,
   "metadata": {},
   "outputs": [],
   "source": [
    "\n",
    "# mm = model.keras_model\n",
    "# print('\\n Learning phase values is L ' ,KB.learning_phase())\n",
    "# print('\\n Metrics (_get_deduped_metrics_names():) ') \n",
    "# pp.pprint(mm._get_deduped_metrics_names())\n",
    "# print('\\n Outputs: ') \n",
    "# pp.pprint(mm.outputs)\n",
    "# print('\\n Losses (model.metrics_names): ') \n",
    "# pp.pprint(mm.metrics_names)\n",
    "\n",
    "# model.keras_model.summary(line_length = 120) "
   ]
  },
  {
   "cell_type": "markdown",
   "metadata": {},
   "source": [
    "### Define Data Generator"
   ]
  },
  {
   "cell_type": "code",
   "execution_count": 9,
   "metadata": {
    "ExecuteTime": {
     "end_time": "2018-04-15T18:27:58.619142Z",
     "start_time": "2018-04-15T18:27:58.382514Z"
    },
    "scrolled": true
   },
   "outputs": [],
   "source": [
    "train_generator = data_generator(dataset_train, model.config, shuffle=True,\n",
    "                                 batch_size=model.config.BATCH_SIZE,\n",
    "                                 augment = False)\n",
    "val_generator = data_generator(dataset_val, model.config, shuffle=True, \n",
    "                                batch_size=model.config.BATCH_SIZE,\n",
    "                                augment=False)"
   ]
  },
  {
   "cell_type": "markdown",
   "metadata": {},
   "source": [
    "### Get next shapes from generator and display loaded shapes"
   ]
  },
  {
   "cell_type": "code",
   "execution_count": 10,
   "metadata": {
    "ExecuteTime": {
     "end_time": "2018-04-15T18:28:00.449010Z",
     "start_time": "2018-04-15T18:28:00.203371Z"
    },
    "scrolled": false
   },
   "outputs": [
    {
     "name": "stdout",
     "output_type": "stream",
     "text": [
      ">>> Generate pyramid anchors \n",
      "    Size of anchor array is : (4092, 4)\n"
     ]
    }
   ],
   "source": [
    "train_batch_x, train_batch_y = next(train_generator)"
   ]
  },
  {
   "cell_type": "markdown",
   "metadata": {},
   "source": [
    "### Display loaded shapes"
   ]
  },
  {
   "cell_type": "code",
   "execution_count": 11,
   "metadata": {
    "ExecuteTime": {
     "end_time": "2018-04-15T18:28:03.336695Z",
     "start_time": "2018-04-15T18:28:01.932983Z"
    }
   },
   "outputs": [
    {
     "name": "stdout",
     "output_type": "stream",
     "text": [
      "Image id:  371\n",
      "Image meta [371 128 128   3   0   0 128 128   1   1   1   1]\n",
      "[1 2]\n"
     ]
    },
    {
     "data": {
      "image/png": "[encoded data removed]",
      "text/plain": [
       "<matplotlib.figure.Figure at 0x1d89684a630>"
      ]
     },
     "metadata": {},
     "output_type": "display_data"
    },
    {
     "name": "stdout",
     "output_type": "stream",
     "text": [
      "Image id:  222\n",
      "Image meta [222 128 128   3   0   0 128 128   1   1   1   1]\n",
      "[2 3 1 2]\n"
     ]
    },
    {
     "data": {
      "image/png": "[encoded data removed]",
      "text/plain": [
       "<matplotlib.figure.Figure at 0x1d89ac86748>"
      ]
     },
     "metadata": {},
     "output_type": "display_data"
    },
    {
     "name": "stdout",
     "output_type": "stream",
     "text": [
      "Image id:  259\n",
      "Image meta [259 128 128   3   0   0 128 128   1   1   1   1]\n",
      "[1 3 1]\n"
     ]
    },
    {
     "data": {
      "image/png": "[encoded data removed]",
      "text/plain": [
       "<matplotlib.figure.Figure at 0x1d89ad4c1d0>"
      ]
     },
     "metadata": {},
     "output_type": "display_data"
    },
    {
     "name": "stdout",
     "output_type": "stream",
     "text": [
      "Image id:  1\n",
      "Image meta [  1 128 128   3   0   0 128 128   1   1   1   1]\n",
      "[2 2 3]\n"
     ]
    },
    {
     "data": {
      "image/png": "[encoded data removed]",
      "text/plain": [
       "<matplotlib.figure.Figure at 0x1d89afcb6a0>"
      ]
     },
     "metadata": {},
     "output_type": "display_data"
    }
   ],
   "source": [
    "# train_batch_x, train_batch_y = next(train_generator)\n",
    "imgmeta_idx = model.keras_model.input_names.index('input_image_meta')\n",
    "img_meta    = train_batch_x[imgmeta_idx]\n",
    "\n",
    "for img_idx in range(config.BATCH_SIZE):\n",
    "    image_id = img_meta[img_idx,0]\n",
    "    print('Image id: ',image_id)\n",
    "    print('Image meta', img_meta[img_idx])\n",
    "    image = dataset_train.load_image(image_id)\n",
    "    mask, class_ids = dataset_train.load_mask(image_id)\n",
    "    print(class_ids)\n",
    "    visualize.display_top_masks(image, mask, class_ids, dataset_train.class_names)\n",
    "\n"
   ]
  },
  {
   "cell_type": "code",
   "execution_count": null,
   "metadata": {},
   "outputs": [],
   "source": [
    "# from   mrcnn.utils            import parse_image_meta_graph\n",
    "# a,b,c,d = parse_image_meta_graph(img_meta)"
   ]
  },
  {
   "cell_type": "markdown",
   "metadata": {},
   "source": [
    "### Push Data thru model using get_layer_output()"
   ]
  },
  {
   "cell_type": "code",
   "execution_count": 12,
   "metadata": {
    "ExecuteTime": {
     "end_time": "2018-04-15T18:28:05.502458Z",
     "start_time": "2018-04-15T18:28:05.270843Z"
    }
   },
   "outputs": [],
   "source": [
    "from mrcnn.callbacks import get_layer_output_1,get_layer_output_2\n",
    "np.set_printoptions(linewidth=100,precision=4)\n",
    "pp = pprint.PrettyPrinter(indent=4)"
   ]
  },
  {
   "cell_type": "code",
   "execution_count": 13,
   "metadata": {
    "ExecuteTime": {
     "end_time": "2018-04-15T18:28:10.920874Z",
     "start_time": "2018-04-15T18:28:06.921233Z"
    },
    "scrolled": false
   },
   "outputs": [
    {
     "name": "stdout",
     "output_type": "stream",
     "text": [
      "/* Inputs */\n",
      "Input 0:  (input_image             ) \t  Input shape: (4, 128, 128, 3)\n",
      "Input 1:  (input_image_meta        ) \t  Input shape: (4, 12)\n",
      "Input 2:  (input_rpn_match         ) \t  Input shape: (4, 4092, 1)\n",
      "Input 3:  (input_rpn_bbox          ) \t  Input shape: (4, 256, 4)\n",
      "Input 4:  (input_gt_class_ids      ) \t  Input shape: (4, 100)\n",
      "Input 5:  (input_gt_boxes          ) \t  Input shape: (4, 100, 4)\n",
      "Input 6:  (input_gt_masks          ) \t  Input shape: (4, 56, 56, 100)\n",
      "num rois : 32\n",
      "===  Build Gaussian np for detected rois =========================\n",
      "   input_tensor shape is  (4, 4, 32, 8)\n",
      "   num of bboxes per class is :  32\n",
      " COVARIANCE SHAPE: (32, 2)\n",
      "====> Img:  0\n",
      " ===> mns shape  (32, 2) coar.shape  (32, 2)\n",
      "  pdf_arr.shape :  (128, 128, 30)\n",
      "   *** img:  0  cls: 0   [ 0  1  2  3  4  5  6  7  8  9 10 11 12 13 14 15 16 17 18 19 20]\n",
      "   *** img:  0  cls: 1   [21 22 23 24 25 26 27]\n",
      "   *** img:  0  cls: 2   [28 29]\n",
      "   *** img:  0  cls: 3   []\n",
      "====> Img:  1\n",
      " ===> mns shape  (32, 2) coar.shape  (32, 2)\n",
      "  pdf_arr.shape :  (128, 128, 30)\n",
      "   *** img:  1  cls: 0   [ 0  1  2  3  4  5  6  7  8  9 10 11 12 13]\n",
      "   *** img:  1  cls: 1   [14 15 16 17 18]\n",
      "   *** img:  1  cls: 2   [19 20 21 22]\n",
      "   *** img:  1  cls: 3   [23 24 25 26 27 28 29]\n",
      "====> Img:  2\n",
      " ===> mns shape  (32, 2) coar.shape  (32, 2)\n",
      "  pdf_arr.shape :  (128, 128, 30)\n",
      "   *** img:  2  cls: 0   [ 0  1  2  3  4  5  6  7  8  9 10 11 12 13 14 15 16 17 18 19]\n",
      "   *** img:  2  cls: 1   []\n",
      "   *** img:  2  cls: 2   [20 21 22 23 24 25]\n",
      "   *** img:  2  cls: 3   [26 27 28 29]\n",
      "====> Img:  3\n",
      " ===> mns shape  (32, 2) coar.shape  (32, 2)\n",
      "  pdf_arr.shape :  (128, 128, 30)\n",
      "   *** img:  3  cls: 0   [ 0  1  2  3  4  5  6  7  8  9 10 11 12 13 14 15 16 17]\n",
      "   *** img:  3  cls: 1   [18 19 20 21 22 23 24 25 26 27]\n",
      "   *** img:  3  cls: 2   []\n",
      "   *** img:  3  cls: 3   [28 29]\n",
      "Zout shape: (4, 4, 128, 128)\n",
      "covar_arrc :  (4, 32, 2)   means_arr shae (4, 32, 2)\n",
      "pdf_arr :  float64\n",
      "   pred scatter :  (128, 128, 30)    pcn gaussian :  (4, 4, 128, 128)\n",
      "   pred means  :  (4, 32, 2)     covar :  (4, 32, 2)\n",
      "==-  Build Gaussian np for ground_truth ==========================\n",
      "   input_tensor shape is  (4, 4, 100, 8)\n",
      "   num of bboxes per class is :  100\n",
      " COVARIANCE SHAPE: (100, 2)\n",
      "====> Img:  0\n",
      " ===> mns shape  (100, 2) coar.shape  (100, 2)\n",
      "  pdf_arr.shape :  (128, 128, 2)\n",
      "   *** img:  0  cls: 1   0\n",
      "   *** img:  0  cls: 2   1\n",
      "   *** img:  0  cls: 3   []\n",
      "====> Img:  1\n",
      " ===> mns shape  (100, 2) coar.shape  (100, 2)\n",
      "  pdf_arr.shape :  (128, 128, 4)\n",
      "   *** img:  1  cls: 1   0\n",
      "   *** img:  1  cls: 2   [1 2]\n",
      "   *** img:  1  cls: 3   3\n",
      "====> Img:  2\n",
      " ===> mns shape  (100, 2) coar.shape  (100, 2)\n",
      "  pdf_arr.shape :  (128, 128, 3)\n",
      "   *** img:  2  cls: 1   [0 1]\n",
      "   *** img:  2  cls: 2   []\n",
      "   *** img:  2  cls: 3   2\n",
      "====> Img:  3\n",
      " ===> mns shape  (100, 2) coar.shape  (100, 2)\n",
      "  pdf_arr.shape :  (128, 128, 3)\n",
      "   *** img:  3  cls: 1   []\n",
      "   *** img:  3  cls: 2   [0 1]\n",
      "   *** img:  3  cls: 3   2\n",
      "Zout shape: (4, 4, 128, 128)\n",
      "covar_arrc :  (4, 100, 2)   means_arr shae (4, 100, 2)\n",
      "pdf_arr :  float64\n",
      "   gt scatter :  (128, 128, 3)    gt gaussian :  (4, 4, 128, 128)\n",
      "   gt means   :  (4, 100, 2)    gt covar :  (4, 100, 2)\n",
      "\n",
      "/* Outputs */\n",
      "Output 0: (output_rois             ) \t  Output shape: (4, 32, 4)\n",
      "Output 1: (proposal_targets        ) \t  Output shape: (4, 32)\n",
      "Output 2: (proposal_targets        ) \t  Output shape: (4, 32, 4)\n",
      "Output 3: (proposal_targets        ) \t  Output shape: (4, 32, 28, 28)\n",
      "Output 4: (cntxt_layer             ) \t  Output shape: (4, 4, 128, 128)\n",
      "Output 5: (cntxt_layer             ) \t  Output shape: (4, 32, 2)\n",
      "Output 6: (cntxt_layer             ) \t  Output shape: (4, 32, 2)\n",
      "Output 7: (cntxt_layer             ) \t  Output shape: (4, 4, 128, 128)\n",
      "Output 8: (cntxt_layer             ) \t  Output shape: (4, 100, 2)\n",
      "Output 9: (cntxt_layer             ) \t  Output shape: (4, 100, 2)\n",
      "Output 10: (cntxt_layer             ) \t  Output shape: (4, 4, 32, 8)\n",
      "Output 11: (cntxt_layer             ) \t  Output shape: (4, 4)\n",
      "Output 12: (cntxt_layer             ) \t  Output shape: (4, 4, 100, 8)\n",
      "Output 13: (cntxt_layer             ) \t  Output shape: (4, 4)\n",
      "Output 14: (cntxt_layer_2           ) \t  Output shape: (4, 4, 128, 128)\n",
      "Output 15: (cntxt_layer_2           ) \t  Output shape: (4, 32, 2)\n",
      "Output 16: (cntxt_layer_2           ) \t  Output shape: (4, 32, 2)\n",
      "Output 17: (cntxt_layer_2           ) \t  Output shape: (4, 4, 32, 8)\n",
      "Output 18: (cntxt_layer_2           ) \t  Output shape: (4, 4)\n",
      "Output 19: (cntxt_layer_2           ) \t  Output shape: (4, 4, 100, 8)\n",
      "Output 20: (cntxt_layer_2           ) \t  Output shape: (4, 4)\n",
      "Output 21: (rpn_class_logits        ) \t  Output shape: (4, 4092, 2)\n",
      "Output 22: (proposal_rois           ) \t  Output shape: (4, 2000, 4)\n",
      "Output 23: (rpn_class               ) \t  Output shape: (4, 4092, 2)\n",
      "Output 24: (rpn_bbox                ) \t  Output shape: (4, 4092, 4)\n",
      "Output 25: (mrcnn_class_logits      ) \t  Output shape: (4, 32, 4)\n",
      "Output 26: (mrcnn_class             ) \t  Output shape: (4, 32, 4)\n",
      "Output 27: (mrcnn_bbox              ) \t  Output shape: (4, 32, 4, 4)\n",
      "Output 28: (mrcnn_mask              ) \t  Output shape: (4, 32, 28, 28, 4)\n",
      "Output 29: (rpn_class_loss          ) \t  Output shape: ()\n",
      "Output 30: (rpn_bbox_loss           ) \t  Output shape: ()\n",
      "Output 31: (rpn_bbox_loss_old       ) \t  Output shape: ()\n",
      "Output 32: (mrcnn_class_loss        ) \t  Output shape: (1, 1)\n",
      "Output 33: (mrcnn_bbox_loss         ) \t  Output shape: (1, 1)\n",
      "Output 34: (mrcnn_mask_loss         ) \t  Output shape: (1, 1)\n"
     ]
    }
   ],
   "source": [
    "layers_out = get_layer_output_2(model.keras_model, train_batch_x, 1)\n"
   ]
  },
  {
   "cell_type": "markdown",
   "metadata": {},
   "source": [
    "### Control pred_tensor / pred_tensor2"
   ]
  },
  {
   "cell_type": "code",
   "execution_count": null,
   "metadata": {},
   "outputs": [],
   "source": [
    "for i in range(100):\n",
    "    train_batch_x, train_batch_y = next(train_generator)\n",
    "\n",
    "    layers_out = get_layer_output_2(model.keras_model, train_batch_x, 1, verbose = False)\n",
    "\n",
    "    pt   = layers_out[8]   # pred_tensor\n",
    "    pcc  = layers_out[9]   # pred_cls_cnt\n",
    "\n",
    "    pt2  = layers_out[12]  # pred_TNESOR_2\n",
    "    pcc2 = layers_out[13]  # pred_cls_cnt_2\n",
    "\n",
    "    # print( pt2.shape, pcc2.shape)\n",
    "    # print( pt.shape, pcc.shape)\n",
    "    # print(pc2)\n",
    "\n",
    "    for img in range(config.BATCH_SIZE):\n",
    "        for cls in range(4):\n",
    "        #     print(pt2[img][cls])\n",
    "        #     print(pt[img][cls])\n",
    "            equal = np.all(pt2[img][cls]== pt[img][cls,:,:7], axis = -1)\n",
    "\n",
    "            if (~equal.all()):\n",
    "                print(' Iteration', i , 'Image ',img,' Class ',cls, ' ALL EQUAL: ',equal.all())\n",
    "                print(equal)\n",
    "                print('\\n -- using numpy \\n',pt[img][cls,~equal,:-1])\n",
    "                print('\\n -- using tensorflow \\n',pt2[img][cls,~equal])\n",
    "                print()\n",
    "    #             print('\\n -- using numpy \\n',pt[img][cls])            \n",
    "    #             print('\\n -- using tensorflow \\n',pt2[img][cls])\n",
    "    "
   ]
  },
  {
   "cell_type": "markdown",
   "metadata": {},
   "source": [
    "### Control means, covar / means2, covar2"
   ]
  },
  {
   "cell_type": "code",
   "execution_count": null,
   "metadata": {
    "ExecuteTime": {
     "end_time": "2018-04-15T15:06:35.104017Z",
     "start_time": "2018-04-15T15:06:34.838337Z"
    },
    "scrolled": true
   },
   "outputs": [],
   "source": [
    "mns  = layers_out[5]   # pred_tensor\n",
    "cov  = layers_out[6]   # pred_cls_cnt\n",
    "\n",
    "mns2 = layers_out[15]  # pred_TNESOR_2\n",
    "cov2 = layers_out[16]  # pred_cls_cnt_2\n",
    "\n",
    "\n",
    "print( mns.shape, mns2.shape)\n",
    "# print( pt.shape, pcc.shape)\n",
    "# print(pc2)\n",
    "\n",
    "for img in range(config.BATCH_SIZE):\n",
    "    for cls in range(4):\n",
    "        equal = np.all(mns[img][cls]== mns2[img][cls], axis = -1)\n",
    "        print('Image ',img,' Class ',cls, ' ALL EQUAL: ',equal.all())\n",
    "#         print('mns  :')\n",
    "#         print(mns[img])\n",
    "#         print('mns2 :')\n",
    "#         print(mns2[img])\n",
    "\n",
    "        if (~equal.all()):\n",
    "            print('Image ',img,' Class ',cls, ' ALL EQUAL: ',equal.all())\n",
    "            print(equal)\n",
    "            print('\\n -- numpy      \\n', mns[img][cls,~equal,:-1])\n",
    "            print('\\n -- tensorflow \\n', mns2[img][cls,~equal])\n",
    "            print()\n",
    "#             print('\\n -- using numpy \\n',pt[img][cls])            \n",
    "#             print('\\n -- using tensorflow \\n',pt2[img][cls])\n",
    "    "
   ]
  },
  {
   "cell_type": "markdown",
   "metadata": {},
   "source": [
    "### Control pred_tesnor / pred_tensor2"
   ]
  },
  {
   "cell_type": "code",
   "execution_count": null,
   "metadata": {
    "ExecuteTime": {
     "end_time": "2018-04-15T15:06:50.640259Z",
     "start_time": "2018-04-15T15:06:50.384581Z"
    },
    "scrolled": false
   },
   "outputs": [],
   "source": [
    "pt   = layers_out[10]   # pred_tensor\n",
    "pt2  = layers_out[17]   # pred_cls_cnt\n",
    " \n",
    "# print( pt2.shape, pcc2.shape)\n",
    "print( pt.shape, pt2.shape)\n",
    "# print(pc2)\n",
    "\n",
    "for img in range(config.BATCH_SIZE):\n",
    "    for cls in range(4):\n",
    "        equal = np.all(pt[img][cls,:,1:7] == pt2[img][cls,:,1:7], axis = -1)\n",
    "        print('Image ',img,' Class ',cls, ' ALL EQUAL: ',equal.all())\n",
    "#         print( pt[img,cls])\n",
    "#         print()\n",
    "#         print(pt2[img,cls])\n",
    "\n",
    "\n",
    "\n",
    "        if (~equal.all()):\n",
    "#             print('Image ',img,' Class ',cls, ' ALL EQUAL: ',equal.all())\n",
    "            print(equal)\n",
    "            print('\\n -- using numpy (pt) \\n',pt[img][cls,~equal,:-1])\n",
    "            print('\\n -- using tensorflow (pt2) \\n',pt2[img][cls,~equal])\n",
    "            print()\n",
    "#             print('\\n -- using numpy \\n',pt[img][cls])            \n",
    "#             print('\\n -- using tensorflow \\n',pt2[img][cls])\n",
    "    "
   ]
  },
  {
   "cell_type": "markdown",
   "metadata": {},
   "source": [
    "### Control pred_cls_cnt / pred_cls_cnt2"
   ]
  },
  {
   "cell_type": "code",
   "execution_count": null,
   "metadata": {
    "ExecuteTime": {
     "end_time": "2018-04-15T15:06:58.113148Z",
     "start_time": "2018-04-15T15:06:57.869495Z"
    }
   },
   "outputs": [],
   "source": [
    " \n",
    "\n",
    "pt  = layers_out[11]   # pred_cls_cnt\n",
    "pt2 = layers_out[18]  # pred_cls_cnt_2\n",
    "\n",
    "\n",
    "# print( pt2.shape, pcc2.shape)\n",
    "# print( pt.shape, pcc.shape)\n",
    "# print(pc2)\n",
    "\n",
    "for img in range(config.BATCH_SIZE):\n",
    "    print('  pt2  ', pt2[img])\n",
    "    print('  pt   ', pt[img])\n",
    "    equal = np.all(pt2[img]== pt[img], axis = -1)\n",
    "\n",
    "    if (~equal.all()):\n",
    "        print('Image ',img, ' ALL EQUAL: ',equal.all())\n",
    "        print(equal)\n",
    "        print('\\n -- using numpy \\n',pt[img][~equal])\n",
    "        print('\\n -- using tensorflow \\n',pt2[img][~equal])\n",
    "        print()\n",
    "#             print('\\n -- using numpy \\n',pt[img][cls])            \n",
    "#             print('\\n -- using tensorflow \\n',pt2[img][cls])\n",
    "    "
   ]
  },
  {
   "cell_type": "markdown",
   "metadata": {},
   "source": [
    "###  pred_gaussian / pred_gaussian2"
   ]
  },
  {
   "cell_type": "code",
   "execution_count": null,
   "metadata": {
    "ExecuteTime": {
     "end_time": "2018-04-15T15:07:13.081003Z",
     "start_time": "2018-04-15T15:07:12.526493Z"
    },
    "scrolled": true
   },
   "outputs": [],
   "source": [
    "pt   = layers_out[4]   # pred_gaussian \n",
    "pt2  = layers_out[14]  # pred_gaussian_2\n",
    "\n",
    "print( ' pt shape ', pt.shape, ' pt2.shape ', pt2.shape)\n",
    "\n",
    "for img in range(config.BATCH_SIZE):\n",
    "    print(' from np ')\n",
    "    print(pt[img])\n",
    "    print(' from tensorflow')\n",
    "    print(pt2[img])\n",
    "\n",
    "    for cls in range(4):\n",
    "\n",
    "        equal = np.all(pt2[img, cls]== pt[img, cls], axis = -1)\n",
    "        \n",
    "# #         print('\\n -- using numpy \\n',pt[img][cls])            \n",
    "# #         print('\\n -- using tensorflow \\n',pt2[img][cls])\n",
    "        print( 'Image ',img,' Class ',cls, ' ALL EQUAL: ',equal.all())\n",
    "        \n",
    "        \n",
    "#         if (~equal.all()):\n",
    "#             print( 'Image ',img,' Class ',cls, ' ALL EQUAL: ',equal.all())\n",
    "#             print(equal)\n",
    "#             print('\\n -- using numpy \\n',pt[img][cls,~equal,:-1])\n",
    "#             print('\\n -- using tensorflow \\n',pt2[img][cls,~equal])\n",
    "#             print()\n",
    "# #             print('\\n -- using numpy \\n',pt[img][cls])            \n",
    "# #             print('\\n -- using tensorflow \\n',pt2[img][cls])\n",
    "    "
   ]
  },
  {
   "cell_type": "code",
   "execution_count": null,
   "metadata": {},
   "outputs": [],
   "source": [
    "out_rois = layers_out[0]\n",
    "out_rois[0] * np.array([128,128,128,128])  "
   ]
  },
  {
   "cell_type": "code",
   "execution_count": null,
   "metadata": {
    "ExecuteTime": {
     "end_time": "2018-04-15T15:09:14.721145Z",
     "start_time": "2018-04-15T15:09:13.976134Z"
    }
   },
   "outputs": [],
   "source": [
    "imgmeta_idx = model.keras_model.input_names.index('input_image_meta')\n",
    "img_meta    = train_batch_x[imgmeta_idx]\n",
    "\n",
    "image_id = img_meta[0,0]\n",
    "print('Image id: ',image_id)\n",
    "image = dataset_train.load_image(image_id)\n",
    "mask, class_ids = dataset_train.load_mask(image_id)\n",
    "visualize.display_top_masks(image, mask, class_ids, dataset_train.class_names)\n",
    "\n",
    "image_id = img_meta[1,0]\n",
    "print('Image id: ',image_id)\n",
    "image = dataset_train.load_image(image_id)\n",
    "mask, class_ids = dataset_train.load_mask(image_id)\n",
    "visualize.display_top_masks(image, mask, class_ids, dataset_train.class_names)"
   ]
  },
  {
   "cell_type": "markdown",
   "metadata": {},
   "source": [
    "#### Plot mask in string format"
   ]
  },
  {
   "cell_type": "code",
   "execution_count": null,
   "metadata": {
    "scrolled": false
   },
   "outputs": [],
   "source": [
    "# np.set_printoptions(threshold=99999, linewidth=2000)\n",
    "# print(np.array2string(mask[...,0],max_line_width=2000,separator=''))\n",
    " "
   ]
  },
  {
   "cell_type": "code",
   "execution_count": null,
   "metadata": {},
   "outputs": [],
   "source": [
    "outmask0 = layers_out[14][0,:,:,:,1] ##  mrcnn_mask\n",
    "np.max(outmask0)"
   ]
  },
  {
   "cell_type": "markdown",
   "metadata": {},
   "source": [
    "### Plot Predicition Probability Tensors"
   ]
  },
  {
   "cell_type": "code",
   "execution_count": null,
   "metadata": {
    "ExecuteTime": {
     "end_time": "2018-04-15T16:45:41.229179Z",
     "start_time": "2018-04-15T16:45:33.040392Z"
    },
    "scrolled": false
   },
   "outputs": [],
   "source": [
    "%matplotlib notebook\n",
    "from mrcnn.visualize import plot_gaussian\n",
    "Zout = layers_out[4]\n",
    "Zout2 = layers_out[14]\n",
    "num_images = config.IMAGES_PER_GPU\n",
    "num_classes = config.NUM_CLASSES\n",
    "for img in range(num_images):\n",
    "    for cls in range(num_classes):\n",
    "        ttl = 'image :  {} class: {} '.format(img,cls)\n",
    "        plot_gaussian(Zout[img,cls], title = ttl)\n",
    "        plot_gaussian(Zout2[img,cls], title = ttl)        "
   ]
  },
  {
   "cell_type": "markdown",
   "metadata": {},
   "source": [
    "### Plot Ground Truth Probability tensors"
   ]
  },
  {
   "cell_type": "code",
   "execution_count": null,
   "metadata": {
    "ExecuteTime": {
     "end_time": "2018-04-15T15:11:10.262088Z",
     "start_time": "2018-04-15T15:11:06.423871Z"
    },
    "scrolled": false
   },
   "outputs": [],
   "source": [
    "# i = 1\n",
    "# print(layers_out[i].shape)      #[0,0,0:20, 0:20]\n",
    "Zout = layers_out[14]\n",
    "num_images = config.IMAGES_PER_GPU\n",
    "num_classes = config.NUM_CLASSES\n",
    "for img in range(num_images):\n",
    "    for cls in range(num_classes):\n",
    "        ttl = 'image :  {} class: {} '.format(img,cls)\n",
    "        plot_gaussian(Zout[img,cls], title = ttl)"
   ]
  },
  {
   "cell_type": "markdown",
   "metadata": {},
   "source": [
    "### Display predicted bounding boxes - calculate center and width/height of bboxes displayed "
   ]
  },
  {
   "cell_type": "code",
   "execution_count": null,
   "metadata": {},
   "outputs": [],
   "source": [
    "from mrcnn.utils import trim_zeros\n",
    "np.set_printoptions( edgeitems=32, suppress=True)\n",
    "pred_bb = layers_out[3]\n",
    "print(pred_bb.shape)\n",
    "x0 = [ trim_zeros((pred_bb[0,i,:,:])) for i in range(4)]\n",
    "ps0 = np.concatenate( x0, axis=0 )\n",
    "\n",
    "x1 = [ trim_zeros((pred_bb[1,i,:,:])) for i in range(4)]\n",
    "ps1 = np.concatenate( x1, axis=0 )\n",
    "# print(np.concatenate( x1, axis=0 ))\n",
    "print(ps0)\n",
    "print(ps0.shape)\n",
    "width  = ps0[:,5] - ps0[:,3]\n",
    "height = ps0[:,4] - ps0[:,2]\n",
    "cx     = ps0[:,3] + ( width  / 2.0)\n",
    "cy     = ps0[:,2] + ( height / 2.0)\n",
    "means0  = np.stack((cx,cy,width, height),axis = -1)\n",
    "print(means0)"
   ]
  },
  {
   "cell_type": "markdown",
   "metadata": {},
   "source": [
    "#### Output RoIs (Normalized)"
   ]
  },
  {
   "cell_type": "code",
   "execution_count": null,
   "metadata": {},
   "outputs": [],
   "source": [
    "output_rois = layers_out[0]\n",
    "output_rois[0,:,:]"
   ]
  },
  {
   "cell_type": "markdown",
   "metadata": {},
   "source": [
    "### Display ground truth bboxes from Shapes database (using load_image_gt)\n",
    "\n",
    "Here we are displaying the ground truth bounding boxes as provided by the dataset"
   ]
  },
  {
   "cell_type": "code",
   "execution_count": null,
   "metadata": {},
   "outputs": [],
   "source": [
    "image_id = img_meta[0,0]\n",
    "print('Image id: ',image_id)\n",
    "p_original_image, p_image_meta, p_gt_class_id, p_gt_bbox, p_gt_mask =  \\\n",
    "            load_image_gt(dataset_train, config, image_id, augment=False, use_mini_mask=True)\n",
    "# print(p_gt_class_id.shape, p_gt_bbox.shape, p_gt_mask.shape)\n",
    "print(p_gt_bbox)\n",
    "visualize.draw_boxes(p_original_image, p_gt_bbox)\n",
    "\n",
    "image_id = img_meta[1,0]\n",
    "print('Image id: ',image_id)\n",
    "p_original_image, p_image_meta, p_gt_class_id, p_gt_bbox, p_gt_mask =  \\\n",
    "            load_image_gt(dataset_train, config, image_id, augment=False, use_mini_mask=True)\n",
    "# print(p_gt_class_id.shape, p_gt_bbox.shape, p_gt_mask.shape)\n",
    "print(p_gt_bbox)\n",
    "visualize.draw_boxes(p_original_image, p_gt_bbox)"
   ]
  },
  {
   "cell_type": "markdown",
   "metadata": {},
   "source": [
    "### Display bboxes from Ground Truth Info - Input info Passed to Network \n",
    "\n",
    "layers_out[5]  gt_tensor is based on input_gt_class_ids and input_normlzd_gt_boxes\n",
    "\n",
    "Display the Ground Truth bounding boxes from the tensor we've constructed"
   ]
  },
  {
   "cell_type": "code",
   "execution_count": null,
   "metadata": {},
   "outputs": [],
   "source": [
    "np.set_printoptions(linewidth=120, precision=5)\n",
    "gt_bboxes = layers_out[5]  \n",
    "print(layers_out[5].shape)\n",
    "print(' gt_cls_cnt')\n",
    "print(layers_out[6])\n",
    "print(layers_out[5][1,3])"
   ]
  },
  {
   "cell_type": "code",
   "execution_count": null,
   "metadata": {},
   "outputs": [],
   "source": [
    "# print(gt_bboxes)\n",
    "# visualize.display_instances(p_original_image, p_gt_bbox, p_gt_mask, p_gt_class_id, \n",
    "#                             dataset_train.class_names, figsize=(8, 8))\n",
    "# pp.pprint(gt_bboxes)\n",
    "img = 0\n",
    "image_id = img_meta[img,0]\n",
    "print('Image id: ',image_id)\n",
    "p_image, p_image_meta, p_gt_class_id, p_gt_bbox, p_gt_mask =  \\\n",
    "            load_image_gt(dataset_train, config, image_id, augment=False, use_mini_mask=True)\n",
    "gt_bboxes = layers_out[5]\n",
    "print(gt_bboxes.shape)\n",
    "print(gt_bboxes[0,1,0:1,2:6])\n",
    "print(gt_bboxes[0,2,0:2,2:6])\n",
    "gt_bb = np.vstack((gt_bboxes[0,1,0:1,2:6],gt_bboxes[0,2,0:2,2:6],gt_bboxes[0,3,0:2,2:6]))\n",
    "gt_bb.shape\n",
    "visualize.draw_boxes(p_image, gt_bb)"
   ]
  },
  {
   "cell_type": "markdown",
   "metadata": {},
   "source": [
    "## Display RoI proposals generated\n",
    "\n",
    "Display bounding boxes from tensor of proposals produced by the network \n",
    "Square: 1 , Circle:2 , Triangle -3"
   ]
  },
  {
   "cell_type": "code",
   "execution_count": null,
   "metadata": {
    "scrolled": true
   },
   "outputs": [],
   "source": [
    "img = 0\n",
    "cls = 3  # <==== Class to dispaly\n",
    "image_id = img_meta[img,0]\n",
    "print('Image id: ',image_id)\n",
    "p_image, p_image_meta, p_gt_class_id, p_gt_bbox, p_gt_mask =  \\\n",
    "            load_image_gt(dataset_train, config, image_id, augment=False, use_mini_mask=True)\n",
    "\n",
    "pred_tensor = layers_out[3]\n",
    "caps = [str(cls)+'-'+str(x) for x in pred_tensor[img,cls,:,0].astype('int16').tolist() ]\n",
    "print(caps)\n",
    "# print(pc_tensor.pred_tensor[1,3,:])\n",
    "# print(pc_tensor.pred_tensor[1,3,:,2:6])\n",
    "visualize.draw_boxes(p_image, pred_tensor[img,cls,:,2:6], captions = caps)"
   ]
  },
  {
   "cell_type": "markdown",
   "metadata": {},
   "source": [
    "For each class:\n",
    "- determine the center of each bounding box.\n",
    "- center a 2d gaussian distribution with the mean = center of bounding box and sigma = height/width\n",
    "- place dist on mesh grid\n",
    "- normalize\n",
    "- draw heatmap"
   ]
  },
  {
   "cell_type": "code",
   "execution_count": null,
   "metadata": {},
   "outputs": [],
   "source": [
    "np.set_printoptions(precision=5)\n",
    "from mrcnn.pc_layer import PCTensor\n",
    "pc_tensor = PCTensor(model)\n",
    "pc_tensor.build_predictions(sample_x)\n",
    "print(pc_tensor.pred_stacked)    # list of tensors\n"
   ]
  },
  {
   "cell_type": "markdown",
   "metadata": {},
   "source": [
    "### Plot Image 0"
   ]
  },
  {
   "cell_type": "code",
   "execution_count": null,
   "metadata": {},
   "outputs": [],
   "source": [
    "from mrcnn.visualize import plot_gaussian\n",
    "num_images = config.IMAGES_PER_GPU\n",
    "num_classes = config.NUM_CLASSES\n",
    "for img in range(num_images):\n",
    "    for cls in range(num_classes):\n",
    "        ttl = 'image :  {} class: {} '.format(img,cls)\n",
    "        plot_gaussian(Zout1[img,cls], title = ttl)"
   ]
  },
  {
   "cell_type": "markdown",
   "metadata": {},
   "source": [
    "### Plot Image 1"
   ]
  },
  {
   "cell_type": "code",
   "execution_count": null,
   "metadata": {
    "scrolled": true
   },
   "outputs": [],
   "source": [
    "# img = 0\n",
    "# cls = 0\n",
    "# _cnt = pc_tensor.pred_cls_cnt[img,cls]\n",
    "# print(_cnt)\n",
    "# for box in range(_cnt):\n",
    "\n",
    "#     mns = means[img,cls, 0 : _cnt]\n",
    "#     print('img: ',img, 'class: ', cls, 'class count: ',_cnt, 'shape of mns :',mns.shape)\n",
    "#     # print('** bbox is : ' ,self.pred_tensor[img,cls,box])\n",
    "#     # print('    center is ({:4f},{:4f})  width is {:4f} height is {:4f} '\\\n",
    "#         # .format(mns[0],mns[1],width[img,cls,box],height[img,cls,box]))            \n",
    "#     # fn = lambda x: multivariate_normal(x, [[12,0.0] , [0.0,19]])\n",
    "#     # rv = tf.map_fn(fn, \n",
    "#     rv = np.apply_along_axis(multivariate_normal, 1, mns, [[12,0.0] , [0.0,19]])\n",
    "#     print('rv :',rv.shape, rv)\n",
    "#     _zo = rv.pdf(pos[img,cls])\n",
    "#     print('zo :',_zo.shape)"
   ]
  },
  {
   "cell_type": "code",
   "execution_count": null,
   "metadata": {},
   "outputs": [],
   "source": [
    "tfd = tf.contrib.distributions\n",
    "k_sess = KB.get_session()"
   ]
  },
  {
   "cell_type": "code",
   "execution_count": null,
   "metadata": {},
   "outputs": [],
   "source": [
    "# pp1 = tf.fill([1,1,32], 12.0)\n",
    "# pp2 = tf.fill([1,1,32], 19.0)\n",
    "# pp  = tf.cast(tf.stack((pp1,pp2),axis=-1), dtype=tf.float64)\n",
    "# tf.cast([12.0, 19.00], dtype=tf.float64)\n",
    "# pp1.eval(session = k_sess)\n",
    "\n",
    "# mvn = tfd.MultivariateNormalDiag(means[0,0,0,:],scale_diag=p1)\n",
    "# mvn = tfd.MultivariateNormalDiag(means[0,0,0,:],scale_diag=p1)\n",
    "\n",
    "# with k_sess.as_default():\n",
    "#     print(mvn.mean())\n",
    "#     print(mvn.batch_shape)\n",
    "#     print(mvn.event_shape)\n",
    "#     print(pos[0,0,:,0,0,:].shape)\n",
    "#     rr = mvn.prob(pos[0,0,:,0,0,:])\n",
    "#     print(rr)"
   ]
  },
  {
   "cell_type": "code",
   "execution_count": null,
   "metadata": {
    "scrolled": false
   },
   "outputs": [],
   "source": [
    "# %matplotlib notebook\n",
    "# from mrcnn.visualize import plot_gaussian\n",
    "# for i in range(0,config.IMAGES_PER_GPU):\n",
    "#     for j in range(0,config.NUM_CLASSES):\n",
    "#         ttl = 'image : {} class: {}'.format(i,j)\n",
    "#         plot_gaussian(Zout[i,j] , title = ttl )\n",
    "# # plot_gaussian(Zout[3])\n"
   ]
  },
  {
   "cell_type": "code",
   "execution_count": null,
   "metadata": {},
   "outputs": [],
   "source": [
    "# Zout = np.zeros((num_classes, 128,128))\n",
    "for i in range(1,config.NUM_CLASSES):\n",
    "    print('class: ',i)\n",
    "    for j in range(gt_cls_cnt[i]):\n",
    "        Zout[i] = bbox_gaussian(gt_cpb[i,j], Zout[i])\n",
    "print(Zout.shape)\n",
    " \n",
    "# plot_gaussian(Zout[1])\n",
    "# plot_gaussian(Zout[3])"
   ]
  },
  {
   "cell_type": "markdown",
   "metadata": {},
   "source": [
    "## Fine Tuning\n",
    "Fine tune all layers"
   ]
  },
  {
   "cell_type": "code",
   "execution_count": null,
   "metadata": {
    "scrolled": false
   },
   "outputs": [],
   "source": [
    "# Fine tune all layers\n",
    "# Passing layers=\"all\" trains all layers. You can also \n",
    "# pass a regular expression to select which layers to\n",
    "# train by name pattern.\n",
    "model.train(dataset_train, dataset_val, \n",
    "            learning_rate=config.LEARNING_RATE / 10,\n",
    "            epochs=211,\n",
    "            layers=\"all\")"
   ]
  },
  {
   "cell_type": "markdown",
   "metadata": {},
   "source": [
    "## Save "
   ]
  },
  {
   "cell_type": "code",
   "execution_count": null,
   "metadata": {},
   "outputs": [],
   "source": [
    "# Save weights\n",
    "# Typically not needed because callbacks save after every epoch\n",
    "# Uncomment to save manually\n",
    "model_path = os.path.join(MODEL_DIR, \"mask_rcnn_shapes.h5\")\n",
    "model.keras_model.save_weights(model_path)"
   ]
  },
  {
   "cell_type": "markdown",
   "metadata": {},
   "source": [
    "### Create Model"
   ]
  },
  {
   "cell_type": "code",
   "execution_count": null,
   "metadata": {
    "ExecuteTime": {
     "end_time": "2018-04-14T22:48:21.160813Z",
     "start_time": "2018-04-14T22:48:04.860Z"
    },
    "scrolled": false
   },
   "outputs": [],
   "source": [
    "\n",
    "# del history\n",
    "try :\n",
    "    del model\n",
    "    gc.collect()\n",
    "except: \n",
    "    pass\n",
    "\n",
    "model = modellib.MaskRCNN(mode=\"training\", config=config, model_dir=MODEL_DIR)\n",
    "#model.keras_model.summary(line_length = 120)\n",
    "# print(model.find_last())\n",
    "\n",
    "# Which weights to start with?\n",
    "init_with = \"last\"  # imagenet, coco, or last\n",
    "if init_with == \"coco\":\n",
    "    # Load weights trained on MS COCO, but skip layers that are different due to the different number of classes\n",
    "    # See README for instructions to download the COCO weights\n",
    "    loc=model.load_weights(COCO_MODEL_PATH, by_name=True,\n",
    "                       exclude=[\"mrcnn_class_logits\", \"mrcnn_bbox_fc\", \n",
    "                                \"mrcnn_bbox\", \"mrcnn_mask\"])\n",
    "elif init_with == \"last\":\n",
    "    # Load the last model you trained and continue training\n",
    "    loc= model.load_weights(model.find_last()[1], by_name=True)\n"
   ]
  },
  {
   "cell_type": "markdown",
   "metadata": {},
   "source": [
    "## Training\n",
    "\n",
    "Train in two stages:\n",
    "1. Only the heads. Here we're freezing all the backbone layers and training only the randomly initialized layers (i.e. the ones that we didn't use pre-trained weights from MS COCO). To train only the head layers, pass `layers='heads'` to the `train()` function.\n",
    "\n",
    "2. Fine-tune all layers. For this simple example it's not necessary, but we're including it to show the process. Simply pass `layers=\"all` to train all layers."
   ]
  },
  {
   "cell_type": "markdown",
   "metadata": {},
   "source": [
    "## Training head using  Keras.model.fit_generator()"
   ]
  },
  {
   "cell_type": "code",
   "execution_count": null,
   "metadata": {
    "scrolled": false
   },
   "outputs": [],
   "source": [
    "# Train the head branches\n",
    "# Passing layers=\"heads\" freezes all layers except the head\n",
    "# layers. You can also pass a regular expression to select\n",
    "# which layers to train by name pattern.\n",
    "\n",
    "model.train(dataset_train, dataset_val, \n",
    "            learning_rate=config.LEARNING_RATE, \n",
    "            epochs_to_run =2, \n",
    "            layers='heads')"
   ]
  },
  {
   "cell_type": "markdown",
   "metadata": {},
   "source": [
    "## - Training heads using train_in_batches ()\n",
    "\n",
    "We need to use this method for the time being as the fit generator does not have provide EASY access to the output in Keras call backs. By training in batches, we pass a batch through the network, pick up the generated RoI detections and bounding boxes and generate our semantic / gaussian tensors ...\n"
   ]
  },
  {
   "cell_type": "code",
   "execution_count": null,
   "metadata": {},
   "outputs": [],
   "source": [
    "model.train_in_batches(dataset_train, dataset_val, \n",
    "            learning_rate=config.LEARNING_RATE, \n",
    "            epochs_to_run = 2,\n",
    "            layers='heads')"
   ]
  },
  {
   "cell_type": "markdown",
   "metadata": {},
   "source": [
    "## Simulate one training iteration - 1"
   ]
  },
  {
   "cell_type": "code",
   "execution_count": null,
   "metadata": {
    "scrolled": false
   },
   "outputs": [],
   "source": [
    "from mrcnn.datagen import data_generator, load_image_gt\n",
    "np.set_printoptions(linewidth=100)\n",
    "learning_rate=model.config.LEARNING_RATE\n",
    "epochs_to_run = 2\n",
    "layers='heads'\n",
    "batch_size = 0\n",
    "steps_per_epoch = 0\n",
    "# assert self.mode == \"training\", \"Create model in training mode.\"\n",
    "# Pre-defined layer regular expressions\n",
    "layer_regex = {\n",
    "    # all layers but the backbone\n",
    "    \"heads\": r\"(mrcnn\\_.*)|(rpn\\_.*)|(fpn\\_.*)\",\n",
    "    # From a specific Resnet stage and up\n",
    "    \"3+\": r\"(res3.*)|(bn3.*)|(res4.*)|(bn4.*)|(res5.*)|(bn5.*)|(mrcnn\\_.*)|(rpn\\_.*)|(fpn\\_.*)\",\n",
    "    \"4+\": r\"(res4.*)|(bn4.*)|(res5.*)|(bn5.*)|(mrcnn\\_.*)|(rpn\\_.*)|(fpn\\_.*)\",\n",
    "    \"5+\": r\"(res5.*)|(bn5.*)|(mrcnn\\_.*)|(rpn\\_.*)|(fpn\\_.*)\",\n",
    "    # All layers\n",
    "    \"all\": \".*\",\n",
    "}\n",
    "\n",
    "if layers in layer_regex.keys():\n",
    "    layers = layer_regex[layers]\n",
    "if batch_size == 0 :\n",
    "    batch_size = model.config.BATCH_SIZE            \n",
    "if steps_per_epoch == 0:\n",
    "    steps_per_epoch = model.config.STEPS_PER_EPOCH\n",
    "\n",
    "# Data generators\n",
    "train_generator = data_generator(dataset_train, model.config, shuffle=True,\n",
    "                                 batch_size=batch_size)\n",
    "val_generator   = data_generator(dataset_val, model.config, shuffle=True,\n",
    "                                 batch_size=batch_size,\n",
    "                                 augment=False)\n",
    "\n",
    "# Train\n",
    "log(\"Last epoch completed : {} \".format(model.epoch))\n",
    "log(\"Starting from epoch {} for {} epochs. LR={}\".format(model.epoch, epochs_to_run, learning_rate))\n",
    "log(\"Steps per epoch:    {} \".format(steps_per_epoch))\n",
    "log(\"Batchsize      :    {} \".format(batch_size))\n",
    "log(\"Checkpoint Folder:  {} \".format(model.checkpoint_path))\n",
    "epochs = model.epoch + epochs_to_run\n",
    "\n",
    "from tensorflow.python.platform import gfile\n",
    "if not gfile.IsDirectory(model.log_dir):\n",
    "    log('Creating checkpoint folder')\n",
    "    gfile.MakeDirs(model.log_dir)\n",
    "else:\n",
    "    log('Checkpoint folder already exists')\n",
    "\n",
    "model.set_trainable(layers)            \n",
    "model.compile(learning_rate, model.config.LEARNING_MOMENTUM)        \n",
    "\n",
    "out_labels = model.keras_model._get_deduped_metrics_names()\n",
    "callback_metrics = out_labels + ['val_' + n for n in out_labels]\n",
    "\n",
    "progbar = keras.callbacks.ProgbarLogger(count_mode='steps')\n",
    "progbar.set_model(model.keras_model)\n",
    "progbar.set_params({\n",
    "    'epochs': epochs,\n",
    "    'steps': steps_per_epoch,\n",
    "    'verbose': 1,\n",
    "    'do_validation': False,\n",
    "    'metrics': callback_metrics,\n",
    "})\n",
    "\n",
    "progbar.set_model(model.keras_model) \n",
    "\n",
    "chkpoint = keras.callbacks.ModelCheckpoint(model.checkpoint_path, \n",
    "                                           monitor='loss', verbose=1, save_best_only = True, save_weights_only=True)\n",
    "chkpoint.set_model(model.keras_model)\n",
    "\n",
    "progbar.on_train_begin()\n",
    "epoch_idx = model.epoch"
   ]
  },
  {
   "cell_type": "markdown",
   "metadata": {},
   "source": [
    "## Simulate one training iteration - 2"
   ]
  },
  {
   "cell_type": "code",
   "execution_count": null,
   "metadata": {
    "ExecuteTime": {
     "end_time": "2018-04-13T14:03:38.566464Z",
     "start_time": "2018-04-13T14:03:38.322749Z"
    }
   },
   "outputs": [],
   "source": [
    "if epoch_idx >= epochs:\n",
    "    print('Final epoch {} has already completed - Training will not proceed'.format(epochs))\n",
    "\n",
    "# while epoch_idx < epochs :\n",
    "progbar.on_epoch_begin(epoch_idx)\n",
    "steps_index = 0\n",
    "# for steps_index in range(steps_per_epoch):\n",
    "\n",
    "batch_logs = {}\n",
    "print(' self.epoch {}   epochs {}  step {} '.format(model.epoch, epochs, steps_index))\n",
    "batch_logs['batch'] = steps_index\n",
    "batch_logs['size']  = batch_size\n",
    "progbar.on_batch_begin(steps_index, batch_logs)"
   ]
  },
  {
   "cell_type": "markdown",
   "metadata": {},
   "source": [
    "## Simulate one training iteration - 3"
   ]
  },
  {
   "cell_type": "code",
   "execution_count": null,
   "metadata": {},
   "outputs": [],
   "source": [
    "imgmeta_idx= model.keras_model.input_names.index('input_image_meta')\n",
    "img_meta  =  train_batch_x[imgmeta_idx]\n",
    "\n",
    "image_id = img_meta[0,0]\n",
    "print('Image id: ',image_id)\n",
    "image = dataset_train.load_image(image_id)\n",
    "mask, class_ids = dataset_train.load_mask(image_id)\n",
    "visualize.display_top_masks(image, mask, class_ids, dataset_train.class_names)\n",
    "\n",
    "image_id = img_meta[1,0]\n",
    "print('Image id: ',image_id)\n",
    "image = dataset_train.load_image(image_id)\n",
    "mask, class_ids = dataset_train.load_mask(image_id)\n",
    "visualize.display_top_masks(image, mask, class_ids, dataset_train.class_names)\n",
    "\n",
    "outs = model.keras_model.train_on_batch(train_batch_x, train_batch_y)"
   ]
  }
 ],
 "metadata": {
  "anaconda-cloud": {},
  "kernelspec": {
   "display_name": "Python [TF_gpu]",
   "language": "python",
   "name": "Python [TF_gpu]"
  },
  "language_info": {
   "codemirror_mode": {
    "name": "ipython",
    "version": 3
   },
   "file_extension": ".py",
   "mimetype": "text/x-python",
   "name": "python",
   "nbconvert_exporter": "python",
   "pygments_lexer": "ipython3",
   "version": "3.5.4"
  }
 },
 "nbformat": 4,
 "nbformat_minor": 2
}
