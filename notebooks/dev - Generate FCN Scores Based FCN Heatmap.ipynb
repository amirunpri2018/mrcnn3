{
 "cells": [
  {
   "cell_type": "markdown",
   "metadata": {
    "hideCode": true,
    "hidePrompt": true
   },
   "source": [
    "### Development of a score based on the gaussian heatmaps \n",
    "This can be used to generate the 'ground truth' score of the heatmaps produced from the Contextual layer , which will be compared with the score produced from the FCN heatmaps layer. \n",
    "\n",
    "- First we generate the heatmaps, and also visually cehck them. \n",
    "- the we pass the heatmaps to the routine that prodcues the scores \n"
   ]
  },
  {
   "cell_type": "code",
   "execution_count": 1,
   "metadata": {
    "ExecuteTime": {
     "end_time": "2018-05-22T09:45:30.245049Z",
     "start_time": "2018-05-22T09:44:24.289137Z"
    },
    "hideCode": false,
    "hideOutput": true,
    "hidePrompt": false,
    "scrolled": false
   },
   "outputs": [
    {
     "data": {
      "text/html": [
       "<style>.container { width:95% !important; }</style>"
      ],
      "text/plain": [
       "<IPython.core.display.HTML object>"
      ]
     },
     "metadata": {},
     "output_type": "display_data"
    },
    {
     "name": "stderr",
     "output_type": "stream",
     "text": [
      "D:\\Program Files\\Anaconda3\\envs\\TF_gpu\\lib\\site-packages\\h5py\\__init__.py:36: FutureWarning: Conversion of the second argument of issubdtype from `float` to `np.floating` is deprecated. In future, it will be treated as `np.float64 == np.dtype(float).type`.\n",
      "  from ._conv import register_converters as _register_converters\n",
      "Using TensorFlow backend.\n"
     ]
    },
    {
     "name": "stdout",
     "output_type": "stream",
     "text": [
      "Tensorflow Version: 1.6.0   Keras Version : 2.1.4 \n",
      " Initialize config object - super\n",
      "(56, 56)\n",
      ">>> Initialize model WITHOUT MASKING LAYERS!!!!\n",
      "    set_log_dir: Checkpoint path set to : E:\\Models\\mrcnn_development_logs\\shapes20180522T1145\\mask_rcnn_shapes_{epoch:04d}.h5\n",
      "    set_log_dir: self.epoch set to 0 \n",
      "\n",
      ">>> Resnet Graph \n",
      "     Input_image shape : (?, 128, 128, 3)\n",
      "     After ZeroPadding2D  : (?, 134, 134, 3) (?, 134, 134, 3)\n",
      "     After Conv2D padding : (?, 64, 64, 64) (?, 64, 64, 64)\n",
      "     After BatchNorm      : (?, 64, 64, 64) (?, 64, 64, 64)\n",
      "     After MaxPooling2D   : (?, 32, 32, 64) (?, 32, 32, 64)\n",
      "\n",
      ">>> Feature Pyramid Network (FPN) Graph \n",
      "     FPN P2 shape : (None, 32, 32, 256)\n",
      "     FPN P3 shape : (None, 16, 16, 256)\n",
      "     FPN P4 shape : (None, 8, 8, 256)\n",
      "     FPN P5 shape : (None, 4, 4, 256)\n",
      "     FPN P6 shape : (None, 2, 2, 256)\n",
      "\n",
      ">>> Generate pyramid anchors \n",
      "      Anchor  scales:   (8, 16, 32, 64, 128)\n",
      "      Anchor  ratios:   [0.5, 1, 2]\n",
      "      Anchor  stride:   1\n",
      "      Feature shapes:   [[32 32]\n",
      " [16 16]\n",
      " [ 8  8]\n",
      " [ 4  4]\n",
      " [ 2  2]]\n",
      "      Feature strides:  [4, 8, 16, 32, 64]\n",
      ">>> generate_anchors()   Scale(s):  [8 8 8] Ratios:  [0.5 1.  2. ]  Heights:  [11.3137  8.      5.6569] Widths:  [ 5.6569  8.     11.3137]\n",
      " Anchor boxes shape is :  (3072, 4)\n",
      ">>> generate_anchors()   Scale(s):  [16 16 16] Ratios:  [0.5 1.  2. ]  Heights:  [22.6274 16.     11.3137] Widths:  [11.3137 16.     22.6274]\n",
      " Anchor boxes shape is :  (768, 4)\n",
      ">>> generate_anchors()   Scale(s):  [32 32 32] Ratios:  [0.5 1.  2. ]  Heights:  [45.2548 32.     22.6274] Widths:  [22.6274 32.     45.2548]\n",
      " Anchor boxes shape is :  (192, 4)\n",
      ">>> generate_anchors()   Scale(s):  [64 64 64] Ratios:  [0.5 1.  2. ]  Heights:  [90.5097 64.     45.2548] Widths:  [45.2548 64.     90.5097]\n",
      " Anchor boxes shape is :  (48, 4)\n",
      ">>> generate_anchors()   Scale(s):  [128 128 128] Ratios:  [0.5 1.  2. ]  Heights:  [181.0193 128.      90.5097] Widths:  [ 90.5097 128.     181.0193]\n",
      " Anchor boxes shape is :  (12, 4)\n",
      "    Size of anchor array is : (4092, 4)\n",
      "\n",
      ">>> RPN Layer \n",
      "     Input_feature_map shape : (?, ?, ?, 256)\n",
      "     anchors_per_location    : 3\n",
      "     depth                   : 256\n",
      "     Input_feature_map shape : (?, ?, ?, 256)\n",
      "     anchors_per_location    : 3\n",
      "     anchor_stride           : 1\n",
      "\n",
      ">>> RPN Outputs  <class 'list'>\n",
      "      rpn_class_logits/rpn_class_logits:0\n",
      "      rpn_class/rpn_class:0\n",
      "      rpn_bbox/rpn_bbox:0\n",
      "\n",
      ">>> Proposal Layer - generate  2000  proposals\n",
      "    Init complete. Size of anchors:  (4092, 4)\n",
      "     Scores :  (5, 4092)\n",
      "     Deltas :  (5, 4092, 4)\n",
      "     Anchors:  (5, 4092, 4)\n",
      "     Boxes shape / type after processing: \n",
      "     Output: Prposals shape :  (5, ?, ?) (5, None, None)\n",
      "\n",
      ">>> Detection Target Layer (Training Mode)\n",
      "    Detection Target Layer : call()  <class 'list'> 3\n",
      "     proposals.shape    : (5, ?, ?) (5, ?, ?) (None, 2000, 4)\n",
      "     gt_class_ids.shape : (?, ?) (?, ?) (None, None)\n",
      "     gt_bboxes.shape    : (?, ?, 4) (?, ?, 4) (None, None, 4)\n",
      "\n",
      "    Detection Target Layer : return  <class 'list'> 4\n",
      "     output 0  shape (5, ?, ?)  type <class 'tensorflow.python.framework.ops.Tensor'> \n",
      "     output 1  shape (5, ?)  type <class 'tensorflow.python.framework.ops.Tensor'> \n",
      "     output 2  shape (5, ?, ?)  type <class 'tensorflow.python.framework.ops.Tensor'> \n",
      "     output 3  shape (5, ?, ?)  type <class 'tensorflow.python.framework.ops.Tensor'> \n",
      "\n",
      ">>> FPN Classifier Graph \n",
      "     rois shape          : (5, ?, ?)\n",
      "     No of feature_maps  : 4\n",
      "        feature_maps shape  : (?, 32, 32, 256)\n",
      "        feature_maps shape  : (?, 16, 16, 256)\n",
      "        feature_maps shape  : (?, 8, 8, 256)\n",
      "        feature_maps shape  : (?, 4, 4, 256)\n",
      "     input_shape         : [128 128   3]\n",
      "     pool_size           : 7\n",
      "   > PyramidRoI Alignment Layer Call()  5\n",
      "     boxes.shape    : (None, 32, 4)\n",
      "     roi_align_classifier output shape is :  (1, ?, 7, 7, 256) (1, ?, 7, 7, 256)\n",
      "     mrcnn_class_conv1    output shape is :  (?, 32, 1, 1, 1024)\n",
      "     mrcnn_class_bn1      output shape is :  (?, 32, 1, 1, 1024)\n",
      "     mrcnn_class_relu1    output shape is :  (?, 32, 1, 1, 1024)\n",
      "     mrcnn_class_conv2 output shape is :  (?, 32, 1, 1, 1024)\n",
      "     mrcnn_class_bn2      output shape is :  (?, 32, 1, 1, 1024)\n",
      "     mrcnn_class_relu2    output shape is :  (?, 32, 1, 1, 1024)\n",
      "     pool_squeeze(Shared) output shape is :  (?, 32, 1024)\n",
      "     mrcnn_class_logits   output shape is :  (?, 32, 4)\n",
      "     mrcnn_class_probs    output shape is :  (?, 32, 4)\n",
      "   mrcnn_bbox_fc        output shape is :  (?, 32, 16)\n",
      "   mrcnn_bbox           output shape is :  (?, 32, 4, 4)\n",
      "\n",
      ">>> CHM Layer  \n",
      "   > CHMLayer Call()  5\n",
      "     mrcnn_class.shape    : (?, 32, 4) (None, 32, 4)\n",
      "     mrcnn_bbox.shape     : (?, 32, 4, 4) (None, 32, 4, 4)\n",
      "     output_rois.shape    : (5, ?, ?) (None, 32, 4)\n",
      "     tgt_class_ids.shape  : (5, ?) (None, 32)\n",
      "     gt_bboxes.shape      : (5, ?, ?) (None, 32, 4)\n",
      " config image shape:  [128 128   3] h: 128 w: 128\n",
      "\n",
      "  > build_predictions()\n",
      "    num_rois          :  32\n",
      "    mrcnn_class shape :  Tensor(\"cntxt_layer/Shape:0\", shape=(3,), dtype=int32) (None, 32, 4)\n",
      "    mrcnn_bbox.shape  :  Tensor(\"cntxt_layer/Shape_1:0\", shape=(4,), dtype=int32) (None, 32, 4, 4) (?, 32, 4, 4)\n",
      "    input_rois.shape :  Tensor(\"cntxt_layer/Shape_2:0\", shape=(3,), dtype=int32) (5, None, 4)\n",
      "    pred_array        (5, 32, 6)\n",
      "scatter_ind <class 'tensorflow.python.framework.ops.Tensor'> shape (5, 32, 3)\n",
      "    pred_scatter shape is  (5, 4, 32, 6)\n",
      "(5, 4, 32)\n",
      "\n",
      "\n",
      "  > BUILD_GROUND TRUTH_TF()\n",
      "\n",
      "    num_rois           :  32 (building  gt_tensor )\n",
      "    gt_class_ids shape :  (5, ?)\n",
      "    gt_bboxes.shape    :  (5, ?, 4)\n",
      "    gt_classes_exp shape  (5, ?, 1)\n",
      "    gt_scores_exp shape  (5, ?, 1)\n",
      "    gt_array shape : (5, 32, 7) (5, 32, 7)\n",
      "     gt_tensor final shape  :  (5, 4, 32, ?)\n",
      "\n",
      " \n",
      "  > NEW build_heatmap() for  ['pred_heatmap']\n",
      "    orignal in_tensor shape :  (5, 4, 32, 6)\n",
      "    num of bboxes per class is :  32\n",
      "    pt2_sum shape  (5, 4, 32)\n",
      "    dense shape  (?, 6)\n",
      "    X/Y shapes : (128, 128) (128, 128)\n",
      "    Ones:     (?, 1, 1)\n",
      "    ones_exp * X (?, 1, 1) * (128, 128) =  (?, 128, 128)\n",
      "    ones_exp * Y (?, 1, 1) * (128, 128) =  (?, 128, 128)\n",
      "    before transpse  (?, 128, 128, 2)\n",
      "    after transpose  (128, 128, ?, 2)\n",
      "     Prob_grid shape before tanspose:  (128, 128, ?)\n",
      "     Prob_grid shape after tanspose:  (?, 128, 128)\n",
      "    >> input to MVN.PROB: pos_grid (meshgrid) shape:  (128, 128, ?, 2)\n",
      "    << output probabilities shape: (?, 128, 128)\n",
      "\n",
      "    Scatter out the probability distributions based on class --------------\n",
      "    pt2_ind shape   :  (?, 3)\n",
      "    prob_grid shape :  (?, 128, 128)\n",
      "    gauss_scatt     :  (5, 4, 32, 128, 128)\n",
      "\n",
      "    Reduce sum based on class ---------------------------------------------\n",
      "    gaussian_sum shape     :  (5, 4, 128, 128) Keras tensor  False\n",
      "WARNING:tensorflow:From D:\\Program Files\\Anaconda3\\envs\\TF_gpu\\lib\\site-packages\\keras\\backend\\tensorflow_backend.py:3157: calling l2_normalize (from tensorflow.python.ops.nn_impl) with dim is deprecated and will be removed in a future version.\n",
      "Instructions for updating:\n",
      "dim is deprecated, use axis instead\n",
      "    gauss L2 norm   :  (5, 4, 128, 128)  Keras tensor  False\n",
      "\n",
      "    normalization ------------------------------------------------------\n",
      "    gauss norm   :  (5, 4, 128, 128)  Keras tensor  False\n",
      "    in_tensor                (5, 4, 32, 6)\n",
      "    in_tensorr_flattened is  (?, ?)\n",
      "    boxes shape              (?, ?)\n",
      "    Rois per image        :  32\n",
      "    heatmap original shape  :  (5, 4, 128, 128)\n",
      "    heatmap replicated      :  (5, 4, 32, 128, 128)\n",
      "    heatmap flattened       :  (640, 128, 128)\n",
      "    in_tensor_flattened     :  (?, ?)\n",
      "    Scores shape            :  (640, 3)\n",
      "    boxes_scores (rehspaed) :  (?, ?, ?, ?)\n",
      "    gauss_heatmap final shape :  (5, 128, 128, 4)  Keras tensor  False\n",
      "    gauss_scores  final shape :  (?, ?, ?, ?)  Keras tensor  False\n",
      "    complete\n",
      "\n",
      " \n",
      "  > NEW build_heatmap() for  ['gt_heatmap']\n",
      "    orignal in_tensor shape :  (5, 4, 32, ?)\n",
      "    num of bboxes per class is :  32\n",
      "    pt2_sum shape  (5, 4, 32)\n",
      "    dense shape  (?, ?)\n",
      "    X/Y shapes : (128, 128) (128, 128)\n",
      "    Ones:     (?, 1, 1)\n",
      "    ones_exp * X (?, 1, 1) * (128, 128) =  (?, 128, 128)\n",
      "    ones_exp * Y (?, 1, 1) * (128, 128) =  (?, 128, 128)\n",
      "    before transpse  (?, 128, 128, 2)\n",
      "    after transpose  (128, 128, ?, 2)\n"
     ]
    },
    {
     "name": "stdout",
     "output_type": "stream",
     "text": [
      "     Prob_grid shape before tanspose:  (128, 128, ?)\n",
      "     Prob_grid shape after tanspose:  (?, 128, 128)\n",
      "    >> input to MVN.PROB: pos_grid (meshgrid) shape:  (128, 128, ?, 2)\n",
      "    << output probabilities shape: (?, 128, 128)\n",
      "\n",
      "    Scatter out the probability distributions based on class --------------\n",
      "    pt2_ind shape   :  (?, 3)\n",
      "    prob_grid shape :  (?, 128, 128)\n",
      "    gauss_scatt     :  (5, 4, 32, 128, 128)\n",
      "\n",
      "    Reduce sum based on class ---------------------------------------------\n",
      "    gaussian_sum shape     :  (5, 4, 128, 128) Keras tensor  False\n",
      "    gauss L2 norm   :  (5, 4, 128, 128)  Keras tensor  False\n",
      "\n",
      "    normalization ------------------------------------------------------\n",
      "    gauss norm   :  (5, 4, 128, 128)  Keras tensor  False\n",
      "    in_tensor                (5, 4, 32, ?)\n",
      "    in_tensorr_flattened is  (?, ?)\n",
      "    boxes shape              (?, ?)\n",
      "    Rois per image        :  32\n",
      "    heatmap original shape  :  (5, 4, 128, 128)\n",
      "    heatmap replicated      :  (5, 4, 32, 128, 128)\n",
      "    heatmap flattened       :  (640, 128, 128)\n",
      "    in_tensor_flattened     :  (?, ?)\n",
      "    Scores shape            :  (640, 3)\n",
      "    boxes_scores (rehspaed) :  (?, ?, ?, ?)\n",
      "    gauss_heatmap final shape :  (5, 128, 128, 4)  Keras tensor  False\n",
      "    gauss_scores  final shape :  (?, ?, ?, ?)  Keras tensor  False\n",
      "    complete\n",
      "     pred_cls_cnt shape :  (5, 4) Keras tensor  True\n",
      "     gt_cls_cnt shape   :  (5, 4) Keras tensor  True\n",
      "     pred_heatmap_norm  :  (5, 128, 128, 4) Keras tensor  False\n",
      "     pred_heatmap_scores:  (?, ?, ?, ?) Keras tensor  False\n",
      "     gt_heatmap_norm    :  (5, 128, 128, 4) Keras tensor  False\n",
      "     gt_heatmap_scores  :  (?, ?, ?, ?) Keras tensor  False\n",
      "     complete\n",
      "<<<  shape of pred_heatmap   :  (5, 128, 128, 4)  Keras tensor  True\n",
      "<<<  shape of gt_heatmap     :  (5, 128, 128, 4)  Keras tensor  True\n",
      "\n",
      "\n",
      "---------------------------------------------------\n",
      "    Adding  FCN layers\n",
      "---------------------------------------------------\n",
      "\n",
      ">>> FCN Layer \n",
      "     feature map shape is  (5, 128, 128, 4)\n",
      "     height : 128 width : 128 classes : 4\n",
      "     image_data_format:  channels_last\n",
      "     rois_per_class   :  channels_last\n",
      "   FCN Block 11 shape is :  (5, 128, 128, 64)\n",
      "   FCN Block 12 shape is :  (5, 128, 128, 64)\n",
      "   FCN Block 13 shape is :  (5, 64, 64, 64)\n",
      "   FCN Block 21 shape is :  (5, 64, 64, 128)\n",
      "   FCN Block 22 shape is :  (5, 64, 64, 128)\n",
      "   FCN Block 23 (Max pooling) shape is :  (5, 32, 32, 128)\n",
      "   FCN Block 31 shape is :  (5, 32, 32, 256)\n",
      "   FCN Block 32 shape is :  (5, 32, 32, 256)\n",
      "   FCN Block 33 shape is :  (5, 32, 32, 256)\n",
      "   FCN Block 34 (Max pooling) shape is :  (5, 16, 16, 256)\n",
      "   FCN fully connected 1 (fcn_fc1) shape is :  (5, 16, 16, 1024)\n",
      "   FCN fully connected 2 (fcn_fc2) shape is :  (5, 16, 16, 1024)\n",
      "   FCN final conv2d (fcn_classify) shape is :  (5, 16, 16, 4)  keras_tensor  True\n",
      "   h_factor :  8.0 w_factor :  8.0\n",
      "\n",
      ">>> BilinearUpSampling2D layer\n",
      "     data_format :  channels_last\n",
      "     size        :  (8.0, 8.0)\n",
      "     target_size :  None\n",
      "     input_spec  :  [InputSpec(ndim=4)]\n",
      "     call resize_images_bilinear with size:  (8.0, 8.0)\n",
      "     CHANNELS LAST: X:  (5, 16, 16, 4)  KB.int_shape() :  (None, 16, 16, 4)\n",
      "     target_height   :  None  target_width  :  None\n",
      "     new_shape (2):  (2,) (2,)\n",
      "     new_shape (3):  (2,) (2,)\n",
      "     X after image.resize_bilinear:  (5, ?, ?, 4)\n",
      "     Dimensions of X after set_shape() :  (5, 128, 128, 4)\n",
      "     BilinearUpSampling2D. compute_output_shape()\n",
      "     Bilinear output shape is: None , 128 , 128 , 4\n",
      "   FCN Bilinear upsmapling layer  shape is :  (5, 128, 128, 4)  Keras tensor  True\n",
      "\n",
      "\n",
      "    L2 normalization ------------------------------------------------------\n",
      "\n",
      "    normalization ------------------------------------------------------\n",
      "     size of reduce max is  (5, 1, 1, 4)\n",
      "     size of y is :  (5, 128, 128, 4)\n",
      "     size of reduce max is  (?, 1, 1, 4)\n",
      "     size of y is :  (?, 128, 128, 4)\n",
      "    fcn_heatmap       :  (5, 128, 128, 4)  Keras tensor  True\n",
      "    fcn_heatmap_norm  :  (5, 128, 128, 4)  Keras tensor  True\n",
      "    fcn_heatmap_L2norm:  (5, 128, 128, 4)  Keras tensor  True\n",
      "   fcn_heatmap      :  (None, 128, 128, 4)  Keras tensor  True\n",
      "   fcn_heatmap_norm :  (None, 128, 128, 4)  Keras tensor  True\n",
      "\n",
      ">>> FCN Scoring Layer \n",
      "   > FCNScoreLayer Call()  2\n",
      "     fcn_heatmap.shape    : (5, 128, 128, 4) (None, 128, 128, 4)\n",
      "      chm_scores.shape    : (?, ?, ?, ?) (None, 4, 32, 11)\n",
      "\n",
      " \n",
      "  > NEW build_heatmap() for  <mrcnn.shapes.ShapesConfig object at 0x0000012FF2A0E828>\n",
      "    orignal in_heatmap shape :  (5, 128, 128, 4)\n",
      "    num of bboxes per class is :  32\n",
      "    Rois per image  :  32\n",
      "    heatmap original shape   :  (5, 128, 128, 4)\n",
      "    heatmap transposed shape : (5, 4, 128, 128)\n",
      "    heatmap tiled            :  (5, 4, 32, 128, 128)\n",
      "    fcn_scores  final shape :  (?, ?, ?, ?)  Keras tensor  False\n",
      "    complete\n",
      "\n",
      "    Output build_fcn_score \n",
      "     pred_heatmap_norm  :  (?, ?, ?, ?) Keras tensor  False\n",
      "     complete\n",
      "\n",
      ">>> fcn_norm_loss_graph \n",
      "    target_scores shape : (?, ?, ?)\n",
      "    pred_scores   shape : (?, ?, ?)\n",
      "    target_scores1 shape : (?, 1) (None, 1)\n",
      "    pred_scores1  shape : (?, 1)\n",
      "    loss type is : <class 'tensorflow.python.framework.ops.Tensor'>\n",
      "\n",
      ">>> fcn_norm_loss_graph \n",
      "    target_scores shape : (?, 4, 100)\n",
      "    pred_scores   shape : (?, 4, 32)\n",
      "    target_scores1 shape : (?, 1) (None, 1)\n",
      "    pred_scores1  shape : (?, 1)\n",
      "    loss type is : <class 'tensorflow.python.framework.ops.Tensor'>\n",
      "\n",
      "\n",
      "---------------------------------------------------\n",
      "    building Loss Functions \n",
      "---------------------------------------------------\n",
      " target_class_ids  : True (None, 32)\n",
      "\n",
      ">>> rpn_bbox_loss_graph\n",
      "    rpn_match size : (?, ?)\n",
      "    rpn_bbox  size : (?, ?, 4)\n",
      "    tf default session:  None\n",
      "\n",
      ">>> rpn_bbox_loss_graph\n",
      "    rpn_match size : (?, ?)\n",
      "    rpn_bbox  size : (?, ?, 4)\n",
      "    tf default session:  None\n",
      "\n",
      ">>> mrcnn_class_loss_graph \n",
      "    target_class_ids  size : (5, ?)\n",
      "    pred_class_logits size : (?, 32, 4)\n",
      "    active_class_ids  size : (?, ?)\n",
      "\n",
      ">>> mrcnn_class_loss_graph \n",
      "    target_class_ids  size : (?, 32)\n",
      "    pred_class_logits size : (?, 32, 4)\n",
      "    active_class_ids  size : (?, ?)\n",
      "\n",
      ">>> mrcnn_bbox_loss_graph \n",
      "    target_class_ids  size : (5, ?)\n",
      "    pred_bbox size         : (?, 32, 4, 4)\n",
      "    target_bbox size       : (5, ?, ?)\n",
      "    reshpaed pred_bbox size         : (?, 4, 4)\n",
      "    reshaped target_bbox size       : (?, 4)\n",
      "    pred_bbox size         : (?, 4)\n",
      "    target_bbox size       : (?, 4)\n",
      "\n",
      ">>> mrcnn_bbox_loss_graph \n",
      "    target_class_ids  size : (?, 32)\n",
      "    pred_bbox size         : (?, 32, 4, 4)\n",
      "    target_bbox size       : (?, 32, 4)\n",
      "    reshpaed pred_bbox size         : (?, 4, 4)\n",
      "    reshaped target_bbox size       : (?, 4)\n",
      "    pred_bbox size         : (?, 4)\n",
      "    target_bbox size       : (?, 4)\n",
      "\n",
      " Keras Tensors?? \n",
      " output_rois : True\n",
      " pr_hm       : True\n",
      " gt_heatmap  : True\n",
      "\n",
      ">>> MODIFIED MaskRCNN build complete -- WITHOUT MASKING LAYERS!!!!\n",
      ">>> MODIFIED MaskRCNN initialization complete -- WITHOUT MASKING LAYERS!!!!\n",
      " COCO Model Path       :  E:\\Models\\mask_rcnn_coco.h5\n",
      " Checkpoint folder Path:  E:\\Models\\mrcnn_development_logs\n",
      " Model Parent Path     :  E:\\Models\n",
      " Resent Model Path     :  E:\\Models\\resnet50_weights_tf_dim_ordering_tf_kernels_notop.h5\n",
      "-----------------------------------------------\n",
      "Load model with init parm:  last\n",
      "-----------------------------------------------\n",
      ">>> find_last checkpoint in :  E:\\Models\\mrcnn_development_logs\n",
      "('E:\\\\Models\\\\mrcnn_development_logs\\\\shapes20180513T1946', 'E:\\\\Models\\\\mrcnn_development_logs\\\\shapes20180513T1946\\\\mask_rcnn_shapes_3892.h5')\n",
      "load model with <init_with> =  last\n",
      ">>> find_last checkpoint in :  E:\\Models\\mrcnn_development_logs\n",
      ">>> load_weights()\n",
      "    load_weights: Loading weights from: E:\\Models\\mrcnn_development_logs\\shapes20180513T1946\\mask_rcnn_shapes_3892.h5\n",
      "    load_weights: Log directory set to : E:\\Models\\mrcnn_development_logs\\shapes20180513T1946\\mask_rcnn_shapes_3892.h5\n",
      "    set_log_dir: Checkpoint path set to : E:\\Models\\mrcnn_development_logs\\shapes20180513T1946\\mask_rcnn_shapes_{epoch:04d}.h5\n",
      "    set_log_dir: self.epoch set to 3893 \n",
      "    Load weights complete :  E:\\Models\\mrcnn_development_logs\\shapes20180513T1946\\mask_rcnn_shapes_3892.h5\n",
      "Load weights complete E:\\Models\\mrcnn_development_logs\\shapes20180513T1946\\mask_rcnn_shapes_3892.h5\n",
      "\n",
      "Configuration Parameters:\n",
      "-------------------------\n",
      "BACKBONE_SHAPES                [[32 32]\n",
      " [16 16]\n",
      " [ 8  8]\n",
      " [ 4  4]\n",
      " [ 2  2]]\n",
      "BACKBONE_STRIDES               [4, 8, 16, 32, 64]\n",
      "BATCH_SIZE                     5\n",
      "BBOX_STD_DEV                   [0.1 0.1 0.2 0.2]\n",
      "DETECTION_MAX_INSTANCES        100\n",
      "DETECTION_MIN_CONFIDENCE       0.7\n",
      "DETECTION_NMS_THRESHOLD        0.3\n",
      "EPOCHS_TO_RUN                  0\n",
      "FCN_INPUT_SHAPE                [128 128]\n",
      "GPU_COUNT                      1\n",
      "IMAGES_PER_GPU                 5\n",
      "IMAGE_MAX_DIM                  128\n",
      "IMAGE_MIN_DIM                  128\n",
      "IMAGE_PADDING                  True\n",
      "IMAGE_SHAPE                    [128 128   3]\n",
      "LAST_EPOCH_RAN                 0\n",
      "LEARNING_MOMENTUM              0.9\n",
      "LEARNING_RATE                  0.001\n",
      "MASK_POOL_SIZE                 14\n",
      "MASK_SHAPE                     [28, 28]\n",
      "MAX_GT_INSTANCES               100\n",
      "MEAN_PIXEL                     [123.7 116.8 103.9]\n",
      "MINI_MASK_SHAPE                (56, 56)\n",
      "NAME                           shapes\n",
      "NUM_CLASSES                    4\n",
      "POOL_SIZE                      7\n",
      "POST_NMS_ROIS_INFERENCE        1000\n",
      "POST_NMS_ROIS_TRAINING         2000\n",
      "ROI_POSITIVE_RATIO             0.33\n",
      "ROI_PROPOSAL_AREA_THRESHOLD    0\n",
      "RPN_ANCHOR_RATIOS              [0.5, 1, 2]\n",
      "RPN_ANCHOR_SCALES              (8, 16, 32, 64, 128)\n",
      "RPN_ANCHOR_STRIDE              1\n",
      "RPN_BBOX_STD_DEV               [0.1 0.1 0.2 0.2]\n",
      "RPN_NMS_THRESHOLD              0.7\n",
      "RPN_TRAIN_ANCHORS_PER_IMAGE    256\n",
      "STEPS_PER_EPOCH                4\n",
      "TRAIN_ROIS_PER_IMAGE           32\n",
      "USE_MINI_MASK                  True\n",
      "USE_RPN_ROIS                   True\n",
      "VALIDATION_STEPS               5\n",
      "WEIGHT_DECAY                   0.0001\n",
      "\n",
      "\n"
     ]
    }
   ],
   "source": [
    "from IPython.core.display import display, HTML\n",
    "display(HTML(\"<style>.container { width:95% !important; }</style>\"))\n",
    "%matplotlib inline\n",
    "%load_ext autoreload\n",
    "%autoreload 2\n",
    "import sys\n",
    "sys.path.append('../')\n",
    "import tensorflow as tf\n",
    "import keras.backend as KB\n",
    "import numpy as np\n",
    "from mrcnn.datagen     import data_generator, load_image_gt\n",
    "from mrcnn.callbacks   import get_layer_output_1,get_layer_output_2\n",
    "from mrcnn.utils       import mask_string, parse_image_meta, apply_box_deltas_tf\n",
    "from mrcnn.visualize   import display_gt_bboxes, display_roi_proposals, plot_3d_heatmap, plot_gaussian2\n",
    "from mrcnn.visualize   import display_gt_bboxes, display_roi_proposals\n",
    "import mrcnn.visualize as visualize\n",
    "from mrcnn.prep_notebook import prep_oldshapes_dev\n",
    "\n",
    "model, dataset_train, train_generator, config = prep_oldshapes_dev(init_with = 'last', FCN_layers = True)\n",
    "model_info = [model, config, dataset_train, train_generator]"
   ]
  },
  {
   "cell_type": "code",
   "execution_count": 2,
   "metadata": {
    "ExecuteTime": {
     "end_time": "2018-05-22T09:45:30.589927Z",
     "start_time": "2018-05-22T09:45:30.248026Z"
    },
    "hideCode": false,
    "hideOutput": true,
    "hidePrompt": false
   },
   "outputs": [
    {
     "name": "stdout",
     "output_type": "stream",
     "text": [
      "\n",
      ">>> Generate pyramid anchors \n",
      "      Anchor  scales:   (8, 16, 32, 64, 128)\n",
      "      Anchor  ratios:   [0.5, 1, 2]\n",
      "      Anchor  stride:   1\n",
      "      Feature shapes:   [[32 32]\n",
      " [16 16]\n",
      " [ 8  8]\n",
      " [ 4  4]\n",
      " [ 2  2]]\n",
      "      Feature strides:  [4, 8, 16, 32, 64]\n",
      ">>> generate_anchors()   Scale(s):  [8 8 8] Ratios:  [0.5 1.  2. ]  Heights:  [11.3137  8.      5.6569] Widths:  [ 5.6569  8.     11.3137]\n",
      " Anchor boxes shape is :  (3072, 4)\n",
      ">>> generate_anchors()   Scale(s):  [16 16 16] Ratios:  [0.5 1.  2. ]  Heights:  [22.6274 16.     11.3137] Widths:  [11.3137 16.     22.6274]\n",
      " Anchor boxes shape is :  (768, 4)\n",
      ">>> generate_anchors()   Scale(s):  [32 32 32] Ratios:  [0.5 1.  2. ]  Heights:  [45.2548 32.     22.6274] Widths:  [22.6274 32.     45.2548]\n",
      " Anchor boxes shape is :  (192, 4)\n",
      ">>> generate_anchors()   Scale(s):  [64 64 64] Ratios:  [0.5 1.  2. ]  Heights:  [90.5097 64.     45.2548] Widths:  [45.2548 64.     90.5097]\n",
      " Anchor boxes shape is :  (48, 4)\n",
      ">>> generate_anchors()   Scale(s):  [128 128 128] Ratios:  [0.5 1.  2. ]  Heights:  [181.0193 128.      90.5097] Widths:  [ 90.5097 128.     181.0193]\n",
      " Anchor boxes shape is :  (12, 4)\n",
      "    Size of anchor array is : (4092, 4)\n"
     ]
    }
   ],
   "source": [
    "train_batch_x, train_batch_y = next(train_generator)"
   ]
  },
  {
   "cell_type": "code",
   "execution_count": 3,
   "metadata": {
    "ExecuteTime": {
     "end_time": "2018-05-22T09:45:32.392740Z",
     "start_time": "2018-05-22T09:45:30.591929Z"
    },
    "hideCode": false,
    "hidePrompt": false
   },
   "outputs": [
    {
     "name": "stdout",
     "output_type": "stream",
     "text": [
      "Image id:  2\n",
      "Image meta [  2 128 128   3   0   0 128 128   1   1   1   1]\n",
      "Classes (1: circle, 2: square, 3: triangle ):  [2 3]\n"
     ]
    },
    {
     "data": {
      "image/png": "[encoded data removed]",
      "text/plain": [
       "<matplotlib.figure.Figure at 0x13050ee5fd0>"
      ]
     },
     "metadata": {},
     "output_type": "display_data"
    },
    {
     "name": "stdout",
     "output_type": "stream",
     "text": [
      "Image id:  94\n",
      "Image meta [ 94 128 128   3   0   0 128 128   1   1   1   1]\n",
      "Classes (1: circle, 2: square, 3: triangle ):  [3]\n"
     ]
    },
    {
     "data": {
      "image/png": "[encoded data removed]",
      "text/plain": [
       "<matplotlib.figure.Figure at 0x13050edb400>"
      ]
     },
     "metadata": {},
     "output_type": "display_data"
    },
    {
     "name": "stdout",
     "output_type": "stream",
     "text": [
      "Image id:  26\n",
      "Image meta [ 26 128 128   3   0   0 128 128   1   1   1   1]\n",
      "Classes (1: circle, 2: square, 3: triangle ):  [3 2 3]\n"
     ]
    },
    {
     "data": {
      "image/png": "[encoded data removed]",
      "text/plain": [
       "<matplotlib.figure.Figure at 0x1304f59f748>"
      ]
     },
     "metadata": {},
     "output_type": "display_data"
    },
    {
     "name": "stdout",
     "output_type": "stream",
     "text": [
      "Image id:  55\n",
      "Image meta [ 55 128 128   3   0   0 128 128   1   1   1   1]\n",
      "Classes (1: circle, 2: square, 3: triangle ):  [2]\n"
     ]
    },
    {
     "data": {
      "image/png": "[encoded data removed]",
      "text/plain": [
       "<matplotlib.figure.Figure at 0x13050dab630>"
      ]
     },
     "metadata": {},
     "output_type": "display_data"
    },
    {
     "name": "stdout",
     "output_type": "stream",
     "text": [
      "Image id:  69\n",
      "Image meta [ 69 128 128   3   0   0 128 128   1   1   1   1]\n",
      "Classes (1: circle, 2: square, 3: triangle ):  [2]\n"
     ]
    },
    {
     "data": {
      "image/png": "[encoded data removed]",
      "text/plain": [
       "<matplotlib.figure.Figure at 0x12f8be3f710>"
      ]
     },
     "metadata": {},
     "output_type": "display_data"
    }
   ],
   "source": [
    "# train_batch_x, train_batch_y = next(train_generator)\n",
    "imgmeta_idx = model.keras_model.input_names.index('input_image_meta')\n",
    "img_meta    = train_batch_x[imgmeta_idx]\n",
    "\n",
    "for img_idx in range(config.BATCH_SIZE):\n",
    "    image_id = img_meta[img_idx,0]\n",
    "    image = dataset_train.load_image(image_id)\n",
    "    mask, class_ids = dataset_train.load_mask(image_id)\n",
    "    print('Image id: ',image_id)\n",
    "    print('Image meta', img_meta[img_idx])\n",
    "    print('Classes (1: circle, 2: square, 3: triangle ): ',class_ids)\n",
    "    visualize.display_top_masks(image, mask, class_ids, dataset_train.class_names)"
   ]
  },
  {
   "cell_type": "code",
   "execution_count": 4,
   "metadata": {
    "ExecuteTime": {
     "end_time": "2018-05-22T09:45:32.655412Z",
     "start_time": "2018-05-22T09:45:32.395721Z"
    },
    "hideCode": false,
    "hideOutput": true,
    "hidePrompt": false
   },
   "outputs": [
    {
     "name": "stdout",
     "output_type": "stream",
     "text": [
      "\n",
      "\n",
      " Inputs:\n",
      " -------\n",
      " layer:  0    output : input_image:0                              Type: float32           Shape: (?, 128, 128, 3)\n",
      " layer:  1    output : input_image_meta:0                         Type: float32           Shape: (?, ?)\n",
      " layer:  2    output : input_rpn_match:0                          Type: int32             Shape: (?, ?, 1)\n",
      " layer:  3    output : input_rpn_bbox:0                           Type: float32           Shape: (?, ?, 4)\n",
      " layer:  4    output : input_gt_class_ids:0                       Type: int32             Shape: (?, ?)\n",
      " layer:  5    output : input_gt_boxes:0                           Type: float32           Shape: (?, ?, 4)\n",
      " layer:  6    output : input_gt_masks:0                           Type: bool              Shape: (?, 56, 56, ?)\n",
      "\n",
      "\n",
      " Outputs:\n",
      " --------\n",
      " layer:  0    output : rpn_class_logits/rpn_class_logits:0        Type: float32           Shape: (?, ?, 2)\n",
      " layer:  1    output : rpn_class/rpn_class:0                      Type: float32           Shape: (?, ?, 2)\n",
      " layer:  2    output : rpn_bbox/rpn_bbox:0                        Type: float32           Shape: (?, ?, 4)\n",
      " layer:  3    output : rpn_proposal_rois/rpn_roi_proposals:0      Type: float32           Shape: (5, ?, ?)\n",
      " layer:  4    output : proposal_targets/output_rois:0             Type: float32           Shape: (5, ?, ?)\n",
      " layer:  5    output : proposal_targets/target_class_ids:0        Type: int32             Shape: (5, ?)\n",
      " layer:  6    output : proposal_targets/target_bbox_deltas:0      Type: float32           Shape: (5, ?, ?)\n",
      " layer:  7    output : proposal_targets/roi_gt_boxes:0            Type: float32           Shape: (5, ?, ?)\n",
      " layer:  8    output : mrcnn_class_logits_0/Reshape_1:0           Type: float32           Shape: (?, 32, 4)\n",
      " layer:  9    output : mrcnn_class/Reshape_1:0                    Type: float32           Shape: (?, 32, 4)\n",
      " layer: 10    output : mrcnn_bbox/Reshape:0                       Type: float32           Shape: (?, 32, 4, 4)\n",
      " layer: 11    output : rpn_class_loss/rpn_class_loss:0            Type: float32           Shape: (1, 1)\n",
      " layer: 12    output : rpn_bbox_loss/rpn_bbox_loss:0              Type: float32           Shape: (1, 1)\n",
      " layer: 13    output : mrcnn_class_loss/mrcnn_class_loss:0        Type: float32           Shape: (1, 1)\n",
      " layer: 14    output : mrcnn_bbox_loss/mrcnn_bbox_loss:0          Type: float32           Shape: (1, 1)\n",
      " layer: 15    output : cntxt_layer/pred_heatmap_norm:0            Type: float32           Shape: (5, 128, 128, 4)\n",
      " layer: 16    output : cntxt_layer/gt_heatmap_norm:0              Type: float32           Shape: (5, 128, 128, 4)\n",
      " layer: 17    output : cntxt_layer/pred_heatmap_scores:0          Type: float32           Shape: (?, ?, ?, ?)\n",
      " layer: 18    output : cntxt_layer/gt_heatmap_scores:0            Type: float32           Shape: (?, ?, ?, ?)\n",
      " layer: 19    output : cntxt_layer/pred_tensor:0                  Type: float32           Shape: (5, 4, 32, 6)\n",
      " layer: 20    output : cntxt_layer/gt_tensor:0                    Type: float32           Shape: (5, 4, 32, ?)\n",
      " layer: 21    output : cntxt_layer/pred_heatmap:0                 Type: float32           Shape: (5, 128, 128, 4)\n",
      " layer: 22    output : cntxt_layer/gt_heatmap:0                   Type: float32           Shape: (5, 128, 128, 4)\n",
      " layer: 23    output : fcn_heatmap_norm/truediv:0                 Type: float32           Shape: (5, 128, 128, 4)\n",
      " layer: 24    output : fcn_scoring/fcn_heatmap_scores:0           Type: float32           Shape: (?, ?, ?, ?)\n",
      " layer: 25    output : fcn_heatmap/fcn_heatmap:0                  Type: float32           Shape: (5, 128, 128, 4)\n",
      " layer: 26    output : fcn_norm_loss/fcn_normalized_loss:0        Type: float32           Shape: (1, 1)\n"
     ]
    }
   ],
   "source": [
    "model.layer_info()\n",
    "# model.keras_model.outputs[0].name"
   ]
  },
  {
   "cell_type": "code",
   "execution_count": 5,
   "metadata": {
    "ExecuteTime": {
     "end_time": "2018-05-22T09:45:41.424287Z",
     "start_time": "2018-05-22T09:45:32.657452Z"
    },
    "hideCode": false,
    "hidePrompt": false,
    "scrolled": false
   },
   "outputs": [
    {
     "name": "stdout",
     "output_type": "stream",
     "text": [
      "/* Inputs */\n",
      "Input  0:  (input_image:0                           ) \t  Input shape: (5, 128, 128, 3)\n",
      "Input  1:  (input_image_meta:0                      ) \t  Input shape: (5, 12)\n",
      "Input  2:  (input_rpn_match:0                       ) \t  Input shape: (5, 4092, 1)\n",
      "Input  3:  (input_rpn_bbox:0                        ) \t  Input shape: (5, 256, 4)\n",
      "Input  4:  (input_gt_class_ids:0                    ) \t  Input shape: (5, 100)\n",
      "Input  5:  (input_gt_boxes:0                        ) \t  Input shape: (5, 100, 4)\n",
      "Input  6:  (input_gt_masks:0                        ) \t  Input shape: (5, 56, 56, 100)\n",
      "\n",
      "/* Outputs */\n",
      "Output idx:  0    Layer:  0: (rpn_class_logits/rpn_class_logits:0     ) \t  Output shape: (5, 4092, 2)\n",
      "Output idx:  1    Layer:  1: (rpn_class/rpn_class:0                   ) \t  Output shape: (5, 4092, 2)\n",
      "Output idx:  2    Layer:  2: (rpn_bbox/rpn_bbox:0                     ) \t  Output shape: (5, 4092, 4)\n",
      "Output idx:  3    Layer:  3: (rpn_proposal_rois/rpn_roi_proposals:0   ) \t  Output shape: (5, 2000, 4)\n",
      "Output idx:  4    Layer:  4: (proposal_targets/output_rois:0          ) \t  Output shape: (5, 32, 4)\n",
      "Output idx:  5    Layer:  5: (proposal_targets/target_class_ids:0     ) \t  Output shape: (5, 32)\n",
      "Output idx:  6    Layer:  6: (proposal_targets/target_bbox_deltas:0   ) \t  Output shape: (5, 32, 4)\n",
      "Output idx:  7    Layer:  7: (proposal_targets/roi_gt_boxes:0         ) \t  Output shape: (5, 32, 4)\n",
      "Output idx:  8    Layer: 15: (cntxt_layer/pred_heatmap_norm:0         ) \t  Output shape: (5, 128, 128, 4)\n",
      "Output idx:  9    Layer: 16: (cntxt_layer/gt_heatmap_norm:0           ) \t  Output shape: (5, 128, 128, 4)\n",
      "Output idx: 10    Layer: 17: (cntxt_layer/pred_heatmap_scores:0       ) \t  Output shape: (5, 4, 32, 11)\n",
      "Output idx: 11    Layer: 18: (cntxt_layer/gt_heatmap_scores:0         ) \t  Output shape: (5, 4, 32, 11)\n",
      "Output idx: 12    Layer: 19: (cntxt_layer/pred_tensor:0               ) \t  Output shape: (5, 4, 32, 6)\n",
      "Output idx: 13    Layer: 20: (cntxt_layer/gt_tensor:0                 ) \t  Output shape: (5, 4, 32, 6)\n",
      "Output idx: 14    Layer: 21: (cntxt_layer/pred_heatmap:0              ) \t  Output shape: (5, 128, 128, 4)\n",
      "Output idx: 15    Layer: 22: (cntxt_layer/gt_heatmap:0                ) \t  Output shape: (5, 128, 128, 4)\n",
      "Output idx: 16    Layer: 23: (fcn_heatmap_norm/truediv:0              ) \t  Output shape: (5, 128, 128, 4)\n",
      "Output idx: 17    Layer: 24: (fcn_scoring/fcn_heatmap_scores:0        ) \t  Output shape: (5, 4, 32, 16)\n",
      "Output idx: 18    Layer: 25: (fcn_heatmap/fcn_heatmap:0               ) \t  Output shape: (5, 128, 128, 4)\n",
      "Output idx: 19    Layer: 26: (fcn_norm_loss/fcn_normalized_loss:0     ) \t  Output shape: (1, 1)\n",
      "\n",
      "Number of layers generated:  20 \n",
      "\n",
      "rpn_class_logits          = model_output[0]          # layer:  0   shape: (5, 4092, 2)\n",
      "rpn_class                 = model_output[1]          # layer:  1   shape: (5, 4092, 2)\n",
      "rpn_bbox                  = model_output[2]          # layer:  2   shape: (5, 4092, 4)\n",
      "rpn_roi_proposals         = model_output[3]          # layer:  3   shape: (5, 2000, 4)\n",
      "output_rois               = model_output[4]          # layer:  4   shape: (5, 32, 4)\n",
      "target_class_ids          = model_output[5]          # layer:  5   shape: (5, 32)\n",
      "target_bbox_deltas        = model_output[6]          # layer:  6   shape: (5, 32, 4)\n",
      "roi_gt_boxes              = model_output[7]          # layer:  7   shape: (5, 32, 4)\n",
      "pred_heatmap_norm         = model_output[8]          # layer: 15   shape: (5, 128, 128, 4)\n",
      "gt_heatmap_norm           = model_output[9]          # layer: 16   shape: (5, 128, 128, 4)\n",
      "pred_heatmap_scores       = model_output[10]          # layer: 17   shape: (5, 4, 32, 11)\n",
      "gt_heatmap_scores         = model_output[11]          # layer: 18   shape: (5, 4, 32, 11)\n",
      "pred_tensor               = model_output[12]          # layer: 19   shape: (5, 4, 32, 6)\n",
      "gt_tensor                 = model_output[13]          # layer: 20   shape: (5, 4, 32, 6)\n",
      "pred_heatmap              = model_output[14]          # layer: 21   shape: (5, 128, 128, 4)\n",
      "gt_heatmap                = model_output[15]          # layer: 22   shape: (5, 128, 128, 4)\n",
      "truediv                   = model_output[16]          # layer: 23   shape: (5, 128, 128, 4)\n",
      "fcn_heatmap_scores        = model_output[17]          # layer: 24   shape: (5, 4, 32, 16)\n",
      "fcn_heatmap               = model_output[18]          # layer: 25   shape: (5, 128, 128, 4)\n",
      "fcn_normalized_loss       = model_output[19]          # layer: 26   shape: (1, 1)\n"
     ]
    }
   ],
   "source": [
    "# model_output = get_layer_output_2(model.keras_model, train_batch_x, 1)\n",
    "model_output = get_layer_output_1(model.keras_model, train_batch_x, [0,1,2,3,4,5,6,7,15,16,17,18,19,20,21,22,23,24,25,26], 1)\n"
   ]
  },
  {
   "cell_type": "code",
   "execution_count": 6,
   "metadata": {
    "ExecuteTime": {
     "end_time": "2018-05-22T09:45:41.680956Z",
     "start_time": "2018-05-22T09:45:41.426279Z"
    },
    "hideCode": false,
    "hidePrompt": false,
    "scrolled": true
   },
   "outputs": [
    {
     "name": "stdout",
     "output_type": "stream",
     "text": [
      "20\n",
      "(5, 4092, 2)\n",
      "(5, 4092, 2)\n",
      "(5, 4092, 4)\n",
      "(5, 2000, 4)\n",
      "(5, 32, 4)\n",
      "(5, 32)\n",
      "(5, 32, 4)\n",
      "(5, 32, 4)\n",
      "(5, 128, 128, 4)\n",
      "(5, 128, 128, 4)\n",
      "(5, 4, 32, 11)\n",
      "(5, 4, 32, 11)\n",
      "(5, 4, 32, 6)\n",
      "(5, 4, 32, 6)\n",
      "(5, 128, 128, 4)\n",
      "(5, 128, 128, 4)\n",
      "(5, 128, 128, 4)\n",
      "(5, 4, 32, 16)\n",
      "(5, 128, 128, 4)\n",
      "(1, 1)\n"
     ]
    }
   ],
   "source": [
    "print(len(model_output))\n",
    "rpn_class_logits          = model_output[0]          # layer:  0   shape: (5, 4092, 2)\n",
    "rpn_class                 = model_output[1]          # layer:  1   shape: (5, 4092, 2)\n",
    "rpn_bbox                  = model_output[2]          # layer:  2   shape: (5, 4092, 4)\n",
    "rpn_roi_proposals         = model_output[3]          # layer:  3   shape: (5, 2000, 4)\n",
    "output_rois               = model_output[4]          # layer:  4   shape: (5, 32, 4)\n",
    "target_class_ids          = model_output[5]          # layer:  5   shape: (5, 32)\n",
    "target_bbox_deltas        = model_output[6]          # layer:  6   shape: (5, 32, 4)\n",
    "roi_gt_boxes              = model_output[7]          # layer:  7   shape: (5, 32, 4)\n",
    "pred_heatmap_norm         = model_output[8]          # layer: 15   shape: (5, 128, 128, 4)\n",
    "gt_heatmap_norm           = model_output[9]          # layer: 16   shape: (5, 128, 128, 4)\n",
    "pred_heatmap_scores       = model_output[10]          # layer: 17   shape: (5, 4, 32, 11)\n",
    "gt_heatmap_scores         = model_output[11]          # layer: 18   shape: (5, 4, 32, 11)\n",
    "pred_tensor               = model_output[12]          # layer: 19   shape: (5, 4, 32, 6)\n",
    "gt_tensor                 = model_output[13]          # layer: 20   shape: (5, 4, 32, 6)\n",
    "pred_heatmap              = model_output[14]          # layer: 21   shape: (5, 128, 128, 4)\n",
    "gt_heatmap                = model_output[15]          # layer: 22   shape: (5, 128, 128, 4)\n",
    "fcn_heatmap_norm          = model_output[16]          # layer: 23   shape: (5, 128, 128, 4)\n",
    "fcn_heatmap_scores        = model_output[17]          # layer: 24   shape: (5, 4, 32, 16)\n",
    "fcn_heatmap               = model_output[18]          # layer: 25   shape: (5, 128, 128, 4)\n",
    "fcn_normalized_loss       = model_output[19]          # layer: 26   shape: (1, 1)\n",
    "for i in model_output:\n",
    "    print( i.shape)"
   ]
  },
  {
   "cell_type": "code",
   "execution_count": 7,
   "metadata": {
    "ExecuteTime": {
     "end_time": "2018-05-22T09:45:41.936636Z",
     "start_time": "2018-05-22T09:45:41.682963Z"
    }
   },
   "outputs": [
    {
     "name": "stdout",
     "output_type": "stream",
     "text": [
      "[[0.038]]\n"
     ]
    }
   ],
   "source": [
    "print(fcn_normalized_loss)"
   ]
  },
  {
   "cell_type": "code",
   "execution_count": 8,
   "metadata": {
    "ExecuteTime": {
     "end_time": "2018-05-22T09:45:42.180284Z",
     "start_time": "2018-05-22T09:45:41.938642Z"
    },
    "hideCode": true,
    "hideOutput": true,
    "hidePrompt": false,
    "scrolled": true
   },
   "outputs": [
    {
     "name": "stdout",
     "output_type": "stream",
     "text": [
      " Input image shape is : (5, 128, 128, 3)\n",
      " input_rpn_match     (5, 4092, 1)\n",
      " input_rpn_bbox      (5, 256, 4)\n",
      " input_gt_class_ids  (5, 100)\n",
      " input_gt_bboxes     (5, 100, 4)\n",
      " input_normlzd_gt_bboxes     (5, 100, 4)\n",
      "[[  2 128 128   3   0   0 128 128   1   1   1   1]\n",
      " [ 94 128 128   3   0   0 128 128   1   1   1   1]\n",
      " [ 26 128 128   3   0   0 128 128   1   1   1   1]\n",
      " [ 55 128 128   3   0   0 128 128   1   1   1   1]\n",
      " [ 69 128 128   3   0   0 128 128   1   1   1   1]]\n"
     ]
    }
   ],
   "source": [
    "input_image      =  train_batch_x[0]\n",
    "input_image_meta =  train_batch_x[1]\n",
    "input_rpn_match  =  train_batch_x[2]\n",
    "input_rpn_bbox   =  train_batch_x[3]\n",
    "input_gt_class_ids = train_batch_x[4]\n",
    "input_gt_bboxes    = train_batch_x[5]\n",
    "input_gt_masks     = train_batch_x[6]\n",
    "print(' Input image shape is :', input_image.shape)\n",
    "h, w = input_image.shape[1], input_image.shape[2]      #  tf.shape(input_image)[1], tf.shape(input_image)[2]\n",
    "input_normlzd_gt_bboxes = tf.identity(input_gt_bboxes / [h,w,h,w])\n",
    "\n",
    "# gt_masks   =  train_batch_x[6]\n",
    "print(' input_rpn_match    ', input_rpn_match.shape)\n",
    "print(' input_rpn_bbox     ', input_rpn_bbox.shape)\n",
    "print(' input_gt_class_ids ', input_gt_class_ids.shape)\n",
    "print(' input_gt_bboxes    ', input_gt_bboxes.shape)\n",
    "print(' input_normlzd_gt_bboxes    ', input_normlzd_gt_bboxes.shape)\n",
    "print(input_image_meta)"
   ]
  },
  {
   "cell_type": "markdown",
   "metadata": {},
   "source": [
    "####  display Pred_Tensor, Pred_heatmap, mrcnn_class"
   ]
  },
  {
   "cell_type": "code",
   "execution_count": 9,
   "metadata": {
    "ExecuteTime": {
     "end_time": "2018-05-22T09:45:42.436974Z",
     "start_time": "2018-05-22T09:45:42.182291Z"
    },
    "hideCode": true,
    "hideOutput": true,
    "scrolled": false
   },
   "outputs": [
    {
     "name": "stdout",
     "output_type": "stream",
     "text": [
      " Pred Heatmap Scores\n",
      "float32\n",
      " FCN Scores\n"
     ]
    },
    {
     "ename": "NameError",
     "evalue": "name 'fcn_scores' is not defined",
     "output_type": "error",
     "traceback": [
      "\u001b[1;31m------------------------------------------------------------\u001b[0m",
      "\u001b[1;31mNameError\u001b[0m                  Traceback (most recent call last)",
      "\u001b[1;32m<ipython-input-9-a72a321ba9d3>\u001b[0m in \u001b[0;36m<module>\u001b[1;34m()\u001b[0m\n\u001b[0;32m     28\u001b[0m \u001b[1;33m\u001b[0m\u001b[0m\n\u001b[0;32m     29\u001b[0m \u001b[0mprint\u001b[0m\u001b[1;33m(\u001b[0m\u001b[1;34m' FCN Scores'\u001b[0m\u001b[1;33m)\u001b[0m\u001b[1;33m\u001b[0m\u001b[0m\n\u001b[1;32m---> 30\u001b[1;33m \u001b[0mprint\u001b[0m\u001b[1;33m(\u001b[0m\u001b[0mfcn_scores\u001b[0m\u001b[1;33m.\u001b[0m\u001b[0mdtype\u001b[0m\u001b[1;33m)\u001b[0m\u001b[1;33m\u001b[0m\u001b[0m\n\u001b[0m\u001b[0;32m     31\u001b[0m \u001b[1;32mfor\u001b[0m \u001b[0mcls\u001b[0m \u001b[1;32min\u001b[0m \u001b[0mrange\u001b[0m\u001b[1;33m(\u001b[0m\u001b[1;36m4\u001b[0m\u001b[1;33m)\u001b[0m\u001b[1;33m:\u001b[0m\u001b[1;33m\u001b[0m\u001b[0m\n\u001b[0;32m     32\u001b[0m     \u001b[0mprint\u001b[0m\u001b[1;33m(\u001b[0m\u001b[0mpred_heatmap_scores\u001b[0m\u001b[1;33m[\u001b[0m\u001b[0mimg\u001b[0m\u001b[1;33m,\u001b[0m\u001b[0mcls\u001b[0m\u001b[1;33m,\u001b[0m\u001b[1;33m:\u001b[0m\u001b[1;36m10\u001b[0m\u001b[1;33m]\u001b[0m\u001b[1;33m)\u001b[0m\u001b[1;33m\u001b[0m\u001b[0m\n",
      "\u001b[1;31mNameError\u001b[0m: name 'fcn_scores' is not defined"
     ]
    }
   ],
   "source": [
    "np.set_printoptions(precision=4, threshold=None, linewidth=210, suppress=True)\n",
    "img = 0\n",
    "\n",
    "# print(KB.int_shape(output_rois))\n",
    "# print(output_rois[img,:15]*[128, 128,128,128])\n",
    "# print(input_gt_class_ids[0])\n",
    "\n",
    "# print(' Pred_tensor')\n",
    "# print(pred_tensor.shape)\n",
    "# print(pred_tensor[img,:,:10])\n",
    "\n",
    "# print(' gt_tensor')\n",
    "# print(gt_tensor.shape)\n",
    "# print(gt_tensor[img,:,:10])\n",
    "\n",
    "# print(' output_rois')\n",
    "# print(output_rois.shape)\n",
    "# print(output_rois[img,:15] * [128, 128,128,128])\n",
    "\n",
    "\n",
    "# print(' roi_gt_boxes')\n",
    "# print(roi_gt_boxes.shape)\n",
    "# print(roi_gt_boxes[img,:15] * [128, 128,128,128])\n",
    "\n",
    "print(' Pred Heatmap Scores')\n",
    "print(pred_heatmap_scores.dtype)\n",
    "\n",
    "\n",
    "print(' FCN Scores')\n",
    "print(fcn_scores.dtype)\n",
    "for cls in range(4):\n",
    "    print(pred_heatmap_scores[img,cls,:10])\n",
    "    print(fcn_scores[img,cls,:10,2:])\n",
    "\n",
    "# img = 2\n",
    "# max_score = np.max(mrcnn_class, axis = -1)\n",
    "# max_class = np.argmax(mrcnn_class, axis = -1)\n",
    "# # print(' output_rois[',img,'] \\n', output_rois[1]*[128,128,128,128])\n",
    "# print('max class shape:',max_class.shape, 'max score shape: ',max_score.shape)\n",
    "# print('max class[',img,']\\n',max_class[img])\n",
    "# print('max score[',img,']\\n',max_score[img])\n",
    "# print('mrcnn class.shape ',mrcnn_class.shape)\n",
    "# print('mrcnn_class[',img,',:]\\n',mrcnn_class[img,:])\n",
    "# print(output_rois[1])\n",
    " "
   ]
  },
  {
   "cell_type": "markdown",
   "metadata": {
    "hideCode": true,
    "hidePrompt": true
   },
   "source": [
    "\n",
    "####  Display `output_rois` for visual check - passed on to  `build_pred_tensor()`"
   ]
  },
  {
   "cell_type": "code",
   "execution_count": null,
   "metadata": {
    "ExecuteTime": {
     "end_time": "2018-05-21T20:45:16.040038Z",
     "start_time": "2018-05-21T20:45:15.807401Z"
    },
    "hideCode": true,
    "hideOutput": true,
    "hidePrompt": false
   },
   "outputs": [],
   "source": [
    "np.set_printoptions(linewidth=150, precision=6)\n",
    "# print('scatter shape is ', pred_scatt.get_shape())\n",
    "print('output_rois shape is ', output_rois.shape)\n",
    "img = 0\n",
    "for img in range(5):\n",
    "    print('Image ', img , ' ------------')\n",
    "    print(output_rois[img]*[128,128,128,128])"
   ]
  },
  {
   "cell_type": "markdown",
   "metadata": {
    "hideCode": false,
    "hidePrompt": false
   },
   "source": [
    "\n",
    "####  Display for visual check - `pred_tensor` is the final result which is passed on to  `build_gaussian_tf()`"
   ]
  },
  {
   "cell_type": "code",
   "execution_count": null,
   "metadata": {
    "ExecuteTime": {
     "end_time": "2018-05-21T20:46:05.173284Z",
     "start_time": "2018-05-21T20:46:04.920073Z"
    },
    "hideCode": true,
    "hideOutput": false,
    "hidePrompt": false,
    "scrolled": false
   },
   "outputs": [],
   "source": [
    "# with sess.as_default():\n",
    "np.set_printoptions(linewidth=150, precision=6)\n",
    "# print('scatter shape is ', pred_scatt.get_shape())\n",
    "print('pred_tensor shape is ', pred_tensor.shape)\n",
    "img = 0\n",
    "for k in range(4):\n",
    "    print('Image ', img , '/ Class ',k,' ------------')\n",
    "    print(pred_tensor[img,k])"
   ]
  },
  {
   "cell_type": "markdown",
   "metadata": {
    "hideCode": true,
    "hidePrompt": false
   },
   "source": [
    "\n",
    "####  Display for visual check - `gt_tensor` is the final result which is passed on to  `build_gaussian_tf()`"
   ]
  },
  {
   "cell_type": "code",
   "execution_count": null,
   "metadata": {
    "ExecuteTime": {
     "end_time": "2018-05-17T20:31:43.625908Z",
     "start_time": "2018-05-17T20:31:43.364212Z"
    },
    "hideCode": true,
    "hideOutput": false,
    "hidePrompt": false,
    "scrolled": false
   },
   "outputs": [],
   "source": [
    "np.set_printoptions(linewidth=150, precision=6)\n",
    "print('gt_tensor shape is ', gt_tensor.shape)\n",
    "img = 1\n",
    "for k in range(4):\n",
    "    print('Image ', img , '/ Class ',k,' ------------')\n",
    "    print(gt_tensor[img,k])"
   ]
  },
  {
   "cell_type": "markdown",
   "metadata": {
    "hideCode": true,
    "hidePrompt": true
   },
   "source": [
    "\n",
    "####  Display for visual check - `pred_heatmap_scores` is the final result which is passed from  `build_gaussian_tf()`"
   ]
  },
  {
   "cell_type": "code",
   "execution_count": null,
   "metadata": {
    "ExecuteTime": {
     "end_time": "2018-05-21T21:14:28.370605Z",
     "start_time": "2018-05-21T21:14:28.095876Z"
    },
    "hideCode": false,
    "hideOutput": true,
    "hidePrompt": false,
    "scrolled": true
   },
   "outputs": [],
   "source": [
    "# with sess.as_default():\n",
    "np.set_printoptions(linewidth=150, precision=6, suppress=True)\n",
    "# print('scatter shape is ', pred_scatt.get_shape())\n",
    "print('pred_heatmap_scores shape is ', pred_heatmap_scores.shape)\n",
    "for img in [0,1,2]:\n",
    "    for k in range(4):\n",
    "        print('Image ', img , '/ Class ',k,' ------------')\n",
    "        print(np.min(pred_heatmap_scores[img,k,:,8]))\n",
    "        print(pred_heatmap_scores[img,k])"
   ]
  },
  {
   "cell_type": "markdown",
   "metadata": {
    "hideCode": true,
    "hidePrompt": false
   },
   "source": [
    "####  Display for visual check - `GT_HEATMAP_SCORES` is the final result which is passed on to  `build_gaussian_tf()`"
   ]
  },
  {
   "cell_type": "code",
   "execution_count": null,
   "metadata": {
    "ExecuteTime": {
     "end_time": "2018-05-20T17:25:18.661505Z",
     "start_time": "2018-05-20T17:25:18.406810Z"
    },
    "hideCode": true,
    "hideOutput": true,
    "hidePrompt": false,
    "scrolled": false
   },
   "outputs": [],
   "source": [
    "np.set_printoptions(linewidth=150, precision=6)\n",
    "print('gt_heatmap_scores shape is ', gt_heatmap_scores.shape)\n",
    "img = 1\n",
    "for k in range(4):\n",
    "    print('Image ', img , '/ Class ',k,' ------------')\n",
    "    print(gt_heatmap_scores[img,k])"
   ]
  },
  {
   "cell_type": "markdown",
   "metadata": {
    "hideCode": true,
    "hidePrompt": false
   },
   "source": [
    "####  Display for visual check - `FCN_HEATMAP_SCORES` is the final result which is passed on to  `build_gaussian_tf()`"
   ]
  },
  {
   "cell_type": "code",
   "execution_count": null,
   "metadata": {
    "ExecuteTime": {
     "end_time": "2018-05-21T21:14:55.327892Z",
     "start_time": "2018-05-21T21:14:55.040309Z"
    },
    "hideCode": false,
    "hideOutput": true,
    "hidePrompt": false
   },
   "outputs": [],
   "source": [
    "np.set_printoptions(linewidth=150, threshold=10000, precision=2)\n",
    "temp = fcn_heatmap_scores\n",
    "print('fcn_heatmap_scores shape is ', temp.shape)\n",
    "# img = 1\n",
    "for img in [1,2,3]:\n",
    "    for k in range(4):\n",
    "        print('Image ', img , '/ Class ',k,' ------------')\n",
    "        print(temp[img,k])\n",
    "    "
   ]
  },
  {
   "cell_type": "markdown",
   "metadata": {
    "hideCode": false,
    "hidePrompt": false
   },
   "source": [
    "####  Display for visual check - `pred_heatmap_norm` is the final result from  `build_gaussian_tf()`"
   ]
  },
  {
   "cell_type": "code",
   "execution_count": null,
   "metadata": {
    "ExecuteTime": {
     "end_time": "2018-05-21T20:55:58.752564Z",
     "start_time": "2018-05-21T20:55:58.464796Z"
    },
    "hideCode": false,
    "hideOutput": true
   },
   "outputs": [],
   "source": [
    "print(pred_heatmap_norm.shape)\n",
    "temp = pred_heatmap_norm\n",
    "np.set_printoptions(linewidth=150, threshold=10000, suppress=False)\n",
    "print('  Temp shape :',  temp.shape)\n",
    "temp_sum = np.sum(temp,axis=(1,2))\n",
    "print('temp_sum is ', temp_sum.shape)\n",
    "for i in range(5):\n",
    "    for j in range(4):\n",
    "        print('img ',i,' class ', j, ' sum:',temp_sum[i,j],  ' max: ',np.max(temp[i,:,:,j]),' mean: ', np.mean(temp[i,:,:,j]),' min: ', np.min(temp[i,:,:,j]))    "
   ]
  },
  {
   "cell_type": "markdown",
   "metadata": {
    "hideCode": true,
    "hidePrompt": false
   },
   "source": [
    "\n",
    "####  Display for visual check - `fcn_heatmap is the final result from  `FCN`"
   ]
  },
  {
   "cell_type": "code",
   "execution_count": null,
   "metadata": {
    "ExecuteTime": {
     "end_time": "2018-05-21T20:56:07.906104Z",
     "start_time": "2018-05-21T20:56:07.641900Z"
    },
    "hideCode": false,
    "hideOutput": true,
    "hidePrompt": false,
    "scrolled": false
   },
   "outputs": [],
   "source": [
    "np.set_printoptions(linewidth=150, threshold=10000, suppress=False)\n",
    "temp = fcn_heatmap_norm\n",
    "print('  Temp shape :',  temp.shape)\n",
    "temp_sum = np.sum(temp,axis=(1,2))\n",
    "print('temp_sum is ', temp_sum.shape)\n",
    "for i in range(5):\n",
    "    for j in range(4):\n",
    "        print('img ',i,' class ', j, ' sum:',temp_sum[i,j],  ' max: ',np.max(temp[i,:,:,j]),' mean: ', np.mean(temp[i,:,:,j]),' min: ', np.min(temp[i,:,:,j]))    "
   ]
  },
  {
   "cell_type": "code",
   "execution_count": null,
   "metadata": {
    "ExecuteTime": {
     "end_time": "2018-05-21T21:09:58.924538Z",
     "start_time": "2018-05-21T21:09:58.670388Z"
    },
    "hideCode": false,
    "hideOutput": true
   },
   "outputs": [],
   "source": [
    "np.set_printoptions(linewidth=150, threshold=10000, suppress=False)\n",
    "temp = fcn_heatmap\n",
    "print('  Temp shape :',  temp.shape)\n",
    "temp_sum = np.sum(temp,axis=(1,2))\n",
    "print('temp_sum is ', temp_sum.shape)\n",
    "for i in range(5):\n",
    "    for j in range(4):\n",
    "        print('img ',i,' class ', j, ' sum:',temp_sum[i,j],  ' max: ',np.max(temp[i,:,:,j]),' mean: ', np.mean(temp[i,:,:,j]),' min: ', np.min(temp[i,:,:,j]))    \n",
    "\n",
    "\n",
    "# sess = KB.get_session()\n",
    "# with sess.as_default():\n",
    "#     temp = tf.identity(fcn_heatmap\n",
    "#     np.set_printoptions(linewidth=150, threshold=10000)\n",
    "#     print('  output shapes :',  temp.get_shape())\n",
    "#     temp_sum = tf.reduce_sum(temp, [2,3])\n",
    "#     temp_min = tf.reduce_min(temp, [2,3])\n",
    "#     temp_max = tf.reduce_max(temp, [2,3])\n",
    "#     temp_avg = tf.reduce_mean(temp, [2,3])\n",
    "#     print('temp_sum is ', temp_sum.shape)\n",
    "#     for i in range(5):\n",
    "#         for j in range(4):\n",
    "#                 print('img/cls ',i,'/', j,'  sum:',temp_sum[i,j], 'min',temp_min[i,j] ,'max',temp_max[i,j] ,'avg',temp_avg[i,j])"
   ]
  },
  {
   "cell_type": "code",
   "execution_count": null,
   "metadata": {
    "ExecuteTime": {
     "end_time": "2018-05-21T21:12:55.147060Z",
     "start_time": "2018-05-21T21:12:53.450743Z"
    }
   },
   "outputs": [],
   "source": [
    "np.set_printoptions(linewidth=150, threshold=10000, precision = 6,suppress=False)\n",
    "sess = KB.get_session()\n",
    "with sess.as_default():\n",
    "    tmp = tf.identity(fcn_heatmap)\n",
    "    print(tf.shape(tmp).eval())\n",
    "    reduce_max = tf.reduce_max(tmp,axis = [1,2], keepdims=True)\n",
    "    print(tf.shape(reduce_max).eval())\n",
    "    reduce_min = tf.reduce_min(tmp, axis = [1,2], keepdims=True)\n",
    "    print(tf.shape(reduce_min).eval())\n",
    "    print(reduce_min.eval())\n",
    "    print(reduce_max.eval())\n",
    "    y  =  (tmp - reduce_min) / (reduce_max - reduce_min)        \n",
    "    print(tf.shape(y).eval())"
   ]
  },
  {
   "cell_type": "markdown",
   "metadata": {
    "hideCode": false,
    "hidePrompt": true
   },
   "source": [
    "\n",
    "####  Display for visual check - `gt_heatmap_scores`  and `fcn_heatmap_scores` "
   ]
  },
  {
   "cell_type": "code",
   "execution_count": null,
   "metadata": {
    "ExecuteTime": {
     "end_time": "2018-05-20T20:01:28.251086Z",
     "start_time": "2018-05-20T20:01:27.923729Z"
    },
    "hideCode": false,
    "hideOutput": true,
    "hidePrompt": false,
    "scrolled": false
   },
   "outputs": [],
   "source": [
    "# with sess.as_default():\n",
    "np.set_printoptions(linewidth=150, precision=6)\n",
    "# print('scatter shape is ', pred_scatt.get_shape())\n",
    "\n",
    "img = 0\n",
    "for i in [1,2,3]:\n",
    "    for j in range(32):\n",
    "        print('Image ', img , '/ Class ',i,' ------------')\n",
    "\n",
    "        print(gt_heatmap_scores[img,i,j])\n",
    "        print(pred_heatmap_scores[img,i,j])\n",
    "        print(fcn_heatmap_scores[img,i,j,[0,1,2,3,4,5,11,12,13,14,15]])"
   ]
  },
  {
   "cell_type": "code",
   "execution_count": null,
   "metadata": {
    "ExecuteTime": {
     "end_time": "2018-05-20T17:50:17.850671Z",
     "start_time": "2018-05-20T17:50:17.614380Z"
    }
   },
   "outputs": [],
   "source": [
    "print(fcn_normalized_loss)"
   ]
  },
  {
   "cell_type": "markdown",
   "metadata": {},
   "source": [
    "## Display Heatmaps"
   ]
  },
  {
   "cell_type": "markdown",
   "metadata": {},
   "source": [
    "####  Display `pred_heatmap` / `fcn_heatmap` (not normalized, normlized)"
   ]
  },
  {
   "cell_type": "code",
   "execution_count": 10,
   "metadata": {
    "ExecuteTime": {
     "end_time": "2018-05-22T09:46:11.248321Z",
     "start_time": "2018-05-22T09:46:09.759362Z"
    },
    "hideCode": false,
    "hideOutput": false
   },
   "outputs": [
    {
     "name": "stdout",
     "output_type": "stream",
     "text": [
      "Image id:  69     Classes (1: circle, 2: square, 3: triangle ): \n",
      "[0. 0. 0. 0. 0. 1. 0. 0. 0. 0. 0.]\n"
     ]
    },
    {
     "data": {
      "image/png": "[encoded data removed]",
      "text/plain": [
       "<matplotlib.figure.Figure at 0x12f8c0fe7f0>"
      ]
     },
     "metadata": {},
     "output_type": "display_data"
    },
    {
     "data": {
      "image/png": "[encoded data removed]",
      "text/plain": [
       "<matplotlib.figure.Figure at 0x12f8c49e5f8>"
      ]
     },
     "metadata": {},
     "output_type": "display_data"
    }
   ],
   "source": [
    "from mrcnn.visualize import plot_2d_heatmap\n",
    "%matplotlib inline\n",
    "print('Image id: ',image_id , '    Classes (1: circle, 2: square, 3: triangle ): ')\n",
    "img = 4\n",
    "print(pred_heatmap_scores[img,0,0])\n",
    "plot_2d_heatmap(pred_heatmap[img], pred_heatmap_scores[img], width=19, num_bboxes = 10, title='Non-normalized')\n",
    "# plot_2d_heatmap(pred_heatmap_norm[img], pred_heatmap_scores[img], width=19, num_bboxes = 10, title='normalized')\n",
    "plot_2d_heatmap(fcn_heatmap[img], fcn_heatmap_scores[img], width=19, num_bboxes = 10,  title='Non-normalized')\n",
    "# plot_heatmaps(pred_heatmap, pred_heatmap_scores, width = 15, num_bboxes=12)"
   ]
  },
  {
   "cell_type": "markdown",
   "metadata": {},
   "source": [
    "###  Display `gauss_heatmap` 3D heatmap (not normalized, normlized, L2 normalized)"
   ]
  },
  {
   "cell_type": "code",
   "execution_count": 20,
   "metadata": {
    "ExecuteTime": {
     "end_time": "2018-05-22T10:02:12.071357Z",
     "start_time": "2018-05-22T10:02:07.032955Z"
    },
    "hideCode": false,
    "hideOutput": false,
    "scrolled": false
   },
   "outputs": [
    {
     "name": "stdout",
     "output_type": "stream",
     "text": [
      "Image id:  69     Classes (1: circle, 2: square, 3: triangle ): \n",
      "[[    0.         0.         0.         0.         0.         1.         0.         0.         0.         0.         0.    ]\n",
      " [    0.         0.         0.         0.         0.         1.         0.         0.         0.         0.         0.    ]\n",
      " [   12.5999    54.8947    63.8538   107.5749     0.         1.       902.7333  2703.         0.334      0.9022     0.3445]\n",
      " [   39.3184     9.7388    89.5638    59.7338     0.         1.       531.4993  2550.         0.2084     0.5631     0.215 ]\n",
      " [   46.1682    11.3629    93.4519    67.0778     0.         1.       677.7996  2632.         0.2575     0.6957     0.2656]\n",
      " [    0.        63.917     52.9603   128.         0.         1.       617.3412  3392.         0.182      0.4917     0.1877]\n",
      " [    0.        24.3554    68.7459   105.9339     0.         1.      1139.016   5658.         0.2013     0.5438     0.2077]\n",
      " [    0.         0.        93.2339   128.         0.         1.      1697.8643 11904.         0.1426     0.3853     0.1471]\n",
      " [   48.2318     0.       122.5537    62.8789     0.         0.9999   723.7369  4725.         0.1532     0.4138     0.158 ]\n",
      " [    0.        46.2735    68.5319   128.         0.         0.9999  1028.7751  5658.         0.1818     0.4912     0.1876]]\n",
      "shape of z (4, 128, 128)\n",
      "(128, 128) (128, 128)\n",
      "class: 0 row: 0 col: 0\n",
      "class: 1 row: 0 col: 1\n",
      "class: 2 row: 0 col: 2\n",
      "class: 3 row: 0 col: 3\n"
     ]
    },
    {
     "data": {
      "image/png": "[encoded data removed]",
      "text/plain": [
       "<matplotlib.figure.Figure at 0x12fe9a1c048>"
      ]
     },
     "metadata": {},
     "output_type": "display_data"
    },
    {
     "name": "stdout",
     "output_type": "stream",
     "text": [
      "shape of z (4, 128, 128)\n",
      "(128, 128) (128, 128)\n",
      "class: 0 row: 0 col: 0\n",
      "class: 1 row: 0 col: 1\n",
      "class: 2 row: 0 col: 2\n",
      "class: 3 row: 0 col: 3\n"
     ]
    },
    {
     "data": {
      "image/png": "[encoded data removed]",
      "text/plain": [
       "<matplotlib.figure.Figure at 0x12fe9bf80f0>"
      ]
     },
     "metadata": {},
     "output_type": "display_data"
    }
   ],
   "source": [
    "from mrcnn.visualize import plot_3d_heatmap, plot_2d_heatmap\n",
    "%matplotlib inline\n",
    "print('Image id: ',image_id , '    Classes (1: circle, 2: square, 3: triangle ): ')\n",
    "img = 0\n",
    "cls = 0\n",
    "print(pred_heatmap_scores[img,cls,:10])\n",
    "\n",
    "# ttl = 'Non-normalized - image: {}'.format(img)\n",
    "# plot_3d_heatmap(pred_heatmap[img], title = ttl, width = 20)\n",
    "# ttl = 'Normalized - image: {}'.format(img)\n",
    "# plot_3d_heatmap(pred_heatmap_norm[img], title = ttl, width = 20)\n",
    "\n",
    "# ttl = 'Non-normalized - image: {}'.format(img)\n",
    "# plot_3d_heatmap(fcn_heatmap[img], title = ttl, width = 20)\n",
    "# ttl = 'Normalized - image: {}'.format(img)\n",
    "# plot_3d_heatmap(fcn_heatmap_norm[img], title = ttl, width = 20)\n",
    "\n",
    "ttl = 'Ground Truth Non-normalized - image: {}'.format(img)\n",
    "plot_3d_heatmap(gt_heatmap[img], title = ttl, width = 20)\n",
    "ttl = 'Ground Truth Normalized - image: {}'.format(img)\n",
    "plot_3d_heatmap(gt_heatmap_norm[img], title = ttl, width = 20)\n",
    "\n",
    "\n",
    "# ttl = 'Non-normalized - image: {}'.format(img)\n",
    "# plot_2d_heatmap(pred_heatmap[img], pred_heatmap_scores[img], width=15, title=ttl)\n",
    "# ttl = 'Normalized - image: {}'.format(img)\n",
    "# plot_2d_heatmap(pred_heatmap_norm[img], pred_heatmap_scores[img], width=15, title=ttl)\n"
   ]
  },
  {
   "cell_type": "markdown",
   "metadata": {},
   "source": [
    "### Build `fcn_scores`"
   ]
  },
  {
   "cell_type": "code",
   "execution_count": null,
   "metadata": {
    "ExecuteTime": {
     "end_time": "2018-05-20T16:54:02.728893Z",
     "start_time": "2018-05-20T16:54:02.499283Z"
    }
   },
   "outputs": [],
   "source": [
    "def build_mask_routine(input_list):\n",
    "    '''\n",
    "    Inputs:\n",
    "    -----------\n",
    "        heatmap_tensor :    [ image height, image width ]\n",
    "        input_row      :    [y1, x1, y2, x2] in absolute (non-normalized) scale\n",
    "\n",
    "    Returns\n",
    "    -----------\n",
    "        gaussian_sum :      sum of gaussian heatmap vlaues over the area covered by the bounding box\n",
    "        bbox_area    :      bounding box area (in pixels)\n",
    "    '''\n",
    "    heatmap_tensor, input_row = input_list\n",
    "    with tf.variable_scope('mask_routine'):\n",
    "        y_extent     = tf.range(input_row[0], input_row[2])\n",
    "        x_extent     = tf.range(input_row[1], input_row[3])\n",
    "        Y,X          = tf.meshgrid(y_extent, x_extent)\n",
    "        bbox_mask    = tf.stack([Y,X],axis=2)        \n",
    "        mask_indices = tf.reshape(bbox_mask,[-1,2])\n",
    "        mask_indices = tf.to_int32(mask_indices)\n",
    "        mask_size    = tf.shape(mask_indices)[0]\n",
    "        mask_updates = tf.ones([mask_size], dtype = tf.float32)    \n",
    "        mask         = tf.scatter_nd(mask_indices, mask_updates, tf.shape(heatmap_tensor))\n",
    "        mask_sum    =  tf.reduce_sum(mask)\n",
    "        mask_applied = tf.multiply(heatmap_tensor, mask, name = 'mask_applied')\n",
    "        bbox_area    = tf.to_float((input_row[2]-input_row[0]) * (input_row[3]-input_row[1]))\n",
    "        gaussian_sum = tf.reduce_sum(mask_applied)\n",
    "        ratio        = gaussian_sum / bbox_area \n",
    "        ratio        = tf.where(tf.is_nan(ratio),  0.0, ratio)  \n",
    "    return tf.stack([gaussian_sum, bbox_area, ratio], axis = -1)"
   ]
  },
  {
   "cell_type": "code",
   "execution_count": null,
   "metadata": {
    "ExecuteTime": {
     "end_time": "2018-05-20T17:07:35.355542Z",
     "start_time": "2018-05-20T17:07:34.831591Z"
    },
    "hideOutput": true
   },
   "outputs": [],
   "source": [
    "##--------------------------------------------------------------------------\n",
    "## setup input values\n",
    "in_scores = tf.identity(pred_heatmap_scores)\n",
    "in_heatmap = tf.identity(fcn_heatmap)\n",
    "# in_tensor = tf.placeholder(tf.float32, shape=[3,4,32,6], name = 'in_tensor')\n",
    "\n",
    "config = model.config\n",
    "names = ['Dev']\n",
    "##--------------------------------------------------------------------------\n",
    "\n",
    "\n",
    "##----------------------------------------------------------------------------------------------------------------------          \n",
    "##   build_fcn_scores \n",
    "##----------------------------------------------------------------------------------------------------------------------          \n",
    "# def build_fcn_scores(self, in_heatmap, in_scores, names = None):\n",
    "sess = KB.get_session()\n",
    "with sess.as_default():\n",
    "\n",
    "\n",
    "    num_detections  = config.DETECTION_MAX_INSTANCES\n",
    "    img_h, img_w    = config.IMAGE_SHAPE[:2]\n",
    "    batch_size      = config.BATCH_SIZE\n",
    "    num_classes     = config.NUM_CLASSES  \n",
    "    print('\\n ')\n",
    "    print('  > NEW build_heatmap() for ', names )\n",
    "    print('    orignal in_heatmap shape : ', in_heatmap.shape)       \n",
    "    # rois per image is determined by size of input tensor \n",
    "    #   detection mode:   config.TRAIN_ROIS_PER_IMAGE \n",
    "    #   ground_truth  :   config.DETECTION_MAX_INSTANCES\n",
    "    rois_per_image  = KB.int_shape(in_scores)[2] \n",
    "    # strt_cls        = 0 if rois_per_image == 32 else 1\n",
    "    print('    num of bboxes per class is : ', rois_per_image )\n",
    "\n",
    "    ##--------------------------------------------------------------------------------------------\n",
    "    ## generate score based on gaussian using bounding box masks \n",
    "    ## NOTE: Score is generated on NORMALIZED gaussian distributions (GAUSS_NORM)\n",
    "    ##       If want to do this on NON-NORMALIZED, we need to apply it on GAUSS_SUM\n",
    "    ##--------------------------------------------------------------------------------------------\n",
    "    # flatten guassian scattered and input_tensor, and pass on to build_bbox_score routine \n",
    "    in_scores_shape = tf.shape(in_scores)\n",
    "    in_scores_flat  = tf.reshape(in_scores, [-1, in_scores_shape[-1]])\n",
    "    bboxes = tf.to_int32(tf.round(in_scores_flat[...,0:4]))\n",
    "    # print('    in_scores_shape : ', in_scores_shape.eval() )\n",
    "    # print('    in_scores_flat  : ', tf.shape(in_scores_flat).eval())\n",
    "    # print('    boxes shape     : ', tf.shape(bboxes).eval())\n",
    "    print('    Rois per image  : ', rois_per_image)\n",
    "\n",
    "    #--------------------------------------------------------------------------------------------------------------------------\n",
    "    # duplicate GAUSS_NORM <num_roi> times to pass along with bboxes to map_fn function\n",
    "    #   Here we have a choice to calculate scores using the GAUSS_SUM (unnormalized) or GAUSS_NORM (normalized)\n",
    "    #   after looking at the scores and ratios for each option, I decided to go with the normalized \n",
    "    #   as the numbers are large\n",
    "    #---------------------------------------------------------------------------------------------------------------------------\n",
    "    dup_heatmap = tf.transpose(in_heatmap, [0,3,1,2])\n",
    "    print('    heatmap original shape   : ', in_heatmap.shape)\n",
    "    print('    heatmap transposed shape :',  dup_heatmap.get_shape())\n",
    "    dup_heatmap = tf.expand_dims(dup_heatmap, axis =2)\n",
    "    # print('    heatmap expanded shape   :',  tf.shape(dup_heatmap).eval())\n",
    "    dup_heatmap = tf.tile(dup_heatmap, [1,1, rois_per_image ,1,1])\n",
    "    print('    heatmap tiled            : ', dup_heatmap.get_shape())\n",
    "    dup_heatmap_shape   = KB.int_shape(dup_heatmap)\n",
    "    dup_heatmap         = KB.reshape(dup_heatmap, (-1, dup_heatmap_shape[-2], dup_heatmap_shape[-1]))\n",
    "    # print('    heatmap flattened        : ', tf.shape(dup_heatmap).eval())\n",
    "\n",
    "    scores = tf.map_fn(build_mask_routine, [dup_heatmap, bboxes], dtype=tf.float32)    \n",
    "\n",
    "    ##--------------------------------------------------------------------------------------------\n",
    "    ## Add returned values from scoring to the end of the input score \n",
    "    ##--------------------------------------------------------------------------------------------    \n",
    "    # consider the two new columns for reshaping the gaussian_bbox_scores\n",
    "    new_shape   = in_scores_shape + [0,0,0, tf.shape(scores)[-1]]        \n",
    "    bbox_scores = tf.concat([in_scores_flat, scores], axis = -1)\n",
    "    bbox_scores = tf.reshape(bbox_scores, new_shape)\n",
    "    # print('    new shape is            : ', new_shape.eval())\n",
    "    # print('    in_scores_flat          : ', tf.shape(in_scores_flat).eval())\n",
    "    # print('    Scores shape            : ', tf.shape(scores).eval())   # [(num_batches x num_class x num_rois ), 3]\n",
    "    # print('    boxes_scores (rehspaed) : ', tf.shape(bbox_scores).eval())    \n",
    "\n",
    "    ##--------------------------------------------------------------------------------------------\n",
    "    ## Normalize computed score above, and add it to the heatmap_score tensor as last column\n",
    "    ##--------------------------------------------------------------------------------------------\n",
    "    scr_L2norm   = tf.nn.l2_normalize(bbox_scores[...,-1], axis = -1)   # shape (num_imgs, num_class, num_rois)\n",
    "    scr_L2norm   = tf.expand_dims(scr_L2norm, axis = -1)\n",
    "\n",
    "    ##--------------------------------------------------------------------------------------------\n",
    "    # shape of tf.reduce_max(bbox_scores[...,-1], axis = -1, keepdims=True) is (num_imgs, num_class, 1)\n",
    "    #  This is a regular normalization that moves everything between [0, 1]. This causes negative values to move\n",
    "    #  to -inf. \n",
    "    # To address this a normalization between [-1 and +1] was introduced. Not sure how this will work with \n",
    "    # training tho.\n",
    "    ##--------------------------------------------------------------------------------------------\n",
    "    #     scr_norm     = bbox_scores[...,-1]/ tf.reduce_max(bbox_scores[...,-1], axis = -1, keepdims=True)\n",
    "    #     scr_norm     = tf.where(tf.is_nan(scr_norm),  tf.zeros_like(scr_norm), scr_norm)     \n",
    "    \n",
    "    ##--------------------------------------------------------------------------------------------\n",
    "    # this normalization moves values to [-1 +1] \n",
    "    ##--------------------------------------------------------------------------------------------    \n",
    "    reduce_max = tf.reduce_max(bbox_scores[...,-1], axis = -1, keepdims=True)\n",
    "    reduce_min = tf.reduce_min(bbox_scores[...,-1], axis = -1, keepdims=True)  ## epsilon    = tf.ones_like(reduce_max) * 1e-7\n",
    "    scr_norm  = (2* (bbox_scores[...,-1] - reduce_min) / (reduce_max - reduce_min)) - 1     \n",
    "\n",
    "    scr_norm     = tf.where(tf.is_nan(scr_norm),  tf.zeros_like(scr_norm), scr_norm)  \n",
    "    scr_norm     = tf.expand_dims(scr_norm, axis = -1)                             # shape (num_imgs, num_class, 32, 1)\n",
    "    # print('scr_norm shape ',tf.shape(scr_norm).eval())    \n",
    "    fcn_scores   = KB.identity(tf.concat([bbox_scores, scr_norm, scr_L2norm], axis = -1), name = 'fcn_scores') \n",
    "\n",
    "#     print('    fcn_scores  final shape : ', fcn_scores.shape ,' Keras tensor ', KB.is_keras_tensor(fcn_scores) )  \n",
    "    print('    complete')\n",
    "\n",
    "#     return fcn_scores     \n",
    "\n",
    "\n"
   ]
  },
  {
   "cell_type": "markdown",
   "metadata": {
    "hideCode": false,
    "hidePrompt": true
   },
   "source": [
    "\n",
    "####  Display for visual check - `gauss_scores`  the final result from    `build_heatmap()`"
   ]
  },
  {
   "cell_type": "code",
   "execution_count": null,
   "metadata": {
    "ExecuteTime": {
     "end_time": "2018-05-20T17:08:12.099515Z",
     "start_time": "2018-05-20T17:08:09.585183Z"
    },
    "hideCode": false,
    "hidePrompt": false
   },
   "outputs": [],
   "source": [
    "with sess.as_default():\n",
    "#     scr_norm     = bbox_scores[...,-1]/ tf.reduce_max(bbox_scores[...,-1], axis = -1, keepdims=True)\n",
    "#     scr_norm     = tf.where(tf.is_nan(scr_norm),  tf.zeros_like(scr_norm), scr_norm)     \n",
    "    \n",
    "    \n",
    "#     reduce_max = tf.reduce_max(bbox_scores[...,-1], axis = -1, keepdims=True)\n",
    "#     reduce_min = tf.reduce_min(bbox_scores[...,-1], axis = -1, keepdims=True)  ## epsilon    = tf.ones_like(reduce_max) * 1e-7\n",
    "#     reduce_max = tf.where(tf.equal(reduce_max, 0.0), epsilon, reduce_max)\n",
    "#     scr_norm1  = (2* (bbox_scores[...,-1] - reduce_min) / (reduce_max - reduce_min)) - 1\n",
    "#     scr_norm   = tf.expand_dims(scr_norm, axis = -1)   \n",
    "    \n",
    "    res = fcn_scores.eval()\n",
    "#     bbx =  bbox_scores[...,-1].eval()\n",
    "#     scr =  scr_norm.eval()\n",
    "#     scr1 = scr_norm1.eval()"
   ]
  },
  {
   "cell_type": "code",
   "execution_count": null,
   "metadata": {
    "ExecuteTime": {
     "end_time": "2018-05-20T17:12:10.341920Z",
     "start_time": "2018-05-20T17:12:10.034637Z"
    },
    "hideCode": false,
    "hidePrompt": false,
    "scrolled": false
   },
   "outputs": [],
   "source": [
    "np.set_printoptions(linewidth=180, precision=5, suppress=False, threshold = 10000)\n",
    "# print(scr_norm.shape, scr_norm1.shape)\n",
    "# for i in range(5):\n",
    "#     for j in range(4):\n",
    "#         print('bbox')\n",
    "#         print(bbx[i,j])\n",
    "#         print('scr_norm')\n",
    "#         print(scr[i,j])\n",
    "#         print('scr_norm1')\n",
    "#         print(scr1[i,j])\n",
    "print(res.shape)\n",
    "print(res[...,8:])    "
   ]
  },
  {
   "cell_type": "code",
   "execution_count": null,
   "metadata": {
    "ExecuteTime": {
     "end_time": "2018-05-20T16:25:44.914311Z",
     "start_time": "2018-05-20T16:25:44.675762Z"
    }
   },
   "outputs": [],
   "source": [
    "print(test.shape)\n",
    "print(pred_heatmap_scores.shape)\n",
    "# pred_heatmap_scores[0,0]"
   ]
  },
  {
   "cell_type": "code",
   "execution_count": null,
   "metadata": {
    "ExecuteTime": {
     "end_time": "2018-05-20T16:26:52.257369Z",
     "start_time": "2018-05-20T16:26:52.011134Z"
    },
    "hideCode": false,
    "hidePrompt": false,
    "scrolled": true
   },
   "outputs": [],
   "source": [
    "np.set_printoptions(linewidth=150, precision=8)\n",
    "with sess.as_default():\n",
    "    img = 0\n",
    "    for k in range(4):\n",
    "        print('FCN Scroes Image ', img , '/ Class ',k,' ------------')\n",
    "        print(test[img,k,:,6:])\n"
   ]
  },
  {
   "cell_type": "code",
   "execution_count": null,
   "metadata": {
    "ExecuteTime": {
     "end_time": "2018-05-20T15:54:28.997200Z",
     "start_time": "2018-05-20T15:54:23.845505Z"
    }
   },
   "outputs": [],
   "source": [
    "np.set_printoptions(linewidth=150, precision=7)\n",
    "with sess.as_default():\n",
    "    test1 = tf.reduce_max(fcn_scores[...,-1], axis=-1)\n",
    "    print(test1.eval())\n",
    "    epsilon = tf.ones_like(test1) * 1e-7\n",
    "    print(epsilon.eval())\n",
    "    test2 = tf.where(tf.equal(test1, 0.0), epsilon, test1)\n",
    "    print(test2.eval())"
   ]
  },
  {
   "cell_type": "code",
   "execution_count": null,
   "metadata": {},
   "outputs": [],
   "source": []
  },
  {
   "cell_type": "code",
   "execution_count": null,
   "metadata": {},
   "outputs": [],
   "source": []
  },
  {
   "cell_type": "markdown",
   "metadata": {},
   "source": [
    "### Following results were produced using GAUSS_SUM for score generation"
   ]
  },
  {
   "cell_type": "code",
   "execution_count": null,
   "metadata": {
    "ExecuteTime": {
     "end_time": "2018-05-20T17:41:01.276701Z",
     "start_time": "2018-05-20T17:41:01.030033Z"
    }
   },
   "outputs": [],
   "source": [
    "def smooth_l1_loss(y_true, y_pred):\n",
    "    \"\"\"Implements Smooth-L1 loss.\n",
    "    y_true and y_pred are typicallly: [N, 4], but could be any shape.\n",
    "    \"\"\"\n",
    "    diff = KB.abs(y_true - y_pred)\n",
    "    less_than_one = KB.cast(KB.less(diff, 1.0), \"float32\")\n",
    "    loss = (less_than_one * 0.5 * diff**2) + (1 - less_than_one) * (diff - 0.5)\n",
    "    return loss\n"
   ]
  },
  {
   "cell_type": "code",
   "execution_count": null,
   "metadata": {
    "ExecuteTime": {
     "end_time": "2018-05-20T17:41:03.447875Z",
     "start_time": "2018-05-20T17:41:03.156120Z"
    },
    "hideCode": false,
    "hidePrompt": false
   },
   "outputs": [],
   "source": [
    "##--------------------------------------------------------------------------\n",
    "## setup input values\n",
    "input_target = tf.identity(gt_heatmap_scores)\n",
    "input_pred   = tf.identity(fcn_scores)\n",
    "# in_tensor = tf.placeholder(tf.float32, shape=[3,4,32,6], name = 'in_tensor')\n",
    "sess = KB.get_session()\n",
    "config = model.config\n",
    "names = ['Dev']\n",
    "##--------------------------------------------------------------------------\n",
    "\n",
    "\n",
    "##-----------------------------------------------------------------------\n",
    "##  FCN loss\n",
    "##-----------------------------------------------------------------------    \n",
    "# def fcn_norm_loss_graph(input_target,  input_pred):\n",
    "with sess.as_default():\n",
    "    '''\n",
    "    Generate Loss based on Normalized score in PRED_HEATMAP_SCORES and FCN_HEATMAP_SCORES \n",
    "    \n",
    "    Inputs:            \n",
    "    gt_heatmap_scores   [batch, num_classes, num_rois, 11 ] --> column 9 contains normalized score.\n",
    "    pred_heatmap:       [batch, num_classes, num_rois, 16 ] --> column 14 contains normalized score\n",
    "    '''\n",
    "    pred_scores   = input_pred[...,14]\n",
    "    target_scores = input_target[...,9]\n",
    "    # Reshape for simplicity. Merge first two dimensions into one.\n",
    "    print('\\n>>> fcn_norm_loss_graph ' )\n",
    "    print('    target_scores shape :', target_scores.shape)\n",
    "    print('    pred_scores   shape :', pred_scores.shape)    \n",
    "\n",
    "    target_scores1 = KB.reshape(target_scores, (-1,1))\n",
    "    print('    target_scores1 shape :', target_scores1.get_shape(), KB.int_shape(target_scores1))        \n",
    "    pred_scores1   = KB.reshape(pred_scores  , (-1,1))\n",
    "    print('    pred_scores1  shape :', pred_scores1.get_shape())        \n",
    "\n",
    "#     # Compute binary cross entropy. If no positive ROIs, then return 0.\n",
    "#     # shape: [batch, roi, num_classes]\n",
    "#     # Smooth-L1 Loss\n",
    "    loss        = KB.switch(tf.size(target_scores1) > 0,\n",
    "                    smooth_l1_loss(y_true=target_scores1, y_pred=pred_scores1),\n",
    "                    tf.constant(0.0))\n",
    "    loss        = KB.mean(loss)\n",
    "    loss        = tf.reshape(loss, [1, 1], name = 'fcn_normalized_loss')\n",
    "    print('    loss type is :', type(loss))\n",
    "    return loss\n",
    "     "
   ]
  },
  {
   "cell_type": "code",
   "execution_count": null,
   "metadata": {
    "ExecuteTime": {
     "end_time": "2018-05-20T17:41:33.400765Z",
     "start_time": "2018-05-20T17:41:32.525983Z"
    },
    "hideCode": false,
    "hidePrompt": false,
    "scrolled": false
   },
   "outputs": [],
   "source": [
    "with sess.as_default():\n",
    "    los = loss.eval()\n",
    "    print(los.shape)"
   ]
  },
  {
   "cell_type": "code",
   "execution_count": null,
   "metadata": {
    "ExecuteTime": {
     "end_time": "2018-05-20T17:41:38.717442Z",
     "start_time": "2018-05-20T17:41:38.476785Z"
    }
   },
   "outputs": [],
   "source": [
    "los"
   ]
  },
  {
   "cell_type": "code",
   "execution_count": null,
   "metadata": {},
   "outputs": [],
   "source": []
  },
  {
   "cell_type": "code",
   "execution_count": null,
   "metadata": {},
   "outputs": [],
   "source": []
  },
  {
   "cell_type": "code",
   "execution_count": null,
   "metadata": {},
   "outputs": [],
   "source": []
  },
  {
   "cell_type": "code",
   "execution_count": null,
   "metadata": {},
   "outputs": [],
   "source": []
  },
  {
   "cell_type": "markdown",
   "metadata": {
    "hideCode": false,
    "hidePrompt": true
   },
   "source": [
    "## `development_build_heatmap` - Using Alternative , more efficient method to generate `gauss_sum`\n",
    "    Develped a more efficient way of gneerating the heatmap without dynamic_parittioning and avoiding redundant tensor manipulation"
   ]
  },
  {
   "cell_type": "code",
   "execution_count": null,
   "metadata": {
    "ExecuteTime": {
     "end_time": "2018-05-17T12:41:37.050069Z",
     "start_time": "2018-05-17T12:41:30.490797Z"
    },
    "hideCode": false,
    "hideOutput": true,
    "hidePrompt": true
   },
   "outputs": [],
   "source": [
    "##def development_build_gaussian_tf(in_tensor, config, names = None):\n",
    "# in_tensor = KB.constant(pred_tensor)\n",
    "# graph1 = tf.Graph()\n",
    "# with graph1.as_default():\n",
    "# try:\n",
    "#     print(' Session to close ', sess)\n",
    "#     sess.close()\n",
    "#     print('session was deleted ')\n",
    "# except:\n",
    "#     print(' Session was not defined ', sess)\n",
    "#     pass\n",
    "sess = KB.get_session()\n",
    "print(' New session obtained from Kras', sess)\n",
    "\n",
    "with sess.as_default():\n",
    "##--------------------------------------------------------------------------\n",
    "## setup input values\n",
    "    in_tensor = tf.identity(pred_tensor)\n",
    "    # in_tensor = tf.placeholder(tf.float32, shape=[3,4,32,6], name = 'in_tensor')\n",
    "\n",
    "    config = model.config\n",
    "    names = ['Dev']\n",
    "##--------------------------------------------------------------------------\n",
    "    \n",
    "    # def build_heatmap(in_tensor, config, names = None):\n",
    "\n",
    "    num_detections  = config.DETECTION_MAX_INSTANCES\n",
    "    img_h, img_w    = config.IMAGE_SHAPE[:2]\n",
    "    batch_size      = config.BATCH_SIZE\n",
    "    num_classes     = config.NUM_CLASSES  \n",
    "    print('\\n ')\n",
    "    print('  > NEW build_heatmap() for ', names )\n",
    "    print('    orignal in_tensor shape : ', in_tensor.shape)       \n",
    "    # rois per image is determined by size of input tensor \n",
    "    #   detection mode:   config.TRAIN_ROIS_PER_IMAGE \n",
    "    #   ground_truth  :   config.DETECTION_MAX_INSTANCES\n",
    "    rois_per_image  = (in_tensor.shape)[2] \n",
    "    # strt_cls        = 0 if rois_per_image == 32 else 1\n",
    "    print('    num of bboxes per class is : ', rois_per_image )\n",
    "\n",
    "    #-----------------------------------------------------------------------------    \n",
    "    ## Stack non_zero bboxes from in_tensor into pt2_dense \n",
    "    #-----------------------------------------------------------------------------\n",
    "    # pt2_ind shape is [?, 3]. \n",
    "    #   pt2_ind[0] corresponds to image_index \n",
    "    #   pt2_ind[1] corresponds to class_index \n",
    "    #   pt2_ind[2] corresponds to roi row_index \n",
    "    # pt2_dense shape is [?, 6]\n",
    "    #    pt2_dense[0] is image index\n",
    "    #    pt2_dense[1:4]  roi cooridnaytes \n",
    "    #    pt2_dense[5]    is class id \n",
    "    #-----------------------------------------------------------------------------\n",
    "    pt2_sum = tf.reduce_sum(tf.abs(in_tensor[:,:,:,:-2]), axis=-1)\n",
    "    print('    pt2_sum shape ',pt2_sum.shape)\n",
    "    # print(pt2_sum[0].eval())\n",
    "    pt2_ind = tf.where(pt2_sum > 0)\n",
    "\n",
    "    ## replaced the two operations below with the one above - 15-05-2018\n",
    "    # pt2_mask = tf.greater(pt2_sum , 0)\n",
    "    # pt2_ind  = tf.where(pt2_mask)\n",
    "    # print(' pt2_mask shape ', pt2_mask.get_shape())\n",
    "    # print(pt2_mask.eval())\n",
    "    # print('    pt2_ind shape ', pt2_ind.get_shape())\n",
    "    # print(pt2_ind.eval())\n",
    "\n",
    "    pt2_dense = tf.gather_nd( in_tensor, pt2_ind)\n",
    "    print('    dense shape ',pt2_dense.get_shape())\n",
    "\n",
    "    #-----------------------------------------------------------------------------\n",
    "    ## Build mesh-grid to hold pixel coordinates  \n",
    "    #-----------------------------------------------------------------------------\n",
    "    X = tf.range(img_w, dtype=tf.int32)\n",
    "    Y = tf.range(img_h, dtype=tf.int32)\n",
    "    X, Y = tf.meshgrid(X, Y)\n",
    "\n",
    "    # duplicate (repeat) X and Y into a  batch_size x rois_per_image tensor\n",
    "    print('    X/Y shapes :',  X.get_shape(), Y.get_shape())\n",
    "    ones = tf.ones([tf.shape(pt2_dense)[0] , 1, 1], dtype = tf.int32)\n",
    "    rep_X = ones * X\n",
    "    rep_Y = ones * Y \n",
    "    print('    Ones:    ', ones.shape)                \n",
    "    print('    ones_exp * X', ones.shape, '*', X.shape, '= ',rep_X.shape)\n",
    "    print('    ones_exp * Y', ones.shape, '*', Y.shape, '= ',rep_Y.shape)\n",
    "\n",
    "    # # stack the X and Y grids \n",
    "    bef_pos = tf.to_float(tf.stack([rep_X,rep_Y], axis = -1))\n",
    "    print('    before transpse ', bef_pos.get_shape())\n",
    "    pos_grid = tf.transpose(bef_pos,[1,2,0,3])\n",
    "    print('    after transpose ', pos_grid.get_shape())    \n",
    "\n",
    "    #-----------------------------------------------------------------------------\n",
    "    ##  Build mean and convariance tensors for Multivariate Normal Distribution \n",
    "    #-----------------------------------------------------------------------------\n",
    "    width  = pt2_dense[:,3] - pt2_dense[:,1]      # x2 - x1\n",
    "    height = pt2_dense[:,2] - pt2_dense[:,0]\n",
    "    cx     = pt2_dense[:,1] + ( width  / 2.0)\n",
    "    cy     = pt2_dense[:,0] + ( height / 2.0)\n",
    "    means  = tf.stack((cx,cy),axis = -1)\n",
    "    covar  = tf.stack((width * 0.5 , height * 0.5), axis = -1)\n",
    "    covar  = tf.sqrt(covar)\n",
    "\n",
    "    tfd = tf.contrib.distributions\n",
    "    mvn = tfd.MultivariateNormalDiag( loc  = means,  scale_diag = covar)\n",
    "    prob_grid = mvn.prob(pos_grid)\n",
    "    print('     Prob_grid shape before tanspose: ',prob_grid.get_shape())\n",
    "    prob_grid = tf.transpose(prob_grid,[2,0,1])\n",
    "    print('     Prob_grid shape after tanspose: ',prob_grid.get_shape())    \n",
    "    print('    >> input to MVN.PROB: pos_grid (meshgrid) shape: ', pos_grid.get_shape())\n",
    "    print('    << output probabilities shape:' , prob_grid.get_shape())\n",
    "\n",
    "    #--------------------------------------------------------------------------------\n",
    "    ## IMPORTANT: kill distributions of NaN boxes (resulting from bboxes with height/width of zero\n",
    "    ## which cause singular sigma cov matrices\n",
    "    #--------------------------------------------------------------------------------\n",
    "    prob_grid = tf.where(tf.is_nan(prob_grid),  tf.zeros_like(prob_grid), prob_grid)\n",
    "\n",
    "\n",
    "    ## scatter out the probability distributions based on class --------------------------\n",
    "    print('\\n    Scatter out the probability distributions based on class --------------') \n",
    "    gauss_scatt   = tf.scatter_nd(pt2_ind, prob_grid, [batch_size, num_classes, rois_per_image, img_w, img_h])\n",
    "    print('    pt2_ind shape   : ', pt2_ind.shape)  \n",
    "    print('    prob_grid shape : ', prob_grid.shape)  \n",
    "    print('    gauss_scatt     : ', gauss_scatt.shape)   # batch_sz , num_classes, num_rois, image_h, image_w\n",
    "    \n",
    "    ## heatmap: sum gauss_scattered based on class ---------------------------------------\n",
    "    print('\\n    Reduce sum based on class ---------------------------------------------')         \n",
    "    gauss_sum = tf.reduce_sum(gauss_scatt, axis=2, name='pred_heatmap2')\n",
    "    gauss_sum = tf.where(gauss_sum > 1e-12, gauss_sum, tf.zeros_like(gauss_sum))\n",
    "    print('    gaussian_sum shape     : ', gauss_sum.get_shape(), 'Keras tensor ', KB.is_keras_tensor(gauss_sum) )      \n",
    "    \n",
    "    ##---------------------------------------------------------------------------------------------\n",
    "    ## heatmap L2 normalization\n",
    "    ## Normalization using the  `gauss_sum` (batchsize , num_classes, height, width) \n",
    "    ## 17-05-2018 (New method, replace dthe previous method that usedthe transposed gauss sum\n",
    "    ##---------------------------------------------------------------------------------------------\n",
    "    print('\\n    L2 normalization ------------------------------------------------------')   \n",
    "    heatmap_shape=KB.shape(gauss_sum)\n",
    "    print('    gauss-sum.shape:', gauss_sum.shape, 'tf.shape :', tf.shape(gauss_sum))\n",
    "\n",
    "    gauss_flatten = KB.reshape(gauss_sum, (heatmap_shape[0], heatmap_shape[1], -1 ) )  # reshape to image, class\n",
    "    output_norm   = KB.l2_normalize(gauss_flatten, axis = -1)    \n",
    "    gauss_norm    = KB.identity(KB.reshape(output_norm,  heatmap_shape ) , name = names[0]+'_norm')   \n",
    "\n",
    "    print('    gauss_flatten    : ', tf.shape(gauss_flatten).eval(session=sess) , gauss_flatten.shape,' Keras tensor ', KB.is_keras_tensor(gauss_flatten) )\n",
    "    print('    output of norm   : ', tf.shape(output_norm).eval(session=sess)   , output_norm.shape  ,' Keras tensor ', KB.is_keras_tensor(output_norm) )\n",
    "    print('    gauss_norm final : ', tf.shape(gauss_norm).eval(session=sess)    , gauss_norm.shape   ,' Keras tensor ', KB.is_keras_tensor(gauss_norm) )    "
   ]
  },
  {
   "cell_type": "markdown",
   "metadata": {},
   "source": [
    "### Normalization using the  `gauss_sum` (batchsize , num_classes, height, width) (New method) "
   ]
  },
  {
   "cell_type": "code",
   "execution_count": null,
   "metadata": {
    "ExecuteTime": {
     "end_time": "2018-05-17T12:33:00.523586Z",
     "start_time": "2018-05-17T12:32:54.739124Z"
    },
    "hideCode": true,
    "hideOutput": true,
    "hidePrompt": false
   },
   "outputs": [],
   "source": [
    "# with sess.as_default():\n",
    "#     ## heatmap: L2 normalization  -----------------------------------------------------------------\n",
    "#     print('\\n    L2 normalization ------------------------------------------------------')   \n",
    "#     heatmap_shape=KB.shape(gauss_sum)\n",
    "#     print('    gauss-sum.shape:', gauss_sum.shape, 'tf.shape :', tf.shape(gauss_sum))\n",
    "\n",
    "#     gauss_flatten = KB.reshape(gauss_sum, (heatmap_shape[0], heatmap_shape[1], -1 ) )  # reshape to image, class\n",
    "#     output_norm   = KB.l2_normalize(gauss_flatten, axis = -1)    \n",
    "#     gauss_norm    = KB.identity(KB.reshape(output_norm,  heatmap_shape ) , name = names[0]+'_norm')   \n",
    "\n",
    "#     print('    gauss_flatten    : ', tf.shape(gauss_flatten).eval(session=sess) , gauss_flatten.shape,' Keras tensor ', KB.is_keras_tensor(gauss_flatten) )\n",
    "#     print('    output of norm   : ', tf.shape(output_norm).eval(session=sess)   , output_norm.shape  ,' Keras tensor ', KB.is_keras_tensor(output_norm) )\n",
    "#     print('    gauss_norm final : ', tf.shape(gauss_norm).eval(session=sess)    , gauss_norm.shape   ,' Keras tensor ', KB.is_keras_tensor(gauss_norm) )"
   ]
  },
  {
   "cell_type": "markdown",
   "metadata": {},
   "source": [
    "### Normalization using the TRANSPOSED `gauss_sum` (batchsize, height, width , num_classes)   (OLD method) "
   ]
  },
  {
   "cell_type": "code",
   "execution_count": null,
   "metadata": {
    "ExecuteTime": {
     "end_time": "2018-05-17T10:33:39.255864Z",
     "start_time": "2018-05-17T10:33:33.780634Z"
    },
    "hideCode": true,
    "hideOutput": true,
    "hidePrompt": true
   },
   "outputs": [],
   "source": [
    "### (old method) Normalization using the TRANSPOSED gauss_sum\n",
    "\n",
    "# with sess.as_default():\n",
    "#     ## heatmap: L2 normalization  -----------------------------------------------------------------\n",
    "#     print('\\n    L2 normalization ------------------------------------------------------')   \n",
    "#     heatmap_shape=KB.shape(gauss_sum_tp)\n",
    "#     print('    gauss-sum.shape:', gauss_sum_tp.shape, 'tf.shape :', tf.shape(gauss_sum_tp))\n",
    "\n",
    "#     gauss_flatten_tp = KB.reshape(gauss_sum, (heatmap_shape[0], -1, heatmap_shape[-1]) )  # reshape to image, class\n",
    "#     output_norm_tp   = KB.l2_normalize(gauss_flatten_tp, axis = 1)    \n",
    "#     gauss_norm_tp    = KB.identity(KB.reshape(output_norm_tp,  heatmap_shape ) , name = names[0]+'_norm')   \n",
    "\n",
    "#     print('    gauss_flatten    : ', tf.shape(gauss_flatten_tp).eval() , gauss_flatten_tp.shape,' Keras tensor ', KB.is_keras_tensor(gauss_flatten) )\n",
    "#     print('    output of norm   : ', tf.shape(output_norm_tp).eval()   , output_norm_tp.shape  ,' Keras tensor ', KB.is_keras_tensor(output_norm) )\n",
    "#     print('    gauss_norm final : ', tf.shape(gauss_norm_tp).eval()    , gauss_norm_tp.shape   ,' Keras tensor ', KB.is_keras_tensor(gauss_norm) )"
   ]
  },
  {
   "cell_type": "markdown",
   "metadata": {
    "hideCode": true
   },
   "source": [
    "### Old method - generating `gauss_heatmap_scores` using `gauss_scatter`\n",
    "\n",
    "This will NOT work for generating scores in FCN, since we do not have the heatmaps per individual bounding box. \n",
    "We need to apply the boundingbox masks on the GAUSS_SUM\n",
    "\n",
    "#### If we use this to generate scores, the scores will only reflect the heatmap produced for one object's bounding box. The overlapping of bounding boxes will not affect the generated scores. Therefore, the scores are invariant of possible overlapping. \n",
    "#### We could possibly use this if we want to generate independent scores for bounding boxes with no overlaps. However it's important to consider the ramifications. "
   ]
  },
  {
   "cell_type": "code",
   "execution_count": null,
   "metadata": {
    "ExecuteTime": {
     "end_time": "2018-05-17T10:52:16.836988Z",
     "start_time": "2018-05-17T10:52:16.578780Z"
    },
    "hideCode": true,
    "hideOutput": true,
    "hidePrompt": true
   },
   "outputs": [],
   "source": [
    "with sess.as_default():\n",
    "    ##--------------------------------------------------------------------------------------------\n",
    "    ## generate score based on gaussian using bouding box masks \n",
    "    ## NOTE: Score is generated on NON-NORMALIZED gaussian distributions\n",
    "    ##       If want to do this on normalized, we need to apply normalization to gauss_scatt first\n",
    "    ##--------------------------------------------------------------------------------------------\n",
    "    # flatten guassian scattered and input_tensor, and pass on to build_bbox_score routine \n",
    "    in_tensor_flattened  = tf.reshape(in_tensor, [-1,6])\n",
    "    bboxes = tf.to_int32(tf.round(in_tensor_flattened[...,0:4]))\n",
    "    print('    in_tensor               ', in_tensor.shape)\n",
    "    print('    in_tensorr_flattened is ', in_tensor_flattened.shape)\n",
    "    print('    boxes shape          ', bboxes.shape)\n",
    "\n",
    "    # DONT NEED THIS - was put there to try to avoid computing sum/area for zero bboxes.\n",
    "    # kept as reference for future generations .....\n",
    "    # bbox_sum = tf.reduce_max(in_tensor[...,0:3], axis = -1, name  = 'bbox_sum')\n",
    "    # print(' bbox sum shape: ', bbox_sum.shape)\n",
    "\n",
    "    gauss_scatt_shape   = KB.int_shape(gauss_scatt)\n",
    "    gauss_scatt_reshape = KB.reshape(gauss_scatt, (-1, gauss_scatt_shape[-2], gauss_scatt_shape[-1]))\n",
    "    print('    gaussian scatter shape : ', gauss_scatt_shape)\n",
    "    print('    gaussian scatter reshaped : ', gauss_scatt_reshape.shape)\n",
    "    print('    gaussian sum shape          ', KB.int_shape(gauss_sum))\n",
    "\n",
    "    # ones_map = tf.ones([384,128,128])   \n",
    "    scores = tf.map_fn(build_mask_routine, [gauss_scatt_reshape, bboxes], dtype=tf.float32)\n",
    "\n",
    "    new_shape = tf.shape(in_tensor)+ [0,0,0,tf.shape(scores)[-1]]        \n",
    "    gaussian_bbox_scores = tf.concat([in_tensor_flattened, scores], axis = -1)\n",
    "    print('    in_tensor_flattened shape : ', scatter_flattened.shape)\n",
    "    print('    Scores shape              : ', scores.shape)\n",
    "    print('    gaussian_boxes_scores     : ', gaussian_bbox_scores.shape)    \n",
    "    gaussian_bbox_scores = tf.reshape(gaussian_bbox_scores, new_shape, name = names[0]+'_scores')\n",
    "\n",
    "    ##--------------------------------------------------------------------------------------------\n",
    "    ## Normalize computed score above, and add it to the heatmap_score tensor as last column\n",
    "    ##--------------------------------------------------------------------------------------------\n",
    "#     scr = gaussian_bbox_scores[...,-2]/gaussian_bbox_scores[...,-1]\n",
    "#     scr = tf.where(tf.is_nan(scr),  tf.zeros_like(scr), scr)       \n",
    "#     scr_norm = tf.nn.l2_normalize(scr, axis = -1)\n",
    "#     scr_norm = tf.expand_dims(scr_norm, axis = -1)\n",
    "#     gaussian_bbox_scores = tf.concat([gaussian_bbox_scores, scr_norm], axis = -1)\n",
    "\n",
    "#     print('    gaussian_bbox_scores final shape   : ', gaussian_bbox_scores.shape)\n",
    "#     print('    complete')\n",
    "\n",
    "# return  gauss_norm, gaussian_bbox_scores    # [gauss_sum, gauss_scatt, means, covar]"
   ]
  },
  {
   "cell_type": "markdown",
   "metadata": {
    "hideCode": true
   },
   "source": [
    "### NEW method - generating `gauss_heatmap_scores` using `gauss_sum`\n",
    "\n",
    "Since FCN provides a heatmap per class , and not per individual object, we use the similar method here to generate heat maps. "
   ]
  },
  {
   "cell_type": "code",
   "execution_count": null,
   "metadata": {
    "ExecuteTime": {
     "end_time": "2018-05-17T12:43:11.833374Z",
     "start_time": "2018-05-17T12:43:07.138502Z"
    },
    "hideCode": true,
    "hideOutput": true,
    "hidePrompt": true
   },
   "outputs": [],
   "source": [
    "with sess.as_default():\n",
    "    ##--------------------------------------------------------------------------------------------\n",
    "    ## generate score based on gaussian using bouding box masks \n",
    "    ## NOTE: Score is generated on NON-NORMALIZED gaussian distributions\n",
    "    ##       If want to do this on normalized, we need to apply normalization to gauss_scatt first\n",
    "    ##--------------------------------------------------------------------------------------------\n",
    "    # flatten guassian scattered and input_tensor, and pass on to build_bbox_score routine \n",
    "    in_tensor_flattened  = tf.reshape(in_tensor, [-1,6])\n",
    "    bboxes = tf.to_int32(tf.round(in_tensor_flattened[...,0:4]))\n",
    "    print('    in_tensor               ', in_tensor.shape)\n",
    "    print('    in_tensorr_flattened is ', in_tensor_flattened.shape)\n",
    "    print('    boxes shape          ', bboxes.shape)\n",
    "\n",
    "    print(rois_per_image)\n",
    "    ##--------------------------------------------------------------------------------------------\n",
    "    # duplicate gauss_sum <num_roi> times to pass along with bboxes to map_fn function\n",
    "    ##--------------------------------------------------------------------------------------------\n",
    "    temp = tf.expand_dims(gauss_sum, axis =2)\n",
    "    print('  Gauss_Sum expanced shape :',  temp.get_shape())\n",
    "    temp = tf.tile(temp, [1,1, rois_per_image ,1,1])\n",
    "    print('  Gauss_Sum expanded/tiled shape :',  temp.get_shape())\n",
    "    temp_shape   = KB.int_shape(temp)\n",
    "    temp_reshape = KB.reshape(temp, (-1, temp_shape[-2], temp_shape[-1]))\n",
    "    print('    gauss_sum original shape  : ', gauss_sum.shape)\n",
    "    print('    gauss_sum replicated      : ', temp_shape)\n",
    "    print('    gaussian scatter reshaped : ', temp_reshape.shape)\n",
    "\n",
    "    scores = tf.map_fn(build_mask_routine, [temp_reshape, bboxes], dtype=tf.float32)\n",
    "    # consider the two new columns for reshaping the gaussian_bbox_scores\n",
    "    new_shape = tf.shape(in_tensor)+ [0,0,0, tf.shape(scores)[-1]]        \n",
    "    gaussian_bbox_scores = tf.concat([scatter_flattened, scores], axis = -1)\n",
    "    print('    Scatter Flattened shape : ', scatter_flattened.shape)\n",
    "    print('    Scores shape :            ', scores.shape)\n",
    "    print('    gaussian_boxes_scores initial shape: ', gaussian_bbox_scores.shape)    \n",
    "    gaussian_bbox_scores = tf.reshape(gaussian_bbox_scores, new_shape, name = names[0]+'_scores')\n",
    "\n",
    "\n",
    "    ##--------------------------------------------------------------------------------------------\n",
    "    ## Normalize computed score above, and add it to the heatmap_score tensor as last column\n",
    "    ##--------------------------------------------------------------------------------------------\n",
    "    scr = gaussian_bbox_scores[...,-2]/gaussian_bbox_scores[...,-1]\n",
    "    scr = tf.where(tf.is_nan(scr),  tf.zeros_like(scr), scr)       \n",
    "    scr_norm = tf.nn.l2_normalize(scr, axis = -1)\n",
    "    scr_norm = tf.expand_dims(scr_norm, axis = -1)\n",
    "    gaussian_bbox_scores = tf.concat([gaussian_bbox_scores, scr_norm], axis = -1)\n",
    "    gauss_norm = tf.transpose(gauss_norm,[0,2,3,1], name = names[0])  \n",
    "    \n",
    "    \n",
    "    print('    gauss_norm           final shape   : ', gauss_norm.shape)\n",
    "    print('    gaussian_bbox_scores final shape   : ', tf.shape(gaussian_bbox_scores).eval())\n",
    "    print('    complete')\n",
    "\n",
    "# return  gauss_norm, gaussian_bbox_scores    # [gauss_sum, gauss_scatt, means, covar]"
   ]
  },
  {
   "cell_type": "code",
   "execution_count": null,
   "metadata": {
    "ExecuteTime": {
     "end_time": "2018-05-17T12:43:54.164205Z",
     "start_time": "2018-05-17T12:43:53.577870Z"
    },
    "scrolled": false
   },
   "outputs": [],
   "source": [
    "with sess.as_default():\n",
    "    print(pred_heatmap_scores)"
   ]
  },
  {
   "cell_type": "markdown",
   "metadata": {
    "hideCode": true,
    "hidePrompt": true
   },
   "source": [
    "###  Compare results from old and new method of generating `gauss_sum`"
   ]
  },
  {
   "cell_type": "code",
   "execution_count": null,
   "metadata": {
    "ExecuteTime": {
     "end_time": "2018-05-17T10:40:06.501659Z",
     "start_time": "2018-05-17T10:39:03.275888Z"
    },
    "hideCode": false,
    "hideOutput": true,
    "hidePrompt": true,
    "scrolled": false
   },
   "outputs": [],
   "source": [
    "# try:\n",
    "#     sess.close()\n",
    "#     print('session was deleted ')\n",
    "# except:\n",
    "#     print('Session was not defined ')\n",
    "#     pass\n",
    "# sess = tf.InteractiveSession()\n",
    "with sess.as_default():\n",
    "    np.set_printoptions(linewidth=130, threshold=20000)\n",
    "    gt   = gauss_norm_tp2 # gt_gaussian \n",
    "    gt2  = gauss_norm_tp # gt_gaussian_2\n",
    "    # gt   = np.where(gt > 1e-6,gt,0)\n",
    "    # gt2   = np.where(gt2 > 1e-6,gt2,0)\n",
    "    print( ' pt shape ', gt.shape, ' pt2.shape ', gt2.shape)\n",
    "\n",
    "    for img in range(3):\n",
    "        print('Image', img)\n",
    "\n",
    "        for cls in range(4):\n",
    "\n",
    "            all_equal = np.all(np.equal(gt2[img, :,:,cls], gt[img, :,:,cls]))\n",
    "        #         for roi in range(32):\n",
    "    #             print('roi:', roi)\n",
    "    #             equal = tf.equal(gt2[img, cls, roi, line], gt[img, cls,roi, line])\n",
    "    #             all_equal = tf.reduce_all(equal).eval()     \n",
    "            if all_equal:\n",
    "                max_diff = np.max(gt2[img, :,:, cls]- gt[img, :,:,cls]).eval()\n",
    "                print('Img: ', img, ' Cls',cls, 'All equal', all_equal, '    Largest diffeence in cls', cls,':', max_diff)            \n",
    "            else:\n",
    "                for line in range(128):\n",
    "                    all_equal = np.all(np.equal(gt2[img, line,:,cls], gt[img, line,:,cls]))\n",
    "                    if all_equal:\n",
    "                        print('Img: ', img, 'Calss',cls, 'LINE', line, 'All equal', all_equal)   \n",
    "                    else:\n",
    "                        max_diff = np.max(gt2[img, line,:, cls]- gt[img, line,:,cls])\n",
    "                        print('Img: ', img, 'Calss',cls, 'LINE', line, 'All equal', all_equal,' Max difference :', max_diff.eval() )\n",
    "    #                 print(' -- pred_hm\\n',  gt[img, line, :,cls])\n",
    "    #                 print(' -- prd_hm2\\n', gt2[img, line, :, cls])                \n"
   ]
  },
  {
   "cell_type": "code",
   "execution_count": null,
   "metadata": {
    "ExecuteTime": {
     "end_time": "2018-05-10T15:10:04.730267Z",
     "start_time": "2018-05-10T15:10:00.524802Z"
    },
    "hideCode": false,
    "hidePrompt": true
   },
   "outputs": [],
   "source": [
    "feed_dict = {in_tensor: pred_tensor}\n",
    "fetches = [stacked_tensor, rnd_tensor, gauss_sum]\n",
    "sess = tf.Session()\n",
    "print(' tfsession() is ', sess)\n",
    "tt = sess.run(fetches, feed_dict = feed_dict )\n",
    "print(type(tt), len(tt))\n",
    "sess.close()"
   ]
  },
  {
   "cell_type": "code",
   "execution_count": null,
   "metadata": {
    "ExecuteTime": {
     "end_time": "2018-05-10T15:10:04.974515Z",
     "start_time": "2018-05-10T15:10:04.731741Z"
    },
    "hideCode": true,
    "hidePrompt": true
   },
   "outputs": [],
   "source": [
    "img = 1\n",
    "print(' Stacked Tensor Shape: ', tt[0].shape)\n",
    "print(' Stacked Tensor :   \\n ', tt[0][img])\n",
    "\n",
    "print(' rnd_tensor shape ', tt[1].shape)\n",
    "print(' rnd_tensor :  \\n ', tt[1][img])\n",
    "\n",
    "print(' Gauss_Sum shape :\\n', tt[2].shape)\n",
    "# print(' FP gt boxes        :\\n', tt[3])\n",
    "# print(' FP gt class assign :\\n', tt[4])\n",
    "# print(' gt class ids assign :\\n', tt[5])\n",
    "# print()\n",
    "# print('fp_rois ', tt[6].shape, '\\n',tt[6])\n",
    "# print('rois ', tt[9].shape, '\\n',tt[9])\n",
    "# print()\n",
    "# print('fp_rois_gt_boxes ', tt[7].shape, '\\n',tt[7])\n",
    "# print('rois_gt_boxes ', tt[10].shape, '\\n',tt[10])\n",
    "# print()\n",
    "# print('fp_rois_gt_class_ids ', tt[8].shape, '\\n',tt[8])\n",
    "# print('rois_gt_class_ids ', tt[11].shape, '\\n',tt[11])\n",
    "# # return positive_ind_shuffled, positive_indices, positive_overlaps, roi_gt_box_assignment,roi_gt_boxes, roi_gt_class_ids"
   ]
  },
  {
   "cell_type": "code",
   "execution_count": null,
   "metadata": {
    "ExecuteTime": {
     "end_time": "2018-05-10T13:43:36.617141Z",
     "start_time": "2018-05-10T13:43:35.151625Z"
    },
    "hideCode": true,
    "hideOutput": true,
    "hidePrompt": true,
    "scrolled": false
   },
   "outputs": [],
   "source": [
    "with sess.as_default():\n",
    "    gauss_sum = development_build_gaussian_tf(KB.constant(pred_tensor), model.config, names = ['Dev'])"
   ]
  },
  {
   "cell_type": "code",
   "execution_count": null,
   "metadata": {
    "hideCode": true,
    "hidePrompt": true
   },
   "outputs": [],
   "source": [
    "    rnd_tensor = tf.floor(stacked_tensor)    \n",
    "    sum_tensor = tf.reduce_sum(tf.abs(rnd_tensor[:,:,:4]), axis=-1)\n",
    "    non_zero   = tf.cast(sum_tensor, tf.bool)\n",
    "    non_zero_exp = tf.expand_dims(non_zero, axis =-1)\n",
    "    \n",
    "    print(' rnd_tensor :', tf.shape(rnd_tensor).eval())\n",
    "    print(' sum_tensor :', tf.shape(sum_tensor).eval())\n",
    "    print(' non_zero   :', tf.shape(non_zero).eval())\n",
    "    print(' non_zero_exp:', tf.shape(non_zero_exp).eval())\n",
    "    non_zero_exp = KB.repeat_elements(non_zero_exp, 6, axis=-1)\n",
    "    print(' non_zero_exp:', tf.shape(non_zero_exp).eval())\n",
    "    nz_tensor  = tf.boolean_mask(rnd_tensor, non_zero_exp, axis = -1)\n",
    "    print(' nz_tensor  :', tf.shape(nz_tensor).eval())\n",
    "\n",
    "#     print(stacked_tensor[0].eval())\n",
    "    print(rnd_tensor[0].eval())\n",
    "    print()\n",
    "#     print(stacked_tensor[1].eval())\n",
    "    print(rnd_tensor[1].eval())\n",
    "    print()\n",
    "#     print(stacked_tensor[2].eval())\n",
    "    print(rnd_tensor[2].eval())\n",
    "    \n",
    "    print(sum_tensor[1].eval())    \n",
    "    print(non_zero[1].eval())    \n",
    "#     non_zeros = tf.cast(tf.reduce_sum(tf.abs(rnd_tensor), axis=1), tf.bool)\n",
    "    print(non_zero_exp[1].eval())    \n",
    "\n",
    "    print(nz_tensor[1].eval())\n",
    "    print()\n"
   ]
  },
  {
   "cell_type": "markdown",
   "metadata": {
    "hideCode": false,
    "hidePrompt": true
   },
   "source": [
    "### Plot Predicted  Heatmaps `pred_gaussian` \n",
    "\n",
    "`pred_gaussian2` and `gt_gaussian2` from Tensorflow PCN layer"
   ]
  },
  {
   "cell_type": "code",
   "execution_count": null,
   "metadata": {
    "hideCode": true,
    "hidePrompt": true
   },
   "outputs": [],
   "source": [
    "%matplotlib notebook\n",
    "INPUT1 = pred_hm\n",
    "INPUT2 = pred_hm_norm\n",
    "# gt_heatmap  = layers_out[27]     # gt_gaussiam \n",
    "# pred_heatmap= layers_out[24]  # pred_gaussian\n",
    "# gt_heatmap  = layers_out[19]     # gt_gaussiam \n",
    "# pred_heatmap= layers_out[18]  # pred_gaussian\n",
    "print('INPUT1 shape : ', INPUT1.shape, ' INPUT2 shape: ', INPUT2.shape)\n",
    "num_images = 1 # config.IMAGES_PER_GPU\n",
    "num_classes = config.NUM_CLASSES\n",
    "\n",
    "img = 0\n",
    "\n",
    "image_id = img_meta[img,0]\n",
    "print('Image id: ',image_id)\n",
    "print('Classes (1: circle, 2: square, 3: triangle ): ')\n",
    "image = dataset_train.load_image(image_id)\n",
    "mask, class_ids = dataset_train.load_mask(image_id)\n",
    "visualize.display_top_masks(image, mask, class_ids, dataset_train.class_names)\n",
    "\n",
    "\n",
    "for cls in range(1,num_classes):\n",
    "    ttl = 'INPUT1 -  image :  {} class: {} '.format(img,cls)     \n",
    "    print(' *** pred_heatmap ', INPUT1[img,:,:,cls].shape, ttl)   \n",
    "    plot_gaussian(INPUT1[img,:,:,cls], title = ttl)  \n",
    "    \n",
    "    ttl = 'INPUT2 -  image :  {} class: {} '.format(img,cls)     \n",
    "    print(' *** pred_heatmap ', INPUT2[img,:,:,cls].shape, ttl)   \n",
    "    plot_gaussian(INPUT2[img,:,:,cls], title = ttl)  "
   ]
  },
  {
   "cell_type": "code",
   "execution_count": null,
   "metadata": {},
   "outputs": [],
   "source": []
  },
  {
   "cell_type": "code",
   "execution_count": null,
   "metadata": {
    "ExecuteTime": {
     "end_time": "2018-05-11T13:12:47.630505Z",
     "start_time": "2018-05-11T13:12:47.372814Z"
    },
    "hideCode": true,
    "hideOutput": true,
    "hidePrompt": true
   },
   "outputs": [],
   "source": [
    "print(pred_tensor[0,2])\n",
    "print(output_rois[0,:])\n",
    "width  = pred_tensor[:,:,:,3] - pred_tensor[:,:,:,1]      # x2 - x1\n",
    "height = pred_tensor[:,:,:,2] - pred_tensor[:,:,:,0]\n",
    "cx     = pred_tensor[:,:,:,1] + ( width  / 2.0)\n",
    "cy     = pred_tensor[:,:,:,0] + ( height / 2.0)\n",
    "means  = np.floor(np.stack((cy,cx),axis = -1))\n",
    "\n",
    "print(means.shape)\n",
    "print(means[0,2,:12])"
   ]
  },
  {
   "cell_type": "code",
   "execution_count": null,
   "metadata": {
    "ExecuteTime": {
     "end_time": "2018-05-11T13:20:27.357106Z",
     "start_time": "2018-05-11T13:20:27.100938Z"
    },
    "hideCode": true,
    "hidePrompt": true
   },
   "outputs": [],
   "source": [
    "print(gt_tensor[0,2])\n",
    "print(output_rois[0,:])\n",
    "width  = gt_tensor[:,:,:,3] - gt_tensor[:,:,:,1]      # x2 - x1\n",
    "height = gt_tensor[:,:,:,2] - gt_tensor[:,:,:,0]\n",
    "cx     = gt_tensor[:,:,:,1] + ( width  / 2.0)\n",
    "cy     = gt_tensor[:,:,:,0] + ( height / 2.0)\n",
    "gt_means  = np.floor(np.stack((cy,cx),axis = -1))\n",
    "\n",
    "print(gt_means.shape)\n",
    "print(gt_means[0,2,:12])"
   ]
  },
  {
   "cell_type": "markdown",
   "metadata": {
    "hideCode": true,
    "hidePrompt": true
   },
   "source": [
    "###  Find maximum of gaussian distributions for the pred_heatmap\n",
    "Potentially use this as our heatmap scores \n",
    "Found out that using MAX values from the class heatmap (currently generated from the pred_tensor that itself is generated form output_rois and mrcnn_class) is not a viable option, because mutlple max values tend to congreagate around the peak of the gaussian distribution. \n",
    "This is also the case for gt_heatmaps.\n",
    "This will probably also be the case for the FCN output."
   ]
  },
  {
   "cell_type": "markdown",
   "metadata": {
    "hideCode": true,
    "hidePrompt": true
   },
   "source": [
    "#### pred_heatmap"
   ]
  },
  {
   "cell_type": "code",
   "execution_count": null,
   "metadata": {
    "ExecuteTime": {
     "end_time": "2018-05-11T13:23:37.739059Z",
     "start_time": "2018-05-11T13:23:37.484900Z"
    },
    "hideCode": true,
    "hideOutput": true,
    "hidePrompt": true,
    "scrolled": false
   },
   "outputs": [],
   "source": [
    "np.set_printoptions(linewidth=150, threshold=10000)\n",
    "\n",
    "print(pred_hm.shape)\n",
    "cls_hm = pred_hm[0,:,:,2]\n",
    "print(cls_hm.shape)\n",
    "print(np.unravel_index(np.argmax(cls_hm) , cls_hm.shape) )\n",
    "print(np.max(cls_hm))\n",
    "\n",
    "print(pred_hm_norm.shape)\n",
    "cls_hm_norm = pred_hm_norm[0,:,:,2]\n",
    "print(cls_hm_norm.shape)\n",
    "print(np.unravel_index(np.argmax(cls_hm_norm) , cls_hm_norm.shape) )\n",
    "print(np.max(cls_hm_norm))\n"
   ]
  },
  {
   "cell_type": "code",
   "execution_count": null,
   "metadata": {
    "ExecuteTime": {
     "end_time": "2018-05-11T13:09:06.929477Z",
     "start_time": "2018-05-11T13:09:06.655253Z"
    },
    "hideCode": true,
    "hideOutput": true,
    "hidePrompt": true
   },
   "outputs": [],
   "source": [
    "hm_ls =np.ravel(cls_hm)\n",
    "hm_ls_norm = np.ravel(cls_hm_norm)\n",
    "srtlst = np.argsort(hm_ls)\n",
    "srtlst_norm = np.argsort(hm_ls_norm)\n",
    "print(' Sortlist')\n",
    "print(srtlst[::-1])\n",
    "print(srtlst.shape)\n",
    "print('---- norm ------')\n",
    "print(srtlst_norm[::-1])\n",
    "print(srtlst_norm.shape)\n",
    "\n",
    "print(' Top scores')\n",
    "top_scores = srtlst[:-21:-1]\n",
    "print('---- norm ------')\n",
    "top_scores_norm = srtlst_norm[:-21:-1]\n",
    "print(len(top_scores),top_scores)\n",
    "print(' Top items ')\n",
    "for i in top_scores :\n",
    "    print( i , '  ', np.unravel_index(i, cls_hm.shape))\n",
    "print('---- norm ------')    \n",
    "for i in top_scores_norm :\n",
    "    print( i , '  ', np.unravel_index(i, cls_hm_norm.shape))\n",
    "print(' Top scores ')\n",
    "print(hm_ls[top_scores])\n",
    "print('---- norm ------')    \n",
    "print(hm_ls_norm[top_scores_norm])\n"
   ]
  },
  {
   "cell_type": "markdown",
   "metadata": {
    "hideCode": true,
    "hidePrompt": true
   },
   "source": [
    "#### gt_heatmap"
   ]
  },
  {
   "cell_type": "code",
   "execution_count": null,
   "metadata": {
    "ExecuteTime": {
     "end_time": "2018-05-11T13:24:12.185707Z",
     "start_time": "2018-05-11T13:24:11.932533Z"
    },
    "hideCode": true,
    "hideOutput": true,
    "hidePrompt": true,
    "scrolled": true
   },
   "outputs": [],
   "source": [
    "np.set_printoptions(linewidth=150, threshold=10000)\n",
    "print(pred_hm.shape)\n",
    "cls_hm = gt_hm[0,:,:,2]\n",
    "print(cls_hm.shape)\n",
    "print(np.unravel_index(np.argmax(cls_hm) , cls_hm.shape) )\n",
    "print(np.max(cls_hm))\n",
    "\n",
    "print('---- norm -----')\n",
    "print(gt_hm_norm.shape)\n",
    "cls_hm_norm = gt_hm_norm[0,:,:,2]\n",
    "print(cls_hm_norm.shape)\n",
    "print(np.unravel_index(np.argmax(cls_hm_norm) , cls_hm_norm.shape) )\n",
    "print(np.max(cls_hm_norm))\n",
    "\n"
   ]
  },
  {
   "cell_type": "code",
   "execution_count": null,
   "metadata": {
    "ExecuteTime": {
     "end_time": "2018-05-11T13:24:14.243495Z",
     "start_time": "2018-05-11T13:24:13.965220Z"
    },
    "hideCode": true,
    "hideOutput": true,
    "hidePrompt": true
   },
   "outputs": [],
   "source": [
    "hm_ls =np.ravel(cls_hm)\n",
    "hm_ls_norm = np.ravel(cls_hm_norm)\n",
    "srtlst = np.argsort(hm_ls)\n",
    "srtlst_norm = np.argsort(hm_ls_norm)\n",
    "print(' Sortlist')\n",
    "print(srtlst[::-1])\n",
    "print(srtlst.shape)\n",
    "print('---- norm ------')\n",
    "print(srtlst_norm[::-1])\n",
    "print(srtlst_norm.shape)\n",
    "\n",
    "print(' Top scores')\n",
    "top_scores = srtlst[:-21:-1]\n",
    "print('---- norm ------')\n",
    "top_scores_norm = srtlst_norm[:-21:-1]\n",
    "print(len(top_scores),top_scores)\n",
    "print(' Top items ')\n",
    "for i in top_scores :\n",
    "    print( i , '  ', np.unravel_index(i, cls_hm.shape))\n",
    "print('---- norm ------')    \n",
    "for i in top_scores_norm :\n",
    "    print( i , '  ', np.unravel_index(i, cls_hm_norm.shape))\n",
    "print(' Top scores ')\n",
    "print(hm_ls[top_scores])\n",
    "print('---- norm ------')    \n",
    "print(hm_ls_norm[top_scores_norm])\n"
   ]
  },
  {
   "cell_type": "code",
   "execution_count": null,
   "metadata": {
    "ExecuteTime": {
     "end_time": "2018-05-11T11:48:39.739236Z",
     "start_time": "2018-05-11T11:48:39.479040Z"
    },
    "hideCode": true,
    "hidePrompt": true
   },
   "outputs": [],
   "source": [
    "max_a = np.max(cls_pred_heatmap)\n",
    "print(max_a.shape)\n",
    "\n",
    "print(np.unravel_index(np.argmax(prob_a) , prob_a.shape) )\n",
    "\n",
    "print()\n",
    "\n",
    "print(' covar ', covar_sqrd)\n",
    "print(prob_b[35:50, 45:54])\n",
    "max_b = np.max(prob_b)\n",
    "print(np.unravel_index(np.argmax(prob_b) , prob_b.shape) )\n",
    "\n",
    "print('max a , max_b ', max_a, max_b, max_a/max_b)"
   ]
  },
  {
   "cell_type": "markdown",
   "metadata": {
    "hideCode": true,
    "hidePrompt": true
   },
   "source": [
    "###  Test `means`, `covar`, `gauss_grid`, and `gauss_sum ` between development version and final version"
   ]
  },
  {
   "cell_type": "code",
   "execution_count": null,
   "metadata": {
    "ExecuteTime": {
     "end_time": "2018-05-02T11:10:10.133108Z",
     "start_time": "2018-05-02T11:10:09.386212Z"
    },
    "hideCode": true,
    "hidePrompt": true
   },
   "outputs": [],
   "source": [
    "print(means.get_shape(), means.get_shape())\n",
    "tst1 = means.eval()\n",
    "tst2 = means2.eval()\n",
    "print(tst1.shape, tst2.shape)\n",
    "\n",
    "print(tst1[0,:10])\n",
    "print()\n",
    "print(tst2[0,:10])\n",
    "print(np.all(tst1 == tst2))\n",
    "print()\n",
    "del tst1, tst2"
   ]
  },
  {
   "cell_type": "code",
   "execution_count": null,
   "metadata": {
    "ExecuteTime": {
     "end_time": "2018-05-02T11:10:14.482950Z",
     "start_time": "2018-05-02T11:10:14.205020Z"
    },
    "hideCode": true,
    "hidePrompt": true,
    "scrolled": false
   },
   "outputs": [],
   "source": [
    "tst1 = st.eval()\n",
    "tst2 = st2.eval()\n",
    "print(tst1.shape, tst2.shape)\n",
    "\n",
    "print(tst1[0,:10])\n",
    "print()\n",
    "print(tst2[0,:10])\n",
    "print(np.all(tst1 == tst2))\n",
    "print()\n",
    "del tst1, tst2"
   ]
  },
  {
   "cell_type": "code",
   "execution_count": null,
   "metadata": {
    "ExecuteTime": {
     "end_time": "2018-05-02T11:10:18.158709Z",
     "start_time": "2018-05-02T11:10:17.474806Z"
    },
    "hideCode": true,
    "hidePrompt": true,
    "scrolled": false
   },
   "outputs": [],
   "source": [
    "tst1 = gauss_grid.eval()\n",
    "tst2 = gauss_grid2.eval()\n",
    "print(tst1.shape, tst2.shape)\n",
    "\n",
    "print(tst1[0,0,:10])\n",
    "print()\n",
    "print(tst2[0,0,:10])\n",
    "print(np.all(tst1 == tst2))\n",
    "# print()\n",
    "del tst1, tst2"
   ]
  },
  {
   "cell_type": "code",
   "execution_count": null,
   "metadata": {
    "ExecuteTime": {
     "end_time": "2018-05-02T11:10:23.859635Z",
     "start_time": "2018-05-02T11:10:23.164182Z"
    },
    "hideCode": true,
    "hidePrompt": true,
    "scrolled": false
   },
   "outputs": [],
   "source": [
    "tst1 = gauss_sum.eval()\n",
    "tst2 = gauss_sum2.eval()\n",
    "print(tst1.shape, tst2.shape)\n",
    "\n",
    "# print(tst1[0,0,:10])\n",
    "# print()\n",
    "# print(tst2[0,0,:10])\n",
    "print(np.all(tst1 == tst2))\n",
    "# print()\n",
    "del tst1, tst2"
   ]
  },
  {
   "cell_type": "markdown",
   "metadata": {
    "hideCode": true,
    "hidePrompt": true
   },
   "source": [
    "###  Compute mean and max of `gauss_grid()`"
   ]
  },
  {
   "cell_type": "code",
   "execution_count": null,
   "metadata": {
    "ExecuteTime": {
     "end_time": "2018-05-02T10:04:30.778443Z",
     "start_time": "2018-05-02T10:04:08.500Z"
    },
    "hideCode": true,
    "hideOutput": true,
    "hidePrompt": true,
    "scrolled": false
   },
   "outputs": [],
   "source": [
    "print(gauss_grid.shape)\n",
    "for img in [0,1,2]:\n",
    "    for bbx in range(32):\n",
    "        gauss_mean = KB.mean(gauss_grid[img, bbx,:,:]).eval()\n",
    "        gauss_min  = KB.min(gauss_grid[img, bbx,:,:]).eval()\n",
    "        gauss_max  = KB.max(gauss_grid[img, bbx,:,:]).eval()\n",
    "#         prob    = stacked_tensor[img,bbx,-1].eval() 'prob: ',prob ,\n",
    "        print('Img/bbx: {}/{}     Mean:  {:6e}  \\t Max: {:6e}  \\t Min : {:6e}'.format(img, bbx, gauss_mean, gauss_max, gauss_min))"
   ]
  },
  {
   "cell_type": "markdown",
   "metadata": {
    "hideCode": true,
    "hidePrompt": true
   },
   "source": [
    "###  Compute mean and max of `gauss_grid2()`"
   ]
  },
  {
   "cell_type": "code",
   "execution_count": null,
   "metadata": {
    "ExecuteTime": {
     "end_time": "2018-05-02T10:04:30.776944Z",
     "start_time": "2018-05-02T10:03:27.542792Z"
    },
    "hideCode": true,
    "hideOutput": true,
    "hidePrompt": true,
    "scrolled": false
   },
   "outputs": [],
   "source": [
    "print(gauss_grid2.shape)\n",
    "for img in [0,1,2]:\n",
    "    for bbx in range(32):\n",
    "        gauss_mean = KB.mean(gauss_grid2[img, bbx,:,:]).eval()\n",
    "        gauss_min  = KB.min(gauss_grid2[img, bbx,:,:]).eval()\n",
    "        gauss_max  = KB.max(gauss_grid2[img, bbx,:,:]).eval()\n",
    "#         prob    = stacked_tensor[img,bbx,-1].eval() 'prob: ',prob ,\n",
    "        print('Img/bbx: {}/{}     Mean:  {:6e}  \\t Max: {:6e}  \\t Min : {:6e}'.format(img, bbx, gauss_mean, gauss_max, gauss_min))"
   ]
  },
  {
   "cell_type": "markdown",
   "metadata": {
    "hideCode": true,
    "hidePrompt": true
   },
   "source": [
    "###  Compute `gauss_grid()` and   `gauss_grid2()`"
   ]
  },
  {
   "cell_type": "code",
   "execution_count": null,
   "metadata": {
    "ExecuteTime": {
     "end_time": "2018-05-02T11:10:39.307514Z",
     "start_time": "2018-05-02T11:10:38.603585Z"
    },
    "hideCode": true,
    "hidePrompt": true,
    "scrolled": false
   },
   "outputs": [],
   "source": [
    "print(gauss_grid2.shape)\n",
    "gauss_max  = KB.max(gauss_grid, axis = [2,3]).eval()\n",
    "gauss_max2  = KB.max(gauss_grid2, axis = [2,3]).eval()\n",
    "\n",
    "for img in [0,1,2]:\n",
    "    for bbx in range(32):\n",
    "\n",
    "#         prob    = stacked_tensor[img,bbx,-1].eval() 'prob: ',prob ,\n",
    "        print('Img/bbx: {}/{}     MAX:  {:6e}  \\t MAX2: {:6e}  \\t Equal : {}'.format(img, bbx, gauss_max[img, bbx],gauss_max2[img,bbx],(gauss_max[img,bbx]== gauss_max2[img,bbx])))\n",
    "del gauss_max, gauss_max2    "
   ]
  },
  {
   "cell_type": "markdown",
   "metadata": {
    "hideCode": true,
    "hidePrompt": true
   },
   "source": [
    "### Compute `gauss_sum()` and  `gauss_sum2()`"
   ]
  },
  {
   "cell_type": "code",
   "execution_count": null,
   "metadata": {
    "ExecuteTime": {
     "end_time": "2018-05-02T11:10:52.883112Z",
     "start_time": "2018-05-02T11:10:52.154331Z"
    },
    "hideCode": true,
    "hidePrompt": true
   },
   "outputs": [],
   "source": [
    "print(gauss_sum.shape, gauss_sum2.shape)\n",
    "# print(gauss_grid2.shape)\n",
    "tst1 = tf.transpose(gauss_sum, [0,3,1,2])\n",
    "tst2 = tf.transpose(gauss_sum2, [0,3,1,2])\n",
    "print(tst1.shape, tst2.shape)\n",
    "\n",
    "gauss_max1 = KB.max(tst1, axis = [2,3]).eval()\n",
    "gauss_max2 = KB.max(tst2, axis = [2,3]).eval()\n",
    "print(gauss_max1.shape, gauss_max2.shape)\n",
    "\n",
    "# gauss_max2  = KB.max(gauss_grid2, axis = [2,3]).eval()\n",
    "\n",
    "for img in [0,1,2]:\n",
    "    for bbx in range(4):\n",
    "        print('Img/bbx: {}/{}     MAX:  {:6e}  \\t MAX2: {:6e}  \\t Equal : {}'.format(img, bbx, gauss_max1[img, bbx],gauss_max2[img,bbx],(gauss_max1[img,bbx]== gauss_max2[img,bbx])))\n",
    "   "
   ]
  },
  {
   "cell_type": "code",
   "execution_count": null,
   "metadata": {
    "ExecuteTime": {
     "end_time": "2018-05-02T10:58:45.332214Z",
     "start_time": "2018-05-02T10:58:44.117193Z"
    },
    "hideCode": true,
    "hidePrompt": true
   },
   "outputs": [],
   "source": [
    "for img in [0,1,2]:\n",
    "    for bbx in range(4):\n",
    "        print('Img/bbx: {}/{}    Equal : {}'.format(img, bbx, (tst1[img,bbx]==  tst2[img,bbx])))\n",
    "del gauss_max1, gauss_max2    "
   ]
  },
  {
   "cell_type": "markdown",
   "metadata": {
    "hideCode": true,
    "hidePrompt": true
   },
   "source": [
    "\n",
    "###  Compute mean and max OF `gauss_sum2()`"
   ]
  },
  {
   "cell_type": "code",
   "execution_count": null,
   "metadata": {
    "ExecuteTime": {
     "end_time": "2018-05-02T09:55:59.702691Z",
     "start_time": "2018-05-02T09:55:42.231847Z"
    },
    "hideCode": true,
    "hidePrompt": true,
    "scrolled": true
   },
   "outputs": [],
   "source": [
    "print(gauss_sum2.shape)\n",
    "for img in [0,1,2]:\n",
    "    for cls in range(4):\n",
    "        gauss_mean = KB.mean(gauss_sum2[img,:,:,cls]).eval()\n",
    "        gauss_min  = KB.min(gauss_sum2[img, :,:,cls]).eval()\n",
    "        gauss_max  = KB.max(gauss_sum2[img, :,:,cls]).eval()\n",
    "        print('Img/bbx: ', img, '/',cls ,'   Mean: ', gauss_mean, '\\t Max: ' , gauss_max, '\\t Min :', gauss_min)"
   ]
  },
  {
   "cell_type": "markdown",
   "metadata": {
    "hideCode": true,
    "hidePrompt": true
   },
   "source": [
    "### Compute min and max of `gauss_sum()`"
   ]
  },
  {
   "cell_type": "code",
   "execution_count": null,
   "metadata": {
    "ExecuteTime": {
     "end_time": "2018-05-02T09:57:11.807587Z",
     "start_time": "2018-05-02T09:56:55.286325Z"
    },
    "hideCode": true,
    "hidePrompt": true
   },
   "outputs": [],
   "source": [
    "print(gauss_sum.shape)\n",
    "for img in [0,1,2]:\n",
    "    for cls in range(4):\n",
    "        gauss_mean = KB.mean(gauss_sum[img,:,:,cls]).eval()\n",
    "        gauss_min  =  KB.min(gauss_sum[img, :,:,cls]).eval()\n",
    "        gauss_max  =  KB.max(gauss_sum[img, :,:,cls]).eval()\n",
    "        print('Img/bbx: ', img, '/',cls ,'   Mean: ', gauss_mean, '\\t Max: ' , gauss_max, '\\t Min :', gauss_min)"
   ]
  },
  {
   "cell_type": "code",
   "execution_count": null,
   "metadata": {
    "ExecuteTime": {
     "end_time": "2018-05-02T08:44:41.071788Z",
     "start_time": "2018-05-02T08:44:33.434419Z"
    },
    "hideCode": true,
    "hidePrompt": true
   },
   "outputs": [],
   "source": [
    "pred_gauss = tf.constant(layers_out[19])\n",
    "print(pred_gauss.shape)\n",
    "for img in [0,1,2]:\n",
    "    for cls in range(4):\n",
    "        gauss_mean = KB.mean(pred_gauss[img,:,:,cls]).eval()\n",
    "        gauss_min  = KB.min(pred_gauss[img, :,:,cls]).eval()\n",
    "        gauss_max  = KB.max(pred_gauss[img, :,:,cls]).eval()\n",
    "        print('Img/bbx: ', img, '/',cls ,'   Mean: ', gauss_mean, '\\t Max: ' , gauss_max, '\\t Min :', gauss_min)"
   ]
  },
  {
   "cell_type": "markdown",
   "metadata": {
    "hideCode": true,
    "hidePrompt": true
   },
   "source": [
    "### Plot Predicted  Heatmaps `pred_gaussian` \n",
    "\n",
    "`pred_gaussian2` and `gt_gaussian2` from Tensorflow PCN layer"
   ]
  },
  {
   "cell_type": "code",
   "execution_count": null,
   "metadata": {
    "ExecuteTime": {
     "end_time": "2018-05-02T11:14:01.486755Z",
     "start_time": "2018-05-02T11:13:59.680438Z"
    },
    "hideCode": true,
    "hidePrompt": true,
    "scrolled": false
   },
   "outputs": [],
   "source": [
    "%matplotlib notebook\n",
    "# gt_heatmap  = layers_out[27]     # gt_gaussiam \n",
    "# pred_heatmap= layers_out[24]  # pred_gaussian\n",
    "# gt_heatmap  = gauss_sum.eval()    # gt_gaussiam \n",
    "gt_heatmap  = layers_out[18]     # gt_gaussiam \n",
    "\n",
    "pred_heatmap= gauss_sum2.eval()  # pred_gaussian\n",
    "print('gt_gaussian heatmap shape : ', gt_heatmap.shape, ' pred_gaussian heatmap shape: ', pred_heatmap.shape)\n",
    "num_images = 1 # config.IMAGES_PER_GPU\n",
    "num_classes = config.NUM_CLASSES\n",
    "\n",
    "img = 0\n",
    "\n",
    "image_id = img_meta[img,0]\n",
    "print('Image id: ',image_id)\n",
    "print('Classes (1: circle, 2: square, 3: triangle ): ')\n",
    "image = dataset_train.load_image(image_id)\n",
    "mask, class_ids = dataset_train.load_mask(image_id)\n",
    "visualize.display_top_masks(image, mask, class_ids, dataset_train.class_names)\n",
    "\n",
    "\n",
    "for cls in range(1,num_classes):\n",
    "    ttl = 'GROUND TRUTH HEATMAP - image :  {} class: {} '.format(img,cls)\n",
    "    print(' *** Zout  ', gt_heatmap[img,:,:,cls].shape, ttl)   \n",
    "    plot_gaussian( gt_heatmap[img,:,:,cls], title = ttl)\n",
    "    \n",
    "    ttl = 'PREDICTED heatmap  - image :  {} class: {} '.format(img,cls)     \n",
    "    print(' *** pred_heatmap ', pred_heatmap[img,:,:,cls].shape, ttl)   \n",
    "    plot_gaussian(pred_heatmap[img,:,:,cls], title = ttl)  "
   ]
  },
  {
   "cell_type": "markdown",
   "metadata": {
    "hideCode": true,
    "hidePrompt": true
   },
   "source": [
    "### Plot Predicted  Heatmaps `pred_gaussian` \n",
    "\n",
    "`pred_gaussian2` and `gt_gaussian2` from Tensorflow PCN layer"
   ]
  },
  {
   "cell_type": "code",
   "execution_count": null,
   "metadata": {
    "hideCode": true,
    "hidePrompt": true
   },
   "outputs": [],
   "source": [
    "%matplotlib notebook\n",
    "# gt_heatmap  = layers_out[27]     # gt_gaussiam \n",
    "# pred_heatmap= layers_out[24]  # pred_gaussian\n",
    "gt_heatmap  = layers_out[19]     # gt_gaussiam \n",
    "pred_heatmap= layers_out[18]  # pred_gaussian\n",
    "print('gt_gaussian heatmap shape : ', gt_heatmap.shape, ' pred_gaussian heatmap shape: ', pred_heatmap.shape)\n",
    "num_images = 1 # config.IMAGES_PER_GPU\n",
    "num_classes = config.NUM_CLASSES\n",
    "\n",
    "img = 0\n",
    "\n",
    "image_id = img_meta[img,0]\n",
    "print('Image id: ',image_id)\n",
    "print('Classes (1: circle, 2: square, 3: triangle ): ')\n",
    "image = dataset_train.load_image(image_id)\n",
    "mask, class_ids = dataset_train.load_mask(image_id)\n",
    "visualize.display_top_masks(image, mask, class_ids, dataset_train.class_names)\n",
    "\n",
    "\n",
    "for cls in range(1,num_classes):\n",
    "    ttl = 'GROUND TRUTH HEATMAP - image :  {} class: {} '.format(img,cls)\n",
    "    print(' *** Zout  ', gt_heatmap[img,:,:,cls].shape, ttl)   \n",
    "    plot_gaussian( gt_heatmap[img,:,:,cls], title = ttl)\n",
    "    \n",
    "    ttl = 'PREDICTED heatmap  - image :  {} class: {} '.format(img,cls)     \n",
    "    print(' *** pred_heatmap ', pred_heatmap[img,:,:,cls].shape, ttl)   \n",
    "    plot_gaussian(pred_heatmap[img,:,:,cls], title = ttl)  "
   ]
  },
  {
   "cell_type": "markdown",
   "metadata": {
    "hideCode": true,
    "hidePrompt": true
   },
   "source": [
    "\n",
    "### Plot Predicted and Ground Truth Probability Heatmaps `pred_gaussian` and `gt_gaussian` (Tensorflow)\n",
    "\n",
    "`pred_gaussian2` and `gt_gaussian2` from Tensorflow PCN layer"
   ]
  },
  {
   "cell_type": "code",
   "execution_count": null,
   "metadata": {
    "hideCode": true,
    "hidePrompt": true
   },
   "outputs": [],
   "source": [
    "%matplotlib notebook\n",
    "# gt_heatmap  = layers_out[27]     # gt_gaussiam \n",
    "# pred_heatmap= layers_out[24]  # pred_gaussian\n",
    "gt_heatmap  = layers_out[19]     # gt_gaussiam \n",
    "pred_heatmap= layers_out[18]  # pred_gaussian\n",
    "print('gt_gaussian heatmap shape : ', gt_heatmap.shape, ' pred_gaussian heatmap shape: ', pred_heatmap.shape)\n",
    "num_images = 1 # config.IMAGES_PER_GPU\n",
    "num_classes = config.NUM_CLASSES\n",
    "\n",
    "img = 0\n",
    "\n",
    "image_id = img_meta[img,0]\n",
    "print('Image id: ',image_id)\n",
    "print('Classes (1: circle, 2: square, 3: triangle ): ')\n",
    "image = dataset_train.load_image(image_id)\n",
    "mask, class_ids = dataset_train.load_mask(image_id)\n",
    "visualize.display_top_masks(image, mask, class_ids, dataset_train.class_names)\n",
    "\n",
    "\n",
    "for cls in range(1,num_classes):\n",
    "    ttl = 'GROUND TRUTH HEATMAP - image :  {} class: {} '.format(img,cls)\n",
    "    print(' *** Zout  ', gt_heatmap[img,:,:,cls].shape, ttl)   \n",
    "    plot_gaussian( gt_heatmap[img,:,:,cls], title = ttl)\n",
    "    \n",
    "    ttl = 'PREDICTED heatmap  - image :  {} class: {} '.format(img,cls)     \n",
    "    print(' *** pred_heatmap ', pred_heatmap[img,:,:,cls].shape, ttl)   \n",
    "    plot_gaussian(pred_heatmap[img,:,:,cls], title = ttl)  "
   ]
  },
  {
   "cell_type": "markdown",
   "metadata": {
    "hideCode": true,
    "hidePrompt": true
   },
   "source": [
    "###  Softmax Sparse Cross Entropy Ignoring Last Label -- Used in Keras FCN"
   ]
  },
  {
   "cell_type": "code",
   "execution_count": null,
   "metadata": {
    "ExecuteTime": {
     "end_time": "2018-04-27T07:53:31.114036Z",
     "start_time": "2018-04-27T07:53:30.853311Z"
    },
    "hideCode": true,
    "hidePrompt": true
   },
   "outputs": [],
   "source": [
    "import keras.backend as K \n",
    "\n",
    "y_pred = tf.placeholder(dtype=tf.float32, shape=(16,320,320,20))\n",
    "y_true = tf.placeholder(dtype=tf.float32, shape=(16,320,320,1))\n",
    "print(K.int_shape(y_pred), K.int_shape(y_true))\n",
    "y_pred = K.reshape(y_pred, (-1, K.int_shape(y_pred)[-1]))\n",
    "print(K.int_shape(y_pred))\n",
    "log_softmax = tf.nn.log_softmax(y_pred)\n",
    "print(K.int_shape(log_softmax))\n",
    "\n",
    "y_true = K.flatten(y_true)\n",
    "print(K.int_shape(y_true))\n",
    "\n",
    "y_true = K.one_hot(tf.to_int32(y_true), K.int_shape(y_pred)[-1]+1)\n",
    "print(K.int_shape(y_true))\n",
    "\n",
    "unpacked = tf.unstack(y_true, axis=-1)\n",
    "print(len(unpacked), unpacked[0].shape)\n",
    "\n",
    "y_true = tf.stack(unpacked[:-1], axis=-1)\n",
    "print(K.int_shape(y_true))\n",
    "\n",
    "\n",
    "cross_entropy = -K.sum(y_true * log_softmax, axis=1)\n",
    "print(K.int_shape(cross_entropy))\n",
    "\n",
    "cross_entropy_mean = K.mean(cross_entropy)\n",
    "print(K.int_shape(cross_entropy_mean))\n",
    "\n",
    "\n",
    "\n",
    "\n",
    "# import keras.backend as K\n",
    "# print(K.int_shape(bef_pos)[-1])\n",
    "# unpacked  = K.flatten(test)\n",
    "# unpacked.shape"
   ]
  },
  {
   "cell_type": "markdown",
   "metadata": {
    "ExecuteTime": {
     "end_time": "2018-04-16T23:19:54.102900Z",
     "start_time": "2018-04-16T23:19:53.889289Z"
    },
    "hideCode": true,
    "hidePrompt": true
   },
   "source": [
    "### Experimental code to Create mask for class bounding boxes\n"
   ]
  },
  {
   "cell_type": "code",
   "execution_count": null,
   "metadata": {
    "hideCode": false,
    "hidePrompt": true
   },
   "outputs": [],
   "source": []
  },
  {
   "cell_type": "code",
   "execution_count": null,
   "metadata": {
    "hideCode": false,
    "hidePrompt": true
   },
   "outputs": [],
   "source": []
  },
  {
   "cell_type": "markdown",
   "metadata": {
    "hideCode": false,
    "hidePrompt": true
   },
   "source": [
    "###  Comparing Scipy / Tensorflow Multivar normal distribution "
   ]
  },
  {
   "cell_type": "code",
   "execution_count": null,
   "metadata": {
    "ExecuteTime": {
     "end_time": "2018-04-16T10:10:11.958301Z",
     "start_time": "2018-04-16T10:10:10.121532Z"
    },
    "hideCode": true,
    "hidePrompt": true
   },
   "outputs": [],
   "source": [
    "tfd        = tf.contrib.distributions\n",
    "grid       = pos_grid_1[:,:,0,0,:]\n",
    "covar      = np.array([27.7818, 26.6678],dtype = np.float32)\n",
    "covar_sqrt = np.sqrt(covar)\n",
    "covar_sqrd = covar ** 2\n",
    "full_covar = np.array([[27.7818, 0],[0, 26.6678]],dtype = np.float32)\n",
    "mean       = np.array([48.8926, 36.101 ],dtype = np.float32)\n",
    "\n",
    "print('   grid :', grid.dtype, grid.shape)\n",
    "print('   Covar sqrt :', covar_sqrt)\n",
    "print('   Covar sqrd :', covar_sqrd)\n",
    "\n",
    "mvn1  = tfd.MultivariateNormalDiag(loc=mean,scale_diag=covar_sqrt)\n",
    "prob1 = mvn1.prob(grid2)\n",
    "print()\n",
    "print('   mvn1 mean             ', mvn1.mean().eval())\n",
    "print('   mvn1 std deviation    ', mvn1.stddev().eval())\n",
    "print('   mvn1 covariance:      ', '\\n', mvn1.covariance().eval())\n",
    "print('   mvn1 location         ', mvn1.loc.eval())\n",
    "print('   Linear OP shape       ', mvn1.scale.shape)\n",
    "print('   Linear Op batch shape ', mvn1.scale.batch_shape)\n",
    "print('   Linear op Range Dim   ', mvn1.scale.range_dimension)\n",
    "print('   Linear op Domain Dim  ', mvn1.scale.domain_dimension) \n",
    "print('   Linear op Domain Dim  ', mvn1.scale.diag_part().eval()) \n",
    "\n",
    "mvn2  = tfd.MultivariateNormalDiag(loc=mean,scale_diag=covar)\n",
    "prob2 = mvn2.prob(grid2)\n",
    "print()\n",
    "print('   mvn2 mean             ', mvn2.mean().eval())\n",
    "print('   mvn2 std deviation    ', mvn2.stddev().eval())\n",
    "print('   mvn2 covariance:      ', '\\n', mvn2.covariance().eval())\n",
    "print('   mvn2 location         ', mvn2.loc.eval())\n",
    "print('   Linear OP shape       ', mvn2.scale.shape)\n",
    "print('   Linear Op batch shape ', mvn2.scale.batch_shape)\n",
    "print('   Linear op Range Dim   ', mvn2.scale.range_dimension)\n",
    "print('   Linear op Domain Dim  ', mvn2.scale.domain_dimension) \n",
    "print('   Linear op Domain Dim  ', mvn2.scale.diag_part().eval()) \n",
    "\n",
    "\n",
    "mvn3  = tfd.MultivariateNormalFullCovariance( loc = mean, covariance_matrix = full_covar)\n",
    "prob3 = mvn3.prob(grid2)\n",
    "print()\n",
    "print('   mvn3 mean             ', mvn3.mean().eval())\n",
    "print('   mvn3 std deviation    ', mvn3.stddev().eval())\n",
    "print('   mvn3 covariance:      ', '\\n', mvn3.covariance().eval())\n",
    "print('   mvn3 location         ', mvn3.loc.eval())\n",
    "print('   Linear OP shape       ', mvn3.scale.shape)\n",
    "print('   Linear Op batch shape ', mvn3.scale.batch_shape)\n",
    "print('   Linear op Range Dim   ', mvn3.scale.range_dimension)\n",
    "print('   Linear op Domain Dim  ', mvn3.scale.domain_dimension) \n",
    "print('   Linear op Domain Dim  ', mvn3.scale.diag_part().eval()) \n",
    "\n",
    "print('   << output probabilities shape:' )\n",
    "print(' prob1 ', prob1.get_shape())\n",
    "print(prob1.eval())\n",
    "print(' prob2 ', prob2.get_shape())\n",
    "print(prob2.eval())\n",
    "print(' prob3 ', prob3.get_shape())\n",
    "print(prob3.eval())"
   ]
  },
  {
   "cell_type": "code",
   "execution_count": null,
   "metadata": {
    "ExecuteTime": {
     "end_time": "2018-04-16T09:59:30.850107Z",
     "start_time": "2018-04-16T09:59:30.182014Z"
    },
    "hideCode": true,
    "hidePrompt": true,
    "scrolled": false
   },
   "outputs": [],
   "source": [
    "np.set_printoptions(linewidth=150, threshold=10000)\n",
    "from scipy.stats import  multivariate_normal\n",
    "# Build mesh-grid to hold pixel coordinates ----------------------------------\n",
    "XX = np.arange(0, img_w, 1)\n",
    "YY = np.arange(0, img_h, 1)\n",
    "XX, YY = np.meshgrid(XX, YY)\n",
    "pos  = np.empty(XX.shape + (2,))   # concatinate shape of x to make ( x.rows, x.cols, 2)\n",
    "pos[:,:,0] = XX;\n",
    "pos[:,:,1] = YY;\n",
    "# print(XX)\n",
    "# print(YY)\n",
    "# print(pos[0,:,:])\n",
    "# print(pos[0])\n",
    "# print(grid[0].eval())\n",
    "print(' pos type    ', type(pos), type(grid))\n",
    "print(' grid shape ', pos.shape, grid.shape)\n",
    "print(np.all(pos == grid.eval()))\n",
    "print(' mean  ', mean)\n",
    "print(' covar ', covar)\n",
    "mvna    = multivariate_normal(mean, covar)\n",
    "prob_a = mvna.pdf(pos)\n",
    "\n",
    "mvnb = multivariate_normal(mean, covar_sqrd)\n",
    "prob_b = mvnb.pdf(pos)\n",
    "\n",
    "print(prob_a[35:50, 45:54])\n",
    "max_a = np.max(prob_a)\n",
    "print(np.unravel_index(np.argmax(prob_a) , prob_a.shape) )\n",
    "\n",
    "print()\n",
    "\n",
    "print(' covar ', covar_sqrd)\n",
    "print(prob_b[35:50, 45:54])\n",
    "max_b = np.max(prob_b)\n",
    "print(np.unravel_index(np.argmax(prob_b) , prob_b.shape) )\n",
    "\n",
    "print('max a , max_b ', max_a, max_b, max_a/max_b)"
   ]
  },
  {
   "cell_type": "markdown",
   "metadata": {
    "hideCode": true,
    "hidePrompt": true
   },
   "source": [
    "###  Original `build heatmap()` prior to modifications "
   ]
  },
  {
   "cell_type": "code",
   "execution_count": null,
   "metadata": {
    "ExecuteTime": {
     "end_time": "2018-05-15T14:45:58.207448Z",
     "start_time": "2018-05-15T14:45:55.245020Z"
    },
    "hideCode": true,
    "hideOutput": true,
    "hidePrompt": true
   },
   "outputs": [],
   "source": [
    "##def development_build_gaussian_tf(in_tensor, config, names = None):\n",
    "# in_tensor = KB.constant(pred_tensor)\n",
    "# graph1 = tf.Graph()\n",
    "# with graph1.as_default():\n",
    "try:\n",
    "    sess.close()\n",
    "    print('session was deleted ')\n",
    "except:\n",
    "    print('Session was not defined ')\n",
    "    pass\n",
    "sess = tf.InteractiveSession()\n",
    "in_tensor = tf.identity(pred_tensor)\n",
    "# in_tensor = tf.placeholder(tf.float32, shape=[3,4,32,6], name = 'in_tensor')\n",
    "config = model.config\n",
    "names = ['Dev']\n",
    "\n",
    "\n",
    "\n",
    "num_detections  = config.DETECTION_MAX_INSTANCES\n",
    "img_h, img_w    = config.IMAGE_SHAPE[:2]\n",
    "batch_size      = config.BATCH_SIZE\n",
    "num_classes     = config.NUM_CLASSES  \n",
    "print('\\n ')\n",
    "print('  > build_heatmap() for ', names )\n",
    "\n",
    "# rois per image is determined by size of input tensor \n",
    "#   detection mode:   config.TRAIN_ROIS_PER_IMAGE \n",
    "#   ground_truth  :   config.DETECTION_MAX_INSTANCES\n",
    "\n",
    "print('    orignal in_tensor shape : ', in_tensor.shape)   \n",
    "# in_tensor = in_tensor[:,:,:,2:7]\n",
    "print('    modified in_tensor shape : ', in_tensor.get_shape())\n",
    "\n",
    "rois_per_image  = tf.to_int32(in_tensor.shape[2])\n",
    "# strt_cls        = 0 if rois_per_image == 32 else 1\n",
    "print('    num of bboxes per class is : ', rois_per_image.eval(session=sess))\n",
    "#-----------------------------------------------------------------------------\n",
    "## Build mesh-grid to hold pixel coordinates  \n",
    "#-----------------------------------------------------------------------------\n",
    "X = tf.range(img_w, dtype=tf.int32)\n",
    "Y = tf.range(img_h, dtype=tf.int32)\n",
    "X, Y = tf.meshgrid(X, Y)\n",
    "print('    X/Y shapes :',  X.get_shape(), Y.get_shape())\n",
    "# print('    X : \\n',X.eval())\n",
    "# print('    Y : \\n',Y.eval())\n",
    "\n",
    "# duplicate (repeat) X and Y into a  batch_size x rois_per_image tensor\n",
    "ones = tf.ones([batch_size, rois_per_image,1, 1], dtype = tf.int32)\n",
    "rep_X = ones * X\n",
    "rep_Y = ones * Y \n",
    "print('    Ones: ',ones.shape)                \n",
    "print('    ones_exp * X', ones.shape, '*', X.shape, '= ',rep_X.shape)\n",
    "print('    ones_exp * Y', ones.shape, '*', Y.shape, '= ',rep_Y.shape)\n",
    "\n",
    "# # stack the X and Y grids \n",
    "bef_pos = tf.to_float(tf.stack([rep_X,rep_Y], axis = -1))\n",
    "print('    before transpse ', bef_pos.get_shape())\n",
    "pos_grid = tf.transpose(bef_pos,[2,3,0,1,4])\n",
    "print('    after transpose ', pos_grid.get_shape())    \n",
    "\n",
    "#-----------------------------------------------------------------------------    \n",
    "## Stack non_zero bboxes from in_tensor into pt2_dense \n",
    "# pt2_ind shape is [?, 3]. \n",
    "#   pt2_ind[0] corresponds to image_index \n",
    "#   pt2_ind[1] corresponds to class_index \n",
    "#   pt2_ind[2] corresponds to roi row_index \n",
    "# pt2_dense shape is [?, 6]\n",
    "#    pt2_dense[0] is image index\n",
    "#    pt2_dense[1:4]  roi cooridnaytes \n",
    "#    pt2_dense[5]    is class id \n",
    "\n",
    "#-----------------------------------------------------------------------------\n",
    "pt2_sum = tf.reduce_sum(tf.abs(in_tensor[:,:,:,:-2]), axis=-1)\n",
    "print('    pt2_sum shape ',pt2_sum.shape)\n",
    "# print(pt2_sum[0].eval())\n",
    "pt2_ind = tf.where(pt2_sum > 0)\n",
    "\n",
    "## replaced the two operations with the one above\n",
    "# pt2_mask = tf.greater(pt2_sum , 0)\n",
    "# pt2_ind  = tf.where(pt2_mask)\n",
    "\n",
    "# print(' pt2_mask shape ', pt2_mask.get_shape())\n",
    "# print(pt2_mask.eval())\n",
    "print('    pt2_ind shape ', tf.shape(pt2_ind).eval() )\n",
    "print(pt2_ind.eval())\n",
    "# pt2_ind_float  =  tf.to_float(pt2_ind[:,0:1])\n",
    "\n",
    "pt2_dense = tf.gather_nd( in_tensor, pt2_ind)\n",
    "\n",
    "# append image index to front of rows - REMOVED 1-5-2018\n",
    "# pt2_ind[:,0] is the same informaiton and is used in dynamic_partition\n",
    "\n",
    "#  pt2_dense = tf.concat([tf.to_float(pt2_ind[:,0:1]), pt2_dense],axis=1)\n",
    "print('    dense shape ',tf.shape(pt2_dense).eval())\n",
    "print(pt2_dense.eval())\n",
    " \n",
    "\n",
    "## we want to slice pt2._dense by Batch size.\n",
    "## split pt2_dense by pt2_ind[:,0], which identifies the image \n",
    "stacked_list = tf.dynamic_partition(pt2_dense, tf.to_int32(pt2_ind[:,0]), num_partitions = batch_size )\n",
    "\n",
    "#-----------------------------------------------------------------------------\n",
    "##  Build Stacked output from dynamically partitioned lists \n",
    "#-----------------------------------------------------------------------------\n",
    "print('    Build Stacked output from dynamically partitioned lists --------------')  \n",
    "\n",
    "stacked_output=[]\n",
    "for img, item  in enumerate(stacked_list) : \n",
    "    rois_in_image  = tf.shape(item)[0]\n",
    "    pad_item =  tf.pad(item,[[0, rois_per_image - rois_in_image ],[0,0]])\n",
    "    stacked_output.append(pad_item)\n",
    "stacked_tensor = tf.stack(stacked_output)\n",
    "\n",
    "# print()    \n",
    "# print('   -- Stacked output contents --------------')    \n",
    "# print('    stacked_output shape : ', len(stacked_output))\n",
    "# for img, item  in enumerate(stacked_output) :\n",
    "    # print('   img ', img, ' stacked_list[img] ', tf.shape(item).eval() ) \n",
    "print('   stacked_tensor shape : ', tf.shape(stacked_tensor).eval())\n",
    "print(stacked_tensor.eval())\n",
    "\n",
    "##  Build mean and convariance tensors for Multivariate Normal Distribution \n",
    "#-----------------------------------------------------------------------------\n",
    "width  = stacked_tensor[:,:,3] - stacked_tensor[:,:,1]      # x2 - x1\n",
    "height = stacked_tensor[:,:,2] - stacked_tensor[:,:,0]\n",
    "cx     = stacked_tensor[:,:,1] + ( width  / 2.0)\n",
    "cy     = stacked_tensor[:,:,0] + ( height / 2.0)\n",
    "means  = tf.stack((cx,cy),axis = -1)\n",
    "covar  = tf.stack((width * 0.5 , height * 0.5), axis = -1)\n",
    "covar  = tf.sqrt(covar)\n",
    "\n",
    "\n",
    "print('    means shape :', tf.shape(means).eval(),' covar shape ', tf.shape(covar).eval())\n",
    "\n",
    "tfd = tf.contrib.distributions\n",
    "mvn = tfd.MultivariateNormalDiag( loc  = means,  scale_diag = covar)\n",
    "prob_grid = mvn.prob(pos_grid)\n",
    "print(prob_grid.shape)\n",
    "prob_grid = tf.transpose(prob_grid,[2,3,0,1])\n",
    "print(prob_grid.shape)\n",
    "\n",
    "#--------------------------------------------------------------------------------\n",
    "# kill distributions of NaN boxes (resulting from bboxes with height/width of zero\n",
    "# which cause singular sigma cov matrices\n",
    "#--------------------------------------------------------------------------------\n",
    "gauss_grid = tf.where(tf.is_nan(prob_grid),  tf.zeros_like(prob_grid), prob_grid)\n",
    "\n",
    "\n",
    "## scatter out the probability distributions based on class --------------------------\n",
    "print('\\n    Scatter out the probability distributions based on class --------------')     \n",
    "class_inds      = tf.to_int32(stacked_tensor[:,:,-2])   # - should be -2 since class moved to that postion\n",
    "batch_grid, roi_grid = tf.meshgrid( tf.range(batch_size, dtype=tf.int32), tf.range(rois_per_image, dtype=tf.int32),\n",
    "                                    indexing = 'ij' )\n",
    "scatter_classes = tf.stack([batch_grid, class_inds, roi_grid ],axis = -1)\n",
    "gauss_scatt     = tf.scatter_nd(scatter_classes, gauss_grid, [batch_size, num_classes, rois_per_image, img_w, img_h])\n",
    "\n",
    "print('    gaussian_grid      : ', gauss_grid.shape)    \n",
    "print('    class shape        : ', class_inds.get_shape())\n",
    "print('    roi_grid shape     : ', roi_grid.get_shape() )\n",
    "print('    batch_grid shape   : ', batch_grid.get_shape())\n",
    "print('    scatter_classes    : ', scatter_classes.get_shape())\n",
    "print('    gaussian scattered : ', gauss_scatt.shape)   \n",
    "print(scatter_classes.eval())\n",
    "\n",
    "## heatmap: sum gauss_scattered based on class ---------------------------------------\n",
    "print('\\n    Reduce sum based on class ---------------------------------------------')         \n",
    "gauss_sum = tf.reduce_sum(gauss_scatt, axis=2, name='pred_heatmap')\n",
    "print('    gaussian_sum shape     : ', gauss_sum.get_shape(), 'Keras tensor ', KB.is_keras_tensor(gauss_sum) )  \n",
    "gauss_sum = tf.where(gauss_sum > 1e-6, gauss_sum,tf.zeros_like(gauss_sum))\n",
    "gauss_sum = tf.transpose(gauss_sum,[0,2,3,1], name = names[0])\n",
    "print('    gaussian sum type/name : ', type(gauss_sum), gauss_sum.name, names[0])\n",
    "print('    gaussian_sum shape     : ', gauss_sum.get_shape(), 'Keras tensor ', KB.is_keras_tensor(gauss_sum) )  "
   ]
  },
  {
   "cell_type": "markdown",
   "metadata": {
    "hideCode": false,
    "hideOutput": false,
    "hidePrompt": false
   },
   "source": [
    "### development of `build_mask_routine()`"
   ]
  },
  {
   "cell_type": "code",
   "execution_count": null,
   "metadata": {
    "ExecuteTime": {
     "end_time": "2018-05-15T17:31:10.879155Z",
     "start_time": "2018-05-15T17:31:10.540145Z"
    },
    "hideCode": true,
    "hidePrompt": true
   },
   "outputs": [],
   "source": [
    "print(' Heatmap tensor shape is :', gauss_scatt2_reshape.shape)\n",
    "\n",
    "def build_mask_routine(input_list):\n",
    "    heatmap_tensor, input_row = input_list\n",
    "    with tf.variable_scope('mask_routine'):\n",
    "        #         tensor_output = tf.zeros_like(config.IMAGE_SHAPE[:2], dtype = tf.int32)\n",
    "        #         input_row = tf.cast(input_row, tf.int32)\n",
    "        y_extent  = tf.range(input_row[0], input_row[2])\n",
    "        x_extent  = tf.range(input_row[1], input_row[3])\n",
    "\n",
    "        Y,X       = tf.meshgrid(y_extent, x_extent)\n",
    "        bbox_mask = tf.stack([Y,X],axis=2)        \n",
    "        mask_indices = tf.reshape(bbox_mask,[-1,2])\n",
    "        mask_indices = tf.to_int32(mask_indices)\n",
    "        #     print('===> Box input is : ', row)   \n",
    "        #     print('    y_extent (Row) ', y_extent, y_extent.shape)\n",
    "        #     print('    x_extent (Cols)', x_extent, x_extent.shape)   \n",
    "        #     print(Y.shape, X.shape)\n",
    "        #     print(X.eval())\n",
    "        #     print('    bbox_mask shape: ',bbox_mask.shape)\n",
    "        #     print(bbox_mask.eval())\n",
    "        #     rows = mask_indices.shape[0]\n",
    "        #     class_id,_ = tf.meshgrid(row[4], mask_indices[:,1] )\n",
    "        #     class_id = row[4]\n",
    "        #     print('    Size of mask_indices: ', mask_indices.shape)\n",
    "        #     print('    Number of rows : ',rows )     \n",
    "        #     mask_indices = tf.concat([class_id,  mask_indices ], axis= 1)\n",
    "        #     print('    Size of mask_indices for this bbox: ', mask_indices.shape)\n",
    "        #     print(mask_indices.eval())         \n",
    "        #     mask_size = mask_indices.get_shape()\n",
    "        #     print(mask_size)\n",
    "        #     mask_updates = tf.ones_like(tf.shape(mask_size), dtype = tf.int32)\n",
    "        mask_size    = tf.shape(mask_indices)[0]\n",
    "        mask_updates = tf.ones([mask_size], dtype = tf.float32)    \n",
    "        #     print('    Size of mask_updates for this bbox: ', mask_updates.shape)    \n",
    "        #     print('  size of bbox_mask: ', mask_size)\n",
    "        #     print(' Before scatter_nd_add ')\n",
    "        #     print(tensor_var.eval())\n",
    "        mask = tf.scatter_nd(mask_indices, mask_updates, config.IMAGE_SHAPE[:2])\n",
    "        #         mask_applied = tf.multiply(heatmap_tensor[index[0], index[1]], mask, name = 'mask_applied')\n",
    "        mask_applied  = tf.multiply(heatmap_tensor, mask, name = 'mask_applied')\n",
    "#         bbox_pred_sum = tf.expand_dims( tf.reduce_sum(mask_applied),-1)\n",
    "#         area      = tf.expand_dims((input_row[2]-input_row[0]) * (input_row[3]-input_row[1]), axis = -1)\n",
    "        area      = (input_row[2]-input_row[0]) * (input_row[3]-input_row[1])    \n",
    "        bbox_pred_sum =  tf.reduce_sum(mask_applied)\n",
    "    return tf.stack([bbox_pred_sum, area], axis = -1)\n"
   ]
  },
  {
   "cell_type": "code",
   "execution_count": null,
   "metadata": {
    "hideCode": true,
    "hidePrompt": true
   },
   "outputs": [],
   "source": [
    "## generate score based on gaussian using bouding box masks ----------------------------------\n",
    "## NOTE: Score is generated on NON-NORMALIZED gaussian distributions\n",
    "##       If want to do this on normalized, we need to apply normalization to gauss_scatt first\n",
    "##--------------------------------------------------------------------------------------------\n",
    "# flatten guassian scattered and input_tensor, and pass on to build_bbox_score routine \n",
    "scatter_flattened  = tf.reshape(in_tensor, [-1,6])\n",
    "bboxes = tf.to_int32(tf.round(scatter_flattened[...,0:4]))\n",
    "print('    scatter_flattened is ', scatter_flattened.shape)\n",
    "print('    boxes shape          ', bboxes.shape)\n",
    "\n",
    "# DONT NEED THIS - was put there to try to avoid computing sum/area for zero bboxes.\n",
    "# kept as reference for future generations .....\n",
    "# bbox_sum = tf.reduce_max(in_tensor[...,0:3], axis = -1, name  = 'bbox_sum')\n",
    "# print(' bbox sum shape: ', bbox_sum.shape)\n",
    "\n",
    "gauss_scatt_shape   = KB.int_shape(gauss_scatt)\n",
    "gauss_scatt_reshape = KB.reshape(gauss_scatt, (-1, gauss_scatt_shape[-2], gauss_scatt_shape[-1]))\n",
    "print('    gaussian scatter shape : ', gauss_scatt_shape)\n",
    "print('    gaussian scatter reshaped : ', gauss_scatt_reshape.shape)\n",
    "# ones_map = tf.ones([384,128,128])   \n",
    "scores = tf.map_fn(build_mask_routine, [gauss_scatt_reshape, bboxes], dtype=tf.float32)\n",
    "\n",
    "new_shape = tf.shape(in_tensor)+ [0,0,0,tf.shape(scores)[-1]]        \n",
    "gaussian_bbox_scores = tf.concat([scatter_flattened, scores], axis = -1)\n",
    "print('    Scatter Flattened shape : ', scatter_flattened.shape))\n",
    "print('    Scores shape :            ', scores.shape)\n",
    "print('    gaussian_boxes_scores initial shape: ', gaussian_bbox_scores.shape)    \n",
    "gaussian_bbox_scores = tf.reshape(concat, new_shape)\n",
    "print('    gaussian_bbox_scores final shape   : ', gaussian_bbox_scores.shape)\n",
    "print('    complete')\n"
   ]
  },
  {
   "cell_type": "code",
   "execution_count": null,
   "metadata": {
    "ExecuteTime": {
     "end_time": "2018-05-15T17:59:33.486569Z",
     "start_time": "2018-05-15T17:59:32.859747Z"
    },
    "hideCode": true,
    "hidePrompt": true
   },
   "outputs": [],
   "source": [
    "scores = tf.map_fn(build_mask_routine, [gauss_scatt_reshape, bboxes], dtype=tf.float32)"
   ]
  },
  {
   "cell_type": "code",
   "execution_count": null,
   "metadata": {
    "ExecuteTime": {
     "end_time": "2018-05-15T18:12:00.528378Z",
     "start_time": "2018-05-15T18:11:57.234725Z"
    },
    "hideCode": true,
    "hidePrompt": true
   },
   "outputs": [],
   "source": [
    "new_shape = tf.shape(in_tensor)+ [0,0,0,tf.shape(scores)[-1]]\n",
    "print(tf.shape(in_tensor).eval())\n",
    "print(new_shape.eval())      \n",
    "print(tf.shape(reshape_tensor).eval())\n",
    "print(tf.shape(scores).eval())\n",
    "\n",
    "concat = tf.concat([reshape_tensor, scores], axis = -1)\n",
    "gaussian_boxes_scores = tf.reshape(concat, new_shape)\n",
    "print(tf.shape(gaussian_boxes_scores).eval())\n",
    "print(gaussian_boxes_scores[0,0].eval())"
   ]
  },
  {
   "cell_type": "code",
   "execution_count": null,
   "metadata": {
    "ExecuteTime": {
     "end_time": "2018-05-15T18:12:17.044573Z",
     "start_time": "2018-05-15T18:12:16.786856Z"
    },
    "hideCode": true,
    "hidePrompt": true
   },
   "outputs": [],
   "source": [
    "print(pred_tensor[0,0])\n",
    "# print(type(int_scores), len(int_scores), int_scores[0].shape, int_scores[1].shape)\n",
    "# print(type(int_scores), int_scores.shape)\n",
    "# results = tf.concat(int_scores, axis = -1)\n",
    "# print(tf.shape(results).eval())\n",
    "# print(results[:32].eval())"
   ]
  },
  {
   "cell_type": "code",
   "execution_count": null,
   "metadata": {
    "ExecuteTime": {
     "end_time": "2018-05-15T17:30:13.657068Z",
     "start_time": "2018-05-15T17:30:12.045620Z"
    },
    "hideCode": true,
    "hidePrompt": true
   },
   "outputs": [],
   "source": [
    "# print(pred_tensor[0,0])\n",
    "# bboxes = tf.concat([bboxes, tf.expand_dims(int_scores, axis = -1)],axis = -1 )\n",
    "print(reshape_tensor[10].eval())\n",
    "tst = gauss_scatt_reshape[10]\n",
    "print(tst.eval())\n",
    "tst1 = tf.where(tf.is_nan(tst),  tf.zeros_like(tst), tst)\n",
    "print(tst1.eval())"
   ]
  },
  {
   "cell_type": "code",
   "execution_count": null,
   "metadata": {
    "ExecuteTime": {
     "end_time": "2018-05-15T19:55:35.838068Z",
     "start_time": "2018-05-15T19:55:35.570335Z"
    },
    "hideCode": true,
    "hideOutput": true,
    "hidePrompt": true
   },
   "outputs": [],
   "source": [
    "print(output_rois[1]*[128,128,128,128])\n",
    "print(pred_tensor[1,2])\n",
    "print(pred_hm_scores[1,2])\n",
    "print(pred_hm_scores[1,2,:,-2]/pred_hm_scores[1,2,:,-1])"
   ]
  },
  {
   "cell_type": "markdown",
   "metadata": {
    "hideCode": true,
    "hidePrompt": true
   },
   "source": [
    "###  Successful attempt to nbuild masks based on boudiung boxes"
   ]
  },
  {
   "cell_type": "code",
   "execution_count": null,
   "metadata": {
    "ExecuteTime": {
     "end_time": "2018-05-14T23:09:26.303677Z",
     "start_time": "2018-05-14T23:09:26.051088Z"
    },
    "hideCode": false,
    "hidePrompt": true
   },
   "outputs": [],
   "source": [
    "try:\n",
    "    sess.close()\n",
    "    print('session was deleted ')\n",
    "except:\n",
    "    print('Session was not defined ')\n",
    "    pass\n",
    "try: \n",
    "    del input_tensor\n",
    "    print('input_tensor was deleted')\n",
    "except:\n",
    "    print('input tensor was not defined ')\n",
    "    pass\n",
    "# \n",
    "# tf.reset_default_graph()  \n",
    "try: \n",
    "    del canvas\n",
    "    print('Canvas was deleted')\n",
    "except:\n",
    "    print('Canvas was not defined ')\n",
    "# sess = KB.get_session()\n",
    "# print(sess)\n",
    "# pred_tensor_tf = tf.identity(pred_tensor)\n",
    "# gauss_sum2 =  build_heatmap(pred_tensor_tf, model.config, names = 'Kevin')"
   ]
  },
  {
   "cell_type": "code",
   "execution_count": null,
   "metadata": {
    "ExecuteTime": {
     "end_time": "2018-05-14T23:48:27.547714Z",
     "start_time": "2018-05-14T23:48:27.177650Z"
    },
    "hideCode": true,
    "hidePrompt": true
   },
   "outputs": [],
   "source": [
    "try:\n",
    "    sess.close()\n",
    "    print('session was deleted ')\n",
    "except:\n",
    "    print('Session was not defined ')\n",
    "    pass\n",
    "sess= tf.InteractiveSession()\n",
    "# sess.run(tf.global_variables_initializer())\n",
    "input_tensor = tf.identity(pred_tensor)\n",
    "# heatmap_tensor = tf.identity(tf.transpose(pred_hm_norm, perm=[0,3,1,2]))\n",
    "heatmap_tensor = tf.ones([3,4,128,128])\n",
    "heatmap_tensor  += heatmap_tensor\n",
    "print(' Heatmap tensor shae is :', heatmap_tensor.shape)\n",
    "\n",
    "def f1(): return  tf.zeros_like(config.IMAGE_SHAPE[:2])\n",
    "\n",
    "def build_mask_routine(heatmap_tensor, input_row, index):\n",
    "    with tf.variable_scope('mask_routine'):\n",
    "        #         tensor_output = tf.zeros_like(config.IMAGE_SHAPE[:2], dtype = tf.int32)\n",
    "        #         input_row = tf.cast(input_row, tf.int32)\n",
    "        y_extent  = tf.range(input_row[0], input_row[2])\n",
    "        x_extent  = tf.range(input_row[1], input_row[3])\n",
    "        Y,X       = tf.meshgrid(y_extent, x_extent)\n",
    "        bbox_mask = tf.stack([Y,X],axis=2)        \n",
    "        mask_indices = tf.reshape(bbox_mask,[-1,2])\n",
    "        #     print('===> Box input is : ', row)   \n",
    "        #     print('    y_extent (Row) ', y_extent, y_extent.shape)\n",
    "        #     print('    x_extent (Cols)', x_extent, x_extent.shape)   \n",
    "        #     print(Y.shape, X.shape)\n",
    "        #     print(X.eval())\n",
    "        #     print('    bbox_mask shape: ',bbox_mask.shape)\n",
    "        #     print(bbox_mask.eval())\n",
    "        #     rows = mask_indices.shape[0]\n",
    "        #     class_id,_ = tf.meshgrid(row[4], mask_indices[:,1] )\n",
    "        #     class_id = row[4]\n",
    "        #     print('    Size of mask_indices: ', mask_indices.shape)\n",
    "        #     print('    Number of rows : ',rows )     \n",
    "        #     mask_indices = tf.concat([class_id,  mask_indices ], axis= 1)\n",
    "        #     print('    Size of mask_indices for this bbox: ', mask_indices.shape)\n",
    "        #     print(mask_indices.eval())         \n",
    "        #     mask_size = mask_indices.get_shape()\n",
    "        #     print(mask_size)\n",
    "        #     mask_updates = tf.ones_like(tf.shape(mask_size), dtype = tf.int32)\n",
    "        mask_size    = tf.shape(mask_indices)[0]\n",
    "        mask_updates = tf.ones([mask_size], dtype = tf.float32)    \n",
    "        #     print('    Size of mask_updates for this bbox: ', mask_updates.shape)    \n",
    "        #     print('  size of bbox_mask: ', mask_size)\n",
    "        #     print(' Before scatter_nd_add ')\n",
    "        #     print(tensor_var.eval())\n",
    "        mask = tf.scatter_nd(mask_indices, mask_updates, config.IMAGE_SHAPE[:2])\n",
    "        mask_applied = tf.multiply(heatmap_tensor[index[0], index[1]], mask, name = 'mask_applied')\n",
    "        bbox_pred_sum = tf.reduce_sum(mask_applied)\n",
    "    return bbox_pred_sum\n",
    "\n",
    "\n",
    "#     tensor_output = tf.scatter_nd_add(tensor_input, mask_indices, mask_updates)\n",
    "#     print('    Tensor_output shape:  ', tensor_output.shape)\n",
    "#     print(tensor_output[2].eval())\n"
   ]
  },
  {
   "cell_type": "code",
   "execution_count": null,
   "metadata": {
    "ExecuteTime": {
     "end_time": "2018-05-14T23:48:31.132863Z",
     "start_time": "2018-05-14T23:48:30.817404Z"
    },
    "hideCode": true,
    "hidePrompt": true
   },
   "outputs": [],
   "source": [
    "''' \n",
    "input is a row of the pred_tensor array (x1,y1, x2,y2)\n",
    "'''\n",
    "# input_tensor = tf.placeholder(tf.float32,shape=[config.BATCH_SIZE, config.NUM_CLASSES, config.TRAIN_ROIS_PER_IMAGE,6])\n",
    "# heatmap_tensor = tf.placeholder(tf.float32,shape=[config.BATCH_SIZE, config.FCN_INPUT_SHAPE[0], config.FCN_INPUT_SHAPE[1], config.NUM_CLASSES])\n",
    "\n",
    "reshape_tensor  = tf.reshape(input_tensor, [-1,6])\n",
    "# num_imgs, num_classes, num_rois, cols = KB.int_shape(input_tensor)\n",
    "print('input_shape is ', input_tensor.shape) \n",
    "# print(' Or: ', num_imgs, num_classes, num_rois, cols)\n",
    "num_boxes, num_cols = KB.int_shape(reshape_tensor)\n",
    "print('reshape_tensor is ', reshape_tensor.shape)\n",
    "\n",
    "bbox_sum = tf.reduce_max(input_tensor[...,0:3], axis = -1, name  = 'bbox_sum')\n",
    "print(' bbox sum shape: ', bbox_sum.shape)\n",
    "\n",
    "bboxes = tf.concat([tf.to_int32(tf.round(reshape_tensor[...,0:4])), reshape_tensor[...,4:]], axis = -1, name='nz_boxes')\n",
    "print('boxes shape', bboxes.shape)\n",
    "# print(bboxes.eval())\n",
    "\n",
    "#     print(bbox_sum.eval(session = sess))\n",
    "# nz_inds  = tf.where(bbox_sum > 0 , name ='nz_inds')\n",
    "# print(' shape of indexes to non zeros bouding boxes : ',nz_inds.shape)\n",
    "#     print(nz_inds.eval(session = sess))\n",
    "\n",
    "# nz_inds = nz_inds[0:6]\n",
    "# num_nz_inds = tf.shape(nz_inds)[0]\n",
    "# print('number of non-zeros indices:', num_nz_inds.eval())\n",
    "\n",
    "# tmp = tf.gather_nd(input_tensor, nz_inds, name = 'tmp')\n",
    "# print(nz_boxes.get_shape())\n",
    "#     print(nz_boxes.eval(session = sess))\n",
    "\n",
    "\n",
    "# print('non zeros boxes shape:', tf.shape(nz_boxes).eval(session = sess)) \n",
    "# print(nz_boxes[:11].eval(session = sess))\n",
    "\n",
    "# print('non zeros boxes shape:', tf.shape(tst_boxes)) \n",
    "# print(tst_boxes.eval(session = sess))\n",
    "\n",
    "# nz_boxes = tf.Print(nz_boxes, [tf.shape(nz_inds)],message='Non zero bounding boxes')\n",
    "# print(nz_boxes.eval())"
   ]
  },
  {
   "cell_type": "code",
   "execution_count": null,
   "metadata": {
    "ExecuteTime": {
     "end_time": "2018-05-15T00:08:57.949522Z",
     "start_time": "2018-05-14T23:53:50.353147Z"
    },
    "hideCode": true,
    "hidePrompt": true,
    "scrolled": true
   },
   "outputs": [],
   "source": [
    "print(bboxes.shape)\n",
    "num_bboxes = bboxes.shape[0]\n",
    "score_list = []\n",
    "\n",
    "print('num_bboxes: ', num_bboxes)\n",
    "for i in range(num_bboxes):\n",
    "    index = tf.unravel_index(i, input_tensor.shape[0:3])\n",
    "    heatmap_tensor = tf.Print(heatmap_tensor, [index], message= 'Index is ')\n",
    "    print('Call ', i, 'Unraveled: (' ,index.eval(), ') for ', bboxes[i].eval())\n",
    "    \n",
    "#     new_mask = tf.assign(mask, zero)    \n",
    "    summ = tf.reduce_max(bboxes[i,0:4],name = \"max_element\")\n",
    "#     output=tf.cond(tf.equal(summ, 0),\n",
    "#                 f1,\n",
    "#                 lambda: build_mask_routine(mask , bboxes[i])   )\n",
    "#         return tensor_output    \n",
    "    score = build_mask_routine(heatmap_tensor, bboxes[i], index)\n",
    "    print('       Score', score.eval())\n",
    "#     print(' Mask shape: ',mask.get_shape() )\n",
    "    score_list.append(score)\n",
    "final_scores = tf.stack(score_list,axis=-1)\n",
    " "
   ]
  },
  {
   "cell_type": "code",
   "execution_count": null,
   "metadata": {
    "ExecuteTime": {
     "end_time": "2018-05-14T23:52:22.284988Z",
     "start_time": "2018-05-14T23:52:21.321147Z"
    },
    "hideCode": true,
    "hidePrompt": true
   },
   "outputs": [],
   "source": [
    "print(final_scores.eval())"
   ]
  },
  {
   "cell_type": "markdown",
   "metadata": {
    "hideCode": true,
    "hidePrompt": true
   },
   "source": [
    "###  Run TF session"
   ]
  },
  {
   "cell_type": "code",
   "execution_count": null,
   "metadata": {
    "ExecuteTime": {
     "end_time": "2018-05-14T22:50:07.054593Z",
     "start_time": "2018-05-14T22:50:05.476250Z"
    },
    "hideCode": true,
    "hidePrompt": true
   },
   "outputs": [],
   "source": [
    "feed_dict = {input_tensor: pred_tensor}\n",
    "# fetches = [nz_boxes, int_masks]\n",
    "fetches = [bboxes, output, reshape_tensor, final_output]\n",
    "sess = tf.Session()\n",
    "print(' tfsession() is ', sess)\n",
    "sess.run(tf.global_variables_initializer())\n",
    "tt = sess.run(fetches, feed_dict = feed_dict )\n",
    "print(type(tt), len(tt))\n",
    "sess.close()"
   ]
  },
  {
   "cell_type": "code",
   "execution_count": null,
   "metadata": {
    "ExecuteTime": {
     "end_time": "2018-05-14T21:24:56.753927Z",
     "start_time": "2018-05-14T21:24:56.499752Z"
    },
    "hideCode": true,
    "hidePrompt": true
   },
   "outputs": [],
   "source": [
    "print(len(Output_list))\n",
    "for i in range(len(Output_list)):\n",
    "    print(Output_list[i].shape, type(Output_list[i]))\n",
    "    print(mask_string(Output_list[i]))"
   ]
  },
  {
   "cell_type": "code",
   "execution_count": null,
   "metadata": {
    "ExecuteTime": {
     "end_time": "2018-05-14T22:07:10.133092Z",
     "start_time": "2018-05-14T22:07:09.861953Z"
    },
    "hideCode": true,
    "hidePrompt": true,
    "scrolled": true
   },
   "outputs": [],
   "source": [
    "from mrcnn.utils import mask_string\n",
    "# img = 1\n",
    "np.set_printoptions(linewidth=150, precision=6, threshold=20000)\n",
    "print(' bboxes Shape: ', tt[0].shape)\n",
    "print(' bboxes Tensor :   \\n ', tt[0][32:48])\n",
    "\n",
    "print('\\n')\n",
    "print(' pred_tensor shape : ', pred_tensor.shape)\n",
    "print(' pred_tensor      \\n ', pred_tensor[0,0,32:48])\n",
    "\n",
    "# print(' tst_boxes shape ', tt[1].shape)\n",
    "# print(' tst_boxes :   \\n ', tt[1])\n",
    "\n",
    "# print(' masks shape :   ', tt[1].shape, type(tt[1]))\n",
    "# print(' masks :      \\n ', mask_string(tt[1]))\n",
    "print('\\n')\n",
    "print(' reshape_tensor shape :   ', tt[2].shape, type(tt[2]))\n",
    "print(' reshape_tensor :      \\n ', tt[2][32:48])\n",
    "print('\\n')\n",
    "print(' reshape_tensor shape :   ', tt[3].shape, type(tt[3]))\n",
    "# print(' reshape_tensor :      \\n ', tt[3][0:10])\n",
    "  \n",
    "\n",
    "\n",
    "print(mask_string(tt[3][:,:,2]))"
   ]
  },
  {
   "cell_type": "markdown",
   "metadata": {},
   "source": [
    "### Repeat tesnor at given axis n times"
   ]
  },
  {
   "cell_type": "code",
   "execution_count": null,
   "metadata": {
    "ExecuteTime": {
     "end_time": "2018-05-17T11:59:13.056822Z",
     "start_time": "2018-05-17T11:59:11.096615Z"
    },
    "hideCode": false,
    "hideOutput": true,
    "scrolled": false
   },
   "outputs": [],
   "source": [
    "import tensorflow as tf\n",
    "import keras.layers as KL\n",
    "np.set_printoptions(linewidth=130,precision=4,threshold=7000, suppress = True)\n",
    "\n",
    "sess  = KB.get_session()\n",
    "print(sess)\n",
    "test1 = KB.identity(output_rois)\n",
    "print(pred_heatmap_norm.shape)\n",
    "pred_hm_norm = KB.identity(pred_heatmap_norm)\n",
    "test1 = tf.transpose(pred_heatmap_norm, (0,3,1,2))\n",
    "test1_shape = KB.int_shape(test1)\n",
    "\n",
    "with sess.as_default():\n",
    "    print(test1_shape)\n",
    "    test1_sum = tf.reduce_sum(test1, [2,3]).eval()\n",
    "    print('test1_sum is ', test1_sum.shape)\n",
    "    for i in range(5):\n",
    "        for j in range(4):\n",
    "            print('img ',i,' class ', j, ' sum: ', test1_sum[i,j])\n",
    "            \n",
    "    test2 = tf.expand_dims(test1, axis =2)\n",
    "    print('  Test2 shapes :',  test2.get_shape())\n",
    "    test2 = tf.tile(test2, [1,2,32,1,1])\n",
    "    print('  Test2 shapes :',  test2.get_shape())\n",
    "    test2_sum = tf.reduce_sum(test2, [3,4]).eval()\n",
    "    print('test2_sum is ', test2_sum.shape)\n",
    "    for i in range(5):\n",
    "        for j in range(4):\n",
    "            for k in range(32):\n",
    "                print('img ',i,' class ', j, 'copy ',k, ' sum:',test2_sum[i,j,k])\n",
    "\n",
    "#         print(KB.int_shape(test2))\n",
    "#         print(' Test2 - ',i)\n",
    "#         print(test2[i,0,:6].eval())\n",
    "#         print(test2[i,1,:6].eval())\n",
    "#         print(test2[i,2,:6].eval())\n",
    "\n",
    "#     ones = tf.ones([7 ,1, 1, 1], dtype = tf.float32)    \n",
    "#     test2 = test1 * ones\n",
    "#     print(KB.int_shape(test2))\n",
    "\n",
    "#     test2 = tf.tile(test2, [1,3,1,1])\n",
    "#     for i in range(5):\n",
    "#         print(KB.int_shape(test2))\n",
    "#         print(' Test2 - ',i)\n",
    "#         print(test2[i,0,:6].eval())\n",
    "#         print(test2[i,1,:6].eval())\n",
    "#         print(test2[i,2,:6].eval())\n",
    "\n",
    "\n",
    "# with sess.as_default():\n",
    "#     print(KB.int_shape(pred_hm_norm))\n",
    "#     test1_shape = KB.int_shape(test1)\n",
    "#     print(test1_shape)\n",
    "#     print(test1[0,:6].eval())\n",
    "#     print(test1[1,:6].eval())\n",
    "#     print(test1[2,:6].eval())\n",
    "#     print(test1[3,:6].eval())    \n",
    "#     print(test1[4,:6].eval())    \n",
    "#     test2 = tf.expand_dims(test1, axis =1)\n",
    "# #     print('  Test1 shapes :',  test1.get_shape())\n",
    "# #     ones = tf.ones([7 ,1, 1, 1], dtype = tf.float32)    \n",
    "# #     test2 = test1 * ones\n",
    "#     print(KB.int_shape(test2))\n",
    "\n",
    "#     test2 = tf.tile(test2, [1,3,1,1])\n",
    "#     for i in range(5):\n",
    "#         print(KB.int_shape(test2))\n",
    "#         print(' Test2 - ',i)\n",
    "#         print(test2[i,0,:6].eval())\n",
    "#         print(test2[i,1,:6].eval())\n",
    "#         print(test2[i,2,:6].eval())\n",
    "\n",
    "# #     test3 = KB.reshape(test2, (-1,test1_shape[0], test1_shape[1]))    \n",
    "# #     print(KB.int_shape(test3))\n",
    "# #     print(test3.eval())\n"
   ]
  },
  {
   "cell_type": "markdown",
   "metadata": {},
   "source": [
    "###  Generate L2 norm on heatmap score"
   ]
  },
  {
   "cell_type": "code",
   "execution_count": null,
   "metadata": {
    "ExecuteTime": {
     "end_time": "2018-05-17T08:39:30.643505Z",
     "start_time": "2018-05-17T08:39:29.898717Z"
    },
    "hideCode": false,
    "hideOutput": true,
    "scrolled": false
   },
   "outputs": [],
   "source": [
    "# del scr\n",
    "# del scr_norm\n",
    "with sess.as_default():\n",
    "#     print(tf.shape(scr).eval())\n",
    "    print(pred_heatmap_scores[img,0])\n",
    "    scr = pred_heatmap_scores[...,6]/pred_heatmap_scores[...,7]\n",
    "    scr = tf.where(tf.is_nan(scr),  tf.zeros_like(scr), scr)       \n",
    "    scr_norm = tf.nn.l2_normalize(scr, axis = -1)\n",
    "#     print('l2 normalzied - 2')\n",
    "#     print(tf.shape(scr_norm).eval())    \n",
    "#     print(scr_norm.eval())\n",
    "    scr_norm = tf.expand_dims(scr_norm, axis = -1)\n",
    "#     print(tf.shape(scr_norm).eval())\n",
    "    print('tst')\n",
    "    tst = tf.concat([pred_heatmap_scores, scr_norm], axis = -1)\n",
    "    print(tst.shape)\n",
    "    print(tst[0].eval())"
   ]
  }
 ],
 "metadata": {
  "anaconda-cloud": {},
  "celltoolbar": "Hide code",
  "hide_code_all_hidden": true,
  "kernelspec": {
   "display_name": "Python [conda env:TF_gpu]",
   "language": "python",
   "name": "conda-env-TF_gpu-py"
  },
  "language_info": {
   "codemirror_mode": {
    "name": "ipython",
    "version": 3
   },
   "file_extension": ".py",
   "mimetype": "text/x-python",
   "name": "python",
   "nbconvert_exporter": "python",
   "pygments_lexer": "ipython3",
   "version": "3.5.4"
  }
 },
 "nbformat": 4,
 "nbformat_minor": 2
}
