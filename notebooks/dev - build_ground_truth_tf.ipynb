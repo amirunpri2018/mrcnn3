{
 "cells": [
  {
   "cell_type": "markdown",
   "metadata": {},
   "source": [
    "### Development Notebook for  `build_groundtruth_tf` function \n",
    "- Setup model, load weights and data generators \n",
    "- get items from data generator\n",
    "- pass through network"
   ]
  },
  {
   "cell_type": "code",
   "execution_count": null,
   "metadata": {
    "ExecuteTime": {
     "end_time": "2018-05-19T15:30:02.931499Z",
     "start_time": "2018-05-19T15:29:55.024437Z"
    },
    "hideCode": false,
    "hidePrompt": false,
    "scrolled": false
   },
   "outputs": [],
   "source": [
    "from IPython.core.display import display, HTML\n",
    "display(HTML(\"<style>.container { width:95% !important; }</style>\"))\n",
    "%matplotlib inline\n",
    "%load_ext autoreload\n",
    "%autoreload 2\n",
    "import sys\n",
    "sys.path.append('../')\n",
    "import tensorflow as tf\n",
    "import keras.backend as KB\n",
    "import numpy as np\n",
    "from mrcnn.datagen     import data_generator, load_image_gt\n",
    "from mrcnn.callbacks   import get_layer_output_1,get_layer_output_2\n",
    "from mrcnn.utils       import mask_string, parse_image_meta, apply_box_deltas_tf\n",
    "from mrcnn.visualize   import display_gt_bboxes, display_roi_proposals, plot_gaussian, plot_gaussian2\n",
    "from mrcnn.visualize   import display_gt_bboxes, display_roi_proposals\n",
    "import mrcnn.visualize as visualize\n",
    "from mrcnn.prep_notebook import prep_oldshapes_dev\n",
    "\n",
    "model, dataset_train, train_generator, config = prep_oldshapes_dev(init_with = 'last', FCN_layers = True)\n",
    "model_info = [model, config, dataset_train, train_generator]"
   ]
  },
  {
   "cell_type": "code",
   "execution_count": null,
   "metadata": {
    "ExecuteTime": {
     "end_time": "2018-05-19T14:31:19.902588Z",
     "start_time": "2018-05-19T14:31:19.599783Z"
    },
    "hideCode": false,
    "hideOutput": true,
    "hidePrompt": false
   },
   "outputs": [],
   "source": [
    "train_batch_x, train_batch_y = next(train_generator)"
   ]
  },
  {
   "cell_type": "code",
   "execution_count": null,
   "metadata": {
    "ExecuteTime": {
     "end_time": "2018-05-19T14:31:21.821754Z",
     "start_time": "2018-05-19T14:31:19.905095Z"
    },
    "hideCode": false,
    "hidePrompt": false
   },
   "outputs": [],
   "source": [
    "# train_batch_x, train_batch_y = next(train_generator)\n",
    "imgmeta_idx = model.keras_model.input_names.index('input_image_meta')\n",
    "img_meta    = train_batch_x[imgmeta_idx]\n",
    "\n",
    "for img_idx in range(config.BATCH_SIZE):\n",
    "    image_id = img_meta[img_idx,0]\n",
    "    image = dataset_train.load_image(image_id)\n",
    "    mask, class_ids = dataset_train.load_mask(image_id)\n",
    "    print('Image id: ',image_id)\n",
    "    print('Image meta', img_meta[img_idx])\n",
    "    print('Classes (1: circle, 2: square, 3: triangle ): ',class_ids)\n",
    "    visualize.display_top_masks(image, mask, class_ids, dataset_train.class_names)"
   ]
  },
  {
   "cell_type": "code",
   "execution_count": null,
   "metadata": {
    "ExecuteTime": {
     "end_time": "2018-05-19T14:31:22.086957Z",
     "start_time": "2018-05-19T14:31:21.824761Z"
    },
    "hideCode": false,
    "hideOutput": true,
    "hidePrompt": false
   },
   "outputs": [],
   "source": [
    "model.layer_info()\n",
    "# model.keras_model.outputs[0].name"
   ]
  },
  {
   "cell_type": "code",
   "execution_count": null,
   "metadata": {
    "ExecuteTime": {
     "end_time": "2018-05-19T14:31:26.733803Z",
     "start_time": "2018-05-19T14:31:22.089967Z"
    },
    "hideCode": false,
    "hidePrompt": false,
    "scrolled": false
   },
   "outputs": [],
   "source": [
    "# model_output = get_layer_output_2(model.keras_model, train_batch_x, 1)\n",
    "model_output = get_layer_output_1(model.keras_model, train_batch_x, [4,5,6,7,15,16,17,18,19,20,21,22,23], 1)\n"
   ]
  },
  {
   "cell_type": "code",
   "execution_count": null,
   "metadata": {
    "ExecuteTime": {
     "end_time": "2018-05-19T14:34:17.445962Z",
     "start_time": "2018-05-19T14:34:17.158700Z"
    },
    "hideCode": false,
    "hidePrompt": false,
    "scrolled": true
   },
   "outputs": [],
   "source": [
    "print(len(model_output))\n",
    "\n",
    "output_rois               = model_output[0]          # layer:  4   shape: (5, 32, 4)\n",
    "target_class_ids          = model_output[1]          # layer:  5   shape: (5, 32)\n",
    "target_bbox_deltas        = model_output[2]          # layer:  6   shape: (5, 32, 4)\n",
    "roi_gt_boxes              = model_output[3]          # layer:  7   shape: (5, 32, 4)\n",
    "\n",
    "pred_heatmap_norm         = model_output[4]          # layer: 15   shape: (5, 128, 128, 4)\n",
    "gt_heatmap_norm           = model_output[5]          # layer: 16   shape: (5, 128, 128, 4)\n",
    "\n",
    "pred_heatmap_scores       = model_output[6]          # layer: 17   shape: (5, 4, 32, 10)\n",
    "gt_heatmap_scores         = model_output[7]          # layer: 18   shape: (5, 4, 100, 10)\n",
    "\n",
    "pred_tensor               = model_output[8]          # layer: 19   shape: (5, 4, 32, 6)\n",
    "gt_tensor                 = model_output[9]          # layer: 20   shape: (5, 4, 100, 6)\n",
    "\n",
    "fcn_heatmap               = model_output[10]          # layer: 21   shape: (5, 128, 128, 4)\n",
    "fcn_heatmap_norm          = model_output[11]          # layer: 22   shape: (5, 128, 128, 4)\n",
    "fcn_scores                = model_output[12]          # layer: 23   shape: (5, 4, 32, 14)\n",
    "\n",
    "for i in model_output:\n",
    "    print( i.shape)"
   ]
  },
  {
   "cell_type": "code",
   "execution_count": null,
   "metadata": {
    "ExecuteTime": {
     "end_time": "2018-05-19T14:34:20.068950Z",
     "start_time": "2018-05-19T14:34:19.799733Z"
    },
    "hideCode": false,
    "hidePrompt": false,
    "scrolled": true
   },
   "outputs": [],
   "source": [
    "input_image      =  train_batch_x[0]\n",
    "input_image_meta =  train_batch_x[1]\n",
    "input_rpn_match  =  train_batch_x[2]\n",
    "input_rpn_bbox   =  train_batch_x[3]\n",
    "input_gt_class_ids = train_batch_x[4]\n",
    "input_gt_bboxes    = train_batch_x[5]\n",
    "input_gt_masks     = train_batch_x[6]\n",
    "print(' Input image shape is :', input_image.shape)\n",
    "h, w = input_image.shape[1], input_image.shape[2]      #  tf.shape(input_image)[1], tf.shape(input_image)[2]\n",
    "input_normlzd_gt_bboxes = tf.identity(input_gt_bboxes / [h,w,h,w])\n",
    "\n",
    "# gt_masks   =  train_batch_x[6]\n",
    "print(' input_rpn_match    ', input_rpn_match.shape)\n",
    "print(' input_rpn_bbox     ', input_rpn_bbox.shape)\n",
    "print(' input_gt_class_ids ', input_gt_class_ids.shape)\n",
    "print(' input_gt_bboxes    ', input_gt_bboxes.shape)\n",
    "print(' input_normlzd_gt_bboxes    ', input_normlzd_gt_bboxes.shape)\n"
   ]
  },
  {
   "cell_type": "markdown",
   "metadata": {},
   "source": [
    "####  display Pred_Tensor, Pred_heatmap, mrcnn_class"
   ]
  },
  {
   "cell_type": "code",
   "execution_count": null,
   "metadata": {
    "ExecuteTime": {
     "end_time": "2018-05-19T14:34:51.802503Z",
     "start_time": "2018-05-19T14:34:51.528777Z"
    },
    "scrolled": false
   },
   "outputs": [],
   "source": [
    "np.set_printoptions(precision=4, threshold=None, linewidth=120, suppress=True)\n",
    "img = 0\n",
    "\n",
    "# print(KB.int_shape(output_rois))\n",
    "# print(output_rois[img,:15]*[128, 128,128,128])\n",
    "# print(input_gt_class_ids[0])\n",
    "\n",
    "# print(' Pred_tensor')\n",
    "# print(pred_tensor.shape)\n",
    "# print(pred_tensor[img,:,:10])\n",
    "\n",
    "# print(' gt_tensor')\n",
    "# print(gt_tensor.shape)\n",
    "# print(gt_tensor[img,:,:10])\n",
    "\n",
    "# print(' output_rois')\n",
    "# print(output_rois.shape)\n",
    "# print(output_rois[img,:15] * [128, 128,128,128])\n",
    "\n",
    "print(' target_class_ids')\n",
    "print(target_class_ids.shape)\n",
    "print(target_class_ids[img,:15])\n",
    "\n",
    "\n",
    "print(' roi_gt_boxes')\n",
    "print(roi_gt_boxes.shape)\n",
    "print(roi_gt_boxes[img,:15] * [128, 128,128,128])\n",
    "\n",
    "print(' Pred Heatmap Scores')\n",
    "print(pred_heatmap_scores.dtype)\n",
    "print(pred_heatmap_scores[img,:,:10])\n",
    "\n",
    "# print(' FCN Scores')\n",
    "# print(fcn_scores.dtype)\n",
    "# print(fcn_scores[img,:,:10, 4:])\n",
    "\n",
    "# img = 2\n",
    "# max_score = np.max(mrcnn_class, axis = -1)\n",
    "# max_class = np.argmax(mrcnn_class, axis = -1)\n",
    "# # print(' output_rois[',img,'] \\n', output_rois[1]*[128,128,128,128])\n",
    "# print('max class shape:',max_class.shape, 'max score shape: ',max_score.shape)\n",
    "# print('max class[',img,']\\n',max_class[img])\n",
    "# print('max score[',img,']\\n',max_score[img])\n",
    "# print('mrcnn class.shape ',mrcnn_class.shape)\n",
    "# print('mrcnn_class[',img,',:]\\n',mrcnn_class[img,:])\n",
    "# print(output_rois[1])\n",
    " "
   ]
  },
  {
   "cell_type": "markdown",
   "metadata": {},
   "source": [
    "##  `current build_ground_truth_tf ()` "
   ]
  },
  {
   "cell_type": "code",
   "execution_count": null,
   "metadata": {
    "ExecuteTime": {
     "end_time": "2018-05-19T15:27:56.367697Z",
     "start_time": "2018-05-19T15:27:56.132042Z"
    }
   },
   "outputs": [],
   "source": [
    "# sess = KB.get_session()\n",
    "##----------------------------------------------------------------------------------------------------------------------          \n",
    "## \n",
    "##----------------------------------------------------------------------------------------------------------------------          \n",
    "def build_ground_truth_tf(gt_class_ids, norm_gt_bboxes, config):\n",
    "    # // pass model to TensorBuilder\n",
    "    batch_size      = config.BATCH_SIZE\n",
    "    num_classes     = config.NUM_CLASSES\n",
    "    h, w            = config.IMAGE_SHAPE[:2]\n",
    "    num_bboxes      = KB.int_shape(gt_bboxes)[1]\n",
    "    gt_bboxes       = norm_gt_bboxes * tf.constant([h,w,h,w], dtype = tf.float32)   \n",
    "    print()\n",
    "    # num of bounding boxes is determined by bbox_list.shape[1] instead of config.DETECTION_MAX_INSTANCES\n",
    "    # use of this routine for both input_gt_boxes, and target_gt_deltas\n",
    "    if tf.equal(num_bboxes == tf.constant(config.DETECTION_MAX_INSTANCES)):\n",
    "        tensor_name = \"gt_tensor_max\"\n",
    "    else:\n",
    "        tensor_name = \"gt_tensor\"\n",
    "        \n",
    "    print('\\n')\n",
    "    print('  > BUILD_GROUND TRUTH_TF()' )\n",
    "    print('    gt_class_ids shape : ', gt_class_ids.get_shape())\n",
    "    print('    gt_bboxes.shape    : ', gt_bboxes.get_shape() )\n",
    "\n",
    "    #---------------------------------------------------------------------------\n",
    "    # use the argmaxof each row to determine the dominating (predicted) class\n",
    "    # mask identifies class_ids > 0 \n",
    "    #---------------------------------------------------------------------------\n",
    "    gt_classes_exp = tf.to_float(tf.expand_dims(gt_class_ids ,axis=-1))\n",
    "    print('    gt_classes_exp shape ', gt_classes_exp.get_shape() )\n",
    "\n",
    "    ones = tf.ones_like(gt_class_ids)\n",
    "    zeros= tf.zeros_like(gt_class_ids)\n",
    "    mask = tf.greater(gt_class_ids , 0)\n",
    "\n",
    "    gt_scores     = tf.where(mask, ones, zeros)\n",
    "    # pred_scores      = tf.reduce_max(mrcnn_class ,axis=-1, keep_dims=True)   # (32,)\n",
    "    gt_scores_exp = tf.to_float(KB.expand_dims(gt_scores, axis=-1))\n",
    "    print('    gt_scores_exp shape ', gt_scores_exp.get_shape())\n",
    "\n",
    "    #---------------------------------------------------------------------------\n",
    "    # create meshgrid to do something \n",
    "    #---------------------------------------------------------------------------\n",
    "    batch_grid, bbox_grid = tf.meshgrid( tf.range(batch_size, dtype=tf.int32), \n",
    "                                         tf.range(num_bboxes, dtype=tf.int32), indexing = 'ij' )\n",
    "    \n",
    "    # sequence id is used to preserve the order of rois as passed to this routine\n",
    "    sequence = gt_scores * (bbox_grid[...,::-1] + 1) \n",
    "    sequence = tf.to_float(tf.expand_dims(sequence, axis = -1))   \n",
    "\n",
    "    # print('    batch_grid shape  ', batch_grid.get_shape())\n",
    "    # print('    bbox_grid  shape  ', bbox_grid.get_shape())\n",
    "    # print('    sequence shape    ', sequence.get_shape())\n",
    "\n",
    "    # obsolete replaced with sequence 12-05-2018    \n",
    "    # bbox_idx_zeros  = tf.zeros_like(bbox_grid)\n",
    "    # bbox_idx        = tf.where(mask, bbox_grid , bbox_idx_zeros)\n",
    "    # bbox_idx        = tf.to_float(tf.expand_dims(bbox_idx, axis = -1))    \n",
    "    \n",
    "    # 12-05-2018 (added sequecne)    gt_array  = tf.concat([gt_bboxes, gt_classes_exp, gt_scores_exp], axis=2)\n",
    "    gt_array        = tf.concat([gt_bboxes, gt_classes_exp, gt_scores_exp, sequence ], axis=2)\n",
    "    print('    gt_array shape :', gt_array.shape, gt_array.get_shape())\n",
    "\n",
    "    #------------------------------------------------------------------------------\n",
    "    # Create indicies to scatter rois out to multi-dim tensor by image id and class\n",
    "    # resulting tensor is batch size x num_classes x num_bboxes x 7 (num columns)\n",
    "    #------------------------------------------------------------------------------\n",
    "    scatter_ind = tf.stack([batch_grid , gt_class_ids, bbox_grid],axis = -1)\n",
    "\n",
    "    # obsolete 12-05-2018 - replaced num_cols with gt_array.shape[-1]\n",
    "    # gt_scatter = tf.scatter_nd(scatter_ind, gt_array, [batch_size, num_classes, num_bboxes, num_cols ])\n",
    "    gt_scatter = tf.scatter_nd(scatter_ind, gt_array, [batch_size, num_classes, num_bboxes, gt_array.shape[-1] ])\n",
    "\n",
    "    # print('    scatter_ind shape ', scatter_ind.get_shape())\n",
    "    # print('    gt_scatter shape ', gt_scatter.get_shape())\n",
    "    \n",
    "    #-------------------------------------------------------------------------------\n",
    "    ## sort in each class dimension based on on sequence number (last column)\n",
    "    # scatter_nd places bboxs in a sparse fashion --- this sort is to place all bboxes\n",
    "    # at the top of the class bbox array\n",
    "    #-------------------------------------------------------------------------------\n",
    "\n",
    "    _ , sort_inds = tf.nn.top_k(tf.abs(gt_scatter[:,:,:,-1]), k=gt_scatter.shape[2])\n",
    "\n",
    "    # build indexes to gather rows from pred_scatter based on sort order \n",
    "    class_grid, batch_grid, bbox_grid = tf.meshgrid(tf.range(num_classes),tf.range(batch_size), tf.range(num_bboxes))\n",
    "    bbox_grid_exp = tf.to_float(tf.expand_dims(bbox_grid, axis = -1))\n",
    " \n",
    "    gather_inds = tf.stack([batch_grid , class_grid, sort_inds],axis = -1)\n",
    "    gt_result   = tf.gather_nd(gt_scatter[...,:-1], gather_inds, name  = tensor_name)\n",
    "    # gt_result   = gt_result[...,:-1]\n",
    "    # print('    gather_inds shape      : ', gather_inds.get_shape())\n",
    "    \n",
    "    # append an index to the end of each row --- commented out 30-04-2018\n",
    "    # gt_tensor   = tf.concat([gt_tensor, bbox_grid_exp], axis = -1)\n",
    "\n",
    "    # count based on pred score > 0 (changed from index 0 to -1 on 30-04-2018)   \n",
    "    # moved outside to call() 12-05-2018\n",
    "    # gt_cls_cnt  = tf.count_nonzero(gt_result[:,:,:,-1],axis = -1, name = 'gt_cls_count')\n",
    "\n",
    "    \n",
    "    print('    ',tensor_name, 'final shape  : ', gt_result.get_shape())\n",
    "\n",
    "    return  gt_result\n",
    "\n",
    "              "
   ]
  },
  {
   "cell_type": "code",
   "execution_count": null,
   "metadata": {
    "ExecuteTime": {
     "end_time": "2018-05-19T14:58:18.197475Z",
     "start_time": "2018-05-19T14:58:17.647045Z"
    },
    "hideCode": true
   },
   "outputs": [],
   "source": [
    "##----------------------------------------------------------------------------------------------------------------------          \n",
    "## \n",
    "##----------------------------------------------------------------------------------------------------------------------          \n",
    "def build_ground_truth_tf(gt_class_ids, gt_bboxes, config):\n",
    "    # // pass model to TensorBuilder\n",
    "    batch_size      = config.BATCH_SIZE\n",
    "    num_classes     = config.NUM_CLASSES\n",
    "    h, w            = config.IMAGE_SHAPE[:2]\n",
    "    num_bboxes      = gt_bboxes.shape[1]    # 32 (or 100 -> which we dont use anymore)\n",
    "    \n",
    "    # num of bounding boxes is determined by bbox_list.shape[1] instead of config.DETECTION_MAX_INSTANCES\n",
    "    # use of this routine for both input_gt_boxes, and target_gt_deltas\n",
    "    if num_bboxes == config.DETECTION_MAX_INSTANCES:\n",
    "        tensor_name = \"gt_tensor_max\"\n",
    "    else:\n",
    "        tensor_name = \"gt_tensor\"\n",
    "        \n",
    "    print('\\n')\n",
    "    print('  > BUILD_GROUND TRUTH_TF()' )\n",
    "    print('    gt_class_ids shape : ', gt_class_ids.get_shape())\n",
    "    print('    gt_bboxes.shape    : ', gt_bboxes.get_shape() )\n",
    "\n",
    "    #---------------------------------------------------------------------------\n",
    "    # use the argmaxof each row to determine the dominating (predicted) class\n",
    "    # mask identifies class_ids > 0 \n",
    "    #---------------------------------------------------------------------------\n",
    "    gt_classes_exp = tf.to_float(tf.expand_dims(gt_class_ids ,axis=-1))\n",
    "    print('    gt_classes_exp shape ', gt_classes_exp.get_shape() )\n",
    "\n",
    "    ones = tf.ones_like(gt_class_ids)\n",
    "    zeros= tf.zeros_like(gt_class_ids)\n",
    "    mask = tf.greater(gt_class_ids , 0)\n",
    "\n",
    "    gt_scores     = tf.where(mask, ones, zeros)\n",
    "    # pred_scores      = tf.reduce_max(mrcnn_class ,axis=-1, keep_dims=True)   # (32,)\n",
    "    gt_scores_exp = tf.to_float(KB.expand_dims(gt_scores, axis=-1))\n",
    "    print('    gt_scores_exp shape ', gt_scores_exp.get_shape())\n",
    "\n",
    "    #---------------------------------------------------------------------------\n",
    "    # create meshgrid to do something \n",
    "    #---------------------------------------------------------------------------\n",
    "    batch_grid, bbox_grid = tf.meshgrid( tf.range(batch_size, dtype=tf.int32), \n",
    "                                         tf.range(num_bboxes, dtype=tf.int32), indexing = 'ij' )\n",
    "    \n",
    "    # sequence id is used to preserve the order of rois as passed to this routine\n",
    "    sequence = gt_scores * (bbox_grid[...,::-1] + 1) \n",
    "    sequence = tf.to_float(tf.expand_dims(sequence, axis = -1))   \n",
    "\n",
    "    # print('    batch_grid shape  ', batch_grid.get_shape())\n",
    "    # print('    bbox_grid  shape  ', bbox_grid.get_shape())\n",
    "    # print('    sequence shape    ', sequence.get_shape())\n",
    "\n",
    "    # obsolete replaced with sequence 12-05-2018    \n",
    "    # bbox_idx_zeros  = tf.zeros_like(bbox_grid)\n",
    "    # bbox_idx        = tf.where(mask, bbox_grid , bbox_idx_zeros)\n",
    "    # bbox_idx        = tf.to_float(tf.expand_dims(bbox_idx, axis = -1))    \n",
    "    \n",
    "    # 12-05-2018 (added sequecne)    gt_array  = tf.concat([gt_bboxes, gt_classes_exp, gt_scores_exp], axis=2)\n",
    "    gt_array        = tf.concat([gt_bboxes, gt_classes_exp, gt_scores_exp, sequence ], axis=2)\n",
    "    print('    gt_array shape :', gt_array.shape, gt_array.get_shape())\n",
    "\n",
    "    #------------------------------------------------------------------------------\n",
    "    # Create indicies to scatter rois out to multi-dim tensor by image id and class\n",
    "    # resulting tensor is batch size x num_classes x num_bboxes x 7 (num columns)\n",
    "    #------------------------------------------------------------------------------\n",
    "    scatter_ind = tf.stack([batch_grid , gt_class_ids, bbox_grid],axis = -1)\n",
    "\n",
    "    # obsolete 12-05-2018 - replaced num_cols with gt_array.shape[-1]\n",
    "    # gt_scatter = tf.scatter_nd(scatter_ind, gt_array, [batch_size, num_classes, num_bboxes, num_cols ])\n",
    "    gt_scatter = tf.scatter_nd(scatter_ind, gt_array, [batch_size, num_classes, num_bboxes, gt_array.shape[-1] ])\n",
    "\n",
    "    # print('    scatter_ind shape ', scatter_ind.get_shape())\n",
    "    # print('    gt_scatter shape ', gt_scatter.get_shape())\n",
    "    \n",
    "    #-------------------------------------------------------------------------------\n",
    "    ## sort in each class dimension based on on sequence number (last column)\n",
    "    # scatter_nd places bboxs in a sparse fashion --- this sort is to place all bboxes\n",
    "    # at the top of the class bbox array\n",
    "    #-------------------------------------------------------------------------------\n",
    "\n",
    "    _ , sort_inds = tf.nn.top_k(tf.abs(gt_scatter[:,:,:,-1]), k=gt_scatter.shape[2])\n",
    "\n",
    "    # build indexes to gather rows from pred_scatter based on sort order \n",
    "    class_grid, batch_grid, bbox_grid = tf.meshgrid(tf.range(num_classes),tf.range(batch_size), tf.range(num_bboxes))\n",
    "    bbox_grid_exp = tf.to_float(tf.expand_dims(bbox_grid, axis = -1))\n",
    " \n",
    "    gather_inds = tf.stack([batch_grid , class_grid, sort_inds],axis = -1)\n",
    "    gt_result   = tf.gather_nd(gt_scatter[...,:-1], gather_inds, name  = tensor_name)\n",
    "    # gt_result   = gt_result[...,:-1]\n",
    "    # print('    gather_inds shape      : ', gather_inds.get_shape())\n",
    "    \n",
    "    # append an index to the end of each row --- commented out 30-04-2018\n",
    "    # gt_tensor   = tf.concat([gt_tensor, bbox_grid_exp], axis = -1)\n",
    "\n",
    "    # count based on pred score > 0 (changed from index 0 to -1 on 30-04-2018)   \n",
    "    # moved outside to call() 12-05-2018\n",
    "    # gt_cls_cnt  = tf.count_nonzero(gt_result[:,:,:,-1],axis = -1, name = 'gt_cls_count')\n",
    "\n",
    "    \n",
    "    print('    ',tensor_name, 'final shape  : ', gt_result.get_shape())\n",
    "\n",
    "    return  gt_result\n",
    "\n",
    "              "
   ]
  },
  {
   "cell_type": "code",
   "execution_count": null,
   "metadata": {
    "ExecuteTime": {
     "end_time": "2018-05-19T15:04:50.531504Z",
     "start_time": "2018-05-19T15:04:50.294307Z"
    }
   },
   "outputs": [],
   "source": [
    "# with sess.as_default():\n",
    "    \n",
    "#     gt_bboxes    = tf.identity(roi_gt_boxes)\n",
    "#     gt_class_ids = tf.identity(target_class_ids)\n",
    "#     result = build_ground_truth_tf(gt_class_ids, gt_bboxes, model.config).eval()"
   ]
  },
  {
   "cell_type": "code",
   "execution_count": null,
   "metadata": {
    "ExecuteTime": {
     "end_time": "2018-05-19T15:04:50.531504Z",
     "start_time": "2018-05-19T15:04:50.294307Z"
    },
    "scrolled": false
   },
   "outputs": [],
   "source": [
    "img = 1\n",
    "print(target_class_ids.shape)\n",
    "print(target_class_ids[img])\n",
    "print(result.shape)\n",
    "print(result[img,:,:15])\n",
    "print(' roi_gt_boxes')\n",
    "print(roi_gt_boxes.shape)\n",
    "print(roi_gt_boxes[img,:15] )"
   ]
  },
  {
   "cell_type": "markdown",
   "metadata": {},
   "source": [
    "##  `development build_grround_truth_tf ()` "
   ]
  },
  {
   "cell_type": "code",
   "execution_count": null,
   "metadata": {
    "ExecuteTime": {
     "end_time": "2018-05-12T19:01:02.002396Z",
     "start_time": "2018-05-12T19:01:01.744237Z"
    }
   },
   "outputs": [],
   "source": [
    "sess = KB.get_session()\n",
    "gt_bboxes    = tf.identity(target_bbox_deltas)\n",
    "gt_class_ids = tf.identity(target_class_ids)\n",
    "num_bboxes   = 32"
   ]
  },
  {
   "cell_type": "code",
   "execution_count": null,
   "metadata": {
    "ExecuteTime": {
     "end_time": "2018-05-12T19:01:03.253808Z",
     "start_time": "2018-05-12T19:01:02.999132Z"
    }
   },
   "outputs": [],
   "source": [
    "# // pass model to TensorBuilder\n",
    "batch_size      = config.BATCH_SIZE\n",
    "num_classes     = config.NUM_CLASSES\n",
    "h, w            = config.IMAGE_SHAPE[:2]\n",
    "num_cols        = 6\n",
    "\n",
    "# num of bounding boxes is determined by bbox_list.shape[1] instead of config.DETECTION_MAX_INSTANCES\n",
    "# use of this routine for both input_gt_boxes, and target_gt_deltas\n",
    "if num_bboxes == config.DETECTION_MAX_INSTANCES:\n",
    "    tensor_name = \"gt_tensor\"\n",
    "else:\n",
    "    tensor_name = \"gt_deltas\"\n",
    "\n",
    "print('\\n')\n",
    "print('  > BUILD_GROUND TRUTH_TF()' )\n",
    "print('    gt_class_ids shape : ', KB.int_shape(gt_class_ids), '    gt_bboxes.shape  : ', gt_bboxes.get_shape() )"
   ]
  },
  {
   "cell_type": "code",
   "execution_count": null,
   "metadata": {
    "ExecuteTime": {
     "end_time": "2018-05-12T19:01:05.976619Z",
     "start_time": "2018-05-12T19:01:04.961417Z"
    }
   },
   "outputs": [],
   "source": [
    "#---------------------------------------------------------------------------\n",
    "# use the argmaxof each row to determine the dominating (predicted) class\n",
    "#---------------------------------------------------------------------------\n",
    "# gt_classes     = gt_class_ids    # batch_size x max gt detections\n",
    "gt_classes_exp = tf.to_float(tf.expand_dims(gt_class_ids ,axis=-1))\n",
    "print('    gt_classes_exp shape ', gt_classes_exp.get_shape() )\n",
    "\n",
    "ones = tf.ones_like(gt_class_ids)\n",
    "zeros= tf.zeros_like(gt_class_ids)\n",
    "mask = tf.greater(gt_class_ids , 0)\n",
    "print(mask.shape)\n",
    "print(mask.eval(session=sess))\n",
    "gt_scores  =  tf.where(mask, ones, zeros)\n",
    "# pred_scores      = tf.reduce_max(mrcnn_class ,axis=-1, keep_dims=True)   # (32,)\n",
    "gt_scores_exp = tf.to_float(tf.expand_dims(gt_scores, axis=-1))\n",
    "print('    gt_scores shape ', gt_scores.get_shape())\n",
    "print(gt_scores.eval(session=sess))    \n"
   ]
  },
  {
   "cell_type": "code",
   "execution_count": null,
   "metadata": {
    "ExecuteTime": {
     "end_time": "2018-05-12T19:01:37.152315Z",
     "start_time": "2018-05-12T19:01:36.055900Z"
    },
    "scrolled": false
   },
   "outputs": [],
   "source": [
    "#---------------------------------------------------------------------------\n",
    "# create meshgrid to do something \n",
    "#---------------------------------------------------------------------------\n",
    "batch_grid, bbox_grid = tf.meshgrid( tf.range(batch_size    , dtype=tf.int32), \n",
    "                                    tf.range(num_bboxes, dtype=tf.int32), indexing = 'ij' )\n",
    "\n",
    "# sequence id is used to preserve the order of rois as passed to this routine\n",
    "sequence = gt_scores * (bbox_grid[...,::-1] + 1) \n",
    "sequence = tf.to_float(tf.expand_dims(sequence, axis = -1))   \n",
    "\n",
    "print('    batch_grid shape  ', batch_grid.get_shape())\n",
    "print(batch_grid.eval(session=sess))\n",
    "print('    bbox_grid  shape  ', bbox_grid.get_shape())\n",
    "print(bbox_grid.eval(session=sess))\n",
    "print('    sequence shape    ', sequence.get_shape())\n",
    "print(sequence.eval(session=sess)) \n",
    "\n",
    "gt_array        = tf.concat([gt_bboxes, gt_classes_exp, gt_scores_exp, sequence ], axis=2)\n",
    "\n",
    "print('    gt_array shape    ', gt_array.get_shape())\n",
    "print(gt_array.eval(session=sess)) \n",
    "print(gt_array.shape[-1])    \n",
    "# print(gt_array[:,:10].eval(session=sess))\n"
   ]
  },
  {
   "cell_type": "code",
   "execution_count": null,
   "metadata": {
    "ExecuteTime": {
     "end_time": "2018-05-12T19:02:01.703229Z",
     "start_time": "2018-05-12T19:02:00.975767Z"
    }
   },
   "outputs": [],
   "source": [
    "#------------------------------------------------------------------------------\n",
    "# Create indicies to scatter rois out to multi-dim tensor by image id and class\n",
    "# resulting tensor is batch size x num_classes x num_detections x 7 (num columns)\n",
    "#------------------------------------------------------------------------------\n",
    "scatter_ind = tf.stack([batch_grid , gt_class_ids, bbox_grid],axis = -1)\n",
    "print('    scatter_ind shape ', scatter_ind.get_shape())\n",
    "print(scatter_ind.eval(session=sess))\n",
    "\n",
    "\n",
    "gt_scatter = tf.scatter_nd(scatter_ind, gt_array, [batch_size, num_classes, num_bboxes, gt_array.shape[-1] ])\n",
    "\n",
    "\n",
    "# print('-- stack results ----')\n",
    "print('    scatter_ind shape ', scatter_ind.get_shape())\n",
    "# print(scatter_ind.eval())\n",
    "print('    gt_scatter shape ', gt_scatter.get_shape())\n",
    "\n",
    "print(gt_scatter[1,:,:,:].eval(session=sess))"
   ]
  },
  {
   "cell_type": "code",
   "execution_count": null,
   "metadata": {
    "ExecuteTime": {
     "end_time": "2018-05-12T19:02:25.628810Z",
     "start_time": "2018-05-12T19:02:25.310965Z"
    }
   },
   "outputs": [],
   "source": [
    "#-------------------------------------------------------------------------------\n",
    "## sort in each class dimension based on y2 (column 1)\n",
    "# scatter_nd places bboxs in a sparse fashion --- this sort is to place all bboxes\n",
    "# at the top of the class bbox array\n",
    "#-------------------------------------------------------------------------------\n",
    "_ , sort_inds = tf.nn.top_k(gt_scatter[:,:,:,-1] , k=gt_scatter.shape[2])\n",
    "\n",
    "# build indexes to gather rows from pred_scatter based on sort order \n",
    "class_grid, batch_grid, bbox_grid = tf.meshgrid(tf.range(num_classes),tf.range(batch_size), tf.range(num_bboxes))\n",
    "bbox_grid_exp = tf.to_float(tf.expand_dims(bbox_grid, axis = -1))\n",
    "\n",
    "print('    build gathering indexes to use in sorting -------')    \n",
    "print('    sort inds shape : ', sort_inds.get_shape())\n",
    "print('    class_grid  shape ', class_grid.get_shape())\n",
    "# print(class_grid.eval())\n",
    "print('    batch_grid  shape ', batch_grid.get_shape())\n",
    "# print(batch_grid.eval())\n",
    "print('    bbox_grid   shape ', bbox_grid.get_shape() , ' bbox_grid_exp shape ', bbox_grid_exp.get_shape())\n",
    "# print(bbox_grid.eval())\n",
    "\n",
    "gather_inds = tf.stack([batch_grid , class_grid, sort_inds],axis = -1)\n",
    "gt_tensor   = tf.gather_nd(gt_scatter, gather_inds, name  = tensor_name)[...,:-1]\n",
    "print('    gather_inds shape      : ', gather_inds.get_shape())\n",
    "print('    gt_tensor (gathered)   : ', gt_tensor.get_shape())"
   ]
  },
  {
   "cell_type": "code",
   "execution_count": null,
   "metadata": {
    "ExecuteTime": {
     "end_time": "2018-05-12T19:02:29.074597Z",
     "start_time": "2018-05-12T19:02:28.600257Z"
    },
    "scrolled": false
   },
   "outputs": [],
   "source": [
    "print(gt_tensor[2].eval(session=sess))\n",
    "print(target_bbox_deltas[2])"
   ]
  },
  {
   "cell_type": "code",
   "execution_count": null,
   "metadata": {
    "ExecuteTime": {
     "end_time": "2018-05-19T14:42:22.083106Z",
     "start_time": "2018-05-19T14:42:21.807065Z"
    }
   },
   "outputs": [],
   "source": [
    "# with sess.as_default():\n",
    "#     np_gt_array = gt_array.eval()\n",
    "#     np_gt_result = gt_result.eval()\n",
    "# np.set_printoptions(precision=4, threshold=10000, linewidth=120, suppress=True)\n",
    "# print(np_gt_array.shape, np_gt_result.shape)\n",
    "# print(np_gt_result)"
   ]
  },
  {
   "cell_type": "code",
   "execution_count": null,
   "metadata": {
    "ExecuteTime": {
     "end_time": "2018-05-12T18:54:35.217988Z",
     "start_time": "2018-05-12T18:54:34.182208Z"
    }
   },
   "outputs": [],
   "source": [
    "# append an index to the end of each row --- commented out 30-04-2018\n",
    "# gt_tensor   = tf.concat([gt_tensor, bbox_grid_exp], axis = -1)\n",
    "\n",
    "# count based on pred score > 0 (changed from index 0 to -1 on 30-04-2018)    \n",
    "gt_cls_cnt  = tf.count_nonzero(gt_tensor[:,:,:,-1],axis = -1, name = 'gt_cls_count')\n",
    "\n",
    "print('    final gt_tensor shape  : ', gt_tensor.get_shape())\n",
    "print('    final gt_cls_cnt shape : ', gt_cls_cnt.get_shape())\n",
    "print('    ', gt_cls_cnt.eval(session=sess))\n",
    "print('    complete')\n",
    "\n",
    "# return  [gt_tensor, gt_cls_cnt] "
   ]
  },
  {
   "cell_type": "code",
   "execution_count": null,
   "metadata": {
    "ExecuteTime": {
     "end_time": "2018-05-12T14:40:59.566156Z",
     "start_time": "2018-05-12T14:40:59.323538Z"
    },
    "scrolled": false
   },
   "outputs": [],
   "source": [
    "print(input_rpn_bbox.shape)\n",
    "print(target_bbox_deltas[0])\n",
    "print(gt_bboxes[0])\n",
    "print(gt_class_ids[0])\n",
    "print(gt_tensor[0,2].eval(session=sess))\n"
   ]
  },
  {
   "cell_type": "code",
   "execution_count": null,
   "metadata": {
    "ExecuteTime": {
     "end_time": "2018-05-12T13:37:37.632674Z",
     "start_time": "2018-05-12T13:37:36.973663Z"
    }
   },
   "outputs": [],
   "source": [
    "print(target_class_ids.shape)\n",
    "sess = KB.get_session()\n",
    "with sess.as_default():\n",
    "    print(tf.where(target_class_ids > 0).eval())\n",
    "# target_class_ids[0]\n",
    "# target_bbox_deltas[0]"
   ]
  },
  {
   "cell_type": "markdown",
   "metadata": {},
   "source": [
    "##  `old build_ground_truth_tf ()  (as of 18-05-2018)` "
   ]
  },
  {
   "cell_type": "code",
   "execution_count": null,
   "metadata": {
    "ExecuteTime": {
     "end_time": "2018-05-19T14:39:26.732314Z",
     "start_time": "2018-05-19T14:39:26.391409Z"
    }
   },
   "outputs": [],
   "source": [
    "##----------------------------------------------------------------------------------------------------------------------          \n",
    "##  build°groundtruth°_tf as of 18-05-2018\n",
    "##----------------------------------------------------------------------------------------------------------------------          \n",
    "def build_ground_truth_tf(gt_class_ids, gt_bboxes, num_bboxes, config):\n",
    "    # // pass model to TensorBuilder\n",
    "    batch_size      = config.BATCH_SIZE\n",
    "    num_classes     = config.NUM_CLASSES\n",
    "    h, w            = config.IMAGE_SHAPE[:2]\n",
    "    num_cols        = 7\n",
    "    \n",
    "    # num of bounding boxes is determined by bbox_list.shape[1] instead of config.DETECTION_MAX_INSTANCES\n",
    "    # use of this routine for both input_gt_boxes, and target_gt_deltas\n",
    "    if num_bboxes == config.DETECTION_MAX_INSTANCES:\n",
    "        tensor_name = \"gt_tensor\"\n",
    "    else:\n",
    "        tensor_name = \"gt_deltas\"\n",
    "        \n",
    "    print('\\n')\n",
    "    print('  > BUILD_GROUND TRUTH_TF()' )\n",
    "    print('    gt_class_ids shape : ', gt_class_ids.get_shape())\n",
    "    print('    gt_bboxes.shape    : ', gt_bboxes.get_shape() )\n",
    "\n",
    "\n",
    "    #---------------------------------------------------------------------------\n",
    "    # use the argmaxof each row to determine the dominating (predicted) class\n",
    "    # mask identifies class_ids > 0 \n",
    "    #---------------------------------------------------------------------------\n",
    "    gt_classes_exp = tf.to_float(tf.expand_dims(gt_class_ids ,axis=-1))\n",
    "    print('    gt_classes_exp shape ', gt_classes_exp.get_shape() )\n",
    "\n",
    "    ones = tf.ones_like(gt_class_ids)\n",
    "    zeros= tf.zeros_like(gt_class_ids)\n",
    "    mask = tf.greater(gt_class_ids , 0)\n",
    "\n",
    "    gt_scores     = tf.where(mask, ones, zeros)\n",
    "    # pred_scores      = tf.reduce_max(mrcnn_class ,axis=-1, keep_dims=True)   # (32,)\n",
    "    gt_scores_exp = tf.to_float(KB.expand_dims(gt_scores, axis=-1))\n",
    "    print('    gt_scores_exp shape ', gt_scores_exp.get_shape())\n",
    "\n",
    "    #---------------------------------------------------------------------------\n",
    "    # create meshgrid to do something \n",
    "    #---------------------------------------------------------------------------\n",
    "    batch_grid, bbox_grid = tf.meshgrid( tf.range(batch_size, dtype=tf.int32), \n",
    "                                         tf.range(num_bboxes, dtype=tf.int32), indexing = 'ij' )\n",
    "    \n",
    "    # sequence id is used to preserve the order of rois as passed to this routine\n",
    "    sequence = gt_scores * (bbox_grid[...,::-1] + 1) \n",
    "    sequence = tf.to_float(tf.expand_dims(sequence, axis = -1))   \n",
    "\n",
    "    # print('    batch_grid shape  ', batch_grid.get_shape())\n",
    "    # print('    bbox_grid  shape  ', bbox_grid.get_shape())\n",
    "    # print('    sequence shape    ', sequence.get_shape())\n",
    "\n",
    "    # obsolete replaced with sequence 12-05-2018    \n",
    "    # bbox_idx_zeros  = tf.zeros_like(bbox_grid)\n",
    "    # bbox_idx        = tf.where(mask, bbox_grid , bbox_idx_zeros)\n",
    "    # bbox_idx        = tf.to_float(tf.expand_dims(bbox_idx, axis = -1))    \n",
    "    \n",
    "    # 12-05-2018 (added sequecne)    gt_array        = tf.concat([gt_bboxes, gt_classes_exp, gt_scores_exp], axis=2)\n",
    "    gt_array        = tf.concat([gt_bboxes, gt_classes_exp, gt_scores_exp, sequence ], axis=2)\n",
    "    print('    gt_array shape :', gt_array.shape, gt_array.get_shape())    \n",
    "    \n",
    "    #------------------------------------------------------------------------------\n",
    "    # Create indicies to scatter rois out to multi-dim tensor by image id and class\n",
    "    # resulting tensor is batch size x num_classes x num_bboxes x 7 (num columns)\n",
    "    #------------------------------------------------------------------------------\n",
    "    scatter_ind = tf.stack([batch_grid , gt_class_ids, bbox_grid],axis = -1)\n",
    "#     gt_scatter = tf.scatter_nd(scatter_ind, gt_array, [batch_size, num_classes, num_bboxes, num_cols ])\n",
    "    gt_scatter = tf.scatter_nd(scatter_ind, gt_array, [batch_size, num_classes, num_bboxes, gt_array.shape[-1] ])\n",
    "    # print('    scatter_ind shape ', scatter_ind.get_shape())\n",
    "    # print('    gt_scatter shape ', gt_scatter.get_shape())\n",
    "    \n",
    "    #-------------------------------------------------------------------------------\n",
    "    ## sort in each class dimension based on on sequence number (last column)\n",
    "    # scatter_nd places bboxs in a sparse fashion --- this sort is to place all bboxes\n",
    "    # at the top of the class bbox array\n",
    "    #-------------------------------------------------------------------------------\n",
    "\n",
    "    _ , sort_inds = tf.nn.top_k(tf.abs(gt_scatter[:,:,:,-1]), k=gt_scatter.shape[2])\n",
    "\n",
    "    # build indexes to gather rows from pred_scatter based on sort order \n",
    "    class_grid, batch_grid, bbox_grid = tf.meshgrid(tf.range(num_classes),tf.range(batch_size), tf.range(num_bboxes))\n",
    "    bbox_grid_exp = tf.to_float(tf.expand_dims(bbox_grid, axis = -1))\n",
    " \n",
    "    gather_inds = tf.stack([batch_grid , class_grid, sort_inds],axis = -1)\n",
    "    gt_result   = tf.gather_nd(gt_scatter[...,:-1], gather_inds, name  = tensor_name)\n",
    "    # gt_result   = gt_result[...,:-1]\n",
    "    # print('    gather_inds shape      : ', gather_inds.get_shape())\n",
    "    \n",
    "    # append an index to the end of each row --- commented out 30-04-2018\n",
    "    # gt_tensor   = tf.concat([gt_tensor, bbox_grid_exp], axis = -1)\n",
    "\n",
    "    # count based on pred score > 0 (changed from index 0 to -1 on 30-04-2018)   \n",
    "    # moved outside to call() 12-05-2018\n",
    "    # gt_cls_cnt  = tf.count_nonzero(gt_result[:,:,:,-1],axis = -1, name = 'gt_cls_count')\n",
    "    print('    ',tensor_name, 'final shape  : ', gt_result.get_shape())\n",
    "\n",
    "    return  gt_result\n",
    "    #-------------------------------------------------------------------------------"
   ]
  }
 ],
 "metadata": {
  "anaconda-cloud": {},
  "celltoolbar": "Hide code",
  "hide_code_all_hidden": true,
  "kernelspec": {
   "display_name": "Python [conda env:TF_gpu]",
   "language": "python",
   "name": "conda-env-TF_gpu-py"
  },
  "language_info": {
   "codemirror_mode": {
    "name": "ipython",
    "version": 3
   },
   "file_extension": ".py",
   "mimetype": "text/x-python",
   "name": "python",
   "nbconvert_exporter": "python",
   "pygments_lexer": "ipython3",
   "version": "3.5.4"
  }
 },
 "nbformat": 4,
 "nbformat_minor": 2
}
