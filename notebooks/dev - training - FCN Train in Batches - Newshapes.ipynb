{
 "cells": [
  {
   "cell_type": "markdown",
   "metadata": {
    "hideCode": false,
    "hidePrompt": false
   },
   "source": [
    "## Development notebook  FCN model \n",
    "\n",
    "Evaluate returned heatmap values from FCN, by passing data through MRCNN and then through FCN"
   ]
  },
  {
   "cell_type": "code",
   "execution_count": 1,
   "metadata": {
    "ExecuteTime": {
     "end_time": "2018-12-22T17:57:06.635054Z",
     "start_time": "2018-12-22T17:57:06.631071Z"
    }
   },
   "outputs": [],
   "source": [
    "# np_format = {}\n",
    "# float_formatter = lambda x: \"%10.4f\" % x\n",
    "# int_formatter   = lambda x: \"%10d\" % x\n",
    "# np_format['float'] = float_formatter\n",
    "# np_format['int']   = int_formatter\n",
    "# np.set_printoptions(linewidth=195, precision=4, floatmode='fixed', threshold =10000, formatter = np_format)"
   ]
  },
  {
   "cell_type": "code",
   "execution_count": 2,
   "metadata": {
    "ExecuteTime": {
     "end_time": "2018-12-22T17:57:18.108132Z",
     "start_time": "2018-12-22T17:57:08.027401Z"
    },
    "hideCode": false,
    "hideOutput": true,
    "hidePrompt": false
   },
   "outputs": [
    {
     "data": {
      "text/html": [
       "<style>.container { width:95% !important; }</style>"
      ],
      "text/plain": [
       "<IPython.core.display.HTML object>"
      ]
     },
     "metadata": {},
     "output_type": "display_data"
    },
    {
     "name": "stderr",
     "output_type": "stream",
     "text": [
      "Using TensorFlow backend.\n"
     ]
    }
   ],
   "source": [
    "from IPython.core.display import display, HTML\n",
    "display(HTML(\"<style>.container { width:95% !important; }</style>\"))\n",
    "%matplotlib inline\n",
    "%load_ext autoreload\n",
    "%autoreload 2\n",
    "import os, sys, math, io, time, gc, argparse, platform, pprint\n",
    "import numpy as np\n",
    "import tensorflow as tf\n",
    "import keras\n",
    "import keras.backend as KB\n",
    "sys.path.append('../')\n",
    "import mrcnn.visualize    as visualize\n",
    "import mrcnn.utils        as utils\n",
    "\n",
    "from datetime            import datetime   \n",
    "from mrcnn.utils         import command_line_parser, Paths\n",
    "from mrcnn.config        import Config\n",
    "from mrcnn.dataset       import Dataset \n",
    "from mrcnn.prep_notebook import mrcnn_newshape_train, build_fcn_training_pipeline_newshapes\n",
    "from mrcnn.newshapes     import prep_newshape_dataset\n",
    "from mrcnn.datagen       import data_gen_simulate\n",
    "\n",
    "pp = pprint.PrettyPrinter(indent=2, width=100)\n",
    "np.set_printoptions(linewidth=100,precision=4,threshold=1000, suppress = True)\n",
    "##------------------------------------------------------------------------------------\n",
    "## Parse command line arguments\n",
    "##------------------------------------------------------------------------------------\n",
    "parser = command_line_parser()\n",
    "input_parms = \" --epochs          2 \"\n",
    "input_parms +=\" --steps_in_epoch 10 \" \n",
    "input_parms +=\" --val_steps       2 \" \n",
    "input_parms +=\" --last_epoch      0 \"\n",
    "input_parms +=\" --batch_size      1 \"\n",
    "input_parms +=\" --lr        0.0000001 \"\n",
    "input_parms +=\" --mrcnn_logs_dir train_mrcnn_newshapes \"\n",
    "input_parms +=\" --fcn_logs_dir   train_fcn32_newshapes \"\n",
    "# input_parms +=\"--fcn_logs_dir   train_fcn8_newshapes \"\n",
    "input_parms +=\" --scale_factor     1 \" \n",
    "input_parms +=\" --mrcnn_model    last \"\n",
    "input_parms +=\" --fcn_model      init \"\n",
    "input_parms +=\" --opt            SGD \"\n",
    "input_parms +=\" --fcn_arch       fcn8 \" \n",
    "input_parms +=\" --fcn_layers     all \" \n",
    "input_parms +=\" --sysout        screen \"\n",
    "input_parms +=\" --new_log_folder   \"        \n",
    "\n",
    "parser = utils.command_line_parser()\n",
    "args = parser.parse_args(input_parms.split())\n",
    "# utils.display_input_parms(args)"
   ]
  },
  {
   "cell_type": "code",
   "execution_count": 3,
   "metadata": {
    "ExecuteTime": {
     "end_time": "2018-12-22T17:57:33.825886Z",
     "start_time": "2018-12-22T17:57:18.108132Z"
    },
    "scrolled": true
   },
   "outputs": [
    {
     "name": "stdout",
     "output_type": "stream",
     "text": [
      "\n",
      "--> Execution started at: 12-22-2018 @ 18:57:18\n",
      "    Tensorflow Version: 1.8.0   Keras Version : 2.2.0 \n",
      "\n",
      "   Arguments passed :\n",
      "   --------------------\n",
      "   batch_size                     1\n",
      "   coco_classes                   None\n",
      "   epochs                         2\n",
      "   fcn_arch                       FCN8\n",
      "   fcn_layers                     ['all']\n",
      "   fcn_logs_dir                   train_fcn32_newshapes\n",
      "   fcn_losses                     fcn_BCE_loss\n",
      "   fcn_model                      init\n",
      "   last_epoch                     0\n",
      "   lr                             0.0000001\n",
      "   mrcnn_exclude_layers           None\n",
      "   mrcnn_layers                   mrcnn fpn rpn \n",
      "   mrcnn_logs_dir                 train_mrcnn_newshapes\n",
      "   mrcnn_model                    last\n",
      "   new_log_folder                 True\n",
      "   opt                            SGD\n",
      "   scale_factor                   1\n",
      "   steps_in_epoch                 10\n",
      "   sysout                         SCREEN\n",
      "   val_steps                      2\n",
      "\n",
      "\n",
      "\n",
      "   Arguments passed :\n",
      "   --------------------\n",
      "   batch_size                     1\n",
      "   coco_classes                   None\n",
      "   epochs                         2\n",
      "   fcn_arch                       FCN8\n",
      "   fcn_layers                     ['all']\n",
      "   fcn_logs_dir                   train_fcn32_newshapes\n",
      "   fcn_losses                     fcn_BCE_loss\n",
      "   fcn_model                      init\n",
      "   last_epoch                     0\n",
      "   lr                             0.0000001\n",
      "   mrcnn_exclude_layers           None\n",
      "   mrcnn_layers                   mrcnn fpn rpn \n",
      "   mrcnn_logs_dir                 train_mrcnn_newshapes\n",
      "   mrcnn_model                    last\n",
      "   new_log_folder                 True\n",
      "   opt                            SGD\n",
      "   scale_factor                   1\n",
      "   steps_in_epoch                 10\n",
      "   sysout                         SCREEN\n",
      "   val_steps                      2\n",
      "\n",
      "\n",
      ">>> Initialize Paths\n",
      " windows  Windows\n",
      "\n",
      "   Paths:\n",
      "   -------------------------\n",
      "COCO_DATASET_PATH              F:\\MLDatasets\\coco2014\n",
      "COCO_HEATMAP_PATH              F:\\MLDatasets\\coco2014_heatmaps\n",
      "COCO_MODEL_PATH                F:\\PretrainedModels\\mask_rcnn_coco.h5\n",
      "DIR_DATASET                    F:\\MLDatasets\n",
      "DIR_PRETRAINED                 F:\\PretrainedModels\n",
      "DIR_ROOT                       F:\\\n",
      "DIR_TRAINING                   F:\\models\n",
      "FCN_TRAINING_PATH              F:\\models\\train_fcn32_newshapes\n",
      "FCN_VGG16_MODEL_PATH           F:\\PretrainedModels\\fcn_vgg16_weights_tf_dim_ordering_tf_kernels.h5\n",
      "MRCNN_TRAINING_PATH            F:\\models\\train_mrcnn_newshapes\n",
      "PRED_CLASS_INFO_PATH           F:\\PretrainedModels\\predicted_classes_info.pkl\n",
      "RESNET_MODEL_PATH              F:\\PretrainedModels\\resnet50_weights_tf_dim_ordering_tf_kernels_notop.h5\n",
      "SHAPES_MODEL_PATH              F:\\PretrainedModels\\mask_rcnn_shapes.h5\n",
      "VGG16_MODEL_PATH               F:\\PretrainedModels\\vgg16_weights_tf_dim_ordering_tf_kernels_notop.h5\n",
      "\n",
      ">>> Initialize ModelBase model \n",
      "   Mode      :  trainfcn\n",
      "   Model dir :  F:\\models\\train_mrcnn_newshapes\n",
      ">>> ModelBase initialiation complete\n",
      ">>> ---Initialize MRCNN model, mode:  trainfcn\n",
      "\n",
      "----------------------------\n",
      ">>> Resnet Graph \n",
      "----------------------------\n",
      "     Input_image shape : (?, 128, 128, 3)\n",
      "\n",
      ">>> Feature Pyramid Network (FPN) Graph \n",
      "\n",
      ">>> RPN Layer \n",
      "\n",
      ">>> RPN Outputs  <class 'list'>\n",
      "      rpn_class_logits/rpn_class_logits:0\n",
      "      rpn_class/rpn_class:0\n",
      "      rpn_bbox/rpn_bbox:0\n",
      "\n",
      ">>> Proposal Layer - generate  2000  proposals\n",
      "    Init complete. Size of anchors:  (4092, 4)\n",
      "\n",
      ">>> Detection Target Layer (Training Mode)\n",
      "\n",
      ">>> FPN Classifier Graph \n",
      "--------------------------------\n",
      ">>>  CHM Layer  \n",
      "--------------------------------\n",
      "    > CHMLayer Call()              :  list length: 3\n",
      "--------------------------------\n",
      ">>>  CHM Layer COMPUTE OUTPUT SHAPE \n",
      "--------------------------------\n",
      "<class 'list'> 3\n",
      "\n",
      "-----------------------------------------\n",
      ">>>  CHM Layer (Ground Truth Generation) \n",
      "-----------------------------------------\n",
      "    Scatter out the probability distributions based on class --------------\n",
      "\n",
      ">>> Build MaskRCNN build complete. mode:  trainfcn\n",
      ">>> MaskRCNN initialiation complete. Mode:  trainfcn\n",
      "\n",
      "Configuration Parameters:\n",
      "-------------------------\n",
      "BACKBONE_SHAPES                [[32 32]\n",
      " [16 16]\n",
      " [ 8  8]\n",
      " [ 4  4]\n",
      " [ 2  2]]\n",
      "BACKBONE_STRIDES               [4, 8, 16, 32, 64]\n",
      "BATCH_SIZE                     1\n",
      "BBOX_STD_DEV                   [0.1 0.1 0.2 0.2]\n",
      "COCO_CLASSES                   None\n",
      "COCO_DATASET_PATH              F:\\MLDatasets\\coco2014\n",
      "COCO_MODEL_PATH                F:\\PretrainedModels\\mask_rcnn_coco.h5\n",
      "DETECTION_MAX_INSTANCES        100\n",
      "DETECTION_MIN_CONFIDENCE       0.7\n",
      "DETECTION_NMS_THRESHOLD        0.3\n",
      "DETECTION_PER_CLASS            200\n",
      "EARLY_STOP_MIN_DELTA           0.0001\n",
      "EARLY_STOP_PATIENCE            80\n",
      "EPOCHS_TO_RUN                  2\n",
      "FCN_INPUT_SHAPE                [128 128]\n",
      "GPU_COUNT                      1\n",
      "HEATMAP_SCALE_FACTOR           1\n",
      "IMAGES_PER_GPU                 1\n",
      "IMAGE_BUFFER                   20\n",
      "IMAGE_MAX_DIM                  128\n",
      "IMAGE_MIN_DIM                  128\n",
      "IMAGE_PADDING                  True\n",
      "IMAGE_SHAPE                    [128 128   3]\n",
      "LAST_EPOCH_RAN                 0\n",
      "LEARNING_MOMENTUM              0.9\n",
      "LEARNING_RATE                  1e-07\n",
      "MASK_POOL_SIZE                 14\n",
      "MASK_SHAPE                     [28, 28]\n",
      "MAX_GT_INSTANCES               100\n",
      "MAX_SHAPES_PER_IMAGE           15\n",
      "MEAN_PIXEL                     [123.7 116.8 103.9]\n",
      "MINI_MASK_SHAPE                (56, 56)\n",
      "MIN_LR                         1e-10\n",
      "MIN_SHAPES_PER_IMAGE           1\n",
      "NAME                           mrcnn\n",
      "NEW_LOG_FOLDER                 True\n",
      "NUM_CLASSES                    7\n",
      "OPTIMIZER                      SGD\n",
      "POOL_SIZE                      7\n",
      "POST_NMS_ROIS_INFERENCE        1000\n",
      "POST_NMS_ROIS_TRAINING         2000\n",
      "REDUCE_LR_COOLDOWN             30\n",
      "REDUCE_LR_FACTOR               0.5\n",
      "REDUCE_LR_PATIENCE             40\n",
      "RESNET_MODEL_PATH              F:\\PretrainedModels\\resnet50_weights_tf_dim_ordering_tf_kernels_notop.h5\n",
      "ROI_GT_IOU_THRESHOLD           0.2\n",
      "ROI_POSITIVE_RATIO             0.33\n",
      "ROI_PROPOSAL_AREA_THRESHOLD    0\n",
      "RPN_ANCHOR_RATIOS              [0.5, 1, 2]\n",
      "RPN_ANCHOR_SCALES              (8, 16, 32, 64, 128)\n",
      "RPN_ANCHOR_STRIDE              1\n",
      "RPN_BBOX_STD_DEV               [0.1 0.1 0.2 0.2]\n",
      "RPN_NMS_THRESHOLD              0.7\n",
      "RPN_TRAIN_ANCHORS_PER_IMAGE    256\n",
      "SHAPES_MODEL_PATH              F:\\PretrainedModels\\mask_rcnn_shapes.h5\n",
      "STEPS_PER_EPOCH                10\n",
      "SYSOUT                         SCREEN\n",
      "TRAINING_PATH                  F:\\models\\train_mrcnn_newshapes\n",
      "TRAIN_ROIS_PER_IMAGE           32\n",
      "USE_MINI_MASK                  True\n",
      "USE_RPN_ROIS                   True\n",
      "VALIDATION_STEPS               2\n",
      "VERBOSE                        0\n",
      "VGG16_MODEL_PATH               F:\\PretrainedModels\\vgg16_weights_tf_dim_ordering_tf_kernels_notop.h5\n",
      "WEIGHT_DECAY                   0.0002\n",
      "\n",
      "\n",
      " Inputs:\n",
      " -------\n",
      " index:  0    input name : input_image:0                              Type: float32           Shape: (?, 128, 128, 3)\n",
      " index:  1    input name : input_image_meta:0                         Type: float32           Shape: (?, ?)\n",
      " index:  2    input name : input_rpn_match:0                          Type: int32             Shape: (?, ?, 1)\n",
      " index:  3    input name : input_rpn_bbox:0                           Type: float32           Shape: (?, ?, 4)\n",
      " index:  4    input name : input_gt_class_ids:0                       Type: int32             Shape: (?, ?)\n",
      " index:  5    input name : input_gt_boxes:0                           Type: float32           Shape: (?, ?, 4)\n",
      " Outputs:\n",
      " --------\n",
      " layer:  0    output name: cntxt_layer/pred_heatmap:0                 Type: float32           Shape: (1, 128, 128, 7)\n",
      " layer:  1    output name: cntxt_layer/pred_heatmap_scores:0          Type: float32           Shape: (1, 7, 32, 23)\n",
      " layer:  2    output name: cntxt_layer_gt/gt_heatmap:0                Type: float32           Shape: (1, 128, 128, 7)\n",
      " layer:  3    output name: cntxt_layer_gt/gt_heatmap_scores:0         Type: float32           Shape: (1, 7, 32, 23)\n",
      " layer:  4    output name: mrcnn_class_lambda/mrcnn_class:0           Type: float32           Shape: (?, 32, 7)\n",
      " layer:  5    output name: mrcnn_bbox_lambda/mrcnn_bbox:0             Type: float32           Shape: (?, 32, 7, 4)\n",
      " layer:  6    output name: proposal_targets/output_rois:0             Type: float32           Shape: (1, ?, ?)\n",
      " layer:  7    output name: proposal_targets/target_class_ids:0        Type: int32             Shape: (1, ?)\n",
      " layer:  8    output name: proposal_targets/roi_gt_boxes:0            Type: float32           Shape: (1, ?, ?)\n",
      " layer:  9    output name: mrcnn_logits_lambda/mrcnn_class_logits:0   Type: float32           Shape: (?, 32, 7)\n",
      " layer: 10    output name: active_class_ids/strided_slice_3:0         Type: float32           Shape: (?, ?)\n",
      " layer: 11    output name: ROI/rpn_roi_proposals:0                    Type: float32           Shape: (1, ?, ?)\n",
      ">>> Initialize Paths\n",
      " windows  Windows\n",
      "\n",
      "   Paths:\n",
      "   -------------------------\n",
      "COCO_DATASET_PATH              F:\\MLDatasets\\coco2014\n",
      "COCO_HEATMAP_PATH              F:\\MLDatasets\\coco2014_heatmaps\n",
      "COCO_MODEL_PATH                F:\\PretrainedModels\\mask_rcnn_coco.h5\n",
      "DIR_DATASET                    F:\\MLDatasets\n",
      "DIR_PRETRAINED                 F:\\PretrainedModels\n",
      "DIR_ROOT                       F:\\\n",
      "DIR_TRAINING                   F:\\models\n",
      "FCN_TRAINING_PATH              F:\\models\\train_fcn32_newshapes\n",
      "FCN_VGG16_MODEL_PATH           F:\\PretrainedModels\\fcn_vgg16_weights_tf_dim_ordering_tf_kernels.h5\n",
      "MRCNN_TRAINING_PATH            F:\\models\\train_mrcnn_newshapes\n",
      "PRED_CLASS_INFO_PATH           F:\\PretrainedModels\\predicted_classes_info.pkl\n",
      "RESNET_MODEL_PATH              F:\\PretrainedModels\\resnet50_weights_tf_dim_ordering_tf_kernels_notop.h5\n",
      "SHAPES_MODEL_PATH              F:\\PretrainedModels\\mask_rcnn_shapes.h5\n",
      "VGG16_MODEL_PATH               F:\\PretrainedModels\\vgg16_weights_tf_dim_ordering_tf_kernels_notop.h5\n",
      "\n",
      ">>> Initialize ModelBase model \n",
      "   Mode      :  training\n",
      "   Model dir :  F:\\models\\train_fcn32_newshapes\n",
      ">>> set_log_dir(): model_path:  None\n",
      "    set_log_dir(): model_path has NOT been provided : None \n",
      "                   NewFolder: False  config.NEW_LOG_FOLDER: True \n",
      "    set_log_dir(): weight file template (self.checkpoint_path): F:\\models\\train_fcn32_newshapes\\fcn20181222T1857\\fcn_{epoch:04d}.h5 \n",
      "    set_log_dir(): weight file dir      (self.log_dir)        : F:\\models\\train_fcn32_newshapes\\fcn20181222T1857 \n",
      "    set_log_dir(): Last completed epoch (self.epoch)          : 0 \n",
      ">>> ModelBase initialiation complete\n",
      ">>> Initialize FCN model, mode:  training architecture:  FCN8\n",
      "    arch set to FCN8 - with No L2 Regularization\n",
      "<function fcn8_graph at 0x0000000D2A757378>\n",
      "\n",
      "\n",
      "---------------------------------------------------\n",
      " Build FCN Model -  Arch:  FCN8  mode:  training\n",
      "---------------------------------------------------\n",
      "   active_class_ids  shape is :  (None, 7)  Keras tensor  True\n",
      "\n",
      "---------------\n",
      ">>> FCN8 Layer - mode: training\n",
      "---------------\n",
      "     feature map      : (?, 128, 128, 7)\n",
      "     height : 128 width : 128 classes : 7\n",
      "     image_data_format:  channels_last\n",
      "     rois_per_class   :  channels_last\n",
      "     Set learning phase to : 1\n",
      "   Input feature map                   :  (?, 128, 128, 7)\n",
      "    Input feature map              :  shape: (?, 128, 128, 7)      KB.shape:(None, 128, 128, 7)   Keras Tensor: True\n",
      "    FCN Block 11                   :  shape: (?, 128, 128, 64)     KB.shape:(None, 128, 128, 64)  Keras Tensor: True\n",
      "    FCN Block 12                   :  shape: (?, 128, 128, 64)     KB.shape:(None, 128, 128, 64)  Keras Tensor: True\n",
      "    FCN Block 13 (Max pooling)     :  shape: (?, 64, 64, 64)       KB.shape:(None, 64, 64, 64)    Keras Tensor: True\n",
      "    FCN Block 21                   :  shape: (?, 64, 64, 128)      KB.shape:(None, 64, 64, 128)   Keras Tensor: True\n",
      "    FCN Block 22                   :  shape: (?, 64, 64, 128)      KB.shape:(None, 64, 64, 128)   Keras Tensor: True\n",
      "    FCN Block 23 (Max pooling)     :  shape: (?, 32, 32, 128)      KB.shape:(None, 32, 32, 128)   Keras Tensor: True\n",
      "    FCN Block 31                   :  shape: (?, 32, 32, 256)      KB.shape:(None, 32, 32, 256)   Keras Tensor: True\n",
      "    FCN Block 32                   :  shape: (?, 32, 32, 256)      KB.shape:(None, 32, 32, 256)   Keras Tensor: True\n",
      "    FCN Block 33                   :  shape: (?, 32, 32, 256)      KB.shape:(None, 32, 32, 256)   Keras Tensor: True\n",
      "    FCN Block 34 (Max pooling)     :  shape: (?, 16, 16, 256)      KB.shape:(None, 16, 16, 256)   Keras Tensor: True\n",
      "    FCN Block 41                   :  shape: (?, 16, 16, 512)      KB.shape:(None, 16, 16, 512)   Keras Tensor: True\n",
      "    FCN Block 42                   :  shape: (?, 16, 16, 512)      KB.shape:(None, 16, 16, 512)   Keras Tensor: True\n",
      "    FCN Block 43                   :  shape: (?, 16, 16, 512)      KB.shape:(None, 16, 16, 512)   Keras Tensor: True\n",
      "    FCN Block 44 (Max pooling)     :  shape: (?, 8, 8, 512)        KB.shape:(None, 8, 8, 512)     Keras Tensor: True\n"
     ]
    },
    {
     "name": "stdout",
     "output_type": "stream",
     "text": [
      "    FCN Block 51                   :  shape: (?, 8, 8, 512)        KB.shape:(None, 8, 8, 512)     Keras Tensor: True\n",
      "    FCN Block 52                   :  shape: (?, 8, 8, 512)        KB.shape:(None, 8, 8, 512)     Keras Tensor: True\n",
      "    FCN Block 53                   :  shape: (?, 8, 8, 512)        KB.shape:(None, 8, 8, 512)     Keras Tensor: True\n",
      "    FCN Block 54 (Max pooling)     :  shape: (?, 4, 4, 512)        KB.shape:(None, 4, 4, 512)     Keras Tensor: True\n",
      "\n",
      "   --- FCN32 ----------------------------\n",
      "    FCN fully connected 1 (fc1)    :  shape: (?, 4, 4, 4096)       KB.shape:(None, 4, 4, 4096)    Keras Tensor: True\n",
      "***** Call to Dropout Layer : Training is :  None\n",
      "***** in_train_phase() : Use_learning_phase:  True\n",
      "    FCN fully connected 2 (fc2)    :  shape: (?, 4, 4, 4096)       KB.shape:(None, 4, 4, 4096)    Keras Tensor: True\n",
      "***** Call to Dropout Layer : Training is :  None\n",
      "***** in_train_phase() : Use_learning_phase:  True\n",
      "    FCN conv2d (fcn32_deconv2D)    :  shape: (?, 4, 4, 7)          KB.shape:(None, 4, 4, 7)       Keras Tensor: True\n",
      "\n",
      "   --- FCN16 ----------------------------\n",
      "    FCN scorePool4 (Conv2D(Pool4)) :  shape: (?, 8, 8, 7)          KB.shape:(None, 8, 8, 7)       Keras Tensor: True\n",
      "    FCN 2x Upsampling (Deconvolution2D(fcn32_classify)):  shape: (?, ?, ?, 7)          KB.shape:(None, 10, 10, 7)     Keras Tensor: True\n",
      "    FCN 2x Upsampling/Cropped (Cropped2D(score2)):  shape: (?, ?, ?, 7)          KB.shape:(None, 8, 8, 7)       Keras Tensor: True\n",
      "    FCN Add Score2,scorePool4 Add(score2_c, scorePool4):  shape: (?, 8, 8, 7)          KB.shape:(None, 8, 8, 7)       Keras Tensor: True\n",
      "    FCN upscore_pool4 (Deconv(fuse_Pool4)):  shape: (?, ?, ?, 7)          KB.shape:(None, 16, 16, 7)     Keras Tensor: True\n",
      "\n",
      "   --- FCN8 ----------------------------\n",
      "    FCN scorePool3 (Conv2D(Pool3)) :  shape: (?, 16, 16, 7)        KB.shape:(None, 16, 16, 7)     Keras Tensor: True\n",
      "    FCN 2x Upsampling/Cropped (Cropped2D(score2)):  shape: (?, ?, ?, 7)          KB.shape:(None, 16, 16, 7)     Keras Tensor: True\n",
      "    FCN Add Score2,scorePool4      :  shape: (?, 16, 16, 7)        KB.shape:(None, 16, 16, 7)     Keras Tensor: True\n",
      "\n",
      "    FCN fcn8_classify/heatmap  (Deconv(fuse_Pool4)):  shape: (?, 128, 128, 7)      KB.shape:(None, 128, 128, 7)   Keras Tensor: True\n",
      "    fcn_hm (final)                 :  shape: (?, 128, 128, 7)      KB.shape:(None, 128, 128, 7)   Keras Tensor: True\n",
      "\n",
      "    fcn8_softmax                   :  shape: (?, 128, 128, 7)      KB.shape:(None, 128, 128, 7)   Keras Tensor: True\n",
      "    fcn_sm (final)                 :  shape: (?, 128, 128, 7)      KB.shape:(None, 128, 128, 7)   Keras Tensor: True\n",
      "\n",
      "\n",
      " \n",
      "----------------------\n",
      ">>> FCN Scoring Layer - mode: training\n",
      "----------------------\n",
      "    in_heatmap.shape               :  shape: (?, 128, 128, 7)      KB.shape:(None, 128, 128, 7)   Keras Tensor: True\n",
      "    pr_hm_scores.shape             :  shape: (?, 7, 32, 23)        KB.shape:(None, 7, 32, 23)     Keras Tensor: True\n",
      "    detctions_per_image :  32 pr_scores shape (?, 7, 32, 23)\n",
      "    rois_per_image      :  32\n",
      "    config.DETECTION_MAX_INSTANCES   :  100\n",
      "    config.DETECTIONS_PER_CLASS      :  200\n",
      "    sequence_column                  :  6\n",
      "    norm_score_column                :  7\n",
      "    in_heatmap                     :  shape: (?, 128, 128, 7)      KB.shape:(None, 128, 128, 7)   Keras Tensor: True\n",
      "    pr_scores.shape                :  shape: (?, 7, 32, 23)        KB.shape:(None, 7, 32, 23)     Keras Tensor: True\n",
      "    pt2_sum shape                  :  shape: (?, 7, 32)            KB.shape:(None, 7, 32)         Keras Tensor: False\n",
      "    pt2_ind shape                  :  shape: (?, 3)                KB.shape:(None, 3)             Keras Tensor: False\n",
      "    pt2_dense shape                :  shape: (?, 23)               KB.shape:(None, 23)            Keras Tensor: False\n",
      "    hm_indices                     :  shape: (?, 2)                KB.shape:(None, 2)             Keras Tensor: False\n",
      "    pt2_heatmaps                   :  shape: (?, 7, 128, 128)      KB.shape:(None, 7, 128, 128)   Keras Tensor: False\n",
      "    pt2_heatmaps                   :  shape: (?, 128, 128)         KB.shape:(None, 128, 128)      Keras Tensor: False\n",
      "    old_style_scores               :  shape: (?, 3)                KB.shape:(None, 3)             Keras Tensor: False\n",
      "    alt_scores_1                   :  shape: (?, 3)                KB.shape:(None, 3)             Keras Tensor: False\n",
      "    alt_scores_1_scattered         :  shape: (1, 7, 32, 3)         KB.shape:(1, 7, 32, 3)         Keras Tensor: False\n",
      "    alt_scores_1_norm(by_class)    :  shape: (1, 7, 32, 3)         KB.shape:(1, 7, 32, 3)         Keras Tensor: False\n",
      "    alt_scores_1_norm(by_image)    :  shape: (?, 3)                KB.shape:(None, 3)             Keras Tensor: False\n",
      "\n",
      "    Normalize heatmap within each class !-------------------------------------\n",
      "    in_heatmap_norm :  (?, 7, 128, 128) Keras tensor  False\n",
      "    normalizer shape   :  (?, 7, 1, 1)\n",
      "    normalized heatmap :  (?, 7, 128, 128)  Keras tensor  False\n",
      "    hm_indices shape               :  shape: (?, 2)                KB.shape:(None, 2)             Keras Tensor: False\n",
      "    pt2_heatmaps                   :  shape: (?, 128, 128)         KB.shape:(None, 128, 128)      Keras Tensor: False\n",
      "    alt_scores_2                   :  shape: (?, 3)                KB.shape:(None, 3)             Keras Tensor: False\n",
      "    alt_scores_2(scattered)        :  shape: (1, 7, 32, 3)         KB.shape:(1, 7, 32, 3)         Keras Tensor: False\n",
      "    alt_scores_2_norm(by_class)    :  shape: (1, 7, 32, 3)         KB.shape:(1, 7, 32, 3)         Keras Tensor: False\n",
      "    alt_scores_2_norm(by_image)    :  shape: (?, 3)                KB.shape:(None, 3)             Keras Tensor: False\n",
      "    fcn_scores_dense               :  shape: (?, 23)               KB.shape:(None, 23)            Keras Tensor: False\n",
      "    seq_ids                        :  shape: (?,)                  KB.shape:(None,)               Keras Tensor: False\n",
      "    sscatter_ids                   :  shape: (?, 2)                KB.shape:(None, 2)             Keras Tensor: False\n",
      "    fcn_scores_by_class            :  shape: (1, 7, 32, 23)        KB.shape:(1, 7, 32, 23)        Keras Tensor: False\n",
      "    complete                       \n",
      "\n",
      " \n",
      "----------------------\n",
      ">>> FCN Scoring Layer - mode: training\n",
      "----------------------\n",
      "    in_heatmap.shape               :  shape: (?, 128, 128, 7)      KB.shape:(None, 128, 128, 7)   Keras Tensor: False\n",
      "    pr_hm_scores.shape             :  shape: (?, 7, 32, 23)        KB.shape:(None, 7, 32, 23)     Keras Tensor: False\n",
      "    detctions_per_image :  32 pr_scores shape (?, 7, 32, 23)\n",
      "    rois_per_image      :  32\n",
      "    config.DETECTION_MAX_INSTANCES   :  100\n",
      "    config.DETECTIONS_PER_CLASS      :  200\n",
      "    sequence_column                  :  6\n",
      "    norm_score_column                :  7\n",
      "    in_heatmap                     :  shape: (?, 128, 128, 7)      KB.shape:(None, 128, 128, 7)   Keras Tensor: False\n",
      "    pr_scores.shape                :  shape: (?, 7, 32, 23)        KB.shape:(None, 7, 32, 23)     Keras Tensor: False\n",
      "    pt2_sum shape                  :  shape: (?, 7, 32)            KB.shape:(None, 7, 32)         Keras Tensor: False\n",
      "    pt2_ind shape                  :  shape: (?, 3)                KB.shape:(None, 3)             Keras Tensor: False\n",
      "    pt2_dense shape                :  shape: (?, 23)               KB.shape:(None, 23)            Keras Tensor: False\n",
      "    hm_indices                     :  shape: (?, 2)                KB.shape:(None, 2)             Keras Tensor: False\n",
      "    pt2_heatmaps                   :  shape: (?, 7, 128, 128)      KB.shape:(None, 7, 128, 128)   Keras Tensor: False\n",
      "    pt2_heatmaps                   :  shape: (?, 128, 128)         KB.shape:(None, 128, 128)      Keras Tensor: False\n",
      "    old_style_scores               :  shape: (?, 3)                KB.shape:(None, 3)             Keras Tensor: False\n",
      "    alt_scores_1                   :  shape: (?, 3)                KB.shape:(None, 3)             Keras Tensor: False\n",
      "    alt_scores_1_scattered         :  shape: (1, 7, 32, 3)         KB.shape:(1, 7, 32, 3)         Keras Tensor: False\n",
      "    alt_scores_1_norm(by_class)    :  shape: (1, 7, 32, 3)         KB.shape:(1, 7, 32, 3)         Keras Tensor: False\n",
      "    alt_scores_1_norm(by_image)    :  shape: (?, 3)                KB.shape:(None, 3)             Keras Tensor: False\n",
      "\n",
      "    Normalize heatmap within each class !-------------------------------------\n",
      "    in_heatmap_norm :  (?, 7, 128, 128) Keras tensor  False\n",
      "    normalizer shape   :  (?, 7, 1, 1)\n",
      "    normalized heatmap :  (?, 7, 128, 128)  Keras tensor  False\n",
      "    hm_indices shape               :  shape: (?, 2)                KB.shape:(None, 2)             Keras Tensor: False\n",
      "    pt2_heatmaps                   :  shape: (?, 128, 128)         KB.shape:(None, 128, 128)      Keras Tensor: False\n",
      "    alt_scores_2                   :  shape: (?, 3)                KB.shape:(None, 3)             Keras Tensor: False\n",
      "    alt_scores_2(scattered)        :  shape: (1, 7, 32, 3)         KB.shape:(1, 7, 32, 3)         Keras Tensor: False\n",
      "    alt_scores_2_norm(by_class)    :  shape: (1, 7, 32, 3)         KB.shape:(1, 7, 32, 3)         Keras Tensor: False\n",
      "    alt_scores_2_norm(by_image)    :  shape: (?, 3)                KB.shape:(None, 3)             Keras Tensor: False\n",
      "    fcn_scores_dense               :  shape: (?, 23)               KB.shape:(None, 23)            Keras Tensor: False\n",
      "    seq_ids                        :  shape: (?,)                  KB.shape:(None,)               Keras Tensor: False\n",
      "    sscatter_ids                   :  shape: (?, 2)                KB.shape:(None, 2)             Keras Tensor: False\n",
      "    fcn_scores_by_class            :  shape: (1, 7, 32, 23)        KB.shape:(1, 7, 32, 23)        Keras Tensor: False\n",
      "    complete                       \n",
      "    * gt_hm_scores shape           :  shape: (?, 7, 32, 23)        KB.shape:(None, 7, 32, 23)     Keras Tensor: True\n",
      "    * pr_hm_scores shape           :  shape: (?, 7, 32, 23)        KB.shape:(None, 7, 32, 23)     Keras Tensor: True\n",
      "    * fcn_heatmap shape            :  shape: (?, 128, 128, 7)      KB.shape:(None, 128, 128, 7)   Keras Tensor: True\n",
      "    * fcn_softmax shape            :  shape: (?, 128, 128, 7)      KB.shape:(None, 128, 128, 7)   Keras Tensor: True\n",
      "    * fcn_scores shape             :  shape: (1, 7, 32, 23)        KB.shape:(1, 7, 32, 23)        Keras Tensor: True\n",
      "                                   \n",
      "    ---------------------------------------------------\n",
      "    building Loss Functions        \n",
      "    ---------------------------------------------------\n",
      "\n",
      "-------------------------------\n",
      ">>> fcn_heatmap_MSE_loss_graph \n",
      "-------------------------------\n"
     ]
    },
    {
     "name": "stdout",
     "output_type": "stream",
     "text": [
      "    target_masks : (?, 128, 128, 7) (None, 128, 128, 7) KerasTensor:  True\n",
      "    pred_heatmap : (?, 128, 128, 7) (None, 128, 128, 7) KerasTensor:  True\n",
      "    loss         : (?, 128, 128) (None, 128, 128) KerasTensor:  False\n",
      "    loss mean    : () () KerasTensor:  False\n",
      "    loss final   : (1, 1) (1, 1) KerasTensor:  False\n",
      "\n",
      "-------------------------------\n",
      ">>> fcn_heatmap_MSE_loss_graph \n",
      "-------------------------------\n",
      "    target_masks : (?, 128, 128, 7) (None, 128, 128, 7) KerasTensor:  False\n",
      "    pred_heatmap : (?, 128, 128, 7) (None, 128, 128, 7) KerasTensor:  False\n",
      "    loss         : (?, 128, 128) (None, 128, 128) KerasTensor:  False\n",
      "    loss mean    : () () KerasTensor:  False\n",
      "    loss final   : (1, 1) (1, 1) KerasTensor:  False\n",
      "\n",
      "-------------------------------\n",
      ">>> fcn_heatmap_CE_loss_graph  \n",
      "-------------------------------\n",
      "    target_class_ids  : (None, 128, 128, 7)\n",
      "    pred_class_logits : (None, 128, 128, 7)\n",
      "    active_class_ids  : (None, 7)\n",
      "    pred_class_ids    : (None, 128, 128) <dtype: 'int64'>\n",
      "    gt_class_ids      : (None, 128, 128) <dtype: 'int64'>\n",
      "    pred_active       : (None, 128, 128) <dtype: 'float32'>\n",
      "    loss              : (None, 128, 128) <dtype: 'float32'>\n",
      "    loss*pred_active  : (None, 128, 128) KerasTensor:  False\n",
      "    loss              : () () KerasTensor:  False\n",
      "    loss mean         : () () KerasTensor:  False\n",
      "    loss final        : (1, 1) (1, 1) KerasTensor:  False\n",
      "\n",
      "-------------------------------\n",
      ">>> fcn_heatmap_CE_loss_graph  \n",
      "-------------------------------\n",
      "    target_class_ids  : (None, 128, 128, 7)\n",
      "    pred_class_logits : (None, 128, 128, 7)\n",
      "    active_class_ids  : (None, 7)\n",
      "    pred_class_ids    : (None, 128, 128) <dtype: 'int64'>\n",
      "    gt_class_ids      : (None, 128, 128) <dtype: 'int64'>\n",
      "    pred_active       : (None, 128, 128) <dtype: 'float32'>\n",
      "    loss              : (None, 128, 128) <dtype: 'float32'>\n",
      "    loss*pred_active  : (None, 128, 128) KerasTensor:  False\n",
      "    loss              : () () KerasTensor:  False\n",
      "    loss mean         : () () KerasTensor:  False\n",
      "    loss final        : (1, 1) (1, 1) KerasTensor:  False\n",
      "\n",
      "-------------------------------\n",
      ">>> fcn_heatmap_BCE_loss_graph  \n",
      "-------------------------------\n",
      "    target_class_ids  :            :  shape: (?, 128, 128, 7)      KB.shape:(None, 128, 128, 7)   Keras Tensor: True\n",
      "    pred_class_logits :            :  shape: (?, 128, 128, 7)      KB.shape:(None, 128, 128, 7)   Keras Tensor: True\n",
      "    trgt_heatmap                   :  shape: (?, 7, 128, 128)      KB.shape:(None, 7, 128, 128)   Keras Tensor: False\n",
      "    trgt_heatmap                   :  shape: (?, 7, 128, 128)      KB.shape:(None, 7, 128, 128)   Keras Tensor: False\n",
      "    tgt_hm_sum                     :  shape: (?, 7)                KB.shape:(None, 7)             Keras Tensor: False\n",
      "    class indeixes                 :  shape: (?, 2)                KB.shape:(None, 2)             Keras Tensor: False\n",
      "    active_tgt_heatmaps            :  shape: (?, 128, 128)         KB.shape:(None, 128, 128)      Keras Tensor: False\n",
      "    active_pred_heatmaps           :  shape: (?, 128, 128)         KB.shape:(None, 128, 128)      Keras Tensor: False\n",
      "    y_true :                       :  shape: (?,)                  KB.shape:(None,)               Keras Tensor: False\n",
      "    y_pred :                       :  shape: (?,)                  KB.shape:(None,)               Keras Tensor: False\n",
      "    loss                           :  shape: <unknown>             KB.shape:None                  Keras Tensor: False\n",
      "    mean loss                      :  shape: ()                    KB.shape:()                    Keras Tensor: False\n",
      "    loss (final)                   :  shape: (1, 1)                KB.shape:(1, 1)                Keras Tensor: False\n",
      "    loss              : <unknown> None KerasTensor:  False\n",
      "    loss mean         : () () KerasTensor:  False\n",
      "    loss final        : (1, 1) (1, 1) KerasTensor:  False\n",
      "\n",
      "-------------------------------\n",
      ">>> fcn_heatmap_BCE_loss_graph  \n",
      "-------------------------------\n",
      "    target_class_ids  :            :  shape: (?, 128, 128, 7)      KB.shape:(None, 128, 128, 7)   Keras Tensor: False\n",
      "    pred_class_logits :            :  shape: (?, 128, 128, 7)      KB.shape:(None, 128, 128, 7)   Keras Tensor: False\n",
      "    trgt_heatmap                   :  shape: (?, 7, 128, 128)      KB.shape:(None, 7, 128, 128)   Keras Tensor: False\n",
      "    trgt_heatmap                   :  shape: (?, 7, 128, 128)      KB.shape:(None, 7, 128, 128)   Keras Tensor: False\n",
      "    tgt_hm_sum                     :  shape: (?, 7)                KB.shape:(None, 7)             Keras Tensor: False\n",
      "    class indeixes                 :  shape: (?, 2)                KB.shape:(None, 2)             Keras Tensor: False\n",
      "    active_tgt_heatmaps            :  shape: (?, 128, 128)         KB.shape:(None, 128, 128)      Keras Tensor: False\n",
      "    active_pred_heatmaps           :  shape: (?, 128, 128)         KB.shape:(None, 128, 128)      Keras Tensor: False\n",
      "    y_true :                       :  shape: (?,)                  KB.shape:(None,)               Keras Tensor: False\n",
      "    y_pred :                       :  shape: (?,)                  KB.shape:(None,)               Keras Tensor: False\n",
      "    loss                           :  shape: <unknown>             KB.shape:None                  Keras Tensor: False\n",
      "    mean loss                      :  shape: ()                    KB.shape:()                    Keras Tensor: False\n",
      "    loss (final)                   :  shape: (1, 1)                KB.shape:(1, 1)                Keras Tensor: False\n",
      "    loss              : <unknown> None KerasTensor:  False\n",
      "    loss mean         : () () KerasTensor:  False\n",
      "    loss final        : (1, 1) (1, 1) KerasTensor:  False\n",
      " ================================================================\n",
      " self.keras_model.losses :  0\n",
      " ================================================================\n",
      "\n",
      ">>> FCN build complete. mode:  training\n",
      ">>> FCN initialization complete. mode:  training\n",
      "\n",
      " MRCNN IO Layers \n",
      " --------------- \n",
      " Inputs:\n",
      " -------\n",
      " index:  0    input name : input_image:0                              Type: float32           Shape: (?, 128, 128, 3)\n",
      " index:  1    input name : input_image_meta:0                         Type: float32           Shape: (?, ?)\n",
      " index:  2    input name : input_rpn_match:0                          Type: int32             Shape: (?, ?, 1)\n",
      " index:  3    input name : input_rpn_bbox:0                           Type: float32           Shape: (?, ?, 4)\n",
      " index:  4    input name : input_gt_class_ids:0                       Type: int32             Shape: (?, ?)\n",
      " index:  5    input name : input_gt_boxes:0                           Type: float32           Shape: (?, ?, 4)\n",
      " Outputs:\n",
      " --------\n",
      " layer:  0    output name: cntxt_layer/pred_heatmap:0                 Type: float32           Shape: (1, 128, 128, 7)\n",
      " layer:  1    output name: cntxt_layer/pred_heatmap_scores:0          Type: float32           Shape: (1, 7, 32, 23)\n",
      " layer:  2    output name: cntxt_layer_gt/gt_heatmap:0                Type: float32           Shape: (1, 128, 128, 7)\n",
      " layer:  3    output name: cntxt_layer_gt/gt_heatmap_scores:0         Type: float32           Shape: (1, 7, 32, 23)\n",
      " layer:  4    output name: mrcnn_class_lambda/mrcnn_class:0           Type: float32           Shape: (?, 32, 7)\n",
      " layer:  5    output name: mrcnn_bbox_lambda/mrcnn_bbox:0             Type: float32           Shape: (?, 32, 7, 4)\n",
      " layer:  6    output name: proposal_targets/output_rois:0             Type: float32           Shape: (1, ?, ?)\n",
      " layer:  7    output name: proposal_targets/target_class_ids:0        Type: int32             Shape: (1, ?)\n",
      " layer:  8    output name: proposal_targets/roi_gt_boxes:0            Type: float32           Shape: (1, ?, ?)\n",
      " layer:  9    output name: mrcnn_logits_lambda/mrcnn_class_logits:0   Type: float32           Shape: (?, 32, 7)\n",
      " layer: 10    output name: active_class_ids/strided_slice_3:0         Type: float32           Shape: (?, ?)\n",
      " layer: 11    output name: ROI/rpn_roi_proposals:0                    Type: float32           Shape: (1, ?, ?)\n",
      "\n",
      " FCN IO Layers \n",
      " ------------- \n",
      " Inputs:\n",
      " -------\n",
      " index:  0    input name : input_image_meta_1:0                       Type: float32           Shape: (?, 15)\n",
      " index:  1    input name : input_pr_hm_norm:0                         Type: float32           Shape: (?, 128, 128, 7)\n",
      " index:  2    input name : input_pr_hm_scores:0                       Type: float32           Shape: (?, 7, 32, 23)\n",
      " index:  3    input name : input_gt_hm_norm:0                         Type: float32           Shape: (?, 128, 128, 7)\n",
      " index:  4    input name : input_gt_hm_scores:0                       Type: float32           Shape: (?, 7, 32, 23)\n",
      " Outputs:\n",
      " --------\n",
      " layer:  0    output name: fcn_heatmap_lambda/fcn_hm:0                Type: float32           Shape: (?, 128, 128, 7)\n",
      " layer:  1    output name: fcn_softmax_lambda/fcn_sm:0                Type: float32           Shape: (?, 128, 128, 7)\n",
      " layer:  2    output name: fcn_MSE_loss/fcn_MSE_loss:0                Type: float32           Shape: (1, 1)\n",
      " layer:  3    output name: fcn_BCE_loss/fcn_BCE_loss:0                Type: float32           Shape: (1, 1)\n",
      " layer:  4    output name: fcn_scoring/fcn_hm_scores:0                Type: float32           Shape: (1, 7, 32, 23)\n",
      "-----------------------------------------------\n",
      " Load Model with init parm: [ last ]\n",
      "-----------------------------------------------\n",
      " ---> last\n",
      ">>> load_weights() from : F:\\models\\train_mrcnn_newshapes\\mrcnn20181216T0000\\mrcnn_0247.h5\n",
      "    Weights file loaded: F:\\models\\train_mrcnn_newshapes\\mrcnn20181216T0000\\mrcnn_0247.h5 \n",
      "==========================================\n",
      "MRCNN  MODEL Load weight file COMPLETE \n",
      "==========================================\n",
      " FCN Training starting from randomly initialized weights ...\n"
     ]
    }
   ],
   "source": [
    "mrcnn_model, fcn_model = build_fcn_training_pipeline_newshapes(args = args, verbose = 1)"
   ]
  },
  {
   "cell_type": "markdown",
   "metadata": {
    "heading_collapsed": true
   },
   "source": [
    "#### load model weights"
   ]
  },
  {
   "cell_type": "code",
   "execution_count": null,
   "metadata": {
    "ExecuteTime": {
     "end_time": "2018-12-22T16:27:08.515559Z",
     "start_time": "2018-12-22T16:27:08.191146Z"
    },
    "hidden": true,
    "scrolled": true
   },
   "outputs": [],
   "source": [
    "##------------------------------------------------------------------------------------\n",
    "## Load MRCNN Model weights  \n",
    "##------------------------------------------------------------------------------------\n",
    "# exclude=[\"mrcnn_class_logits\"] # ,\"mrcnn_bbox_fc\"]   #, \"mrcnn_bbox\", \"mrcnn_mask\"])\n",
    "# mrcnn_model.load_model_weights(init_with = 'last', exclude = None)  \n",
    "\n",
    "##------------------------------------------------------------------------------------\n",
    "## Load FCN Model weights  \n",
    "##------------------------------------------------------------------------------------\n",
    "# WEIGHTS_PATH = '/home/kbardool/models/train_fcn8_coco/fcn20181031T0000/fcn_0106.h5'\n",
    "# fcn_model.load_model_weights(init_with = WEIGHTS_PATH) # 'fcn_config.VGG16_MODEL_PATH')"
   ]
  },
  {
   "cell_type": "markdown",
   "metadata": {
    "heading_collapsed": true
   },
   "source": [
    "#### display fcn_config"
   ]
  },
  {
   "cell_type": "code",
   "execution_count": null,
   "metadata": {
    "ExecuteTime": {
     "end_time": "2018-12-22T16:27:09.792690Z",
     "start_time": "2018-12-22T16:27:09.464722Z"
    },
    "hidden": true,
    "scrolled": true
   },
   "outputs": [],
   "source": [
    "# mrcnn_model.config.EPOCHS_TO_RUN = 1\n",
    "fcn_model.config.display()  \n",
    "# mrcnn_model.layer_info()"
   ]
  },
  {
   "cell_type": "markdown",
   "metadata": {
    "heading_collapsed": true
   },
   "source": [
    "##  Build FCN Model (obsolete)"
   ]
  },
  {
   "cell_type": "code",
   "execution_count": null,
   "metadata": {
    "ExecuteTime": {
     "end_time": "2018-11-08T11:47:48.077377Z",
     "start_time": "2018-11-08T11:47:33.890832Z"
    },
    "hidden": true,
    "hideCode": false,
    "hideOutput": true,
    "hidePrompt": false
   },
   "outputs": [],
   "source": [
    "##----------------------------------------------------------------------------------------------\n",
    "## if debug is true set stdout destination to stringIO\n",
    "##----------------------------------------------------------------------------------------------            \n",
    "# debug = False\n",
    "if args.sysout == 'FILE':\n",
    "    sys.stdout = io.StringIO()\n",
    "\n",
    "# print(\"    Dataset            : \", args.dataset)\n",
    "# print(\"    Logs               : \", args.logs)\n",
    "# print(\"    Limit              : \", args.limit)\n",
    "print(\"    MRCNN Model        : \", args.mrcnn_model)\n",
    "print(\"    FCN Model          : \", args.fcn_model)\n",
    "print(\"    MRCNN Log Dir      : \", args.mrcnn_logs_dir)\n",
    "print(\"    FCN Log Dir        : \", args.fcn_logs_dir)\n",
    "print(\"    FCN Arch           : \", args.fcn_arch)\n",
    "print(\"    FCN Log Dir        : \", args.fcn_layers)\n",
    "print(\"    Last Epoch         : \", args.last_epoch)\n",
    "print(\"    Epochs to run      : \", args.epochs)\n",
    "print(\"    Steps in each epoch: \", args.steps_in_epoch)\n",
    "print(\"    Validation steps   : \", args.val_steps)\n",
    "print(\"    Batch Size         : \", args.batch_size)\n",
    "print(\"    Optimizer          : \", args.opt)\n",
    "print(\"    sysout             : \", args.sysout)\n",
    "# print(\"    OS Platform        : \", syst)\n",
    "\n",
    "##------------------------------------------------------------------------------------\n",
    "## setup project directories\n",
    "##   ROOT_DIR         : Root directory of the project \n",
    "##   MODEL_DIR        : Directory to save logs and trained model\n",
    "##   COCO_MODEL_PATH  : Path to COCO trained weights\n",
    "##---------------------------------------------------------------------------------\n",
    "paths = Paths(fcn_training_folder = args.fcn_logs_dir, mrcnn_training_folder = args.mrcnn_logs_dir)\n",
    "paths.display()\n",
    "\n",
    "##------------------------------------------------------------------------------------\n",
    "## Build configuration object \n",
    "##------------------------------------------------------------------------------------                          \n",
    "mrcnn_config                    = CocoConfig()\n",
    "# import mrcnn.new_shapes as new_shapes\n",
    "# mrcnn_config = new_shapes.NewShapesConfig()\n",
    "\n",
    "mrcnn_config.NAME               = 'mrcnn'              \n",
    "mrcnn_config.TRAINING_PATH      = paths.MRCNN_TRAINING_PATH\n",
    "mrcnn_config.COCO_DATASET_PATH  = paths.COCO_DATASET_PATH \n",
    "mrcnn_config.COCO_MODEL_PATH    = paths.COCO_MODEL_PATH   \n",
    "mrcnn_config.RESNET_MODEL_PATH  = paths.RESNET_MODEL_PATH \n",
    "mrcnn_config.VGG16_MODEL_PATH   = paths.VGG16_MODEL_PATH  \n",
    "mrcnn_config.COCO_CLASSES       = None \n",
    "mrcnn_config.DETECTION_PER_CLASS = 200\n",
    "mrcnn_config.HEATMAP_SCALE_FACTOR = 4\n",
    "mrcnn_config.BATCH_SIZE         = int(args.batch_size)                  # Batch size is 2 (# GPUs * images/GPU).\n",
    "mrcnn_config.IMAGES_PER_GPU     = int(args.batch_size)                  # Must match BATCH_SIZE\n",
    "\n",
    "mrcnn_config.STEPS_PER_EPOCH    = int(args.steps_in_epoch)\n",
    "mrcnn_config.LEARNING_RATE      = float(args.lr)\n",
    "mrcnn_config.EPOCHS_TO_RUN      = int(args.epochs)\n",
    "mrcnn_config.FCN_INPUT_SHAPE    = mrcnn_config.IMAGE_SHAPE[0:2]\n",
    "mrcnn_config.LAST_EPOCH_RAN     = int(args.last_epoch)\n",
    "\n",
    "mrcnn_config.WEIGHT_DECAY       = 2.0e-4\n",
    "mrcnn_config.VALIDATION_STEPS   = int(args.val_steps)\n",
    "mrcnn_config.REDUCE_LR_FACTOR   = 0.5\n",
    "mrcnn_config.REDUCE_LR_COOLDOWN = 30\n",
    "mrcnn_config.REDUCE_LR_PATIENCE = 40\n",
    "mrcnn_config.EARLY_STOP_PATIENCE= 80\n",
    "mrcnn_config.EARLY_STOP_MIN_DELTA = 1.0e-4\n",
    "mrcnn_config.MIN_LR             = 1.0e-10\n",
    "mrcnn_config.OPTIMIZER          = args.opt.upper()\n",
    "mrcnn_config.NEW_LOG_FOLDER       = True\n",
    "mrcnn_config.SYSOUT               = args.sysout\n",
    "mrcnn_config.display() \n",
    "\n",
    "\n",
    "###  Build Model\n",
    "\n",
    "from mrcnn.prep_notebook import mrcnn_coco_train\n",
    "mrcnn_model, mrcnn_config = mrcnn_coco_train(mode = 'trainfcn', mrcnn_config = mrcnn_config)"
   ]
  },
  {
   "cell_type": "code",
   "execution_count": null,
   "metadata": {
    "ExecuteTime": {
     "end_time": "2018-11-08T11:47:48.237352Z",
     "start_time": "2018-11-08T11:47:48.134367Z"
    },
    "hidden": true
   },
   "outputs": [],
   "source": [
    "##------------------------------------------------------------------------------------\n",
    "## Build configuration for FCN model\n",
    "##------------------------------------------------------------------------------------\n",
    "# fcn_config = CocoConfig()\n",
    "# fcn_config.NAME                 = 'fcn'              \n",
    "# fcn_config.TRAINING_PATH        = paths.FCN_TRAINING_PATH\n",
    "# fcn_config.VGG16_MODEL_PATH     = paths.FCN_VGG16_MODEL_PATH\n",
    "# fcn_config.FCN_INPUT_SHAPE      = mrcnn_config.IMAGE_SHAPE[0:2] // mrcnn_config.HEATMAP_SCALE_FACTOR \n",
    "\n",
    "# fcn_config.BATCH_SIZE           = int(args.batch_size)                  # Batch size is 2 (# GPUs * images/GPU).\n",
    "# fcn_config.IMAGES_PER_GPU       = int(args.batch_size)                  # Must match BATCH_SIZE\n",
    "# fcn_config.EPOCHS_TO_RUN        = int(args.epochs)\n",
    "# fcn_config.STEPS_PER_EPOCH      = int(args.steps_in_epoch)\n",
    "# fcn_config.LEARNING_RATE        = float(args.lr)\n",
    "# fcn_config.LAST_EPOCH_RAN       = int(args.last_epoch)\n",
    "# fcn_config.VALIDATION_STEPS     = int(args.val_steps)\n",
    "\n",
    "# fcn_config.WEIGHT_DECAY         = 2.0e-4     ## FCN Weight decays are 5.0e-4 or 2.0e-4\n",
    "# fcn_config.BATCH_MOMENTUM       = 0.9\n",
    "\n",
    "# fcn_config.REDUCE_LR_FACTOR     = 0.5\n",
    "# fcn_config.REDUCE_LR_COOLDOWN   = 15\n",
    "# fcn_config.REDUCE_LR_PATIENCE   = 50\n",
    "# fcn_config.REDUCE_LR_MIN_DELTA  = 1e-6\n",
    "\n",
    "# fcn_config.EARLY_STOP_PATIENCE  = 75\n",
    "# fcn_config.EARLY_STOP_MIN_DELTA = 1.0e-7\n",
    "\n",
    "# fcn_config.MIN_LR               = 1.0e-10\n",
    "# fcn_config.CHECKPOINT_PERIOD    = 1\n",
    "\n",
    "# fcn_config.NEW_LOG_FOLDER       = args.new_log_folder\n",
    "# fcn_config.OPTIMIZER            = args.opt.upper()\n",
    "# fcn_config.SYSOUT               = args.sysout\n",
    "# fcn_config.display()\n",
    "\n",
    "#### Build Model"
   ]
  },
  {
   "cell_type": "code",
   "execution_count": null,
   "metadata": {
    "ExecuteTime": {
     "end_time": "2018-11-08T11:47:48.914726Z",
     "start_time": "2018-11-08T11:47:48.239792Z"
    },
    "hidden": true,
    "scrolled": false
   },
   "outputs": [],
   "source": [
    "##------------------------------------------------------------------------------------\n",
    "## Build FCN Model in Training Mode\n",
    "##------------------------------------------------------------------------------------\n",
    "# try :\n",
    "#     del fcn_model\n",
    "#     gc.collect()\n",
    "# except: \n",
    "#     pass    \n",
    "# fcn_model = fcn_modellib.FCN(mode=\"training\", arch = 'FCN8', config=fcn_config)\n"
   ]
  },
  {
   "cell_type": "code",
   "execution_count": null,
   "metadata": {
    "ExecuteTime": {
     "end_time": "2018-11-08T11:47:48.975972Z",
     "start_time": "2018-11-08T11:47:48.917434Z"
    },
    "hidden": true,
    "scrolled": false
   },
   "outputs": [],
   "source": [
    "fcn_model.keras_model.summary()\n",
    "fcn_model.layer_info()\n",
    "# fcn_model.config.display()"
   ]
  },
  {
   "cell_type": "code",
   "execution_count": null,
   "metadata": {
    "ExecuteTime": {
     "end_time": "2018-11-08T12:08:54.460186Z",
     "start_time": "2018-11-08T12:08:54.391978Z"
    },
    "hidden": true,
    "scrolled": false
   },
   "outputs": [],
   "source": [
    "# del fcn_m\n",
    "ff = fcn_model.keras_model\n",
    "# pp.pprint(dir(ff))\n",
    "# for i in ff.layers:\n",
    "#     print(i.name)\n",
    "ly = ff.layers[35]\n",
    "dir(ly)\n",
    "print(ly.input, ly.input_shape)\n",
    "print(ly.output, ly.output_shape)\n",
    "# test = [None] *len(fcn_m.targets)\n",
    "\n",
    "print('ff.outputNames', ff.output_names)\n",
    "print('ff.outputShapes', ff.output_shape)\n",
    "\n",
    "print('ff.targets :', len(ff.targets))\n",
    "for tensor in ff.targets:\n",
    "      print('  ', tensor)\n",
    "print('ff.inputs  :', len(ff.inputs))\n",
    "for tensor in ff.inputs:\n",
    "      print('   ', tensor)\n",
    "print('fd.sample_weights :', ff.sample_weights)\n",
    "print('ff.input          :', len(ff.input))\n",
    "print('_feed_input_nmes: ', ff._feed_input_names)\n",
    "print('_feed_output_nmes: ', ff._feed_output_names)"
   ]
  },
  {
   "cell_type": "markdown",
   "metadata": {},
   "source": [
    "## Load datasets"
   ]
  },
  {
   "cell_type": "code",
   "execution_count": 4,
   "metadata": {
    "ExecuteTime": {
     "end_time": "2018-12-22T17:57:37.062506Z",
     "start_time": "2018-12-22T17:57:34.641515Z"
    },
    "hideCode": false,
    "hideOutput": true,
    "hidePrompt": false,
    "scrolled": true
   },
   "outputs": [
    {
     "name": "stdout",
     "output_type": "stream",
     "text": [
      "Prepares complete\n",
      "Prepares complete\n",
      "1000 250\n"
     ]
    }
   ],
   "source": [
    "##------------------------------------------------------------------------------------\n",
    "## Build & Load Training and Validation datasets\n",
    "##------------------------------------------------------------------------------------\n",
    "dataset_train, train_generator = prep_newshape_dataset( mrcnn_model.config, 1000, generator=True)\n",
    "dataset_val  , val_generator   = prep_newshape_dataset( mrcnn_model.config,  250, generator=True)\n",
    "class_names = dataset_train.class_names\n",
    "print(len(dataset_train.image_ids), len(dataset_val.image_ids))"
   ]
  },
  {
   "cell_type": "code",
   "execution_count": 5,
   "metadata": {
    "ExecuteTime": {
     "end_time": "2018-12-22T17:57:39.354370Z",
     "start_time": "2018-12-22T17:57:39.035267Z"
    }
   },
   "outputs": [
    {
     "name": "stdout",
     "output_type": "stream",
     "text": [
      "1000 250\n",
      "1000\n"
     ]
    },
    {
     "data": {
      "text/plain": [
       "999"
      ]
     },
     "execution_count": 5,
     "metadata": {},
     "output_type": "execute_result"
    }
   ],
   "source": [
    "# dataset_train.display_active_classes()\n",
    "# dataset_val.display_active_classes()\n",
    "print(len(dataset_train.image_ids), len(dataset_val.image_ids))\n",
    "ext_ids = [img_inf['id'] for img_inf in dataset_train.image_info]\n",
    "print(len(ext_ids))\n",
    "ext_ids.index(999)"
   ]
  },
  {
   "cell_type": "markdown",
   "metadata": {},
   "source": [
    "## Display Images"
   ]
  },
  {
   "cell_type": "markdown",
   "metadata": {},
   "source": [
    "###  Display image with Ground Truth bounding boxes and masks"
   ]
  },
  {
   "cell_type": "code",
   "execution_count": 6,
   "metadata": {
    "ExecuteTime": {
     "end_time": "2018-12-22T17:57:42.107931Z",
     "start_time": "2018-12-22T17:57:41.462755Z"
    },
    "hideCode": false,
    "hidePrompt": false,
    "scrolled": false
   },
   "outputs": [
    {
     "name": "stdout",
     "output_type": "stream",
     "text": [
      "image id :  646\n",
      " Image_id    :  646  Reference:  [('sun', (152, 41, 73), (14, 11, 5, 5)), ('cloud', (96, 179, 91), (58, 20, 15, 3)), ('cloud', (88, 204, 208), (92, 29, 33, 6)), ('tree', (173, 225, 40), (67, 67, 14, 14)), ('building', (153, 242, 11), (82, 78, 18, 26)), ('car', (53, 247, 132), (94, 85, 22, 11)), ('person', (245, 77, 188), (96, 86, 3, 15)), ('tree', (91, 152, 203), (21, 90, 19, 19))] Coco Id: 646\n",
      " Image meta  :  [646 128 128   3   0   0 128 128]\n",
      " Class ids   :  (8,)    [3 6 6 5 4 2 1 5]\n",
      " Class Names :  ['sun', 'cloud', 'cloud', 'tree', 'building', 'car', 'person', 'tree']\n"
     ]
    },
    {
     "data": {
      "image/png": "[encoded data removed]",
      "text/plain": [
       "<Figure size 1152x1152 with 1 Axes>"
      ]
     },
     "metadata": {},
     "output_type": "display_data"
    },
    {
     "name": "stdout",
     "output_type": "stream",
     "text": [
      "[646 128 128   3   0   0 128 128   1   1   1   1   1   1   1]\n"
     ]
    }
   ],
   "source": [
    "IMAGE_IDS = [646]\n",
    "# train_batch_x, train_batch_y = next(train_generator)\n",
    "train_batch_x, train_batch_y = data_gen_simulate(dataset_train, mrcnn_model.config, IMAGE_IDS)\n",
    "visualize.display_training_batch(dataset_train, train_batch_x)\n",
    "print(train_batch_x[1][0])"
   ]
  },
  {
   "cell_type": "markdown",
   "metadata": {
    "heading_collapsed": true
   },
   "source": [
    "### other image displays"
   ]
  },
  {
   "cell_type": "markdown",
   "metadata": {
    "hidden": true
   },
   "source": [
    "####  Display Training / Validation Training set information"
   ]
  },
  {
   "cell_type": "code",
   "execution_count": null,
   "metadata": {
    "ExecuteTime": {
     "end_time": "2018-09-20T13:41:58.073076Z",
     "start_time": "2018-09-20T13:41:58.017365Z"
    },
    "hidden": true
   },
   "outputs": [],
   "source": [
    "print(\"Train Dataset Image Count: {}\".format(len(dataset_train.image_ids)))\n",
    "print(\"Training Dataset Class Count: {}\".format(dataset_train.num_classes))\n",
    "for i, info in enumerate(dataset_train.class_info):\n",
    "    print(\"{:3}. {:50}\".format(i, info['name']))\n",
    "    \n",
    "    \n",
    "print(\"Validation Dataset Image Count: {}\".format(len(dataset_val.image_ids)))\n",
    "print(\"Validation Dataset Class Count: {}\".format(dataset_val.num_classes))\n",
    "for i, info in enumerate(dataset_val.class_info):\n",
    "    print(\"{:3}. {:50}\".format(i, info['name']))    "
   ]
  },
  {
   "cell_type": "markdown",
   "metadata": {
    "hidden": true
   },
   "source": [
    "#### Display top masks for a random group of images"
   ]
  },
  {
   "cell_type": "code",
   "execution_count": null,
   "metadata": {
    "ExecuteTime": {
     "end_time": "2018-09-20T13:42:01.523874Z",
     "start_time": "2018-09-20T13:41:58.075930Z"
    },
    "hidden": true
   },
   "outputs": [],
   "source": [
    "# Load and display random samples\n",
    "image_ids = np.random.choice(dataset_train.image_ids, 7)\n",
    "for image_id in image_ids:\n",
    "    image = dataset_train.load_image(image_id)\n",
    "    mask, class_ids = dataset_train.load_mask(image_id)\n",
    "    visualize.display_top_masks(image, mask, class_ids, dataset_train.class_names)"
   ]
  },
  {
   "cell_type": "markdown",
   "metadata": {
    "hidden": true
   },
   "source": [
    "#### Display a random image with instances and mask"
   ]
  },
  {
   "cell_type": "code",
   "execution_count": null,
   "metadata": {
    "ExecuteTime": {
     "end_time": "2018-09-20T13:42:02.368569Z",
     "start_time": "2018-09-20T13:42:01.527170Z"
    },
    "hidden": true
   },
   "outputs": [],
   "source": [
    "# Load random image and mask.\n",
    "# image_id = np.random.choice(dataset_train.image_ids)\n",
    "\n",
    "\n",
    "image    = dataset_train.load_image(image_id)\n",
    "mask, class_ids = dataset_train.load_mask(image_id)\n",
    "# Compute Bounding box\n",
    "bbox = utils.extract_bboxes(mask)\n",
    "\n",
    "# Display image and additional stats\n",
    "print(\"image_id \", image_id, dataset_train.image_reference(image_id))\n",
    "log(\"image\", image)\n",
    "log(\"mask\", mask)\n",
    "log(\"class_ids\", class_ids)\n",
    "log(\"bbox\", bbox)\n",
    "print(class_ids.shape[0], bbox.shape[0])\n",
    "# Display image and instances\n",
    "visualize.display_instances_with_mask(image, bbox, mask, class_ids, dataset_train.class_names)"
   ]
  },
  {
   "cell_type": "markdown",
   "metadata": {},
   "source": [
    "## FCN `train_in_batches()`"
   ]
  },
  {
   "cell_type": "markdown",
   "metadata": {},
   "source": [
    "#### setup datasets"
   ]
  },
  {
   "cell_type": "markdown",
   "metadata": {},
   "source": [
    " #### Display parameters"
   ]
  },
  {
   "cell_type": "code",
   "execution_count": 7,
   "metadata": {
    "ExecuteTime": {
     "end_time": "2018-12-22T17:58:25.342959Z",
     "start_time": "2018-12-22T17:58:24.975831Z"
    }
   },
   "outputs": [
    {
     "name": "stdout",
     "output_type": "stream",
     "text": [
      "\n",
      "Configuration Parameters:\n",
      "-------------------------\n",
      "BACKBONE_SHAPES                [[32 32]\n",
      " [16 16]\n",
      " [ 8  8]\n",
      " [ 4  4]\n",
      " [ 2  2]]\n",
      "BACKBONE_STRIDES               [4, 8, 16, 32, 64]\n",
      "BATCH_MOMENTUM                 0.9\n",
      "BATCH_SIZE                     1\n",
      "BBOX_STD_DEV                   [0.1 0.1 0.2 0.2]\n",
      "CHECKPOINT_PERIOD              1\n",
      "COCO_DATASET_PATH              F:\\MLDatasets\\coco2014\n",
      "COCO_MODEL_PATH                F:\\PretrainedModels\\mask_rcnn_coco.h5\n",
      "DETECTION_MAX_INSTANCES        100\n",
      "DETECTION_MIN_CONFIDENCE       0.7\n",
      "DETECTION_NMS_THRESHOLD        0.3\n",
      "DETECTION_PER_CLASS            200\n",
      "EARLY_STOP_MIN_DELTA           1e-07\n",
      "EARLY_STOP_PATIENCE            150\n",
      "EPOCHS_TO_RUN                  2\n",
      "FCN_INPUT_SHAPE                [128 128]\n",
      "GPU_COUNT                      1\n",
      "HEATMAP_SCALE_FACTOR           1\n",
      "IMAGES_PER_GPU                 1\n",
      "IMAGE_BUFFER                   20\n",
      "IMAGE_MAX_DIM                  128\n",
      "IMAGE_MIN_DIM                  128\n",
      "IMAGE_PADDING                  True\n",
      "IMAGE_SHAPE                    [128 128   3]\n",
      "LAST_EPOCH_RAN                 0\n",
      "LEARNING_MOMENTUM              0.9\n",
      "LEARNING_RATE                  1e-07\n",
      "MASK_POOL_SIZE                 14\n",
      "MASK_SHAPE                     [28, 28]\n",
      "MAX_GT_INSTANCES               100\n",
      "MAX_SHAPES_PER_IMAGE           15\n",
      "MEAN_PIXEL                     [123.7 116.8 103.9]\n",
      "MINI_MASK_SHAPE                (56, 56)\n",
      "MIN_LR                         1e-10\n",
      "MIN_SHAPES_PER_IMAGE           1\n",
      "NAME                           fcn\n",
      "NEW_LOG_FOLDER                 True\n",
      "NUM_CLASSES                    7\n",
      "OPTIMIZER                      SGD\n",
      "POOL_SIZE                      7\n",
      "POST_NMS_ROIS_INFERENCE        1000\n",
      "POST_NMS_ROIS_TRAINING         2000\n",
      "REDUCE_LR_COOLDOWN             15\n",
      "REDUCE_LR_FACTOR               0.5\n",
      "REDUCE_LR_MIN_DELTA            1e-06\n",
      "REDUCE_LR_PATIENCE             50\n",
      "ROI_GT_IOU_THRESHOLD           0.2\n",
      "ROI_POSITIVE_RATIO             0.33\n",
      "ROI_PROPOSAL_AREA_THRESHOLD    0\n",
      "RPN_ANCHOR_RATIOS              [0.5, 1, 2]\n",
      "RPN_ANCHOR_SCALES              (8, 16, 32, 64, 128)\n",
      "RPN_ANCHOR_STRIDE              1\n",
      "RPN_BBOX_STD_DEV               [0.1 0.1 0.2 0.2]\n",
      "RPN_NMS_THRESHOLD              0.7\n",
      "RPN_TRAIN_ANCHORS_PER_IMAGE    256\n",
      "STEPS_PER_EPOCH                10\n",
      "SYSOUT                         SCREEN\n",
      "TRAINING_LAYERS                ['all']\n",
      "TRAINING_PATH                  F:\\models\\train_fcn32_newshapes\n",
      "TRAIN_ROIS_PER_IMAGE           32\n",
      "USE_MINI_MASK                  True\n",
      "USE_RPN_ROIS                   True\n",
      "VALIDATION_STEPS               4\n",
      "VERBOSE                        1\n",
      "VGG16_MODEL_PATH               F:\\PretrainedModels\\fcn_vgg16_weights_tf_dim_ordering_tf_kernels.h5\n",
      "WEIGHT_DECAY                   1e-08\n",
      "\n",
      "\n",
      "--- MRCNN-------------------------------------------------------\n",
      "Epochs to run       2 \n",
      "Steps per epochs    10 \n",
      "Batch size          1 \n",
      "Learning Rate       1e-07 \n",
      "Momentum            0.9 \n",
      "Weight Decay:       0.0002 \n",
      "VALIDATION_STEPS    2 \n",
      "--- FCN --------------------------------------------------------\n",
      "Epochs to run       2 \n",
      "Steps per epochs    10 \n",
      "Batch size          1 \n",
      "Learning Rate       1e-07 \n",
      "Momentum            0.9 \n",
      "Weight Decay:       1e-08 \n",
      "VALIDATION_STEPS    4 \n",
      "Checkpoint Path:    F:\\models\\train_fcn32_newshapes\\fcn20181222T1857\\fcn_{epoch:04d}.h5 \n",
      "REDUCE_LR_FACTOR    0.5 \n",
      "REDUCE_LR_COOLDOWN  15 \n",
      "REDUCE_LR_PATIENCE  50 \n",
      "MIN_LR              1e-10 \n",
      "EARLY_STOP_PATIENCE 150 \n",
      "HEATMAP SCALE FACOR 1 \n",
      "FCN_INPUT_SHAPE     [128 128] \n"
     ]
    }
   ],
   "source": [
    "from mrcnn.utils        import log\n",
    "# fcn_config.EPOCHS_TO_RUN  = 4\n",
    "# fcn_config.LEARNING_RATE  = 0.1\n",
    "fcn_model.config.VALIDATION_STEPS = 4\n",
    "fcn_model.config.display()\n",
    "print('--- MRCNN-------------------------------------------------------')\n",
    "log(\"Epochs to run       {} \".format(mrcnn_model.config.EPOCHS_TO_RUN))\n",
    "log(\"Steps per epochs    {} \".format(mrcnn_model.config.STEPS_PER_EPOCH))\n",
    "log(\"Batch size          {} \".format(mrcnn_model.config.BATCH_SIZE))\n",
    "log(\"Learning Rate       {} \".format(mrcnn_model.config.LEARNING_RATE))\n",
    "log(\"Momentum            {} \".format(mrcnn_model.config.LEARNING_MOMENTUM))\n",
    "log(\"Weight Decay:       {} \".format(mrcnn_model.config.WEIGHT_DECAY       ))\n",
    "log(\"VALIDATION_STEPS    {} \".format(mrcnn_model.config.VALIDATION_STEPS   ))\n",
    "# log(\"Checkpoint Path:    {} \".format(mrcnn_model.checkpoint_path))\n",
    "# log(\"REDUCE_LR_FACTOR    {} \".format(mrcnn_model.config.REDUCE_LR_FACTOR   ))\n",
    "# log(\"REDUCE_LR_COOLDOWN  {} \".format(mrcnn_model.config.REDUCE_LR_COOLDOWN ))\n",
    "# log(\"REDUCE_LR_PATIENCE  {} \".format(mrcnn_model.config.REDUCE_LR_PATIENCE ))\n",
    "# log(\"MIN_LR              {} \".format(mrcnn_model.config.MIN_LR             ))\n",
    "# log(\"EARLY_STOP_PATIENCE {} \".format(mrcnn_model.config.EARLY_STOP_PATIENCE))     \n",
    "\n",
    "print('--- FCN --------------------------------------------------------')\n",
    "log(\"Epochs to run       {} \".format(fcn_model.config.EPOCHS_TO_RUN))\n",
    "log(\"Steps per epochs    {} \".format(fcn_model.config.STEPS_PER_EPOCH))\n",
    "log(\"Batch size          {} \".format(fcn_model.config.BATCH_SIZE))\n",
    "log(\"Learning Rate       {} \".format(fcn_model.config.LEARNING_RATE))\n",
    "log(\"Momentum            {} \".format(fcn_model.config.LEARNING_MOMENTUM))\n",
    "log(\"Weight Decay:       {} \".format(fcn_model.config.WEIGHT_DECAY       ))\n",
    "log(\"VALIDATION_STEPS    {} \".format(fcn_model.config.VALIDATION_STEPS   ))\n",
    "log(\"Checkpoint Path:    {} \".format(fcn_model.checkpoint_path))\n",
    "log(\"REDUCE_LR_FACTOR    {} \".format(fcn_model.config.REDUCE_LR_FACTOR   ))\n",
    "log(\"REDUCE_LR_COOLDOWN  {} \".format(fcn_model.config.REDUCE_LR_COOLDOWN ))\n",
    "log(\"REDUCE_LR_PATIENCE  {} \".format(fcn_model.config.REDUCE_LR_PATIENCE ))\n",
    "log(\"MIN_LR              {} \".format(fcn_model.config.MIN_LR             ))\n",
    "log(\"EARLY_STOP_PATIENCE {} \".format(fcn_model.config.EARLY_STOP_PATIENCE)) \n",
    "log(\"HEATMAP SCALE FACOR {} \".format(fcn_model.config.HEATMAP_SCALE_FACTOR)) \n",
    "log(\"FCN_INPUT_SHAPE     {} \".format(fcn_model.config.FCN_INPUT_SHAPE)) "
   ]
  },
  {
   "cell_type": "markdown",
   "metadata": {
    "ExecuteTime": {
     "end_time": "2018-11-07T14:24:00.803567Z",
     "start_time": "2018-11-07T14:24:00.756959Z"
    }
   },
   "source": [
    "## Simulate Train in Batches - step by step"
   ]
  },
  {
   "cell_type": "markdown",
   "metadata": {},
   "source": [
    "#### Prepare model (compile / callbacks)"
   ]
  },
  {
   "cell_type": "code",
   "execution_count": 8,
   "metadata": {
    "ExecuteTime": {
     "end_time": "2018-12-22T17:58:50.396554Z",
     "start_time": "2018-12-22T17:58:29.486794Z"
    }
   },
   "outputs": [
    {
     "name": "stdout",
     "output_type": "stream",
     "text": [
      "['block2+']\n",
      "['(block2\\\\_.*)|(block3\\\\_.*)|(block4\\\\_.*)|(block5\\\\_.*)|(fcn32\\\\_.*)|(fcn16\\\\_.*)|(fcn8\\\\_.*)']\n",
      "layers regex : (block2\\_.*)|(block3\\_.*)|(block4\\_.*)|(block5\\_.*)|(fcn32\\_.*)|(fcn16\\_.*)|(fcn8\\_.*)\n",
      "\n",
      "Selecting layers to train\n",
      "-------------------------\n",
      "Layer    Layer Name               Layer Type\n",
      "   0  input_pr_hm_norm       (InputLayer          )   ............................no weights to train ]\n",
      "   1  block1_conv1           (Conv2D              )   ............................not a layer we want to train ]\n",
      "   2  block1_conv2           (Conv2D              )   ............................not a layer we want to train ]\n",
      "   3  block1_pool            (MaxPooling2D        )   ............................no weights to train ]\n",
      "   4  block2_conv1           (Conv2D              )   TRAIN \n",
      "   5  block2_conv2           (Conv2D              )   TRAIN \n",
      "   6  block2_pool            (MaxPooling2D        )   ............................no weights to train ]\n",
      "   7  block3_conv1           (Conv2D              )   TRAIN \n",
      "   8  block3_conv2           (Conv2D              )   TRAIN \n",
      "   9  block3_conv3           (Conv2D              )   TRAIN \n",
      "  10  block3_pool            (MaxPooling2D        )   ............................no weights to train ]\n",
      "  11  block4_conv1           (Conv2D              )   TRAIN \n",
      "  12  block4_conv2           (Conv2D              )   TRAIN \n",
      "  13  block4_conv3           (Conv2D              )   TRAIN \n",
      "  14  block4_pool            (MaxPooling2D        )   ............................no weights to train ]\n",
      "  15  block5_conv1           (Conv2D              )   TRAIN \n",
      "  16  block5_conv2           (Conv2D              )   TRAIN \n",
      "  17  block5_conv3           (Conv2D              )   TRAIN \n",
      "  18  block5_pool            (MaxPooling2D        )   ............................no weights to train ]\n",
      "  19  fcn32_fc1              (Conv2D              )   TRAIN \n",
      "  20  dropout_1              (Dropout             )   ............................no weights to train ]\n",
      "  21  fcn32_fc2              (Conv2D              )   TRAIN \n",
      "  22  dropout_2              (Dropout             )   ............................no weights to train ]\n",
      "  23  fcn32_deconv2D         (Conv2D              )   TRAIN \n",
      "  24  fcn16_score2           (Conv2DTranspose     )   TRAIN \n",
      "  25  fcn16_crop_score2      (Cropping2D          )   ............................no weights to train ]\n",
      "  26  fcn16_score_pool4      (Conv2D              )   TRAIN \n",
      "  27  fcn16_fuse_pool4       (Add                 )   ............................no weights to train ]\n",
      "  28  fcn16_upscore_pool4    (Conv2DTranspose     )   TRAIN \n",
      "  29  fcn8_crop_pool4        (Cropping2D          )   ............................no weights to train ]\n",
      "  30  fcn8_score_pool3       (Conv2D              )   TRAIN \n",
      "  31  fcn8_fuse_pool3        (Add                 )   ............................no weights to train ]\n",
      "  32  fcn8_heatmap           (Conv2DTranspose     )   TRAIN \n",
      "  33  fcn_heatmap_lambda     (Lambda              )   ............................no weights to train ]\n",
      "  34  input_gt_hm_norm       (InputLayer          )   ............................no weights to train ]\n",
      "  35  input_pr_hm_scores     (InputLayer          )   ............................no weights to train ]\n",
      "  36  fcn_softmax_lambda     (Lambda              )   ............................no weights to train ]\n",
      "  37  fcn_MSE_loss           (Lambda              )   ............................no weights to train ]\n",
      "  38  fcn_BCE_loss           (Lambda              )   ............................no weights to train ]\n",
      "  39  fcn_scoring            (Lambda              )   ............................no weights to train ]\n",
      "    learning rate :  1e-07\n",
      "    momentum      :  0.9\n",
      "\n",
      " init SGD: memnutum: 0.9 decay: 0.0\n",
      "\n",
      "\n",
      "  Compile Model :\n",
      " ----------------\n",
      "    losses        :  ['fcn_BCE_loss']\n",
      "    optimizer     :  <keras.optimizers.SGD object at 0x0000000D3F44BE80>\n",
      "    learning rate :  1e-07\n",
      "    momentum      :  0.9\n",
      "\n",
      " Initial self.keras_model.losses :\n",
      " ---------------------------------\n",
      " losses passed to compile :  ['fcn_BCE_loss']\n",
      " self.keras_model.losses  : \n",
      "\n",
      " Add loss_functions to self.keras_model.losses\n",
      " -------------------------------------\n",
      " --  Loss: fcn_BCE_loss  Related Layer is : fcn_BCE_loss\n",
      "    >> Add add loss for  Tensor(\"fcn_BCE_loss/fcn_BCE_loss:0\", shape=(1, 1), dtype=float32)  to list of losses...\n",
      "\n",
      " self.keras_model.losses after adding loss_functions passed to compile() : \n",
      " ------------------------------------------------------------------------- \n",
      "      0    Tensor(\"Mean:0\", shape=(1, 1), dtype=float32)\n",
      "\n",
      " Keras_model._losses:\n",
      " --------------------\n",
      "      0    Tensor(\"Mean:0\", shape=(1, 1), dtype=float32)\n",
      "\n",
      " Keras_model._per_input_losses:\n",
      " ------------------------------\n",
      "      0    None\n",
      "\n",
      " Final list of keras_model.losses, after adding L2 regularization as loss to list : \n",
      " ---------------------------------------------------------------------------------- \n",
      "      0    Tensor(\"Mean:0\", shape=(1, 1), dtype=float32)\n",
      "\n",
      " Compile \n",
      " --------\n",
      " Length of Keras_Model.outputs: 5\n",
      "\n",
      " Add Metrics for losses :\n",
      " -------------------------\n",
      " Initial Keras metric_names: ['loss']\n",
      "    Loss name : fcn_BCE_loss  Related Layer is : fcn_BCE_loss\n",
      "    >> Add metric  fcn_BCE_loss  with metric tensor:  fcn_BCE_loss/fcn_BCE_loss:0  to list of metrics ...\n",
      "\n",
      " Final Keras metric_names :\n",
      " --------------------------\n",
      "      0    loss\n",
      "      1    fcn_BCE_loss\n",
      "\n",
      " self.keras_model.losses after adding losses passed to compile() : \n",
      " ----------------------------------------------------------------- \n",
      "      0    Tensor(\"Mean:0\", shape=(1, 1), dtype=float32)\n",
      "\n",
      " Keras_model._losses:\n",
      " ---------------------\n",
      "      0    Tensor(\"Mean:0\", shape=(1, 1), dtype=float32)\n",
      "\n",
      " Keras_model._per_input_losses:\n",
      " ------------------------------\n",
      "      0    None\n",
      "\n",
      "\n",
      " Post-compile out_labels from get_deduped_metrics_names() : \n",
      " ---------------------------------------------------------- \n",
      "     - loss\n",
      "     - fcn_BCE_loss\n",
      "\n",
      " Post-compile Callback metrics monitored by progbar :\n",
      " ----------------------------------------------------\n",
      "     - loss\n",
      "     - fcn_BCE_loss\n",
      "     - val_loss\n",
      "     - val_fcn_BCE_loss\n",
      "\n",
      " Post-compile Keras metric_names :\n",
      " ---------------------------------\n",
      "      0    loss\n",
      "      1    fcn_BCE_loss\n",
      "\n",
      " Post-compile Keras stateful_metric_names :\n",
      " ------------------------------------------\n",
      " ------------------------------------------\n",
      " \n",
      "Training Start Parameters:\n",
      "--------------------------\n",
      "Starting at epoch     0 of 2 epochs.\n",
      "Steps per epochs      10 \n",
      "Last epoch completed  0 \n",
      "Batch size            1 \n",
      "Learning Rate         1e-07 \n",
      "Momentum              0.9 \n",
      "Weight Decay:         1e-08 \n",
      "VALIDATION_STEPS      4 \n",
      "REDUCE_LR_FACTOR      0.5 \n",
      "REDUCE_LR_COOLDOWN    15 \n",
      "REDUCE_LR_PATIENCE    50 \n",
      "MIN_LR                1e-10 \n",
      "EARLY_STOP_PATIENCE   150 \n",
      "Checkpoint Path:      F:\\models\\train_fcn32_newshapes\\fcn20181222T1857\\fcn_{epoch:04d}.h5 \n"
     ]
    }
   ],
   "source": [
    "# def train_in_batches(self,\n",
    "#                 mrcnn_model,\n",
    "#               train_dataset, \n",
    "#               val_dataset,  \n",
    "#               layers            = None,\n",
    "#               losses            = None,\n",
    "train_layers      = ['block2+']\n",
    "loss_names        = [\"fcn_BCE_loss\"]\n",
    "# train_in_batches(fcn_model,\n",
    "#             mrcnn_model,    \n",
    "#             dataset_train,\n",
    "#             dataset_val, \n",
    "#             layers = train_layers,\n",
    "#             losses = loss_names\n",
    "#             )\n",
    "fcn_model.epoch   = fcn_model.config.LAST_EPOCH_RAN = 0\n",
    "self              = fcn_model\n",
    "mrcnn_model       = mrcnn_model\n",
    "train_dataset     = dataset_train\n",
    "val_dataset       = dataset_val\n",
    "layers            = train_layers\n",
    "losses            = loss_names\n",
    "learning_rate     = 0           \n",
    "epochs            = 0\n",
    "epochs_to_run     = 0 \n",
    "batch_size        = 0 \n",
    "steps_per_epoch   = 0\n",
    "min_LR            = 0\n",
    "debug             = False\n",
    "\n",
    "'''\n",
    "Train the model.\n",
    "train_dataset, \n",
    "val_dataset:    Training and validation Dataset objects.\n",
    "\n",
    "learning_rate:  The learning rate to train with\n",
    "\n",
    "epochs:         Number of training epochs. Note that previous training epochs\n",
    "                are considered to be done already, so this actually determines\n",
    "                the epochs to train in total rather than in this particaular\n",
    "                call.\n",
    "\n",
    "layers:         Allows selecting wich layers to train. It can be:\n",
    "                - A regular expression to match layer names to train\n",
    "                - One of these predefined values:\n",
    "                heads: The RPN, classifier and mask heads of the network\n",
    "                all: All the layers\n",
    "                3+: Train Resnet stage 3 and up\n",
    "                4+: Train Resnet stage 4 and up\n",
    "                5+: Train Resnet stage 5 and up\n",
    "'''\n",
    "assert self.mode == \"training\", \"Create model in training mode.\"\n",
    "\n",
    "if batch_size == 0 :\n",
    "    batch_size = self.config.BATCH_SIZE\n",
    "\n",
    "if epochs_to_run ==  0 :\n",
    "    epochs_to_run = self.config.EPOCHS_TO_RUN\n",
    "\n",
    "if steps_per_epoch == 0:\n",
    "    steps_per_epoch = self.config.STEPS_PER_EPOCH\n",
    "\n",
    "if min_LR == 0 :\n",
    "    min_LR = self.config.MIN_LR\n",
    "\n",
    "if learning_rate == 0:\n",
    "    learning_rate = self.config.LEARNING_RATE\n",
    "\n",
    "epochs = self.epoch + epochs_to_run\n",
    "\n",
    "# use Pre-defined layer regular expressions\n",
    "# if layers in self.layer_regex.keys():\n",
    "    # layers = self.layer_regex[layers]\n",
    "print(layers)\n",
    "# train_regex_list = []\n",
    "# for x in layers:\n",
    "    # print( ' layers ias : ',x)\n",
    "    # train_regex_list.append(x)\n",
    "train_regex_list = [self.layer_regex[x] for x in layers]\n",
    "print(train_regex_list)\n",
    "layers = '|'.join(train_regex_list)        \n",
    "print('layers regex :', layers)\n",
    "\n",
    "\n",
    "##--------------------------------------------------------------------------------\n",
    "## Data generators\n",
    "##--------------------------------------------------------------------------------\n",
    "# train_generator = data_generator(train_dataset, mrcnn_model.config, shuffle=True,\n",
    "#                                  batch_size=batch_size)\n",
    "# val_generator   = data_generator(val_dataset, mrcnn_model.config, shuffle=True,\n",
    "#                                  batch_size=batch_size,\n",
    "#                                  augment=False)\n",
    "\n",
    "##--------------------------------------------------------------------------------\n",
    "## Set trainable layers and compile\n",
    "##--------------------------------------------------------------------------------\n",
    "self.set_trainable(layers)            \n",
    "\n",
    "##----------------------------------------------------------------------------------------------\n",
    "## Setup optimizaion method \n",
    "##----------------------------------------------------------------------------------------------            \n",
    "optimizer = self.set_optimizer()\n",
    "\n",
    "# self.compile(learning_rate, self.config.LEARNING_MOMENTUM, losses)        \n",
    "self.compile(losses, optimizer)\n",
    "\n",
    "##--------------------------------------------------------------------------------\n",
    "## get metrics from keras_model.metrics_names and setup callback metrics \n",
    "##--------------------------------------------------------------------------------\n",
    "out_labels = self.get_deduped_metrics_names()\n",
    "callback_metrics = out_labels + ['val_' + n for n in out_labels]\n",
    "\n",
    "print()\n",
    "print(' Post-compile out_labels from get_deduped_metrics_names() : ')\n",
    "print(' ---------------------------------------------------------- ')\n",
    "for i in out_labels:\n",
    "    print('     -',i)\n",
    "print()\n",
    "print(' Post-compile Callback metrics monitored by progbar :')\n",
    "print(' ----------------------------------------------------')\n",
    "for i in callback_metrics:\n",
    "    print('     -',i)\n",
    "\n",
    "print()\n",
    "print(' Post-compile Keras metric_names :') \n",
    "print(' ---------------------------------') \n",
    "for idx, i in enumerate(self.keras_model.metrics_names):\n",
    "    print('     ',idx, '  ', i)\n",
    "\n",
    "print()\n",
    "print(' Post-compile Keras stateful_metric_names :') \n",
    "print(' ------------------------------------------') \n",
    "for idx, i in enumerate(self.keras_model.stateful_metric_names):\n",
    "    print('     ',idx, '  ', i)\n",
    "print(' ------------------------------------------') \n",
    "\n",
    "## Setup for stateful_metric_indices Validation process \n",
    "##--------------------------------------------------------------------------------\n",
    "stateful_metric_indices = []\n",
    "if hasattr(self, 'metrics'):\n",
    "    for m in self.stateful_metric_functions:\n",
    "        m.reset_states()\n",
    "    stateful_metric_indices = [\n",
    "        i for i, name in enumerate(self.metrics_names)\n",
    "        if str(name) in self.stateful_metric_names]\n",
    "else:\n",
    "    stateful_metric_indices = []\n",
    "\n",
    "##--------------------------------------------------------------------------------\n",
    "## Callbacks\n",
    "##--------------------------------------------------------------------------------\n",
    "# call back for model checkpoint was originally (?) loss. chanegd to val_loss (which is default) 2-5-18\n",
    "# copied from \\keras\\engine\\training.py\n",
    "# def _get_deduped_metrics_names(self):\n",
    "\n",
    "\n",
    "callbacks_list = [\n",
    "      keras.callbacks.ProgbarLogger(count_mode='steps',\n",
    "                                    stateful_metrics=self.keras_model.stateful_metric_names)\n",
    "\n",
    "    , keras.callbacks.BaseLogger(stateful_metrics=self.keras_model.stateful_metric_names)\n",
    "\n",
    "    , keras.callbacks.TensorBoard(log_dir=self.log_dir,\n",
    "                                  histogram_freq=1,\n",
    "                                  write_graph=True,\n",
    "                                  write_images=False, \n",
    "                                  write_grads=True,\n",
    "                                  batch_size=self.config.BATCH_SIZE)\n",
    "                                  # write_graph=True,\n",
    "\n",
    "                                  # write_images=True,\n",
    "                                  # embeddings_freq=0,\n",
    "                                  # embeddings_layer_names=None,\n",
    "                                  # embeddings_metadata=None)\n",
    "\n",
    "    , keras.callbacks.ModelCheckpoint(self.checkpoint_path, \n",
    "                                      mode    = 'auto', \n",
    "                                      period  = self.config.CHECKPOINT_PERIOD, \n",
    "                                      monitor = 'val_loss', \n",
    "                                      verbose = 1, \n",
    "                                      save_best_only = True, \n",
    "                                      save_weights_only=True)\n",
    "\n",
    "    , keras.callbacks.ReduceLROnPlateau(monitor='val_loss', \n",
    "                                        mode     = 'auto', \n",
    "                                        factor   = self.config.REDUCE_LR_FACTOR,   \n",
    "                                        cooldown = self.config.REDUCE_LR_COOLDOWN,\n",
    "                                        patience = self.config.REDUCE_LR_PATIENCE,\n",
    "                                        min_delta= self.config.REDUCE_LR_MIN_DELTA,\n",
    "                                        min_lr   = self.config.MIN_LR, \n",
    "                                        verbose  = 1)                                            \n",
    "\n",
    "    , keras.callbacks.EarlyStopping(monitor='val_loss', \n",
    "                                        mode      = 'auto', \n",
    "                                        min_delta = self.config.EARLY_STOP_MIN_DELTA, \n",
    "\n",
    "                                        patience  = self.config.EARLY_STOP_PATIENCE, \n",
    "                                        verbose   = 1)                                            \n",
    "    , keras.callbacks.History() \n",
    "]\n",
    "\n",
    "\n",
    "callbacks =  keras.callbacks.CallbackList(callbacks = callbacks_list)\n",
    "callbacks.set_model(self.keras_model)\n",
    "callbacks.set_params({\n",
    "    'batch_size': batch_size,\n",
    "    'epochs': epochs,\n",
    "    'steps': steps_per_epoch,\n",
    "    'verbose': 1 ,\n",
    "    'do_validation': True,\n",
    "    'metrics': callback_metrics\n",
    "})\n",
    "\n",
    "    # 'samples': num_train_samples,\n",
    "    # 'verbose': verbose,\n",
    "    # 'do_validation': do_validation,\n",
    "    # 'metrics': callback_metrics or [],\n",
    "\n",
    "log(\" \")\n",
    "log(\"Training Start Parameters:\")\n",
    "log(\"--------------------------\")\n",
    "log(\"Starting at epoch     {} of {} epochs.\".format(self.epoch, epochs))\n",
    "log(\"Steps per epochs      {} \".format(steps_per_epoch))\n",
    "log(\"Last epoch completed  {} \".format(self.epoch))\n",
    "log(\"Batch size            {} \".format(batch_size))\n",
    "log(\"Learning Rate         {} \".format(self.config.LEARNING_RATE))\n",
    "log(\"Momentum              {} \".format(self.config.LEARNING_MOMENTUM))\n",
    "log(\"Weight Decay:         {} \".format(self.config.WEIGHT_DECAY       ))\n",
    "log(\"VALIDATION_STEPS      {} \".format(self.config.VALIDATION_STEPS   ))\n",
    "log(\"REDUCE_LR_FACTOR      {} \".format(self.config.REDUCE_LR_FACTOR   ))\n",
    "log(\"REDUCE_LR_COOLDOWN    {} \".format(self.config.REDUCE_LR_COOLDOWN ))\n",
    "log(\"REDUCE_LR_PATIENCE    {} \".format(self.config.REDUCE_LR_PATIENCE ))\n",
    "log(\"MIN_LR                {} \".format(self.config.MIN_LR             ))\n",
    "log(\"EARLY_STOP_PATIENCE   {} \".format(self.config.EARLY_STOP_PATIENCE))        \n",
    "log(\"Checkpoint Path:      {} \".format(self.checkpoint_path))\n",
    "\n",
    "\n",
    "##----------------------------------------------------------------------------------------------\n",
    "## If in debug mode write stdout intercepted IO to output file  \n",
    "##----------------------------------------------------------------------------------------------            \n",
    "if self.config.SYSOUT == 'FILE':\n",
    "    utils.write_sysout(self.log_dir)\n",
    "\n",
    "##--------------------------------------------------------------------------------\n",
    "## Start main training loop\n",
    "##--------------------------------------------------------------------------------\n",
    "early_stopping  = False\n",
    "val_steps = self.config.VALIDATION_STEPS\n",
    "epoch_idx = self.epoch\n",
    "\n",
    "callbacks.on_train_begin()"
   ]
  },
  {
   "cell_type": "code",
   "execution_count": null,
   "metadata": {
    "ExecuteTime": {
     "end_time": "2018-12-21T11:20:19.428890Z",
     "start_time": "2018-12-21T11:20:19.100817Z"
    }
   },
   "outputs": [],
   "source": [
    "# if epoch_idx >= epochs:\n",
    "#     print('Final epoch {} has already completed - Training will not proceed'.format(epochs))\n",
    "# else:\n",
    "\n",
    "#     while epoch_idx < epochs :"
   ]
  },
  {
   "cell_type": "markdown",
   "metadata": {},
   "source": [
    "#### Start of epoch"
   ]
  },
  {
   "cell_type": "code",
   "execution_count": 9,
   "metadata": {
    "ExecuteTime": {
     "end_time": "2018-12-22T17:58:50.714266Z",
     "start_time": "2018-12-22T17:58:50.398557Z"
    }
   },
   "outputs": [
    {
     "name": "stdout",
     "output_type": "stream",
     "text": [
      "Epoch 1/2\n"
     ]
    }
   ],
   "source": [
    "callbacks.on_epoch_begin(epoch_idx)\n",
    "epoch_logs = {}"
   ]
  },
  {
   "cell_type": "code",
   "execution_count": null,
   "metadata": {
    "ExecuteTime": {
     "end_time": "2018-12-21T11:20:19.428890Z",
     "start_time": "2018-12-21T11:20:19.100817Z"
    }
   },
   "outputs": [],
   "source": [
    "        ##------------------------------------------------------------------------\n",
    "        ## TRAINING Phase - emulating fit_generator()\n",
    "        ##------------------------------------------------------------------------\n",
    "#         for steps_index in range(steps_per_epoch):"
   ]
  },
  {
   "cell_type": "code",
   "execution_count": 10,
   "metadata": {
    "ExecuteTime": {
     "end_time": "2018-12-22T17:58:51.071521Z",
     "start_time": "2018-12-22T17:58:50.716269Z"
    }
   },
   "outputs": [],
   "source": [
    "steps_index = 0"
   ]
  },
  {
   "cell_type": "markdown",
   "metadata": {},
   "source": [
    "#### Run one batch "
   ]
  },
  {
   "cell_type": "code",
   "execution_count": 61,
   "metadata": {
    "ExecuteTime": {
     "end_time": "2018-12-22T18:09:02.328398Z",
     "start_time": "2018-12-22T18:09:00.777734Z"
    }
   },
   "outputs": [],
   "source": [
    "# print(' self.epoch {}   epochs {}  step {} '.format(self.epoch, epochs, steps_index))\n",
    "batch_logs = {}\n",
    "batch_logs['batch'] = steps_index\n",
    "batch_logs['size']  = batch_size    \n",
    "\n",
    "callbacks.on_batch_begin(steps_index, batch_logs)\n",
    "\n",
    "# train_batch_x, train_batch_y = next(train_generator)\n",
    "\n",
    "# print('len of train batch x' ,len(train_batch_x))\n",
    "# for idx, i in  enumerate(train_batch_x):\n",
    "    # print(idx, 'type: ', type(i), 'shape: ', i.shape)\n",
    "# print('len of train batch y' ,len(train_batch_y))\n",
    "# for idx, i in  enumerate(train_batch_y):\n",
    "    # print(idx, 'type: ', type(i), 'shape: ', i.shape)\n",
    "# print(type(output_rois))\n",
    "# for i in model_output:\n",
    "    # print( i.shape)       \n",
    "\n",
    "## Run prediction on MRCNN  \n",
    "try:\n",
    "    results = mrcnn_model.keras_model.predict(train_batch_x)\n",
    "    fcn_x = [train_batch_x[1]]\n",
    "    fcn_x.extend(results[:4])\n",
    "\n",
    "except Exception as e :\n",
    "    print('failure on mrcnn predict - epoch {} , image ids: {} '.format(epoch_idx, train_batch_x[1][:,0]))\n",
    "    print('Exception information:')\n",
    "    print(str(e))\n",
    "\n",
    "# print('size of results : ', len(results))\n",
    "# for idx, i in  enumerate(x):\n",
    "    # print(idx, 'type: ', type(i), 'shape: ', i.shape)"
   ]
  },
  {
   "cell_type": "code",
   "execution_count": 62,
   "metadata": {
    "ExecuteTime": {
     "end_time": "2018-12-22T18:09:11.047246Z",
     "start_time": "2018-12-22T18:09:10.690584Z"
    }
   },
   "outputs": [
    {
     "name": "stdout",
     "output_type": "stream",
     "text": [
      "[[     646      128      128        3        0        0      128      128        1        1        1        1        1        1        1]]\n",
      "(1, 128, 128, 7) <class 'numpy.ndarray'> True\n",
      "(1, 7, 32, 23) <class 'numpy.ndarray'> True\n",
      "(1, 128, 128, 7) <class 'numpy.ndarray'> False\n",
      "(1, 7, 32, 23) <class 'numpy.ndarray'> False\n",
      "(1, 32, 7) <class 'numpy.ndarray'> False\n",
      "(1, 32, 7, 4) <class 'numpy.ndarray'> False\n",
      "(1, 32, 4) <class 'numpy.ndarray'> False\n",
      "(1, 32) <class 'numpy.ndarray'> False\n",
      "(1, 32, 4) <class 'numpy.ndarray'> False\n",
      "(1, 32, 7) <class 'numpy.ndarray'> False\n",
      "(1, 7) <class 'numpy.ndarray'> False\n",
      "(1, 2000, 4) <class 'numpy.ndarray'> False\n"
     ]
    }
   ],
   "source": [
    "print(train_batch_x[1])\n",
    "for i in results:\n",
    "    print(i.shape, type(i), np.any(np.isnan(i)))"
   ]
  },
  {
   "cell_type": "code",
   "execution_count": 54,
   "metadata": {
    "ExecuteTime": {
     "end_time": "2018-12-22T18:08:18.467929Z",
     "start_time": "2018-12-22T18:08:14.871016Z"
    }
   },
   "outputs": [
    {
     "name": "stdout",
     "output_type": "stream",
     "text": [
      " outputs:  2\n",
      "(1, 1) [[     nan]]\n",
      "(1, 1) [[     nan]]\n",
      " out label:  loss  out value:  [[     nan]]  shape:  (1, 1)\n",
      " out label:  fcn_BCE_loss  out value:  [[     nan]]  shape:  (1, 1)\n",
      "\b\b\b\b\b\b\b\b\b\b\b\b\b\b\b\b\b\b\b\b\b\b\b\b\b\b\b\b\b\b\b\b\b\b\b\b\b\b\b\b\b\b\b\b\b\b\b\b\b\b\b\b\b\b\b\b\b\b\b\b\b\b\b\b\b\b\b\b\b\b\b\b\b\b\b\b\b\b\b\b\b\b\b\b\b\b\b\b\b\r",
      " 2/10 [=====>........................] - ETA: 37:51 - loss: nan - fcn_BCE_loss: nan      "
     ]
    },
    {
     "name": "stderr",
     "output_type": "stream",
     "text": [
      "D:\\Program Files\\Anaconda3\\envs\\TF\\lib\\site-packages\\keras\\utils\\generic_utils.py:409: RuntimeWarning: invalid value encountered in greater\n",
      "  if abs(avg) > 1e-3:\n"
     ]
    }
   ],
   "source": [
    "## Train on FCN\n",
    "try:\n",
    "    outs = self.keras_model.train_on_batch(fcn_x , train_batch_y)                                            \n",
    "except Exception as e :\n",
    "    print('failure on fcn train - epoch {} , image ids: {} '.format(epoch_idx, train_batch_x[1][:,0]))\n",
    "    print('Exception information:')\n",
    "    print(str(e))                \n",
    "\n",
    "# print('size of outputs from train_on_batch : ', len(outs), outs)\n",
    "# for idx, i in  enumerate(outs):\n",
    "    # print(idx, 'type: ', type(i), 'shape: ', i.shape)\n",
    "\n",
    "if not isinstance(outs, list):\n",
    "    outs = [outs]\n",
    "\n",
    "for l, o in zip(out_labels, outs):\n",
    "    print(' out label: ', l, ' out value: ', o,' shape: ', o.shape)\n",
    "    batch_logs[l] = o\n",
    "\n",
    "callbacks.on_batch_end(steps_index, batch_logs)\n",
    "epoch_idx +=1"
   ]
  },
  {
   "cell_type": "code",
   "execution_count": 57,
   "metadata": {
    "ExecuteTime": {
     "end_time": "2018-12-22T18:08:37.944791Z",
     "start_time": "2018-12-22T18:08:37.589191Z"
    }
   },
   "outputs": [
    {
     "name": "stdout",
     "output_type": "stream",
     "text": [
      "[[     646      128      128        3        0        0      128      128        1        1        1        1        1        1        1]]\n",
      "(1, 128, 128, 7) <class 'numpy.ndarray'> False\n",
      "(1, 7, 32, 23) <class 'numpy.ndarray'> False\n",
      "(1, 128, 128, 7) <class 'numpy.ndarray'> False\n",
      "(1, 7, 32, 23) <class 'numpy.ndarray'> False\n",
      "(1, 32, 7) <class 'numpy.ndarray'> False\n",
      "(1, 32, 7, 4) <class 'numpy.ndarray'> False\n",
      "(1, 32, 4) <class 'numpy.ndarray'> False\n",
      "(1, 32) <class 'numpy.ndarray'> False\n",
      "(1, 32, 4) <class 'numpy.ndarray'> False\n",
      "(1, 32, 7) <class 'numpy.ndarray'> False\n",
      "(1, 7) <class 'numpy.ndarray'> False\n",
      "(1, 2000, 4) <class 'numpy.ndarray'> False\n"
     ]
    }
   ],
   "source": [
    "print(train_batch_x[1])\n",
    "for i in results:\n",
    "    print(i.shape, type(i), np.any(np.isnan(i)))"
   ]
  },
  {
   "cell_type": "code",
   "execution_count": 21,
   "metadata": {
    "ExecuteTime": {
     "end_time": "2018-12-22T17:26:55.520808Z",
     "start_time": "2018-12-22T17:26:54.677686Z"
    }
   },
   "outputs": [],
   "source": [
    "t1 = fcn_model.keras_model.optimizer.get_config()\n",
    "# t2 = fcn_model.keras_model.optimizer.get_updates()\n",
    "# t3 = fcn_model.keras_model.optimizer.get_gradients()\n",
    "t4= fcn_model.keras_model.optimizer.get_weights()"
   ]
  },
  {
   "cell_type": "code",
   "execution_count": 51,
   "metadata": {
    "ExecuteTime": {
     "end_time": "2018-12-22T18:04:59.012773Z",
     "start_time": "2018-12-22T18:04:58.678166Z"
    }
   },
   "outputs": [],
   "source": [
    "np_format = {}\n",
    "float_formatter = lambda x: \"%8.4f\" % x\n",
    "int_formatter   = lambda x: \"%8d\" % x\n",
    "np_format['float'] = float_formatter\n",
    "np_format['int']   = int_formatter\n",
    "np.set_printoptions(linewidth=195, precision=4, floatmode='fixed', threshold =10000, formatter = np_format)"
   ]
  },
  {
   "cell_type": "code",
   "execution_count": 52,
   "metadata": {
    "ExecuteTime": {
     "end_time": "2018-12-22T18:04:59.612923Z",
     "start_time": "2018-12-22T18:04:59.317182Z"
    }
   },
   "outputs": [
    {
     "name": "stdout",
     "output_type": "stream",
     "text": [
      "True\n"
     ]
    }
   ],
   "source": [
    "print(np.any(np.isnan(fcn_x[1][0,1])))"
   ]
  },
  {
   "cell_type": "code",
   "execution_count": 63,
   "metadata": {
    "ExecuteTime": {
     "end_time": "2018-12-22T18:09:20.920276Z",
     "start_time": "2018-12-22T18:09:20.551210Z"
    },
    "scrolled": false
   },
   "outputs": [
    {
     "name": "stdout",
     "output_type": "stream",
     "text": [
      "\n",
      "[[ 70.7302  91.9722  86.7917 111.7524   0.0000   0.9634  32.0000   0.9634   0.9934 317.7002   0.9571  25.9273  42.0000   0.6173   0.3110   0.3471   0.8718      nan  42.0000      nan      nan\n",
      "    0.3471      nan]\n",
      " [ 12.2669  33.8679  20.4649  59.3894   0.0000   1.0000  31.0000   1.0000   0.9724 209.2260   0.9724  26.7567  40.0000   0.6689   0.3209   0.3306   0.9447      nan  40.0000      nan      nan\n",
      "    0.3306      nan]\n",
      " [ 16.0557  22.9622  47.3048 128.0000   0.0000   0.8497  29.0000   0.8497   0.9999 3282.3286   0.8497  71.8037 120.0000   0.5984   0.8613   0.9917   0.8450      nan 120.0000      nan      nan\n",
      "    0.9917      nan]\n",
      " [ 71.9875  36.0921 122.6330  90.1760   0.0000   0.9975  28.0000   0.9975   1.0000 2739.1042   0.9975  83.3699 121.0000   0.6890   1.0000   1.0000   0.9731      nan 121.0000      nan      nan\n",
      "    1.0000      nan]\n",
      " [  9.5659  36.5662  40.1227  97.3807   0.0000   0.9997  27.0000   0.9997   0.9999 1858.2914   0.9996  65.2787  96.0000   0.6800   0.7830   0.7934   0.9603      nan  96.0000      nan      nan\n",
      "    0.7934      nan]\n",
      " [ 75.0694  21.0927 101.2483  36.6442   0.0000   0.8870  25.0000   0.8870   0.9956 407.1230   0.8831  29.2495  48.0000   0.6094   0.3508   0.3967   0.8606      nan  48.0000      nan      nan\n",
      "    0.3967      nan]]\n",
      "\n",
      "[[  0.0000   0.0000   0.0000   0.0000   0.0000   0.0000   0.0000   0.0000   0.0000   0.0000   0.0000   0.0000   0.0000   0.0000   0.0000   0.0000   0.0000   0.0000   0.0000   0.0000   0.0000\n",
      "    0.0000   0.0000]\n",
      " [  0.0000   0.0000   0.0000   0.0000   0.0000   0.0000   0.0000   0.0000   0.0000   0.0000   0.0000   0.0000   0.0000   0.0000   0.0000   0.0000   0.0000   0.0000   0.0000   0.0000   0.0000\n",
      "    0.0000   0.0000]\n",
      " [  0.0000   0.0000   0.0000   0.0000   0.0000   0.0000   0.0000   0.0000   0.0000   0.0000   0.0000   0.0000   0.0000   0.0000   0.0000   0.0000   0.0000   0.0000   0.0000   0.0000   0.0000\n",
      "    0.0000   0.0000]\n",
      " [  0.0000   0.0000   0.0000   0.0000   0.0000   0.0000   0.0000   0.0000   0.0000   0.0000   0.0000   0.0000   0.0000   0.0000   0.0000   0.0000   0.0000   0.0000   0.0000   0.0000   0.0000\n",
      "    0.0000   0.0000]\n",
      " [  0.0000   0.0000   0.0000   0.0000   0.0000   0.0000   0.0000   0.0000   0.0000   0.0000   0.0000   0.0000   0.0000   0.0000   0.0000   0.0000   0.0000   0.0000   0.0000   0.0000   0.0000\n",
      "    0.0000   0.0000]\n",
      " [  0.0000   0.0000   0.0000   0.0000   0.0000   0.0000   0.0000   0.0000   0.0000   0.0000   0.0000   0.0000   0.0000   0.0000   0.0000   0.0000   0.0000   0.0000   0.0000   0.0000   0.0000\n",
      "    0.0000   0.0000]]\n",
      "\n",
      "[[ 79.3614 103.8255  91.9658 116.3672   2.0000   0.6828  10.0000   1.0000   0.9725 158.0799   0.9725  23.3091  36.0000   0.6475   1.0000   1.0000   1.0000  23.3091  36.0000   0.6475   1.0000\n",
      "    1.0000   1.0000]\n",
      " [  0.0000   0.0000   0.0000   0.0000   0.0000   0.0000   0.0000   0.0000   0.0000   0.0000   0.0000   0.0000   0.0000   0.0000   0.0000   0.0000   0.0000   0.0000   0.0000   0.0000   0.0000\n",
      "    0.0000   0.0000]\n",
      " [  0.0000   0.0000   0.0000   0.0000   0.0000   0.0000   0.0000   0.0000   0.0000   0.0000   0.0000   0.0000   0.0000   0.0000   0.0000   0.0000   0.0000   0.0000   0.0000   0.0000   0.0000\n",
      "    0.0000   0.0000]\n",
      " [  0.0000   0.0000   0.0000   0.0000   0.0000   0.0000   0.0000   0.0000   0.0000   0.0000   0.0000   0.0000   0.0000   0.0000   0.0000   0.0000   0.0000   0.0000   0.0000   0.0000   0.0000\n",
      "    0.0000   0.0000]\n",
      " [  0.0000   0.0000   0.0000   0.0000   0.0000   0.0000   0.0000   0.0000   0.0000   0.0000   0.0000   0.0000   0.0000   0.0000   0.0000   0.0000   0.0000   0.0000   0.0000   0.0000   0.0000\n",
      "    0.0000   0.0000]\n",
      " [  0.0000   0.0000   0.0000   0.0000   0.0000   0.0000   0.0000   0.0000   0.0000   0.0000   0.0000   0.0000   0.0000   0.0000   0.0000   0.0000   0.0000   0.0000   0.0000   0.0000   0.0000\n",
      "    0.0000   0.0000]]\n",
      "\n",
      "[[  0.0000   0.0000   0.0000   0.0000   0.0000   0.0000   0.0000   0.0000   0.0000   0.0000   0.0000   0.0000   0.0000   0.0000   0.0000   0.0000   0.0000   0.0000   0.0000   0.0000   0.0000\n",
      "    0.0000   0.0000]\n",
      " [  0.0000   0.0000   0.0000   0.0000   0.0000   0.0000   0.0000   0.0000   0.0000   0.0000   0.0000   0.0000   0.0000   0.0000   0.0000   0.0000   0.0000   0.0000   0.0000   0.0000   0.0000\n",
      "    0.0000   0.0000]\n",
      " [  0.0000   0.0000   0.0000   0.0000   0.0000   0.0000   0.0000   0.0000   0.0000   0.0000   0.0000   0.0000   0.0000   0.0000   0.0000   0.0000   0.0000   0.0000   0.0000   0.0000   0.0000\n",
      "    0.0000   0.0000]\n",
      " [  0.0000   0.0000   0.0000   0.0000   0.0000   0.0000   0.0000   0.0000   0.0000   0.0000   0.0000   0.0000   0.0000   0.0000   0.0000   0.0000   0.0000   0.0000   0.0000   0.0000   0.0000\n",
      "    0.0000   0.0000]\n",
      " [  0.0000   0.0000   0.0000   0.0000   0.0000   0.0000   0.0000   0.0000   0.0000   0.0000   0.0000   0.0000   0.0000   0.0000   0.0000   0.0000   0.0000   0.0000   0.0000   0.0000   0.0000\n",
      "    0.0000   0.0000]\n",
      " [  0.0000   0.0000   0.0000   0.0000   0.0000   0.0000   0.0000   0.0000   0.0000   0.0000   0.0000   0.0000   0.0000   0.0000   0.0000   0.0000   0.0000   0.0000   0.0000   0.0000   0.0000\n",
      "    0.0000   0.0000]]\n",
      "\n",
      "[[  0.0000   0.0000   0.0000   0.0000   0.0000   0.0000   0.0000   0.0000   0.0000   0.0000   0.0000   0.0000   0.0000   0.0000   0.0000   0.0000   0.0000   0.0000   0.0000   0.0000   0.0000\n",
      "    0.0000   0.0000]\n",
      " [  0.0000   0.0000   0.0000   0.0000   0.0000   0.0000   0.0000   0.0000   0.0000   0.0000   0.0000   0.0000   0.0000   0.0000   0.0000   0.0000   0.0000   0.0000   0.0000   0.0000   0.0000\n",
      "    0.0000   0.0000]\n",
      " [  0.0000   0.0000   0.0000   0.0000   0.0000   0.0000   0.0000   0.0000   0.0000   0.0000   0.0000   0.0000   0.0000   0.0000   0.0000   0.0000   0.0000   0.0000   0.0000   0.0000   0.0000\n",
      "    0.0000   0.0000]\n",
      " [  0.0000   0.0000   0.0000   0.0000   0.0000   0.0000   0.0000   0.0000   0.0000   0.0000   0.0000   0.0000   0.0000   0.0000   0.0000   0.0000   0.0000   0.0000   0.0000   0.0000   0.0000\n",
      "    0.0000   0.0000]\n",
      " [  0.0000   0.0000   0.0000   0.0000   0.0000   0.0000   0.0000   0.0000   0.0000   0.0000   0.0000   0.0000   0.0000   0.0000   0.0000   0.0000   0.0000   0.0000   0.0000   0.0000   0.0000\n",
      "    0.0000   0.0000]\n",
      " [  0.0000   0.0000   0.0000   0.0000   0.0000   0.0000   0.0000   0.0000   0.0000   0.0000   0.0000   0.0000   0.0000   0.0000   0.0000   0.0000   0.0000   0.0000   0.0000   0.0000   0.0000\n",
      "    0.0000   0.0000]]\n",
      "\n",
      "[[  0.0000   0.0000   0.0000   0.0000   0.0000   0.0000   0.0000   0.0000   0.0000   0.0000   0.0000   0.0000   0.0000   0.0000   0.0000   0.0000   0.0000   0.0000   0.0000   0.0000   0.0000\n",
      "    0.0000   0.0000]\n",
      " [  0.0000   0.0000   0.0000   0.0000   0.0000   0.0000   0.0000   0.0000   0.0000   0.0000   0.0000   0.0000   0.0000   0.0000   0.0000   0.0000   0.0000   0.0000   0.0000   0.0000   0.0000\n",
      "    0.0000   0.0000]\n",
      " [  0.0000   0.0000   0.0000   0.0000   0.0000   0.0000   0.0000   0.0000   0.0000   0.0000   0.0000   0.0000   0.0000   0.0000   0.0000   0.0000   0.0000   0.0000   0.0000   0.0000   0.0000\n",
      "    0.0000   0.0000]\n",
      " [  0.0000   0.0000   0.0000   0.0000   0.0000   0.0000   0.0000   0.0000   0.0000   0.0000   0.0000   0.0000   0.0000   0.0000   0.0000   0.0000   0.0000   0.0000   0.0000   0.0000   0.0000\n",
      "    0.0000   0.0000]\n",
      " [  0.0000   0.0000   0.0000   0.0000   0.0000   0.0000   0.0000   0.0000   0.0000   0.0000   0.0000   0.0000   0.0000   0.0000   0.0000   0.0000   0.0000   0.0000   0.0000   0.0000   0.0000\n",
      "    0.0000   0.0000]\n",
      " [  0.0000   0.0000   0.0000   0.0000   0.0000   0.0000   0.0000   0.0000   0.0000   0.0000   0.0000   0.0000   0.0000   0.0000   0.0000   0.0000   0.0000   0.0000   0.0000   0.0000   0.0000\n",
      "    0.0000   0.0000]]\n",
      "\n",
      "[[ 23.2899  59.5087  35.8887 128.0000   6.0000   0.9996  30.0000   1.0000   0.9889 862.9080   0.9889  49.3794  72.0000   0.6858   1.0000   1.0000   1.0000  44.2928  72.0000   0.6152   1.0000\n",
      "    1.0000   0.9824]\n",
      " [ 22.8713  69.1767  36.4599 123.5132   6.0000   0.7059  26.0000   0.7062   0.9870 738.3600   0.6970  32.4551  66.0000   0.4917   0.6573   0.9167   0.7170  41.3311  66.0000   0.6262   0.9331\n",
      "    0.9167   1.0000]\n",
      " [  0.0000   0.0000   0.0000   0.0000   0.0000   0.0000   0.0000   0.0000   0.0000   0.0000   0.0000   0.0000   0.0000   0.0000   0.0000   0.0000   0.0000   0.0000   0.0000   0.0000   0.0000\n",
      "    0.0000   0.0000]\n",
      " [  0.0000   0.0000   0.0000   0.0000   0.0000   0.0000   0.0000   0.0000   0.0000   0.0000   0.0000   0.0000   0.0000   0.0000   0.0000   0.0000   0.0000   0.0000   0.0000   0.0000   0.0000\n",
      "    0.0000   0.0000]\n",
      " [  0.0000   0.0000   0.0000   0.0000   0.0000   0.0000   0.0000   0.0000   0.0000   0.0000   0.0000   0.0000   0.0000   0.0000   0.0000   0.0000   0.0000   0.0000   0.0000   0.0000   0.0000\n",
      "    0.0000   0.0000]\n",
      " [  0.0000   0.0000   0.0000   0.0000   0.0000   0.0000   0.0000   0.0000   0.0000   0.0000   0.0000   0.0000   0.0000   0.0000   0.0000   0.0000   0.0000   0.0000   0.0000   0.0000   0.0000\n",
      "    0.0000   0.0000]]\n"
     ]
    }
   ],
   "source": [
    "for i in range(7):\n",
    "    print()\n",
    "    print(fcn_x[2][0,i,:6])\n",
    "#     print(fcn_x[4][0,i,:5,:15])"
   ]
  },
  {
   "cell_type": "code",
   "execution_count": 28,
   "metadata": {
    "ExecuteTime": {
     "end_time": "2018-12-22T18:03:43.561742Z",
     "start_time": "2018-12-22T18:03:43.232636Z"
    },
    "scrolled": false
   },
   "outputs": [
    {
     "name": "stdout",
     "output_type": "stream",
     "text": [
      "\n",
      "[[ 40.7112  55.0500 108.1047 114.0392   0.0000   0.9635  32.0000   0.9635   1.0000 3975.4893   0.9635  91.4641 132.0000   0.6929   0.7280   0.7500   0.9650  59.5442 132.0000   0.4511   0.7227\n",
      "    0.7500   0.9129]\n",
      " [ 13.5278  25.9498  21.9137  80.2939   0.0000   0.9581  31.0000   0.9581   0.9638 455.7246   0.9235  34.1503  55.0000   0.6209   0.2718   0.3125   0.8647  18.8010  55.0000   0.3418   0.2282\n",
      "    0.3125   0.6918]\n",
      " [ 19.2465  41.4722  29.4566  87.9716   0.0000   0.8010  30.0000   0.8010   0.9847 474.7606   0.7888  27.8111  50.0000   0.5562   0.2214   0.2841   0.7746  15.3110  50.0000   0.3062   0.1858\n",
      "    0.2841   0.6197]\n",
      " [  6.7488   6.3716  20.3087  23.8569   0.0000   0.9832  29.0000   0.9832   0.9858 237.1007   0.9693  23.6499  36.0000   0.6569   0.1882   0.2045   0.9149  13.0201  36.0000   0.3617   0.1580\n",
      "    0.2045   0.7319]\n",
      " [ 60.5815  60.4961  71.8460  73.3809   0.0000   0.9649  28.0000   0.9649   0.9703 145.1405   0.9363  18.0921  30.0000   0.6031   0.1440   0.1705   0.8399  12.8765  30.0000   0.4292   0.1563\n",
      "    0.1705   0.8686]\n",
      " [ 49.6025  72.1656  64.6153  98.4344   0.0000   0.9956  27.0000   0.9956   0.9957 394.3683   0.9913  32.2196  48.0000   0.6712   0.2564   0.2727   0.9348  22.9656  48.0000   0.4784   0.2787\n",
      "    0.2727   0.9683]]\n",
      "\n",
      "[[ 74.5965  98.8421 104.4367 105.7089   1.0000   0.5429  15.0000   1.0000   0.8832 204.9082   0.8832  21.4367  32.0000   0.6699   1.0000   1.0000   1.0000  21.4367  32.0000   0.6699   1.0000\n",
      "    1.0000   1.0000]\n",
      " [  0.0000   0.0000   0.0000   0.0000   0.0000   0.0000   0.0000   0.0000   0.0000   0.0000   0.0000   0.0000   0.0000   0.0000   0.0000   0.0000   0.0000   0.0000   0.0000   0.0000   0.0000\n",
      "    0.0000   0.0000]\n",
      " [  0.0000   0.0000   0.0000   0.0000   0.0000   0.0000   0.0000   0.0000   0.0000   0.0000   0.0000   0.0000   0.0000   0.0000   0.0000   0.0000   0.0000   0.0000   0.0000   0.0000   0.0000\n",
      "    0.0000   0.0000]\n",
      " [  0.0000   0.0000   0.0000   0.0000   0.0000   0.0000   0.0000   0.0000   0.0000   0.0000   0.0000   0.0000   0.0000   0.0000   0.0000   0.0000   0.0000   0.0000   0.0000   0.0000   0.0000\n",
      "    0.0000   0.0000]\n",
      " [  0.0000   0.0000   0.0000   0.0000   0.0000   0.0000   0.0000   0.0000   0.0000   0.0000   0.0000   0.0000   0.0000   0.0000   0.0000   0.0000   0.0000   0.0000   0.0000   0.0000   0.0000\n",
      "    0.0000   0.0000]\n",
      " [  0.0000   0.0000   0.0000   0.0000   0.0000   0.0000   0.0000   0.0000   0.0000   0.0000   0.0000   0.0000   0.0000   0.0000   0.0000   0.0000   0.0000   0.0000   0.0000   0.0000   0.0000\n",
      "    0.0000   0.0000]]\n",
      "\n",
      "[[  0.0000   0.0000   0.0000   0.0000   0.0000   0.0000   0.0000   0.0000   0.0000   0.0000   0.0000   0.0000   0.0000   0.0000   0.0000   0.0000   0.0000   0.0000   0.0000   0.0000   0.0000\n",
      "    0.0000   0.0000]\n",
      " [  0.0000   0.0000   0.0000   0.0000   0.0000   0.0000   0.0000   0.0000   0.0000   0.0000   0.0000   0.0000   0.0000   0.0000   0.0000   0.0000   0.0000   0.0000   0.0000   0.0000   0.0000\n",
      "    0.0000   0.0000]\n",
      " [  0.0000   0.0000   0.0000   0.0000   0.0000   0.0000   0.0000   0.0000   0.0000   0.0000   0.0000   0.0000   0.0000   0.0000   0.0000   0.0000   0.0000   0.0000   0.0000   0.0000   0.0000\n",
      "    0.0000   0.0000]\n",
      " [  0.0000   0.0000   0.0000   0.0000   0.0000   0.0000   0.0000   0.0000   0.0000   0.0000   0.0000   0.0000   0.0000   0.0000   0.0000   0.0000   0.0000   0.0000   0.0000   0.0000   0.0000\n",
      "    0.0000   0.0000]\n",
      " [  0.0000   0.0000   0.0000   0.0000   0.0000   0.0000   0.0000   0.0000   0.0000   0.0000   0.0000   0.0000   0.0000   0.0000   0.0000   0.0000   0.0000   0.0000   0.0000   0.0000   0.0000\n",
      "    0.0000   0.0000]\n",
      " [  0.0000   0.0000   0.0000   0.0000   0.0000   0.0000   0.0000   0.0000   0.0000   0.0000   0.0000   0.0000   0.0000   0.0000   0.0000   0.0000   0.0000   0.0000   0.0000   0.0000   0.0000\n",
      "    0.0000   0.0000]]\n",
      "\n",
      "[[  0.0000   0.0000   0.0000   0.0000   0.0000   0.0000   0.0000   0.0000   0.0000   0.0000   0.0000   0.0000   0.0000   0.0000   0.0000   0.0000   0.0000   0.0000   0.0000   0.0000   0.0000\n",
      "    0.0000   0.0000]\n",
      " [  0.0000   0.0000   0.0000   0.0000   0.0000   0.0000   0.0000   0.0000   0.0000   0.0000   0.0000   0.0000   0.0000   0.0000   0.0000   0.0000   0.0000   0.0000   0.0000   0.0000   0.0000\n",
      "    0.0000   0.0000]\n",
      " [  0.0000   0.0000   0.0000   0.0000   0.0000   0.0000   0.0000   0.0000   0.0000   0.0000   0.0000   0.0000   0.0000   0.0000   0.0000   0.0000   0.0000   0.0000   0.0000   0.0000   0.0000\n",
      "    0.0000   0.0000]\n",
      " [  0.0000   0.0000   0.0000   0.0000   0.0000   0.0000   0.0000   0.0000   0.0000   0.0000   0.0000   0.0000   0.0000   0.0000   0.0000   0.0000   0.0000   0.0000   0.0000   0.0000   0.0000\n",
      "    0.0000   0.0000]\n",
      " [  0.0000   0.0000   0.0000   0.0000   0.0000   0.0000   0.0000   0.0000   0.0000   0.0000   0.0000   0.0000   0.0000   0.0000   0.0000   0.0000   0.0000   0.0000   0.0000   0.0000   0.0000\n",
      "    0.0000   0.0000]\n",
      " [  0.0000   0.0000   0.0000   0.0000   0.0000   0.0000   0.0000   0.0000   0.0000   0.0000   0.0000   0.0000   0.0000   0.0000   0.0000   0.0000   0.0000   0.0000   0.0000   0.0000   0.0000\n",
      "    0.0000   0.0000]]\n",
      "\n",
      "[[ 70.4991  62.4271 106.7633  70.8733   4.0000   0.5207   8.0000   1.0000   0.9651 306.2931   0.9651  29.9151  45.0000   0.6648   1.0000   1.0000   1.0000  29.9151  45.0000   0.6648   1.0000\n",
      "    1.0000   1.0000]\n",
      " [  0.0000   0.0000   0.0000   0.0000   0.0000   0.0000   0.0000   0.0000   0.0000   0.0000   0.0000   0.0000   0.0000   0.0000   0.0000   0.0000   0.0000   0.0000   0.0000   0.0000   0.0000\n",
      "    0.0000   0.0000]\n",
      " [  0.0000   0.0000   0.0000   0.0000   0.0000   0.0000   0.0000   0.0000   0.0000   0.0000   0.0000   0.0000   0.0000   0.0000   0.0000   0.0000   0.0000   0.0000   0.0000   0.0000   0.0000\n",
      "    0.0000   0.0000]\n",
      " [  0.0000   0.0000   0.0000   0.0000   0.0000   0.0000   0.0000   0.0000   0.0000   0.0000   0.0000   0.0000   0.0000   0.0000   0.0000   0.0000   0.0000   0.0000   0.0000   0.0000   0.0000\n",
      "    0.0000   0.0000]\n",
      " [  0.0000   0.0000   0.0000   0.0000   0.0000   0.0000   0.0000   0.0000   0.0000   0.0000   0.0000   0.0000   0.0000   0.0000   0.0000   0.0000   0.0000   0.0000   0.0000   0.0000   0.0000\n",
      "    0.0000   0.0000]\n",
      " [  0.0000   0.0000   0.0000   0.0000   0.0000   0.0000   0.0000   0.0000   0.0000   0.0000   0.0000   0.0000   0.0000   0.0000   0.0000   0.0000   0.0000   0.0000   0.0000   0.0000   0.0000\n",
      "    0.0000   0.0000]]\n",
      "\n",
      "[[  0.0000   0.0000   0.0000   0.0000   0.0000   0.0000   0.0000   0.0000   0.0000   0.0000   0.0000   0.0000   0.0000   0.0000   0.0000   0.0000   0.0000   0.0000   0.0000   0.0000   0.0000\n",
      "    0.0000   0.0000]\n",
      " [  0.0000   0.0000   0.0000   0.0000   0.0000   0.0000   0.0000   0.0000   0.0000   0.0000   0.0000   0.0000   0.0000   0.0000   0.0000   0.0000   0.0000   0.0000   0.0000   0.0000   0.0000\n",
      "    0.0000   0.0000]\n",
      " [  0.0000   0.0000   0.0000   0.0000   0.0000   0.0000   0.0000   0.0000   0.0000   0.0000   0.0000   0.0000   0.0000   0.0000   0.0000   0.0000   0.0000   0.0000   0.0000   0.0000   0.0000\n",
      "    0.0000   0.0000]\n",
      " [  0.0000   0.0000   0.0000   0.0000   0.0000   0.0000   0.0000   0.0000   0.0000   0.0000   0.0000   0.0000   0.0000   0.0000   0.0000   0.0000   0.0000   0.0000   0.0000   0.0000   0.0000\n",
      "    0.0000   0.0000]\n",
      " [  0.0000   0.0000   0.0000   0.0000   0.0000   0.0000   0.0000   0.0000   0.0000   0.0000   0.0000   0.0000   0.0000   0.0000   0.0000   0.0000   0.0000   0.0000   0.0000   0.0000   0.0000\n",
      "    0.0000   0.0000]\n",
      " [  0.0000   0.0000   0.0000   0.0000   0.0000   0.0000   0.0000   0.0000   0.0000   0.0000   0.0000   0.0000   0.0000   0.0000   0.0000   0.0000   0.0000   0.0000   0.0000   0.0000   0.0000\n",
      "    0.0000   0.0000]]\n",
      "\n",
      "[[  0.0000   0.0000   0.0000   0.0000   0.0000   0.0000   0.0000   0.0000   0.0000   0.0000   0.0000   0.0000   0.0000   0.0000   0.0000   0.0000   0.0000   0.0000   0.0000   0.0000   0.0000\n",
      "    0.0000   0.0000]\n",
      " [  0.0000   0.0000   0.0000   0.0000   0.0000   0.0000   0.0000   0.0000   0.0000   0.0000   0.0000   0.0000   0.0000   0.0000   0.0000   0.0000   0.0000   0.0000   0.0000   0.0000   0.0000\n",
      "    0.0000   0.0000]\n",
      " [  0.0000   0.0000   0.0000   0.0000   0.0000   0.0000   0.0000   0.0000   0.0000   0.0000   0.0000   0.0000   0.0000   0.0000   0.0000   0.0000   0.0000   0.0000   0.0000   0.0000   0.0000\n",
      "    0.0000   0.0000]\n",
      " [  0.0000   0.0000   0.0000   0.0000   0.0000   0.0000   0.0000   0.0000   0.0000   0.0000   0.0000   0.0000   0.0000   0.0000   0.0000   0.0000   0.0000   0.0000   0.0000   0.0000   0.0000\n",
      "    0.0000   0.0000]\n",
      " [  0.0000   0.0000   0.0000   0.0000   0.0000   0.0000   0.0000   0.0000   0.0000   0.0000   0.0000   0.0000   0.0000   0.0000   0.0000   0.0000   0.0000   0.0000   0.0000   0.0000   0.0000\n",
      "    0.0000   0.0000]\n",
      " [  0.0000   0.0000   0.0000   0.0000   0.0000   0.0000   0.0000   0.0000   0.0000   0.0000   0.0000   0.0000   0.0000   0.0000   0.0000   0.0000   0.0000   0.0000   0.0000   0.0000   0.0000\n",
      "    0.0000   0.0000]]\n"
     ]
    }
   ],
   "source": [
    "for i in range(7):\n",
    "    print()\n",
    "    print(fcn_x[2][0,i,:6])\n",
    "#     print(fcn_x[4][0,i,:5,:15])"
   ]
  },
  {
   "cell_type": "code",
   "execution_count": null,
   "metadata": {},
   "outputs": [],
   "source": []
  },
  {
   "cell_type": "code",
   "execution_count": null,
   "metadata": {},
   "outputs": [],
   "source": []
  },
  {
   "cell_type": "markdown",
   "metadata": {},
   "source": [
    "####  Validation phase"
   ]
  },
  {
   "cell_type": "code",
   "execution_count": null,
   "metadata": {
    "ExecuteTime": {
     "end_time": "2018-11-08T12:49:26.132233Z",
     "start_time": "2018-11-08T12:49:17.874795Z"
    }
   },
   "outputs": [],
   "source": [
    "##------------------------------------------------------------------------\n",
    "## VALIDATION Phase - emulating evaluate_generator()\n",
    "##------------------------------------------------------------------------\n",
    "# print(' Start validation ')\n",
    "# print(' ---------------- ')\n",
    "# print(' Stateful metric indices:' )\n",
    "# pp.pprint(stateful_metric_indices)\n",
    "\n",
    "\n",
    "val_steps_done      = 0\n",
    "val_outs_per_batch  = []\n",
    "val_batch_sizes     = []\n",
    "\n",
    "# setup validation progress bar if we wish\n",
    "# progbar = Progbar(target=val_steps)\n",
    "\n",
    "while val_steps_done < val_steps:\n",
    "    # print(' ** Validation step: ', val_steps_done)\n",
    "\n",
    "    mrcnn_val_x, mrcnn_val_y = next(val_generator)\n",
    "\n",
    "    # print('len of train batch x' ,len(val_x))\n",
    "    # for idx, i in  enumerate(val_x):\n",
    "        # print(idx, 'type: ', type(i), 'shape: ', i.shape)\n",
    "\n",
    "    ## Run prediction on MRCNN  \n",
    "    try:\n",
    "        val_results = mrcnn_model.keras_model.predict(mrcnn_val_x)\n",
    "        fcn_val_x = [mrcnn_val_x[1]]\n",
    "        fcn_val_x.extend(val_results[:4])   ## image_meta, pr_hm, pr_hm_scores, gt_hm, gt_hm_scores\n",
    "    except Exception as e :\n",
    "        print('failure on mrcnn predict (validation)- epoch {} , image ids: {} '.format(epoch_idx, mrcnn_val_x[1][:,0]))\n",
    "        print('Exception information:')\n",
    "        print(str(e))                \n",
    "\n",
    "    # print('    mrcnn_model.predict() size of results : ', len(val_results))\n",
    "    # for idx, i in  enumerate(xval_results):\n",
    "        # print('    ',idx, 'type: ', type(i), 'shape: ', i.shape)\n",
    "\n",
    "    ## Train on FCN\n",
    "    try:\n",
    "        outs2 = self.keras_model.test_on_batch( fcn_val_x , mrcnn_val_y)\n",
    "        # print('\\n valstep {} outs2 len:{} '.format(val_steps_done, len(outs2)))\n",
    "        val_outs_per_batch.append(outs2)\n",
    "        print('fcn_model.test_on_batch() size of results : ', len(outs2))\n",
    "        for idx, i in  enumerate(outs2):\n",
    "            print(idx, 'type: ', type(i), 'shape: ', i.shape, 'val: ', i)\n",
    "    except Exception as e :\n",
    "        print('failure on fcn train (validation)- epoch {} , image ids: {} '.format(epoch_idx, mrcnn_val_x[1][:,0]))                    \n",
    "        print('Exception information:')\n",
    "        print(str(e))                \n",
    "\n",
    "\n",
    "\n",
    "    if isinstance(fcn_val_x, list):\n",
    "        batch_size = fcn_val_x[0].shape[0]\n",
    "    elif isinstance(fcn_val_x, dict):\n",
    "        batch_size = list(fcn_val_x.values())[0].shape[0]\n",
    "    else:\n",
    "        batch_size = fcn_val_x.shape[0]\n",
    "\n",
    "    if batch_size == 0:\n",
    "        raise ValueError('Received an empty batch. '\n",
    "                         'Batches should at least contain one item.')\n",
    "    # else:\n",
    "        # print('batch size:', batch_size)\n",
    "\n",
    "    val_steps_done += 1\n",
    "    val_batch_sizes.append(batch_size)\n",
    "    # print validation progress bar if we wish\n",
    "    # progbar.update(val_steps_done)\n",
    "\n",
    "## calculate val_averages after all validations steps complete, which is passed \n",
    "## back to fit_generator() as val_outs "
   ]
  },
  {
   "cell_type": "code",
   "execution_count": null,
   "metadata": {
    "ExecuteTime": {
     "end_time": "2018-12-21T11:25:48.668187Z",
     "start_time": "2018-12-21T11:25:48.240529Z"
    }
   },
   "outputs": [],
   "source": [
    "print('    val_batch_sizes            :', type(val_batch_sizes),' len :', len(val_batch_sizes), val_batch_sizes)\n",
    "print('    val_batch_sizes-shape      :', np.asarray(val_batch_sizes).shape)\n",
    "\n",
    "print('    val_outs_per_batch:        :', type(val_outs_per_batch),' len :', len(val_outs_per_batch))\n",
    "print('    val_outs_per_batch - shape :', np.asarray(val_outs_per_batch).shape)\n",
    "for i,j in enumerate(val_outs_per_batch):\n",
    "    print('        batch: ', i, '  ', j)\n",
    "\n",
    "val_averages = []\n",
    "for i in range(len(outs2)):\n",
    "    if i not in stateful_metric_indices:\n",
    "        tt = [out[i] for out in val_outs_per_batch]\n",
    "        # print(' tt type: ',type(tt), tt)\n",
    "        # print('val_batch_sizes.shape' , type(val_batch_sizes), len(val_batch_sizes))\n",
    "        val_averages.append(\n",
    "                np.average([out[i] for out in val_outs_per_batch], axis = 0, weights=val_batch_sizes)\n",
    "                           )\n",
    "    else:\n",
    "        val_averages.append(float(val_outs_per_batch[-1][i]))\n",
    "if len(val_averages) == 1:\n",
    "    val_averages = val_averages[0]\n",
    "print()\n",
    "print('val_averages :', val_averages)\n",
    "print()"
   ]
  },
  {
   "cell_type": "markdown",
   "metadata": {
    "heading_collapsed": true
   },
   "source": [
    "####  attempt to add histogram info to tensoflow summary "
   ]
  },
  {
   "cell_type": "code",
   "execution_count": null,
   "metadata": {
    "ExecuteTime": {
     "end_time": "2018-11-08T13:00:51.933609Z",
     "start_time": "2018-11-08T13:00:51.866194Z"
    },
    "hidden": true
   },
   "outputs": [],
   "source": [
    "#-- (unsuccessful) attempt to add histogram info to tensoflow summary  ------------------------\n",
    "print(' Tensordlow histogram attempt')\n",
    "print('-----------------------------')\n",
    "print('model targets:', self.keras_model.targets)\n",
    "print(' Total loss  :', self.keras_model.total_loss)\n",
    "print(' Metric Tensors:', self.keras_model.metrics_tensors)\n",
    "fcn_val_y = self.keras_model.targets\n",
    "fcn_val_sample_weights = self.keras_model.sample_weights\n",
    "\n",
    "\n",
    "print(' len(fcn_val_x)  : ',len(fcn_val_x))\n",
    "print(' len(fcn_val_y)  : ',len(fcn_val_y))\n",
    "print(' len(mrcnn_val_y): ',len(mrcnn_val_y))\n",
    "\n",
    "# fcn_val_x, fcn_val_y, fcn_val_sample_weights = my_standardize_user_data(self.keras_model, fcn_val_x, fcn_val_y, val_sample_weight)\n",
    "fcn_val_data = fcn_val_x + fcn_val_y  + fcn_val_sample_weights\n",
    "\n",
    "print(' len(fcn_val_x)             : ',len(fcn_val_x))\n",
    "print(' len(fcn_val_y)             : ',len(fcn_val_y))\n",
    "print(' len(fcn_val_sample_weights): ',len(fcn_val_sample_weights))\n",
    "print(' len(fcn_val_data)          : ',len(fcn_val_data))\n",
    "if self.keras_model.uses_learning_phase and not isinstance(KB.learning_phase(), int):\n",
    "    print(' add ')\n",
    "    fcn_val_data += [0.]\n",
    "for cbk in callbacks:\n",
    "    cbk.validation_data = fcn_val_data\n",
    "\n",
    "#-------------------------------------------------------------------------------"
   ]
  },
  {
   "cell_type": "markdown",
   "metadata": {
    "heading_collapsed": true
   },
   "source": [
    "####  end of epoch (training and validation) operations "
   ]
  },
  {
   "cell_type": "code",
   "execution_count": null,
   "metadata": {
    "ExecuteTime": {
     "end_time": "2018-11-08T13:01:00.454390Z",
     "start_time": "2018-11-08T13:01:00.373443Z"
    },
    "hidden": true
   },
   "outputs": [],
   "source": [
    "#### ------------------------------------------------------------------------\n",
    "## END OF EPOCH Phase \n",
    "##------------------------------------------------------------------------\n",
    "## end of evaluate_generator() emulation\n",
    "## val_averages returned back to fit_generator() as val_outs\n",
    "## calculate val_outs after all validations steps complete\n",
    "##------------------------------------------------------------------------\n",
    "if not isinstance(val_averages, list):\n",
    "    val_averages = [val_averages]\n",
    "# Same labels assumed.\n",
    "for l, o in zip(out_labels, val_averages):\n",
    "    epoch_logs['val_' + l] = o\n",
    "\n",
    "#----commented 31-10-18 replaced with above lines -------------------------------------------\n",
    "# if not isinstance(outs2, list):\n",
    "    # val_outs =  np.average(np.asarray(val_all_outs), weights=val_batch_sizes)\n",
    "# else:\n",
    "    # averages = []\n",
    "    # for i in range(len(outs2)):\n",
    "        # averages.append(np.average([out[i] for out in val_all_outs], axis = 0, weights=val_batch_sizes))\n",
    "    # val_outs = averages\n",
    "# if not isinstance(val_outs, list):\n",
    "    # val_outs = [val_outs]\n",
    "\n",
    "# # Same labels assumed.\n",
    "# for l, o in zip(out_labels, val_outs):\n",
    "    # # print(' Validations : out label: val_', l, ' out value: ', o)\n",
    "    # epoch_logs['val_' + l] = o\n",
    "#-------------------------------------------------------------------------------------\n",
    "\n",
    "# write_log(callback, val_names, logs, batch_no//10)\n",
    "# print('\\n    validation logs output: ', val_outs)\n",
    "\n",
    "\n",
    "epoch_logs.update({'lr': KB.eval(self.keras_model.optimizer.lr)})    \n",
    "callbacks.on_epoch_end(epoch_idx, epoch_logs)\n",
    "epoch_idx += 1\n",
    "                "
   ]
  },
  {
   "cell_type": "markdown",
   "metadata": {
    "heading_collapsed": true
   },
   "source": [
    "#### Check for early stop training conditions"
   ]
  },
  {
   "cell_type": "code",
   "execution_count": null,
   "metadata": {
    "ExecuteTime": {
     "end_time": "2018-11-08T11:31:50.425647Z",
     "start_time": "2018-11-08T11:31:46.561376Z"
    },
    "hidden": true
   },
   "outputs": [],
   "source": [
    "                for callback in callbacks:\n",
    "                    # print(callback)\n",
    "                    # pp.pprint(dir(callback.model))\n",
    "                    if hasattr(callback.model, 'stop_training') and (callback.model.stop_training ==True):\n",
    "                        print(' +++++++++++ ON EPOCH END CALLBACKS TRIGGERED STOP_TRAINING +++++++++++++')\n",
    "                        print(callback.model, ' triggered stop_training +++++++++++++')\n",
    "                        early_stopping = True\n",
    "                        \n",
    "                if early_stopping:\n",
    "                    print('{}  Early Stopping triggered on epoch {} of {} epochs'.format(callback, epoch_idx, epochs))\n",
    "                    break    \n",
    "                \n",
    "            ##-------------------------------\n",
    "            ## end of training operations\n",
    "            ##--------------------------------\n",
    "            # if epoch_idx != self.epoch:\n",
    "            # chkpoint.on_epoch_end(epoch_idx -1, batch_logs)\n",
    "            callbacks.on_train_end()\n",
    "            self.epoch = max(epoch_idx - 1, epochs)\n",
    "            print('Final : self.epoch {}   epochs {}'.format(self.epoch, epochs))\n",
    "            \n",
    "        ##--------------------------------------------------------------------------------\n",
    "        ## End main training loop\n",
    "        ##--------------------------------------------------------------------------------\n",
    "        return \n",
    "        "
   ]
  },
  {
   "cell_type": "markdown",
   "metadata": {},
   "source": [
    "##  Get gradients and weights"
   ]
  },
  {
   "cell_type": "markdown",
   "metadata": {},
   "source": [
    "#### get_gradients()"
   ]
  },
  {
   "cell_type": "code",
   "execution_count": 11,
   "metadata": {
    "ExecuteTime": {
     "end_time": "2018-12-22T16:43:26.685094Z",
     "start_time": "2018-12-22T16:43:26.387645Z"
    }
   },
   "outputs": [
    {
     "name": "stdout",
     "output_type": "stream",
     "text": [
      "[<tf.Tensor 'input_image_meta_1:0' shape=(?, 15) dtype=float32>, <tf.Tensor 'input_pr_hm_norm:0' shape=(?, 128, 128, 7) dtype=float32>, <tf.Tensor 'input_pr_hm_scores:0' shape=(?, 7, 32, 23) dtype=float32>, <tf.Tensor 'input_gt_hm_norm:0' shape=(?, 128, 128, 7) dtype=float32>, <tf.Tensor 'input_gt_hm_scores:0' shape=(?, 7, 32, 23) dtype=float32>]\n",
      "[None, None, None, None, None]\n",
      "[None, None, None, None, None]\n",
      "False\n"
     ]
    }
   ],
   "source": [
    "# pp.pprint(val_averages)\n",
    "# print(out_labels)\n",
    "# epoch_logs = {}\n",
    "# print(epoch_logs)\n",
    "print(self.keras_model.inputs)\n",
    "print(self.keras_model.targets)\n",
    "print(self.keras_model.sample_weights)\n",
    "print(self.keras_model.uses_learning_phase)"
   ]
  },
  {
   "cell_type": "code",
   "execution_count": 28,
   "metadata": {
    "ExecuteTime": {
     "end_time": "2018-12-22T17:28:47.204235Z",
     "start_time": "2018-12-22T17:28:46.863089Z"
    }
   },
   "outputs": [],
   "source": [
    "def get_gradients_from_model(model):\n",
    "    \"\"\"Return the gradient of every trainable weight in model\n",
    "\n",
    "    Parameters\n",
    "    -----------\n",
    "    model : a keras model instance\n",
    "\n",
    "    First, find all tensors which are trainable in the model. Surprisingly,\n",
    "    `model.trainable_weights` will return tensors for which\n",
    "    trainable=False has been set on their layer (last time I checked), hence the extra check.\n",
    "    Next, get the gradients of the loss with respect to the weights.\n",
    "\n",
    "    \"\"\"\n",
    "    weight_names = []\n",
    "    weights = []\n",
    "    for tensor in model.trainable_weights:\n",
    "        ly = tensor.name.split('/')[0]\n",
    "        print('Layer: ', ly, ' Tensor:', tensor.name , ' Trainable:', model.get_layer(ly).trainable)\n",
    "        if model.get_layer(ly).trainable:\n",
    "            weights.append(tensor)\n",
    "            weight_names.append(tensor.name)\n",
    "#     weights = [tensor for tensor in model.trainable_weights if model.get_layer(tensor.name[:-2]).trainable]\n",
    "    optimizer = model.optimizer\n",
    "    pp.pprint(optimizer.__dict__)\n",
    "    return weight_names, optimizer.get_gradients(model.total_loss, weights)\n",
    "\n",
    "def get_weights_from_model(model):\n",
    "    \"\"\"Return every trainable weight in model\n",
    "\n",
    "    Parameters\n",
    "    -----------\n",
    "    model : a keras model instance\n",
    "\n",
    "    First, find all tensors which are trainable in the model. Surprisingly,\n",
    "    `model.trainable_weights` will return tensors for which\n",
    "    trainable=False has been set on their layer (last time I checked), hence the extra check.\n",
    "    \n",
    "\n",
    "    \"\"\"\n",
    "    weight_names = []\n",
    "    weights = []\n",
    "    for tensor in model.trainable_weights:\n",
    "        ly = tensor.name.split('/')[0]\n",
    "        print('Layer: ', ly, ' Tensor:', tensor.name , ' Trainable:', model.get_layer(ly).trainable)\n",
    "#         if model.get_layer(ly).trainable:\n",
    "        weights.append(tensor)\n",
    "        weight_names.append(tensor.name)\n",
    "#     weights = [tensor for tensor in model.trainable_weights if model.get_layer(tensor.name[:-2]).trainable]\n",
    "    return weight_names, weights"
   ]
  },
  {
   "cell_type": "code",
   "execution_count": 29,
   "metadata": {
    "ExecuteTime": {
     "end_time": "2018-12-22T17:28:51.005556Z",
     "start_time": "2018-12-22T17:28:49.794378Z"
    }
   },
   "outputs": [
    {
     "name": "stdout",
     "output_type": "stream",
     "text": [
      "Layer:  block2_conv1  Tensor: block2_conv1/kernel:0  Trainable: True\n",
      "Layer:  block2_conv1  Tensor: block2_conv1/bias:0  Trainable: True\n",
      "Layer:  block2_conv2  Tensor: block2_conv2/kernel:0  Trainable: True\n",
      "Layer:  block2_conv2  Tensor: block2_conv2/bias:0  Trainable: True\n",
      "Layer:  block3_conv1  Tensor: block3_conv1/kernel:0  Trainable: True\n",
      "Layer:  block3_conv1  Tensor: block3_conv1/bias:0  Trainable: True\n",
      "Layer:  block3_conv2  Tensor: block3_conv2/kernel:0  Trainable: True\n",
      "Layer:  block3_conv2  Tensor: block3_conv2/bias:0  Trainable: True\n",
      "Layer:  block3_conv3  Tensor: block3_conv3/kernel:0  Trainable: True\n",
      "Layer:  block3_conv3  Tensor: block3_conv3/bias:0  Trainable: True\n",
      "Layer:  block4_conv1  Tensor: block4_conv1/kernel:0  Trainable: True\n",
      "Layer:  block4_conv1  Tensor: block4_conv1/bias:0  Trainable: True\n",
      "Layer:  block4_conv2  Tensor: block4_conv2/kernel:0  Trainable: True\n",
      "Layer:  block4_conv2  Tensor: block4_conv2/bias:0  Trainable: True\n",
      "Layer:  block4_conv3  Tensor: block4_conv3/kernel:0  Trainable: True\n",
      "Layer:  block4_conv3  Tensor: block4_conv3/bias:0  Trainable: True\n",
      "Layer:  block5_conv1  Tensor: block5_conv1/kernel:0  Trainable: True\n",
      "Layer:  block5_conv1  Tensor: block5_conv1/bias:0  Trainable: True\n",
      "Layer:  block5_conv2  Tensor: block5_conv2/kernel:0  Trainable: True\n",
      "Layer:  block5_conv2  Tensor: block5_conv2/bias:0  Trainable: True\n",
      "Layer:  block5_conv3  Tensor: block5_conv3/kernel:0  Trainable: True\n",
      "Layer:  block5_conv3  Tensor: block5_conv3/bias:0  Trainable: True\n",
      "Layer:  fcn32_fc1  Tensor: fcn32_fc1/kernel:0  Trainable: True\n",
      "Layer:  fcn32_fc1  Tensor: fcn32_fc1/bias:0  Trainable: True\n",
      "Layer:  fcn32_fc2  Tensor: fcn32_fc2/kernel:0  Trainable: True\n",
      "Layer:  fcn32_fc2  Tensor: fcn32_fc2/bias:0  Trainable: True\n",
      "Layer:  fcn32_deconv2D  Tensor: fcn32_deconv2D/kernel:0  Trainable: True\n",
      "Layer:  fcn32_deconv2D  Tensor: fcn32_deconv2D/bias:0  Trainable: True\n",
      "Layer:  fcn16_score2  Tensor: fcn16_score2/kernel:0  Trainable: True\n",
      "Layer:  fcn16_score2  Tensor: fcn16_score2/bias:0  Trainable: True\n",
      "Layer:  fcn16_score_pool4  Tensor: fcn16_score_pool4/kernel:0  Trainable: True\n",
      "Layer:  fcn16_score_pool4  Tensor: fcn16_score_pool4/bias:0  Trainable: True\n",
      "Layer:  fcn16_upscore_pool4  Tensor: fcn16_upscore_pool4/kernel:0  Trainable: True\n",
      "Layer:  fcn16_upscore_pool4  Tensor: fcn16_upscore_pool4/bias:0  Trainable: True\n",
      "Layer:  fcn8_score_pool3  Tensor: fcn8_score_pool3/kernel:0  Trainable: True\n",
      "Layer:  fcn8_score_pool3  Tensor: fcn8_score_pool3/bias:0  Trainable: True\n",
      "Layer:  fcn8_heatmap  Tensor: fcn8_heatmap/kernel:0  Trainable: True\n",
      "Layer:  fcn8_heatmap  Tensor: fcn8_heatmap/bias:0  Trainable: True\n",
      "{ 'clipnorm': 5.0,\n",
      "  'decay': <tf.Variable 'SGD/decay:0' shape=() dtype=float32_ref>,\n",
      "  'initial_decay': 0.0,\n",
      "  'iterations': <tf.Variable 'SGD/iterations:0' shape=() dtype=int64_ref>,\n",
      "  'lr': <tf.Variable 'SGD/lr:0' shape=() dtype=float32_ref>,\n",
      "  'momentum': <tf.Variable 'SGD/momentum:0' shape=() dtype=float32_ref>,\n",
      "  'nesterov': False,\n",
      "  'updates': [ <tf.Tensor 'training/SGD/AssignAdd:0' shape=() dtype=int64_ref>,\n",
      "               <tf.Tensor 'training/SGD/Assign:0' shape=(3, 3, 64, 128) dtype=float32_ref>,\n",
      "               <tf.Tensor 'training/SGD/Assign_1:0' shape=(3, 3, 64, 128) dtype=float32_ref>,\n",
      "               <tf.Tensor 'training/SGD/Assign_2:0' shape=(128,) dtype=float32_ref>,\n",
      "               <tf.Tensor 'training/SGD/Assign_3:0' shape=(128,) dtype=float32_ref>,\n",
      "               <tf.Tensor 'training/SGD/Assign_4:0' shape=(3, 3, 128, 128) dtype=float32_ref>,\n",
      "               <tf.Tensor 'training/SGD/Assign_5:0' shape=(3, 3, 128, 128) dtype=float32_ref>,\n",
      "               <tf.Tensor 'training/SGD/Assign_6:0' shape=(128,) dtype=float32_ref>,\n",
      "               <tf.Tensor 'training/SGD/Assign_7:0' shape=(128,) dtype=float32_ref>,\n",
      "               <tf.Tensor 'training/SGD/Assign_8:0' shape=(3, 3, 128, 256) dtype=float32_ref>,\n",
      "               <tf.Tensor 'training/SGD/Assign_9:0' shape=(3, 3, 128, 256) dtype=float32_ref>,\n",
      "               <tf.Tensor 'training/SGD/Assign_10:0' shape=(256,) dtype=float32_ref>,\n",
      "               <tf.Tensor 'training/SGD/Assign_11:0' shape=(256,) dtype=float32_ref>,\n",
      "               <tf.Tensor 'training/SGD/Assign_12:0' shape=(3, 3, 256, 256) dtype=float32_ref>,\n",
      "               <tf.Tensor 'training/SGD/Assign_13:0' shape=(3, 3, 256, 256) dtype=float32_ref>,\n",
      "               <tf.Tensor 'training/SGD/Assign_14:0' shape=(256,) dtype=float32_ref>,\n",
      "               <tf.Tensor 'training/SGD/Assign_15:0' shape=(256,) dtype=float32_ref>,\n",
      "               <tf.Tensor 'training/SGD/Assign_16:0' shape=(3, 3, 256, 256) dtype=float32_ref>,\n",
      "               <tf.Tensor 'training/SGD/Assign_17:0' shape=(3, 3, 256, 256) dtype=float32_ref>,\n",
      "               <tf.Tensor 'training/SGD/Assign_18:0' shape=(256,) dtype=float32_ref>,\n",
      "               <tf.Tensor 'training/SGD/Assign_19:0' shape=(256,) dtype=float32_ref>,\n",
      "               <tf.Tensor 'training/SGD/Assign_20:0' shape=(3, 3, 256, 512) dtype=float32_ref>,\n",
      "               <tf.Tensor 'training/SGD/Assign_21:0' shape=(3, 3, 256, 512) dtype=float32_ref>,\n",
      "               <tf.Tensor 'training/SGD/Assign_22:0' shape=(512,) dtype=float32_ref>,\n",
      "               <tf.Tensor 'training/SGD/Assign_23:0' shape=(512,) dtype=float32_ref>,\n",
      "               <tf.Tensor 'training/SGD/Assign_24:0' shape=(3, 3, 512, 512) dtype=float32_ref>,\n",
      "               <tf.Tensor 'training/SGD/Assign_25:0' shape=(3, 3, 512, 512) dtype=float32_ref>,\n",
      "               <tf.Tensor 'training/SGD/Assign_26:0' shape=(512,) dtype=float32_ref>,\n",
      "               <tf.Tensor 'training/SGD/Assign_27:0' shape=(512,) dtype=float32_ref>,\n",
      "               <tf.Tensor 'training/SGD/Assign_28:0' shape=(3, 3, 512, 512) dtype=float32_ref>,\n",
      "               <tf.Tensor 'training/SGD/Assign_29:0' shape=(3, 3, 512, 512) dtype=float32_ref>,\n",
      "               <tf.Tensor 'training/SGD/Assign_30:0' shape=(512,) dtype=float32_ref>,\n",
      "               <tf.Tensor 'training/SGD/Assign_31:0' shape=(512,) dtype=float32_ref>,\n",
      "               <tf.Tensor 'training/SGD/Assign_32:0' shape=(3, 3, 512, 512) dtype=float32_ref>,\n",
      "               <tf.Tensor 'training/SGD/Assign_33:0' shape=(3, 3, 512, 512) dtype=float32_ref>,\n",
      "               <tf.Tensor 'training/SGD/Assign_34:0' shape=(512,) dtype=float32_ref>,\n",
      "               <tf.Tensor 'training/SGD/Assign_35:0' shape=(512,) dtype=float32_ref>,\n",
      "               <tf.Tensor 'training/SGD/Assign_36:0' shape=(3, 3, 512, 512) dtype=float32_ref>,\n",
      "               <tf.Tensor 'training/SGD/Assign_37:0' shape=(3, 3, 512, 512) dtype=float32_ref>,\n",
      "               <tf.Tensor 'training/SGD/Assign_38:0' shape=(512,) dtype=float32_ref>,\n",
      "               <tf.Tensor 'training/SGD/Assign_39:0' shape=(512,) dtype=float32_ref>,\n",
      "               <tf.Tensor 'training/SGD/Assign_40:0' shape=(3, 3, 512, 512) dtype=float32_ref>,\n",
      "               <tf.Tensor 'training/SGD/Assign_41:0' shape=(3, 3, 512, 512) dtype=float32_ref>,\n",
      "               <tf.Tensor 'training/SGD/Assign_42:0' shape=(512,) dtype=float32_ref>,\n",
      "               <tf.Tensor 'training/SGD/Assign_43:0' shape=(512,) dtype=float32_ref>,\n",
      "               <tf.Tensor 'training/SGD/Assign_44:0' shape=(7, 7, 512, 4096) dtype=float32_ref>,\n",
      "               <tf.Tensor 'training/SGD/Assign_45:0' shape=(7, 7, 512, 4096) dtype=float32_ref>,\n",
      "               <tf.Tensor 'training/SGD/Assign_46:0' shape=(4096,) dtype=float32_ref>,\n",
      "               <tf.Tensor 'training/SGD/Assign_47:0' shape=(4096,) dtype=float32_ref>,\n",
      "               <tf.Tensor 'training/SGD/Assign_48:0' shape=(1, 1, 4096, 4096) dtype=float32_ref>,\n",
      "               <tf.Tensor 'training/SGD/Assign_49:0' shape=(1, 1, 4096, 4096) dtype=float32_ref>,\n",
      "               <tf.Tensor 'training/SGD/Assign_50:0' shape=(4096,) dtype=float32_ref>,\n",
      "               <tf.Tensor 'training/SGD/Assign_51:0' shape=(4096,) dtype=float32_ref>,\n",
      "               <tf.Tensor 'training/SGD/Assign_52:0' shape=(1, 1, 4096, 7) dtype=float32_ref>,\n",
      "               <tf.Tensor 'training/SGD/Assign_53:0' shape=(1, 1, 4096, 7) dtype=float32_ref>,\n",
      "               <tf.Tensor 'training/SGD/Assign_54:0' shape=(7,) dtype=float32_ref>,\n",
      "               <tf.Tensor 'training/SGD/Assign_55:0' shape=(7,) dtype=float32_ref>,\n",
      "               <tf.Tensor 'training/SGD/Assign_56:0' shape=(4, 4, 7, 7) dtype=float32_ref>,\n",
      "               <tf.Tensor 'training/SGD/Assign_57:0' shape=(4, 4, 7, 7) dtype=float32_ref>,\n",
      "               <tf.Tensor 'training/SGD/Assign_58:0' shape=(7,) dtype=float32_ref>,\n",
      "               <tf.Tensor 'training/SGD/Assign_59:0' shape=(7,) dtype=float32_ref>,\n",
      "               <tf.Tensor 'training/SGD/Assign_60:0' shape=(1, 1, 512, 7) dtype=float32_ref>,\n",
      "               <tf.Tensor 'training/SGD/Assign_61:0' shape=(1, 1, 512, 7) dtype=float32_ref>,\n",
      "               <tf.Tensor 'training/SGD/Assign_62:0' shape=(7,) dtype=float32_ref>,\n",
      "               <tf.Tensor 'training/SGD/Assign_63:0' shape=(7,) dtype=float32_ref>,\n",
      "               <tf.Tensor 'training/SGD/Assign_64:0' shape=(4, 4, 7, 7) dtype=float32_ref>,\n",
      "               <tf.Tensor 'training/SGD/Assign_65:0' shape=(4, 4, 7, 7) dtype=float32_ref>,\n",
      "               <tf.Tensor 'training/SGD/Assign_66:0' shape=(7,) dtype=float32_ref>,\n",
      "               <tf.Tensor 'training/SGD/Assign_67:0' shape=(7,) dtype=float32_ref>,\n",
      "               <tf.Tensor 'training/SGD/Assign_68:0' shape=(1, 1, 256, 7) dtype=float32_ref>,\n",
      "               <tf.Tensor 'training/SGD/Assign_69:0' shape=(1, 1, 256, 7) dtype=float32_ref>,\n",
      "               <tf.Tensor 'training/SGD/Assign_70:0' shape=(7,) dtype=float32_ref>,\n",
      "               <tf.Tensor 'training/SGD/Assign_71:0' shape=(7,) dtype=float32_ref>,\n",
      "               <tf.Tensor 'training/SGD/Assign_72:0' shape=(16, 16, 7, 7) dtype=float32_ref>,\n",
      "               <tf.Tensor 'training/SGD/Assign_73:0' shape=(16, 16, 7, 7) dtype=float32_ref>,\n",
      "               <tf.Tensor 'training/SGD/Assign_74:0' shape=(7,) dtype=float32_ref>,\n",
      "               <tf.Tensor 'training/SGD/Assign_75:0' shape=(7,) dtype=float32_ref>],\n",
      "  'weights': [ <tf.Variable 'SGD/iterations:0' shape=() dtype=int64_ref>,\n",
      "               <tf.Variable 'training/SGD/Variable:0' shape=(3, 3, 64, 128) dtype=float32_ref>,\n",
      "               <tf.Variable 'training/SGD/Variable_1:0' shape=(128,) dtype=float32_ref>,\n",
      "               <tf.Variable 'training/SGD/Variable_2:0' shape=(3, 3, 128, 128) dtype=float32_ref>,\n",
      "               <tf.Variable 'training/SGD/Variable_3:0' shape=(128,) dtype=float32_ref>,\n",
      "               <tf.Variable 'training/SGD/Variable_4:0' shape=(3, 3, 128, 256) dtype=float32_ref>,\n",
      "               <tf.Variable 'training/SGD/Variable_5:0' shape=(256,) dtype=float32_ref>,\n",
      "               <tf.Variable 'training/SGD/Variable_6:0' shape=(3, 3, 256, 256) dtype=float32_ref>,\n",
      "               <tf.Variable 'training/SGD/Variable_7:0' shape=(256,) dtype=float32_ref>,\n",
      "               <tf.Variable 'training/SGD/Variable_8:0' shape=(3, 3, 256, 256) dtype=float32_ref>,\n",
      "               <tf.Variable 'training/SGD/Variable_9:0' shape=(256,) dtype=float32_ref>,\n",
      "               <tf.Variable 'training/SGD/Variable_10:0' shape=(3, 3, 256, 512) dtype=float32_ref>,\n",
      "               <tf.Variable 'training/SGD/Variable_11:0' shape=(512,) dtype=float32_ref>,\n",
      "               <tf.Variable 'training/SGD/Variable_12:0' shape=(3, 3, 512, 512) dtype=float32_ref>,\n",
      "               <tf.Variable 'training/SGD/Variable_13:0' shape=(512,) dtype=float32_ref>,\n",
      "               <tf.Variable 'training/SGD/Variable_14:0' shape=(3, 3, 512, 512) dtype=float32_ref>,\n",
      "               <tf.Variable 'training/SGD/Variable_15:0' shape=(512,) dtype=float32_ref>,\n",
      "               <tf.Variable 'training/SGD/Variable_16:0' shape=(3, 3, 512, 512) dtype=float32_ref>,\n",
      "               <tf.Variable 'training/SGD/Variable_17:0' shape=(512,) dtype=float32_ref>,\n",
      "               <tf.Variable 'training/SGD/Variable_18:0' shape=(3, 3, 512, 512) dtype=float32_ref>,\n",
      "               <tf.Variable 'training/SGD/Variable_19:0' shape=(512,) dtype=float32_ref>,\n",
      "               <tf.Variable 'training/SGD/Variable_20:0' shape=(3, 3, 512, 512) dtype=float32_ref>,\n",
      "               <tf.Variable 'training/SGD/Variable_21:0' shape=(512,) dtype=float32_ref>,\n",
      "               <tf.Variable 'training/SGD/Variable_22:0' shape=(7, 7, 512, 4096) dtype=float32_ref>,\n",
      "               <tf.Variable 'training/SGD/Variable_23:0' shape=(4096,) dtype=float32_ref>,\n",
      "               <tf.Variable 'training/SGD/Variable_24:0' shape=(1, 1, 4096, 4096) dtype=float32_ref>,\n",
      "               <tf.Variable 'training/SGD/Variable_25:0' shape=(4096,) dtype=float32_ref>,\n",
      "               <tf.Variable 'training/SGD/Variable_26:0' shape=(1, 1, 4096, 7) dtype=float32_ref>,\n",
      "               <tf.Variable 'training/SGD/Variable_27:0' shape=(7,) dtype=float32_ref>,\n",
      "               <tf.Variable 'training/SGD/Variable_28:0' shape=(4, 4, 7, 7) dtype=float32_ref>,\n",
      "               <tf.Variable 'training/SGD/Variable_29:0' shape=(7,) dtype=float32_ref>,\n",
      "               <tf.Variable 'training/SGD/Variable_30:0' shape=(1, 1, 512, 7) dtype=float32_ref>,\n",
      "               <tf.Variable 'training/SGD/Variable_31:0' shape=(7,) dtype=float32_ref>,\n",
      "               <tf.Variable 'training/SGD/Variable_32:0' shape=(4, 4, 7, 7) dtype=float32_ref>,\n",
      "               <tf.Variable 'training/SGD/Variable_33:0' shape=(7,) dtype=float32_ref>,\n",
      "               <tf.Variable 'training/SGD/Variable_34:0' shape=(1, 1, 256, 7) dtype=float32_ref>,\n",
      "               <tf.Variable 'training/SGD/Variable_35:0' shape=(7,) dtype=float32_ref>,\n",
      "               <tf.Variable 'training/SGD/Variable_36:0' shape=(16, 16, 7, 7) dtype=float32_ref>,\n",
      "               <tf.Variable 'training/SGD/Variable_37:0' shape=(7,) dtype=float32_ref>]}\n",
      "Layer:  block2_conv1  Tensor: block2_conv1/kernel:0  Trainable: True\n",
      "Layer:  block2_conv1  Tensor: block2_conv1/bias:0  Trainable: True\n",
      "Layer:  block2_conv2  Tensor: block2_conv2/kernel:0  Trainable: True\n",
      "Layer:  block2_conv2  Tensor: block2_conv2/bias:0  Trainable: True\n",
      "Layer:  block3_conv1  Tensor: block3_conv1/kernel:0  Trainable: True\n",
      "Layer:  block3_conv1  Tensor: block3_conv1/bias:0  Trainable: True\n",
      "Layer:  block3_conv2  Tensor: block3_conv2/kernel:0  Trainable: True\n",
      "Layer:  block3_conv2  Tensor: block3_conv2/bias:0  Trainable: True\n",
      "Layer:  block3_conv3  Tensor: block3_conv3/kernel:0  Trainable: True\n",
      "Layer:  block3_conv3  Tensor: block3_conv3/bias:0  Trainable: True\n",
      "Layer:  block4_conv1  Tensor: block4_conv1/kernel:0  Trainable: True\n",
      "Layer:  block4_conv1  Tensor: block4_conv1/bias:0  Trainable: True\n",
      "Layer:  block4_conv2  Tensor: block4_conv2/kernel:0  Trainable: True\n",
      "Layer:  block4_conv2  Tensor: block4_conv2/bias:0  Trainable: True\n",
      "Layer:  block4_conv3  Tensor: block4_conv3/kernel:0  Trainable: True\n",
      "Layer:  block4_conv3  Tensor: block4_conv3/bias:0  Trainable: True\n",
      "Layer:  block5_conv1  Tensor: block5_conv1/kernel:0  Trainable: True\n",
      "Layer:  block5_conv1  Tensor: block5_conv1/bias:0  Trainable: True\n",
      "Layer:  block5_conv2  Tensor: block5_conv2/kernel:0  Trainable: True\n",
      "Layer:  block5_conv2  Tensor: block5_conv2/bias:0  Trainable: True\n",
      "Layer:  block5_conv3  Tensor: block5_conv3/kernel:0  Trainable: True\n",
      "Layer:  block5_conv3  Tensor: block5_conv3/bias:0  Trainable: True\n",
      "Layer:  fcn32_fc1  Tensor: fcn32_fc1/kernel:0  Trainable: True\n",
      "Layer:  fcn32_fc1  Tensor: fcn32_fc1/bias:0  Trainable: True\n",
      "Layer:  fcn32_fc2  Tensor: fcn32_fc2/kernel:0  Trainable: True\n",
      "Layer:  fcn32_fc2  Tensor: fcn32_fc2/bias:0  Trainable: True\n",
      "Layer:  fcn32_deconv2D  Tensor: fcn32_deconv2D/kernel:0  Trainable: True\n",
      "Layer:  fcn32_deconv2D  Tensor: fcn32_deconv2D/bias:0  Trainable: True\n",
      "Layer:  fcn16_score2  Tensor: fcn16_score2/kernel:0  Trainable: True\n",
      "Layer:  fcn16_score2  Tensor: fcn16_score2/bias:0  Trainable: True\n",
      "Layer:  fcn16_score_pool4  Tensor: fcn16_score_pool4/kernel:0  Trainable: True\n",
      "Layer:  fcn16_score_pool4  Tensor: fcn16_score_pool4/bias:0  Trainable: True\n",
      "Layer:  fcn16_upscore_pool4  Tensor: fcn16_upscore_pool4/kernel:0  Trainable: True\n",
      "Layer:  fcn16_upscore_pool4  Tensor: fcn16_upscore_pool4/bias:0  Trainable: True\n",
      "Layer:  fcn8_score_pool3  Tensor: fcn8_score_pool3/kernel:0  Trainable: True\n",
      "Layer:  fcn8_score_pool3  Tensor: fcn8_score_pool3/bias:0  Trainable: True\n",
      "Layer:  fcn8_heatmap  Tensor: fcn8_heatmap/kernel:0  Trainable: True\n",
      "Layer:  fcn8_heatmap  Tensor: fcn8_heatmap/bias:0  Trainable: True\n"
     ]
    }
   ],
   "source": [
    "import keras.backend as KB\n",
    "\n",
    "weight_names, gradients = get_gradients_from_model(fcn_model.keras_model)\n",
    "weight_names2, weights = get_weights_from_model(fcn_model.keras_model)"
   ]
  },
  {
   "cell_type": "code",
   "execution_count": 31,
   "metadata": {
    "ExecuteTime": {
     "end_time": "2018-12-22T17:29:06.370774Z",
     "start_time": "2018-12-22T17:29:06.066510Z"
    }
   },
   "outputs": [],
   "source": [
    "get_gradients = KB.function(fcn_model.keras_model.inputs, outputs=gradients)\n",
    "\n",
    "get_weights = KB.function([], outputs=weights)"
   ]
  },
  {
   "cell_type": "code",
   "execution_count": 36,
   "metadata": {
    "ExecuteTime": {
     "end_time": "2018-12-22T17:30:35.206642Z",
     "start_time": "2018-12-22T17:30:34.900675Z"
    }
   },
   "outputs": [
    {
     "name": "stdout",
     "output_type": "stream",
     "text": [
      "38 38 39\n"
     ]
    }
   ],
   "source": [
    "print(len(weights), len(weight_names2), len(t4))\n",
    "# for i, j in  zip(weight_names2, weights):\n",
    "#     print('name:', i, '      weights:',j)\n",
    "    \n",
    "# print(len(gradients), len(weight_names))\n",
    "# for i, j in  zip(weight_names, gradients):\n",
    "#     print('name:', i, '      gradient:',j)"
   ]
  },
  {
   "cell_type": "code",
   "execution_count": 40,
   "metadata": {
    "ExecuteTime": {
     "end_time": "2018-12-22T16:51:29.925164Z",
     "start_time": "2018-12-22T16:51:27.298977Z"
    }
   },
   "outputs": [],
   "source": [
    "np_gradients = get_gradients(fcn_x)"
   ]
  },
  {
   "cell_type": "code",
   "execution_count": 41,
   "metadata": {
    "ExecuteTime": {
     "end_time": "2018-12-22T16:51:30.910968Z",
     "start_time": "2018-12-22T16:51:29.925164Z"
    }
   },
   "outputs": [
    {
     "name": "stdout",
     "output_type": "stream",
     "text": [
      "block2_conv1/kernel:0           (3, 3, 64, 128)           \t\t -0.0003506  -0.000000781  +0.000248909  +0.000029561\n",
      "block2_conv1/bias:0             (128,)                    \t\t -0.0035448  -0.000024759  +0.003473543  +0.001049154\n",
      "block2_conv2/kernel:0           (3, 3, 128, 128)          \t\t -0.0002811  -0.000000885  +0.000351700  +0.000024946\n",
      "block2_conv2/bias:0             (128,)                    \t\t -0.0057258  +0.000098378  +0.005064531  +0.001814392\n",
      "block3_conv1/kernel:0           (3, 3, 128, 256)          \t\t -0.0002503  -0.000000232  +0.000232661  +0.000021336\n",
      "block3_conv1/bias:0             (256,)                    \t\t -0.0062946  +0.000042312  +0.005816501  +0.001826833\n",
      "block3_conv2/kernel:0           (3, 3, 256, 256)          \t\t -0.0003054  -0.000000545  +0.000264145  +0.000018134\n",
      "block3_conv2/bias:0             (256,)                    \t\t -0.0074181  -0.000032828  +0.007349337  +0.002488077\n",
      "block3_conv3/kernel:0           (3, 3, 256, 256)          \t\t -0.0003307  -0.000000360  +0.000388845  +0.000018282\n",
      "block3_conv3/bias:0             (256,)                    \t\t -0.0126521  -0.000162394  +0.013854968  +0.003813313\n",
      "block4_conv1/kernel:0           (3, 3, 256, 512)          \t\t -0.0000428  +0.000000030  +0.000040135  +0.000002653\n",
      "block4_conv1/bias:0             (512,)                    \t\t -0.0023826  -0.000015002  +0.001938698  +0.000689111\n",
      "block4_conv2/kernel:0           (3, 3, 512, 512)          \t\t -0.0000236  -0.000000033  +0.000028985  +0.000001944\n",
      "block4_conv2/bias:0             (512,)                    \t\t -0.0025774  -0.000042893  +0.003087694  +0.000857299\n",
      "block4_conv3/kernel:0           (3, 3, 512, 512)          \t\t -0.0000213  -0.000000050  +0.000026627  +0.000001848\n",
      "block4_conv3/bias:0             (512,)                    \t\t -0.0029446  -0.000053487  +0.003882536  +0.001135459\n",
      "block5_conv1/kernel:0           (3, 3, 512, 512)          \t\t -0.0000013  -0.000000001  +0.000001390  +0.000000112\n",
      "block5_conv1/bias:0             (512,)                    \t\t -0.0005283  -0.000005158  +0.000377633  +0.000129830\n",
      "block5_conv2/kernel:0           (3, 3, 512, 512)          \t\t -0.0000015  -0.000000001  +0.000001588  +0.000000116\n",
      "block5_conv2/bias:0             (512,)                    \t\t -0.0007648  -0.000003815  +0.000734458  +0.000194849\n",
      "block5_conv3/kernel:0           (3, 3, 512, 512)          \t\t -0.0000021  +0.000000000  +0.000002143  +0.000000125\n",
      "block5_conv3/bias:0             (512,)                    \t\t -0.0009579  +0.000004904  +0.000919405  +0.000313961\n",
      "fcn32_fc1/kernel:0              (7, 7, 512, 4096)         \t\t -0.0000039  -0.000000001  +0.000003669  +0.000000104\n",
      "fcn32_fc1/bias:0                (4096,)                   \t\t -0.0024421  -0.000006558  +0.002367399  +0.000484193\n",
      "fcn32_fc2/kernel:0              (1, 1, 4096, 4096)        \t\t -0.0000014  +0.000000000  +0.000001081  +0.000000048\n",
      "fcn32_fc2/bias:0                (4096,)                   \t\t -0.0024187  +0.000001854  +0.001794397  +0.000462639\n",
      "fcn32_deconv2D/kernel:0         (1, 1, 4096, 7)           \t\t -0.0000070  -0.000000117  +0.000004343  +0.000000788\n",
      "fcn32_deconv2D/bias:0           (7,)                      \t\t -0.0133087  -0.003129128  +0.003374175  +0.005994445\n",
      "fcn16_score2/kernel:0           (4, 4, 7, 7)              \t\t -0.0000053  +0.000000041  +0.000007358  +0.000000996\n",
      "fcn16_score2/bias:0             (7,)                      \t\t -0.0175566  -0.007095446  +0.008341870  +0.010978221\n",
      "fcn16_score_pool4/kernel:0      (1, 1, 512, 7)            \t\t -0.0000907  -0.000002197  +0.000039567  +0.000010778\n",
      "fcn16_score_pool4/bias:0        (7,)                      \t\t -0.0123468  -0.001929399  +0.009166022  +0.007295923\n",
      "fcn16_upscore_pool4/kernel:0    (4, 4, 7, 7)              \t\t -0.0000776  -0.000000544  +0.000076884  +0.000017302\n",
      "fcn16_upscore_pool4/bias:0      (7,)                      \t\t -0.0399839  -0.004309072  +0.026170289  +0.022562357\n",
      "fcn8_score_pool3/kernel:0       (1, 1, 256, 7)            \t\t -0.0006544  -0.000015105  +0.000366077  +0.000100649\n",
      "fcn8_score_pool3/bias:0         (7,)                      \t\t -0.0399841  -0.003354844  +0.021610552  +0.022134738\n",
      "fcn8_heatmap/kernel:0           (16, 16, 7, 7)            \t\t -0.0061795  -0.000005088  +0.000468272  +0.000111358\n",
      "fcn8_heatmap/bias:0             (7,)                      \t\t -0.9783452  -0.175279826  +0.000000000  +0.330585629\n"
     ]
    }
   ],
   "source": [
    "for i, j in zip(weight_names, np_gradients):\n",
    "    print('{:30s}  {:25s} \\t\\t {:10.7f}  {:+11.9f}  {:+11.9f}  {:+11.9f}' .format(i, str(j.shape), j.min(), j.mean(), j.max(), j.std()))"
   ]
  },
  {
   "cell_type": "code",
   "execution_count": 39,
   "metadata": {
    "ExecuteTime": {
     "end_time": "2018-12-22T17:32:35.415896Z",
     "start_time": "2018-12-22T17:32:34.750187Z"
    }
   },
   "outputs": [],
   "source": [
    "np_weights = get_weights([])"
   ]
  },
  {
   "cell_type": "code",
   "execution_count": 40,
   "metadata": {
    "ExecuteTime": {
     "end_time": "2018-12-22T17:32:36.892283Z",
     "start_time": "2018-12-22T17:32:35.926056Z"
    }
   },
   "outputs": [
    {
     "name": "stdout",
     "output_type": "stream",
     "text": [
      "name                            shape                     \t\t min()        max()      mean()     \n",
      "block2_conv1/kernel:0           (3, 3, 64, 128)           \t\t -0.0589251  0.0589254 -0.000038476  +0.033948321\n",
      "block2_conv1/bias:0             (128,)                    \t\t -0.0000000  0.0000000 +0.000000000  +0.000000000\n",
      "block2_conv2/kernel:0           (3, 3, 128, 128)          \t\t -0.0510306  0.0510306 -0.000087824  +0.029474286\n",
      "block2_conv2/bias:0             (128,)                    \t\t -0.0000000  0.0000000 -0.000000000  +0.000000000\n",
      "block3_conv1/kernel:0           (3, 3, 128, 256)          \t\t -0.0416666  0.0416663 -0.000058363  +0.024052029\n",
      "block3_conv1/bias:0             (256,)                    \t\t -0.0000000  0.0000000 -0.000000000  +0.000000000\n",
      "block3_conv2/kernel:0           (3, 3, 256, 256)          \t\t -0.0360843  0.0360843 +0.000005494  +0.020842884\n",
      "block3_conv2/bias:0             (256,)                    \t\t -0.0000000  0.0000000 +0.000000000  +0.000000001\n",
      "block3_conv3/kernel:0           (3, 3, 256, 256)          \t\t -0.0360843  0.0360843 +0.000002831  +0.020846155\n",
      "block3_conv3/bias:0             (256,)                    \t\t -0.0000000  0.0000000 +0.000000000  +0.000000001\n",
      "block4_conv1/kernel:0           (3, 3, 256, 512)          \t\t -0.0294627  0.0294628 +0.000010991  +0.017004170\n",
      "block4_conv1/bias:0             (512,)                    \t\t -0.0000000  0.0000000 -0.000000000  +0.000000000\n",
      "block4_conv2/kernel:0           (3, 3, 512, 512)          \t\t -0.0255155  0.0255155 -0.000011049  +0.014739742\n",
      "block4_conv2/bias:0             (512,)                    \t\t -0.0000000  0.0000000 -0.000000000  +0.000000000\n",
      "block4_conv3/kernel:0           (3, 3, 512, 512)          \t\t -0.0255155  0.0255155 +0.000018312  +0.014730128\n",
      "block4_conv3/bias:0             (512,)                    \t\t -0.0000000  0.0000000 -0.000000000  +0.000000000\n",
      "block5_conv1/kernel:0           (3, 3, 512, 512)          \t\t -0.0255154  0.0255155 -0.000005447  +0.014732454\n",
      "block5_conv1/bias:0             (512,)                    \t\t -0.0000000  0.0000000 -0.000000000  +0.000000000\n",
      "block5_conv2/kernel:0           (3, 3, 512, 512)          \t\t -0.0255155  0.0255154 -0.000018719  +0.014734206\n",
      "block5_conv2/bias:0             (512,)                    \t\t -0.0000000  0.0000000 -0.000000000  +0.000000000\n",
      "block5_conv3/kernel:0           (3, 3, 512, 512)          \t\t -0.0255155  0.0255155 -0.000010092  +0.014729563\n",
      "block5_conv3/bias:0             (512,)                    \t\t -0.0000000  0.0000000 -0.000000000  +0.000000000\n",
      "fcn32_fc1/kernel:0              (7, 7, 512, 4096)         \t\t -0.0051549  0.0051549 +0.000000189  +0.002976323\n",
      "fcn32_fc1/bias:0                (4096,)                   \t\t -0.0000000  0.0000000 -0.000000000  +0.000000000\n",
      "fcn32_fc2/kernel:0              (1, 1, 4096, 4096)        \t\t -0.0270633  0.0270633 +0.000002358  +0.015622834\n",
      "fcn32_fc2/bias:0                (4096,)                   \t\t -0.0000000  0.0000000 -0.000000000  +0.000000000\n",
      "fcn32_deconv2D/kernel:0         (1, 1, 4096, 7)           \t\t -0.0502195  0.0502337 -0.000035927  +0.022100000\n",
      "fcn32_deconv2D/bias:0           (7,)                      \t\t -0.0000000  0.0000000 +0.000000000  +0.000000002\n",
      "fcn16_score2/kernel:0           (4, 4, 7, 7)              \t\t -0.1636482  0.1634833 +0.001497083  +0.095299616\n",
      "fcn16_score2/bias:0             (7,)                      \t\t -0.0000000  0.0000000 +0.000000002  +0.000000004\n",
      "fcn16_score_pool4/kernel:0      (1, 1, 512, 7)            \t\t -0.1074580  0.1075106 -0.001408748  +0.061805055\n",
      "fcn16_score_pool4/bias:0        (7,)                      \t\t -0.0000000  0.0000000 +0.000000000  +0.000000001\n",
      "fcn16_upscore_pool4/kernel:0    (4, 4, 7, 7)              \t\t -0.1634747  0.1625571 +0.001238228  +0.095656179\n",
      "fcn16_upscore_pool4/bias:0      (7,)                      \t\t -0.0000000  0.0000000 -0.000000001  +0.000000009\n",
      "fcn8_score_pool3/kernel:0       (1, 1, 256, 7)            \t\t -0.1509903  0.1510049 -0.004951220  +0.086884290\n",
      "fcn8_score_pool3/bias:0         (7,)                      \t\t -0.0000000  0.0000000 +0.000000002  +0.000000005\n",
      "fcn8_heatmap/kernel:0           (16, 16, 7, 7)            \t\t -0.0409152  0.0409114 +0.000300982  +0.023580287\n",
      "fcn8_heatmap/bias:0             (7,)                      \t\t  0.0000000  0.0000004 +0.000000106  +0.000000156\n"
     ]
    }
   ],
   "source": [
    "print('{:30s}  {:25s} \\t\\t {:12s} {:10s} {:11s}' .format('name', 'shape', 'min()', 'max()', 'mean()'))\n",
    "for i, j in zip(weight_names2, np_weights):\n",
    "    print('{:30s}  {:25s} \\t\\t {:10.7f} {:10.7f} {:+11.9f}  {:+11.9f}' .format(i, str(j.shape), j.min(), j.max(), j.mean(), j.std()))"
   ]
  },
  {
   "cell_type": "code",
   "execution_count": null,
   "metadata": {},
   "outputs": [],
   "source": []
  },
  {
   "cell_type": "code",
   "execution_count": null,
   "metadata": {},
   "outputs": [],
   "source": []
  },
  {
   "cell_type": "markdown",
   "metadata": {
    "heading_collapsed": true
   },
   "source": [
    "## Run data through MRCNN and FCN models"
   ]
  },
  {
   "cell_type": "markdown",
   "metadata": {
    "hidden": true
   },
   "source": [
    "####  Display model input / output information"
   ]
  },
  {
   "cell_type": "code",
   "execution_count": null,
   "metadata": {
    "ExecuteTime": {
     "end_time": "2018-10-17T14:34:35.696820Z",
     "start_time": "2018-10-17T14:34:33.592738Z"
    },
    "hidden": true,
    "hideCode": false,
    "hideOutput": true,
    "hidePrompt": false
   },
   "outputs": [],
   "source": [
    "mrcnn_model.layer_info()\n",
    "print('\\n FCN')\n",
    "fcn_model.layer_info()"
   ]
  },
  {
   "cell_type": "code",
   "execution_count": null,
   "metadata": {
    "ExecuteTime": {
     "end_time": "2018-10-17T14:34:33.590986Z",
     "start_time": "2018-10-17T14:33:20.870486Z"
    },
    "hidden": true,
    "hideCode": false,
    "hideOutput": true,
    "hidePrompt": false,
    "scrolled": true
   },
   "outputs": [],
   "source": [
    "# model_output = get_layer_output_2(model.keras_model, train_batch_x, 1)\n",
    "# model_output = get_layer_output_1(mrcnn_model.keras_model, train_batch_x, [4,5,6,7,9,10,11,12,13,14], 1)\n",
    "# model_output = get_layer_output_1(mrcnn_model.keras_model, train_batch_x, [0,1,2,3,4,5,6,7,9,10,11], 1)\n",
    "model_output = get_layer_output_1(mrcnn_model.keras_model, train_batch_x, [0,1,2,3,4,5], 1)\n"
   ]
  },
  {
   "cell_type": "markdown",
   "metadata": {
    "heading_collapsed": true,
    "hidden": true
   },
   "source": [
    "### Load input and output tensors"
   ]
  },
  {
   "cell_type": "code",
   "execution_count": null,
   "metadata": {
    "ExecuteTime": {
     "end_time": "2018-10-17T14:35:47.365657Z",
     "start_time": "2018-10-17T14:35:46.115830Z"
    },
    "hidden": true,
    "hideCode": false,
    "hideOutput": true,
    "hidePrompt": false,
    "scrolled": true
   },
   "outputs": [],
   "source": [
    "print(len(model_output))\n",
    "\n",
    "# output_rois               = model_output[0]          # layer:  4   shape: (1, 200, 4)\n",
    "# target_class_ids          = model_output[1]          # layer:  5   shape: (1, 200)\n",
    "# target_bbox_deltas        = model_output[2]          # layer:  6   shape: (1, 200, 4)\n",
    "# roi_gt_boxes              = model_output[3]          # layer:  7   shape: (1, 200, 4)\n",
    "# mrcnn_class               = model_output[4]          # layer:  8   shape: (1, 200, 81)\n",
    "# mrcnn_bbox                = model_output[5]          # layer:  9   shape: (1, 200, 81, 4)\n",
    "# pred_refined_tensor       = model_output[6]          # layer: 16   shape: (1, 81, 25, 7)\n",
    "# output_rois               = model_output[0]          # layer:  0   shape: (2, 200, 4)\n",
    "# target_class_ids          = model_output[1]          # layer:  1   shape: (2, 200)\n",
    "# target_bbox_deltas        = model_output[2]          # layer:  2   shape: (2, 200, 4)\n",
    "# roi_gt_boxes              = model_output[3]          # layer:  3   shape: (2, 200, 4)\n",
    "# mrcnn_class               = model_output[4]          # layer:  4   shape: (2, 200, 81)\n",
    "# mrcnn_bbox                = model_output[5]          # layer:  5   shape: (2, 200, 81, 4)\n",
    "# model_pred_heatmap_norm         = model_output[6]          # layer:  6   shape: (2, 256, 256, 81)\n",
    "# model_pred_heatmap_scores       = model_output[7]          # layer:  7   shape: (2, 81, 25, 11)\n",
    "# model_gt_heatmap_scores         = model_output[8]          # layer:  9   shape: (2, 81, 25, 11)\n",
    "# model_pred_tensor               = model_output[9]          # layer: 10   shape: (2, 81, 25, 8)\n",
    "# model_gt_tensor                 = model_output[10]          # layer: 11   shape: (2, 81, 25, 8)\n",
    "\n",
    "pred_heatmap_norm         = model_output[0]          # layer:  0   shape: (2, 256, 256, 81)\n",
    "pred_heatmap_scores       = model_output[1]          # layer:  1   shape: (2, 81, 200, 11)\n",
    "gt_heatmap_norm           = model_output[2]          # layer:  2   shape: (2, 256, 256, 81)\n",
    "gt_heatmap_scores         = model_output[3]          # layer:  3   shape: (2, 81, 200, 11)\n",
    "pred_tensor               = model_output[4]          # layer:  4   shape: (2, 81, 200, 8)\n",
    "gt_tensor                 = model_output[5]          # layer:  5   shape: (2, 81, 200, 8)\n",
    "for i in model_output:\n",
    "    print( i.shape)"
   ]
  },
  {
   "cell_type": "code",
   "execution_count": null,
   "metadata": {
    "ExecuteTime": {
     "end_time": "2018-10-17T14:37:20.794299Z",
     "start_time": "2018-10-17T14:37:17.275078Z"
    },
    "hidden": true
   },
   "outputs": [],
   "source": [
    "# fcn_input = [pred_heatmap_norm, pred_heatmap_scores, gt_heatmap_norm, gt_heatmap_scores] \n",
    "model_output2 = get_layer_output_1(fcn_model.keras_model, fcn_input, [0,1], 1)"
   ]
  },
  {
   "cell_type": "markdown",
   "metadata": {
    "heading_collapsed": true,
    "hidden": true
   },
   "source": [
    "### Load input data"
   ]
  },
  {
   "cell_type": "code",
   "execution_count": null,
   "metadata": {
    "ExecuteTime": {
     "end_time": "2018-10-15T17:33:34.842266Z",
     "start_time": "2018-10-15T17:33:34.808415Z"
    },
    "hidden": true,
    "hideCode": false,
    "hideOutput": true,
    "hidePrompt": false,
    "scrolled": true
   },
   "outputs": [],
   "source": [
    "input_image          =  train_batch_x[0]\n",
    "input_image_meta     =  train_batch_x[1]\n",
    "# input_rpn_match      =  train_batch_x[2]\n",
    "# input_rpn_bbox       =  train_batch_x[3]\n",
    "input_gt_class_ids   =  train_batch_x[4]\n",
    "input_gt_bboxes      =  train_batch_x[5]\n",
    "print(' Input image shape is    :', input_image.shape)\n",
    "print(' input_image_meta        :', input_image_meta[0,:10])\n",
    "# print(' input_rpn_match         :', input_rpn_match.shape)\n",
    "# print(' input_rpn_bbox          :', input_rpn_bbox.shape)\n",
    "print(' input_gt_class_ids      :', input_gt_class_ids.shape)\n",
    "print(' input_gt_bboxes         :', input_gt_bboxes.shape)\n",
    "# h, w = input_image.shape[1], input_image.shape[2]      #  tf.shape(input_image)[1], tf.shape(input_image)[2]\n",
    "# input_gt_bboxes_norm = tf.identity(input_gt_bboxes / [h,w,h,w])\n",
    "# print(' input_gt_bboxes_norm    :', input_gt_bboxes_norm.shape)"
   ]
  },
  {
   "cell_type": "markdown",
   "metadata": {
    "heading_collapsed": true
   },
   "source": [
    "## Display output from model"
   ]
  },
  {
   "cell_type": "markdown",
   "metadata": {
    "hidden": true
   },
   "source": [
    "####  `input_gt_class_ids`, `input_gt_bboxes`"
   ]
  },
  {
   "cell_type": "code",
   "execution_count": null,
   "metadata": {
    "ExecuteTime": {
     "end_time": "2018-10-15T17:34:03.805818Z",
     "start_time": "2018-10-15T17:34:02.696855Z"
    },
    "hidden": true,
    "hideOutput": false,
    "scrolled": true
   },
   "outputs": [],
   "source": [
    "# print(roi_gt_boxes[0,:50] * [1024,1024,1024,1024])\n",
    "print(input_gt_class_ids[0])\n",
    "print(input_gt_bboxes[0,:10])\n",
    "# for i in range(input_gt_class_ids.shape[1]):\n",
    "#     if input_gt_class_ids[0,i] == 1:\n",
    "#         print(input_gt_class_ids[0,i], '   ', input_gt_bboxes[0,i])"
   ]
  },
  {
   "cell_type": "markdown",
   "metadata": {
    "heading_collapsed": true,
    "hidden": true
   },
   "source": [
    "####  Display `output_rois`"
   ]
  },
  {
   "cell_type": "code",
   "execution_count": null,
   "metadata": {
    "ExecuteTime": {
     "end_time": "2018-09-26T08:59:35.184714Z",
     "start_time": "2018-09-26T08:59:35.139366Z"
    },
    "hidden": true,
    "hideCode": false,
    "hideOutput": true,
    "scrolled": true
   },
   "outputs": [],
   "source": [
    "np.set_printoptions(precision=4, threshold=4000, linewidth=210, suppress=True)\n",
    "img = 0\n",
    "print(' output_rois')\n",
    "print(output_rois.shape)\n",
    "# print(output_rois[0,:40,:])\n",
    "print(output_rois [0,:40,:]* [1024, 1024, 1024, 1024])"
   ]
  },
  {
   "cell_type": "markdown",
   "metadata": {
    "heading_collapsed": true,
    "hidden": true
   },
   "source": [
    "####  `max_mrcnn_class` , `argmax_mrcnn_class`"
   ]
  },
  {
   "cell_type": "code",
   "execution_count": null,
   "metadata": {
    "ExecuteTime": {
     "end_time": "2018-09-22T16:46:21.282072Z",
     "start_time": "2018-09-22T16:46:21.216616Z"
    },
    "hidden": true
   },
   "outputs": [],
   "source": [
    "np.set_printoptions(precision=4, threshold=4000, linewidth=210, suppress=True)\n",
    "print(' mrcnn_class', mrcnn_class.shape)\n",
    "# print( mrcnn_class[0,0,:])\n",
    "# \n",
    "max_mrcnn_class    = np.max(mrcnn_class, axis = (0,2))\n",
    "argmax_mrcnn_class = np.argmax(mrcnn_class, axis = 2)\n",
    "\n",
    "# print()\n",
    "print('\\n mrcnn_class Max Values   : ', max_mrcnn_class.shape)\n",
    "print(max_mrcnn_class)\n",
    "\n",
    "# print()\n",
    "print(' mrcnn_class Argmax Values: ', argmax_mrcnn_class.shape)\n",
    "print(argmax_mrcnn_class[0])\n",
    "\n",
    "print(' target_class_ds    Values: ', target_class_ids.shape)\n",
    "print(target_class_ids[0])\n",
    "\n",
    "# for i in range(100):\n",
    "#     print('Predicted: ', argmax_mrcnn_class[0,i],  '  Actual ', target_class_ids[0,i])\n",
    " "
   ]
  },
  {
   "cell_type": "markdown",
   "metadata": {
    "heading_collapsed": true,
    "hidden": true
   },
   "source": [
    "#### Display  `target_class_ids()`"
   ]
  },
  {
   "cell_type": "code",
   "execution_count": null,
   "metadata": {
    "ExecuteTime": {
     "end_time": "2018-09-26T09:00:14.575438Z",
     "start_time": "2018-09-26T09:00:14.534931Z"
    },
    "hidden": true,
    "hideCode": false,
    "hideOutput": true
   },
   "outputs": [],
   "source": [
    "print(' target_class_ids')\n",
    "print(target_class_ids.shape)\n",
    "print(target_class_ids[0,:70])"
   ]
  },
  {
   "cell_type": "markdown",
   "metadata": {
    "heading_collapsed": true,
    "hidden": true
   },
   "source": [
    "####  apply `deltas` from predicted delta `mrcnn_bbox`  to  `output_rois` to obtain refined rois "
   ]
  },
  {
   "cell_type": "code",
   "execution_count": null,
   "metadata": {
    "ExecuteTime": {
     "end_time": "2018-09-21T12:52:01.206727Z",
     "start_time": "2018-09-21T12:52:01.068748Z"
    },
    "hidden": true
   },
   "outputs": [],
   "source": [
    "np.set_printoptions(precision=4, threshold=4000, linewidth=210, suppress=True)\n",
    "img_idx = 0 \n",
    "\n",
    "print('output_rois',output_rois.shape, 'deltas ', deltas.shape)\n",
    "cls = 1\n",
    "for i in range(input_gt_class_ids.shape[1]):\n",
    "    if input_gt_class_ids[0,i] == cls:\n",
    "        print(input_gt_class_ids[0,i], '   ', input_gt_bboxes[0,i])\n",
    "\n",
    "        \n",
    "print()        \n",
    "for i in range(output_rois.shape[1]):\n",
    "    if classes[0,i] ==cls:\n",
    "        print(' i ', i, 'class: ',classes[0,i])\n",
    "#         print('   orig           : ', output_rois[0,i])\n",
    "        d1 = deltas[0,i] * mrcnn_config.BBOX_STD_DEV\n",
    "#         print('   delta          : ', deltas[0,i],'   delta * std dev: ', d1)\n",
    "        d2 = utils.apply_box_delta(output_rois[0,i],d1)\n",
    "#         print('   refined        : ', d2)\n",
    "#         print()\n",
    "        print('   orig           : ',output_rois[0,i] * [1024,1024,1024,1024])\n",
    "        print('   refined        : ', d2 * [1024,1024,1024,1024]) \n",
    "        print('   roi_gt_bboxes  : ', roi_gt_boxes[0,i]* [1024,1024,1024,1024]) \n",
    "        print()\n",
    "        print('   pred delta     : ', deltas[0,i] )\n",
    "        print('   tgt delta      : ', target_bbox_deltas[0,i] )\n",
    "        \n",
    "        print()\n"
   ]
  },
  {
   "cell_type": "markdown",
   "metadata": {
    "heading_collapsed": true,
    "hidden": true
   },
   "source": [
    "####  Display roi_gt_boxes , and class_ids vs. output_bbox and prediceted class_ids"
   ]
  },
  {
   "cell_type": "code",
   "execution_count": null,
   "metadata": {
    "ExecuteTime": {
     "end_time": "2018-09-22T16:34:41.699530Z",
     "start_time": "2018-09-22T16:34:41.650195Z"
    },
    "hidden": true
   },
   "outputs": [],
   "source": [
    "print(ref_out_roi)"
   ]
  },
  {
   "cell_type": "code",
   "execution_count": null,
   "metadata": {
    "ExecuteTime": {
     "end_time": "2018-09-22T16:35:45.777944Z",
     "start_time": "2018-09-22T16:35:45.598528Z"
    },
    "hidden": true
   },
   "outputs": [],
   "source": [
    "ref_out_roi1 = ref_out_roi * [1024,1024,1024,1024]\n",
    "print(ref_out_roi1)\n",
    "window = np.array([0,0,1024,1024], dtype =float)\n",
    "print(window.shape)\n",
    "ref_out_roi2  = utils.clip_to_window_np( window, ref_out_roi1)\n",
    "print(ref_out_roi2.shape)\n",
    "for i in range(200):\n",
    "    print(ref_out_roi1[i],' --- ', ref_out_roi2[i])"
   ]
  },
  {
   "cell_type": "markdown",
   "metadata": {
    "heading_collapsed": true,
    "hidden": true
   },
   "source": [
    "#### Display pred_refined_tensor and gt_tensor"
   ]
  },
  {
   "cell_type": "code",
   "execution_count": null,
   "metadata": {
    "ExecuteTime": {
     "end_time": "2018-10-16T10:00:33.070168Z",
     "start_time": "2018-10-16T10:00:33.031739Z"
    },
    "hidden": true
   },
   "outputs": [],
   "source": [
    "for cls in [1]:\n",
    "    for box in range(20):\n",
    "        print(pred_tensor[0,cls,box])\n",
    "        print(gt_tensor[0,cls,box])\n",
    "        print()"
   ]
  },
  {
   "cell_type": "markdown",
   "metadata": {
    "hidden": true
   },
   "source": [
    "####  Display roi_gt_boxes along with corresponding refined/clipped output_rois"
   ]
  },
  {
   "cell_type": "code",
   "execution_count": null,
   "metadata": {
    "ExecuteTime": {
     "end_time": "2018-10-08T13:41:23.457232Z",
     "start_time": "2018-10-08T13:41:22.950711Z"
    },
    "hidden": true,
    "scrolled": false
   },
   "outputs": [],
   "source": [
    "img_id = 0\n",
    "print(roi_gt_boxes[0].shape, target_class_ids[0].shape , np.expand_dims(target_class_ids[0],axis=-1).shape)\n",
    "classes, deltas = utils.get_predicted_mrcnn_deltas(mrcnn_class, mrcnn_bbox, verbose=True)\n",
    "deltas *= mrcnn_config.BBOX_STD_DEV\n",
    "print('classes.shape: ',classes.shape, ' deltas.shape: ',deltas.shape)\n",
    "\n",
    "ref_out_roi = utils.apply_box_deltas_np(output_rois[img_id],deltas[img_id])\n",
    "#     ##   Clip boxes to image window    \n",
    "# print(ref_out_roi.shape)\n",
    "window = np.array([0,0,1024,1024], dtype =float)\n",
    "clipped_out_roi  = utils.clip_to_window_np( window, ref_out_roi*[1024,1024,1024,1024])\n",
    "\n",
    "for i in range(200):\n",
    "#     ref_out_roi = utils.apply_box_delta_np(output_rois[0],d1[0])\n",
    "#     if classes[img_id,i] == 1 or target_class_ids[img_id,i] == 1 :\n",
    "\n",
    "    print('idx: ',200-i,' GT Cls: ', target_class_ids[img_id,i]  , ' -', roi_gt_boxes[img_id,i]*[1024,1024,1024,1024], \n",
    "                    ' PR Cls: ', classes[img_id,i],' - ', ref_out_roi[i]*[1024.0,1024.0,1024.0,1024.0] ,\n",
    "                     'ClpdCls: ', clipped_out_roi[i]   ) #) *[1024,1024,1024,1024]"
   ]
  },
  {
   "cell_type": "markdown",
   "metadata": {
    "hidden": true
   },
   "source": [
    "#### display gt_heatmap_scores and pred_heatmap_scores outputs"
   ]
  },
  {
   "cell_type": "code",
   "execution_count": null,
   "metadata": {
    "ExecuteTime": {
     "end_time": "2018-10-16T10:22:55.077601Z",
     "start_time": "2018-10-16T10:22:54.959295Z"
    },
    "hidden": true,
    "scrolled": false
   },
   "outputs": [],
   "source": [
    "np.set_printoptions(precision=4, threshold=None, linewidth=200, suppress=True)\n",
    "# print(' gt_tensor')\n",
    "# print(gt_tensor.shape)\n",
    "# print(gt_tensor[img,:,:10])\n",
    "img_id = 1\n",
    "print(' GT Heatmap Scores')\n",
    "\n",
    "print('gt_heatmap_scores: ', gt_heatmap_scores.dtype,  gt_heatmap_scores.shape)\n",
    "print('pred_heatmap_scores: ', pred_heatmap_scores.dtype,  pred_heatmap_scores.shape)\n",
    "\n",
    "# print(gt_heatmap_scores[img,1])\n",
    "# for img_id in range(mrcnn_config.BATCH_SIZE):\n",
    "\n",
    "for img_id in [0]:    # print(pred_refined_heatmap_scores[img_id,:4])\n",
    "    pr_class_ids = np.unique(pred_heatmap_scores[img_id,:,:,4]).astype(int).tolist()\n",
    "    gt_class_ids = np.unique(gt_heatmap_scores[img_id,:,:,4]).astype(int).tolist() \n",
    "    union_class_ids = np.union1d(pr_class_ids, gt_class_ids)\n",
    "    print('-'*56)\n",
    "    print('Image : {}  GT ClassIds: {}   PR ClassIds: {} '.format(img_id, gt_class_ids, pr_class_ids))\n",
    "    print('Image : {}  Union ClassIds: {}'.format(img_id, union_class_ids))\n",
    "    print('-'*56)\n",
    "    for cls in union_class_ids:  \n",
    "        print()\n",
    "        for i in range(25):\n",
    "#             print(' GT: img_id:',img_id, ' cls: ',cls, ' -',gt_tensor[img_id, cls,i]) #, gt_heatmap_scores[img_id, cls,i,7] )\n",
    "#             print(' PR: img_id:',img_id, ' cls: ',cls, ' -',pred_tensor[img_id,cls,i]) #,pred_refined_heatmap_scores[img_id,cls,i,7])\n",
    "\n",
    "            print(' GT: img/cls:',img_id, '/',cls, ' -',gt_heatmap_scores[img_id, cls,i]) #, gt_heatmap_scores[img_id, cls,i,7] )\n",
    "            print(' PR: img/cls:',img_id, '/',cls, ' -',pred_heatmap_scores[img_id,cls,i]) #,pred_refined_heatmap_scores[img_id,cls,i,7])\n",
    "            print()"
   ]
  },
  {
   "cell_type": "markdown",
   "metadata": {
    "heading_collapsed": true,
    "hidden": true
   },
   "source": [
    "####  Display `Pred_Tensor`, `Pred_heatmap`, `mrcnn_class`"
   ]
  },
  {
   "cell_type": "code",
   "execution_count": null,
   "metadata": {
    "ExecuteTime": {
     "end_time": "2018-09-19T13:55:40.491731Z",
     "start_time": "2018-09-19T13:55:40.409332Z"
    },
    "hidden": true,
    "hideCode": false,
    "hideOutput": true,
    "scrolled": false
   },
   "outputs": [],
   "source": [
    "# np.set_printoptions(precision=4, threshold=None, linewidth=150, suppress=True)\n",
    "np.set_printoptions(precision=4, threshold=4000, linewidth=210, suppress=True)\n",
    "img = 0\n",
    "\n",
    "# max_score = np.max(mrcnn_class, axis = -1)\n",
    "# max_class = np.argmax(mrcnn_class, axis = -1)\n",
    "# # print(' output_rois[',img,'] \\n', output_rois[1]*[128,128,128,128])\n",
    "# print('max class shape:',max_class.shape, 'max score shape: ',max_score.shape)\n",
    "# print('max class[',img,']\\n',max_class[img])\n",
    "# print('max score[',img,']\\n',max_score[img])\n",
    "# print('mrcnn class.shape ',mrcnn_class.shape)\n",
    "# print('mrcnn_class[',img,',:]\\n',mrcnn_class[img,:])\n",
    "# print(output_rois[1])\n",
    "\n",
    "print('input_gt_class_ids')\n",
    "print(input_gt_class_ids[0])\n",
    "\n",
    "# print(' rpn_bbox')\n",
    "# print(rpn_bbox.shape)\n",
    "# print(rpn_bbox[0,:100,:])\n",
    "\n",
    "# print(' rpn_roi_proposals')\n",
    "# print(rpn_roi_proposals.shape)\n",
    "# print(rpn_roi_proposals[0,:100,:])\n",
    "\n",
    "print(' output_rois')\n",
    "print(output_rois.shape)\n",
    "# print(output_rois[0,:40,:])\n",
    "print(output_rois [0,:40,:]* [1024, 1024, 1024, 1024])\n",
    "\n",
    "print(' target_class_ids')\n",
    "print(target_class_ids.shape)\n",
    "print(target_class_ids[0,:40])\n",
    "# print(output_rois [0,:40,:]* [1024, 1024, 1024, 1024])\n",
    "\n",
    "# print(' Pred_tensor')\n",
    "# print(pred_tensor.shape)\n",
    "# print(pred_tensor[img,:,:10])\n",
    "\n",
    "# print(' gt_tensor')\n",
    "# print(gt_tensor.shape)\n",
    "# print(gt_tensor[img,:,:10])\n",
    "\n",
    "# print(' mrcnn_class')\n",
    "# print( mrcnn_class.shape)\n",
    "# print( mrcnn_class[0,:,:])\n",
    "\n",
    "# print(' mrcnn_bbox')\n",
    "# print( mrcnn_bbox.shape)\n",
    "# print( mrcnn_bbox)\n",
    "\n",
    "# print(' roi_gt_boxes')\n",
    "# print(roi_gt_boxes.shape)\n",
    "# print(roi_gt_boxes[img,:,:])\n",
    "\n",
    "# print(' Pred Heatmap Scores')\n",
    "# print(pred_heatmap_scores.dtype, pred_heatmap_scores.shape)\n",
    "# print(pred_heatmap_scores[img,1])\n",
    "\n",
    "# print(' FCN Scores')\n",
    "# print(fcn_scores.dtype)\n",
    "# for cls in range(4):\n",
    "#     print(pred_heatmap_scores[img,cls,:10])\n",
    "#     print(fcn_scores[img,cls,:10,2:])\n",
    "\n",
    "  "
   ]
  },
  {
   "cell_type": "markdown",
   "metadata": {
    "heading_collapsed": true,
    "hidden": true,
    "hideCode": false,
    "hidePrompt": true
   },
   "source": [
    "####  Display `output_rois` for visual check - passed on to  `build_pred_tensor()`"
   ]
  },
  {
   "cell_type": "code",
   "execution_count": null,
   "metadata": {
    "ExecuteTime": {
     "end_time": "2018-10-08T13:48:00.011050Z",
     "start_time": "2018-10-08T13:47:59.957418Z"
    },
    "hidden": true,
    "hideCode": false,
    "hideOutput": true,
    "hidePrompt": false
   },
   "outputs": [],
   "source": [
    "np.set_printoptions(linewidth=150, precision=6)\n",
    "# print('scatter shape is ', pred_scatt.get_shape())\n",
    "print('output_rois shape is ', output_rois.shape)\n",
    "img = 0\n",
    "for img in [0]:\n",
    "    print('Image ', img , ' ------------')\n",
    "    print(output_rois[img])"
   ]
  },
  {
   "cell_type": "markdown",
   "metadata": {
    "hidden": true,
    "hideCode": false,
    "hidePrompt": false
   },
   "source": [
    "####  Display  - `pred_refined_tensor` which is passed on to  `build_heatmap()`"
   ]
  },
  {
   "cell_type": "code",
   "execution_count": null,
   "metadata": {
    "ExecuteTime": {
     "end_time": "2018-10-08T15:34:53.538773Z",
     "start_time": "2018-10-08T15:34:53.480026Z"
    },
    "hidden": true,
    "hideCode": false,
    "hideOutput": false,
    "hidePrompt": false,
    "scrolled": false
   },
   "outputs": [],
   "source": [
    "np.set_printoptions(linewidth=150, precision=6)\n",
    "img_id = 0\n",
    "# print('scatter shape is ', pred_scatt.get_shape())\n",
    "print('model_pred_tensor shape is ', model_pred_tensor.shape)\n",
    "print(input_image_meta[0,:10])\n",
    "pr_class_ids = np.unique(model_pred_heatmap_scores[img_id,:,:,4]).astype(int).tolist()\n",
    "print('Image : {}  PR ClassIds: {} '.format(img_id, pr_class_ids))\n",
    "for k in pr_class_ids:\n",
    "    print('Image ', img , '/ Class ',k,' ------------')\n",
    "    print(model_pred_tensor[img,k,:30])\n",
    "    "
   ]
  },
  {
   "cell_type": "markdown",
   "metadata": {
    "hidden": true
   },
   "source": [
    "####  Compare  `pred_heatmap_scores` vs. `pred_refined_heatmap_scores`"
   ]
  },
  {
   "cell_type": "markdown",
   "metadata": {
    "hidden": true
   },
   "source": [
    "###  Setup tensors to be passed to `build_predictions ()`    "
   ]
  },
  {
   "cell_type": "code",
   "execution_count": null,
   "metadata": {
    "ExecuteTime": {
     "end_time": "2018-09-26T13:52:33.994332Z",
     "start_time": "2018-09-26T13:52:33.946512Z"
    },
    "hidden": true
   },
   "outputs": [],
   "source": [
    "mrcnn_bbox  = tf.identity(mrcnn_bbox)\n",
    "mrcnn_class = tf.identity(mrcnn_class)\n",
    "norm_input_rois = tf.identity(output_rois)\n",
    "config      = mrcnn_config\n",
    "sess = KB.get_session()\n",
    "print(' Keras session :', sess)\n",
    "import mrcnn.utils as utils"
   ]
  },
  {
   "cell_type": "markdown",
   "metadata": {
    "hidden": true
   },
   "source": [
    "###  Run TF graph"
   ]
  },
  {
   "cell_type": "code",
   "execution_count": null,
   "metadata": {
    "hidden": true
   },
   "outputs": [],
   "source": [
    "# with sess1.as_default():\n",
    "# FeedList = [positive_ind_shuffled, positive_indices, positive_overlaps, roi_gt_class_ids, roi_gt_boxes, roi_gt_box_assignment ]\n",
    "# FeedList = [ rois, roi_gt_class_ids,  roi_gt_deltas, roi_gt_boxes]\n",
    "Fetches  = [ pred_heatmap, pred_heatmap_norm, pred_heatmap_scores]\n",
    "tt = sess.run(Fetches)\n",
    "print(type(tt), len(tt))\n",
    "for i in tt:\n",
    "    print(type(i), i.shape)"
   ]
  }
 ],
 "metadata": {
  "anaconda-cloud": {},
  "celltoolbar": "Hide code",
  "hide_code_all_hidden": false,
  "kernelspec": {
   "display_name": "Python [conda env:TF]",
   "language": "python",
   "name": "conda-env-TF-py"
  },
  "language_info": {
   "codemirror_mode": {
    "name": "ipython",
    "version": 3
   },
   "file_extension": ".py",
   "mimetype": "text/x-python",
   "name": "python",
   "nbconvert_exporter": "python",
   "pygments_lexer": "ipython3",
   "version": "3.5.6"
  },
  "toc": {
   "base_numbering": 1,
   "nav_menu": {},
   "number_sections": true,
   "sideBar": true,
   "skip_h1_title": false,
   "title_cell": "Table of Contents",
   "title_sidebar": "Contents",
   "toc_cell": false,
   "toc_position": {},
   "toc_section_display": true,
   "toc_window_display": false
  }
 },
 "nbformat": 4,
 "nbformat_minor": 2
}
